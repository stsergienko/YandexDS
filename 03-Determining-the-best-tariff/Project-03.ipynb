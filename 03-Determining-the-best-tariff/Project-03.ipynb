{
 "cells": [
  {
   "cell_type": "markdown",
   "metadata": {},
   "source": [
    "# Рекомендация тарифов"
   ]
  },
  {
   "cell_type": "markdown",
   "metadata": {},
   "source": [
    "***Описание проекта***\n",
    "\n",
    "В вашем распоряжении данные о поведении клиентов, которые уже перешли на эти тарифы (из проекта курса «Статистический анализ данных»). Нужно построить модель для задачи классификации, которая выберет подходящий тариф. Предобработка данных не понадобится — вы её уже сделали.\n",
    "\n",
    "Постройте модель с максимально большим значением *accuracy*. Чтобы сдать проект успешно, нужно довести долю правильных ответов по крайней мере до 0.75. Проверьте *accuracy* на тестовой выборке самостоятельно."
   ]
  },
  {
   "cell_type": "markdown",
   "metadata": {},
   "source": [
    "***Описание данных***\n",
    "\n",
    "Каждый объект в наборе данных — это информация о поведении одного пользователя за месяц. Известно:\n",
    "\n",
    "    сalls — количество звонков,\n",
    "    minutes — суммарная длительность звонков в минутах,\n",
    "    messages — количество sms-сообщений,\n",
    "    mb_used — израсходованный интернет-трафик в Мб,\n",
    "    is_ultra — каким тарифом пользовался в течение месяца («Ультра» — 1, «Смарт» — 0)."
   ]
  },
  {
   "cell_type": "markdown",
   "metadata": {},
   "source": [
    "## Откройте и изучите файл"
   ]
  },
  {
   "cell_type": "code",
   "execution_count": 1,
   "metadata": {},
   "outputs": [],
   "source": [
    "# Импортируем библиотеки\n",
    "import pandas as pd\n",
    "import matplotlib.pyplot as plt\n",
    "import sklearn\n",
    "from sklearn.model_selection import train_test_split\n",
    "from sklearn.tree import DecisionTreeClassifier\n",
    "from sklearn.metrics import accuracy_score\n",
    "from sklearn.ensemble import RandomForestClassifier\n",
    "from sklearn.linear_model import LogisticRegression "
   ]
  },
  {
   "cell_type": "code",
   "execution_count": 2,
   "metadata": {},
   "outputs": [],
   "source": [
    "# Откроем файл и запишем датасет в переменную data\n",
    "try:\n",
    "    data = pd.read_csv('/datasets/users_behavior.csv')\n",
    "except:\n",
    "    data = pd.read_csv('users_behavior.csv')"
   ]
  },
  {
   "cell_type": "code",
   "execution_count": 3,
   "metadata": {},
   "outputs": [
    {
     "data": {
      "text/html": [
       "<div>\n",
       "<style scoped>\n",
       "    .dataframe tbody tr th:only-of-type {\n",
       "        vertical-align: middle;\n",
       "    }\n",
       "\n",
       "    .dataframe tbody tr th {\n",
       "        vertical-align: top;\n",
       "    }\n",
       "\n",
       "    .dataframe thead th {\n",
       "        text-align: right;\n",
       "    }\n",
       "</style>\n",
       "<table border=\"1\" class=\"dataframe\">\n",
       "  <thead>\n",
       "    <tr style=\"text-align: right;\">\n",
       "      <th></th>\n",
       "      <th>calls</th>\n",
       "      <th>minutes</th>\n",
       "      <th>messages</th>\n",
       "      <th>mb_used</th>\n",
       "      <th>is_ultra</th>\n",
       "    </tr>\n",
       "  </thead>\n",
       "  <tbody>\n",
       "    <tr>\n",
       "      <th>0</th>\n",
       "      <td>40.0</td>\n",
       "      <td>311.90</td>\n",
       "      <td>83.0</td>\n",
       "      <td>19915.42</td>\n",
       "      <td>0</td>\n",
       "    </tr>\n",
       "    <tr>\n",
       "      <th>1</th>\n",
       "      <td>85.0</td>\n",
       "      <td>516.75</td>\n",
       "      <td>56.0</td>\n",
       "      <td>22696.96</td>\n",
       "      <td>0</td>\n",
       "    </tr>\n",
       "    <tr>\n",
       "      <th>2</th>\n",
       "      <td>77.0</td>\n",
       "      <td>467.66</td>\n",
       "      <td>86.0</td>\n",
       "      <td>21060.45</td>\n",
       "      <td>0</td>\n",
       "    </tr>\n",
       "    <tr>\n",
       "      <th>3</th>\n",
       "      <td>106.0</td>\n",
       "      <td>745.53</td>\n",
       "      <td>81.0</td>\n",
       "      <td>8437.39</td>\n",
       "      <td>1</td>\n",
       "    </tr>\n",
       "    <tr>\n",
       "      <th>4</th>\n",
       "      <td>66.0</td>\n",
       "      <td>418.74</td>\n",
       "      <td>1.0</td>\n",
       "      <td>14502.75</td>\n",
       "      <td>0</td>\n",
       "    </tr>\n",
       "    <tr>\n",
       "      <th>5</th>\n",
       "      <td>58.0</td>\n",
       "      <td>344.56</td>\n",
       "      <td>21.0</td>\n",
       "      <td>15823.37</td>\n",
       "      <td>0</td>\n",
       "    </tr>\n",
       "    <tr>\n",
       "      <th>6</th>\n",
       "      <td>57.0</td>\n",
       "      <td>431.64</td>\n",
       "      <td>20.0</td>\n",
       "      <td>3738.90</td>\n",
       "      <td>1</td>\n",
       "    </tr>\n",
       "    <tr>\n",
       "      <th>7</th>\n",
       "      <td>15.0</td>\n",
       "      <td>132.40</td>\n",
       "      <td>6.0</td>\n",
       "      <td>21911.60</td>\n",
       "      <td>0</td>\n",
       "    </tr>\n",
       "    <tr>\n",
       "      <th>8</th>\n",
       "      <td>7.0</td>\n",
       "      <td>43.39</td>\n",
       "      <td>3.0</td>\n",
       "      <td>2538.67</td>\n",
       "      <td>1</td>\n",
       "    </tr>\n",
       "    <tr>\n",
       "      <th>9</th>\n",
       "      <td>90.0</td>\n",
       "      <td>665.41</td>\n",
       "      <td>38.0</td>\n",
       "      <td>17358.61</td>\n",
       "      <td>0</td>\n",
       "    </tr>\n",
       "  </tbody>\n",
       "</table>\n",
       "</div>"
      ],
      "text/plain": [
       "   calls  minutes  messages   mb_used  is_ultra\n",
       "0   40.0   311.90      83.0  19915.42         0\n",
       "1   85.0   516.75      56.0  22696.96         0\n",
       "2   77.0   467.66      86.0  21060.45         0\n",
       "3  106.0   745.53      81.0   8437.39         1\n",
       "4   66.0   418.74       1.0  14502.75         0\n",
       "5   58.0   344.56      21.0  15823.37         0\n",
       "6   57.0   431.64      20.0   3738.90         1\n",
       "7   15.0   132.40       6.0  21911.60         0\n",
       "8    7.0    43.39       3.0   2538.67         1\n",
       "9   90.0   665.41      38.0  17358.61         0"
      ]
     },
     "execution_count": 3,
     "metadata": {},
     "output_type": "execute_result"
    }
   ],
   "source": [
    "# Посмотрим первые 10 строк\n",
    "data.head(10)"
   ]
  },
  {
   "cell_type": "code",
   "execution_count": 4,
   "metadata": {},
   "outputs": [
    {
     "name": "stdout",
     "output_type": "stream",
     "text": [
      "<class 'pandas.core.frame.DataFrame'>\n",
      "RangeIndex: 3214 entries, 0 to 3213\n",
      "Data columns (total 5 columns):\n",
      " #   Column    Non-Null Count  Dtype  \n",
      "---  ------    --------------  -----  \n",
      " 0   calls     3214 non-null   float64\n",
      " 1   minutes   3214 non-null   float64\n",
      " 2   messages  3214 non-null   float64\n",
      " 3   mb_used   3214 non-null   float64\n",
      " 4   is_ultra  3214 non-null   int64  \n",
      "dtypes: float64(4), int64(1)\n",
      "memory usage: 125.7 KB\n"
     ]
    }
   ],
   "source": [
    "# Выведем общую информацию о датафрейме\n",
    "data.info()"
   ]
  },
  {
   "cell_type": "code",
   "execution_count": 5,
   "metadata": {},
   "outputs": [
    {
     "data": {
      "text/html": [
       "<div>\n",
       "<style scoped>\n",
       "    .dataframe tbody tr th:only-of-type {\n",
       "        vertical-align: middle;\n",
       "    }\n",
       "\n",
       "    .dataframe tbody tr th {\n",
       "        vertical-align: top;\n",
       "    }\n",
       "\n",
       "    .dataframe thead th {\n",
       "        text-align: right;\n",
       "    }\n",
       "</style>\n",
       "<table border=\"1\" class=\"dataframe\">\n",
       "  <thead>\n",
       "    <tr style=\"text-align: right;\">\n",
       "      <th></th>\n",
       "      <th>calls</th>\n",
       "      <th>minutes</th>\n",
       "      <th>messages</th>\n",
       "      <th>mb_used</th>\n",
       "      <th>is_ultra</th>\n",
       "    </tr>\n",
       "  </thead>\n",
       "  <tbody>\n",
       "    <tr>\n",
       "      <th>count</th>\n",
       "      <td>3214.000000</td>\n",
       "      <td>3214.000000</td>\n",
       "      <td>3214.000000</td>\n",
       "      <td>3214.000000</td>\n",
       "      <td>3214.000000</td>\n",
       "    </tr>\n",
       "    <tr>\n",
       "      <th>mean</th>\n",
       "      <td>63.038892</td>\n",
       "      <td>438.208787</td>\n",
       "      <td>38.281269</td>\n",
       "      <td>17207.673836</td>\n",
       "      <td>0.306472</td>\n",
       "    </tr>\n",
       "    <tr>\n",
       "      <th>std</th>\n",
       "      <td>33.236368</td>\n",
       "      <td>234.569872</td>\n",
       "      <td>36.148326</td>\n",
       "      <td>7570.968246</td>\n",
       "      <td>0.461100</td>\n",
       "    </tr>\n",
       "    <tr>\n",
       "      <th>min</th>\n",
       "      <td>0.000000</td>\n",
       "      <td>0.000000</td>\n",
       "      <td>0.000000</td>\n",
       "      <td>0.000000</td>\n",
       "      <td>0.000000</td>\n",
       "    </tr>\n",
       "    <tr>\n",
       "      <th>25%</th>\n",
       "      <td>40.000000</td>\n",
       "      <td>274.575000</td>\n",
       "      <td>9.000000</td>\n",
       "      <td>12491.902500</td>\n",
       "      <td>0.000000</td>\n",
       "    </tr>\n",
       "    <tr>\n",
       "      <th>50%</th>\n",
       "      <td>62.000000</td>\n",
       "      <td>430.600000</td>\n",
       "      <td>30.000000</td>\n",
       "      <td>16943.235000</td>\n",
       "      <td>0.000000</td>\n",
       "    </tr>\n",
       "    <tr>\n",
       "      <th>75%</th>\n",
       "      <td>82.000000</td>\n",
       "      <td>571.927500</td>\n",
       "      <td>57.000000</td>\n",
       "      <td>21424.700000</td>\n",
       "      <td>1.000000</td>\n",
       "    </tr>\n",
       "    <tr>\n",
       "      <th>max</th>\n",
       "      <td>244.000000</td>\n",
       "      <td>1632.060000</td>\n",
       "      <td>224.000000</td>\n",
       "      <td>49745.730000</td>\n",
       "      <td>1.000000</td>\n",
       "    </tr>\n",
       "  </tbody>\n",
       "</table>\n",
       "</div>"
      ],
      "text/plain": [
       "             calls      minutes     messages       mb_used     is_ultra\n",
       "count  3214.000000  3214.000000  3214.000000   3214.000000  3214.000000\n",
       "mean     63.038892   438.208787    38.281269  17207.673836     0.306472\n",
       "std      33.236368   234.569872    36.148326   7570.968246     0.461100\n",
       "min       0.000000     0.000000     0.000000      0.000000     0.000000\n",
       "25%      40.000000   274.575000     9.000000  12491.902500     0.000000\n",
       "50%      62.000000   430.600000    30.000000  16943.235000     0.000000\n",
       "75%      82.000000   571.927500    57.000000  21424.700000     1.000000\n",
       "max     244.000000  1632.060000   224.000000  49745.730000     1.000000"
      ]
     },
     "execution_count": 5,
     "metadata": {},
     "output_type": "execute_result"
    }
   ],
   "source": [
    "data.describe()"
   ]
  },
  {
   "cell_type": "code",
   "execution_count": 6,
   "metadata": {},
   "outputs": [
    {
     "data": {
      "image/png": "[encoded data removed]",
      "text/plain": [
       "<Figure size 1440x1440 with 6 Axes>"
      ]
     },
     "metadata": {
      "needs_background": "light"
     },
     "output_type": "display_data"
    }
   ],
   "source": [
    "# Построим общую гистограмму для всех числовых столбцов таблицы\n",
    "data.hist(figsize=(20, 20))\n",
    "plt.show()"
   ]
  },
  {
   "cell_type": "markdown",
   "metadata": {},
   "source": [
    "***Вывод:*** Файл содержит 3214 записей. Количество значений в столбцах совпадает, что говорит о том, что пропущенных значений нет. Типы данных и наименования столбцов корректны. Построена общая гистограмма для всех числовых столбцов таблицы."
   ]
  },
  {
   "cell_type": "markdown",
   "metadata": {},
   "source": [
    "## Разбейте данные на выборки"
   ]
  },
  {
   "cell_type": "code",
   "execution_count": 7,
   "metadata": {},
   "outputs": [],
   "source": [
    "# Разделим датафрейм на обучающую, валидационную и тестовую выборку\n",
    "data_train, x = train_test_split(data, test_size=0.2, random_state=12345)\n",
    "data_valid, data_test = train_test_split(x, test_size=0.25, random_state=12345)"
   ]
  },
  {
   "cell_type": "markdown",
   "metadata": {},
   "source": [
    "***Вывод:*** Два раза применив функцию, разделили датафрейм на обучающую, валидационную и тестовую выборку."
   ]
  },
  {
   "cell_type": "markdown",
   "metadata": {},
   "source": [
    "## Исследуйте модели"
   ]
  },
  {
   "cell_type": "code",
   "execution_count": 8,
   "metadata": {},
   "outputs": [],
   "source": [
    "# Выделим признаки\n",
    "features_train = data_train.drop(['is_ultra'], axis = 1)\n",
    "target_train = data_train['is_ultra']\n",
    "\n",
    "features_valid = data_valid.drop(['is_ultra'], axis = 1)\n",
    "target_valid = data_valid['is_ultra']\n",
    "\n",
    "features_test = data_test.drop(['is_ultra'], axis = 1)\n",
    "target_test = data_test['is_ultra']"
   ]
  },
  {
   "cell_type": "markdown",
   "metadata": {},
   "source": [
    "***Дерево решений***"
   ]
  },
  {
   "cell_type": "code",
   "execution_count": 9,
   "metadata": {},
   "outputs": [
    {
     "name": "stdout",
     "output_type": "stream",
     "text": [
      "Наилучшая точность: 0.8\n",
      "Парамтеры модели:\n",
      "   max_depth = 5\n",
      "   min_samples_split = 2\n",
      "   min_samples_leaf = 6\n",
      "   criterion = entropy \n"
     ]
    }
   ],
   "source": [
    "# Создадим переменные для лучших гиперпараметров\n",
    "best_parametrs = []\n",
    "best_accuracy = 0\n",
    "\n",
    "# В цикле последовательно меняем гиперпараметры\n",
    "for max_depth in range(1,10):\n",
    "    for min_samples_split in range(2,10):\n",
    "        for min_samples_leaf in range(1,10):\n",
    "            for criterion in ['gini', 'entropy']:\n",
    "                \n",
    "                # Подставим гиперпараметры в модель\n",
    "                model_decision_tree = DecisionTreeClassifier(random_state=12345,\n",
    "                                                      max_depth=max_depth,\n",
    "                                                      min_samples_split=min_samples_split,\n",
    "                                                      min_samples_leaf=min_samples_leaf,\n",
    "                                                      criterion=criterion)\n",
    "                \n",
    "                # Обучение на тренировочной выборке\n",
    "                model_decision_tree.fit(features_train, target_train)\n",
    "                \n",
    "                # Поиск предсказаний на валидационной выборке\n",
    "                predictions = model_decision_tree.predict(features_valid)\n",
    "                \n",
    "                # Вычисление точности модели\n",
    "                accuracy = accuracy_score(target_valid, predictions)\n",
    "                \n",
    "                # Сохранение лучших гиперпараметров\n",
    "                if accuracy > best_accuracy:\n",
    "                    best_parametrs = [max_depth, min_samples_split, min_samples_leaf, criterion]\n",
    "                    best_accuracy = accuracy\n",
    "\n",
    "# вывод лучших параметров\n",
    "print('''Наилучшая точность: {}\n",
    "Параметры модели:\n",
    "   max_depth = {}\n",
    "   min_samples_split = {}\n",
    "   min_samples_leaf = {}\n",
    "   criterion = {} '''.format(round(best_accuracy, 2),\n",
    "                             best_parametrs[0],\n",
    "                             best_parametrs[1],\n",
    "                             best_parametrs[2],\n",
    "                             best_parametrs[3]\n",
    "                            ))"
   ]
  },
  {
   "cell_type": "markdown",
   "metadata": {},
   "source": [
    "***Случайный лес***"
   ]
  },
  {
   "cell_type": "code",
   "execution_count": 10,
   "metadata": {},
   "outputs": [
    {
     "name": "stdout",
     "output_type": "stream",
     "text": [
      "Наилучшая точность: 0.82\n",
      "Парамтеры модели:\n",
      "   n_estimators = 1\n",
      "   max_depth = 7\n",
      "   min_samples_split = 2\n",
      "   min_samples_leaf = 3\n",
      "   criterion = gini \n"
     ]
    }
   ],
   "source": [
    "# Создадим переменные для лучших гиперпараметров\n",
    "best_parametrs = []\n",
    "best_accuracy = 0\n",
    "\n",
    "# В цикле последовательно меняем гиперпараметры\n",
    "for n_estimators in (1,10):\n",
    "    for max_depth in range(1,10):\n",
    "        for min_samples_split in range(2,10):\n",
    "            for min_samples_leaf in range(1,10):\n",
    "                for criterion in ['gini', 'entropy']:\n",
    "                    \n",
    "                    # Подставим гиперпараметры в модель\n",
    "                    model_random_forest = RandomForestClassifier(random_state=12345,\n",
    "                                                          n_estimators=n_estimators,\n",
    "                                                          max_depth=max_depth,\n",
    "                                                          min_samples_split=min_samples_split,\n",
    "                                                          min_samples_leaf=min_samples_leaf,\n",
    "                                                          criterion=criterion)\n",
    "                    \n",
    "                    # Обучение на тренировочной выборке\n",
    "                    model_random_forest.fit(features_train, target_train)\n",
    "                    \n",
    "                    # Поиск предсказаний на валидационной выборке\n",
    "                    predictions = model_random_forest.predict(features_valid)\n",
    "                    \n",
    "                    # Вычисление точности модели\n",
    "                    accuracy = accuracy_score(target_valid, predictions)\n",
    "                    \n",
    "                    # Сохранение лучших гиперпараметров\n",
    "                    if accuracy > best_accuracy:\n",
    "                        best_parametrs = [n_estimators, max_depth, min_samples_split, min_samples_leaf, criterion]\n",
    "                        best_accuracy = accuracy\n",
    "                        \n",
    "# вывод лучших параметров\n",
    "print('''Наилучшая точность: {}\n",
    "Параметры модели:\n",
    "   n_estimators = {}\n",
    "   max_depth = {}\n",
    "   min_samples_split = {}\n",
    "   min_samples_leaf = {}\n",
    "   criterion = {} '''.format(round(best_accuracy, 2),\n",
    "                             best_parametrs[0],\n",
    "                             best_parametrs[1],\n",
    "                             best_parametrs[2],\n",
    "                             best_parametrs[3],\n",
    "                             best_parametrs[4]\n",
    "                            ))                       "
   ]
  },
  {
   "cell_type": "markdown",
   "metadata": {},
   "source": [
    "***Логистическая регрессия***"
   ]
  },
  {
   "cell_type": "code",
   "execution_count": 11,
   "metadata": {},
   "outputs": [
    {
     "name": "stdout",
     "output_type": "stream",
     "text": [
      "0.7634854771784232\n"
     ]
    }
   ],
   "source": [
    "# Подставим гиперпараметры в модель\n",
    "model_logistic_regression = LogisticRegression(random_state=12345, solver='lbfgs', max_iter =1000)\n",
    "\n",
    "# Обучение на тренировочной выборке\n",
    "model_logistic_regression.fit(features_train, target_train)\n",
    "\n",
    "# Поиск предсказаний на валидационной выборке\n",
    "predictions = model_logistic_regression.predict(features_valid)\n",
    "\n",
    "# Вычисление метрики модели    \n",
    "result = model_logistic_regression.score(features_valid, target_valid)\n",
    "\n",
    "# Вывод\n",
    "print(result)  "
   ]
  },
  {
   "cell_type": "markdown",
   "metadata": {},
   "source": [
    "***Вывод:*** Наиболее подходящая модель - Случайный лес (Random Forest). Так как на валидационной выборке модель показала наиболее точные предсказания."
   ]
  },
  {
   "cell_type": "markdown",
   "metadata": {},
   "source": [
    "## Проверьте модель на тестовой выборке"
   ]
  },
  {
   "cell_type": "code",
   "execution_count": 12,
   "metadata": {
    "scrolled": true
   },
   "outputs": [
    {
     "name": "stdout",
     "output_type": "stream",
     "text": [
      "Точность Cлучайного леса на тестовой выборке: 0.7701863354037267\n"
     ]
    }
   ],
   "source": [
    "# Проверим модель на тестовой выборке используя полученные ранее лучшие значения гиперпараметров\n",
    "model_random_forest = RandomForestClassifier(random_state=12345,\n",
    "                                                          n_estimators=1,\n",
    "                                                          max_depth=7,\n",
    "                                                          min_samples_split=2,\n",
    "                                                          min_samples_leaf=3,\n",
    "                                                          criterion='gini')\n",
    "                    \n",
    "# Обучение на тренировочной выборке\n",
    "model_random_forest.fit(features_train, target_train)\n",
    "                    \n",
    "# Поиск предсказаний на тестовой выборке\n",
    "predictions = model_random_forest.predict(features_test)\n",
    "                    \n",
    "# Вычисление точности модели\n",
    "accuracy = accuracy_score(target_test, predictions)\n",
    "                    \n",
    "print('Точность Cлучайного леса на тестовой выборке:', accuracy)"
   ]
  },
  {
   "cell_type": "markdown",
   "metadata": {},
   "source": [
    "***Вывод:*** Точность предсказания модели Случайный лес (Random Forest), с лучшими значениями гиперпараметров на тестовой выборке: 0.7701863354037267"
   ]
  },
  {
   "cell_type": "markdown",
   "metadata": {},
   "source": [
    "## Вывод:\n",
    "\n",
    "Были проанализированы различные классификационные модели: \n",
    "* Решающее дерево\n",
    "* Случайный лес\n",
    "* Логистическая регрессия \n",
    "\n",
    "Модели обучены. Найдено наиболее удачное сочетание гиперпараметров, необходимое для получения наилучшей точности.\n",
    "\n",
    "Точность предсказания модели Случайный лес (Random Forest), с лучшими значениями гиперпараметров на тестовой выборке: 0.77"
   ]
  }
 ],
 "metadata": {
  "ExecuteTimeLog": [
   {
    "duration": 771,
    "start_time": "2023-04-17T03:11:51.990Z"
   },
   {
    "duration": 127,
    "start_time": "2023-04-17T03:11:53.355Z"
   },
   {
    "duration": 15,
    "start_time": "2023-04-17T03:11:54.339Z"
   },
   {
    "duration": 12,
    "start_time": "2023-04-17T03:11:58.554Z"
   },
   {
    "duration": 31,
    "start_time": "2023-04-17T03:12:06.148Z"
   },
   {
    "duration": 638,
    "start_time": "2023-04-17T03:12:11.785Z"
   },
   {
    "duration": 77,
    "start_time": "2023-04-17T08:46:44.272Z"
   },
   {
    "duration": 1283,
    "start_time": "2023-04-17T08:46:53.133Z"
   },
   {
    "duration": 29,
    "start_time": "2023-04-17T08:46:54.418Z"
   },
   {
    "duration": 14,
    "start_time": "2023-04-17T08:46:54.449Z"
   },
   {
    "duration": 11,
    "start_time": "2023-04-17T08:46:54.465Z"
   },
   {
    "duration": 20,
    "start_time": "2023-04-17T08:46:54.477Z"
   },
   {
    "duration": 701,
    "start_time": "2023-04-17T08:46:54.498Z"
   },
   {
    "duration": 120,
    "start_time": "2023-04-17T08:46:55.201Z"
   },
   {
    "duration": 0,
    "start_time": "2023-04-17T08:46:55.322Z"
   },
   {
    "duration": 0,
    "start_time": "2023-04-17T08:46:55.324Z"
   },
   {
    "duration": 1380,
    "start_time": "2023-04-17T08:47:16.356Z"
   },
   {
    "duration": 30,
    "start_time": "2023-04-17T08:47:17.738Z"
   },
   {
    "duration": 15,
    "start_time": "2023-04-17T08:47:17.769Z"
   },
   {
    "duration": 12,
    "start_time": "2023-04-17T08:47:17.786Z"
   },
   {
    "duration": 26,
    "start_time": "2023-04-17T08:47:17.801Z"
   },
   {
    "duration": 649,
    "start_time": "2023-04-17T08:47:17.829Z"
   },
   {
    "duration": 4,
    "start_time": "2023-04-17T08:47:18.480Z"
   },
   {
    "duration": 11,
    "start_time": "2023-04-17T08:47:18.486Z"
   },
   {
    "duration": 121,
    "start_time": "2023-04-17T08:47:18.499Z"
   },
   {
    "duration": 1928,
    "start_time": "2023-04-17T08:48:18.727Z"
   },
   {
    "duration": 30,
    "start_time": "2023-04-17T08:48:20.658Z"
   },
   {
    "duration": 22,
    "start_time": "2023-04-17T08:48:20.689Z"
   },
   {
    "duration": 33,
    "start_time": "2023-04-17T08:48:20.712Z"
   },
   {
    "duration": 54,
    "start_time": "2023-04-17T08:48:20.747Z"
   },
   {
    "duration": 649,
    "start_time": "2023-04-17T08:48:20.802Z"
   },
   {
    "duration": 4,
    "start_time": "2023-04-17T08:48:21.453Z"
   },
   {
    "duration": 27,
    "start_time": "2023-04-17T08:48:21.459Z"
   },
   {
    "duration": 136,
    "start_time": "2023-04-17T08:48:21.488Z"
   },
   {
    "duration": 1331,
    "start_time": "2023-04-17T08:49:19.024Z"
   },
   {
    "duration": 30,
    "start_time": "2023-04-17T08:49:20.357Z"
   },
   {
    "duration": 16,
    "start_time": "2023-04-17T08:49:20.389Z"
   },
   {
    "duration": 24,
    "start_time": "2023-04-17T08:49:20.406Z"
   },
   {
    "duration": 25,
    "start_time": "2023-04-17T08:49:20.432Z"
   },
   {
    "duration": 661,
    "start_time": "2023-04-17T08:49:20.458Z"
   },
   {
    "duration": 4,
    "start_time": "2023-04-17T08:49:21.121Z"
   },
   {
    "duration": 38,
    "start_time": "2023-04-17T08:49:21.127Z"
   },
   {
    "duration": 4129,
    "start_time": "2023-04-17T08:49:21.167Z"
   },
   {
    "duration": 1495,
    "start_time": "2023-04-17T08:50:12.432Z"
   },
   {
    "duration": 32,
    "start_time": "2023-04-17T08:50:13.929Z"
   },
   {
    "duration": 15,
    "start_time": "2023-04-17T08:50:13.963Z"
   },
   {
    "duration": 11,
    "start_time": "2023-04-17T08:50:13.980Z"
   },
   {
    "duration": 31,
    "start_time": "2023-04-17T08:50:13.993Z"
   },
   {
    "duration": 674,
    "start_time": "2023-04-17T08:50:14.026Z"
   },
   {
    "duration": 5,
    "start_time": "2023-04-17T08:50:14.702Z"
   },
   {
    "duration": 20,
    "start_time": "2023-04-17T08:50:14.708Z"
   },
   {
    "duration": 4198,
    "start_time": "2023-04-17T08:50:14.730Z"
   },
   {
    "duration": 1420,
    "start_time": "2023-04-17T08:55:45.060Z"
   },
   {
    "duration": 181,
    "start_time": "2023-04-17T08:55:46.483Z"
   },
   {
    "duration": 0,
    "start_time": "2023-04-17T08:55:46.667Z"
   },
   {
    "duration": 0,
    "start_time": "2023-04-17T08:55:46.668Z"
   },
   {
    "duration": 0,
    "start_time": "2023-04-17T08:55:46.670Z"
   },
   {
    "duration": 0,
    "start_time": "2023-04-17T08:55:46.672Z"
   },
   {
    "duration": 0,
    "start_time": "2023-04-17T08:55:46.673Z"
   },
   {
    "duration": 0,
    "start_time": "2023-04-17T08:55:46.675Z"
   },
   {
    "duration": 0,
    "start_time": "2023-04-17T08:55:46.676Z"
   },
   {
    "duration": 1635,
    "start_time": "2023-04-17T08:56:35.012Z"
   },
   {
    "duration": 492,
    "start_time": "2023-04-17T08:56:36.649Z"
   },
   {
    "duration": 0,
    "start_time": "2023-04-17T08:56:37.143Z"
   },
   {
    "duration": 0,
    "start_time": "2023-04-17T08:56:37.144Z"
   },
   {
    "duration": 0,
    "start_time": "2023-04-17T08:56:37.145Z"
   },
   {
    "duration": 0,
    "start_time": "2023-04-17T08:56:37.146Z"
   },
   {
    "duration": 0,
    "start_time": "2023-04-17T08:56:37.148Z"
   },
   {
    "duration": 0,
    "start_time": "2023-04-17T08:56:37.149Z"
   },
   {
    "duration": 0,
    "start_time": "2023-04-17T08:56:37.149Z"
   },
   {
    "duration": 16,
    "start_time": "2023-04-17T08:58:18.025Z"
   },
   {
    "duration": 13,
    "start_time": "2023-04-17T08:58:32.725Z"
   },
   {
    "duration": 1434,
    "start_time": "2023-04-17T08:59:36.675Z"
   },
   {
    "duration": 233,
    "start_time": "2023-04-17T08:59:38.111Z"
   },
   {
    "duration": 0,
    "start_time": "2023-04-17T08:59:38.346Z"
   },
   {
    "duration": 0,
    "start_time": "2023-04-17T08:59:38.348Z"
   },
   {
    "duration": 0,
    "start_time": "2023-04-17T08:59:38.349Z"
   },
   {
    "duration": 0,
    "start_time": "2023-04-17T08:59:38.350Z"
   },
   {
    "duration": 0,
    "start_time": "2023-04-17T08:59:38.351Z"
   },
   {
    "duration": 0,
    "start_time": "2023-04-17T08:59:38.352Z"
   },
   {
    "duration": 0,
    "start_time": "2023-04-17T08:59:38.353Z"
   },
   {
    "duration": 1477,
    "start_time": "2023-04-17T08:59:49.288Z"
   },
   {
    "duration": 164,
    "start_time": "2023-04-17T08:59:50.766Z"
   },
   {
    "duration": 0,
    "start_time": "2023-04-17T08:59:50.931Z"
   },
   {
    "duration": 0,
    "start_time": "2023-04-17T08:59:50.932Z"
   },
   {
    "duration": 0,
    "start_time": "2023-04-17T08:59:50.934Z"
   },
   {
    "duration": 0,
    "start_time": "2023-04-17T08:59:50.935Z"
   },
   {
    "duration": 0,
    "start_time": "2023-04-17T08:59:50.936Z"
   },
   {
    "duration": 0,
    "start_time": "2023-04-17T08:59:50.937Z"
   },
   {
    "duration": 0,
    "start_time": "2023-04-17T08:59:50.938Z"
   },
   {
    "duration": 1392,
    "start_time": "2023-04-17T11:15:58.048Z"
   },
   {
    "duration": 41,
    "start_time": "2023-04-17T11:15:59.442Z"
   },
   {
    "duration": 15,
    "start_time": "2023-04-17T11:15:59.484Z"
   },
   {
    "duration": 15,
    "start_time": "2023-04-17T11:15:59.501Z"
   },
   {
    "duration": 23,
    "start_time": "2023-04-17T11:15:59.518Z"
   },
   {
    "duration": 656,
    "start_time": "2023-04-17T11:15:59.543Z"
   },
   {
    "duration": 5,
    "start_time": "2023-04-17T11:16:00.201Z"
   },
   {
    "duration": 29,
    "start_time": "2023-04-17T11:16:00.207Z"
   },
   {
    "duration": 4174,
    "start_time": "2023-04-17T11:16:00.238Z"
   },
   {
    "duration": 1418,
    "start_time": "2023-04-17T11:17:11.285Z"
   },
   {
    "duration": 30,
    "start_time": "2023-04-17T11:17:12.706Z"
   },
   {
    "duration": 15,
    "start_time": "2023-04-17T11:17:12.737Z"
   },
   {
    "duration": 14,
    "start_time": "2023-04-17T11:17:12.754Z"
   },
   {
    "duration": 29,
    "start_time": "2023-04-17T11:17:12.770Z"
   },
   {
    "duration": 645,
    "start_time": "2023-04-17T11:17:12.801Z"
   },
   {
    "duration": 4,
    "start_time": "2023-04-17T11:17:13.448Z"
   },
   {
    "duration": 32,
    "start_time": "2023-04-17T11:17:13.454Z"
   },
   {
    "duration": 3896,
    "start_time": "2023-04-17T11:17:13.488Z"
   },
   {
    "duration": 1657,
    "start_time": "2023-04-18T03:03:19.587Z"
   },
   {
    "duration": 70,
    "start_time": "2023-04-18T03:03:21.246Z"
   },
   {
    "duration": 20,
    "start_time": "2023-04-18T03:03:21.318Z"
   },
   {
    "duration": 28,
    "start_time": "2023-04-18T03:03:21.340Z"
   },
   {
    "duration": 25,
    "start_time": "2023-04-18T03:03:21.370Z"
   },
   {
    "duration": 734,
    "start_time": "2023-04-18T03:03:21.396Z"
   },
   {
    "duration": 5,
    "start_time": "2023-04-18T03:03:22.133Z"
   },
   {
    "duration": 22,
    "start_time": "2023-04-18T03:03:22.139Z"
   },
   {
    "duration": 4302,
    "start_time": "2023-04-18T03:03:22.163Z"
   },
   {
    "duration": 134,
    "start_time": "2023-04-18T03:03:26.468Z"
   },
   {
    "duration": 1503,
    "start_time": "2023-04-18T03:04:29.090Z"
   },
   {
    "duration": 32,
    "start_time": "2023-04-18T03:04:30.596Z"
   },
   {
    "duration": 34,
    "start_time": "2023-04-18T03:04:30.631Z"
   },
   {
    "duration": 22,
    "start_time": "2023-04-18T03:04:30.667Z"
   },
   {
    "duration": 48,
    "start_time": "2023-04-18T03:04:30.692Z"
   },
   {
    "duration": 746,
    "start_time": "2023-04-18T03:04:30.742Z"
   },
   {
    "duration": 4,
    "start_time": "2023-04-18T03:04:31.490Z"
   },
   {
    "duration": 50,
    "start_time": "2023-04-18T03:04:31.496Z"
   },
   {
    "duration": 4242,
    "start_time": "2023-04-18T03:04:31.549Z"
   },
   {
    "duration": 177,
    "start_time": "2023-04-18T03:04:35.794Z"
   },
   {
    "duration": 1588,
    "start_time": "2023-04-18T03:07:30.649Z"
   },
   {
    "duration": 33,
    "start_time": "2023-04-18T03:07:32.239Z"
   },
   {
    "duration": 21,
    "start_time": "2023-04-18T03:07:32.274Z"
   },
   {
    "duration": 15,
    "start_time": "2023-04-18T03:07:32.298Z"
   },
   {
    "duration": 26,
    "start_time": "2023-04-18T03:07:32.315Z"
   },
   {
    "duration": 794,
    "start_time": "2023-04-18T03:07:32.359Z"
   },
   {
    "duration": 8,
    "start_time": "2023-04-18T03:07:33.155Z"
   },
   {
    "duration": 12,
    "start_time": "2023-04-18T03:07:33.165Z"
   },
   {
    "duration": 4512,
    "start_time": "2023-04-18T03:07:33.179Z"
   },
   {
    "duration": 38518,
    "start_time": "2023-04-18T03:07:37.694Z"
   },
   {
    "duration": 1619,
    "start_time": "2023-04-18T03:10:59.900Z"
   },
   {
    "duration": 74,
    "start_time": "2023-04-18T03:11:01.522Z"
   },
   {
    "duration": 16,
    "start_time": "2023-04-18T03:11:01.598Z"
   },
   {
    "duration": 53,
    "start_time": "2023-04-18T03:11:01.616Z"
   },
   {
    "duration": 43,
    "start_time": "2023-04-18T03:11:01.672Z"
   },
   {
    "duration": 819,
    "start_time": "2023-04-18T03:11:01.717Z"
   },
   {
    "duration": 4,
    "start_time": "2023-04-18T03:11:02.538Z"
   },
   {
    "duration": 28,
    "start_time": "2023-04-18T03:11:02.543Z"
   },
   {
    "duration": 4857,
    "start_time": "2023-04-18T03:11:02.574Z"
   },
   {
    "duration": 41454,
    "start_time": "2023-04-18T03:11:07.434Z"
   },
   {
    "duration": 131,
    "start_time": "2023-04-18T03:11:48.889Z"
   },
   {
    "duration": 1532,
    "start_time": "2023-04-18T03:42:27.215Z"
   },
   {
    "duration": 47,
    "start_time": "2023-04-18T03:42:28.749Z"
   },
   {
    "duration": 22,
    "start_time": "2023-04-18T03:42:28.799Z"
   },
   {
    "duration": 16,
    "start_time": "2023-04-18T03:42:28.825Z"
   },
   {
    "duration": 32,
    "start_time": "2023-04-18T03:42:28.844Z"
   },
   {
    "duration": 811,
    "start_time": "2023-04-18T03:42:28.878Z"
   },
   {
    "duration": 5,
    "start_time": "2023-04-18T03:42:29.690Z"
   },
   {
    "duration": 8,
    "start_time": "2023-04-18T03:42:29.697Z"
   },
   {
    "duration": 196,
    "start_time": "2023-04-18T03:42:29.706Z"
   },
   {
    "duration": 0,
    "start_time": "2023-04-18T03:42:29.904Z"
   },
   {
    "duration": 0,
    "start_time": "2023-04-18T03:42:29.907Z"
   },
   {
    "duration": 1422,
    "start_time": "2023-04-18T03:43:52.090Z"
   },
   {
    "duration": 31,
    "start_time": "2023-04-18T03:43:53.514Z"
   },
   {
    "duration": 16,
    "start_time": "2023-04-18T03:43:53.547Z"
   },
   {
    "duration": 12,
    "start_time": "2023-04-18T03:43:53.565Z"
   },
   {
    "duration": 27,
    "start_time": "2023-04-18T03:43:53.579Z"
   },
   {
    "duration": 730,
    "start_time": "2023-04-18T03:43:53.607Z"
   },
   {
    "duration": 4,
    "start_time": "2023-04-18T03:43:54.339Z"
   },
   {
    "duration": 18,
    "start_time": "2023-04-18T03:43:54.345Z"
   },
   {
    "duration": 126,
    "start_time": "2023-04-18T03:43:54.365Z"
   },
   {
    "duration": 0,
    "start_time": "2023-04-18T03:43:54.493Z"
   },
   {
    "duration": 0,
    "start_time": "2023-04-18T03:43:54.494Z"
   },
   {
    "duration": 8332,
    "start_time": "2023-04-18T03:44:33.884Z"
   },
   {
    "duration": 2322,
    "start_time": "2023-04-18T04:19:08.518Z"
   },
   {
    "duration": 38,
    "start_time": "2023-04-18T04:19:10.843Z"
   },
   {
    "duration": 23,
    "start_time": "2023-04-18T04:19:10.883Z"
   },
   {
    "duration": 21,
    "start_time": "2023-04-18T04:19:10.909Z"
   },
   {
    "duration": 33,
    "start_time": "2023-04-18T04:19:10.932Z"
   },
   {
    "duration": 769,
    "start_time": "2023-04-18T04:19:10.967Z"
   },
   {
    "duration": 5,
    "start_time": "2023-04-18T04:19:11.738Z"
   },
   {
    "duration": 18,
    "start_time": "2023-04-18T04:19:11.745Z"
   },
   {
    "duration": 9089,
    "start_time": "2023-04-18T04:19:11.766Z"
   },
   {
    "duration": 50782,
    "start_time": "2023-04-18T04:19:20.860Z"
   },
   {
    "duration": 138,
    "start_time": "2023-04-18T04:20:11.644Z"
   },
   {
    "duration": 7,
    "start_time": "2023-04-18T06:10:04.217Z"
   },
   {
    "duration": 7,
    "start_time": "2023-04-18T06:11:38.922Z"
   },
   {
    "duration": 1476,
    "start_time": "2023-04-18T06:16:01.334Z"
   },
   {
    "duration": 33,
    "start_time": "2023-04-18T06:16:02.812Z"
   },
   {
    "duration": 16,
    "start_time": "2023-04-18T06:16:02.846Z"
   },
   {
    "duration": 16,
    "start_time": "2023-04-18T06:16:02.864Z"
   },
   {
    "duration": 24,
    "start_time": "2023-04-18T06:16:02.883Z"
   },
   {
    "duration": 747,
    "start_time": "2023-04-18T06:16:02.909Z"
   },
   {
    "duration": 5,
    "start_time": "2023-04-18T06:16:03.659Z"
   },
   {
    "duration": 16,
    "start_time": "2023-04-18T06:16:03.666Z"
   },
   {
    "duration": 8649,
    "start_time": "2023-04-18T06:16:03.684Z"
   },
   {
    "duration": 48857,
    "start_time": "2023-04-18T06:16:12.335Z"
   },
   {
    "duration": 130,
    "start_time": "2023-04-18T06:17:01.194Z"
   },
   {
    "duration": 0,
    "start_time": "2023-04-18T06:17:01.326Z"
   },
   {
    "duration": 15,
    "start_time": "2023-04-18T06:17:22.081Z"
   },
   {
    "duration": 1433,
    "start_time": "2023-04-18T08:24:07.158Z"
   },
   {
    "duration": 34,
    "start_time": "2023-04-18T08:24:08.593Z"
   },
   {
    "duration": 16,
    "start_time": "2023-04-18T08:24:08.628Z"
   },
   {
    "duration": 12,
    "start_time": "2023-04-18T08:24:08.645Z"
   },
   {
    "duration": 30,
    "start_time": "2023-04-18T08:24:08.659Z"
   },
   {
    "duration": 700,
    "start_time": "2023-04-18T08:24:08.690Z"
   },
   {
    "duration": 4,
    "start_time": "2023-04-18T08:24:09.392Z"
   },
   {
    "duration": 11,
    "start_time": "2023-04-18T08:24:09.398Z"
   },
   {
    "duration": 8412,
    "start_time": "2023-04-18T08:24:09.411Z"
   },
   {
    "duration": 46846,
    "start_time": "2023-04-18T08:24:17.825Z"
   },
   {
    "duration": 127,
    "start_time": "2023-04-18T08:25:04.673Z"
   },
   {
    "duration": 0,
    "start_time": "2023-04-18T08:25:04.803Z"
   },
   {
    "duration": 1423,
    "start_time": "2023-04-18T08:25:55.617Z"
   },
   {
    "duration": 32,
    "start_time": "2023-04-18T08:25:57.042Z"
   },
   {
    "duration": 22,
    "start_time": "2023-04-18T08:25:57.076Z"
   },
   {
    "duration": 14,
    "start_time": "2023-04-18T08:25:57.100Z"
   },
   {
    "duration": 45,
    "start_time": "2023-04-18T08:25:57.117Z"
   },
   {
    "duration": 698,
    "start_time": "2023-04-18T08:25:57.164Z"
   },
   {
    "duration": 4,
    "start_time": "2023-04-18T08:25:57.864Z"
   },
   {
    "duration": 9,
    "start_time": "2023-04-18T08:25:57.870Z"
   },
   {
    "duration": 8515,
    "start_time": "2023-04-18T08:25:57.881Z"
   },
   {
    "duration": 45467,
    "start_time": "2023-04-18T08:26:06.397Z"
   },
   {
    "duration": 149,
    "start_time": "2023-04-18T08:26:51.865Z"
   },
   {
    "duration": 0,
    "start_time": "2023-04-18T08:26:52.016Z"
   },
   {
    "duration": 3522,
    "start_time": "2023-04-18T08:27:54.543Z"
   },
   {
    "duration": 3876,
    "start_time": "2023-04-18T08:28:42.112Z"
   },
   {
    "duration": 15,
    "start_time": "2023-04-18T08:32:43.749Z"
   },
   {
    "duration": 21,
    "start_time": "2023-04-18T08:33:49.754Z"
   },
   {
    "duration": 1520,
    "start_time": "2023-04-18T10:47:15.547Z"
   },
   {
    "duration": 32,
    "start_time": "2023-04-18T10:47:17.070Z"
   },
   {
    "duration": 17,
    "start_time": "2023-04-18T10:47:17.104Z"
   },
   {
    "duration": 18,
    "start_time": "2023-04-18T10:47:17.124Z"
   },
   {
    "duration": 65,
    "start_time": "2023-04-18T10:47:17.144Z"
   },
   {
    "duration": 732,
    "start_time": "2023-04-18T10:47:17.211Z"
   },
   {
    "duration": 6,
    "start_time": "2023-04-18T10:47:17.945Z"
   },
   {
    "duration": 159,
    "start_time": "2023-04-18T10:47:17.960Z"
   },
   {
    "duration": 0,
    "start_time": "2023-04-18T10:47:18.121Z"
   },
   {
    "duration": 0,
    "start_time": "2023-04-18T10:47:18.122Z"
   },
   {
    "duration": 0,
    "start_time": "2023-04-18T10:47:18.123Z"
   },
   {
    "duration": 0,
    "start_time": "2023-04-18T10:47:18.125Z"
   },
   {
    "duration": 1467,
    "start_time": "2023-04-18T10:48:19.079Z"
   },
   {
    "duration": 31,
    "start_time": "2023-04-18T10:48:20.549Z"
   },
   {
    "duration": 14,
    "start_time": "2023-04-18T10:48:20.582Z"
   },
   {
    "duration": 22,
    "start_time": "2023-04-18T10:48:20.598Z"
   },
   {
    "duration": 23,
    "start_time": "2023-04-18T10:48:20.622Z"
   },
   {
    "duration": 667,
    "start_time": "2023-04-18T10:48:20.647Z"
   },
   {
    "duration": 6,
    "start_time": "2023-04-18T10:48:21.316Z"
   },
   {
    "duration": 9,
    "start_time": "2023-04-18T10:48:21.323Z"
   },
   {
    "duration": 9481,
    "start_time": "2023-04-18T10:48:21.334Z"
   },
   {
    "duration": 130,
    "start_time": "2023-04-18T10:48:30.816Z"
   },
   {
    "duration": 0,
    "start_time": "2023-04-18T10:48:30.948Z"
   },
   {
    "duration": 0,
    "start_time": "2023-04-18T10:48:30.950Z"
   },
   {
    "duration": 1372,
    "start_time": "2023-04-18T10:50:04.023Z"
   },
   {
    "duration": 32,
    "start_time": "2023-04-18T10:50:05.397Z"
   },
   {
    "duration": 15,
    "start_time": "2023-04-18T10:50:05.431Z"
   },
   {
    "duration": 12,
    "start_time": "2023-04-18T10:50:05.448Z"
   },
   {
    "duration": 35,
    "start_time": "2023-04-18T10:50:05.462Z"
   },
   {
    "duration": 690,
    "start_time": "2023-04-18T10:50:05.498Z"
   },
   {
    "duration": 7,
    "start_time": "2023-04-18T10:50:06.189Z"
   },
   {
    "duration": 7,
    "start_time": "2023-04-18T10:50:06.197Z"
   },
   {
    "duration": 9526,
    "start_time": "2023-04-18T10:50:06.206Z"
   },
   {
    "duration": 51388,
    "start_time": "2023-04-18T10:50:15.735Z"
   },
   {
    "duration": 115,
    "start_time": "2023-04-18T10:51:07.125Z"
   },
   {
    "duration": 0,
    "start_time": "2023-04-18T10:51:07.241Z"
   },
   {
    "duration": 1426,
    "start_time": "2023-04-18T10:59:26.040Z"
   },
   {
    "duration": 32,
    "start_time": "2023-04-18T10:59:27.467Z"
   },
   {
    "duration": 15,
    "start_time": "2023-04-18T10:59:27.501Z"
   },
   {
    "duration": 11,
    "start_time": "2023-04-18T10:59:27.517Z"
   },
   {
    "duration": 23,
    "start_time": "2023-04-18T10:59:27.530Z"
   },
   {
    "duration": 678,
    "start_time": "2023-04-18T10:59:27.554Z"
   },
   {
    "duration": 6,
    "start_time": "2023-04-18T10:59:28.233Z"
   },
   {
    "duration": 18,
    "start_time": "2023-04-18T10:59:28.241Z"
   },
   {
    "duration": 9477,
    "start_time": "2023-04-18T10:59:28.261Z"
   },
   {
    "duration": 51038,
    "start_time": "2023-04-18T10:59:37.740Z"
   },
   {
    "duration": 1382,
    "start_time": "2023-04-18T11:02:49.891Z"
   },
   {
    "duration": 32,
    "start_time": "2023-04-18T11:02:51.275Z"
   },
   {
    "duration": 15,
    "start_time": "2023-04-18T11:02:51.309Z"
   },
   {
    "duration": 12,
    "start_time": "2023-04-18T11:02:51.325Z"
   },
   {
    "duration": 37,
    "start_time": "2023-04-18T11:02:51.339Z"
   },
   {
    "duration": 659,
    "start_time": "2023-04-18T11:02:51.377Z"
   },
   {
    "duration": 6,
    "start_time": "2023-04-18T11:02:52.038Z"
   },
   {
    "duration": 32,
    "start_time": "2023-04-18T11:02:52.046Z"
   },
   {
    "duration": 9744,
    "start_time": "2023-04-18T11:02:52.080Z"
   },
   {
    "duration": 50978,
    "start_time": "2023-04-18T11:03:01.826Z"
   },
   {
    "duration": 1404,
    "start_time": "2023-04-18T11:11:43.906Z"
   },
   {
    "duration": 30,
    "start_time": "2023-04-18T11:11:45.312Z"
   },
   {
    "duration": 15,
    "start_time": "2023-04-18T11:11:45.344Z"
   },
   {
    "duration": 15,
    "start_time": "2023-04-18T11:11:45.361Z"
   },
   {
    "duration": 25,
    "start_time": "2023-04-18T11:11:45.378Z"
   },
   {
    "duration": 685,
    "start_time": "2023-04-18T11:11:45.404Z"
   },
   {
    "duration": 6,
    "start_time": "2023-04-18T11:11:46.091Z"
   },
   {
    "duration": 10,
    "start_time": "2023-04-18T11:11:46.099Z"
   },
   {
    "duration": 9783,
    "start_time": "2023-04-18T11:11:46.111Z"
   },
   {
    "duration": 50870,
    "start_time": "2023-04-18T11:11:55.895Z"
   },
   {
    "duration": 501,
    "start_time": "2023-04-18T11:12:46.767Z"
   },
   {
    "duration": 201,
    "start_time": "2023-04-18T11:12:47.361Z"
   },
   {
    "duration": 1510,
    "start_time": "2023-04-18T11:17:29.432Z"
   },
   {
    "duration": 31,
    "start_time": "2023-04-18T11:17:30.945Z"
   },
   {
    "duration": 35,
    "start_time": "2023-04-18T11:17:30.978Z"
   },
   {
    "duration": 36,
    "start_time": "2023-04-18T11:17:31.015Z"
   },
   {
    "duration": 43,
    "start_time": "2023-04-18T11:17:31.053Z"
   },
   {
    "duration": 715,
    "start_time": "2023-04-18T11:17:31.097Z"
   },
   {
    "duration": 6,
    "start_time": "2023-04-18T11:17:31.814Z"
   },
   {
    "duration": 35,
    "start_time": "2023-04-18T11:17:31.821Z"
   },
   {
    "duration": 9724,
    "start_time": "2023-04-18T11:17:31.858Z"
   },
   {
    "duration": 51279,
    "start_time": "2023-04-18T11:17:41.584Z"
   },
   {
    "duration": 699,
    "start_time": "2023-04-18T11:18:32.865Z"
   },
   {
    "duration": 106,
    "start_time": "2023-04-18T11:18:33.568Z"
   },
   {
    "duration": 1493,
    "start_time": "2023-04-19T03:28:32.104Z"
   },
   {
    "duration": 129,
    "start_time": "2023-04-19T03:28:33.599Z"
   },
   {
    "duration": 26,
    "start_time": "2023-04-19T03:28:33.730Z"
   },
   {
    "duration": 14,
    "start_time": "2023-04-19T03:28:33.767Z"
   },
   {
    "duration": 25,
    "start_time": "2023-04-19T03:28:33.783Z"
   },
   {
    "duration": 664,
    "start_time": "2023-04-19T03:28:33.810Z"
   },
   {
    "duration": 6,
    "start_time": "2023-04-19T03:28:34.475Z"
   },
   {
    "duration": 21,
    "start_time": "2023-04-19T03:28:34.483Z"
   },
   {
    "duration": 9867,
    "start_time": "2023-04-19T03:28:34.505Z"
   },
   {
    "duration": 51397,
    "start_time": "2023-04-19T03:28:44.375Z"
   },
   {
    "duration": 1802,
    "start_time": "2023-04-19T03:29:35.773Z"
   },
   {
    "duration": 31,
    "start_time": "2023-04-19T03:29:37.637Z"
   },
   {
    "duration": 2968,
    "start_time": "2023-04-19T17:25:35.994Z"
   },
   {
    "duration": 203,
    "start_time": "2023-04-19T17:25:38.968Z"
   },
   {
    "duration": 30,
    "start_time": "2023-04-19T17:25:39.173Z"
   },
   {
    "duration": 37,
    "start_time": "2023-04-19T17:25:39.206Z"
   },
   {
    "duration": 44,
    "start_time": "2023-04-19T17:25:39.250Z"
   },
   {
    "duration": 1058,
    "start_time": "2023-04-19T17:25:39.296Z"
   },
   {
    "duration": 7,
    "start_time": "2023-04-19T17:26:11.895Z"
   },
   {
    "duration": 14,
    "start_time": "2023-04-19T17:26:37.848Z"
   },
   {
    "duration": 14113,
    "start_time": "2023-04-19T17:26:38.803Z"
   },
   {
    "duration": 73003,
    "start_time": "2023-04-19T17:26:55.289Z"
   },
   {
    "duration": 1654,
    "start_time": "2023-04-19T17:28:08.295Z"
   },
   {
    "duration": 57,
    "start_time": "2023-04-20T05:44:37.103Z"
   },
   {
    "duration": 1585,
    "start_time": "2023-04-20T05:44:46.324Z"
   },
   {
    "duration": 67,
    "start_time": "2023-04-20T05:44:47.912Z"
   },
   {
    "duration": 15,
    "start_time": "2023-04-20T05:44:47.981Z"
   },
   {
    "duration": 12,
    "start_time": "2023-04-20T05:44:47.998Z"
   },
   {
    "duration": 27,
    "start_time": "2023-04-20T05:44:48.012Z"
   },
   {
    "duration": 679,
    "start_time": "2023-04-20T05:44:48.041Z"
   },
   {
    "duration": 6,
    "start_time": "2023-04-20T05:44:48.722Z"
   },
   {
    "duration": 6,
    "start_time": "2023-04-20T05:44:48.730Z"
   },
   {
    "duration": 9873,
    "start_time": "2023-04-20T05:44:48.738Z"
   },
   {
    "duration": 52134,
    "start_time": "2023-04-20T05:44:58.614Z"
   },
   {
    "duration": 462,
    "start_time": "2023-04-20T05:45:50.750Z"
   },
   {
    "duration": 101,
    "start_time": "2023-04-20T05:45:51.214Z"
   },
   {
    "duration": 1430,
    "start_time": "2023-04-20T05:48:38.096Z"
   },
   {
    "duration": 32,
    "start_time": "2023-04-20T05:48:39.528Z"
   },
   {
    "duration": 15,
    "start_time": "2023-04-20T05:48:39.561Z"
   },
   {
    "duration": 12,
    "start_time": "2023-04-20T05:48:39.579Z"
   },
   {
    "duration": 34,
    "start_time": "2023-04-20T05:48:39.592Z"
   },
   {
    "duration": 691,
    "start_time": "2023-04-20T05:48:39.627Z"
   },
   {
    "duration": 7,
    "start_time": "2023-04-20T05:48:40.320Z"
   },
   {
    "duration": 43,
    "start_time": "2023-04-20T05:48:40.328Z"
   },
   {
    "duration": 9767,
    "start_time": "2023-04-20T05:48:40.373Z"
   },
   {
    "duration": 52095,
    "start_time": "2023-04-20T05:48:50.143Z"
   },
   {
    "duration": 1480,
    "start_time": "2023-04-20T05:49:42.239Z"
   },
   {
    "duration": 127,
    "start_time": "2023-04-20T05:49:43.722Z"
   },
   {
    "duration": 1474,
    "start_time": "2023-04-20T05:53:08.876Z"
   },
   {
    "duration": 32,
    "start_time": "2023-04-20T05:53:10.352Z"
   },
   {
    "duration": 16,
    "start_time": "2023-04-20T05:53:10.386Z"
   },
   {
    "duration": 12,
    "start_time": "2023-04-20T05:53:10.404Z"
   },
   {
    "duration": 27,
    "start_time": "2023-04-20T05:53:10.418Z"
   },
   {
    "duration": 703,
    "start_time": "2023-04-20T05:53:10.447Z"
   },
   {
    "duration": 8,
    "start_time": "2023-04-20T05:53:11.152Z"
   },
   {
    "duration": 7,
    "start_time": "2023-04-20T05:53:11.162Z"
   },
   {
    "duration": 9968,
    "start_time": "2023-04-20T05:53:11.171Z"
   },
   {
    "duration": 77,
    "start_time": "2023-04-20T05:53:21.142Z"
   },
   {
    "duration": 0,
    "start_time": "2023-04-20T05:53:21.221Z"
   },
   {
    "duration": 0,
    "start_time": "2023-04-20T05:53:21.222Z"
   },
   {
    "duration": 1541,
    "start_time": "2023-04-20T05:55:24.509Z"
   },
   {
    "duration": 31,
    "start_time": "2023-04-20T05:55:26.052Z"
   },
   {
    "duration": 16,
    "start_time": "2023-04-20T05:55:26.085Z"
   },
   {
    "duration": 13,
    "start_time": "2023-04-20T05:55:26.103Z"
   },
   {
    "duration": 27,
    "start_time": "2023-04-20T05:55:26.119Z"
   },
   {
    "duration": 799,
    "start_time": "2023-04-20T05:55:26.150Z"
   },
   {
    "duration": 9,
    "start_time": "2023-04-20T05:55:26.951Z"
   },
   {
    "duration": 8,
    "start_time": "2023-04-20T05:55:26.963Z"
   },
   {
    "duration": 10900,
    "start_time": "2023-04-20T05:55:26.973Z"
   },
   {
    "duration": 62910,
    "start_time": "2023-04-20T05:55:37.875Z"
   },
   {
    "duration": 625,
    "start_time": "2023-04-20T05:56:40.787Z"
   },
   {
    "duration": 147,
    "start_time": "2023-04-20T05:56:41.424Z"
   },
   {
    "duration": 1694,
    "start_time": "2023-04-20T06:11:17.898Z"
   },
   {
    "duration": 49,
    "start_time": "2023-04-20T06:11:19.598Z"
   },
   {
    "duration": 25,
    "start_time": "2023-04-20T06:11:19.651Z"
   },
   {
    "duration": 28,
    "start_time": "2023-04-20T06:11:19.678Z"
   },
   {
    "duration": 57,
    "start_time": "2023-04-20T06:11:19.710Z"
   },
   {
    "duration": 763,
    "start_time": "2023-04-20T06:11:19.769Z"
   },
   {
    "duration": 6,
    "start_time": "2023-04-20T06:11:20.534Z"
   },
   {
    "duration": 7,
    "start_time": "2023-04-20T06:11:20.542Z"
   },
   {
    "duration": 11035,
    "start_time": "2023-04-20T06:11:20.551Z"
   },
   {
    "duration": 58690,
    "start_time": "2023-04-20T06:11:31.588Z"
   },
   {
    "duration": 2239,
    "start_time": "2023-04-20T06:12:30.280Z"
   },
   {
    "duration": 100,
    "start_time": "2023-04-20T06:12:32.526Z"
   },
   {
    "duration": 1583,
    "start_time": "2023-04-20T06:14:14.341Z"
   },
   {
    "duration": 33,
    "start_time": "2023-04-20T06:14:15.932Z"
   },
   {
    "duration": 17,
    "start_time": "2023-04-20T06:14:15.967Z"
   },
   {
    "duration": 22,
    "start_time": "2023-04-20T06:14:15.986Z"
   },
   {
    "duration": 46,
    "start_time": "2023-04-20T06:14:16.016Z"
   },
   {
    "duration": 766,
    "start_time": "2023-04-20T06:14:16.064Z"
   },
   {
    "duration": 8,
    "start_time": "2023-04-20T06:14:16.836Z"
   },
   {
    "duration": 28,
    "start_time": "2023-04-20T06:14:16.846Z"
   },
   {
    "duration": 10806,
    "start_time": "2023-04-20T06:14:16.876Z"
   },
   {
    "duration": 58017,
    "start_time": "2023-04-20T06:14:27.684Z"
   },
   {
    "duration": 1519,
    "start_time": "2023-04-20T06:15:25.704Z"
   },
   {
    "duration": 95,
    "start_time": "2023-04-20T06:15:27.235Z"
   },
   {
    "duration": 1693,
    "start_time": "2023-04-20T08:22:49.218Z"
   },
   {
    "duration": 46,
    "start_time": "2023-04-20T08:22:50.916Z"
   },
   {
    "duration": 18,
    "start_time": "2023-04-20T08:22:50.964Z"
   },
   {
    "duration": 12,
    "start_time": "2023-04-20T08:22:50.985Z"
   },
   {
    "duration": 51,
    "start_time": "2023-04-20T08:22:50.999Z"
   },
   {
    "duration": 1714,
    "start_time": "2023-04-20T08:22:51.052Z"
   },
   {
    "duration": 8,
    "start_time": "2023-04-20T08:22:52.768Z"
   },
   {
    "duration": 48,
    "start_time": "2023-04-20T08:22:52.778Z"
   },
   {
    "duration": 11761,
    "start_time": "2023-04-20T08:22:52.853Z"
   },
   {
    "duration": 63064,
    "start_time": "2023-04-20T08:23:04.625Z"
   },
   {
    "duration": 2751,
    "start_time": "2023-04-20T08:24:07.692Z"
   },
   {
    "duration": 87,
    "start_time": "2023-04-20T08:24:10.450Z"
   },
   {
    "duration": 1601,
    "start_time": "2023-04-20T08:37:48.542Z"
   },
   {
    "duration": 33,
    "start_time": "2023-04-20T08:37:50.148Z"
   },
   {
    "duration": 21,
    "start_time": "2023-04-20T08:37:50.184Z"
   },
   {
    "duration": 16,
    "start_time": "2023-04-20T08:37:50.207Z"
   },
   {
    "duration": 35,
    "start_time": "2023-04-20T08:37:50.225Z"
   },
   {
    "duration": 832,
    "start_time": "2023-04-20T08:37:50.263Z"
   },
   {
    "duration": 22,
    "start_time": "2023-04-20T08:37:51.097Z"
   },
   {
    "duration": 23,
    "start_time": "2023-04-20T08:37:51.124Z"
   },
   {
    "duration": 11433,
    "start_time": "2023-04-20T08:37:51.149Z"
   },
   {
    "duration": 60202,
    "start_time": "2023-04-20T08:38:02.584Z"
   },
   {
    "duration": 3231,
    "start_time": "2023-04-20T08:39:02.788Z"
   },
   {
    "duration": 100,
    "start_time": "2023-04-20T08:39:06.030Z"
   }
  ],
  "kernelspec": {
   "display_name": "Python 3 (ipykernel)",
   "language": "python",
   "name": "python3"
  },
  "language_info": {
   "codemirror_mode": {
    "name": "ipython",
    "version": 3
   },
   "file_extension": ".py",
   "mimetype": "text/x-python",
   "name": "python",
   "nbconvert_exporter": "python",
   "pygments_lexer": "ipython3",
   "version": "3.9.5"
  },
  "toc": {
   "base_numbering": 1,
   "nav_menu": {},
   "number_sections": true,
   "sideBar": true,
   "skip_h1_title": true,
   "title_cell": "Table of Contents",
   "title_sidebar": "Contents",
   "toc_cell": false,
   "toc_position": {
    "height": "calc(100% - 180px)",
    "left": "10px",
    "top": "150px",
    "width": "317px"
   },
   "toc_section_display": true,
   "toc_window_display": true
  }
 },
 "nbformat": 4,
 "nbformat_minor": 2
}
