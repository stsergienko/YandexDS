{
 "cells": [
  {
   "cell_type": "markdown",
   "metadata": {},
   "source": [
    "# Исследование объявлений о продаже квартир\n",
    "\n",
    "В вашем распоряжении данные сервиса Яндекс.Недвижимость — архив объявлений о продаже квартир в Санкт-Петербурге и соседних населённых пунктов за несколько лет. Нужно научиться определять рыночную стоимость объектов недвижимости. Ваша задача — установить параметры. Это позволит построить автоматизированную систему: она отследит аномалии и мошенническую деятельность. \n",
    "\n",
    "По каждой квартире на продажу доступны два вида данных. Первые вписаны пользователем, вторые — получены автоматически на основе картографических данных. Например, расстояние до центра, аэропорта, ближайшего парка и водоёма. "
   ]
  },
  {
   "cell_type": "markdown",
   "metadata": {},
   "source": [
    "### Откройте файл с данными и изучите общую информацию. "
   ]
  },
  {
   "cell_type": "code",
   "execution_count": 1,
   "metadata": {
    "scrolled": true
   },
   "outputs": [
    {
     "data": {
      "text/html": [
       "<div>\n",
       "<style scoped>\n",
       "    .dataframe tbody tr th:only-of-type {\n",
       "        vertical-align: middle;\n",
       "    }\n",
       "\n",
       "    .dataframe tbody tr th {\n",
       "        vertical-align: top;\n",
       "    }\n",
       "\n",
       "    .dataframe thead th {\n",
       "        text-align: right;\n",
       "    }\n",
       "</style>\n",
       "<table border=\"1\" class=\"dataframe\">\n",
       "  <thead>\n",
       "    <tr style=\"text-align: right;\">\n",
       "      <th></th>\n",
       "      <th>total_images</th>\n",
       "      <th>last_price</th>\n",
       "      <th>total_area</th>\n",
       "      <th>first_day_exposition</th>\n",
       "      <th>rooms</th>\n",
       "      <th>ceiling_height</th>\n",
       "      <th>floors_total</th>\n",
       "      <th>living_area</th>\n",
       "      <th>floor</th>\n",
       "      <th>is_apartment</th>\n",
       "      <th>studio</th>\n",
       "      <th>open_plan</th>\n",
       "      <th>kitchen_area</th>\n",
       "      <th>balcony</th>\n",
       "      <th>locality_name</th>\n",
       "      <th>airports_nearest</th>\n",
       "      <th>cityCenters_nearest</th>\n",
       "      <th>parks_around3000</th>\n",
       "      <th>parks_nearest</th>\n",
       "      <th>ponds_around3000</th>\n",
       "      <th>ponds_nearest</th>\n",
       "      <th>days_exposition</th>\n",
       "    </tr>\n",
       "  </thead>\n",
       "  <tbody>\n",
       "    <tr>\n",
       "      <th>0</th>\n",
       "      <td>20</td>\n",
       "      <td>13000000.0</td>\n",
       "      <td>108.00</td>\n",
       "      <td>2019-03-07T00:00:00</td>\n",
       "      <td>3</td>\n",
       "      <td>2.70</td>\n",
       "      <td>16.0</td>\n",
       "      <td>51.00</td>\n",
       "      <td>8</td>\n",
       "      <td>NaN</td>\n",
       "      <td>False</td>\n",
       "      <td>False</td>\n",
       "      <td>25.00</td>\n",
       "      <td>NaN</td>\n",
       "      <td>Санкт-Петербург</td>\n",
       "      <td>18863.0</td>\n",
       "      <td>16028.0</td>\n",
       "      <td>1.0</td>\n",
       "      <td>482.0</td>\n",
       "      <td>2.0</td>\n",
       "      <td>755.0</td>\n",
       "      <td>NaN</td>\n",
       "    </tr>\n",
       "    <tr>\n",
       "      <th>1</th>\n",
       "      <td>7</td>\n",
       "      <td>3350000.0</td>\n",
       "      <td>40.40</td>\n",
       "      <td>2018-12-04T00:00:00</td>\n",
       "      <td>1</td>\n",
       "      <td>NaN</td>\n",
       "      <td>11.0</td>\n",
       "      <td>18.60</td>\n",
       "      <td>1</td>\n",
       "      <td>NaN</td>\n",
       "      <td>False</td>\n",
       "      <td>False</td>\n",
       "      <td>11.00</td>\n",
       "      <td>2.0</td>\n",
       "      <td>посёлок Шушары</td>\n",
       "      <td>12817.0</td>\n",
       "      <td>18603.0</td>\n",
       "      <td>0.0</td>\n",
       "      <td>NaN</td>\n",
       "      <td>0.0</td>\n",
       "      <td>NaN</td>\n",
       "      <td>81.0</td>\n",
       "    </tr>\n",
       "    <tr>\n",
       "      <th>2</th>\n",
       "      <td>10</td>\n",
       "      <td>5196000.0</td>\n",
       "      <td>56.00</td>\n",
       "      <td>2015-08-20T00:00:00</td>\n",
       "      <td>2</td>\n",
       "      <td>NaN</td>\n",
       "      <td>5.0</td>\n",
       "      <td>34.30</td>\n",
       "      <td>4</td>\n",
       "      <td>NaN</td>\n",
       "      <td>False</td>\n",
       "      <td>False</td>\n",
       "      <td>8.30</td>\n",
       "      <td>0.0</td>\n",
       "      <td>Санкт-Петербург</td>\n",
       "      <td>21741.0</td>\n",
       "      <td>13933.0</td>\n",
       "      <td>1.0</td>\n",
       "      <td>90.0</td>\n",
       "      <td>2.0</td>\n",
       "      <td>574.0</td>\n",
       "      <td>558.0</td>\n",
       "    </tr>\n",
       "    <tr>\n",
       "      <th>3</th>\n",
       "      <td>0</td>\n",
       "      <td>64900000.0</td>\n",
       "      <td>159.00</td>\n",
       "      <td>2015-07-24T00:00:00</td>\n",
       "      <td>3</td>\n",
       "      <td>NaN</td>\n",
       "      <td>14.0</td>\n",
       "      <td>NaN</td>\n",
       "      <td>9</td>\n",
       "      <td>NaN</td>\n",
       "      <td>False</td>\n",
       "      <td>False</td>\n",
       "      <td>NaN</td>\n",
       "      <td>0.0</td>\n",
       "      <td>Санкт-Петербург</td>\n",
       "      <td>28098.0</td>\n",
       "      <td>6800.0</td>\n",
       "      <td>2.0</td>\n",
       "      <td>84.0</td>\n",
       "      <td>3.0</td>\n",
       "      <td>234.0</td>\n",
       "      <td>424.0</td>\n",
       "    </tr>\n",
       "    <tr>\n",
       "      <th>4</th>\n",
       "      <td>2</td>\n",
       "      <td>10000000.0</td>\n",
       "      <td>100.00</td>\n",
       "      <td>2018-06-19T00:00:00</td>\n",
       "      <td>2</td>\n",
       "      <td>3.03</td>\n",
       "      <td>14.0</td>\n",
       "      <td>32.00</td>\n",
       "      <td>13</td>\n",
       "      <td>NaN</td>\n",
       "      <td>False</td>\n",
       "      <td>False</td>\n",
       "      <td>41.00</td>\n",
       "      <td>NaN</td>\n",
       "      <td>Санкт-Петербург</td>\n",
       "      <td>31856.0</td>\n",
       "      <td>8098.0</td>\n",
       "      <td>2.0</td>\n",
       "      <td>112.0</td>\n",
       "      <td>1.0</td>\n",
       "      <td>48.0</td>\n",
       "      <td>121.0</td>\n",
       "    </tr>\n",
       "    <tr>\n",
       "      <th>5</th>\n",
       "      <td>10</td>\n",
       "      <td>2890000.0</td>\n",
       "      <td>30.40</td>\n",
       "      <td>2018-09-10T00:00:00</td>\n",
       "      <td>1</td>\n",
       "      <td>NaN</td>\n",
       "      <td>12.0</td>\n",
       "      <td>14.40</td>\n",
       "      <td>5</td>\n",
       "      <td>NaN</td>\n",
       "      <td>False</td>\n",
       "      <td>False</td>\n",
       "      <td>9.10</td>\n",
       "      <td>NaN</td>\n",
       "      <td>городской посёлок Янино-1</td>\n",
       "      <td>NaN</td>\n",
       "      <td>NaN</td>\n",
       "      <td>NaN</td>\n",
       "      <td>NaN</td>\n",
       "      <td>NaN</td>\n",
       "      <td>NaN</td>\n",
       "      <td>55.0</td>\n",
       "    </tr>\n",
       "    <tr>\n",
       "      <th>6</th>\n",
       "      <td>6</td>\n",
       "      <td>3700000.0</td>\n",
       "      <td>37.30</td>\n",
       "      <td>2017-11-02T00:00:00</td>\n",
       "      <td>1</td>\n",
       "      <td>NaN</td>\n",
       "      <td>26.0</td>\n",
       "      <td>10.60</td>\n",
       "      <td>6</td>\n",
       "      <td>NaN</td>\n",
       "      <td>False</td>\n",
       "      <td>False</td>\n",
       "      <td>14.40</td>\n",
       "      <td>1.0</td>\n",
       "      <td>посёлок Парголово</td>\n",
       "      <td>52996.0</td>\n",
       "      <td>19143.0</td>\n",
       "      <td>0.0</td>\n",
       "      <td>NaN</td>\n",
       "      <td>0.0</td>\n",
       "      <td>NaN</td>\n",
       "      <td>155.0</td>\n",
       "    </tr>\n",
       "    <tr>\n",
       "      <th>7</th>\n",
       "      <td>5</td>\n",
       "      <td>7915000.0</td>\n",
       "      <td>71.60</td>\n",
       "      <td>2019-04-18T00:00:00</td>\n",
       "      <td>2</td>\n",
       "      <td>NaN</td>\n",
       "      <td>24.0</td>\n",
       "      <td>NaN</td>\n",
       "      <td>22</td>\n",
       "      <td>NaN</td>\n",
       "      <td>False</td>\n",
       "      <td>False</td>\n",
       "      <td>18.90</td>\n",
       "      <td>2.0</td>\n",
       "      <td>Санкт-Петербург</td>\n",
       "      <td>23982.0</td>\n",
       "      <td>11634.0</td>\n",
       "      <td>0.0</td>\n",
       "      <td>NaN</td>\n",
       "      <td>0.0</td>\n",
       "      <td>NaN</td>\n",
       "      <td>NaN</td>\n",
       "    </tr>\n",
       "    <tr>\n",
       "      <th>8</th>\n",
       "      <td>20</td>\n",
       "      <td>2900000.0</td>\n",
       "      <td>33.16</td>\n",
       "      <td>2018-05-23T00:00:00</td>\n",
       "      <td>1</td>\n",
       "      <td>NaN</td>\n",
       "      <td>27.0</td>\n",
       "      <td>15.43</td>\n",
       "      <td>26</td>\n",
       "      <td>NaN</td>\n",
       "      <td>False</td>\n",
       "      <td>False</td>\n",
       "      <td>8.81</td>\n",
       "      <td>NaN</td>\n",
       "      <td>посёлок Мурино</td>\n",
       "      <td>NaN</td>\n",
       "      <td>NaN</td>\n",
       "      <td>NaN</td>\n",
       "      <td>NaN</td>\n",
       "      <td>NaN</td>\n",
       "      <td>NaN</td>\n",
       "      <td>189.0</td>\n",
       "    </tr>\n",
       "    <tr>\n",
       "      <th>9</th>\n",
       "      <td>18</td>\n",
       "      <td>5400000.0</td>\n",
       "      <td>61.00</td>\n",
       "      <td>2017-02-26T00:00:00</td>\n",
       "      <td>3</td>\n",
       "      <td>2.50</td>\n",
       "      <td>9.0</td>\n",
       "      <td>43.60</td>\n",
       "      <td>7</td>\n",
       "      <td>NaN</td>\n",
       "      <td>False</td>\n",
       "      <td>False</td>\n",
       "      <td>6.50</td>\n",
       "      <td>2.0</td>\n",
       "      <td>Санкт-Петербург</td>\n",
       "      <td>50898.0</td>\n",
       "      <td>15008.0</td>\n",
       "      <td>0.0</td>\n",
       "      <td>NaN</td>\n",
       "      <td>0.0</td>\n",
       "      <td>NaN</td>\n",
       "      <td>289.0</td>\n",
       "    </tr>\n",
       "  </tbody>\n",
       "</table>\n",
       "</div>"
      ],
      "text/plain": [
       "   total_images  last_price  total_area first_day_exposition  rooms  \\\n",
       "0            20  13000000.0      108.00  2019-03-07T00:00:00      3   \n",
       "1             7   3350000.0       40.40  2018-12-04T00:00:00      1   \n",
       "2            10   5196000.0       56.00  2015-08-20T00:00:00      2   \n",
       "3             0  64900000.0      159.00  2015-07-24T00:00:00      3   \n",
       "4             2  10000000.0      100.00  2018-06-19T00:00:00      2   \n",
       "5            10   2890000.0       30.40  2018-09-10T00:00:00      1   \n",
       "6             6   3700000.0       37.30  2017-11-02T00:00:00      1   \n",
       "7             5   7915000.0       71.60  2019-04-18T00:00:00      2   \n",
       "8            20   2900000.0       33.16  2018-05-23T00:00:00      1   \n",
       "9            18   5400000.0       61.00  2017-02-26T00:00:00      3   \n",
       "\n",
       "   ceiling_height  floors_total  living_area  floor is_apartment  studio  \\\n",
       "0            2.70          16.0        51.00      8          NaN   False   \n",
       "1             NaN          11.0        18.60      1          NaN   False   \n",
       "2             NaN           5.0        34.30      4          NaN   False   \n",
       "3             NaN          14.0          NaN      9          NaN   False   \n",
       "4            3.03          14.0        32.00     13          NaN   False   \n",
       "5             NaN          12.0        14.40      5          NaN   False   \n",
       "6             NaN          26.0        10.60      6          NaN   False   \n",
       "7             NaN          24.0          NaN     22          NaN   False   \n",
       "8             NaN          27.0        15.43     26          NaN   False   \n",
       "9            2.50           9.0        43.60      7          NaN   False   \n",
       "\n",
       "   open_plan  kitchen_area  balcony              locality_name  \\\n",
       "0      False         25.00      NaN            Санкт-Петербург   \n",
       "1      False         11.00      2.0             посёлок Шушары   \n",
       "2      False          8.30      0.0            Санкт-Петербург   \n",
       "3      False           NaN      0.0            Санкт-Петербург   \n",
       "4      False         41.00      NaN            Санкт-Петербург   \n",
       "5      False          9.10      NaN  городской посёлок Янино-1   \n",
       "6      False         14.40      1.0          посёлок Парголово   \n",
       "7      False         18.90      2.0            Санкт-Петербург   \n",
       "8      False          8.81      NaN             посёлок Мурино   \n",
       "9      False          6.50      2.0            Санкт-Петербург   \n",
       "\n",
       "   airports_nearest  cityCenters_nearest  parks_around3000  parks_nearest  \\\n",
       "0           18863.0              16028.0               1.0          482.0   \n",
       "1           12817.0              18603.0               0.0            NaN   \n",
       "2           21741.0              13933.0               1.0           90.0   \n",
       "3           28098.0               6800.0               2.0           84.0   \n",
       "4           31856.0               8098.0               2.0          112.0   \n",
       "5               NaN                  NaN               NaN            NaN   \n",
       "6           52996.0              19143.0               0.0            NaN   \n",
       "7           23982.0              11634.0               0.0            NaN   \n",
       "8               NaN                  NaN               NaN            NaN   \n",
       "9           50898.0              15008.0               0.0            NaN   \n",
       "\n",
       "   ponds_around3000  ponds_nearest  days_exposition  \n",
       "0               2.0          755.0              NaN  \n",
       "1               0.0            NaN             81.0  \n",
       "2               2.0          574.0            558.0  \n",
       "3               3.0          234.0            424.0  \n",
       "4               1.0           48.0            121.0  \n",
       "5               NaN            NaN             55.0  \n",
       "6               0.0            NaN            155.0  \n",
       "7               0.0            NaN              NaN  \n",
       "8               NaN            NaN            189.0  \n",
       "9               0.0            NaN            289.0  "
      ]
     },
     "execution_count": 1,
     "metadata": {},
     "output_type": "execute_result"
    }
   ],
   "source": [
    "# Импортируем библиотеки\n",
    "import pandas as pd\n",
    "import matplotlib.pyplot as plt\n",
    "\n",
    "# Загрузим данные из файла в датафрейм\n",
    "try:\n",
    "    data = pd.read_csv('/datasets/real_estate_data.csv', sep='\\t')\n",
    "except:\n",
    "    data = pd.read_csv('real_estate_data.csv', sep='\\t')\n",
    "    \n",
    "# Для удобства отобразим все колонки\n",
    "pd.set_option('display.max_columns', None)\n",
    "    \n",
    "# Проверим результат, выведем первые 10 строк датафрейма\n",
    "data.head(10)"
   ]
  },
  {
   "cell_type": "code",
   "execution_count": 2,
   "metadata": {},
   "outputs": [
    {
     "name": "stdout",
     "output_type": "stream",
     "text": [
      "<class 'pandas.core.frame.DataFrame'>\n",
      "RangeIndex: 23699 entries, 0 to 23698\n",
      "Data columns (total 22 columns):\n",
      " #   Column                Non-Null Count  Dtype  \n",
      "---  ------                --------------  -----  \n",
      " 0   total_images          23699 non-null  int64  \n",
      " 1   last_price            23699 non-null  float64\n",
      " 2   total_area            23699 non-null  float64\n",
      " 3   first_day_exposition  23699 non-null  object \n",
      " 4   rooms                 23699 non-null  int64  \n",
      " 5   ceiling_height        14504 non-null  float64\n",
      " 6   floors_total          23613 non-null  float64\n",
      " 7   living_area           21796 non-null  float64\n",
      " 8   floor                 23699 non-null  int64  \n",
      " 9   is_apartment          2775 non-null   object \n",
      " 10  studio                23699 non-null  bool   \n",
      " 11  open_plan             23699 non-null  bool   \n",
      " 12  kitchen_area          21421 non-null  float64\n",
      " 13  balcony               12180 non-null  float64\n",
      " 14  locality_name         23650 non-null  object \n",
      " 15  airports_nearest      18157 non-null  float64\n",
      " 16  cityCenters_nearest   18180 non-null  float64\n",
      " 17  parks_around3000      18181 non-null  float64\n",
      " 18  parks_nearest         8079 non-null   float64\n",
      " 19  ponds_around3000      18181 non-null  float64\n",
      " 20  ponds_nearest         9110 non-null   float64\n",
      " 21  days_exposition       20518 non-null  float64\n",
      "dtypes: bool(2), float64(14), int64(3), object(3)\n",
      "memory usage: 3.7+ MB\n"
     ]
    }
   ],
   "source": [
    "# Выведем общую информацию о датафрейме\n",
    "data.info()"
   ]
  },
  {
   "cell_type": "code",
   "execution_count": 3,
   "metadata": {},
   "outputs": [
    {
     "data": {
      "text/html": [
       "<div>\n",
       "<style scoped>\n",
       "    .dataframe tbody tr th:only-of-type {\n",
       "        vertical-align: middle;\n",
       "    }\n",
       "\n",
       "    .dataframe tbody tr th {\n",
       "        vertical-align: top;\n",
       "    }\n",
       "\n",
       "    .dataframe thead th {\n",
       "        text-align: right;\n",
       "    }\n",
       "</style>\n",
       "<table border=\"1\" class=\"dataframe\">\n",
       "  <thead>\n",
       "    <tr style=\"text-align: right;\">\n",
       "      <th></th>\n",
       "      <th>total_images</th>\n",
       "      <th>last_price</th>\n",
       "      <th>total_area</th>\n",
       "      <th>rooms</th>\n",
       "      <th>ceiling_height</th>\n",
       "      <th>floors_total</th>\n",
       "      <th>living_area</th>\n",
       "      <th>floor</th>\n",
       "      <th>kitchen_area</th>\n",
       "      <th>balcony</th>\n",
       "      <th>airports_nearest</th>\n",
       "      <th>cityCenters_nearest</th>\n",
       "      <th>parks_around3000</th>\n",
       "      <th>parks_nearest</th>\n",
       "      <th>ponds_around3000</th>\n",
       "      <th>ponds_nearest</th>\n",
       "      <th>days_exposition</th>\n",
       "    </tr>\n",
       "  </thead>\n",
       "  <tbody>\n",
       "    <tr>\n",
       "      <th>count</th>\n",
       "      <td>23699.000000</td>\n",
       "      <td>2.369900e+04</td>\n",
       "      <td>23699.000000</td>\n",
       "      <td>23699.000000</td>\n",
       "      <td>14504.000000</td>\n",
       "      <td>23613.000000</td>\n",
       "      <td>21796.000000</td>\n",
       "      <td>23699.000000</td>\n",
       "      <td>21421.000000</td>\n",
       "      <td>12180.000000</td>\n",
       "      <td>18157.000000</td>\n",
       "      <td>18180.000000</td>\n",
       "      <td>18181.000000</td>\n",
       "      <td>8079.000000</td>\n",
       "      <td>18181.000000</td>\n",
       "      <td>9110.000000</td>\n",
       "      <td>20518.000000</td>\n",
       "    </tr>\n",
       "    <tr>\n",
       "      <th>mean</th>\n",
       "      <td>9.858475</td>\n",
       "      <td>6.541549e+06</td>\n",
       "      <td>60.348651</td>\n",
       "      <td>2.070636</td>\n",
       "      <td>2.771499</td>\n",
       "      <td>10.673824</td>\n",
       "      <td>34.457852</td>\n",
       "      <td>5.892358</td>\n",
       "      <td>10.569807</td>\n",
       "      <td>1.150082</td>\n",
       "      <td>28793.672193</td>\n",
       "      <td>14191.277833</td>\n",
       "      <td>0.611408</td>\n",
       "      <td>490.804555</td>\n",
       "      <td>0.770255</td>\n",
       "      <td>517.980900</td>\n",
       "      <td>180.888634</td>\n",
       "    </tr>\n",
       "    <tr>\n",
       "      <th>std</th>\n",
       "      <td>5.682529</td>\n",
       "      <td>1.088701e+07</td>\n",
       "      <td>35.654083</td>\n",
       "      <td>1.078405</td>\n",
       "      <td>1.261056</td>\n",
       "      <td>6.597173</td>\n",
       "      <td>22.030445</td>\n",
       "      <td>4.885249</td>\n",
       "      <td>5.905438</td>\n",
       "      <td>1.071300</td>\n",
       "      <td>12630.880622</td>\n",
       "      <td>8608.386210</td>\n",
       "      <td>0.802074</td>\n",
       "      <td>342.317995</td>\n",
       "      <td>0.938346</td>\n",
       "      <td>277.720643</td>\n",
       "      <td>219.727988</td>\n",
       "    </tr>\n",
       "    <tr>\n",
       "      <th>min</th>\n",
       "      <td>0.000000</td>\n",
       "      <td>1.219000e+04</td>\n",
       "      <td>12.000000</td>\n",
       "      <td>0.000000</td>\n",
       "      <td>1.000000</td>\n",
       "      <td>1.000000</td>\n",
       "      <td>2.000000</td>\n",
       "      <td>1.000000</td>\n",
       "      <td>1.300000</td>\n",
       "      <td>0.000000</td>\n",
       "      <td>0.000000</td>\n",
       "      <td>181.000000</td>\n",
       "      <td>0.000000</td>\n",
       "      <td>1.000000</td>\n",
       "      <td>0.000000</td>\n",
       "      <td>13.000000</td>\n",
       "      <td>1.000000</td>\n",
       "    </tr>\n",
       "    <tr>\n",
       "      <th>25%</th>\n",
       "      <td>6.000000</td>\n",
       "      <td>3.400000e+06</td>\n",
       "      <td>40.000000</td>\n",
       "      <td>1.000000</td>\n",
       "      <td>2.520000</td>\n",
       "      <td>5.000000</td>\n",
       "      <td>18.600000</td>\n",
       "      <td>2.000000</td>\n",
       "      <td>7.000000</td>\n",
       "      <td>0.000000</td>\n",
       "      <td>18585.000000</td>\n",
       "      <td>9238.000000</td>\n",
       "      <td>0.000000</td>\n",
       "      <td>288.000000</td>\n",
       "      <td>0.000000</td>\n",
       "      <td>294.000000</td>\n",
       "      <td>45.000000</td>\n",
       "    </tr>\n",
       "    <tr>\n",
       "      <th>50%</th>\n",
       "      <td>9.000000</td>\n",
       "      <td>4.650000e+06</td>\n",
       "      <td>52.000000</td>\n",
       "      <td>2.000000</td>\n",
       "      <td>2.650000</td>\n",
       "      <td>9.000000</td>\n",
       "      <td>30.000000</td>\n",
       "      <td>4.000000</td>\n",
       "      <td>9.100000</td>\n",
       "      <td>1.000000</td>\n",
       "      <td>26726.000000</td>\n",
       "      <td>13098.500000</td>\n",
       "      <td>0.000000</td>\n",
       "      <td>455.000000</td>\n",
       "      <td>1.000000</td>\n",
       "      <td>502.000000</td>\n",
       "      <td>95.000000</td>\n",
       "    </tr>\n",
       "    <tr>\n",
       "      <th>75%</th>\n",
       "      <td>14.000000</td>\n",
       "      <td>6.800000e+06</td>\n",
       "      <td>69.900000</td>\n",
       "      <td>3.000000</td>\n",
       "      <td>2.800000</td>\n",
       "      <td>16.000000</td>\n",
       "      <td>42.300000</td>\n",
       "      <td>8.000000</td>\n",
       "      <td>12.000000</td>\n",
       "      <td>2.000000</td>\n",
       "      <td>37273.000000</td>\n",
       "      <td>16293.000000</td>\n",
       "      <td>1.000000</td>\n",
       "      <td>612.000000</td>\n",
       "      <td>1.000000</td>\n",
       "      <td>729.000000</td>\n",
       "      <td>232.000000</td>\n",
       "    </tr>\n",
       "    <tr>\n",
       "      <th>max</th>\n",
       "      <td>50.000000</td>\n",
       "      <td>7.630000e+08</td>\n",
       "      <td>900.000000</td>\n",
       "      <td>19.000000</td>\n",
       "      <td>100.000000</td>\n",
       "      <td>60.000000</td>\n",
       "      <td>409.700000</td>\n",
       "      <td>33.000000</td>\n",
       "      <td>112.000000</td>\n",
       "      <td>5.000000</td>\n",
       "      <td>84869.000000</td>\n",
       "      <td>65968.000000</td>\n",
       "      <td>3.000000</td>\n",
       "      <td>3190.000000</td>\n",
       "      <td>3.000000</td>\n",
       "      <td>1344.000000</td>\n",
       "      <td>1580.000000</td>\n",
       "    </tr>\n",
       "  </tbody>\n",
       "</table>\n",
       "</div>"
      ],
      "text/plain": [
       "       total_images    last_price    total_area         rooms  ceiling_height  \\\n",
       "count  23699.000000  2.369900e+04  23699.000000  23699.000000    14504.000000   \n",
       "mean       9.858475  6.541549e+06     60.348651      2.070636        2.771499   \n",
       "std        5.682529  1.088701e+07     35.654083      1.078405        1.261056   \n",
       "min        0.000000  1.219000e+04     12.000000      0.000000        1.000000   \n",
       "25%        6.000000  3.400000e+06     40.000000      1.000000        2.520000   \n",
       "50%        9.000000  4.650000e+06     52.000000      2.000000        2.650000   \n",
       "75%       14.000000  6.800000e+06     69.900000      3.000000        2.800000   \n",
       "max       50.000000  7.630000e+08    900.000000     19.000000      100.000000   \n",
       "\n",
       "       floors_total   living_area         floor  kitchen_area       balcony  \\\n",
       "count  23613.000000  21796.000000  23699.000000  21421.000000  12180.000000   \n",
       "mean      10.673824     34.457852      5.892358     10.569807      1.150082   \n",
       "std        6.597173     22.030445      4.885249      5.905438      1.071300   \n",
       "min        1.000000      2.000000      1.000000      1.300000      0.000000   \n",
       "25%        5.000000     18.600000      2.000000      7.000000      0.000000   \n",
       "50%        9.000000     30.000000      4.000000      9.100000      1.000000   \n",
       "75%       16.000000     42.300000      8.000000     12.000000      2.000000   \n",
       "max       60.000000    409.700000     33.000000    112.000000      5.000000   \n",
       "\n",
       "       airports_nearest  cityCenters_nearest  parks_around3000  parks_nearest  \\\n",
       "count      18157.000000         18180.000000      18181.000000    8079.000000   \n",
       "mean       28793.672193         14191.277833          0.611408     490.804555   \n",
       "std        12630.880622          8608.386210          0.802074     342.317995   \n",
       "min            0.000000           181.000000          0.000000       1.000000   \n",
       "25%        18585.000000          9238.000000          0.000000     288.000000   \n",
       "50%        26726.000000         13098.500000          0.000000     455.000000   \n",
       "75%        37273.000000         16293.000000          1.000000     612.000000   \n",
       "max        84869.000000         65968.000000          3.000000    3190.000000   \n",
       "\n",
       "       ponds_around3000  ponds_nearest  days_exposition  \n",
       "count      18181.000000    9110.000000     20518.000000  \n",
       "mean           0.770255     517.980900       180.888634  \n",
       "std            0.938346     277.720643       219.727988  \n",
       "min            0.000000      13.000000         1.000000  \n",
       "25%            0.000000     294.000000        45.000000  \n",
       "50%            1.000000     502.000000        95.000000  \n",
       "75%            1.000000     729.000000       232.000000  \n",
       "max            3.000000    1344.000000      1580.000000  "
      ]
     },
     "execution_count": 3,
     "metadata": {},
     "output_type": "execute_result"
    }
   ],
   "source": [
    "data.describe()"
   ]
  },
  {
   "cell_type": "code",
   "execution_count": 4,
   "metadata": {},
   "outputs": [
    {
     "data": {
      "text/plain": [
       "array([[<AxesSubplot:title={'center':'total_images'}>,\n",
       "        <AxesSubplot:title={'center':'last_price'}>,\n",
       "        <AxesSubplot:title={'center':'total_area'}>,\n",
       "        <AxesSubplot:title={'center':'rooms'}>],\n",
       "       [<AxesSubplot:title={'center':'ceiling_height'}>,\n",
       "        <AxesSubplot:title={'center':'floors_total'}>,\n",
       "        <AxesSubplot:title={'center':'living_area'}>,\n",
       "        <AxesSubplot:title={'center':'floor'}>],\n",
       "       [<AxesSubplot:title={'center':'kitchen_area'}>,\n",
       "        <AxesSubplot:title={'center':'balcony'}>,\n",
       "        <AxesSubplot:title={'center':'airports_nearest'}>,\n",
       "        <AxesSubplot:title={'center':'cityCenters_nearest'}>],\n",
       "       [<AxesSubplot:title={'center':'parks_around3000'}>,\n",
       "        <AxesSubplot:title={'center':'parks_nearest'}>,\n",
       "        <AxesSubplot:title={'center':'ponds_around3000'}>,\n",
       "        <AxesSubplot:title={'center':'ponds_nearest'}>],\n",
       "       [<AxesSubplot:title={'center':'days_exposition'}>, <AxesSubplot:>,\n",
       "        <AxesSubplot:>, <AxesSubplot:>]], dtype=object)"
      ]
     },
     "execution_count": 4,
     "metadata": {},
     "output_type": "execute_result"
    },
    {
     "data": {
      "image/png": "[encoded data removed]",
      "text/plain": [
       "<Figure size 1440x1440 with 20 Axes>"
      ]
     },
     "metadata": {
      "needs_background": "light"
     },
     "output_type": "display_data"
    }
   ],
   "source": [
    "# Построим общую гистограмму для всех числовых столбцов таблицы\n",
    "data.hist(figsize=(20, 20))"
   ]
  },
  {
   "cell_type": "markdown",
   "metadata": {},
   "source": [
    "***Вывод:*** Файл содержит 23699 записей. Количество значений в столбцах различается, что говорит о том, что есть пропущенные значения. Присутствуют некорректные типы данных и наименования столбцов. Построена общая гистограмма для всех числовых столбцов таблицы."
   ]
  },
  {
   "cell_type": "markdown",
   "metadata": {},
   "source": [
    "### Предобработка данных"
   ]
  },
  {
   "cell_type": "code",
   "execution_count": 5,
   "metadata": {},
   "outputs": [
    {
     "data": {
      "text/plain": [
       "total_images                0\n",
       "last_price                  0\n",
       "total_area                  0\n",
       "first_day_exposition        0\n",
       "rooms                       0\n",
       "ceiling_height           9195\n",
       "floors_total               86\n",
       "living_area              1903\n",
       "floor                       0\n",
       "is_apartment            20924\n",
       "studio                      0\n",
       "open_plan                   0\n",
       "kitchen_area             2278\n",
       "balcony                 11519\n",
       "locality_name              49\n",
       "airports_nearest         5542\n",
       "cityCenters_nearest      5519\n",
       "parks_around3000         5518\n",
       "parks_nearest           15620\n",
       "ponds_around3000         5518\n",
       "ponds_nearest           14589\n",
       "days_exposition          3181\n",
       "dtype: int64"
      ]
     },
     "execution_count": 5,
     "metadata": {},
     "output_type": "execute_result"
    }
   ],
   "source": [
    "# Выведем количество пропущенных значений\n",
    "data.isnull().sum()"
   ]
  },
  {
   "cell_type": "markdown",
   "metadata": {},
   "source": [
    "Названия столбцов cityCenters_nearest, parks_around3000, ponds_around3000 написаны не в змеином регистре, исправим это переименовав столбцы"
   ]
  },
  {
   "cell_type": "code",
   "execution_count": 6,
   "metadata": {},
   "outputs": [
    {
     "data": {
      "text/plain": [
       "Index(['total_images', 'last_price', 'total_area', 'first_day_exposition',\n",
       "       'rooms', 'ceiling_height', 'floors_total', 'living_area', 'floor',\n",
       "       'is_apartment', 'studio', 'open_plan', 'kitchen_area', 'balcony',\n",
       "       'locality_name', 'airports_nearest', 'city_centers_nearest',\n",
       "       'parks_around_3000', 'parks_nearest', 'ponds_around_3000',\n",
       "       'ponds_nearest', 'days_exposition'],\n",
       "      dtype='object')"
      ]
     },
     "execution_count": 6,
     "metadata": {},
     "output_type": "execute_result"
    }
   ],
   "source": [
    "# Переименуем столбцы\n",
    "data = data.rename(columns={'cityCenters_nearest': 'city_centers_nearest', \n",
    "                            'parks_around3000': 'parks_around_3000', \n",
    "                            'ponds_around3000': 'ponds_around_3000'\n",
    "                           })\n",
    "\n",
    "# Проверим результат\n",
    "data.columns"
   ]
  },
  {
   "cell_type": "markdown",
   "metadata": {},
   "source": [
    "***floors_total и locality_name***"
   ]
  },
  {
   "cell_type": "markdown",
   "metadata": {},
   "source": [
    "Рассмотрим пропущенные значения в столбцах floors_total  и locality_name. Таких значений пропущено меньше всего - 86 и 49 соответственно. Можно предположить, что пропуски в столбце floors_total появились в результате невнимательности при размещении объявления, это человеческий фактор. А вот пропуски в столбце locality_name появились скорее всего в результате технической ошибки. Так как название населенного пункта является обязательным полем при создании объявления и нельзя оставить его пустым.\n",
    "\n",
    "Таких пропущенных значений очень мало, восстановить название населенного пункта практически невозможно. А заполнять количество этажей в доме средним значением или медианой нецелесообразно. Поэтому просто удалим эти записи."
   ]
  },
  {
   "cell_type": "code",
   "execution_count": 7,
   "metadata": {},
   "outputs": [
    {
     "name": "stdout",
     "output_type": "stream",
     "text": [
      "до обработки floors_total 86\n",
      "до обработки locality_name 49\n",
      "после обработки floors_total 0\n",
      "после обработки locality_name 0\n"
     ]
    }
   ],
   "source": [
    "# Выведем количество пропущеных значений в столбцах floors_total и locality_name\n",
    "print ('до обработки floors_total', data['floors_total'].isnull().sum())\n",
    "print ('до обработки locality_name',data['locality_name'].isnull().sum())\n",
    "\n",
    "# Удалим записи, в котрых отсутствуют данные по количеству этажей и название населенного пункта\n",
    "data.dropna(subset=['floors_total'], inplace=True)\n",
    "data.dropna(subset=['locality_name'], inplace=True)\n",
    "\n",
    "# Проверим результат\n",
    "print ('после обработки floors_total',data['floors_total'].isnull().sum())\n",
    "print ('после обработки locality_name',data['locality_name'].isnull().sum())"
   ]
  },
  {
   "cell_type": "markdown",
   "metadata": {},
   "source": [
    "***ceiling_height***"
   ]
  },
  {
   "cell_type": "markdown",
   "metadata": {},
   "source": [
    "Устраним пропущенные значения в столбце ceiling_height. Скорее всего эти пропуски воникли в результате человеческого фактора. Не все поля объявления являются обязательными для заполнения и эти данные просто не были заполнены.\n",
    "\n",
    "Заполним пустые значения в столбце медианным значением. Используем именно медианное значение, а не среднее, так как наличие выбросов не сильно повлияет на медиану."
   ]
  },
  {
   "cell_type": "code",
   "execution_count": 8,
   "metadata": {},
   "outputs": [
    {
     "name": "stdout",
     "output_type": "stream",
     "text": [
      "до обработки ceiling_height 9084\n",
      "после обработки ceiling_height 0\n"
     ]
    }
   ],
   "source": [
    "# Выведем количество пропущеных значений в столбце ceiling_height\n",
    "print('до обработки ceiling_height', data['ceiling_height'].isnull().sum())\n",
    "\n",
    "# Заполним пустые значения в столбце высота потолков медианным значением\n",
    "data['ceiling_height'].fillna(data['ceiling_height'].median(), inplace=True)\n",
    "\n",
    "# Проверим результат\n",
    "print('после обработки ceiling_height',data['ceiling_height'].isnull().sum())"
   ]
  },
  {
   "cell_type": "markdown",
   "metadata": {},
   "source": [
    "***living_area***"
   ]
  },
  {
   "cell_type": "markdown",
   "metadata": {},
   "source": [
    "Предположим, что в квартирах со свободной планировкой не указана жилая площадь, а указана только общая площадь."
   ]
  },
  {
   "cell_type": "code",
   "execution_count": 9,
   "metadata": {},
   "outputs": [
    {
     "name": "stdout",
     "output_type": "stream",
     "text": [
      "до обработки living_area 1865\n",
      "после первой обработки living_area 1860\n"
     ]
    }
   ],
   "source": [
    "# Выведем количество пропущеных значений в столбце living_area\n",
    "print('до обработки living_area', data['living_area'].isnull().sum())\n",
    "\n",
    "# В квартирах со свободной планировкой заменим пустые значения на 0\n",
    "data.loc[data['open_plan'] == True, 'living_area'] = 0\n",
    "\n",
    "# Проверим результат\n",
    "print('после первой обработки living_area', data['living_area'].isnull().sum())"
   ]
  },
  {
   "cell_type": "markdown",
   "metadata": {},
   "source": [
    "Да, такие записи действительно есть, но их очень мало - 5. Значит, данные пропущены по другой причине, скорее всего это спешка или невнимательность."
   ]
  },
  {
   "cell_type": "code",
   "execution_count": 10,
   "metadata": {},
   "outputs": [
    {
     "name": "stdout",
     "output_type": "stream",
     "text": [
      "после второй обработки living_area 0\n"
     ]
    }
   ],
   "source": [
    "# Заполним пропуски медианным значением по категориям\n",
    "data['living_area'].fillna(data.groupby(['floors_total'])['living_area'].transform('median'), inplace=True)\n",
    "\n",
    "# Проверим результат\n",
    "print('после второй обработки living_area', data['living_area'].isnull().sum())"
   ]
  },
  {
   "cell_type": "markdown",
   "metadata": {},
   "source": [
    "***kitchen_area***"
   ]
  },
  {
   "cell_type": "markdown",
   "metadata": {},
   "source": [
    "Предположим, что в студиях не указана площадь кухни и пропуски в столбце kitchen_area появились именно по этой причине."
   ]
  },
  {
   "cell_type": "code",
   "execution_count": 11,
   "metadata": {
    "scrolled": true
   },
   "outputs": [
    {
     "name": "stdout",
     "output_type": "stream",
     "text": [
      "до обработки kitchen_area 2222\n",
      "после первой обработки kitchen_area 2076\n"
     ]
    }
   ],
   "source": [
    "# Выведем количество пропущеных значений в столбце kitchen_area\n",
    "print('до обработки kitchen_area', data['kitchen_area'].isnull().sum())\n",
    "\n",
    "# В студиях заменим пустые значения на 0\n",
    "data.loc[data['studio'] == True, 'kitchen_area'] = 0\n",
    "\n",
    "# Проверим результат\n",
    "print('после первой обработки kitchen_area', data['kitchen_area'].isnull().sum())"
   ]
  },
  {
   "cell_type": "markdown",
   "metadata": {},
   "source": [
    "Да, такие записи есть, но их не так много - 146.\n",
    "Остальные пропуски могут быть квартирами со свободной планировкой, проверим это."
   ]
  },
  {
   "cell_type": "code",
   "execution_count": 12,
   "metadata": {},
   "outputs": [
    {
     "name": "stdout",
     "output_type": "stream",
     "text": [
      "после второй обработки kitchen_area 2009\n"
     ]
    }
   ],
   "source": [
    "# В квартирах со свободной планировкой заменим пустые значения на 0\n",
    "data.loc[data['open_plan'] == True, 'kitchen_area'] = 0\n",
    "\n",
    "# Проверим результат\n",
    "print('после второй обработки kitchen_area', data['kitchen_area'].isnull().sum())"
   ]
  },
  {
   "cell_type": "markdown",
   "metadata": {},
   "source": [
    "Да, такие записи действительно есть, но их очень мало - 67. Значит, остальные значения пропущены по другой причине, скорее всего это спешка и невнимательность при заполнении. Указали общую площадь, а площадь кухни не указали."
   ]
  },
  {
   "cell_type": "code",
   "execution_count": 13,
   "metadata": {},
   "outputs": [
    {
     "name": "stdout",
     "output_type": "stream",
     "text": [
      "после третьей обработки kitchen_area 1\n"
     ]
    }
   ],
   "source": [
    "# Заполним пропуски медианным значением по категориям.\n",
    "data['kitchen_area'].fillna(data.groupby(['floors_total'])['kitchen_area'].transform('median'), inplace=True)\n",
    "\n",
    "# Проверим результат\n",
    "print('после третьей обработки kitchen_area', data['kitchen_area'].isnull().sum())"
   ]
  },
  {
   "cell_type": "code",
   "execution_count": 14,
   "metadata": {},
   "outputs": [
    {
     "name": "stdout",
     "output_type": "stream",
     "text": [
      "после четвертой обработки kitchen_area 0\n"
     ]
    }
   ],
   "source": [
    "data.dropna(subset=['kitchen_area'], inplace=True)\n",
    "\n",
    "# Проверим результат\n",
    "print('после четвертой обработки kitchen_area', data['kitchen_area'].isnull().sum())"
   ]
  },
  {
   "cell_type": "markdown",
   "metadata": {},
   "source": [
    "***is_apartment***"
   ]
  },
  {
   "cell_type": "markdown",
   "metadata": {},
   "source": [
    "Предположим, что значения в столбце апартаменты указали только те, кто точно знает, что продает апартаменты."
   ]
  },
  {
   "cell_type": "code",
   "execution_count": 15,
   "metadata": {},
   "outputs": [
    {
     "name": "stdout",
     "output_type": "stream",
     "text": [
      "до обработки is_apartment 20804\n",
      "после обработки is_apartment 0\n"
     ]
    }
   ],
   "source": [
    "# Выведем количество пропущеных значений в столбце is_apartment\n",
    "print('до обработки is_apartment', data['is_apartment'].isnull().sum())\n",
    "\n",
    "# Заполним недостающие значения для апартаментов\n",
    "data['is_apartment'] = data['is_apartment'].fillna(False)\n",
    "\n",
    "print('после обработки is_apartment', data['is_apartment'].isnull().sum())"
   ]
  },
  {
   "cell_type": "markdown",
   "metadata": {},
   "source": [
    "***balcony***"
   ]
  },
  {
   "cell_type": "markdown",
   "metadata": {},
   "source": [
    "Предположим, что значения в столбце балконы указали только те, у кого они есть."
   ]
  },
  {
   "cell_type": "code",
   "execution_count": 16,
   "metadata": {},
   "outputs": [
    {
     "name": "stdout",
     "output_type": "stream",
     "text": [
      "до обработки balcony 11474\n",
      "после обработки balcony 0\n"
     ]
    }
   ],
   "source": [
    "# Выведем количество пропущеных значений в столбце is_apartment\n",
    "print('до обработки balcony', data['balcony'].isnull().sum())\n",
    "\n",
    "# Заполним недостающие значения для балконов\n",
    "data['balcony'] = data['balcony'].fillna(0)\n",
    "\n",
    "# Проверим результат\n",
    "print('после обработки balcony', data['balcony'].isnull().sum())"
   ]
  },
  {
   "cell_type": "markdown",
   "metadata": {},
   "source": [
    "```python\n",
    "\n",
    "columns = [col1, col2, col3]\n",
    "\n",
    "for i in columns:\n",
    "    df[i] = df[i].fillna(0)\n",
    "\n",
    "```"
   ]
  },
  {
   "cell_type": "code",
   "execution_count": 17,
   "metadata": {},
   "outputs": [
    {
     "name": "stdout",
     "output_type": "stream",
     "text": [
      "<class 'pandas.core.frame.DataFrame'>\n",
      "Int64Index: 23564 entries, 0 to 23698\n",
      "Data columns (total 22 columns):\n",
      " #   Column                Non-Null Count  Dtype  \n",
      "---  ------                --------------  -----  \n",
      " 0   total_images          23564 non-null  int64  \n",
      " 1   last_price            23564 non-null  float64\n",
      " 2   total_area            23564 non-null  float64\n",
      " 3   first_day_exposition  23564 non-null  object \n",
      " 4   rooms                 23564 non-null  int64  \n",
      " 5   ceiling_height        23564 non-null  float64\n",
      " 6   floors_total          23564 non-null  float64\n",
      " 7   living_area           23564 non-null  float64\n",
      " 8   floor                 23564 non-null  int64  \n",
      " 9   is_apartment          23564 non-null  bool   \n",
      " 10  studio                23564 non-null  bool   \n",
      " 11  open_plan             23564 non-null  bool   \n",
      " 12  kitchen_area          23564 non-null  float64\n",
      " 13  balcony               23564 non-null  float64\n",
      " 14  locality_name         23564 non-null  object \n",
      " 15  airports_nearest      18040 non-null  float64\n",
      " 16  city_centers_nearest  18063 non-null  float64\n",
      " 17  parks_around_3000     18064 non-null  float64\n",
      " 18  parks_nearest         8030 non-null   float64\n",
      " 19  ponds_around_3000     18064 non-null  float64\n",
      " 20  ponds_nearest         9035 non-null   float64\n",
      " 21  days_exposition       20393 non-null  float64\n",
      "dtypes: bool(3), float64(14), int64(3), object(2)\n",
      "memory usage: 3.7+ MB\n"
     ]
    }
   ],
   "source": [
    "data.info()"
   ]
  },
  {
   "cell_type": "markdown",
   "metadata": {},
   "source": [
    "Изменим некоторые типы данных:\n",
    "\n",
    "* В столбце last_price изменим тип на int, для удобства работы с данными.\n",
    "\n",
    "* В столбце first_day_exposition изменим тип на datetime, для удобства работы с данными.\n",
    "\n",
    "* В столбце floors_total изменим тип на int, количество этажей это целое число.\n",
    "\n",
    "* В столбце balcony изменим тип на int, количество балконов это целое число."
   ]
  },
  {
   "cell_type": "code",
   "execution_count": 18,
   "metadata": {
    "scrolled": true
   },
   "outputs": [
    {
     "name": "stdout",
     "output_type": "stream",
     "text": [
      "<class 'pandas.core.frame.DataFrame'>\n",
      "Int64Index: 23564 entries, 0 to 23698\n",
      "Data columns (total 22 columns):\n",
      " #   Column                Non-Null Count  Dtype         \n",
      "---  ------                --------------  -----         \n",
      " 0   total_images          23564 non-null  int64         \n",
      " 1   last_price            23564 non-null  int64         \n",
      " 2   total_area            23564 non-null  float64       \n",
      " 3   first_day_exposition  23564 non-null  datetime64[ns]\n",
      " 4   rooms                 23564 non-null  int64         \n",
      " 5   ceiling_height        23564 non-null  float64       \n",
      " 6   floors_total          23564 non-null  int64         \n",
      " 7   living_area           23564 non-null  float64       \n",
      " 8   floor                 23564 non-null  int64         \n",
      " 9   is_apartment          23564 non-null  bool          \n",
      " 10  studio                23564 non-null  bool          \n",
      " 11  open_plan             23564 non-null  bool          \n",
      " 12  kitchen_area          23564 non-null  float64       \n",
      " 13  balcony               23564 non-null  int64         \n",
      " 14  locality_name         23564 non-null  object        \n",
      " 15  airports_nearest      18040 non-null  float64       \n",
      " 16  city_centers_nearest  18063 non-null  float64       \n",
      " 17  parks_around_3000     18064 non-null  float64       \n",
      " 18  parks_nearest         8030 non-null   float64       \n",
      " 19  ponds_around_3000     18064 non-null  float64       \n",
      " 20  ponds_nearest         9035 non-null   float64       \n",
      " 21  days_exposition       20393 non-null  float64       \n",
      "dtypes: bool(3), datetime64[ns](1), float64(11), int64(6), object(1)\n",
      "memory usage: 3.7+ MB\n"
     ]
    }
   ],
   "source": [
    "# Изменим типы данных\n",
    "data['last_price'] = data['last_price'].astype('int')\n",
    "data['first_day_exposition'] = pd.to_datetime(data['first_day_exposition'], format = '%Y-%m-%d')\n",
    "data['floors_total'] = data['floors_total'].astype('int')\n",
    "data['balcony'] = data['balcony'].astype('int')\n",
    "\n",
    "data.info()"
   ]
  },
  {
   "cell_type": "code",
   "execution_count": 19,
   "metadata": {},
   "outputs": [
    {
     "data": {
      "text/plain": [
       "0"
      ]
     },
     "execution_count": 19,
     "metadata": {},
     "output_type": "execute_result"
    }
   ],
   "source": [
    "# Проверим наличие явных дубликатов\n",
    "data.duplicated().sum()"
   ]
  },
  {
   "cell_type": "code",
   "execution_count": 20,
   "metadata": {},
   "outputs": [
    {
     "data": {
      "text/plain": [
       "Санкт-Петербург            15650\n",
       "посёлок Мурино               520\n",
       "посёлок Шушары               439\n",
       "Всеволожск                   398\n",
       "Пушкин                       369\n",
       "                           ...  \n",
       "деревня Большое Рейзино        1\n",
       "деревня Мануйлово              1\n",
       "деревня Тойворово              1\n",
       "деревня Пижма                  1\n",
       "поселок Володарское            1\n",
       "Name: locality_name, Length: 364, dtype: int64"
      ]
     },
     "execution_count": 20,
     "metadata": {},
     "output_type": "execute_result"
    }
   ],
   "source": [
    "# Посмотрим на количество значений в столбце locality_name\n",
    "data['locality_name'].value_counts()"
   ]
  },
  {
   "cell_type": "code",
   "execution_count": 21,
   "metadata": {
    "scrolled": true
   },
   "outputs": [
    {
     "data": {
      "text/plain": [
       "array(['Санкт-Петербург', 'посёлок Шушары', 'городской посёлок Янино-1',\n",
       "       'посёлок Парголово', 'посёлок Мурино', 'Ломоносов', 'Сертолово',\n",
       "       'Петергоф', 'Пушкин', 'деревня Кудрово', 'Коммунар', 'Колпино',\n",
       "       'поселок городского типа Красный Бор', 'Гатчина', 'поселок Мурино',\n",
       "       'деревня Фёдоровское', 'Выборг', 'Кронштадт', 'Кировск',\n",
       "       'деревня Новое Девяткино', 'посёлок Металлострой',\n",
       "       'посёлок городского типа Лебяжье',\n",
       "       'посёлок городского типа Сиверский', 'поселок Молодцово',\n",
       "       'поселок городского типа Кузьмоловский',\n",
       "       'садовое товарищество Новая Ропша', 'Павловск',\n",
       "       'деревня Пикколово', 'Всеволожск', 'Волхов', 'Кингисепп',\n",
       "       'Приозерск', 'Сестрорецк', 'деревня Куттузи', 'посёлок Аннино',\n",
       "       'поселок городского типа Ефимовский', 'посёлок Плодовое',\n",
       "       'деревня Заклинье', 'поселок Торковичи', 'поселок Первомайское',\n",
       "       'Красное Село', 'посёлок Понтонный', 'Сясьстрой', 'деревня Старая',\n",
       "       'деревня Лесколово', 'посёлок Новый Свет', 'Сланцы',\n",
       "       'село Путилово', 'Ивангород', 'Мурино', 'Шлиссельбург',\n",
       "       'Никольское', 'Зеленогорск', 'Сосновый Бор', 'поселок Новый Свет',\n",
       "       'деревня Оржицы', 'деревня Кальтино', 'Кудрово',\n",
       "       'поселок Романовка', 'посёлок Бугры', 'поселок Бугры',\n",
       "       'поселок городского типа Рощино', 'Кириши', 'Луга', 'Волосово',\n",
       "       'Отрадное', 'село Павлово', 'поселок Оредеж', 'село Копорье',\n",
       "       'посёлок городского типа Красный Бор', 'посёлок Молодёжное',\n",
       "       'Тихвин', 'посёлок Победа', 'деревня Нурма',\n",
       "       'поселок городского типа Синявино', 'Тосно',\n",
       "       'посёлок городского типа Кузьмоловский', 'посёлок Стрельна',\n",
       "       'Бокситогорск', 'посёлок Александровская', 'деревня Лопухинка',\n",
       "       'Пикалёво', 'поселок Терволово',\n",
       "       'поселок городского типа Советский', 'Подпорожье',\n",
       "       'посёлок Петровское', 'посёлок городского типа Токсово',\n",
       "       'поселок Сельцо', 'посёлок городского типа Вырица',\n",
       "       'деревня Кипень', 'деревня Келози', 'деревня Вартемяги',\n",
       "       'посёлок Тельмана', 'поселок Севастьяново',\n",
       "       'городской поселок Большая Ижора', 'городской посёлок Павлово',\n",
       "       'деревня Агалатово', 'посёлок Новогорелово',\n",
       "       'городской посёлок Лесогорский', 'деревня Лаголово',\n",
       "       'поселок Цвелодубово', 'поселок городского типа Рахья',\n",
       "       'поселок городского типа Вырица', 'деревня Белогорка',\n",
       "       'поселок Заводской', 'городской посёлок Новоселье',\n",
       "       'деревня Большие Колпаны', 'деревня Горбунки', 'деревня Батово',\n",
       "       'деревня Заневка', 'деревня Иссад', 'Приморск',\n",
       "       'городской посёлок Фёдоровское', 'деревня Мистолово',\n",
       "       'Новая Ладога', 'поселок Зимитицы', 'поселок Барышево',\n",
       "       'деревня Разметелево', 'поселок городского типа имени Свердлова',\n",
       "       'деревня Пеники', 'поселок Рябово', 'деревня Пудомяги',\n",
       "       'поселок станции Корнево', 'деревня Низино', 'деревня Бегуницы',\n",
       "       'посёлок Поляны', 'городской посёлок Мга', 'поселок Елизаветино',\n",
       "       'посёлок городского типа Кузнечное', 'деревня Колтуши',\n",
       "       'поселок Запорожское', 'посёлок городского типа Рощино',\n",
       "       'деревня Гостилицы', 'деревня Малое Карлино',\n",
       "       'посёлок Мичуринское', 'посёлок городского типа имени Морозова',\n",
       "       'посёлок Песочный', 'посёлок Сосново', 'деревня Аро',\n",
       "       'поселок Ильичёво', 'посёлок городского типа Тайцы',\n",
       "       'деревня Малое Верево', 'деревня Извара', 'поселок станции Вещево',\n",
       "       'село Паша', 'деревня Калитино',\n",
       "       'посёлок городского типа Ульяновка', 'деревня Чудской Бор',\n",
       "       'поселок городского типа Дубровка', 'деревня Мины',\n",
       "       'поселок Войсковицы', 'посёлок городского типа имени Свердлова',\n",
       "       'деревня Коркино', 'посёлок Ропша',\n",
       "       'поселок городского типа Приладожский', 'посёлок Щеглово',\n",
       "       'посёлок Гаврилово', 'Лодейное Поле', 'деревня Рабитицы',\n",
       "       'поселок городского типа Никольский', 'деревня Кузьмолово',\n",
       "       'деревня Малые Колпаны', 'поселок Тельмана',\n",
       "       'посёлок Петро-Славянка', 'городской посёлок Назия',\n",
       "       'посёлок Репино', 'посёлок Ильичёво', 'поселок Углово',\n",
       "       'поселок Старая Малукса', 'садовое товарищество Рахья',\n",
       "       'поселок Аннино', 'поселок Победа', 'деревня Меньково',\n",
       "       'деревня Старые Бегуницы', 'посёлок Сапёрный', 'поселок Семрино',\n",
       "       'поселок Гаврилово', 'поселок Глажево', 'поселок Кобринское',\n",
       "       'деревня Гарболово', 'деревня Юкки',\n",
       "       'поселок станции Приветнинское', 'деревня Мануйлово',\n",
       "       'деревня Пчева', 'поселок Поляны', 'поселок Цвылёво',\n",
       "       'поселок Мельниково', 'посёлок Пудость', 'посёлок Усть-Луга',\n",
       "       'Светогорск', 'Любань', 'поселок Селезнёво',\n",
       "       'поселок городского типа Рябово', 'Каменногорск', 'деревня Кривко',\n",
       "       'поселок Глебычево', 'деревня Парицы', 'поселок Жилпосёлок',\n",
       "       'посёлок городского типа Мга', 'городской поселок Янино-1',\n",
       "       'посёлок Войскорово', 'село Никольское', 'посёлок Терволово',\n",
       "       'поселок Стеклянный', 'посёлок городского типа Важины',\n",
       "       'посёлок Мыза-Ивановка', 'село Русско-Высоцкое',\n",
       "       'поселок городского типа Лебяжье',\n",
       "       'поселок городского типа Форносово', 'село Старая Ладога',\n",
       "       'поселок Житково', 'городской посёлок Виллози', 'деревня Лампово',\n",
       "       'деревня Шпаньково', 'деревня Лаврики', 'посёлок Сумино',\n",
       "       'посёлок Возрождение', 'деревня Старосиверская',\n",
       "       'посёлок Кикерино', 'поселок Возрождение',\n",
       "       'деревня Старое Хинколово', 'посёлок Пригородный',\n",
       "       'посёлок Торфяное', 'городской посёлок Будогощь',\n",
       "       'поселок Суходолье', 'поселок Красная Долина', 'деревня Хапо-Ое',\n",
       "       'поселок городского типа Дружная Горка', 'поселок Лисий Нос',\n",
       "       'деревня Яльгелево', 'посёлок Стеклянный', 'село Рождествено',\n",
       "       'деревня Старополье', 'посёлок Левашово', 'деревня Сяськелево',\n",
       "       'деревня Камышовка',\n",
       "       'садоводческое некоммерческое товарищество Лесная Поляна',\n",
       "       'деревня Хязельки', 'поселок Жилгородок',\n",
       "       'посёлок городского типа Павлово', 'деревня Ялгино',\n",
       "       'поселок Новый Учхоз', 'городской посёлок Рощино',\n",
       "       'поселок Гончарово', 'поселок Почап', 'посёлок Сапёрное',\n",
       "       'посёлок Платформа 69-й километр', 'поселок Каложицы',\n",
       "       'деревня Фалилеево', 'деревня Пельгора',\n",
       "       'поселок городского типа Лесогорский', 'деревня Торошковичи',\n",
       "       'посёлок Белоостров', 'посёлок Алексеевка', 'поселок Серебрянский',\n",
       "       'поселок Лукаши', 'поселок Петровское', 'деревня Щеглово',\n",
       "       'поселок Мичуринское', 'деревня Тарасово', 'поселок Кингисеппский',\n",
       "       'посёлок при железнодорожной станции Вещево', 'поселок Ушаки',\n",
       "       'деревня Котлы', 'деревня Сижно', 'деревня Торосово',\n",
       "       'посёлок Форт Красная Горка', 'деревня Новолисино',\n",
       "       'посёлок станции Громово', 'деревня Глинка', 'посёлок Мельниково',\n",
       "       'поселок городского типа Назия', 'деревня Старая Пустошь',\n",
       "       'поселок Коммунары', 'поселок Починок',\n",
       "       'посёлок городского типа Вознесенье', 'деревня Разбегаево',\n",
       "       'посёлок городского типа Рябово', 'поселок Гладкое',\n",
       "       'посёлок при железнодорожной станции Приветнинское',\n",
       "       'поселок Тёсово-4', 'посёлок Жилгородок', 'деревня Бор',\n",
       "       'посёлок Коробицыно', 'деревня Большая Вруда', 'деревня Курковицы',\n",
       "       'посёлок Лисий Нос', 'городской посёлок Советский',\n",
       "       'посёлок Кобралово', 'деревня Суоранда', 'поселок Кобралово',\n",
       "       'поселок городского типа Кондратьево',\n",
       "       'коттеджный поселок Счастье', 'поселок Любань', 'деревня Реброво',\n",
       "       'деревня Зимитицы', 'деревня Тойворово', 'поселок Семиозерье',\n",
       "       'поселок Лесное', 'поселок Совхозный', 'поселок Усть-Луга',\n",
       "       'посёлок Ленинское', 'посёлок Суйда',\n",
       "       'посёлок городского типа Форносово', 'деревня Нижние Осельки',\n",
       "       'посёлок станции Свирь', 'поселок Перово', 'Высоцк',\n",
       "       'поселок Гарболово', 'село Шум', 'поселок Котельский',\n",
       "       'поселок станции Лужайка', 'деревня Большая Пустомержа',\n",
       "       'поселок Красносельское', 'деревня Вахнова Кара', 'деревня Пижма',\n",
       "       'коттеджный поселок Кивеннапа Север', 'поселок Коробицыно',\n",
       "       'поселок Ромашки', 'посёлок Перово', 'деревня Каськово',\n",
       "       'деревня Куровицы', 'посёлок Плоское', 'поселок Сумино',\n",
       "       'поселок городского типа Большая Ижора', 'поселок Кирпичное',\n",
       "       'деревня Ям-Тесово', 'деревня Раздолье', 'деревня Терпилицы',\n",
       "       'поселок городского типа Токсово', 'посёлок Шугозеро',\n",
       "       'деревня Ваганово', 'поселок Пушное', 'садовое товарищество Садко',\n",
       "       'посёлок Усть-Ижора', 'деревня Выскатка',\n",
       "       'городской посёлок Свирьстрой', 'поселок Громово',\n",
       "       'деревня Кисельня', 'посёлок Старая Малукса',\n",
       "       'деревня Трубников Бор', 'поселок Калитино',\n",
       "       'посёлок Высокоключевой', 'садовое товарищество Приладожский',\n",
       "       'посёлок Пансионат Зелёный Бор', 'деревня Ненимяки',\n",
       "       'поселок Пансионат Зелёный Бор', 'деревня Снегирёвка',\n",
       "       'деревня Рапполово', 'деревня Пустынка', 'поселок Рабитицы',\n",
       "       'деревня Большой Сабск', 'деревня Русско', 'деревня Лупполово',\n",
       "       'деревня Большое Рейзино', 'деревня Малая Романовка',\n",
       "       'поселок Дружноселье', 'поселок Пчевжа', 'поселок Володарское',\n",
       "       'деревня Нижняя', 'коттеджный посёлок Лесное', 'деревня Тихковицы',\n",
       "       'деревня Борисова Грива', 'посёлок Дзержинского'], dtype=object)"
      ]
     },
     "execution_count": 21,
     "metadata": {},
     "output_type": "execute_result"
    }
   ],
   "source": [
    "# И на сами значения в столбце locality_name\n",
    "data['locality_name'].unique()"
   ]
  },
  {
   "cell_type": "code",
   "execution_count": 22,
   "metadata": {},
   "outputs": [
    {
     "data": {
      "text/plain": [
       "Санкт-Петербург               15650\n",
       "поселок Мурино                  552\n",
       "поселок Шушары                  439\n",
       "Всеволожск                      398\n",
       "Пушкин                          369\n",
       "                              ...  \n",
       "деревня Каськово                  1\n",
       "садовое товарищество Рахья        1\n",
       "деревня Русско                    1\n",
       "село Никольское                   1\n",
       "поселок Володарское               1\n",
       "Name: locality_name, Length: 319, dtype: int64"
      ]
     },
     "execution_count": 22,
     "metadata": {},
     "output_type": "execute_result"
    }
   ],
   "source": [
    "# Устраним дубликаты в столбце locality_name\n",
    "data['locality_name'] = data['locality_name'].str.replace('ё', 'е')\n",
    "data['locality_name'] = data['locality_name'].str.replace('поселок городского типа', 'поселок')\n",
    "data['locality_name'] = data['locality_name'].str.replace('городской поселок', 'поселок')\n",
    "data['locality_name'] = data['locality_name'].str.replace('поселок станции', 'поселок')\n",
    "data['locality_name'] = data['locality_name'].str.replace('поселок при железнодорожной станции', 'поселок')\n",
    "\n",
    "data['locality_name'].value_counts()"
   ]
  },
  {
   "cell_type": "markdown",
   "metadata": {},
   "source": [
    "***Вывод:*** Предобработка данных завершена, датасет содержит 23564 записи. Удалены некорректные записи, недостающая информация восстановлена по существующим данным из других параметров. В столбцах с картографическими данными информация оставлена как есть. Изменены типы данных столбцов last_price, first_day_exposition, floors_total, balcony. Устранены неявные дубликаты в названиях населенных пунктов."
   ]
  },
  {
   "cell_type": "markdown",
   "metadata": {},
   "source": [
    "### Посчитайте и добавьте в таблицу новые столбцы"
   ]
  },
  {
   "cell_type": "code",
   "execution_count": 23,
   "metadata": {},
   "outputs": [],
   "source": [
    "# Добавим в таблицу цену одного квадратного метра\n",
    "data['price_meter'] = data['last_price'] / data['total_area']"
   ]
  },
  {
   "cell_type": "code",
   "execution_count": 24,
   "metadata": {},
   "outputs": [],
   "source": [
    "# Добавим в таблицу день недели, месяц и год публикации объявления\n",
    "data['weekday_exposition'] = data['first_day_exposition'].dt.weekday\n",
    "data['month_exposition'] = data['first_day_exposition'].dt.month\n",
    "data['year_exposition'] = data['first_day_exposition'].dt.year"
   ]
  },
  {
   "cell_type": "code",
   "execution_count": 25,
   "metadata": {},
   "outputs": [],
   "source": [
    "# Функция для определения дня недели\n",
    "def days_category(row):\n",
    "    day = row['weekday_exposition']\n",
    "    if day == 0:\n",
    "        return 'понедельник'\n",
    "    elif day == 1:\n",
    "        return 'вторник'\n",
    "    elif day == 2:\n",
    "        return 'среда'\n",
    "    elif day == 3:\n",
    "        return 'четверг'\n",
    "    elif day == 4:\n",
    "        return 'пятница'\n",
    "    elif day == 5:\n",
    "        return 'суббота'\n",
    "    elif day == 6:\n",
    "        return 'воскресенье'"
   ]
  },
  {
   "cell_type": "code",
   "execution_count": 26,
   "metadata": {},
   "outputs": [],
   "source": [
    "# Добавим в таблицу категорию дня недели\n",
    "data['weekday_exposition'] = data.apply(days_category, axis = 1)"
   ]
  },
  {
   "cell_type": "code",
   "execution_count": 27,
   "metadata": {},
   "outputs": [],
   "source": [
    "# Функция для разделения этажей по категориям\n",
    "def floor_category(row):\n",
    "    floors_total = row['floors_total']\n",
    "    floor = row['floor']\n",
    "    if floor == 1:\n",
    "        return 'первый'\n",
    "    elif floor == floors_total:\n",
    "        return 'последний'\n",
    "    elif 1 < floor < floors_total:\n",
    "        return 'другой'"
   ]
  },
  {
   "cell_type": "code",
   "execution_count": 28,
   "metadata": {},
   "outputs": [],
   "source": [
    "# Добавим в таблицу категорию этажа\n",
    "data['floor_category'] = data.apply(floor_category, axis = 1)"
   ]
  },
  {
   "cell_type": "code",
   "execution_count": 29,
   "metadata": {},
   "outputs": [],
   "source": [
    "# Расстояние до центра города в километрах\n",
    "data['city_centers_km'] = (data['city_centers_nearest'] / 1000).round() "
   ]
  },
  {
   "cell_type": "code",
   "execution_count": 30,
   "metadata": {
    "scrolled": true
   },
   "outputs": [
    {
     "data": {
      "text/html": [
       "<div>\n",
       "<style scoped>\n",
       "    .dataframe tbody tr th:only-of-type {\n",
       "        vertical-align: middle;\n",
       "    }\n",
       "\n",
       "    .dataframe tbody tr th {\n",
       "        vertical-align: top;\n",
       "    }\n",
       "\n",
       "    .dataframe thead th {\n",
       "        text-align: right;\n",
       "    }\n",
       "</style>\n",
       "<table border=\"1\" class=\"dataframe\">\n",
       "  <thead>\n",
       "    <tr style=\"text-align: right;\">\n",
       "      <th></th>\n",
       "      <th>total_images</th>\n",
       "      <th>last_price</th>\n",
       "      <th>total_area</th>\n",
       "      <th>first_day_exposition</th>\n",
       "      <th>rooms</th>\n",
       "      <th>ceiling_height</th>\n",
       "      <th>floors_total</th>\n",
       "      <th>living_area</th>\n",
       "      <th>floor</th>\n",
       "      <th>is_apartment</th>\n",
       "      <th>studio</th>\n",
       "      <th>open_plan</th>\n",
       "      <th>kitchen_area</th>\n",
       "      <th>balcony</th>\n",
       "      <th>locality_name</th>\n",
       "      <th>airports_nearest</th>\n",
       "      <th>city_centers_nearest</th>\n",
       "      <th>parks_around_3000</th>\n",
       "      <th>parks_nearest</th>\n",
       "      <th>ponds_around_3000</th>\n",
       "      <th>ponds_nearest</th>\n",
       "      <th>days_exposition</th>\n",
       "      <th>price_meter</th>\n",
       "      <th>weekday_exposition</th>\n",
       "      <th>month_exposition</th>\n",
       "      <th>year_exposition</th>\n",
       "      <th>floor_category</th>\n",
       "      <th>city_centers_km</th>\n",
       "    </tr>\n",
       "  </thead>\n",
       "  <tbody>\n",
       "    <tr>\n",
       "      <th>0</th>\n",
       "      <td>20</td>\n",
       "      <td>13000000</td>\n",
       "      <td>108.00</td>\n",
       "      <td>2019-03-07</td>\n",
       "      <td>3</td>\n",
       "      <td>2.70</td>\n",
       "      <td>16</td>\n",
       "      <td>51.00</td>\n",
       "      <td>8</td>\n",
       "      <td>False</td>\n",
       "      <td>False</td>\n",
       "      <td>False</td>\n",
       "      <td>25.00</td>\n",
       "      <td>0</td>\n",
       "      <td>Санкт-Петербург</td>\n",
       "      <td>18863.0</td>\n",
       "      <td>16028.0</td>\n",
       "      <td>1.0</td>\n",
       "      <td>482.0</td>\n",
       "      <td>2.0</td>\n",
       "      <td>755.0</td>\n",
       "      <td>NaN</td>\n",
       "      <td>120370.370370</td>\n",
       "      <td>четверг</td>\n",
       "      <td>3</td>\n",
       "      <td>2019</td>\n",
       "      <td>другой</td>\n",
       "      <td>16.0</td>\n",
       "    </tr>\n",
       "    <tr>\n",
       "      <th>1</th>\n",
       "      <td>7</td>\n",
       "      <td>3350000</td>\n",
       "      <td>40.40</td>\n",
       "      <td>2018-12-04</td>\n",
       "      <td>1</td>\n",
       "      <td>2.65</td>\n",
       "      <td>11</td>\n",
       "      <td>18.60</td>\n",
       "      <td>1</td>\n",
       "      <td>False</td>\n",
       "      <td>False</td>\n",
       "      <td>False</td>\n",
       "      <td>11.00</td>\n",
       "      <td>2</td>\n",
       "      <td>поселок Шушары</td>\n",
       "      <td>12817.0</td>\n",
       "      <td>18603.0</td>\n",
       "      <td>0.0</td>\n",
       "      <td>NaN</td>\n",
       "      <td>0.0</td>\n",
       "      <td>NaN</td>\n",
       "      <td>81.0</td>\n",
       "      <td>82920.792079</td>\n",
       "      <td>вторник</td>\n",
       "      <td>12</td>\n",
       "      <td>2018</td>\n",
       "      <td>первый</td>\n",
       "      <td>19.0</td>\n",
       "    </tr>\n",
       "    <tr>\n",
       "      <th>2</th>\n",
       "      <td>10</td>\n",
       "      <td>5196000</td>\n",
       "      <td>56.00</td>\n",
       "      <td>2015-08-20</td>\n",
       "      <td>2</td>\n",
       "      <td>2.65</td>\n",
       "      <td>5</td>\n",
       "      <td>34.30</td>\n",
       "      <td>4</td>\n",
       "      <td>False</td>\n",
       "      <td>False</td>\n",
       "      <td>False</td>\n",
       "      <td>8.30</td>\n",
       "      <td>0</td>\n",
       "      <td>Санкт-Петербург</td>\n",
       "      <td>21741.0</td>\n",
       "      <td>13933.0</td>\n",
       "      <td>1.0</td>\n",
       "      <td>90.0</td>\n",
       "      <td>2.0</td>\n",
       "      <td>574.0</td>\n",
       "      <td>558.0</td>\n",
       "      <td>92785.714286</td>\n",
       "      <td>четверг</td>\n",
       "      <td>8</td>\n",
       "      <td>2015</td>\n",
       "      <td>другой</td>\n",
       "      <td>14.0</td>\n",
       "    </tr>\n",
       "    <tr>\n",
       "      <th>3</th>\n",
       "      <td>0</td>\n",
       "      <td>64900000</td>\n",
       "      <td>159.00</td>\n",
       "      <td>2015-07-24</td>\n",
       "      <td>3</td>\n",
       "      <td>2.65</td>\n",
       "      <td>14</td>\n",
       "      <td>26.60</td>\n",
       "      <td>9</td>\n",
       "      <td>False</td>\n",
       "      <td>False</td>\n",
       "      <td>False</td>\n",
       "      <td>9.00</td>\n",
       "      <td>0</td>\n",
       "      <td>Санкт-Петербург</td>\n",
       "      <td>28098.0</td>\n",
       "      <td>6800.0</td>\n",
       "      <td>2.0</td>\n",
       "      <td>84.0</td>\n",
       "      <td>3.0</td>\n",
       "      <td>234.0</td>\n",
       "      <td>424.0</td>\n",
       "      <td>408176.100629</td>\n",
       "      <td>пятница</td>\n",
       "      <td>7</td>\n",
       "      <td>2015</td>\n",
       "      <td>другой</td>\n",
       "      <td>7.0</td>\n",
       "    </tr>\n",
       "    <tr>\n",
       "      <th>4</th>\n",
       "      <td>2</td>\n",
       "      <td>10000000</td>\n",
       "      <td>100.00</td>\n",
       "      <td>2018-06-19</td>\n",
       "      <td>2</td>\n",
       "      <td>3.03</td>\n",
       "      <td>14</td>\n",
       "      <td>32.00</td>\n",
       "      <td>13</td>\n",
       "      <td>False</td>\n",
       "      <td>False</td>\n",
       "      <td>False</td>\n",
       "      <td>41.00</td>\n",
       "      <td>0</td>\n",
       "      <td>Санкт-Петербург</td>\n",
       "      <td>31856.0</td>\n",
       "      <td>8098.0</td>\n",
       "      <td>2.0</td>\n",
       "      <td>112.0</td>\n",
       "      <td>1.0</td>\n",
       "      <td>48.0</td>\n",
       "      <td>121.0</td>\n",
       "      <td>100000.000000</td>\n",
       "      <td>вторник</td>\n",
       "      <td>6</td>\n",
       "      <td>2018</td>\n",
       "      <td>другой</td>\n",
       "      <td>8.0</td>\n",
       "    </tr>\n",
       "    <tr>\n",
       "      <th>5</th>\n",
       "      <td>10</td>\n",
       "      <td>2890000</td>\n",
       "      <td>30.40</td>\n",
       "      <td>2018-09-10</td>\n",
       "      <td>1</td>\n",
       "      <td>2.65</td>\n",
       "      <td>12</td>\n",
       "      <td>14.40</td>\n",
       "      <td>5</td>\n",
       "      <td>False</td>\n",
       "      <td>False</td>\n",
       "      <td>False</td>\n",
       "      <td>9.10</td>\n",
       "      <td>0</td>\n",
       "      <td>поселок Янино-1</td>\n",
       "      <td>NaN</td>\n",
       "      <td>NaN</td>\n",
       "      <td>NaN</td>\n",
       "      <td>NaN</td>\n",
       "      <td>NaN</td>\n",
       "      <td>NaN</td>\n",
       "      <td>55.0</td>\n",
       "      <td>95065.789474</td>\n",
       "      <td>понедельник</td>\n",
       "      <td>9</td>\n",
       "      <td>2018</td>\n",
       "      <td>другой</td>\n",
       "      <td>NaN</td>\n",
       "    </tr>\n",
       "    <tr>\n",
       "      <th>6</th>\n",
       "      <td>6</td>\n",
       "      <td>3700000</td>\n",
       "      <td>37.30</td>\n",
       "      <td>2017-11-02</td>\n",
       "      <td>1</td>\n",
       "      <td>2.65</td>\n",
       "      <td>26</td>\n",
       "      <td>10.60</td>\n",
       "      <td>6</td>\n",
       "      <td>False</td>\n",
       "      <td>False</td>\n",
       "      <td>False</td>\n",
       "      <td>14.40</td>\n",
       "      <td>1</td>\n",
       "      <td>поселок Парголово</td>\n",
       "      <td>52996.0</td>\n",
       "      <td>19143.0</td>\n",
       "      <td>0.0</td>\n",
       "      <td>NaN</td>\n",
       "      <td>0.0</td>\n",
       "      <td>NaN</td>\n",
       "      <td>155.0</td>\n",
       "      <td>99195.710456</td>\n",
       "      <td>четверг</td>\n",
       "      <td>11</td>\n",
       "      <td>2017</td>\n",
       "      <td>другой</td>\n",
       "      <td>19.0</td>\n",
       "    </tr>\n",
       "    <tr>\n",
       "      <th>7</th>\n",
       "      <td>5</td>\n",
       "      <td>7915000</td>\n",
       "      <td>71.60</td>\n",
       "      <td>2019-04-18</td>\n",
       "      <td>2</td>\n",
       "      <td>2.65</td>\n",
       "      <td>24</td>\n",
       "      <td>19.50</td>\n",
       "      <td>22</td>\n",
       "      <td>False</td>\n",
       "      <td>False</td>\n",
       "      <td>False</td>\n",
       "      <td>18.90</td>\n",
       "      <td>2</td>\n",
       "      <td>Санкт-Петербург</td>\n",
       "      <td>23982.0</td>\n",
       "      <td>11634.0</td>\n",
       "      <td>0.0</td>\n",
       "      <td>NaN</td>\n",
       "      <td>0.0</td>\n",
       "      <td>NaN</td>\n",
       "      <td>NaN</td>\n",
       "      <td>110544.692737</td>\n",
       "      <td>четверг</td>\n",
       "      <td>4</td>\n",
       "      <td>2019</td>\n",
       "      <td>другой</td>\n",
       "      <td>12.0</td>\n",
       "    </tr>\n",
       "    <tr>\n",
       "      <th>8</th>\n",
       "      <td>20</td>\n",
       "      <td>2900000</td>\n",
       "      <td>33.16</td>\n",
       "      <td>2018-05-23</td>\n",
       "      <td>1</td>\n",
       "      <td>2.65</td>\n",
       "      <td>27</td>\n",
       "      <td>15.43</td>\n",
       "      <td>26</td>\n",
       "      <td>False</td>\n",
       "      <td>False</td>\n",
       "      <td>False</td>\n",
       "      <td>8.81</td>\n",
       "      <td>0</td>\n",
       "      <td>поселок Мурино</td>\n",
       "      <td>NaN</td>\n",
       "      <td>NaN</td>\n",
       "      <td>NaN</td>\n",
       "      <td>NaN</td>\n",
       "      <td>NaN</td>\n",
       "      <td>NaN</td>\n",
       "      <td>189.0</td>\n",
       "      <td>87454.764777</td>\n",
       "      <td>среда</td>\n",
       "      <td>5</td>\n",
       "      <td>2018</td>\n",
       "      <td>другой</td>\n",
       "      <td>NaN</td>\n",
       "    </tr>\n",
       "    <tr>\n",
       "      <th>9</th>\n",
       "      <td>18</td>\n",
       "      <td>5400000</td>\n",
       "      <td>61.00</td>\n",
       "      <td>2017-02-26</td>\n",
       "      <td>3</td>\n",
       "      <td>2.50</td>\n",
       "      <td>9</td>\n",
       "      <td>43.60</td>\n",
       "      <td>7</td>\n",
       "      <td>False</td>\n",
       "      <td>False</td>\n",
       "      <td>False</td>\n",
       "      <td>6.50</td>\n",
       "      <td>2</td>\n",
       "      <td>Санкт-Петербург</td>\n",
       "      <td>50898.0</td>\n",
       "      <td>15008.0</td>\n",
       "      <td>0.0</td>\n",
       "      <td>NaN</td>\n",
       "      <td>0.0</td>\n",
       "      <td>NaN</td>\n",
       "      <td>289.0</td>\n",
       "      <td>88524.590164</td>\n",
       "      <td>воскресенье</td>\n",
       "      <td>2</td>\n",
       "      <td>2017</td>\n",
       "      <td>другой</td>\n",
       "      <td>15.0</td>\n",
       "    </tr>\n",
       "  </tbody>\n",
       "</table>\n",
       "</div>"
      ],
      "text/plain": [
       "   total_images  last_price  total_area first_day_exposition  rooms  \\\n",
       "0            20    13000000      108.00           2019-03-07      3   \n",
       "1             7     3350000       40.40           2018-12-04      1   \n",
       "2            10     5196000       56.00           2015-08-20      2   \n",
       "3             0    64900000      159.00           2015-07-24      3   \n",
       "4             2    10000000      100.00           2018-06-19      2   \n",
       "5            10     2890000       30.40           2018-09-10      1   \n",
       "6             6     3700000       37.30           2017-11-02      1   \n",
       "7             5     7915000       71.60           2019-04-18      2   \n",
       "8            20     2900000       33.16           2018-05-23      1   \n",
       "9            18     5400000       61.00           2017-02-26      3   \n",
       "\n",
       "   ceiling_height  floors_total  living_area  floor  is_apartment  studio  \\\n",
       "0            2.70            16        51.00      8         False   False   \n",
       "1            2.65            11        18.60      1         False   False   \n",
       "2            2.65             5        34.30      4         False   False   \n",
       "3            2.65            14        26.60      9         False   False   \n",
       "4            3.03            14        32.00     13         False   False   \n",
       "5            2.65            12        14.40      5         False   False   \n",
       "6            2.65            26        10.60      6         False   False   \n",
       "7            2.65            24        19.50     22         False   False   \n",
       "8            2.65            27        15.43     26         False   False   \n",
       "9            2.50             9        43.60      7         False   False   \n",
       "\n",
       "   open_plan  kitchen_area  balcony      locality_name  airports_nearest  \\\n",
       "0      False         25.00        0    Санкт-Петербург           18863.0   \n",
       "1      False         11.00        2     поселок Шушары           12817.0   \n",
       "2      False          8.30        0    Санкт-Петербург           21741.0   \n",
       "3      False          9.00        0    Санкт-Петербург           28098.0   \n",
       "4      False         41.00        0    Санкт-Петербург           31856.0   \n",
       "5      False          9.10        0    поселок Янино-1               NaN   \n",
       "6      False         14.40        1  поселок Парголово           52996.0   \n",
       "7      False         18.90        2    Санкт-Петербург           23982.0   \n",
       "8      False          8.81        0     поселок Мурино               NaN   \n",
       "9      False          6.50        2    Санкт-Петербург           50898.0   \n",
       "\n",
       "   city_centers_nearest  parks_around_3000  parks_nearest  ponds_around_3000  \\\n",
       "0               16028.0                1.0          482.0                2.0   \n",
       "1               18603.0                0.0            NaN                0.0   \n",
       "2               13933.0                1.0           90.0                2.0   \n",
       "3                6800.0                2.0           84.0                3.0   \n",
       "4                8098.0                2.0          112.0                1.0   \n",
       "5                   NaN                NaN            NaN                NaN   \n",
       "6               19143.0                0.0            NaN                0.0   \n",
       "7               11634.0                0.0            NaN                0.0   \n",
       "8                   NaN                NaN            NaN                NaN   \n",
       "9               15008.0                0.0            NaN                0.0   \n",
       "\n",
       "   ponds_nearest  days_exposition    price_meter weekday_exposition  \\\n",
       "0          755.0              NaN  120370.370370            четверг   \n",
       "1            NaN             81.0   82920.792079            вторник   \n",
       "2          574.0            558.0   92785.714286            четверг   \n",
       "3          234.0            424.0  408176.100629            пятница   \n",
       "4           48.0            121.0  100000.000000            вторник   \n",
       "5            NaN             55.0   95065.789474        понедельник   \n",
       "6            NaN            155.0   99195.710456            четверг   \n",
       "7            NaN              NaN  110544.692737            четверг   \n",
       "8            NaN            189.0   87454.764777              среда   \n",
       "9            NaN            289.0   88524.590164        воскресенье   \n",
       "\n",
       "   month_exposition  year_exposition floor_category  city_centers_km  \n",
       "0                 3             2019         другой             16.0  \n",
       "1                12             2018         первый             19.0  \n",
       "2                 8             2015         другой             14.0  \n",
       "3                 7             2015         другой              7.0  \n",
       "4                 6             2018         другой              8.0  \n",
       "5                 9             2018         другой              NaN  \n",
       "6                11             2017         другой             19.0  \n",
       "7                 4             2019         другой             12.0  \n",
       "8                 5             2018         другой              NaN  \n",
       "9                 2             2017         другой             15.0  "
      ]
     },
     "execution_count": 30,
     "metadata": {},
     "output_type": "execute_result"
    }
   ],
   "source": [
    "data.head(10)"
   ]
  },
  {
   "cell_type": "markdown",
   "metadata": {},
   "source": [
    "***Вывод:*** В таблицу добавлены новые столбцы:\n",
    "\n",
    "* цена одного квадратного метра\n",
    "\n",
    "* день недели, месяц и год публикации объявления\n",
    "\n",
    "* категория этажа\n",
    "\n",
    "* расстояние до центра города в километрах\n",
    "\n",
    "Написана функция для определения дня недели и функция для разделения этажей по категориям."
   ]
  },
  {
   "cell_type": "markdown",
   "metadata": {},
   "source": [
    "### Проведите исследовательский анализ данных"
   ]
  },
  {
   "cell_type": "markdown",
   "metadata": {},
   "source": [
    "***Общая площадь***"
   ]
  },
  {
   "cell_type": "code",
   "execution_count": 31,
   "metadata": {},
   "outputs": [
    {
     "name": "stdout",
     "output_type": "stream",
     "text": [
      "count    23564.000000\n",
      "mean        60.324196\n",
      "std         35.657194\n",
      "min         12.000000\n",
      "25%         40.000000\n",
      "50%         52.000000\n",
      "75%         69.700000\n",
      "max        900.000000\n",
      "Name: total_area, dtype: float64\n"
     ]
    },
    {
     "data": {
      "image/png": "[encoded data removed]",
      "text/plain": [
       "<Figure size 648x648 with 1 Axes>"
      ]
     },
     "metadata": {
      "needs_background": "light"
     },
     "output_type": "display_data"
    }
   ],
   "source": [
    "# Проанализируем столбец total_area и построим гистограмму\n",
    "print(data['total_area'].describe())\n",
    "data.plot(y = 'total_area', kind = 'hist', bins = 100, grid=True, figsize = (9,9), range = (0,900))\n",
    "plt.title('Общая площадь')\n",
    "plt.show()"
   ]
  },
  {
   "cell_type": "markdown",
   "metadata": {},
   "source": [
    "Общая площадь недвижимости составляет от 12 квадратных метров до 900 квадратных метров.\n",
    "\n",
    "Самая продаваемая недвижимость на рынке с общей площадью от 42 до 45 квадратных метров. Эти значения соответствуют жилой площади 1-комнатной квариры."
   ]
  },
  {
   "cell_type": "markdown",
   "metadata": {},
   "source": [
    "***Жилая площадь***"
   ]
  },
  {
   "cell_type": "code",
   "execution_count": 32,
   "metadata": {},
   "outputs": [
    {
     "name": "stdout",
     "output_type": "stream",
     "text": [
      "count    23564.000000\n",
      "mean        33.983555\n",
      "std         21.312195\n",
      "min          0.000000\n",
      "25%         19.000000\n",
      "50%         30.000000\n",
      "75%         41.300000\n",
      "max        409.700000\n",
      "Name: living_area, dtype: float64\n"
     ]
    },
    {
     "data": {
      "image/png": "[encoded data removed]",
      "text/plain": [
       "<Figure size 648x648 with 1 Axes>"
      ]
     },
     "metadata": {
      "needs_background": "light"
     },
     "output_type": "display_data"
    }
   ],
   "source": [
    "# Проанализируем столбец living_area и построим гистограмму\n",
    "print(data['living_area'].describe())\n",
    "data.plot(y = 'living_area', kind = 'hist', bins = 100, grid=True, figsize = (9,9), range = (0,450))\n",
    "plt.title('Жилая площадь')\n",
    "plt.show()"
   ]
  },
  {
   "cell_type": "markdown",
   "metadata": {},
   "source": [
    "Жилая площадь недвижимости составляет от 19 квадратных метров до 409 квадратных метров.\n",
    "\n",
    "Самая продаваемая недвижимость на рынке с жилой площадью от 17 до 30 квадратных метров. Эти значения соответствуют жилой площади 1-комнатной квариры.\n",
    "\n",
    "Также стоит отметить, что есть квартиры со свободной планировкой, для которых указана только общая площадь, а жилая площадь равна 0."
   ]
  },
  {
   "cell_type": "markdown",
   "metadata": {},
   "source": [
    "***Площадь кухни***"
   ]
  },
  {
   "cell_type": "code",
   "execution_count": 33,
   "metadata": {},
   "outputs": [
    {
     "name": "stdout",
     "output_type": "stream",
     "text": [
      "count    23564.000000\n",
      "mean        10.351090\n",
      "std          5.737732\n",
      "min          0.000000\n",
      "25%          7.000000\n",
      "50%          9.100000\n",
      "75%         11.500000\n",
      "max        112.000000\n",
      "Name: kitchen_area, dtype: float64\n"
     ]
    },
    {
     "data": {
      "image/png": "[encoded data removed]",
      "text/plain": [
       "<Figure size 648x648 with 1 Axes>"
      ]
     },
     "metadata": {
      "needs_background": "light"
     },
     "output_type": "display_data"
    }
   ],
   "source": [
    "# Проанализируем столбец kitchen_area и построим гистограмму\n",
    "print(data['kitchen_area'].describe())\n",
    "data.plot(y = 'kitchen_area', kind = 'hist', bins = 100, grid=True, figsize = (9,9), range = (0,150))\n",
    "plt.title('Площадь кухни')\n",
    "plt.show()"
   ]
  },
  {
   "cell_type": "markdown",
   "metadata": {},
   "source": [
    "Площадь кухни составляет от 7 квадратных метров до 112 квадратных метров.\n",
    "\n",
    "Самая продаваемая недвижимость на рынке с площадью кухни от 9 до 11 квадратных метров.\n",
    "\n",
    "Также стоит отметить, что есть квартиры со свободной планировкой и квартиры-студии, для которых указана только общая площадь, а площадь кухни равна 0."
   ]
  },
  {
   "cell_type": "markdown",
   "metadata": {},
   "source": [
    "***Цена объекта***"
   ]
  },
  {
   "cell_type": "code",
   "execution_count": 34,
   "metadata": {},
   "outputs": [
    {
     "name": "stdout",
     "output_type": "stream",
     "text": [
      "count    2.356400e+04\n",
      "mean     6.540185e+06\n",
      "std      1.091115e+07\n",
      "min      1.219000e+04\n",
      "25%      3.400000e+06\n",
      "50%      4.646500e+06\n",
      "75%      6.790000e+06\n",
      "max      7.630000e+08\n",
      "Name: last_price, dtype: float64\n"
     ]
    },
    {
     "data": {
      "image/png": "[encoded data removed]",
      "text/plain": [
       "<Figure size 648x648 with 1 Axes>"
      ]
     },
     "metadata": {
      "needs_background": "light"
     },
     "output_type": "display_data"
    }
   ],
   "source": [
    "# Проанализируем столбец last_price и построим гистограмму\n",
    "print(data['last_price'].describe())\n",
    "data.plot(y = 'last_price', kind = 'hist', bins = 100, grid=True, figsize = (9,9), range = (0,50000000))\n",
    "plt.title('Цена объекта')\n",
    "plt.show()"
   ]
  },
  {
   "cell_type": "code",
   "execution_count": 35,
   "metadata": {},
   "outputs": [
    {
     "data": {
      "text/html": [
       "<div>\n",
       "<style scoped>\n",
       "    .dataframe tbody tr th:only-of-type {\n",
       "        vertical-align: middle;\n",
       "    }\n",
       "\n",
       "    .dataframe tbody tr th {\n",
       "        vertical-align: top;\n",
       "    }\n",
       "\n",
       "    .dataframe thead th {\n",
       "        text-align: right;\n",
       "    }\n",
       "</style>\n",
       "<table border=\"1\" class=\"dataframe\">\n",
       "  <thead>\n",
       "    <tr style=\"text-align: right;\">\n",
       "      <th></th>\n",
       "      <th>total_images</th>\n",
       "      <th>last_price</th>\n",
       "      <th>total_area</th>\n",
       "      <th>first_day_exposition</th>\n",
       "      <th>rooms</th>\n",
       "      <th>ceiling_height</th>\n",
       "      <th>floors_total</th>\n",
       "      <th>living_area</th>\n",
       "      <th>floor</th>\n",
       "      <th>is_apartment</th>\n",
       "      <th>studio</th>\n",
       "      <th>open_plan</th>\n",
       "      <th>kitchen_area</th>\n",
       "      <th>balcony</th>\n",
       "      <th>locality_name</th>\n",
       "      <th>airports_nearest</th>\n",
       "      <th>city_centers_nearest</th>\n",
       "      <th>parks_around_3000</th>\n",
       "      <th>parks_nearest</th>\n",
       "      <th>ponds_around_3000</th>\n",
       "      <th>ponds_nearest</th>\n",
       "      <th>days_exposition</th>\n",
       "      <th>price_meter</th>\n",
       "      <th>weekday_exposition</th>\n",
       "      <th>month_exposition</th>\n",
       "      <th>year_exposition</th>\n",
       "      <th>floor_category</th>\n",
       "      <th>city_centers_km</th>\n",
       "    </tr>\n",
       "  </thead>\n",
       "  <tbody>\n",
       "    <tr>\n",
       "      <th>8793</th>\n",
       "      <td>7</td>\n",
       "      <td>12190</td>\n",
       "      <td>109.0</td>\n",
       "      <td>2019-03-20</td>\n",
       "      <td>2</td>\n",
       "      <td>2.75</td>\n",
       "      <td>25</td>\n",
       "      <td>32.0</td>\n",
       "      <td>25</td>\n",
       "      <td>False</td>\n",
       "      <td>False</td>\n",
       "      <td>False</td>\n",
       "      <td>40.5</td>\n",
       "      <td>0</td>\n",
       "      <td>Санкт-Петербург</td>\n",
       "      <td>36421.0</td>\n",
       "      <td>9176.0</td>\n",
       "      <td>1.0</td>\n",
       "      <td>805.0</td>\n",
       "      <td>0.0</td>\n",
       "      <td>NaN</td>\n",
       "      <td>8.0</td>\n",
       "      <td>111.834862</td>\n",
       "      <td>среда</td>\n",
       "      <td>3</td>\n",
       "      <td>2019</td>\n",
       "      <td>последний</td>\n",
       "      <td>9.0</td>\n",
       "    </tr>\n",
       "  </tbody>\n",
       "</table>\n",
       "</div>"
      ],
      "text/plain": [
       "      total_images  last_price  total_area first_day_exposition  rooms  \\\n",
       "8793             7       12190       109.0           2019-03-20      2   \n",
       "\n",
       "      ceiling_height  floors_total  living_area  floor  is_apartment  studio  \\\n",
       "8793            2.75            25         32.0     25         False   False   \n",
       "\n",
       "      open_plan  kitchen_area  balcony    locality_name  airports_nearest  \\\n",
       "8793      False          40.5        0  Санкт-Петербург           36421.0   \n",
       "\n",
       "      city_centers_nearest  parks_around_3000  parks_nearest  \\\n",
       "8793                9176.0                1.0          805.0   \n",
       "\n",
       "      ponds_around_3000  ponds_nearest  days_exposition  price_meter  \\\n",
       "8793                0.0            NaN              8.0   111.834862   \n",
       "\n",
       "     weekday_exposition  month_exposition  year_exposition floor_category  \\\n",
       "8793              среда                 3             2019      последний   \n",
       "\n",
       "      city_centers_km  \n",
       "8793              9.0  "
      ]
     },
     "execution_count": 35,
     "metadata": {},
     "output_type": "execute_result"
    }
   ],
   "source": [
    "# В данных есть выбросы, минимальная цена квартиры 12190 рублей\n",
    "data[data['last_price'] < 15000]"
   ]
  },
  {
   "cell_type": "code",
   "execution_count": 36,
   "metadata": {},
   "outputs": [
    {
     "name": "stdout",
     "output_type": "stream",
     "text": [
      "count    2.356400e+04\n",
      "mean     6.540702e+06\n",
      "std      1.091113e+07\n",
      "min      4.300000e+05\n",
      "25%      3.400000e+06\n",
      "50%      4.648500e+06\n",
      "75%      6.790000e+06\n",
      "max      7.630000e+08\n",
      "Name: last_price, dtype: float64\n"
     ]
    }
   ],
   "source": [
    "# Квартира в Санкт-Петербурге площадью 109 квадратных метров, на 25 этаже, в 9 километрах от центра не может стоить 12190\n",
    "data['last_price'] = data['last_price'].replace(12190, 12190000)\n",
    "\n",
    "# Проверим\n",
    "print(data['last_price'].describe())"
   ]
  },
  {
   "cell_type": "markdown",
   "metadata": {},
   "source": [
    "Стоймость недвижимости варьируется от 430 тысяч рублей до 763 миллионов рублей.\n",
    "\n",
    "Средняя стоймость объекта недвижимости - 6,5 миллионов рублей."
   ]
  },
  {
   "cell_type": "markdown",
   "metadata": {},
   "source": [
    "***Количество комнат***"
   ]
  },
  {
   "cell_type": "code",
   "execution_count": 37,
   "metadata": {
    "scrolled": false
   },
   "outputs": [
    {
     "name": "stdout",
     "output_type": "stream",
     "text": [
      "count    23564.000000\n",
      "mean         2.070701\n",
      "std          1.078591\n",
      "min          0.000000\n",
      "25%          1.000000\n",
      "50%          2.000000\n",
      "75%          3.000000\n",
      "max         19.000000\n",
      "Name: rooms, dtype: float64\n"
     ]
    },
    {
     "data": {
      "image/png": "[encoded data removed]",
      "text/plain": [
       "<Figure size 648x648 with 1 Axes>"
      ]
     },
     "metadata": {
      "needs_background": "light"
     },
     "output_type": "display_data"
    }
   ],
   "source": [
    "# Проанализируем столбец rooms и построим гистограмму\n",
    "print(data['rooms'].describe())\n",
    "data.plot(y = 'rooms', kind = 'hist', bins = 20, grid=True, figsize = (9,9), range = (0,25))\n",
    "plt.title('Количество комнат')\n",
    "plt.show()"
   ]
  },
  {
   "cell_type": "code",
   "execution_count": 38,
   "metadata": {},
   "outputs": [
    {
     "name": "stdout",
     "output_type": "stream",
     "text": [
      "1     8003\n",
      "2     7897\n",
      "3     5779\n",
      "4     1172\n",
      "5      325\n",
      "0      194\n",
      "6      104\n",
      "7       59\n",
      "8       12\n",
      "9        8\n",
      "10       3\n",
      "11       2\n",
      "14       2\n",
      "19       1\n",
      "16       1\n",
      "12       1\n",
      "15       1\n",
      "Name: rooms, dtype: int64\n"
     ]
    }
   ],
   "source": [
    "# Посмотрим на значения\n",
    "print(data['rooms'].value_counts())"
   ]
  },
  {
   "cell_type": "markdown",
   "metadata": {},
   "source": [
    "Стоит отметить, что есть 194 обяъвления, в которых количество комнат равно нулю."
   ]
  },
  {
   "cell_type": "code",
   "execution_count": 39,
   "metadata": {},
   "outputs": [
    {
     "name": "stdout",
     "output_type": "stream",
     "text": [
      "1     8138\n",
      "2     7897\n",
      "3     5779\n",
      "4     1172\n",
      "5      325\n",
      "6      104\n",
      "7       59\n",
      "0       59\n",
      "8       12\n",
      "9        8\n",
      "10       3\n",
      "11       2\n",
      "14       2\n",
      "16       1\n",
      "19       1\n",
      "12       1\n",
      "15       1\n",
      "Name: rooms, dtype: int64\n"
     ]
    }
   ],
   "source": [
    "# 135 из них являются студиями, в студии одна комната, поэтому проставим 1.\n",
    "data.loc[(data['rooms'] == 0) & (data['studio'] == True), 'rooms'] = 1\n",
    "print(data['rooms'].value_counts())"
   ]
  },
  {
   "cell_type": "code",
   "execution_count": 40,
   "metadata": {},
   "outputs": [
    {
     "data": {
      "text/plain": [
       "59"
      ]
     },
     "execution_count": 40,
     "metadata": {},
     "output_type": "execute_result"
    }
   ],
   "source": [
    "# Остальные 59 являются квартирами со свободной планировкой, их не трогаем\n",
    "data['rooms'].loc[(data['rooms'] == 0) & (data['open_plan'] == True)].count()"
   ]
  },
  {
   "cell_type": "markdown",
   "metadata": {},
   "source": [
    "На рынке недвижимости наиболее распространены 1-комнатные квартиры - 8138 объявлений,\n",
    "чуть меньше по количеству 2-комнатных квартир - 7897 обяъвлений, 3-комнатныx - 5779.\n",
    "\n",
    "Также стоит отметить, что есть 59 объектов недвижимости со свободной планировкой, у этих объектов число комнат равно 0."
   ]
  },
  {
   "cell_type": "markdown",
   "metadata": {},
   "source": [
    "***Высота потолков***"
   ]
  },
  {
   "cell_type": "code",
   "execution_count": 41,
   "metadata": {
    "scrolled": false
   },
   "outputs": [
    {
     "name": "stdout",
     "output_type": "stream",
     "text": [
      "count    23564.000000\n",
      "mean         2.724533\n",
      "std          0.991047\n",
      "min          1.000000\n",
      "25%          2.600000\n",
      "50%          2.650000\n",
      "75%          2.700000\n",
      "max        100.000000\n",
      "Name: ceiling_height, dtype: float64\n"
     ]
    },
    {
     "data": {
      "image/png": "[encoded data removed]",
      "text/plain": [
       "<Figure size 648x648 with 1 Axes>"
      ]
     },
     "metadata": {
      "needs_background": "light"
     },
     "output_type": "display_data"
    }
   ],
   "source": [
    "# Проанализируем столбец ceiling_height и построим гистограмму\n",
    "print(data['ceiling_height'].describe())\n",
    "data.plot(y = 'ceiling_height', kind = 'hist', bins = 20, grid=True, figsize = (9,9), range = (0,10))\n",
    "plt.title('Высота потолков')\n",
    "plt.show()"
   ]
  },
  {
   "cell_type": "code",
   "execution_count": 42,
   "metadata": {},
   "outputs": [
    {
     "name": "stdout",
     "output_type": "stream",
     "text": [
      "count    23564.000000\n",
      "mean         2.724805\n",
      "std          0.990840\n",
      "min          2.300000\n",
      "25%          2.600000\n",
      "50%          2.650000\n",
      "75%          2.700000\n",
      "max        100.000000\n",
      "Name: ceiling_height, dtype: float64\n"
     ]
    },
    {
     "data": {
      "text/html": [
       "<div>\n",
       "<style scoped>\n",
       "    .dataframe tbody tr th:only-of-type {\n",
       "        vertical-align: middle;\n",
       "    }\n",
       "\n",
       "    .dataframe tbody tr th {\n",
       "        vertical-align: top;\n",
       "    }\n",
       "\n",
       "    .dataframe thead th {\n",
       "        text-align: right;\n",
       "    }\n",
       "</style>\n",
       "<table border=\"1\" class=\"dataframe\">\n",
       "  <thead>\n",
       "    <tr style=\"text-align: right;\">\n",
       "      <th></th>\n",
       "      <th>total_images</th>\n",
       "      <th>last_price</th>\n",
       "      <th>total_area</th>\n",
       "      <th>first_day_exposition</th>\n",
       "      <th>rooms</th>\n",
       "      <th>ceiling_height</th>\n",
       "      <th>floors_total</th>\n",
       "      <th>living_area</th>\n",
       "      <th>floor</th>\n",
       "      <th>is_apartment</th>\n",
       "      <th>studio</th>\n",
       "      <th>open_plan</th>\n",
       "      <th>kitchen_area</th>\n",
       "      <th>balcony</th>\n",
       "      <th>locality_name</th>\n",
       "      <th>airports_nearest</th>\n",
       "      <th>city_centers_nearest</th>\n",
       "      <th>parks_around_3000</th>\n",
       "      <th>parks_nearest</th>\n",
       "      <th>ponds_around_3000</th>\n",
       "      <th>ponds_nearest</th>\n",
       "      <th>days_exposition</th>\n",
       "      <th>price_meter</th>\n",
       "      <th>weekday_exposition</th>\n",
       "      <th>month_exposition</th>\n",
       "      <th>year_exposition</th>\n",
       "      <th>floor_category</th>\n",
       "      <th>city_centers_km</th>\n",
       "    </tr>\n",
       "  </thead>\n",
       "  <tbody>\n",
       "    <tr>\n",
       "      <th>355</th>\n",
       "      <td>17</td>\n",
       "      <td>3600000</td>\n",
       "      <td>55.2</td>\n",
       "      <td>2018-07-12</td>\n",
       "      <td>2</td>\n",
       "      <td>25.0</td>\n",
       "      <td>5</td>\n",
       "      <td>32.0</td>\n",
       "      <td>2</td>\n",
       "      <td>False</td>\n",
       "      <td>False</td>\n",
       "      <td>False</td>\n",
       "      <td>7.0</td>\n",
       "      <td>2</td>\n",
       "      <td>Гатчина</td>\n",
       "      <td>NaN</td>\n",
       "      <td>NaN</td>\n",
       "      <td>NaN</td>\n",
       "      <td>NaN</td>\n",
       "      <td>NaN</td>\n",
       "      <td>NaN</td>\n",
       "      <td>259.0</td>\n",
       "      <td>65217.391304</td>\n",
       "      <td>четверг</td>\n",
       "      <td>7</td>\n",
       "      <td>2018</td>\n",
       "      <td>другой</td>\n",
       "      <td>NaN</td>\n",
       "    </tr>\n",
       "    <tr>\n",
       "      <th>3148</th>\n",
       "      <td>14</td>\n",
       "      <td>2900000</td>\n",
       "      <td>75.0</td>\n",
       "      <td>2018-11-12</td>\n",
       "      <td>3</td>\n",
       "      <td>32.0</td>\n",
       "      <td>3</td>\n",
       "      <td>53.0</td>\n",
       "      <td>2</td>\n",
       "      <td>False</td>\n",
       "      <td>False</td>\n",
       "      <td>False</td>\n",
       "      <td>8.0</td>\n",
       "      <td>0</td>\n",
       "      <td>Волхов</td>\n",
       "      <td>NaN</td>\n",
       "      <td>NaN</td>\n",
       "      <td>NaN</td>\n",
       "      <td>NaN</td>\n",
       "      <td>NaN</td>\n",
       "      <td>NaN</td>\n",
       "      <td>NaN</td>\n",
       "      <td>38666.666667</td>\n",
       "      <td>понедельник</td>\n",
       "      <td>11</td>\n",
       "      <td>2018</td>\n",
       "      <td>другой</td>\n",
       "      <td>NaN</td>\n",
       "    </tr>\n",
       "    <tr>\n",
       "      <th>4643</th>\n",
       "      <td>0</td>\n",
       "      <td>4300000</td>\n",
       "      <td>45.0</td>\n",
       "      <td>2018-02-01</td>\n",
       "      <td>2</td>\n",
       "      <td>25.0</td>\n",
       "      <td>9</td>\n",
       "      <td>30.0</td>\n",
       "      <td>2</td>\n",
       "      <td>False</td>\n",
       "      <td>False</td>\n",
       "      <td>False</td>\n",
       "      <td>7.0</td>\n",
       "      <td>1</td>\n",
       "      <td>Санкт-Петербург</td>\n",
       "      <td>12016.0</td>\n",
       "      <td>13256.0</td>\n",
       "      <td>1.0</td>\n",
       "      <td>658.0</td>\n",
       "      <td>1.0</td>\n",
       "      <td>331.0</td>\n",
       "      <td>181.0</td>\n",
       "      <td>95555.555556</td>\n",
       "      <td>четверг</td>\n",
       "      <td>2</td>\n",
       "      <td>2018</td>\n",
       "      <td>другой</td>\n",
       "      <td>13.0</td>\n",
       "    </tr>\n",
       "    <tr>\n",
       "      <th>4876</th>\n",
       "      <td>7</td>\n",
       "      <td>3000000</td>\n",
       "      <td>25.0</td>\n",
       "      <td>2017-09-27</td>\n",
       "      <td>0</td>\n",
       "      <td>27.0</td>\n",
       "      <td>25</td>\n",
       "      <td>0.0</td>\n",
       "      <td>17</td>\n",
       "      <td>False</td>\n",
       "      <td>False</td>\n",
       "      <td>True</td>\n",
       "      <td>0.0</td>\n",
       "      <td>2</td>\n",
       "      <td>поселок Мурино</td>\n",
       "      <td>NaN</td>\n",
       "      <td>NaN</td>\n",
       "      <td>NaN</td>\n",
       "      <td>NaN</td>\n",
       "      <td>NaN</td>\n",
       "      <td>NaN</td>\n",
       "      <td>28.0</td>\n",
       "      <td>120000.000000</td>\n",
       "      <td>среда</td>\n",
       "      <td>9</td>\n",
       "      <td>2017</td>\n",
       "      <td>другой</td>\n",
       "      <td>NaN</td>\n",
       "    </tr>\n",
       "    <tr>\n",
       "      <th>5076</th>\n",
       "      <td>0</td>\n",
       "      <td>3850000</td>\n",
       "      <td>30.5</td>\n",
       "      <td>2018-10-03</td>\n",
       "      <td>1</td>\n",
       "      <td>24.0</td>\n",
       "      <td>5</td>\n",
       "      <td>19.5</td>\n",
       "      <td>1</td>\n",
       "      <td>True</td>\n",
       "      <td>False</td>\n",
       "      <td>False</td>\n",
       "      <td>5.5</td>\n",
       "      <td>0</td>\n",
       "      <td>Санкт-Петербург</td>\n",
       "      <td>29686.0</td>\n",
       "      <td>8389.0</td>\n",
       "      <td>3.0</td>\n",
       "      <td>397.0</td>\n",
       "      <td>1.0</td>\n",
       "      <td>578.0</td>\n",
       "      <td>7.0</td>\n",
       "      <td>126229.508197</td>\n",
       "      <td>среда</td>\n",
       "      <td>10</td>\n",
       "      <td>2018</td>\n",
       "      <td>первый</td>\n",
       "      <td>8.0</td>\n",
       "    </tr>\n",
       "    <tr>\n",
       "      <th>5246</th>\n",
       "      <td>0</td>\n",
       "      <td>2500000</td>\n",
       "      <td>54.0</td>\n",
       "      <td>2017-10-13</td>\n",
       "      <td>2</td>\n",
       "      <td>27.0</td>\n",
       "      <td>5</td>\n",
       "      <td>30.0</td>\n",
       "      <td>3</td>\n",
       "      <td>False</td>\n",
       "      <td>False</td>\n",
       "      <td>False</td>\n",
       "      <td>9.0</td>\n",
       "      <td>2</td>\n",
       "      <td>деревня Мины</td>\n",
       "      <td>NaN</td>\n",
       "      <td>NaN</td>\n",
       "      <td>NaN</td>\n",
       "      <td>NaN</td>\n",
       "      <td>NaN</td>\n",
       "      <td>NaN</td>\n",
       "      <td>540.0</td>\n",
       "      <td>46296.296296</td>\n",
       "      <td>пятница</td>\n",
       "      <td>10</td>\n",
       "      <td>2017</td>\n",
       "      <td>другой</td>\n",
       "      <td>NaN</td>\n",
       "    </tr>\n",
       "    <tr>\n",
       "      <th>5669</th>\n",
       "      <td>4</td>\n",
       "      <td>4400000</td>\n",
       "      <td>50.0</td>\n",
       "      <td>2017-08-08</td>\n",
       "      <td>2</td>\n",
       "      <td>26.0</td>\n",
       "      <td>9</td>\n",
       "      <td>21.3</td>\n",
       "      <td>3</td>\n",
       "      <td>False</td>\n",
       "      <td>False</td>\n",
       "      <td>False</td>\n",
       "      <td>7.0</td>\n",
       "      <td>2</td>\n",
       "      <td>Санкт-Петербург</td>\n",
       "      <td>28981.0</td>\n",
       "      <td>10912.0</td>\n",
       "      <td>1.0</td>\n",
       "      <td>305.0</td>\n",
       "      <td>0.0</td>\n",
       "      <td>NaN</td>\n",
       "      <td>267.0</td>\n",
       "      <td>88000.000000</td>\n",
       "      <td>вторник</td>\n",
       "      <td>8</td>\n",
       "      <td>2017</td>\n",
       "      <td>другой</td>\n",
       "      <td>11.0</td>\n",
       "    </tr>\n",
       "    <tr>\n",
       "      <th>5807</th>\n",
       "      <td>17</td>\n",
       "      <td>8150000</td>\n",
       "      <td>80.0</td>\n",
       "      <td>2019-01-09</td>\n",
       "      <td>2</td>\n",
       "      <td>27.0</td>\n",
       "      <td>36</td>\n",
       "      <td>41.0</td>\n",
       "      <td>13</td>\n",
       "      <td>False</td>\n",
       "      <td>False</td>\n",
       "      <td>False</td>\n",
       "      <td>12.0</td>\n",
       "      <td>5</td>\n",
       "      <td>Санкт-Петербург</td>\n",
       "      <td>18732.0</td>\n",
       "      <td>20444.0</td>\n",
       "      <td>0.0</td>\n",
       "      <td>NaN</td>\n",
       "      <td>3.0</td>\n",
       "      <td>80.0</td>\n",
       "      <td>38.0</td>\n",
       "      <td>101875.000000</td>\n",
       "      <td>среда</td>\n",
       "      <td>1</td>\n",
       "      <td>2019</td>\n",
       "      <td>другой</td>\n",
       "      <td>20.0</td>\n",
       "    </tr>\n",
       "    <tr>\n",
       "      <th>6246</th>\n",
       "      <td>6</td>\n",
       "      <td>3300000</td>\n",
       "      <td>44.4</td>\n",
       "      <td>2019-03-25</td>\n",
       "      <td>2</td>\n",
       "      <td>25.0</td>\n",
       "      <td>5</td>\n",
       "      <td>31.3</td>\n",
       "      <td>5</td>\n",
       "      <td>False</td>\n",
       "      <td>False</td>\n",
       "      <td>False</td>\n",
       "      <td>5.7</td>\n",
       "      <td>0</td>\n",
       "      <td>Кронштадт</td>\n",
       "      <td>68923.0</td>\n",
       "      <td>50649.0</td>\n",
       "      <td>1.0</td>\n",
       "      <td>417.0</td>\n",
       "      <td>2.0</td>\n",
       "      <td>73.0</td>\n",
       "      <td>NaN</td>\n",
       "      <td>74324.324324</td>\n",
       "      <td>понедельник</td>\n",
       "      <td>3</td>\n",
       "      <td>2019</td>\n",
       "      <td>последний</td>\n",
       "      <td>51.0</td>\n",
       "    </tr>\n",
       "    <tr>\n",
       "      <th>9379</th>\n",
       "      <td>5</td>\n",
       "      <td>3950000</td>\n",
       "      <td>42.0</td>\n",
       "      <td>2017-03-26</td>\n",
       "      <td>3</td>\n",
       "      <td>25.0</td>\n",
       "      <td>5</td>\n",
       "      <td>30.0</td>\n",
       "      <td>2</td>\n",
       "      <td>False</td>\n",
       "      <td>False</td>\n",
       "      <td>False</td>\n",
       "      <td>5.2</td>\n",
       "      <td>0</td>\n",
       "      <td>Санкт-Петербург</td>\n",
       "      <td>11647.0</td>\n",
       "      <td>13581.0</td>\n",
       "      <td>0.0</td>\n",
       "      <td>NaN</td>\n",
       "      <td>0.0</td>\n",
       "      <td>NaN</td>\n",
       "      <td>NaN</td>\n",
       "      <td>94047.619048</td>\n",
       "      <td>воскресенье</td>\n",
       "      <td>3</td>\n",
       "      <td>2017</td>\n",
       "      <td>другой</td>\n",
       "      <td>14.0</td>\n",
       "    </tr>\n",
       "    <tr>\n",
       "      <th>10773</th>\n",
       "      <td>8</td>\n",
       "      <td>3800000</td>\n",
       "      <td>58.0</td>\n",
       "      <td>2017-10-13</td>\n",
       "      <td>2</td>\n",
       "      <td>27.0</td>\n",
       "      <td>10</td>\n",
       "      <td>30.1</td>\n",
       "      <td>3</td>\n",
       "      <td>False</td>\n",
       "      <td>False</td>\n",
       "      <td>False</td>\n",
       "      <td>8.1</td>\n",
       "      <td>2</td>\n",
       "      <td>поселок Мурино</td>\n",
       "      <td>NaN</td>\n",
       "      <td>NaN</td>\n",
       "      <td>NaN</td>\n",
       "      <td>NaN</td>\n",
       "      <td>NaN</td>\n",
       "      <td>NaN</td>\n",
       "      <td>71.0</td>\n",
       "      <td>65517.241379</td>\n",
       "      <td>пятница</td>\n",
       "      <td>10</td>\n",
       "      <td>2017</td>\n",
       "      <td>другой</td>\n",
       "      <td>NaN</td>\n",
       "    </tr>\n",
       "    <tr>\n",
       "      <th>11285</th>\n",
       "      <td>0</td>\n",
       "      <td>1950000</td>\n",
       "      <td>37.0</td>\n",
       "      <td>2019-03-20</td>\n",
       "      <td>1</td>\n",
       "      <td>25.0</td>\n",
       "      <td>5</td>\n",
       "      <td>17.0</td>\n",
       "      <td>4</td>\n",
       "      <td>False</td>\n",
       "      <td>False</td>\n",
       "      <td>False</td>\n",
       "      <td>9.0</td>\n",
       "      <td>2</td>\n",
       "      <td>Луга</td>\n",
       "      <td>NaN</td>\n",
       "      <td>NaN</td>\n",
       "      <td>NaN</td>\n",
       "      <td>NaN</td>\n",
       "      <td>NaN</td>\n",
       "      <td>NaN</td>\n",
       "      <td>18.0</td>\n",
       "      <td>52702.702703</td>\n",
       "      <td>среда</td>\n",
       "      <td>3</td>\n",
       "      <td>2019</td>\n",
       "      <td>другой</td>\n",
       "      <td>NaN</td>\n",
       "    </tr>\n",
       "    <tr>\n",
       "      <th>14382</th>\n",
       "      <td>9</td>\n",
       "      <td>1700000</td>\n",
       "      <td>35.0</td>\n",
       "      <td>2015-12-04</td>\n",
       "      <td>1</td>\n",
       "      <td>25.0</td>\n",
       "      <td>5</td>\n",
       "      <td>20.0</td>\n",
       "      <td>2</td>\n",
       "      <td>False</td>\n",
       "      <td>False</td>\n",
       "      <td>False</td>\n",
       "      <td>8.0</td>\n",
       "      <td>1</td>\n",
       "      <td>поселок Новый Свет</td>\n",
       "      <td>NaN</td>\n",
       "      <td>NaN</td>\n",
       "      <td>NaN</td>\n",
       "      <td>NaN</td>\n",
       "      <td>NaN</td>\n",
       "      <td>NaN</td>\n",
       "      <td>206.0</td>\n",
       "      <td>48571.428571</td>\n",
       "      <td>пятница</td>\n",
       "      <td>12</td>\n",
       "      <td>2015</td>\n",
       "      <td>другой</td>\n",
       "      <td>NaN</td>\n",
       "    </tr>\n",
       "    <tr>\n",
       "      <th>15061</th>\n",
       "      <td>19</td>\n",
       "      <td>5600000</td>\n",
       "      <td>56.4</td>\n",
       "      <td>2018-05-11</td>\n",
       "      <td>2</td>\n",
       "      <td>14.0</td>\n",
       "      <td>14</td>\n",
       "      <td>32.4</td>\n",
       "      <td>5</td>\n",
       "      <td>False</td>\n",
       "      <td>False</td>\n",
       "      <td>False</td>\n",
       "      <td>9.1</td>\n",
       "      <td>2</td>\n",
       "      <td>Санкт-Петербург</td>\n",
       "      <td>14814.0</td>\n",
       "      <td>13610.0</td>\n",
       "      <td>0.0</td>\n",
       "      <td>NaN</td>\n",
       "      <td>0.0</td>\n",
       "      <td>NaN</td>\n",
       "      <td>315.0</td>\n",
       "      <td>99290.780142</td>\n",
       "      <td>пятница</td>\n",
       "      <td>5</td>\n",
       "      <td>2018</td>\n",
       "      <td>другой</td>\n",
       "      <td>14.0</td>\n",
       "    </tr>\n",
       "    <tr>\n",
       "      <th>17496</th>\n",
       "      <td>15</td>\n",
       "      <td>6700000</td>\n",
       "      <td>92.9</td>\n",
       "      <td>2019-02-19</td>\n",
       "      <td>3</td>\n",
       "      <td>20.0</td>\n",
       "      <td>17</td>\n",
       "      <td>53.2</td>\n",
       "      <td>14</td>\n",
       "      <td>False</td>\n",
       "      <td>False</td>\n",
       "      <td>False</td>\n",
       "      <td>12.0</td>\n",
       "      <td>5</td>\n",
       "      <td>Санкт-Петербург</td>\n",
       "      <td>16295.0</td>\n",
       "      <td>15092.0</td>\n",
       "      <td>1.0</td>\n",
       "      <td>967.0</td>\n",
       "      <td>0.0</td>\n",
       "      <td>NaN</td>\n",
       "      <td>NaN</td>\n",
       "      <td>72120.559742</td>\n",
       "      <td>вторник</td>\n",
       "      <td>2</td>\n",
       "      <td>2019</td>\n",
       "      <td>другой</td>\n",
       "      <td>15.0</td>\n",
       "    </tr>\n",
       "    <tr>\n",
       "      <th>17857</th>\n",
       "      <td>1</td>\n",
       "      <td>3900000</td>\n",
       "      <td>56.0</td>\n",
       "      <td>2017-12-22</td>\n",
       "      <td>3</td>\n",
       "      <td>27.0</td>\n",
       "      <td>5</td>\n",
       "      <td>33.0</td>\n",
       "      <td>4</td>\n",
       "      <td>False</td>\n",
       "      <td>False</td>\n",
       "      <td>False</td>\n",
       "      <td>7.0</td>\n",
       "      <td>0</td>\n",
       "      <td>Санкт-Петербург</td>\n",
       "      <td>41030.0</td>\n",
       "      <td>15543.0</td>\n",
       "      <td>0.0</td>\n",
       "      <td>NaN</td>\n",
       "      <td>0.0</td>\n",
       "      <td>NaN</td>\n",
       "      <td>73.0</td>\n",
       "      <td>69642.857143</td>\n",
       "      <td>пятница</td>\n",
       "      <td>12</td>\n",
       "      <td>2017</td>\n",
       "      <td>другой</td>\n",
       "      <td>16.0</td>\n",
       "    </tr>\n",
       "    <tr>\n",
       "      <th>18545</th>\n",
       "      <td>6</td>\n",
       "      <td>3750000</td>\n",
       "      <td>43.0</td>\n",
       "      <td>2019-03-18</td>\n",
       "      <td>2</td>\n",
       "      <td>25.0</td>\n",
       "      <td>5</td>\n",
       "      <td>29.0</td>\n",
       "      <td>3</td>\n",
       "      <td>False</td>\n",
       "      <td>False</td>\n",
       "      <td>False</td>\n",
       "      <td>7.0</td>\n",
       "      <td>0</td>\n",
       "      <td>Санкт-Петербург</td>\n",
       "      <td>27054.0</td>\n",
       "      <td>8033.0</td>\n",
       "      <td>1.0</td>\n",
       "      <td>540.0</td>\n",
       "      <td>0.0</td>\n",
       "      <td>NaN</td>\n",
       "      <td>12.0</td>\n",
       "      <td>87209.302326</td>\n",
       "      <td>понедельник</td>\n",
       "      <td>3</td>\n",
       "      <td>2019</td>\n",
       "      <td>другой</td>\n",
       "      <td>8.0</td>\n",
       "    </tr>\n",
       "    <tr>\n",
       "      <th>20478</th>\n",
       "      <td>11</td>\n",
       "      <td>8000000</td>\n",
       "      <td>45.0</td>\n",
       "      <td>2017-07-18</td>\n",
       "      <td>1</td>\n",
       "      <td>27.0</td>\n",
       "      <td>4</td>\n",
       "      <td>22.0</td>\n",
       "      <td>2</td>\n",
       "      <td>False</td>\n",
       "      <td>False</td>\n",
       "      <td>False</td>\n",
       "      <td>10.0</td>\n",
       "      <td>1</td>\n",
       "      <td>Санкт-Петербург</td>\n",
       "      <td>18975.0</td>\n",
       "      <td>3246.0</td>\n",
       "      <td>0.0</td>\n",
       "      <td>NaN</td>\n",
       "      <td>3.0</td>\n",
       "      <td>449.0</td>\n",
       "      <td>429.0</td>\n",
       "      <td>177777.777778</td>\n",
       "      <td>вторник</td>\n",
       "      <td>7</td>\n",
       "      <td>2017</td>\n",
       "      <td>другой</td>\n",
       "      <td>3.0</td>\n",
       "    </tr>\n",
       "    <tr>\n",
       "      <th>20507</th>\n",
       "      <td>12</td>\n",
       "      <td>5950000</td>\n",
       "      <td>60.0</td>\n",
       "      <td>2018-02-19</td>\n",
       "      <td>2</td>\n",
       "      <td>22.6</td>\n",
       "      <td>14</td>\n",
       "      <td>35.0</td>\n",
       "      <td>11</td>\n",
       "      <td>False</td>\n",
       "      <td>False</td>\n",
       "      <td>False</td>\n",
       "      <td>13.0</td>\n",
       "      <td>1</td>\n",
       "      <td>Санкт-Петербург</td>\n",
       "      <td>27028.0</td>\n",
       "      <td>12570.0</td>\n",
       "      <td>0.0</td>\n",
       "      <td>NaN</td>\n",
       "      <td>0.0</td>\n",
       "      <td>NaN</td>\n",
       "      <td>40.0</td>\n",
       "      <td>99166.666667</td>\n",
       "      <td>понедельник</td>\n",
       "      <td>2</td>\n",
       "      <td>2018</td>\n",
       "      <td>другой</td>\n",
       "      <td>13.0</td>\n",
       "    </tr>\n",
       "    <tr>\n",
       "      <th>21377</th>\n",
       "      <td>19</td>\n",
       "      <td>4900000</td>\n",
       "      <td>42.0</td>\n",
       "      <td>2017-04-18</td>\n",
       "      <td>1</td>\n",
       "      <td>27.5</td>\n",
       "      <td>24</td>\n",
       "      <td>37.7</td>\n",
       "      <td>19</td>\n",
       "      <td>False</td>\n",
       "      <td>False</td>\n",
       "      <td>False</td>\n",
       "      <td>11.0</td>\n",
       "      <td>2</td>\n",
       "      <td>Санкт-Петербург</td>\n",
       "      <td>42742.0</td>\n",
       "      <td>9760.0</td>\n",
       "      <td>0.0</td>\n",
       "      <td>NaN</td>\n",
       "      <td>0.0</td>\n",
       "      <td>NaN</td>\n",
       "      <td>61.0</td>\n",
       "      <td>116666.666667</td>\n",
       "      <td>вторник</td>\n",
       "      <td>4</td>\n",
       "      <td>2017</td>\n",
       "      <td>другой</td>\n",
       "      <td>10.0</td>\n",
       "    </tr>\n",
       "    <tr>\n",
       "      <th>21824</th>\n",
       "      <td>20</td>\n",
       "      <td>2450000</td>\n",
       "      <td>44.0</td>\n",
       "      <td>2019-02-12</td>\n",
       "      <td>2</td>\n",
       "      <td>27.0</td>\n",
       "      <td>2</td>\n",
       "      <td>38.0</td>\n",
       "      <td>2</td>\n",
       "      <td>False</td>\n",
       "      <td>False</td>\n",
       "      <td>False</td>\n",
       "      <td>8.6</td>\n",
       "      <td>2</td>\n",
       "      <td>поселок Большая Ижора</td>\n",
       "      <td>NaN</td>\n",
       "      <td>NaN</td>\n",
       "      <td>NaN</td>\n",
       "      <td>NaN</td>\n",
       "      <td>NaN</td>\n",
       "      <td>NaN</td>\n",
       "      <td>NaN</td>\n",
       "      <td>55681.818182</td>\n",
       "      <td>вторник</td>\n",
       "      <td>2</td>\n",
       "      <td>2019</td>\n",
       "      <td>последний</td>\n",
       "      <td>NaN</td>\n",
       "    </tr>\n",
       "    <tr>\n",
       "      <th>22309</th>\n",
       "      <td>20</td>\n",
       "      <td>5300000</td>\n",
       "      <td>45.0</td>\n",
       "      <td>2017-09-30</td>\n",
       "      <td>1</td>\n",
       "      <td>10.3</td>\n",
       "      <td>16</td>\n",
       "      <td>15.5</td>\n",
       "      <td>15</td>\n",
       "      <td>False</td>\n",
       "      <td>False</td>\n",
       "      <td>False</td>\n",
       "      <td>10.6</td>\n",
       "      <td>0</td>\n",
       "      <td>Санкт-Петербург</td>\n",
       "      <td>36353.0</td>\n",
       "      <td>11936.0</td>\n",
       "      <td>2.0</td>\n",
       "      <td>440.0</td>\n",
       "      <td>2.0</td>\n",
       "      <td>450.0</td>\n",
       "      <td>136.0</td>\n",
       "      <td>117777.777778</td>\n",
       "      <td>суббота</td>\n",
       "      <td>9</td>\n",
       "      <td>2017</td>\n",
       "      <td>другой</td>\n",
       "      <td>12.0</td>\n",
       "    </tr>\n",
       "    <tr>\n",
       "      <th>22336</th>\n",
       "      <td>19</td>\n",
       "      <td>9999000</td>\n",
       "      <td>92.4</td>\n",
       "      <td>2019-04-05</td>\n",
       "      <td>2</td>\n",
       "      <td>32.0</td>\n",
       "      <td>6</td>\n",
       "      <td>55.5</td>\n",
       "      <td>5</td>\n",
       "      <td>False</td>\n",
       "      <td>False</td>\n",
       "      <td>False</td>\n",
       "      <td>16.5</td>\n",
       "      <td>4</td>\n",
       "      <td>Санкт-Петербург</td>\n",
       "      <td>18838.0</td>\n",
       "      <td>3506.0</td>\n",
       "      <td>0.0</td>\n",
       "      <td>NaN</td>\n",
       "      <td>3.0</td>\n",
       "      <td>511.0</td>\n",
       "      <td>NaN</td>\n",
       "      <td>108214.285714</td>\n",
       "      <td>пятница</td>\n",
       "      <td>4</td>\n",
       "      <td>2019</td>\n",
       "      <td>другой</td>\n",
       "      <td>4.0</td>\n",
       "    </tr>\n",
       "    <tr>\n",
       "      <th>22869</th>\n",
       "      <td>0</td>\n",
       "      <td>15000000</td>\n",
       "      <td>25.0</td>\n",
       "      <td>2018-07-25</td>\n",
       "      <td>1</td>\n",
       "      <td>100.0</td>\n",
       "      <td>5</td>\n",
       "      <td>14.0</td>\n",
       "      <td>5</td>\n",
       "      <td>True</td>\n",
       "      <td>False</td>\n",
       "      <td>False</td>\n",
       "      <td>11.0</td>\n",
       "      <td>5</td>\n",
       "      <td>Санкт-Петербург</td>\n",
       "      <td>34963.0</td>\n",
       "      <td>8283.0</td>\n",
       "      <td>1.0</td>\n",
       "      <td>223.0</td>\n",
       "      <td>3.0</td>\n",
       "      <td>30.0</td>\n",
       "      <td>19.0</td>\n",
       "      <td>600000.000000</td>\n",
       "      <td>среда</td>\n",
       "      <td>7</td>\n",
       "      <td>2018</td>\n",
       "      <td>последний</td>\n",
       "      <td>8.0</td>\n",
       "    </tr>\n",
       "    <tr>\n",
       "      <th>22938</th>\n",
       "      <td>14</td>\n",
       "      <td>4000000</td>\n",
       "      <td>98.0</td>\n",
       "      <td>2018-03-15</td>\n",
       "      <td>4</td>\n",
       "      <td>27.0</td>\n",
       "      <td>2</td>\n",
       "      <td>73.0</td>\n",
       "      <td>2</td>\n",
       "      <td>True</td>\n",
       "      <td>False</td>\n",
       "      <td>False</td>\n",
       "      <td>9.0</td>\n",
       "      <td>1</td>\n",
       "      <td>деревня Нижняя</td>\n",
       "      <td>NaN</td>\n",
       "      <td>NaN</td>\n",
       "      <td>NaN</td>\n",
       "      <td>NaN</td>\n",
       "      <td>NaN</td>\n",
       "      <td>NaN</td>\n",
       "      <td>27.0</td>\n",
       "      <td>40816.326531</td>\n",
       "      <td>четверг</td>\n",
       "      <td>3</td>\n",
       "      <td>2018</td>\n",
       "      <td>последний</td>\n",
       "      <td>NaN</td>\n",
       "    </tr>\n",
       "  </tbody>\n",
       "</table>\n",
       "</div>"
      ],
      "text/plain": [
       "       total_images  last_price  total_area first_day_exposition  rooms  \\\n",
       "355              17     3600000        55.2           2018-07-12      2   \n",
       "3148             14     2900000        75.0           2018-11-12      3   \n",
       "4643              0     4300000        45.0           2018-02-01      2   \n",
       "4876              7     3000000        25.0           2017-09-27      0   \n",
       "5076              0     3850000        30.5           2018-10-03      1   \n",
       "5246              0     2500000        54.0           2017-10-13      2   \n",
       "5669              4     4400000        50.0           2017-08-08      2   \n",
       "5807             17     8150000        80.0           2019-01-09      2   \n",
       "6246              6     3300000        44.4           2019-03-25      2   \n",
       "9379              5     3950000        42.0           2017-03-26      3   \n",
       "10773             8     3800000        58.0           2017-10-13      2   \n",
       "11285             0     1950000        37.0           2019-03-20      1   \n",
       "14382             9     1700000        35.0           2015-12-04      1   \n",
       "15061            19     5600000        56.4           2018-05-11      2   \n",
       "17496            15     6700000        92.9           2019-02-19      3   \n",
       "17857             1     3900000        56.0           2017-12-22      3   \n",
       "18545             6     3750000        43.0           2019-03-18      2   \n",
       "20478            11     8000000        45.0           2017-07-18      1   \n",
       "20507            12     5950000        60.0           2018-02-19      2   \n",
       "21377            19     4900000        42.0           2017-04-18      1   \n",
       "21824            20     2450000        44.0           2019-02-12      2   \n",
       "22309            20     5300000        45.0           2017-09-30      1   \n",
       "22336            19     9999000        92.4           2019-04-05      2   \n",
       "22869             0    15000000        25.0           2018-07-25      1   \n",
       "22938            14     4000000        98.0           2018-03-15      4   \n",
       "\n",
       "       ceiling_height  floors_total  living_area  floor  is_apartment  studio  \\\n",
       "355              25.0             5         32.0      2         False   False   \n",
       "3148             32.0             3         53.0      2         False   False   \n",
       "4643             25.0             9         30.0      2         False   False   \n",
       "4876             27.0            25          0.0     17         False   False   \n",
       "5076             24.0             5         19.5      1          True   False   \n",
       "5246             27.0             5         30.0      3         False   False   \n",
       "5669             26.0             9         21.3      3         False   False   \n",
       "5807             27.0            36         41.0     13         False   False   \n",
       "6246             25.0             5         31.3      5         False   False   \n",
       "9379             25.0             5         30.0      2         False   False   \n",
       "10773            27.0            10         30.1      3         False   False   \n",
       "11285            25.0             5         17.0      4         False   False   \n",
       "14382            25.0             5         20.0      2         False   False   \n",
       "15061            14.0            14         32.4      5         False   False   \n",
       "17496            20.0            17         53.2     14         False   False   \n",
       "17857            27.0             5         33.0      4         False   False   \n",
       "18545            25.0             5         29.0      3         False   False   \n",
       "20478            27.0             4         22.0      2         False   False   \n",
       "20507            22.6            14         35.0     11         False   False   \n",
       "21377            27.5            24         37.7     19         False   False   \n",
       "21824            27.0             2         38.0      2         False   False   \n",
       "22309            10.3            16         15.5     15         False   False   \n",
       "22336            32.0             6         55.5      5         False   False   \n",
       "22869           100.0             5         14.0      5          True   False   \n",
       "22938            27.0             2         73.0      2          True   False   \n",
       "\n",
       "       open_plan  kitchen_area  balcony          locality_name  \\\n",
       "355        False           7.0        2                Гатчина   \n",
       "3148       False           8.0        0                 Волхов   \n",
       "4643       False           7.0        1        Санкт-Петербург   \n",
       "4876        True           0.0        2         поселок Мурино   \n",
       "5076       False           5.5        0        Санкт-Петербург   \n",
       "5246       False           9.0        2           деревня Мины   \n",
       "5669       False           7.0        2        Санкт-Петербург   \n",
       "5807       False          12.0        5        Санкт-Петербург   \n",
       "6246       False           5.7        0              Кронштадт   \n",
       "9379       False           5.2        0        Санкт-Петербург   \n",
       "10773      False           8.1        2         поселок Мурино   \n",
       "11285      False           9.0        2                   Луга   \n",
       "14382      False           8.0        1     поселок Новый Свет   \n",
       "15061      False           9.1        2        Санкт-Петербург   \n",
       "17496      False          12.0        5        Санкт-Петербург   \n",
       "17857      False           7.0        0        Санкт-Петербург   \n",
       "18545      False           7.0        0        Санкт-Петербург   \n",
       "20478      False          10.0        1        Санкт-Петербург   \n",
       "20507      False          13.0        1        Санкт-Петербург   \n",
       "21377      False          11.0        2        Санкт-Петербург   \n",
       "21824      False           8.6        2  поселок Большая Ижора   \n",
       "22309      False          10.6        0        Санкт-Петербург   \n",
       "22336      False          16.5        4        Санкт-Петербург   \n",
       "22869      False          11.0        5        Санкт-Петербург   \n",
       "22938      False           9.0        1         деревня Нижняя   \n",
       "\n",
       "       airports_nearest  city_centers_nearest  parks_around_3000  \\\n",
       "355                 NaN                   NaN                NaN   \n",
       "3148                NaN                   NaN                NaN   \n",
       "4643            12016.0               13256.0                1.0   \n",
       "4876                NaN                   NaN                NaN   \n",
       "5076            29686.0                8389.0                3.0   \n",
       "5246                NaN                   NaN                NaN   \n",
       "5669            28981.0               10912.0                1.0   \n",
       "5807            18732.0               20444.0                0.0   \n",
       "6246            68923.0               50649.0                1.0   \n",
       "9379            11647.0               13581.0                0.0   \n",
       "10773               NaN                   NaN                NaN   \n",
       "11285               NaN                   NaN                NaN   \n",
       "14382               NaN                   NaN                NaN   \n",
       "15061           14814.0               13610.0                0.0   \n",
       "17496           16295.0               15092.0                1.0   \n",
       "17857           41030.0               15543.0                0.0   \n",
       "18545           27054.0                8033.0                1.0   \n",
       "20478           18975.0                3246.0                0.0   \n",
       "20507           27028.0               12570.0                0.0   \n",
       "21377           42742.0                9760.0                0.0   \n",
       "21824               NaN                   NaN                NaN   \n",
       "22309           36353.0               11936.0                2.0   \n",
       "22336           18838.0                3506.0                0.0   \n",
       "22869           34963.0                8283.0                1.0   \n",
       "22938               NaN                   NaN                NaN   \n",
       "\n",
       "       parks_nearest  ponds_around_3000  ponds_nearest  days_exposition  \\\n",
       "355              NaN                NaN            NaN            259.0   \n",
       "3148             NaN                NaN            NaN              NaN   \n",
       "4643           658.0                1.0          331.0            181.0   \n",
       "4876             NaN                NaN            NaN             28.0   \n",
       "5076           397.0                1.0          578.0              7.0   \n",
       "5246             NaN                NaN            NaN            540.0   \n",
       "5669           305.0                0.0            NaN            267.0   \n",
       "5807             NaN                3.0           80.0             38.0   \n",
       "6246           417.0                2.0           73.0              NaN   \n",
       "9379             NaN                0.0            NaN              NaN   \n",
       "10773            NaN                NaN            NaN             71.0   \n",
       "11285            NaN                NaN            NaN             18.0   \n",
       "14382            NaN                NaN            NaN            206.0   \n",
       "15061            NaN                0.0            NaN            315.0   \n",
       "17496          967.0                0.0            NaN              NaN   \n",
       "17857            NaN                0.0            NaN             73.0   \n",
       "18545          540.0                0.0            NaN             12.0   \n",
       "20478            NaN                3.0          449.0            429.0   \n",
       "20507            NaN                0.0            NaN             40.0   \n",
       "21377            NaN                0.0            NaN             61.0   \n",
       "21824            NaN                NaN            NaN              NaN   \n",
       "22309          440.0                2.0          450.0            136.0   \n",
       "22336            NaN                3.0          511.0              NaN   \n",
       "22869          223.0                3.0           30.0             19.0   \n",
       "22938            NaN                NaN            NaN             27.0   \n",
       "\n",
       "         price_meter weekday_exposition  month_exposition  year_exposition  \\\n",
       "355     65217.391304            четверг                 7             2018   \n",
       "3148    38666.666667        понедельник                11             2018   \n",
       "4643    95555.555556            четверг                 2             2018   \n",
       "4876   120000.000000              среда                 9             2017   \n",
       "5076   126229.508197              среда                10             2018   \n",
       "5246    46296.296296            пятница                10             2017   \n",
       "5669    88000.000000            вторник                 8             2017   \n",
       "5807   101875.000000              среда                 1             2019   \n",
       "6246    74324.324324        понедельник                 3             2019   \n",
       "9379    94047.619048        воскресенье                 3             2017   \n",
       "10773   65517.241379            пятница                10             2017   \n",
       "11285   52702.702703              среда                 3             2019   \n",
       "14382   48571.428571            пятница                12             2015   \n",
       "15061   99290.780142            пятница                 5             2018   \n",
       "17496   72120.559742            вторник                 2             2019   \n",
       "17857   69642.857143            пятница                12             2017   \n",
       "18545   87209.302326        понедельник                 3             2019   \n",
       "20478  177777.777778            вторник                 7             2017   \n",
       "20507   99166.666667        понедельник                 2             2018   \n",
       "21377  116666.666667            вторник                 4             2017   \n",
       "21824   55681.818182            вторник                 2             2019   \n",
       "22309  117777.777778            суббота                 9             2017   \n",
       "22336  108214.285714            пятница                 4             2019   \n",
       "22869  600000.000000              среда                 7             2018   \n",
       "22938   40816.326531            четверг                 3             2018   \n",
       "\n",
       "      floor_category  city_centers_km  \n",
       "355           другой              NaN  \n",
       "3148          другой              NaN  \n",
       "4643          другой             13.0  \n",
       "4876          другой              NaN  \n",
       "5076          первый              8.0  \n",
       "5246          другой              NaN  \n",
       "5669          другой             11.0  \n",
       "5807          другой             20.0  \n",
       "6246       последний             51.0  \n",
       "9379          другой             14.0  \n",
       "10773         другой              NaN  \n",
       "11285         другой              NaN  \n",
       "14382         другой              NaN  \n",
       "15061         другой             14.0  \n",
       "17496         другой             15.0  \n",
       "17857         другой             16.0  \n",
       "18545         другой              8.0  \n",
       "20478         другой              3.0  \n",
       "20507         другой             13.0  \n",
       "21377         другой             10.0  \n",
       "21824      последний              NaN  \n",
       "22309         другой             12.0  \n",
       "22336         другой              4.0  \n",
       "22869      последний              8.0  \n",
       "22938      последний              NaN  "
      ]
     },
     "execution_count": 42,
     "metadata": {},
     "output_type": "execute_result"
    }
   ],
   "source": [
    "# Подправим, чтобы не было потолков ниже 2.3 метра\n",
    "data.loc[data['ceiling_height'] < 2.3, 'ceiling_height'] = 2.3\n",
    "# Проверим\n",
    "print(data['ceiling_height'].describe())\n",
    "data.loc[data['ceiling_height'] > 10]"
   ]
  },
  {
   "cell_type": "code",
   "execution_count": 43,
   "metadata": {},
   "outputs": [],
   "source": [
    "data['ceiling_height'] = data['ceiling_height'].replace(100.0, 5.0)"
   ]
  },
  {
   "cell_type": "code",
   "execution_count": 44,
   "metadata": {},
   "outputs": [
    {
     "name": "stdout",
     "output_type": "stream",
     "text": [
      "count    23564.00000\n",
      "mean         2.69788\n",
      "std          0.23284\n",
      "min          1.03000\n",
      "25%          2.60000\n",
      "50%          2.65000\n",
      "75%          2.70000\n",
      "max          8.30000\n",
      "Name: ceiling_height, dtype: float64\n"
     ]
    }
   ],
   "source": [
    "# Разделим на 10 потолки выше 10 метров, предположим, что это опечатка в результате невнимательности\n",
    "data.loc[data['ceiling_height'] > 10, 'ceiling_height'] = data['ceiling_height'] / 10\n",
    "print(data['ceiling_height'].describe())"
   ]
  },
  {
   "cell_type": "markdown",
   "metadata": {},
   "source": [
    "Средняя высота потолков - 2,7 метра, хотя встречаются объекты с более высокими потолками до 5 метров"
   ]
  },
  {
   "cell_type": "markdown",
   "metadata": {},
   "source": [
    "***Этаж квартиры***"
   ]
  },
  {
   "cell_type": "code",
   "execution_count": 45,
   "metadata": {},
   "outputs": [
    {
     "name": "stdout",
     "output_type": "stream",
     "text": [
      "count    23564.000000\n",
      "mean         5.877398\n",
      "std          4.870311\n",
      "min          1.000000\n",
      "25%          2.000000\n",
      "50%          4.000000\n",
      "75%          8.000000\n",
      "max         33.000000\n",
      "Name: floor, dtype: float64\n"
     ]
    },
    {
     "data": {
      "image/png": "[encoded data removed]",
      "text/plain": [
       "<Figure size 648x648 with 1 Axes>"
      ]
     },
     "metadata": {
      "needs_background": "light"
     },
     "output_type": "display_data"
    }
   ],
   "source": [
    "# Проанализируем столбец floor и построим гистограмму\n",
    "print(data['floor'].describe())\n",
    "data.plot(y = 'floor', kind = 'hist', bins = 100, grid=True, figsize = (9,9), range = (0,35))\n",
    "plt.title('Этаж квартиры')\n",
    "plt.show()"
   ]
  },
  {
   "cell_type": "markdown",
   "metadata": {},
   "source": [
    "Преобладает недвижимость на втором, третьем и первом этажах."
   ]
  },
  {
   "cell_type": "markdown",
   "metadata": {},
   "source": [
    "***Тип этажа квартиры***"
   ]
  },
  {
   "cell_type": "code",
   "execution_count": 46,
   "metadata": {},
   "outputs": [
    {
     "name": "stdout",
     "output_type": "stream",
     "text": [
      "count      23564\n",
      "unique         3\n",
      "top       другой\n",
      "freq       17325\n",
      "Name: floor_category, dtype: object\n"
     ]
    },
    {
     "data": {
      "image/png": "[encoded data removed]",
      "text/plain": [
       "<Figure size 432x288 with 1 Axes>"
      ]
     },
     "metadata": {
      "needs_background": "light"
     },
     "output_type": "display_data"
    }
   ],
   "source": [
    "# Проанализируем столбец floor_category и построим гистограмму\n",
    "print(data['floor_category'].describe())\n",
    "data['floor_category'].hist(bins=5)\n",
    "plt.title('Тип этажа квартиры')\n",
    "plt.show()"
   ]
  },
  {
   "cell_type": "markdown",
   "metadata": {},
   "source": [
    "Большая часть объявлений - недвижимость не на первых и последних этажах.\n",
    "\n",
    "Объявлений о продаже недвижимости на последнем этаже немного больше, чем на первом этаже."
   ]
  },
  {
   "cell_type": "markdown",
   "metadata": {},
   "source": [
    "***Количество этажей в доме***"
   ]
  },
  {
   "cell_type": "code",
   "execution_count": 47,
   "metadata": {},
   "outputs": [
    {
     "name": "stdout",
     "output_type": "stream",
     "text": [
      "count    23564.000000\n",
      "mean        10.674885\n",
      "std          6.593213\n",
      "min          1.000000\n",
      "25%          5.000000\n",
      "50%          9.000000\n",
      "75%         16.000000\n",
      "max         60.000000\n",
      "Name: floors_total, dtype: float64\n"
     ]
    },
    {
     "data": {
      "image/png": "[encoded data removed]",
      "text/plain": [
       "<Figure size 648x648 with 1 Axes>"
      ]
     },
     "metadata": {
      "needs_background": "light"
     },
     "output_type": "display_data"
    }
   ],
   "source": [
    "# Проанализируем столбец floors_total и построим гистограмму\n",
    "print(data['floors_total'].describe())\n",
    "data.plot(y = 'floors_total', kind = 'hist', bins = 100, grid=True, figsize = (9,9), range = (0,60))\n",
    "plt.title('Количество этажей в доме')\n",
    "plt.show()"
   ]
  },
  {
   "cell_type": "markdown",
   "metadata": {},
   "source": [
    "На рынке недвижимости представлены здания практически любой этажности от 1 этажных до 60 этажных, но преобладают 5 и 9 этажные здания."
   ]
  },
  {
   "cell_type": "markdown",
   "metadata": {},
   "source": [
    "***Расстояние до центра города в метрах***"
   ]
  },
  {
   "cell_type": "code",
   "execution_count": 48,
   "metadata": {},
   "outputs": [
    {
     "name": "stdout",
     "output_type": "stream",
     "text": [
      "count    18063.000000\n",
      "mean     14192.309971\n",
      "std       8613.460987\n",
      "min        181.000000\n",
      "25%       9238.000000\n",
      "50%      13095.000000\n",
      "75%      16285.000000\n",
      "max      65968.000000\n",
      "Name: city_centers_nearest, dtype: float64\n"
     ]
    },
    {
     "data": {
      "image/png": "[encoded data removed]",
      "text/plain": [
       "<Figure size 648x648 with 1 Axes>"
      ]
     },
     "metadata": {
      "needs_background": "light"
     },
     "output_type": "display_data"
    }
   ],
   "source": [
    "# Проанализируем столбец city_centers_nearest и построим гистограмму\n",
    "print(data['city_centers_nearest'].describe())\n",
    "data.plot(y = 'city_centers_nearest', kind = 'hist', bins = 100, grid=True, figsize = (9,9), range = (0,70000))\n",
    "plt.title('Расстояние до центра города')\n",
    "plt.show()"
   ]
  },
  {
   "cell_type": "markdown",
   "metadata": {},
   "source": [
    "На гистограмме можно увидеть три пика, что говорит о наличии крупных районов на этом удалении от центра.\n",
    "\n",
    "Большая часть недвижимости расположена на расстоянии 12000-17000 метров от центра."
   ]
  },
  {
   "cell_type": "markdown",
   "metadata": {},
   "source": [
    "***Расстояние до ближайшего аэропорта***"
   ]
  },
  {
   "cell_type": "code",
   "execution_count": 49,
   "metadata": {},
   "outputs": [
    {
     "name": "stdout",
     "output_type": "stream",
     "text": [
      "count    18040.000000\n",
      "mean     28797.640632\n",
      "std      12632.627585\n",
      "min          0.000000\n",
      "25%      18563.000000\n",
      "50%      26757.000000\n",
      "75%      37273.000000\n",
      "max      84869.000000\n",
      "Name: airports_nearest, dtype: float64\n"
     ]
    },
    {
     "data": {
      "image/png": "[encoded data removed]",
      "text/plain": [
       "<Figure size 648x648 with 1 Axes>"
      ]
     },
     "metadata": {
      "needs_background": "light"
     },
     "output_type": "display_data"
    }
   ],
   "source": [
    "# Проанализируем столбец airports_nearest и построим гистограмму\n",
    "print(data['airports_nearest'].describe())\n",
    "data.plot(y = 'airports_nearest', kind = 'hist', bins = 100, grid=True, figsize = (9,9), range = (0,85000))\n",
    "plt.title('Расстояние до ближайшего аэропорта')\n",
    "plt.show()"
   ]
  },
  {
   "cell_type": "markdown",
   "metadata": {},
   "source": [
    "Среднее расстояние до аэропорта составляет 28000 метров."
   ]
  },
  {
   "cell_type": "markdown",
   "metadata": {},
   "source": [
    "***Расстояние до ближайшего парка***"
   ]
  },
  {
   "cell_type": "code",
   "execution_count": 50,
   "metadata": {},
   "outputs": [
    {
     "name": "stdout",
     "output_type": "stream",
     "text": [
      "count    8030.000000\n",
      "mean      490.580448\n",
      "std       341.572956\n",
      "min         1.000000\n",
      "25%       288.000000\n",
      "50%       455.000000\n",
      "75%       612.000000\n",
      "max      3190.000000\n",
      "Name: parks_nearest, dtype: float64\n"
     ]
    },
    {
     "data": {
      "image/png": "[encoded data removed]",
      "text/plain": [
       "<Figure size 648x648 with 1 Axes>"
      ]
     },
     "metadata": {
      "needs_background": "light"
     },
     "output_type": "display_data"
    }
   ],
   "source": [
    "# Проанализируем столбец parks_nearest и построим гистограмму\n",
    "print(data['parks_nearest'].describe())\n",
    "data.plot(y = 'parks_nearest', kind = 'hist', bins = 100, grid=True, figsize = (9,9), range = (0,3500))\n",
    "plt.title('Расстояние до ближайшего парка')\n",
    "plt.show()"
   ]
  },
  {
   "cell_type": "markdown",
   "metadata": {},
   "source": [
    "Среднее расстояние до парка составляет 490 метров."
   ]
  },
  {
   "cell_type": "markdown",
   "metadata": {},
   "source": [
    " ***День и месяц публикации объявления***"
   ]
  },
  {
   "cell_type": "code",
   "execution_count": 51,
   "metadata": {},
   "outputs": [
    {
     "name": "stdout",
     "output_type": "stream",
     "text": [
      "count       23564\n",
      "unique          7\n",
      "top       четверг\n",
      "freq         4275\n",
      "Name: weekday_exposition, dtype: object\n"
     ]
    },
    {
     "data": {
      "image/png": "[encoded data removed]",
      "text/plain": [
       "<Figure size 432x288 with 1 Axes>"
      ]
     },
     "metadata": {
      "needs_background": "light"
     },
     "output_type": "display_data"
    }
   ],
   "source": [
    "# Проанализируем столбец weekday_exposition и построим гистограмму\n",
    "print(data['weekday_exposition'].describe())\n",
    "data['weekday_exposition'].hist(bins=14)\n",
    "plt.title('День публикации объявления')\n",
    "plt.show()"
   ]
  },
  {
   "cell_type": "code",
   "execution_count": 52,
   "metadata": {},
   "outputs": [
    {
     "name": "stdout",
     "output_type": "stream",
     "text": [
      "count    23564.000000\n",
      "mean         6.401757\n",
      "std          3.492904\n",
      "min          1.000000\n",
      "25%          3.000000\n",
      "50%          6.000000\n",
      "75%         10.000000\n",
      "max         12.000000\n",
      "Name: month_exposition, dtype: float64\n"
     ]
    },
    {
     "data": {
      "image/png": "[encoded data removed]",
      "text/plain": [
       "<Figure size 648x648 with 1 Axes>"
      ]
     },
     "metadata": {
      "needs_background": "light"
     },
     "output_type": "display_data"
    }
   ],
   "source": [
    "# Проанализируем столбец month_exposition и построим гистограмму\n",
    "print(data['month_exposition'].describe())\n",
    "data.plot(y = 'month_exposition', kind = 'hist', bins = 100, grid=True, figsize = (9,9), range = (0,12))\n",
    "plt.title('Месяц публикации объявления')\n",
    "plt.show()"
   ]
  },
  {
   "cell_type": "markdown",
   "metadata": {},
   "source": [
    "На гистограмме можно увидеть два пика, первый начинается с февраля и идет на спад к маю. Это связано с тем, что с мая начинается сезон отпусков и продажи недвижимости снижаются.\n",
    "\n",
    "Второй пик начинается с сентября и идет на спад к декабрю. Это связано с тем, что сезон отпусков заканчивается и продажи недвижимости возрастают до новогодних праздников."
   ]
  },
  {
   "cell_type": "markdown",
   "metadata": {},
   "source": [
    "***Изучите, как быстро продавались квартиры (столбец days_exposition). Этот параметр показывает, сколько дней «висело» каждое объявление***"
   ]
  },
  {
   "cell_type": "code",
   "execution_count": 53,
   "metadata": {},
   "outputs": [
    {
     "name": "stdout",
     "output_type": "stream",
     "text": [
      "count    20393.000000\n",
      "mean       180.730153\n",
      "std        219.732305\n",
      "min          1.000000\n",
      "25%         45.000000\n",
      "50%         95.000000\n",
      "75%        231.000000\n",
      "max       1580.000000\n",
      "Name: days_exposition, dtype: float64\n"
     ]
    },
    {
     "data": {
      "image/png": "[encoded data removed]",
      "text/plain": [
       "<Figure size 648x648 with 1 Axes>"
      ]
     },
     "metadata": {
      "needs_background": "light"
     },
     "output_type": "display_data"
    }
   ],
   "source": [
    "# Проанализируем столбец month_exposition и построим гистограмму\n",
    "print(data['days_exposition'].describe())\n",
    "data.plot(y = 'days_exposition', kind = 'hist', bins = 100, grid=True, figsize = (9,9), range = (0,365))\n",
    "plt.title('Срок размещения объявления')\n",
    "plt.show()"
   ]
  },
  {
   "cell_type": "markdown",
   "metadata": {},
   "source": [
    "В среднем квартира продается 180 дней, большинство квартир продается гораздо быстрее. Есть квартиры, которые продаются больше года, скорее всего они имеют какие то проблемы.\n",
    "\n",
    "На гистограмме можно увидеть 4 пика - 7, 45, 60, 90 дней. Это связано особенностями размещения объявлений и правилами сервиса.\n"
   ]
  },
  {
   "cell_type": "markdown",
   "metadata": {},
   "source": [
    "***Какие факторы больше всего влияют на общую (полную) стоимость объекта? Постройте графики, которые покажут зависимость цены от указанных ниже параметров. Для подготовки данных перед визуализацией вы можете использовать сводные таблицы***"
   ]
  },
  {
   "cell_type": "code",
   "execution_count": 54,
   "metadata": {},
   "outputs": [
    {
     "name": "stdout",
     "output_type": "stream",
     "text": [
      "0.6536891965461195\n"
     ]
    },
    {
     "data": {
      "image/png": "[encoded data removed]",
      "text/plain": [
       "<Figure size 432x288 with 1 Axes>"
      ]
     },
     "metadata": {
      "needs_background": "light"
     },
     "output_type": "display_data"
    },
    {
     "name": "stdout",
     "output_type": "stream",
     "text": [
      "0.5401906340483386\n"
     ]
    },
    {
     "data": {
      "image/png": "[encoded data removed]",
      "text/plain": [
       "<Figure size 432x288 with 1 Axes>"
      ]
     },
     "metadata": {
      "needs_background": "light"
     },
     "output_type": "display_data"
    },
    {
     "name": "stdout",
     "output_type": "stream",
     "text": [
      "0.44053236434056253\n"
     ]
    },
    {
     "data": {
      "image/png": "[encoded data removed]",
      "text/plain": [
       "<Figure size 432x288 with 1 Axes>"
      ]
     },
     "metadata": {
      "needs_background": "light"
     },
     "output_type": "display_data"
    }
   ],
   "source": [
    "# Зависимость цены от площади\n",
    "data.plot(x='last_price', y='total_area', kind='scatter', alpha=0.3)\n",
    "print(data['last_price'].corr(data['total_area']))\n",
    "plt.title('Зависимость цены от общей площади')\n",
    "plt.show()\n",
    "\n",
    "data.plot(x='last_price', y='living_area', kind='scatter', alpha=0.3)\n",
    "print(data['last_price'].corr(data['living_area']))\n",
    "plt.title('Зависимость цены от жилой площади')\n",
    "plt.show()\n",
    "\n",
    "data.plot(x='last_price', y='kitchen_area', kind='scatter', alpha=0.3)\n",
    "print(data['last_price'].corr(data['kitchen_area']))\n",
    "plt.title('Зависимость цены от площади кухни')\n",
    "plt.show()"
   ]
  },
  {
   "cell_type": "markdown",
   "metadata": {},
   "source": [
    "Прослеживается зависимость цены от площади, чем больше площадь, тем больше цена.\n",
    "\n",
    "По коэффициенту корреляции можно сделать вывод о том, что общая площадь влияет на цену сильнее, чем жилая площадь и площадь кухни."
   ]
  },
  {
   "cell_type": "code",
   "execution_count": 55,
   "metadata": {},
   "outputs": [
    {
     "name": "stdout",
     "output_type": "stream",
     "text": [
      "0.3643427226919201\n"
     ]
    },
    {
     "data": {
      "image/png": "[encoded data removed]",
      "text/plain": [
       "<Figure size 432x288 with 1 Axes>"
      ]
     },
     "metadata": {
      "needs_background": "light"
     },
     "output_type": "display_data"
    }
   ],
   "source": [
    "# Зависимость цены от количества комнат\n",
    "data.plot(x='last_price', y='rooms', kind='scatter', alpha=0.3)\n",
    "print(data['last_price'].corr(data['rooms']))\n",
    "plt.title('Зависимость цены от количества комнат')\n",
    "plt.show()"
   ]
  },
  {
   "cell_type": "markdown",
   "metadata": {},
   "source": [
    "Можно сделать вывод о том, что количество комнат влияет на цену, но в диапазоне от 1 да 3 комнат."
   ]
  },
  {
   "cell_type": "code",
   "execution_count": 56,
   "metadata": {},
   "outputs": [
    {
     "data": {
      "image/png": "[encoded data removed]",
      "text/plain": [
       "<Figure size 432x288 with 1 Axes>"
      ]
     },
     "metadata": {
      "needs_background": "light"
     },
     "output_type": "display_data"
    }
   ],
   "source": [
    "# Зависимость цены от типа этажа\n",
    "data.pivot_table(index = 'floor_category', values = 'last_price', aggfunc = ['mean']).plot(kind = 'bar')\n",
    "plt.title('Зависимость цены от типа этажа')\n",
    "plt.show()"
   ]
  },
  {
   "cell_type": "markdown",
   "metadata": {},
   "source": [
    "Прослеживается зависимость цены от типа этажа. В среднем, самая высокая стоймость жилья на последних этажах, связано это с тем что элитная недвижимость часто расположена именно нав последних этажах. Далее идет средняя стоймость недвижимости на других этажах. И самая низкая средняя стоимость недвижимости на первых этажах."
   ]
  },
  {
   "cell_type": "code",
   "execution_count": 57,
   "metadata": {},
   "outputs": [
    {
     "data": {
      "image/png": "[encoded data removed]",
      "text/plain": [
       "<Figure size 432x288 with 1 Axes>"
      ]
     },
     "metadata": {
      "needs_background": "light"
     },
     "output_type": "display_data"
    },
    {
     "data": {
      "image/png": "[encoded data removed]",
      "text/plain": [
       "<Figure size 432x288 with 1 Axes>"
      ]
     },
     "metadata": {
      "needs_background": "light"
     },
     "output_type": "display_data"
    },
    {
     "data": {
      "image/png": "[encoded data removed]",
      "text/plain": [
       "<Figure size 432x288 with 1 Axes>"
      ]
     },
     "metadata": {
      "needs_background": "light"
     },
     "output_type": "display_data"
    }
   ],
   "source": [
    "# Зависимость цены от даты публикации\n",
    "data.pivot_table(index = 'weekday_exposition', values = 'last_price', aggfunc = ['mean']).plot(kind='bar')\n",
    "plt.title('Зависимость цены от дня публикации')\n",
    "plt.show()\n",
    "\n",
    "data.pivot_table(index = 'month_exposition', values = 'last_price', aggfunc = ['mean']).plot(kind='bar')\n",
    "plt.title('Зависимость цены от месяца публикации')\n",
    "plt.show()\n",
    "\n",
    "data.pivot_table(index = 'year_exposition', values = 'last_price', aggfunc = ['mean']).plot(kind='bar')\n",
    "plt.title('Зависимость цены от года публикации')\n",
    "plt.show()"
   ]
  },
  {
   "cell_type": "markdown",
   "metadata": {},
   "source": [
    "***Посчитайте среднюю цену одного квадратного метра в 10 населённых пунктах с наибольшим числом объявлений. Выделите населённые пункты с самой высокой и низкой стоимостью квадратного метра. Эти данные можно найти по имени в столбце locality_name***"
   ]
  },
  {
   "cell_type": "code",
   "execution_count": 58,
   "metadata": {},
   "outputs": [
    {
     "data": {
      "text/html": [
       "<div>\n",
       "<style scoped>\n",
       "    .dataframe tbody tr th:only-of-type {\n",
       "        vertical-align: middle;\n",
       "    }\n",
       "\n",
       "    .dataframe tbody tr th {\n",
       "        vertical-align: top;\n",
       "    }\n",
       "\n",
       "    .dataframe thead th {\n",
       "        text-align: right;\n",
       "    }\n",
       "</style>\n",
       "<table border=\"1\" class=\"dataframe\">\n",
       "  <thead>\n",
       "    <tr style=\"text-align: right;\">\n",
       "      <th></th>\n",
       "      <th>mean</th>\n",
       "      <th>count</th>\n",
       "    </tr>\n",
       "    <tr>\n",
       "      <th>locality_name</th>\n",
       "      <th></th>\n",
       "      <th></th>\n",
       "    </tr>\n",
       "  </thead>\n",
       "  <tbody>\n",
       "    <tr>\n",
       "      <th>Санкт-Петербург</th>\n",
       "      <td>114868.115882</td>\n",
       "      <td>15650</td>\n",
       "    </tr>\n",
       "    <tr>\n",
       "      <th>поселок Мурино</th>\n",
       "      <td>85629.568678</td>\n",
       "      <td>552</td>\n",
       "    </tr>\n",
       "    <tr>\n",
       "      <th>поселок Шушары</th>\n",
       "      <td>78551.344545</td>\n",
       "      <td>439</td>\n",
       "    </tr>\n",
       "    <tr>\n",
       "      <th>Всеволожск</th>\n",
       "      <td>68654.473986</td>\n",
       "      <td>398</td>\n",
       "    </tr>\n",
       "    <tr>\n",
       "      <th>Пушкин</th>\n",
       "      <td>103125.819291</td>\n",
       "      <td>369</td>\n",
       "    </tr>\n",
       "    <tr>\n",
       "      <th>Колпино</th>\n",
       "      <td>75424.579098</td>\n",
       "      <td>338</td>\n",
       "    </tr>\n",
       "    <tr>\n",
       "      <th>поселок Парголово</th>\n",
       "      <td>90175.913458</td>\n",
       "      <td>327</td>\n",
       "    </tr>\n",
       "    <tr>\n",
       "      <th>Гатчина</th>\n",
       "      <td>68746.146763</td>\n",
       "      <td>307</td>\n",
       "    </tr>\n",
       "    <tr>\n",
       "      <th>деревня Кудрово</th>\n",
       "      <td>92473.547576</td>\n",
       "      <td>299</td>\n",
       "    </tr>\n",
       "    <tr>\n",
       "      <th>Выборг</th>\n",
       "      <td>58141.909153</td>\n",
       "      <td>237</td>\n",
       "    </tr>\n",
       "  </tbody>\n",
       "</table>\n",
       "</div>"
      ],
      "text/plain": [
       "                            mean  count\n",
       "locality_name                          \n",
       "Санкт-Петербург    114868.115882  15650\n",
       "поселок Мурино      85629.568678    552\n",
       "поселок Шушары      78551.344545    439\n",
       "Всеволожск          68654.473986    398\n",
       "Пушкин             103125.819291    369\n",
       "Колпино             75424.579098    338\n",
       "поселок Парголово   90175.913458    327\n",
       "Гатчина             68746.146763    307\n",
       "деревня Кудрово     92473.547576    299\n",
       "Выборг              58141.909153    237"
      ]
     },
     "execution_count": 58,
     "metadata": {},
     "output_type": "execute_result"
    }
   ],
   "source": [
    "data.groupby('locality_name')['price_meter'].agg(['mean', 'count']).sort_values(by='count', ascending=False).head(10)"
   ]
  },
  {
   "cell_type": "markdown",
   "metadata": {},
   "source": [
    "Самая высокая стоймость недвижимости зафиксирована в Санкт-Петербурге - 114868 рублей за квадратный метр.\n",
    "\n",
    "Самая низкая стоймость недвижимости зафиксирована в Выборге - 58141 рублей за квадратный метр."
   ]
  },
  {
   "cell_type": "markdown",
   "metadata": {},
   "source": [
    "***Ранее вы посчитали расстояние до центра в километрах. Теперь выделите квартиры в Санкт-Петербурге с помощью столбца locality_name и вычислите среднюю цену каждого километра. Опишите, как стоимость объектов зависит от расстояния до центра города***"
   ]
  },
  {
   "cell_type": "code",
   "execution_count": 59,
   "metadata": {},
   "outputs": [
    {
     "data": {
      "text/html": [
       "<div>\n",
       "<style scoped>\n",
       "    .dataframe tbody tr th:only-of-type {\n",
       "        vertical-align: middle;\n",
       "    }\n",
       "\n",
       "    .dataframe tbody tr th {\n",
       "        vertical-align: top;\n",
       "    }\n",
       "\n",
       "    .dataframe thead th {\n",
       "        text-align: right;\n",
       "    }\n",
       "</style>\n",
       "<table border=\"1\" class=\"dataframe\">\n",
       "  <thead>\n",
       "    <tr style=\"text-align: right;\">\n",
       "      <th></th>\n",
       "      <th>price_meter</th>\n",
       "    </tr>\n",
       "    <tr>\n",
       "      <th>city_centers_km</th>\n",
       "      <th></th>\n",
       "    </tr>\n",
       "  </thead>\n",
       "  <tbody>\n",
       "    <tr>\n",
       "      <th>0.0</th>\n",
       "      <td>245833.530289</td>\n",
       "    </tr>\n",
       "    <tr>\n",
       "      <th>1.0</th>\n",
       "      <td>177005.407676</td>\n",
       "    </tr>\n",
       "    <tr>\n",
       "      <th>2.0</th>\n",
       "      <td>157849.007329</td>\n",
       "    </tr>\n",
       "    <tr>\n",
       "      <th>3.0</th>\n",
       "      <td>121507.831586</td>\n",
       "    </tr>\n",
       "    <tr>\n",
       "      <th>4.0</th>\n",
       "      <td>133282.874761</td>\n",
       "    </tr>\n",
       "    <tr>\n",
       "      <th>...</th>\n",
       "      <td>...</td>\n",
       "    </tr>\n",
       "    <tr>\n",
       "      <th>61.0</th>\n",
       "      <td>60606.060606</td>\n",
       "    </tr>\n",
       "    <tr>\n",
       "      <th>62.0</th>\n",
       "      <td>69114.470842</td>\n",
       "    </tr>\n",
       "    <tr>\n",
       "      <th>63.0</th>\n",
       "      <td>62500.000000</td>\n",
       "    </tr>\n",
       "    <tr>\n",
       "      <th>65.0</th>\n",
       "      <td>71852.967568</td>\n",
       "    </tr>\n",
       "    <tr>\n",
       "      <th>66.0</th>\n",
       "      <td>73551.639162</td>\n",
       "    </tr>\n",
       "  </tbody>\n",
       "</table>\n",
       "<p>61 rows × 1 columns</p>\n",
       "</div>"
      ],
      "text/plain": [
       "                   price_meter\n",
       "city_centers_km               \n",
       "0.0              245833.530289\n",
       "1.0              177005.407676\n",
       "2.0              157849.007329\n",
       "3.0              121507.831586\n",
       "4.0              133282.874761\n",
       "...                        ...\n",
       "61.0              60606.060606\n",
       "62.0              69114.470842\n",
       "63.0              62500.000000\n",
       "65.0              71852.967568\n",
       "66.0              73551.639162\n",
       "\n",
       "[61 rows x 1 columns]"
      ]
     },
     "execution_count": 59,
     "metadata": {},
     "output_type": "execute_result"
    }
   ],
   "source": [
    "# Вычислим среднюю цену каждого километра\n",
    "data.pivot_table(index='city_centers_km', values='price_meter', aggfunc='mean')"
   ]
  },
  {
   "cell_type": "code",
   "execution_count": 60,
   "metadata": {
    "scrolled": true
   },
   "outputs": [
    {
     "data": {
      "image/png": "[encoded data removed]",
      "text/plain": [
       "<Figure size 432x288 with 1 Axes>"
      ]
     },
     "metadata": {
      "needs_background": "light"
     },
     "output_type": "display_data"
    }
   ],
   "source": [
    "data.plot(x='city_centers_km', y='price_meter', kind='scatter', alpha=0.3)\n",
    "plt.title('Средняя цена каждого километра')\n",
    "plt.show()"
   ]
  },
  {
   "cell_type": "markdown",
   "metadata": {},
   "source": [
    "С удаление от центра стоймость недвижимости уменьшается от 245833 рублей за квадратный метр до 73551 рублей за квадратный метр."
   ]
  },
  {
   "cell_type": "markdown",
   "metadata": {},
   "source": [
    "***Вывод:*** В результате проведения исследовательского анализа данных, удалось выяснить следующее:\n",
    "\n",
    "* Общая площадь составляет от 12 квадратных метров до 900 квадратных метров.\n",
    "* Жилая площадь составляет от 19 квадратных метров до 409 квадратных метров.\n",
    "* Площадь кухни составляет от 7 квадратных метров до 112 квадратных метров.\n",
    "\n",
    "Самая продаваемая недвижимость на рынке имеет:\n",
    "\n",
    "* Общей площадь от 42 до 45 квадратных метров.\n",
    "* Жилую площадь от 17 до 30 квадратных метров.\n",
    "* Площадь кухни от 9 до 11 квадратных метров.\n",
    "\n",
    "Эти значения соответствуют площади 1-комнатной квариры.\n",
    "\n",
    "Также стоит отметить, что  среди объектов недвижимости есть:\n",
    "\n",
    "* Квартиры со свободной планировкой, для которых указана только общая площадь, а жилая площадь равна 0.\n",
    "* Квартиры со свободной планировкой и квартиры-студии, для которых указана только общая площадь, а площадь кухни равна 0.\n",
    "\n",
    "Стоймость недвижимости варьируется от 430 тысяч рублей до 763 миллионов рублей. Средняя стоймость объекта недвижимости - 6,5 миллионов рублей. \n",
    "\n",
    "Наиболее распространены:\n",
    "\n",
    "* 1-комнатные квартиры - 8138 объявлений\n",
    "* 2-комнатные квартиры - 7897 обяъвлений\n",
    "* 3-комнатные квартиры - 5779 обяъвлений\n",
    "\n",
    "Также стоит отметить, что есть 59 объектов недвижимости со свободной планировкой, у этих объектов число комнат равно 0.\n",
    "\n",
    "Средняя высота потолков - 2,7 метра, хотя встречаются объекты с более высокими потолками до 10 метров.\n",
    "\n",
    "* Преобладает недвижимость на втором, третьем и первом этажах. \n",
    "* Большая часть объявлений - недвижимость не на первых и не на последних этажах.\n",
    "* Объявлений о продаже недвижимости на последнем этаже немного больше, чем на первом этаже.\n",
    "\n",
    "На рынке недвижимости представлены здания практически любой этажности от 1 этажных до 60 этажных, но, преобладают 5 и 9 этажные здания.\n",
    "\n",
    "* Большая часть недвижимости находится на удалении 12000-17000 метров от центра.\n",
    "* Среднее расстояние до аэропорта составляет 28000 метров.\n",
    "* Среднее расстояние до парка составляет 490 метров.\n",
    "\n",
    "На гистограмме можно увидеть два пика, первый начинается с февраля и идет на спад к маю. Это связано с тем, что с мая начинается сезон отпусков и продажи недвижимости снижаются.\n",
    "\n",
    "Второй пик начинается с сентября и идет на спад к декабрю. Это связано с тем, что сезон отпусков заканчивается и продажи недвижимости возрастают до новогодних праздников.\n",
    "\n",
    "В среднем квартира продается 180 дней, большинство квартир продается гораздо быстрее. Есть квартиры, которые продаются больше года, скорее всего они имеют какие то проблемы.\n",
    "\n",
    "* Самая высокая стоймость недвижимости зафиксирована в Санкт-Петербурге - 114868 рублей за квадратный метр.\n",
    "* Самая низкая стоймость недвижимости зафиксирована в Выборге - 58141 рублей за квадратный метр.\n",
    "\n",
    "С удаление от центра стоймость недвижимости уменьшается от 245833 рублей за квадратный метр до 73551 рублей за квадратный метр.\n"
   ]
  },
  {
   "cell_type": "markdown",
   "metadata": {},
   "source": [
    "### Общий вывод"
   ]
  },
  {
   "cell_type": "markdown",
   "metadata": {},
   "source": [
    "Файл содержит 23699 записей. Количество значений в столбцах различается, что говорит о том, что есть пропущенные значения. Присутствуют некорректные типы данных и наименования столбцов. Построена общая гистограмма для всех числовых столбцов таблицы.\n",
    "\n",
    "Предобработка данных завершена, датасет содержит 23564 записи. Удалены некорректные записи, недостающая информация восстановлена по существующим данным из других параметров. В столбцах с картографическими данными информация оставлена как есть. Изменены типы данных столбцов last_price, first_day_exposition, floors_total, balcony. Устранены неявные дубликаты в названиях населенных пунктов.\n",
    "\n",
    "В таблицу добавлены новые столбцы:\n",
    "\n",
    "* цена одного квадратного метра\n",
    "\n",
    "* день недели, месяц и год публикации объявления\n",
    "\n",
    "* категория этажа\n",
    "\n",
    "* расстояние до центра города в километрах\n",
    "\n",
    "Написана функция для определения дня недели и функция для разделения этажей по категориям.\n",
    "\n",
    "В результате проведения исследовательского анализа данных, удалось выяснить следующее:\n",
    "\n",
    "    Общая площадь составляет от 12 квадратных метров до 900 квадратных метров.\n",
    "    Жилая площадь составляет от 19 квадратных метров до 409 квадратных метров.\n",
    "    Площадь кухни составляет от 7 квадратных метров до 112 квадратных метров.\n",
    "\n",
    "Самая продаваемая недвижимость на рынке имеет:\n",
    "\n",
    "    Общей площадь от 42 до 45 квадратных метров.\n",
    "    Жилую площадь от 17 до 30 квадратных метров.\n",
    "    Площадь кухни от 9 до 11 квадратных метров.\n",
    "\n",
    "Эти значения соответствуют площади 1-комнатной квариры.\n",
    "\n",
    "Также стоит отметить, что среди объектов недвижимости есть:\n",
    "\n",
    "    Квартиры со свободной планировкой, для которых указана только общая площадь, а жилая площадь равна 0.\n",
    "    Квартиры со свободной планировкой и квартиры-студии, для которых указана только общая площадь, а площадь кухни равна 0.\n",
    "\n",
    "Стоймость недвижимости варьируется от 430 тысяч рублей до 763 миллионов рублей. Средняя стоймость объекта недвижимости - 6,5 миллионов рублей.\n",
    "\n",
    "Наиболее распространены:\n",
    "\n",
    "    1-комнатные квартиры - 8138 объявлений\n",
    "    2-комнатные квартиры - 7897 обяъвлений\n",
    "    3-комнатные квартиры - 5779 обяъвлений\n",
    "\n",
    "Также стоит отметить, что есть 59 объектов недвижимости со свободной планировкой, у этих объектов число комнат равно 0.\n",
    "\n",
    "Средняя высота потолков - 2,7 метра, хотя встречаются объекты с более высокими потолками до 5 метров.\n",
    "\n",
    "    Преобладает недвижимость на втором, третьем и первом этажах.\n",
    "    Большая часть объявлений - недвижимость не на первых и не на последних этажах.\n",
    "    Объявлений о продаже недвижимости на последнем этаже немного больше, чем на первом этаже.\n",
    "\n",
    "На рынке недвижимости представлены здания практически любой этажности от 1 этажных до 60 этажных, но, преобладают 5 и 9 этажные здания.\n",
    "\n",
    "    Большая часть недвижимости находится на удалении 12000-17000 метров от центра.\n",
    "    Среднее расстояние до аэропорта составляет 28000 метров.\n",
    "    Среднее расстояние до парка составляет 490 метров.\n",
    "\n",
    "На гистограмме можно увидеть два пика, первый начинается с февраля и идет на спад к маю. Это связано с тем, что с мая начинается сезон отпусков и продажи недвижимости снижаются.\n",
    "\n",
    "Второй пик начинается с сентября и идет на спад к декабрю. Это связано с тем, что сезон отпусков заканчивается и продажи недвижимости возрастают до новогодних праздников.\n",
    "\n",
    "В среднем квартира продается 180 дней, большинство квартир продается гораздо быстрее. Есть квартиры, которые продаются больше года, скорее всего они имеют какие то проблемы.\n",
    "\n",
    "    Самая высокая стоймость недвижимости зафиксирована в Санкт-Петербурге - 114868 рублей за квадратный метр.\n",
    "    Самая низкая стоймость недвижимости зафиксирована в Выборге - 58141 рублей за квадратный метр.\n",
    "\n",
    "С удаление от центра стоймость недвижимости уменьшается от 245833 рублей за квадратный метр до 73551 рублей за квадратный метр."
   ]
  }
 ],
 "metadata": {
  "ExecuteTimeLog": [
   {
    "duration": 477,
    "start_time": "2023-02-24T07:06:08.295Z"
   },
   {
    "duration": 307,
    "start_time": "2023-02-24T07:06:51.532Z"
   },
   {
    "duration": 89,
    "start_time": "2023-02-24T07:09:05.336Z"
   },
   {
    "duration": 112,
    "start_time": "2023-02-24T07:10:57.778Z"
   },
   {
    "duration": 90,
    "start_time": "2023-02-24T07:13:41.120Z"
   },
   {
    "duration": 94,
    "start_time": "2023-02-24T07:18:12.110Z"
   },
   {
    "duration": 98,
    "start_time": "2023-02-24T07:18:24.949Z"
   },
   {
    "duration": 108,
    "start_time": "2023-02-24T07:18:48.852Z"
   },
   {
    "duration": 15,
    "start_time": "2023-02-24T07:23:21.189Z"
   },
   {
    "duration": 52,
    "start_time": "2023-02-24T20:49:07.896Z"
   },
   {
    "duration": 606,
    "start_time": "2023-02-24T20:49:15.765Z"
   },
   {
    "duration": 24,
    "start_time": "2023-02-24T20:49:16.573Z"
   },
   {
    "duration": 2493,
    "start_time": "2023-02-24T20:49:17.444Z"
   },
   {
    "duration": 135,
    "start_time": "2023-02-24T20:50:09.158Z"
   },
   {
    "duration": 16,
    "start_time": "2023-02-24T20:50:11.475Z"
   },
   {
    "duration": 122,
    "start_time": "2023-02-24T20:50:18.559Z"
   },
   {
    "duration": 76,
    "start_time": "2023-02-24T20:50:33.487Z"
   },
   {
    "duration": 6,
    "start_time": "2023-02-24T20:50:39.713Z"
   },
   {
    "duration": 505,
    "start_time": "2023-02-24T20:54:30.987Z"
   },
   {
    "duration": 24,
    "start_time": "2023-02-24T20:54:31.641Z"
   },
   {
    "duration": 2275,
    "start_time": "2023-02-24T20:54:32.315Z"
   },
   {
    "duration": 10,
    "start_time": "2023-02-24T21:41:36.076Z"
   },
   {
    "duration": 22,
    "start_time": "2023-02-24T21:58:58.855Z"
   },
   {
    "duration": 20,
    "start_time": "2023-02-24T22:08:52.372Z"
   },
   {
    "duration": 11,
    "start_time": "2023-02-24T22:11:44.373Z"
   },
   {
    "duration": 20,
    "start_time": "2023-02-24T22:12:23.195Z"
   },
   {
    "duration": 12,
    "start_time": "2023-02-24T22:34:34.493Z"
   },
   {
    "duration": 13,
    "start_time": "2023-02-24T22:35:11.803Z"
   },
   {
    "duration": 513,
    "start_time": "2023-02-24T22:35:30.085Z"
   },
   {
    "duration": 16,
    "start_time": "2023-02-24T22:35:30.600Z"
   },
   {
    "duration": 2360,
    "start_time": "2023-02-24T22:35:30.618Z"
   },
   {
    "duration": 74,
    "start_time": "2023-02-24T22:35:32.981Z"
   },
   {
    "duration": 1,
    "start_time": "2023-02-24T22:35:33.056Z"
   },
   {
    "duration": 0,
    "start_time": "2023-02-24T22:35:33.058Z"
   },
   {
    "duration": 0,
    "start_time": "2023-02-24T22:35:33.059Z"
   },
   {
    "duration": 0,
    "start_time": "2023-02-24T22:35:33.060Z"
   },
   {
    "duration": 0,
    "start_time": "2023-02-24T22:35:33.061Z"
   },
   {
    "duration": 566,
    "start_time": "2023-02-24T22:36:03.732Z"
   },
   {
    "duration": 16,
    "start_time": "2023-02-24T22:36:04.301Z"
   },
   {
    "duration": 2315,
    "start_time": "2023-02-24T22:36:04.319Z"
   },
   {
    "duration": 3,
    "start_time": "2023-02-24T22:36:06.636Z"
   },
   {
    "duration": 19,
    "start_time": "2023-02-24T22:36:06.641Z"
   },
   {
    "duration": 27,
    "start_time": "2023-02-24T22:36:06.662Z"
   },
   {
    "duration": 20,
    "start_time": "2023-02-24T22:36:06.691Z"
   },
   {
    "duration": 12,
    "start_time": "2023-02-24T22:36:06.713Z"
   },
   {
    "duration": 12,
    "start_time": "2023-02-24T22:36:06.754Z"
   },
   {
    "duration": 53,
    "start_time": "2023-02-25T08:14:04.222Z"
   },
   {
    "duration": 485,
    "start_time": "2023-02-25T08:14:13.096Z"
   },
   {
    "duration": 13,
    "start_time": "2023-02-25T08:14:13.583Z"
   },
   {
    "duration": 2507,
    "start_time": "2023-02-25T08:14:13.597Z"
   },
   {
    "duration": 87,
    "start_time": "2023-02-25T08:14:16.106Z"
   },
   {
    "duration": 8,
    "start_time": "2023-02-25T08:14:16.194Z"
   },
   {
    "duration": 35,
    "start_time": "2023-02-25T08:14:16.204Z"
   },
   {
    "duration": 21,
    "start_time": "2023-02-25T08:14:16.241Z"
   },
   {
    "duration": 11,
    "start_time": "2023-02-25T08:14:16.264Z"
   },
   {
    "duration": 10,
    "start_time": "2023-02-25T08:14:16.276Z"
   },
   {
    "duration": 3,
    "start_time": "2023-02-25T08:14:16.288Z"
   },
   {
    "duration": 524,
    "start_time": "2023-02-25T08:17:16.852Z"
   },
   {
    "duration": 21,
    "start_time": "2023-02-25T08:17:17.378Z"
   },
   {
    "duration": 104,
    "start_time": "2023-02-25T08:17:17.401Z"
   },
   {
    "duration": 2188,
    "start_time": "2023-02-25T08:17:17.507Z"
   },
   {
    "duration": 8,
    "start_time": "2023-02-25T08:17:19.698Z"
   },
   {
    "duration": 22,
    "start_time": "2023-02-25T08:17:19.707Z"
   },
   {
    "duration": 25,
    "start_time": "2023-02-25T08:17:19.731Z"
   },
   {
    "duration": 12,
    "start_time": "2023-02-25T08:17:19.757Z"
   },
   {
    "duration": 13,
    "start_time": "2023-02-25T08:17:19.771Z"
   },
   {
    "duration": 3,
    "start_time": "2023-02-25T08:17:19.785Z"
   },
   {
    "duration": 471,
    "start_time": "2023-02-25T09:04:35.199Z"
   },
   {
    "duration": 17,
    "start_time": "2023-02-25T09:04:35.673Z"
   },
   {
    "duration": 76,
    "start_time": "2023-02-25T09:04:35.691Z"
   },
   {
    "duration": 2103,
    "start_time": "2023-02-25T09:04:35.769Z"
   },
   {
    "duration": 9,
    "start_time": "2023-02-25T09:04:37.874Z"
   },
   {
    "duration": 23,
    "start_time": "2023-02-25T09:04:37.884Z"
   },
   {
    "duration": 6,
    "start_time": "2023-02-25T09:04:37.908Z"
   },
   {
    "duration": 20,
    "start_time": "2023-02-25T09:04:37.915Z"
   },
   {
    "duration": 10,
    "start_time": "2023-02-25T09:04:37.937Z"
   },
   {
    "duration": 9,
    "start_time": "2023-02-25T09:04:37.949Z"
   },
   {
    "duration": 2,
    "start_time": "2023-02-25T09:04:37.960Z"
   },
   {
    "duration": 10,
    "start_time": "2023-02-25T09:24:10.277Z"
   },
   {
    "duration": 92,
    "start_time": "2023-02-25T20:04:27.869Z"
   },
   {
    "duration": 745,
    "start_time": "2023-02-25T20:04:38.981Z"
   },
   {
    "duration": 29,
    "start_time": "2023-02-25T20:04:39.729Z"
   },
   {
    "duration": 112,
    "start_time": "2023-02-25T20:04:39.760Z"
   },
   {
    "duration": 2835,
    "start_time": "2023-02-25T20:04:39.874Z"
   },
   {
    "duration": 11,
    "start_time": "2023-02-25T20:04:42.711Z"
   },
   {
    "duration": 41,
    "start_time": "2023-02-25T20:04:42.724Z"
   },
   {
    "duration": 9,
    "start_time": "2023-02-25T20:04:42.766Z"
   },
   {
    "duration": 21,
    "start_time": "2023-02-25T20:04:42.777Z"
   },
   {
    "duration": 13,
    "start_time": "2023-02-25T20:04:42.800Z"
   },
   {
    "duration": 67,
    "start_time": "2023-02-25T20:04:42.815Z"
   },
   {
    "duration": 12,
    "start_time": "2023-02-25T20:04:42.884Z"
   },
   {
    "duration": 11,
    "start_time": "2023-02-25T20:04:42.898Z"
   },
   {
    "duration": 3,
    "start_time": "2023-02-25T20:04:42.911Z"
   },
   {
    "duration": 37,
    "start_time": "2023-02-25T20:22:30.245Z"
   },
   {
    "duration": 23,
    "start_time": "2023-02-25T20:23:00.894Z"
   },
   {
    "duration": 584,
    "start_time": "2023-02-25T20:25:43.271Z"
   },
   {
    "duration": 22,
    "start_time": "2023-02-25T20:25:43.857Z"
   },
   {
    "duration": 114,
    "start_time": "2023-02-25T20:25:43.881Z"
   },
   {
    "duration": 2675,
    "start_time": "2023-02-25T20:25:43.996Z"
   },
   {
    "duration": 11,
    "start_time": "2023-02-25T20:25:46.673Z"
   },
   {
    "duration": 28,
    "start_time": "2023-02-25T20:25:46.685Z"
   },
   {
    "duration": 7,
    "start_time": "2023-02-25T20:25:46.714Z"
   },
   {
    "duration": 33,
    "start_time": "2023-02-25T20:25:46.722Z"
   },
   {
    "duration": 12,
    "start_time": "2023-02-25T20:25:46.756Z"
   },
   {
    "duration": 22,
    "start_time": "2023-02-25T20:25:46.769Z"
   },
   {
    "duration": 13,
    "start_time": "2023-02-25T20:25:46.792Z"
   },
   {
    "duration": 12,
    "start_time": "2023-02-25T20:25:46.807Z"
   },
   {
    "duration": 18,
    "start_time": "2023-02-25T20:25:46.839Z"
   },
   {
    "duration": 24,
    "start_time": "2023-02-25T20:25:46.860Z"
   },
   {
    "duration": 7,
    "start_time": "2023-02-25T20:26:58.028Z"
   },
   {
    "duration": 6,
    "start_time": "2023-02-25T20:27:30.598Z"
   },
   {
    "duration": 9,
    "start_time": "2023-02-25T20:38:19.570Z"
   },
   {
    "duration": 13,
    "start_time": "2023-02-25T20:38:43.653Z"
   },
   {
    "duration": 12,
    "start_time": "2023-02-25T20:39:50.172Z"
   },
   {
    "duration": 10,
    "start_time": "2023-02-25T20:40:09.313Z"
   },
   {
    "duration": 269,
    "start_time": "2023-02-25T20:41:43.148Z"
   },
   {
    "duration": 152,
    "start_time": "2023-02-25T20:42:04.963Z"
   },
   {
    "duration": 163,
    "start_time": "2023-02-25T20:42:32.470Z"
   },
   {
    "duration": 16,
    "start_time": "2023-02-25T20:44:29.149Z"
   },
   {
    "duration": 14,
    "start_time": "2023-02-25T20:46:00.366Z"
   },
   {
    "duration": 5,
    "start_time": "2023-02-25T20:48:13.562Z"
   },
   {
    "duration": 87,
    "start_time": "2023-02-25T20:48:52.516Z"
   },
   {
    "duration": 151,
    "start_time": "2023-02-25T20:49:07.985Z"
   },
   {
    "duration": 13,
    "start_time": "2023-02-25T20:50:53.286Z"
   },
   {
    "duration": 528,
    "start_time": "2023-02-25T20:51:18.182Z"
   },
   {
    "duration": 17,
    "start_time": "2023-02-25T20:51:18.712Z"
   },
   {
    "duration": 89,
    "start_time": "2023-02-25T20:51:18.731Z"
   },
   {
    "duration": 2548,
    "start_time": "2023-02-25T20:51:18.821Z"
   },
   {
    "duration": 12,
    "start_time": "2023-02-25T20:51:21.372Z"
   },
   {
    "duration": 28,
    "start_time": "2023-02-25T20:51:21.386Z"
   },
   {
    "duration": 6,
    "start_time": "2023-02-25T20:51:21.417Z"
   },
   {
    "duration": 33,
    "start_time": "2023-02-25T20:51:21.425Z"
   },
   {
    "duration": 13,
    "start_time": "2023-02-25T20:51:21.460Z"
   },
   {
    "duration": 13,
    "start_time": "2023-02-25T20:51:21.474Z"
   },
   {
    "duration": 15,
    "start_time": "2023-02-25T20:51:21.488Z"
   },
   {
    "duration": 12,
    "start_time": "2023-02-25T20:51:21.539Z"
   },
   {
    "duration": 12,
    "start_time": "2023-02-25T20:51:21.553Z"
   },
   {
    "duration": 14,
    "start_time": "2023-02-25T20:51:21.568Z"
   },
   {
    "duration": 183,
    "start_time": "2023-02-25T20:51:21.583Z"
   },
   {
    "duration": 2,
    "start_time": "2023-02-25T20:51:21.768Z"
   },
   {
    "duration": 7,
    "start_time": "2023-02-25T20:52:31.972Z"
   },
   {
    "duration": 66,
    "start_time": "2023-02-25T20:53:14.725Z"
   },
   {
    "duration": 46,
    "start_time": "2023-02-25T20:53:32.702Z"
   },
   {
    "duration": 20,
    "start_time": "2023-02-25T20:55:34.152Z"
   },
   {
    "duration": 252,
    "start_time": "2023-02-25T20:56:25.082Z"
   },
   {
    "duration": 164,
    "start_time": "2023-02-25T20:56:44.133Z"
   },
   {
    "duration": 77,
    "start_time": "2023-02-25T20:58:15.013Z"
   },
   {
    "duration": 39,
    "start_time": "2023-02-25T20:58:24.763Z"
   },
   {
    "duration": 12,
    "start_time": "2023-02-25T20:59:01.315Z"
   },
   {
    "duration": 11,
    "start_time": "2023-02-25T20:59:17.553Z"
   },
   {
    "duration": 16,
    "start_time": "2023-02-25T20:59:24.592Z"
   },
   {
    "duration": 13,
    "start_time": "2023-02-25T21:01:06.421Z"
   },
   {
    "duration": 155,
    "start_time": "2023-02-25T21:01:37.954Z"
   },
   {
    "duration": 6,
    "start_time": "2023-02-25T21:03:37.454Z"
   },
   {
    "duration": 12,
    "start_time": "2023-02-25T21:06:21.261Z"
   },
   {
    "duration": 8,
    "start_time": "2023-02-25T21:07:37.067Z"
   },
   {
    "duration": 13,
    "start_time": "2023-02-25T21:08:11.053Z"
   },
   {
    "duration": 577,
    "start_time": "2023-02-25T21:08:22.015Z"
   },
   {
    "duration": 17,
    "start_time": "2023-02-25T21:08:22.595Z"
   },
   {
    "duration": 91,
    "start_time": "2023-02-25T21:08:22.613Z"
   },
   {
    "duration": 2459,
    "start_time": "2023-02-25T21:08:22.706Z"
   },
   {
    "duration": 10,
    "start_time": "2023-02-25T21:08:25.168Z"
   },
   {
    "duration": 26,
    "start_time": "2023-02-25T21:08:25.180Z"
   },
   {
    "duration": 5,
    "start_time": "2023-02-25T21:08:25.208Z"
   },
   {
    "duration": 39,
    "start_time": "2023-02-25T21:08:25.215Z"
   },
   {
    "duration": 15,
    "start_time": "2023-02-25T21:08:25.256Z"
   },
   {
    "duration": 12,
    "start_time": "2023-02-25T21:08:25.273Z"
   },
   {
    "duration": 14,
    "start_time": "2023-02-25T21:08:25.286Z"
   },
   {
    "duration": 45,
    "start_time": "2023-02-25T21:08:25.302Z"
   },
   {
    "duration": 15,
    "start_time": "2023-02-25T21:08:25.348Z"
   },
   {
    "duration": 20,
    "start_time": "2023-02-25T21:08:25.365Z"
   },
   {
    "duration": 13,
    "start_time": "2023-02-25T21:08:25.387Z"
   },
   {
    "duration": 9,
    "start_time": "2023-02-25T21:09:52.253Z"
   },
   {
    "duration": 107,
    "start_time": "2023-02-25T21:10:38.665Z"
   },
   {
    "duration": 25,
    "start_time": "2023-02-25T21:10:44.790Z"
   },
   {
    "duration": 11,
    "start_time": "2023-02-25T21:13:34.787Z"
   },
   {
    "duration": 621,
    "start_time": "2023-02-25T21:13:45.715Z"
   },
   {
    "duration": 28,
    "start_time": "2023-02-25T21:13:46.338Z"
   },
   {
    "duration": 96,
    "start_time": "2023-02-25T21:13:46.368Z"
   },
   {
    "duration": 2670,
    "start_time": "2023-02-25T21:13:46.466Z"
   },
   {
    "duration": 21,
    "start_time": "2023-02-25T21:13:49.139Z"
   },
   {
    "duration": 26,
    "start_time": "2023-02-25T21:13:49.162Z"
   },
   {
    "duration": 6,
    "start_time": "2023-02-25T21:13:49.190Z"
   },
   {
    "duration": 58,
    "start_time": "2023-02-25T21:13:49.197Z"
   },
   {
    "duration": 14,
    "start_time": "2023-02-25T21:13:49.256Z"
   },
   {
    "duration": 23,
    "start_time": "2023-02-25T21:13:49.272Z"
   },
   {
    "duration": 13,
    "start_time": "2023-02-25T21:13:49.297Z"
   },
   {
    "duration": 12,
    "start_time": "2023-02-25T21:13:49.312Z"
   },
   {
    "duration": 29,
    "start_time": "2023-02-25T21:13:49.326Z"
   },
   {
    "duration": 26,
    "start_time": "2023-02-25T21:13:49.357Z"
   },
   {
    "duration": 14,
    "start_time": "2023-02-25T21:13:49.385Z"
   },
   {
    "duration": 3,
    "start_time": "2023-02-25T21:15:37.092Z"
   },
   {
    "duration": 114,
    "start_time": "2023-02-25T21:15:46.993Z"
   },
   {
    "duration": 37,
    "start_time": "2023-02-25T21:16:21.454Z"
   },
   {
    "duration": 67,
    "start_time": "2023-02-25T21:18:49.755Z"
   },
   {
    "duration": 8,
    "start_time": "2023-02-25T21:19:27.125Z"
   },
   {
    "duration": 9,
    "start_time": "2023-02-25T21:20:03.816Z"
   },
   {
    "duration": 4,
    "start_time": "2023-02-25T21:22:07.003Z"
   },
   {
    "duration": 12,
    "start_time": "2023-02-25T21:22:14.897Z"
   },
   {
    "duration": 12,
    "start_time": "2023-02-25T21:22:38.198Z"
   },
   {
    "duration": 12,
    "start_time": "2023-02-25T21:23:00.427Z"
   },
   {
    "duration": 13,
    "start_time": "2023-02-25T21:23:25.380Z"
   },
   {
    "duration": 579,
    "start_time": "2023-02-25T21:24:36.111Z"
   },
   {
    "duration": 15,
    "start_time": "2023-02-25T21:24:36.692Z"
   },
   {
    "duration": 94,
    "start_time": "2023-02-25T21:24:36.709Z"
   },
   {
    "duration": 2448,
    "start_time": "2023-02-25T21:24:36.805Z"
   },
   {
    "duration": 11,
    "start_time": "2023-02-25T21:24:39.255Z"
   },
   {
    "duration": 35,
    "start_time": "2023-02-25T21:24:39.268Z"
   },
   {
    "duration": 7,
    "start_time": "2023-02-25T21:24:39.305Z"
   },
   {
    "duration": 30,
    "start_time": "2023-02-25T21:24:39.313Z"
   },
   {
    "duration": 13,
    "start_time": "2023-02-25T21:24:39.345Z"
   },
   {
    "duration": 11,
    "start_time": "2023-02-25T21:24:39.360Z"
   },
   {
    "duration": 11,
    "start_time": "2023-02-25T21:24:39.373Z"
   },
   {
    "duration": 11,
    "start_time": "2023-02-25T21:24:39.386Z"
   },
   {
    "duration": 50,
    "start_time": "2023-02-25T21:24:39.399Z"
   },
   {
    "duration": 25,
    "start_time": "2023-02-25T21:24:39.452Z"
   },
   {
    "duration": 12,
    "start_time": "2023-02-25T21:24:39.479Z"
   },
   {
    "duration": 548,
    "start_time": "2023-02-25T21:26:28.104Z"
   },
   {
    "duration": 16,
    "start_time": "2023-02-25T21:26:28.654Z"
   },
   {
    "duration": 91,
    "start_time": "2023-02-25T21:26:28.672Z"
   },
   {
    "duration": 2380,
    "start_time": "2023-02-25T21:26:28.765Z"
   },
   {
    "duration": 10,
    "start_time": "2023-02-25T21:26:31.148Z"
   },
   {
    "duration": 47,
    "start_time": "2023-02-25T21:26:31.160Z"
   },
   {
    "duration": 6,
    "start_time": "2023-02-25T21:26:31.209Z"
   },
   {
    "duration": 43,
    "start_time": "2023-02-25T21:26:31.217Z"
   },
   {
    "duration": 12,
    "start_time": "2023-02-25T21:26:31.262Z"
   },
   {
    "duration": 14,
    "start_time": "2023-02-25T21:26:31.276Z"
   },
   {
    "duration": 14,
    "start_time": "2023-02-25T21:26:31.292Z"
   },
   {
    "duration": 37,
    "start_time": "2023-02-25T21:26:31.308Z"
   },
   {
    "duration": 18,
    "start_time": "2023-02-25T21:26:31.347Z"
   },
   {
    "duration": 45,
    "start_time": "2023-02-25T21:26:31.368Z"
   },
   {
    "duration": 13,
    "start_time": "2023-02-25T21:26:31.416Z"
   },
   {
    "duration": 12,
    "start_time": "2023-02-25T21:27:33.627Z"
   },
   {
    "duration": 23,
    "start_time": "2023-02-25T21:28:21.385Z"
   },
   {
    "duration": 6,
    "start_time": "2023-02-25T21:33:34.197Z"
   },
   {
    "duration": 8,
    "start_time": "2023-02-25T21:34:49.179Z"
   },
   {
    "duration": 78,
    "start_time": "2023-02-25T21:37:45.529Z"
   },
   {
    "duration": 5,
    "start_time": "2023-02-25T21:38:14.365Z"
   },
   {
    "duration": 5,
    "start_time": "2023-02-25T21:38:27.965Z"
   },
   {
    "duration": 6,
    "start_time": "2023-02-25T21:38:35.455Z"
   },
   {
    "duration": 6,
    "start_time": "2023-02-25T21:38:39.657Z"
   },
   {
    "duration": 5,
    "start_time": "2023-02-25T21:38:53.059Z"
   },
   {
    "duration": 18,
    "start_time": "2023-02-25T21:43:21.998Z"
   },
   {
    "duration": 571,
    "start_time": "2023-02-25T21:45:36.786Z"
   },
   {
    "duration": 15,
    "start_time": "2023-02-25T21:45:37.360Z"
   },
   {
    "duration": 103,
    "start_time": "2023-02-25T21:45:37.376Z"
   },
   {
    "duration": 2632,
    "start_time": "2023-02-25T21:45:37.481Z"
   },
   {
    "duration": 10,
    "start_time": "2023-02-25T21:45:40.115Z"
   },
   {
    "duration": 45,
    "start_time": "2023-02-25T21:45:40.127Z"
   },
   {
    "duration": 5,
    "start_time": "2023-02-25T21:45:40.174Z"
   },
   {
    "duration": 24,
    "start_time": "2023-02-25T21:45:40.181Z"
   },
   {
    "duration": 12,
    "start_time": "2023-02-25T21:45:40.207Z"
   },
   {
    "duration": 19,
    "start_time": "2023-02-25T21:45:40.241Z"
   },
   {
    "duration": 14,
    "start_time": "2023-02-25T21:45:40.261Z"
   },
   {
    "duration": 11,
    "start_time": "2023-02-25T21:45:40.276Z"
   },
   {
    "duration": 10,
    "start_time": "2023-02-25T21:45:40.289Z"
   },
   {
    "duration": 51,
    "start_time": "2023-02-25T21:45:40.301Z"
   },
   {
    "duration": 14,
    "start_time": "2023-02-25T21:45:40.359Z"
   },
   {
    "duration": 13,
    "start_time": "2023-02-25T21:45:40.374Z"
   },
   {
    "duration": 11,
    "start_time": "2023-02-25T21:45:40.388Z"
   },
   {
    "duration": 8,
    "start_time": "2023-02-25T21:46:48.567Z"
   },
   {
    "duration": 12,
    "start_time": "2023-02-25T21:47:27.211Z"
   },
   {
    "duration": 7,
    "start_time": "2023-02-25T21:49:35.765Z"
   },
   {
    "duration": 16,
    "start_time": "2023-02-25T21:50:38.327Z"
   },
   {
    "duration": 16,
    "start_time": "2023-02-25T21:51:04.607Z"
   },
   {
    "duration": 7,
    "start_time": "2023-02-25T21:52:32.167Z"
   },
   {
    "duration": 534,
    "start_time": "2023-02-25T21:52:49.363Z"
   },
   {
    "duration": 19,
    "start_time": "2023-02-25T21:52:49.899Z"
   },
   {
    "duration": 90,
    "start_time": "2023-02-25T21:52:49.920Z"
   },
   {
    "duration": 2365,
    "start_time": "2023-02-25T21:52:50.012Z"
   },
   {
    "duration": 10,
    "start_time": "2023-02-25T21:52:52.379Z"
   },
   {
    "duration": 49,
    "start_time": "2023-02-25T21:52:52.391Z"
   },
   {
    "duration": 6,
    "start_time": "2023-02-25T21:52:52.442Z"
   },
   {
    "duration": 34,
    "start_time": "2023-02-25T21:52:52.449Z"
   },
   {
    "duration": 12,
    "start_time": "2023-02-25T21:52:52.484Z"
   },
   {
    "duration": 23,
    "start_time": "2023-02-25T21:52:52.499Z"
   },
   {
    "duration": 18,
    "start_time": "2023-02-25T21:52:52.523Z"
   },
   {
    "duration": 11,
    "start_time": "2023-02-25T21:52:52.544Z"
   },
   {
    "duration": 12,
    "start_time": "2023-02-25T21:52:52.557Z"
   },
   {
    "duration": 14,
    "start_time": "2023-02-25T21:52:52.571Z"
   },
   {
    "duration": 16,
    "start_time": "2023-02-25T21:52:52.587Z"
   },
   {
    "duration": 15,
    "start_time": "2023-02-25T21:52:52.641Z"
   },
   {
    "duration": 14,
    "start_time": "2023-02-25T21:52:52.658Z"
   },
   {
    "duration": 20,
    "start_time": "2023-02-25T21:54:16.008Z"
   },
   {
    "duration": 580,
    "start_time": "2023-02-25T21:54:24.660Z"
   },
   {
    "duration": 23,
    "start_time": "2023-02-25T21:54:25.243Z"
   },
   {
    "duration": 101,
    "start_time": "2023-02-25T21:54:25.268Z"
   },
   {
    "duration": 2522,
    "start_time": "2023-02-25T21:54:25.371Z"
   },
   {
    "duration": 13,
    "start_time": "2023-02-25T21:54:27.895Z"
   },
   {
    "duration": 43,
    "start_time": "2023-02-25T21:54:27.910Z"
   },
   {
    "duration": 7,
    "start_time": "2023-02-25T21:54:27.956Z"
   },
   {
    "duration": 30,
    "start_time": "2023-02-25T21:54:27.965Z"
   },
   {
    "duration": 8,
    "start_time": "2023-02-25T21:54:27.998Z"
   },
   {
    "duration": 36,
    "start_time": "2023-02-25T21:54:28.009Z"
   },
   {
    "duration": 20,
    "start_time": "2023-02-25T21:54:28.047Z"
   },
   {
    "duration": 14,
    "start_time": "2023-02-25T21:54:28.069Z"
   },
   {
    "duration": 13,
    "start_time": "2023-02-25T21:54:28.084Z"
   },
   {
    "duration": 54,
    "start_time": "2023-02-25T21:54:28.099Z"
   },
   {
    "duration": 17,
    "start_time": "2023-02-25T21:54:28.158Z"
   },
   {
    "duration": 13,
    "start_time": "2023-02-25T21:54:28.177Z"
   },
   {
    "duration": 12,
    "start_time": "2023-02-25T21:54:28.192Z"
   },
   {
    "duration": 559,
    "start_time": "2023-02-25T21:56:18.910Z"
   },
   {
    "duration": 15,
    "start_time": "2023-02-25T21:56:19.471Z"
   },
   {
    "duration": 89,
    "start_time": "2023-02-25T21:56:19.488Z"
   },
   {
    "duration": 2329,
    "start_time": "2023-02-25T21:56:19.580Z"
   },
   {
    "duration": 11,
    "start_time": "2023-02-25T21:56:21.910Z"
   },
   {
    "duration": 34,
    "start_time": "2023-02-25T21:56:21.923Z"
   },
   {
    "duration": 7,
    "start_time": "2023-02-25T21:56:21.960Z"
   },
   {
    "duration": 36,
    "start_time": "2023-02-25T21:56:21.969Z"
   },
   {
    "duration": 8,
    "start_time": "2023-02-25T21:56:22.007Z"
   },
   {
    "duration": 23,
    "start_time": "2023-02-25T21:56:22.018Z"
   },
   {
    "duration": 19,
    "start_time": "2023-02-25T21:56:22.043Z"
   },
   {
    "duration": 24,
    "start_time": "2023-02-25T21:56:22.064Z"
   },
   {
    "duration": 12,
    "start_time": "2023-02-25T21:56:22.090Z"
   },
   {
    "duration": 12,
    "start_time": "2023-02-25T21:56:22.103Z"
   },
   {
    "duration": 35,
    "start_time": "2023-02-25T21:56:22.117Z"
   },
   {
    "duration": 12,
    "start_time": "2023-02-25T21:56:22.154Z"
   },
   {
    "duration": 10,
    "start_time": "2023-02-25T21:56:22.168Z"
   },
   {
    "duration": 7,
    "start_time": "2023-02-25T21:56:51.045Z"
   },
   {
    "duration": 528,
    "start_time": "2023-02-25T21:56:57.698Z"
   },
   {
    "duration": 21,
    "start_time": "2023-02-25T21:56:58.228Z"
   },
   {
    "duration": 90,
    "start_time": "2023-02-25T21:56:58.251Z"
   },
   {
    "duration": 2346,
    "start_time": "2023-02-25T21:56:58.343Z"
   },
   {
    "duration": 10,
    "start_time": "2023-02-25T21:57:00.691Z"
   },
   {
    "duration": 49,
    "start_time": "2023-02-25T21:57:00.703Z"
   },
   {
    "duration": 5,
    "start_time": "2023-02-25T21:57:00.754Z"
   },
   {
    "duration": 74,
    "start_time": "2023-02-25T21:57:00.761Z"
   },
   {
    "duration": 37,
    "start_time": "2023-02-25T21:57:00.837Z"
   },
   {
    "duration": 35,
    "start_time": "2023-02-25T21:57:00.877Z"
   },
   {
    "duration": 47,
    "start_time": "2023-02-25T21:57:00.914Z"
   },
   {
    "duration": 24,
    "start_time": "2023-02-25T21:57:00.963Z"
   },
   {
    "duration": 35,
    "start_time": "2023-02-25T21:57:00.989Z"
   },
   {
    "duration": 16,
    "start_time": "2023-02-25T21:57:01.026Z"
   },
   {
    "duration": 27,
    "start_time": "2023-02-25T21:57:01.045Z"
   },
   {
    "duration": 26,
    "start_time": "2023-02-25T21:57:01.074Z"
   },
   {
    "duration": 16,
    "start_time": "2023-02-25T21:57:01.102Z"
   },
   {
    "duration": 19,
    "start_time": "2023-02-25T21:58:22.484Z"
   },
   {
    "duration": 18,
    "start_time": "2023-02-25T21:59:14.277Z"
   },
   {
    "duration": 25,
    "start_time": "2023-02-25T22:00:12.035Z"
   },
   {
    "duration": 24,
    "start_time": "2023-02-25T22:00:27.873Z"
   },
   {
    "duration": 19,
    "start_time": "2023-02-25T22:00:52.324Z"
   },
   {
    "duration": 549,
    "start_time": "2023-02-25T22:00:59.911Z"
   },
   {
    "duration": 19,
    "start_time": "2023-02-25T22:01:00.462Z"
   },
   {
    "duration": 110,
    "start_time": "2023-02-25T22:01:00.483Z"
   },
   {
    "duration": 2626,
    "start_time": "2023-02-25T22:01:00.595Z"
   },
   {
    "duration": 11,
    "start_time": "2023-02-25T22:01:03.222Z"
   },
   {
    "duration": 64,
    "start_time": "2023-02-25T22:01:03.234Z"
   },
   {
    "duration": 7,
    "start_time": "2023-02-25T22:01:03.300Z"
   },
   {
    "duration": 37,
    "start_time": "2023-02-25T22:01:03.308Z"
   },
   {
    "duration": 9,
    "start_time": "2023-02-25T22:01:03.347Z"
   },
   {
    "duration": 21,
    "start_time": "2023-02-25T22:01:03.360Z"
   },
   {
    "duration": 31,
    "start_time": "2023-02-25T22:01:03.383Z"
   },
   {
    "duration": 13,
    "start_time": "2023-02-25T22:01:03.416Z"
   },
   {
    "duration": 16,
    "start_time": "2023-02-25T22:01:03.431Z"
   },
   {
    "duration": 30,
    "start_time": "2023-02-25T22:01:03.450Z"
   },
   {
    "duration": 16,
    "start_time": "2023-02-25T22:01:03.482Z"
   },
   {
    "duration": 13,
    "start_time": "2023-02-25T22:01:03.499Z"
   },
   {
    "duration": 13,
    "start_time": "2023-02-25T22:01:03.513Z"
   },
   {
    "duration": 7,
    "start_time": "2023-02-25T22:02:34.032Z"
   },
   {
    "duration": 606,
    "start_time": "2023-02-25T22:03:30.737Z"
   },
   {
    "duration": 20,
    "start_time": "2023-02-25T22:03:31.350Z"
   },
   {
    "duration": 98,
    "start_time": "2023-02-25T22:03:31.372Z"
   },
   {
    "duration": 2552,
    "start_time": "2023-02-25T22:03:31.473Z"
   },
   {
    "duration": 11,
    "start_time": "2023-02-25T22:03:34.028Z"
   },
   {
    "duration": 50,
    "start_time": "2023-02-25T22:03:34.041Z"
   },
   {
    "duration": 7,
    "start_time": "2023-02-25T22:03:34.093Z"
   },
   {
    "duration": 21,
    "start_time": "2023-02-25T22:03:34.101Z"
   },
   {
    "duration": 16,
    "start_time": "2023-02-25T22:03:34.124Z"
   },
   {
    "duration": 81,
    "start_time": "2023-02-25T22:03:34.143Z"
   },
   {
    "duration": 0,
    "start_time": "2023-02-25T22:03:34.226Z"
   },
   {
    "duration": 0,
    "start_time": "2023-02-25T22:03:34.227Z"
   },
   {
    "duration": 0,
    "start_time": "2023-02-25T22:03:34.228Z"
   },
   {
    "duration": 0,
    "start_time": "2023-02-25T22:03:34.230Z"
   },
   {
    "duration": 0,
    "start_time": "2023-02-25T22:03:34.231Z"
   },
   {
    "duration": 0,
    "start_time": "2023-02-25T22:03:34.232Z"
   },
   {
    "duration": 0,
    "start_time": "2023-02-25T22:03:34.233Z"
   },
   {
    "duration": 536,
    "start_time": "2023-02-25T22:03:55.363Z"
   },
   {
    "duration": 17,
    "start_time": "2023-02-25T22:03:55.902Z"
   },
   {
    "duration": 88,
    "start_time": "2023-02-25T22:03:55.921Z"
   },
   {
    "duration": 2372,
    "start_time": "2023-02-25T22:03:56.013Z"
   },
   {
    "duration": 12,
    "start_time": "2023-02-25T22:03:58.386Z"
   },
   {
    "duration": 34,
    "start_time": "2023-02-25T22:03:58.400Z"
   },
   {
    "duration": 8,
    "start_time": "2023-02-25T22:03:58.435Z"
   },
   {
    "duration": 24,
    "start_time": "2023-02-25T22:03:58.445Z"
   },
   {
    "duration": 9,
    "start_time": "2023-02-25T22:03:58.470Z"
   },
   {
    "duration": 10,
    "start_time": "2023-02-25T22:03:58.481Z"
   },
   {
    "duration": 24,
    "start_time": "2023-02-25T22:03:58.493Z"
   },
   {
    "duration": 28,
    "start_time": "2023-02-25T22:03:58.519Z"
   },
   {
    "duration": 13,
    "start_time": "2023-02-25T22:03:58.548Z"
   },
   {
    "duration": 14,
    "start_time": "2023-02-25T22:03:58.562Z"
   },
   {
    "duration": 15,
    "start_time": "2023-02-25T22:03:58.577Z"
   },
   {
    "duration": 13,
    "start_time": "2023-02-25T22:03:58.593Z"
   },
   {
    "duration": 41,
    "start_time": "2023-02-25T22:03:58.607Z"
   },
   {
    "duration": 8,
    "start_time": "2023-02-25T22:04:20.012Z"
   },
   {
    "duration": 7,
    "start_time": "2023-02-25T22:11:04.667Z"
   },
   {
    "duration": 6,
    "start_time": "2023-02-25T22:11:53.980Z"
   },
   {
    "duration": 587,
    "start_time": "2023-02-25T22:12:59.828Z"
   },
   {
    "duration": 31,
    "start_time": "2023-02-25T22:13:00.418Z"
   },
   {
    "duration": 141,
    "start_time": "2023-02-25T22:13:00.451Z"
   },
   {
    "duration": 2715,
    "start_time": "2023-02-25T22:13:00.594Z"
   },
   {
    "duration": 11,
    "start_time": "2023-02-25T22:13:03.312Z"
   },
   {
    "duration": 31,
    "start_time": "2023-02-25T22:13:03.324Z"
   },
   {
    "duration": 6,
    "start_time": "2023-02-25T22:13:03.357Z"
   },
   {
    "duration": 30,
    "start_time": "2023-02-25T22:13:03.364Z"
   },
   {
    "duration": 8,
    "start_time": "2023-02-25T22:13:03.397Z"
   },
   {
    "duration": 6,
    "start_time": "2023-02-25T22:13:03.407Z"
   },
   {
    "duration": 15,
    "start_time": "2023-02-25T22:13:03.440Z"
   },
   {
    "duration": 25,
    "start_time": "2023-02-25T22:13:03.457Z"
   },
   {
    "duration": 10,
    "start_time": "2023-02-25T22:13:03.484Z"
   },
   {
    "duration": 23,
    "start_time": "2023-02-25T22:13:03.497Z"
   },
   {
    "duration": 14,
    "start_time": "2023-02-25T22:13:03.522Z"
   },
   {
    "duration": 13,
    "start_time": "2023-02-25T22:13:03.540Z"
   },
   {
    "duration": 13,
    "start_time": "2023-02-25T22:13:03.555Z"
   },
   {
    "duration": 511,
    "start_time": "2023-02-25T22:18:49.685Z"
   },
   {
    "duration": 15,
    "start_time": "2023-02-25T22:18:50.199Z"
   },
   {
    "duration": 89,
    "start_time": "2023-02-25T22:18:50.215Z"
   },
   {
    "duration": 2321,
    "start_time": "2023-02-25T22:18:50.306Z"
   },
   {
    "duration": 10,
    "start_time": "2023-02-25T22:18:52.629Z"
   },
   {
    "duration": 28,
    "start_time": "2023-02-25T22:18:52.641Z"
   },
   {
    "duration": 6,
    "start_time": "2023-02-25T22:18:52.671Z"
   },
   {
    "duration": 25,
    "start_time": "2023-02-25T22:18:52.678Z"
   },
   {
    "duration": 7,
    "start_time": "2023-02-25T22:18:52.704Z"
   },
   {
    "duration": 27,
    "start_time": "2023-02-25T22:18:52.713Z"
   },
   {
    "duration": 7,
    "start_time": "2023-02-25T22:18:52.742Z"
   },
   {
    "duration": 33,
    "start_time": "2023-02-25T22:18:52.750Z"
   },
   {
    "duration": 15,
    "start_time": "2023-02-25T22:18:52.785Z"
   },
   {
    "duration": 14,
    "start_time": "2023-02-25T22:18:52.802Z"
   },
   {
    "duration": 18,
    "start_time": "2023-02-25T22:18:52.818Z"
   },
   {
    "duration": 13,
    "start_time": "2023-02-25T22:18:52.838Z"
   },
   {
    "duration": 9,
    "start_time": "2023-02-25T22:18:52.853Z"
   },
   {
    "duration": 523,
    "start_time": "2023-02-25T22:19:25.169Z"
   },
   {
    "duration": 16,
    "start_time": "2023-02-25T22:19:25.694Z"
   },
   {
    "duration": 87,
    "start_time": "2023-02-25T22:19:25.712Z"
   },
   {
    "duration": 2384,
    "start_time": "2023-02-25T22:19:25.801Z"
   },
   {
    "duration": 10,
    "start_time": "2023-02-25T22:19:28.187Z"
   },
   {
    "duration": 27,
    "start_time": "2023-02-25T22:19:28.199Z"
   },
   {
    "duration": 6,
    "start_time": "2023-02-25T22:19:28.228Z"
   },
   {
    "duration": 25,
    "start_time": "2023-02-25T22:19:28.236Z"
   },
   {
    "duration": 8,
    "start_time": "2023-02-25T22:19:28.262Z"
   },
   {
    "duration": 34,
    "start_time": "2023-02-25T22:19:28.271Z"
   },
   {
    "duration": 10,
    "start_time": "2023-02-25T22:19:28.306Z"
   },
   {
    "duration": 10,
    "start_time": "2023-02-25T22:19:28.318Z"
   },
   {
    "duration": 9,
    "start_time": "2023-02-25T22:19:28.330Z"
   },
   {
    "duration": 7,
    "start_time": "2023-02-25T22:19:28.342Z"
   },
   {
    "duration": 9,
    "start_time": "2023-02-25T22:19:28.351Z"
   },
   {
    "duration": 13,
    "start_time": "2023-02-25T22:19:28.362Z"
   },
   {
    "duration": 9,
    "start_time": "2023-02-25T22:19:28.377Z"
   },
   {
    "duration": 548,
    "start_time": "2023-02-25T22:21:17.660Z"
   },
   {
    "duration": 16,
    "start_time": "2023-02-25T22:21:18.210Z"
   },
   {
    "duration": 83,
    "start_time": "2023-02-25T22:21:18.228Z"
   },
   {
    "duration": 2385,
    "start_time": "2023-02-25T22:21:18.312Z"
   },
   {
    "duration": 10,
    "start_time": "2023-02-25T22:21:20.699Z"
   },
   {
    "duration": 33,
    "start_time": "2023-02-25T22:21:20.711Z"
   },
   {
    "duration": 6,
    "start_time": "2023-02-25T22:21:20.746Z"
   },
   {
    "duration": 21,
    "start_time": "2023-02-25T22:21:20.753Z"
   },
   {
    "duration": 9,
    "start_time": "2023-02-25T22:21:20.776Z"
   },
   {
    "duration": 11,
    "start_time": "2023-02-25T22:21:20.787Z"
   },
   {
    "duration": 40,
    "start_time": "2023-02-25T22:21:20.800Z"
   },
   {
    "duration": 6,
    "start_time": "2023-02-25T22:21:20.842Z"
   },
   {
    "duration": 6,
    "start_time": "2023-02-25T22:21:20.850Z"
   },
   {
    "duration": 10,
    "start_time": "2023-02-25T22:21:20.858Z"
   },
   {
    "duration": 8,
    "start_time": "2023-02-25T22:21:20.869Z"
   },
   {
    "duration": 9,
    "start_time": "2023-02-25T22:21:20.879Z"
   },
   {
    "duration": 10,
    "start_time": "2023-02-25T22:21:20.889Z"
   },
   {
    "duration": 538,
    "start_time": "2023-02-25T22:22:40.668Z"
   },
   {
    "duration": 16,
    "start_time": "2023-02-25T22:22:41.209Z"
   },
   {
    "duration": 87,
    "start_time": "2023-02-25T22:22:41.227Z"
   },
   {
    "duration": 2301,
    "start_time": "2023-02-25T22:22:41.316Z"
   },
   {
    "duration": 11,
    "start_time": "2023-02-25T22:22:43.620Z"
   },
   {
    "duration": 310,
    "start_time": "2023-02-25T22:22:43.633Z"
   },
   {
    "duration": 7,
    "start_time": "2023-02-25T22:22:43.946Z"
   },
   {
    "duration": 21,
    "start_time": "2023-02-25T22:22:43.955Z"
   },
   {
    "duration": 8,
    "start_time": "2023-02-25T22:22:43.978Z"
   },
   {
    "duration": 7,
    "start_time": "2023-02-25T22:22:43.989Z"
   },
   {
    "duration": 48,
    "start_time": "2023-02-25T22:22:43.998Z"
   },
   {
    "duration": 8,
    "start_time": "2023-02-25T22:22:44.047Z"
   },
   {
    "duration": 4,
    "start_time": "2023-02-25T22:22:44.057Z"
   },
   {
    "duration": 9,
    "start_time": "2023-02-25T22:22:44.063Z"
   },
   {
    "duration": 8,
    "start_time": "2023-02-25T22:22:44.074Z"
   },
   {
    "duration": 9,
    "start_time": "2023-02-25T22:22:44.084Z"
   },
   {
    "duration": 10,
    "start_time": "2023-02-25T22:22:44.095Z"
   },
   {
    "duration": 11,
    "start_time": "2023-02-25T22:23:59.052Z"
   },
   {
    "duration": 16,
    "start_time": "2023-02-25T22:35:14.713Z"
   },
   {
    "duration": 49,
    "start_time": "2023-02-26T07:57:27.252Z"
   },
   {
    "duration": 605,
    "start_time": "2023-02-26T07:57:36.011Z"
   },
   {
    "duration": 15,
    "start_time": "2023-02-26T07:57:36.618Z"
   },
   {
    "duration": 78,
    "start_time": "2023-02-26T07:57:36.635Z"
   },
   {
    "duration": 2480,
    "start_time": "2023-02-26T07:57:36.715Z"
   },
   {
    "duration": 9,
    "start_time": "2023-02-26T07:57:39.198Z"
   },
   {
    "duration": 9,
    "start_time": "2023-02-26T07:57:39.209Z"
   },
   {
    "duration": 25,
    "start_time": "2023-02-26T07:57:39.219Z"
   },
   {
    "duration": 8,
    "start_time": "2023-02-26T07:57:39.247Z"
   },
   {
    "duration": 9,
    "start_time": "2023-02-26T07:57:39.257Z"
   },
   {
    "duration": 8,
    "start_time": "2023-02-26T07:57:39.268Z"
   },
   {
    "duration": 10,
    "start_time": "2023-02-26T07:57:39.278Z"
   },
   {
    "duration": 41,
    "start_time": "2023-02-26T07:57:39.290Z"
   },
   {
    "duration": 14,
    "start_time": "2023-02-26T07:57:39.332Z"
   },
   {
    "duration": 10,
    "start_time": "2023-02-26T07:57:39.349Z"
   },
   {
    "duration": 21,
    "start_time": "2023-02-26T07:57:39.361Z"
   },
   {
    "duration": 19,
    "start_time": "2023-02-26T07:57:39.383Z"
   },
   {
    "duration": 36,
    "start_time": "2023-02-26T07:57:39.404Z"
   },
   {
    "duration": 26,
    "start_time": "2023-02-26T07:57:39.442Z"
   },
   {
    "duration": 22,
    "start_time": "2023-02-26T07:57:39.470Z"
   },
   {
    "duration": 35,
    "start_time": "2023-02-26T08:00:45.810Z"
   },
   {
    "duration": 68,
    "start_time": "2023-02-26T13:27:48.362Z"
   },
   {
    "duration": 542,
    "start_time": "2023-02-26T13:28:02.807Z"
   },
   {
    "duration": 15,
    "start_time": "2023-02-26T13:28:03.351Z"
   },
   {
    "duration": 83,
    "start_time": "2023-02-26T13:28:03.367Z"
   },
   {
    "duration": 2188,
    "start_time": "2023-02-26T13:28:03.451Z"
   },
   {
    "duration": 9,
    "start_time": "2023-02-26T13:28:05.641Z"
   },
   {
    "duration": 10,
    "start_time": "2023-02-26T13:28:05.652Z"
   },
   {
    "duration": 22,
    "start_time": "2023-02-26T13:28:05.663Z"
   },
   {
    "duration": 7,
    "start_time": "2023-02-26T13:28:05.687Z"
   },
   {
    "duration": 7,
    "start_time": "2023-02-26T13:28:05.696Z"
   },
   {
    "duration": 23,
    "start_time": "2023-02-26T13:28:05.704Z"
   },
   {
    "duration": 9,
    "start_time": "2023-02-26T13:28:05.729Z"
   },
   {
    "duration": 6,
    "start_time": "2023-02-26T13:28:05.739Z"
   },
   {
    "duration": 9,
    "start_time": "2023-02-26T13:28:05.747Z"
   },
   {
    "duration": 10,
    "start_time": "2023-02-26T13:28:05.758Z"
   },
   {
    "duration": 12,
    "start_time": "2023-02-26T13:28:05.769Z"
   },
   {
    "duration": 44,
    "start_time": "2023-02-26T13:28:05.783Z"
   },
   {
    "duration": 14,
    "start_time": "2023-02-26T13:28:05.829Z"
   },
   {
    "duration": 21,
    "start_time": "2023-02-26T13:28:05.844Z"
   },
   {
    "duration": 19,
    "start_time": "2023-02-26T13:28:05.867Z"
   },
   {
    "duration": 96,
    "start_time": "2023-02-26T13:28:05.887Z"
   },
   {
    "duration": 536,
    "start_time": "2023-02-26T13:28:18.407Z"
   },
   {
    "duration": 16,
    "start_time": "2023-02-26T13:28:18.945Z"
   },
   {
    "duration": 91,
    "start_time": "2023-02-26T13:28:18.963Z"
   },
   {
    "duration": 2311,
    "start_time": "2023-02-26T13:28:19.056Z"
   },
   {
    "duration": 9,
    "start_time": "2023-02-26T13:28:21.370Z"
   },
   {
    "duration": 11,
    "start_time": "2023-02-26T13:28:21.381Z"
   },
   {
    "duration": 53,
    "start_time": "2023-02-26T13:28:21.394Z"
   },
   {
    "duration": 8,
    "start_time": "2023-02-26T13:28:21.448Z"
   },
   {
    "duration": 22,
    "start_time": "2023-02-26T13:28:21.457Z"
   },
   {
    "duration": 26,
    "start_time": "2023-02-26T13:28:21.480Z"
   },
   {
    "duration": 7,
    "start_time": "2023-02-26T13:28:21.507Z"
   },
   {
    "duration": 26,
    "start_time": "2023-02-26T13:28:21.515Z"
   },
   {
    "duration": 14,
    "start_time": "2023-02-26T13:28:21.543Z"
   },
   {
    "duration": 10,
    "start_time": "2023-02-26T13:28:21.560Z"
   },
   {
    "duration": 9,
    "start_time": "2023-02-26T13:28:21.572Z"
   },
   {
    "duration": 15,
    "start_time": "2023-02-26T13:28:21.583Z"
   },
   {
    "duration": 28,
    "start_time": "2023-02-26T13:28:21.600Z"
   },
   {
    "duration": 22,
    "start_time": "2023-02-26T13:28:21.629Z"
   },
   {
    "duration": 21,
    "start_time": "2023-02-26T13:28:21.652Z"
   },
   {
    "duration": 8,
    "start_time": "2023-02-26T13:28:21.675Z"
   },
   {
    "duration": 85,
    "start_time": "2023-02-26T13:30:10.288Z"
   },
   {
    "duration": 9,
    "start_time": "2023-02-26T13:30:32.668Z"
   },
   {
    "duration": 81,
    "start_time": "2023-02-26T13:32:08.082Z"
   },
   {
    "duration": 8,
    "start_time": "2023-02-26T13:32:16.030Z"
   },
   {
    "duration": 8,
    "start_time": "2023-02-26T13:32:29.590Z"
   },
   {
    "duration": 10,
    "start_time": "2023-02-26T13:33:16.701Z"
   },
   {
    "duration": 10,
    "start_time": "2023-02-26T13:34:03.460Z"
   },
   {
    "duration": 8,
    "start_time": "2023-02-26T13:34:22.579Z"
   },
   {
    "duration": 6,
    "start_time": "2023-02-26T13:34:39.061Z"
   },
   {
    "duration": 7,
    "start_time": "2023-02-26T13:34:41.632Z"
   },
   {
    "duration": 8,
    "start_time": "2023-02-26T13:34:47.101Z"
   },
   {
    "duration": 18,
    "start_time": "2023-02-26T13:38:35.689Z"
   },
   {
    "duration": 16,
    "start_time": "2023-02-26T13:38:49.188Z"
   },
   {
    "duration": 512,
    "start_time": "2023-02-26T13:40:34.545Z"
   },
   {
    "duration": 18,
    "start_time": "2023-02-26T13:40:35.060Z"
   },
   {
    "duration": 87,
    "start_time": "2023-02-26T13:40:35.080Z"
   },
   {
    "duration": 2279,
    "start_time": "2023-02-26T13:40:35.168Z"
   },
   {
    "duration": 10,
    "start_time": "2023-02-26T13:40:37.449Z"
   },
   {
    "duration": 15,
    "start_time": "2023-02-26T13:40:37.460Z"
   },
   {
    "duration": 21,
    "start_time": "2023-02-26T13:40:37.476Z"
   },
   {
    "duration": 7,
    "start_time": "2023-02-26T13:40:37.498Z"
   },
   {
    "duration": 9,
    "start_time": "2023-02-26T13:40:37.506Z"
   },
   {
    "duration": 12,
    "start_time": "2023-02-26T13:40:37.516Z"
   },
   {
    "duration": 28,
    "start_time": "2023-02-26T13:40:37.530Z"
   },
   {
    "duration": 14,
    "start_time": "2023-02-26T13:40:37.559Z"
   },
   {
    "duration": 18,
    "start_time": "2023-02-26T13:40:37.574Z"
   },
   {
    "duration": 22,
    "start_time": "2023-02-26T13:40:37.595Z"
   },
   {
    "duration": 10,
    "start_time": "2023-02-26T13:40:37.619Z"
   },
   {
    "duration": 9,
    "start_time": "2023-02-26T13:40:37.631Z"
   },
   {
    "duration": 15,
    "start_time": "2023-02-26T13:40:37.642Z"
   },
   {
    "duration": 23,
    "start_time": "2023-02-26T13:40:37.659Z"
   },
   {
    "duration": 21,
    "start_time": "2023-02-26T13:40:37.683Z"
   },
   {
    "duration": 8,
    "start_time": "2023-02-26T13:40:37.728Z"
   },
   {
    "duration": 7,
    "start_time": "2023-02-26T13:40:37.738Z"
   },
   {
    "duration": 16,
    "start_time": "2023-02-26T13:40:37.747Z"
   },
   {
    "duration": 535,
    "start_time": "2023-02-26T13:57:02.177Z"
   },
   {
    "duration": 16,
    "start_time": "2023-02-26T13:57:02.713Z"
   },
   {
    "duration": 80,
    "start_time": "2023-02-26T13:57:02.733Z"
   },
   {
    "duration": 2327,
    "start_time": "2023-02-26T13:57:02.826Z"
   },
   {
    "duration": 11,
    "start_time": "2023-02-26T13:57:05.156Z"
   },
   {
    "duration": 10,
    "start_time": "2023-02-26T13:57:05.169Z"
   },
   {
    "duration": 32,
    "start_time": "2023-02-26T13:57:05.181Z"
   },
   {
    "duration": 15,
    "start_time": "2023-02-26T13:57:05.215Z"
   },
   {
    "duration": 8,
    "start_time": "2023-02-26T13:57:05.234Z"
   },
   {
    "duration": 10,
    "start_time": "2023-02-26T13:57:05.244Z"
   },
   {
    "duration": 12,
    "start_time": "2023-02-26T13:57:05.257Z"
   },
   {
    "duration": 7,
    "start_time": "2023-02-26T13:57:05.272Z"
   },
   {
    "duration": 21,
    "start_time": "2023-02-26T13:57:05.281Z"
   },
   {
    "duration": 9,
    "start_time": "2023-02-26T13:57:05.327Z"
   },
   {
    "duration": 13,
    "start_time": "2023-02-26T13:57:05.338Z"
   },
   {
    "duration": 16,
    "start_time": "2023-02-26T13:57:05.353Z"
   },
   {
    "duration": 19,
    "start_time": "2023-02-26T13:57:05.371Z"
   },
   {
    "duration": 36,
    "start_time": "2023-02-26T13:57:05.392Z"
   },
   {
    "duration": 21,
    "start_time": "2023-02-26T13:57:05.430Z"
   },
   {
    "duration": 18,
    "start_time": "2023-02-26T13:57:05.453Z"
   },
   {
    "duration": 8,
    "start_time": "2023-02-26T13:57:05.473Z"
   },
   {
    "duration": 53,
    "start_time": "2023-02-26T13:57:05.484Z"
   },
   {
    "duration": 2,
    "start_time": "2023-02-26T13:57:05.539Z"
   },
   {
    "duration": 19,
    "start_time": "2023-02-26T14:02:11.796Z"
   },
   {
    "duration": 48,
    "start_time": "2023-02-26T19:10:16.997Z"
   },
   {
    "duration": 695,
    "start_time": "2023-02-26T19:10:25.122Z"
   },
   {
    "duration": 16,
    "start_time": "2023-02-26T19:10:25.819Z"
   },
   {
    "duration": 83,
    "start_time": "2023-02-26T19:10:25.837Z"
   },
   {
    "duration": 2346,
    "start_time": "2023-02-26T19:10:25.922Z"
   },
   {
    "duration": 13,
    "start_time": "2023-02-26T19:10:28.271Z"
   },
   {
    "duration": 8,
    "start_time": "2023-02-26T19:10:28.285Z"
   },
   {
    "duration": 20,
    "start_time": "2023-02-26T19:10:28.294Z"
   },
   {
    "duration": 6,
    "start_time": "2023-02-26T19:10:28.316Z"
   },
   {
    "duration": 6,
    "start_time": "2023-02-26T19:10:28.324Z"
   },
   {
    "duration": 7,
    "start_time": "2023-02-26T19:10:28.331Z"
   },
   {
    "duration": 6,
    "start_time": "2023-02-26T19:10:28.340Z"
   },
   {
    "duration": 44,
    "start_time": "2023-02-26T19:10:28.348Z"
   },
   {
    "duration": 6,
    "start_time": "2023-02-26T19:10:28.394Z"
   },
   {
    "duration": 7,
    "start_time": "2023-02-26T19:10:28.403Z"
   },
   {
    "duration": 8,
    "start_time": "2023-02-26T19:10:28.411Z"
   },
   {
    "duration": 30,
    "start_time": "2023-02-26T19:10:28.421Z"
   },
   {
    "duration": 23,
    "start_time": "2023-02-26T19:10:28.453Z"
   },
   {
    "duration": 33,
    "start_time": "2023-02-26T19:10:28.477Z"
   },
   {
    "duration": 24,
    "start_time": "2023-02-26T19:10:28.511Z"
   },
   {
    "duration": 8,
    "start_time": "2023-02-26T19:10:28.537Z"
   },
   {
    "duration": 15,
    "start_time": "2023-02-26T19:10:28.547Z"
   },
   {
    "duration": 87,
    "start_time": "2023-02-26T19:10:28.564Z"
   },
   {
    "duration": 494,
    "start_time": "2023-02-26T19:10:58.755Z"
   },
   {
    "duration": 15,
    "start_time": "2023-02-26T19:10:59.251Z"
   },
   {
    "duration": 106,
    "start_time": "2023-02-26T19:10:59.267Z"
   },
   {
    "duration": 2090,
    "start_time": "2023-02-26T19:10:59.374Z"
   },
   {
    "duration": 9,
    "start_time": "2023-02-26T19:11:01.467Z"
   },
   {
    "duration": 16,
    "start_time": "2023-02-26T19:11:01.477Z"
   },
   {
    "duration": 20,
    "start_time": "2023-02-26T19:11:01.495Z"
   },
   {
    "duration": 7,
    "start_time": "2023-02-26T19:11:01.517Z"
   },
   {
    "duration": 36,
    "start_time": "2023-02-26T19:11:01.525Z"
   },
   {
    "duration": 35,
    "start_time": "2023-02-26T19:11:01.562Z"
   },
   {
    "duration": 28,
    "start_time": "2023-02-26T19:11:01.599Z"
   },
   {
    "duration": 16,
    "start_time": "2023-02-26T19:11:01.629Z"
   },
   {
    "duration": 53,
    "start_time": "2023-02-26T19:11:01.647Z"
   },
   {
    "duration": 33,
    "start_time": "2023-02-26T19:11:01.702Z"
   },
   {
    "duration": 38,
    "start_time": "2023-02-26T19:11:01.736Z"
   },
   {
    "duration": 24,
    "start_time": "2023-02-26T19:11:01.776Z"
   },
   {
    "duration": 50,
    "start_time": "2023-02-26T19:11:01.802Z"
   },
   {
    "duration": 45,
    "start_time": "2023-02-26T19:11:01.854Z"
   },
   {
    "duration": 32,
    "start_time": "2023-02-26T19:11:01.901Z"
   },
   {
    "duration": 8,
    "start_time": "2023-02-26T19:11:01.935Z"
   },
   {
    "duration": 30,
    "start_time": "2023-02-26T19:11:01.944Z"
   },
   {
    "duration": 73,
    "start_time": "2023-02-26T19:11:01.976Z"
   },
   {
    "duration": 489,
    "start_time": "2023-02-26T19:12:05.423Z"
   },
   {
    "duration": 15,
    "start_time": "2023-02-26T19:12:05.914Z"
   },
   {
    "duration": 82,
    "start_time": "2023-02-26T19:12:05.930Z"
   },
   {
    "duration": 2070,
    "start_time": "2023-02-26T19:12:06.014Z"
   },
   {
    "duration": 9,
    "start_time": "2023-02-26T19:12:08.086Z"
   },
   {
    "duration": 9,
    "start_time": "2023-02-26T19:12:08.096Z"
   },
   {
    "duration": 19,
    "start_time": "2023-02-26T19:12:08.107Z"
   },
   {
    "duration": 6,
    "start_time": "2023-02-26T19:12:08.127Z"
   },
   {
    "duration": 5,
    "start_time": "2023-02-26T19:12:08.135Z"
   },
   {
    "duration": 8,
    "start_time": "2023-02-26T19:12:08.142Z"
   },
   {
    "duration": 5,
    "start_time": "2023-02-26T19:12:08.152Z"
   },
   {
    "duration": 36,
    "start_time": "2023-02-26T19:12:08.158Z"
   },
   {
    "duration": 6,
    "start_time": "2023-02-26T19:12:08.196Z"
   },
   {
    "duration": 8,
    "start_time": "2023-02-26T19:12:08.204Z"
   },
   {
    "duration": 10,
    "start_time": "2023-02-26T19:12:08.213Z"
   },
   {
    "duration": 8,
    "start_time": "2023-02-26T19:12:08.225Z"
   },
   {
    "duration": 13,
    "start_time": "2023-02-26T19:12:08.234Z"
   },
   {
    "duration": 51,
    "start_time": "2023-02-26T19:12:08.248Z"
   },
   {
    "duration": 19,
    "start_time": "2023-02-26T19:12:08.300Z"
   },
   {
    "duration": 7,
    "start_time": "2023-02-26T19:12:08.321Z"
   },
   {
    "duration": 9,
    "start_time": "2023-02-26T19:12:08.329Z"
   },
   {
    "duration": 85,
    "start_time": "2023-02-26T19:12:08.339Z"
   },
   {
    "duration": 6,
    "start_time": "2023-02-26T19:24:19.990Z"
   },
   {
    "duration": 119,
    "start_time": "2023-02-26T19:25:32.659Z"
   },
   {
    "duration": 107,
    "start_time": "2023-02-26T19:27:13.201Z"
   },
   {
    "duration": 112,
    "start_time": "2023-02-26T19:27:35.770Z"
   },
   {
    "duration": 119,
    "start_time": "2023-02-26T19:27:47.760Z"
   },
   {
    "duration": 140,
    "start_time": "2023-02-26T19:27:55.520Z"
   },
   {
    "duration": 1312,
    "start_time": "2023-02-26T19:30:05.555Z"
   },
   {
    "duration": 860,
    "start_time": "2023-02-26T19:30:18.894Z"
   },
   {
    "duration": 136,
    "start_time": "2023-02-26T19:30:27.683Z"
   },
   {
    "duration": 199,
    "start_time": "2023-02-26T19:30:47.955Z"
   },
   {
    "duration": 6,
    "start_time": "2023-02-26T19:31:16.934Z"
   },
   {
    "duration": 6,
    "start_time": "2023-02-26T19:31:55.785Z"
   },
   {
    "duration": 127,
    "start_time": "2023-02-26T19:32:30.656Z"
   },
   {
    "duration": 7,
    "start_time": "2023-02-26T19:32:59.773Z"
   },
   {
    "duration": 5,
    "start_time": "2023-02-26T19:34:11.974Z"
   },
   {
    "duration": 74,
    "start_time": "2023-02-26T19:34:36.073Z"
   },
   {
    "duration": 136,
    "start_time": "2023-02-26T19:34:46.006Z"
   },
   {
    "duration": 11,
    "start_time": "2023-02-26T19:36:48.559Z"
   },
   {
    "duration": 141,
    "start_time": "2023-02-26T19:37:19.952Z"
   },
   {
    "duration": 9,
    "start_time": "2023-02-26T20:02:34.316Z"
   },
   {
    "duration": 9,
    "start_time": "2023-02-26T20:03:17.140Z"
   },
   {
    "duration": 7,
    "start_time": "2023-02-26T20:04:00.397Z"
   },
   {
    "duration": 9,
    "start_time": "2023-02-26T20:22:57.153Z"
   },
   {
    "duration": 524,
    "start_time": "2023-02-26T20:24:35.181Z"
   },
   {
    "duration": 13,
    "start_time": "2023-02-26T20:24:35.706Z"
   },
   {
    "duration": 97,
    "start_time": "2023-02-26T20:24:35.721Z"
   },
   {
    "duration": 2060,
    "start_time": "2023-02-26T20:24:35.820Z"
   },
   {
    "duration": 9,
    "start_time": "2023-02-26T20:24:37.882Z"
   },
   {
    "duration": 21,
    "start_time": "2023-02-26T20:24:37.893Z"
   },
   {
    "duration": 47,
    "start_time": "2023-02-26T20:24:37.915Z"
   },
   {
    "duration": 25,
    "start_time": "2023-02-26T20:24:37.964Z"
   },
   {
    "duration": 46,
    "start_time": "2023-02-26T20:24:37.991Z"
   },
   {
    "duration": 31,
    "start_time": "2023-02-26T20:24:38.039Z"
   },
   {
    "duration": 28,
    "start_time": "2023-02-26T20:24:38.071Z"
   },
   {
    "duration": 14,
    "start_time": "2023-02-26T20:24:38.100Z"
   },
   {
    "duration": 41,
    "start_time": "2023-02-26T20:24:38.116Z"
   },
   {
    "duration": 34,
    "start_time": "2023-02-26T20:24:38.159Z"
   },
   {
    "duration": 29,
    "start_time": "2023-02-26T20:24:38.195Z"
   },
   {
    "duration": 42,
    "start_time": "2023-02-26T20:24:38.226Z"
   },
   {
    "duration": 24,
    "start_time": "2023-02-26T20:24:38.270Z"
   },
   {
    "duration": 40,
    "start_time": "2023-02-26T20:24:38.296Z"
   },
   {
    "duration": 32,
    "start_time": "2023-02-26T20:24:38.338Z"
   },
   {
    "duration": 8,
    "start_time": "2023-02-26T20:24:38.372Z"
   },
   {
    "duration": 22,
    "start_time": "2023-02-26T20:24:38.381Z"
   },
   {
    "duration": 94,
    "start_time": "2023-02-26T20:24:38.405Z"
   },
   {
    "duration": 9,
    "start_time": "2023-02-26T20:24:38.501Z"
   },
   {
    "duration": 143,
    "start_time": "2023-02-26T20:24:38.511Z"
   },
   {
    "duration": 9,
    "start_time": "2023-02-26T20:24:38.656Z"
   },
   {
    "duration": 165,
    "start_time": "2023-02-26T20:24:38.667Z"
   },
   {
    "duration": 5,
    "start_time": "2023-02-26T20:24:38.834Z"
   },
   {
    "duration": 69,
    "start_time": "2023-02-26T20:25:22.561Z"
   },
   {
    "duration": 133,
    "start_time": "2023-02-26T20:25:23.990Z"
   },
   {
    "duration": 9,
    "start_time": "2023-02-26T20:25:35.788Z"
   },
   {
    "duration": 32,
    "start_time": "2023-02-26T20:28:22.323Z"
   },
   {
    "duration": 33,
    "start_time": "2023-02-26T20:28:45.652Z"
   },
   {
    "duration": 28,
    "start_time": "2023-02-26T20:29:04.052Z"
   },
   {
    "duration": 29,
    "start_time": "2023-02-26T20:29:32.654Z"
   },
   {
    "duration": 9,
    "start_time": "2023-02-26T20:37:56.281Z"
   },
   {
    "duration": 9,
    "start_time": "2023-02-26T20:38:13.060Z"
   },
   {
    "duration": 8,
    "start_time": "2023-02-26T20:40:37.968Z"
   },
   {
    "duration": 120,
    "start_time": "2023-02-26T20:41:10.496Z"
   },
   {
    "duration": 16488,
    "start_time": "2023-02-26T20:43:34.713Z"
   },
   {
    "duration": 135,
    "start_time": "2023-02-26T20:48:29.147Z"
   },
   {
    "duration": 282,
    "start_time": "2023-02-26T20:48:38.693Z"
   },
   {
    "duration": 163,
    "start_time": "2023-02-26T20:49:25.700Z"
   },
   {
    "duration": 16,
    "start_time": "2023-02-26T20:50:24.363Z"
   },
   {
    "duration": 566,
    "start_time": "2023-02-26T20:50:31.351Z"
   },
   {
    "duration": 6,
    "start_time": "2023-02-26T20:57:39.147Z"
   },
   {
    "duration": 478,
    "start_time": "2023-02-26T21:14:17.842Z"
   },
   {
    "duration": 18,
    "start_time": "2023-02-26T21:14:18.322Z"
   },
   {
    "duration": 84,
    "start_time": "2023-02-26T21:14:18.342Z"
   },
   {
    "duration": 2173,
    "start_time": "2023-02-26T21:14:18.427Z"
   },
   {
    "duration": 17,
    "start_time": "2023-02-26T21:14:20.603Z"
   },
   {
    "duration": 17,
    "start_time": "2023-02-26T21:14:20.622Z"
   },
   {
    "duration": 29,
    "start_time": "2023-02-26T21:14:20.641Z"
   },
   {
    "duration": 19,
    "start_time": "2023-02-26T21:14:20.672Z"
   },
   {
    "duration": 8,
    "start_time": "2023-02-26T21:14:20.693Z"
   },
   {
    "duration": 8,
    "start_time": "2023-02-26T21:14:20.702Z"
   },
   {
    "duration": 10,
    "start_time": "2023-02-26T21:14:20.712Z"
   },
   {
    "duration": 6,
    "start_time": "2023-02-26T21:14:20.723Z"
   },
   {
    "duration": 8,
    "start_time": "2023-02-26T21:14:20.730Z"
   },
   {
    "duration": 8,
    "start_time": "2023-02-26T21:14:20.740Z"
   },
   {
    "duration": 44,
    "start_time": "2023-02-26T21:14:20.750Z"
   },
   {
    "duration": 11,
    "start_time": "2023-02-26T21:14:20.795Z"
   },
   {
    "duration": 14,
    "start_time": "2023-02-26T21:14:20.808Z"
   },
   {
    "duration": 22,
    "start_time": "2023-02-26T21:14:20.824Z"
   },
   {
    "duration": 49,
    "start_time": "2023-02-26T21:14:20.848Z"
   },
   {
    "duration": 8,
    "start_time": "2023-02-26T21:14:20.899Z"
   },
   {
    "duration": 12,
    "start_time": "2023-02-26T21:14:20.909Z"
   },
   {
    "duration": 85,
    "start_time": "2023-02-26T21:14:20.923Z"
   },
   {
    "duration": 4,
    "start_time": "2023-02-26T21:14:21.010Z"
   },
   {
    "duration": 72,
    "start_time": "2023-02-26T21:14:21.016Z"
   },
   {
    "duration": 0,
    "start_time": "2023-02-26T21:14:21.090Z"
   },
   {
    "duration": 0,
    "start_time": "2023-02-26T21:14:21.091Z"
   },
   {
    "duration": 0,
    "start_time": "2023-02-26T21:14:21.092Z"
   },
   {
    "duration": 548,
    "start_time": "2023-02-26T21:14:34.170Z"
   },
   {
    "duration": 15,
    "start_time": "2023-02-26T21:14:34.720Z"
   },
   {
    "duration": 82,
    "start_time": "2023-02-26T21:14:34.737Z"
   },
   {
    "duration": 2152,
    "start_time": "2023-02-26T21:14:34.820Z"
   },
   {
    "duration": 9,
    "start_time": "2023-02-26T21:14:36.975Z"
   },
   {
    "duration": 9,
    "start_time": "2023-02-26T21:14:36.986Z"
   },
   {
    "duration": 23,
    "start_time": "2023-02-26T21:14:36.997Z"
   },
   {
    "duration": 8,
    "start_time": "2023-02-26T21:14:37.021Z"
   },
   {
    "duration": 7,
    "start_time": "2023-02-26T21:14:37.030Z"
   },
   {
    "duration": 11,
    "start_time": "2023-02-26T21:14:37.038Z"
   },
   {
    "duration": 7,
    "start_time": "2023-02-26T21:14:37.051Z"
   },
   {
    "duration": 35,
    "start_time": "2023-02-26T21:14:37.060Z"
   },
   {
    "duration": 10,
    "start_time": "2023-02-26T21:14:37.097Z"
   },
   {
    "duration": 10,
    "start_time": "2023-02-26T21:14:37.111Z"
   },
   {
    "duration": 10,
    "start_time": "2023-02-26T21:14:37.123Z"
   },
   {
    "duration": 6,
    "start_time": "2023-02-26T21:14:37.135Z"
   },
   {
    "duration": 15,
    "start_time": "2023-02-26T21:14:37.142Z"
   },
   {
    "duration": 28,
    "start_time": "2023-02-26T21:14:37.192Z"
   },
   {
    "duration": 19,
    "start_time": "2023-02-26T21:14:37.221Z"
   },
   {
    "duration": 7,
    "start_time": "2023-02-26T21:14:37.241Z"
   },
   {
    "duration": 14,
    "start_time": "2023-02-26T21:14:37.250Z"
   },
   {
    "duration": 81,
    "start_time": "2023-02-26T21:14:37.265Z"
   },
   {
    "duration": 4,
    "start_time": "2023-02-26T21:14:37.347Z"
   },
   {
    "duration": 14,
    "start_time": "2023-02-26T21:14:37.352Z"
   },
   {
    "duration": 3,
    "start_time": "2023-02-26T21:14:37.367Z"
   },
   {
    "duration": 263,
    "start_time": "2023-02-26T21:14:37.392Z"
   },
   {
    "duration": 22,
    "start_time": "2023-02-26T21:14:37.657Z"
   },
   {
    "duration": 27,
    "start_time": "2023-02-26T21:16:08.582Z"
   },
   {
    "duration": 4,
    "start_time": "2023-02-26T21:25:02.412Z"
   },
   {
    "duration": 4,
    "start_time": "2023-02-26T21:25:10.521Z"
   },
   {
    "duration": 27,
    "start_time": "2023-02-26T21:25:29.143Z"
   },
   {
    "duration": 535,
    "start_time": "2023-02-27T05:44:31.244Z"
   },
   {
    "duration": 14,
    "start_time": "2023-02-27T05:44:31.781Z"
   },
   {
    "duration": 124,
    "start_time": "2023-02-27T05:44:31.797Z"
   },
   {
    "duration": 2398,
    "start_time": "2023-02-27T05:44:31.923Z"
   },
   {
    "duration": 9,
    "start_time": "2023-02-27T05:44:34.323Z"
   },
   {
    "duration": 13,
    "start_time": "2023-02-27T05:44:34.334Z"
   },
   {
    "duration": 30,
    "start_time": "2023-02-27T05:44:34.349Z"
   },
   {
    "duration": 7,
    "start_time": "2023-02-27T05:44:34.380Z"
   },
   {
    "duration": 12,
    "start_time": "2023-02-27T05:44:34.388Z"
   },
   {
    "duration": 9,
    "start_time": "2023-02-27T05:44:34.403Z"
   },
   {
    "duration": 11,
    "start_time": "2023-02-27T05:44:34.414Z"
   },
   {
    "duration": 16,
    "start_time": "2023-02-27T05:44:34.426Z"
   },
   {
    "duration": 9,
    "start_time": "2023-02-27T05:44:34.444Z"
   },
   {
    "duration": 10,
    "start_time": "2023-02-27T05:44:34.455Z"
   },
   {
    "duration": 9,
    "start_time": "2023-02-27T05:44:34.466Z"
   },
   {
    "duration": 30,
    "start_time": "2023-02-27T05:44:34.476Z"
   },
   {
    "duration": 17,
    "start_time": "2023-02-27T05:44:34.508Z"
   },
   {
    "duration": 23,
    "start_time": "2023-02-27T05:44:34.526Z"
   },
   {
    "duration": 20,
    "start_time": "2023-02-27T05:44:34.551Z"
   },
   {
    "duration": 36,
    "start_time": "2023-02-27T05:44:34.573Z"
   },
   {
    "duration": 11,
    "start_time": "2023-02-27T05:44:34.610Z"
   },
   {
    "duration": 80,
    "start_time": "2023-02-27T05:44:34.623Z"
   },
   {
    "duration": 4,
    "start_time": "2023-02-27T05:44:34.705Z"
   },
   {
    "duration": 14,
    "start_time": "2023-02-27T05:44:34.711Z"
   },
   {
    "duration": 3,
    "start_time": "2023-02-27T05:44:34.727Z"
   },
   {
    "duration": 7,
    "start_time": "2023-02-27T05:44:34.732Z"
   },
   {
    "duration": 297,
    "start_time": "2023-02-27T05:44:34.741Z"
   },
   {
    "duration": 4,
    "start_time": "2023-02-27T05:44:35.042Z"
   },
   {
    "duration": 36,
    "start_time": "2023-02-27T05:44:35.048Z"
   },
   {
    "duration": 1072,
    "start_time": "2023-02-27T05:44:35.086Z"
   },
   {
    "duration": 977,
    "start_time": "2023-02-27T05:45:32.678Z"
   },
   {
    "duration": 1040,
    "start_time": "2023-02-27T05:45:48.582Z"
   },
   {
    "duration": 959,
    "start_time": "2023-02-27T05:46:00.458Z"
   },
   {
    "duration": 1098,
    "start_time": "2023-02-27T05:46:34.506Z"
   },
   {
    "duration": 910,
    "start_time": "2023-02-27T05:46:45.809Z"
   },
   {
    "duration": 971,
    "start_time": "2023-02-27T05:47:33.367Z"
   },
   {
    "duration": 1076,
    "start_time": "2023-02-27T05:48:05.508Z"
   },
   {
    "duration": 277,
    "start_time": "2023-02-27T05:48:53.188Z"
   },
   {
    "duration": 300,
    "start_time": "2023-02-27T05:51:09.953Z"
   },
   {
    "duration": 338,
    "start_time": "2023-02-27T05:53:13.242Z"
   },
   {
    "duration": 426,
    "start_time": "2023-02-27T05:56:48.237Z"
   },
   {
    "duration": 9,
    "start_time": "2023-02-27T05:56:54.316Z"
   },
   {
    "duration": 309,
    "start_time": "2023-02-27T05:57:01.204Z"
   },
   {
    "duration": 295,
    "start_time": "2023-02-27T05:57:36.193Z"
   },
   {
    "duration": 364,
    "start_time": "2023-02-27T05:58:06.896Z"
   },
   {
    "duration": 361,
    "start_time": "2023-02-27T08:28:19.079Z"
   },
   {
    "duration": 451,
    "start_time": "2023-02-27T09:18:04.749Z"
   },
   {
    "duration": 431,
    "start_time": "2023-02-27T09:18:24.084Z"
   },
   {
    "duration": 415,
    "start_time": "2023-02-27T09:32:22.988Z"
   },
   {
    "duration": 358,
    "start_time": "2023-02-27T09:33:02.213Z"
   },
   {
    "duration": 54,
    "start_time": "2023-02-27T17:51:23.426Z"
   },
   {
    "duration": 634,
    "start_time": "2023-02-27T17:51:33.598Z"
   },
   {
    "duration": 14,
    "start_time": "2023-02-27T17:51:34.234Z"
   },
   {
    "duration": 95,
    "start_time": "2023-02-27T17:51:34.249Z"
   },
   {
    "duration": 2470,
    "start_time": "2023-02-27T17:51:34.347Z"
   },
   {
    "duration": 11,
    "start_time": "2023-02-27T17:51:36.819Z"
   },
   {
    "duration": 10,
    "start_time": "2023-02-27T17:51:36.832Z"
   },
   {
    "duration": 29,
    "start_time": "2023-02-27T17:51:36.844Z"
   },
   {
    "duration": 7,
    "start_time": "2023-02-27T17:51:36.874Z"
   },
   {
    "duration": 23,
    "start_time": "2023-02-27T17:51:36.883Z"
   },
   {
    "duration": 7,
    "start_time": "2023-02-27T17:51:36.909Z"
   },
   {
    "duration": 9,
    "start_time": "2023-02-27T17:51:36.917Z"
   },
   {
    "duration": 13,
    "start_time": "2023-02-27T17:51:36.928Z"
   },
   {
    "duration": 10,
    "start_time": "2023-02-27T17:51:36.942Z"
   },
   {
    "duration": 41,
    "start_time": "2023-02-27T17:51:36.955Z"
   },
   {
    "duration": 20,
    "start_time": "2023-02-27T17:51:36.998Z"
   },
   {
    "duration": 23,
    "start_time": "2023-02-27T17:51:37.021Z"
   },
   {
    "duration": 24,
    "start_time": "2023-02-27T17:51:37.046Z"
   },
   {
    "duration": 29,
    "start_time": "2023-02-27T17:51:37.071Z"
   },
   {
    "duration": 24,
    "start_time": "2023-02-27T17:51:37.102Z"
   },
   {
    "duration": 8,
    "start_time": "2023-02-27T17:51:37.128Z"
   },
   {
    "duration": 20,
    "start_time": "2023-02-27T17:51:37.138Z"
   },
   {
    "duration": 108,
    "start_time": "2023-02-27T17:51:37.160Z"
   },
   {
    "duration": 5,
    "start_time": "2023-02-27T17:51:37.270Z"
   },
   {
    "duration": 28,
    "start_time": "2023-02-27T17:51:37.277Z"
   },
   {
    "duration": 2,
    "start_time": "2023-02-27T17:51:37.307Z"
   },
   {
    "duration": 6,
    "start_time": "2023-02-27T17:51:37.311Z"
   },
   {
    "duration": 291,
    "start_time": "2023-02-27T17:51:37.318Z"
   },
   {
    "duration": 5,
    "start_time": "2023-02-27T17:51:37.612Z"
   },
   {
    "duration": 32,
    "start_time": "2023-02-27T17:51:37.618Z"
   },
   {
    "duration": 370,
    "start_time": "2023-02-27T17:51:37.653Z"
   },
   {
    "duration": 438,
    "start_time": "2023-02-27T17:51:38.025Z"
   },
   {
    "duration": 329,
    "start_time": "2023-02-27T18:03:39.147Z"
   },
   {
    "duration": 312,
    "start_time": "2023-02-27T18:03:58.203Z"
   },
   {
    "duration": 407,
    "start_time": "2023-02-27T18:04:20.554Z"
   },
   {
    "duration": 373,
    "start_time": "2023-02-27T18:04:59.030Z"
   },
   {
    "duration": 417,
    "start_time": "2023-02-27T18:05:08.107Z"
   },
   {
    "duration": 304,
    "start_time": "2023-02-27T18:14:00.823Z"
   },
   {
    "duration": 316,
    "start_time": "2023-02-27T18:14:34.880Z"
   },
   {
    "duration": 38,
    "start_time": "2023-02-27T18:19:36.047Z"
   },
   {
    "duration": 49,
    "start_time": "2023-02-27T18:20:11.050Z"
   },
   {
    "duration": 23,
    "start_time": "2023-02-27T18:20:49.822Z"
   },
   {
    "duration": 310,
    "start_time": "2023-02-27T18:22:50.499Z"
   },
   {
    "duration": 332,
    "start_time": "2023-02-27T18:23:16.104Z"
   },
   {
    "duration": 219,
    "start_time": "2023-02-27T18:24:08.238Z"
   },
   {
    "duration": 156,
    "start_time": "2023-02-27T18:24:23.422Z"
   },
   {
    "duration": 434,
    "start_time": "2023-02-27T18:24:31.061Z"
   },
   {
    "duration": 332,
    "start_time": "2023-02-27T18:26:57.099Z"
   },
   {
    "duration": 446,
    "start_time": "2023-02-27T18:30:44.059Z"
   },
   {
    "duration": 347,
    "start_time": "2023-02-27T18:33:42.554Z"
   },
   {
    "duration": 362,
    "start_time": "2023-02-27T18:33:51.569Z"
   },
   {
    "duration": 465,
    "start_time": "2023-02-27T18:34:19.035Z"
   },
   {
    "duration": 451,
    "start_time": "2023-02-27T18:34:28.939Z"
   },
   {
    "duration": 360,
    "start_time": "2023-02-27T18:34:40.841Z"
   },
   {
    "duration": 461,
    "start_time": "2023-02-27T18:34:53.967Z"
   },
   {
    "duration": 395,
    "start_time": "2023-02-27T18:35:41.882Z"
   },
   {
    "duration": 446,
    "start_time": "2023-02-27T18:36:03.809Z"
   },
   {
    "duration": 553,
    "start_time": "2023-02-27T18:36:29.340Z"
   },
   {
    "duration": 30,
    "start_time": "2023-02-27T18:39:19.479Z"
   },
   {
    "duration": 4,
    "start_time": "2023-02-27T18:43:29.613Z"
   },
   {
    "duration": 10,
    "start_time": "2023-02-27T18:44:33.125Z"
   },
   {
    "duration": 388,
    "start_time": "2023-02-27T18:48:21.774Z"
   },
   {
    "duration": 354,
    "start_time": "2023-02-27T18:48:39.630Z"
   },
   {
    "duration": 381,
    "start_time": "2023-02-27T18:49:01.189Z"
   },
   {
    "duration": 336,
    "start_time": "2023-02-27T18:49:38.954Z"
   },
   {
    "duration": 362,
    "start_time": "2023-02-27T18:49:48.366Z"
   },
   {
    "duration": 345,
    "start_time": "2023-02-27T18:51:09.528Z"
   },
   {
    "duration": 542,
    "start_time": "2023-02-27T18:51:24.815Z"
   },
   {
    "duration": 242,
    "start_time": "2023-02-27T18:51:31.763Z"
   },
   {
    "duration": 204,
    "start_time": "2023-02-27T18:51:45.567Z"
   },
   {
    "duration": 330,
    "start_time": "2023-02-27T18:51:55.049Z"
   },
   {
    "duration": 219,
    "start_time": "2023-02-27T18:52:39.085Z"
   },
   {
    "duration": 237,
    "start_time": "2023-02-27T18:52:56.732Z"
   },
   {
    "duration": 215,
    "start_time": "2023-02-27T18:53:08.692Z"
   },
   {
    "duration": 217,
    "start_time": "2023-02-27T18:53:38.733Z"
   },
   {
    "duration": 77,
    "start_time": "2023-02-27T18:54:30.869Z"
   },
   {
    "duration": 199,
    "start_time": "2023-02-27T18:54:40.835Z"
   },
   {
    "duration": 210,
    "start_time": "2023-02-27T18:57:14.778Z"
   },
   {
    "duration": 6,
    "start_time": "2023-02-27T18:57:22.827Z"
   },
   {
    "duration": 23,
    "start_time": "2023-02-27T19:01:18.394Z"
   },
   {
    "duration": 52,
    "start_time": "2023-02-27T19:01:27.330Z"
   },
   {
    "duration": 1136,
    "start_time": "2023-02-27T19:02:52.088Z"
   },
   {
    "duration": 41,
    "start_time": "2023-02-27T19:03:05.164Z"
   },
   {
    "duration": 19,
    "start_time": "2023-02-27T19:06:08.880Z"
   },
   {
    "duration": 87,
    "start_time": "2023-02-27T19:10:42.558Z"
   },
   {
    "duration": 134,
    "start_time": "2023-02-27T19:11:28.373Z"
   },
   {
    "duration": 20,
    "start_time": "2023-02-27T19:11:44.274Z"
   },
   {
    "duration": 65,
    "start_time": "2023-02-27T19:15:37.313Z"
   },
   {
    "duration": 40,
    "start_time": "2023-02-27T19:17:14.381Z"
   },
   {
    "duration": 18,
    "start_time": "2023-02-27T19:17:45.842Z"
   },
   {
    "duration": 15,
    "start_time": "2023-02-27T19:18:01.538Z"
   },
   {
    "duration": 10,
    "start_time": "2023-02-27T19:18:30.862Z"
   },
   {
    "duration": 208,
    "start_time": "2023-02-27T19:28:22.017Z"
   },
   {
    "duration": 3,
    "start_time": "2023-02-27T19:29:52.218Z"
   },
   {
    "duration": 44,
    "start_time": "2023-02-27T19:30:04.231Z"
   },
   {
    "duration": 54,
    "start_time": "2023-02-27T19:32:13.098Z"
   },
   {
    "duration": 49,
    "start_time": "2023-02-27T19:34:04.179Z"
   },
   {
    "duration": 552,
    "start_time": "2023-02-27T19:34:42.595Z"
   },
   {
    "duration": 27,
    "start_time": "2023-02-27T19:34:43.150Z"
   },
   {
    "duration": 99,
    "start_time": "2023-02-27T19:34:43.179Z"
   },
   {
    "duration": 2685,
    "start_time": "2023-02-27T19:34:43.280Z"
   },
   {
    "duration": 11,
    "start_time": "2023-02-27T19:34:45.968Z"
   },
   {
    "duration": 15,
    "start_time": "2023-02-27T19:34:45.981Z"
   },
   {
    "duration": 31,
    "start_time": "2023-02-27T19:34:45.998Z"
   },
   {
    "duration": 10,
    "start_time": "2023-02-27T19:34:46.031Z"
   },
   {
    "duration": 10,
    "start_time": "2023-02-27T19:34:46.043Z"
   },
   {
    "duration": 10,
    "start_time": "2023-02-27T19:34:46.056Z"
   },
   {
    "duration": 46,
    "start_time": "2023-02-27T19:34:46.068Z"
   },
   {
    "duration": 11,
    "start_time": "2023-02-27T19:34:46.118Z"
   },
   {
    "duration": 10,
    "start_time": "2023-02-27T19:34:46.132Z"
   },
   {
    "duration": 17,
    "start_time": "2023-02-27T19:34:46.146Z"
   },
   {
    "duration": 18,
    "start_time": "2023-02-27T19:34:46.165Z"
   },
   {
    "duration": 11,
    "start_time": "2023-02-27T19:34:46.212Z"
   },
   {
    "duration": 29,
    "start_time": "2023-02-27T19:34:46.226Z"
   },
   {
    "duration": 37,
    "start_time": "2023-02-27T19:34:46.257Z"
   },
   {
    "duration": 34,
    "start_time": "2023-02-27T19:34:46.300Z"
   },
   {
    "duration": 11,
    "start_time": "2023-02-27T19:34:46.336Z"
   },
   {
    "duration": 34,
    "start_time": "2023-02-27T19:34:46.349Z"
   },
   {
    "duration": 94,
    "start_time": "2023-02-27T19:34:46.385Z"
   },
   {
    "duration": 10,
    "start_time": "2023-02-27T19:34:46.481Z"
   },
   {
    "duration": 25,
    "start_time": "2023-02-27T19:34:46.507Z"
   },
   {
    "duration": 5,
    "start_time": "2023-02-27T19:34:46.535Z"
   },
   {
    "duration": 6,
    "start_time": "2023-02-27T19:34:46.543Z"
   },
   {
    "duration": 347,
    "start_time": "2023-02-27T19:34:46.552Z"
   },
   {
    "duration": 10,
    "start_time": "2023-02-27T19:34:46.901Z"
   },
   {
    "duration": 57,
    "start_time": "2023-02-27T19:34:46.914Z"
   },
   {
    "duration": 453,
    "start_time": "2023-02-27T19:34:46.973Z"
   },
   {
    "duration": 595,
    "start_time": "2023-02-27T19:34:47.428Z"
   },
   {
    "duration": 426,
    "start_time": "2023-02-27T19:34:48.025Z"
   },
   {
    "duration": 428,
    "start_time": "2023-02-27T19:34:48.453Z"
   },
   {
    "duration": 39,
    "start_time": "2023-02-27T19:34:48.883Z"
   },
   {
    "duration": 12,
    "start_time": "2023-02-27T19:34:48.924Z"
   },
   {
    "duration": 285,
    "start_time": "2023-02-27T19:34:48.938Z"
   },
   {
    "duration": 8,
    "start_time": "2023-02-27T19:34:49.225Z"
   },
   {
    "duration": 78,
    "start_time": "2023-02-27T19:34:49.235Z"
   },
   {
    "duration": 9,
    "start_time": "2023-02-27T19:34:49.318Z"
   },
   {
    "duration": 293,
    "start_time": "2023-02-27T19:34:49.331Z"
   },
   {
    "duration": 62,
    "start_time": "2023-02-27T19:34:49.629Z"
   },
   {
    "duration": 120,
    "start_time": "2023-02-27T19:35:40.578Z"
   },
   {
    "duration": 1461,
    "start_time": "2023-02-27T19:36:46.474Z"
   },
   {
    "duration": 123,
    "start_time": "2023-02-27T19:37:20.088Z"
   },
   {
    "duration": 126,
    "start_time": "2023-02-27T19:38:59.597Z"
   },
   {
    "duration": 129,
    "start_time": "2023-02-27T19:39:28.341Z"
   },
   {
    "duration": 41,
    "start_time": "2023-02-27T19:40:14.121Z"
   },
   {
    "duration": 36,
    "start_time": "2023-02-27T19:40:54.344Z"
   },
   {
    "duration": 43,
    "start_time": "2023-02-27T19:41:14.483Z"
   },
   {
    "duration": 579,
    "start_time": "2023-02-27T19:41:28.488Z"
   },
   {
    "duration": 17,
    "start_time": "2023-02-27T19:41:29.069Z"
   },
   {
    "duration": 103,
    "start_time": "2023-02-27T19:41:29.088Z"
   },
   {
    "duration": 2519,
    "start_time": "2023-02-27T19:41:29.193Z"
   },
   {
    "duration": 10,
    "start_time": "2023-02-27T19:41:31.715Z"
   },
   {
    "duration": 38,
    "start_time": "2023-02-27T19:41:31.726Z"
   },
   {
    "duration": 60,
    "start_time": "2023-02-27T19:41:31.766Z"
   },
   {
    "duration": 14,
    "start_time": "2023-02-27T19:41:31.828Z"
   },
   {
    "duration": 20,
    "start_time": "2023-02-27T19:41:31.844Z"
   },
   {
    "duration": 17,
    "start_time": "2023-02-27T19:41:31.865Z"
   },
   {
    "duration": 29,
    "start_time": "2023-02-27T19:41:31.884Z"
   },
   {
    "duration": 31,
    "start_time": "2023-02-27T19:41:31.915Z"
   },
   {
    "duration": 14,
    "start_time": "2023-02-27T19:41:31.948Z"
   },
   {
    "duration": 10,
    "start_time": "2023-02-27T19:41:31.967Z"
   },
   {
    "duration": 13,
    "start_time": "2023-02-27T19:41:31.979Z"
   },
   {
    "duration": 39,
    "start_time": "2023-02-27T19:41:31.994Z"
   },
   {
    "duration": 19,
    "start_time": "2023-02-27T19:41:32.035Z"
   },
   {
    "duration": 25,
    "start_time": "2023-02-27T19:41:32.055Z"
   },
   {
    "duration": 30,
    "start_time": "2023-02-27T19:41:32.082Z"
   },
   {
    "duration": 28,
    "start_time": "2023-02-27T19:41:32.113Z"
   },
   {
    "duration": 8,
    "start_time": "2023-02-27T19:41:32.143Z"
   },
   {
    "duration": 18,
    "start_time": "2023-02-27T19:41:32.153Z"
   },
   {
    "duration": 70,
    "start_time": "2023-02-27T19:41:32.173Z"
   },
   {
    "duration": 4,
    "start_time": "2023-02-27T19:41:32.245Z"
   },
   {
    "duration": 18,
    "start_time": "2023-02-27T19:41:32.250Z"
   },
   {
    "duration": 2,
    "start_time": "2023-02-27T19:41:32.270Z"
   },
   {
    "duration": 7,
    "start_time": "2023-02-27T19:41:32.274Z"
   },
   {
    "duration": 320,
    "start_time": "2023-02-27T19:41:32.298Z"
   },
   {
    "duration": 5,
    "start_time": "2023-02-27T19:41:32.620Z"
   },
   {
    "duration": 35,
    "start_time": "2023-02-27T19:41:32.627Z"
   },
   {
    "duration": 356,
    "start_time": "2023-02-27T19:41:32.663Z"
   },
   {
    "duration": 412,
    "start_time": "2023-02-27T19:41:33.020Z"
   },
   {
    "duration": 354,
    "start_time": "2023-02-27T19:41:33.434Z"
   },
   {
    "duration": 461,
    "start_time": "2023-02-27T19:41:33.790Z"
   },
   {
    "duration": 27,
    "start_time": "2023-02-27T19:41:34.253Z"
   },
   {
    "duration": 23,
    "start_time": "2023-02-27T19:41:34.282Z"
   },
   {
    "duration": 224,
    "start_time": "2023-02-27T19:41:34.307Z"
   },
   {
    "duration": 5,
    "start_time": "2023-02-27T19:41:34.532Z"
   },
   {
    "duration": 95,
    "start_time": "2023-02-27T19:41:34.538Z"
   },
   {
    "duration": 8,
    "start_time": "2023-02-27T19:41:34.635Z"
   },
   {
    "duration": 233,
    "start_time": "2023-02-27T19:41:34.647Z"
   },
   {
    "duration": 57,
    "start_time": "2023-02-27T19:41:34.882Z"
   },
   {
    "duration": 540,
    "start_time": "2023-02-27T19:43:29.952Z"
   },
   {
    "duration": 19,
    "start_time": "2023-02-27T19:43:30.500Z"
   },
   {
    "duration": 106,
    "start_time": "2023-02-27T19:43:30.521Z"
   },
   {
    "duration": 2432,
    "start_time": "2023-02-27T19:43:30.629Z"
   },
   {
    "duration": 12,
    "start_time": "2023-02-27T19:43:33.064Z"
   },
   {
    "duration": 12,
    "start_time": "2023-02-27T19:43:33.078Z"
   },
   {
    "duration": 33,
    "start_time": "2023-02-27T19:43:33.091Z"
   },
   {
    "duration": 13,
    "start_time": "2023-02-27T19:43:33.126Z"
   },
   {
    "duration": 8,
    "start_time": "2023-02-27T19:43:33.141Z"
   },
   {
    "duration": 16,
    "start_time": "2023-02-27T19:43:33.150Z"
   },
   {
    "duration": 8,
    "start_time": "2023-02-27T19:43:33.168Z"
   },
   {
    "duration": 45,
    "start_time": "2023-02-27T19:43:33.178Z"
   },
   {
    "duration": 9,
    "start_time": "2023-02-27T19:43:33.226Z"
   },
   {
    "duration": 9,
    "start_time": "2023-02-27T19:43:33.239Z"
   },
   {
    "duration": 9,
    "start_time": "2023-02-27T19:43:33.251Z"
   },
   {
    "duration": 11,
    "start_time": "2023-02-27T19:43:33.261Z"
   },
   {
    "duration": 39,
    "start_time": "2023-02-27T19:43:33.274Z"
   },
   {
    "duration": 27,
    "start_time": "2023-02-27T19:43:33.315Z"
   },
   {
    "duration": 23,
    "start_time": "2023-02-27T19:43:33.344Z"
   },
   {
    "duration": 9,
    "start_time": "2023-02-27T19:43:33.370Z"
   },
   {
    "duration": 20,
    "start_time": "2023-02-27T19:43:33.403Z"
   },
   {
    "duration": 93,
    "start_time": "2023-02-27T19:43:33.425Z"
   },
   {
    "duration": 5,
    "start_time": "2023-02-27T19:43:33.520Z"
   },
   {
    "duration": 31,
    "start_time": "2023-02-27T19:43:33.527Z"
   },
   {
    "duration": 3,
    "start_time": "2023-02-27T19:43:33.560Z"
   },
   {
    "duration": 13,
    "start_time": "2023-02-27T19:43:33.565Z"
   },
   {
    "duration": 297,
    "start_time": "2023-02-27T19:43:33.580Z"
   },
   {
    "duration": 4,
    "start_time": "2023-02-27T19:43:33.879Z"
   },
   {
    "duration": 66,
    "start_time": "2023-02-27T19:43:33.890Z"
   },
   {
    "duration": 386,
    "start_time": "2023-02-27T19:43:33.959Z"
   },
   {
    "duration": 440,
    "start_time": "2023-02-27T19:43:34.347Z"
   },
   {
    "duration": 395,
    "start_time": "2023-02-27T19:43:34.789Z"
   },
   {
    "duration": 373,
    "start_time": "2023-02-27T19:43:35.187Z"
   },
   {
    "duration": 25,
    "start_time": "2023-02-27T19:43:35.562Z"
   },
   {
    "duration": 11,
    "start_time": "2023-02-27T19:43:35.601Z"
   },
   {
    "duration": 224,
    "start_time": "2023-02-27T19:43:35.613Z"
   },
   {
    "duration": 5,
    "start_time": "2023-02-27T19:43:35.838Z"
   },
   {
    "duration": 10,
    "start_time": "2023-02-27T19:43:35.845Z"
   },
   {
    "duration": 7,
    "start_time": "2023-02-27T19:43:35.857Z"
   },
   {
    "duration": 222,
    "start_time": "2023-02-27T19:43:35.866Z"
   },
   {
    "duration": 27,
    "start_time": "2023-02-27T19:43:36.100Z"
   },
   {
    "duration": 1209,
    "start_time": "2023-02-27T19:48:58.766Z"
   },
   {
    "duration": 15,
    "start_time": "2023-02-27T19:48:59.978Z"
   },
   {
    "duration": 82,
    "start_time": "2023-02-27T19:48:59.995Z"
   },
   {
    "duration": 3453,
    "start_time": "2023-02-27T19:49:00.080Z"
   },
   {
    "duration": 12,
    "start_time": "2023-02-27T19:49:03.537Z"
   },
   {
    "duration": 23,
    "start_time": "2023-02-27T19:49:03.552Z"
   },
   {
    "duration": 31,
    "start_time": "2023-02-27T19:49:03.577Z"
   },
   {
    "duration": 13,
    "start_time": "2023-02-27T19:49:03.614Z"
   },
   {
    "duration": 17,
    "start_time": "2023-02-27T19:49:03.629Z"
   },
   {
    "duration": 12,
    "start_time": "2023-02-27T19:49:03.648Z"
   },
   {
    "duration": 16,
    "start_time": "2023-02-27T19:49:03.661Z"
   },
   {
    "duration": 28,
    "start_time": "2023-02-27T19:49:03.679Z"
   },
   {
    "duration": 24,
    "start_time": "2023-02-27T19:49:03.717Z"
   },
   {
    "duration": 30,
    "start_time": "2023-02-27T19:49:03.746Z"
   },
   {
    "duration": 15,
    "start_time": "2023-02-27T19:49:03.778Z"
   },
   {
    "duration": 12,
    "start_time": "2023-02-27T19:49:03.795Z"
   },
   {
    "duration": 28,
    "start_time": "2023-02-27T19:49:03.817Z"
   },
   {
    "duration": 27,
    "start_time": "2023-02-27T19:49:03.847Z"
   },
   {
    "duration": 30,
    "start_time": "2023-02-27T19:49:03.876Z"
   },
   {
    "duration": 13,
    "start_time": "2023-02-27T19:49:03.915Z"
   },
   {
    "duration": 12,
    "start_time": "2023-02-27T19:49:03.930Z"
   },
   {
    "duration": 84,
    "start_time": "2023-02-27T19:49:03.944Z"
   },
   {
    "duration": 5,
    "start_time": "2023-02-27T19:49:04.030Z"
   },
   {
    "duration": 24,
    "start_time": "2023-02-27T19:49:04.037Z"
   },
   {
    "duration": 3,
    "start_time": "2023-02-27T19:49:04.064Z"
   },
   {
    "duration": 20,
    "start_time": "2023-02-27T19:49:04.071Z"
   },
   {
    "duration": 571,
    "start_time": "2023-02-27T19:49:04.094Z"
   },
   {
    "duration": 6,
    "start_time": "2023-02-27T19:49:04.667Z"
   },
   {
    "duration": 53,
    "start_time": "2023-02-27T19:49:04.676Z"
   },
   {
    "duration": 404,
    "start_time": "2023-02-27T19:49:04.731Z"
   },
   {
    "duration": 488,
    "start_time": "2023-02-27T19:49:05.137Z"
   },
   {
    "duration": 399,
    "start_time": "2023-02-27T19:49:05.627Z"
   },
   {
    "duration": 415,
    "start_time": "2023-02-27T19:49:06.028Z"
   },
   {
    "duration": 33,
    "start_time": "2023-02-27T19:49:06.445Z"
   },
   {
    "duration": 37,
    "start_time": "2023-02-27T19:49:06.480Z"
   },
   {
    "duration": 253,
    "start_time": "2023-02-27T19:49:06.519Z"
   },
   {
    "duration": 6,
    "start_time": "2023-02-27T19:49:06.774Z"
   },
   {
    "duration": 1164,
    "start_time": "2023-02-27T19:50:20.380Z"
   },
   {
    "duration": 17,
    "start_time": "2023-02-27T19:50:21.545Z"
   },
   {
    "duration": 85,
    "start_time": "2023-02-27T19:50:21.564Z"
   },
   {
    "duration": 2979,
    "start_time": "2023-02-27T19:50:21.651Z"
   },
   {
    "duration": 10,
    "start_time": "2023-02-27T19:50:24.634Z"
   },
   {
    "duration": 11,
    "start_time": "2023-02-27T19:50:24.646Z"
   },
   {
    "duration": 23,
    "start_time": "2023-02-27T19:50:24.659Z"
   },
   {
    "duration": 18,
    "start_time": "2023-02-27T19:50:24.684Z"
   },
   {
    "duration": 16,
    "start_time": "2023-02-27T19:50:24.710Z"
   },
   {
    "duration": 10,
    "start_time": "2023-02-27T19:50:24.728Z"
   },
   {
    "duration": 8,
    "start_time": "2023-02-27T19:50:24.740Z"
   },
   {
    "duration": 7,
    "start_time": "2023-02-27T19:50:24.751Z"
   },
   {
    "duration": 16,
    "start_time": "2023-02-27T19:50:24.760Z"
   },
   {
    "duration": 32,
    "start_time": "2023-02-27T19:50:24.779Z"
   },
   {
    "duration": 17,
    "start_time": "2023-02-27T19:50:24.812Z"
   },
   {
    "duration": 11,
    "start_time": "2023-02-27T19:50:24.831Z"
   },
   {
    "duration": 32,
    "start_time": "2023-02-27T19:50:24.845Z"
   },
   {
    "duration": 30,
    "start_time": "2023-02-27T19:50:24.879Z"
   },
   {
    "duration": 25,
    "start_time": "2023-02-27T19:50:24.917Z"
   },
   {
    "duration": 9,
    "start_time": "2023-02-27T19:50:24.944Z"
   },
   {
    "duration": 15,
    "start_time": "2023-02-27T19:50:24.955Z"
   },
   {
    "duration": 95,
    "start_time": "2023-02-27T19:50:24.973Z"
   },
   {
    "duration": 5,
    "start_time": "2023-02-27T19:50:25.070Z"
   },
   {
    "duration": 35,
    "start_time": "2023-02-27T19:50:25.077Z"
   },
   {
    "duration": 11,
    "start_time": "2023-02-27T19:50:25.114Z"
   },
   {
    "duration": 6,
    "start_time": "2023-02-27T19:50:25.126Z"
   },
   {
    "duration": 301,
    "start_time": "2023-02-27T19:50:25.134Z"
   },
   {
    "duration": 5,
    "start_time": "2023-02-27T19:50:25.437Z"
   },
   {
    "duration": 32,
    "start_time": "2023-02-27T19:50:25.444Z"
   },
   {
    "duration": 359,
    "start_time": "2023-02-27T19:50:25.478Z"
   },
   {
    "duration": 414,
    "start_time": "2023-02-27T19:50:25.839Z"
   },
   {
    "duration": 355,
    "start_time": "2023-02-27T19:50:26.254Z"
   },
   {
    "duration": 329,
    "start_time": "2023-02-27T19:50:26.611Z"
   },
   {
    "duration": 27,
    "start_time": "2023-02-27T19:50:26.942Z"
   },
   {
    "duration": 40,
    "start_time": "2023-02-27T19:50:26.971Z"
   },
   {
    "duration": 281,
    "start_time": "2023-02-27T19:50:27.015Z"
   },
   {
    "duration": 11,
    "start_time": "2023-02-27T19:50:27.303Z"
   },
   {
    "duration": 11,
    "start_time": "2023-02-27T19:50:27.317Z"
   },
   {
    "duration": 7,
    "start_time": "2023-02-27T19:50:27.330Z"
   },
   {
    "duration": 250,
    "start_time": "2023-02-27T19:50:27.339Z"
   },
   {
    "duration": 30,
    "start_time": "2023-02-27T19:50:27.600Z"
   },
   {
    "duration": 16,
    "start_time": "2023-02-27T19:51:03.028Z"
   },
   {
    "duration": 46,
    "start_time": "2023-02-27T19:51:34.050Z"
   },
   {
    "duration": 32,
    "start_time": "2023-02-27T19:51:56.980Z"
   },
   {
    "duration": 42,
    "start_time": "2023-02-27T19:52:02.523Z"
   },
   {
    "duration": 35,
    "start_time": "2023-02-27T19:52:45.428Z"
   },
   {
    "duration": 6,
    "start_time": "2023-02-27T19:55:07.045Z"
   },
   {
    "duration": 80,
    "start_time": "2023-02-27T19:55:11.831Z"
   },
   {
    "duration": 17,
    "start_time": "2023-02-27T19:55:19.241Z"
   },
   {
    "duration": 10,
    "start_time": "2023-02-27T19:56:44.769Z"
   },
   {
    "duration": 53,
    "start_time": "2023-02-27T19:58:59.281Z"
   },
   {
    "duration": 604,
    "start_time": "2023-02-27T20:07:51.971Z"
   },
   {
    "duration": 28,
    "start_time": "2023-02-27T20:07:52.578Z"
   },
   {
    "duration": 94,
    "start_time": "2023-02-27T20:07:52.608Z"
   },
   {
    "duration": 2463,
    "start_time": "2023-02-27T20:07:52.706Z"
   },
   {
    "duration": 10,
    "start_time": "2023-02-27T20:07:55.172Z"
   },
   {
    "duration": 11,
    "start_time": "2023-02-27T20:07:55.184Z"
   },
   {
    "duration": 28,
    "start_time": "2023-02-27T20:07:55.198Z"
   },
   {
    "duration": 10,
    "start_time": "2023-02-27T20:07:55.228Z"
   },
   {
    "duration": 9,
    "start_time": "2023-02-27T20:07:55.240Z"
   },
   {
    "duration": 9,
    "start_time": "2023-02-27T20:07:55.252Z"
   },
   {
    "duration": 37,
    "start_time": "2023-02-27T20:07:55.263Z"
   },
   {
    "duration": 40,
    "start_time": "2023-02-27T20:07:55.302Z"
   },
   {
    "duration": 12,
    "start_time": "2023-02-27T20:07:55.345Z"
   },
   {
    "duration": 11,
    "start_time": "2023-02-27T20:07:55.362Z"
   },
   {
    "duration": 13,
    "start_time": "2023-02-27T20:07:55.376Z"
   },
   {
    "duration": 12,
    "start_time": "2023-02-27T20:07:55.391Z"
   },
   {
    "duration": 23,
    "start_time": "2023-02-27T20:07:55.405Z"
   },
   {
    "duration": 31,
    "start_time": "2023-02-27T20:07:55.430Z"
   },
   {
    "duration": 46,
    "start_time": "2023-02-27T20:07:55.463Z"
   },
   {
    "duration": 10,
    "start_time": "2023-02-27T20:07:55.511Z"
   },
   {
    "duration": 25,
    "start_time": "2023-02-27T20:07:55.523Z"
   },
   {
    "duration": 88,
    "start_time": "2023-02-27T20:07:55.550Z"
   },
   {
    "duration": 4,
    "start_time": "2023-02-27T20:07:55.642Z"
   },
   {
    "duration": 18,
    "start_time": "2023-02-27T20:07:55.648Z"
   },
   {
    "duration": 3,
    "start_time": "2023-02-27T20:07:55.668Z"
   },
   {
    "duration": 6,
    "start_time": "2023-02-27T20:07:55.672Z"
   },
   {
    "duration": 307,
    "start_time": "2023-02-27T20:07:55.680Z"
   },
   {
    "duration": 13,
    "start_time": "2023-02-27T20:07:55.989Z"
   },
   {
    "duration": 32,
    "start_time": "2023-02-27T20:07:56.003Z"
   },
   {
    "duration": 366,
    "start_time": "2023-02-27T20:07:56.037Z"
   },
   {
    "duration": 422,
    "start_time": "2023-02-27T20:07:56.405Z"
   },
   {
    "duration": 385,
    "start_time": "2023-02-27T20:07:56.829Z"
   },
   {
    "duration": 342,
    "start_time": "2023-02-27T20:07:57.217Z"
   },
   {
    "duration": 40,
    "start_time": "2023-02-27T20:07:57.560Z"
   },
   {
    "duration": 12,
    "start_time": "2023-02-27T20:07:57.602Z"
   },
   {
    "duration": 250,
    "start_time": "2023-02-27T20:07:57.616Z"
   },
   {
    "duration": 6,
    "start_time": "2023-02-27T20:07:57.869Z"
   },
   {
    "duration": 24,
    "start_time": "2023-02-27T20:07:57.876Z"
   },
   {
    "duration": 10,
    "start_time": "2023-02-27T20:07:57.902Z"
   },
   {
    "duration": 242,
    "start_time": "2023-02-27T20:07:57.914Z"
   },
   {
    "duration": 50,
    "start_time": "2023-02-27T20:07:58.160Z"
   },
   {
    "duration": 1315,
    "start_time": "2023-02-27T20:07:58.211Z"
   },
   {
    "duration": 1201,
    "start_time": "2023-02-27T20:08:13.806Z"
   },
   {
    "duration": 544,
    "start_time": "2023-02-27T20:08:31.918Z"
   },
   {
    "duration": 16,
    "start_time": "2023-02-27T20:08:32.465Z"
   },
   {
    "duration": 94,
    "start_time": "2023-02-27T20:08:32.484Z"
   },
   {
    "duration": 2520,
    "start_time": "2023-02-27T20:08:32.581Z"
   },
   {
    "duration": 13,
    "start_time": "2023-02-27T20:08:35.104Z"
   },
   {
    "duration": 15,
    "start_time": "2023-02-27T20:08:35.119Z"
   },
   {
    "duration": 27,
    "start_time": "2023-02-27T20:08:35.136Z"
   },
   {
    "duration": 9,
    "start_time": "2023-02-27T20:08:35.165Z"
   },
   {
    "duration": 9,
    "start_time": "2023-02-27T20:08:35.200Z"
   },
   {
    "duration": 15,
    "start_time": "2023-02-27T20:08:35.211Z"
   },
   {
    "duration": 8,
    "start_time": "2023-02-27T20:08:35.228Z"
   },
   {
    "duration": 9,
    "start_time": "2023-02-27T20:08:35.238Z"
   },
   {
    "duration": 14,
    "start_time": "2023-02-27T20:08:35.250Z"
   },
   {
    "duration": 41,
    "start_time": "2023-02-27T20:08:35.268Z"
   },
   {
    "duration": 24,
    "start_time": "2023-02-27T20:08:35.311Z"
   },
   {
    "duration": 8,
    "start_time": "2023-02-27T20:08:35.337Z"
   },
   {
    "duration": 22,
    "start_time": "2023-02-27T20:08:35.347Z"
   },
   {
    "duration": 50,
    "start_time": "2023-02-27T20:08:35.371Z"
   },
   {
    "duration": 24,
    "start_time": "2023-02-27T20:08:35.424Z"
   },
   {
    "duration": 11,
    "start_time": "2023-02-27T20:08:35.450Z"
   },
   {
    "duration": 9,
    "start_time": "2023-02-27T20:08:35.463Z"
   },
   {
    "duration": 90,
    "start_time": "2023-02-27T20:08:35.474Z"
   },
   {
    "duration": 6,
    "start_time": "2023-02-27T20:08:35.567Z"
   },
   {
    "duration": 41,
    "start_time": "2023-02-27T20:08:35.575Z"
   },
   {
    "duration": 3,
    "start_time": "2023-02-27T20:08:35.618Z"
   },
   {
    "duration": 15,
    "start_time": "2023-02-27T20:08:35.623Z"
   },
   {
    "duration": 325,
    "start_time": "2023-02-27T20:08:35.641Z"
   },
   {
    "duration": 5,
    "start_time": "2023-02-27T20:08:35.968Z"
   },
   {
    "duration": 50,
    "start_time": "2023-02-27T20:08:35.975Z"
   },
   {
    "duration": 329,
    "start_time": "2023-02-27T20:08:36.027Z"
   },
   {
    "duration": 455,
    "start_time": "2023-02-27T20:08:36.358Z"
   },
   {
    "duration": 404,
    "start_time": "2023-02-27T20:08:36.815Z"
   },
   {
    "duration": 354,
    "start_time": "2023-02-27T20:08:37.222Z"
   },
   {
    "duration": 33,
    "start_time": "2023-02-27T20:08:37.578Z"
   },
   {
    "duration": 10,
    "start_time": "2023-02-27T20:08:37.613Z"
   },
   {
    "duration": 245,
    "start_time": "2023-02-27T20:08:37.626Z"
   },
   {
    "duration": 5,
    "start_time": "2023-02-27T20:08:37.873Z"
   },
   {
    "duration": 22,
    "start_time": "2023-02-27T20:08:37.880Z"
   },
   {
    "duration": 5,
    "start_time": "2023-02-27T20:08:37.904Z"
   },
   {
    "duration": 221,
    "start_time": "2023-02-27T20:08:37.911Z"
   },
   {
    "duration": 66,
    "start_time": "2023-02-27T20:08:38.135Z"
   },
   {
    "duration": 1218,
    "start_time": "2023-02-27T20:08:38.203Z"
   },
   {
    "duration": 242,
    "start_time": "2023-02-27T20:09:11.086Z"
   },
   {
    "duration": 6,
    "start_time": "2023-02-27T20:09:51.707Z"
   },
   {
    "duration": 244,
    "start_time": "2023-02-27T20:10:19.973Z"
   },
   {
    "duration": 31,
    "start_time": "2023-02-27T20:15:28.737Z"
   },
   {
    "duration": 201,
    "start_time": "2023-02-27T20:16:39.316Z"
   },
   {
    "duration": 190,
    "start_time": "2023-02-27T20:17:19.624Z"
   },
   {
    "duration": 247,
    "start_time": "2023-02-27T20:17:58.532Z"
   },
   {
    "duration": 235,
    "start_time": "2023-02-27T20:18:44.355Z"
   },
   {
    "duration": 204,
    "start_time": "2023-02-27T20:18:54.179Z"
   },
   {
    "duration": 227,
    "start_time": "2023-02-27T20:19:00.832Z"
   },
   {
    "duration": 230,
    "start_time": "2023-02-27T20:19:24.588Z"
   },
   {
    "duration": 316,
    "start_time": "2023-02-27T20:19:36.210Z"
   },
   {
    "duration": 175,
    "start_time": "2023-02-27T20:19:56.822Z"
   },
   {
    "duration": 358,
    "start_time": "2023-02-27T20:20:10.437Z"
   },
   {
    "duration": 24,
    "start_time": "2023-02-27T20:20:33.049Z"
   },
   {
    "duration": 22,
    "start_time": "2023-02-27T20:20:46.618Z"
   },
   {
    "duration": 27,
    "start_time": "2023-02-27T20:20:57.211Z"
   },
   {
    "duration": 126,
    "start_time": "2023-02-27T20:21:19.562Z"
   },
   {
    "duration": 1149,
    "start_time": "2023-02-27T20:25:28.191Z"
   },
   {
    "duration": 321,
    "start_time": "2023-02-27T20:26:19.657Z"
   },
   {
    "duration": 10,
    "start_time": "2023-02-27T20:29:19.702Z"
   },
   {
    "duration": 8,
    "start_time": "2023-02-27T20:30:37.072Z"
   },
   {
    "duration": 52,
    "start_time": "2023-02-28T08:01:25.914Z"
   },
   {
    "duration": 559,
    "start_time": "2023-02-28T08:01:36.145Z"
   },
   {
    "duration": 13,
    "start_time": "2023-02-28T08:01:36.706Z"
   },
   {
    "duration": 70,
    "start_time": "2023-02-28T08:01:36.721Z"
   },
   {
    "duration": 2328,
    "start_time": "2023-02-28T08:01:36.792Z"
   },
   {
    "duration": 9,
    "start_time": "2023-02-28T08:01:39.121Z"
   },
   {
    "duration": 8,
    "start_time": "2023-02-28T08:01:39.132Z"
   },
   {
    "duration": 22,
    "start_time": "2023-02-28T08:01:39.142Z"
   },
   {
    "duration": 8,
    "start_time": "2023-02-28T08:01:39.165Z"
   },
   {
    "duration": 7,
    "start_time": "2023-02-28T08:01:39.175Z"
   },
   {
    "duration": 9,
    "start_time": "2023-02-28T08:01:39.185Z"
   },
   {
    "duration": 41,
    "start_time": "2023-02-28T08:01:39.196Z"
   },
   {
    "duration": 5,
    "start_time": "2023-02-28T08:01:39.240Z"
   },
   {
    "duration": 7,
    "start_time": "2023-02-28T08:01:39.247Z"
   },
   {
    "duration": 8,
    "start_time": "2023-02-28T08:01:39.256Z"
   },
   {
    "duration": 10,
    "start_time": "2023-02-28T08:01:39.266Z"
   },
   {
    "duration": 9,
    "start_time": "2023-02-28T08:01:39.277Z"
   },
   {
    "duration": 14,
    "start_time": "2023-02-28T08:01:39.288Z"
   },
   {
    "duration": 52,
    "start_time": "2023-02-28T08:01:39.304Z"
   },
   {
    "duration": 18,
    "start_time": "2023-02-28T08:01:39.358Z"
   },
   {
    "duration": 7,
    "start_time": "2023-02-28T08:01:39.378Z"
   },
   {
    "duration": 14,
    "start_time": "2023-02-28T08:01:39.387Z"
   },
   {
    "duration": 80,
    "start_time": "2023-02-28T08:01:39.403Z"
   },
   {
    "duration": 4,
    "start_time": "2023-02-28T08:01:39.485Z"
   },
   {
    "duration": 16,
    "start_time": "2023-02-28T08:01:39.490Z"
   },
   {
    "duration": 2,
    "start_time": "2023-02-28T08:01:39.508Z"
   },
   {
    "duration": 7,
    "start_time": "2023-02-28T08:01:39.511Z"
   },
   {
    "duration": 275,
    "start_time": "2023-02-28T08:01:39.519Z"
   },
   {
    "duration": 4,
    "start_time": "2023-02-28T08:01:39.798Z"
   },
   {
    "duration": 35,
    "start_time": "2023-02-28T08:01:39.803Z"
   },
   {
    "duration": 293,
    "start_time": "2023-02-28T08:01:39.840Z"
   },
   {
    "duration": 379,
    "start_time": "2023-02-28T08:01:40.136Z"
   },
   {
    "duration": 306,
    "start_time": "2023-02-28T08:01:40.517Z"
   },
   {
    "duration": 301,
    "start_time": "2023-02-28T08:01:40.825Z"
   },
   {
    "duration": 24,
    "start_time": "2023-02-28T08:01:41.128Z"
   },
   {
    "duration": 10,
    "start_time": "2023-02-28T08:01:41.153Z"
   },
   {
    "duration": 209,
    "start_time": "2023-02-28T08:01:41.165Z"
   },
   {
    "duration": 5,
    "start_time": "2023-02-28T08:01:41.377Z"
   },
   {
    "duration": 10,
    "start_time": "2023-02-28T08:01:41.384Z"
   },
   {
    "duration": 8,
    "start_time": "2023-02-28T08:01:41.396Z"
   },
   {
    "duration": 205,
    "start_time": "2023-02-28T08:01:41.405Z"
   },
   {
    "duration": 43,
    "start_time": "2023-02-28T08:01:41.612Z"
   },
   {
    "duration": 308,
    "start_time": "2023-02-28T08:01:41.657Z"
   },
   {
    "duration": 125,
    "start_time": "2023-02-28T08:01:41.967Z"
   },
   {
    "duration": 469,
    "start_time": "2023-02-28T08:01:42.095Z"
   },
   {
    "duration": 296,
    "start_time": "2023-02-28T08:01:42.566Z"
   },
   {
    "duration": 327,
    "start_time": "2023-02-28T08:02:13.730Z"
   },
   {
    "duration": 94,
    "start_time": "2023-02-28T08:11:18.268Z"
   },
   {
    "duration": 78,
    "start_time": "2023-02-28T08:11:44.251Z"
   },
   {
    "duration": 518,
    "start_time": "2023-02-28T08:20:34.973Z"
   },
   {
    "duration": 13,
    "start_time": "2023-02-28T08:20:35.493Z"
   },
   {
    "duration": 82,
    "start_time": "2023-02-28T08:20:35.508Z"
   },
   {
    "duration": 2128,
    "start_time": "2023-02-28T08:20:35.592Z"
   },
   {
    "duration": 9,
    "start_time": "2023-02-28T08:20:37.722Z"
   },
   {
    "duration": 11,
    "start_time": "2023-02-28T08:20:37.732Z"
   },
   {
    "duration": 22,
    "start_time": "2023-02-28T08:20:37.745Z"
   },
   {
    "duration": 9,
    "start_time": "2023-02-28T08:20:37.768Z"
   },
   {
    "duration": 6,
    "start_time": "2023-02-28T08:20:37.779Z"
   },
   {
    "duration": 10,
    "start_time": "2023-02-28T08:20:37.787Z"
   },
   {
    "duration": 38,
    "start_time": "2023-02-28T08:20:37.799Z"
   },
   {
    "duration": 10,
    "start_time": "2023-02-28T08:20:37.840Z"
   },
   {
    "duration": 40,
    "start_time": "2023-02-28T08:20:37.851Z"
   },
   {
    "duration": 10,
    "start_time": "2023-02-28T08:20:37.895Z"
   },
   {
    "duration": 10,
    "start_time": "2023-02-28T08:20:37.906Z"
   },
   {
    "duration": 15,
    "start_time": "2023-02-28T08:20:37.918Z"
   },
   {
    "duration": 32,
    "start_time": "2023-02-28T08:20:37.935Z"
   },
   {
    "duration": 20,
    "start_time": "2023-02-28T08:20:37.969Z"
   },
   {
    "duration": 18,
    "start_time": "2023-02-28T08:20:37.991Z"
   },
   {
    "duration": 6,
    "start_time": "2023-02-28T08:20:38.011Z"
   },
   {
    "duration": 9,
    "start_time": "2023-02-28T08:20:38.019Z"
   },
   {
    "duration": 62,
    "start_time": "2023-02-28T08:20:38.038Z"
   },
   {
    "duration": 4,
    "start_time": "2023-02-28T08:20:38.102Z"
   },
   {
    "duration": 34,
    "start_time": "2023-02-28T08:20:38.108Z"
   },
   {
    "duration": 3,
    "start_time": "2023-02-28T08:20:38.144Z"
   },
   {
    "duration": 8,
    "start_time": "2023-02-28T08:20:38.148Z"
   },
   {
    "duration": 282,
    "start_time": "2023-02-28T08:20:38.158Z"
   },
   {
    "duration": 5,
    "start_time": "2023-02-28T08:20:38.442Z"
   },
   {
    "duration": 29,
    "start_time": "2023-02-28T08:20:38.448Z"
   },
   {
    "duration": 313,
    "start_time": "2023-02-28T08:20:38.479Z"
   },
   {
    "duration": 426,
    "start_time": "2023-02-28T08:20:38.794Z"
   },
   {
    "duration": 347,
    "start_time": "2023-02-28T08:20:39.222Z"
   },
   {
    "duration": 328,
    "start_time": "2023-02-28T08:20:39.571Z"
   },
   {
    "duration": 27,
    "start_time": "2023-02-28T08:20:39.901Z"
   },
   {
    "duration": 8,
    "start_time": "2023-02-28T08:20:39.936Z"
   },
   {
    "duration": 211,
    "start_time": "2023-02-28T08:20:39.946Z"
   },
   {
    "duration": 5,
    "start_time": "2023-02-28T08:20:40.160Z"
   },
   {
    "duration": 16,
    "start_time": "2023-02-28T08:20:40.167Z"
   },
   {
    "duration": 7,
    "start_time": "2023-02-28T08:20:40.185Z"
   },
   {
    "duration": 232,
    "start_time": "2023-02-28T08:20:40.194Z"
   },
   {
    "duration": 47,
    "start_time": "2023-02-28T08:20:40.430Z"
   },
   {
    "duration": 316,
    "start_time": "2023-02-28T08:20:40.479Z"
   },
   {
    "duration": 120,
    "start_time": "2023-02-28T08:20:40.796Z"
   },
   {
    "duration": 403,
    "start_time": "2023-02-28T08:20:40.918Z"
   },
   {
    "duration": 369,
    "start_time": "2023-02-28T08:20:41.323Z"
   },
   {
    "duration": 343,
    "start_time": "2023-02-28T08:20:41.695Z"
   },
   {
    "duration": 316,
    "start_time": "2023-02-28T08:23:40.955Z"
   },
   {
    "duration": 302,
    "start_time": "2023-02-28T08:26:20.467Z"
   },
   {
    "duration": 301,
    "start_time": "2023-02-28T08:26:46.122Z"
   },
   {
    "duration": 497,
    "start_time": "2023-02-28T08:42:46.202Z"
   },
   {
    "duration": 13,
    "start_time": "2023-02-28T08:42:46.700Z"
   },
   {
    "duration": 83,
    "start_time": "2023-02-28T08:42:46.714Z"
   },
   {
    "duration": 2112,
    "start_time": "2023-02-28T08:42:46.799Z"
   },
   {
    "duration": 10,
    "start_time": "2023-02-28T08:42:48.913Z"
   },
   {
    "duration": 7,
    "start_time": "2023-02-28T08:42:48.924Z"
   },
   {
    "duration": 24,
    "start_time": "2023-02-28T08:42:48.932Z"
   },
   {
    "duration": 9,
    "start_time": "2023-02-28T08:42:48.958Z"
   },
   {
    "duration": 7,
    "start_time": "2023-02-28T08:42:48.968Z"
   },
   {
    "duration": 8,
    "start_time": "2023-02-28T08:42:48.977Z"
   },
   {
    "duration": 17,
    "start_time": "2023-02-28T08:42:48.986Z"
   },
   {
    "duration": 13,
    "start_time": "2023-02-28T08:42:49.004Z"
   },
   {
    "duration": 10,
    "start_time": "2023-02-28T08:42:49.019Z"
   },
   {
    "duration": 17,
    "start_time": "2023-02-28T08:42:49.032Z"
   },
   {
    "duration": 25,
    "start_time": "2023-02-28T08:42:49.051Z"
   },
   {
    "duration": 6,
    "start_time": "2023-02-28T08:42:49.078Z"
   },
   {
    "duration": 12,
    "start_time": "2023-02-28T08:42:49.086Z"
   },
   {
    "duration": 19,
    "start_time": "2023-02-28T08:42:49.100Z"
   },
   {
    "duration": 36,
    "start_time": "2023-02-28T08:42:49.121Z"
   },
   {
    "duration": 7,
    "start_time": "2023-02-28T08:42:49.159Z"
   },
   {
    "duration": 9,
    "start_time": "2023-02-28T08:42:49.167Z"
   },
   {
    "duration": 84,
    "start_time": "2023-02-28T08:42:49.177Z"
   },
   {
    "duration": 4,
    "start_time": "2023-02-28T08:42:49.263Z"
   },
   {
    "duration": 18,
    "start_time": "2023-02-28T08:42:49.269Z"
   },
   {
    "duration": 3,
    "start_time": "2023-02-28T08:42:49.288Z"
   },
   {
    "duration": 223,
    "start_time": "2023-02-28T08:42:49.293Z"
   },
   {
    "duration": 3,
    "start_time": "2023-02-28T08:42:49.518Z"
   },
   {
    "duration": 287,
    "start_time": "2023-02-28T08:42:49.523Z"
   },
   {
    "duration": 4,
    "start_time": "2023-02-28T08:42:49.812Z"
   },
   {
    "duration": 37,
    "start_time": "2023-02-28T08:42:49.817Z"
   },
   {
    "duration": 365,
    "start_time": "2023-02-28T08:42:49.856Z"
   },
   {
    "duration": 297,
    "start_time": "2023-02-28T08:42:50.223Z"
   },
   {
    "duration": 307,
    "start_time": "2023-02-28T08:42:50.521Z"
   },
   {
    "duration": 306,
    "start_time": "2023-02-28T08:42:50.829Z"
   },
   {
    "duration": 25,
    "start_time": "2023-02-28T08:42:51.148Z"
   },
   {
    "duration": 8,
    "start_time": "2023-02-28T08:42:51.174Z"
   },
   {
    "duration": 200,
    "start_time": "2023-02-28T08:42:51.183Z"
   },
   {
    "duration": 5,
    "start_time": "2023-02-28T08:42:51.384Z"
   },
   {
    "duration": 15,
    "start_time": "2023-02-28T08:42:51.390Z"
   },
   {
    "duration": 4,
    "start_time": "2023-02-28T08:42:51.406Z"
   },
   {
    "duration": 207,
    "start_time": "2023-02-28T08:42:51.414Z"
   },
   {
    "duration": 51,
    "start_time": "2023-02-28T08:42:51.622Z"
   },
   {
    "duration": 420,
    "start_time": "2023-02-28T08:42:51.674Z"
   },
   {
    "duration": 133,
    "start_time": "2023-02-28T08:42:52.095Z"
   },
   {
    "duration": 357,
    "start_time": "2023-02-28T08:42:52.230Z"
   },
   {
    "duration": 332,
    "start_time": "2023-02-28T08:42:52.589Z"
   },
   {
    "duration": 297,
    "start_time": "2023-02-28T08:42:52.923Z"
   },
   {
    "duration": 315,
    "start_time": "2023-02-28T08:42:53.222Z"
   },
   {
    "duration": 1495,
    "start_time": "2023-02-28T10:53:31.430Z"
   },
   {
    "duration": 547,
    "start_time": "2023-02-28T10:57:29.471Z"
   },
   {
    "duration": 30,
    "start_time": "2023-02-28T10:57:30.020Z"
   },
   {
    "duration": 84,
    "start_time": "2023-02-28T10:57:30.055Z"
   },
   {
    "duration": 2412,
    "start_time": "2023-02-28T10:57:30.143Z"
   },
   {
    "duration": 15,
    "start_time": "2023-02-28T10:57:32.562Z"
   },
   {
    "duration": 47,
    "start_time": "2023-02-28T10:57:32.579Z"
   },
   {
    "duration": 89,
    "start_time": "2023-02-28T10:57:32.629Z"
   },
   {
    "duration": 8,
    "start_time": "2023-02-28T10:57:32.720Z"
   },
   {
    "duration": 51,
    "start_time": "2023-02-28T10:57:32.730Z"
   },
   {
    "duration": 42,
    "start_time": "2023-02-28T10:57:32.783Z"
   },
   {
    "duration": 47,
    "start_time": "2023-02-28T10:57:32.827Z"
   },
   {
    "duration": 9,
    "start_time": "2023-02-28T10:57:32.876Z"
   },
   {
    "duration": 23,
    "start_time": "2023-02-28T10:57:32.887Z"
   },
   {
    "duration": 13,
    "start_time": "2023-02-28T10:57:32.914Z"
   },
   {
    "duration": 17,
    "start_time": "2023-02-28T10:57:32.929Z"
   },
   {
    "duration": 43,
    "start_time": "2023-02-28T10:57:32.948Z"
   },
   {
    "duration": 17,
    "start_time": "2023-02-28T10:57:32.993Z"
   },
   {
    "duration": 27,
    "start_time": "2023-02-28T10:57:33.012Z"
   },
   {
    "duration": 30,
    "start_time": "2023-02-28T10:57:33.041Z"
   },
   {
    "duration": 21,
    "start_time": "2023-02-28T10:57:33.074Z"
   },
   {
    "duration": 18,
    "start_time": "2023-02-28T10:57:33.097Z"
   },
   {
    "duration": 90,
    "start_time": "2023-02-28T10:57:33.118Z"
   },
   {
    "duration": 4,
    "start_time": "2023-02-28T10:57:33.210Z"
   },
   {
    "duration": 25,
    "start_time": "2023-02-28T10:57:33.215Z"
   },
   {
    "duration": 5,
    "start_time": "2023-02-28T10:57:33.243Z"
   },
   {
    "duration": 1641,
    "start_time": "2023-02-28T10:57:33.250Z"
   },
   {
    "duration": 0,
    "start_time": "2023-02-28T10:57:34.893Z"
   },
   {
    "duration": 0,
    "start_time": "2023-02-28T10:57:34.894Z"
   },
   {
    "duration": 0,
    "start_time": "2023-02-28T10:57:34.895Z"
   },
   {
    "duration": 0,
    "start_time": "2023-02-28T10:57:34.896Z"
   },
   {
    "duration": 0,
    "start_time": "2023-02-28T10:57:34.897Z"
   },
   {
    "duration": 0,
    "start_time": "2023-02-28T10:57:34.898Z"
   },
   {
    "duration": 0,
    "start_time": "2023-02-28T10:57:34.900Z"
   },
   {
    "duration": 0,
    "start_time": "2023-02-28T10:57:34.901Z"
   },
   {
    "duration": 0,
    "start_time": "2023-02-28T10:57:34.902Z"
   },
   {
    "duration": 0,
    "start_time": "2023-02-28T10:57:34.903Z"
   },
   {
    "duration": 0,
    "start_time": "2023-02-28T10:57:34.905Z"
   },
   {
    "duration": 0,
    "start_time": "2023-02-28T10:57:34.906Z"
   },
   {
    "duration": 0,
    "start_time": "2023-02-28T10:57:34.908Z"
   },
   {
    "duration": 0,
    "start_time": "2023-02-28T10:57:34.909Z"
   },
   {
    "duration": 0,
    "start_time": "2023-02-28T10:57:34.910Z"
   },
   {
    "duration": 0,
    "start_time": "2023-02-28T10:57:34.911Z"
   },
   {
    "duration": 0,
    "start_time": "2023-02-28T10:57:34.912Z"
   },
   {
    "duration": 0,
    "start_time": "2023-02-28T10:57:34.913Z"
   },
   {
    "duration": 0,
    "start_time": "2023-02-28T10:57:34.914Z"
   },
   {
    "duration": 0,
    "start_time": "2023-02-28T10:57:34.915Z"
   },
   {
    "duration": 0,
    "start_time": "2023-02-28T10:57:34.916Z"
   },
   {
    "duration": 0,
    "start_time": "2023-02-28T10:57:34.918Z"
   },
   {
    "duration": 0,
    "start_time": "2023-02-28T10:57:34.918Z"
   },
   {
    "duration": 496,
    "start_time": "2023-02-28T10:58:44.819Z"
   },
   {
    "duration": 13,
    "start_time": "2023-02-28T10:58:45.317Z"
   },
   {
    "duration": 80,
    "start_time": "2023-02-28T10:58:45.332Z"
   },
   {
    "duration": 2321,
    "start_time": "2023-02-28T10:58:45.414Z"
   },
   {
    "duration": 13,
    "start_time": "2023-02-28T10:58:47.736Z"
   },
   {
    "duration": 28,
    "start_time": "2023-02-28T10:58:47.751Z"
   },
   {
    "duration": 20,
    "start_time": "2023-02-28T10:58:47.780Z"
   },
   {
    "duration": 7,
    "start_time": "2023-02-28T10:58:47.802Z"
   },
   {
    "duration": 20,
    "start_time": "2023-02-28T10:58:47.811Z"
   },
   {
    "duration": 9,
    "start_time": "2023-02-28T10:58:47.835Z"
   },
   {
    "duration": 27,
    "start_time": "2023-02-28T10:58:47.846Z"
   },
   {
    "duration": 5,
    "start_time": "2023-02-28T10:58:47.875Z"
   },
   {
    "duration": 7,
    "start_time": "2023-02-28T10:58:47.882Z"
   },
   {
    "duration": 8,
    "start_time": "2023-02-28T10:58:47.891Z"
   },
   {
    "duration": 9,
    "start_time": "2023-02-28T10:58:47.900Z"
   },
   {
    "duration": 13,
    "start_time": "2023-02-28T10:58:47.911Z"
   },
   {
    "duration": 32,
    "start_time": "2023-02-28T10:58:47.925Z"
   },
   {
    "duration": 22,
    "start_time": "2023-02-28T10:58:47.964Z"
   },
   {
    "duration": 19,
    "start_time": "2023-02-28T10:58:47.988Z"
   },
   {
    "duration": 7,
    "start_time": "2023-02-28T10:58:48.009Z"
   },
   {
    "duration": 36,
    "start_time": "2023-02-28T10:58:48.018Z"
   },
   {
    "duration": 71,
    "start_time": "2023-02-28T10:58:48.055Z"
   },
   {
    "duration": 4,
    "start_time": "2023-02-28T10:58:48.128Z"
   },
   {
    "duration": 41,
    "start_time": "2023-02-28T10:58:48.133Z"
   },
   {
    "duration": 5,
    "start_time": "2023-02-28T10:58:48.176Z"
   },
   {
    "duration": 1538,
    "start_time": "2023-02-28T10:58:48.182Z"
   },
   {
    "duration": 0,
    "start_time": "2023-02-28T10:58:49.723Z"
   },
   {
    "duration": 0,
    "start_time": "2023-02-28T10:58:49.724Z"
   },
   {
    "duration": 0,
    "start_time": "2023-02-28T10:58:49.726Z"
   },
   {
    "duration": 0,
    "start_time": "2023-02-28T10:58:49.728Z"
   },
   {
    "duration": 0,
    "start_time": "2023-02-28T10:58:49.729Z"
   },
   {
    "duration": 0,
    "start_time": "2023-02-28T10:58:49.731Z"
   },
   {
    "duration": 0,
    "start_time": "2023-02-28T10:58:49.732Z"
   },
   {
    "duration": 0,
    "start_time": "2023-02-28T10:58:49.733Z"
   },
   {
    "duration": 0,
    "start_time": "2023-02-28T10:58:49.735Z"
   },
   {
    "duration": 0,
    "start_time": "2023-02-28T10:58:49.736Z"
   },
   {
    "duration": 1,
    "start_time": "2023-02-28T10:58:49.737Z"
   },
   {
    "duration": 0,
    "start_time": "2023-02-28T10:58:49.739Z"
   },
   {
    "duration": 0,
    "start_time": "2023-02-28T10:58:49.740Z"
   },
   {
    "duration": 0,
    "start_time": "2023-02-28T10:58:49.740Z"
   },
   {
    "duration": 0,
    "start_time": "2023-02-28T10:58:49.741Z"
   },
   {
    "duration": 0,
    "start_time": "2023-02-28T10:58:49.741Z"
   },
   {
    "duration": 0,
    "start_time": "2023-02-28T10:58:49.743Z"
   },
   {
    "duration": 0,
    "start_time": "2023-02-28T10:58:49.744Z"
   },
   {
    "duration": 0,
    "start_time": "2023-02-28T10:58:49.745Z"
   },
   {
    "duration": 0,
    "start_time": "2023-02-28T10:58:49.746Z"
   },
   {
    "duration": 0,
    "start_time": "2023-02-28T10:58:49.747Z"
   },
   {
    "duration": 0,
    "start_time": "2023-02-28T10:58:49.748Z"
   },
   {
    "duration": 0,
    "start_time": "2023-02-28T10:58:49.749Z"
   },
   {
    "duration": 563,
    "start_time": "2023-02-28T11:02:32.544Z"
   },
   {
    "duration": 13,
    "start_time": "2023-02-28T11:02:33.110Z"
   },
   {
    "duration": 83,
    "start_time": "2023-02-28T11:02:33.125Z"
   },
   {
    "duration": 2261,
    "start_time": "2023-02-28T11:02:33.210Z"
   },
   {
    "duration": 9,
    "start_time": "2023-02-28T11:02:35.473Z"
   },
   {
    "duration": 8,
    "start_time": "2023-02-28T11:02:35.484Z"
   },
   {
    "duration": 20,
    "start_time": "2023-02-28T11:02:35.494Z"
   },
   {
    "duration": 8,
    "start_time": "2023-02-28T11:02:35.516Z"
   },
   {
    "duration": 30,
    "start_time": "2023-02-28T11:02:35.525Z"
   },
   {
    "duration": 19,
    "start_time": "2023-02-28T11:02:35.557Z"
   },
   {
    "duration": 6,
    "start_time": "2023-02-28T11:02:35.578Z"
   },
   {
    "duration": 5,
    "start_time": "2023-02-28T11:02:35.585Z"
   },
   {
    "duration": 6,
    "start_time": "2023-02-28T11:02:35.591Z"
   },
   {
    "duration": 7,
    "start_time": "2023-02-28T11:02:35.600Z"
   },
   {
    "duration": 8,
    "start_time": "2023-02-28T11:02:35.609Z"
   },
   {
    "duration": 31,
    "start_time": "2023-02-28T11:02:35.618Z"
   },
   {
    "duration": 21,
    "start_time": "2023-02-28T11:02:35.650Z"
   },
   {
    "duration": 22,
    "start_time": "2023-02-28T11:02:35.672Z"
   },
   {
    "duration": 19,
    "start_time": "2023-02-28T11:02:35.696Z"
   },
   {
    "duration": 7,
    "start_time": "2023-02-28T11:02:35.716Z"
   },
   {
    "duration": 30,
    "start_time": "2023-02-28T11:02:35.725Z"
   },
   {
    "duration": 71,
    "start_time": "2023-02-28T11:02:35.756Z"
   },
   {
    "duration": 4,
    "start_time": "2023-02-28T11:02:35.829Z"
   },
   {
    "duration": 20,
    "start_time": "2023-02-28T11:02:35.834Z"
   },
   {
    "duration": 17,
    "start_time": "2023-02-28T11:02:35.858Z"
   },
   {
    "duration": 224,
    "start_time": "2023-02-28T11:02:35.877Z"
   },
   {
    "duration": 3,
    "start_time": "2023-02-28T11:02:36.103Z"
   },
   {
    "duration": 298,
    "start_time": "2023-02-28T11:02:36.107Z"
   },
   {
    "duration": 4,
    "start_time": "2023-02-28T11:02:36.406Z"
   },
   {
    "duration": 38,
    "start_time": "2023-02-28T11:02:36.411Z"
   },
   {
    "duration": 409,
    "start_time": "2023-02-28T11:02:36.451Z"
   },
   {
    "duration": 316,
    "start_time": "2023-02-28T11:02:36.862Z"
   },
   {
    "duration": 312,
    "start_time": "2023-02-28T11:02:37.180Z"
   },
   {
    "duration": 306,
    "start_time": "2023-02-28T11:02:37.494Z"
   },
   {
    "duration": 22,
    "start_time": "2023-02-28T11:02:37.802Z"
   },
   {
    "duration": 23,
    "start_time": "2023-02-28T11:02:37.826Z"
   },
   {
    "duration": 221,
    "start_time": "2023-02-28T11:02:37.850Z"
   },
   {
    "duration": 4,
    "start_time": "2023-02-28T11:02:38.072Z"
   },
   {
    "duration": 29,
    "start_time": "2023-02-28T11:02:38.078Z"
   },
   {
    "duration": 9,
    "start_time": "2023-02-28T11:02:38.108Z"
   },
   {
    "duration": 200,
    "start_time": "2023-02-28T11:02:38.120Z"
   },
   {
    "duration": 55,
    "start_time": "2023-02-28T11:02:38.321Z"
   },
   {
    "duration": 432,
    "start_time": "2023-02-28T11:02:38.378Z"
   },
   {
    "duration": 153,
    "start_time": "2023-02-28T11:02:38.812Z"
   },
   {
    "duration": 324,
    "start_time": "2023-02-28T11:02:38.966Z"
   },
   {
    "duration": 335,
    "start_time": "2023-02-28T11:02:39.291Z"
   },
   {
    "duration": 309,
    "start_time": "2023-02-28T11:02:39.628Z"
   },
   {
    "duration": 329,
    "start_time": "2023-02-28T11:02:39.939Z"
   },
   {
    "duration": 84,
    "start_time": "2023-02-28T11:02:40.270Z"
   },
   {
    "duration": 28,
    "start_time": "2023-02-28T11:03:13.098Z"
   },
   {
    "duration": 516,
    "start_time": "2023-02-28T11:03:27.605Z"
   },
   {
    "duration": 26,
    "start_time": "2023-02-28T11:03:28.123Z"
   },
   {
    "duration": 68,
    "start_time": "2023-02-28T11:03:28.154Z"
   },
   {
    "duration": 2399,
    "start_time": "2023-02-28T11:03:28.224Z"
   },
   {
    "duration": 9,
    "start_time": "2023-02-28T11:03:30.625Z"
   },
   {
    "duration": 71,
    "start_time": "2023-02-28T11:03:30.635Z"
   },
   {
    "duration": 96,
    "start_time": "2023-02-28T11:03:30.707Z"
   },
   {
    "duration": 31,
    "start_time": "2023-02-28T11:03:30.805Z"
   },
   {
    "duration": 75,
    "start_time": "2023-02-28T11:03:30.837Z"
   },
   {
    "duration": 70,
    "start_time": "2023-02-28T11:03:30.914Z"
   },
   {
    "duration": 25,
    "start_time": "2023-02-28T11:03:30.985Z"
   },
   {
    "duration": 73,
    "start_time": "2023-02-28T11:03:31.011Z"
   },
   {
    "duration": 46,
    "start_time": "2023-02-28T11:03:31.085Z"
   },
   {
    "duration": 38,
    "start_time": "2023-02-28T11:03:31.132Z"
   },
   {
    "duration": 10,
    "start_time": "2023-02-28T11:03:31.172Z"
   },
   {
    "duration": 18,
    "start_time": "2023-02-28T11:03:31.184Z"
   },
   {
    "duration": 13,
    "start_time": "2023-02-28T11:03:31.204Z"
   },
   {
    "duration": 30,
    "start_time": "2023-02-28T11:03:31.219Z"
   },
   {
    "duration": 39,
    "start_time": "2023-02-28T11:03:31.252Z"
   },
   {
    "duration": 7,
    "start_time": "2023-02-28T11:03:31.292Z"
   },
   {
    "duration": 21,
    "start_time": "2023-02-28T11:03:31.300Z"
   },
   {
    "duration": 77,
    "start_time": "2023-02-28T11:03:31.322Z"
   },
   {
    "duration": 3,
    "start_time": "2023-02-28T11:03:31.401Z"
   },
   {
    "duration": 30,
    "start_time": "2023-02-28T11:03:31.406Z"
   },
   {
    "duration": 30,
    "start_time": "2023-02-28T11:03:31.438Z"
   },
   {
    "duration": 251,
    "start_time": "2023-02-28T11:03:31.470Z"
   },
   {
    "duration": 3,
    "start_time": "2023-02-28T11:03:31.722Z"
   },
   {
    "duration": 348,
    "start_time": "2023-02-28T11:03:31.728Z"
   },
   {
    "duration": 5,
    "start_time": "2023-02-28T11:03:32.078Z"
   },
   {
    "duration": 39,
    "start_time": "2023-02-28T11:03:32.084Z"
   },
   {
    "duration": 521,
    "start_time": "2023-02-28T11:03:32.126Z"
   },
   {
    "duration": 428,
    "start_time": "2023-02-28T11:03:32.649Z"
   },
   {
    "duration": 338,
    "start_time": "2023-02-28T11:03:33.079Z"
   },
   {
    "duration": 349,
    "start_time": "2023-02-28T11:03:33.419Z"
   },
   {
    "duration": 25,
    "start_time": "2023-02-28T11:03:33.771Z"
   },
   {
    "duration": 8,
    "start_time": "2023-02-28T11:03:33.798Z"
   },
   {
    "duration": 226,
    "start_time": "2023-02-28T11:03:33.808Z"
   },
   {
    "duration": 17,
    "start_time": "2023-02-28T11:03:34.036Z"
   },
   {
    "duration": 18,
    "start_time": "2023-02-28T11:03:34.060Z"
   },
   {
    "duration": 10,
    "start_time": "2023-02-28T11:03:34.079Z"
   },
   {
    "duration": 193,
    "start_time": "2023-02-28T11:03:34.090Z"
   },
   {
    "duration": 41,
    "start_time": "2023-02-28T11:03:34.284Z"
   },
   {
    "duration": 442,
    "start_time": "2023-02-28T11:03:34.326Z"
   },
   {
    "duration": 117,
    "start_time": "2023-02-28T11:03:34.769Z"
   },
   {
    "duration": 319,
    "start_time": "2023-02-28T11:03:34.888Z"
   },
   {
    "duration": 366,
    "start_time": "2023-02-28T11:03:35.208Z"
   },
   {
    "duration": 325,
    "start_time": "2023-02-28T11:03:35.575Z"
   },
   {
    "duration": 333,
    "start_time": "2023-02-28T11:03:35.901Z"
   },
   {
    "duration": 92,
    "start_time": "2023-02-28T11:03:36.236Z"
   },
   {
    "duration": 479,
    "start_time": "2023-02-28T11:05:50.900Z"
   },
   {
    "duration": 14,
    "start_time": "2023-02-28T11:05:51.381Z"
   },
   {
    "duration": 88,
    "start_time": "2023-02-28T11:05:51.397Z"
   },
   {
    "duration": 2336,
    "start_time": "2023-02-28T11:05:51.487Z"
   },
   {
    "duration": 9,
    "start_time": "2023-02-28T11:05:53.824Z"
   },
   {
    "duration": 32,
    "start_time": "2023-02-28T11:05:53.834Z"
   },
   {
    "duration": 21,
    "start_time": "2023-02-28T11:05:53.867Z"
   },
   {
    "duration": 7,
    "start_time": "2023-02-28T11:05:53.890Z"
   },
   {
    "duration": 12,
    "start_time": "2023-02-28T11:05:53.899Z"
   },
   {
    "duration": 10,
    "start_time": "2023-02-28T11:05:53.914Z"
   },
   {
    "duration": 7,
    "start_time": "2023-02-28T11:05:53.925Z"
   },
   {
    "duration": 14,
    "start_time": "2023-02-28T11:05:53.934Z"
   },
   {
    "duration": 42,
    "start_time": "2023-02-28T11:05:53.950Z"
   },
   {
    "duration": 7,
    "start_time": "2023-02-28T11:05:53.994Z"
   },
   {
    "duration": 7,
    "start_time": "2023-02-28T11:05:54.003Z"
   },
   {
    "duration": 11,
    "start_time": "2023-02-28T11:05:54.012Z"
   },
   {
    "duration": 44,
    "start_time": "2023-02-28T11:05:54.024Z"
   },
   {
    "duration": 25,
    "start_time": "2023-02-28T11:05:54.070Z"
   },
   {
    "duration": 19,
    "start_time": "2023-02-28T11:05:54.097Z"
   },
   {
    "duration": 7,
    "start_time": "2023-02-28T11:05:54.118Z"
   },
   {
    "duration": 36,
    "start_time": "2023-02-28T11:05:54.127Z"
   },
   {
    "duration": 61,
    "start_time": "2023-02-28T11:05:54.166Z"
   },
   {
    "duration": 4,
    "start_time": "2023-02-28T11:05:54.229Z"
   },
   {
    "duration": 18,
    "start_time": "2023-02-28T11:05:54.234Z"
   },
   {
    "duration": 19,
    "start_time": "2023-02-28T11:05:54.254Z"
   },
   {
    "duration": 227,
    "start_time": "2023-02-28T11:05:54.275Z"
   },
   {
    "duration": 3,
    "start_time": "2023-02-28T11:05:54.503Z"
   },
   {
    "duration": 291,
    "start_time": "2023-02-28T11:05:54.510Z"
   },
   {
    "duration": 4,
    "start_time": "2023-02-28T11:05:54.803Z"
   },
   {
    "duration": 44,
    "start_time": "2023-02-28T11:05:54.808Z"
   },
   {
    "duration": 411,
    "start_time": "2023-02-28T11:05:54.853Z"
   },
   {
    "duration": 310,
    "start_time": "2023-02-28T11:05:55.269Z"
   },
   {
    "duration": 315,
    "start_time": "2023-02-28T11:05:55.581Z"
   },
   {
    "duration": 314,
    "start_time": "2023-02-28T11:05:55.898Z"
   },
   {
    "duration": 53,
    "start_time": "2023-02-28T11:05:56.214Z"
   },
   {
    "duration": 8,
    "start_time": "2023-02-28T11:05:56.268Z"
   },
   {
    "duration": 197,
    "start_time": "2023-02-28T11:05:56.278Z"
   },
   {
    "duration": 4,
    "start_time": "2023-02-28T11:05:56.476Z"
   },
   {
    "duration": 10,
    "start_time": "2023-02-28T11:05:56.482Z"
   },
   {
    "duration": 7,
    "start_time": "2023-02-28T11:05:56.493Z"
   },
   {
    "duration": 232,
    "start_time": "2023-02-28T11:05:56.502Z"
   },
   {
    "duration": 55,
    "start_time": "2023-02-28T11:05:56.736Z"
   },
   {
    "duration": 480,
    "start_time": "2023-02-28T11:05:56.792Z"
   },
   {
    "duration": 120,
    "start_time": "2023-02-28T11:05:57.274Z"
   },
   {
    "duration": 328,
    "start_time": "2023-02-28T11:05:57.395Z"
   },
   {
    "duration": 347,
    "start_time": "2023-02-28T11:05:57.724Z"
   },
   {
    "duration": 309,
    "start_time": "2023-02-28T11:05:58.075Z"
   },
   {
    "duration": 328,
    "start_time": "2023-02-28T11:05:58.386Z"
   },
   {
    "duration": 156,
    "start_time": "2023-02-28T11:05:58.716Z"
   },
   {
    "duration": 290,
    "start_time": "2023-02-28T11:13:02.667Z"
   },
   {
    "duration": 148,
    "start_time": "2023-02-28T11:13:12.786Z"
   },
   {
    "duration": 167,
    "start_time": "2023-02-28T11:15:41.819Z"
   },
   {
    "duration": 52,
    "start_time": "2023-02-28T20:33:03.496Z"
   },
   {
    "duration": 729,
    "start_time": "2023-02-28T20:33:11.677Z"
   },
   {
    "duration": 14,
    "start_time": "2023-02-28T20:33:12.408Z"
   },
   {
    "duration": 75,
    "start_time": "2023-02-28T20:33:12.423Z"
   },
   {
    "duration": 2392,
    "start_time": "2023-02-28T20:33:12.500Z"
   },
   {
    "duration": 11,
    "start_time": "2023-02-28T20:33:14.894Z"
   },
   {
    "duration": 12,
    "start_time": "2023-02-28T20:33:14.907Z"
   },
   {
    "duration": 22,
    "start_time": "2023-02-28T20:33:14.920Z"
   },
   {
    "duration": 7,
    "start_time": "2023-02-28T20:33:14.944Z"
   },
   {
    "duration": 7,
    "start_time": "2023-02-28T20:33:14.952Z"
   },
   {
    "duration": 7,
    "start_time": "2023-02-28T20:33:14.963Z"
   },
   {
    "duration": 6,
    "start_time": "2023-02-28T20:33:14.972Z"
   },
   {
    "duration": 9,
    "start_time": "2023-02-28T20:33:14.979Z"
   },
   {
    "duration": 8,
    "start_time": "2023-02-28T20:33:14.991Z"
   },
   {
    "duration": 49,
    "start_time": "2023-02-28T20:33:15.001Z"
   },
   {
    "duration": 11,
    "start_time": "2023-02-28T20:33:15.052Z"
   },
   {
    "duration": 11,
    "start_time": "2023-02-28T20:33:15.064Z"
   },
   {
    "duration": 22,
    "start_time": "2023-02-28T20:33:15.077Z"
   },
   {
    "duration": 45,
    "start_time": "2023-02-28T20:33:15.100Z"
   },
   {
    "duration": 21,
    "start_time": "2023-02-28T20:33:15.146Z"
   },
   {
    "duration": 7,
    "start_time": "2023-02-28T20:33:15.169Z"
   },
   {
    "duration": 25,
    "start_time": "2023-02-28T20:33:15.178Z"
   },
   {
    "duration": 81,
    "start_time": "2023-02-28T20:33:15.205Z"
   },
   {
    "duration": 4,
    "start_time": "2023-02-28T20:33:15.288Z"
   },
   {
    "duration": 15,
    "start_time": "2023-02-28T20:33:15.293Z"
   },
   {
    "duration": 4,
    "start_time": "2023-02-28T20:33:15.309Z"
   },
   {
    "duration": 263,
    "start_time": "2023-02-28T20:33:15.314Z"
   },
   {
    "duration": 4,
    "start_time": "2023-02-28T20:33:15.578Z"
   },
   {
    "duration": 375,
    "start_time": "2023-02-28T20:33:15.585Z"
   },
   {
    "duration": 6,
    "start_time": "2023-02-28T20:33:15.961Z"
   },
   {
    "duration": 30,
    "start_time": "2023-02-28T20:33:15.968Z"
   },
   {
    "duration": 329,
    "start_time": "2023-02-28T20:33:16.000Z"
   },
   {
    "duration": 327,
    "start_time": "2023-02-28T20:33:16.330Z"
   },
   {
    "duration": 335,
    "start_time": "2023-02-28T20:33:16.659Z"
   },
   {
    "duration": 314,
    "start_time": "2023-02-28T20:33:16.996Z"
   },
   {
    "duration": 33,
    "start_time": "2023-02-28T20:33:17.312Z"
   },
   {
    "duration": 8,
    "start_time": "2023-02-28T20:33:17.346Z"
   },
   {
    "duration": 213,
    "start_time": "2023-02-28T20:33:17.355Z"
   },
   {
    "duration": 5,
    "start_time": "2023-02-28T20:33:17.570Z"
   },
   {
    "duration": 12,
    "start_time": "2023-02-28T20:33:17.577Z"
   },
   {
    "duration": 7,
    "start_time": "2023-02-28T20:33:17.590Z"
   },
   {
    "duration": 230,
    "start_time": "2023-02-28T20:33:17.599Z"
   },
   {
    "duration": 56,
    "start_time": "2023-02-28T20:33:17.830Z"
   },
   {
    "duration": 452,
    "start_time": "2023-02-28T20:33:17.888Z"
   },
   {
    "duration": 137,
    "start_time": "2023-02-28T20:33:18.342Z"
   },
   {
    "duration": 332,
    "start_time": "2023-02-28T20:33:18.481Z"
   },
   {
    "duration": 341,
    "start_time": "2023-02-28T20:33:18.815Z"
   },
   {
    "duration": 310,
    "start_time": "2023-02-28T20:33:19.158Z"
   },
   {
    "duration": 332,
    "start_time": "2023-02-28T20:33:19.470Z"
   },
   {
    "duration": 343,
    "start_time": "2023-02-28T20:33:19.804Z"
   },
   {
    "duration": 288,
    "start_time": "2023-02-28T20:33:36.142Z"
   },
   {
    "duration": 568,
    "start_time": "2023-02-28T20:41:14.029Z"
   },
   {
    "duration": 20,
    "start_time": "2023-02-28T20:41:14.600Z"
   },
   {
    "duration": 93,
    "start_time": "2023-02-28T20:41:14.621Z"
   },
   {
    "duration": 2248,
    "start_time": "2023-02-28T20:41:14.716Z"
   },
   {
    "duration": 10,
    "start_time": "2023-02-28T20:41:16.966Z"
   },
   {
    "duration": 8,
    "start_time": "2023-02-28T20:41:16.977Z"
   },
   {
    "duration": 20,
    "start_time": "2023-02-28T20:41:16.987Z"
   },
   {
    "duration": 7,
    "start_time": "2023-02-28T20:41:17.009Z"
   },
   {
    "duration": 6,
    "start_time": "2023-02-28T20:41:17.018Z"
   },
   {
    "duration": 23,
    "start_time": "2023-02-28T20:41:17.027Z"
   },
   {
    "duration": 7,
    "start_time": "2023-02-28T20:41:17.052Z"
   },
   {
    "duration": 19,
    "start_time": "2023-02-28T20:41:17.061Z"
   },
   {
    "duration": 7,
    "start_time": "2023-02-28T20:41:17.082Z"
   },
   {
    "duration": 11,
    "start_time": "2023-02-28T20:41:17.091Z"
   },
   {
    "duration": 9,
    "start_time": "2023-02-28T20:41:17.104Z"
   },
   {
    "duration": 33,
    "start_time": "2023-02-28T20:41:17.114Z"
   },
   {
    "duration": 13,
    "start_time": "2023-02-28T20:41:17.148Z"
   },
   {
    "duration": 21,
    "start_time": "2023-02-28T20:41:17.163Z"
   },
   {
    "duration": 21,
    "start_time": "2023-02-28T20:41:17.185Z"
   },
   {
    "duration": 37,
    "start_time": "2023-02-28T20:41:17.208Z"
   },
   {
    "duration": 7,
    "start_time": "2023-02-28T20:41:17.247Z"
   },
   {
    "duration": 62,
    "start_time": "2023-02-28T20:41:17.257Z"
   },
   {
    "duration": 25,
    "start_time": "2023-02-28T20:41:17.321Z"
   },
   {
    "duration": 13,
    "start_time": "2023-02-28T20:41:17.348Z"
   },
   {
    "duration": 4,
    "start_time": "2023-02-28T20:41:17.362Z"
   },
   {
    "duration": 249,
    "start_time": "2023-02-28T20:41:17.368Z"
   },
   {
    "duration": 3,
    "start_time": "2023-02-28T20:41:17.619Z"
   },
   {
    "duration": 305,
    "start_time": "2023-02-28T20:41:17.626Z"
   },
   {
    "duration": 4,
    "start_time": "2023-02-28T20:41:17.933Z"
   },
   {
    "duration": 30,
    "start_time": "2023-02-28T20:41:17.944Z"
   },
   {
    "duration": 400,
    "start_time": "2023-02-28T20:41:17.975Z"
   },
   {
    "duration": 330,
    "start_time": "2023-02-28T20:41:18.377Z"
   },
   {
    "duration": 327,
    "start_time": "2023-02-28T20:41:18.709Z"
   },
   {
    "duration": 335,
    "start_time": "2023-02-28T20:41:19.038Z"
   },
   {
    "duration": 24,
    "start_time": "2023-02-28T20:41:19.375Z"
   },
   {
    "duration": 8,
    "start_time": "2023-02-28T20:41:19.401Z"
   },
   {
    "duration": 223,
    "start_time": "2023-02-28T20:41:19.411Z"
   },
   {
    "duration": 12,
    "start_time": "2023-02-28T20:41:19.636Z"
   },
   {
    "duration": 8,
    "start_time": "2023-02-28T20:41:19.650Z"
   },
   {
    "duration": 6,
    "start_time": "2023-02-28T20:41:19.660Z"
   },
   {
    "duration": 232,
    "start_time": "2023-02-28T20:41:19.668Z"
   },
   {
    "duration": 54,
    "start_time": "2023-02-28T20:41:19.901Z"
   },
   {
    "duration": 442,
    "start_time": "2023-02-28T20:41:19.957Z"
   },
   {
    "duration": 173,
    "start_time": "2023-02-28T20:41:20.401Z"
   },
   {
    "duration": 368,
    "start_time": "2023-02-28T20:41:20.577Z"
   },
   {
    "duration": 349,
    "start_time": "2023-02-28T20:41:20.947Z"
   },
   {
    "duration": 334,
    "start_time": "2023-02-28T20:41:21.298Z"
   },
   {
    "duration": 324,
    "start_time": "2023-02-28T20:41:21.633Z"
   },
   {
    "duration": 387,
    "start_time": "2023-02-28T20:41:21.958Z"
   },
   {
    "duration": 554,
    "start_time": "2023-02-28T20:42:43.634Z"
   },
   {
    "duration": 15,
    "start_time": "2023-02-28T20:42:44.190Z"
   },
   {
    "duration": 83,
    "start_time": "2023-02-28T20:42:44.206Z"
   },
   {
    "duration": 2209,
    "start_time": "2023-02-28T20:42:44.291Z"
   },
   {
    "duration": 9,
    "start_time": "2023-02-28T20:42:46.502Z"
   },
   {
    "duration": 13,
    "start_time": "2023-02-28T20:42:46.513Z"
   },
   {
    "duration": 25,
    "start_time": "2023-02-28T20:42:46.528Z"
   },
   {
    "duration": 7,
    "start_time": "2023-02-28T20:42:46.555Z"
   },
   {
    "duration": 6,
    "start_time": "2023-02-28T20:42:46.564Z"
   },
   {
    "duration": 8,
    "start_time": "2023-02-28T20:42:46.573Z"
   },
   {
    "duration": 18,
    "start_time": "2023-02-28T20:42:46.583Z"
   },
   {
    "duration": 10,
    "start_time": "2023-02-28T20:42:46.603Z"
   },
   {
    "duration": 10,
    "start_time": "2023-02-28T20:42:46.615Z"
   },
   {
    "duration": 25,
    "start_time": "2023-02-28T20:42:46.627Z"
   },
   {
    "duration": 13,
    "start_time": "2023-02-28T20:42:46.654Z"
   },
   {
    "duration": 5,
    "start_time": "2023-02-28T20:42:46.669Z"
   },
   {
    "duration": 15,
    "start_time": "2023-02-28T20:42:46.676Z"
   },
   {
    "duration": 21,
    "start_time": "2023-02-28T20:42:46.693Z"
   },
   {
    "duration": 21,
    "start_time": "2023-02-28T20:42:46.745Z"
   },
   {
    "duration": 9,
    "start_time": "2023-02-28T20:42:46.767Z"
   },
   {
    "duration": 10,
    "start_time": "2023-02-28T20:42:46.777Z"
   },
   {
    "duration": 84,
    "start_time": "2023-02-28T20:42:46.788Z"
   },
   {
    "duration": 4,
    "start_time": "2023-02-28T20:42:46.873Z"
   },
   {
    "duration": 14,
    "start_time": "2023-02-28T20:42:46.879Z"
   },
   {
    "duration": 4,
    "start_time": "2023-02-28T20:42:46.895Z"
   },
   {
    "duration": 255,
    "start_time": "2023-02-28T20:42:46.901Z"
   },
   {
    "duration": 4,
    "start_time": "2023-02-28T20:42:47.159Z"
   },
   {
    "duration": 305,
    "start_time": "2023-02-28T20:42:47.166Z"
   },
   {
    "duration": 5,
    "start_time": "2023-02-28T20:42:47.473Z"
   },
   {
    "duration": 43,
    "start_time": "2023-02-28T20:42:47.480Z"
   },
   {
    "duration": 389,
    "start_time": "2023-02-28T20:42:47.524Z"
   },
   {
    "duration": 315,
    "start_time": "2023-02-28T20:42:47.914Z"
   },
   {
    "duration": 335,
    "start_time": "2023-02-28T20:42:48.231Z"
   },
   {
    "duration": 333,
    "start_time": "2023-02-28T20:42:48.567Z"
   },
   {
    "duration": 24,
    "start_time": "2023-02-28T20:42:48.901Z"
   },
   {
    "duration": 19,
    "start_time": "2023-02-28T20:42:48.926Z"
   },
   {
    "duration": 219,
    "start_time": "2023-02-28T20:42:48.947Z"
   },
   {
    "duration": 5,
    "start_time": "2023-02-28T20:42:49.167Z"
   },
   {
    "duration": 17,
    "start_time": "2023-02-28T20:42:49.173Z"
   },
   {
    "duration": 5,
    "start_time": "2023-02-28T20:42:49.192Z"
   },
   {
    "duration": 223,
    "start_time": "2023-02-28T20:42:49.199Z"
   },
   {
    "duration": 57,
    "start_time": "2023-02-28T20:42:49.424Z"
   },
   {
    "duration": 429,
    "start_time": "2023-02-28T20:42:49.483Z"
   },
   {
    "duration": 142,
    "start_time": "2023-02-28T20:42:49.914Z"
   },
   {
    "duration": 332,
    "start_time": "2023-02-28T20:42:50.058Z"
   },
   {
    "duration": 379,
    "start_time": "2023-02-28T20:42:50.393Z"
   },
   {
    "duration": 316,
    "start_time": "2023-02-28T20:42:50.774Z"
   },
   {
    "duration": 328,
    "start_time": "2023-02-28T20:42:51.092Z"
   },
   {
    "duration": 389,
    "start_time": "2023-02-28T20:42:51.422Z"
   },
   {
    "duration": 44,
    "start_time": "2023-02-28T20:44:54.425Z"
   },
   {
    "duration": 273,
    "start_time": "2023-02-28T20:44:59.615Z"
   },
   {
    "duration": 271,
    "start_time": "2023-02-28T20:45:50.034Z"
   },
   {
    "duration": 161,
    "start_time": "2023-02-28T20:45:59.168Z"
   },
   {
    "duration": 161,
    "start_time": "2023-02-28T20:47:12.943Z"
   },
   {
    "duration": 152,
    "start_time": "2023-02-28T20:47:17.254Z"
   },
   {
    "duration": 187,
    "start_time": "2023-02-28T20:47:27.482Z"
   },
   {
    "duration": 152,
    "start_time": "2023-02-28T20:52:06.170Z"
   },
   {
    "duration": 147,
    "start_time": "2023-02-28T20:53:19.909Z"
   },
   {
    "duration": 316,
    "start_time": "2023-02-28T20:54:14.329Z"
   },
   {
    "duration": 473,
    "start_time": "2023-02-28T20:54:22.732Z"
   },
   {
    "duration": 344,
    "start_time": "2023-02-28T21:04:16.755Z"
   },
   {
    "duration": 564,
    "start_time": "2023-03-01T04:00:03.031Z"
   },
   {
    "duration": 15,
    "start_time": "2023-03-01T04:00:03.598Z"
   },
   {
    "duration": 88,
    "start_time": "2023-03-01T04:00:03.615Z"
   },
   {
    "duration": 2554,
    "start_time": "2023-03-01T04:00:03.705Z"
   },
   {
    "duration": 9,
    "start_time": "2023-03-01T04:00:06.262Z"
   },
   {
    "duration": 20,
    "start_time": "2023-03-01T04:00:06.273Z"
   },
   {
    "duration": 39,
    "start_time": "2023-03-01T04:00:06.295Z"
   },
   {
    "duration": 7,
    "start_time": "2023-03-01T04:00:06.336Z"
   },
   {
    "duration": 9,
    "start_time": "2023-03-01T04:00:06.345Z"
   },
   {
    "duration": 16,
    "start_time": "2023-03-01T04:00:06.356Z"
   },
   {
    "duration": 8,
    "start_time": "2023-03-01T04:00:06.374Z"
   },
   {
    "duration": 21,
    "start_time": "2023-03-01T04:00:06.384Z"
   },
   {
    "duration": 8,
    "start_time": "2023-03-01T04:00:06.407Z"
   },
   {
    "duration": 12,
    "start_time": "2023-03-01T04:00:06.418Z"
   },
   {
    "duration": 9,
    "start_time": "2023-03-01T04:00:06.432Z"
   },
   {
    "duration": 8,
    "start_time": "2023-03-01T04:00:06.443Z"
   },
   {
    "duration": 14,
    "start_time": "2023-03-01T04:00:06.453Z"
   },
   {
    "duration": 58,
    "start_time": "2023-03-01T04:00:06.469Z"
   },
   {
    "duration": 22,
    "start_time": "2023-03-01T04:00:06.529Z"
   },
   {
    "duration": 9,
    "start_time": "2023-03-01T04:00:06.552Z"
   },
   {
    "duration": 22,
    "start_time": "2023-03-01T04:00:06.562Z"
   },
   {
    "duration": 82,
    "start_time": "2023-03-01T04:00:06.586Z"
   },
   {
    "duration": 5,
    "start_time": "2023-03-01T04:00:06.669Z"
   },
   {
    "duration": 35,
    "start_time": "2023-03-01T04:00:06.675Z"
   },
   {
    "duration": 5,
    "start_time": "2023-03-01T04:00:06.711Z"
   },
   {
    "duration": 245,
    "start_time": "2023-03-01T04:00:06.718Z"
   },
   {
    "duration": 4,
    "start_time": "2023-03-01T04:00:06.965Z"
   },
   {
    "duration": 392,
    "start_time": "2023-03-01T04:00:06.970Z"
   },
   {
    "duration": 4,
    "start_time": "2023-03-01T04:00:07.364Z"
   },
   {
    "duration": 43,
    "start_time": "2023-03-01T04:00:07.370Z"
   },
   {
    "duration": 337,
    "start_time": "2023-03-01T04:00:07.415Z"
   },
   {
    "duration": 356,
    "start_time": "2023-03-01T04:00:07.754Z"
   },
   {
    "duration": 360,
    "start_time": "2023-03-01T04:00:08.112Z"
   },
   {
    "duration": 353,
    "start_time": "2023-03-01T04:00:08.474Z"
   },
   {
    "duration": 23,
    "start_time": "2023-03-01T04:00:08.829Z"
   },
   {
    "duration": 8,
    "start_time": "2023-03-01T04:00:08.853Z"
   },
   {
    "duration": 211,
    "start_time": "2023-03-01T04:00:08.863Z"
   },
   {
    "duration": 5,
    "start_time": "2023-03-01T04:00:09.076Z"
   },
   {
    "duration": 10,
    "start_time": "2023-03-01T04:00:09.082Z"
   },
   {
    "duration": 6,
    "start_time": "2023-03-01T04:00:09.105Z"
   },
   {
    "duration": 233,
    "start_time": "2023-03-01T04:00:09.116Z"
   },
   {
    "duration": 66,
    "start_time": "2023-03-01T04:00:09.350Z"
   },
   {
    "duration": 458,
    "start_time": "2023-03-01T04:00:09.418Z"
   },
   {
    "duration": 159,
    "start_time": "2023-03-01T04:00:09.878Z"
   },
   {
    "duration": 343,
    "start_time": "2023-03-01T04:00:10.039Z"
   },
   {
    "duration": 328,
    "start_time": "2023-03-01T04:00:10.384Z"
   },
   {
    "duration": 312,
    "start_time": "2023-03-01T04:00:10.713Z"
   },
   {
    "duration": 316,
    "start_time": "2023-03-01T04:00:11.027Z"
   },
   {
    "duration": 283,
    "start_time": "2023-03-01T04:00:11.345Z"
   },
   {
    "duration": 340,
    "start_time": "2023-03-01T04:00:11.630Z"
   },
   {
    "duration": 343,
    "start_time": "2023-03-01T04:00:11.972Z"
   },
   {
    "duration": 8,
    "start_time": "2023-03-01T04:15:23.509Z"
   },
   {
    "duration": 17,
    "start_time": "2023-03-01T04:15:58.290Z"
   },
   {
    "duration": 13,
    "start_time": "2023-03-01T04:20:07.824Z"
   },
   {
    "duration": 1631,
    "start_time": "2023-03-01T04:20:39.201Z"
   },
   {
    "duration": 100,
    "start_time": "2023-03-01T04:44:52.992Z"
   },
   {
    "duration": 88,
    "start_time": "2023-03-01T04:48:35.193Z"
   },
   {
    "duration": 104,
    "start_time": "2023-03-01T04:48:52.663Z"
   },
   {
    "duration": 84,
    "start_time": "2023-03-01T04:58:34.973Z"
   },
   {
    "duration": 109,
    "start_time": "2023-03-01T04:58:50.947Z"
   },
   {
    "duration": 72,
    "start_time": "2023-03-01T04:58:58.236Z"
   },
   {
    "duration": 75,
    "start_time": "2023-03-01T05:01:00.523Z"
   },
   {
    "duration": 77,
    "start_time": "2023-03-01T05:01:09.898Z"
   },
   {
    "duration": 76,
    "start_time": "2023-03-01T05:01:18.843Z"
   },
   {
    "duration": 17,
    "start_time": "2023-03-01T05:02:41.693Z"
   },
   {
    "duration": 15,
    "start_time": "2023-03-01T05:39:18.126Z"
   },
   {
    "duration": 103,
    "start_time": "2023-03-01T05:40:23.650Z"
   },
   {
    "duration": 10,
    "start_time": "2023-03-01T05:40:38.311Z"
   },
   {
    "duration": 21,
    "start_time": "2023-03-01T05:40:59.418Z"
   },
   {
    "duration": 24,
    "start_time": "2023-03-01T05:41:15.910Z"
   },
   {
    "duration": 2094,
    "start_time": "2023-03-01T05:42:09.564Z"
   },
   {
    "duration": 2185,
    "start_time": "2023-03-01T05:42:59.303Z"
   },
   {
    "duration": 2343,
    "start_time": "2023-03-01T05:46:21.763Z"
   },
   {
    "duration": 2574,
    "start_time": "2023-03-01T05:46:44.987Z"
   },
   {
    "duration": 2361,
    "start_time": "2023-03-01T05:47:08.337Z"
   },
   {
    "duration": 2560,
    "start_time": "2023-03-01T05:47:41.103Z"
   },
   {
    "duration": 10,
    "start_time": "2023-03-01T05:54:41.854Z"
   },
   {
    "duration": 10,
    "start_time": "2023-03-01T05:54:49.916Z"
   },
   {
    "duration": 610,
    "start_time": "2023-03-01T05:56:03.745Z"
   },
   {
    "duration": 27,
    "start_time": "2023-03-01T05:56:04.358Z"
   },
   {
    "duration": 111,
    "start_time": "2023-03-01T05:56:04.388Z"
   },
   {
    "duration": 2922,
    "start_time": "2023-03-01T05:56:04.501Z"
   },
   {
    "duration": 16,
    "start_time": "2023-03-01T05:56:07.428Z"
   },
   {
    "duration": 15,
    "start_time": "2023-03-01T05:56:07.447Z"
   },
   {
    "duration": 60,
    "start_time": "2023-03-01T05:56:07.465Z"
   },
   {
    "duration": 15,
    "start_time": "2023-03-01T05:56:07.528Z"
   },
   {
    "duration": 12,
    "start_time": "2023-03-01T05:56:07.547Z"
   },
   {
    "duration": 43,
    "start_time": "2023-03-01T05:56:07.562Z"
   },
   {
    "duration": 13,
    "start_time": "2023-03-01T05:56:07.607Z"
   },
   {
    "duration": 23,
    "start_time": "2023-03-01T05:56:07.623Z"
   },
   {
    "duration": 11,
    "start_time": "2023-03-01T05:56:07.649Z"
   },
   {
    "duration": 45,
    "start_time": "2023-03-01T05:56:07.664Z"
   },
   {
    "duration": 33,
    "start_time": "2023-03-01T05:56:07.715Z"
   },
   {
    "duration": 10,
    "start_time": "2023-03-01T05:56:07.751Z"
   },
   {
    "duration": 49,
    "start_time": "2023-03-01T05:56:07.763Z"
   },
   {
    "duration": 34,
    "start_time": "2023-03-01T05:56:07.815Z"
   },
   {
    "duration": 27,
    "start_time": "2023-03-01T05:56:07.852Z"
   },
   {
    "duration": 11,
    "start_time": "2023-03-01T05:56:07.905Z"
   },
   {
    "duration": 19,
    "start_time": "2023-03-01T05:56:07.918Z"
   },
   {
    "duration": 110,
    "start_time": "2023-03-01T05:56:07.940Z"
   },
   {
    "duration": 7,
    "start_time": "2023-03-01T05:56:08.052Z"
   },
   {
    "duration": 26,
    "start_time": "2023-03-01T05:56:08.062Z"
   },
   {
    "duration": 18,
    "start_time": "2023-03-01T05:56:08.091Z"
   },
   {
    "duration": 298,
    "start_time": "2023-03-01T05:56:08.110Z"
   },
   {
    "duration": 5,
    "start_time": "2023-03-01T05:56:08.410Z"
   },
   {
    "duration": 387,
    "start_time": "2023-03-01T05:56:08.417Z"
   },
   {
    "duration": 6,
    "start_time": "2023-03-01T05:56:08.807Z"
   },
   {
    "duration": 49,
    "start_time": "2023-03-01T05:56:08.816Z"
   },
   {
    "duration": 441,
    "start_time": "2023-03-01T05:56:08.868Z"
   },
   {
    "duration": 361,
    "start_time": "2023-03-01T05:56:09.311Z"
   },
   {
    "duration": 390,
    "start_time": "2023-03-01T05:56:09.675Z"
   },
   {
    "duration": 416,
    "start_time": "2023-03-01T05:56:10.069Z"
   },
   {
    "duration": 36,
    "start_time": "2023-03-01T05:56:10.487Z"
   },
   {
    "duration": 15,
    "start_time": "2023-03-01T05:56:10.525Z"
   },
   {
    "duration": 289,
    "start_time": "2023-03-01T05:56:10.543Z"
   },
   {
    "duration": 7,
    "start_time": "2023-03-01T05:56:10.835Z"
   },
   {
    "duration": 11,
    "start_time": "2023-03-01T05:56:10.844Z"
   },
   {
    "duration": 7,
    "start_time": "2023-03-01T05:56:10.857Z"
   },
   {
    "duration": 265,
    "start_time": "2023-03-01T05:56:10.868Z"
   },
   {
    "duration": 54,
    "start_time": "2023-03-01T05:56:11.135Z"
   },
   {
    "duration": 510,
    "start_time": "2023-03-01T05:56:11.207Z"
   },
   {
    "duration": 168,
    "start_time": "2023-03-01T05:56:11.719Z"
   },
   {
    "duration": 389,
    "start_time": "2023-03-01T05:56:11.890Z"
   },
   {
    "duration": 345,
    "start_time": "2023-03-01T05:56:12.281Z"
   },
   {
    "duration": 324,
    "start_time": "2023-03-01T05:56:12.627Z"
   },
   {
    "duration": 380,
    "start_time": "2023-03-01T05:56:12.953Z"
   },
   {
    "duration": 177,
    "start_time": "2023-03-01T05:56:13.335Z"
   },
   {
    "duration": 479,
    "start_time": "2023-03-01T05:56:13.514Z"
   },
   {
    "duration": 421,
    "start_time": "2023-03-01T05:56:13.995Z"
   },
   {
    "duration": 603,
    "start_time": "2023-03-01T05:57:04.797Z"
   },
   {
    "duration": 26,
    "start_time": "2023-03-01T05:57:05.404Z"
   },
   {
    "duration": 144,
    "start_time": "2023-03-01T05:57:05.433Z"
   },
   {
    "duration": 2700,
    "start_time": "2023-03-01T05:57:05.579Z"
   },
   {
    "duration": 11,
    "start_time": "2023-03-01T05:57:08.281Z"
   },
   {
    "duration": 10,
    "start_time": "2023-03-01T05:57:08.294Z"
   },
   {
    "duration": 30,
    "start_time": "2023-03-01T05:57:08.309Z"
   },
   {
    "duration": 10,
    "start_time": "2023-03-01T05:57:08.342Z"
   },
   {
    "duration": 23,
    "start_time": "2023-03-01T05:57:08.354Z"
   },
   {
    "duration": 12,
    "start_time": "2023-03-01T05:57:08.379Z"
   },
   {
    "duration": 10,
    "start_time": "2023-03-01T05:57:08.407Z"
   },
   {
    "duration": 12,
    "start_time": "2023-03-01T05:57:08.420Z"
   },
   {
    "duration": 12,
    "start_time": "2023-03-01T05:57:08.435Z"
   },
   {
    "duration": 52,
    "start_time": "2023-03-01T05:57:08.454Z"
   },
   {
    "duration": 15,
    "start_time": "2023-03-01T05:57:08.509Z"
   },
   {
    "duration": 17,
    "start_time": "2023-03-01T05:57:08.527Z"
   },
   {
    "duration": 21,
    "start_time": "2023-03-01T05:57:08.547Z"
   },
   {
    "duration": 71,
    "start_time": "2023-03-01T05:57:08.570Z"
   },
   {
    "duration": 25,
    "start_time": "2023-03-01T05:57:08.644Z"
   },
   {
    "duration": 38,
    "start_time": "2023-03-01T05:57:08.671Z"
   },
   {
    "duration": 13,
    "start_time": "2023-03-01T05:57:08.711Z"
   },
   {
    "duration": 115,
    "start_time": "2023-03-01T05:57:08.727Z"
   },
   {
    "duration": 10,
    "start_time": "2023-03-01T05:57:08.845Z"
   },
   {
    "duration": 38,
    "start_time": "2023-03-01T05:57:08.857Z"
   },
   {
    "duration": 6,
    "start_time": "2023-03-01T05:57:08.897Z"
   },
   {
    "duration": 267,
    "start_time": "2023-03-01T05:57:08.907Z"
   },
   {
    "duration": 4,
    "start_time": "2023-03-01T05:57:09.177Z"
   },
   {
    "duration": 302,
    "start_time": "2023-03-01T05:57:09.183Z"
   },
   {
    "duration": 6,
    "start_time": "2023-03-01T05:57:09.487Z"
   },
   {
    "duration": 54,
    "start_time": "2023-03-01T05:57:09.506Z"
   },
   {
    "duration": 504,
    "start_time": "2023-03-01T05:57:09.562Z"
   },
   {
    "duration": 497,
    "start_time": "2023-03-01T05:57:10.069Z"
   },
   {
    "duration": 409,
    "start_time": "2023-03-01T05:57:10.569Z"
   },
   {
    "duration": 419,
    "start_time": "2023-03-01T05:57:10.980Z"
   },
   {
    "duration": 43,
    "start_time": "2023-03-01T05:57:11.404Z"
   },
   {
    "duration": 10,
    "start_time": "2023-03-01T05:57:11.449Z"
   },
   {
    "duration": 280,
    "start_time": "2023-03-01T05:57:11.462Z"
   },
   {
    "duration": 7,
    "start_time": "2023-03-01T05:57:11.744Z"
   },
   {
    "duration": 46,
    "start_time": "2023-03-01T05:57:11.753Z"
   },
   {
    "duration": 24,
    "start_time": "2023-03-01T05:57:11.802Z"
   },
   {
    "duration": 315,
    "start_time": "2023-03-01T05:57:11.832Z"
   },
   {
    "duration": 66,
    "start_time": "2023-03-01T05:57:12.150Z"
   },
   {
    "duration": 542,
    "start_time": "2023-03-01T05:57:12.218Z"
   },
   {
    "duration": 172,
    "start_time": "2023-03-01T05:57:12.763Z"
   },
   {
    "duration": 503,
    "start_time": "2023-03-01T05:57:12.937Z"
   },
   {
    "duration": 387,
    "start_time": "2023-03-01T05:57:13.442Z"
   },
   {
    "duration": 466,
    "start_time": "2023-03-01T05:57:13.831Z"
   },
   {
    "duration": 424,
    "start_time": "2023-03-01T05:57:14.300Z"
   },
   {
    "duration": 269,
    "start_time": "2023-03-01T05:57:14.727Z"
   },
   {
    "duration": 558,
    "start_time": "2023-03-01T05:57:14.999Z"
   },
   {
    "duration": 451,
    "start_time": "2023-03-01T05:57:15.559Z"
   },
   {
    "duration": 2600,
    "start_time": "2023-03-01T05:57:16.012Z"
   },
   {
    "duration": 78,
    "start_time": "2023-03-01T05:59:09.744Z"
   },
   {
    "duration": 14,
    "start_time": "2023-03-01T06:00:14.562Z"
   },
   {
    "duration": 5,
    "start_time": "2023-03-01T06:00:32.761Z"
   },
   {
    "duration": 4,
    "start_time": "2023-03-01T06:00:43.857Z"
   },
   {
    "duration": 15,
    "start_time": "2023-03-01T06:01:11.768Z"
   },
   {
    "duration": 6,
    "start_time": "2023-03-01T09:09:27.029Z"
   },
   {
    "duration": 581,
    "start_time": "2023-03-01T09:09:53.664Z"
   },
   {
    "duration": 15,
    "start_time": "2023-03-01T09:09:54.247Z"
   },
   {
    "duration": 86,
    "start_time": "2023-03-01T09:09:54.264Z"
   },
   {
    "duration": 2440,
    "start_time": "2023-03-01T09:09:54.351Z"
   },
   {
    "duration": 9,
    "start_time": "2023-03-01T09:09:56.794Z"
   },
   {
    "duration": 9,
    "start_time": "2023-03-01T09:09:56.805Z"
   },
   {
    "duration": 22,
    "start_time": "2023-03-01T09:09:56.816Z"
   },
   {
    "duration": 9,
    "start_time": "2023-03-01T09:09:56.839Z"
   },
   {
    "duration": 8,
    "start_time": "2023-03-01T09:09:56.849Z"
   },
   {
    "duration": 20,
    "start_time": "2023-03-01T09:09:56.859Z"
   },
   {
    "duration": 33,
    "start_time": "2023-03-01T09:09:56.881Z"
   },
   {
    "duration": 8,
    "start_time": "2023-03-01T09:09:56.916Z"
   },
   {
    "duration": 9,
    "start_time": "2023-03-01T09:09:56.926Z"
   },
   {
    "duration": 8,
    "start_time": "2023-03-01T09:09:56.939Z"
   },
   {
    "duration": 10,
    "start_time": "2023-03-01T09:09:56.949Z"
   },
   {
    "duration": 6,
    "start_time": "2023-03-01T09:09:56.960Z"
   },
   {
    "duration": 46,
    "start_time": "2023-03-01T09:09:56.968Z"
   },
   {
    "duration": 23,
    "start_time": "2023-03-01T09:09:57.016Z"
   },
   {
    "duration": 22,
    "start_time": "2023-03-01T09:09:57.041Z"
   },
   {
    "duration": 8,
    "start_time": "2023-03-01T09:09:57.065Z"
   },
   {
    "duration": 41,
    "start_time": "2023-03-01T09:09:57.075Z"
   },
   {
    "duration": 66,
    "start_time": "2023-03-01T09:09:57.118Z"
   },
   {
    "duration": 4,
    "start_time": "2023-03-01T09:09:57.186Z"
   },
   {
    "duration": 25,
    "start_time": "2023-03-01T09:09:57.191Z"
   },
   {
    "duration": 3,
    "start_time": "2023-03-01T09:09:57.218Z"
   },
   {
    "duration": 228,
    "start_time": "2023-03-01T09:09:57.223Z"
   },
   {
    "duration": 3,
    "start_time": "2023-03-01T09:09:57.453Z"
   },
   {
    "duration": 279,
    "start_time": "2023-03-01T09:09:57.458Z"
   },
   {
    "duration": 4,
    "start_time": "2023-03-01T09:09:57.739Z"
   },
   {
    "duration": 36,
    "start_time": "2023-03-01T09:09:57.745Z"
   },
   {
    "duration": 433,
    "start_time": "2023-03-01T09:09:57.783Z"
   },
   {
    "duration": 327,
    "start_time": "2023-03-01T09:09:58.218Z"
   },
   {
    "duration": 389,
    "start_time": "2023-03-01T09:09:58.546Z"
   },
   {
    "duration": 324,
    "start_time": "2023-03-01T09:09:58.937Z"
   },
   {
    "duration": 25,
    "start_time": "2023-03-01T09:09:59.263Z"
   },
   {
    "duration": 20,
    "start_time": "2023-03-01T09:09:59.290Z"
   },
   {
    "duration": 231,
    "start_time": "2023-03-01T09:09:59.312Z"
   },
   {
    "duration": 5,
    "start_time": "2023-03-01T09:09:59.544Z"
   },
   {
    "duration": 12,
    "start_time": "2023-03-01T09:09:59.550Z"
   },
   {
    "duration": 9,
    "start_time": "2023-03-01T09:09:59.564Z"
   },
   {
    "duration": 230,
    "start_time": "2023-03-01T09:09:59.577Z"
   },
   {
    "duration": 50,
    "start_time": "2023-03-01T09:09:59.808Z"
   },
   {
    "duration": 64,
    "start_time": "2023-03-01T09:09:59.860Z"
   },
   {
    "duration": 447,
    "start_time": "2023-03-01T09:09:59.926Z"
   },
   {
    "duration": 156,
    "start_time": "2023-03-01T09:10:00.375Z"
   },
   {
    "duration": 348,
    "start_time": "2023-03-01T09:10:00.532Z"
   },
   {
    "duration": 384,
    "start_time": "2023-03-01T09:10:00.882Z"
   },
   {
    "duration": 343,
    "start_time": "2023-03-01T09:10:01.268Z"
   },
   {
    "duration": 343,
    "start_time": "2023-03-01T09:10:01.613Z"
   },
   {
    "duration": 177,
    "start_time": "2023-03-01T09:10:01.959Z"
   },
   {
    "duration": 454,
    "start_time": "2023-03-01T09:10:02.138Z"
   },
   {
    "duration": 343,
    "start_time": "2023-03-01T09:10:02.595Z"
   },
   {
    "duration": 2597,
    "start_time": "2023-03-01T09:10:02.939Z"
   },
   {
    "duration": 16,
    "start_time": "2023-03-01T09:10:05.538Z"
   },
   {
    "duration": 548,
    "start_time": "2023-03-01T09:10:58.492Z"
   },
   {
    "duration": 16,
    "start_time": "2023-03-01T09:10:59.042Z"
   },
   {
    "duration": 99,
    "start_time": "2023-03-01T09:10:59.059Z"
   },
   {
    "duration": 2358,
    "start_time": "2023-03-01T09:10:59.161Z"
   },
   {
    "duration": 9,
    "start_time": "2023-03-01T09:11:01.521Z"
   },
   {
    "duration": 42,
    "start_time": "2023-03-01T09:11:01.532Z"
   },
   {
    "duration": 44,
    "start_time": "2023-03-01T09:11:01.575Z"
   },
   {
    "duration": 38,
    "start_time": "2023-03-01T09:11:01.621Z"
   },
   {
    "duration": 36,
    "start_time": "2023-03-01T09:11:01.661Z"
   },
   {
    "duration": 26,
    "start_time": "2023-03-01T09:11:01.700Z"
   },
   {
    "duration": 26,
    "start_time": "2023-03-01T09:11:01.728Z"
   },
   {
    "duration": 23,
    "start_time": "2023-03-01T09:11:01.756Z"
   },
   {
    "duration": 10,
    "start_time": "2023-03-01T09:11:01.781Z"
   },
   {
    "duration": 50,
    "start_time": "2023-03-01T09:11:01.793Z"
   },
   {
    "duration": 30,
    "start_time": "2023-03-01T09:11:01.844Z"
   },
   {
    "duration": 39,
    "start_time": "2023-03-01T09:11:01.876Z"
   },
   {
    "duration": 35,
    "start_time": "2023-03-01T09:11:01.917Z"
   },
   {
    "duration": 25,
    "start_time": "2023-03-01T09:11:01.954Z"
   },
   {
    "duration": 47,
    "start_time": "2023-03-01T09:11:01.981Z"
   },
   {
    "duration": 21,
    "start_time": "2023-03-01T09:11:02.030Z"
   },
   {
    "duration": 21,
    "start_time": "2023-03-01T09:11:02.054Z"
   },
   {
    "duration": 86,
    "start_time": "2023-03-01T09:11:02.077Z"
   },
   {
    "duration": 5,
    "start_time": "2023-03-01T09:11:02.165Z"
   },
   {
    "duration": 38,
    "start_time": "2023-03-01T09:11:02.171Z"
   },
   {
    "duration": 54,
    "start_time": "2023-03-01T09:11:02.211Z"
   },
   {
    "duration": 238,
    "start_time": "2023-03-01T09:11:02.267Z"
   },
   {
    "duration": 4,
    "start_time": "2023-03-01T09:11:02.507Z"
   },
   {
    "duration": 273,
    "start_time": "2023-03-01T09:11:02.516Z"
   },
   {
    "duration": 5,
    "start_time": "2023-03-01T09:11:02.791Z"
   },
   {
    "duration": 35,
    "start_time": "2023-03-01T09:11:02.798Z"
   },
   {
    "duration": 400,
    "start_time": "2023-03-01T09:11:02.835Z"
   },
   {
    "duration": 333,
    "start_time": "2023-03-01T09:11:03.236Z"
   },
   {
    "duration": 359,
    "start_time": "2023-03-01T09:11:03.571Z"
   },
   {
    "duration": 397,
    "start_time": "2023-03-01T09:11:03.932Z"
   },
   {
    "duration": 27,
    "start_time": "2023-03-01T09:11:04.331Z"
   },
   {
    "duration": 9,
    "start_time": "2023-03-01T09:11:04.360Z"
   },
   {
    "duration": 236,
    "start_time": "2023-03-01T09:11:04.370Z"
   },
   {
    "duration": 5,
    "start_time": "2023-03-01T09:11:04.608Z"
   },
   {
    "duration": 16,
    "start_time": "2023-03-01T09:11:04.615Z"
   },
   {
    "duration": 9,
    "start_time": "2023-03-01T09:11:04.633Z"
   },
   {
    "duration": 237,
    "start_time": "2023-03-01T09:11:04.643Z"
   },
   {
    "duration": 62,
    "start_time": "2023-03-01T09:11:04.882Z"
   },
   {
    "duration": 15,
    "start_time": "2023-03-01T09:11:04.946Z"
   },
   {
    "duration": 495,
    "start_time": "2023-03-01T09:11:04.962Z"
   },
   {
    "duration": 179,
    "start_time": "2023-03-01T09:11:05.459Z"
   },
   {
    "duration": 433,
    "start_time": "2023-03-01T09:11:05.640Z"
   },
   {
    "duration": 389,
    "start_time": "2023-03-01T09:11:06.075Z"
   },
   {
    "duration": 368,
    "start_time": "2023-03-01T09:11:06.465Z"
   },
   {
    "duration": 369,
    "start_time": "2023-03-01T09:11:06.835Z"
   },
   {
    "duration": 184,
    "start_time": "2023-03-01T09:11:07.207Z"
   },
   {
    "duration": 515,
    "start_time": "2023-03-01T09:11:07.394Z"
   },
   {
    "duration": 417,
    "start_time": "2023-03-01T09:11:07.910Z"
   },
   {
    "duration": 2563,
    "start_time": "2023-03-01T09:11:08.329Z"
   },
   {
    "duration": 24,
    "start_time": "2023-03-01T09:11:10.894Z"
   },
   {
    "duration": 10,
    "start_time": "2023-03-01T09:15:43.268Z"
   },
   {
    "duration": 15,
    "start_time": "2023-03-01T09:18:50.936Z"
   },
   {
    "duration": 13,
    "start_time": "2023-03-01T09:19:22.774Z"
   },
   {
    "duration": 14,
    "start_time": "2023-03-01T09:47:24.706Z"
   },
   {
    "duration": 18,
    "start_time": "2023-03-01T09:47:31.914Z"
   },
   {
    "duration": 266,
    "start_time": "2023-03-01T09:49:57.415Z"
   },
   {
    "duration": 10,
    "start_time": "2023-03-01T09:51:15.114Z"
   },
   {
    "duration": 17,
    "start_time": "2023-03-01T09:51:24.660Z"
   },
   {
    "duration": 1246,
    "start_time": "2023-03-01T09:51:37.456Z"
   },
   {
    "duration": 1167,
    "start_time": "2023-03-01T09:51:52.536Z"
   },
   {
    "duration": 525,
    "start_time": "2023-03-01T09:52:16.912Z"
   },
   {
    "duration": 15,
    "start_time": "2023-03-01T09:52:17.439Z"
   },
   {
    "duration": 90,
    "start_time": "2023-03-01T09:52:17.456Z"
   },
   {
    "duration": 2347,
    "start_time": "2023-03-01T09:52:17.548Z"
   },
   {
    "duration": 10,
    "start_time": "2023-03-01T09:52:19.898Z"
   },
   {
    "duration": 9,
    "start_time": "2023-03-01T09:52:19.910Z"
   },
   {
    "duration": 23,
    "start_time": "2023-03-01T09:52:19.921Z"
   },
   {
    "duration": 10,
    "start_time": "2023-03-01T09:52:19.945Z"
   },
   {
    "duration": 18,
    "start_time": "2023-03-01T09:52:19.956Z"
   },
   {
    "duration": 31,
    "start_time": "2023-03-01T09:52:19.976Z"
   },
   {
    "duration": 35,
    "start_time": "2023-03-01T09:52:20.009Z"
   },
   {
    "duration": 6,
    "start_time": "2023-03-01T09:52:20.046Z"
   },
   {
    "duration": 22,
    "start_time": "2023-03-01T09:52:20.055Z"
   },
   {
    "duration": 12,
    "start_time": "2023-03-01T09:52:20.080Z"
   },
   {
    "duration": 14,
    "start_time": "2023-03-01T09:52:20.094Z"
   },
   {
    "duration": 11,
    "start_time": "2023-03-01T09:52:20.110Z"
   },
   {
    "duration": 16,
    "start_time": "2023-03-01T09:52:20.123Z"
   },
   {
    "duration": 25,
    "start_time": "2023-03-01T09:52:20.141Z"
   },
   {
    "duration": 44,
    "start_time": "2023-03-01T09:52:20.168Z"
   },
   {
    "duration": 8,
    "start_time": "2023-03-01T09:52:20.214Z"
   },
   {
    "duration": 15,
    "start_time": "2023-03-01T09:52:20.224Z"
   },
   {
    "duration": 78,
    "start_time": "2023-03-01T09:52:20.241Z"
   },
   {
    "duration": 4,
    "start_time": "2023-03-01T09:52:20.321Z"
   },
   {
    "duration": 20,
    "start_time": "2023-03-01T09:52:20.326Z"
   },
   {
    "duration": 3,
    "start_time": "2023-03-01T09:52:20.348Z"
   },
   {
    "duration": 236,
    "start_time": "2023-03-01T09:52:20.353Z"
   },
   {
    "duration": 3,
    "start_time": "2023-03-01T09:52:20.591Z"
   },
   {
    "duration": 280,
    "start_time": "2023-03-01T09:52:20.604Z"
   },
   {
    "duration": 4,
    "start_time": "2023-03-01T09:52:20.886Z"
   },
   {
    "duration": 41,
    "start_time": "2023-03-01T09:52:20.892Z"
   },
   {
    "duration": 413,
    "start_time": "2023-03-01T09:52:20.935Z"
   },
   {
    "duration": 320,
    "start_time": "2023-03-01T09:52:21.350Z"
   },
   {
    "duration": 336,
    "start_time": "2023-03-01T09:52:21.671Z"
   },
   {
    "duration": 320,
    "start_time": "2023-03-01T09:52:22.009Z"
   },
   {
    "duration": 25,
    "start_time": "2023-03-01T09:52:22.331Z"
   },
   {
    "duration": 8,
    "start_time": "2023-03-01T09:52:22.358Z"
   },
   {
    "duration": 231,
    "start_time": "2023-03-01T09:52:22.368Z"
   },
   {
    "duration": 7,
    "start_time": "2023-03-01T09:52:22.600Z"
   },
   {
    "duration": 13,
    "start_time": "2023-03-01T09:52:22.608Z"
   },
   {
    "duration": 32,
    "start_time": "2023-03-01T09:52:22.623Z"
   },
   {
    "duration": 220,
    "start_time": "2023-03-01T09:52:22.659Z"
   },
   {
    "duration": 59,
    "start_time": "2023-03-01T09:52:22.881Z"
   },
   {
    "duration": 11,
    "start_time": "2023-03-01T09:52:22.941Z"
   },
   {
    "duration": 469,
    "start_time": "2023-03-01T09:52:22.953Z"
   },
   {
    "duration": 142,
    "start_time": "2023-03-01T09:52:23.424Z"
   },
   {
    "duration": 339,
    "start_time": "2023-03-01T09:52:23.567Z"
   },
   {
    "duration": 385,
    "start_time": "2023-03-01T09:52:23.908Z"
   },
   {
    "duration": 321,
    "start_time": "2023-03-01T09:52:24.295Z"
   },
   {
    "duration": 361,
    "start_time": "2023-03-01T09:52:24.618Z"
   },
   {
    "duration": 213,
    "start_time": "2023-03-01T09:52:24.981Z"
   },
   {
    "duration": 503,
    "start_time": "2023-03-01T09:52:25.196Z"
   },
   {
    "duration": 407,
    "start_time": "2023-03-01T09:52:25.700Z"
   },
   {
    "duration": 2415,
    "start_time": "2023-03-01T09:52:26.109Z"
   },
   {
    "duration": 13,
    "start_time": "2023-03-01T09:52:28.526Z"
   },
   {
    "duration": 18,
    "start_time": "2023-03-01T09:52:28.541Z"
   },
   {
    "duration": 1368,
    "start_time": "2023-03-01T09:52:28.560Z"
   },
   {
    "duration": 28712,
    "start_time": "2023-03-01T09:55:36.006Z"
   },
   {
    "duration": 187,
    "start_time": "2023-03-01T09:57:10.456Z"
   },
   {
    "duration": 363,
    "start_time": "2023-03-01T09:58:19.915Z"
   },
   {
    "duration": 310,
    "start_time": "2023-03-01T09:58:37.585Z"
   },
   {
    "duration": 359,
    "start_time": "2023-03-01T09:58:58.704Z"
   },
   {
    "duration": 197,
    "start_time": "2023-03-01T10:01:42.694Z"
   },
   {
    "duration": 486,
    "start_time": "2023-03-01T10:03:09.435Z"
   },
   {
    "duration": 458,
    "start_time": "2023-03-01T10:03:25.842Z"
   },
   {
    "duration": 341,
    "start_time": "2023-03-01T10:03:35.368Z"
   },
   {
    "duration": 5496,
    "start_time": "2023-03-01T10:03:48.495Z"
   },
   {
    "duration": 485,
    "start_time": "2023-03-01T10:04:04.839Z"
   },
   {
    "duration": 184,
    "start_time": "2023-03-01T10:05:19.156Z"
   },
   {
    "duration": 211,
    "start_time": "2023-03-01T10:05:58.128Z"
   },
   {
    "duration": 348,
    "start_time": "2023-03-01T10:06:50.716Z"
   },
   {
    "duration": 633,
    "start_time": "2023-03-01T10:07:32.378Z"
   },
   {
    "duration": 196,
    "start_time": "2023-03-01T10:14:04.450Z"
   },
   {
    "duration": 74,
    "start_time": "2023-03-01T10:15:51.965Z"
   },
   {
    "duration": 1337,
    "start_time": "2023-03-01T10:17:18.717Z"
   },
   {
    "duration": 567,
    "start_time": "2023-03-01T10:17:33.071Z"
   },
   {
    "duration": 168,
    "start_time": "2023-03-01T10:18:25.772Z"
   },
   {
    "duration": 19,
    "start_time": "2023-03-01T10:18:35.564Z"
   },
   {
    "duration": 197,
    "start_time": "2023-03-01T10:18:55.328Z"
   },
   {
    "duration": 363,
    "start_time": "2023-03-01T10:20:15.061Z"
   },
   {
    "duration": 186,
    "start_time": "2023-03-01T10:20:44.699Z"
   },
   {
    "duration": 567,
    "start_time": "2023-03-01T10:22:42.940Z"
   },
   {
    "duration": 10,
    "start_time": "2023-03-01T10:28:16.156Z"
   },
   {
    "duration": 17,
    "start_time": "2023-03-01T10:28:26.902Z"
   },
   {
    "duration": 169,
    "start_time": "2023-03-01T10:32:36.720Z"
   },
   {
    "duration": 198,
    "start_time": "2023-03-01T10:33:30.309Z"
   },
   {
    "duration": 543,
    "start_time": "2023-03-01T10:33:40.341Z"
   },
   {
    "duration": 23,
    "start_time": "2023-03-01T10:33:40.887Z"
   },
   {
    "duration": 78,
    "start_time": "2023-03-01T10:33:40.911Z"
   },
   {
    "duration": 2418,
    "start_time": "2023-03-01T10:33:41.005Z"
   },
   {
    "duration": 10,
    "start_time": "2023-03-01T10:33:43.426Z"
   },
   {
    "duration": 16,
    "start_time": "2023-03-01T10:33:43.438Z"
   },
   {
    "duration": 26,
    "start_time": "2023-03-01T10:33:43.456Z"
   },
   {
    "duration": 21,
    "start_time": "2023-03-01T10:33:43.484Z"
   },
   {
    "duration": 13,
    "start_time": "2023-03-01T10:33:43.507Z"
   },
   {
    "duration": 17,
    "start_time": "2023-03-01T10:33:43.522Z"
   },
   {
    "duration": 22,
    "start_time": "2023-03-01T10:33:43.541Z"
   },
   {
    "duration": 22,
    "start_time": "2023-03-01T10:33:43.565Z"
   },
   {
    "duration": 25,
    "start_time": "2023-03-01T10:33:43.589Z"
   },
   {
    "duration": 11,
    "start_time": "2023-03-01T10:33:43.618Z"
   },
   {
    "duration": 15,
    "start_time": "2023-03-01T10:33:43.631Z"
   },
   {
    "duration": 8,
    "start_time": "2023-03-01T10:33:43.648Z"
   },
   {
    "duration": 46,
    "start_time": "2023-03-01T10:33:43.659Z"
   },
   {
    "duration": 26,
    "start_time": "2023-03-01T10:33:43.708Z"
   },
   {
    "duration": 22,
    "start_time": "2023-03-01T10:33:43.736Z"
   },
   {
    "duration": 9,
    "start_time": "2023-03-01T10:33:43.759Z"
   },
   {
    "duration": 37,
    "start_time": "2023-03-01T10:33:43.770Z"
   },
   {
    "duration": 70,
    "start_time": "2023-03-01T10:33:43.808Z"
   },
   {
    "duration": 5,
    "start_time": "2023-03-01T10:33:43.879Z"
   },
   {
    "duration": 31,
    "start_time": "2023-03-01T10:33:43.904Z"
   },
   {
    "duration": 39,
    "start_time": "2023-03-01T10:33:43.937Z"
   },
   {
    "duration": 329,
    "start_time": "2023-03-01T10:33:43.978Z"
   },
   {
    "duration": 7,
    "start_time": "2023-03-01T10:33:44.315Z"
   },
   {
    "duration": 346,
    "start_time": "2023-03-01T10:33:44.326Z"
   },
   {
    "duration": 5,
    "start_time": "2023-03-01T10:33:44.675Z"
   },
   {
    "duration": 51,
    "start_time": "2023-03-01T10:33:44.682Z"
   },
   {
    "duration": 457,
    "start_time": "2023-03-01T10:33:44.735Z"
   },
   {
    "duration": 366,
    "start_time": "2023-03-01T10:33:45.195Z"
   },
   {
    "duration": 359,
    "start_time": "2023-03-01T10:33:45.563Z"
   },
   {
    "duration": 344,
    "start_time": "2023-03-01T10:33:45.924Z"
   },
   {
    "duration": 36,
    "start_time": "2023-03-01T10:33:46.270Z"
   },
   {
    "duration": 9,
    "start_time": "2023-03-01T10:33:46.308Z"
   },
   {
    "duration": 254,
    "start_time": "2023-03-01T10:33:46.319Z"
   },
   {
    "duration": 31,
    "start_time": "2023-03-01T10:33:46.576Z"
   },
   {
    "duration": 14,
    "start_time": "2023-03-01T10:33:46.609Z"
   },
   {
    "duration": 13,
    "start_time": "2023-03-01T10:33:46.625Z"
   },
   {
    "duration": 234,
    "start_time": "2023-03-01T10:33:46.642Z"
   },
   {
    "duration": 84,
    "start_time": "2023-03-01T10:33:46.878Z"
   },
   {
    "duration": 14,
    "start_time": "2023-03-01T10:33:46.965Z"
   },
   {
    "duration": 649,
    "start_time": "2023-03-01T10:33:46.982Z"
   },
   {
    "duration": 150,
    "start_time": "2023-03-01T10:33:47.633Z"
   },
   {
    "duration": 347,
    "start_time": "2023-03-01T10:33:47.785Z"
   },
   {
    "duration": 338,
    "start_time": "2023-03-01T10:33:48.133Z"
   },
   {
    "duration": 358,
    "start_time": "2023-03-01T10:33:48.472Z"
   },
   {
    "duration": 389,
    "start_time": "2023-03-01T10:33:48.832Z"
   },
   {
    "duration": 181,
    "start_time": "2023-03-01T10:33:49.223Z"
   },
   {
    "duration": 472,
    "start_time": "2023-03-01T10:33:49.406Z"
   },
   {
    "duration": 404,
    "start_time": "2023-03-01T10:33:49.880Z"
   },
   {
    "duration": 659,
    "start_time": "2023-03-01T10:33:50.286Z"
   },
   {
    "duration": 459,
    "start_time": "2023-03-01T10:33:50.947Z"
   },
   {
    "duration": 159,
    "start_time": "2023-03-01T10:33:51.408Z"
   },
   {
    "duration": 273,
    "start_time": "2023-03-01T10:33:51.569Z"
   },
   {
    "duration": 0,
    "start_time": "2023-03-01T10:33:51.844Z"
   },
   {
    "duration": 0,
    "start_time": "2023-03-01T10:33:51.846Z"
   },
   {
    "duration": 0,
    "start_time": "2023-03-01T10:33:51.848Z"
   },
   {
    "duration": 188,
    "start_time": "2023-03-01T10:34:26.170Z"
   },
   {
    "duration": 606,
    "start_time": "2023-03-01T10:35:19.301Z"
   },
   {
    "duration": 202,
    "start_time": "2023-03-01T10:35:33.251Z"
   },
   {
    "duration": 433,
    "start_time": "2023-03-01T10:35:57.892Z"
   },
   {
    "duration": 696,
    "start_time": "2023-03-01T10:36:24.780Z"
   },
   {
    "duration": 584,
    "start_time": "2023-03-01T10:43:43.666Z"
   },
   {
    "duration": 517,
    "start_time": "2023-03-01T10:43:57.059Z"
   },
   {
    "duration": 8,
    "start_time": "2023-03-01T10:46:49.886Z"
   },
   {
    "duration": 536,
    "start_time": "2023-03-01T10:46:58.742Z"
   },
   {
    "duration": 15,
    "start_time": "2023-03-01T10:46:59.280Z"
   },
   {
    "duration": 91,
    "start_time": "2023-03-01T10:46:59.296Z"
   },
   {
    "duration": 2378,
    "start_time": "2023-03-01T10:46:59.389Z"
   },
   {
    "duration": 9,
    "start_time": "2023-03-01T10:47:01.769Z"
   },
   {
    "duration": 22,
    "start_time": "2023-03-01T10:47:01.779Z"
   },
   {
    "duration": 44,
    "start_time": "2023-03-01T10:47:01.803Z"
   },
   {
    "duration": 7,
    "start_time": "2023-03-01T10:47:01.849Z"
   },
   {
    "duration": 53,
    "start_time": "2023-03-01T10:47:01.858Z"
   },
   {
    "duration": 33,
    "start_time": "2023-03-01T10:47:01.914Z"
   },
   {
    "duration": 40,
    "start_time": "2023-03-01T10:47:01.949Z"
   },
   {
    "duration": 38,
    "start_time": "2023-03-01T10:47:01.991Z"
   },
   {
    "duration": 33,
    "start_time": "2023-03-01T10:47:02.031Z"
   },
   {
    "duration": 19,
    "start_time": "2023-03-01T10:47:02.066Z"
   },
   {
    "duration": 42,
    "start_time": "2023-03-01T10:47:02.087Z"
   },
   {
    "duration": 6,
    "start_time": "2023-03-01T10:47:02.131Z"
   },
   {
    "duration": 38,
    "start_time": "2023-03-01T10:47:02.139Z"
   },
   {
    "duration": 39,
    "start_time": "2023-03-01T10:47:02.179Z"
   },
   {
    "duration": 32,
    "start_time": "2023-03-01T10:47:02.220Z"
   },
   {
    "duration": 10,
    "start_time": "2023-03-01T10:47:02.254Z"
   },
   {
    "duration": 39,
    "start_time": "2023-03-01T10:47:02.266Z"
   },
   {
    "duration": 72,
    "start_time": "2023-03-01T10:47:02.307Z"
   },
   {
    "duration": 5,
    "start_time": "2023-03-01T10:47:02.381Z"
   },
   {
    "duration": 61,
    "start_time": "2023-03-01T10:47:02.387Z"
   },
   {
    "duration": 13,
    "start_time": "2023-03-01T10:47:02.450Z"
   },
   {
    "duration": 231,
    "start_time": "2023-03-01T10:47:02.465Z"
   },
   {
    "duration": 6,
    "start_time": "2023-03-01T10:47:02.698Z"
   },
   {
    "duration": 306,
    "start_time": "2023-03-01T10:47:02.708Z"
   },
   {
    "duration": 6,
    "start_time": "2023-03-01T10:47:03.017Z"
   },
   {
    "duration": 44,
    "start_time": "2023-03-01T10:47:03.025Z"
   },
   {
    "duration": 446,
    "start_time": "2023-03-01T10:47:03.071Z"
   },
   {
    "duration": 365,
    "start_time": "2023-03-01T10:47:03.519Z"
   },
   {
    "duration": 365,
    "start_time": "2023-03-01T10:47:03.887Z"
   },
   {
    "duration": 419,
    "start_time": "2023-03-01T10:47:04.254Z"
   },
   {
    "duration": 33,
    "start_time": "2023-03-01T10:47:04.674Z"
   },
   {
    "duration": 9,
    "start_time": "2023-03-01T10:47:04.709Z"
   },
   {
    "duration": 247,
    "start_time": "2023-03-01T10:47:04.720Z"
   },
   {
    "duration": 5,
    "start_time": "2023-03-01T10:47:04.969Z"
   },
   {
    "duration": 11,
    "start_time": "2023-03-01T10:47:04.976Z"
   },
   {
    "duration": 23,
    "start_time": "2023-03-01T10:47:04.989Z"
   },
   {
    "duration": 249,
    "start_time": "2023-03-01T10:47:05.014Z"
   },
   {
    "duration": 65,
    "start_time": "2023-03-01T10:47:05.265Z"
   },
   {
    "duration": 11,
    "start_time": "2023-03-01T10:47:05.332Z"
   },
   {
    "duration": 484,
    "start_time": "2023-03-01T10:47:05.345Z"
   },
   {
    "duration": 152,
    "start_time": "2023-03-01T10:47:05.831Z"
   },
   {
    "duration": 386,
    "start_time": "2023-03-01T10:47:05.985Z"
   },
   {
    "duration": 376,
    "start_time": "2023-03-01T10:47:06.373Z"
   },
   {
    "duration": 353,
    "start_time": "2023-03-01T10:47:06.751Z"
   },
   {
    "duration": 367,
    "start_time": "2023-03-01T10:47:07.107Z"
   },
   {
    "duration": 195,
    "start_time": "2023-03-01T10:47:07.476Z"
   },
   {
    "duration": 530,
    "start_time": "2023-03-01T10:47:07.673Z"
   },
   {
    "duration": 395,
    "start_time": "2023-03-01T10:47:08.206Z"
   },
   {
    "duration": 663,
    "start_time": "2023-03-01T10:47:08.604Z"
   },
   {
    "duration": 433,
    "start_time": "2023-03-01T10:47:09.269Z"
   },
   {
    "duration": 167,
    "start_time": "2023-03-01T10:47:09.704Z"
   },
   {
    "duration": 580,
    "start_time": "2023-03-01T10:47:09.872Z"
   },
   {
    "duration": 17,
    "start_time": "2023-03-01T10:47:10.454Z"
   },
   {
    "duration": 50,
    "start_time": "2023-03-01T10:47:10.472Z"
   },
   {
    "duration": 1264,
    "start_time": "2023-03-01T10:47:10.524Z"
   },
   {
    "duration": 1195,
    "start_time": "2023-03-01T10:47:38.025Z"
   },
   {
    "duration": 1217,
    "start_time": "2023-03-01T10:47:53.906Z"
   },
   {
    "duration": 631,
    "start_time": "2023-03-01T10:53:53.583Z"
   },
   {
    "duration": 17,
    "start_time": "2023-03-01T10:53:54.217Z"
   },
   {
    "duration": 95,
    "start_time": "2023-03-01T10:53:54.236Z"
   },
   {
    "duration": 2478,
    "start_time": "2023-03-01T10:53:54.333Z"
   },
   {
    "duration": 11,
    "start_time": "2023-03-01T10:53:56.813Z"
   },
   {
    "duration": 13,
    "start_time": "2023-03-01T10:53:56.826Z"
   },
   {
    "duration": 24,
    "start_time": "2023-03-01T10:53:56.841Z"
   },
   {
    "duration": 8,
    "start_time": "2023-03-01T10:53:56.867Z"
   },
   {
    "duration": 30,
    "start_time": "2023-03-01T10:53:56.876Z"
   },
   {
    "duration": 11,
    "start_time": "2023-03-01T10:53:56.909Z"
   },
   {
    "duration": 11,
    "start_time": "2023-03-01T10:53:56.922Z"
   },
   {
    "duration": 6,
    "start_time": "2023-03-01T10:53:56.934Z"
   },
   {
    "duration": 9,
    "start_time": "2023-03-01T10:53:56.942Z"
   },
   {
    "duration": 10,
    "start_time": "2023-03-01T10:53:56.953Z"
   },
   {
    "duration": 44,
    "start_time": "2023-03-01T10:53:56.965Z"
   },
   {
    "duration": 12,
    "start_time": "2023-03-01T10:53:57.011Z"
   },
   {
    "duration": 23,
    "start_time": "2023-03-01T10:53:57.025Z"
   },
   {
    "duration": 29,
    "start_time": "2023-03-01T10:53:57.050Z"
   },
   {
    "duration": 37,
    "start_time": "2023-03-01T10:53:57.082Z"
   },
   {
    "duration": 9,
    "start_time": "2023-03-01T10:53:57.121Z"
   },
   {
    "duration": 13,
    "start_time": "2023-03-01T10:53:57.131Z"
   },
   {
    "duration": 93,
    "start_time": "2023-03-01T10:53:57.145Z"
   },
   {
    "duration": 5,
    "start_time": "2023-03-01T10:53:57.239Z"
   },
   {
    "duration": 19,
    "start_time": "2023-03-01T10:53:57.246Z"
   },
   {
    "duration": 3,
    "start_time": "2023-03-01T10:53:57.267Z"
   },
   {
    "duration": 256,
    "start_time": "2023-03-01T10:53:57.272Z"
   },
   {
    "duration": 4,
    "start_time": "2023-03-01T10:53:57.530Z"
   },
   {
    "duration": 330,
    "start_time": "2023-03-01T10:53:57.539Z"
   },
   {
    "duration": 5,
    "start_time": "2023-03-01T10:53:57.871Z"
   },
   {
    "duration": 56,
    "start_time": "2023-03-01T10:53:57.877Z"
   },
   {
    "duration": 439,
    "start_time": "2023-03-01T10:53:57.935Z"
   },
   {
    "duration": 339,
    "start_time": "2023-03-01T10:53:58.376Z"
   },
   {
    "duration": 375,
    "start_time": "2023-03-01T10:53:58.717Z"
   },
   {
    "duration": 343,
    "start_time": "2023-03-01T10:53:59.094Z"
   },
   {
    "duration": 27,
    "start_time": "2023-03-01T10:53:59.439Z"
   },
   {
    "duration": 10,
    "start_time": "2023-03-01T10:53:59.467Z"
   },
   {
    "duration": 280,
    "start_time": "2023-03-01T10:53:59.478Z"
   },
   {
    "duration": 5,
    "start_time": "2023-03-01T10:53:59.760Z"
   },
   {
    "duration": 16,
    "start_time": "2023-03-01T10:53:59.767Z"
   },
   {
    "duration": 19,
    "start_time": "2023-03-01T10:53:59.785Z"
   },
   {
    "duration": 233,
    "start_time": "2023-03-01T10:53:59.807Z"
   },
   {
    "duration": 64,
    "start_time": "2023-03-01T10:54:00.042Z"
   },
   {
    "duration": 13,
    "start_time": "2023-03-01T10:54:00.108Z"
   },
   {
    "duration": 493,
    "start_time": "2023-03-01T10:54:00.123Z"
   },
   {
    "duration": 144,
    "start_time": "2023-03-01T10:54:00.618Z"
   },
   {
    "duration": 350,
    "start_time": "2023-03-01T10:54:00.764Z"
   },
   {
    "duration": 391,
    "start_time": "2023-03-01T10:54:01.116Z"
   },
   {
    "duration": 355,
    "start_time": "2023-03-01T10:54:01.510Z"
   },
   {
    "duration": 382,
    "start_time": "2023-03-01T10:54:01.867Z"
   },
   {
    "duration": 188,
    "start_time": "2023-03-01T10:54:02.251Z"
   },
   {
    "duration": 502,
    "start_time": "2023-03-01T10:54:02.440Z"
   },
   {
    "duration": 363,
    "start_time": "2023-03-01T10:54:02.944Z"
   },
   {
    "duration": 641,
    "start_time": "2023-03-01T10:54:03.309Z"
   },
   {
    "duration": 534,
    "start_time": "2023-03-01T10:54:03.952Z"
   },
   {
    "duration": 160,
    "start_time": "2023-03-01T10:54:04.488Z"
   },
   {
    "duration": 218,
    "start_time": "2023-03-01T10:54:04.649Z"
   },
   {
    "duration": 0,
    "start_time": "2023-03-01T10:54:04.869Z"
   },
   {
    "duration": 0,
    "start_time": "2023-03-01T10:54:04.871Z"
   },
   {
    "duration": 557,
    "start_time": "2023-03-01T10:55:29.800Z"
   },
   {
    "duration": 17,
    "start_time": "2023-03-01T10:55:30.359Z"
   },
   {
    "duration": 118,
    "start_time": "2023-03-01T10:55:30.378Z"
   },
   {
    "duration": 2652,
    "start_time": "2023-03-01T10:55:30.499Z"
   },
   {
    "duration": 11,
    "start_time": "2023-03-01T10:55:33.154Z"
   },
   {
    "duration": 27,
    "start_time": "2023-03-01T10:55:33.167Z"
   },
   {
    "duration": 27,
    "start_time": "2023-03-01T10:55:33.196Z"
   },
   {
    "duration": 8,
    "start_time": "2023-03-01T10:55:33.226Z"
   },
   {
    "duration": 28,
    "start_time": "2023-03-01T10:55:33.236Z"
   },
   {
    "duration": 9,
    "start_time": "2023-03-01T10:55:33.267Z"
   },
   {
    "duration": 17,
    "start_time": "2023-03-01T10:55:33.277Z"
   },
   {
    "duration": 23,
    "start_time": "2023-03-01T10:55:33.296Z"
   },
   {
    "duration": 12,
    "start_time": "2023-03-01T10:55:33.321Z"
   },
   {
    "duration": 10,
    "start_time": "2023-03-01T10:55:33.335Z"
   },
   {
    "duration": 16,
    "start_time": "2023-03-01T10:55:33.347Z"
   },
   {
    "duration": 11,
    "start_time": "2023-03-01T10:55:33.365Z"
   },
   {
    "duration": 41,
    "start_time": "2023-03-01T10:55:33.378Z"
   },
   {
    "duration": 44,
    "start_time": "2023-03-01T10:55:33.422Z"
   },
   {
    "duration": 35,
    "start_time": "2023-03-01T10:55:33.468Z"
   },
   {
    "duration": 11,
    "start_time": "2023-03-01T10:55:33.505Z"
   },
   {
    "duration": 21,
    "start_time": "2023-03-01T10:55:33.519Z"
   },
   {
    "duration": 119,
    "start_time": "2023-03-01T10:55:33.542Z"
   },
   {
    "duration": 6,
    "start_time": "2023-03-01T10:55:33.665Z"
   },
   {
    "duration": 36,
    "start_time": "2023-03-01T10:55:33.673Z"
   },
   {
    "duration": 12,
    "start_time": "2023-03-01T10:55:33.712Z"
   },
   {
    "duration": 344,
    "start_time": "2023-03-01T10:55:33.727Z"
   },
   {
    "duration": 4,
    "start_time": "2023-03-01T10:55:34.073Z"
   },
   {
    "duration": 362,
    "start_time": "2023-03-01T10:55:34.083Z"
   },
   {
    "duration": 5,
    "start_time": "2023-03-01T10:55:34.448Z"
   },
   {
    "duration": 70,
    "start_time": "2023-03-01T10:55:34.455Z"
   },
   {
    "duration": 465,
    "start_time": "2023-03-01T10:55:34.527Z"
   },
   {
    "duration": 337,
    "start_time": "2023-03-01T10:55:34.994Z"
   },
   {
    "duration": 396,
    "start_time": "2023-03-01T10:55:35.333Z"
   },
   {
    "duration": 371,
    "start_time": "2023-03-01T10:55:35.731Z"
   },
   {
    "duration": 27,
    "start_time": "2023-03-01T10:55:36.103Z"
   },
   {
    "duration": 10,
    "start_time": "2023-03-01T10:55:36.131Z"
   },
   {
    "duration": 271,
    "start_time": "2023-03-01T10:55:36.143Z"
   },
   {
    "duration": 9,
    "start_time": "2023-03-01T10:55:36.416Z"
   },
   {
    "duration": 20,
    "start_time": "2023-03-01T10:55:36.427Z"
   },
   {
    "duration": 19,
    "start_time": "2023-03-01T10:55:36.449Z"
   },
   {
    "duration": 299,
    "start_time": "2023-03-01T10:55:36.470Z"
   },
   {
    "duration": 57,
    "start_time": "2023-03-01T10:55:36.771Z"
   },
   {
    "duration": 10,
    "start_time": "2023-03-01T10:55:36.830Z"
   },
   {
    "duration": 455,
    "start_time": "2023-03-01T10:55:36.842Z"
   },
   {
    "duration": 154,
    "start_time": "2023-03-01T10:55:37.306Z"
   },
   {
    "duration": 365,
    "start_time": "2023-03-01T10:55:37.462Z"
   },
   {
    "duration": 346,
    "start_time": "2023-03-01T10:55:37.829Z"
   },
   {
    "duration": 346,
    "start_time": "2023-03-01T10:55:38.177Z"
   },
   {
    "duration": 379,
    "start_time": "2023-03-01T10:55:38.525Z"
   },
   {
    "duration": 198,
    "start_time": "2023-03-01T10:55:38.906Z"
   },
   {
    "duration": 497,
    "start_time": "2023-03-01T10:55:39.106Z"
   },
   {
    "duration": 373,
    "start_time": "2023-03-01T10:55:39.605Z"
   },
   {
    "duration": 646,
    "start_time": "2023-03-01T10:55:39.980Z"
   },
   {
    "duration": 485,
    "start_time": "2023-03-01T10:55:40.628Z"
   },
   {
    "duration": 154,
    "start_time": "2023-03-01T10:55:41.116Z"
   },
   {
    "duration": 536,
    "start_time": "2023-03-01T10:55:41.272Z"
   },
   {
    "duration": 14,
    "start_time": "2023-03-01T10:55:41.810Z"
   },
   {
    "duration": 1241,
    "start_time": "2023-03-01T10:55:41.826Z"
   },
   {
    "duration": 232,
    "start_time": "2023-03-01T10:56:20.905Z"
   },
   {
    "duration": 18,
    "start_time": "2023-03-01T10:58:27.268Z"
   },
   {
    "duration": 209,
    "start_time": "2023-03-01T10:59:55.954Z"
   },
   {
    "duration": 77,
    "start_time": "2023-03-01T11:01:15.351Z"
   },
   {
    "duration": 123,
    "start_time": "2023-03-01T11:06:33.371Z"
   },
   {
    "duration": 100,
    "start_time": "2023-03-01T11:06:48.915Z"
   },
   {
    "duration": 516,
    "start_time": "2023-03-01T11:07:41.255Z"
   },
   {
    "duration": 16,
    "start_time": "2023-03-01T11:07:41.773Z"
   },
   {
    "duration": 89,
    "start_time": "2023-03-01T11:07:41.791Z"
   },
   {
    "duration": 2481,
    "start_time": "2023-03-01T11:07:41.882Z"
   },
   {
    "duration": 11,
    "start_time": "2023-03-01T11:07:44.366Z"
   },
   {
    "duration": 13,
    "start_time": "2023-03-01T11:07:44.378Z"
   },
   {
    "duration": 56,
    "start_time": "2023-03-01T11:07:44.393Z"
   },
   {
    "duration": 10,
    "start_time": "2023-03-01T11:07:44.451Z"
   },
   {
    "duration": 42,
    "start_time": "2023-03-01T11:07:44.462Z"
   },
   {
    "duration": 21,
    "start_time": "2023-03-01T11:07:44.506Z"
   },
   {
    "duration": 17,
    "start_time": "2023-03-01T11:07:44.528Z"
   },
   {
    "duration": 14,
    "start_time": "2023-03-01T11:07:44.547Z"
   },
   {
    "duration": 41,
    "start_time": "2023-03-01T11:07:44.564Z"
   },
   {
    "duration": 18,
    "start_time": "2023-03-01T11:07:44.609Z"
   },
   {
    "duration": 12,
    "start_time": "2023-03-01T11:07:44.629Z"
   },
   {
    "duration": 14,
    "start_time": "2023-03-01T11:07:44.643Z"
   },
   {
    "duration": 15,
    "start_time": "2023-03-01T11:07:44.659Z"
   },
   {
    "duration": 43,
    "start_time": "2023-03-01T11:07:44.676Z"
   },
   {
    "duration": 23,
    "start_time": "2023-03-01T11:07:44.720Z"
   },
   {
    "duration": 8,
    "start_time": "2023-03-01T11:07:44.745Z"
   },
   {
    "duration": 18,
    "start_time": "2023-03-01T11:07:44.755Z"
   },
   {
    "duration": 91,
    "start_time": "2023-03-01T11:07:44.775Z"
   },
   {
    "duration": 4,
    "start_time": "2023-03-01T11:07:44.868Z"
   },
   {
    "duration": 30,
    "start_time": "2023-03-01T11:07:44.874Z"
   },
   {
    "duration": 4,
    "start_time": "2023-03-01T11:07:44.906Z"
   },
   {
    "duration": 246,
    "start_time": "2023-03-01T11:07:44.912Z"
   },
   {
    "duration": 3,
    "start_time": "2023-03-01T11:07:45.160Z"
   },
   {
    "duration": 304,
    "start_time": "2023-03-01T11:07:45.165Z"
   },
   {
    "duration": 4,
    "start_time": "2023-03-01T11:07:45.471Z"
   },
   {
    "duration": 39,
    "start_time": "2023-03-01T11:07:45.477Z"
   },
   {
    "duration": 431,
    "start_time": "2023-03-01T11:07:45.518Z"
   },
   {
    "duration": 360,
    "start_time": "2023-03-01T11:07:45.951Z"
   },
   {
    "duration": 335,
    "start_time": "2023-03-01T11:07:46.312Z"
   },
   {
    "duration": 370,
    "start_time": "2023-03-01T11:07:46.649Z"
   },
   {
    "duration": 28,
    "start_time": "2023-03-01T11:07:47.021Z"
   },
   {
    "duration": 10,
    "start_time": "2023-03-01T11:07:47.051Z"
   },
   {
    "duration": 253,
    "start_time": "2023-03-01T11:07:47.063Z"
   },
   {
    "duration": 5,
    "start_time": "2023-03-01T11:07:47.318Z"
   },
   {
    "duration": 12,
    "start_time": "2023-03-01T11:07:47.324Z"
   },
   {
    "duration": 13,
    "start_time": "2023-03-01T11:07:47.338Z"
   },
   {
    "duration": 270,
    "start_time": "2023-03-01T11:07:47.356Z"
   },
   {
    "duration": 50,
    "start_time": "2023-03-01T11:07:47.627Z"
   },
   {
    "duration": 10,
    "start_time": "2023-03-01T11:07:47.678Z"
   },
   {
    "duration": 577,
    "start_time": "2023-03-01T11:07:47.690Z"
   },
   {
    "duration": 191,
    "start_time": "2023-03-01T11:07:48.269Z"
   },
   {
    "duration": 367,
    "start_time": "2023-03-01T11:07:48.462Z"
   },
   {
    "duration": 361,
    "start_time": "2023-03-01T11:07:48.832Z"
   },
   {
    "duration": 350,
    "start_time": "2023-03-01T11:07:49.195Z"
   },
   {
    "duration": 346,
    "start_time": "2023-03-01T11:07:49.547Z"
   },
   {
    "duration": 182,
    "start_time": "2023-03-01T11:07:49.894Z"
   },
   {
    "duration": 486,
    "start_time": "2023-03-01T11:07:50.078Z"
   },
   {
    "duration": 341,
    "start_time": "2023-03-01T11:07:50.566Z"
   },
   {
    "duration": 586,
    "start_time": "2023-03-01T11:07:50.909Z"
   },
   {
    "duration": 224,
    "start_time": "2023-03-01T11:07:51.498Z"
   },
   {
    "duration": 152,
    "start_time": "2023-03-01T11:07:51.723Z"
   },
   {
    "duration": 585,
    "start_time": "2023-03-01T11:07:51.877Z"
   },
   {
    "duration": 16,
    "start_time": "2023-03-01T11:07:52.464Z"
   },
   {
    "duration": 33,
    "start_time": "2023-03-01T11:07:52.482Z"
   },
   {
    "duration": 230,
    "start_time": "2023-03-01T11:07:52.517Z"
   },
   {
    "duration": 3008,
    "start_time": "2023-03-01T11:08:58.699Z"
   },
   {
    "duration": 546,
    "start_time": "2023-03-01T11:09:31.535Z"
   },
   {
    "duration": 23,
    "start_time": "2023-03-01T11:09:32.084Z"
   },
   {
    "duration": 98,
    "start_time": "2023-03-01T11:09:32.109Z"
   },
   {
    "duration": 2722,
    "start_time": "2023-03-01T11:09:32.209Z"
   },
   {
    "duration": 9,
    "start_time": "2023-03-01T11:09:34.934Z"
   },
   {
    "duration": 10,
    "start_time": "2023-03-01T11:09:34.945Z"
   },
   {
    "duration": 26,
    "start_time": "2023-03-01T11:09:34.957Z"
   },
   {
    "duration": 7,
    "start_time": "2023-03-01T11:09:34.985Z"
   },
   {
    "duration": 15,
    "start_time": "2023-03-01T11:09:34.994Z"
   },
   {
    "duration": 27,
    "start_time": "2023-03-01T11:09:35.011Z"
   },
   {
    "duration": 12,
    "start_time": "2023-03-01T11:09:35.040Z"
   },
   {
    "duration": 8,
    "start_time": "2023-03-01T11:09:35.054Z"
   },
   {
    "duration": 28,
    "start_time": "2023-03-01T11:09:35.063Z"
   },
   {
    "duration": 11,
    "start_time": "2023-03-01T11:09:35.096Z"
   },
   {
    "duration": 10,
    "start_time": "2023-03-01T11:09:35.109Z"
   },
   {
    "duration": 16,
    "start_time": "2023-03-01T11:09:35.121Z"
   },
   {
    "duration": 16,
    "start_time": "2023-03-01T11:09:35.139Z"
   },
   {
    "duration": 21,
    "start_time": "2023-03-01T11:09:35.157Z"
   },
   {
    "duration": 42,
    "start_time": "2023-03-01T11:09:35.181Z"
   },
   {
    "duration": 9,
    "start_time": "2023-03-01T11:09:35.224Z"
   },
   {
    "duration": 12,
    "start_time": "2023-03-01T11:09:35.235Z"
   },
   {
    "duration": 87,
    "start_time": "2023-03-01T11:09:35.249Z"
   },
   {
    "duration": 5,
    "start_time": "2023-03-01T11:09:35.338Z"
   },
   {
    "duration": 40,
    "start_time": "2023-03-01T11:09:35.346Z"
   },
   {
    "duration": 5,
    "start_time": "2023-03-01T11:09:35.388Z"
   },
   {
    "duration": 241,
    "start_time": "2023-03-01T11:09:35.395Z"
   },
   {
    "duration": 4,
    "start_time": "2023-03-01T11:09:35.638Z"
   },
   {
    "duration": 287,
    "start_time": "2023-03-01T11:09:35.644Z"
   },
   {
    "duration": 5,
    "start_time": "2023-03-01T11:09:35.933Z"
   },
   {
    "duration": 52,
    "start_time": "2023-03-01T11:09:35.940Z"
   },
   {
    "duration": 479,
    "start_time": "2023-03-01T11:09:35.994Z"
   },
   {
    "duration": 350,
    "start_time": "2023-03-01T11:09:36.475Z"
   },
   {
    "duration": 343,
    "start_time": "2023-03-01T11:09:36.827Z"
   },
   {
    "duration": 344,
    "start_time": "2023-03-01T11:09:37.172Z"
   },
   {
    "duration": 23,
    "start_time": "2023-03-01T11:09:37.518Z"
   },
   {
    "duration": 9,
    "start_time": "2023-03-01T11:09:37.543Z"
   },
   {
    "duration": 224,
    "start_time": "2023-03-01T11:09:37.553Z"
   },
   {
    "duration": 5,
    "start_time": "2023-03-01T11:09:37.778Z"
   },
   {
    "duration": 20,
    "start_time": "2023-03-01T11:09:37.784Z"
   },
   {
    "duration": 9,
    "start_time": "2023-03-01T11:09:37.807Z"
   },
   {
    "duration": 226,
    "start_time": "2023-03-01T11:09:37.822Z"
   },
   {
    "duration": 66,
    "start_time": "2023-03-01T11:09:38.050Z"
   },
   {
    "duration": 11,
    "start_time": "2023-03-01T11:09:38.118Z"
   },
   {
    "duration": 464,
    "start_time": "2023-03-01T11:09:38.131Z"
   },
   {
    "duration": 154,
    "start_time": "2023-03-01T11:09:38.597Z"
   },
   {
    "duration": 357,
    "start_time": "2023-03-01T11:09:38.753Z"
   },
   {
    "duration": 341,
    "start_time": "2023-03-01T11:09:39.112Z"
   },
   {
    "duration": 337,
    "start_time": "2023-03-01T11:09:39.454Z"
   },
   {
    "duration": 342,
    "start_time": "2023-03-01T11:09:39.793Z"
   },
   {
    "duration": 160,
    "start_time": "2023-03-01T11:09:40.137Z"
   },
   {
    "duration": 443,
    "start_time": "2023-03-01T11:09:40.305Z"
   },
   {
    "duration": 328,
    "start_time": "2023-03-01T11:09:40.749Z"
   },
   {
    "duration": 581,
    "start_time": "2023-03-01T11:09:41.078Z"
   },
   {
    "duration": 209,
    "start_time": "2023-03-01T11:09:41.660Z"
   },
   {
    "duration": 169,
    "start_time": "2023-03-01T11:09:41.871Z"
   },
   {
    "duration": 564,
    "start_time": "2023-03-01T11:09:42.042Z"
   },
   {
    "duration": 13,
    "start_time": "2023-03-01T11:09:42.608Z"
   },
   {
    "duration": 20,
    "start_time": "2023-03-01T11:09:42.623Z"
   },
   {
    "duration": 234,
    "start_time": "2023-03-01T11:09:42.645Z"
   },
   {
    "duration": 60,
    "start_time": "2023-03-02T05:41:33.398Z"
   },
   {
    "duration": 732,
    "start_time": "2023-03-02T05:41:51.480Z"
   },
   {
    "duration": 18,
    "start_time": "2023-03-02T05:41:52.214Z"
   },
   {
    "duration": 76,
    "start_time": "2023-03-02T05:41:52.234Z"
   },
   {
    "duration": 2572,
    "start_time": "2023-03-02T05:41:52.312Z"
   },
   {
    "duration": 10,
    "start_time": "2023-03-02T05:41:54.888Z"
   },
   {
    "duration": 11,
    "start_time": "2023-03-02T05:41:54.900Z"
   },
   {
    "duration": 31,
    "start_time": "2023-03-02T05:41:54.914Z"
   },
   {
    "duration": 7,
    "start_time": "2023-03-02T05:41:54.947Z"
   },
   {
    "duration": 10,
    "start_time": "2023-03-02T05:41:54.956Z"
   },
   {
    "duration": 16,
    "start_time": "2023-03-02T05:41:54.968Z"
   },
   {
    "duration": 16,
    "start_time": "2023-03-02T05:41:54.986Z"
   },
   {
    "duration": 6,
    "start_time": "2023-03-02T05:41:55.004Z"
   },
   {
    "duration": 22,
    "start_time": "2023-03-02T05:41:55.011Z"
   },
   {
    "duration": 13,
    "start_time": "2023-03-02T05:41:55.037Z"
   },
   {
    "duration": 10,
    "start_time": "2023-03-02T05:41:55.051Z"
   },
   {
    "duration": 46,
    "start_time": "2023-03-02T05:41:55.063Z"
   },
   {
    "duration": 27,
    "start_time": "2023-03-02T05:41:55.111Z"
   },
   {
    "duration": 32,
    "start_time": "2023-03-02T05:41:55.140Z"
   },
   {
    "duration": 20,
    "start_time": "2023-03-02T05:41:55.174Z"
   },
   {
    "duration": 8,
    "start_time": "2023-03-02T05:41:55.196Z"
   },
   {
    "duration": 26,
    "start_time": "2023-03-02T05:41:55.206Z"
   },
   {
    "duration": 70,
    "start_time": "2023-03-02T05:41:55.234Z"
   },
   {
    "duration": 4,
    "start_time": "2023-03-02T05:41:55.305Z"
   },
   {
    "duration": 36,
    "start_time": "2023-03-02T05:41:55.311Z"
   },
   {
    "duration": 4,
    "start_time": "2023-03-02T05:41:55.349Z"
   },
   {
    "duration": 266,
    "start_time": "2023-03-02T05:41:55.354Z"
   },
   {
    "duration": 5,
    "start_time": "2023-03-02T05:41:55.622Z"
   },
   {
    "duration": 415,
    "start_time": "2023-03-02T05:41:55.629Z"
   },
   {
    "duration": 4,
    "start_time": "2023-03-02T05:41:56.046Z"
   },
   {
    "duration": 58,
    "start_time": "2023-03-02T05:41:56.052Z"
   },
   {
    "duration": 369,
    "start_time": "2023-03-02T05:41:56.112Z"
   },
   {
    "duration": 345,
    "start_time": "2023-03-02T05:41:56.484Z"
   },
   {
    "duration": 332,
    "start_time": "2023-03-02T05:41:56.831Z"
   },
   {
    "duration": 333,
    "start_time": "2023-03-02T05:41:57.165Z"
   },
   {
    "duration": 24,
    "start_time": "2023-03-02T05:41:57.499Z"
   },
   {
    "duration": 21,
    "start_time": "2023-03-02T05:41:57.525Z"
   },
   {
    "duration": 231,
    "start_time": "2023-03-02T05:41:57.548Z"
   },
   {
    "duration": 6,
    "start_time": "2023-03-02T05:41:57.782Z"
   },
   {
    "duration": 43,
    "start_time": "2023-03-02T05:41:57.789Z"
   },
   {
    "duration": 60,
    "start_time": "2023-03-02T05:41:57.834Z"
   },
   {
    "duration": 244,
    "start_time": "2023-03-02T05:41:57.898Z"
   },
   {
    "duration": 50,
    "start_time": "2023-03-02T05:41:58.144Z"
   },
   {
    "duration": 4,
    "start_time": "2023-03-02T05:41:58.195Z"
   },
   {
    "duration": 27,
    "start_time": "2023-03-02T05:41:58.201Z"
   },
   {
    "duration": 460,
    "start_time": "2023-03-02T05:41:58.230Z"
   },
   {
    "duration": 133,
    "start_time": "2023-03-02T05:41:58.692Z"
   },
   {
    "duration": 335,
    "start_time": "2023-03-02T05:41:58.827Z"
   },
   {
    "duration": 338,
    "start_time": "2023-03-02T05:41:59.163Z"
   },
   {
    "duration": 322,
    "start_time": "2023-03-02T05:41:59.503Z"
   },
   {
    "duration": 333,
    "start_time": "2023-03-02T05:41:59.826Z"
   },
   {
    "duration": 319,
    "start_time": "2023-03-02T05:42:00.160Z"
   },
   {
    "duration": 379,
    "start_time": "2023-03-02T05:42:00.481Z"
   },
   {
    "duration": 346,
    "start_time": "2023-03-02T05:42:00.862Z"
   },
   {
    "duration": 600,
    "start_time": "2023-03-02T05:42:01.210Z"
   },
   {
    "duration": 210,
    "start_time": "2023-03-02T05:42:01.812Z"
   },
   {
    "duration": 156,
    "start_time": "2023-03-02T05:42:02.024Z"
   },
   {
    "duration": 525,
    "start_time": "2023-03-02T05:42:02.182Z"
   },
   {
    "duration": 14,
    "start_time": "2023-03-02T05:42:02.708Z"
   },
   {
    "duration": 28,
    "start_time": "2023-03-02T05:42:02.724Z"
   },
   {
    "duration": 232,
    "start_time": "2023-03-02T05:42:02.754Z"
   },
   {
    "duration": 139,
    "start_time": "2023-03-02T05:48:31.382Z"
   },
   {
    "duration": 158,
    "start_time": "2023-03-02T05:49:03.028Z"
   },
   {
    "duration": 1058,
    "start_time": "2023-03-02T05:55:22.999Z"
   },
   {
    "duration": 506,
    "start_time": "2023-03-02T05:55:44.676Z"
   },
   {
    "duration": 534,
    "start_time": "2023-03-02T05:56:07.630Z"
   },
   {
    "duration": 661,
    "start_time": "2023-03-02T08:19:30.011Z"
   },
   {
    "duration": 17,
    "start_time": "2023-03-02T08:19:30.674Z"
   },
   {
    "duration": 136,
    "start_time": "2023-03-02T08:19:30.693Z"
   },
   {
    "duration": 2792,
    "start_time": "2023-03-02T08:19:30.831Z"
   },
   {
    "duration": 12,
    "start_time": "2023-03-02T08:19:33.626Z"
   },
   {
    "duration": 10,
    "start_time": "2023-03-02T08:19:33.641Z"
   },
   {
    "duration": 26,
    "start_time": "2023-03-02T08:19:33.653Z"
   },
   {
    "duration": 42,
    "start_time": "2023-03-02T08:19:33.681Z"
   },
   {
    "duration": 8,
    "start_time": "2023-03-02T08:19:33.725Z"
   },
   {
    "duration": 12,
    "start_time": "2023-03-02T08:19:33.735Z"
   },
   {
    "duration": 16,
    "start_time": "2023-03-02T08:19:33.749Z"
   },
   {
    "duration": 12,
    "start_time": "2023-03-02T08:19:33.767Z"
   },
   {
    "duration": 29,
    "start_time": "2023-03-02T08:19:33.780Z"
   },
   {
    "duration": 17,
    "start_time": "2023-03-02T08:19:33.822Z"
   },
   {
    "duration": 12,
    "start_time": "2023-03-02T08:19:33.841Z"
   },
   {
    "duration": 11,
    "start_time": "2023-03-02T08:19:33.855Z"
   },
   {
    "duration": 21,
    "start_time": "2023-03-02T08:19:33.868Z"
   },
   {
    "duration": 41,
    "start_time": "2023-03-02T08:19:33.890Z"
   },
   {
    "duration": 22,
    "start_time": "2023-03-02T08:19:33.932Z"
   },
   {
    "duration": 8,
    "start_time": "2023-03-02T08:19:33.956Z"
   },
   {
    "duration": 15,
    "start_time": "2023-03-02T08:19:33.966Z"
   },
   {
    "duration": 92,
    "start_time": "2023-03-02T08:19:33.983Z"
   },
   {
    "duration": 4,
    "start_time": "2023-03-02T08:19:34.077Z"
   },
   {
    "duration": 23,
    "start_time": "2023-03-02T08:19:34.083Z"
   },
   {
    "duration": 14,
    "start_time": "2023-03-02T08:19:34.108Z"
   },
   {
    "duration": 237,
    "start_time": "2023-03-02T08:19:34.125Z"
   },
   {
    "duration": 4,
    "start_time": "2023-03-02T08:19:34.364Z"
   },
   {
    "duration": 384,
    "start_time": "2023-03-02T08:19:34.370Z"
   },
   {
    "duration": 4,
    "start_time": "2023-03-02T08:19:34.756Z"
   },
   {
    "duration": 53,
    "start_time": "2023-03-02T08:19:34.762Z"
   },
   {
    "duration": 373,
    "start_time": "2023-03-02T08:19:34.816Z"
   },
   {
    "duration": 333,
    "start_time": "2023-03-02T08:19:35.191Z"
   },
   {
    "duration": 605,
    "start_time": "2023-03-02T08:19:35.527Z"
   },
   {
    "duration": 699,
    "start_time": "2023-03-02T08:19:36.133Z"
   },
   {
    "duration": 26,
    "start_time": "2023-03-02T08:19:36.835Z"
   },
   {
    "duration": 66,
    "start_time": "2023-03-02T08:19:36.863Z"
   },
   {
    "duration": 505,
    "start_time": "2023-03-02T08:19:36.931Z"
   },
   {
    "duration": 5,
    "start_time": "2023-03-02T08:19:37.438Z"
   },
   {
    "duration": 21,
    "start_time": "2023-03-02T08:19:37.445Z"
   },
   {
    "duration": 56,
    "start_time": "2023-03-02T08:19:37.468Z"
   },
   {
    "duration": 304,
    "start_time": "2023-03-02T08:19:37.528Z"
   },
   {
    "duration": 51,
    "start_time": "2023-03-02T08:19:37.834Z"
   },
   {
    "duration": 4,
    "start_time": "2023-03-02T08:19:37.887Z"
   },
   {
    "duration": 34,
    "start_time": "2023-03-02T08:19:37.893Z"
   },
   {
    "duration": 476,
    "start_time": "2023-03-02T08:19:37.929Z"
   },
   {
    "duration": 157,
    "start_time": "2023-03-02T08:19:38.407Z"
   },
   {
    "duration": 380,
    "start_time": "2023-03-02T08:19:38.566Z"
   },
   {
    "duration": 417,
    "start_time": "2023-03-02T08:19:38.948Z"
   },
   {
    "duration": 348,
    "start_time": "2023-03-02T08:19:39.367Z"
   },
   {
    "duration": 356,
    "start_time": "2023-03-02T08:19:39.717Z"
   },
   {
    "duration": 292,
    "start_time": "2023-03-02T08:19:40.075Z"
   },
   {
    "duration": 341,
    "start_time": "2023-03-02T08:19:40.369Z"
   },
   {
    "duration": 378,
    "start_time": "2023-03-02T08:19:40.711Z"
   },
   {
    "duration": 633,
    "start_time": "2023-03-02T08:19:41.091Z"
   },
   {
    "duration": 216,
    "start_time": "2023-03-02T08:19:41.727Z"
   },
   {
    "duration": 167,
    "start_time": "2023-03-02T08:19:41.945Z"
   },
   {
    "duration": 558,
    "start_time": "2023-03-02T08:19:42.114Z"
   },
   {
    "duration": 15,
    "start_time": "2023-03-02T08:19:42.674Z"
   },
   {
    "duration": 36,
    "start_time": "2023-03-02T08:19:42.690Z"
   },
   {
    "duration": 206,
    "start_time": "2023-03-02T08:19:42.728Z"
   },
   {
    "duration": 53,
    "start_time": "2023-03-03T03:12:12.963Z"
   },
   {
    "duration": 1018,
    "start_time": "2023-03-03T03:12:22.800Z"
   },
   {
    "duration": 15,
    "start_time": "2023-03-03T03:12:23.820Z"
   },
   {
    "duration": 78,
    "start_time": "2023-03-03T03:12:23.837Z"
   },
   {
    "duration": 2690,
    "start_time": "2023-03-03T03:12:23.917Z"
   },
   {
    "duration": 9,
    "start_time": "2023-03-03T03:12:26.609Z"
   },
   {
    "duration": 11,
    "start_time": "2023-03-03T03:12:26.620Z"
   },
   {
    "duration": 33,
    "start_time": "2023-03-03T03:12:26.633Z"
   },
   {
    "duration": 7,
    "start_time": "2023-03-03T03:12:26.668Z"
   },
   {
    "duration": 12,
    "start_time": "2023-03-03T03:12:26.676Z"
   },
   {
    "duration": 8,
    "start_time": "2023-03-03T03:12:26.691Z"
   },
   {
    "duration": 14,
    "start_time": "2023-03-03T03:12:26.701Z"
   },
   {
    "duration": 7,
    "start_time": "2023-03-03T03:12:26.717Z"
   },
   {
    "duration": 10,
    "start_time": "2023-03-03T03:12:26.748Z"
   },
   {
    "duration": 16,
    "start_time": "2023-03-03T03:12:26.760Z"
   },
   {
    "duration": 9,
    "start_time": "2023-03-03T03:12:26.778Z"
   },
   {
    "duration": 14,
    "start_time": "2023-03-03T03:12:26.789Z"
   },
   {
    "duration": 14,
    "start_time": "2023-03-03T03:12:26.805Z"
   },
   {
    "duration": 41,
    "start_time": "2023-03-03T03:12:26.821Z"
   },
   {
    "duration": 20,
    "start_time": "2023-03-03T03:12:26.864Z"
   },
   {
    "duration": 8,
    "start_time": "2023-03-03T03:12:26.886Z"
   },
   {
    "duration": 10,
    "start_time": "2023-03-03T03:12:26.895Z"
   },
   {
    "duration": 91,
    "start_time": "2023-03-03T03:12:26.906Z"
   },
   {
    "duration": 4,
    "start_time": "2023-03-03T03:12:26.999Z"
   },
   {
    "duration": 18,
    "start_time": "2023-03-03T03:12:27.005Z"
   },
   {
    "duration": 4,
    "start_time": "2023-03-03T03:12:27.025Z"
   },
   {
    "duration": 220,
    "start_time": "2023-03-03T03:12:27.048Z"
   },
   {
    "duration": 4,
    "start_time": "2023-03-03T03:12:27.269Z"
   },
   {
    "duration": 345,
    "start_time": "2023-03-03T03:12:27.277Z"
   },
   {
    "duration": 4,
    "start_time": "2023-03-03T03:12:27.624Z"
   },
   {
    "duration": 37,
    "start_time": "2023-03-03T03:12:27.630Z"
   },
   {
    "duration": 392,
    "start_time": "2023-03-03T03:12:27.668Z"
   },
   {
    "duration": 0,
    "start_time": "2023-03-03T03:12:28.062Z"
   },
   {
    "duration": 0,
    "start_time": "2023-03-03T03:12:28.063Z"
   },
   {
    "duration": 0,
    "start_time": "2023-03-03T03:12:28.065Z"
   },
   {
    "duration": 0,
    "start_time": "2023-03-03T03:12:28.066Z"
   },
   {
    "duration": 0,
    "start_time": "2023-03-03T03:12:28.068Z"
   },
   {
    "duration": 0,
    "start_time": "2023-03-03T03:12:28.069Z"
   },
   {
    "duration": 0,
    "start_time": "2023-03-03T03:12:28.070Z"
   },
   {
    "duration": 0,
    "start_time": "2023-03-03T03:12:28.071Z"
   },
   {
    "duration": 0,
    "start_time": "2023-03-03T03:12:28.072Z"
   },
   {
    "duration": 0,
    "start_time": "2023-03-03T03:12:28.074Z"
   },
   {
    "duration": 0,
    "start_time": "2023-03-03T03:12:28.075Z"
   },
   {
    "duration": 0,
    "start_time": "2023-03-03T03:12:28.077Z"
   },
   {
    "duration": 0,
    "start_time": "2023-03-03T03:12:28.078Z"
   },
   {
    "duration": 0,
    "start_time": "2023-03-03T03:12:28.080Z"
   },
   {
    "duration": 0,
    "start_time": "2023-03-03T03:12:28.081Z"
   },
   {
    "duration": 0,
    "start_time": "2023-03-03T03:12:28.082Z"
   },
   {
    "duration": 0,
    "start_time": "2023-03-03T03:12:28.083Z"
   },
   {
    "duration": 0,
    "start_time": "2023-03-03T03:12:28.084Z"
   },
   {
    "duration": 0,
    "start_time": "2023-03-03T03:12:28.085Z"
   },
   {
    "duration": 0,
    "start_time": "2023-03-03T03:12:28.087Z"
   },
   {
    "duration": 0,
    "start_time": "2023-03-03T03:12:28.088Z"
   },
   {
    "duration": 0,
    "start_time": "2023-03-03T03:12:28.090Z"
   },
   {
    "duration": 0,
    "start_time": "2023-03-03T03:12:28.091Z"
   },
   {
    "duration": 0,
    "start_time": "2023-03-03T03:12:28.093Z"
   },
   {
    "duration": 0,
    "start_time": "2023-03-03T03:12:28.149Z"
   },
   {
    "duration": 0,
    "start_time": "2023-03-03T03:12:28.150Z"
   },
   {
    "duration": 0,
    "start_time": "2023-03-03T03:12:28.151Z"
   },
   {
    "duration": 0,
    "start_time": "2023-03-03T03:12:28.152Z"
   },
   {
    "duration": 0,
    "start_time": "2023-03-03T03:12:28.153Z"
   },
   {
    "duration": 118,
    "start_time": "2023-03-03T03:14:44.384Z"
   },
   {
    "duration": 783,
    "start_time": "2023-03-03T03:15:00.478Z"
   },
   {
    "duration": 18,
    "start_time": "2023-03-03T03:15:01.264Z"
   },
   {
    "duration": 109,
    "start_time": "2023-03-03T03:15:01.284Z"
   },
   {
    "duration": 2302,
    "start_time": "2023-03-03T03:15:01.397Z"
   },
   {
    "duration": 10,
    "start_time": "2023-03-03T03:15:03.701Z"
   },
   {
    "duration": 10,
    "start_time": "2023-03-03T03:15:03.713Z"
   },
   {
    "duration": 30,
    "start_time": "2023-03-03T03:15:03.725Z"
   },
   {
    "duration": 9,
    "start_time": "2023-03-03T03:15:03.757Z"
   },
   {
    "duration": 10,
    "start_time": "2023-03-03T03:15:03.768Z"
   },
   {
    "duration": 9,
    "start_time": "2023-03-03T03:15:03.782Z"
   },
   {
    "duration": 12,
    "start_time": "2023-03-03T03:15:03.793Z"
   },
   {
    "duration": 42,
    "start_time": "2023-03-03T03:15:03.807Z"
   },
   {
    "duration": 8,
    "start_time": "2023-03-03T03:15:03.851Z"
   },
   {
    "duration": 10,
    "start_time": "2023-03-03T03:15:03.861Z"
   },
   {
    "duration": 14,
    "start_time": "2023-03-03T03:15:03.873Z"
   },
   {
    "duration": 30,
    "start_time": "2023-03-03T03:15:03.889Z"
   },
   {
    "duration": 27,
    "start_time": "2023-03-03T03:15:03.921Z"
   },
   {
    "duration": 27,
    "start_time": "2023-03-03T03:15:03.949Z"
   },
   {
    "duration": 22,
    "start_time": "2023-03-03T03:15:03.978Z"
   },
   {
    "duration": 9,
    "start_time": "2023-03-03T03:15:04.001Z"
   },
   {
    "duration": 10,
    "start_time": "2023-03-03T03:15:04.011Z"
   },
   {
    "duration": 96,
    "start_time": "2023-03-03T03:15:04.023Z"
   },
   {
    "duration": 5,
    "start_time": "2023-03-03T03:15:04.121Z"
   },
   {
    "duration": 37,
    "start_time": "2023-03-03T03:15:04.127Z"
   },
   {
    "duration": 6,
    "start_time": "2023-03-03T03:15:04.166Z"
   },
   {
    "duration": 247,
    "start_time": "2023-03-03T03:15:04.174Z"
   },
   {
    "duration": 4,
    "start_time": "2023-03-03T03:15:04.424Z"
   },
   {
    "duration": 373,
    "start_time": "2023-03-03T03:15:04.433Z"
   },
   {
    "duration": 4,
    "start_time": "2023-03-03T03:15:04.808Z"
   },
   {
    "duration": 44,
    "start_time": "2023-03-03T03:15:04.814Z"
   },
   {
    "duration": 344,
    "start_time": "2023-03-03T03:15:04.860Z"
   },
   {
    "duration": 365,
    "start_time": "2023-03-03T03:15:05.206Z"
   },
   {
    "duration": 336,
    "start_time": "2023-03-03T03:15:05.573Z"
   },
   {
    "duration": 327,
    "start_time": "2023-03-03T03:15:05.911Z"
   },
   {
    "duration": 28,
    "start_time": "2023-03-03T03:15:06.240Z"
   },
   {
    "duration": 10,
    "start_time": "2023-03-03T03:15:06.269Z"
   },
   {
    "duration": 240,
    "start_time": "2023-03-03T03:15:06.281Z"
   },
   {
    "duration": 5,
    "start_time": "2023-03-03T03:15:06.523Z"
   },
   {
    "duration": 30,
    "start_time": "2023-03-03T03:15:06.530Z"
   },
   {
    "duration": 8,
    "start_time": "2023-03-03T03:15:06.563Z"
   },
   {
    "duration": 224,
    "start_time": "2023-03-03T03:15:06.572Z"
   },
   {
    "duration": 54,
    "start_time": "2023-03-03T03:15:06.798Z"
   },
   {
    "duration": 5,
    "start_time": "2023-03-03T03:15:06.854Z"
   },
   {
    "duration": 14,
    "start_time": "2023-03-03T03:15:06.861Z"
   },
   {
    "duration": 446,
    "start_time": "2023-03-03T03:15:06.877Z"
   },
   {
    "duration": 150,
    "start_time": "2023-03-03T03:15:07.325Z"
   },
   {
    "duration": 335,
    "start_time": "2023-03-03T03:15:07.477Z"
   },
   {
    "duration": 342,
    "start_time": "2023-03-03T03:15:07.814Z"
   },
   {
    "duration": 318,
    "start_time": "2023-03-03T03:15:08.158Z"
   },
   {
    "duration": 327,
    "start_time": "2023-03-03T03:15:08.478Z"
   },
   {
    "duration": 279,
    "start_time": "2023-03-03T03:15:08.807Z"
   },
   {
    "duration": 329,
    "start_time": "2023-03-03T03:15:09.088Z"
   },
   {
    "duration": 330,
    "start_time": "2023-03-03T03:15:09.419Z"
   },
   {
    "duration": 546,
    "start_time": "2023-03-03T03:15:09.750Z"
   },
   {
    "duration": 198,
    "start_time": "2023-03-03T03:15:10.298Z"
   },
   {
    "duration": 151,
    "start_time": "2023-03-03T03:15:10.498Z"
   },
   {
    "duration": 510,
    "start_time": "2023-03-03T03:15:10.651Z"
   },
   {
    "duration": 14,
    "start_time": "2023-03-03T03:15:11.163Z"
   },
   {
    "duration": 16,
    "start_time": "2023-03-03T03:15:11.179Z"
   },
   {
    "duration": 213,
    "start_time": "2023-03-03T03:15:11.197Z"
   },
   {
    "duration": 460,
    "start_time": "2023-03-03T03:16:27.675Z"
   },
   {
    "duration": 335,
    "start_time": "2023-03-03T03:16:51.322Z"
   },
   {
    "duration": 357,
    "start_time": "2023-03-03T03:17:20.536Z"
   },
   {
    "duration": 217,
    "start_time": "2023-03-03T03:17:49.776Z"
   },
   {
    "duration": 231,
    "start_time": "2023-03-03T03:18:25.205Z"
   },
   {
    "duration": 327,
    "start_time": "2023-03-03T03:18:55.474Z"
   },
   {
    "duration": 141,
    "start_time": "2023-03-03T03:40:16.341Z"
   },
   {
    "duration": 350,
    "start_time": "2023-03-03T03:40:42.235Z"
   },
   {
    "duration": 515,
    "start_time": "2023-03-03T03:41:06.346Z"
   },
   {
    "duration": 361,
    "start_time": "2023-03-03T03:41:36.880Z"
   },
   {
    "duration": 166,
    "start_time": "2023-03-03T03:42:15.951Z"
   },
   {
    "duration": 167,
    "start_time": "2023-03-03T03:42:30.540Z"
   },
   {
    "duration": 154,
    "start_time": "2023-03-03T03:42:38.862Z"
   },
   {
    "duration": 316,
    "start_time": "2023-03-03T03:43:19.426Z"
   },
   {
    "duration": 324,
    "start_time": "2023-03-03T03:45:48.921Z"
   },
   {
    "duration": 606,
    "start_time": "2023-03-03T03:47:09.107Z"
   },
   {
    "duration": 222,
    "start_time": "2023-03-03T03:47:44.144Z"
   },
   {
    "duration": 144,
    "start_time": "2023-03-03T03:48:13.159Z"
   },
   {
    "duration": 152,
    "start_time": "2023-03-03T03:48:34.761Z"
   },
   {
    "duration": 744,
    "start_time": "2023-03-03T03:50:18.536Z"
   },
   {
    "duration": 209,
    "start_time": "2023-03-03T03:51:53.257Z"
   },
   {
    "duration": 59,
    "start_time": "2023-03-03T05:12:34.471Z"
   },
   {
    "duration": 45,
    "start_time": "2023-03-03T05:12:49.703Z"
   },
   {
    "duration": 0,
    "start_time": "2023-03-03T05:12:49.750Z"
   },
   {
    "duration": 0,
    "start_time": "2023-03-03T05:12:49.751Z"
   },
   {
    "duration": 0,
    "start_time": "2023-03-03T05:12:49.753Z"
   },
   {
    "duration": 0,
    "start_time": "2023-03-03T05:12:49.754Z"
   },
   {
    "duration": 0,
    "start_time": "2023-03-03T05:12:49.755Z"
   },
   {
    "duration": 0,
    "start_time": "2023-03-03T05:12:49.756Z"
   },
   {
    "duration": 0,
    "start_time": "2023-03-03T05:12:49.757Z"
   },
   {
    "duration": 0,
    "start_time": "2023-03-03T05:12:49.758Z"
   },
   {
    "duration": 45,
    "start_time": "2023-03-03T05:12:49.760Z"
   },
   {
    "duration": 0,
    "start_time": "2023-03-03T05:12:49.849Z"
   },
   {
    "duration": 0,
    "start_time": "2023-03-03T05:12:49.850Z"
   },
   {
    "duration": 0,
    "start_time": "2023-03-03T05:12:49.851Z"
   },
   {
    "duration": 0,
    "start_time": "2023-03-03T05:12:49.853Z"
   },
   {
    "duration": 0,
    "start_time": "2023-03-03T05:12:49.854Z"
   },
   {
    "duration": 0,
    "start_time": "2023-03-03T05:12:49.855Z"
   },
   {
    "duration": 0,
    "start_time": "2023-03-03T05:12:49.857Z"
   },
   {
    "duration": 0,
    "start_time": "2023-03-03T05:12:49.858Z"
   },
   {
    "duration": 0,
    "start_time": "2023-03-03T05:12:49.859Z"
   },
   {
    "duration": 0,
    "start_time": "2023-03-03T05:12:49.860Z"
   },
   {
    "duration": 0,
    "start_time": "2023-03-03T05:12:49.861Z"
   },
   {
    "duration": 0,
    "start_time": "2023-03-03T05:12:49.862Z"
   },
   {
    "duration": 0,
    "start_time": "2023-03-03T05:12:49.864Z"
   },
   {
    "duration": 0,
    "start_time": "2023-03-03T05:12:49.865Z"
   },
   {
    "duration": 0,
    "start_time": "2023-03-03T05:12:49.866Z"
   },
   {
    "duration": 0,
    "start_time": "2023-03-03T05:12:49.867Z"
   },
   {
    "duration": 0,
    "start_time": "2023-03-03T05:12:49.867Z"
   },
   {
    "duration": 0,
    "start_time": "2023-03-03T05:12:49.868Z"
   },
   {
    "duration": 0,
    "start_time": "2023-03-03T05:12:49.869Z"
   },
   {
    "duration": 0,
    "start_time": "2023-03-03T05:12:49.870Z"
   },
   {
    "duration": 0,
    "start_time": "2023-03-03T05:12:49.871Z"
   },
   {
    "duration": 0,
    "start_time": "2023-03-03T05:12:49.872Z"
   },
   {
    "duration": 0,
    "start_time": "2023-03-03T05:12:49.873Z"
   },
   {
    "duration": 0,
    "start_time": "2023-03-03T05:12:49.874Z"
   },
   {
    "duration": 0,
    "start_time": "2023-03-03T05:12:49.875Z"
   },
   {
    "duration": 0,
    "start_time": "2023-03-03T05:12:49.875Z"
   },
   {
    "duration": 0,
    "start_time": "2023-03-03T05:12:49.876Z"
   },
   {
    "duration": 0,
    "start_time": "2023-03-03T05:12:49.877Z"
   },
   {
    "duration": 0,
    "start_time": "2023-03-03T05:12:49.878Z"
   },
   {
    "duration": 69,
    "start_time": "2023-03-03T05:12:49.882Z"
   },
   {
    "duration": 0,
    "start_time": "2023-03-03T05:12:49.952Z"
   },
   {
    "duration": 0,
    "start_time": "2023-03-03T05:12:49.953Z"
   },
   {
    "duration": 0,
    "start_time": "2023-03-03T05:12:49.954Z"
   },
   {
    "duration": 0,
    "start_time": "2023-03-03T05:12:49.955Z"
   },
   {
    "duration": 0,
    "start_time": "2023-03-03T05:12:49.956Z"
   },
   {
    "duration": 0,
    "start_time": "2023-03-03T05:12:49.957Z"
   },
   {
    "duration": 0,
    "start_time": "2023-03-03T05:12:49.958Z"
   },
   {
    "duration": 0,
    "start_time": "2023-03-03T05:12:49.959Z"
   },
   {
    "duration": 0,
    "start_time": "2023-03-03T05:12:49.959Z"
   },
   {
    "duration": 0,
    "start_time": "2023-03-03T05:12:49.960Z"
   },
   {
    "duration": 0,
    "start_time": "2023-03-03T05:12:49.961Z"
   },
   {
    "duration": 0,
    "start_time": "2023-03-03T05:12:49.962Z"
   },
   {
    "duration": 0,
    "start_time": "2023-03-03T05:12:49.963Z"
   },
   {
    "duration": 0,
    "start_time": "2023-03-03T05:12:49.964Z"
   },
   {
    "duration": 0,
    "start_time": "2023-03-03T05:12:49.965Z"
   },
   {
    "duration": 0,
    "start_time": "2023-03-03T05:12:49.966Z"
   },
   {
    "duration": 0,
    "start_time": "2023-03-03T05:12:49.967Z"
   },
   {
    "duration": 0,
    "start_time": "2023-03-03T05:12:49.968Z"
   },
   {
    "duration": 0,
    "start_time": "2023-03-03T05:12:49.969Z"
   },
   {
    "duration": 0,
    "start_time": "2023-03-03T05:12:49.981Z"
   },
   {
    "duration": 0,
    "start_time": "2023-03-03T05:12:49.990Z"
   },
   {
    "duration": 68,
    "start_time": "2023-03-03T05:18:43.703Z"
   },
   {
    "duration": 50,
    "start_time": "2023-03-03T05:19:02.718Z"
   },
   {
    "duration": 44,
    "start_time": "2023-03-03T05:19:40.947Z"
   },
   {
    "duration": 84,
    "start_time": "2023-03-03T05:21:10.713Z"
   },
   {
    "duration": 8,
    "start_time": "2023-03-03T05:21:12.886Z"
   },
   {
    "duration": 759,
    "start_time": "2023-03-03T05:21:26.841Z"
   },
   {
    "duration": 14,
    "start_time": "2023-03-03T05:21:27.602Z"
   },
   {
    "duration": 76,
    "start_time": "2023-03-03T05:21:27.618Z"
   },
   {
    "duration": 2063,
    "start_time": "2023-03-03T05:21:27.696Z"
   },
   {
    "duration": 10,
    "start_time": "2023-03-03T05:21:29.760Z"
   },
   {
    "duration": 12,
    "start_time": "2023-03-03T05:21:29.772Z"
   },
   {
    "duration": 21,
    "start_time": "2023-03-03T05:21:29.785Z"
   },
   {
    "duration": 7,
    "start_time": "2023-03-03T05:21:29.808Z"
   },
   {
    "duration": 13,
    "start_time": "2023-03-03T05:21:29.817Z"
   },
   {
    "duration": 9,
    "start_time": "2023-03-03T05:21:29.851Z"
   },
   {
    "duration": 6,
    "start_time": "2023-03-03T05:21:29.862Z"
   },
   {
    "duration": 6,
    "start_time": "2023-03-03T05:21:29.870Z"
   },
   {
    "duration": 9,
    "start_time": "2023-03-03T05:21:29.878Z"
   },
   {
    "duration": 9,
    "start_time": "2023-03-03T05:21:29.888Z"
   },
   {
    "duration": 24,
    "start_time": "2023-03-03T05:21:29.898Z"
   },
   {
    "duration": 7,
    "start_time": "2023-03-03T05:21:29.948Z"
   },
   {
    "duration": 18,
    "start_time": "2023-03-03T05:21:29.956Z"
   },
   {
    "duration": 27,
    "start_time": "2023-03-03T05:21:29.976Z"
   },
   {
    "duration": 46,
    "start_time": "2023-03-03T05:21:30.005Z"
   },
   {
    "duration": 8,
    "start_time": "2023-03-03T05:21:30.053Z"
   },
   {
    "duration": 26,
    "start_time": "2023-03-03T05:21:30.063Z"
   },
   {
    "duration": 86,
    "start_time": "2023-03-03T05:21:30.091Z"
   },
   {
    "duration": 4,
    "start_time": "2023-03-03T05:21:30.179Z"
   },
   {
    "duration": 48,
    "start_time": "2023-03-03T05:21:30.185Z"
   },
   {
    "duration": 11,
    "start_time": "2023-03-03T05:21:30.234Z"
   },
   {
    "duration": 248,
    "start_time": "2023-03-03T05:21:30.247Z"
   },
   {
    "duration": 3,
    "start_time": "2023-03-03T05:21:30.497Z"
   },
   {
    "duration": 375,
    "start_time": "2023-03-03T05:21:30.503Z"
   },
   {
    "duration": 4,
    "start_time": "2023-03-03T05:21:30.880Z"
   },
   {
    "duration": 59,
    "start_time": "2023-03-03T05:21:30.886Z"
   },
   {
    "duration": 335,
    "start_time": "2023-03-03T05:21:30.947Z"
   },
   {
    "duration": 305,
    "start_time": "2023-03-03T05:21:31.283Z"
   },
   {
    "duration": 313,
    "start_time": "2023-03-03T05:21:31.589Z"
   },
   {
    "duration": 308,
    "start_time": "2023-03-03T05:21:31.905Z"
   },
   {
    "duration": 34,
    "start_time": "2023-03-03T05:21:32.215Z"
   },
   {
    "duration": 9,
    "start_time": "2023-03-03T05:21:32.250Z"
   },
   {
    "duration": 217,
    "start_time": "2023-03-03T05:21:32.261Z"
   },
   {
    "duration": 4,
    "start_time": "2023-03-03T05:21:32.480Z"
   },
   {
    "duration": 20,
    "start_time": "2023-03-03T05:21:32.485Z"
   },
   {
    "duration": 20,
    "start_time": "2023-03-03T05:21:32.507Z"
   },
   {
    "duration": 220,
    "start_time": "2023-03-03T05:21:32.528Z"
   },
   {
    "duration": 49,
    "start_time": "2023-03-03T05:21:32.750Z"
   },
   {
    "duration": 8,
    "start_time": "2023-03-03T05:21:32.801Z"
   },
   {
    "duration": 37,
    "start_time": "2023-03-03T05:21:32.812Z"
   },
   {
    "duration": 443,
    "start_time": "2023-03-03T05:21:32.851Z"
   },
   {
    "duration": 129,
    "start_time": "2023-03-03T05:21:33.296Z"
   },
   {
    "duration": 50,
    "start_time": "2023-03-03T05:21:33.426Z"
   },
   {
    "duration": 0,
    "start_time": "2023-03-03T05:21:33.478Z"
   },
   {
    "duration": 0,
    "start_time": "2023-03-03T05:21:33.479Z"
   },
   {
    "duration": 0,
    "start_time": "2023-03-03T05:21:33.480Z"
   },
   {
    "duration": 0,
    "start_time": "2023-03-03T05:21:33.481Z"
   },
   {
    "duration": 0,
    "start_time": "2023-03-03T05:21:33.482Z"
   },
   {
    "duration": 0,
    "start_time": "2023-03-03T05:21:33.483Z"
   },
   {
    "duration": 0,
    "start_time": "2023-03-03T05:21:33.484Z"
   },
   {
    "duration": 0,
    "start_time": "2023-03-03T05:21:33.486Z"
   },
   {
    "duration": 0,
    "start_time": "2023-03-03T05:21:33.487Z"
   },
   {
    "duration": 0,
    "start_time": "2023-03-03T05:21:33.489Z"
   },
   {
    "duration": 0,
    "start_time": "2023-03-03T05:21:33.490Z"
   },
   {
    "duration": 0,
    "start_time": "2023-03-03T05:21:33.492Z"
   },
   {
    "duration": 0,
    "start_time": "2023-03-03T05:21:33.493Z"
   },
   {
    "duration": 0,
    "start_time": "2023-03-03T05:21:33.494Z"
   },
   {
    "duration": 731,
    "start_time": "2023-03-03T05:26:59.497Z"
   },
   {
    "duration": 19,
    "start_time": "2023-03-03T05:27:00.230Z"
   },
   {
    "duration": 75,
    "start_time": "2023-03-03T05:27:00.250Z"
   },
   {
    "duration": 2228,
    "start_time": "2023-03-03T05:27:00.327Z"
   },
   {
    "duration": 10,
    "start_time": "2023-03-03T05:27:02.558Z"
   },
   {
    "duration": 21,
    "start_time": "2023-03-03T05:27:02.569Z"
   },
   {
    "duration": 30,
    "start_time": "2023-03-03T05:27:02.592Z"
   },
   {
    "duration": 7,
    "start_time": "2023-03-03T05:27:02.624Z"
   },
   {
    "duration": 18,
    "start_time": "2023-03-03T05:27:02.632Z"
   },
   {
    "duration": 30,
    "start_time": "2023-03-03T05:27:02.652Z"
   },
   {
    "duration": 28,
    "start_time": "2023-03-03T05:27:02.684Z"
   },
   {
    "duration": 20,
    "start_time": "2023-03-03T05:27:02.714Z"
   },
   {
    "duration": 24,
    "start_time": "2023-03-03T05:27:02.736Z"
   },
   {
    "duration": 19,
    "start_time": "2023-03-03T05:27:02.764Z"
   },
   {
    "duration": 30,
    "start_time": "2023-03-03T05:27:02.785Z"
   },
   {
    "duration": 40,
    "start_time": "2023-03-03T05:27:02.817Z"
   },
   {
    "duration": 25,
    "start_time": "2023-03-03T05:27:02.859Z"
   },
   {
    "duration": 25,
    "start_time": "2023-03-03T05:27:02.886Z"
   },
   {
    "duration": 32,
    "start_time": "2023-03-03T05:27:02.913Z"
   },
   {
    "duration": 9,
    "start_time": "2023-03-03T05:27:02.948Z"
   },
   {
    "duration": 30,
    "start_time": "2023-03-03T05:27:02.959Z"
   },
   {
    "duration": 87,
    "start_time": "2023-03-03T05:27:02.991Z"
   },
   {
    "duration": 5,
    "start_time": "2023-03-03T05:27:03.080Z"
   },
   {
    "duration": 15,
    "start_time": "2023-03-03T05:27:03.087Z"
   },
   {
    "duration": 9,
    "start_time": "2023-03-03T05:27:03.104Z"
   },
   {
    "duration": 234,
    "start_time": "2023-03-03T05:27:03.114Z"
   },
   {
    "duration": 4,
    "start_time": "2023-03-03T05:27:03.350Z"
   },
   {
    "duration": 365,
    "start_time": "2023-03-03T05:27:03.356Z"
   },
   {
    "duration": 4,
    "start_time": "2023-03-03T05:27:03.723Z"
   },
   {
    "duration": 38,
    "start_time": "2023-03-03T05:27:03.729Z"
   },
   {
    "duration": 317,
    "start_time": "2023-03-03T05:27:03.769Z"
   },
   {
    "duration": 352,
    "start_time": "2023-03-03T05:27:04.087Z"
   },
   {
    "duration": 341,
    "start_time": "2023-03-03T05:27:04.441Z"
   },
   {
    "duration": 325,
    "start_time": "2023-03-03T05:27:04.784Z"
   },
   {
    "duration": 37,
    "start_time": "2023-03-03T05:27:05.111Z"
   },
   {
    "duration": 11,
    "start_time": "2023-03-03T05:27:05.150Z"
   },
   {
    "duration": 275,
    "start_time": "2023-03-03T05:27:05.165Z"
   },
   {
    "duration": 5,
    "start_time": "2023-03-03T05:27:05.447Z"
   },
   {
    "duration": 10,
    "start_time": "2023-03-03T05:27:05.454Z"
   },
   {
    "duration": 8,
    "start_time": "2023-03-03T05:27:05.466Z"
   },
   {
    "duration": 226,
    "start_time": "2023-03-03T05:27:05.478Z"
   },
   {
    "duration": 58,
    "start_time": "2023-03-03T05:27:05.706Z"
   },
   {
    "duration": 4,
    "start_time": "2023-03-03T05:27:05.765Z"
   },
   {
    "duration": 13,
    "start_time": "2023-03-03T05:27:05.770Z"
   },
   {
    "duration": 452,
    "start_time": "2023-03-03T05:27:05.785Z"
   },
   {
    "duration": 132,
    "start_time": "2023-03-03T05:27:06.239Z"
   },
   {
    "duration": 319,
    "start_time": "2023-03-03T05:27:06.372Z"
   },
   {
    "duration": 323,
    "start_time": "2023-03-03T05:27:06.692Z"
   },
   {
    "duration": 311,
    "start_time": "2023-03-03T05:27:07.016Z"
   },
   {
    "duration": 311,
    "start_time": "2023-03-03T05:27:07.329Z"
   },
   {
    "duration": 254,
    "start_time": "2023-03-03T05:27:07.648Z"
   },
   {
    "duration": 314,
    "start_time": "2023-03-03T05:27:07.904Z"
   },
   {
    "duration": 333,
    "start_time": "2023-03-03T05:27:08.220Z"
   },
   {
    "duration": 546,
    "start_time": "2023-03-03T05:27:08.555Z"
   },
   {
    "duration": 202,
    "start_time": "2023-03-03T05:27:09.103Z"
   },
   {
    "duration": 144,
    "start_time": "2023-03-03T05:27:09.307Z"
   },
   {
    "duration": 585,
    "start_time": "2023-03-03T05:27:09.454Z"
   },
   {
    "duration": 16,
    "start_time": "2023-03-03T05:27:10.041Z"
   },
   {
    "duration": 15,
    "start_time": "2023-03-03T05:27:10.059Z"
   },
   {
    "duration": 192,
    "start_time": "2023-03-03T05:27:10.076Z"
   },
   {
    "duration": 791,
    "start_time": "2023-03-03T05:35:33.607Z"
   },
   {
    "duration": 15,
    "start_time": "2023-03-03T05:35:34.400Z"
   },
   {
    "duration": 88,
    "start_time": "2023-03-03T05:35:34.417Z"
   },
   {
    "duration": 2197,
    "start_time": "2023-03-03T05:35:34.506Z"
   },
   {
    "duration": 10,
    "start_time": "2023-03-03T05:35:36.705Z"
   },
   {
    "duration": 7,
    "start_time": "2023-03-03T05:35:36.717Z"
   },
   {
    "duration": 22,
    "start_time": "2023-03-03T05:35:36.726Z"
   },
   {
    "duration": 7,
    "start_time": "2023-03-03T05:35:36.750Z"
   },
   {
    "duration": 8,
    "start_time": "2023-03-03T05:35:36.759Z"
   },
   {
    "duration": 8,
    "start_time": "2023-03-03T05:35:36.769Z"
   },
   {
    "duration": 10,
    "start_time": "2023-03-03T05:35:36.778Z"
   },
   {
    "duration": 6,
    "start_time": "2023-03-03T05:35:36.790Z"
   },
   {
    "duration": 7,
    "start_time": "2023-03-03T05:35:36.798Z"
   },
   {
    "duration": 40,
    "start_time": "2023-03-03T05:35:36.808Z"
   },
   {
    "duration": 9,
    "start_time": "2023-03-03T05:35:36.850Z"
   },
   {
    "duration": 10,
    "start_time": "2023-03-03T05:35:36.861Z"
   },
   {
    "duration": 16,
    "start_time": "2023-03-03T05:35:36.873Z"
   },
   {
    "duration": 22,
    "start_time": "2023-03-03T05:35:36.890Z"
   },
   {
    "duration": 48,
    "start_time": "2023-03-03T05:35:36.913Z"
   },
   {
    "duration": 9,
    "start_time": "2023-03-03T05:35:36.962Z"
   },
   {
    "duration": 21,
    "start_time": "2023-03-03T05:35:36.972Z"
   },
   {
    "duration": 74,
    "start_time": "2023-03-03T05:35:36.995Z"
   },
   {
    "duration": 5,
    "start_time": "2023-03-03T05:35:37.070Z"
   },
   {
    "duration": 36,
    "start_time": "2023-03-03T05:35:37.076Z"
   },
   {
    "duration": 4,
    "start_time": "2023-03-03T05:35:37.114Z"
   },
   {
    "duration": 233,
    "start_time": "2023-03-03T05:35:37.120Z"
   },
   {
    "duration": 4,
    "start_time": "2023-03-03T05:35:37.354Z"
   },
   {
    "duration": 349,
    "start_time": "2023-03-03T05:35:37.359Z"
   },
   {
    "duration": 4,
    "start_time": "2023-03-03T05:35:37.710Z"
   },
   {
    "duration": 39,
    "start_time": "2023-03-03T05:35:37.716Z"
   },
   {
    "duration": 330,
    "start_time": "2023-03-03T05:35:37.757Z"
   },
   {
    "duration": 310,
    "start_time": "2023-03-03T05:35:38.089Z"
   },
   {
    "duration": 337,
    "start_time": "2023-03-03T05:35:38.401Z"
   },
   {
    "duration": 325,
    "start_time": "2023-03-03T05:35:38.740Z"
   },
   {
    "duration": 23,
    "start_time": "2023-03-03T05:35:39.066Z"
   },
   {
    "duration": 9,
    "start_time": "2023-03-03T05:35:39.091Z"
   },
   {
    "duration": 225,
    "start_time": "2023-03-03T05:35:39.102Z"
   },
   {
    "duration": 4,
    "start_time": "2023-03-03T05:35:39.329Z"
   },
   {
    "duration": 32,
    "start_time": "2023-03-03T05:35:39.335Z"
   },
   {
    "duration": 17,
    "start_time": "2023-03-03T05:35:39.368Z"
   },
   {
    "duration": 201,
    "start_time": "2023-03-03T05:35:39.389Z"
   },
   {
    "duration": 58,
    "start_time": "2023-03-03T05:35:39.591Z"
   },
   {
    "duration": 5,
    "start_time": "2023-03-03T05:35:39.651Z"
   },
   {
    "duration": 11,
    "start_time": "2023-03-03T05:35:39.658Z"
   },
   {
    "duration": 448,
    "start_time": "2023-03-03T05:35:39.672Z"
   },
   {
    "duration": 139,
    "start_time": "2023-03-03T05:35:40.122Z"
   },
   {
    "duration": 323,
    "start_time": "2023-03-03T05:35:40.263Z"
   },
   {
    "duration": 327,
    "start_time": "2023-03-03T05:35:40.588Z"
   },
   {
    "duration": 310,
    "start_time": "2023-03-03T05:35:40.918Z"
   },
   {
    "duration": 322,
    "start_time": "2023-03-03T05:35:41.230Z"
   },
   {
    "duration": 264,
    "start_time": "2023-03-03T05:35:41.554Z"
   },
   {
    "duration": 330,
    "start_time": "2023-03-03T05:35:41.820Z"
   },
   {
    "duration": 323,
    "start_time": "2023-03-03T05:35:42.152Z"
   },
   {
    "duration": 576,
    "start_time": "2023-03-03T05:35:42.477Z"
   },
   {
    "duration": 208,
    "start_time": "2023-03-03T05:35:43.055Z"
   },
   {
    "duration": 157,
    "start_time": "2023-03-03T05:35:43.265Z"
   },
   {
    "duration": 629,
    "start_time": "2023-03-03T05:35:43.424Z"
   },
   {
    "duration": 13,
    "start_time": "2023-03-03T05:35:44.054Z"
   },
   {
    "duration": 15,
    "start_time": "2023-03-03T05:35:44.069Z"
   },
   {
    "duration": 227,
    "start_time": "2023-03-03T05:35:44.085Z"
   },
   {
    "duration": 812,
    "start_time": "2023-03-03T05:37:19.262Z"
   },
   {
    "duration": 15,
    "start_time": "2023-03-03T05:37:20.076Z"
   },
   {
    "duration": 89,
    "start_time": "2023-03-03T05:37:20.092Z"
   },
   {
    "duration": 2116,
    "start_time": "2023-03-03T05:37:20.183Z"
   },
   {
    "duration": 9,
    "start_time": "2023-03-03T05:37:22.301Z"
   },
   {
    "duration": 17,
    "start_time": "2023-03-03T05:37:22.311Z"
   },
   {
    "duration": 28,
    "start_time": "2023-03-03T05:37:22.330Z"
   },
   {
    "duration": 16,
    "start_time": "2023-03-03T05:37:22.359Z"
   },
   {
    "duration": 20,
    "start_time": "2023-03-03T05:37:22.377Z"
   },
   {
    "duration": 19,
    "start_time": "2023-03-03T05:37:22.400Z"
   },
   {
    "duration": 36,
    "start_time": "2023-03-03T05:37:22.421Z"
   },
   {
    "duration": 24,
    "start_time": "2023-03-03T05:37:22.459Z"
   },
   {
    "duration": 16,
    "start_time": "2023-03-03T05:37:22.484Z"
   },
   {
    "duration": 9,
    "start_time": "2023-03-03T05:37:22.502Z"
   },
   {
    "duration": 17,
    "start_time": "2023-03-03T05:37:22.512Z"
   },
   {
    "duration": 26,
    "start_time": "2023-03-03T05:37:22.531Z"
   },
   {
    "duration": 25,
    "start_time": "2023-03-03T05:37:22.559Z"
   },
   {
    "duration": 24,
    "start_time": "2023-03-03T05:37:22.586Z"
   },
   {
    "duration": 20,
    "start_time": "2023-03-03T05:37:22.612Z"
   },
   {
    "duration": 8,
    "start_time": "2023-03-03T05:37:22.633Z"
   },
   {
    "duration": 9,
    "start_time": "2023-03-03T05:37:22.648Z"
   },
   {
    "duration": 74,
    "start_time": "2023-03-03T05:37:22.659Z"
   },
   {
    "duration": 4,
    "start_time": "2023-03-03T05:37:22.735Z"
   },
   {
    "duration": 18,
    "start_time": "2023-03-03T05:37:22.740Z"
   },
   {
    "duration": 35,
    "start_time": "2023-03-03T05:37:22.760Z"
   },
   {
    "duration": 238,
    "start_time": "2023-03-03T05:37:22.797Z"
   },
   {
    "duration": 4,
    "start_time": "2023-03-03T05:37:23.037Z"
   },
   {
    "duration": 353,
    "start_time": "2023-03-03T05:37:23.047Z"
   },
   {
    "duration": 4,
    "start_time": "2023-03-03T05:37:23.402Z"
   },
   {
    "duration": 39,
    "start_time": "2023-03-03T05:37:23.408Z"
   },
   {
    "duration": 303,
    "start_time": "2023-03-03T05:37:23.449Z"
   },
   {
    "duration": 311,
    "start_time": "2023-03-03T05:37:23.753Z"
   },
   {
    "duration": 340,
    "start_time": "2023-03-03T05:37:24.066Z"
   },
   {
    "duration": 326,
    "start_time": "2023-03-03T05:37:24.408Z"
   },
   {
    "duration": 31,
    "start_time": "2023-03-03T05:37:24.736Z"
   },
   {
    "duration": 9,
    "start_time": "2023-03-03T05:37:24.769Z"
   },
   {
    "duration": 228,
    "start_time": "2023-03-03T05:37:24.780Z"
   },
   {
    "duration": 5,
    "start_time": "2023-03-03T05:37:25.010Z"
   },
   {
    "duration": 27,
    "start_time": "2023-03-03T05:37:25.017Z"
   },
   {
    "duration": 30,
    "start_time": "2023-03-03T05:37:25.046Z"
   },
   {
    "duration": 272,
    "start_time": "2023-03-03T05:37:25.078Z"
   },
   {
    "duration": 60,
    "start_time": "2023-03-03T05:37:25.352Z"
   },
   {
    "duration": 4,
    "start_time": "2023-03-03T05:37:25.414Z"
   },
   {
    "duration": 33,
    "start_time": "2023-03-03T05:37:25.419Z"
   },
   {
    "duration": 416,
    "start_time": "2023-03-03T05:37:25.454Z"
   },
   {
    "duration": 134,
    "start_time": "2023-03-03T05:37:25.872Z"
   },
   {
    "duration": 315,
    "start_time": "2023-03-03T05:37:26.008Z"
   },
   {
    "duration": 326,
    "start_time": "2023-03-03T05:37:26.325Z"
   },
   {
    "duration": 305,
    "start_time": "2023-03-03T05:37:26.654Z"
   },
   {
    "duration": 326,
    "start_time": "2023-03-03T05:37:26.961Z"
   },
   {
    "duration": 275,
    "start_time": "2023-03-03T05:37:27.289Z"
   },
   {
    "duration": 306,
    "start_time": "2023-03-03T05:37:27.566Z"
   },
   {
    "duration": 325,
    "start_time": "2023-03-03T05:37:27.874Z"
   },
   {
    "duration": 567,
    "start_time": "2023-03-03T05:37:28.201Z"
   },
   {
    "duration": 198,
    "start_time": "2023-03-03T05:37:28.770Z"
   },
   {
    "duration": 153,
    "start_time": "2023-03-03T05:37:28.970Z"
   },
   {
    "duration": 606,
    "start_time": "2023-03-03T05:37:29.124Z"
   },
   {
    "duration": 17,
    "start_time": "2023-03-03T05:37:29.732Z"
   },
   {
    "duration": 15,
    "start_time": "2023-03-03T05:37:29.750Z"
   },
   {
    "duration": 209,
    "start_time": "2023-03-03T05:37:29.766Z"
   },
   {
    "duration": 773,
    "start_time": "2023-03-03T05:39:07.334Z"
   },
   {
    "duration": 14,
    "start_time": "2023-03-03T05:39:08.109Z"
   },
   {
    "duration": 86,
    "start_time": "2023-03-03T05:39:08.124Z"
   },
   {
    "duration": 2095,
    "start_time": "2023-03-03T05:39:08.212Z"
   },
   {
    "duration": 9,
    "start_time": "2023-03-03T05:39:10.309Z"
   },
   {
    "duration": 8,
    "start_time": "2023-03-03T05:39:10.320Z"
   },
   {
    "duration": 20,
    "start_time": "2023-03-03T05:39:10.329Z"
   },
   {
    "duration": 6,
    "start_time": "2023-03-03T05:39:10.351Z"
   },
   {
    "duration": 6,
    "start_time": "2023-03-03T05:39:10.358Z"
   },
   {
    "duration": 6,
    "start_time": "2023-03-03T05:39:10.367Z"
   },
   {
    "duration": 8,
    "start_time": "2023-03-03T05:39:10.375Z"
   },
   {
    "duration": 4,
    "start_time": "2023-03-03T05:39:10.385Z"
   },
   {
    "duration": 10,
    "start_time": "2023-03-03T05:39:10.391Z"
   },
   {
    "duration": 8,
    "start_time": "2023-03-03T05:39:10.403Z"
   },
   {
    "duration": 40,
    "start_time": "2023-03-03T05:39:10.412Z"
   },
   {
    "duration": 5,
    "start_time": "2023-03-03T05:39:10.454Z"
   },
   {
    "duration": 16,
    "start_time": "2023-03-03T05:39:10.461Z"
   },
   {
    "duration": 21,
    "start_time": "2023-03-03T05:39:10.478Z"
   },
   {
    "duration": 48,
    "start_time": "2023-03-03T05:39:10.501Z"
   },
   {
    "duration": 8,
    "start_time": "2023-03-03T05:39:10.551Z"
   },
   {
    "duration": 9,
    "start_time": "2023-03-03T05:39:10.561Z"
   },
   {
    "duration": 84,
    "start_time": "2023-03-03T05:39:10.572Z"
   },
   {
    "duration": 4,
    "start_time": "2023-03-03T05:39:10.658Z"
   },
   {
    "duration": 18,
    "start_time": "2023-03-03T05:39:10.663Z"
   },
   {
    "duration": 4,
    "start_time": "2023-03-03T05:39:10.682Z"
   },
   {
    "duration": 262,
    "start_time": "2023-03-03T05:39:10.687Z"
   },
   {
    "duration": 3,
    "start_time": "2023-03-03T05:39:10.951Z"
   },
   {
    "duration": 353,
    "start_time": "2023-03-03T05:39:10.958Z"
   },
   {
    "duration": 5,
    "start_time": "2023-03-03T05:39:11.312Z"
   },
   {
    "duration": 39,
    "start_time": "2023-03-03T05:39:11.318Z"
   },
   {
    "duration": 302,
    "start_time": "2023-03-03T05:39:11.359Z"
   },
   {
    "duration": 306,
    "start_time": "2023-03-03T05:39:11.662Z"
   },
   {
    "duration": 315,
    "start_time": "2023-03-03T05:39:11.969Z"
   },
   {
    "duration": 324,
    "start_time": "2023-03-03T05:39:12.285Z"
   },
   {
    "duration": 25,
    "start_time": "2023-03-03T05:39:12.612Z"
   },
   {
    "duration": 10,
    "start_time": "2023-03-03T05:39:12.648Z"
   },
   {
    "duration": 237,
    "start_time": "2023-03-03T05:39:12.660Z"
   },
   {
    "duration": 5,
    "start_time": "2023-03-03T05:39:12.899Z"
   },
   {
    "duration": 15,
    "start_time": "2023-03-03T05:39:12.906Z"
   },
   {
    "duration": 27,
    "start_time": "2023-03-03T05:39:12.923Z"
   },
   {
    "duration": 214,
    "start_time": "2023-03-03T05:39:12.953Z"
   },
   {
    "duration": 47,
    "start_time": "2023-03-03T05:39:13.169Z"
   },
   {
    "duration": 3,
    "start_time": "2023-03-03T05:39:13.218Z"
   },
   {
    "duration": 29,
    "start_time": "2023-03-03T05:39:13.223Z"
   },
   {
    "duration": 443,
    "start_time": "2023-03-03T05:39:13.254Z"
   },
   {
    "duration": 132,
    "start_time": "2023-03-03T05:39:13.699Z"
   },
   {
    "duration": 338,
    "start_time": "2023-03-03T05:39:13.832Z"
   },
   {
    "duration": 335,
    "start_time": "2023-03-03T05:39:14.173Z"
   },
   {
    "duration": 306,
    "start_time": "2023-03-03T05:39:14.510Z"
   },
   {
    "duration": 327,
    "start_time": "2023-03-03T05:39:14.818Z"
   },
   {
    "duration": 316,
    "start_time": "2023-03-03T05:39:15.146Z"
   },
   {
    "duration": 311,
    "start_time": "2023-03-03T05:39:15.464Z"
   },
   {
    "duration": 344,
    "start_time": "2023-03-03T05:39:15.778Z"
   },
   {
    "duration": 568,
    "start_time": "2023-03-03T05:39:16.124Z"
   },
   {
    "duration": 199,
    "start_time": "2023-03-03T05:39:16.694Z"
   },
   {
    "duration": 149,
    "start_time": "2023-03-03T05:39:16.895Z"
   },
   {
    "duration": 587,
    "start_time": "2023-03-03T05:39:17.047Z"
   },
   {
    "duration": 19,
    "start_time": "2023-03-03T05:39:17.636Z"
   },
   {
    "duration": 14,
    "start_time": "2023-03-03T05:39:17.656Z"
   },
   {
    "duration": 203,
    "start_time": "2023-03-03T05:39:17.672Z"
   }
  ],
  "kernelspec": {
   "display_name": "Python 3 (ipykernel)",
   "language": "python",
   "name": "python3"
  },
  "language_info": {
   "codemirror_mode": {
    "name": "ipython",
    "version": 3
   },
   "file_extension": ".py",
   "mimetype": "text/x-python",
   "name": "python",
   "nbconvert_exporter": "python",
   "pygments_lexer": "ipython3",
   "version": "3.9.5"
  },
  "toc": {
   "base_numbering": 1,
   "nav_menu": {},
   "number_sections": true,
   "sideBar": true,
   "skip_h1_title": true,
   "title_cell": "Table of Contents",
   "title_sidebar": "Contents",
   "toc_cell": false,
   "toc_position": {},
   "toc_section_display": true,
   "toc_window_display": false
  }
 },
 "nbformat": 4,
 "nbformat_minor": 2
}
