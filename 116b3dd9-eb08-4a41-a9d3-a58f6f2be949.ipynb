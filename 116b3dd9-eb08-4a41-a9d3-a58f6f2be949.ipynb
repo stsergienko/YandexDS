{
 "cells": [
  {
   "cell_type": "markdown",
   "id": "4baa4147",
   "metadata": {},
   "source": [
    "# КОММЕНТАРИЙ РЕВЬЮВЕРА\n",
    "Привет Станислав!)\n",
    "\n",
    "Меня зовут Сибирев Владислав, я осуществлял проверку проекта. Может перейдем сразу на <b>ты</b>? Если это неприемлемо, то обязательно дай знать)\n",
    "\n",
    "Далее по ходу работы ты сможешь встретить мои комментарии, они будут отмечены разными цветами:\n",
    "\n",
    "<div class=\"alert alert-block alert-success\">\n",
    " ✔️ Похвала и возможности развития\n",
    "</div>\n",
    "<div class=\"alert alert-block alert-warning\">\n",
    "⚠️ Некритичные замечания, но стоит обратить внимание\n",
    "</div>\n",
    "<div class=\"alert alert-block alert-danger\">\n",
    "❌ Грубая ошибка, необходимо исправить\n",
    "</div>\n",
    "\n",
    "\n",
    "Заранее прошу не удалять мои комментарии, это важно. Если у тебя возникнут вопросы, обозначь их, я с радостью тебе помогу!)\n",
    "\n",
    "Как вариант, можешь обозначить их так:\n",
    "<div class=\"alert alert-block alert-info\">\n",
    "Комментарий студента\n",
    "            </div>"
   ]
  },
  {
   "cell_type": "markdown",
   "id": "5262876f",
   "metadata": {
    "deletable": false,
    "editable": false,
    "id": "c81daeeb"
   },
   "source": [
    "# Исследование надежности заемщиков\n"
   ]
  },
  {
   "cell_type": "markdown",
   "id": "c1221c15",
   "metadata": {
    "deletable": false,
    "editable": false,
    "id": "827c20bf"
   },
   "source": [
    "Во второй части проекта вы выполните шаги 3 и 4. Их вручную проверит ревьюер.\n",
    "Чтобы вам не пришлось писать код заново для шагов 1 и 2, мы добавили авторские решения в ячейки с кодом. \n",
    "\n"
   ]
  },
  {
   "cell_type": "markdown",
   "id": "35b1ecce",
   "metadata": {},
   "source": [
    "<div class=\"alert alert-block alert-success\">\n",
    "<b>Комментарий ревьюера:</b> \n",
    "\n",
    "✔️ Так как первая часть является автоматической, то я просто буду в ней давать рекомендации, которые ты можешь использовать в дальнейшем))<br>\n",
    "P.S. Любой проект нужно начинать с описания)) \n",
    "  </div>"
   ]
  },
  {
   "cell_type": "markdown",
   "id": "99d9e1b3",
   "metadata": {
    "deletable": false,
    "editable": false,
    "id": "744d7639"
   },
   "source": [
    "## Откройте таблицу и изучите общую информацию о данных"
   ]
  },
  {
   "cell_type": "markdown",
   "id": "fb9c0048",
   "metadata": {
    "deletable": false,
    "editable": false,
    "id": "e7a14c31"
   },
   "source": [
    "**Задание 1. Импортируйте библиотеку pandas. Считайте данные из csv-файла в датафрейм и сохраните в переменную `data`. Путь к файлу:**\n",
    "\n",
    "`/datasets/data.csv`"
   ]
  },
  {
   "cell_type": "code",
   "execution_count": 1,
   "id": "dd19e11d",
   "metadata": {
    "deletable": false,
    "id": "7bcf75c9"
   },
   "outputs": [],
   "source": [
    "import pandas as pd\n",
    "\n",
    "try:\n",
    "    data = pd.read_csv('/datasets/data.csv')\n",
    "except:\n",
    "    data = pd.read_csv('https://code.s3.yandex.net/datasets/data.csv')"
   ]
  },
  {
   "cell_type": "markdown",
   "id": "5cfde0f7",
   "metadata": {},
   "source": [
    "<div class=\"alert alert-block alert-success\">\n",
    "<b>Комментарий ревьюера:</b> \n",
    "\n",
    "✔️ Молодец, что используешь конструкцию __try и except__<br>\n",
    "P.S. Для следующих проектов нужно импортировать библиотеки в отдельной ячейке) Это позволяет быстро сориентироваться, что нужно для запуска проекта, если кто-то будет запускать его в другом окружении.\n",
    "  </div>"
   ]
  },
  {
   "cell_type": "markdown",
   "id": "808110aa",
   "metadata": {
    "deletable": false,
    "editable": false,
    "id": "b8038fe3"
   },
   "source": [
    "**Задание 2. Выведите первые 20 строчек датафрейма `data` на экран.**"
   ]
  },
  {
   "cell_type": "code",
   "execution_count": 2,
   "id": "3ef429b6",
   "metadata": {
    "deletable": false,
    "id": "2a7cab99",
    "outputId": "1a8f3ef2-d323-4ec2-ddf7-89670b5944c4"
   },
   "outputs": [
    {
     "data": {
      "text/html": [
       "<div>\n",
       "<style scoped>\n",
       "    .dataframe tbody tr th:only-of-type {\n",
       "        vertical-align: middle;\n",
       "    }\n",
       "\n",
       "    .dataframe tbody tr th {\n",
       "        vertical-align: top;\n",
       "    }\n",
       "\n",
       "    .dataframe thead th {\n",
       "        text-align: right;\n",
       "    }\n",
       "</style>\n",
       "<table border=\"1\" class=\"dataframe\">\n",
       "  <thead>\n",
       "    <tr style=\"text-align: right;\">\n",
       "      <th></th>\n",
       "      <th>children</th>\n",
       "      <th>days_employed</th>\n",
       "      <th>dob_years</th>\n",
       "      <th>education</th>\n",
       "      <th>education_id</th>\n",
       "      <th>family_status</th>\n",
       "      <th>family_status_id</th>\n",
       "      <th>gender</th>\n",
       "      <th>income_type</th>\n",
       "      <th>debt</th>\n",
       "      <th>total_income</th>\n",
       "      <th>purpose</th>\n",
       "    </tr>\n",
       "  </thead>\n",
       "  <tbody>\n",
       "    <tr>\n",
       "      <th>0</th>\n",
       "      <td>1</td>\n",
       "      <td>-8437.673028</td>\n",
       "      <td>42</td>\n",
       "      <td>высшее</td>\n",
       "      <td>0</td>\n",
       "      <td>женат / замужем</td>\n",
       "      <td>0</td>\n",
       "      <td>F</td>\n",
       "      <td>сотрудник</td>\n",
       "      <td>0</td>\n",
       "      <td>253875.639453</td>\n",
       "      <td>покупка жилья</td>\n",
       "    </tr>\n",
       "    <tr>\n",
       "      <th>1</th>\n",
       "      <td>1</td>\n",
       "      <td>-4024.803754</td>\n",
       "      <td>36</td>\n",
       "      <td>среднее</td>\n",
       "      <td>1</td>\n",
       "      <td>женат / замужем</td>\n",
       "      <td>0</td>\n",
       "      <td>F</td>\n",
       "      <td>сотрудник</td>\n",
       "      <td>0</td>\n",
       "      <td>112080.014102</td>\n",
       "      <td>приобретение автомобиля</td>\n",
       "    </tr>\n",
       "    <tr>\n",
       "      <th>2</th>\n",
       "      <td>0</td>\n",
       "      <td>-5623.422610</td>\n",
       "      <td>33</td>\n",
       "      <td>Среднее</td>\n",
       "      <td>1</td>\n",
       "      <td>женат / замужем</td>\n",
       "      <td>0</td>\n",
       "      <td>M</td>\n",
       "      <td>сотрудник</td>\n",
       "      <td>0</td>\n",
       "      <td>145885.952297</td>\n",
       "      <td>покупка жилья</td>\n",
       "    </tr>\n",
       "    <tr>\n",
       "      <th>3</th>\n",
       "      <td>3</td>\n",
       "      <td>-4124.747207</td>\n",
       "      <td>32</td>\n",
       "      <td>среднее</td>\n",
       "      <td>1</td>\n",
       "      <td>женат / замужем</td>\n",
       "      <td>0</td>\n",
       "      <td>M</td>\n",
       "      <td>сотрудник</td>\n",
       "      <td>0</td>\n",
       "      <td>267628.550329</td>\n",
       "      <td>дополнительное образование</td>\n",
       "    </tr>\n",
       "    <tr>\n",
       "      <th>4</th>\n",
       "      <td>0</td>\n",
       "      <td>340266.072047</td>\n",
       "      <td>53</td>\n",
       "      <td>среднее</td>\n",
       "      <td>1</td>\n",
       "      <td>гражданский брак</td>\n",
       "      <td>1</td>\n",
       "      <td>F</td>\n",
       "      <td>пенсионер</td>\n",
       "      <td>0</td>\n",
       "      <td>158616.077870</td>\n",
       "      <td>сыграть свадьбу</td>\n",
       "    </tr>\n",
       "    <tr>\n",
       "      <th>5</th>\n",
       "      <td>0</td>\n",
       "      <td>-926.185831</td>\n",
       "      <td>27</td>\n",
       "      <td>высшее</td>\n",
       "      <td>0</td>\n",
       "      <td>гражданский брак</td>\n",
       "      <td>1</td>\n",
       "      <td>M</td>\n",
       "      <td>компаньон</td>\n",
       "      <td>0</td>\n",
       "      <td>255763.565419</td>\n",
       "      <td>покупка жилья</td>\n",
       "    </tr>\n",
       "    <tr>\n",
       "      <th>6</th>\n",
       "      <td>0</td>\n",
       "      <td>-2879.202052</td>\n",
       "      <td>43</td>\n",
       "      <td>высшее</td>\n",
       "      <td>0</td>\n",
       "      <td>женат / замужем</td>\n",
       "      <td>0</td>\n",
       "      <td>F</td>\n",
       "      <td>компаньон</td>\n",
       "      <td>0</td>\n",
       "      <td>240525.971920</td>\n",
       "      <td>операции с жильем</td>\n",
       "    </tr>\n",
       "    <tr>\n",
       "      <th>7</th>\n",
       "      <td>0</td>\n",
       "      <td>-152.779569</td>\n",
       "      <td>50</td>\n",
       "      <td>СРЕДНЕЕ</td>\n",
       "      <td>1</td>\n",
       "      <td>женат / замужем</td>\n",
       "      <td>0</td>\n",
       "      <td>M</td>\n",
       "      <td>сотрудник</td>\n",
       "      <td>0</td>\n",
       "      <td>135823.934197</td>\n",
       "      <td>образование</td>\n",
       "    </tr>\n",
       "    <tr>\n",
       "      <th>8</th>\n",
       "      <td>2</td>\n",
       "      <td>-6929.865299</td>\n",
       "      <td>35</td>\n",
       "      <td>ВЫСШЕЕ</td>\n",
       "      <td>0</td>\n",
       "      <td>гражданский брак</td>\n",
       "      <td>1</td>\n",
       "      <td>F</td>\n",
       "      <td>сотрудник</td>\n",
       "      <td>0</td>\n",
       "      <td>95856.832424</td>\n",
       "      <td>на проведение свадьбы</td>\n",
       "    </tr>\n",
       "    <tr>\n",
       "      <th>9</th>\n",
       "      <td>0</td>\n",
       "      <td>-2188.756445</td>\n",
       "      <td>41</td>\n",
       "      <td>среднее</td>\n",
       "      <td>1</td>\n",
       "      <td>женат / замужем</td>\n",
       "      <td>0</td>\n",
       "      <td>M</td>\n",
       "      <td>сотрудник</td>\n",
       "      <td>0</td>\n",
       "      <td>144425.938277</td>\n",
       "      <td>покупка жилья для семьи</td>\n",
       "    </tr>\n",
       "    <tr>\n",
       "      <th>10</th>\n",
       "      <td>2</td>\n",
       "      <td>-4171.483647</td>\n",
       "      <td>36</td>\n",
       "      <td>высшее</td>\n",
       "      <td>0</td>\n",
       "      <td>женат / замужем</td>\n",
       "      <td>0</td>\n",
       "      <td>M</td>\n",
       "      <td>компаньон</td>\n",
       "      <td>0</td>\n",
       "      <td>113943.491460</td>\n",
       "      <td>покупка недвижимости</td>\n",
       "    </tr>\n",
       "    <tr>\n",
       "      <th>11</th>\n",
       "      <td>0</td>\n",
       "      <td>-792.701887</td>\n",
       "      <td>40</td>\n",
       "      <td>среднее</td>\n",
       "      <td>1</td>\n",
       "      <td>женат / замужем</td>\n",
       "      <td>0</td>\n",
       "      <td>F</td>\n",
       "      <td>сотрудник</td>\n",
       "      <td>0</td>\n",
       "      <td>77069.234271</td>\n",
       "      <td>покупка коммерческой недвижимости</td>\n",
       "    </tr>\n",
       "    <tr>\n",
       "      <th>12</th>\n",
       "      <td>0</td>\n",
       "      <td>NaN</td>\n",
       "      <td>65</td>\n",
       "      <td>среднее</td>\n",
       "      <td>1</td>\n",
       "      <td>гражданский брак</td>\n",
       "      <td>1</td>\n",
       "      <td>M</td>\n",
       "      <td>пенсионер</td>\n",
       "      <td>0</td>\n",
       "      <td>NaN</td>\n",
       "      <td>сыграть свадьбу</td>\n",
       "    </tr>\n",
       "    <tr>\n",
       "      <th>13</th>\n",
       "      <td>0</td>\n",
       "      <td>-1846.641941</td>\n",
       "      <td>54</td>\n",
       "      <td>неоконченное высшее</td>\n",
       "      <td>2</td>\n",
       "      <td>женат / замужем</td>\n",
       "      <td>0</td>\n",
       "      <td>F</td>\n",
       "      <td>сотрудник</td>\n",
       "      <td>0</td>\n",
       "      <td>130458.228857</td>\n",
       "      <td>приобретение автомобиля</td>\n",
       "    </tr>\n",
       "    <tr>\n",
       "      <th>14</th>\n",
       "      <td>0</td>\n",
       "      <td>-1844.956182</td>\n",
       "      <td>56</td>\n",
       "      <td>высшее</td>\n",
       "      <td>0</td>\n",
       "      <td>гражданский брак</td>\n",
       "      <td>1</td>\n",
       "      <td>F</td>\n",
       "      <td>компаньон</td>\n",
       "      <td>1</td>\n",
       "      <td>165127.911772</td>\n",
       "      <td>покупка жилой недвижимости</td>\n",
       "    </tr>\n",
       "    <tr>\n",
       "      <th>15</th>\n",
       "      <td>1</td>\n",
       "      <td>-972.364419</td>\n",
       "      <td>26</td>\n",
       "      <td>среднее</td>\n",
       "      <td>1</td>\n",
       "      <td>женат / замужем</td>\n",
       "      <td>0</td>\n",
       "      <td>F</td>\n",
       "      <td>сотрудник</td>\n",
       "      <td>0</td>\n",
       "      <td>116820.904450</td>\n",
       "      <td>строительство собственной недвижимости</td>\n",
       "    </tr>\n",
       "    <tr>\n",
       "      <th>16</th>\n",
       "      <td>0</td>\n",
       "      <td>-1719.934226</td>\n",
       "      <td>35</td>\n",
       "      <td>среднее</td>\n",
       "      <td>1</td>\n",
       "      <td>женат / замужем</td>\n",
       "      <td>0</td>\n",
       "      <td>F</td>\n",
       "      <td>сотрудник</td>\n",
       "      <td>0</td>\n",
       "      <td>289202.704229</td>\n",
       "      <td>недвижимость</td>\n",
       "    </tr>\n",
       "    <tr>\n",
       "      <th>17</th>\n",
       "      <td>0</td>\n",
       "      <td>-2369.999720</td>\n",
       "      <td>33</td>\n",
       "      <td>высшее</td>\n",
       "      <td>0</td>\n",
       "      <td>гражданский брак</td>\n",
       "      <td>1</td>\n",
       "      <td>M</td>\n",
       "      <td>сотрудник</td>\n",
       "      <td>0</td>\n",
       "      <td>90410.586745</td>\n",
       "      <td>строительство недвижимости</td>\n",
       "    </tr>\n",
       "    <tr>\n",
       "      <th>18</th>\n",
       "      <td>0</td>\n",
       "      <td>400281.136913</td>\n",
       "      <td>53</td>\n",
       "      <td>среднее</td>\n",
       "      <td>1</td>\n",
       "      <td>вдовец / вдова</td>\n",
       "      <td>2</td>\n",
       "      <td>F</td>\n",
       "      <td>пенсионер</td>\n",
       "      <td>0</td>\n",
       "      <td>56823.777243</td>\n",
       "      <td>на покупку подержанного автомобиля</td>\n",
       "    </tr>\n",
       "    <tr>\n",
       "      <th>19</th>\n",
       "      <td>0</td>\n",
       "      <td>-10038.818549</td>\n",
       "      <td>48</td>\n",
       "      <td>СРЕДНЕЕ</td>\n",
       "      <td>1</td>\n",
       "      <td>в разводе</td>\n",
       "      <td>3</td>\n",
       "      <td>F</td>\n",
       "      <td>сотрудник</td>\n",
       "      <td>0</td>\n",
       "      <td>242831.107982</td>\n",
       "      <td>на покупку своего автомобиля</td>\n",
       "    </tr>\n",
       "  </tbody>\n",
       "</table>\n",
       "</div>"
      ],
      "text/plain": [
       "    children  days_employed  dob_years            education  education_id  \\\n",
       "0          1   -8437.673028         42               высшее             0   \n",
       "1          1   -4024.803754         36              среднее             1   \n",
       "2          0   -5623.422610         33              Среднее             1   \n",
       "3          3   -4124.747207         32              среднее             1   \n",
       "4          0  340266.072047         53              среднее             1   \n",
       "5          0    -926.185831         27               высшее             0   \n",
       "6          0   -2879.202052         43               высшее             0   \n",
       "7          0    -152.779569         50              СРЕДНЕЕ             1   \n",
       "8          2   -6929.865299         35               ВЫСШЕЕ             0   \n",
       "9          0   -2188.756445         41              среднее             1   \n",
       "10         2   -4171.483647         36               высшее             0   \n",
       "11         0    -792.701887         40              среднее             1   \n",
       "12         0            NaN         65              среднее             1   \n",
       "13         0   -1846.641941         54  неоконченное высшее             2   \n",
       "14         0   -1844.956182         56               высшее             0   \n",
       "15         1    -972.364419         26              среднее             1   \n",
       "16         0   -1719.934226         35              среднее             1   \n",
       "17         0   -2369.999720         33               высшее             0   \n",
       "18         0  400281.136913         53              среднее             1   \n",
       "19         0  -10038.818549         48              СРЕДНЕЕ             1   \n",
       "\n",
       "       family_status  family_status_id gender income_type  debt  \\\n",
       "0    женат / замужем                 0      F   сотрудник     0   \n",
       "1    женат / замужем                 0      F   сотрудник     0   \n",
       "2    женат / замужем                 0      M   сотрудник     0   \n",
       "3    женат / замужем                 0      M   сотрудник     0   \n",
       "4   гражданский брак                 1      F   пенсионер     0   \n",
       "5   гражданский брак                 1      M   компаньон     0   \n",
       "6    женат / замужем                 0      F   компаньон     0   \n",
       "7    женат / замужем                 0      M   сотрудник     0   \n",
       "8   гражданский брак                 1      F   сотрудник     0   \n",
       "9    женат / замужем                 0      M   сотрудник     0   \n",
       "10   женат / замужем                 0      M   компаньон     0   \n",
       "11   женат / замужем                 0      F   сотрудник     0   \n",
       "12  гражданский брак                 1      M   пенсионер     0   \n",
       "13   женат / замужем                 0      F   сотрудник     0   \n",
       "14  гражданский брак                 1      F   компаньон     1   \n",
       "15   женат / замужем                 0      F   сотрудник     0   \n",
       "16   женат / замужем                 0      F   сотрудник     0   \n",
       "17  гражданский брак                 1      M   сотрудник     0   \n",
       "18    вдовец / вдова                 2      F   пенсионер     0   \n",
       "19         в разводе                 3      F   сотрудник     0   \n",
       "\n",
       "     total_income                                 purpose  \n",
       "0   253875.639453                           покупка жилья  \n",
       "1   112080.014102                 приобретение автомобиля  \n",
       "2   145885.952297                           покупка жилья  \n",
       "3   267628.550329              дополнительное образование  \n",
       "4   158616.077870                         сыграть свадьбу  \n",
       "5   255763.565419                           покупка жилья  \n",
       "6   240525.971920                       операции с жильем  \n",
       "7   135823.934197                             образование  \n",
       "8    95856.832424                   на проведение свадьбы  \n",
       "9   144425.938277                 покупка жилья для семьи  \n",
       "10  113943.491460                    покупка недвижимости  \n",
       "11   77069.234271       покупка коммерческой недвижимости  \n",
       "12            NaN                         сыграть свадьбу  \n",
       "13  130458.228857                 приобретение автомобиля  \n",
       "14  165127.911772              покупка жилой недвижимости  \n",
       "15  116820.904450  строительство собственной недвижимости  \n",
       "16  289202.704229                            недвижимость  \n",
       "17   90410.586745              строительство недвижимости  \n",
       "18   56823.777243      на покупку подержанного автомобиля  \n",
       "19  242831.107982            на покупку своего автомобиля  "
      ]
     },
     "execution_count": 2,
     "metadata": {},
     "output_type": "execute_result"
    }
   ],
   "source": [
    "data.head(20)"
   ]
  },
  {
   "cell_type": "markdown",
   "id": "34a5de83",
   "metadata": {
    "deletable": false,
    "editable": false,
    "id": "1c12e233"
   },
   "source": [
    "**Задание 3. Выведите основную информацию о датафрейме с помощью метода `info()`.**"
   ]
  },
  {
   "cell_type": "code",
   "execution_count": 3,
   "id": "62abc250",
   "metadata": {
    "deletable": false,
    "id": "2b757bca",
    "outputId": "15376089-8dad-46c9-b520-c05248d43158"
   },
   "outputs": [
    {
     "name": "stdout",
     "output_type": "stream",
     "text": [
      "<class 'pandas.core.frame.DataFrame'>\n",
      "RangeIndex: 21525 entries, 0 to 21524\n",
      "Data columns (total 12 columns):\n",
      " #   Column            Non-Null Count  Dtype  \n",
      "---  ------            --------------  -----  \n",
      " 0   children          21525 non-null  int64  \n",
      " 1   days_employed     19351 non-null  float64\n",
      " 2   dob_years         21525 non-null  int64  \n",
      " 3   education         21525 non-null  object \n",
      " 4   education_id      21525 non-null  int64  \n",
      " 5   family_status     21525 non-null  object \n",
      " 6   family_status_id  21525 non-null  int64  \n",
      " 7   gender            21525 non-null  object \n",
      " 8   income_type       21525 non-null  object \n",
      " 9   debt              21525 non-null  int64  \n",
      " 10  total_income      19351 non-null  float64\n",
      " 11  purpose           21525 non-null  object \n",
      "dtypes: float64(2), int64(5), object(5)\n",
      "memory usage: 2.0+ MB\n"
     ]
    }
   ],
   "source": [
    "data.info()"
   ]
  },
  {
   "cell_type": "markdown",
   "id": "86fefc57",
   "metadata": {},
   "source": [
    "<div class=\"alert alert-block alert-success\">\n",
    "<b>Комментарий ревьюера:</b> \n",
    "\n",
    "✔️ Также в последствии можно использовать метод describe(), он показывает некоторые статистические данные, в общем тоже полезный метод https://www.javatpoint.com/pandas-dataframe-describe#:~:text=The%20describe()%20method%20is,sets%20of%20mixed%20data%20types.\n",
    "  </div>"
   ]
  },
  {
   "cell_type": "markdown",
   "id": "6686612f",
   "metadata": {
    "deletable": false,
    "editable": false,
    "id": "333ec665"
   },
   "source": [
    "## Предобработка данных"
   ]
  },
  {
   "cell_type": "markdown",
   "id": "032b4f42",
   "metadata": {
    "deletable": false,
    "editable": false,
    "id": "02d92d53"
   },
   "source": [
    "### Удаление пропусков"
   ]
  },
  {
   "cell_type": "markdown",
   "id": "60e9368c",
   "metadata": {
    "deletable": false,
    "editable": false,
    "id": "cd84967c"
   },
   "source": [
    "**Задание 4. Выведите количество пропущенных значений для каждого столбца. Используйте комбинацию двух методов.**"
   ]
  },
  {
   "cell_type": "code",
   "execution_count": 4,
   "id": "0355ebbe",
   "metadata": {
    "deletable": false,
    "id": "7f9b2309",
    "outputId": "81f4d817-781c-465c-ed15-91ce4446810d"
   },
   "outputs": [
    {
     "data": {
      "text/plain": [
       "children               0\n",
       "days_employed       2174\n",
       "dob_years              0\n",
       "education              0\n",
       "education_id           0\n",
       "family_status          0\n",
       "family_status_id       0\n",
       "gender                 0\n",
       "income_type            0\n",
       "debt                   0\n",
       "total_income        2174\n",
       "purpose                0\n",
       "dtype: int64"
      ]
     },
     "execution_count": 4,
     "metadata": {},
     "output_type": "execute_result"
    }
   ],
   "source": [
    "data.isna().sum()"
   ]
  },
  {
   "cell_type": "markdown",
   "id": "88ae1bef",
   "metadata": {},
   "source": [
    "<div class=\"alert alert-block alert-success\">\n",
    "<b>Комментарий ревьюера:</b>\n",
    "\n",
    "✔️ Изучить долю пропущенных пропусков можно еще с помощью `data.isna().mean()*100`\n",
    "  </div>"
   ]
  },
  {
   "cell_type": "markdown",
   "id": "f3f5f4be",
   "metadata": {
    "deletable": false,
    "editable": false,
    "id": "db86e27b"
   },
   "source": [
    "**Задание 5. В двух столбцах есть пропущенные значения. Один из них — `days_employed`. Пропуски в этом столбце вы обработаете на следующем этапе. Другой столбец с пропущенными значениями — `total_income` — хранит данные о доходах. На сумму дохода сильнее всего влияет тип занятости, поэтому заполнить пропуски в этом столбце нужно медианным значением по каждому типу из столбца `income_type`. Например, у человека с типом занятости `сотрудник` пропуск в столбце `total_income` должен быть заполнен медианным доходом среди всех записей с тем же типом.**"
   ]
  },
  {
   "cell_type": "code",
   "execution_count": 5,
   "id": "98f8680d",
   "metadata": {
    "deletable": false,
    "id": "42006a93"
   },
   "outputs": [],
   "source": [
    "for t in data['income_type'].unique():\n",
    "    data.loc[(data['income_type'] == t) & (data['total_income'].isna()), 'total_income'] = \\\n",
    "    data.loc[(data['income_type'] == t), 'total_income'].median()"
   ]
  },
  {
   "cell_type": "markdown",
   "id": "08b645cf",
   "metadata": {},
   "source": [
    "<div class=\"alert alert-block alert-success\">\n",
    "<b>Комментарий ревьюера:</b>\n",
    "\n",
    " ✔️  Можно также использовать следующую конструкцию `data['total_income'] = data['total_income'].fillna(data.groupby(['income_type'])['total_income'].transform('median'))`\n",
    "Функция transform() в принципе полезная https://pandas.pydata.org/pandas-docs/stable/reference/api/pandas.DataFrame.transform.html\n",
    "  </div>"
   ]
  },
  {
   "cell_type": "markdown",
   "id": "6670ffdf",
   "metadata": {
    "deletable": false,
    "editable": false,
    "id": "89da5ece"
   },
   "source": [
    "### Обработка аномальных значений"
   ]
  },
  {
   "cell_type": "markdown",
   "id": "22d445f6",
   "metadata": {
    "deletable": false,
    "editable": false,
    "id": "57964554"
   },
   "source": [
    "**Задание 6. В данных могут встречаться артефакты (аномалии) — значения, которые не отражают действительность и появились по какой-то ошибке. таким артефактом будет отрицательное количество дней трудового стажа в столбце `days_employed`. Для реальных данных это нормально. Обработайте значения в этом столбце: замените все отрицательные значения положительными с помощью метода `abs()`.**"
   ]
  },
  {
   "cell_type": "code",
   "execution_count": 6,
   "id": "ede06618",
   "metadata": {
    "deletable": false,
    "id": "f6f055bf"
   },
   "outputs": [],
   "source": [
    "data['days_employed'] = data['days_employed'].abs()"
   ]
  },
  {
   "cell_type": "markdown",
   "id": "9c6c0ff1",
   "metadata": {
    "deletable": false,
    "editable": false,
    "id": "6107dd2f"
   },
   "source": [
    "**Задание 7. Для каждого типа занятости выведите медианное значение трудового стажа `days_employed` в днях.**"
   ]
  },
  {
   "cell_type": "code",
   "execution_count": 7,
   "id": "c18f438d",
   "metadata": {
    "deletable": false,
    "id": "85a5faf6",
    "outputId": "801ef80e-522b-4668-f34e-565af7432bcf"
   },
   "outputs": [
    {
     "data": {
      "text/plain": [
       "income_type\n",
       "безработный        366413.652744\n",
       "в декрете            3296.759962\n",
       "госслужащий          2689.368353\n",
       "компаньон            1547.382223\n",
       "пенсионер          365213.306266\n",
       "предприниматель       520.848083\n",
       "сотрудник            1574.202821\n",
       "студент               578.751554\n",
       "Name: days_employed, dtype: float64"
      ]
     },
     "execution_count": 7,
     "metadata": {},
     "output_type": "execute_result"
    }
   ],
   "source": [
    "data.groupby('income_type')['days_employed'].agg('median')"
   ]
  },
  {
   "cell_type": "markdown",
   "id": "7fbf128a",
   "metadata": {
    "deletable": false,
    "editable": false,
    "id": "38d1a030"
   },
   "source": [
    "У двух типов (безработные и пенсионеры) получатся аномально большие значения. Исправить такие значения сложно, поэтому оставьте их как есть. Тем более этот столбец не понадобится вам для исследования."
   ]
  },
  {
   "cell_type": "markdown",
   "id": "d79f5460",
   "metadata": {
    "deletable": false,
    "editable": false,
    "id": "d8a9f147"
   },
   "source": [
    "**Задание 8. Выведите перечень уникальных значений столбца `children`.**"
   ]
  },
  {
   "cell_type": "code",
   "execution_count": 8,
   "id": "8c18b2d7",
   "metadata": {
    "deletable": false,
    "id": "ef5056eb",
    "outputId": "6975b15c-7f95-4697-d16d-a0c79b657b03"
   },
   "outputs": [
    {
     "data": {
      "text/plain": [
       "array([ 1,  0,  3,  2, -1,  4, 20,  5])"
      ]
     },
     "execution_count": 8,
     "metadata": {},
     "output_type": "execute_result"
    }
   ],
   "source": [
    "data['children'].unique()"
   ]
  },
  {
   "cell_type": "markdown",
   "id": "50489e77",
   "metadata": {
    "deletable": false,
    "editable": false,
    "id": "40b9ebf2"
   },
   "source": [
    "**Задание 9. В столбце `children` есть два аномальных значения. Удалите строки, в которых встречаются такие аномальные значения из датафрейма `data`.**"
   ]
  },
  {
   "cell_type": "code",
   "execution_count": 9,
   "id": "f70089cd",
   "metadata": {
    "deletable": false,
    "id": "3ff9801d"
   },
   "outputs": [],
   "source": [
    "data = data[(data['children'] != -1) & (data['children'] != 20)]"
   ]
  },
  {
   "cell_type": "markdown",
   "id": "69db7221",
   "metadata": {},
   "source": [
    "<div class=\"alert alert-block alert-success\">\n",
    "<b>Комментарий ревьюера:</b>\n",
    "\n",
    " ✔️  Все верно, можно еще использовать query(), который позволяет работать с нужными данными) https://pandas.pydata.org/pandas-docs/stable/reference/api/pandas.DataFrame.query.html\n",
    "  </div>"
   ]
  },
  {
   "cell_type": "markdown",
   "id": "00948338",
   "metadata": {
    "deletable": false,
    "editable": false,
    "id": "bbc4d0ce"
   },
   "source": [
    "**Задание 10. Ещё раз выведите перечень уникальных значений столбца `children`, чтобы убедиться, что артефакты удалены.**"
   ]
  },
  {
   "cell_type": "code",
   "execution_count": 10,
   "id": "ce68c901",
   "metadata": {
    "deletable": false,
    "id": "ad4fa8b7",
    "outputId": "b2097101-d49d-44d9-901b-32a65c9463d1"
   },
   "outputs": [
    {
     "data": {
      "text/plain": [
       "array([1, 0, 3, 2, 4, 5])"
      ]
     },
     "execution_count": 10,
     "metadata": {},
     "output_type": "execute_result"
    }
   ],
   "source": [
    "data['children'].unique()"
   ]
  },
  {
   "cell_type": "markdown",
   "id": "a952fb3a",
   "metadata": {
    "deletable": false,
    "editable": false,
    "id": "75440b63"
   },
   "source": [
    "### Удаление пропусков (продолжение)"
   ]
  },
  {
   "cell_type": "markdown",
   "id": "a838a71d",
   "metadata": {
    "deletable": false,
    "editable": false,
    "id": "f4ea573f"
   },
   "source": [
    "**Задание 11. Заполните пропуски в столбце `days_employed` медианными значениями по каждого типа занятости `income_type`.**"
   ]
  },
  {
   "cell_type": "code",
   "execution_count": 11,
   "id": "ad2c8402",
   "metadata": {
    "deletable": false,
    "id": "af6b1a7e"
   },
   "outputs": [],
   "source": [
    "for t in data['income_type'].unique():\n",
    "    data.loc[(data['income_type'] == t) & (data['days_employed'].isna()), 'days_employed'] = \\\n",
    "    data.loc[(data['income_type'] == t), 'days_employed'].median()"
   ]
  },
  {
   "cell_type": "markdown",
   "id": "eaeacdaf",
   "metadata": {
    "deletable": false,
    "editable": false,
    "id": "2753f40d"
   },
   "source": [
    "**Задание 12. Убедитесь, что все пропуски заполнены. Проверьте себя и ещё раз выведите количество пропущенных значений для каждого столбца с помощью двух методов.**"
   ]
  },
  {
   "cell_type": "code",
   "execution_count": 12,
   "id": "50650aae",
   "metadata": {
    "deletable": false,
    "id": "55f78bc2",
    "outputId": "8da1e4e1-358e-4e87-98c9-f261bce0a7b2"
   },
   "outputs": [
    {
     "data": {
      "text/plain": [
       "children            0\n",
       "days_employed       0\n",
       "dob_years           0\n",
       "education           0\n",
       "education_id        0\n",
       "family_status       0\n",
       "family_status_id    0\n",
       "gender              0\n",
       "income_type         0\n",
       "debt                0\n",
       "total_income        0\n",
       "purpose             0\n",
       "dtype: int64"
      ]
     },
     "execution_count": 12,
     "metadata": {},
     "output_type": "execute_result"
    }
   ],
   "source": [
    "data.isna().sum()"
   ]
  },
  {
   "cell_type": "markdown",
   "id": "451220f7",
   "metadata": {
    "deletable": false,
    "editable": false,
    "id": "ddc81e43"
   },
   "source": [
    "### Изменение типов данных"
   ]
  },
  {
   "cell_type": "markdown",
   "id": "9a1056f4",
   "metadata": {
    "deletable": false,
    "editable": false,
    "id": "42d19d24"
   },
   "source": [
    "**Задание 13. Замените вещественный тип данных в столбце `total_income` на целочисленный с помощью метода `astype()`.**"
   ]
  },
  {
   "cell_type": "code",
   "execution_count": 13,
   "id": "a7b7cb8a",
   "metadata": {
    "deletable": false,
    "id": "920b65ad"
   },
   "outputs": [],
   "source": [
    "data['total_income'] = data['total_income'].astype(int)"
   ]
  },
  {
   "cell_type": "markdown",
   "id": "6843d755",
   "metadata": {
    "deletable": false,
    "editable": false,
    "id": "80c420ba"
   },
   "source": [
    "### Обработка дубликатов"
   ]
  },
  {
   "cell_type": "markdown",
   "id": "82f54b3d",
   "metadata": {
    "deletable": false,
    "editable": false
   },
   "source": [
    "**Задание 14. Обработайте неявные дубликаты в столбце `education`. В этом столбце есть одни и те же значения, но записанные по-разному: с использованием заглавных и строчных букв. Приведите их к нижнему регистру. Проверьте остальные столбцы.**"
   ]
  },
  {
   "cell_type": "code",
   "execution_count": 14,
   "id": "a70d1435",
   "metadata": {
    "deletable": false
   },
   "outputs": [],
   "source": [
    "data['education'] = data['education'].str.lower()"
   ]
  },
  {
   "cell_type": "markdown",
   "id": "35198d29",
   "metadata": {
    "deletable": false,
    "editable": false,
    "id": "dc587695"
   },
   "source": [
    "**Задание 15. Выведите на экран количество строк-дубликатов в данных. Если такие строки присутствуют, удалите их.**"
   ]
  },
  {
   "cell_type": "code",
   "execution_count": 15,
   "id": "1cf84778",
   "metadata": {
    "deletable": false,
    "id": "3ee445e4",
    "outputId": "9684deba-1934-42d1-99e1-cda61740f822"
   },
   "outputs": [
    {
     "data": {
      "text/plain": [
       "71"
      ]
     },
     "execution_count": 15,
     "metadata": {},
     "output_type": "execute_result"
    }
   ],
   "source": [
    "data.duplicated().sum()"
   ]
  },
  {
   "cell_type": "code",
   "execution_count": 16,
   "id": "76a95aaf",
   "metadata": {
    "deletable": false,
    "id": "8575fe05"
   },
   "outputs": [],
   "source": [
    "data = data.drop_duplicates()"
   ]
  },
  {
   "cell_type": "markdown",
   "id": "dab1ea21",
   "metadata": {
    "deletable": false,
    "editable": false,
    "id": "9904cf55"
   },
   "source": [
    "### Категоризация данных"
   ]
  },
  {
   "cell_type": "markdown",
   "id": "8286b846",
   "metadata": {
    "deletable": false,
    "editable": false,
    "id": "72fcc8a2"
   },
   "source": [
    "**Задание 16. На основании диапазонов, указанных ниже, создайте в датафрейме `data` столбец `total_income_category` с категориями:**\n",
    "\n",
    "- 0–30000 — `'E'`;\n",
    "- 30001–50000 — `'D'`;\n",
    "- 50001–200000 — `'C'`;\n",
    "- 200001–1000000 — `'B'`;\n",
    "- 1000001 и выше — `'A'`.\n",
    "\n",
    "\n",
    "**Например, кредитополучателю с доходом 25000 нужно назначить категорию `'E'`, а клиенту, получающему 235000, — `'B'`. Используйте собственную функцию с именем `categorize_income()` и метод `apply()`.**"
   ]
  },
  {
   "cell_type": "code",
   "execution_count": 17,
   "id": "8ba9a72e",
   "metadata": {
    "deletable": false,
    "id": "e1771346"
   },
   "outputs": [],
   "source": [
    "def categorize_income(income):\n",
    "    try:\n",
    "        if 0 <= income <= 30000:\n",
    "            return 'E'\n",
    "        elif 30001 <= income <= 50000:\n",
    "            return 'D'\n",
    "        elif 50001 <= income <= 200000:\n",
    "            return 'C'\n",
    "        elif 200001 <= income <= 1000000:\n",
    "            return 'B'\n",
    "        elif income >= 1000001:\n",
    "            return 'A'\n",
    "    except:\n",
    "        pass"
   ]
  },
  {
   "cell_type": "code",
   "execution_count": 18,
   "id": "2f7bc37c",
   "metadata": {
    "deletable": false,
    "id": "d5f3586d"
   },
   "outputs": [],
   "source": [
    "data['total_income_category'] = data['total_income'].apply(categorize_income)"
   ]
  },
  {
   "cell_type": "markdown",
   "id": "633817c2",
   "metadata": {},
   "source": [
    "<div class=\"alert alert-block alert-success\">\n",
    "<b>Комментарий ревьюера:</b>\n",
    "\n",
    "✔️  Функцию написал правильную, молодец, но применение функции лучше проверять с помощью `value_counts`, вдруг какое то условие не сработало)\n",
    "\n",
    "  </div>"
   ]
  },
  {
   "cell_type": "markdown",
   "id": "6823c8ca",
   "metadata": {
    "deletable": false,
    "editable": false,
    "id": "dde49b5c"
   },
   "source": [
    "**Задание 17. Выведите на экран перечень уникальных целей взятия кредита из столбца `purpose`.**"
   ]
  },
  {
   "cell_type": "code",
   "execution_count": 19,
   "id": "01e37dd4",
   "metadata": {
    "deletable": false,
    "id": "f67ce9b3",
    "outputId": "673c12d9-7d7e-4ae0-9812-c622c89dd244"
   },
   "outputs": [
    {
     "data": {
      "text/plain": [
       "array(['покупка жилья', 'приобретение автомобиля',\n",
       "       'дополнительное образование', 'сыграть свадьбу',\n",
       "       'операции с жильем', 'образование', 'на проведение свадьбы',\n",
       "       'покупка жилья для семьи', 'покупка недвижимости',\n",
       "       'покупка коммерческой недвижимости', 'покупка жилой недвижимости',\n",
       "       'строительство собственной недвижимости', 'недвижимость',\n",
       "       'строительство недвижимости', 'на покупку подержанного автомобиля',\n",
       "       'на покупку своего автомобиля',\n",
       "       'операции с коммерческой недвижимостью',\n",
       "       'строительство жилой недвижимости', 'жилье',\n",
       "       'операции со своей недвижимостью', 'автомобили',\n",
       "       'заняться образованием', 'сделка с подержанным автомобилем',\n",
       "       'получение образования', 'автомобиль', 'свадьба',\n",
       "       'получение дополнительного образования', 'покупка своего жилья',\n",
       "       'операции с недвижимостью', 'получение высшего образования',\n",
       "       'свой автомобиль', 'сделка с автомобилем',\n",
       "       'профильное образование', 'высшее образование',\n",
       "       'покупка жилья для сдачи', 'на покупку автомобиля', 'ремонт жилью',\n",
       "       'заняться высшим образованием'], dtype=object)"
      ]
     },
     "execution_count": 19,
     "metadata": {},
     "output_type": "execute_result"
    }
   ],
   "source": [
    "data['purpose'].unique()"
   ]
  },
  {
   "cell_type": "markdown",
   "id": "2fde3ec0",
   "metadata": {
    "deletable": false,
    "editable": false,
    "id": "85d0aef0"
   },
   "source": [
    "**Задание 18. Создайте функцию, которая на основании данных из столбца `purpose` сформирует новый столбец `purpose_category`, в который войдут следующие категории:**\n",
    "\n",
    "- `'операции с автомобилем'`,\n",
    "- `'операции с недвижимостью'`,\n",
    "- `'проведение свадьбы'`,\n",
    "- `'получение образования'`.\n",
    "\n",
    "**Например, если в столбце `purpose` находится подстрока `'на покупку автомобиля'`, то в столбце `purpose_category` должна появиться строка `'операции с автомобилем'`.**\n",
    "\n",
    "**Используйте собственную функцию с именем `categorize_purpose()` и метод `apply()`. Изучите данные в столбце `purpose` и определите, какие подстроки помогут вам правильно определить категорию.**"
   ]
  },
  {
   "cell_type": "code",
   "execution_count": 20,
   "id": "958c2353",
   "metadata": {
    "deletable": false,
    "id": "e149fab4"
   },
   "outputs": [],
   "source": [
    "def categorize_purpose(row):\n",
    "    try:\n",
    "        if 'автом' in row:\n",
    "            return 'операции с автомобилем'\n",
    "        elif 'жил' in row or 'недвиж' in row:\n",
    "            return 'операции с недвижимостью'\n",
    "        elif 'свад' in row:\n",
    "            return 'проведение свадьбы'\n",
    "        elif 'образов' in row:\n",
    "            return 'получение образования'\n",
    "    except:\n",
    "        return 'нет категории'"
   ]
  },
  {
   "cell_type": "code",
   "execution_count": 21,
   "id": "ea97ba82",
   "metadata": {
    "deletable": false,
    "id": "bf36e69b"
   },
   "outputs": [],
   "source": [
    "data['purpose_category'] = data['purpose'].apply(categorize_purpose)"
   ]
  },
  {
   "cell_type": "markdown",
   "id": "c32de744",
   "metadata": {
    "deletable": false,
    "editable": false,
    "id": "09b242bf"
   },
   "source": [
    "### Шаг 3. Исследуйте данные и ответьте на вопросы"
   ]
  },
  {
   "cell_type": "markdown",
   "id": "e07420f6",
   "metadata": {
    "deletable": false,
    "editable": false,
    "id": "c5d66278"
   },
   "source": [
    "#### 3.1 Есть ли зависимость между количеством детей и возвратом кредита в срок?"
   ]
  },
  {
   "cell_type": "code",
   "execution_count": 51,
   "id": "16df8da8",
   "metadata": {
    "deletable": false,
    "id": "2cacfc4a"
   },
   "outputs": [
    {
     "data": {
      "text/html": [
       "<style  type=\"text/css\" >\n",
       "</style><table id=\"T_704c6_\" ><thead>    <tr>        <th class=\"blank level0\" ></th>        <th class=\"col_heading level0 col0\" >children</th>        <th class=\"col_heading level0 col1\" >sum</th>        <th class=\"col_heading level0 col2\" >count</th>        <th class=\"col_heading level0 col3\" >mean</th>    </tr></thead><tbody>\n",
       "                <tr>\n",
       "                        <th id=\"T_704c6_level0_row0\" class=\"row_heading level0 row0\" >0</th>\n",
       "                        <td id=\"T_704c6_row0_col0\" class=\"data row0 col0\" >5</td>\n",
       "                        <td id=\"T_704c6_row0_col1\" class=\"data row0 col1\" >0</td>\n",
       "                        <td id=\"T_704c6_row0_col2\" class=\"data row0 col2\" >9</td>\n",
       "                        <td id=\"T_704c6_row0_col3\" class=\"data row0 col3\" >0.00%</td>\n",
       "            </tr>\n",
       "            <tr>\n",
       "                        <th id=\"T_704c6_level0_row1\" class=\"row_heading level0 row1\" >1</th>\n",
       "                        <td id=\"T_704c6_row1_col0\" class=\"data row1 col0\" >0</td>\n",
       "                        <td id=\"T_704c6_row1_col1\" class=\"data row1 col1\" >1063</td>\n",
       "                        <td id=\"T_704c6_row1_col2\" class=\"data row1 col2\" >14091</td>\n",
       "                        <td id=\"T_704c6_row1_col3\" class=\"data row1 col3\" >7.54%</td>\n",
       "            </tr>\n",
       "            <tr>\n",
       "                        <th id=\"T_704c6_level0_row2\" class=\"row_heading level0 row2\" >2</th>\n",
       "                        <td id=\"T_704c6_row2_col0\" class=\"data row2 col0\" >3</td>\n",
       "                        <td id=\"T_704c6_row2_col1\" class=\"data row2 col1\" >27</td>\n",
       "                        <td id=\"T_704c6_row2_col2\" class=\"data row2 col2\" >330</td>\n",
       "                        <td id=\"T_704c6_row2_col3\" class=\"data row2 col3\" >8.18%</td>\n",
       "            </tr>\n",
       "            <tr>\n",
       "                        <th id=\"T_704c6_level0_row3\" class=\"row_heading level0 row3\" >3</th>\n",
       "                        <td id=\"T_704c6_row3_col0\" class=\"data row3 col0\" >1</td>\n",
       "                        <td id=\"T_704c6_row3_col1\" class=\"data row3 col1\" >444</td>\n",
       "                        <td id=\"T_704c6_row3_col2\" class=\"data row3 col2\" >4808</td>\n",
       "                        <td id=\"T_704c6_row3_col3\" class=\"data row3 col3\" >9.23%</td>\n",
       "            </tr>\n",
       "            <tr>\n",
       "                        <th id=\"T_704c6_level0_row4\" class=\"row_heading level0 row4\" >4</th>\n",
       "                        <td id=\"T_704c6_row4_col0\" class=\"data row4 col0\" >2</td>\n",
       "                        <td id=\"T_704c6_row4_col1\" class=\"data row4 col1\" >194</td>\n",
       "                        <td id=\"T_704c6_row4_col2\" class=\"data row4 col2\" >2052</td>\n",
       "                        <td id=\"T_704c6_row4_col3\" class=\"data row4 col3\" >9.45%</td>\n",
       "            </tr>\n",
       "            <tr>\n",
       "                        <th id=\"T_704c6_level0_row5\" class=\"row_heading level0 row5\" >5</th>\n",
       "                        <td id=\"T_704c6_row5_col0\" class=\"data row5 col0\" >4</td>\n",
       "                        <td id=\"T_704c6_row5_col1\" class=\"data row5 col1\" >4</td>\n",
       "                        <td id=\"T_704c6_row5_col2\" class=\"data row5 col2\" >41</td>\n",
       "                        <td id=\"T_704c6_row5_col3\" class=\"data row5 col3\" >9.76%</td>\n",
       "            </tr>\n",
       "    </tbody></table>"
      ],
      "text/plain": [
       "<pandas.io.formats.style.Styler at 0x7f8f20240d00>"
      ]
     },
     "execution_count": 51,
     "metadata": {},
     "output_type": "execute_result"
    }
   ],
   "source": [
    "# Ваш код будет здесь. Вы можете создавать новые ячейки.\n",
    "\n",
    "# построим сводную таблицу\n",
    "data_pivot = data.pivot_table(index='children', values=\"debt\", aggfunc=['sum', 'count', 'mean'])\n",
    "\n",
    "# отсортируем сводную таблицу\n",
    "data_pivot = data_pivot.sort_values(by=('mean', 'debt'))\n",
    "data_pivot.droplevel(1, axis=1).reset_index().style.format({'mean': '{:.2%}'})"
   ]
  },
  {
   "cell_type": "markdown",
   "id": "14fc7e4c",
   "metadata": {},
   "source": [
    "<div class=\"alert alert-block alert-warning\">\n",
    "<b>Комментарий ревьюер:</b> \n",
    "\n",
    "⚠️ Здесь молодец, отличную таблицу построил, но для красоты лучше избавляться от мультииндексов, вначале срезаем один слой названия с помощью `droplevel(1, axis=1)`, а затем сбрасываешь индексы с помощью `reset_index()`)) Это касается изучение всех взаимосвязей))  <br>\n",
    "Также попробуй вывести числа в столбце `ratio` без `[]`\n",
    "    \n",
    "\n",
    "<div class=\"alert alert-block alert-info\">\n",
    "<b>Комментарий студента</b>\n",
    "    \n",
    " Не совсем понял, что нужно было сделать в этом моменте: \"Также попробуй вывести числа в столбце `ratio` без `[]`\"?\n",
    " В таблицах все подправил, теперь они выглядят красиво. Выводы в конце каждого пункта переписал, итоговый вывод переписал. В таблице данные вывел в процентах. Спасибо за комментарии! :)"
   ]
  },
  {
   "cell_type": "markdown",
   "id": "9dbe42db",
   "metadata": {},
   "source": [
    "<div class=\"alert alert-block alert-success\">\n",
    "<b>Комментарий ревьюера_V2:</b>\n",
    "\n",
    "✔️  Ой, здесь имел ввиду не `ration`, a `mean`, да, таблицу сделал отличную))\n",
    "\n",
    "  </div>"
   ]
  },
  {
   "cell_type": "markdown",
   "id": "50964e41",
   "metadata": {
    "deletable": false,
    "id": "3a6b99ec"
   },
   "source": [
    "**Вывод:**\n",
    "\n",
    "Заемщики, не имеющие детей, лучше всего отдают кредит, доля должников здесь составляет 7,54%. Хуже обстоит дело с заемщиками, которые имеют одного или двух детей, здесь доля должников составляет соответственно 9,23% и 9,45%. Остальные категории сравнивать некорректно, так как в этих категориях очень маленькая выборка. Можно сделать вывод, что между количеством детей и возвратом кредита в срок зависимость есть. Самая надежная категория заемщиков, это люди не имеющие детей."
   ]
  },
  {
   "cell_type": "markdown",
   "id": "fe2df61b",
   "metadata": {},
   "source": [
    "<div class=\"alert alert-block alert-warning\">\n",
    "<b>Комментарий ревьюер:</b> \n",
    "\n",
    "⚠️ Не бойся использовать в выводах цифры, также нужно сделать акцент на сбалансированности выборок. Примерно выводы будут выглядеть так: \n",
    "`люди, которые не имеют детей, лучше всего отдают кредит, доля должников здесь составляет с 7,5%, хуже обстоит дело с кредиторами, кто имеет одного или двух детей, здесь доля невозврата составляет соответственно 9,2% и 9,4%. Остальные категории уже некорректно сравнивать, так как в них очень маленькая выборка`)) <br>\n"
   ]
  },
  {
   "cell_type": "markdown",
   "id": "6d3e91eb",
   "metadata": {},
   "source": [
    "<div class=\"alert alert-block alert-success\">\n",
    "<b>Комментарий ревьюера_V2:</b>\n",
    "\n",
    "✔️  Выводы молодец, хорошо переработал))\n",
    "\n",
    "  </div>"
   ]
  },
  {
   "cell_type": "markdown",
   "id": "6d6169dc",
   "metadata": {
    "deletable": false,
    "editable": false,
    "id": "97be82ca"
   },
   "source": [
    "#### 3.2 Есть ли зависимость между семейным положением и возвратом кредита в срок?"
   ]
  },
  {
   "cell_type": "code",
   "execution_count": 52,
   "id": "60c2bb11",
   "metadata": {
    "deletable": false,
    "id": "dc3f7ee8"
   },
   "outputs": [
    {
     "data": {
      "text/html": [
       "<style  type=\"text/css\" >\n",
       "</style><table id=\"T_cc4fd_\" ><thead>    <tr>        <th class=\"blank level0\" ></th>        <th class=\"col_heading level0 col0\" >family_status</th>        <th class=\"col_heading level0 col1\" >sum</th>        <th class=\"col_heading level0 col2\" >count</th>        <th class=\"col_heading level0 col3\" >mean</th>    </tr></thead><tbody>\n",
       "                <tr>\n",
       "                        <th id=\"T_cc4fd_level0_row0\" class=\"row_heading level0 row0\" >0</th>\n",
       "                        <td id=\"T_cc4fd_row0_col0\" class=\"data row0 col0\" >вдовец / вдова</td>\n",
       "                        <td id=\"T_cc4fd_row0_col1\" class=\"data row0 col1\" >63</td>\n",
       "                        <td id=\"T_cc4fd_row0_col2\" class=\"data row0 col2\" >951</td>\n",
       "                        <td id=\"T_cc4fd_row0_col3\" class=\"data row0 col3\" >6.62%</td>\n",
       "            </tr>\n",
       "            <tr>\n",
       "                        <th id=\"T_cc4fd_level0_row1\" class=\"row_heading level0 row1\" >1</th>\n",
       "                        <td id=\"T_cc4fd_row1_col0\" class=\"data row1 col0\" >в разводе</td>\n",
       "                        <td id=\"T_cc4fd_row1_col1\" class=\"data row1 col1\" >84</td>\n",
       "                        <td id=\"T_cc4fd_row1_col2\" class=\"data row1 col2\" >1189</td>\n",
       "                        <td id=\"T_cc4fd_row1_col3\" class=\"data row1 col3\" >7.06%</td>\n",
       "            </tr>\n",
       "            <tr>\n",
       "                        <th id=\"T_cc4fd_level0_row2\" class=\"row_heading level0 row2\" >2</th>\n",
       "                        <td id=\"T_cc4fd_row2_col0\" class=\"data row2 col0\" >женат / замужем</td>\n",
       "                        <td id=\"T_cc4fd_row2_col1\" class=\"data row2 col1\" >927</td>\n",
       "                        <td id=\"T_cc4fd_row2_col2\" class=\"data row2 col2\" >12261</td>\n",
       "                        <td id=\"T_cc4fd_row2_col3\" class=\"data row2 col3\" >7.56%</td>\n",
       "            </tr>\n",
       "            <tr>\n",
       "                        <th id=\"T_cc4fd_level0_row3\" class=\"row_heading level0 row3\" >3</th>\n",
       "                        <td id=\"T_cc4fd_row3_col0\" class=\"data row3 col0\" >гражданский брак</td>\n",
       "                        <td id=\"T_cc4fd_row3_col1\" class=\"data row3 col1\" >385</td>\n",
       "                        <td id=\"T_cc4fd_row3_col2\" class=\"data row3 col2\" >4134</td>\n",
       "                        <td id=\"T_cc4fd_row3_col3\" class=\"data row3 col3\" >9.31%</td>\n",
       "            </tr>\n",
       "            <tr>\n",
       "                        <th id=\"T_cc4fd_level0_row4\" class=\"row_heading level0 row4\" >4</th>\n",
       "                        <td id=\"T_cc4fd_row4_col0\" class=\"data row4 col0\" >Не женат / не замужем</td>\n",
       "                        <td id=\"T_cc4fd_row4_col1\" class=\"data row4 col1\" >273</td>\n",
       "                        <td id=\"T_cc4fd_row4_col2\" class=\"data row4 col2\" >2796</td>\n",
       "                        <td id=\"T_cc4fd_row4_col3\" class=\"data row4 col3\" >9.76%</td>\n",
       "            </tr>\n",
       "    </tbody></table>"
      ],
      "text/plain": [
       "<pandas.io.formats.style.Styler at 0x7f8f202406d0>"
      ]
     },
     "execution_count": 52,
     "metadata": {},
     "output_type": "execute_result"
    }
   ],
   "source": [
    "# Ваш код будет здесь. Вы можете создавать новые ячейки.\n",
    "\n",
    "# построим сводную таблицу\n",
    "data_pivot = data.pivot_table(index=['family_status'], values=[\"debt\"], aggfunc=['sum', 'count', 'mean'])\n",
    "\n",
    "# отсортируем сводную таблицу\n",
    "data_pivot = data_pivot.sort_values(by=('mean', 'debt'))\n",
    "data_pivot.droplevel(1, axis=1).reset_index().style.format({'mean': '{:.2%}'})"
   ]
  },
  {
   "cell_type": "markdown",
   "id": "bcd93516",
   "metadata": {
    "deletable": false,
    "id": "1cef7837"
   },
   "source": [
    "**Вывод:**\n",
    "\n",
    "Заемщики, имеющие семейное положение, вдовец\\вдова или в разводе лучше всего отдают кредит, доля должников здесь составляет соответственно 6,62% и 7,06%. Но, стоит обратить внимание, что это самые немногочисленные категории среди заемщиков. Далее идет категория  заемщиков, которые состоят браке, здесь доля должников составляет 7,56%. Стоит обратить внимание, что это самая многочисленная категория среди заемщиков. Хуже обстоит дело с заемщиками состоящими в гражданском браке или не состоящими в отношениях, доля должников здесь составляет соответственно 9,31% и 9,76%. Можно сделать вывод, что между между семейным положением и возвратом кредита в срок зависимость есть. Самая надежная категория заемщиков, это люди состоящие в браке."
   ]
  },
  {
   "cell_type": "markdown",
   "id": "3fd1325e",
   "metadata": {},
   "source": [
    "<div class=\"alert alert-block alert-danger\">\n",
    "<b>Комментарий ревьюера:</b> \n",
    "\n",
    "❌ Надо ьудет везде поработать над выводами, один абзац это очень мало)) "
   ]
  },
  {
   "cell_type": "markdown",
   "id": "8953900e",
   "metadata": {},
   "source": [
    "<div class=\"alert alert-block alert-success\">\n",
    "<b>Комментарий ревьюера_V2:</b>\n",
    "\n",
    "✔️  Молодец, теперь выводы стали выводами))\n",
    "\n",
    "  </div>"
   ]
  },
  {
   "cell_type": "markdown",
   "id": "4c7292df",
   "metadata": {
    "deletable": false,
    "editable": false,
    "id": "1e8b2fca"
   },
   "source": [
    "#### 3.3 Есть ли зависимость между уровнем дохода и возвратом кредита в срок?"
   ]
  },
  {
   "cell_type": "code",
   "execution_count": 53,
   "id": "68acf6c5",
   "metadata": {
    "deletable": false,
    "id": "cd7e3720"
   },
   "outputs": [
    {
     "data": {
      "text/html": [
       "<style  type=\"text/css\" >\n",
       "</style><table id=\"T_a7f47_\" ><thead>    <tr>        <th class=\"blank level0\" ></th>        <th class=\"col_heading level0 col0\" >total_income_category</th>        <th class=\"col_heading level0 col1\" >sum</th>        <th class=\"col_heading level0 col2\" >count</th>        <th class=\"col_heading level0 col3\" >mean</th>    </tr></thead><tbody>\n",
       "                <tr>\n",
       "                        <th id=\"T_a7f47_level0_row0\" class=\"row_heading level0 row0\" >0</th>\n",
       "                        <td id=\"T_a7f47_row0_col0\" class=\"data row0 col0\" >D</td>\n",
       "                        <td id=\"T_a7f47_row0_col1\" class=\"data row0 col1\" >21</td>\n",
       "                        <td id=\"T_a7f47_row0_col2\" class=\"data row0 col2\" >349</td>\n",
       "                        <td id=\"T_a7f47_row0_col3\" class=\"data row0 col3\" >6.02%</td>\n",
       "            </tr>\n",
       "            <tr>\n",
       "                        <th id=\"T_a7f47_level0_row1\" class=\"row_heading level0 row1\" >1</th>\n",
       "                        <td id=\"T_a7f47_row1_col0\" class=\"data row1 col0\" >B</td>\n",
       "                        <td id=\"T_a7f47_row1_col1\" class=\"data row1 col1\" >354</td>\n",
       "                        <td id=\"T_a7f47_row1_col2\" class=\"data row1 col2\" >5014</td>\n",
       "                        <td id=\"T_a7f47_row1_col3\" class=\"data row1 col3\" >7.06%</td>\n",
       "            </tr>\n",
       "            <tr>\n",
       "                        <th id=\"T_a7f47_level0_row2\" class=\"row_heading level0 row2\" >2</th>\n",
       "                        <td id=\"T_a7f47_row2_col0\" class=\"data row2 col0\" >A</td>\n",
       "                        <td id=\"T_a7f47_row2_col1\" class=\"data row2 col1\" >2</td>\n",
       "                        <td id=\"T_a7f47_row2_col2\" class=\"data row2 col2\" >25</td>\n",
       "                        <td id=\"T_a7f47_row2_col3\" class=\"data row2 col3\" >8.00%</td>\n",
       "            </tr>\n",
       "            <tr>\n",
       "                        <th id=\"T_a7f47_level0_row3\" class=\"row_heading level0 row3\" >3</th>\n",
       "                        <td id=\"T_a7f47_row3_col0\" class=\"data row3 col0\" >C</td>\n",
       "                        <td id=\"T_a7f47_row3_col1\" class=\"data row3 col1\" >1353</td>\n",
       "                        <td id=\"T_a7f47_row3_col2\" class=\"data row3 col2\" >15921</td>\n",
       "                        <td id=\"T_a7f47_row3_col3\" class=\"data row3 col3\" >8.50%</td>\n",
       "            </tr>\n",
       "            <tr>\n",
       "                        <th id=\"T_a7f47_level0_row4\" class=\"row_heading level0 row4\" >4</th>\n",
       "                        <td id=\"T_a7f47_row4_col0\" class=\"data row4 col0\" >E</td>\n",
       "                        <td id=\"T_a7f47_row4_col1\" class=\"data row4 col1\" >2</td>\n",
       "                        <td id=\"T_a7f47_row4_col2\" class=\"data row4 col2\" >22</td>\n",
       "                        <td id=\"T_a7f47_row4_col3\" class=\"data row4 col3\" >9.09%</td>\n",
       "            </tr>\n",
       "    </tbody></table>"
      ],
      "text/plain": [
       "<pandas.io.formats.style.Styler at 0x7f8f0c6fec10>"
      ]
     },
     "execution_count": 53,
     "metadata": {},
     "output_type": "execute_result"
    }
   ],
   "source": [
    "# Ваш код будет здесь. Вы можете создавать новые ячейки.\n",
    "\n",
    "# построим сводную таблицу\n",
    "data_pivot = data.pivot_table(index=['total_income_category'], values=[\"debt\"], aggfunc=['sum', 'count', 'mean'])\n",
    "\n",
    "# отсортируем сводную таблицу\n",
    "data_pivot = data_pivot.sort_values(by=('mean', 'debt'))\n",
    "data_pivot.droplevel(1, axis=1).reset_index().style.format({'mean': '{:.2%}'})"
   ]
  },
  {
   "cell_type": "markdown",
   "id": "c3e18064",
   "metadata": {
    "deletable": false,
    "id": "e8593def"
   },
   "source": [
    "**Вывод:** \n",
    "\n",
    "Заемщики, из категории B с уровнем дохода 200001–1000000 рублей, лучше всего отдают кредит, доля должников здесь составляет 7,06%. Хуже обстоит дело с заемщиками из категории C с уровнем дохода 50001–200000 рублей, здесь доля должников составляет 8,50%. Остальные категории сравнивать некорректно, так как в этих категориях очень маленькая выборка. Можно сделать вывод, что между уровнем дохода и возвратом кредита в срок зависимость есть. Самая надежная категория заемщиков, это люди имеющие высокий уровень дохода."
   ]
  },
  {
   "cell_type": "markdown",
   "id": "7a0525dc",
   "metadata": {},
   "source": [
    "<div class=\"alert alert-block alert-warning\">\n",
    "<b>Комментарий ревьюер:</b> \n",
    "\n",
    "⚠️ Здесь тоже можно сравнить только две группы B и С <br>"
   ]
  },
  {
   "cell_type": "markdown",
   "id": "c6411ec8",
   "metadata": {},
   "source": [
    "<div class=\"alert alert-block alert-success\">\n",
    "<b>Комментарий ревьюера_V2:</b>\n",
    "\n",
    "✔️ Две самые большие группы сравнил, молодец)) \n",
    "    \n",
    "    \n",
    "  </div>"
   ]
  },
  {
   "cell_type": "markdown",
   "id": "0dbf79df",
   "metadata": {
    "deletable": false,
    "editable": false,
    "id": "99ecbd1f"
   },
   "source": [
    "#### 3.4 Как разные цели кредита влияют на его возврат в срок?"
   ]
  },
  {
   "cell_type": "code",
   "execution_count": 54,
   "id": "2cb796d0",
   "metadata": {
    "deletable": false,
    "id": "2b687290"
   },
   "outputs": [
    {
     "data": {
      "text/html": [
       "<style  type=\"text/css\" >\n",
       "</style><table id=\"T_ce9fc_\" ><thead>    <tr>        <th class=\"blank level0\" ></th>        <th class=\"col_heading level0 col0\" >purpose_category</th>        <th class=\"col_heading level0 col1\" >sum</th>        <th class=\"col_heading level0 col2\" >count</th>        <th class=\"col_heading level0 col3\" >mean</th>    </tr></thead><tbody>\n",
       "                <tr>\n",
       "                        <th id=\"T_ce9fc_level0_row0\" class=\"row_heading level0 row0\" >0</th>\n",
       "                        <td id=\"T_ce9fc_row0_col0\" class=\"data row0 col0\" >операции с недвижимостью</td>\n",
       "                        <td id=\"T_ce9fc_row0_col1\" class=\"data row0 col1\" >780</td>\n",
       "                        <td id=\"T_ce9fc_row0_col2\" class=\"data row0 col2\" >10751</td>\n",
       "                        <td id=\"T_ce9fc_row0_col3\" class=\"data row0 col3\" >7.26%</td>\n",
       "            </tr>\n",
       "            <tr>\n",
       "                        <th id=\"T_ce9fc_level0_row1\" class=\"row_heading level0 row1\" >1</th>\n",
       "                        <td id=\"T_ce9fc_row1_col0\" class=\"data row1 col0\" >проведение свадьбы</td>\n",
       "                        <td id=\"T_ce9fc_row1_col1\" class=\"data row1 col1\" >183</td>\n",
       "                        <td id=\"T_ce9fc_row1_col2\" class=\"data row1 col2\" >2313</td>\n",
       "                        <td id=\"T_ce9fc_row1_col3\" class=\"data row1 col3\" >7.91%</td>\n",
       "            </tr>\n",
       "            <tr>\n",
       "                        <th id=\"T_ce9fc_level0_row2\" class=\"row_heading level0 row2\" >2</th>\n",
       "                        <td id=\"T_ce9fc_row2_col0\" class=\"data row2 col0\" >получение образования</td>\n",
       "                        <td id=\"T_ce9fc_row2_col1\" class=\"data row2 col1\" >369</td>\n",
       "                        <td id=\"T_ce9fc_row2_col2\" class=\"data row2 col2\" >3988</td>\n",
       "                        <td id=\"T_ce9fc_row2_col3\" class=\"data row2 col3\" >9.25%</td>\n",
       "            </tr>\n",
       "            <tr>\n",
       "                        <th id=\"T_ce9fc_level0_row3\" class=\"row_heading level0 row3\" >3</th>\n",
       "                        <td id=\"T_ce9fc_row3_col0\" class=\"data row3 col0\" >операции с автомобилем</td>\n",
       "                        <td id=\"T_ce9fc_row3_col1\" class=\"data row3 col1\" >400</td>\n",
       "                        <td id=\"T_ce9fc_row3_col2\" class=\"data row3 col2\" >4279</td>\n",
       "                        <td id=\"T_ce9fc_row3_col3\" class=\"data row3 col3\" >9.35%</td>\n",
       "            </tr>\n",
       "    </tbody></table>"
      ],
      "text/plain": [
       "<pandas.io.formats.style.Styler at 0x7f8f0c9afc40>"
      ]
     },
     "execution_count": 54,
     "metadata": {},
     "output_type": "execute_result"
    }
   ],
   "source": [
    "# Ваш код будет здесь. Вы можете создавать новые ячейки.\n",
    "\n",
    "# построим сводную таблицу\n",
    "data_pivot = data.pivot_table(index=['purpose_category'], values=[\"debt\"], aggfunc=['sum', 'count', 'mean'])\n",
    "\n",
    "# отсортируем сводную таблицу\n",
    "data_pivot = data_pivot.sort_values(by=('mean', 'debt'))\n",
    "data_pivot.droplevel(1, axis=1).reset_index().style.format({'mean': '{:.2%}'})"
   ]
  },
  {
   "cell_type": "markdown",
   "id": "9d2bf1e5",
   "metadata": {
    "deletable": false,
    "id": "b4bb2ce6"
   },
   "source": [
    "**Вывод:**\n",
    "\n",
    "Заемщики с целями кредита \"операции с недвижимостью\" и \"проведение свадьбы\", лучше всего отдают кредит, доля должников здесь составляет соответственно 7,26% и 7,91%. Хуже обстоит дело с заемщиками с целями кредита \"получение образования\" и \"операции с автомобилем\", здесь доля должников составляет соответственно 9,25% и 9,35%. Можно сделать вывод, что разные цели кредита влияют на его возврат в срок. Самая надежная категория заемщиков, это люди, которые берут кредит для проведения операций с недвижимостью."
   ]
  },
  {
   "cell_type": "markdown",
   "id": "bc909257",
   "metadata": {},
   "source": [
    "<div class=\"alert alert-block alert-warning\">\n",
    "<b>Комментарий ревьюера:</b> \n",
    "\n",
    "⚠️ Почему по твоему самые надежные кредиторы те, кто берет ипотеку?\n"
   ]
  },
  {
   "cell_type": "markdown",
   "id": "1552b16a",
   "metadata": {},
   "source": [
    "<div class=\"alert alert-block alert-success\">\n",
    "<b>Комментарий ревьюера_V2:</b>\n",
    "\n",
    "✔️ Связано это с тем, что к ним предъявляются самые жесткие требования)) \n",
    "    \n",
    "    \n",
    "  </div>"
   ]
  },
  {
   "cell_type": "markdown",
   "id": "3ed6e06c",
   "metadata": {
    "deletable": false,
    "editable": false,
    "id": "09c3ac4c"
   },
   "source": [
    "#### 3.5 Приведите возможные причины появления пропусков в исходных данных."
   ]
  },
  {
   "cell_type": "markdown",
   "id": "6ab4dfdc",
   "metadata": {
    "deletable": false,
    "id": "9da2ceda"
   },
   "source": [
    "*Ответ:* \n",
    "\n",
    "- Человеческий фактор (Случайно нажат пробел или скопированы лишние символы)\n",
    "- Технический фактор (Неудачно написанный код испортил данные, пока загружал их с сервера) "
   ]
  },
  {
   "cell_type": "markdown",
   "id": "f602f8dd",
   "metadata": {},
   "source": [
    "<div class=\"alert alert-block alert-success\">\n",
    "<b>Комментарий ревьюера:</b>\n",
    "\n",
    "✔️ Ответ правильный)) "
   ]
  },
  {
   "cell_type": "markdown",
   "id": "64fd7c5b",
   "metadata": {
    "deletable": false,
    "editable": false,
    "id": "7b0487d6"
   },
   "source": [
    "#### 3.6 Объясните, почему заполнить пропуски медианным значением — лучшее решение для количественных переменных."
   ]
  },
  {
   "cell_type": "markdown",
   "id": "7ae5f25d",
   "metadata": {
    "deletable": false,
    "id": "7ecf2b8e"
   },
   "source": [
    "*Ответ:*\n",
    "\n",
    "Потому что медианное значение (среднее), не будет сильно отличаться от остальных значений ни в меньшую, ни в большую сторону. Его добавление не повлияет на остальные данные."
   ]
  },
  {
   "cell_type": "markdown",
   "id": "92d26827",
   "metadata": {},
   "source": [
    "<div class=\"alert alert-block alert-success\">\n",
    "<b>Комментарий ревьюера:</b>\n",
    "\n",
    "✔️ Все верно, на медиану не влияют выбросы)) "
   ]
  },
  {
   "cell_type": "markdown",
   "id": "932cf594",
   "metadata": {
    "deletable": false,
    "editable": false,
    "id": "6db5255a"
   },
   "source": [
    "### Шаг 4: общий вывод."
   ]
  },
  {
   "cell_type": "markdown",
   "id": "786b8978",
   "metadata": {
    "deletable": false,
    "id": "bad65432"
   },
   "source": [
    "Напишите ваш общий вывод.\n",
    "\n",
    "В результате проведения исследования надежности заемщиков, удалось определить следующее:\n",
    "\n",
    "1. Гипотеза о том, что есть зависимость между количеством детей и возвратом кредита в срок подтвердилась.\n",
    "\n",
    "Заемщики, не имеющие детей, лучше всего отдают кредит, доля должников здесь составляет 7,54%. Хуже обстоит дело с заемщиками, которые имеют одного или двух детей, здесь доля должников составляет соответственно 9,23% и 9,45%. Остальные категории сравнивать некорректно, так как в этих категориях очень маленькая выборка.\n",
    "\n",
    "На основании этих данных можно сделать вывод, что самая надежная категория заемщиков, это люди не имеющие детей.\n",
    "\n",
    "2. Гипотеза о том, что есть зависимость между семейным положением и возвратом кредита в срок подтвердилась.\n",
    "\n",
    "Заемщики, имеющие семейное положение, вдовец\\вдова или в разводе лучше всего отдают кредит, доля должников здесь составляет соответственно 6,62% и 7,06%. Но, стоит обратить внимание, что это самые немногочисленные категории среди заемщиков. Далее идет категория  заемщиков, которые состоят браке, здесь доля должников составляет 7,56%. Стоит обратить внимание, что это самая многочисленная категория среди заемщиков. Хуже обстоит дело с заемщиками состоящими в гражданском браке или не состоящими в отношениях, доля должников здесь составляет соответственно 9,31% и 9,76%.\n",
    "\n",
    "На основании этих данных можно сделать вывод, что самая надежная категория заемщиков, это люди состоящиее в браке.\n",
    "\n",
    "3.  Гипотеза о том, что есть зависимость между уровнем дохода и возвратом кредита в срок подтвердилась.\n",
    "\n",
    "Заемщики, из категории B с уровнем дохода 200001–1000000 рублей, лучше всего отдают кредит, доля должников здесь составляет 7,06%. Хуже обстоит дело с заемщиками из категории C с уровнем дохода 50001–200000 рублей, здесь доля должников составляет 8,50%. Остальные категории сравнивать некорректно, так как в этих категориях очень маленькая выборка.\n",
    "\n",
    "На основании этих данных можно сделать вывод, что самая надежная категория заемщиков, это люди имеющие высокий уровень дохода.\n",
    "\n",
    "4. Гипотеза о том, что разные цели кредита влияют на его возврат в срок подтвердилась.\n",
    "\n",
    "Заемщики с целями кредита \"операции с недвижимостью\" и \"проведение свадьбы\", лучше всего отдают кредит, доля должников здесь составляет соответственно 7,26% и 7,91%. Хуже обстоит дело с заемщиками с целями кредита \"получение образования\" и \"операции с автомобилем\", здесь доля должников составляет соответственно 9,25% и 9,35%.\n",
    "\n",
    "На основании этих данных можно сделать вывод, что самая надежная категория заемщиков, это люди, которые берут кредит для проведения операций с недвижимостью."
   ]
  },
  {
   "cell_type": "markdown",
   "id": "de5cf42d",
   "metadata": {},
   "source": [
    "<div class=\"alert alert-block alert-success\">\n",
    "<b>Комментарий ревьюера_V2:</b>\n",
    "\n",
    "✔️ Выводы переработал отлично, молодец)) \n",
    "    \n",
    "    \n",
    "  </div>"
   ]
  },
  {
   "cell_type": "markdown",
   "id": "877dac20",
   "metadata": {},
   "source": [
    "<div class=\"alert alert-block alert-danger\">\n",
    "<b>Комментарий ревьюера:</b> \n",
    "\n",
    "❌ Выводы делаем детально, что должно быть в них:\n",
    "- Отвечаешь на вопрос \"Есть ли зависимость между количеством детей и возвратом кредита в срок?\"\n",
    "- Отвечаешь на вопрос  \"Есть ли зависимость между семейным положением и возвратом кредита в срок?\"\n",
    "- Отвечаешь на вопрос  \"Есть ли зависимость между уровнем дохода и возвратом кредита в срок?\"\n",
    "- Отвечаешь на вопрос  \"Как разные цели кредита влияют на его возврат в срок?\"\n",
    "- Даешь рекомендацией банку по улучшению сбора данных и скоринга.\n",
    "\n",
    "Общий вывод - резюме этой работы. Большинство заказчиков посмотрят сначала его (а некоторые только его). Чтобы выводы не огорошивали заказчика своей очевидностью, стоит добавить в них цифр, всяких корреляций, процентов итд :) Сделай так, чтобы вся найденная в данных информация была отражена в выводе "
   ]
  },
  {
   "cell_type": "markdown",
   "id": "7c8e8731",
   "metadata": {},
   "source": [
    "<div class=\"alert alert-block alert-success\">\n",
    "<b>Комментарий ревьюера:</b>\n",
    "    \n",
    "Станислав, отлично поработал, видно что умеешь работать с кодом, давай избавимся от мультииндексов и поработаем над выводами)) \n",
    "<br> Жду исправленного варианта)\n",
    "\n",
    "  </div>"
   ]
  },
  {
   "cell_type": "markdown",
   "id": "ffec7970",
   "metadata": {},
   "source": [
    "<div class=\"alert alert-block alert-success\">\n",
    "<b>Комментарий ревьюера_V2:</b>\n",
    "\n",
    "Станислав, теперь работа отличная, все исправил, можно двигаться дальше, успехов в дальнейшем обучении)) \n",
    "    \n",
    "    \n",
    "  </div>"
   ]
  }
 ],
 "metadata": {
  "ExecuteTimeLog": [
   {
    "duration": 43,
    "start_time": "2023-02-08T04:17:54.436Z"
   },
   {
    "duration": 464,
    "start_time": "2023-02-08T04:18:09.560Z"
   },
   {
    "duration": 21,
    "start_time": "2023-02-08T04:18:10.026Z"
   },
   {
    "duration": 26,
    "start_time": "2023-02-08T04:18:10.048Z"
   },
   {
    "duration": 21,
    "start_time": "2023-02-08T04:18:10.075Z"
   },
   {
    "duration": 35,
    "start_time": "2023-02-08T04:18:10.098Z"
   },
   {
    "duration": 3,
    "start_time": "2023-02-08T04:18:10.135Z"
   },
   {
    "duration": 12,
    "start_time": "2023-02-08T04:18:10.139Z"
   },
   {
    "duration": 4,
    "start_time": "2023-02-08T04:18:10.152Z"
   },
   {
    "duration": 8,
    "start_time": "2023-02-08T04:18:10.157Z"
   },
   {
    "duration": 3,
    "start_time": "2023-02-08T04:18:10.167Z"
   },
   {
    "duration": 28,
    "start_time": "2023-02-08T04:18:10.181Z"
   },
   {
    "duration": 8,
    "start_time": "2023-02-08T04:18:10.211Z"
   },
   {
    "duration": 6,
    "start_time": "2023-02-08T04:18:10.221Z"
   },
   {
    "duration": 19,
    "start_time": "2023-02-08T04:18:10.229Z"
   },
   {
    "duration": 34,
    "start_time": "2023-02-08T04:18:10.250Z"
   },
   {
    "duration": 15,
    "start_time": "2023-02-08T04:18:10.286Z"
   },
   {
    "duration": 4,
    "start_time": "2023-02-08T04:18:10.302Z"
   },
   {
    "duration": 16,
    "start_time": "2023-02-08T04:18:10.307Z"
   },
   {
    "duration": 10,
    "start_time": "2023-02-08T04:18:10.324Z"
   },
   {
    "duration": 4,
    "start_time": "2023-02-08T04:18:10.336Z"
   },
   {
    "duration": 10,
    "start_time": "2023-02-08T04:18:10.341Z"
   },
   {
    "duration": 38,
    "start_time": "2023-02-08T04:18:10.352Z"
   },
   {
    "duration": 6,
    "start_time": "2023-02-08T04:18:10.391Z"
   },
   {
    "duration": 9,
    "start_time": "2023-02-08T04:18:10.399Z"
   },
   {
    "duration": 9,
    "start_time": "2023-02-08T04:18:10.410Z"
   },
   {
    "duration": 2,
    "start_time": "2023-02-08T04:50:27.611Z"
   },
   {
    "duration": 5,
    "start_time": "2023-02-08T05:00:48.618Z"
   },
   {
    "duration": 6,
    "start_time": "2023-02-08T05:01:37.318Z"
   },
   {
    "duration": 6,
    "start_time": "2023-02-08T05:02:46.273Z"
   },
   {
    "duration": 6,
    "start_time": "2023-02-08T05:03:12.953Z"
   },
   {
    "duration": 6,
    "start_time": "2023-02-08T05:03:49.351Z"
   },
   {
    "duration": 8,
    "start_time": "2023-02-08T05:05:06.465Z"
   },
   {
    "duration": 45,
    "start_time": "2023-02-08T05:06:54.889Z"
   },
   {
    "duration": 7,
    "start_time": "2023-02-08T05:07:06.705Z"
   },
   {
    "duration": 10,
    "start_time": "2023-02-08T05:19:49.596Z"
   },
   {
    "duration": 10,
    "start_time": "2023-02-08T05:21:34.495Z"
   },
   {
    "duration": 11,
    "start_time": "2023-02-08T05:46:36.146Z"
   },
   {
    "duration": 10,
    "start_time": "2023-02-08T05:46:52.204Z"
   },
   {
    "duration": 9,
    "start_time": "2023-02-08T05:48:18.506Z"
   },
   {
    "duration": 8,
    "start_time": "2023-02-08T05:48:29.811Z"
   },
   {
    "duration": 7,
    "start_time": "2023-02-08T05:48:49.873Z"
   },
   {
    "duration": 14,
    "start_time": "2023-02-08T05:54:59.787Z"
   },
   {
    "duration": 8,
    "start_time": "2023-02-08T05:55:01.861Z"
   },
   {
    "duration": 8,
    "start_time": "2023-02-08T06:00:00.577Z"
   },
   {
    "duration": 8,
    "start_time": "2023-02-08T06:00:07.217Z"
   },
   {
    "duration": 11,
    "start_time": "2023-02-08T06:01:05.501Z"
   },
   {
    "duration": 15,
    "start_time": "2023-02-08T06:01:07.391Z"
   },
   {
    "duration": 68,
    "start_time": "2023-02-08T06:02:39.008Z"
   },
   {
    "duration": 58,
    "start_time": "2023-02-08T06:03:10.709Z"
   },
   {
    "duration": 13,
    "start_time": "2023-02-08T06:03:24.822Z"
   },
   {
    "duration": 11,
    "start_time": "2023-02-08T06:05:46.625Z"
   },
   {
    "duration": 13,
    "start_time": "2023-02-08T06:09:15.864Z"
   },
   {
    "duration": 12,
    "start_time": "2023-02-08T06:10:27.732Z"
   },
   {
    "duration": 15,
    "start_time": "2023-02-08T06:10:31.035Z"
   },
   {
    "duration": 33,
    "start_time": "2023-02-08T06:17:11.890Z"
   },
   {
    "duration": 9,
    "start_time": "2023-02-08T06:18:08.949Z"
   },
   {
    "duration": 14,
    "start_time": "2023-02-08T09:59:27.682Z"
   },
   {
    "duration": 19,
    "start_time": "2023-02-08T09:59:44.136Z"
   },
   {
    "duration": 16,
    "start_time": "2023-02-08T09:59:56.701Z"
   },
   {
    "duration": 252,
    "start_time": "2023-02-08T10:10:19.802Z"
   },
   {
    "duration": 264,
    "start_time": "2023-02-08T10:12:13.046Z"
   },
   {
    "duration": 234,
    "start_time": "2023-02-08T10:13:13.198Z"
   },
   {
    "duration": 237,
    "start_time": "2023-02-08T10:16:51.214Z"
   },
   {
    "duration": 236,
    "start_time": "2023-02-08T10:17:16.705Z"
   },
   {
    "duration": 216,
    "start_time": "2023-02-08T10:17:39.121Z"
   },
   {
    "duration": 226,
    "start_time": "2023-02-08T10:40:17.105Z"
   },
   {
    "duration": 48,
    "start_time": "2023-02-08T10:41:09.077Z"
   },
   {
    "duration": 532,
    "start_time": "2023-02-08T10:41:31.190Z"
   },
   {
    "duration": 20,
    "start_time": "2023-02-08T10:41:31.725Z"
   },
   {
    "duration": 27,
    "start_time": "2023-02-08T10:41:31.747Z"
   },
   {
    "duration": 9,
    "start_time": "2023-02-08T10:41:31.776Z"
   },
   {
    "duration": 49,
    "start_time": "2023-02-08T10:41:31.788Z"
   },
   {
    "duration": 3,
    "start_time": "2023-02-08T10:41:31.839Z"
   },
   {
    "duration": 34,
    "start_time": "2023-02-08T10:41:31.844Z"
   },
   {
    "duration": 26,
    "start_time": "2023-02-08T10:41:31.880Z"
   },
   {
    "duration": 16,
    "start_time": "2023-02-08T10:41:31.908Z"
   },
   {
    "duration": 5,
    "start_time": "2023-02-08T10:41:31.925Z"
   },
   {
    "duration": 49,
    "start_time": "2023-02-08T10:41:31.931Z"
   },
   {
    "duration": 10,
    "start_time": "2023-02-08T10:41:31.982Z"
   },
   {
    "duration": 5,
    "start_time": "2023-02-08T10:41:31.994Z"
   },
   {
    "duration": 13,
    "start_time": "2023-02-08T10:41:32.002Z"
   },
   {
    "duration": 24,
    "start_time": "2023-02-08T10:41:32.017Z"
   },
   {
    "duration": 39,
    "start_time": "2023-02-08T10:41:32.042Z"
   },
   {
    "duration": 4,
    "start_time": "2023-02-08T10:41:32.083Z"
   },
   {
    "duration": 16,
    "start_time": "2023-02-08T10:41:32.088Z"
   },
   {
    "duration": 5,
    "start_time": "2023-02-08T10:41:32.105Z"
   },
   {
    "duration": 9,
    "start_time": "2023-02-08T10:41:32.112Z"
   },
   {
    "duration": 11,
    "start_time": "2023-02-08T10:41:32.122Z"
   },
   {
    "duration": 11,
    "start_time": "2023-02-08T10:41:32.135Z"
   },
   {
    "duration": 43,
    "start_time": "2023-02-08T10:41:32.147Z"
   },
   {
    "duration": 301,
    "start_time": "2023-02-08T10:41:32.192Z"
   },
   {
    "duration": 0,
    "start_time": "2023-02-08T10:41:32.495Z"
   },
   {
    "duration": 51,
    "start_time": "2023-02-08T10:44:56.114Z"
   },
   {
    "duration": 46,
    "start_time": "2023-02-08T10:45:15.560Z"
   },
   {
    "duration": 222,
    "start_time": "2023-02-08T10:45:31.599Z"
   },
   {
    "duration": 261,
    "start_time": "2023-02-08T10:47:21.591Z"
   },
   {
    "duration": 51,
    "start_time": "2023-02-08T10:51:37.903Z"
   },
   {
    "duration": 17,
    "start_time": "2023-02-08T10:52:20.429Z"
   },
   {
    "duration": 26,
    "start_time": "2023-02-08T10:53:43.114Z"
   },
   {
    "duration": 4,
    "start_time": "2023-02-08T10:53:46.520Z"
   },
   {
    "duration": 17,
    "start_time": "2023-02-08T10:54:10.486Z"
   },
   {
    "duration": 22,
    "start_time": "2023-02-08T11:02:27.548Z"
   },
   {
    "duration": 15,
    "start_time": "2023-02-08T11:04:42.413Z"
   },
   {
    "duration": 53,
    "start_time": "2023-02-09T03:24:29.680Z"
   },
   {
    "duration": 8,
    "start_time": "2023-02-09T03:24:53.291Z"
   },
   {
    "duration": 816,
    "start_time": "2023-02-09T03:25:01.212Z"
   },
   {
    "duration": 26,
    "start_time": "2023-02-09T03:25:02.030Z"
   },
   {
    "duration": 94,
    "start_time": "2023-02-09T03:25:02.059Z"
   },
   {
    "duration": 40,
    "start_time": "2023-02-09T03:25:02.155Z"
   },
   {
    "duration": 41,
    "start_time": "2023-02-09T03:25:02.198Z"
   },
   {
    "duration": 5,
    "start_time": "2023-02-09T03:25:02.241Z"
   },
   {
    "duration": 12,
    "start_time": "2023-02-09T03:25:02.248Z"
   },
   {
    "duration": 16,
    "start_time": "2023-02-09T03:25:02.262Z"
   },
   {
    "duration": 14,
    "start_time": "2023-02-09T03:25:02.279Z"
   },
   {
    "duration": 8,
    "start_time": "2023-02-09T03:25:02.295Z"
   },
   {
    "duration": 54,
    "start_time": "2023-02-09T03:25:02.305Z"
   },
   {
    "duration": 10,
    "start_time": "2023-02-09T03:25:02.361Z"
   },
   {
    "duration": 19,
    "start_time": "2023-02-09T03:25:02.372Z"
   },
   {
    "duration": 36,
    "start_time": "2023-02-09T03:25:02.394Z"
   },
   {
    "duration": 30,
    "start_time": "2023-02-09T03:25:02.432Z"
   },
   {
    "duration": 19,
    "start_time": "2023-02-09T03:25:02.463Z"
   },
   {
    "duration": 5,
    "start_time": "2023-02-09T03:25:02.484Z"
   },
   {
    "duration": 19,
    "start_time": "2023-02-09T03:25:02.491Z"
   },
   {
    "duration": 13,
    "start_time": "2023-02-09T03:25:02.512Z"
   },
   {
    "duration": 17,
    "start_time": "2023-02-09T03:25:02.536Z"
   },
   {
    "duration": 21,
    "start_time": "2023-02-09T03:25:02.555Z"
   },
   {
    "duration": 104,
    "start_time": "2023-02-09T03:25:02.578Z"
   },
   {
    "duration": 0,
    "start_time": "2023-02-09T03:25:02.684Z"
   },
   {
    "duration": 0,
    "start_time": "2023-02-09T03:25:02.685Z"
   },
   {
    "duration": 0,
    "start_time": "2023-02-09T03:25:02.687Z"
   },
   {
    "duration": 471,
    "start_time": "2023-02-09T03:25:15.846Z"
   },
   {
    "duration": 24,
    "start_time": "2023-02-09T03:25:16.319Z"
   },
   {
    "duration": 50,
    "start_time": "2023-02-09T03:25:16.344Z"
   },
   {
    "duration": 38,
    "start_time": "2023-02-09T03:25:16.396Z"
   },
   {
    "duration": 65,
    "start_time": "2023-02-09T03:25:16.436Z"
   },
   {
    "duration": 3,
    "start_time": "2023-02-09T03:25:16.503Z"
   },
   {
    "duration": 45,
    "start_time": "2023-02-09T03:25:16.507Z"
   },
   {
    "duration": 23,
    "start_time": "2023-02-09T03:25:16.553Z"
   },
   {
    "duration": 34,
    "start_time": "2023-02-09T03:25:16.578Z"
   },
   {
    "duration": 43,
    "start_time": "2023-02-09T03:25:16.614Z"
   },
   {
    "duration": 76,
    "start_time": "2023-02-09T03:25:16.659Z"
   },
   {
    "duration": 11,
    "start_time": "2023-02-09T03:25:16.737Z"
   },
   {
    "duration": 28,
    "start_time": "2023-02-09T03:25:16.749Z"
   },
   {
    "duration": 28,
    "start_time": "2023-02-09T03:25:16.779Z"
   },
   {
    "duration": 59,
    "start_time": "2023-02-09T03:25:16.810Z"
   },
   {
    "duration": 34,
    "start_time": "2023-02-09T03:25:16.871Z"
   },
   {
    "duration": 4,
    "start_time": "2023-02-09T03:25:16.907Z"
   },
   {
    "duration": 51,
    "start_time": "2023-02-09T03:25:16.912Z"
   },
   {
    "duration": 36,
    "start_time": "2023-02-09T03:25:16.965Z"
   },
   {
    "duration": 32,
    "start_time": "2023-02-09T03:25:17.003Z"
   },
   {
    "duration": 41,
    "start_time": "2023-02-09T03:25:17.036Z"
   },
   {
    "duration": 95,
    "start_time": "2023-02-09T03:25:17.079Z"
   },
   {
    "duration": 0,
    "start_time": "2023-02-09T03:25:17.175Z"
   },
   {
    "duration": 0,
    "start_time": "2023-02-09T03:25:17.177Z"
   },
   {
    "duration": 0,
    "start_time": "2023-02-09T03:25:17.178Z"
   },
   {
    "duration": 48,
    "start_time": "2023-02-09T03:28:02.523Z"
   },
   {
    "duration": 14,
    "start_time": "2023-02-09T03:28:22.674Z"
   },
   {
    "duration": 18,
    "start_time": "2023-02-09T03:29:11.759Z"
   },
   {
    "duration": 17,
    "start_time": "2023-02-09T03:32:21.819Z"
   },
   {
    "duration": 27,
    "start_time": "2023-02-09T03:34:42.362Z"
   },
   {
    "duration": 26,
    "start_time": "2023-02-09T03:36:58.754Z"
   },
   {
    "duration": 20,
    "start_time": "2023-02-09T03:37:27.322Z"
   },
   {
    "duration": 19,
    "start_time": "2023-02-09T03:41:56.096Z"
   },
   {
    "duration": 23,
    "start_time": "2023-02-09T03:42:36.926Z"
   },
   {
    "duration": 44,
    "start_time": "2023-02-09T03:47:57.308Z"
   },
   {
    "duration": 71,
    "start_time": "2023-02-09T03:49:07.798Z"
   },
   {
    "duration": 66,
    "start_time": "2023-02-09T03:49:32.508Z"
   },
   {
    "duration": 51,
    "start_time": "2023-02-09T03:58:09.427Z"
   },
   {
    "duration": 29,
    "start_time": "2023-02-09T04:06:17.517Z"
   },
   {
    "duration": 470,
    "start_time": "2023-02-09T04:06:32.283Z"
   },
   {
    "duration": 33,
    "start_time": "2023-02-09T04:06:32.756Z"
   },
   {
    "duration": 16,
    "start_time": "2023-02-09T04:06:32.791Z"
   },
   {
    "duration": 41,
    "start_time": "2023-02-09T04:06:32.809Z"
   },
   {
    "duration": 33,
    "start_time": "2023-02-09T04:06:32.852Z"
   },
   {
    "duration": 7,
    "start_time": "2023-02-09T04:06:32.886Z"
   },
   {
    "duration": 25,
    "start_time": "2023-02-09T04:06:32.895Z"
   },
   {
    "duration": 26,
    "start_time": "2023-02-09T04:06:32.922Z"
   },
   {
    "duration": 25,
    "start_time": "2023-02-09T04:06:32.951Z"
   },
   {
    "duration": 5,
    "start_time": "2023-02-09T04:06:32.980Z"
   },
   {
    "duration": 37,
    "start_time": "2023-02-09T04:06:32.987Z"
   },
   {
    "duration": 8,
    "start_time": "2023-02-09T04:06:33.026Z"
   },
   {
    "duration": 16,
    "start_time": "2023-02-09T04:06:33.036Z"
   },
   {
    "duration": 14,
    "start_time": "2023-02-09T04:06:33.054Z"
   },
   {
    "duration": 22,
    "start_time": "2023-02-09T04:06:33.070Z"
   },
   {
    "duration": 18,
    "start_time": "2023-02-09T04:06:33.094Z"
   },
   {
    "duration": 5,
    "start_time": "2023-02-09T04:06:33.114Z"
   },
   {
    "duration": 32,
    "start_time": "2023-02-09T04:06:33.120Z"
   },
   {
    "duration": 10,
    "start_time": "2023-02-09T04:06:33.154Z"
   },
   {
    "duration": 5,
    "start_time": "2023-02-09T04:06:33.166Z"
   },
   {
    "duration": 17,
    "start_time": "2023-02-09T04:06:33.173Z"
   },
   {
    "duration": 84,
    "start_time": "2023-02-09T04:06:33.192Z"
   },
   {
    "duration": 0,
    "start_time": "2023-02-09T04:06:33.279Z"
   },
   {
    "duration": 0,
    "start_time": "2023-02-09T04:06:33.280Z"
   },
   {
    "duration": 0,
    "start_time": "2023-02-09T04:06:33.282Z"
   },
   {
    "duration": 21,
    "start_time": "2023-02-09T04:07:01.010Z"
   },
   {
    "duration": 19,
    "start_time": "2023-02-09T04:07:23.800Z"
   },
   {
    "duration": 19,
    "start_time": "2023-02-09T04:07:47.965Z"
   },
   {
    "duration": 23,
    "start_time": "2023-02-09T04:10:29.674Z"
   },
   {
    "duration": 55,
    "start_time": "2023-02-09T04:10:52.716Z"
   },
   {
    "duration": 18,
    "start_time": "2023-02-09T04:12:45.237Z"
   },
   {
    "duration": 46,
    "start_time": "2023-02-09T04:12:51.070Z"
   },
   {
    "duration": 51,
    "start_time": "2023-02-09T04:13:02.428Z"
   },
   {
    "duration": 22,
    "start_time": "2023-02-09T04:14:54.732Z"
   },
   {
    "duration": 17,
    "start_time": "2023-02-09T04:15:27.188Z"
   },
   {
    "duration": 455,
    "start_time": "2023-02-09T04:16:06.474Z"
   },
   {
    "duration": 32,
    "start_time": "2023-02-09T04:16:06.931Z"
   },
   {
    "duration": 18,
    "start_time": "2023-02-09T04:16:06.965Z"
   },
   {
    "duration": 10,
    "start_time": "2023-02-09T04:16:06.985Z"
   },
   {
    "duration": 57,
    "start_time": "2023-02-09T04:16:06.997Z"
   },
   {
    "duration": 3,
    "start_time": "2023-02-09T04:16:07.056Z"
   },
   {
    "duration": 11,
    "start_time": "2023-02-09T04:16:07.061Z"
   },
   {
    "duration": 4,
    "start_time": "2023-02-09T04:16:07.073Z"
   },
   {
    "duration": 10,
    "start_time": "2023-02-09T04:16:07.078Z"
   },
   {
    "duration": 6,
    "start_time": "2023-02-09T04:16:07.090Z"
   },
   {
    "duration": 54,
    "start_time": "2023-02-09T04:16:07.097Z"
   },
   {
    "duration": 11,
    "start_time": "2023-02-09T04:16:07.153Z"
   },
   {
    "duration": 5,
    "start_time": "2023-02-09T04:16:07.166Z"
   },
   {
    "duration": 11,
    "start_time": "2023-02-09T04:16:07.175Z"
   },
   {
    "duration": 50,
    "start_time": "2023-02-09T04:16:07.188Z"
   },
   {
    "duration": 25,
    "start_time": "2023-02-09T04:16:07.246Z"
   },
   {
    "duration": 4,
    "start_time": "2023-02-09T04:16:07.274Z"
   },
   {
    "duration": 17,
    "start_time": "2023-02-09T04:16:07.280Z"
   },
   {
    "duration": 6,
    "start_time": "2023-02-09T04:16:07.299Z"
   },
   {
    "duration": 15,
    "start_time": "2023-02-09T04:16:07.307Z"
   },
   {
    "duration": 15,
    "start_time": "2023-02-09T04:16:07.324Z"
   },
   {
    "duration": 88,
    "start_time": "2023-02-09T04:16:07.341Z"
   },
   {
    "duration": 0,
    "start_time": "2023-02-09T04:16:07.438Z"
   },
   {
    "duration": 0,
    "start_time": "2023-02-09T04:16:07.440Z"
   },
   {
    "duration": 0,
    "start_time": "2023-02-09T04:16:07.441Z"
   },
   {
    "duration": 21,
    "start_time": "2023-02-09T04:19:51.573Z"
   },
   {
    "duration": 33,
    "start_time": "2023-02-09T04:24:05.720Z"
   },
   {
    "duration": 26,
    "start_time": "2023-02-09T04:25:08.868Z"
   },
   {
    "duration": 23,
    "start_time": "2023-02-09T04:25:17.059Z"
   },
   {
    "duration": 17,
    "start_time": "2023-02-09T04:29:47.971Z"
   },
   {
    "duration": 45,
    "start_time": "2023-02-09T04:29:56.851Z"
   },
   {
    "duration": 446,
    "start_time": "2023-02-09T04:30:07.483Z"
   },
   {
    "duration": 27,
    "start_time": "2023-02-09T04:30:07.931Z"
   },
   {
    "duration": 14,
    "start_time": "2023-02-09T04:30:07.960Z"
   },
   {
    "duration": 10,
    "start_time": "2023-02-09T04:30:07.976Z"
   },
   {
    "duration": 63,
    "start_time": "2023-02-09T04:30:07.987Z"
   },
   {
    "duration": 5,
    "start_time": "2023-02-09T04:30:08.052Z"
   },
   {
    "duration": 16,
    "start_time": "2023-02-09T04:30:08.059Z"
   },
   {
    "duration": 4,
    "start_time": "2023-02-09T04:30:08.078Z"
   },
   {
    "duration": 10,
    "start_time": "2023-02-09T04:30:08.085Z"
   },
   {
    "duration": 6,
    "start_time": "2023-02-09T04:30:08.099Z"
   },
   {
    "duration": 66,
    "start_time": "2023-02-09T04:30:08.107Z"
   },
   {
    "duration": 10,
    "start_time": "2023-02-09T04:30:08.175Z"
   },
   {
    "duration": 4,
    "start_time": "2023-02-09T04:30:08.187Z"
   },
   {
    "duration": 12,
    "start_time": "2023-02-09T04:30:08.192Z"
   },
   {
    "duration": 48,
    "start_time": "2023-02-09T04:30:08.206Z"
   },
   {
    "duration": 24,
    "start_time": "2023-02-09T04:30:08.255Z"
   },
   {
    "duration": 5,
    "start_time": "2023-02-09T04:30:08.281Z"
   },
   {
    "duration": 33,
    "start_time": "2023-02-09T04:30:08.287Z"
   },
   {
    "duration": 21,
    "start_time": "2023-02-09T04:30:08.322Z"
   },
   {
    "duration": 32,
    "start_time": "2023-02-09T04:30:08.344Z"
   },
   {
    "duration": 21,
    "start_time": "2023-02-09T04:30:08.378Z"
   },
   {
    "duration": 61,
    "start_time": "2023-02-09T04:30:08.401Z"
   },
   {
    "duration": 21,
    "start_time": "2023-02-09T04:30:08.465Z"
   },
   {
    "duration": 20,
    "start_time": "2023-02-09T04:30:08.488Z"
   },
   {
    "duration": 37,
    "start_time": "2023-02-09T04:30:08.510Z"
   },
   {
    "duration": 44,
    "start_time": "2023-02-09T04:31:17.055Z"
   },
   {
    "duration": 79,
    "start_time": "2023-02-09T04:32:19.977Z"
   },
   {
    "duration": 17,
    "start_time": "2023-02-09T04:32:42.552Z"
   },
   {
    "duration": 42,
    "start_time": "2023-02-09T04:33:30.159Z"
   },
   {
    "duration": 29,
    "start_time": "2023-02-09T04:35:54.588Z"
   },
   {
    "duration": 40,
    "start_time": "2023-02-09T04:36:43.274Z"
   },
   {
    "duration": 27,
    "start_time": "2023-02-09T04:41:39.223Z"
   },
   {
    "duration": 38,
    "start_time": "2023-02-09T04:41:52.759Z"
   },
   {
    "duration": 17,
    "start_time": "2023-02-09T04:54:48.031Z"
   },
   {
    "duration": 5,
    "start_time": "2023-02-09T04:55:35.819Z"
   },
   {
    "duration": 9,
    "start_time": "2023-02-09T04:55:44.067Z"
   },
   {
    "duration": 10,
    "start_time": "2023-02-09T04:56:12.712Z"
   },
   {
    "duration": 18,
    "start_time": "2023-02-09T05:06:39.913Z"
   },
   {
    "duration": 11,
    "start_time": "2023-02-09T05:07:02.447Z"
   },
   {
    "duration": 10,
    "start_time": "2023-02-09T05:19:22.679Z"
   },
   {
    "duration": 11,
    "start_time": "2023-02-09T05:19:46.654Z"
   },
   {
    "duration": 12,
    "start_time": "2023-02-09T05:21:08.967Z"
   },
   {
    "duration": 10,
    "start_time": "2023-02-09T05:21:48.028Z"
   },
   {
    "duration": 10,
    "start_time": "2023-02-09T05:22:23.193Z"
   },
   {
    "duration": 37,
    "start_time": "2023-02-09T05:29:56.037Z"
   },
   {
    "duration": 27,
    "start_time": "2023-02-09T05:31:15.769Z"
   },
   {
    "duration": 50,
    "start_time": "2023-02-09T05:35:06.656Z"
   },
   {
    "duration": 49,
    "start_time": "2023-02-09T05:35:25.073Z"
   },
   {
    "duration": 28,
    "start_time": "2023-02-09T05:35:46.575Z"
   },
   {
    "duration": 29,
    "start_time": "2023-02-09T05:36:05.599Z"
   },
   {
    "duration": 42,
    "start_time": "2023-02-09T05:36:26.670Z"
   },
   {
    "duration": 51,
    "start_time": "2023-02-09T05:37:05.202Z"
   },
   {
    "duration": 34,
    "start_time": "2023-02-09T05:37:37.834Z"
   },
   {
    "duration": 51,
    "start_time": "2023-02-09T05:40:14.918Z"
   },
   {
    "duration": 39,
    "start_time": "2023-02-09T05:40:34.462Z"
   },
   {
    "duration": 31,
    "start_time": "2023-02-09T05:42:46.413Z"
   },
   {
    "duration": 90,
    "start_time": "2023-02-09T19:39:32.368Z"
   },
   {
    "duration": 67,
    "start_time": "2023-02-09T19:41:39.991Z"
   },
   {
    "duration": 69,
    "start_time": "2023-02-09T19:45:49.503Z"
   },
   {
    "duration": 101,
    "start_time": "2023-02-10T03:15:12.783Z"
   },
   {
    "duration": 40,
    "start_time": "2023-02-10T03:15:27.600Z"
   },
   {
    "duration": 7,
    "start_time": "2023-02-10T03:15:33.583Z"
   },
   {
    "duration": 446,
    "start_time": "2023-02-10T03:15:43.787Z"
   },
   {
    "duration": 20,
    "start_time": "2023-02-10T03:15:44.234Z"
   },
   {
    "duration": 12,
    "start_time": "2023-02-10T03:15:44.256Z"
   },
   {
    "duration": 7,
    "start_time": "2023-02-10T03:15:44.270Z"
   },
   {
    "duration": 29,
    "start_time": "2023-02-10T03:15:44.279Z"
   },
   {
    "duration": 3,
    "start_time": "2023-02-10T03:15:44.309Z"
   },
   {
    "duration": 30,
    "start_time": "2023-02-10T03:15:44.313Z"
   },
   {
    "duration": 10,
    "start_time": "2023-02-10T03:15:44.344Z"
   },
   {
    "duration": 31,
    "start_time": "2023-02-10T03:15:44.355Z"
   },
   {
    "duration": 4,
    "start_time": "2023-02-10T03:15:44.388Z"
   },
   {
    "duration": 33,
    "start_time": "2023-02-10T03:15:44.393Z"
   },
   {
    "duration": 7,
    "start_time": "2023-02-10T03:15:44.428Z"
   },
   {
    "duration": 4,
    "start_time": "2023-02-10T03:15:44.437Z"
   },
   {
    "duration": 11,
    "start_time": "2023-02-10T03:15:44.443Z"
   },
   {
    "duration": 21,
    "start_time": "2023-02-10T03:15:44.456Z"
   },
   {
    "duration": 14,
    "start_time": "2023-02-10T03:15:44.479Z"
   },
   {
    "duration": 3,
    "start_time": "2023-02-10T03:15:44.494Z"
   },
   {
    "duration": 12,
    "start_time": "2023-02-10T03:15:44.499Z"
   },
   {
    "duration": 28,
    "start_time": "2023-02-10T03:15:44.512Z"
   },
   {
    "duration": 3,
    "start_time": "2023-02-10T03:15:44.541Z"
   },
   {
    "duration": 10,
    "start_time": "2023-02-10T03:15:44.546Z"
   },
   {
    "duration": 28,
    "start_time": "2023-02-10T03:15:44.557Z"
   },
   {
    "duration": 26,
    "start_time": "2023-02-10T03:15:44.587Z"
   },
   {
    "duration": 46,
    "start_time": "2023-02-10T03:15:44.614Z"
   },
   {
    "duration": 26,
    "start_time": "2023-02-10T03:15:44.661Z"
   },
   {
    "duration": 70,
    "start_time": "2023-02-10T03:16:41.692Z"
   },
   {
    "duration": 66,
    "start_time": "2023-02-10T03:16:57.666Z"
   },
   {
    "duration": 435,
    "start_time": "2023-02-10T03:17:03.752Z"
   },
   {
    "duration": 21,
    "start_time": "2023-02-10T03:17:04.190Z"
   },
   {
    "duration": 13,
    "start_time": "2023-02-10T03:17:04.212Z"
   },
   {
    "duration": 14,
    "start_time": "2023-02-10T03:17:04.227Z"
   },
   {
    "duration": 33,
    "start_time": "2023-02-10T03:17:04.243Z"
   },
   {
    "duration": 3,
    "start_time": "2023-02-10T03:17:04.277Z"
   },
   {
    "duration": 11,
    "start_time": "2023-02-10T03:17:04.281Z"
   },
   {
    "duration": 4,
    "start_time": "2023-02-10T03:17:04.293Z"
   },
   {
    "duration": 8,
    "start_time": "2023-02-10T03:17:04.298Z"
   },
   {
    "duration": 4,
    "start_time": "2023-02-10T03:17:04.308Z"
   },
   {
    "duration": 33,
    "start_time": "2023-02-10T03:17:04.337Z"
   },
   {
    "duration": 8,
    "start_time": "2023-02-10T03:17:04.372Z"
   },
   {
    "duration": 6,
    "start_time": "2023-02-10T03:17:04.381Z"
   },
   {
    "duration": 12,
    "start_time": "2023-02-10T03:17:04.389Z"
   },
   {
    "duration": 41,
    "start_time": "2023-02-10T03:17:04.402Z"
   },
   {
    "duration": 17,
    "start_time": "2023-02-10T03:17:04.444Z"
   },
   {
    "duration": 3,
    "start_time": "2023-02-10T03:17:04.463Z"
   },
   {
    "duration": 13,
    "start_time": "2023-02-10T03:17:04.467Z"
   },
   {
    "duration": 6,
    "start_time": "2023-02-10T03:17:04.481Z"
   },
   {
    "duration": 5,
    "start_time": "2023-02-10T03:17:04.488Z"
   },
   {
    "duration": 11,
    "start_time": "2023-02-10T03:17:04.494Z"
   },
   {
    "duration": 69,
    "start_time": "2023-02-10T03:17:04.506Z"
   },
   {
    "duration": 0,
    "start_time": "2023-02-10T03:17:04.577Z"
   },
   {
    "duration": 0,
    "start_time": "2023-02-10T03:17:04.578Z"
   },
   {
    "duration": 0,
    "start_time": "2023-02-10T03:17:04.579Z"
   },
   {
    "duration": 68,
    "start_time": "2023-02-10T03:17:31.261Z"
   },
   {
    "duration": 437,
    "start_time": "2023-02-10T03:17:46.004Z"
   },
   {
    "duration": 21,
    "start_time": "2023-02-10T03:17:46.443Z"
   },
   {
    "duration": 13,
    "start_time": "2023-02-10T03:17:46.465Z"
   },
   {
    "duration": 9,
    "start_time": "2023-02-10T03:17:46.479Z"
   },
   {
    "duration": 50,
    "start_time": "2023-02-10T03:17:46.489Z"
   },
   {
    "duration": 3,
    "start_time": "2023-02-10T03:17:46.541Z"
   },
   {
    "duration": 9,
    "start_time": "2023-02-10T03:17:46.545Z"
   },
   {
    "duration": 3,
    "start_time": "2023-02-10T03:17:46.556Z"
   },
   {
    "duration": 9,
    "start_time": "2023-02-10T03:17:46.560Z"
   },
   {
    "duration": 4,
    "start_time": "2023-02-10T03:17:46.571Z"
   },
   {
    "duration": 32,
    "start_time": "2023-02-10T03:17:46.576Z"
   },
   {
    "duration": 32,
    "start_time": "2023-02-10T03:17:46.609Z"
   },
   {
    "duration": 10,
    "start_time": "2023-02-10T03:17:46.642Z"
   },
   {
    "duration": 13,
    "start_time": "2023-02-10T03:17:46.653Z"
   },
   {
    "duration": 16,
    "start_time": "2023-02-10T03:17:46.668Z"
   },
   {
    "duration": 15,
    "start_time": "2023-02-10T03:17:46.685Z"
   },
   {
    "duration": 3,
    "start_time": "2023-02-10T03:17:46.701Z"
   },
   {
    "duration": 16,
    "start_time": "2023-02-10T03:17:46.705Z"
   },
   {
    "duration": 16,
    "start_time": "2023-02-10T03:17:46.722Z"
   },
   {
    "duration": 4,
    "start_time": "2023-02-10T03:17:46.740Z"
   },
   {
    "duration": 9,
    "start_time": "2023-02-10T03:17:46.746Z"
   },
   {
    "duration": 66,
    "start_time": "2023-02-10T03:17:46.756Z"
   },
   {
    "duration": 0,
    "start_time": "2023-02-10T03:17:46.823Z"
   },
   {
    "duration": 0,
    "start_time": "2023-02-10T03:17:46.825Z"
   },
   {
    "duration": 0,
    "start_time": "2023-02-10T03:17:46.825Z"
   },
   {
    "duration": 27,
    "start_time": "2023-02-10T03:18:19.674Z"
   },
   {
    "duration": 98,
    "start_time": "2023-02-10T03:19:31.910Z"
   },
   {
    "duration": 24,
    "start_time": "2023-02-10T03:19:51.132Z"
   },
   {
    "duration": 26,
    "start_time": "2023-02-10T03:21:26.585Z"
   },
   {
    "duration": 28,
    "start_time": "2023-02-10T03:22:51.873Z"
   },
   {
    "duration": 26,
    "start_time": "2023-02-10T03:23:11.280Z"
   },
   {
    "duration": 26,
    "start_time": "2023-02-10T03:23:23.776Z"
   },
   {
    "duration": 26,
    "start_time": "2023-02-10T03:24:12.006Z"
   },
   {
    "duration": 433,
    "start_time": "2023-02-10T03:46:41.164Z"
   },
   {
    "duration": 21,
    "start_time": "2023-02-10T03:46:41.599Z"
   },
   {
    "duration": 12,
    "start_time": "2023-02-10T03:46:41.623Z"
   },
   {
    "duration": 9,
    "start_time": "2023-02-10T03:46:41.637Z"
   },
   {
    "duration": 33,
    "start_time": "2023-02-10T03:46:41.647Z"
   },
   {
    "duration": 3,
    "start_time": "2023-02-10T03:46:41.682Z"
   },
   {
    "duration": 14,
    "start_time": "2023-02-10T03:46:41.687Z"
   },
   {
    "duration": 4,
    "start_time": "2023-02-10T03:46:41.702Z"
   },
   {
    "duration": 30,
    "start_time": "2023-02-10T03:46:41.707Z"
   },
   {
    "duration": 4,
    "start_time": "2023-02-10T03:46:41.739Z"
   },
   {
    "duration": 33,
    "start_time": "2023-02-10T03:46:41.744Z"
   },
   {
    "duration": 9,
    "start_time": "2023-02-10T03:46:41.778Z"
   },
   {
    "duration": 3,
    "start_time": "2023-02-10T03:46:41.791Z"
   },
   {
    "duration": 11,
    "start_time": "2023-02-10T03:46:41.795Z"
   },
   {
    "duration": 46,
    "start_time": "2023-02-10T03:46:41.808Z"
   },
   {
    "duration": 16,
    "start_time": "2023-02-10T03:46:41.856Z"
   },
   {
    "duration": 4,
    "start_time": "2023-02-10T03:46:41.874Z"
   },
   {
    "duration": 12,
    "start_time": "2023-02-10T03:46:41.880Z"
   },
   {
    "duration": 7,
    "start_time": "2023-02-10T03:46:41.893Z"
   },
   {
    "duration": 3,
    "start_time": "2023-02-10T03:46:41.902Z"
   },
   {
    "duration": 8,
    "start_time": "2023-02-10T03:46:41.936Z"
   },
   {
    "duration": 31,
    "start_time": "2023-02-10T03:46:41.946Z"
   },
   {
    "duration": 28,
    "start_time": "2023-02-10T03:46:41.979Z"
   },
   {
    "duration": 49,
    "start_time": "2023-02-10T03:46:42.009Z"
   },
   {
    "duration": 28,
    "start_time": "2023-02-10T03:46:42.060Z"
   },
   {
    "duration": 33,
    "start_time": "2023-02-10T03:48:07.614Z"
   },
   {
    "duration": 24,
    "start_time": "2023-02-10T03:50:58.459Z"
   },
   {
    "duration": 26,
    "start_time": "2023-02-10T03:51:14.786Z"
   },
   {
    "duration": 25,
    "start_time": "2023-02-10T03:51:25.085Z"
   },
   {
    "duration": 33,
    "start_time": "2023-02-10T03:51:51.896Z"
   },
   {
    "duration": 27,
    "start_time": "2023-02-10T03:52:11.398Z"
   },
   {
    "duration": 27,
    "start_time": "2023-02-10T03:52:41.372Z"
   },
   {
    "duration": 29,
    "start_time": "2023-02-10T03:52:47.483Z"
   },
   {
    "duration": 29,
    "start_time": "2023-02-10T03:52:54.707Z"
   },
   {
    "duration": 25,
    "start_time": "2023-02-10T04:39:01.362Z"
   },
   {
    "duration": 26,
    "start_time": "2023-02-10T04:39:11.607Z"
   },
   {
    "duration": 123,
    "start_time": "2023-02-10T04:39:45.683Z"
   },
   {
    "duration": 27,
    "start_time": "2023-02-10T04:40:05.487Z"
   },
   {
    "duration": 60,
    "start_time": "2023-02-10T04:40:58.224Z"
   },
   {
    "duration": 11,
    "start_time": "2023-02-10T04:41:18.148Z"
   },
   {
    "duration": 26,
    "start_time": "2023-02-10T04:46:58.353Z"
   },
   {
    "duration": 420,
    "start_time": "2023-02-10T04:48:14.315Z"
   },
   {
    "duration": 27,
    "start_time": "2023-02-10T04:49:02.040Z"
   },
   {
    "duration": 31,
    "start_time": "2023-02-10T04:49:22.455Z"
   },
   {
    "duration": 46,
    "start_time": "2023-02-10T04:49:41.301Z"
   },
   {
    "duration": 25,
    "start_time": "2023-02-10T04:50:01.389Z"
   },
   {
    "duration": 23,
    "start_time": "2023-02-10T04:52:39.436Z"
   },
   {
    "duration": 23,
    "start_time": "2023-02-10T04:53:41.057Z"
   },
   {
    "duration": 25,
    "start_time": "2023-02-10T04:53:53.164Z"
   },
   {
    "duration": 26,
    "start_time": "2023-02-10T04:54:15.263Z"
   },
   {
    "duration": 22,
    "start_time": "2023-02-10T04:54:26.732Z"
   },
   {
    "duration": 29,
    "start_time": "2023-02-10T04:54:51.407Z"
   },
   {
    "duration": 26,
    "start_time": "2023-02-10T04:55:05.499Z"
   },
   {
    "duration": 29,
    "start_time": "2023-02-10T04:55:13.835Z"
   }
  ],
  "colab": {
   "name": "dpp_template_part2.ipynb",
   "provenance": []
  },
  "kernelspec": {
   "display_name": "Python 3 (ipykernel)",
   "language": "python",
   "name": "python3"
  },
  "language_info": {
   "codemirror_mode": {
    "name": "ipython",
    "version": 3
   },
   "file_extension": ".py",
   "mimetype": "text/x-python",
   "name": "python",
   "nbconvert_exporter": "python",
   "pygments_lexer": "ipython3",
   "version": "3.9.5"
  },
  "toc": {
   "base_numbering": 1,
   "nav_menu": {},
   "number_sections": true,
   "sideBar": true,
   "skip_h1_title": true,
   "title_cell": "Table of Contents",
   "title_sidebar": "Contents",
   "toc_cell": false,
   "toc_position": {},
   "toc_section_display": true,
   "toc_window_display": false
  }
 },
 "nbformat": 4,
 "nbformat_minor": 5
}
