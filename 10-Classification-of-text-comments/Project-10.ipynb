{
 "cells": [
  {
   "cell_type": "markdown",
   "metadata": {},
   "source": [
    "# Проект для «Викишоп»"
   ]
  },
  {
   "cell_type": "markdown",
   "metadata": {},
   "source": [
    "Интернет-магазин «Викишоп» запускает новый сервис. Теперь пользователи могут редактировать и дополнять описания товаров, как в вики-сообществах. То есть клиенты предлагают свои правки и комментируют изменения других. Магазину нужен инструмент, который будет искать токсичные комментарии и отправлять их на модерацию. \n",
    "\n",
    "Обучите модель классифицировать комментарии на позитивные и негативные. В вашем распоряжении набор данных с разметкой о токсичности правок.\n",
    "\n",
    "Постройте модель со значением метрики качества *F1* не меньше 0.75. \n",
    "\n",
    "**Инструкция по выполнению проекта**\n",
    "\n",
    "1. Загрузите и подготовьте данные.\n",
    "2. Обучите разные модели. \n",
    "3. Сделайте выводы.\n",
    "\n",
    "Для выполнения проекта применять *BERT* необязательно, но вы можете попробовать.\n",
    "\n",
    "**Описание данных**\n",
    "\n",
    "Данные находятся в файле `toxic_comments.csv`. Столбец *text* в нём содержит текст комментария, а *toxic* — целевой признак."
   ]
  },
  {
   "cell_type": "markdown",
   "metadata": {},
   "source": [
    "## Подготовка"
   ]
  },
  {
   "cell_type": "code",
   "execution_count": 1,
   "metadata": {},
   "outputs": [],
   "source": [
    "# Импортируем библиотеки\n",
    "import pandas as pd\n",
    "import numpy as np\n",
    "import seaborn as sns\n",
    "import matplotlib.pyplot as plt\n",
    "\n",
    "import os\n",
    "import re\n",
    "import time\n",
    "import warnings\n",
    "\n",
    "import nltk\n",
    "from nltk import pos_tag, word_tokenize\n",
    "from nltk.corpus import stopwords\n",
    "from nltk.corpus import wordnet\n",
    "from nltk.stem import WordNetLemmatizer\n",
    "\n",
    "from sklearn.feature_extraction.text import CountVectorizer, TfidfVectorizer \n",
    "from sklearn.linear_model import LogisticRegression, SGDClassifier\n",
    "from sklearn.metrics import f1_score\n",
    "from sklearn.model_selection import train_test_split, cross_val_score, GridSearchCV\n",
    "from sklearn.neighbors import KNeighborsClassifier\n",
    "from sklearn.pipeline import make_pipeline\n",
    "from sklearn.tree import DecisionTreeClassifier"
   ]
  },
  {
   "cell_type": "code",
   "execution_count": 2,
   "metadata": {},
   "outputs": [
    {
     "name": "stderr",
     "output_type": "stream",
     "text": [
      "[nltk_data] Downloading package punkt to /home/jovyan/nltk_data...\n",
      "[nltk_data]   Package punkt is already up-to-date!\n",
      "[nltk_data] Downloading package wordnet to /home/jovyan/nltk_data...\n",
      "[nltk_data]   Package wordnet is already up-to-date!\n",
      "[nltk_data] Downloading package stopwords to /home/jovyan/nltk_data...\n",
      "[nltk_data]   Package stopwords is already up-to-date!\n",
      "[nltk_data] Downloading package omw-1.4 to /home/jovyan/nltk_data...\n",
      "[nltk_data]   Package omw-1.4 is already up-to-date!\n",
      "[nltk_data] Downloading package averaged_perceptron_tagger to\n",
      "[nltk_data]     /home/jovyan/nltk_data...\n",
      "[nltk_data]   Package averaged_perceptron_tagger is already up-to-\n",
      "[nltk_data]       date!\n"
     ]
    },
    {
     "data": {
      "text/plain": [
       "True"
      ]
     },
     "execution_count": 2,
     "metadata": {},
     "output_type": "execute_result"
    }
   ],
   "source": [
    "nltk.download('punkt')\n",
    "nltk.download('wordnet')\n",
    "nltk.download('stopwords')\n",
    "nltk.download('omw-1.4')\n",
    "nltk.download('averaged_perceptron_tagger')"
   ]
  },
  {
   "cell_type": "code",
   "execution_count": 3,
   "metadata": {},
   "outputs": [],
   "source": [
    "warnings.simplefilter(action='ignore')\n",
    "%matplotlib inline"
   ]
  },
  {
   "cell_type": "code",
   "execution_count": 4,
   "metadata": {},
   "outputs": [],
   "source": [
    "# Откроем файл и запишем датасет в переменную data\n",
    "pth1 = 'toxic_comments.csv'\n",
    "pth2 = '/datasets/toxic_comments.csv'\n",
    "    \n",
    "if os.path.exists(pth1):\n",
    "    data = pd.read_csv(pth1)\n",
    "elif os.path.exists(pth2):\n",
    "    data = pd.read_csv(pth2)\n",
    "else:\n",
    "    print('Something is wrong')"
   ]
  },
  {
   "cell_type": "code",
   "execution_count": 5,
   "metadata": {},
   "outputs": [],
   "source": [
    "# data = data.sample(20000, random_state=1)"
   ]
  },
  {
   "cell_type": "code",
   "execution_count": 6,
   "metadata": {},
   "outputs": [
    {
     "data": {
      "text/html": [
       "<div>\n",
       "<style scoped>\n",
       "    .dataframe tbody tr th:only-of-type {\n",
       "        vertical-align: middle;\n",
       "    }\n",
       "\n",
       "    .dataframe tbody tr th {\n",
       "        vertical-align: top;\n",
       "    }\n",
       "\n",
       "    .dataframe thead th {\n",
       "        text-align: right;\n",
       "    }\n",
       "</style>\n",
       "<table border=\"1\" class=\"dataframe\">\n",
       "  <thead>\n",
       "    <tr style=\"text-align: right;\">\n",
       "      <th></th>\n",
       "      <th>Unnamed: 0</th>\n",
       "      <th>text</th>\n",
       "      <th>toxic</th>\n",
       "    </tr>\n",
       "  </thead>\n",
       "  <tbody>\n",
       "    <tr>\n",
       "      <th>0</th>\n",
       "      <td>0</td>\n",
       "      <td>Explanation\\nWhy the edits made under my usern...</td>\n",
       "      <td>0</td>\n",
       "    </tr>\n",
       "    <tr>\n",
       "      <th>1</th>\n",
       "      <td>1</td>\n",
       "      <td>D'aww! He matches this background colour I'm s...</td>\n",
       "      <td>0</td>\n",
       "    </tr>\n",
       "    <tr>\n",
       "      <th>2</th>\n",
       "      <td>2</td>\n",
       "      <td>Hey man, I'm really not trying to edit war. It...</td>\n",
       "      <td>0</td>\n",
       "    </tr>\n",
       "    <tr>\n",
       "      <th>3</th>\n",
       "      <td>3</td>\n",
       "      <td>\"\\nMore\\nI can't make any real suggestions on ...</td>\n",
       "      <td>0</td>\n",
       "    </tr>\n",
       "    <tr>\n",
       "      <th>4</th>\n",
       "      <td>4</td>\n",
       "      <td>You, sir, are my hero. Any chance you remember...</td>\n",
       "      <td>0</td>\n",
       "    </tr>\n",
       "    <tr>\n",
       "      <th>5</th>\n",
       "      <td>5</td>\n",
       "      <td>\"\\n\\nCongratulations from me as well, use the ...</td>\n",
       "      <td>0</td>\n",
       "    </tr>\n",
       "    <tr>\n",
       "      <th>6</th>\n",
       "      <td>6</td>\n",
       "      <td>COCKSUCKER BEFORE YOU PISS AROUND ON MY WORK</td>\n",
       "      <td>1</td>\n",
       "    </tr>\n",
       "    <tr>\n",
       "      <th>7</th>\n",
       "      <td>7</td>\n",
       "      <td>Your vandalism to the Matt Shirvington article...</td>\n",
       "      <td>0</td>\n",
       "    </tr>\n",
       "    <tr>\n",
       "      <th>8</th>\n",
       "      <td>8</td>\n",
       "      <td>Sorry if the word 'nonsense' was offensive to ...</td>\n",
       "      <td>0</td>\n",
       "    </tr>\n",
       "    <tr>\n",
       "      <th>9</th>\n",
       "      <td>9</td>\n",
       "      <td>alignment on this subject and which are contra...</td>\n",
       "      <td>0</td>\n",
       "    </tr>\n",
       "  </tbody>\n",
       "</table>\n",
       "</div>"
      ],
      "text/plain": [
       "   Unnamed: 0                                               text  toxic\n",
       "0           0  Explanation\\nWhy the edits made under my usern...      0\n",
       "1           1  D'aww! He matches this background colour I'm s...      0\n",
       "2           2  Hey man, I'm really not trying to edit war. It...      0\n",
       "3           3  \"\\nMore\\nI can't make any real suggestions on ...      0\n",
       "4           4  You, sir, are my hero. Any chance you remember...      0\n",
       "5           5  \"\\n\\nCongratulations from me as well, use the ...      0\n",
       "6           6       COCKSUCKER BEFORE YOU PISS AROUND ON MY WORK      1\n",
       "7           7  Your vandalism to the Matt Shirvington article...      0\n",
       "8           8  Sorry if the word 'nonsense' was offensive to ...      0\n",
       "9           9  alignment on this subject and which are contra...      0"
      ]
     },
     "execution_count": 6,
     "metadata": {},
     "output_type": "execute_result"
    }
   ],
   "source": [
    "# Посмотрим первые 10 строк датафрейма data\n",
    "data.head(10)"
   ]
  },
  {
   "cell_type": "code",
   "execution_count": 7,
   "metadata": {},
   "outputs": [
    {
     "name": "stdout",
     "output_type": "stream",
     "text": [
      "<class 'pandas.core.frame.DataFrame'>\n",
      "RangeIndex: 159292 entries, 0 to 159291\n",
      "Data columns (total 3 columns):\n",
      " #   Column      Non-Null Count   Dtype \n",
      "---  ------      --------------   ----- \n",
      " 0   Unnamed: 0  159292 non-null  int64 \n",
      " 1   text        159292 non-null  object\n",
      " 2   toxic       159292 non-null  int64 \n",
      "dtypes: int64(2), object(1)\n",
      "memory usage: 3.6+ MB\n"
     ]
    }
   ],
   "source": [
    "# Выведем общую информацию о датафрейме data\n",
    "data.info()"
   ]
  },
  {
   "cell_type": "code",
   "execution_count": 8,
   "metadata": {},
   "outputs": [
    {
     "data": {
      "text/plain": [
       "0"
      ]
     },
     "execution_count": 8,
     "metadata": {},
     "output_type": "execute_result"
    }
   ],
   "source": [
    "# Проверим наличие явных дубликатов\n",
    "data.duplicated().sum()"
   ]
  },
  {
   "cell_type": "code",
   "execution_count": 9,
   "metadata": {},
   "outputs": [
    {
     "data": {
      "text/plain": [
       "0    0.898388\n",
       "1    0.101612\n",
       "Name: toxic, dtype: float64"
      ]
     },
     "execution_count": 9,
     "metadata": {},
     "output_type": "execute_result"
    }
   ],
   "source": [
    "# Проверим баланс классов\n",
    "data['toxic'].value_counts(normalize=True)"
   ]
  },
  {
   "cell_type": "code",
   "execution_count": 10,
   "metadata": {
    "scrolled": true
   },
   "outputs": [
    {
     "data": {
      "image/png": "[encoded data removed]",
      "text/plain": [
       "<Figure size 432x288 with 1 Axes>"
      ]
     },
     "metadata": {
      "needs_background": "light"
     },
     "output_type": "display_data"
    }
   ],
   "source": [
    "sns.countplot(data=data, x='toxic')\n",
    "plt.title('')\n",
    "plt.grid()"
   ]
  },
  {
   "cell_type": "markdown",
   "metadata": {},
   "source": [
    "Токсичных комментариев гораздо меньше, чем позитивных или нейтральных"
   ]
  },
  {
   "cell_type": "code",
   "execution_count": 11,
   "metadata": {},
   "outputs": [],
   "source": [
    "# Уберем лишние символы\n",
    "text_column = data['text'].apply(lambda text: ' '.join(re.sub(r'[^a-zA-Z ]', ' ', text).lower().split()))"
   ]
  },
  {
   "cell_type": "code",
   "execution_count": 12,
   "metadata": {},
   "outputs": [
    {
     "data": {
      "text/plain": [
       "0         explanation why the edits made under my userna...\n",
       "1         d aww he matches this background colour i m se...\n",
       "2         hey man i m really not trying to edit war it s...\n",
       "3         more i can t make any real suggestions on impr...\n",
       "4         you sir are my hero any chance you remember wh...\n",
       "                                ...                        \n",
       "159287    and for the second time of asking when your vi...\n",
       "159288    you should be ashamed of yourself that is a ho...\n",
       "159289    spitzer umm theres no actual article for prost...\n",
       "159290    and it looks like it was actually you who put ...\n",
       "159291    and i really don t think you understand i came...\n",
       "Name: text, Length: 159292, dtype: object"
      ]
     },
     "execution_count": 12,
     "metadata": {},
     "output_type": "execute_result"
    }
   ],
   "source": [
    "text_column"
   ]
  },
  {
   "cell_type": "code",
   "execution_count": 14,
   "metadata": {},
   "outputs": [],
   "source": [
    "def get_wordnet_pos(word):\n",
    "    \"\"\"Map POS tag to first character lemmatize() accepts\"\"\"\n",
    "    tag = nltk.pos_tag([word])[0][1][0].upper()\n",
    "    tag_dict = {\"J\": wordnet.ADJ,\n",
    "                \"N\": wordnet.NOUN,\n",
    "                \"V\": wordnet.VERB,\n",
    "                \"R\": wordnet.ADV}\n",
    "    return tag_dict.get(tag, wordnet.NOUN)"
   ]
  },
  {
   "cell_type": "code",
   "execution_count": 15,
   "metadata": {},
   "outputs": [],
   "source": [
    "lemmatizer = WordNetLemmatizer()"
   ]
  },
  {
   "cell_type": "code",
   "execution_count": 16,
   "metadata": {},
   "outputs": [],
   "source": [
    "lemma_column = []"
   ]
  },
  {
   "cell_type": "code",
   "execution_count": 17,
   "metadata": {},
   "outputs": [],
   "source": [
    "for column in text_column:\n",
    "    sentence = column\n",
    "    lemma_column.append(' '.join([lemmatizer.lemmatize(w, get_wordnet_pos(w)) for w in nltk.word_tokenize(sentence)]))"
   ]
  },
  {
   "cell_type": "code",
   "execution_count": 18,
   "metadata": {},
   "outputs": [],
   "source": [
    "lemma_column = pd.Series(lemma_column)"
   ]
  },
  {
   "cell_type": "code",
   "execution_count": 19,
   "metadata": {
    "scrolled": true
   },
   "outputs": [
    {
     "data": {
      "text/plain": [
       "0         explanation why the edits make under my userna...\n",
       "1         d aww he match this background colour i m seem...\n",
       "2         hey man i m really not try to edit war it s ju...\n",
       "3         more i can t make any real suggestion on impro...\n",
       "4         you sir be my hero any chance you remember wha...\n",
       "                                ...                        \n",
       "159287    and for the second time of ask when your view ...\n",
       "159288    you should be ashamed of yourself that be a ho...\n",
       "159289    spitzer umm there no actual article for prosti...\n",
       "159290    and it look like it be actually you who put on...\n",
       "159291    and i really don t think you understand i come...\n",
       "Length: 159292, dtype: object"
      ]
     },
     "execution_count": 19,
     "metadata": {},
     "output_type": "execute_result"
    }
   ],
   "source": [
    "lemma_column"
   ]
  },
  {
   "cell_type": "code",
   "execution_count": 21,
   "metadata": {},
   "outputs": [],
   "source": [
    "# Проведем токенизацию текста\n",
    "token_column = text_column.apply(lambda text: word_tokenize(text))"
   ]
  },
  {
   "cell_type": "code",
   "execution_count": 22,
   "metadata": {},
   "outputs": [
    {
     "data": {
      "text/plain": [
       "0    [explanation, why, the, edits, made, under, my...\n",
       "1    [d, aww, he, matches, this, background, colour...\n",
       "2    [hey, man, i, m, really, not, trying, to, edit...\n",
       "3    [more, i, can, t, make, any, real, suggestions...\n",
       "4    [you, sir, are, my, hero, any, chance, you, re...\n",
       "Name: text, dtype: object"
      ]
     },
     "execution_count": 22,
     "metadata": {},
     "output_type": "execute_result"
    }
   ],
   "source": [
    "token_column[:5]"
   ]
  },
  {
   "cell_type": "code",
   "execution_count": 23,
   "metadata": {},
   "outputs": [],
   "source": [
    "y = data['toxic']"
   ]
  },
  {
   "cell_type": "code",
   "execution_count": 24,
   "metadata": {},
   "outputs": [],
   "source": [
    "# Разделим датафрейм на обучающую и тестовую выборку\n",
    "text_train, text_test, y_train, y_test = train_test_split(lemma_column, y, test_size=0.2, random_state=12345)"
   ]
  },
  {
   "cell_type": "code",
   "execution_count": 25,
   "metadata": {},
   "outputs": [
    {
     "data": {
      "text/plain": [
       "['i', 'me', 'my', 'myself', 'we', 'our', 'ours', 'ourselves', 'you', \"you're\"]"
      ]
     },
     "execution_count": 25,
     "metadata": {},
     "output_type": "execute_result"
    }
   ],
   "source": [
    "# Загрузим список стоп-слов\n",
    "stop_words = list(stopwords.words('english'))\n",
    "stop_words[:10]"
   ]
  },
  {
   "cell_type": "markdown",
   "metadata": {},
   "source": [
    "***Вывод:***\n",
    "\n",
    "Исходный набор текстовых данных подготовлен для задачи классификации: удалены лишние символы, произведена токенизация и лемматизация текста, сформирована отложенная выборка. "
   ]
  },
  {
   "cell_type": "markdown",
   "metadata": {},
   "source": [
    "## Обучение"
   ]
  },
  {
   "cell_type": "markdown",
   "metadata": {},
   "source": [
    "Проверим несколько способов предварительной подготовки корпуса: с использованием мешка слов и параметра TF-IDF, с отсечением стоп-слов и без отсечения.\n",
    "Подготовим соответствующие пайпланы и произведем оценку на модели логистической регрессии на кросс-валидации по обучающей выборке."
   ]
  },
  {
   "cell_type": "code",
   "execution_count": 26,
   "metadata": {},
   "outputs": [],
   "source": [
    "lgr_model = LogisticRegression(class_weight='balanced')\n",
    "\n",
    "pipeline_cnt = make_pipeline(CountVectorizer(), lgr_model)\n",
    "pipeline_cnt_stop = make_pipeline(CountVectorizer(stop_words=stop_words), lgr_model)\n",
    "\n",
    "pipeline_tfidf = make_pipeline(TfidfVectorizer(), lgr_model)\n",
    "pipeline_tfidf_stop = make_pipeline(TfidfVectorizer(stop_words=stop_words), lgr_model)"
   ]
  },
  {
   "cell_type": "code",
   "execution_count": 27,
   "metadata": {},
   "outputs": [],
   "source": [
    "pipeline_list = [pipeline_cnt, pipeline_cnt_stop, pipeline_tfidf, pipeline_tfidf_stop]"
   ]
  },
  {
   "cell_type": "code",
   "execution_count": 28,
   "metadata": {},
   "outputs": [
    {
     "name": "stdout",
     "output_type": "stream",
     "text": [
      "<bound method Pipeline.get_params of Pipeline(steps=[('countvectorizer', CountVectorizer()),\n",
      "                ('logisticregression',\n",
      "                 LogisticRegression(class_weight='balanced'))])>\n",
      "F1-score = 0.75, training_time = 139.0\n",
      "\n",
      "<bound method Pipeline.get_params of Pipeline(steps=[('countvectorizer',\n",
      "                 CountVectorizer(stop_words=['i', 'me', 'my', 'myself', 'we',\n",
      "                                             'our', 'ours', 'ourselves', 'you',\n",
      "                                             \"you're\", \"you've\", \"you'll\",\n",
      "                                             \"you'd\", 'your', 'yours',\n",
      "                                             'yourself', 'yourselves', 'he',\n",
      "                                             'him', 'his', 'himself', 'she',\n",
      "                                             \"she's\", 'her', 'hers', 'herself',\n",
      "                                             'it', \"it's\", 'its', 'itself', ...])),\n",
      "                ('logisticregression',\n",
      "                 LogisticRegression(class_weight='balanced'))])>\n",
      "F1-score = 0.75, training_time = 135.1\n",
      "\n",
      "<bound method Pipeline.get_params of Pipeline(steps=[('tfidfvectorizer', TfidfVectorizer()),\n",
      "                ('logisticregression',\n",
      "                 LogisticRegression(class_weight='balanced'))])>\n",
      "F1-score = 0.74, training_time = 128.6\n",
      "\n",
      "<bound method Pipeline.get_params of Pipeline(steps=[('tfidfvectorizer',\n",
      "                 TfidfVectorizer(stop_words=['i', 'me', 'my', 'myself', 'we',\n",
      "                                             'our', 'ours', 'ourselves', 'you',\n",
      "                                             \"you're\", \"you've\", \"you'll\",\n",
      "                                             \"you'd\", 'your', 'yours',\n",
      "                                             'yourself', 'yourselves', 'he',\n",
      "                                             'him', 'his', 'himself', 'she',\n",
      "                                             \"she's\", 'her', 'hers', 'herself',\n",
      "                                             'it', \"it's\", 'its', 'itself', ...])),\n",
      "                ('logisticregression',\n",
      "                 LogisticRegression(class_weight='balanced'))])>\n",
      "F1-score = 0.74, training_time = 104.9\n",
      "\n"
     ]
    }
   ],
   "source": [
    "for pipeline in pipeline_list:\n",
    "    print(pipeline.get_params)\n",
    "\n",
    "    start_time = time.time()\n",
    "    f1 = cross_val_score(pipeline, X=text_train, y=y_train, cv=3, scoring='f1').mean()\n",
    "    end_time = time.time()\n",
    "    training_time = end_time - start_time\n",
    "\n",
    "    print(f'F1-score = {round(f1, 2)}, training_time = {round(training_time, 1)}')\n",
    "    print()"
   ]
  },
  {
   "cell_type": "markdown",
   "metadata": {},
   "source": [
    "Применение стоп-слов немного ухудшает качество модели, практически не отражаясь на скорости обучения. При использовании TfidfVectorizer качество модели практически не зависит от стоп-слов. Метод CountVectorize обеспечивает более высокую метрику качества F1-score, по сравнению с TF-IDF.\n",
    "Таким образом, наиболее предпочтитетельная подготовка вектора признаков в данном случае основана на использовании метода мешка слов без использования стоп-слов."
   ]
  },
  {
   "cell_type": "code",
   "execution_count": 29,
   "metadata": {},
   "outputs": [
    {
     "data": {
      "text/plain": [
       "0.58"
      ]
     },
     "execution_count": 29,
     "metadata": {},
     "output_type": "execute_result"
    }
   ],
   "source": [
    "# Модель дерева решений\n",
    "pipeline_dtf = make_pipeline(CountVectorizer(), DecisionTreeClassifier(random_state=12345, class_weight='balanced'))\n",
    "cross_val_score(pipeline_dtf, X=text_train, y=y_train, cv=3, scoring='f1', n_jobs=-1).mean().round(2)"
   ]
  },
  {
   "cell_type": "code",
   "execution_count": 30,
   "metadata": {},
   "outputs": [
    {
     "data": {
      "text/plain": [
       "0.73"
      ]
     },
     "execution_count": 30,
     "metadata": {},
     "output_type": "execute_result"
    }
   ],
   "source": [
    "# Логистическая регрессия с SGD\n",
    "pipeline_sgd = make_pipeline(CountVectorizer(), SGDClassifier(random_state=12345, class_weight='balanced'))\n",
    "cross_val_score(pipeline_sgd, X=text_train, y=y_train, cv=3, scoring='f1', n_jobs=-1).mean().round(2)"
   ]
  },
  {
   "cell_type": "markdown",
   "metadata": {},
   "source": [
    "Качество моделеи дерево решений существенно ниже. Вариант лостической регрессии со стохастическим градиентным спуском показывает несколько меньшее значение метрики качества, однако существенно выигрывает во врмени.\n",
    "Остановимся на моделях логистической регрессии, попробуем настроить гиперпараметры."
   ]
  },
  {
   "cell_type": "code",
   "execution_count": 31,
   "metadata": {},
   "outputs": [
    {
     "data": {
      "text/plain": [
       "0.76"
      ]
     },
     "execution_count": 31,
     "metadata": {},
     "output_type": "execute_result"
    }
   ],
   "source": [
    "log_grid = {'logisticregression__C' : np.logspace(-2, 3, 10)}\n",
    "log_search = GridSearchCV(estimator=pipeline_cnt, \n",
    "                            param_grid = log_grid, \n",
    "                            cv=3,\n",
    "                            n_jobs = -1,\n",
    "                            scoring='f1')\n",
    "log_search.fit(text_train, y_train)\n",
    "round(log_search.best_score_, 2)"
   ]
  },
  {
   "cell_type": "code",
   "execution_count": 32,
   "metadata": {},
   "outputs": [
    {
     "data": {
      "text/plain": [
       "0.76"
      ]
     },
     "execution_count": 32,
     "metadata": {},
     "output_type": "execute_result"
    }
   ],
   "source": [
    "sgd_grid = {'sgdclassifier__loss':['hinge', 'log'],\n",
    "            'sgdclassifier__learning_rate':['optimal', 'adaptive'],\n",
    "            'sgdclassifier__eta0':[0.05, 0.1, 0.2, 0.5]}\n",
    "sgd_search = GridSearchCV(estimator=pipeline_sgd, \n",
    "                            param_grid = sgd_grid, \n",
    "                            cv=3,\n",
    "                            n_jobs = -1,\n",
    "                            scoring='f1')\n",
    "sgd_search.fit(text_train, y_train)\n",
    "round(sgd_search.best_score_, 2)"
   ]
  },
  {
   "cell_type": "code",
   "execution_count": 33,
   "metadata": {},
   "outputs": [
    {
     "data": {
      "text/plain": [
       "{'sgdclassifier__eta0': 0.2,\n",
       " 'sgdclassifier__learning_rate': 'adaptive',\n",
       " 'sgdclassifier__loss': 'hinge'}"
      ]
     },
     "execution_count": 33,
     "metadata": {},
     "output_type": "execute_result"
    }
   ],
   "source": [
    "sgd_search.best_params_"
   ]
  },
  {
   "cell_type": "markdown",
   "metadata": {},
   "source": [
    "Подбор гиперпараметров немного повысил качество модели SGD."
   ]
  },
  {
   "cell_type": "code",
   "execution_count": 34,
   "metadata": {},
   "outputs": [
    {
     "name": "stdout",
     "output_type": "stream",
     "text": [
      "CPU times: user 24.4 s, sys: 31.5 s, total: 55.9 s\n",
      "Wall time: 56.1 s\n"
     ]
    },
    {
     "data": {
      "text/plain": [
       "0.755615696887686"
      ]
     },
     "execution_count": 34,
     "metadata": {},
     "output_type": "execute_result"
    }
   ],
   "source": [
    "%%time\n",
    "log_search.best_estimator_.fit(text_train, y_train)\n",
    "y_pred = log_search.best_estimator_.predict(text_test)\n",
    "f1_score(y_test, y_pred)"
   ]
  },
  {
   "cell_type": "code",
   "execution_count": 35,
   "metadata": {
    "scrolled": true
   },
   "outputs": [
    {
     "name": "stdout",
     "output_type": "stream",
     "text": [
      "CPU times: user 12 s, sys: 294 ms, total: 12.3 s\n",
      "Wall time: 12.3 s\n"
     ]
    },
    {
     "data": {
      "text/plain": [
       "0.7650528048278701"
      ]
     },
     "execution_count": 35,
     "metadata": {},
     "output_type": "execute_result"
    }
   ],
   "source": [
    "%%time\n",
    "sgd_search.best_estimator_.fit(text_train, y_train)\n",
    "y_pred = sgd_search.best_estimator_.predict(text_test)\n",
    "f1_score(y_test, y_pred)"
   ]
  },
  {
   "cell_type": "markdown",
   "metadata": {},
   "source": [
    "Метрика F1 на тестовых данных, соответствует аналогичным показателям на обучающей выборке."
   ]
  },
  {
   "cell_type": "markdown",
   "metadata": {},
   "source": [
    "***Вывод:***\n",
    "\n",
    "На модели логистической регрессии проверено несколько вариантов подготовки векторов признаков из исходного корпуса: с использованием мешка слов и TF-IDF, со стоп-словами и без. Выбран способ подготовки с использованием CountVectorizer, без стоп-слов. Проверено несколько других методов классификации: дерево решений и логистическая регрессия со стохастическим градиентным спуском."
   ]
  },
  {
   "cell_type": "markdown",
   "metadata": {},
   "source": [
    "## Выводы"
   ]
  },
  {
   "cell_type": "markdown",
   "metadata": {},
   "source": [
    "***Вывод:***\n",
    "\n",
    "Исходный набор текстовых данных подготовлен для задачи классификации: удалены лишние символы, произведена токенизация и лемматизация текста, сформирована отложенная выборка. На модели логистической регрессии проверено несколько вариантов подготовки векторов признаков из исходного корпуса: с использованием мешка слов и TF-IDF, со стоп-словами и без. Выбран способ подготовки с использованием CountVectorizer, без стоп-слов. Проверено несколько других методов классификации: дерево решений и логистическая регрессия со стохастическим градиентным спуском. Наилучшее значение метрики качества F1 на обучающей выборке на кросс-валидации получено на логистической регрессии, применение метода SGD несколько снижает качество, однако дает выигрыш в скорости расчета. Выбранные модели протестированы на отложенной выборке, метрика f1 составила 0,76, что соответствует качеству на обучающей выборке."
   ]
  }
 ],
 "metadata": {
  "ExecuteTimeLog": [
   {
    "duration": 1888,
    "start_time": "2023-07-16T20:48:20.265Z"
   },
   {
    "duration": 3027,
    "start_time": "2023-07-16T20:48:22.155Z"
   },
   {
    "duration": 3,
    "start_time": "2023-07-16T20:48:25.184Z"
   },
   {
    "duration": 2449,
    "start_time": "2023-07-16T20:48:25.189Z"
   },
   {
    "duration": 9,
    "start_time": "2023-07-16T20:48:27.639Z"
   },
   {
    "duration": 33,
    "start_time": "2023-07-16T20:48:27.650Z"
   },
   {
    "duration": 240,
    "start_time": "2023-07-16T20:48:27.685Z"
   },
   {
    "duration": 12,
    "start_time": "2023-07-16T20:48:27.926Z"
   },
   {
    "duration": 119,
    "start_time": "2023-07-16T20:48:27.939Z"
   },
   {
    "duration": 1888,
    "start_time": "2023-07-16T20:48:28.061Z"
   },
   {
    "duration": 5,
    "start_time": "2023-07-16T20:48:29.951Z"
   },
   {
    "duration": 42689,
    "start_time": "2023-07-16T20:48:29.958Z"
   },
   {
    "duration": 6,
    "start_time": "2023-07-16T20:49:12.649Z"
   },
   {
    "duration": 15,
    "start_time": "2023-07-16T20:49:12.657Z"
   },
   {
    "duration": 29590,
    "start_time": "2023-07-16T20:49:12.673Z"
   },
   {
    "duration": 4,
    "start_time": "2023-07-16T20:49:42.265Z"
   },
   {
    "duration": 14,
    "start_time": "2023-07-16T20:49:42.271Z"
   },
   {
    "duration": 35,
    "start_time": "2023-07-16T20:49:42.287Z"
   },
   {
    "duration": 10,
    "start_time": "2023-07-16T20:49:42.323Z"
   },
   {
    "duration": 4,
    "start_time": "2023-07-16T20:49:42.335Z"
   },
   {
    "duration": 16,
    "start_time": "2023-07-16T20:49:42.341Z"
   },
   {
    "duration": 2098,
    "start_time": "2023-07-16T21:04:36.093Z"
   },
   {
    "duration": 751,
    "start_time": "2023-07-16T21:04:38.193Z"
   },
   {
    "duration": 4,
    "start_time": "2023-07-16T21:04:38.945Z"
   },
   {
    "duration": 2380,
    "start_time": "2023-07-16T21:04:38.950Z"
   },
   {
    "duration": 9,
    "start_time": "2023-07-16T21:04:41.332Z"
   },
   {
    "duration": 31,
    "start_time": "2023-07-16T21:04:41.342Z"
   },
   {
    "duration": 258,
    "start_time": "2023-07-16T21:04:41.374Z"
   },
   {
    "duration": 8,
    "start_time": "2023-07-16T21:04:41.633Z"
   },
   {
    "duration": 120,
    "start_time": "2023-07-16T21:04:41.643Z"
   },
   {
    "duration": 1885,
    "start_time": "2023-07-16T21:04:41.764Z"
   },
   {
    "duration": 6,
    "start_time": "2023-07-16T21:04:43.651Z"
   },
   {
    "duration": 42385,
    "start_time": "2023-07-16T21:04:43.659Z"
   },
   {
    "duration": 6,
    "start_time": "2023-07-16T21:05:26.045Z"
   },
   {
    "duration": 11,
    "start_time": "2023-07-16T21:05:26.053Z"
   },
   {
    "duration": 30040,
    "start_time": "2023-07-16T21:05:26.065Z"
   },
   {
    "duration": 5,
    "start_time": "2023-07-16T21:05:56.106Z"
   },
   {
    "duration": 10,
    "start_time": "2023-07-16T21:05:56.112Z"
   },
   {
    "duration": 41,
    "start_time": "2023-07-16T21:05:56.123Z"
   },
   {
    "duration": 4,
    "start_time": "2023-07-16T21:05:56.166Z"
   },
   {
    "duration": 6,
    "start_time": "2023-07-16T21:05:56.172Z"
   },
   {
    "duration": 8,
    "start_time": "2023-07-16T21:05:56.180Z"
   },
   {
    "duration": 45,
    "start_time": "2023-07-16T21:20:22.800Z"
   },
   {
    "duration": 1967,
    "start_time": "2023-07-16T21:23:27.410Z"
   },
   {
    "duration": 718,
    "start_time": "2023-07-16T21:23:29.379Z"
   },
   {
    "duration": 4,
    "start_time": "2023-07-16T21:23:30.099Z"
   },
   {
    "duration": 2498,
    "start_time": "2023-07-16T21:23:30.104Z"
   },
   {
    "duration": 8,
    "start_time": "2023-07-16T21:23:32.604Z"
   },
   {
    "duration": 51,
    "start_time": "2023-07-16T21:23:32.614Z"
   },
   {
    "duration": 248,
    "start_time": "2023-07-16T21:23:32.666Z"
   },
   {
    "duration": 7,
    "start_time": "2023-07-16T21:23:32.915Z"
   },
   {
    "duration": 130,
    "start_time": "2023-07-16T21:23:32.923Z"
   },
   {
    "duration": 2002,
    "start_time": "2023-07-16T21:23:33.055Z"
   },
   {
    "duration": 5,
    "start_time": "2023-07-16T21:23:35.059Z"
   },
   {
    "duration": 42240,
    "start_time": "2023-07-16T21:23:35.065Z"
   },
   {
    "duration": 6,
    "start_time": "2023-07-16T21:24:17.307Z"
   },
   {
    "duration": 30,
    "start_time": "2023-07-16T21:24:17.315Z"
   },
   {
    "duration": 29685,
    "start_time": "2023-07-16T21:24:17.347Z"
   },
   {
    "duration": 5,
    "start_time": "2023-07-16T21:24:47.033Z"
   },
   {
    "duration": 5,
    "start_time": "2023-07-16T21:24:47.040Z"
   },
   {
    "duration": 34,
    "start_time": "2023-07-16T21:24:47.046Z"
   },
   {
    "duration": 5,
    "start_time": "2023-07-16T21:24:47.081Z"
   },
   {
    "duration": 30,
    "start_time": "2023-07-16T21:24:47.087Z"
   },
   {
    "duration": 43,
    "start_time": "2023-07-16T21:24:47.118Z"
   },
   {
    "duration": 136,
    "start_time": "2023-07-16T21:24:47.162Z"
   },
   {
    "duration": 0,
    "start_time": "2023-07-16T21:24:47.300Z"
   },
   {
    "duration": 0,
    "start_time": "2023-07-16T21:24:47.301Z"
   },
   {
    "duration": 0,
    "start_time": "2023-07-16T21:24:47.302Z"
   },
   {
    "duration": 0,
    "start_time": "2023-07-16T21:24:47.303Z"
   },
   {
    "duration": 0,
    "start_time": "2023-07-16T21:24:47.304Z"
   },
   {
    "duration": 0,
    "start_time": "2023-07-16T21:24:47.305Z"
   },
   {
    "duration": 0,
    "start_time": "2023-07-16T21:24:47.306Z"
   },
   {
    "duration": 0,
    "start_time": "2023-07-16T21:24:47.307Z"
   },
   {
    "duration": 0,
    "start_time": "2023-07-16T21:24:47.308Z"
   },
   {
    "duration": 0,
    "start_time": "2023-07-16T21:24:47.309Z"
   },
   {
    "duration": 0,
    "start_time": "2023-07-16T21:24:47.310Z"
   },
   {
    "duration": 1545,
    "start_time": "2023-07-16T21:27:45.109Z"
   },
   {
    "duration": 213,
    "start_time": "2023-07-16T21:27:46.656Z"
   },
   {
    "duration": 3,
    "start_time": "2023-07-16T21:27:46.871Z"
   },
   {
    "duration": 958,
    "start_time": "2023-07-16T21:27:46.876Z"
   },
   {
    "duration": 9,
    "start_time": "2023-07-16T21:27:47.837Z"
   },
   {
    "duration": 37,
    "start_time": "2023-07-16T21:27:47.847Z"
   },
   {
    "duration": 235,
    "start_time": "2023-07-16T21:27:47.885Z"
   },
   {
    "duration": 14,
    "start_time": "2023-07-16T21:27:48.121Z"
   },
   {
    "duration": 120,
    "start_time": "2023-07-16T21:27:48.136Z"
   },
   {
    "duration": 1879,
    "start_time": "2023-07-16T21:27:48.258Z"
   },
   {
    "duration": 6,
    "start_time": "2023-07-16T21:27:50.138Z"
   },
   {
    "duration": 42333,
    "start_time": "2023-07-16T21:27:50.146Z"
   },
   {
    "duration": 6,
    "start_time": "2023-07-16T21:28:32.481Z"
   },
   {
    "duration": 16,
    "start_time": "2023-07-16T21:28:32.491Z"
   },
   {
    "duration": 29757,
    "start_time": "2023-07-16T21:28:32.510Z"
   },
   {
    "duration": 5,
    "start_time": "2023-07-16T21:29:02.269Z"
   },
   {
    "duration": 24,
    "start_time": "2023-07-16T21:29:02.276Z"
   },
   {
    "duration": 42,
    "start_time": "2023-07-16T21:29:02.302Z"
   },
   {
    "duration": 5,
    "start_time": "2023-07-16T21:29:02.346Z"
   },
   {
    "duration": 14,
    "start_time": "2023-07-16T21:29:02.352Z"
   },
   {
    "duration": 43,
    "start_time": "2023-07-16T21:29:02.368Z"
   },
   {
    "duration": 147490,
    "start_time": "2023-07-16T21:29:02.413Z"
   },
   {
    "duration": 367394,
    "start_time": "2023-07-16T21:31:29.904Z"
   },
   {
    "duration": 138254,
    "start_time": "2023-07-16T21:37:37.300Z"
   },
   {
    "duration": 2095,
    "start_time": "2023-07-16T21:46:33.489Z"
   },
   {
    "duration": 742,
    "start_time": "2023-07-16T21:46:35.586Z"
   },
   {
    "duration": 4,
    "start_time": "2023-07-16T21:46:36.330Z"
   },
   {
    "duration": 2562,
    "start_time": "2023-07-16T21:46:36.335Z"
   },
   {
    "duration": 10,
    "start_time": "2023-07-16T21:46:38.899Z"
   },
   {
    "duration": 35,
    "start_time": "2023-07-16T21:46:38.910Z"
   },
   {
    "duration": 224,
    "start_time": "2023-07-16T21:46:38.947Z"
   },
   {
    "duration": 7,
    "start_time": "2023-07-16T21:46:39.173Z"
   },
   {
    "duration": 113,
    "start_time": "2023-07-16T21:46:39.181Z"
   },
   {
    "duration": 1863,
    "start_time": "2023-07-16T21:46:39.295Z"
   },
   {
    "duration": 5,
    "start_time": "2023-07-16T21:46:41.161Z"
   },
   {
    "duration": 42047,
    "start_time": "2023-07-16T21:46:41.168Z"
   },
   {
    "duration": 6,
    "start_time": "2023-07-16T21:47:23.216Z"
   },
   {
    "duration": 2,
    "start_time": "2023-07-16T21:47:23.231Z"
   },
   {
    "duration": 29672,
    "start_time": "2023-07-16T21:47:23.235Z"
   },
   {
    "duration": 4,
    "start_time": "2023-07-16T21:47:52.909Z"
   },
   {
    "duration": 8,
    "start_time": "2023-07-16T21:47:52.915Z"
   },
   {
    "duration": 46,
    "start_time": "2023-07-16T21:47:52.924Z"
   },
   {
    "duration": 4,
    "start_time": "2023-07-16T21:47:52.972Z"
   },
   {
    "duration": 4,
    "start_time": "2023-07-16T21:47:52.978Z"
   },
   {
    "duration": 120,
    "start_time": "2023-07-16T21:47:52.983Z"
   },
   {
    "duration": 0,
    "start_time": "2023-07-16T21:47:53.104Z"
   },
   {
    "duration": 0,
    "start_time": "2023-07-16T21:47:53.105Z"
   },
   {
    "duration": 0,
    "start_time": "2023-07-16T21:47:53.107Z"
   },
   {
    "duration": 0,
    "start_time": "2023-07-16T21:47:53.108Z"
   },
   {
    "duration": 0,
    "start_time": "2023-07-16T21:47:53.109Z"
   },
   {
    "duration": 0,
    "start_time": "2023-07-16T21:47:53.109Z"
   },
   {
    "duration": 0,
    "start_time": "2023-07-16T21:47:53.110Z"
   },
   {
    "duration": 0,
    "start_time": "2023-07-16T21:47:53.112Z"
   },
   {
    "duration": 0,
    "start_time": "2023-07-16T21:47:53.113Z"
   },
   {
    "duration": 4,
    "start_time": "2023-07-16T21:48:31.264Z"
   },
   {
    "duration": 4,
    "start_time": "2023-07-16T21:48:32.524Z"
   },
   {
    "duration": 519890,
    "start_time": "2023-07-16T21:48:35.383Z"
   },
   {
    "duration": 82,
    "start_time": "2023-07-16T21:57:33.254Z"
   },
   {
    "duration": 1432,
    "start_time": "2023-07-16T22:04:05.689Z"
   },
   {
    "duration": 291,
    "start_time": "2023-07-16T22:04:07.123Z"
   },
   {
    "duration": 4,
    "start_time": "2023-07-16T22:04:07.415Z"
   },
   {
    "duration": 936,
    "start_time": "2023-07-16T22:04:07.421Z"
   },
   {
    "duration": 9,
    "start_time": "2023-07-16T22:04:08.359Z"
   },
   {
    "duration": 32,
    "start_time": "2023-07-16T22:04:08.370Z"
   },
   {
    "duration": 233,
    "start_time": "2023-07-16T22:04:08.403Z"
   },
   {
    "duration": 7,
    "start_time": "2023-07-16T22:04:08.638Z"
   },
   {
    "duration": 116,
    "start_time": "2023-07-16T22:04:08.646Z"
   },
   {
    "duration": 1858,
    "start_time": "2023-07-16T22:04:08.764Z"
   },
   {
    "duration": 9,
    "start_time": "2023-07-16T22:04:10.624Z"
   },
   {
    "duration": 42048,
    "start_time": "2023-07-16T22:04:10.634Z"
   },
   {
    "duration": 5,
    "start_time": "2023-07-16T22:04:52.684Z"
   },
   {
    "duration": 15,
    "start_time": "2023-07-16T22:04:52.692Z"
   },
   {
    "duration": 29664,
    "start_time": "2023-07-16T22:04:52.709Z"
   },
   {
    "duration": 5,
    "start_time": "2023-07-16T22:05:22.374Z"
   },
   {
    "duration": 7,
    "start_time": "2023-07-16T22:05:22.380Z"
   },
   {
    "duration": 33,
    "start_time": "2023-07-16T22:05:22.388Z"
   },
   {
    "duration": 11,
    "start_time": "2023-07-16T22:05:22.423Z"
   },
   {
    "duration": 3,
    "start_time": "2023-07-16T22:05:22.436Z"
   },
   {
    "duration": 4,
    "start_time": "2023-07-16T22:05:22.441Z"
   },
   {
    "duration": 525817,
    "start_time": "2023-07-16T22:05:22.446Z"
   },
   {
    "duration": 1182544,
    "start_time": "2023-07-16T22:14:08.265Z"
   },
   {
    "duration": 2019,
    "start_time": "2023-07-16T22:42:01.652Z"
   },
   {
    "duration": 754,
    "start_time": "2023-07-16T22:42:03.673Z"
   },
   {
    "duration": 4,
    "start_time": "2023-07-16T22:42:04.429Z"
   },
   {
    "duration": 2426,
    "start_time": "2023-07-16T22:42:04.434Z"
   },
   {
    "duration": 9,
    "start_time": "2023-07-16T22:42:06.861Z"
   },
   {
    "duration": 31,
    "start_time": "2023-07-16T22:42:06.871Z"
   },
   {
    "duration": 218,
    "start_time": "2023-07-16T22:42:06.903Z"
   },
   {
    "duration": 11,
    "start_time": "2023-07-16T22:42:07.123Z"
   },
   {
    "duration": 111,
    "start_time": "2023-07-16T22:42:07.136Z"
   },
   {
    "duration": 1889,
    "start_time": "2023-07-16T22:42:07.249Z"
   },
   {
    "duration": 6,
    "start_time": "2023-07-16T22:42:09.139Z"
   },
   {
    "duration": 41965,
    "start_time": "2023-07-16T22:42:09.146Z"
   },
   {
    "duration": 6,
    "start_time": "2023-07-16T22:42:51.113Z"
   },
   {
    "duration": 2,
    "start_time": "2023-07-16T22:42:51.131Z"
   },
   {
    "duration": 29245,
    "start_time": "2023-07-16T22:42:51.134Z"
   },
   {
    "duration": 6,
    "start_time": "2023-07-16T22:43:20.380Z"
   },
   {
    "duration": 10,
    "start_time": "2023-07-16T22:43:20.388Z"
   },
   {
    "duration": 34,
    "start_time": "2023-07-16T22:43:20.399Z"
   },
   {
    "duration": 4,
    "start_time": "2023-07-16T22:43:20.435Z"
   },
   {
    "duration": 16,
    "start_time": "2023-07-16T22:43:20.440Z"
   },
   {
    "duration": 14,
    "start_time": "2023-07-16T22:43:20.458Z"
   },
   {
    "duration": 518748,
    "start_time": "2023-07-16T22:43:20.473Z"
   },
   {
    "duration": 171993,
    "start_time": "2023-07-16T22:51:59.223Z"
   },
   {
    "duration": 19217,
    "start_time": "2023-07-16T22:54:51.218Z"
   },
   {
    "duration": 122,
    "start_time": "2023-07-16T22:55:10.437Z"
   },
   {
    "duration": 0,
    "start_time": "2023-07-16T22:55:10.561Z"
   },
   {
    "duration": 0,
    "start_time": "2023-07-16T22:55:10.562Z"
   },
   {
    "duration": 0,
    "start_time": "2023-07-16T22:55:10.563Z"
   },
   {
    "duration": 0,
    "start_time": "2023-07-16T22:55:10.564Z"
   },
   {
    "duration": 1467539,
    "start_time": "2023-07-17T00:01:15.005Z"
   },
   {
    "duration": 345311,
    "start_time": "2023-07-17T00:25:42.546Z"
   },
   {
    "duration": 4,
    "start_time": "2023-07-17T00:31:27.858Z"
   },
   {
    "duration": 56317,
    "start_time": "2023-07-17T00:31:27.863Z"
   },
   {
    "duration": 10814,
    "start_time": "2023-07-17T00:32:24.182Z"
   },
   {
    "duration": 1915,
    "start_time": "2023-07-17T08:08:57.546Z"
   },
   {
    "duration": 2101,
    "start_time": "2023-07-17T08:08:59.464Z"
   },
   {
    "duration": 4,
    "start_time": "2023-07-17T08:09:01.567Z"
   },
   {
    "duration": 2579,
    "start_time": "2023-07-17T08:09:01.573Z"
   },
   {
    "duration": 12,
    "start_time": "2023-07-17T08:09:04.155Z"
   },
   {
    "duration": 70,
    "start_time": "2023-07-17T08:09:04.169Z"
   },
   {
    "duration": 320,
    "start_time": "2023-07-17T08:09:04.241Z"
   },
   {
    "duration": 8,
    "start_time": "2023-07-17T08:09:04.563Z"
   },
   {
    "duration": 222,
    "start_time": "2023-07-17T08:09:04.573Z"
   },
   {
    "duration": 2230,
    "start_time": "2023-07-17T08:09:04.797Z"
   },
   {
    "duration": 6,
    "start_time": "2023-07-17T08:09:07.029Z"
   },
   {
    "duration": 44868,
    "start_time": "2023-07-17T08:09:07.037Z"
   },
   {
    "duration": 7,
    "start_time": "2023-07-17T08:09:51.908Z"
   },
   {
    "duration": 145,
    "start_time": "2023-07-17T08:09:51.918Z"
   },
   {
    "duration": 0,
    "start_time": "2023-07-17T08:09:52.065Z"
   },
   {
    "duration": 0,
    "start_time": "2023-07-17T08:09:52.066Z"
   },
   {
    "duration": 0,
    "start_time": "2023-07-17T08:09:52.068Z"
   },
   {
    "duration": 0,
    "start_time": "2023-07-17T08:09:52.069Z"
   },
   {
    "duration": 0,
    "start_time": "2023-07-17T08:09:52.070Z"
   },
   {
    "duration": 0,
    "start_time": "2023-07-17T08:09:52.071Z"
   },
   {
    "duration": 0,
    "start_time": "2023-07-17T08:09:52.072Z"
   },
   {
    "duration": 0,
    "start_time": "2023-07-17T08:09:52.073Z"
   },
   {
    "duration": 0,
    "start_time": "2023-07-17T08:09:52.074Z"
   },
   {
    "duration": 0,
    "start_time": "2023-07-17T08:09:52.075Z"
   },
   {
    "duration": 0,
    "start_time": "2023-07-17T08:09:52.076Z"
   },
   {
    "duration": 0,
    "start_time": "2023-07-17T08:09:52.077Z"
   },
   {
    "duration": 0,
    "start_time": "2023-07-17T08:09:52.078Z"
   },
   {
    "duration": 0,
    "start_time": "2023-07-17T08:09:52.109Z"
   },
   {
    "duration": 0,
    "start_time": "2023-07-17T08:09:52.110Z"
   },
   {
    "duration": 0,
    "start_time": "2023-07-17T08:09:52.111Z"
   },
   {
    "duration": 1769,
    "start_time": "2023-07-17T08:28:56.006Z"
   },
   {
    "duration": 566,
    "start_time": "2023-07-17T08:28:57.777Z"
   },
   {
    "duration": 6,
    "start_time": "2023-07-17T08:28:58.345Z"
   },
   {
    "duration": 941,
    "start_time": "2023-07-17T08:28:58.352Z"
   },
   {
    "duration": 20,
    "start_time": "2023-07-17T08:28:59.296Z"
   },
   {
    "duration": 45,
    "start_time": "2023-07-17T08:28:59.318Z"
   },
   {
    "duration": 287,
    "start_time": "2023-07-17T08:28:59.366Z"
   },
   {
    "duration": 10,
    "start_time": "2023-07-17T08:28:59.654Z"
   },
   {
    "duration": 166,
    "start_time": "2023-07-17T08:28:59.667Z"
   },
   {
    "duration": 2134,
    "start_time": "2023-07-17T08:28:59.836Z"
   },
   {
    "duration": 7,
    "start_time": "2023-07-17T08:29:01.974Z"
   },
   {
    "duration": 47718,
    "start_time": "2023-07-17T08:29:01.983Z"
   },
   {
    "duration": 7,
    "start_time": "2023-07-17T08:29:49.703Z"
   },
   {
    "duration": 758,
    "start_time": "2023-07-17T08:29:49.713Z"
   },
   {
    "duration": 0,
    "start_time": "2023-07-17T08:29:50.474Z"
   },
   {
    "duration": 0,
    "start_time": "2023-07-17T08:29:50.476Z"
   },
   {
    "duration": 0,
    "start_time": "2023-07-17T08:29:50.477Z"
   },
   {
    "duration": 0,
    "start_time": "2023-07-17T08:29:50.478Z"
   },
   {
    "duration": 0,
    "start_time": "2023-07-17T08:29:50.479Z"
   },
   {
    "duration": 0,
    "start_time": "2023-07-17T08:29:50.481Z"
   },
   {
    "duration": 0,
    "start_time": "2023-07-17T08:29:50.482Z"
   },
   {
    "duration": 0,
    "start_time": "2023-07-17T08:29:50.483Z"
   },
   {
    "duration": 0,
    "start_time": "2023-07-17T08:29:50.484Z"
   },
   {
    "duration": 0,
    "start_time": "2023-07-17T08:29:50.509Z"
   },
   {
    "duration": 0,
    "start_time": "2023-07-17T08:29:50.511Z"
   },
   {
    "duration": 0,
    "start_time": "2023-07-17T08:29:50.513Z"
   },
   {
    "duration": 0,
    "start_time": "2023-07-17T08:29:50.515Z"
   },
   {
    "duration": 0,
    "start_time": "2023-07-17T08:29:50.516Z"
   },
   {
    "duration": 0,
    "start_time": "2023-07-17T08:29:50.517Z"
   },
   {
    "duration": 0,
    "start_time": "2023-07-17T08:29:50.518Z"
   },
   {
    "duration": 1996,
    "start_time": "2023-07-17T09:40:26.643Z"
   },
   {
    "duration": 278,
    "start_time": "2023-07-17T09:40:28.641Z"
   },
   {
    "duration": 12,
    "start_time": "2023-07-17T09:40:28.921Z"
   },
   {
    "duration": 1202,
    "start_time": "2023-07-17T09:40:28.937Z"
   },
   {
    "duration": 12,
    "start_time": "2023-07-17T09:40:30.142Z"
   },
   {
    "duration": 88,
    "start_time": "2023-07-17T09:40:30.156Z"
   },
   {
    "duration": 355,
    "start_time": "2023-07-17T09:40:30.246Z"
   },
   {
    "duration": 37,
    "start_time": "2023-07-17T09:40:30.603Z"
   },
   {
    "duration": 258,
    "start_time": "2023-07-17T09:40:30.642Z"
   },
   {
    "duration": 2393,
    "start_time": "2023-07-17T09:40:30.909Z"
   },
   {
    "duration": 10,
    "start_time": "2023-07-17T09:40:33.304Z"
   },
   {
    "duration": 54290,
    "start_time": "2023-07-17T09:40:33.315Z"
   },
   {
    "duration": 12,
    "start_time": "2023-07-17T09:41:27.608Z"
   },
   {
    "duration": 50,
    "start_time": "2023-07-17T09:41:27.624Z"
   },
   {
    "duration": 19,
    "start_time": "2023-07-17T09:41:27.676Z"
   },
   {
    "duration": 20,
    "start_time": "2023-07-17T09:41:27.698Z"
   },
   {
    "duration": 42793,
    "start_time": "2023-07-17T09:41:27.721Z"
   },
   {
    "duration": 7,
    "start_time": "2023-07-17T09:42:10.522Z"
   },
   {
    "duration": 36,
    "start_time": "2023-07-17T09:42:10.535Z"
   },
   {
    "duration": 79,
    "start_time": "2023-07-17T09:42:10.574Z"
   },
   {
    "duration": 7,
    "start_time": "2023-07-17T09:42:10.656Z"
   },
   {
    "duration": 11,
    "start_time": "2023-07-17T09:42:10.665Z"
   },
   {
    "duration": 11,
    "start_time": "2023-07-17T09:42:10.678Z"
   },
   {
    "duration": 2209,
    "start_time": "2023-07-17T09:43:30.192Z"
   },
   {
    "duration": 279,
    "start_time": "2023-07-17T09:43:32.404Z"
   },
   {
    "duration": 5,
    "start_time": "2023-07-17T09:43:32.686Z"
   },
   {
    "duration": 1036,
    "start_time": "2023-07-17T09:43:32.693Z"
   },
   {
    "duration": 11,
    "start_time": "2023-07-17T09:43:33.733Z"
   },
   {
    "duration": 57,
    "start_time": "2023-07-17T09:43:33.746Z"
   },
   {
    "duration": 293,
    "start_time": "2023-07-17T09:43:33.805Z"
   },
   {
    "duration": 19,
    "start_time": "2023-07-17T09:43:34.100Z"
   },
   {
    "duration": 135,
    "start_time": "2023-07-17T09:43:34.122Z"
   },
   {
    "duration": 2231,
    "start_time": "2023-07-17T09:43:34.259Z"
   },
   {
    "duration": 7,
    "start_time": "2023-07-17T09:43:36.492Z"
   },
   {
    "duration": 48688,
    "start_time": "2023-07-17T09:43:36.501Z"
   },
   {
    "duration": 7,
    "start_time": "2023-07-17T09:44:25.192Z"
   },
   {
    "duration": 44,
    "start_time": "2023-07-17T09:44:25.210Z"
   },
   {
    "duration": 24,
    "start_time": "2023-07-17T09:44:25.256Z"
   },
   {
    "duration": 25,
    "start_time": "2023-07-17T09:44:25.282Z"
   },
   {
    "duration": 180,
    "start_time": "2023-07-17T09:44:25.309Z"
   },
   {
    "duration": 0,
    "start_time": "2023-07-17T09:44:25.491Z"
   },
   {
    "duration": 0,
    "start_time": "2023-07-17T09:44:25.492Z"
   },
   {
    "duration": 0,
    "start_time": "2023-07-17T09:44:25.495Z"
   },
   {
    "duration": 0,
    "start_time": "2023-07-17T09:44:25.509Z"
   },
   {
    "duration": 0,
    "start_time": "2023-07-17T09:44:25.510Z"
   },
   {
    "duration": 0,
    "start_time": "2023-07-17T09:44:25.512Z"
   },
   {
    "duration": 0,
    "start_time": "2023-07-17T09:44:25.513Z"
   },
   {
    "duration": 0,
    "start_time": "2023-07-17T09:44:25.515Z"
   },
   {
    "duration": 0,
    "start_time": "2023-07-17T09:44:25.517Z"
   },
   {
    "duration": 0,
    "start_time": "2023-07-17T09:44:25.518Z"
   },
   {
    "duration": 0,
    "start_time": "2023-07-17T09:44:25.520Z"
   },
   {
    "duration": 0,
    "start_time": "2023-07-17T09:44:25.521Z"
   },
   {
    "duration": 0,
    "start_time": "2023-07-17T09:44:25.524Z"
   },
   {
    "duration": 0,
    "start_time": "2023-07-17T09:44:25.525Z"
   },
   {
    "duration": 0,
    "start_time": "2023-07-17T09:44:25.526Z"
   },
   {
    "duration": 5278,
    "start_time": "2023-07-17T10:24:12.956Z"
   },
   {
    "duration": 312,
    "start_time": "2023-07-17T10:24:18.237Z"
   },
   {
    "duration": 4,
    "start_time": "2023-07-17T10:24:18.551Z"
   },
   {
    "duration": 1012,
    "start_time": "2023-07-17T10:24:18.557Z"
   },
   {
    "duration": 12,
    "start_time": "2023-07-17T10:24:19.572Z"
   },
   {
    "duration": 65,
    "start_time": "2023-07-17T10:24:19.586Z"
   },
   {
    "duration": 292,
    "start_time": "2023-07-17T10:24:19.654Z"
   },
   {
    "duration": 9,
    "start_time": "2023-07-17T10:24:19.948Z"
   },
   {
    "duration": 181,
    "start_time": "2023-07-17T10:24:19.959Z"
   },
   {
    "duration": 2086,
    "start_time": "2023-07-17T10:24:20.141Z"
   },
   {
    "duration": 7,
    "start_time": "2023-07-17T10:24:22.229Z"
   },
   {
    "duration": 47227,
    "start_time": "2023-07-17T10:24:22.238Z"
   },
   {
    "duration": 10,
    "start_time": "2023-07-17T10:25:09.469Z"
   },
   {
    "duration": 398,
    "start_time": "2023-07-17T10:25:09.483Z"
   },
   {
    "duration": 0,
    "start_time": "2023-07-17T10:25:09.883Z"
   },
   {
    "duration": 0,
    "start_time": "2023-07-17T10:25:09.884Z"
   },
   {
    "duration": 0,
    "start_time": "2023-07-17T10:25:09.885Z"
   },
   {
    "duration": 0,
    "start_time": "2023-07-17T10:25:09.887Z"
   },
   {
    "duration": 0,
    "start_time": "2023-07-17T10:25:09.889Z"
   },
   {
    "duration": 0,
    "start_time": "2023-07-17T10:25:09.890Z"
   },
   {
    "duration": 0,
    "start_time": "2023-07-17T10:25:09.892Z"
   },
   {
    "duration": 0,
    "start_time": "2023-07-17T10:25:09.910Z"
   },
   {
    "duration": 0,
    "start_time": "2023-07-17T10:25:09.912Z"
   },
   {
    "duration": 0,
    "start_time": "2023-07-17T10:25:09.914Z"
   },
   {
    "duration": 0,
    "start_time": "2023-07-17T10:25:09.915Z"
   },
   {
    "duration": 0,
    "start_time": "2023-07-17T10:25:09.917Z"
   },
   {
    "duration": 0,
    "start_time": "2023-07-17T10:25:09.918Z"
   },
   {
    "duration": 0,
    "start_time": "2023-07-17T10:25:09.919Z"
   },
   {
    "duration": 0,
    "start_time": "2023-07-17T10:25:09.921Z"
   },
   {
    "duration": 5210,
    "start_time": "2023-07-17T10:29:28.107Z"
   },
   {
    "duration": 265,
    "start_time": "2023-07-17T10:29:33.319Z"
   },
   {
    "duration": 5,
    "start_time": "2023-07-17T10:29:33.586Z"
   },
   {
    "duration": 1147,
    "start_time": "2023-07-17T10:29:33.593Z"
   },
   {
    "duration": 12,
    "start_time": "2023-07-17T10:29:34.743Z"
   },
   {
    "duration": 54,
    "start_time": "2023-07-17T10:29:34.757Z"
   },
   {
    "duration": 281,
    "start_time": "2023-07-17T10:29:34.813Z"
   },
   {
    "duration": 17,
    "start_time": "2023-07-17T10:29:35.096Z"
   },
   {
    "duration": 156,
    "start_time": "2023-07-17T10:29:35.115Z"
   },
   {
    "duration": 2199,
    "start_time": "2023-07-17T10:29:35.273Z"
   },
   {
    "duration": 9,
    "start_time": "2023-07-17T10:29:37.475Z"
   },
   {
    "duration": 46928,
    "start_time": "2023-07-17T10:29:37.486Z"
   },
   {
    "duration": 6,
    "start_time": "2023-07-17T10:30:24.416Z"
   },
   {
    "duration": 938,
    "start_time": "2023-07-17T10:30:24.425Z"
   },
   {
    "duration": 0,
    "start_time": "2023-07-17T10:30:25.365Z"
   },
   {
    "duration": 0,
    "start_time": "2023-07-17T10:30:25.366Z"
   },
   {
    "duration": 0,
    "start_time": "2023-07-17T10:30:25.367Z"
   },
   {
    "duration": 0,
    "start_time": "2023-07-17T10:30:25.369Z"
   },
   {
    "duration": 0,
    "start_time": "2023-07-17T10:30:25.370Z"
   },
   {
    "duration": 0,
    "start_time": "2023-07-17T10:30:25.371Z"
   },
   {
    "duration": 0,
    "start_time": "2023-07-17T10:30:25.372Z"
   },
   {
    "duration": 0,
    "start_time": "2023-07-17T10:30:25.373Z"
   },
   {
    "duration": 0,
    "start_time": "2023-07-17T10:30:25.374Z"
   },
   {
    "duration": 0,
    "start_time": "2023-07-17T10:30:25.376Z"
   },
   {
    "duration": 0,
    "start_time": "2023-07-17T10:30:25.377Z"
   },
   {
    "duration": 0,
    "start_time": "2023-07-17T10:30:25.378Z"
   },
   {
    "duration": 0,
    "start_time": "2023-07-17T10:30:25.379Z"
   },
   {
    "duration": 0,
    "start_time": "2023-07-17T10:30:25.380Z"
   },
   {
    "duration": 0,
    "start_time": "2023-07-17T10:30:25.408Z"
   },
   {
    "duration": 512,
    "start_time": "2023-07-17T10:36:20.164Z"
   },
   {
    "duration": 4995,
    "start_time": "2023-07-17T10:40:54.957Z"
   },
   {
    "duration": 250,
    "start_time": "2023-07-17T10:40:59.954Z"
   },
   {
    "duration": 4,
    "start_time": "2023-07-17T10:41:00.209Z"
   },
   {
    "duration": 1029,
    "start_time": "2023-07-17T10:41:00.215Z"
   },
   {
    "duration": 13,
    "start_time": "2023-07-17T10:41:01.246Z"
   },
   {
    "duration": 288,
    "start_time": "2023-07-17T10:41:01.260Z"
   },
   {
    "duration": 396,
    "start_time": "2023-07-17T10:41:01.550Z"
   },
   {
    "duration": 9,
    "start_time": "2023-07-17T10:41:01.948Z"
   },
   {
    "duration": 187,
    "start_time": "2023-07-17T10:41:01.959Z"
   },
   {
    "duration": 2052,
    "start_time": "2023-07-17T10:41:02.148Z"
   },
   {
    "duration": 10,
    "start_time": "2023-07-17T10:41:04.202Z"
   },
   {
    "duration": 46701,
    "start_time": "2023-07-17T10:41:04.214Z"
   },
   {
    "duration": 7,
    "start_time": "2023-07-17T10:41:50.917Z"
   },
   {
    "duration": 40,
    "start_time": "2023-07-17T10:41:50.927Z"
   },
   {
    "duration": 12,
    "start_time": "2023-07-17T10:41:50.969Z"
   },
   {
    "duration": 2332,
    "start_time": "2023-07-17T10:41:50.983Z"
   },
   {
    "duration": 6,
    "start_time": "2023-07-17T10:41:53.317Z"
   },
   {
    "duration": 9,
    "start_time": "2023-07-17T10:41:53.325Z"
   },
   {
    "duration": 364,
    "start_time": "2023-07-17T10:41:53.336Z"
   },
   {
    "duration": 0,
    "start_time": "2023-07-17T10:41:53.702Z"
   },
   {
    "duration": 0,
    "start_time": "2023-07-17T10:41:53.703Z"
   },
   {
    "duration": 0,
    "start_time": "2023-07-17T10:41:53.708Z"
   },
   {
    "duration": 0,
    "start_time": "2023-07-17T10:41:53.709Z"
   },
   {
    "duration": 0,
    "start_time": "2023-07-17T10:41:53.710Z"
   },
   {
    "duration": 0,
    "start_time": "2023-07-17T10:41:53.711Z"
   },
   {
    "duration": 0,
    "start_time": "2023-07-17T10:41:53.712Z"
   },
   {
    "duration": 0,
    "start_time": "2023-07-17T10:41:53.713Z"
   },
   {
    "duration": 0,
    "start_time": "2023-07-17T10:41:53.714Z"
   },
   {
    "duration": 0,
    "start_time": "2023-07-17T10:41:53.716Z"
   },
   {
    "duration": 0,
    "start_time": "2023-07-17T10:41:53.717Z"
   },
   {
    "duration": 45,
    "start_time": "2023-07-17T10:43:36.852Z"
   },
   {
    "duration": 5,
    "start_time": "2023-07-17T10:44:07.002Z"
   },
   {
    "duration": 54,
    "start_time": "2023-07-17T10:45:48.417Z"
   },
   {
    "duration": 32,
    "start_time": "2023-07-17T12:40:38.982Z"
   },
   {
    "duration": 4854,
    "start_time": "2023-07-17T12:43:39.658Z"
   },
   {
    "duration": 322,
    "start_time": "2023-07-17T12:43:44.514Z"
   },
   {
    "duration": 4,
    "start_time": "2023-07-17T12:43:44.838Z"
   },
   {
    "duration": 936,
    "start_time": "2023-07-17T12:43:44.844Z"
   },
   {
    "duration": 15,
    "start_time": "2023-07-17T12:43:45.783Z"
   },
   {
    "duration": 55,
    "start_time": "2023-07-17T12:43:45.810Z"
   },
   {
    "duration": 305,
    "start_time": "2023-07-17T12:43:45.868Z"
   },
   {
    "duration": 10,
    "start_time": "2023-07-17T12:43:46.176Z"
   },
   {
    "duration": 149,
    "start_time": "2023-07-17T12:43:46.188Z"
   },
   {
    "duration": 2053,
    "start_time": "2023-07-17T12:43:46.339Z"
   },
   {
    "duration": 8,
    "start_time": "2023-07-17T12:43:48.394Z"
   },
   {
    "duration": 46318,
    "start_time": "2023-07-17T12:43:48.404Z"
   },
   {
    "duration": 7,
    "start_time": "2023-07-17T12:44:34.724Z"
   },
   {
    "duration": 376,
    "start_time": "2023-07-17T12:44:34.734Z"
   },
   {
    "duration": 0,
    "start_time": "2023-07-17T12:44:35.112Z"
   },
   {
    "duration": 0,
    "start_time": "2023-07-17T12:44:35.114Z"
   },
   {
    "duration": 0,
    "start_time": "2023-07-17T12:44:35.115Z"
   },
   {
    "duration": 0,
    "start_time": "2023-07-17T12:44:35.116Z"
   },
   {
    "duration": 0,
    "start_time": "2023-07-17T12:44:35.117Z"
   },
   {
    "duration": 0,
    "start_time": "2023-07-17T12:44:35.118Z"
   },
   {
    "duration": 0,
    "start_time": "2023-07-17T12:44:35.119Z"
   },
   {
    "duration": 0,
    "start_time": "2023-07-17T12:44:35.120Z"
   },
   {
    "duration": 0,
    "start_time": "2023-07-17T12:44:35.121Z"
   },
   {
    "duration": 0,
    "start_time": "2023-07-17T12:44:35.122Z"
   },
   {
    "duration": 0,
    "start_time": "2023-07-17T12:44:35.123Z"
   },
   {
    "duration": 0,
    "start_time": "2023-07-17T12:44:35.124Z"
   },
   {
    "duration": 0,
    "start_time": "2023-07-17T12:44:35.125Z"
   },
   {
    "duration": 4673,
    "start_time": "2023-07-17T12:45:49.829Z"
   },
   {
    "duration": 332,
    "start_time": "2023-07-17T12:45:54.504Z"
   },
   {
    "duration": 4,
    "start_time": "2023-07-17T12:45:54.838Z"
   },
   {
    "duration": 955,
    "start_time": "2023-07-17T12:45:54.844Z"
   },
   {
    "duration": 16,
    "start_time": "2023-07-17T12:45:55.802Z"
   },
   {
    "duration": 61,
    "start_time": "2023-07-17T12:45:55.819Z"
   },
   {
    "duration": 328,
    "start_time": "2023-07-17T12:45:55.883Z"
   },
   {
    "duration": 10,
    "start_time": "2023-07-17T12:45:56.213Z"
   },
   {
    "duration": 151,
    "start_time": "2023-07-17T12:45:56.225Z"
   },
   {
    "duration": 2025,
    "start_time": "2023-07-17T12:45:56.378Z"
   },
   {
    "duration": 7,
    "start_time": "2023-07-17T12:45:58.405Z"
   },
   {
    "duration": 47147,
    "start_time": "2023-07-17T12:45:58.414Z"
   },
   {
    "duration": 8,
    "start_time": "2023-07-17T12:46:45.563Z"
   },
   {
    "duration": 2587,
    "start_time": "2023-07-17T12:46:45.574Z"
   },
   {
    "duration": 0,
    "start_time": "2023-07-17T12:46:48.163Z"
   },
   {
    "duration": 0,
    "start_time": "2023-07-17T12:46:48.164Z"
   },
   {
    "duration": 0,
    "start_time": "2023-07-17T12:46:48.165Z"
   },
   {
    "duration": 0,
    "start_time": "2023-07-17T12:46:48.167Z"
   },
   {
    "duration": 1,
    "start_time": "2023-07-17T12:46:48.167Z"
   },
   {
    "duration": 0,
    "start_time": "2023-07-17T12:46:48.169Z"
   },
   {
    "duration": 0,
    "start_time": "2023-07-17T12:46:48.170Z"
   },
   {
    "duration": 0,
    "start_time": "2023-07-17T12:46:48.171Z"
   },
   {
    "duration": 0,
    "start_time": "2023-07-17T12:46:48.172Z"
   },
   {
    "duration": 0,
    "start_time": "2023-07-17T12:46:48.173Z"
   },
   {
    "duration": 0,
    "start_time": "2023-07-17T12:46:48.174Z"
   },
   {
    "duration": 0,
    "start_time": "2023-07-17T12:46:48.175Z"
   },
   {
    "duration": 0,
    "start_time": "2023-07-17T12:46:48.177Z"
   },
   {
    "duration": 35,
    "start_time": "2023-07-17T12:47:33.685Z"
   },
   {
    "duration": 148,
    "start_time": "2023-07-17T12:49:02.796Z"
   },
   {
    "duration": 5015,
    "start_time": "2023-07-17T13:00:33.588Z"
   },
   {
    "duration": 263,
    "start_time": "2023-07-17T13:00:38.605Z"
   },
   {
    "duration": 4,
    "start_time": "2023-07-17T13:00:38.870Z"
   },
   {
    "duration": 1051,
    "start_time": "2023-07-17T13:00:38.876Z"
   },
   {
    "duration": 13,
    "start_time": "2023-07-17T13:00:39.930Z"
   },
   {
    "duration": 65,
    "start_time": "2023-07-17T13:00:39.945Z"
   },
   {
    "duration": 291,
    "start_time": "2023-07-17T13:00:40.013Z"
   },
   {
    "duration": 8,
    "start_time": "2023-07-17T13:00:40.306Z"
   },
   {
    "duration": 187,
    "start_time": "2023-07-17T13:00:40.316Z"
   },
   {
    "duration": 2097,
    "start_time": "2023-07-17T13:00:40.508Z"
   },
   {
    "duration": 14,
    "start_time": "2023-07-17T13:00:42.609Z"
   },
   {
    "duration": 51314,
    "start_time": "2023-07-17T13:00:42.625Z"
   },
   {
    "duration": 6,
    "start_time": "2023-07-17T13:01:33.941Z"
   },
   {
    "duration": 48,
    "start_time": "2023-07-17T13:01:33.950Z"
   },
   {
    "duration": 41,
    "start_time": "2023-07-17T13:01:34.000Z"
   },
   {
    "duration": 55,
    "start_time": "2023-07-17T13:01:34.043Z"
   },
   {
    "duration": 4801,
    "start_time": "2023-07-17T13:12:30.979Z"
   },
   {
    "duration": 343,
    "start_time": "2023-07-17T13:12:35.783Z"
   },
   {
    "duration": 6,
    "start_time": "2023-07-17T13:12:36.128Z"
   },
   {
    "duration": 970,
    "start_time": "2023-07-17T13:12:36.136Z"
   },
   {
    "duration": 12,
    "start_time": "2023-07-17T13:12:37.110Z"
   },
   {
    "duration": 168,
    "start_time": "2023-07-17T13:12:37.124Z"
   },
   {
    "duration": 329,
    "start_time": "2023-07-17T13:12:37.294Z"
   },
   {
    "duration": 9,
    "start_time": "2023-07-17T13:12:37.625Z"
   },
   {
    "duration": 159,
    "start_time": "2023-07-17T13:12:37.635Z"
   },
   {
    "duration": 2147,
    "start_time": "2023-07-17T13:12:37.796Z"
   },
   {
    "duration": 7,
    "start_time": "2023-07-17T13:12:39.945Z"
   },
   {
    "duration": 47179,
    "start_time": "2023-07-17T13:12:39.953Z"
   },
   {
    "duration": 8,
    "start_time": "2023-07-17T13:13:27.134Z"
   },
   {
    "duration": 326,
    "start_time": "2023-07-17T13:13:27.144Z"
   },
   {
    "duration": 0,
    "start_time": "2023-07-17T13:13:27.472Z"
   },
   {
    "duration": 0,
    "start_time": "2023-07-17T13:13:27.474Z"
   },
   {
    "duration": 0,
    "start_time": "2023-07-17T13:13:27.475Z"
   },
   {
    "duration": 0,
    "start_time": "2023-07-17T13:13:27.476Z"
   },
   {
    "duration": 0,
    "start_time": "2023-07-17T13:13:27.477Z"
   },
   {
    "duration": 0,
    "start_time": "2023-07-17T13:13:27.478Z"
   },
   {
    "duration": 0,
    "start_time": "2023-07-17T13:13:27.479Z"
   },
   {
    "duration": 0,
    "start_time": "2023-07-17T13:13:27.481Z"
   },
   {
    "duration": 0,
    "start_time": "2023-07-17T13:13:27.482Z"
   },
   {
    "duration": 0,
    "start_time": "2023-07-17T13:13:27.483Z"
   },
   {
    "duration": 0,
    "start_time": "2023-07-17T13:13:27.484Z"
   },
   {
    "duration": 0,
    "start_time": "2023-07-17T13:13:27.485Z"
   },
   {
    "duration": 0,
    "start_time": "2023-07-17T13:13:27.486Z"
   },
   {
    "duration": 0,
    "start_time": "2023-07-17T13:13:27.488Z"
   },
   {
    "duration": 0,
    "start_time": "2023-07-17T13:13:27.489Z"
   },
   {
    "duration": 133,
    "start_time": "2023-07-17T13:14:01.744Z"
   },
   {
    "duration": 5143,
    "start_time": "2023-07-17T13:17:41.646Z"
   },
   {
    "duration": 10033,
    "start_time": "2023-07-17T13:17:46.791Z"
   },
   {
    "duration": 6,
    "start_time": "2023-07-17T13:17:56.826Z"
   },
   {
    "duration": 939,
    "start_time": "2023-07-17T13:17:56.835Z"
   },
   {
    "duration": 18,
    "start_time": "2023-07-17T13:17:57.777Z"
   },
   {
    "duration": 48,
    "start_time": "2023-07-17T13:17:57.797Z"
   },
   {
    "duration": 298,
    "start_time": "2023-07-17T13:17:57.848Z"
   },
   {
    "duration": 10,
    "start_time": "2023-07-17T13:17:58.148Z"
   },
   {
    "duration": 157,
    "start_time": "2023-07-17T13:17:58.159Z"
   },
   {
    "duration": 2257,
    "start_time": "2023-07-17T13:17:58.319Z"
   },
   {
    "duration": 8,
    "start_time": "2023-07-17T13:18:00.578Z"
   },
   {
    "duration": 47313,
    "start_time": "2023-07-17T13:18:00.589Z"
   },
   {
    "duration": 11,
    "start_time": "2023-07-17T13:18:47.904Z"
   },
   {
    "duration": 430,
    "start_time": "2023-07-17T13:18:47.919Z"
   },
   {
    "duration": 0,
    "start_time": "2023-07-17T13:18:48.351Z"
   },
   {
    "duration": 0,
    "start_time": "2023-07-17T13:18:48.353Z"
   },
   {
    "duration": 1,
    "start_time": "2023-07-17T13:18:48.354Z"
   },
   {
    "duration": 0,
    "start_time": "2023-07-17T13:18:48.356Z"
   },
   {
    "duration": 0,
    "start_time": "2023-07-17T13:18:48.357Z"
   },
   {
    "duration": 0,
    "start_time": "2023-07-17T13:18:48.359Z"
   },
   {
    "duration": 0,
    "start_time": "2023-07-17T13:18:48.360Z"
   },
   {
    "duration": 0,
    "start_time": "2023-07-17T13:18:48.362Z"
   },
   {
    "duration": 0,
    "start_time": "2023-07-17T13:18:48.363Z"
   },
   {
    "duration": 0,
    "start_time": "2023-07-17T13:18:48.365Z"
   },
   {
    "duration": 0,
    "start_time": "2023-07-17T13:18:48.366Z"
   },
   {
    "duration": 0,
    "start_time": "2023-07-17T13:18:48.368Z"
   },
   {
    "duration": 0,
    "start_time": "2023-07-17T13:18:48.370Z"
   },
   {
    "duration": 707,
    "start_time": "2023-07-17T13:21:51.495Z"
   },
   {
    "duration": 4863,
    "start_time": "2023-07-17T13:43:36.851Z"
   },
   {
    "duration": 786,
    "start_time": "2023-07-17T13:43:41.716Z"
   },
   {
    "duration": 6,
    "start_time": "2023-07-17T13:43:42.504Z"
   },
   {
    "duration": 964,
    "start_time": "2023-07-17T13:43:42.512Z"
   },
   {
    "duration": 15,
    "start_time": "2023-07-17T13:43:43.479Z"
   },
   {
    "duration": 54,
    "start_time": "2023-07-17T13:43:43.496Z"
   },
   {
    "duration": 288,
    "start_time": "2023-07-17T13:43:43.552Z"
   },
   {
    "duration": 15,
    "start_time": "2023-07-17T13:43:43.842Z"
   },
   {
    "duration": 153,
    "start_time": "2023-07-17T13:43:43.859Z"
   },
   {
    "duration": 557,
    "start_time": "2023-07-17T13:43:44.014Z"
   },
   {
    "duration": 369,
    "start_time": "2023-07-17T13:43:44.573Z"
   },
   {
    "duration": 0,
    "start_time": "2023-07-17T13:43:44.945Z"
   },
   {
    "duration": 0,
    "start_time": "2023-07-17T13:43:44.946Z"
   },
   {
    "duration": 0,
    "start_time": "2023-07-17T13:43:44.948Z"
   },
   {
    "duration": 0,
    "start_time": "2023-07-17T13:43:44.949Z"
   },
   {
    "duration": 0,
    "start_time": "2023-07-17T13:43:44.950Z"
   },
   {
    "duration": 0,
    "start_time": "2023-07-17T13:43:44.951Z"
   },
   {
    "duration": 0,
    "start_time": "2023-07-17T13:43:44.952Z"
   },
   {
    "duration": 0,
    "start_time": "2023-07-17T13:43:44.953Z"
   },
   {
    "duration": 0,
    "start_time": "2023-07-17T13:43:44.954Z"
   },
   {
    "duration": 0,
    "start_time": "2023-07-17T13:43:44.955Z"
   },
   {
    "duration": 0,
    "start_time": "2023-07-17T13:43:44.957Z"
   },
   {
    "duration": 0,
    "start_time": "2023-07-17T13:43:44.958Z"
   },
   {
    "duration": 0,
    "start_time": "2023-07-17T13:43:44.959Z"
   },
   {
    "duration": 0,
    "start_time": "2023-07-17T13:43:44.960Z"
   },
   {
    "duration": 0,
    "start_time": "2023-07-17T13:43:44.961Z"
   },
   {
    "duration": 0,
    "start_time": "2023-07-17T13:43:44.962Z"
   },
   {
    "duration": 0,
    "start_time": "2023-07-17T13:43:44.963Z"
   },
   {
    "duration": 0,
    "start_time": "2023-07-17T13:43:44.964Z"
   },
   {
    "duration": 0,
    "start_time": "2023-07-17T13:43:44.965Z"
   },
   {
    "duration": 0,
    "start_time": "2023-07-17T13:43:44.966Z"
   },
   {
    "duration": 5467,
    "start_time": "2023-07-17T13:45:22.153Z"
   },
   {
    "duration": 798,
    "start_time": "2023-07-17T13:45:27.622Z"
   },
   {
    "duration": 5,
    "start_time": "2023-07-17T13:45:28.422Z"
   },
   {
    "duration": 960,
    "start_time": "2023-07-17T13:45:28.429Z"
   },
   {
    "duration": 25,
    "start_time": "2023-07-17T13:45:29.392Z"
   },
   {
    "duration": 48,
    "start_time": "2023-07-17T13:45:29.419Z"
   },
   {
    "duration": 281,
    "start_time": "2023-07-17T13:45:29.469Z"
   },
   {
    "duration": 9,
    "start_time": "2023-07-17T13:45:29.752Z"
   },
   {
    "duration": 160,
    "start_time": "2023-07-17T13:45:29.762Z"
   },
   {
    "duration": 2048,
    "start_time": "2023-07-17T13:45:29.924Z"
   },
   {
    "duration": 7,
    "start_time": "2023-07-17T13:45:31.975Z"
   },
   {
    "duration": 587,
    "start_time": "2023-07-17T13:45:31.984Z"
   },
   {
    "duration": 366,
    "start_time": "2023-07-17T13:45:32.573Z"
   },
   {
    "duration": 0,
    "start_time": "2023-07-17T13:45:32.942Z"
   },
   {
    "duration": 0,
    "start_time": "2023-07-17T13:45:32.943Z"
   },
   {
    "duration": 0,
    "start_time": "2023-07-17T13:45:32.944Z"
   },
   {
    "duration": 0,
    "start_time": "2023-07-17T13:45:32.946Z"
   },
   {
    "duration": 0,
    "start_time": "2023-07-17T13:45:32.947Z"
   },
   {
    "duration": 0,
    "start_time": "2023-07-17T13:45:32.948Z"
   },
   {
    "duration": 0,
    "start_time": "2023-07-17T13:45:32.949Z"
   },
   {
    "duration": 0,
    "start_time": "2023-07-17T13:45:32.950Z"
   },
   {
    "duration": 0,
    "start_time": "2023-07-17T13:45:32.951Z"
   },
   {
    "duration": 0,
    "start_time": "2023-07-17T13:45:32.952Z"
   },
   {
    "duration": 0,
    "start_time": "2023-07-17T13:45:32.953Z"
   },
   {
    "duration": 0,
    "start_time": "2023-07-17T13:45:32.954Z"
   },
   {
    "duration": 0,
    "start_time": "2023-07-17T13:45:32.956Z"
   },
   {
    "duration": 0,
    "start_time": "2023-07-17T13:45:32.957Z"
   },
   {
    "duration": 0,
    "start_time": "2023-07-17T13:45:32.958Z"
   },
   {
    "duration": 0,
    "start_time": "2023-07-17T13:45:32.959Z"
   },
   {
    "duration": 0,
    "start_time": "2023-07-17T13:45:32.960Z"
   },
   {
    "duration": 0,
    "start_time": "2023-07-17T13:45:32.962Z"
   },
   {
    "duration": 4858,
    "start_time": "2023-07-17T14:07:46.495Z"
   },
   {
    "duration": 779,
    "start_time": "2023-07-17T14:07:51.356Z"
   },
   {
    "duration": 6,
    "start_time": "2023-07-17T14:07:52.137Z"
   },
   {
    "duration": 1001,
    "start_time": "2023-07-17T14:07:52.145Z"
   },
   {
    "duration": 15,
    "start_time": "2023-07-17T14:07:53.149Z"
   },
   {
    "duration": 74,
    "start_time": "2023-07-17T14:07:53.166Z"
   },
   {
    "duration": 325,
    "start_time": "2023-07-17T14:07:53.242Z"
   },
   {
    "duration": 8,
    "start_time": "2023-07-17T14:07:53.569Z"
   },
   {
    "duration": 203,
    "start_time": "2023-07-17T14:07:53.579Z"
   },
   {
    "duration": 2157,
    "start_time": "2023-07-17T14:07:53.784Z"
   },
   {
    "duration": 8,
    "start_time": "2023-07-17T14:07:55.944Z"
   },
   {
    "duration": 401,
    "start_time": "2023-07-17T14:07:55.954Z"
   },
   {
    "duration": 0,
    "start_time": "2023-07-17T14:07:56.358Z"
   },
   {
    "duration": 0,
    "start_time": "2023-07-17T14:07:56.359Z"
   },
   {
    "duration": 0,
    "start_time": "2023-07-17T14:07:56.360Z"
   },
   {
    "duration": 0,
    "start_time": "2023-07-17T14:07:56.361Z"
   },
   {
    "duration": 0,
    "start_time": "2023-07-17T14:07:56.362Z"
   },
   {
    "duration": 0,
    "start_time": "2023-07-17T14:07:56.363Z"
   },
   {
    "duration": 0,
    "start_time": "2023-07-17T14:07:56.364Z"
   },
   {
    "duration": 0,
    "start_time": "2023-07-17T14:07:56.365Z"
   },
   {
    "duration": 0,
    "start_time": "2023-07-17T14:07:56.366Z"
   },
   {
    "duration": 0,
    "start_time": "2023-07-17T14:07:56.367Z"
   },
   {
    "duration": 0,
    "start_time": "2023-07-17T14:07:56.368Z"
   },
   {
    "duration": 0,
    "start_time": "2023-07-17T14:07:56.369Z"
   },
   {
    "duration": 0,
    "start_time": "2023-07-17T14:07:56.370Z"
   },
   {
    "duration": 0,
    "start_time": "2023-07-17T14:07:56.371Z"
   },
   {
    "duration": 0,
    "start_time": "2023-07-17T14:07:56.372Z"
   },
   {
    "duration": 0,
    "start_time": "2023-07-17T14:07:56.374Z"
   },
   {
    "duration": 0,
    "start_time": "2023-07-17T14:07:56.375Z"
   },
   {
    "duration": 0,
    "start_time": "2023-07-17T14:07:56.376Z"
   },
   {
    "duration": 0,
    "start_time": "2023-07-17T14:07:56.409Z"
   },
   {
    "duration": 0,
    "start_time": "2023-07-17T14:07:56.411Z"
   },
   {
    "duration": 1367,
    "start_time": "2023-07-17T14:08:25.504Z"
   },
   {
    "duration": 1028,
    "start_time": "2023-07-17T14:08:43.007Z"
   },
   {
    "duration": 4990,
    "start_time": "2023-07-17T14:14:42.361Z"
   },
   {
    "duration": 708,
    "start_time": "2023-07-17T14:14:47.353Z"
   },
   {
    "duration": 7,
    "start_time": "2023-07-17T14:14:48.063Z"
   },
   {
    "duration": 959,
    "start_time": "2023-07-17T14:14:48.073Z"
   },
   {
    "duration": 16,
    "start_time": "2023-07-17T14:14:49.034Z"
   },
   {
    "duration": 50,
    "start_time": "2023-07-17T14:14:49.052Z"
   },
   {
    "duration": 295,
    "start_time": "2023-07-17T14:14:49.104Z"
   },
   {
    "duration": 13,
    "start_time": "2023-07-17T14:14:49.401Z"
   },
   {
    "duration": 204,
    "start_time": "2023-07-17T14:14:49.416Z"
   },
   {
    "duration": 2166,
    "start_time": "2023-07-17T14:14:49.623Z"
   },
   {
    "duration": 7,
    "start_time": "2023-07-17T14:14:51.791Z"
   },
   {
    "duration": 2465,
    "start_time": "2023-07-17T14:14:51.808Z"
   },
   {
    "duration": 0,
    "start_time": "2023-07-17T14:14:54.275Z"
   },
   {
    "duration": 0,
    "start_time": "2023-07-17T14:14:54.276Z"
   },
   {
    "duration": 0,
    "start_time": "2023-07-17T14:14:54.278Z"
   },
   {
    "duration": 0,
    "start_time": "2023-07-17T14:14:54.279Z"
   },
   {
    "duration": 0,
    "start_time": "2023-07-17T14:14:54.280Z"
   },
   {
    "duration": 0,
    "start_time": "2023-07-17T14:14:54.281Z"
   },
   {
    "duration": 0,
    "start_time": "2023-07-17T14:14:54.282Z"
   },
   {
    "duration": 0,
    "start_time": "2023-07-17T14:14:54.283Z"
   },
   {
    "duration": 0,
    "start_time": "2023-07-17T14:14:54.284Z"
   },
   {
    "duration": 0,
    "start_time": "2023-07-17T14:14:54.286Z"
   },
   {
    "duration": 0,
    "start_time": "2023-07-17T14:14:54.287Z"
   },
   {
    "duration": 0,
    "start_time": "2023-07-17T14:14:54.288Z"
   },
   {
    "duration": 0,
    "start_time": "2023-07-17T14:14:54.289Z"
   },
   {
    "duration": 0,
    "start_time": "2023-07-17T14:14:54.290Z"
   },
   {
    "duration": 0,
    "start_time": "2023-07-17T14:14:54.291Z"
   },
   {
    "duration": 0,
    "start_time": "2023-07-17T14:14:54.292Z"
   },
   {
    "duration": 0,
    "start_time": "2023-07-17T14:14:54.293Z"
   },
   {
    "duration": 0,
    "start_time": "2023-07-17T14:14:54.295Z"
   },
   {
    "duration": 0,
    "start_time": "2023-07-17T14:14:54.296Z"
   },
   {
    "duration": 13,
    "start_time": "2023-07-17T14:15:15.444Z"
   },
   {
    "duration": 23,
    "start_time": "2023-07-17T14:15:18.087Z"
   },
   {
    "duration": 4984,
    "start_time": "2023-07-17T14:15:47.280Z"
   },
   {
    "duration": 703,
    "start_time": "2023-07-17T14:15:52.266Z"
   },
   {
    "duration": 5,
    "start_time": "2023-07-17T14:15:52.972Z"
   },
   {
    "duration": 949,
    "start_time": "2023-07-17T14:15:52.979Z"
   },
   {
    "duration": 14,
    "start_time": "2023-07-17T14:15:53.931Z"
   },
   {
    "duration": 46,
    "start_time": "2023-07-17T14:15:53.947Z"
   },
   {
    "duration": 278,
    "start_time": "2023-07-17T14:15:53.995Z"
   },
   {
    "duration": 9,
    "start_time": "2023-07-17T14:15:54.275Z"
   },
   {
    "duration": 148,
    "start_time": "2023-07-17T14:15:54.286Z"
   },
   {
    "duration": 2147,
    "start_time": "2023-07-17T14:15:54.436Z"
   },
   {
    "duration": 6,
    "start_time": "2023-07-17T14:15:56.585Z"
   },
   {
    "duration": 26,
    "start_time": "2023-07-17T14:15:56.593Z"
   },
   {
    "duration": 356,
    "start_time": "2023-07-17T14:15:56.621Z"
   },
   {
    "duration": 0,
    "start_time": "2023-07-17T14:15:56.989Z"
   },
   {
    "duration": 0,
    "start_time": "2023-07-17T14:15:56.990Z"
   },
   {
    "duration": 0,
    "start_time": "2023-07-17T14:15:56.991Z"
   },
   {
    "duration": 1,
    "start_time": "2023-07-17T14:15:56.992Z"
   },
   {
    "duration": 0,
    "start_time": "2023-07-17T14:15:56.994Z"
   },
   {
    "duration": 0,
    "start_time": "2023-07-17T14:15:57.009Z"
   },
   {
    "duration": 0,
    "start_time": "2023-07-17T14:15:57.010Z"
   },
   {
    "duration": 0,
    "start_time": "2023-07-17T14:15:57.011Z"
   },
   {
    "duration": 0,
    "start_time": "2023-07-17T14:15:57.012Z"
   },
   {
    "duration": 0,
    "start_time": "2023-07-17T14:15:57.014Z"
   },
   {
    "duration": 0,
    "start_time": "2023-07-17T14:15:57.015Z"
   },
   {
    "duration": 0,
    "start_time": "2023-07-17T14:15:57.016Z"
   },
   {
    "duration": 0,
    "start_time": "2023-07-17T14:15:57.017Z"
   },
   {
    "duration": 0,
    "start_time": "2023-07-17T14:15:57.018Z"
   },
   {
    "duration": 0,
    "start_time": "2023-07-17T14:15:57.019Z"
   },
   {
    "duration": 0,
    "start_time": "2023-07-17T14:15:57.020Z"
   },
   {
    "duration": 0,
    "start_time": "2023-07-17T14:15:57.021Z"
   },
   {
    "duration": 0,
    "start_time": "2023-07-17T14:15:57.022Z"
   },
   {
    "duration": 577228,
    "start_time": "2023-07-17T14:16:32.803Z"
   },
   {
    "duration": 42,
    "start_time": "2023-07-17T14:29:21.460Z"
   },
   {
    "duration": 506951,
    "start_time": "2023-07-17T14:33:03.652Z"
   },
   {
    "duration": 6620,
    "start_time": "2023-07-17T20:40:57.950Z"
   },
   {
    "duration": 873,
    "start_time": "2023-07-17T20:41:04.572Z"
   },
   {
    "duration": 5,
    "start_time": "2023-07-17T20:41:05.448Z"
   },
   {
    "duration": 952,
    "start_time": "2023-07-17T20:41:05.455Z"
   },
   {
    "duration": 14,
    "start_time": "2023-07-17T20:41:06.410Z"
   },
   {
    "duration": 54,
    "start_time": "2023-07-17T20:41:06.426Z"
   },
   {
    "duration": 285,
    "start_time": "2023-07-17T20:41:06.481Z"
   },
   {
    "duration": 9,
    "start_time": "2023-07-17T20:41:06.768Z"
   },
   {
    "duration": 146,
    "start_time": "2023-07-17T20:41:06.779Z"
   },
   {
    "duration": 2058,
    "start_time": "2023-07-17T20:41:06.927Z"
   },
   {
    "duration": 6,
    "start_time": "2023-07-17T20:41:08.987Z"
   },
   {
    "duration": 116,
    "start_time": "2023-07-17T20:41:08.995Z"
   },
   {
    "duration": 4416,
    "start_time": "2023-07-17T20:44:23.960Z"
   },
   {
    "duration": 730,
    "start_time": "2023-07-17T20:44:28.378Z"
   },
   {
    "duration": 6,
    "start_time": "2023-07-17T20:44:29.110Z"
   },
   {
    "duration": 905,
    "start_time": "2023-07-17T20:44:29.117Z"
   },
   {
    "duration": 15,
    "start_time": "2023-07-17T20:44:30.025Z"
   },
   {
    "duration": 79,
    "start_time": "2023-07-17T20:44:30.041Z"
   },
   {
    "duration": 311,
    "start_time": "2023-07-17T20:44:30.121Z"
   },
   {
    "duration": 9,
    "start_time": "2023-07-17T20:44:30.434Z"
   },
   {
    "duration": 224,
    "start_time": "2023-07-17T20:44:30.444Z"
   },
   {
    "duration": 2044,
    "start_time": "2023-07-17T20:44:30.669Z"
   },
   {
    "duration": 6,
    "start_time": "2023-07-17T20:44:32.715Z"
   },
   {
    "duration": 113,
    "start_time": "2023-07-17T20:44:32.722Z"
   },
   {
    "duration": 440,
    "start_time": "2023-07-17T20:44:32.836Z"
   },
   {
    "duration": 0,
    "start_time": "2023-07-17T20:44:33.279Z"
   },
   {
    "duration": 0,
    "start_time": "2023-07-17T20:44:33.280Z"
   },
   {
    "duration": 0,
    "start_time": "2023-07-17T20:44:33.281Z"
   },
   {
    "duration": 0,
    "start_time": "2023-07-17T20:44:33.282Z"
   },
   {
    "duration": 0,
    "start_time": "2023-07-17T20:44:33.283Z"
   },
   {
    "duration": 0,
    "start_time": "2023-07-17T20:44:33.283Z"
   },
   {
    "duration": 0,
    "start_time": "2023-07-17T20:44:33.284Z"
   },
   {
    "duration": 0,
    "start_time": "2023-07-17T20:44:33.286Z"
   },
   {
    "duration": 0,
    "start_time": "2023-07-17T20:44:33.286Z"
   },
   {
    "duration": 0,
    "start_time": "2023-07-17T20:44:33.288Z"
   },
   {
    "duration": 0,
    "start_time": "2023-07-17T20:44:33.288Z"
   },
   {
    "duration": 0,
    "start_time": "2023-07-17T20:44:33.289Z"
   },
   {
    "duration": 0,
    "start_time": "2023-07-17T20:44:33.309Z"
   },
   {
    "duration": 0,
    "start_time": "2023-07-17T20:44:33.310Z"
   },
   {
    "duration": 0,
    "start_time": "2023-07-17T20:44:33.311Z"
   },
   {
    "duration": 0,
    "start_time": "2023-07-17T20:44:33.312Z"
   },
   {
    "duration": 0,
    "start_time": "2023-07-17T20:44:33.313Z"
   },
   {
    "duration": 0,
    "start_time": "2023-07-17T20:44:33.314Z"
   },
   {
    "duration": 0,
    "start_time": "2023-07-17T20:44:33.315Z"
   },
   {
    "duration": 0,
    "start_time": "2023-07-17T20:44:33.316Z"
   },
   {
    "duration": 0,
    "start_time": "2023-07-17T20:44:33.317Z"
   },
   {
    "duration": 0,
    "start_time": "2023-07-17T20:44:33.318Z"
   },
   {
    "duration": 646,
    "start_time": "2023-07-17T20:45:47.398Z"
   },
   {
    "duration": 4376,
    "start_time": "2023-07-17T20:45:56.652Z"
   },
   {
    "duration": 769,
    "start_time": "2023-07-17T20:46:01.030Z"
   },
   {
    "duration": 5,
    "start_time": "2023-07-17T20:46:01.802Z"
   },
   {
    "duration": 903,
    "start_time": "2023-07-17T20:46:01.809Z"
   },
   {
    "duration": 15,
    "start_time": "2023-07-17T20:46:02.714Z"
   },
   {
    "duration": 51,
    "start_time": "2023-07-17T20:46:02.730Z"
   },
   {
    "duration": 266,
    "start_time": "2023-07-17T20:46:02.782Z"
   },
   {
    "duration": 9,
    "start_time": "2023-07-17T20:46:03.050Z"
   },
   {
    "duration": 137,
    "start_time": "2023-07-17T20:46:03.060Z"
   },
   {
    "duration": 2036,
    "start_time": "2023-07-17T20:46:03.200Z"
   },
   {
    "duration": 6,
    "start_time": "2023-07-17T20:46:05.238Z"
   },
   {
    "duration": 124,
    "start_time": "2023-07-17T20:46:05.246Z"
   },
   {
    "duration": 531,
    "start_time": "2023-07-17T20:46:05.372Z"
   },
   {
    "duration": 3,
    "start_time": "2023-07-17T20:46:05.906Z"
   },
   {
    "duration": 359,
    "start_time": "2023-07-17T20:46:05.911Z"
   },
   {
    "duration": 0,
    "start_time": "2023-07-17T20:46:06.272Z"
   },
   {
    "duration": 0,
    "start_time": "2023-07-17T20:46:06.274Z"
   },
   {
    "duration": 0,
    "start_time": "2023-07-17T20:46:06.275Z"
   },
   {
    "duration": 0,
    "start_time": "2023-07-17T20:46:06.276Z"
   },
   {
    "duration": 0,
    "start_time": "2023-07-17T20:46:06.277Z"
   },
   {
    "duration": 0,
    "start_time": "2023-07-17T20:46:06.278Z"
   },
   {
    "duration": 0,
    "start_time": "2023-07-17T20:46:06.279Z"
   },
   {
    "duration": 0,
    "start_time": "2023-07-17T20:46:06.280Z"
   },
   {
    "duration": 0,
    "start_time": "2023-07-17T20:46:06.281Z"
   },
   {
    "duration": 0,
    "start_time": "2023-07-17T20:46:06.282Z"
   },
   {
    "duration": 0,
    "start_time": "2023-07-17T20:46:06.283Z"
   },
   {
    "duration": 0,
    "start_time": "2023-07-17T20:46:06.284Z"
   },
   {
    "duration": 0,
    "start_time": "2023-07-17T20:46:06.285Z"
   },
   {
    "duration": 0,
    "start_time": "2023-07-17T20:46:06.286Z"
   },
   {
    "duration": 0,
    "start_time": "2023-07-17T20:46:06.286Z"
   },
   {
    "duration": 0,
    "start_time": "2023-07-17T20:46:06.287Z"
   },
   {
    "duration": 0,
    "start_time": "2023-07-17T20:46:06.287Z"
   },
   {
    "duration": 0,
    "start_time": "2023-07-17T20:46:06.288Z"
   },
   {
    "duration": 0,
    "start_time": "2023-07-17T20:46:06.288Z"
   },
   {
    "duration": 0,
    "start_time": "2023-07-17T20:46:06.308Z"
   },
   {
    "duration": 4501,
    "start_time": "2023-07-17T20:51:02.060Z"
   },
   {
    "duration": 263,
    "start_time": "2023-07-17T20:51:06.563Z"
   },
   {
    "duration": 5,
    "start_time": "2023-07-17T20:51:06.827Z"
   },
   {
    "duration": 887,
    "start_time": "2023-07-17T20:51:06.834Z"
   },
   {
    "duration": 12,
    "start_time": "2023-07-17T20:51:07.723Z"
   },
   {
    "duration": 42,
    "start_time": "2023-07-17T20:51:07.736Z"
   },
   {
    "duration": 284,
    "start_time": "2023-07-17T20:51:07.780Z"
   },
   {
    "duration": 9,
    "start_time": "2023-07-17T20:51:08.065Z"
   },
   {
    "duration": 145,
    "start_time": "2023-07-17T20:51:08.075Z"
   },
   {
    "duration": 2087,
    "start_time": "2023-07-17T20:51:08.223Z"
   },
   {
    "duration": 6,
    "start_time": "2023-07-17T20:51:10.312Z"
   },
   {
    "duration": 114,
    "start_time": "2023-07-17T20:51:10.320Z"
   },
   {
    "duration": 545,
    "start_time": "2023-07-17T20:51:10.435Z"
   },
   {
    "duration": 3,
    "start_time": "2023-07-17T20:51:10.982Z"
   },
   {
    "duration": 13744,
    "start_time": "2023-07-17T20:51:10.987Z"
   },
   {
    "duration": 134,
    "start_time": "2023-07-17T20:51:24.733Z"
   },
   {
    "duration": 4614,
    "start_time": "2023-07-17T20:54:29.439Z"
   },
   {
    "duration": 265,
    "start_time": "2023-07-17T20:54:34.056Z"
   },
   {
    "duration": 4,
    "start_time": "2023-07-17T20:54:34.323Z"
   },
   {
    "duration": 880,
    "start_time": "2023-07-17T20:54:34.329Z"
   },
   {
    "duration": 12,
    "start_time": "2023-07-17T20:54:35.212Z"
   },
   {
    "duration": 42,
    "start_time": "2023-07-17T20:54:35.226Z"
   },
   {
    "duration": 287,
    "start_time": "2023-07-17T20:54:35.270Z"
   },
   {
    "duration": 9,
    "start_time": "2023-07-17T20:54:35.559Z"
   },
   {
    "duration": 144,
    "start_time": "2023-07-17T20:54:35.569Z"
   },
   {
    "duration": 2072,
    "start_time": "2023-07-17T20:54:35.714Z"
   },
   {
    "duration": 6,
    "start_time": "2023-07-17T20:54:37.788Z"
   },
   {
    "duration": 117,
    "start_time": "2023-07-17T20:54:37.796Z"
   },
   {
    "duration": 572,
    "start_time": "2023-07-17T20:54:37.915Z"
   },
   {
    "duration": 2,
    "start_time": "2023-07-17T20:54:38.490Z"
   },
   {
    "duration": 345,
    "start_time": "2023-07-17T20:54:38.494Z"
   },
   {
    "duration": 0,
    "start_time": "2023-07-17T20:54:38.841Z"
   },
   {
    "duration": 0,
    "start_time": "2023-07-17T20:54:38.842Z"
   },
   {
    "duration": 0,
    "start_time": "2023-07-17T20:54:38.843Z"
   },
   {
    "duration": 0,
    "start_time": "2023-07-17T20:54:38.844Z"
   },
   {
    "duration": 0,
    "start_time": "2023-07-17T20:54:38.845Z"
   },
   {
    "duration": 0,
    "start_time": "2023-07-17T20:54:38.846Z"
   },
   {
    "duration": 0,
    "start_time": "2023-07-17T20:54:38.847Z"
   },
   {
    "duration": 0,
    "start_time": "2023-07-17T20:54:38.848Z"
   },
   {
    "duration": 0,
    "start_time": "2023-07-17T20:54:38.849Z"
   },
   {
    "duration": 0,
    "start_time": "2023-07-17T20:54:38.849Z"
   },
   {
    "duration": 0,
    "start_time": "2023-07-17T20:54:38.850Z"
   },
   {
    "duration": 0,
    "start_time": "2023-07-17T20:54:38.851Z"
   },
   {
    "duration": 0,
    "start_time": "2023-07-17T20:54:38.852Z"
   },
   {
    "duration": 0,
    "start_time": "2023-07-17T20:54:38.853Z"
   },
   {
    "duration": 0,
    "start_time": "2023-07-17T20:54:38.854Z"
   },
   {
    "duration": 0,
    "start_time": "2023-07-17T20:54:38.855Z"
   },
   {
    "duration": 0,
    "start_time": "2023-07-17T20:54:38.856Z"
   },
   {
    "duration": 0,
    "start_time": "2023-07-17T20:54:38.856Z"
   },
   {
    "duration": 0,
    "start_time": "2023-07-17T20:54:38.858Z"
   },
   {
    "duration": 0,
    "start_time": "2023-07-17T20:54:38.858Z"
   },
   {
    "duration": 4483,
    "start_time": "2023-07-17T20:56:34.505Z"
   },
   {
    "duration": 342,
    "start_time": "2023-07-17T20:56:38.990Z"
   },
   {
    "duration": 4,
    "start_time": "2023-07-17T20:56:39.334Z"
   },
   {
    "duration": 910,
    "start_time": "2023-07-17T20:56:39.339Z"
   },
   {
    "duration": 11,
    "start_time": "2023-07-17T20:56:40.251Z"
   },
   {
    "duration": 78,
    "start_time": "2023-07-17T20:56:40.264Z"
   },
   {
    "duration": 263,
    "start_time": "2023-07-17T20:56:40.344Z"
   },
   {
    "duration": 7,
    "start_time": "2023-07-17T20:56:40.609Z"
   },
   {
    "duration": 172,
    "start_time": "2023-07-17T20:56:40.618Z"
   },
   {
    "duration": 2025,
    "start_time": "2023-07-17T20:56:40.792Z"
   },
   {
    "duration": 6,
    "start_time": "2023-07-17T20:56:42.819Z"
   },
   {
    "duration": 120,
    "start_time": "2023-07-17T20:56:42.827Z"
   },
   {
    "duration": 492,
    "start_time": "2023-07-17T20:56:42.949Z"
   },
   {
    "duration": 105,
    "start_time": "2023-07-17T20:56:43.444Z"
   },
   {
    "duration": 348,
    "start_time": "2023-07-17T20:56:43.550Z"
   },
   {
    "duration": 0,
    "start_time": "2023-07-17T20:56:43.900Z"
   },
   {
    "duration": 0,
    "start_time": "2023-07-17T20:56:43.901Z"
   },
   {
    "duration": 0,
    "start_time": "2023-07-17T20:56:43.908Z"
   },
   {
    "duration": 0,
    "start_time": "2023-07-17T20:56:43.909Z"
   },
   {
    "duration": 0,
    "start_time": "2023-07-17T20:56:43.911Z"
   },
   {
    "duration": 0,
    "start_time": "2023-07-17T20:56:43.912Z"
   },
   {
    "duration": 0,
    "start_time": "2023-07-17T20:56:43.913Z"
   },
   {
    "duration": 0,
    "start_time": "2023-07-17T20:56:43.914Z"
   },
   {
    "duration": 0,
    "start_time": "2023-07-17T20:56:43.916Z"
   },
   {
    "duration": 0,
    "start_time": "2023-07-17T20:56:43.917Z"
   },
   {
    "duration": 0,
    "start_time": "2023-07-17T20:56:43.918Z"
   },
   {
    "duration": 0,
    "start_time": "2023-07-17T20:56:43.919Z"
   },
   {
    "duration": 0,
    "start_time": "2023-07-17T20:56:43.920Z"
   },
   {
    "duration": 0,
    "start_time": "2023-07-17T20:56:43.921Z"
   },
   {
    "duration": 0,
    "start_time": "2023-07-17T20:56:43.922Z"
   },
   {
    "duration": 0,
    "start_time": "2023-07-17T20:56:43.923Z"
   },
   {
    "duration": 0,
    "start_time": "2023-07-17T20:56:43.924Z"
   },
   {
    "duration": 0,
    "start_time": "2023-07-17T20:56:43.925Z"
   },
   {
    "duration": 0,
    "start_time": "2023-07-17T20:56:43.926Z"
   },
   {
    "duration": 0,
    "start_time": "2023-07-17T20:56:43.927Z"
   },
   {
    "duration": 4675,
    "start_time": "2023-07-17T20:58:21.096Z"
   },
   {
    "duration": 353,
    "start_time": "2023-07-17T20:58:25.773Z"
   },
   {
    "duration": 4,
    "start_time": "2023-07-17T20:58:26.128Z"
   },
   {
    "duration": 870,
    "start_time": "2023-07-17T20:58:26.134Z"
   },
   {
    "duration": 11,
    "start_time": "2023-07-17T20:58:27.006Z"
   },
   {
    "duration": 37,
    "start_time": "2023-07-17T20:58:27.019Z"
   },
   {
    "duration": 269,
    "start_time": "2023-07-17T20:58:27.058Z"
   },
   {
    "duration": 8,
    "start_time": "2023-07-17T20:58:27.328Z"
   },
   {
    "duration": 131,
    "start_time": "2023-07-17T20:58:27.338Z"
   },
   {
    "duration": 1998,
    "start_time": "2023-07-17T20:58:27.471Z"
   },
   {
    "duration": 7,
    "start_time": "2023-07-17T20:58:29.470Z"
   },
   {
    "duration": 113,
    "start_time": "2023-07-17T20:58:29.478Z"
   },
   {
    "duration": 522,
    "start_time": "2023-07-17T20:58:29.593Z"
   },
   {
    "duration": 104,
    "start_time": "2023-07-17T20:58:30.117Z"
   },
   {
    "duration": 352,
    "start_time": "2023-07-17T20:58:30.222Z"
   },
   {
    "duration": 0,
    "start_time": "2023-07-17T20:58:30.576Z"
   },
   {
    "duration": 0,
    "start_time": "2023-07-17T20:58:30.578Z"
   },
   {
    "duration": 0,
    "start_time": "2023-07-17T20:58:30.579Z"
   },
   {
    "duration": 0,
    "start_time": "2023-07-17T20:58:30.580Z"
   },
   {
    "duration": 0,
    "start_time": "2023-07-17T20:58:30.581Z"
   },
   {
    "duration": 0,
    "start_time": "2023-07-17T20:58:30.582Z"
   },
   {
    "duration": 0,
    "start_time": "2023-07-17T20:58:30.583Z"
   },
   {
    "duration": 0,
    "start_time": "2023-07-17T20:58:30.584Z"
   },
   {
    "duration": 0,
    "start_time": "2023-07-17T20:58:30.585Z"
   },
   {
    "duration": 0,
    "start_time": "2023-07-17T20:58:30.586Z"
   },
   {
    "duration": 0,
    "start_time": "2023-07-17T20:58:30.587Z"
   },
   {
    "duration": 0,
    "start_time": "2023-07-17T20:58:30.588Z"
   },
   {
    "duration": 0,
    "start_time": "2023-07-17T20:58:30.608Z"
   },
   {
    "duration": 0,
    "start_time": "2023-07-17T20:58:30.609Z"
   },
   {
    "duration": 0,
    "start_time": "2023-07-17T20:58:30.610Z"
   },
   {
    "duration": 0,
    "start_time": "2023-07-17T20:58:30.611Z"
   },
   {
    "duration": 0,
    "start_time": "2023-07-17T20:58:30.612Z"
   },
   {
    "duration": 0,
    "start_time": "2023-07-17T20:58:30.613Z"
   },
   {
    "duration": 0,
    "start_time": "2023-07-17T20:58:30.614Z"
   },
   {
    "duration": 0,
    "start_time": "2023-07-17T20:58:30.615Z"
   },
   {
    "duration": 4421,
    "start_time": "2023-07-17T20:59:04.865Z"
   },
   {
    "duration": 312,
    "start_time": "2023-07-17T20:59:09.288Z"
   },
   {
    "duration": 8,
    "start_time": "2023-07-17T20:59:09.601Z"
   },
   {
    "duration": 852,
    "start_time": "2023-07-17T20:59:09.611Z"
   },
   {
    "duration": 10,
    "start_time": "2023-07-17T20:59:10.465Z"
   },
   {
    "duration": 49,
    "start_time": "2023-07-17T20:59:10.477Z"
   },
   {
    "duration": 253,
    "start_time": "2023-07-17T20:59:10.528Z"
   },
   {
    "duration": 8,
    "start_time": "2023-07-17T20:59:10.783Z"
   },
   {
    "duration": 137,
    "start_time": "2023-07-17T20:59:10.792Z"
   },
   {
    "duration": 1993,
    "start_time": "2023-07-17T20:59:10.933Z"
   },
   {
    "duration": 7,
    "start_time": "2023-07-17T20:59:12.928Z"
   },
   {
    "duration": 111,
    "start_time": "2023-07-17T20:59:12.936Z"
   },
   {
    "duration": 518,
    "start_time": "2023-07-17T20:59:13.049Z"
   },
   {
    "duration": 105,
    "start_time": "2023-07-17T20:59:13.569Z"
   },
   {
    "duration": 6235,
    "start_time": "2023-07-17T21:02:51.654Z"
   },
   {
    "duration": 775,
    "start_time": "2023-07-17T21:02:57.891Z"
   },
   {
    "duration": 4,
    "start_time": "2023-07-17T21:02:58.668Z"
   },
   {
    "duration": 2438,
    "start_time": "2023-07-17T21:02:58.674Z"
   },
   {
    "duration": 14,
    "start_time": "2023-07-17T21:03:01.114Z"
   },
   {
    "duration": 134,
    "start_time": "2023-07-17T21:03:01.130Z"
   },
   {
    "duration": 321,
    "start_time": "2023-07-17T21:03:01.266Z"
   },
   {
    "duration": 8,
    "start_time": "2023-07-17T21:03:01.589Z"
   },
   {
    "duration": 130,
    "start_time": "2023-07-17T21:03:01.608Z"
   },
   {
    "duration": 1971,
    "start_time": "2023-07-17T21:03:01.741Z"
   },
   {
    "duration": 6,
    "start_time": "2023-07-17T21:03:03.714Z"
   },
   {
    "duration": 15,
    "start_time": "2023-07-17T21:03:03.722Z"
   },
   {
    "duration": 20,
    "start_time": "2023-07-17T21:03:03.738Z"
   },
   {
    "duration": 4515,
    "start_time": "2023-07-17T21:06:01.151Z"
   },
   {
    "duration": 274,
    "start_time": "2023-07-17T21:06:05.669Z"
   },
   {
    "duration": 5,
    "start_time": "2023-07-17T21:06:05.945Z"
   },
   {
    "duration": 952,
    "start_time": "2023-07-17T21:06:05.952Z"
   },
   {
    "duration": 12,
    "start_time": "2023-07-17T21:06:06.908Z"
   },
   {
    "duration": 45,
    "start_time": "2023-07-17T21:06:06.923Z"
   },
   {
    "duration": 294,
    "start_time": "2023-07-17T21:06:06.970Z"
   },
   {
    "duration": 9,
    "start_time": "2023-07-17T21:06:07.266Z"
   },
   {
    "duration": 133,
    "start_time": "2023-07-17T21:06:07.277Z"
   },
   {
    "duration": 2088,
    "start_time": "2023-07-17T21:06:07.412Z"
   },
   {
    "duration": 10,
    "start_time": "2023-07-17T21:06:09.502Z"
   },
   {
    "duration": 16,
    "start_time": "2023-07-17T21:06:09.514Z"
   },
   {
    "duration": 17,
    "start_time": "2023-07-17T21:06:09.532Z"
   },
   {
    "duration": 117,
    "start_time": "2023-07-17T21:06:09.552Z"
   },
   {
    "duration": 0,
    "start_time": "2023-07-17T21:06:09.671Z"
   },
   {
    "duration": 0,
    "start_time": "2023-07-17T21:06:09.672Z"
   },
   {
    "duration": 0,
    "start_time": "2023-07-17T21:06:09.673Z"
   },
   {
    "duration": 0,
    "start_time": "2023-07-17T21:06:09.674Z"
   },
   {
    "duration": 0,
    "start_time": "2023-07-17T21:06:09.675Z"
   },
   {
    "duration": 0,
    "start_time": "2023-07-17T21:06:09.676Z"
   },
   {
    "duration": 0,
    "start_time": "2023-07-17T21:06:09.678Z"
   },
   {
    "duration": 0,
    "start_time": "2023-07-17T21:06:09.679Z"
   },
   {
    "duration": 0,
    "start_time": "2023-07-17T21:06:09.680Z"
   },
   {
    "duration": 0,
    "start_time": "2023-07-17T21:06:09.681Z"
   },
   {
    "duration": 0,
    "start_time": "2023-07-17T21:06:09.683Z"
   },
   {
    "duration": 0,
    "start_time": "2023-07-17T21:06:09.684Z"
   },
   {
    "duration": 0,
    "start_time": "2023-07-17T21:06:09.684Z"
   },
   {
    "duration": 0,
    "start_time": "2023-07-17T21:06:09.686Z"
   },
   {
    "duration": 0,
    "start_time": "2023-07-17T21:06:09.687Z"
   },
   {
    "duration": 0,
    "start_time": "2023-07-17T21:06:09.688Z"
   },
   {
    "duration": 22118,
    "start_time": "2023-07-17T21:06:25.309Z"
   },
   {
    "duration": 4576,
    "start_time": "2023-07-17T21:10:28.274Z"
   },
   {
    "duration": 334,
    "start_time": "2023-07-17T21:10:32.852Z"
   },
   {
    "duration": 4,
    "start_time": "2023-07-17T21:10:33.188Z"
   },
   {
    "duration": 943,
    "start_time": "2023-07-17T21:10:33.194Z"
   },
   {
    "duration": 11,
    "start_time": "2023-07-17T21:10:34.140Z"
   },
   {
    "duration": 44,
    "start_time": "2023-07-17T21:10:34.153Z"
   },
   {
    "duration": 257,
    "start_time": "2023-07-17T21:10:34.209Z"
   },
   {
    "duration": 8,
    "start_time": "2023-07-17T21:10:34.468Z"
   },
   {
    "duration": 147,
    "start_time": "2023-07-17T21:10:34.478Z"
   },
   {
    "duration": 2067,
    "start_time": "2023-07-17T21:10:34.626Z"
   },
   {
    "duration": 13,
    "start_time": "2023-07-17T21:10:36.695Z"
   },
   {
    "duration": 69,
    "start_time": "2023-07-17T21:10:36.710Z"
   },
   {
    "duration": 17,
    "start_time": "2023-07-17T21:10:36.781Z"
   },
   {
    "duration": 113889,
    "start_time": "2023-07-17T21:10:36.801Z"
   },
   {
    "duration": 0,
    "start_time": "2023-07-17T21:12:30.692Z"
   },
   {
    "duration": 0,
    "start_time": "2023-07-17T21:12:30.693Z"
   },
   {
    "duration": 0,
    "start_time": "2023-07-17T21:12:30.694Z"
   },
   {
    "duration": 0,
    "start_time": "2023-07-17T21:12:30.695Z"
   },
   {
    "duration": 0,
    "start_time": "2023-07-17T21:12:30.696Z"
   },
   {
    "duration": 0,
    "start_time": "2023-07-17T21:12:30.697Z"
   },
   {
    "duration": 0,
    "start_time": "2023-07-17T21:12:30.698Z"
   },
   {
    "duration": 0,
    "start_time": "2023-07-17T21:12:30.709Z"
   },
   {
    "duration": 0,
    "start_time": "2023-07-17T21:12:30.710Z"
   },
   {
    "duration": 0,
    "start_time": "2023-07-17T21:12:30.711Z"
   },
   {
    "duration": 0,
    "start_time": "2023-07-17T21:12:30.712Z"
   },
   {
    "duration": 0,
    "start_time": "2023-07-17T21:12:30.713Z"
   },
   {
    "duration": 0,
    "start_time": "2023-07-17T21:12:30.714Z"
   },
   {
    "duration": 0,
    "start_time": "2023-07-17T21:12:30.715Z"
   },
   {
    "duration": 0,
    "start_time": "2023-07-17T21:12:30.717Z"
   },
   {
    "duration": 0,
    "start_time": "2023-07-17T21:12:30.718Z"
   },
   {
    "duration": 0,
    "start_time": "2023-07-17T21:12:30.719Z"
   },
   {
    "duration": 4510,
    "start_time": "2023-07-17T21:12:49.550Z"
   },
   {
    "duration": 336,
    "start_time": "2023-07-17T21:12:54.062Z"
   },
   {
    "duration": 8,
    "start_time": "2023-07-17T21:12:54.400Z"
   },
   {
    "duration": 880,
    "start_time": "2023-07-17T21:12:54.411Z"
   },
   {
    "duration": 21,
    "start_time": "2023-07-17T21:12:55.294Z"
   },
   {
    "duration": 152,
    "start_time": "2023-07-17T21:12:55.317Z"
   },
   {
    "duration": 261,
    "start_time": "2023-07-17T21:12:55.471Z"
   },
   {
    "duration": 10,
    "start_time": "2023-07-17T21:12:55.734Z"
   },
   {
    "duration": 176,
    "start_time": "2023-07-17T21:12:55.746Z"
   },
   {
    "duration": 2075,
    "start_time": "2023-07-17T21:12:55.923Z"
   },
   {
    "duration": 9,
    "start_time": "2023-07-17T21:12:58.000Z"
   },
   {
    "duration": 14,
    "start_time": "2023-07-17T21:12:58.012Z"
   },
   {
    "duration": 43,
    "start_time": "2023-07-17T21:12:58.028Z"
   },
   {
    "duration": 661910,
    "start_time": "2023-07-17T21:12:58.075Z"
   },
   {
    "duration": 0,
    "start_time": "2023-07-17T21:23:59.987Z"
   },
   {
    "duration": 0,
    "start_time": "2023-07-17T21:23:59.988Z"
   },
   {
    "duration": 0,
    "start_time": "2023-07-17T21:23:59.989Z"
   },
   {
    "duration": 0,
    "start_time": "2023-07-17T21:23:59.990Z"
   },
   {
    "duration": 0,
    "start_time": "2023-07-17T21:23:59.991Z"
   },
   {
    "duration": 0,
    "start_time": "2023-07-17T21:23:59.992Z"
   },
   {
    "duration": 0,
    "start_time": "2023-07-17T21:23:59.994Z"
   },
   {
    "duration": 0,
    "start_time": "2023-07-17T21:24:00.010Z"
   },
   {
    "duration": 0,
    "start_time": "2023-07-17T21:24:00.011Z"
   },
   {
    "duration": 0,
    "start_time": "2023-07-17T21:24:00.013Z"
   },
   {
    "duration": 0,
    "start_time": "2023-07-17T21:24:00.014Z"
   },
   {
    "duration": 0,
    "start_time": "2023-07-17T21:24:00.016Z"
   },
   {
    "duration": 0,
    "start_time": "2023-07-17T21:24:00.017Z"
   },
   {
    "duration": 0,
    "start_time": "2023-07-17T21:24:00.018Z"
   },
   {
    "duration": 0,
    "start_time": "2023-07-17T21:24:00.026Z"
   },
   {
    "duration": 0,
    "start_time": "2023-07-17T21:24:00.028Z"
   },
   {
    "duration": 4669,
    "start_time": "2023-07-17T21:25:37.945Z"
   },
   {
    "duration": 339,
    "start_time": "2023-07-17T21:25:42.617Z"
   },
   {
    "duration": 4,
    "start_time": "2023-07-17T21:25:42.958Z"
   },
   {
    "duration": 891,
    "start_time": "2023-07-17T21:25:42.964Z"
   },
   {
    "duration": 11,
    "start_time": "2023-07-17T21:25:43.858Z"
   },
   {
    "duration": 49,
    "start_time": "2023-07-17T21:25:43.871Z"
   },
   {
    "duration": 275,
    "start_time": "2023-07-17T21:25:43.922Z"
   },
   {
    "duration": 15,
    "start_time": "2023-07-17T21:25:44.199Z"
   },
   {
    "duration": 137,
    "start_time": "2023-07-17T21:25:44.215Z"
   },
   {
    "duration": 2066,
    "start_time": "2023-07-17T21:25:44.354Z"
   },
   {
    "duration": 8,
    "start_time": "2023-07-17T21:25:46.422Z"
   },
   {
    "duration": 344,
    "start_time": "2023-07-17T21:25:46.432Z"
   },
   {
    "duration": 0,
    "start_time": "2023-07-17T21:25:46.779Z"
   },
   {
    "duration": 0,
    "start_time": "2023-07-17T21:25:46.780Z"
   },
   {
    "duration": 0,
    "start_time": "2023-07-17T21:25:46.781Z"
   },
   {
    "duration": 0,
    "start_time": "2023-07-17T21:25:46.782Z"
   },
   {
    "duration": 0,
    "start_time": "2023-07-17T21:25:46.783Z"
   },
   {
    "duration": 0,
    "start_time": "2023-07-17T21:25:46.784Z"
   },
   {
    "duration": 0,
    "start_time": "2023-07-17T21:25:46.785Z"
   },
   {
    "duration": 0,
    "start_time": "2023-07-17T21:25:46.786Z"
   },
   {
    "duration": 0,
    "start_time": "2023-07-17T21:25:46.787Z"
   },
   {
    "duration": 0,
    "start_time": "2023-07-17T21:25:46.788Z"
   },
   {
    "duration": 0,
    "start_time": "2023-07-17T21:25:46.789Z"
   },
   {
    "duration": 0,
    "start_time": "2023-07-17T21:25:46.809Z"
   },
   {
    "duration": 0,
    "start_time": "2023-07-17T21:25:46.811Z"
   },
   {
    "duration": 0,
    "start_time": "2023-07-17T21:25:46.812Z"
   },
   {
    "duration": 0,
    "start_time": "2023-07-17T21:25:46.814Z"
   },
   {
    "duration": 0,
    "start_time": "2023-07-17T21:25:46.815Z"
   },
   {
    "duration": 0,
    "start_time": "2023-07-17T21:25:46.816Z"
   },
   {
    "duration": 0,
    "start_time": "2023-07-17T21:25:46.818Z"
   },
   {
    "duration": 0,
    "start_time": "2023-07-17T21:25:46.819Z"
   },
   {
    "duration": 0,
    "start_time": "2023-07-17T21:25:46.820Z"
   },
   {
    "duration": 4633,
    "start_time": "2023-07-17T21:26:04.064Z"
   },
   {
    "duration": 274,
    "start_time": "2023-07-17T21:26:08.699Z"
   },
   {
    "duration": 5,
    "start_time": "2023-07-17T21:26:08.975Z"
   },
   {
    "duration": 990,
    "start_time": "2023-07-17T21:26:08.982Z"
   },
   {
    "duration": 12,
    "start_time": "2023-07-17T21:26:09.975Z"
   },
   {
    "duration": 54,
    "start_time": "2023-07-17T21:26:09.988Z"
   },
   {
    "duration": 262,
    "start_time": "2023-07-17T21:26:10.044Z"
   },
   {
    "duration": 8,
    "start_time": "2023-07-17T21:26:10.309Z"
   },
   {
    "duration": 137,
    "start_time": "2023-07-17T21:26:10.319Z"
   },
   {
    "duration": 2058,
    "start_time": "2023-07-17T21:26:10.457Z"
   },
   {
    "duration": 6,
    "start_time": "2023-07-17T21:26:12.517Z"
   },
   {
    "duration": 6,
    "start_time": "2023-07-17T21:26:12.525Z"
   },
   {
    "duration": 6,
    "start_time": "2023-07-17T21:26:12.532Z"
   },
   {
    "duration": 10,
    "start_time": "2023-07-17T21:26:12.540Z"
   },
   {
    "duration": 5,
    "start_time": "2023-07-17T21:26:12.552Z"
   },
   {
    "duration": 2621,
    "start_time": "2023-07-17T21:26:12.559Z"
   },
   {
    "duration": 96,
    "start_time": "2023-07-17T21:26:15.183Z"
   },
   {
    "duration": 33,
    "start_time": "2023-07-17T21:26:15.281Z"
   },
   {
    "duration": 7,
    "start_time": "2023-07-17T21:26:15.316Z"
   },
   {
    "duration": 25,
    "start_time": "2023-07-17T21:26:15.324Z"
   },
   {
    "duration": 351,
    "start_time": "2023-07-17T21:26:15.351Z"
   },
   {
    "duration": 0,
    "start_time": "2023-07-17T21:26:15.704Z"
   },
   {
    "duration": 0,
    "start_time": "2023-07-17T21:26:15.705Z"
   },
   {
    "duration": 0,
    "start_time": "2023-07-17T21:26:15.708Z"
   },
   {
    "duration": 0,
    "start_time": "2023-07-17T21:26:15.709Z"
   },
   {
    "duration": 0,
    "start_time": "2023-07-17T21:26:15.710Z"
   },
   {
    "duration": 0,
    "start_time": "2023-07-17T21:26:15.711Z"
   },
   {
    "duration": 0,
    "start_time": "2023-07-17T21:26:15.712Z"
   },
   {
    "duration": 0,
    "start_time": "2023-07-17T21:26:15.713Z"
   },
   {
    "duration": 0,
    "start_time": "2023-07-17T21:26:15.714Z"
   },
   {
    "duration": 0,
    "start_time": "2023-07-17T21:26:15.716Z"
   },
   {
    "duration": 0,
    "start_time": "2023-07-17T21:26:15.717Z"
   },
   {
    "duration": 4832,
    "start_time": "2023-07-17T21:28:35.389Z"
   },
   {
    "duration": 365,
    "start_time": "2023-07-17T21:28:40.223Z"
   },
   {
    "duration": 5,
    "start_time": "2023-07-17T21:28:40.589Z"
   },
   {
    "duration": 1013,
    "start_time": "2023-07-17T21:28:40.595Z"
   },
   {
    "duration": 11,
    "start_time": "2023-07-17T21:28:41.611Z"
   },
   {
    "duration": 37,
    "start_time": "2023-07-17T21:28:41.624Z"
   },
   {
    "duration": 286,
    "start_time": "2023-07-17T21:28:41.662Z"
   },
   {
    "duration": 8,
    "start_time": "2023-07-17T21:28:41.950Z"
   },
   {
    "duration": 148,
    "start_time": "2023-07-17T21:28:41.960Z"
   },
   {
    "duration": 2035,
    "start_time": "2023-07-17T21:28:42.110Z"
   },
   {
    "duration": 7,
    "start_time": "2023-07-17T21:28:44.146Z"
   },
   {
    "duration": 16,
    "start_time": "2023-07-17T21:28:44.155Z"
   },
   {
    "duration": 11,
    "start_time": "2023-07-17T21:28:44.173Z"
   },
   {
    "duration": 11,
    "start_time": "2023-07-17T21:28:44.188Z"
   },
   {
    "duration": 12,
    "start_time": "2023-07-17T21:28:44.201Z"
   },
   {
    "duration": 9144,
    "start_time": "2023-07-17T21:28:44.215Z"
   },
   {
    "duration": 674,
    "start_time": "2023-07-17T21:28:53.361Z"
   },
   {
    "duration": 284,
    "start_time": "2023-07-17T21:28:54.036Z"
   },
   {
    "duration": 8,
    "start_time": "2023-07-17T21:28:54.322Z"
   },
   {
    "duration": 39,
    "start_time": "2023-07-17T21:28:54.331Z"
   },
   {
    "duration": 375,
    "start_time": "2023-07-17T21:28:54.372Z"
   },
   {
    "duration": 0,
    "start_time": "2023-07-17T21:28:54.749Z"
   },
   {
    "duration": 0,
    "start_time": "2023-07-17T21:28:54.750Z"
   },
   {
    "duration": 0,
    "start_time": "2023-07-17T21:28:54.751Z"
   },
   {
    "duration": 0,
    "start_time": "2023-07-17T21:28:54.752Z"
   },
   {
    "duration": 0,
    "start_time": "2023-07-17T21:28:54.753Z"
   },
   {
    "duration": 0,
    "start_time": "2023-07-17T21:28:54.754Z"
   },
   {
    "duration": 0,
    "start_time": "2023-07-17T21:28:54.755Z"
   },
   {
    "duration": 0,
    "start_time": "2023-07-17T21:28:54.756Z"
   },
   {
    "duration": 0,
    "start_time": "2023-07-17T21:28:54.757Z"
   },
   {
    "duration": 0,
    "start_time": "2023-07-17T21:28:54.758Z"
   },
   {
    "duration": 0,
    "start_time": "2023-07-17T21:28:54.759Z"
   },
   {
    "duration": 4563,
    "start_time": "2023-07-17T21:31:21.973Z"
   },
   {
    "duration": 267,
    "start_time": "2023-07-17T21:31:26.538Z"
   },
   {
    "duration": 4,
    "start_time": "2023-07-17T21:31:26.807Z"
   },
   {
    "duration": 900,
    "start_time": "2023-07-17T21:31:26.813Z"
   },
   {
    "duration": 12,
    "start_time": "2023-07-17T21:31:27.716Z"
   },
   {
    "duration": 40,
    "start_time": "2023-07-17T21:31:27.730Z"
   },
   {
    "duration": 297,
    "start_time": "2023-07-17T21:31:27.772Z"
   },
   {
    "duration": 8,
    "start_time": "2023-07-17T21:31:28.072Z"
   },
   {
    "duration": 136,
    "start_time": "2023-07-17T21:31:28.082Z"
   },
   {
    "duration": 2072,
    "start_time": "2023-07-17T21:31:28.220Z"
   },
   {
    "duration": 6,
    "start_time": "2023-07-17T21:31:30.295Z"
   },
   {
    "duration": 76,
    "start_time": "2023-07-17T21:31:30.309Z"
   },
   {
    "duration": 46,
    "start_time": "2023-07-17T21:31:30.387Z"
   },
   {
    "duration": 39,
    "start_time": "2023-07-17T21:31:30.436Z"
   },
   {
    "duration": 4389,
    "start_time": "2023-07-17T21:38:03.057Z"
   },
   {
    "duration": 351,
    "start_time": "2023-07-17T21:38:07.448Z"
   },
   {
    "duration": 9,
    "start_time": "2023-07-17T21:38:07.800Z"
   },
   {
    "duration": 910,
    "start_time": "2023-07-17T21:38:07.811Z"
   },
   {
    "duration": 23,
    "start_time": "2023-07-17T21:38:08.724Z"
   },
   {
    "duration": 11,
    "start_time": "2023-07-17T21:38:08.751Z"
   },
   {
    "duration": 25,
    "start_time": "2023-07-17T21:38:08.763Z"
   },
   {
    "duration": 58,
    "start_time": "2023-07-17T21:38:08.789Z"
   },
   {
    "duration": 8,
    "start_time": "2023-07-17T21:38:08.848Z"
   },
   {
    "duration": 141,
    "start_time": "2023-07-17T21:38:08.857Z"
   },
   {
    "duration": 281,
    "start_time": "2023-07-17T21:38:09.000Z"
   },
   {
    "duration": 6,
    "start_time": "2023-07-17T21:38:09.283Z"
   },
   {
    "duration": 5,
    "start_time": "2023-07-17T21:38:09.290Z"
   },
   {
    "duration": 3,
    "start_time": "2023-07-17T21:38:09.308Z"
   },
   {
    "duration": 5,
    "start_time": "2023-07-17T21:38:09.313Z"
   },
   {
    "duration": 143380,
    "start_time": "2023-07-17T21:38:09.320Z"
   },
   {
    "duration": 612,
    "start_time": "2023-07-17T21:40:32.702Z"
   },
   {
    "duration": 5464,
    "start_time": "2023-07-17T21:40:33.316Z"
   },
   {
    "duration": 7,
    "start_time": "2023-07-17T21:40:38.783Z"
   },
   {
    "duration": 12,
    "start_time": "2023-07-17T21:40:38.791Z"
   },
   {
    "duration": 22,
    "start_time": "2023-07-17T21:40:38.809Z"
   },
   {
    "duration": 12,
    "start_time": "2023-07-17T21:40:38.833Z"
   },
   {
    "duration": 13,
    "start_time": "2023-07-17T21:40:38.847Z"
   },
   {
    "duration": 12,
    "start_time": "2023-07-17T21:40:38.861Z"
   },
   {
    "duration": 103,
    "start_time": "2023-07-17T21:40:38.875Z"
   },
   {
    "duration": 33,
    "start_time": "2023-07-17T21:40:38.980Z"
   },
   {
    "duration": 27,
    "start_time": "2023-07-17T21:40:39.015Z"
   },
   {
    "duration": 564,
    "start_time": "2023-07-17T21:40:39.044Z"
   },
   {
    "duration": 0,
    "start_time": "2023-07-17T21:40:39.610Z"
   },
   {
    "duration": 0,
    "start_time": "2023-07-17T21:40:39.611Z"
   },
   {
    "duration": 0,
    "start_time": "2023-07-17T21:40:39.613Z"
   },
   {
    "duration": 0,
    "start_time": "2023-07-17T21:40:39.614Z"
   },
   {
    "duration": 4524,
    "start_time": "2023-07-17T21:48:00.466Z"
   },
   {
    "duration": 374,
    "start_time": "2023-07-17T21:48:04.992Z"
   },
   {
    "duration": 5,
    "start_time": "2023-07-17T21:48:05.368Z"
   },
   {
    "duration": 997,
    "start_time": "2023-07-17T21:48:05.376Z"
   },
   {
    "duration": 25,
    "start_time": "2023-07-17T21:48:06.375Z"
   },
   {
    "duration": 12,
    "start_time": "2023-07-17T21:48:06.408Z"
   },
   {
    "duration": 31,
    "start_time": "2023-07-17T21:48:06.422Z"
   },
   {
    "duration": 60,
    "start_time": "2023-07-17T21:48:06.455Z"
   },
   {
    "duration": 7,
    "start_time": "2023-07-17T21:48:06.517Z"
   },
   {
    "duration": 136,
    "start_time": "2023-07-17T21:48:06.526Z"
   },
   {
    "duration": 295,
    "start_time": "2023-07-17T21:48:06.663Z"
   },
   {
    "duration": 6,
    "start_time": "2023-07-17T21:48:06.960Z"
   },
   {
    "duration": 7,
    "start_time": "2023-07-17T21:48:06.967Z"
   },
   {
    "duration": 7,
    "start_time": "2023-07-17T21:48:06.975Z"
   },
   {
    "duration": 6,
    "start_time": "2023-07-17T21:48:06.984Z"
   },
   {
    "duration": 19,
    "start_time": "2023-07-17T21:48:06.992Z"
   },
   {
    "duration": 0,
    "start_time": "2023-07-17T21:48:07.014Z"
   },
   {
    "duration": 0,
    "start_time": "2023-07-17T21:48:07.015Z"
   },
   {
    "duration": 0,
    "start_time": "2023-07-17T21:48:07.017Z"
   },
   {
    "duration": 0,
    "start_time": "2023-07-17T21:48:07.018Z"
   },
   {
    "duration": 0,
    "start_time": "2023-07-17T21:48:07.020Z"
   },
   {
    "duration": 0,
    "start_time": "2023-07-17T21:48:07.022Z"
   },
   {
    "duration": 0,
    "start_time": "2023-07-17T21:48:07.023Z"
   },
   {
    "duration": 0,
    "start_time": "2023-07-17T21:48:07.025Z"
   },
   {
    "duration": 0,
    "start_time": "2023-07-17T21:48:07.026Z"
   },
   {
    "duration": 0,
    "start_time": "2023-07-17T21:48:07.028Z"
   },
   {
    "duration": 0,
    "start_time": "2023-07-17T21:48:07.029Z"
   },
   {
    "duration": 0,
    "start_time": "2023-07-17T21:48:07.031Z"
   },
   {
    "duration": 0,
    "start_time": "2023-07-17T21:48:07.032Z"
   },
   {
    "duration": 0,
    "start_time": "2023-07-17T21:48:07.034Z"
   },
   {
    "duration": 0,
    "start_time": "2023-07-17T21:48:07.036Z"
   },
   {
    "duration": 0,
    "start_time": "2023-07-17T21:48:07.037Z"
   },
   {
    "duration": 4540,
    "start_time": "2023-07-17T21:48:43.348Z"
   },
   {
    "duration": 344,
    "start_time": "2023-07-17T21:48:47.890Z"
   },
   {
    "duration": 4,
    "start_time": "2023-07-17T21:48:48.235Z"
   },
   {
    "duration": 890,
    "start_time": "2023-07-17T21:48:48.242Z"
   },
   {
    "duration": 25,
    "start_time": "2023-07-17T21:48:49.134Z"
   },
   {
    "duration": 11,
    "start_time": "2023-07-17T21:48:49.164Z"
   },
   {
    "duration": 39,
    "start_time": "2023-07-17T21:48:49.177Z"
   },
   {
    "duration": 43,
    "start_time": "2023-07-17T21:48:49.218Z"
   },
   {
    "duration": 8,
    "start_time": "2023-07-17T21:48:49.263Z"
   },
   {
    "duration": 149,
    "start_time": "2023-07-17T21:48:49.273Z"
   },
   {
    "duration": 298,
    "start_time": "2023-07-17T21:48:49.423Z"
   },
   {
    "duration": 5,
    "start_time": "2023-07-17T21:48:49.723Z"
   },
   {
    "duration": 21,
    "start_time": "2023-07-17T21:48:49.730Z"
   },
   {
    "duration": 29,
    "start_time": "2023-07-17T21:48:49.753Z"
   },
   {
    "duration": 7,
    "start_time": "2023-07-17T21:48:49.784Z"
   },
   {
    "duration": 104,
    "start_time": "2023-07-17T21:48:49.792Z"
   },
   {
    "duration": 0,
    "start_time": "2023-07-17T21:48:49.898Z"
   },
   {
    "duration": 0,
    "start_time": "2023-07-17T21:48:49.899Z"
   },
   {
    "duration": 0,
    "start_time": "2023-07-17T21:48:49.900Z"
   },
   {
    "duration": 0,
    "start_time": "2023-07-17T21:48:49.902Z"
   },
   {
    "duration": 0,
    "start_time": "2023-07-17T21:48:49.903Z"
   },
   {
    "duration": 0,
    "start_time": "2023-07-17T21:48:49.904Z"
   },
   {
    "duration": 0,
    "start_time": "2023-07-17T21:48:49.905Z"
   },
   {
    "duration": 0,
    "start_time": "2023-07-17T21:48:49.906Z"
   },
   {
    "duration": 0,
    "start_time": "2023-07-17T21:48:49.907Z"
   },
   {
    "duration": 0,
    "start_time": "2023-07-17T21:48:49.908Z"
   },
   {
    "duration": 0,
    "start_time": "2023-07-17T21:48:49.909Z"
   },
   {
    "duration": 0,
    "start_time": "2023-07-17T21:48:49.911Z"
   },
   {
    "duration": 0,
    "start_time": "2023-07-17T21:48:49.911Z"
   },
   {
    "duration": 0,
    "start_time": "2023-07-17T21:48:49.912Z"
   },
   {
    "duration": 0,
    "start_time": "2023-07-17T21:48:49.913Z"
   },
   {
    "duration": 0,
    "start_time": "2023-07-17T21:48:49.914Z"
   },
   {
    "duration": 4427,
    "start_time": "2023-07-17T21:49:20.782Z"
   },
   {
    "duration": 302,
    "start_time": "2023-07-17T21:49:25.211Z"
   },
   {
    "duration": 4,
    "start_time": "2023-07-17T21:49:25.515Z"
   },
   {
    "duration": 944,
    "start_time": "2023-07-17T21:49:25.522Z"
   },
   {
    "duration": 22,
    "start_time": "2023-07-17T21:49:26.468Z"
   },
   {
    "duration": 22,
    "start_time": "2023-07-17T21:49:26.494Z"
   },
   {
    "duration": 47,
    "start_time": "2023-07-17T21:49:26.517Z"
   },
   {
    "duration": 69,
    "start_time": "2023-07-17T21:49:26.566Z"
   },
   {
    "duration": 7,
    "start_time": "2023-07-17T21:49:26.637Z"
   },
   {
    "duration": 131,
    "start_time": "2023-07-17T21:49:26.647Z"
   },
   {
    "duration": 294,
    "start_time": "2023-07-17T21:49:26.779Z"
   },
   {
    "duration": 5,
    "start_time": "2023-07-17T21:49:27.075Z"
   },
   {
    "duration": 6,
    "start_time": "2023-07-17T21:49:27.082Z"
   },
   {
    "duration": 6,
    "start_time": "2023-07-17T21:49:27.089Z"
   },
   {
    "duration": 3,
    "start_time": "2023-07-17T21:49:27.109Z"
   },
   {
    "duration": 140317,
    "start_time": "2023-07-17T21:49:27.113Z"
   },
   {
    "duration": 30,
    "start_time": "2023-07-17T21:51:47.432Z"
   },
   {
    "duration": 5242,
    "start_time": "2023-07-17T21:51:47.464Z"
   },
   {
    "duration": 6,
    "start_time": "2023-07-17T21:51:52.708Z"
   },
   {
    "duration": 14,
    "start_time": "2023-07-17T21:51:52.716Z"
   },
   {
    "duration": 13,
    "start_time": "2023-07-17T21:51:52.732Z"
   },
   {
    "duration": 28,
    "start_time": "2023-07-17T21:51:52.746Z"
   },
   {
    "duration": 4,
    "start_time": "2023-07-17T21:51:52.775Z"
   },
   {
    "duration": 9,
    "start_time": "2023-07-17T21:51:52.780Z"
   },
   {
    "duration": 111611,
    "start_time": "2023-07-17T21:51:52.791Z"
   },
   {
    "duration": 5956,
    "start_time": "2023-07-17T21:53:44.403Z"
   },
   {
    "duration": 2852,
    "start_time": "2023-07-17T21:53:50.361Z"
   },
   {
    "duration": 369704,
    "start_time": "2023-07-17T21:53:53.216Z"
   },
   {
    "duration": 51996,
    "start_time": "2023-07-17T22:00:02.923Z"
   },
   {
    "duration": 4,
    "start_time": "2023-07-17T22:00:54.921Z"
   },
   {
    "duration": 12435,
    "start_time": "2023-07-17T22:00:54.927Z"
   },
   {
    "duration": 1470,
    "start_time": "2023-07-17T22:01:07.364Z"
   },
   {
    "duration": 334,
    "start_time": "2023-07-17T22:02:11.956Z"
   },
   {
    "duration": 22,
    "start_time": "2023-07-17T22:02:19.441Z"
   },
   {
    "duration": 25,
    "start_time": "2023-07-17T22:02:25.798Z"
   },
   {
    "duration": 23,
    "start_time": "2023-07-17T22:02:44.606Z"
   },
   {
    "duration": 20,
    "start_time": "2023-07-17T22:02:57.814Z"
   },
   {
    "duration": 4,
    "start_time": "2023-07-17T22:03:27.118Z"
   },
   {
    "duration": 4,
    "start_time": "2023-07-17T22:03:51.666Z"
   },
   {
    "duration": 4425,
    "start_time": "2023-07-17T22:05:40.634Z"
   },
   {
    "duration": 352,
    "start_time": "2023-07-17T22:05:45.062Z"
   },
   {
    "duration": 4,
    "start_time": "2023-07-17T22:05:45.416Z"
   },
   {
    "duration": 915,
    "start_time": "2023-07-17T22:05:45.422Z"
   },
   {
    "duration": 23,
    "start_time": "2023-07-17T22:05:46.339Z"
   },
   {
    "duration": 10,
    "start_time": "2023-07-17T22:05:46.366Z"
   },
   {
    "duration": 36,
    "start_time": "2023-07-17T22:05:46.377Z"
   },
   {
    "duration": 38,
    "start_time": "2023-07-17T22:05:46.415Z"
   },
   {
    "duration": 7,
    "start_time": "2023-07-17T22:05:46.455Z"
   },
   {
    "duration": 132,
    "start_time": "2023-07-17T22:05:46.463Z"
   },
   {
    "duration": 267,
    "start_time": "2023-07-17T22:05:46.597Z"
   },
   {
    "duration": 5,
    "start_time": "2023-07-17T22:05:46.866Z"
   },
   {
    "duration": 9,
    "start_time": "2023-07-17T22:05:46.872Z"
   },
   {
    "duration": 39,
    "start_time": "2023-07-17T22:05:46.884Z"
   },
   {
    "duration": 16,
    "start_time": "2023-07-17T22:05:46.925Z"
   },
   {
    "duration": 323,
    "start_time": "2023-07-17T22:05:46.943Z"
   },
   {
    "duration": 0,
    "start_time": "2023-07-17T22:05:47.268Z"
   },
   {
    "duration": 0,
    "start_time": "2023-07-17T22:05:47.269Z"
   },
   {
    "duration": 0,
    "start_time": "2023-07-17T22:05:47.269Z"
   },
   {
    "duration": 0,
    "start_time": "2023-07-17T22:05:47.270Z"
   },
   {
    "duration": 0,
    "start_time": "2023-07-17T22:05:47.271Z"
   },
   {
    "duration": 0,
    "start_time": "2023-07-17T22:05:47.272Z"
   },
   {
    "duration": 0,
    "start_time": "2023-07-17T22:05:47.273Z"
   },
   {
    "duration": 0,
    "start_time": "2023-07-17T22:05:47.274Z"
   },
   {
    "duration": 0,
    "start_time": "2023-07-17T22:05:47.275Z"
   },
   {
    "duration": 0,
    "start_time": "2023-07-17T22:05:47.276Z"
   },
   {
    "duration": 0,
    "start_time": "2023-07-17T22:05:47.277Z"
   },
   {
    "duration": 1,
    "start_time": "2023-07-17T22:05:47.278Z"
   },
   {
    "duration": 0,
    "start_time": "2023-07-17T22:05:47.279Z"
   },
   {
    "duration": 0,
    "start_time": "2023-07-17T22:05:47.280Z"
   },
   {
    "duration": 0,
    "start_time": "2023-07-17T22:05:47.281Z"
   },
   {
    "duration": 0,
    "start_time": "2023-07-17T22:05:47.282Z"
   },
   {
    "duration": 0,
    "start_time": "2023-07-17T22:05:47.283Z"
   },
   {
    "duration": 0,
    "start_time": "2023-07-17T22:05:47.284Z"
   },
   {
    "duration": 4291,
    "start_time": "2023-07-17T22:06:18.259Z"
   },
   {
    "duration": 358,
    "start_time": "2023-07-17T22:06:22.552Z"
   },
   {
    "duration": 5,
    "start_time": "2023-07-17T22:06:22.913Z"
   },
   {
    "duration": 979,
    "start_time": "2023-07-17T22:06:22.920Z"
   },
   {
    "duration": 27,
    "start_time": "2023-07-17T22:06:23.901Z"
   },
   {
    "duration": 46,
    "start_time": "2023-07-17T22:06:23.932Z"
   },
   {
    "duration": 70,
    "start_time": "2023-07-17T22:06:23.980Z"
   },
   {
    "duration": 71,
    "start_time": "2023-07-17T22:06:24.052Z"
   },
   {
    "duration": 8,
    "start_time": "2023-07-17T22:06:24.124Z"
   },
   {
    "duration": 134,
    "start_time": "2023-07-17T22:06:24.134Z"
   },
   {
    "duration": 267,
    "start_time": "2023-07-17T22:06:24.269Z"
   },
   {
    "duration": 6,
    "start_time": "2023-07-17T22:06:24.538Z"
   },
   {
    "duration": 12,
    "start_time": "2023-07-17T22:06:24.545Z"
   },
   {
    "duration": 10,
    "start_time": "2023-07-17T22:06:24.560Z"
   },
   {
    "duration": 10,
    "start_time": "2023-07-17T22:06:24.571Z"
   },
   {
    "duration": 8,
    "start_time": "2023-07-17T22:06:24.584Z"
   },
   {
    "duration": 2168,
    "start_time": "2023-07-17T22:06:24.593Z"
   },
   {
    "duration": 0,
    "start_time": "2023-07-17T22:06:26.763Z"
   },
   {
    "duration": 0,
    "start_time": "2023-07-17T22:06:26.764Z"
   },
   {
    "duration": 0,
    "start_time": "2023-07-17T22:06:26.765Z"
   },
   {
    "duration": 0,
    "start_time": "2023-07-17T22:06:26.766Z"
   },
   {
    "duration": 0,
    "start_time": "2023-07-17T22:06:26.767Z"
   },
   {
    "duration": 0,
    "start_time": "2023-07-17T22:06:26.768Z"
   },
   {
    "duration": 0,
    "start_time": "2023-07-17T22:06:26.769Z"
   },
   {
    "duration": 0,
    "start_time": "2023-07-17T22:06:26.770Z"
   },
   {
    "duration": 0,
    "start_time": "2023-07-17T22:06:26.771Z"
   },
   {
    "duration": 0,
    "start_time": "2023-07-17T22:06:26.772Z"
   },
   {
    "duration": 0,
    "start_time": "2023-07-17T22:06:26.773Z"
   },
   {
    "duration": 0,
    "start_time": "2023-07-17T22:06:26.774Z"
   },
   {
    "duration": 0,
    "start_time": "2023-07-17T22:06:26.775Z"
   },
   {
    "duration": 0,
    "start_time": "2023-07-17T22:06:26.776Z"
   },
   {
    "duration": 0,
    "start_time": "2023-07-17T22:06:26.777Z"
   },
   {
    "duration": 0,
    "start_time": "2023-07-17T22:06:26.778Z"
   },
   {
    "duration": 0,
    "start_time": "2023-07-17T22:06:26.779Z"
   },
   {
    "duration": 4407,
    "start_time": "2023-07-17T22:07:00.875Z"
   },
   {
    "duration": 372,
    "start_time": "2023-07-17T22:07:05.284Z"
   },
   {
    "duration": 4,
    "start_time": "2023-07-17T22:07:05.658Z"
   },
   {
    "duration": 940,
    "start_time": "2023-07-17T22:07:05.663Z"
   },
   {
    "duration": 26,
    "start_time": "2023-07-17T22:07:06.605Z"
   },
   {
    "duration": 37,
    "start_time": "2023-07-17T22:07:06.635Z"
   },
   {
    "duration": 35,
    "start_time": "2023-07-17T22:07:06.674Z"
   },
   {
    "duration": 45,
    "start_time": "2023-07-17T22:07:06.711Z"
   },
   {
    "duration": 8,
    "start_time": "2023-07-17T22:07:06.757Z"
   },
   {
    "duration": 133,
    "start_time": "2023-07-17T22:07:06.766Z"
   },
   {
    "duration": 289,
    "start_time": "2023-07-17T22:07:06.901Z"
   },
   {
    "duration": 6,
    "start_time": "2023-07-17T22:07:07.192Z"
   },
   {
    "duration": 10,
    "start_time": "2023-07-17T22:07:07.199Z"
   },
   {
    "duration": 3,
    "start_time": "2023-07-17T22:07:07.213Z"
   },
   {
    "duration": 7,
    "start_time": "2023-07-17T22:07:07.218Z"
   },
   {
    "duration": 7,
    "start_time": "2023-07-17T22:07:07.226Z"
   },
   {
    "duration": 100,
    "start_time": "2023-07-17T22:07:07.234Z"
   },
   {
    "duration": 0,
    "start_time": "2023-07-17T22:07:07.335Z"
   },
   {
    "duration": 0,
    "start_time": "2023-07-17T22:07:07.336Z"
   },
   {
    "duration": 0,
    "start_time": "2023-07-17T22:07:07.338Z"
   },
   {
    "duration": 0,
    "start_time": "2023-07-17T22:07:07.339Z"
   },
   {
    "duration": 0,
    "start_time": "2023-07-17T22:07:07.341Z"
   },
   {
    "duration": 0,
    "start_time": "2023-07-17T22:07:07.343Z"
   },
   {
    "duration": 0,
    "start_time": "2023-07-17T22:07:07.344Z"
   },
   {
    "duration": 0,
    "start_time": "2023-07-17T22:07:07.346Z"
   },
   {
    "duration": 0,
    "start_time": "2023-07-17T22:07:07.347Z"
   },
   {
    "duration": 0,
    "start_time": "2023-07-17T22:07:07.348Z"
   },
   {
    "duration": 0,
    "start_time": "2023-07-17T22:07:07.350Z"
   },
   {
    "duration": 0,
    "start_time": "2023-07-17T22:07:07.351Z"
   },
   {
    "duration": 0,
    "start_time": "2023-07-17T22:07:07.353Z"
   },
   {
    "duration": 0,
    "start_time": "2023-07-17T22:07:07.354Z"
   },
   {
    "duration": 0,
    "start_time": "2023-07-17T22:07:07.357Z"
   },
   {
    "duration": 0,
    "start_time": "2023-07-17T22:07:07.358Z"
   },
   {
    "duration": 0,
    "start_time": "2023-07-17T22:07:07.359Z"
   },
   {
    "duration": 96,
    "start_time": "2023-07-17T22:07:36.170Z"
   },
   {
    "duration": 93,
    "start_time": "2023-07-17T22:07:57.480Z"
   },
   {
    "duration": 4471,
    "start_time": "2023-07-17T22:11:23.441Z"
   },
   {
    "duration": 364,
    "start_time": "2023-07-17T22:11:27.915Z"
   },
   {
    "duration": 5,
    "start_time": "2023-07-17T22:11:28.281Z"
   },
   {
    "duration": 897,
    "start_time": "2023-07-17T22:11:28.288Z"
   },
   {
    "duration": 34,
    "start_time": "2023-07-17T22:11:29.188Z"
   },
   {
    "duration": 13,
    "start_time": "2023-07-17T22:11:29.227Z"
   },
   {
    "duration": 28,
    "start_time": "2023-07-17T22:11:29.242Z"
   },
   {
    "duration": 60,
    "start_time": "2023-07-17T22:11:29.272Z"
   },
   {
    "duration": 9,
    "start_time": "2023-07-17T22:11:29.334Z"
   },
   {
    "duration": 154,
    "start_time": "2023-07-17T22:11:29.345Z"
   },
   {
    "duration": 272,
    "start_time": "2023-07-17T22:11:29.500Z"
   },
   {
    "duration": 5,
    "start_time": "2023-07-17T22:11:29.774Z"
   },
   {
    "duration": 11,
    "start_time": "2023-07-17T22:11:29.781Z"
   },
   {
    "duration": 14,
    "start_time": "2023-07-17T22:11:29.794Z"
   },
   {
    "duration": 6,
    "start_time": "2023-07-17T22:11:29.810Z"
   },
   {
    "duration": 6,
    "start_time": "2023-07-17T22:11:29.817Z"
   },
   {
    "duration": 140410,
    "start_time": "2023-07-17T22:11:29.824Z"
   },
   {
    "duration": 351,
    "start_time": "2023-07-17T22:13:50.237Z"
   },
   {
    "duration": 0,
    "start_time": "2023-07-17T22:13:50.590Z"
   },
   {
    "duration": 0,
    "start_time": "2023-07-17T22:13:50.591Z"
   },
   {
    "duration": 0,
    "start_time": "2023-07-17T22:13:50.592Z"
   },
   {
    "duration": 0,
    "start_time": "2023-07-17T22:13:50.593Z"
   },
   {
    "duration": 0,
    "start_time": "2023-07-17T22:13:50.594Z"
   },
   {
    "duration": 0,
    "start_time": "2023-07-17T22:13:50.595Z"
   },
   {
    "duration": 0,
    "start_time": "2023-07-17T22:13:50.596Z"
   },
   {
    "duration": 0,
    "start_time": "2023-07-17T22:13:50.608Z"
   },
   {
    "duration": 0,
    "start_time": "2023-07-17T22:13:50.609Z"
   },
   {
    "duration": 0,
    "start_time": "2023-07-17T22:13:50.610Z"
   },
   {
    "duration": 0,
    "start_time": "2023-07-17T22:13:50.611Z"
   },
   {
    "duration": 0,
    "start_time": "2023-07-17T22:13:50.612Z"
   },
   {
    "duration": 0,
    "start_time": "2023-07-17T22:13:50.613Z"
   },
   {
    "duration": 0,
    "start_time": "2023-07-17T22:13:50.614Z"
   },
   {
    "duration": 0,
    "start_time": "2023-07-17T22:13:50.615Z"
   },
   {
    "duration": 0,
    "start_time": "2023-07-17T22:13:50.616Z"
   },
   {
    "duration": 0,
    "start_time": "2023-07-17T22:13:50.617Z"
   },
   {
    "duration": 48,
    "start_time": "2023-07-17T22:14:09.407Z"
   },
   {
    "duration": 7,
    "start_time": "2023-07-17T22:15:33.114Z"
   },
   {
    "duration": 6,
    "start_time": "2023-07-17T22:15:36.072Z"
   },
   {
    "duration": 4500,
    "start_time": "2023-07-17T22:16:27.992Z"
   },
   {
    "duration": 339,
    "start_time": "2023-07-17T22:16:32.494Z"
   },
   {
    "duration": 4,
    "start_time": "2023-07-17T22:16:32.835Z"
   },
   {
    "duration": 880,
    "start_time": "2023-07-17T22:16:32.840Z"
   },
   {
    "duration": 3,
    "start_time": "2023-07-17T22:16:33.722Z"
   },
   {
    "duration": 33,
    "start_time": "2023-07-17T22:16:33.726Z"
   },
   {
    "duration": 56,
    "start_time": "2023-07-17T22:16:33.760Z"
   },
   {
    "duration": 269,
    "start_time": "2023-07-17T22:16:33.819Z"
   },
   {
    "duration": 8,
    "start_time": "2023-07-17T22:16:34.089Z"
   },
   {
    "duration": 144,
    "start_time": "2023-07-17T22:16:34.099Z"
   },
   {
    "duration": 2007,
    "start_time": "2023-07-17T22:16:34.244Z"
   },
   {
    "duration": 7,
    "start_time": "2023-07-17T22:16:36.253Z"
   },
   {
    "duration": 32,
    "start_time": "2023-07-17T22:16:36.262Z"
   },
   {
    "duration": 10,
    "start_time": "2023-07-17T22:16:36.297Z"
   },
   {
    "duration": 9,
    "start_time": "2023-07-17T22:16:36.309Z"
   },
   {
    "duration": 12,
    "start_time": "2023-07-17T22:16:36.320Z"
   },
   {
    "duration": 1088013,
    "start_time": "2023-07-17T22:16:36.334Z"
   },
   {
    "duration": 64,
    "start_time": "2023-07-17T22:34:44.349Z"
   },
   {
    "duration": 11,
    "start_time": "2023-07-17T22:34:44.415Z"
   },
   {
    "duration": 24,
    "start_time": "2023-07-17T22:34:44.428Z"
   },
   {
    "duration": 44941,
    "start_time": "2023-07-17T22:34:44.454Z"
   },
   {
    "duration": 12,
    "start_time": "2023-07-17T22:35:29.397Z"
   },
   {
    "duration": 6,
    "start_time": "2023-07-17T22:35:29.412Z"
   },
   {
    "duration": 54,
    "start_time": "2023-07-17T22:35:29.420Z"
   },
   {
    "duration": 7,
    "start_time": "2023-07-17T22:35:29.477Z"
   },
   {
    "duration": 23,
    "start_time": "2023-07-17T22:35:29.486Z"
   },
   {
    "duration": 5,
    "start_time": "2023-07-17T22:35:29.511Z"
   },
   {
    "duration": 507582,
    "start_time": "2023-07-17T22:35:29.518Z"
   },
   {
    "duration": 193895,
    "start_time": "2023-07-17T22:43:57.102Z"
   },
   {
    "duration": 22995,
    "start_time": "2023-07-17T22:47:10.998Z"
   },
   {
    "duration": 1432628,
    "start_time": "2023-07-17T22:47:33.995Z"
   },
   {
    "duration": 400486,
    "start_time": "2023-07-17T23:11:26.713Z"
   },
   {
    "duration": 8,
    "start_time": "2023-07-17T23:18:07.202Z"
   },
   {
    "duration": 56127,
    "start_time": "2023-07-17T23:18:07.212Z"
   },
   {
    "duration": 12321,
    "start_time": "2023-07-17T23:19:03.340Z"
   }
  ],
  "kernelspec": {
   "display_name": "Python 3 (ipykernel)",
   "language": "python",
   "name": "python3"
  },
  "language_info": {
   "codemirror_mode": {
    "name": "ipython",
    "version": 3
   },
   "file_extension": ".py",
   "mimetype": "text/x-python",
   "name": "python",
   "nbconvert_exporter": "python",
   "pygments_lexer": "ipython3",
   "version": "3.9.5"
  },
  "toc": {
   "base_numbering": 1,
   "nav_menu": {},
   "number_sections": true,
   "sideBar": true,
   "skip_h1_title": true,
   "title_cell": "Содержание",
   "title_sidebar": "Contents",
   "toc_cell": true,
   "toc_position": {
    "height": "calc(100% - 180px)",
    "left": "10px",
    "top": "150px",
    "width": "302.391px"
   },
   "toc_section_display": true,
   "toc_window_display": false
  }
 },
 "nbformat": 4,
 "nbformat_minor": 2
}
