{
 "cells": [
  {
   "cell_type": "markdown",
   "metadata": {},
   "source": [
    "# Защита персональных данных клиентов"
   ]
  },
  {
   "cell_type": "markdown",
   "metadata": {},
   "source": [
    "Вам нужно защитить данные клиентов страховой компании «Хоть потоп». Разработайте такой метод преобразования данных, чтобы по ним было сложно восстановить персональную информацию. Обоснуйте корректность его работы.\n",
    "\n",
    "Нужно защитить данные, чтобы при преобразовании качество моделей машинного обучения не ухудшилось. Подбирать наилучшую модель не требуется."
   ]
  },
  {
   "cell_type": "markdown",
   "metadata": {},
   "source": [
    "***Описание данных***\n",
    "\n",
    "Признаки: пол, возраст и зарплата застрахованного, количество членов его семьи.\n",
    "\n",
    "Целевой признак: количество страховых выплат клиенту за последние 5 лет."
   ]
  },
  {
   "cell_type": "markdown",
   "metadata": {},
   "source": [
    "## Загрузка данных"
   ]
  },
  {
   "cell_type": "code",
   "execution_count": 1,
   "metadata": {},
   "outputs": [],
   "source": [
    "# Импортируем библиотеки\n",
    "import pandas as pd\n",
    "import numpy as np\n",
    "import matplotlib.pyplot as plt\n",
    "from sklearn.model_selection import train_test_split\n",
    "from sklearn.linear_model import LinearRegression\n",
    "from sklearn.metrics import r2_score"
   ]
  },
  {
   "cell_type": "code",
   "execution_count": 2,
   "metadata": {},
   "outputs": [],
   "source": [
    "# Откроем файл и запишем датасет в переменную data\n",
    "try:\n",
    "    data = pd.read_csv('/datasets/insurance.csv')\n",
    "except:\n",
    "    data = pd.read_csv('insurance.csv')"
   ]
  },
  {
   "cell_type": "code",
   "execution_count": 3,
   "metadata": {},
   "outputs": [
    {
     "data": {
      "text/html": [
       "<div>\n",
       "<style scoped>\n",
       "    .dataframe tbody tr th:only-of-type {\n",
       "        vertical-align: middle;\n",
       "    }\n",
       "\n",
       "    .dataframe tbody tr th {\n",
       "        vertical-align: top;\n",
       "    }\n",
       "\n",
       "    .dataframe thead th {\n",
       "        text-align: right;\n",
       "    }\n",
       "</style>\n",
       "<table border=\"1\" class=\"dataframe\">\n",
       "  <thead>\n",
       "    <tr style=\"text-align: right;\">\n",
       "      <th></th>\n",
       "      <th>Пол</th>\n",
       "      <th>Возраст</th>\n",
       "      <th>Зарплата</th>\n",
       "      <th>Члены семьи</th>\n",
       "      <th>Страховые выплаты</th>\n",
       "    </tr>\n",
       "  </thead>\n",
       "  <tbody>\n",
       "    <tr>\n",
       "      <th>0</th>\n",
       "      <td>1</td>\n",
       "      <td>41.0</td>\n",
       "      <td>49600.0</td>\n",
       "      <td>1</td>\n",
       "      <td>0</td>\n",
       "    </tr>\n",
       "    <tr>\n",
       "      <th>1</th>\n",
       "      <td>0</td>\n",
       "      <td>46.0</td>\n",
       "      <td>38000.0</td>\n",
       "      <td>1</td>\n",
       "      <td>1</td>\n",
       "    </tr>\n",
       "    <tr>\n",
       "      <th>2</th>\n",
       "      <td>0</td>\n",
       "      <td>29.0</td>\n",
       "      <td>21000.0</td>\n",
       "      <td>0</td>\n",
       "      <td>0</td>\n",
       "    </tr>\n",
       "    <tr>\n",
       "      <th>3</th>\n",
       "      <td>0</td>\n",
       "      <td>21.0</td>\n",
       "      <td>41700.0</td>\n",
       "      <td>2</td>\n",
       "      <td>0</td>\n",
       "    </tr>\n",
       "    <tr>\n",
       "      <th>4</th>\n",
       "      <td>1</td>\n",
       "      <td>28.0</td>\n",
       "      <td>26100.0</td>\n",
       "      <td>0</td>\n",
       "      <td>0</td>\n",
       "    </tr>\n",
       "    <tr>\n",
       "      <th>5</th>\n",
       "      <td>1</td>\n",
       "      <td>43.0</td>\n",
       "      <td>41000.0</td>\n",
       "      <td>2</td>\n",
       "      <td>1</td>\n",
       "    </tr>\n",
       "    <tr>\n",
       "      <th>6</th>\n",
       "      <td>1</td>\n",
       "      <td>39.0</td>\n",
       "      <td>39700.0</td>\n",
       "      <td>2</td>\n",
       "      <td>0</td>\n",
       "    </tr>\n",
       "    <tr>\n",
       "      <th>7</th>\n",
       "      <td>1</td>\n",
       "      <td>25.0</td>\n",
       "      <td>38600.0</td>\n",
       "      <td>4</td>\n",
       "      <td>0</td>\n",
       "    </tr>\n",
       "    <tr>\n",
       "      <th>8</th>\n",
       "      <td>1</td>\n",
       "      <td>36.0</td>\n",
       "      <td>49700.0</td>\n",
       "      <td>1</td>\n",
       "      <td>0</td>\n",
       "    </tr>\n",
       "    <tr>\n",
       "      <th>9</th>\n",
       "      <td>1</td>\n",
       "      <td>32.0</td>\n",
       "      <td>51700.0</td>\n",
       "      <td>1</td>\n",
       "      <td>0</td>\n",
       "    </tr>\n",
       "  </tbody>\n",
       "</table>\n",
       "</div>"
      ],
      "text/plain": [
       "   Пол  Возраст  Зарплата  Члены семьи  Страховые выплаты\n",
       "0    1     41.0   49600.0            1                  0\n",
       "1    0     46.0   38000.0            1                  1\n",
       "2    0     29.0   21000.0            0                  0\n",
       "3    0     21.0   41700.0            2                  0\n",
       "4    1     28.0   26100.0            0                  0\n",
       "5    1     43.0   41000.0            2                  1\n",
       "6    1     39.0   39700.0            2                  0\n",
       "7    1     25.0   38600.0            4                  0\n",
       "8    1     36.0   49700.0            1                  0\n",
       "9    1     32.0   51700.0            1                  0"
      ]
     },
     "execution_count": 3,
     "metadata": {},
     "output_type": "execute_result"
    }
   ],
   "source": [
    "# Посмотрим первые 10 строк датафрейма data\n",
    "data.head(10)"
   ]
  },
  {
   "cell_type": "code",
   "execution_count": 4,
   "metadata": {},
   "outputs": [
    {
     "name": "stdout",
     "output_type": "stream",
     "text": [
      "<class 'pandas.core.frame.DataFrame'>\n",
      "RangeIndex: 5000 entries, 0 to 4999\n",
      "Data columns (total 5 columns):\n",
      " #   Column             Non-Null Count  Dtype  \n",
      "---  ------             --------------  -----  \n",
      " 0   Пол                5000 non-null   int64  \n",
      " 1   Возраст            5000 non-null   float64\n",
      " 2   Зарплата           5000 non-null   float64\n",
      " 3   Члены семьи        5000 non-null   int64  \n",
      " 4   Страховые выплаты  5000 non-null   int64  \n",
      "dtypes: float64(2), int64(3)\n",
      "memory usage: 195.4 KB\n"
     ]
    }
   ],
   "source": [
    "# Выведем общую информацию о датафрейме data\n",
    "data.info()"
   ]
  },
  {
   "cell_type": "code",
   "execution_count": 5,
   "metadata": {},
   "outputs": [
    {
     "data": {
      "text/html": [
       "<div>\n",
       "<style scoped>\n",
       "    .dataframe tbody tr th:only-of-type {\n",
       "        vertical-align: middle;\n",
       "    }\n",
       "\n",
       "    .dataframe tbody tr th {\n",
       "        vertical-align: top;\n",
       "    }\n",
       "\n",
       "    .dataframe thead th {\n",
       "        text-align: right;\n",
       "    }\n",
       "</style>\n",
       "<table border=\"1\" class=\"dataframe\">\n",
       "  <thead>\n",
       "    <tr style=\"text-align: right;\">\n",
       "      <th></th>\n",
       "      <th>Пол</th>\n",
       "      <th>Возраст</th>\n",
       "      <th>Зарплата</th>\n",
       "      <th>Члены семьи</th>\n",
       "      <th>Страховые выплаты</th>\n",
       "    </tr>\n",
       "  </thead>\n",
       "  <tbody>\n",
       "    <tr>\n",
       "      <th>count</th>\n",
       "      <td>5000.000000</td>\n",
       "      <td>5000.000000</td>\n",
       "      <td>5000.000000</td>\n",
       "      <td>5000.000000</td>\n",
       "      <td>5000.000000</td>\n",
       "    </tr>\n",
       "    <tr>\n",
       "      <th>mean</th>\n",
       "      <td>0.499000</td>\n",
       "      <td>30.952800</td>\n",
       "      <td>39916.360000</td>\n",
       "      <td>1.194200</td>\n",
       "      <td>0.148000</td>\n",
       "    </tr>\n",
       "    <tr>\n",
       "      <th>std</th>\n",
       "      <td>0.500049</td>\n",
       "      <td>8.440807</td>\n",
       "      <td>9900.083569</td>\n",
       "      <td>1.091387</td>\n",
       "      <td>0.463183</td>\n",
       "    </tr>\n",
       "    <tr>\n",
       "      <th>min</th>\n",
       "      <td>0.000000</td>\n",
       "      <td>18.000000</td>\n",
       "      <td>5300.000000</td>\n",
       "      <td>0.000000</td>\n",
       "      <td>0.000000</td>\n",
       "    </tr>\n",
       "    <tr>\n",
       "      <th>25%</th>\n",
       "      <td>0.000000</td>\n",
       "      <td>24.000000</td>\n",
       "      <td>33300.000000</td>\n",
       "      <td>0.000000</td>\n",
       "      <td>0.000000</td>\n",
       "    </tr>\n",
       "    <tr>\n",
       "      <th>50%</th>\n",
       "      <td>0.000000</td>\n",
       "      <td>30.000000</td>\n",
       "      <td>40200.000000</td>\n",
       "      <td>1.000000</td>\n",
       "      <td>0.000000</td>\n",
       "    </tr>\n",
       "    <tr>\n",
       "      <th>75%</th>\n",
       "      <td>1.000000</td>\n",
       "      <td>37.000000</td>\n",
       "      <td>46600.000000</td>\n",
       "      <td>2.000000</td>\n",
       "      <td>0.000000</td>\n",
       "    </tr>\n",
       "    <tr>\n",
       "      <th>max</th>\n",
       "      <td>1.000000</td>\n",
       "      <td>65.000000</td>\n",
       "      <td>79000.000000</td>\n",
       "      <td>6.000000</td>\n",
       "      <td>5.000000</td>\n",
       "    </tr>\n",
       "  </tbody>\n",
       "</table>\n",
       "</div>"
      ],
      "text/plain": [
       "               Пол      Возраст      Зарплата  Члены семьи  Страховые выплаты\n",
       "count  5000.000000  5000.000000   5000.000000  5000.000000        5000.000000\n",
       "mean      0.499000    30.952800  39916.360000     1.194200           0.148000\n",
       "std       0.500049     8.440807   9900.083569     1.091387           0.463183\n",
       "min       0.000000    18.000000   5300.000000     0.000000           0.000000\n",
       "25%       0.000000    24.000000  33300.000000     0.000000           0.000000\n",
       "50%       0.000000    30.000000  40200.000000     1.000000           0.000000\n",
       "75%       1.000000    37.000000  46600.000000     2.000000           0.000000\n",
       "max       1.000000    65.000000  79000.000000     6.000000           5.000000"
      ]
     },
     "execution_count": 5,
     "metadata": {},
     "output_type": "execute_result"
    }
   ],
   "source": [
    "data.describe()"
   ]
  },
  {
   "cell_type": "code",
   "execution_count": 6,
   "metadata": {},
   "outputs": [
    {
     "data": {
      "image/png": "[encoded data removed]",
      "text/plain": [
       "<Figure size 1440x1440 with 6 Axes>"
      ]
     },
     "metadata": {
      "needs_background": "light"
     },
     "output_type": "display_data"
    }
   ],
   "source": [
    "# Построим общую гистограмму для всех числовых столбцов таблицы\n",
    "data.hist(figsize=(20, 20))\n",
    "plt.show()"
   ]
  },
  {
   "cell_type": "markdown",
   "metadata": {},
   "source": [
    "***Вывод:*** Файл содержит 5000 записей. Количество значений в столбцах совпадает, что говорит о том, что нет пропущенных значений."
   ]
  },
  {
   "cell_type": "markdown",
   "metadata": {},
   "source": [
    "## Умножение матриц"
   ]
  },
  {
   "cell_type": "markdown",
   "metadata": {},
   "source": [
    "В этом задании вы можете записывать формулы в *Jupyter Notebook.*\n",
    "\n",
    "Чтобы записать формулу внутри текста, окружите её символами доллара \\\\$; если снаружи —  двойными символами \\\\$\\\\$. Эти формулы записываются на языке вёрстки *LaTeX.* \n",
    "\n",
    "Для примера мы записали формулы линейной регрессии. Можете их скопировать и отредактировать, чтобы решить задачу.\n",
    "\n",
    "Работать в *LaTeX* необязательно."
   ]
  },
  {
   "cell_type": "markdown",
   "metadata": {},
   "source": [
    "Обозначения:\n",
    "\n",
    "- $X$ — матрица признаков (нулевой столбец состоит из единиц)\n",
    "\n",
    "- $y$ — вектор целевого признака\n",
    "\n",
    "- $P$ — матрица, на которую умножаются признаки\n",
    "\n",
    "- $w$ — вектор весов линейной регрессии (нулевой элемент равен сдвигу)"
   ]
  },
  {
   "cell_type": "markdown",
   "metadata": {},
   "source": [
    "Предсказания:\n",
    "\n",
    "$$\n",
    "a = Xw\n",
    "$$\n",
    "\n",
    "Задача обучения:\n",
    "\n",
    "$$\n",
    "w = \\arg\\min_w MSE(Xw, y)\n",
    "$$\n",
    "\n",
    "Формула обучения:\n",
    "\n",
    "$$\n",
    "w = (X^T X)^{-1} X^T y\n",
    "$$"
   ]
  },
  {
   "cell_type": "markdown",
   "metadata": {},
   "source": [
    "**Ответ:** \n",
    "\n",
    "Качество линейной регрессии не изменится."
   ]
  },
  {
   "cell_type": "markdown",
   "metadata": {},
   "source": [
    "**Обоснование:**\n",
    "\n",
    "Представим новую матрицу признаков $Z$ как произведение матрицы $X$ на матрицу $P$ (обратимую):\n",
    "\n",
    "$$Z=XP$$\n",
    "\n",
    "Подставим новое значение $Z$ в формулу $w′$  и произведем преобразования:\n",
    "\n",
    "$$w_1 = ( (XP)^TXP)^{−1}(XP)^Ty = (P^TX^TXP)^{−1}P^TX^Ty = (P^T(X^TX)P)^{−1}P^TX^Ty = P^{-1}(X^TX)^{-1}(P^T)^{-1}P^TX^Ty$$\n",
    "\n",
    "Так как $P$ по условию обратимая, то произведение $(P^T)^{-1}P^T$ равно $E$ (единичная матрица):\n",
    "\n",
    "$$w_1 = P^{-1}(X^TX)^{-1}EX^Ty = P^{-1}(X^TX)^{-1}X^Ty$$\n",
    "\n",
    "Выражение $(X^TX)^{-1}X^Ty$ равно $w$:\n",
    "\n",
    "$$w_1 = P^{-1}(X^TX)^{-1}X^Ty = P^{-1}w$$\n",
    "\n",
    "Подставим новое значение весов $𝑤_1$ в формулу для предсказаний линейной регрессии. Предсказания модели расчитываются по формуле:\n",
    "\n",
    "$$a = Xw$$\n",
    "\n",
    "Подставим в эту формулу значения $Z$ и $w_1$ для того, чтобы на их основе вычислить предсказания модели $a_1$:\n",
    "\n",
    "$$a_1 =Zw_1 = XPP^{-1}w$$\n",
    "\n",
    "Так как $P$ по условию обратимая, то произведение $PP^{-1}$ равно $E$:\n",
    "\n",
    "$$a_1 = XPP^{-1}w = XEw = Xw = a$$\n",
    "\n",
    "Предсказания $a_1$ для матрицы признаков, умноженной на обратимую матрицу $P$ равны предсказаниям a.\n",
    "\n",
    "Таким образом, умножение исходных признаков на обратимую матрицу не изменит предсказания модели."
   ]
  },
  {
   "cell_type": "markdown",
   "metadata": {},
   "source": [
    "***Вывод:*** умножение исходных признаков на обратимую матрицу не изменит предсказания модели."
   ]
  },
  {
   "cell_type": "markdown",
   "metadata": {},
   "source": [
    "## Алгоритм преобразования"
   ]
  },
  {
   "cell_type": "markdown",
   "metadata": {},
   "source": [
    "**Алгоритм**\n",
    "\n",
    "Умножим матрицу признаков на обратимую матрицу, которая будет генерироваться случайно."
   ]
  },
  {
   "cell_type": "markdown",
   "metadata": {},
   "source": [
    "**Обоснование**\n",
    "\n",
    "Если умножить признаки тренировочной и тестовой выборок на одну и ту же обратимую матрицу, то результатом предсказания будет произведение изменённой таблицы с признаками на вектор, который был получен из этой же таблицы с изменёнными данными увеличенную на ту же величину, что и признаки тренировочных данных."
   ]
  },
  {
   "cell_type": "markdown",
   "metadata": {},
   "source": [
    "## Проверка алгоритма"
   ]
  },
  {
   "cell_type": "code",
   "execution_count": 7,
   "metadata": {},
   "outputs": [],
   "source": [
    "# Выделим признаки\n",
    "features = data.drop('Страховые выплаты',axis=1)\n",
    "target = data['Страховые выплаты']"
   ]
  },
  {
   "cell_type": "code",
   "execution_count": 8,
   "metadata": {},
   "outputs": [],
   "source": [
    "# Разделим датафрейм на обучающую и тестовую выборку\n",
    "features_train, features_test, target_train, target_test = train_test_split(\n",
    "    features, target, test_size=0.25, random_state=12345)"
   ]
  },
  {
   "cell_type": "code",
   "execution_count": 9,
   "metadata": {},
   "outputs": [
    {
     "name": "stdout",
     "output_type": "stream",
     "text": [
      "R2 = 0.43522757127026546\n"
     ]
    }
   ],
   "source": [
    "# Модель с исходными признаками\n",
    "model = LinearRegression()\n",
    "model.fit(features_train, target_train)\n",
    "R2_original_data = r2_score(target_test, model.predict(features_test))\n",
    "print(\"R2 =\", R2_original_data)"
   ]
  },
  {
   "cell_type": "code",
   "execution_count": 10,
   "metadata": {},
   "outputs": [
    {
     "data": {
      "text/plain": [
       "array([[-0.5974026 ,  0.25974026,  0.20779221,  0.03896104],\n",
       "       [ 0.72727273, -0.27272727, -0.48484848,  0.24242424],\n",
       "       [ 0.35064935,  0.06493506, -0.28138528, -0.07359307],\n",
       "       [-0.38961039,  0.03896104,  0.4978355 , -0.17748918]])"
      ]
     },
     "execution_count": 10,
     "metadata": {},
     "output_type": "execute_result"
    }
   ],
   "source": [
    "# Создадим случайную матрицу-ключ\n",
    "n = features.shape[1]\n",
    "crypto_matrix = np.random.randint(1,10, (n,n))\n",
    "# защищенные признаки\n",
    "crypted_features = features @ crypto_matrix\n",
    "np.linalg.inv(crypto_matrix)"
   ]
  },
  {
   "cell_type": "code",
   "execution_count": 11,
   "metadata": {},
   "outputs": [
    {
     "data": {
      "text/html": [
       "<div>\n",
       "<style scoped>\n",
       "    .dataframe tbody tr th:only-of-type {\n",
       "        vertical-align: middle;\n",
       "    }\n",
       "\n",
       "    .dataframe tbody tr th {\n",
       "        vertical-align: top;\n",
       "    }\n",
       "\n",
       "    .dataframe thead th {\n",
       "        text-align: right;\n",
       "    }\n",
       "</style>\n",
       "<table border=\"1\" class=\"dataframe\">\n",
       "  <thead>\n",
       "    <tr style=\"text-align: right;\">\n",
       "      <th></th>\n",
       "      <th>Пол</th>\n",
       "      <th>Возраст</th>\n",
       "      <th>Зарплата</th>\n",
       "      <th>Члены семьи</th>\n",
       "    </tr>\n",
       "  </thead>\n",
       "  <tbody>\n",
       "    <tr>\n",
       "      <th>0</th>\n",
       "      <td>1</td>\n",
       "      <td>41.0</td>\n",
       "      <td>49600.0</td>\n",
       "      <td>1</td>\n",
       "    </tr>\n",
       "    <tr>\n",
       "      <th>1</th>\n",
       "      <td>0</td>\n",
       "      <td>46.0</td>\n",
       "      <td>38000.0</td>\n",
       "      <td>1</td>\n",
       "    </tr>\n",
       "    <tr>\n",
       "      <th>2</th>\n",
       "      <td>0</td>\n",
       "      <td>29.0</td>\n",
       "      <td>21000.0</td>\n",
       "      <td>0</td>\n",
       "    </tr>\n",
       "    <tr>\n",
       "      <th>3</th>\n",
       "      <td>0</td>\n",
       "      <td>21.0</td>\n",
       "      <td>41700.0</td>\n",
       "      <td>2</td>\n",
       "    </tr>\n",
       "    <tr>\n",
       "      <th>4</th>\n",
       "      <td>1</td>\n",
       "      <td>28.0</td>\n",
       "      <td>26100.0</td>\n",
       "      <td>0</td>\n",
       "    </tr>\n",
       "  </tbody>\n",
       "</table>\n",
       "</div>"
      ],
      "text/plain": [
       "   Пол  Возраст  Зарплата  Члены семьи\n",
       "0    1     41.0   49600.0            1\n",
       "1    0     46.0   38000.0            1\n",
       "2    0     29.0   21000.0            0\n",
       "3    0     21.0   41700.0            2\n",
       "4    1     28.0   26100.0            0"
      ]
     },
     "execution_count": 11,
     "metadata": {},
     "output_type": "execute_result"
    }
   ],
   "source": [
    "features.head()"
   ]
  },
  {
   "cell_type": "code",
   "execution_count": 12,
   "metadata": {},
   "outputs": [
    {
     "data": {
      "text/html": [
       "<div>\n",
       "<style scoped>\n",
       "    .dataframe tbody tr th:only-of-type {\n",
       "        vertical-align: middle;\n",
       "    }\n",
       "\n",
       "    .dataframe tbody tr th {\n",
       "        vertical-align: top;\n",
       "    }\n",
       "\n",
       "    .dataframe thead th {\n",
       "        text-align: right;\n",
       "    }\n",
       "</style>\n",
       "<table border=\"1\" class=\"dataframe\">\n",
       "  <thead>\n",
       "    <tr style=\"text-align: right;\">\n",
       "      <th></th>\n",
       "      <th>0</th>\n",
       "      <th>1</th>\n",
       "      <th>2</th>\n",
       "      <th>3</th>\n",
       "    </tr>\n",
       "  </thead>\n",
       "  <tbody>\n",
       "    <tr>\n",
       "      <th>0</th>\n",
       "      <td>248339.0</td>\n",
       "      <td>347501.0</td>\n",
       "      <td>198735.0</td>\n",
       "      <td>446741.0</td>\n",
       "    </tr>\n",
       "    <tr>\n",
       "      <th>1</th>\n",
       "      <td>190375.0</td>\n",
       "      <td>266330.0</td>\n",
       "      <td>152370.0</td>\n",
       "      <td>342374.0</td>\n",
       "    </tr>\n",
       "    <tr>\n",
       "      <th>2</th>\n",
       "      <td>105232.0</td>\n",
       "      <td>147203.0</td>\n",
       "      <td>84232.0</td>\n",
       "      <td>189232.0</td>\n",
       "    </tr>\n",
       "    <tr>\n",
       "      <th>3</th>\n",
       "      <td>208682.0</td>\n",
       "      <td>292063.0</td>\n",
       "      <td>166972.0</td>\n",
       "      <td>375480.0</td>\n",
       "    </tr>\n",
       "    <tr>\n",
       "      <th>4</th>\n",
       "      <td>130728.0</td>\n",
       "      <td>182902.0</td>\n",
       "      <td>104629.0</td>\n",
       "      <td>235131.0</td>\n",
       "    </tr>\n",
       "  </tbody>\n",
       "</table>\n",
       "</div>"
      ],
      "text/plain": [
       "          0         1         2         3\n",
       "0  248339.0  347501.0  198735.0  446741.0\n",
       "1  190375.0  266330.0  152370.0  342374.0\n",
       "2  105232.0  147203.0   84232.0  189232.0\n",
       "3  208682.0  292063.0  166972.0  375480.0\n",
       "4  130728.0  182902.0  104629.0  235131.0"
      ]
     },
     "execution_count": 12,
     "metadata": {},
     "output_type": "execute_result"
    }
   ],
   "source": [
    "crypted_features.head()"
   ]
  },
  {
   "cell_type": "code",
   "execution_count": 13,
   "metadata": {},
   "outputs": [
    {
     "data": {
      "text/plain": [
       "array([[4, 6, 5, 7],\n",
       "       [8, 7, 8, 8],\n",
       "       [5, 7, 4, 9],\n",
       "       [7, 8, 2, 6]])"
      ]
     },
     "execution_count": 13,
     "metadata": {},
     "output_type": "execute_result"
    }
   ],
   "source": [
    "crypto_matrix"
   ]
  },
  {
   "cell_type": "code",
   "execution_count": 14,
   "metadata": {},
   "outputs": [],
   "source": [
    "# Разделим датафрейм на обучающую и тестовую выборку\n",
    "features_train, features_test, target_train, target_test = train_test_split(\n",
    "    crypted_features, target, test_size=0.25, random_state=12345)"
   ]
  },
  {
   "cell_type": "code",
   "execution_count": 15,
   "metadata": {},
   "outputs": [
    {
     "name": "stdout",
     "output_type": "stream",
     "text": [
      "R2 = 0.4352275712702586\n"
     ]
    }
   ],
   "source": [
    "# Модель с защищенными признаками\n",
    "model = LinearRegression()\n",
    "model.fit(features_train, target_train)\n",
    "R2_crypted_data = r2_score(target_test, model.predict(features_test))\n",
    "print(\"R2 =\", R2_crypted_data)"
   ]
  },
  {
   "cell_type": "code",
   "execution_count": 16,
   "metadata": {},
   "outputs": [
    {
     "name": "stdout",
     "output_type": "stream",
     "text": [
      "R2 - оригинальные данные 0.435\n",
      "R2 - зашифрованные данные 0.435\n"
     ]
    }
   ],
   "source": [
    "print('R2 - оригинальные данные','%.3f' % R2_original_data)\n",
    "print('R2 - зашифрованные данные','%.3f' % R2_crypted_data)"
   ]
  },
  {
   "cell_type": "markdown",
   "metadata": {},
   "source": [
    "***Вывод:***\n",
    "\n",
    "* Данные загружены и проанализированы.\n",
    "\n",
    "* Разработан и применен алгоритм защиты персональных данных клиентов.\n",
    "\n",
    "* Качество линейной регресии не изменилось (доказано математически, а также практическим путем).\n",
    "\n"
   ]
  }
 ],
 "metadata": {
  "ExecuteTimeLog": [
   {
    "duration": 330,
    "start_time": "2023-06-28T02:55:32.461Z"
   },
   {
    "duration": 76,
    "start_time": "2023-06-28T02:55:32.793Z"
   },
   {
    "duration": 13,
    "start_time": "2023-06-28T02:55:32.870Z"
   },
   {
    "duration": 62,
    "start_time": "2023-06-28T02:55:32.884Z"
   },
   {
    "duration": 34,
    "start_time": "2023-06-28T02:55:32.948Z"
   },
   {
    "duration": 138,
    "start_time": "2023-06-28T03:37:58.626Z"
   },
   {
    "duration": 403,
    "start_time": "2023-07-01T19:39:47.796Z"
   },
   {
    "duration": 142,
    "start_time": "2023-07-01T19:39:48.201Z"
   },
   {
    "duration": 30,
    "start_time": "2023-07-01T19:39:48.345Z"
   },
   {
    "duration": 18,
    "start_time": "2023-07-01T19:39:48.377Z"
   },
   {
    "duration": 31,
    "start_time": "2023-07-01T19:39:48.398Z"
   },
   {
    "duration": 1434,
    "start_time": "2023-07-01T19:39:48.431Z"
   },
   {
    "duration": 692,
    "start_time": "2023-07-01T19:40:28.392Z"
   },
   {
    "duration": 30,
    "start_time": "2023-07-01T19:40:29.086Z"
   },
   {
    "duration": 15,
    "start_time": "2023-07-01T19:40:29.118Z"
   },
   {
    "duration": 12,
    "start_time": "2023-07-01T19:40:29.135Z"
   },
   {
    "duration": 41,
    "start_time": "2023-07-01T19:40:29.149Z"
   },
   {
    "duration": 827,
    "start_time": "2023-07-01T19:40:29.192Z"
   },
   {
    "duration": 1437,
    "start_time": "2023-07-01T20:08:25.642Z"
   },
   {
    "duration": 30,
    "start_time": "2023-07-01T20:08:27.081Z"
   },
   {
    "duration": 13,
    "start_time": "2023-07-01T20:08:27.112Z"
   },
   {
    "duration": 17,
    "start_time": "2023-07-01T20:08:27.129Z"
   },
   {
    "duration": 29,
    "start_time": "2023-07-01T20:08:27.148Z"
   },
   {
    "duration": 711,
    "start_time": "2023-07-01T20:08:27.178Z"
   },
   {
    "duration": 4,
    "start_time": "2023-07-01T20:08:27.891Z"
   },
   {
    "duration": 132,
    "start_time": "2023-07-01T20:08:27.897Z"
   },
   {
    "duration": 0,
    "start_time": "2023-07-01T20:08:28.031Z"
   },
   {
    "duration": 0,
    "start_time": "2023-07-01T20:08:28.032Z"
   },
   {
    "duration": 0,
    "start_time": "2023-07-01T20:08:28.033Z"
   },
   {
    "duration": 1385,
    "start_time": "2023-07-01T20:09:10.969Z"
   },
   {
    "duration": 34,
    "start_time": "2023-07-01T20:09:12.356Z"
   },
   {
    "duration": 14,
    "start_time": "2023-07-01T20:09:12.392Z"
   },
   {
    "duration": 13,
    "start_time": "2023-07-01T20:09:12.407Z"
   },
   {
    "duration": 41,
    "start_time": "2023-07-01T20:09:12.423Z"
   },
   {
    "duration": 710,
    "start_time": "2023-07-01T20:09:12.466Z"
   },
   {
    "duration": 4,
    "start_time": "2023-07-01T20:09:13.177Z"
   },
   {
    "duration": 9,
    "start_time": "2023-07-01T20:09:13.182Z"
   },
   {
    "duration": 9,
    "start_time": "2023-07-01T20:09:13.193Z"
   },
   {
    "duration": 6,
    "start_time": "2023-07-01T20:09:13.203Z"
   },
   {
    "duration": 78,
    "start_time": "2023-07-01T20:09:13.210Z"
   },
   {
    "duration": 1589,
    "start_time": "2023-07-01T20:12:00.225Z"
   },
   {
    "duration": 34,
    "start_time": "2023-07-01T20:12:01.817Z"
   },
   {
    "duration": 24,
    "start_time": "2023-07-01T20:12:01.853Z"
   },
   {
    "duration": 30,
    "start_time": "2023-07-01T20:12:01.879Z"
   },
   {
    "duration": 67,
    "start_time": "2023-07-01T20:12:01.911Z"
   },
   {
    "duration": 802,
    "start_time": "2023-07-01T20:12:01.979Z"
   },
   {
    "duration": 4,
    "start_time": "2023-07-01T20:12:02.784Z"
   },
   {
    "duration": 8,
    "start_time": "2023-07-01T20:12:02.790Z"
   },
   {
    "duration": 11,
    "start_time": "2023-07-01T20:12:02.800Z"
   },
   {
    "duration": 45,
    "start_time": "2023-07-01T20:12:02.814Z"
   },
   {
    "duration": 42,
    "start_time": "2023-07-01T20:12:02.861Z"
   },
   {
    "duration": 27,
    "start_time": "2023-07-01T20:12:02.964Z"
   },
   {
    "duration": 9,
    "start_time": "2023-07-01T20:12:02.996Z"
   },
   {
    "duration": 11,
    "start_time": "2023-07-01T20:12:03.007Z"
   },
   {
    "duration": 1495,
    "start_time": "2023-07-01T20:18:59.076Z"
   },
   {
    "duration": 31,
    "start_time": "2023-07-01T20:19:00.573Z"
   },
   {
    "duration": 25,
    "start_time": "2023-07-01T20:19:00.606Z"
   },
   {
    "duration": 51,
    "start_time": "2023-07-01T20:19:00.632Z"
   },
   {
    "duration": 37,
    "start_time": "2023-07-01T20:19:00.685Z"
   },
   {
    "duration": 855,
    "start_time": "2023-07-01T20:19:00.724Z"
   },
   {
    "duration": 4,
    "start_time": "2023-07-01T20:19:01.581Z"
   },
   {
    "duration": 32,
    "start_time": "2023-07-01T20:19:01.586Z"
   },
   {
    "duration": 17,
    "start_time": "2023-07-01T20:19:01.620Z"
   },
   {
    "duration": 36,
    "start_time": "2023-07-01T20:19:01.639Z"
   },
   {
    "duration": 104,
    "start_time": "2023-07-01T20:19:01.677Z"
   },
   {
    "duration": 88,
    "start_time": "2023-07-01T20:19:01.783Z"
   },
   {
    "duration": 14,
    "start_time": "2023-07-01T20:19:01.873Z"
   },
   {
    "duration": 31,
    "start_time": "2023-07-01T20:19:01.891Z"
   },
   {
    "duration": 29,
    "start_time": "2023-07-01T20:19:01.925Z"
   },
   {
    "duration": 1486,
    "start_time": "2023-07-01T20:21:50.205Z"
   },
   {
    "duration": 29,
    "start_time": "2023-07-01T20:21:51.694Z"
   },
   {
    "duration": 13,
    "start_time": "2023-07-01T20:21:51.725Z"
   },
   {
    "duration": 36,
    "start_time": "2023-07-01T20:21:51.739Z"
   },
   {
    "duration": 23,
    "start_time": "2023-07-01T20:21:51.777Z"
   },
   {
    "duration": 772,
    "start_time": "2023-07-01T20:21:51.802Z"
   },
   {
    "duration": 4,
    "start_time": "2023-07-01T20:21:52.576Z"
   },
   {
    "duration": 10,
    "start_time": "2023-07-01T20:21:52.582Z"
   },
   {
    "duration": 10,
    "start_time": "2023-07-01T20:21:52.594Z"
   },
   {
    "duration": 7,
    "start_time": "2023-07-01T20:21:52.606Z"
   },
   {
    "duration": 61,
    "start_time": "2023-07-01T20:21:52.614Z"
   },
   {
    "duration": 80,
    "start_time": "2023-07-01T20:21:52.683Z"
   },
   {
    "duration": 11,
    "start_time": "2023-07-01T20:21:52.766Z"
   },
   {
    "duration": 6,
    "start_time": "2023-07-01T20:21:52.779Z"
   },
   {
    "duration": 11,
    "start_time": "2023-07-01T20:21:52.786Z"
   },
   {
    "duration": 154,
    "start_time": "2023-07-01T20:21:52.799Z"
   },
   {
    "duration": 0,
    "start_time": "2023-07-01T20:21:52.955Z"
   },
   {
    "duration": 1445,
    "start_time": "2023-07-01T20:22:20.812Z"
   },
   {
    "duration": 31,
    "start_time": "2023-07-01T20:22:22.261Z"
   },
   {
    "duration": 13,
    "start_time": "2023-07-01T20:22:22.294Z"
   },
   {
    "duration": 23,
    "start_time": "2023-07-01T20:22:22.308Z"
   },
   {
    "duration": 39,
    "start_time": "2023-07-01T20:22:22.333Z"
   },
   {
    "duration": 770,
    "start_time": "2023-07-01T20:22:22.376Z"
   },
   {
    "duration": 19,
    "start_time": "2023-07-01T20:22:23.148Z"
   },
   {
    "duration": 9,
    "start_time": "2023-07-01T20:22:23.171Z"
   },
   {
    "duration": 16,
    "start_time": "2023-07-01T20:22:23.182Z"
   },
   {
    "duration": 31,
    "start_time": "2023-07-01T20:22:23.199Z"
   },
   {
    "duration": 37,
    "start_time": "2023-07-01T20:22:23.232Z"
   },
   {
    "duration": 94,
    "start_time": "2023-07-01T20:22:23.275Z"
   },
   {
    "duration": 8,
    "start_time": "2023-07-01T20:22:23.372Z"
   },
   {
    "duration": 17,
    "start_time": "2023-07-01T20:22:23.384Z"
   },
   {
    "duration": 37,
    "start_time": "2023-07-01T20:22:23.404Z"
   },
   {
    "duration": 144,
    "start_time": "2023-07-01T20:22:23.444Z"
   },
   {
    "duration": 0,
    "start_time": "2023-07-01T20:22:23.589Z"
   },
   {
    "duration": 1603,
    "start_time": "2023-07-01T20:22:37.688Z"
   },
   {
    "duration": 29,
    "start_time": "2023-07-01T20:22:39.294Z"
   },
   {
    "duration": 14,
    "start_time": "2023-07-01T20:22:39.324Z"
   },
   {
    "duration": 21,
    "start_time": "2023-07-01T20:22:39.340Z"
   },
   {
    "duration": 30,
    "start_time": "2023-07-01T20:22:39.363Z"
   },
   {
    "duration": 854,
    "start_time": "2023-07-01T20:22:39.394Z"
   },
   {
    "duration": 4,
    "start_time": "2023-07-01T20:22:40.250Z"
   },
   {
    "duration": 32,
    "start_time": "2023-07-01T20:22:40.255Z"
   },
   {
    "duration": 13,
    "start_time": "2023-07-01T20:22:40.289Z"
   },
   {
    "duration": 6,
    "start_time": "2023-07-01T20:22:40.304Z"
   },
   {
    "duration": 50,
    "start_time": "2023-07-01T20:22:40.312Z"
   },
   {
    "duration": 14,
    "start_time": "2023-07-01T20:22:40.364Z"
   },
   {
    "duration": 5,
    "start_time": "2023-07-01T20:22:40.381Z"
   },
   {
    "duration": 81,
    "start_time": "2023-07-01T20:22:40.389Z"
   },
   {
    "duration": 10,
    "start_time": "2023-07-01T20:22:40.471Z"
   },
   {
    "duration": 122,
    "start_time": "2023-07-01T20:22:40.483Z"
   },
   {
    "duration": 0,
    "start_time": "2023-07-01T20:22:40.607Z"
   },
   {
    "duration": 118,
    "start_time": "2023-07-01T20:24:15.327Z"
   },
   {
    "duration": 1432,
    "start_time": "2023-07-01T20:24:41.695Z"
   },
   {
    "duration": 29,
    "start_time": "2023-07-01T20:24:43.129Z"
   },
   {
    "duration": 15,
    "start_time": "2023-07-01T20:24:43.164Z"
   },
   {
    "duration": 15,
    "start_time": "2023-07-01T20:24:43.181Z"
   },
   {
    "duration": 47,
    "start_time": "2023-07-01T20:24:43.197Z"
   },
   {
    "duration": 730,
    "start_time": "2023-07-01T20:24:43.246Z"
   },
   {
    "duration": 4,
    "start_time": "2023-07-01T20:24:43.979Z"
   },
   {
    "duration": 9,
    "start_time": "2023-07-01T20:24:43.986Z"
   },
   {
    "duration": 17,
    "start_time": "2023-07-01T20:24:43.997Z"
   },
   {
    "duration": 9,
    "start_time": "2023-07-01T20:24:44.017Z"
   },
   {
    "duration": 72,
    "start_time": "2023-07-01T20:24:44.028Z"
   },
   {
    "duration": 15,
    "start_time": "2023-07-01T20:24:44.162Z"
   },
   {
    "duration": 5,
    "start_time": "2023-07-01T20:24:44.180Z"
   },
   {
    "duration": 9,
    "start_time": "2023-07-01T20:24:44.186Z"
   },
   {
    "duration": 20,
    "start_time": "2023-07-01T20:24:44.198Z"
   },
   {
    "duration": 117,
    "start_time": "2023-07-01T20:24:44.220Z"
   },
   {
    "duration": 0,
    "start_time": "2023-07-01T20:24:44.339Z"
   },
   {
    "duration": 117,
    "start_time": "2023-07-01T20:29:28.885Z"
   },
   {
    "duration": 4,
    "start_time": "2023-07-01T20:30:14.045Z"
   },
   {
    "duration": 3,
    "start_time": "2023-07-01T20:30:34.500Z"
   },
   {
    "duration": 5,
    "start_time": "2023-07-01T20:31:42.674Z"
   },
   {
    "duration": 3,
    "start_time": "2023-07-01T20:37:02.773Z"
   },
   {
    "duration": 4,
    "start_time": "2023-07-01T20:37:18.878Z"
   },
   {
    "duration": 1371,
    "start_time": "2023-07-01T21:01:20.823Z"
   },
   {
    "duration": 28,
    "start_time": "2023-07-01T21:01:22.196Z"
   },
   {
    "duration": 14,
    "start_time": "2023-07-01T21:01:22.226Z"
   },
   {
    "duration": 13,
    "start_time": "2023-07-01T21:01:22.242Z"
   },
   {
    "duration": 29,
    "start_time": "2023-07-01T21:01:22.256Z"
   },
   {
    "duration": 718,
    "start_time": "2023-07-01T21:01:22.286Z"
   },
   {
    "duration": 4,
    "start_time": "2023-07-01T21:01:23.007Z"
   },
   {
    "duration": 13,
    "start_time": "2023-07-01T21:01:23.013Z"
   },
   {
    "duration": 22,
    "start_time": "2023-07-01T21:01:23.027Z"
   },
   {
    "duration": 19,
    "start_time": "2023-07-01T21:01:23.067Z"
   },
   {
    "duration": 11,
    "start_time": "2023-07-01T21:01:23.088Z"
   },
   {
    "duration": 75,
    "start_time": "2023-07-01T21:01:23.101Z"
   },
   {
    "duration": 86,
    "start_time": "2023-07-01T21:01:23.178Z"
   },
   {
    "duration": 121,
    "start_time": "2023-07-01T21:01:23.265Z"
   },
   {
    "duration": 155,
    "start_time": "2023-07-01T21:01:23.388Z"
   },
   {
    "duration": 11,
    "start_time": "2023-07-01T21:01:23.545Z"
   }
  ],
  "kernelspec": {
   "display_name": "Python 3 (ipykernel)",
   "language": "python",
   "name": "python3"
  },
  "language_info": {
   "codemirror_mode": {
    "name": "ipython",
    "version": 3
   },
   "file_extension": ".py",
   "mimetype": "text/x-python",
   "name": "python",
   "nbconvert_exporter": "python",
   "pygments_lexer": "ipython3",
   "version": "3.9.5"
  },
  "toc": {
   "base_numbering": 1,
   "nav_menu": {},
   "number_sections": true,
   "sideBar": true,
   "skip_h1_title": true,
   "title_cell": "Содержание",
   "title_sidebar": "Contents",
   "toc_cell": true,
   "toc_position": {},
   "toc_section_display": true,
   "toc_window_display": true
  }
 },
 "nbformat": 4,
 "nbformat_minor": 2
}
