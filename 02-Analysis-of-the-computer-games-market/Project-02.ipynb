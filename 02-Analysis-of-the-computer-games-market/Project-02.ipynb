{
 "cells": [
  {
   "cell_type": "markdown",
   "metadata": {},
   "source": [
    "# Исследование рынка компьютерных игр"
   ]
  },
  {
   "cell_type": "markdown",
   "metadata": {},
   "source": [
    "***Описание проекта***\n",
    "\n",
    "Вы работаете в интернет-магазине «Стримчик», который продаёт по всему миру компьютерные игры. Из открытых источников доступны исторические данные о продажах игр, оценки пользователей и экспертов, жанры и платформы (например, Xbox или PlayStation). Вам нужно выявить определяющие успешность игры закономерности. Это позволит сделать ставку на потенциально популярный продукт и спланировать рекламные кампании.\n",
    "\n",
    "Перед вами данные до 2016 года. Представим, что сейчас декабрь 2016 г., и вы планируете кампанию на 2017-й. Нужно отработать принцип работы с данными. Неважно, прогнозируете ли вы продажи на 2017 год по данным 2016-го или же 2027-й — по данным 2026 года.\n",
    "\n",
    "В наборе данных попадается аббревиатура ESRB (Entertainment Software Rating Board) — это ассоциация, определяющая возрастной рейтинг компьютерных игр. ESRB оценивает игровой контент и присваивает ему подходящую возрастную категорию, например, «Для взрослых», «Для детей младшего возраста» или «Для подростков»."
   ]
  },
  {
   "cell_type": "markdown",
   "metadata": {},
   "source": [
    "***Описание данных***\n",
    "\n",
    "    Name — название игры\n",
    "    Platform — платформа\n",
    "    Year_of_Release — год выпуска\n",
    "    Genre — жанр игры\n",
    "    NA_sales — продажи в Северной Америке (миллионы проданных копий)\n",
    "    EU_sales — продажи в Европе (миллионы проданных копий)\n",
    "    JP_sales — продажи в Японии (миллионы проданных копий)\n",
    "    Other_sales — продажи в других странах (миллионы проданных копий)\n",
    "    Critic_Score — оценка критиков (максимум 100)\n",
    "    User_Score — оценка пользователей (максимум 10)\n",
    "    Rating — рейтинг от организации ESRB (англ. Entertainment Software Rating Board). Эта ассоциация определяет рейтинг компьютерных игр и присваивает им подходящую возрастную категорию."
   ]
  },
  {
   "cell_type": "markdown",
   "metadata": {},
   "source": [
    "### Откройте файл с данными и изучите общую информацию"
   ]
  },
  {
   "cell_type": "code",
   "execution_count": 1,
   "metadata": {},
   "outputs": [],
   "source": [
    "# Импортируем библиотеки\n",
    "import pandas as pd\n",
    "import numpy as np\n",
    "import matplotlib.pyplot as plt\n",
    "import seaborn as sns\n",
    "import scipy.stats as st"
   ]
  },
  {
   "cell_type": "code",
   "execution_count": 2,
   "metadata": {},
   "outputs": [],
   "source": [
    "# Откроем файл и запишем датасет в переменную data\n",
    "try:\n",
    "    data = pd.read_csv('/datasets/games.csv')\n",
    "except:\n",
    "    data = pd.read_csv('games.csv')"
   ]
  },
  {
   "cell_type": "code",
   "execution_count": 3,
   "metadata": {},
   "outputs": [
    {
     "data": {
      "text/html": [
       "<div>\n",
       "<style scoped>\n",
       "    .dataframe tbody tr th:only-of-type {\n",
       "        vertical-align: middle;\n",
       "    }\n",
       "\n",
       "    .dataframe tbody tr th {\n",
       "        vertical-align: top;\n",
       "    }\n",
       "\n",
       "    .dataframe thead th {\n",
       "        text-align: right;\n",
       "    }\n",
       "</style>\n",
       "<table border=\"1\" class=\"dataframe\">\n",
       "  <thead>\n",
       "    <tr style=\"text-align: right;\">\n",
       "      <th></th>\n",
       "      <th>Name</th>\n",
       "      <th>Platform</th>\n",
       "      <th>Year_of_Release</th>\n",
       "      <th>Genre</th>\n",
       "      <th>NA_sales</th>\n",
       "      <th>EU_sales</th>\n",
       "      <th>JP_sales</th>\n",
       "      <th>Other_sales</th>\n",
       "      <th>Critic_Score</th>\n",
       "      <th>User_Score</th>\n",
       "      <th>Rating</th>\n",
       "    </tr>\n",
       "  </thead>\n",
       "  <tbody>\n",
       "    <tr>\n",
       "      <th>0</th>\n",
       "      <td>Wii Sports</td>\n",
       "      <td>Wii</td>\n",
       "      <td>2006.0</td>\n",
       "      <td>Sports</td>\n",
       "      <td>41.36</td>\n",
       "      <td>28.96</td>\n",
       "      <td>3.77</td>\n",
       "      <td>8.45</td>\n",
       "      <td>76.0</td>\n",
       "      <td>8</td>\n",
       "      <td>E</td>\n",
       "    </tr>\n",
       "    <tr>\n",
       "      <th>1</th>\n",
       "      <td>Super Mario Bros.</td>\n",
       "      <td>NES</td>\n",
       "      <td>1985.0</td>\n",
       "      <td>Platform</td>\n",
       "      <td>29.08</td>\n",
       "      <td>3.58</td>\n",
       "      <td>6.81</td>\n",
       "      <td>0.77</td>\n",
       "      <td>NaN</td>\n",
       "      <td>NaN</td>\n",
       "      <td>NaN</td>\n",
       "    </tr>\n",
       "    <tr>\n",
       "      <th>2</th>\n",
       "      <td>Mario Kart Wii</td>\n",
       "      <td>Wii</td>\n",
       "      <td>2008.0</td>\n",
       "      <td>Racing</td>\n",
       "      <td>15.68</td>\n",
       "      <td>12.76</td>\n",
       "      <td>3.79</td>\n",
       "      <td>3.29</td>\n",
       "      <td>82.0</td>\n",
       "      <td>8.3</td>\n",
       "      <td>E</td>\n",
       "    </tr>\n",
       "    <tr>\n",
       "      <th>3</th>\n",
       "      <td>Wii Sports Resort</td>\n",
       "      <td>Wii</td>\n",
       "      <td>2009.0</td>\n",
       "      <td>Sports</td>\n",
       "      <td>15.61</td>\n",
       "      <td>10.93</td>\n",
       "      <td>3.28</td>\n",
       "      <td>2.95</td>\n",
       "      <td>80.0</td>\n",
       "      <td>8</td>\n",
       "      <td>E</td>\n",
       "    </tr>\n",
       "    <tr>\n",
       "      <th>4</th>\n",
       "      <td>Pokemon Red/Pokemon Blue</td>\n",
       "      <td>GB</td>\n",
       "      <td>1996.0</td>\n",
       "      <td>Role-Playing</td>\n",
       "      <td>11.27</td>\n",
       "      <td>8.89</td>\n",
       "      <td>10.22</td>\n",
       "      <td>1.00</td>\n",
       "      <td>NaN</td>\n",
       "      <td>NaN</td>\n",
       "      <td>NaN</td>\n",
       "    </tr>\n",
       "    <tr>\n",
       "      <th>5</th>\n",
       "      <td>Tetris</td>\n",
       "      <td>GB</td>\n",
       "      <td>1989.0</td>\n",
       "      <td>Puzzle</td>\n",
       "      <td>23.20</td>\n",
       "      <td>2.26</td>\n",
       "      <td>4.22</td>\n",
       "      <td>0.58</td>\n",
       "      <td>NaN</td>\n",
       "      <td>NaN</td>\n",
       "      <td>NaN</td>\n",
       "    </tr>\n",
       "    <tr>\n",
       "      <th>6</th>\n",
       "      <td>New Super Mario Bros.</td>\n",
       "      <td>DS</td>\n",
       "      <td>2006.0</td>\n",
       "      <td>Platform</td>\n",
       "      <td>11.28</td>\n",
       "      <td>9.14</td>\n",
       "      <td>6.50</td>\n",
       "      <td>2.88</td>\n",
       "      <td>89.0</td>\n",
       "      <td>8.5</td>\n",
       "      <td>E</td>\n",
       "    </tr>\n",
       "    <tr>\n",
       "      <th>7</th>\n",
       "      <td>Wii Play</td>\n",
       "      <td>Wii</td>\n",
       "      <td>2006.0</td>\n",
       "      <td>Misc</td>\n",
       "      <td>13.96</td>\n",
       "      <td>9.18</td>\n",
       "      <td>2.93</td>\n",
       "      <td>2.84</td>\n",
       "      <td>58.0</td>\n",
       "      <td>6.6</td>\n",
       "      <td>E</td>\n",
       "    </tr>\n",
       "    <tr>\n",
       "      <th>8</th>\n",
       "      <td>New Super Mario Bros. Wii</td>\n",
       "      <td>Wii</td>\n",
       "      <td>2009.0</td>\n",
       "      <td>Platform</td>\n",
       "      <td>14.44</td>\n",
       "      <td>6.94</td>\n",
       "      <td>4.70</td>\n",
       "      <td>2.24</td>\n",
       "      <td>87.0</td>\n",
       "      <td>8.4</td>\n",
       "      <td>E</td>\n",
       "    </tr>\n",
       "    <tr>\n",
       "      <th>9</th>\n",
       "      <td>Duck Hunt</td>\n",
       "      <td>NES</td>\n",
       "      <td>1984.0</td>\n",
       "      <td>Shooter</td>\n",
       "      <td>26.93</td>\n",
       "      <td>0.63</td>\n",
       "      <td>0.28</td>\n",
       "      <td>0.47</td>\n",
       "      <td>NaN</td>\n",
       "      <td>NaN</td>\n",
       "      <td>NaN</td>\n",
       "    </tr>\n",
       "  </tbody>\n",
       "</table>\n",
       "</div>"
      ],
      "text/plain": [
       "                        Name Platform  Year_of_Release         Genre  \\\n",
       "0                 Wii Sports      Wii           2006.0        Sports   \n",
       "1          Super Mario Bros.      NES           1985.0      Platform   \n",
       "2             Mario Kart Wii      Wii           2008.0        Racing   \n",
       "3          Wii Sports Resort      Wii           2009.0        Sports   \n",
       "4   Pokemon Red/Pokemon Blue       GB           1996.0  Role-Playing   \n",
       "5                     Tetris       GB           1989.0        Puzzle   \n",
       "6      New Super Mario Bros.       DS           2006.0      Platform   \n",
       "7                   Wii Play      Wii           2006.0          Misc   \n",
       "8  New Super Mario Bros. Wii      Wii           2009.0      Platform   \n",
       "9                  Duck Hunt      NES           1984.0       Shooter   \n",
       "\n",
       "   NA_sales  EU_sales  JP_sales  Other_sales  Critic_Score User_Score Rating  \n",
       "0     41.36     28.96      3.77         8.45          76.0          8      E  \n",
       "1     29.08      3.58      6.81         0.77           NaN        NaN    NaN  \n",
       "2     15.68     12.76      3.79         3.29          82.0        8.3      E  \n",
       "3     15.61     10.93      3.28         2.95          80.0          8      E  \n",
       "4     11.27      8.89     10.22         1.00           NaN        NaN    NaN  \n",
       "5     23.20      2.26      4.22         0.58           NaN        NaN    NaN  \n",
       "6     11.28      9.14      6.50         2.88          89.0        8.5      E  \n",
       "7     13.96      9.18      2.93         2.84          58.0        6.6      E  \n",
       "8     14.44      6.94      4.70         2.24          87.0        8.4      E  \n",
       "9     26.93      0.63      0.28         0.47           NaN        NaN    NaN  "
      ]
     },
     "execution_count": 3,
     "metadata": {},
     "output_type": "execute_result"
    }
   ],
   "source": [
    "# Посмотрим первые 10 строк\n",
    "data.head(10)"
   ]
  },
  {
   "cell_type": "code",
   "execution_count": 4,
   "metadata": {},
   "outputs": [
    {
     "name": "stdout",
     "output_type": "stream",
     "text": [
      "<class 'pandas.core.frame.DataFrame'>\n",
      "RangeIndex: 16715 entries, 0 to 16714\n",
      "Data columns (total 11 columns):\n",
      " #   Column           Non-Null Count  Dtype  \n",
      "---  ------           --------------  -----  \n",
      " 0   Name             16713 non-null  object \n",
      " 1   Platform         16715 non-null  object \n",
      " 2   Year_of_Release  16446 non-null  float64\n",
      " 3   Genre            16713 non-null  object \n",
      " 4   NA_sales         16715 non-null  float64\n",
      " 5   EU_sales         16715 non-null  float64\n",
      " 6   JP_sales         16715 non-null  float64\n",
      " 7   Other_sales      16715 non-null  float64\n",
      " 8   Critic_Score     8137 non-null   float64\n",
      " 9   User_Score       10014 non-null  object \n",
      " 10  Rating           9949 non-null   object \n",
      "dtypes: float64(6), object(5)\n",
      "memory usage: 1.4+ MB\n"
     ]
    }
   ],
   "source": [
    "# Выведем общую информацию о датафрейме\n",
    "data.info()"
   ]
  },
  {
   "cell_type": "code",
   "execution_count": 5,
   "metadata": {},
   "outputs": [
    {
     "data": {
      "text/html": [
       "<div>\n",
       "<style scoped>\n",
       "    .dataframe tbody tr th:only-of-type {\n",
       "        vertical-align: middle;\n",
       "    }\n",
       "\n",
       "    .dataframe tbody tr th {\n",
       "        vertical-align: top;\n",
       "    }\n",
       "\n",
       "    .dataframe thead th {\n",
       "        text-align: right;\n",
       "    }\n",
       "</style>\n",
       "<table border=\"1\" class=\"dataframe\">\n",
       "  <thead>\n",
       "    <tr style=\"text-align: right;\">\n",
       "      <th></th>\n",
       "      <th>Year_of_Release</th>\n",
       "      <th>NA_sales</th>\n",
       "      <th>EU_sales</th>\n",
       "      <th>JP_sales</th>\n",
       "      <th>Other_sales</th>\n",
       "      <th>Critic_Score</th>\n",
       "    </tr>\n",
       "  </thead>\n",
       "  <tbody>\n",
       "    <tr>\n",
       "      <th>count</th>\n",
       "      <td>16446.000000</td>\n",
       "      <td>16715.000000</td>\n",
       "      <td>16715.000000</td>\n",
       "      <td>16715.000000</td>\n",
       "      <td>16715.000000</td>\n",
       "      <td>8137.000000</td>\n",
       "    </tr>\n",
       "    <tr>\n",
       "      <th>mean</th>\n",
       "      <td>2006.484616</td>\n",
       "      <td>0.263377</td>\n",
       "      <td>0.145060</td>\n",
       "      <td>0.077617</td>\n",
       "      <td>0.047342</td>\n",
       "      <td>68.967679</td>\n",
       "    </tr>\n",
       "    <tr>\n",
       "      <th>std</th>\n",
       "      <td>5.877050</td>\n",
       "      <td>0.813604</td>\n",
       "      <td>0.503339</td>\n",
       "      <td>0.308853</td>\n",
       "      <td>0.186731</td>\n",
       "      <td>13.938165</td>\n",
       "    </tr>\n",
       "    <tr>\n",
       "      <th>min</th>\n",
       "      <td>1980.000000</td>\n",
       "      <td>0.000000</td>\n",
       "      <td>0.000000</td>\n",
       "      <td>0.000000</td>\n",
       "      <td>0.000000</td>\n",
       "      <td>13.000000</td>\n",
       "    </tr>\n",
       "    <tr>\n",
       "      <th>25%</th>\n",
       "      <td>2003.000000</td>\n",
       "      <td>0.000000</td>\n",
       "      <td>0.000000</td>\n",
       "      <td>0.000000</td>\n",
       "      <td>0.000000</td>\n",
       "      <td>60.000000</td>\n",
       "    </tr>\n",
       "    <tr>\n",
       "      <th>50%</th>\n",
       "      <td>2007.000000</td>\n",
       "      <td>0.080000</td>\n",
       "      <td>0.020000</td>\n",
       "      <td>0.000000</td>\n",
       "      <td>0.010000</td>\n",
       "      <td>71.000000</td>\n",
       "    </tr>\n",
       "    <tr>\n",
       "      <th>75%</th>\n",
       "      <td>2010.000000</td>\n",
       "      <td>0.240000</td>\n",
       "      <td>0.110000</td>\n",
       "      <td>0.040000</td>\n",
       "      <td>0.030000</td>\n",
       "      <td>79.000000</td>\n",
       "    </tr>\n",
       "    <tr>\n",
       "      <th>max</th>\n",
       "      <td>2016.000000</td>\n",
       "      <td>41.360000</td>\n",
       "      <td>28.960000</td>\n",
       "      <td>10.220000</td>\n",
       "      <td>10.570000</td>\n",
       "      <td>98.000000</td>\n",
       "    </tr>\n",
       "  </tbody>\n",
       "</table>\n",
       "</div>"
      ],
      "text/plain": [
       "       Year_of_Release      NA_sales      EU_sales      JP_sales  \\\n",
       "count     16446.000000  16715.000000  16715.000000  16715.000000   \n",
       "mean       2006.484616      0.263377      0.145060      0.077617   \n",
       "std           5.877050      0.813604      0.503339      0.308853   \n",
       "min        1980.000000      0.000000      0.000000      0.000000   \n",
       "25%        2003.000000      0.000000      0.000000      0.000000   \n",
       "50%        2007.000000      0.080000      0.020000      0.000000   \n",
       "75%        2010.000000      0.240000      0.110000      0.040000   \n",
       "max        2016.000000     41.360000     28.960000     10.220000   \n",
       "\n",
       "        Other_sales  Critic_Score  \n",
       "count  16715.000000   8137.000000  \n",
       "mean       0.047342     68.967679  \n",
       "std        0.186731     13.938165  \n",
       "min        0.000000     13.000000  \n",
       "25%        0.000000     60.000000  \n",
       "50%        0.010000     71.000000  \n",
       "75%        0.030000     79.000000  \n",
       "max       10.570000     98.000000  "
      ]
     },
     "execution_count": 5,
     "metadata": {},
     "output_type": "execute_result"
    }
   ],
   "source": [
    "data.describe()"
   ]
  },
  {
   "cell_type": "code",
   "execution_count": 6,
   "metadata": {},
   "outputs": [
    {
     "data": {
      "image/png": "[encoded data removed]",
      "text/plain": [
       "<Figure size 1440x1440 with 6 Axes>"
      ]
     },
     "metadata": {
      "needs_background": "light"
     },
     "output_type": "display_data"
    }
   ],
   "source": [
    "# Построим общую гистограмму для всех числовых столбцов таблицы\n",
    "data.hist(figsize=(20, 20))\n",
    "plt.show()"
   ]
  },
  {
   "cell_type": "markdown",
   "metadata": {},
   "source": [
    "***Вывод:*** Файл содержит 16715 записей. Количество значений в столбцах различается, что говорит о том, что есть пропущенные значения. Присутствуют некорректные типы данных и наименования столбцов. Построена общая гистограмма для всех числовых столбцов таблицы."
   ]
  },
  {
   "cell_type": "markdown",
   "metadata": {},
   "source": [
    "### Предобработка данных"
   ]
  },
  {
   "cell_type": "code",
   "execution_count": 7,
   "metadata": {},
   "outputs": [
    {
     "data": {
      "text/plain": [
       "Name                  2\n",
       "Platform              0\n",
       "Year_of_Release     269\n",
       "Genre                 2\n",
       "NA_sales              0\n",
       "EU_sales              0\n",
       "JP_sales              0\n",
       "Other_sales           0\n",
       "Critic_Score       8578\n",
       "User_Score         6701\n",
       "Rating             6766\n",
       "dtype: int64"
      ]
     },
     "execution_count": 7,
     "metadata": {},
     "output_type": "execute_result"
    }
   ],
   "source": [
    "# Выведем количество пропущенных значений\n",
    "data.isnull().sum()"
   ]
  },
  {
   "cell_type": "code",
   "execution_count": 8,
   "metadata": {},
   "outputs": [
    {
     "data": {
      "text/plain": [
       "Index(['name', 'platform', 'year_of_release', 'genre', 'na_sales', 'eu_sales',\n",
       "       'jp_sales', 'other_sales', 'critic_score', 'user_score', 'rating'],\n",
       "      dtype='object')"
      ]
     },
     "execution_count": 8,
     "metadata": {},
     "output_type": "execute_result"
    }
   ],
   "source": [
    "# Переименуем столбцы\n",
    "data = data.rename(columns={'Name': 'name', \n",
    "                            'Platform': 'platform', \n",
    "                            'Year_of_Release': 'year_of_release',\n",
    "                            'Genre': 'genre',\n",
    "                            'NA_sales': 'na_sales',\n",
    "                            'EU_sales': 'eu_sales',\n",
    "                            'JP_sales': 'jp_sales',\n",
    "                            'Other_sales': 'other_sales',\n",
    "                            'Critic_Score': 'critic_score',\n",
    "                            'User_Score': 'user_score',\n",
    "                            'Rating': 'rating'\n",
    "                           })\n",
    "\n",
    "# Проверим результат\n",
    "data.columns"
   ]
  },
  {
   "cell_type": "markdown",
   "metadata": {},
   "source": [
    "***name***"
   ]
  },
  {
   "cell_type": "code",
   "execution_count": 9,
   "metadata": {},
   "outputs": [
    {
     "data": {
      "text/plain": [
       "2"
      ]
     },
     "execution_count": 9,
     "metadata": {},
     "output_type": "execute_result"
    }
   ],
   "source": [
    "# Выведем количество пропущеных значений в столбце name\n",
    "data['name'].isnull().sum()"
   ]
  },
  {
   "cell_type": "markdown",
   "metadata": {},
   "source": [
    "Таких пропущенных значений всего 2. Восстановить название игры практически невозможно, поэтому просто удалим эти записи."
   ]
  },
  {
   "cell_type": "code",
   "execution_count": 10,
   "metadata": {},
   "outputs": [],
   "source": [
    "# Удалим записи, в котрых отсутствует название игры\n",
    "data.dropna(subset=['name'], inplace=True)"
   ]
  },
  {
   "cell_type": "code",
   "execution_count": 11,
   "metadata": {},
   "outputs": [
    {
     "data": {
      "text/plain": [
       "0"
      ]
     },
     "execution_count": 11,
     "metadata": {},
     "output_type": "execute_result"
    }
   ],
   "source": [
    "# Проверим результат\n",
    "data['name'].isnull().sum()"
   ]
  },
  {
   "cell_type": "markdown",
   "metadata": {},
   "source": [
    "***year_of_release***"
   ]
  },
  {
   "cell_type": "code",
   "execution_count": 12,
   "metadata": {},
   "outputs": [
    {
     "data": {
      "text/plain": [
       "269"
      ]
     },
     "execution_count": 12,
     "metadata": {},
     "output_type": "execute_result"
    }
   ],
   "source": [
    "# Выведем количество пропущеных значений в столбце year_of_release\n",
    "data['year_of_release'].isnull().sum()"
   ]
  },
  {
   "cell_type": "code",
   "execution_count": 13,
   "metadata": {},
   "outputs": [
    {
     "data": {
      "text/plain": [
       "array([2006., 1985., 2008., 2009., 1996., 1989., 1984., 2005., 1999.,\n",
       "       2007., 2010., 2013., 2004., 1990., 1988., 2002., 2001., 2011.,\n",
       "       1998., 2015., 2012., 2014., 1992., 1997., 1993., 1994., 1982.,\n",
       "       2016., 2003., 1986., 2000.,   nan, 1995., 1991., 1981., 1987.,\n",
       "       1980., 1983.])"
      ]
     },
     "execution_count": 13,
     "metadata": {},
     "output_type": "execute_result"
    }
   ],
   "source": [
    "# Посмотрим на сами значения\n",
    "data['year_of_release'].unique()"
   ]
  },
  {
   "cell_type": "markdown",
   "metadata": {},
   "source": [
    "Таких пропущенных значений всего 269, это примерно 1,6% от общего количества. Восстановить год релиза игры возможно по ее названию, но это придется сделать для каждой записи вручную. Что в рамках данного исследования слишком трудозатратно и не имеет смысла. Поэтому просто удалим эти значения."
   ]
  },
  {
   "cell_type": "code",
   "execution_count": 14,
   "metadata": {},
   "outputs": [],
   "source": [
    "# Удалим записи, в котрых отсутствует год релиза\n",
    "data.dropna(subset=['year_of_release'], inplace=True)"
   ]
  },
  {
   "cell_type": "code",
   "execution_count": 15,
   "metadata": {},
   "outputs": [
    {
     "data": {
      "text/plain": [
       "0"
      ]
     },
     "execution_count": 15,
     "metadata": {},
     "output_type": "execute_result"
    }
   ],
   "source": [
    "# Проверим результат\n",
    "data['year_of_release'].isnull().sum()"
   ]
  },
  {
   "cell_type": "markdown",
   "metadata": {},
   "source": [
    "В датасете указан только год выхода игры, а день и месяц нам неизвестен. Поэтому, изменим тип данных на int."
   ]
  },
  {
   "cell_type": "code",
   "execution_count": 16,
   "metadata": {},
   "outputs": [],
   "source": [
    "# Изменим типы данных\n",
    "data['year_of_release'] = data['year_of_release'].astype('int')"
   ]
  },
  {
   "cell_type": "markdown",
   "metadata": {},
   "source": [
    "***genre***"
   ]
  },
  {
   "cell_type": "code",
   "execution_count": 17,
   "metadata": {},
   "outputs": [
    {
     "data": {
      "text/plain": [
       "0"
      ]
     },
     "execution_count": 17,
     "metadata": {},
     "output_type": "execute_result"
    }
   ],
   "source": [
    "# Выведем количество пропущеных значений в столбце genre\n",
    "data['name'].isnull().sum()"
   ]
  },
  {
   "cell_type": "markdown",
   "metadata": {},
   "source": [
    "***critic_score***"
   ]
  },
  {
   "cell_type": "code",
   "execution_count": 18,
   "metadata": {},
   "outputs": [
    {
     "data": {
      "text/plain": [
       "8461"
      ]
     },
     "execution_count": 18,
     "metadata": {},
     "output_type": "execute_result"
    }
   ],
   "source": [
    "# Выведем количество пропущеных значений в столбце critic_score\n",
    "data['critic_score'].isnull().sum()"
   ]
  },
  {
   "cell_type": "code",
   "execution_count": 19,
   "metadata": {},
   "outputs": [
    {
     "data": {
      "text/plain": [
       "array([76., nan, 82., 80., 89., 58., 87., 91., 61., 97., 95., 77., 88.,\n",
       "       83., 94., 93., 85., 86., 98., 96., 90., 84., 73., 74., 78., 92.,\n",
       "       71., 72., 68., 62., 49., 67., 81., 66., 56., 79., 70., 59., 64.,\n",
       "       75., 60., 63., 69., 50., 25., 42., 44., 55., 48., 57., 29., 47.,\n",
       "       65., 54., 20., 53., 37., 38., 33., 52., 30., 32., 43., 45., 51.,\n",
       "       40., 46., 39., 34., 41., 36., 31., 27., 35., 26., 19., 28., 23.,\n",
       "       24., 21., 17., 13.])"
      ]
     },
     "execution_count": 19,
     "metadata": {},
     "output_type": "execute_result"
    }
   ],
   "source": [
    "# Посмотрим на сами значения\n",
    "data['critic_score'].unique()"
   ]
  },
  {
   "cell_type": "markdown",
   "metadata": {},
   "source": [
    "Пропуски обусловлены двумя причинами. Первая - это непопулярные и малоизвестные игры. Вторая - игры которые вышли совсем недавно и еще не получили оценок. В любом случае, каких либо оценок эти игры еще не получили. Рейтинг 0 среди уникальных значений отсутствует, поэтому можем заполннить пропуски значением 0."
   ]
  },
  {
   "cell_type": "code",
   "execution_count": 20,
   "metadata": {},
   "outputs": [],
   "source": [
    "# Заменим пропущенные значения на 0\n",
    "data['critic_score'] = data['critic_score'].fillna(0)"
   ]
  },
  {
   "cell_type": "code",
   "execution_count": 21,
   "metadata": {},
   "outputs": [],
   "source": [
    "# Изменим типы данных\n",
    "data['critic_score'] = data['critic_score'].astype('int')"
   ]
  },
  {
   "cell_type": "code",
   "execution_count": 22,
   "metadata": {},
   "outputs": [
    {
     "data": {
      "text/plain": [
       "0"
      ]
     },
     "execution_count": 22,
     "metadata": {},
     "output_type": "execute_result"
    }
   ],
   "source": [
    "# Проверим результат\n",
    "data['critic_score'].isnull().sum()"
   ]
  },
  {
   "cell_type": "code",
   "execution_count": 23,
   "metadata": {},
   "outputs": [],
   "source": [
    "# Изменим типы данных\n",
    "data['critic_score'] = data['critic_score'].astype('int')"
   ]
  },
  {
   "cell_type": "markdown",
   "metadata": {},
   "source": [
    "***user_score***"
   ]
  },
  {
   "cell_type": "code",
   "execution_count": 24,
   "metadata": {},
   "outputs": [
    {
     "data": {
      "text/plain": [
       "6605"
      ]
     },
     "execution_count": 24,
     "metadata": {},
     "output_type": "execute_result"
    }
   ],
   "source": [
    "# Выведем количество пропущеных значений в столбце user_score\n",
    "data['user_score'].isnull().sum()"
   ]
  },
  {
   "cell_type": "code",
   "execution_count": 25,
   "metadata": {},
   "outputs": [
    {
     "data": {
      "text/plain": [
       "tbd    2376\n",
       "7.8     322\n",
       "8       285\n",
       "8.2     276\n",
       "8.3     252\n",
       "       ... \n",
       "1.5       2\n",
       "1.1       2\n",
       "1.9       2\n",
       "9.7       1\n",
       "0         1\n",
       "Name: user_score, Length: 96, dtype: int64"
      ]
     },
     "execution_count": 25,
     "metadata": {},
     "output_type": "execute_result"
    }
   ],
   "source": [
    "# Посмотрим на сами значения\n",
    "data['user_score'].value_counts()"
   ]
  },
  {
   "cell_type": "markdown",
   "metadata": {},
   "source": [
    "В таблице мы видим аббривиатуру 'tbd', это означает 'to be determined'. Рейтинг будет определен позже, игра находится в стадии оценивания. По сути, это такое же пропущенное значение, как и NaN.\n",
    "\n",
    "Рейтинг 0 среди уникальных значений встречается только один раз, поэтому можем заполннить пропуски значением 0."
   ]
  },
  {
   "cell_type": "code",
   "execution_count": 26,
   "metadata": {},
   "outputs": [],
   "source": [
    "# Заменим tbd на NaN\n",
    "data.user_score.replace('tbd', np.nan, inplace=True)"
   ]
  },
  {
   "cell_type": "code",
   "execution_count": 27,
   "metadata": {},
   "outputs": [],
   "source": [
    "# Заменим пропущенные значения на 0\n",
    "data['user_score'] = data['user_score'].fillna(0)"
   ]
  },
  {
   "cell_type": "code",
   "execution_count": 28,
   "metadata": {},
   "outputs": [
    {
     "data": {
      "text/plain": [
       "0"
      ]
     },
     "execution_count": 28,
     "metadata": {},
     "output_type": "execute_result"
    }
   ],
   "source": [
    "# Проверим результат\n",
    "data['user_score'].isnull().sum()"
   ]
  },
  {
   "cell_type": "code",
   "execution_count": 29,
   "metadata": {},
   "outputs": [],
   "source": [
    "# Изменим типы данных\n",
    "data['user_score'] = data['user_score'].astype('float')"
   ]
  },
  {
   "cell_type": "markdown",
   "metadata": {},
   "source": [
    "***rating***"
   ]
  },
  {
   "cell_type": "code",
   "execution_count": 30,
   "metadata": {},
   "outputs": [
    {
     "data": {
      "text/plain": [
       "6676"
      ]
     },
     "execution_count": 30,
     "metadata": {},
     "output_type": "execute_result"
    }
   ],
   "source": [
    "# Выведем количество пропущеных значений в столбце user_score\n",
    "data['rating'].isnull().sum()"
   ]
  },
  {
   "cell_type": "code",
   "execution_count": 31,
   "metadata": {},
   "outputs": [
    {
     "data": {
      "text/plain": [
       "E       3921\n",
       "T       2905\n",
       "M       1536\n",
       "E10+    1393\n",
       "EC         8\n",
       "K-A        3\n",
       "RP         1\n",
       "AO         1\n",
       "Name: rating, dtype: int64"
      ]
     },
     "execution_count": 31,
     "metadata": {},
     "output_type": "execute_result"
    }
   ],
   "source": [
    "# Посмотрим на сами значения\n",
    "data['rating'].value_counts()"
   ]
  },
  {
   "cell_type": "markdown",
   "metadata": {},
   "source": [
    "Заменим пропуски в рейтинге значением 'No', что будет обозначать что у данной игры рейтинг отсутствует."
   ]
  },
  {
   "cell_type": "code",
   "execution_count": 32,
   "metadata": {},
   "outputs": [],
   "source": [
    "# Заменим пропуски\n",
    "data['rating'] = data['rating'].fillna('No')"
   ]
  },
  {
   "cell_type": "code",
   "execution_count": 33,
   "metadata": {},
   "outputs": [
    {
     "name": "stdout",
     "output_type": "stream",
     "text": [
      "<class 'pandas.core.frame.DataFrame'>\n",
      "Int64Index: 16444 entries, 0 to 16714\n",
      "Data columns (total 11 columns):\n",
      " #   Column           Non-Null Count  Dtype  \n",
      "---  ------           --------------  -----  \n",
      " 0   name             16444 non-null  object \n",
      " 1   platform         16444 non-null  object \n",
      " 2   year_of_release  16444 non-null  int64  \n",
      " 3   genre            16444 non-null  object \n",
      " 4   na_sales         16444 non-null  float64\n",
      " 5   eu_sales         16444 non-null  float64\n",
      " 6   jp_sales         16444 non-null  float64\n",
      " 7   other_sales      16444 non-null  float64\n",
      " 8   critic_score     16444 non-null  int64  \n",
      " 9   user_score       16444 non-null  float64\n",
      " 10  rating           16444 non-null  object \n",
      "dtypes: float64(5), int64(2), object(4)\n",
      "memory usage: 1.5+ MB\n"
     ]
    }
   ],
   "source": [
    "# Проверим результат\n",
    "data.info()"
   ]
  },
  {
   "cell_type": "markdown",
   "metadata": {},
   "source": [
    "***total_sales***"
   ]
  },
  {
   "cell_type": "code",
   "execution_count": 34,
   "metadata": {},
   "outputs": [],
   "source": [
    "# Добавим в таблицу столбец\n",
    "data['total_sales'] = data['na_sales'] + data['eu_sales'] + data['jp_sales'] + data['other_sales']"
   ]
  },
  {
   "cell_type": "markdown",
   "metadata": {},
   "source": [
    "***Вывод:*** Выполнена предобработка данных, датасет содержит 16444 записи. Удалены некорректные записи. Изменены типы данных столбцов year_of_release, critic_score, user_score."
   ]
  },
  {
   "cell_type": "markdown",
   "metadata": {},
   "source": [
    "### Проведите исследовательский анализ данных"
   ]
  },
  {
   "cell_type": "markdown",
   "metadata": {},
   "source": [
    "***Количество игр по годам***"
   ]
  },
  {
   "cell_type": "code",
   "execution_count": 35,
   "metadata": {},
   "outputs": [
    {
     "data": {
      "image/png": "[encoded data removed]",
      "text/plain": [
       "<Figure size 1080x360 with 1 Axes>"
      ]
     },
     "metadata": {
      "needs_background": "light"
     },
     "output_type": "display_data"
    }
   ],
   "source": [
    "# Построимм график по годам за весь период\n",
    "all_games = data.pivot_table(index='year_of_release', values='name', aggfunc='count')\n",
    "all_games.plot(kind = 'bar', grid=True, figsize = (15,5))\n",
    "plt.title('Количество игр выпускаемые в разные года')\n",
    "plt.xlabel('Год выпуска')\n",
    "plt.ylabel('Количество выпущенных игр')\n",
    "plt.legend('')\n",
    "plt.show()"
   ]
  },
  {
   "cell_type": "markdown",
   "metadata": {},
   "source": [
    "* С 1980 по 1993 год появляются новые игры, но нет заметного роста.\n",
    "* С 1993 по 2008 год наблюдается значительный рост количества выпускаемых игр. Рост связан с появлением новых процессоров, новых технологий, увеличением популярности игр.\n",
    "* С 2008 по 2011 год наблюдается плавный спад. Спад связан с мировым экономическим кризисом, который повлиял и на игровую индустрию тоже.\n",
    "* С 2011 по 2016 год наблюдается снижение количества выпускаемых игр. Снижение связано с тем, что пользователи стали более требовательны к продукту и игры стали появляться реже, но более качественные."
   ]
  },
  {
   "cell_type": "markdown",
   "metadata": {},
   "source": [
    "***Продажи игр по платформам***"
   ]
  },
  {
   "cell_type": "code",
   "execution_count": 36,
   "metadata": {},
   "outputs": [
    {
     "data": {
      "image/png": "[encoded data removed]",
      "text/plain": [
       "<Figure size 1080x360 with 1 Axes>"
      ]
     },
     "metadata": {
      "needs_background": "light"
     },
     "output_type": "display_data"
    }
   ],
   "source": [
    "# Построим график продаж по платформам за весь период\n",
    "all_platforms = data.pivot_table(\n",
    "    index='platform', values='total_sales', aggfunc='sum').sort_values(by='total_sales', ascending=False)\n",
    "\n",
    "plt.figure(figsize=(15,5))\n",
    "sns.barplot(data=all_platforms, x=all_platforms.index, y='total_sales')\n",
    "plt.title('Продажи по всем платформам за весь период')\n",
    "plt.xlabel('Название платформы')\n",
    "plt.ylabel('Количество продаж')\n",
    "plt.legend('')\n",
    "plt.show()"
   ]
  },
  {
   "cell_type": "code",
   "execution_count": 37,
   "metadata": {},
   "outputs": [],
   "source": [
    "# Выберем топ 10 популярных платформ\n",
    "top_platforms = (data.groupby('platform')['total_sales'].sum().sort_values(ascending=False)[:10].reset_index())"
   ]
  },
  {
   "cell_type": "code",
   "execution_count": 38,
   "metadata": {},
   "outputs": [
    {
     "data": {
      "text/html": [
       "<div>\n",
       "<style scoped>\n",
       "    .dataframe tbody tr th:only-of-type {\n",
       "        vertical-align: middle;\n",
       "    }\n",
       "\n",
       "    .dataframe tbody tr th {\n",
       "        vertical-align: top;\n",
       "    }\n",
       "\n",
       "    .dataframe thead th {\n",
       "        text-align: right;\n",
       "    }\n",
       "</style>\n",
       "<table border=\"1\" class=\"dataframe\">\n",
       "  <thead>\n",
       "    <tr style=\"text-align: right;\">\n",
       "      <th></th>\n",
       "      <th>platform</th>\n",
       "      <th>total_sales</th>\n",
       "    </tr>\n",
       "  </thead>\n",
       "  <tbody>\n",
       "    <tr>\n",
       "      <th>0</th>\n",
       "      <td>PS2</td>\n",
       "      <td>1233.56</td>\n",
       "    </tr>\n",
       "    <tr>\n",
       "      <th>1</th>\n",
       "      <td>X360</td>\n",
       "      <td>961.24</td>\n",
       "    </tr>\n",
       "    <tr>\n",
       "      <th>2</th>\n",
       "      <td>PS3</td>\n",
       "      <td>931.34</td>\n",
       "    </tr>\n",
       "    <tr>\n",
       "      <th>3</th>\n",
       "      <td>Wii</td>\n",
       "      <td>891.18</td>\n",
       "    </tr>\n",
       "    <tr>\n",
       "      <th>4</th>\n",
       "      <td>DS</td>\n",
       "      <td>802.78</td>\n",
       "    </tr>\n",
       "    <tr>\n",
       "      <th>5</th>\n",
       "      <td>PS</td>\n",
       "      <td>727.58</td>\n",
       "    </tr>\n",
       "    <tr>\n",
       "      <th>6</th>\n",
       "      <td>PS4</td>\n",
       "      <td>314.14</td>\n",
       "    </tr>\n",
       "    <tr>\n",
       "      <th>7</th>\n",
       "      <td>GBA</td>\n",
       "      <td>312.88</td>\n",
       "    </tr>\n",
       "    <tr>\n",
       "      <th>8</th>\n",
       "      <td>PSP</td>\n",
       "      <td>289.53</td>\n",
       "    </tr>\n",
       "    <tr>\n",
       "      <th>9</th>\n",
       "      <td>3DS</td>\n",
       "      <td>257.81</td>\n",
       "    </tr>\n",
       "  </tbody>\n",
       "</table>\n",
       "</div>"
      ],
      "text/plain": [
       "  platform  total_sales\n",
       "0      PS2      1233.56\n",
       "1     X360       961.24\n",
       "2      PS3       931.34\n",
       "3      Wii       891.18\n",
       "4       DS       802.78\n",
       "5       PS       727.58\n",
       "6      PS4       314.14\n",
       "7      GBA       312.88\n",
       "8      PSP       289.53\n",
       "9      3DS       257.81"
      ]
     },
     "execution_count": 38,
     "metadata": {},
     "output_type": "execute_result"
    }
   ],
   "source": [
    "# Выведем этот список\n",
    "top_platforms"
   ]
  },
  {
   "cell_type": "code",
   "execution_count": 39,
   "metadata": {},
   "outputs": [
    {
     "data": {
      "image/png": "[encoded data removed]",
      "text/plain": [
       "<Figure size 1080x360 with 1 Axes>"
      ]
     },
     "metadata": {
      "needs_background": "light"
     },
     "output_type": "display_data"
    }
   ],
   "source": [
    "# Построим график\n",
    "plt.figure(figsize=(15,5))\n",
    "sns.barplot(x=top_platforms['platform'],y=top_platforms['total_sales'])\n",
    "plt.title('Продажи по популярным платформам за весь период')\n",
    "plt.xlabel('Название платформы')\n",
    "plt.ylabel('Количество продаж')\n",
    "plt.legend('')\n",
    "plt.show()"
   ]
  },
  {
   "cell_type": "markdown",
   "metadata": {},
   "source": [
    "Определен список платформ, которые показали наибольшее количество продаж:\n",
    "    \n",
    "* PS2\n",
    "* X360\n",
    "* PS3\n",
    "* Wii\n",
    "* DS\n",
    "* PS\n",
    "* PS4\n",
    "* GBA\n",
    "* PSP\n",
    "* 3DS"
   ]
  },
  {
   "cell_type": "markdown",
   "metadata": {},
   "source": [
    "***Распределение по годам для платформ с найбольшими продажами***"
   ]
  },
  {
   "cell_type": "code",
   "execution_count": 40,
   "metadata": {},
   "outputs": [
    {
     "data": {
      "image/png": "[encoded data removed]",
      "text/plain": [
       "<Figure size 1080x360 with 1 Axes>"
      ]
     },
     "metadata": {
      "needs_background": "light"
     },
     "output_type": "display_data"
    }
   ],
   "source": [
    "# Изучим распределение по годам для платформ с найбольшими продажами\n",
    "top_platforms_on_years = data.query('platform in @top_platforms.platform')\n",
    "top_platforms_on_years = top_platforms_on_years.groupby(['year_of_release','platform'])['total_sales'].sum()\n",
    "top_platforms_on_years.unstack().plot(style='o-', kind='line', figsize=(15,5), grid=True)\n",
    "plt.title('Продажи по годам для популярных платформ')\n",
    "plt.xlabel('Год')\n",
    "plt.ylabel('Количество продаж')\n",
    "plt.show()"
   ]
  },
  {
   "cell_type": "markdown",
   "metadata": {},
   "source": [
    "Можно сделать вывод, что в среднем с момента релиза платформа остается актуальной в течении 10-11 лет. Однако, только первые 5 лет сопровождаются ростом продаж, затем продажи начинают падать."
   ]
  },
  {
   "cell_type": "markdown",
   "metadata": {},
   "source": [
    "***Какие платформы лидируют по продажам, растут или падают***"
   ]
  },
  {
   "cell_type": "markdown",
   "metadata": {},
   "source": [
    "Изучив полученные данные, можно сделать вывод, что актуальными будут данные за последний период с 2014 по 2016 год."
   ]
  },
  {
   "cell_type": "code",
   "execution_count": 41,
   "metadata": {},
   "outputs": [],
   "source": [
    "# Создадим датафрейм с актуальными данными\n",
    "actual_data = data.query('2014 <= year_of_release <= 2016')"
   ]
  },
  {
   "cell_type": "code",
   "execution_count": 42,
   "metadata": {},
   "outputs": [
    {
     "data": {
      "image/png": "[encoded data removed]",
      "text/plain": [
       "<Figure size 1080x360 with 1 Axes>"
      ]
     },
     "metadata": {
      "needs_background": "light"
     },
     "output_type": "display_data"
    }
   ],
   "source": [
    "# Построим график\n",
    "plt.figure(figsize=(15,5))\n",
    "sns.lineplot(x=actual_data.year_of_release, y=actual_data.total_sales, \n",
    "             hue=actual_data.platform,\n",
    "             estimator = sum,\n",
    "             ci = None)\n",
    "plt.title('Продажи с 2014 по 2016 год для популярных платформ')\n",
    "plt.xlabel('Год')\n",
    "plt.ylabel('Количество продаж')\n",
    "plt.grid()\n",
    "plt.show()"
   ]
  },
  {
   "cell_type": "markdown",
   "metadata": {},
   "source": [
    "* На платформу PSP прекратился выпуск игр в 2015.\n",
    "* В 2016 году почти прекратился выпуск игр на платформу PS3, так как ее сменила платформа PS4. Аналогичная ситуация с  платформой X360, которую сменила XOne и  платформой Wii которую сменила платформа WiiU.\n",
    "\n",
    "Таким образом, мы можем выделить ряд актуальных на 2016 год игровых платформ: PS4, XOne, WiiU, 3DS, PSV, PC.\n",
    "\n",
    "Лидерами продаж являются: PS4, XOne и 3DS.\n"
   ]
  },
  {
   "cell_type": "markdown",
   "metadata": {},
   "source": [
    "***График «ящик с усами» по глобальным продажам игр в разбивке по платформам***"
   ]
  },
  {
   "cell_type": "code",
   "execution_count": 43,
   "metadata": {},
   "outputs": [
    {
     "data": {
      "text/html": [
       "<div>\n",
       "<style scoped>\n",
       "    .dataframe tbody tr th:only-of-type {\n",
       "        vertical-align: middle;\n",
       "    }\n",
       "\n",
       "    .dataframe tbody tr th {\n",
       "        vertical-align: top;\n",
       "    }\n",
       "\n",
       "    .dataframe thead th {\n",
       "        text-align: right;\n",
       "    }\n",
       "</style>\n",
       "<table border=\"1\" class=\"dataframe\">\n",
       "  <thead>\n",
       "    <tr style=\"text-align: right;\">\n",
       "      <th></th>\n",
       "      <th>count</th>\n",
       "      <th>mean</th>\n",
       "      <th>std</th>\n",
       "      <th>min</th>\n",
       "      <th>25%</th>\n",
       "      <th>50%</th>\n",
       "      <th>75%</th>\n",
       "      <th>max</th>\n",
       "    </tr>\n",
       "    <tr>\n",
       "      <th>platform</th>\n",
       "      <th></th>\n",
       "      <th></th>\n",
       "      <th></th>\n",
       "      <th></th>\n",
       "      <th></th>\n",
       "      <th></th>\n",
       "      <th></th>\n",
       "      <th></th>\n",
       "    </tr>\n",
       "  </thead>\n",
       "  <tbody>\n",
       "    <tr>\n",
       "      <th>3DS</th>\n",
       "      <td>212.0</td>\n",
       "      <td>0.408868</td>\n",
       "      <td>1.188368</td>\n",
       "      <td>0.01</td>\n",
       "      <td>0.0300</td>\n",
       "      <td>0.090</td>\n",
       "      <td>0.2500</td>\n",
       "      <td>11.68</td>\n",
       "    </tr>\n",
       "    <tr>\n",
       "      <th>PC</th>\n",
       "      <td>151.0</td>\n",
       "      <td>0.179139</td>\n",
       "      <td>0.329359</td>\n",
       "      <td>0.01</td>\n",
       "      <td>0.0200</td>\n",
       "      <td>0.060</td>\n",
       "      <td>0.2000</td>\n",
       "      <td>3.05</td>\n",
       "    </tr>\n",
       "    <tr>\n",
       "      <th>PS3</th>\n",
       "      <td>219.0</td>\n",
       "      <td>0.311324</td>\n",
       "      <td>0.633059</td>\n",
       "      <td>0.01</td>\n",
       "      <td>0.0400</td>\n",
       "      <td>0.110</td>\n",
       "      <td>0.3250</td>\n",
       "      <td>5.27</td>\n",
       "    </tr>\n",
       "    <tr>\n",
       "      <th>PS4</th>\n",
       "      <td>376.0</td>\n",
       "      <td>0.766356</td>\n",
       "      <td>1.614969</td>\n",
       "      <td>0.01</td>\n",
       "      <td>0.0575</td>\n",
       "      <td>0.185</td>\n",
       "      <td>0.6900</td>\n",
       "      <td>14.63</td>\n",
       "    </tr>\n",
       "    <tr>\n",
       "      <th>PSP</th>\n",
       "      <td>13.0</td>\n",
       "      <td>0.027692</td>\n",
       "      <td>0.027735</td>\n",
       "      <td>0.01</td>\n",
       "      <td>0.0100</td>\n",
       "      <td>0.020</td>\n",
       "      <td>0.0200</td>\n",
       "      <td>0.09</td>\n",
       "    </tr>\n",
       "    <tr>\n",
       "      <th>PSV</th>\n",
       "      <td>295.0</td>\n",
       "      <td>0.075932</td>\n",
       "      <td>0.141591</td>\n",
       "      <td>0.01</td>\n",
       "      <td>0.0200</td>\n",
       "      <td>0.040</td>\n",
       "      <td>0.0900</td>\n",
       "      <td>1.96</td>\n",
       "    </tr>\n",
       "    <tr>\n",
       "      <th>Wii</th>\n",
       "      <td>11.0</td>\n",
       "      <td>0.460909</td>\n",
       "      <td>0.625451</td>\n",
       "      <td>0.01</td>\n",
       "      <td>0.0350</td>\n",
       "      <td>0.180</td>\n",
       "      <td>0.7550</td>\n",
       "      <td>2.01</td>\n",
       "    </tr>\n",
       "    <tr>\n",
       "      <th>WiiU</th>\n",
       "      <td>73.0</td>\n",
       "      <td>0.588767</td>\n",
       "      <td>1.161467</td>\n",
       "      <td>0.01</td>\n",
       "      <td>0.0500</td>\n",
       "      <td>0.190</td>\n",
       "      <td>0.5700</td>\n",
       "      <td>7.09</td>\n",
       "    </tr>\n",
       "    <tr>\n",
       "      <th>X360</th>\n",
       "      <td>111.0</td>\n",
       "      <td>0.434414</td>\n",
       "      <td>0.628967</td>\n",
       "      <td>0.01</td>\n",
       "      <td>0.0700</td>\n",
       "      <td>0.180</td>\n",
       "      <td>0.5050</td>\n",
       "      <td>4.28</td>\n",
       "    </tr>\n",
       "    <tr>\n",
       "      <th>XOne</th>\n",
       "      <td>228.0</td>\n",
       "      <td>0.615614</td>\n",
       "      <td>1.046513</td>\n",
       "      <td>0.01</td>\n",
       "      <td>0.0500</td>\n",
       "      <td>0.205</td>\n",
       "      <td>0.6325</td>\n",
       "      <td>7.39</td>\n",
       "    </tr>\n",
       "  </tbody>\n",
       "</table>\n",
       "</div>"
      ],
      "text/plain": [
       "          count      mean       std   min     25%    50%     75%    max\n",
       "platform                                                               \n",
       "3DS       212.0  0.408868  1.188368  0.01  0.0300  0.090  0.2500  11.68\n",
       "PC        151.0  0.179139  0.329359  0.01  0.0200  0.060  0.2000   3.05\n",
       "PS3       219.0  0.311324  0.633059  0.01  0.0400  0.110  0.3250   5.27\n",
       "PS4       376.0  0.766356  1.614969  0.01  0.0575  0.185  0.6900  14.63\n",
       "PSP        13.0  0.027692  0.027735  0.01  0.0100  0.020  0.0200   0.09\n",
       "PSV       295.0  0.075932  0.141591  0.01  0.0200  0.040  0.0900   1.96\n",
       "Wii        11.0  0.460909  0.625451  0.01  0.0350  0.180  0.7550   2.01\n",
       "WiiU       73.0  0.588767  1.161467  0.01  0.0500  0.190  0.5700   7.09\n",
       "X360      111.0  0.434414  0.628967  0.01  0.0700  0.180  0.5050   4.28\n",
       "XOne      228.0  0.615614  1.046513  0.01  0.0500  0.205  0.6325   7.39"
      ]
     },
     "execution_count": 43,
     "metadata": {},
     "output_type": "execute_result"
    },
    {
     "data": {
      "image/png": "[encoded data removed]",
      "text/plain": [
       "<Figure size 1080x360 with 1 Axes>"
      ]
     },
     "metadata": {
      "needs_background": "light"
     },
     "output_type": "display_data"
    }
   ],
   "source": [
    "# Построим ящик с усами\n",
    "plt.figure(figsize=(15,5))\n",
    "sns.boxplot(x=actual_data.platform, y=actual_data.total_sales, palette = 'bright', showfliers=False)\n",
    "plt.title('Продажи с 2014 по 2016 год для популярных платформ')\n",
    "plt.xlabel('Название платформы')\n",
    "plt.ylabel('Количество продаж')\n",
    "actual_data.groupby('platform')['total_sales'].describe()"
   ]
  },
  {
   "cell_type": "code",
   "execution_count": 44,
   "metadata": {},
   "outputs": [
    {
     "data": {
      "image/png": "[encoded data removed]",
      "text/plain": [
       "<Figure size 1080x720 with 1 Axes>"
      ]
     },
     "metadata": {
      "needs_background": "light"
     },
     "output_type": "display_data"
    }
   ],
   "source": [
    "# Посмотрим на выбросы\n",
    "plt.figure(figsize=(15,10))\n",
    "sns.boxplot(x=actual_data.platform, y=actual_data.total_sales, palette = 'bright', showfliers=True)\n",
    "plt.title('Продажи с 2014 по 2016 год для популярных платформ')\n",
    "plt.xlabel('Название платформы')\n",
    "plt.ylabel('Количество продаж')\n",
    "plt.show()"
   ]
  },
  {
   "cell_type": "markdown",
   "metadata": {},
   "source": [
    "Платформы с большим количеством продаж имеют большой разброс величины, сильное смещение среднего относительно медианы, и стандартное отклонение в несколько раз превосходящее среднее значение.\n",
    "\n",
    "Можно предположить, что это происходит из за наличия на этих платформах культовых и очень популярных игр, которые в распределении величины являются выбросами."
   ]
  },
  {
   "cell_type": "markdown",
   "metadata": {},
   "source": [
    "***Как влияют на продажи внутри одной популярной платформы отзывы пользователей и критиков***"
   ]
  },
  {
   "cell_type": "code",
   "execution_count": 45,
   "metadata": {},
   "outputs": [],
   "source": [
    "# Сделаем выборку по самой популярной платформе\n",
    "x360_data_critic = actual_data.query('(platform == \"X360\") & (critic_score != 0)')[['critic_score','total_sales']]\n",
    "x360_data_user = actual_data.query('(platform == \"X360\") & (user_score != 0)')[['user_score','total_sales']]"
   ]
  },
  {
   "cell_type": "code",
   "execution_count": 46,
   "metadata": {},
   "outputs": [
    {
     "data": {
      "image/png": "[encoded data removed]",
      "text/plain": [
       "<Figure size 432x288 with 1 Axes>"
      ]
     },
     "metadata": {
      "needs_background": "light"
     },
     "output_type": "display_data"
    },
    {
     "data": {
      "text/html": [
       "<div>\n",
       "<style scoped>\n",
       "    .dataframe tbody tr th:only-of-type {\n",
       "        vertical-align: middle;\n",
       "    }\n",
       "\n",
       "    .dataframe tbody tr th {\n",
       "        vertical-align: top;\n",
       "    }\n",
       "\n",
       "    .dataframe thead th {\n",
       "        text-align: right;\n",
       "    }\n",
       "</style>\n",
       "<table border=\"1\" class=\"dataframe\">\n",
       "  <thead>\n",
       "    <tr style=\"text-align: right;\">\n",
       "      <th></th>\n",
       "      <th>critic_score</th>\n",
       "      <th>total_sales</th>\n",
       "    </tr>\n",
       "  </thead>\n",
       "  <tbody>\n",
       "    <tr>\n",
       "      <th>critic_score</th>\n",
       "      <td>1.000000</td>\n",
       "      <td>0.525723</td>\n",
       "    </tr>\n",
       "    <tr>\n",
       "      <th>total_sales</th>\n",
       "      <td>0.525723</td>\n",
       "      <td>1.000000</td>\n",
       "    </tr>\n",
       "  </tbody>\n",
       "</table>\n",
       "</div>"
      ],
      "text/plain": [
       "              critic_score  total_sales\n",
       "critic_score      1.000000     0.525723\n",
       "total_sales       0.525723     1.000000"
      ]
     },
     "execution_count": 46,
     "metadata": {},
     "output_type": "execute_result"
    }
   ],
   "source": [
    "# Построим диаграмму рассеяния продаж и оценок критиков\n",
    "x360_data_critic.plot(x='critic_score', y='total_sales', kind='scatter') \n",
    "plt.title('Диаграмма рассеяния продаж и оценок критиков')\n",
    "plt.xlabel(\"Оценки критиков\")\n",
    "plt.ylabel(\"Продажи\")\n",
    "plt.show()\n",
    "x360_data_critic.corr()"
   ]
  },
  {
   "cell_type": "markdown",
   "metadata": {},
   "source": [
    "По графику и коэффициенту корреляции 0.52 можно сделать вывод, что между рейтингом критиков и количеством продаж корреляция не считается значимой."
   ]
  },
  {
   "cell_type": "code",
   "execution_count": 47,
   "metadata": {},
   "outputs": [
    {
     "data": {
      "image/png": "[encoded data removed]",
      "text/plain": [
       "<Figure size 432x288 with 1 Axes>"
      ]
     },
     "metadata": {
      "needs_background": "light"
     },
     "output_type": "display_data"
    },
    {
     "data": {
      "text/html": [
       "<div>\n",
       "<style scoped>\n",
       "    .dataframe tbody tr th:only-of-type {\n",
       "        vertical-align: middle;\n",
       "    }\n",
       "\n",
       "    .dataframe tbody tr th {\n",
       "        vertical-align: top;\n",
       "    }\n",
       "\n",
       "    .dataframe thead th {\n",
       "        text-align: right;\n",
       "    }\n",
       "</style>\n",
       "<table border=\"1\" class=\"dataframe\">\n",
       "  <thead>\n",
       "    <tr style=\"text-align: right;\">\n",
       "      <th></th>\n",
       "      <th>user_score</th>\n",
       "      <th>total_sales</th>\n",
       "    </tr>\n",
       "  </thead>\n",
       "  <tbody>\n",
       "    <tr>\n",
       "      <th>user_score</th>\n",
       "      <td>1.000000</td>\n",
       "      <td>-0.138445</td>\n",
       "    </tr>\n",
       "    <tr>\n",
       "      <th>total_sales</th>\n",
       "      <td>-0.138445</td>\n",
       "      <td>1.000000</td>\n",
       "    </tr>\n",
       "  </tbody>\n",
       "</table>\n",
       "</div>"
      ],
      "text/plain": [
       "             user_score  total_sales\n",
       "user_score     1.000000    -0.138445\n",
       "total_sales   -0.138445     1.000000"
      ]
     },
     "execution_count": 47,
     "metadata": {},
     "output_type": "execute_result"
    }
   ],
   "source": [
    "# Построим диаграмму рассеяния продаж и оценок пользователей\n",
    "x360_data_user.plot(x='user_score', y='total_sales', kind='scatter') \n",
    "plt.title('Диаграмма рассеяния продаж и оценок пользователей')\n",
    "plt.xlabel(\"Оценки пользователей\")\n",
    "plt.ylabel(\"Продажи\")\n",
    "plt.show()\n",
    "x360_data_user.corr()"
   ]
  },
  {
   "cell_type": "markdown",
   "metadata": {},
   "source": [
    "По графику и коэффициенту корреляции 0.13 можно сделать вывод, что между рейтингом пользователей и количеством продаж корреляция не считается значимой."
   ]
  },
  {
   "cell_type": "markdown",
   "metadata": {},
   "source": [
    "***Соотнесите выводы с продажами игр на других платформах***"
   ]
  },
  {
   "cell_type": "code",
   "execution_count": 48,
   "metadata": {},
   "outputs": [],
   "source": [
    "# Проверим выводы для платформы PS4\n",
    "ps4_data_critic = actual_data.query('(platform == \"PS4\") & (critic_score != 0)')[['critic_score','total_sales']]\n",
    "ps4_data_user = actual_data.query('(platform == \"PS4\") & (user_score != 0)')[['user_score','total_sales']]"
   ]
  },
  {
   "cell_type": "code",
   "execution_count": 49,
   "metadata": {},
   "outputs": [
    {
     "data": {
      "image/png": "[encoded data removed]",
      "text/plain": [
       "<Figure size 432x288 with 1 Axes>"
      ]
     },
     "metadata": {
      "needs_background": "light"
     },
     "output_type": "display_data"
    },
    {
     "data": {
      "text/html": [
       "<div>\n",
       "<style scoped>\n",
       "    .dataframe tbody tr th:only-of-type {\n",
       "        vertical-align: middle;\n",
       "    }\n",
       "\n",
       "    .dataframe tbody tr th {\n",
       "        vertical-align: top;\n",
       "    }\n",
       "\n",
       "    .dataframe thead th {\n",
       "        text-align: right;\n",
       "    }\n",
       "</style>\n",
       "<table border=\"1\" class=\"dataframe\">\n",
       "  <thead>\n",
       "    <tr style=\"text-align: right;\">\n",
       "      <th></th>\n",
       "      <th>critic_score</th>\n",
       "      <th>total_sales</th>\n",
       "    </tr>\n",
       "  </thead>\n",
       "  <tbody>\n",
       "    <tr>\n",
       "      <th>critic_score</th>\n",
       "      <td>1.000000</td>\n",
       "      <td>0.402661</td>\n",
       "    </tr>\n",
       "    <tr>\n",
       "      <th>total_sales</th>\n",
       "      <td>0.402661</td>\n",
       "      <td>1.000000</td>\n",
       "    </tr>\n",
       "  </tbody>\n",
       "</table>\n",
       "</div>"
      ],
      "text/plain": [
       "              critic_score  total_sales\n",
       "critic_score      1.000000     0.402661\n",
       "total_sales       0.402661     1.000000"
      ]
     },
     "execution_count": 49,
     "metadata": {},
     "output_type": "execute_result"
    }
   ],
   "source": [
    "# Построим диаграмму рассеяния продаж и оценок критиков для платформы PS4\n",
    "ps4_data_critic.plot(x='critic_score', y='total_sales', kind='scatter') \n",
    "plt.title('Диаграмма рассеяния продаж и оценок критиков')\n",
    "plt.xlabel(\"Оценки критиков\")\n",
    "plt.ylabel(\"Продажи\")\n",
    "plt.show()\n",
    "ps4_data_critic.corr()"
   ]
  },
  {
   "cell_type": "code",
   "execution_count": 50,
   "metadata": {},
   "outputs": [
    {
     "data": {
      "image/png": "[encoded data removed]",
      "text/plain": [
       "<Figure size 432x288 with 1 Axes>"
      ]
     },
     "metadata": {
      "needs_background": "light"
     },
     "output_type": "display_data"
    },
    {
     "data": {
      "text/html": [
       "<div>\n",
       "<style scoped>\n",
       "    .dataframe tbody tr th:only-of-type {\n",
       "        vertical-align: middle;\n",
       "    }\n",
       "\n",
       "    .dataframe tbody tr th {\n",
       "        vertical-align: top;\n",
       "    }\n",
       "\n",
       "    .dataframe thead th {\n",
       "        text-align: right;\n",
       "    }\n",
       "</style>\n",
       "<table border=\"1\" class=\"dataframe\">\n",
       "  <thead>\n",
       "    <tr style=\"text-align: right;\">\n",
       "      <th></th>\n",
       "      <th>user_score</th>\n",
       "      <th>total_sales</th>\n",
       "    </tr>\n",
       "  </thead>\n",
       "  <tbody>\n",
       "    <tr>\n",
       "      <th>user_score</th>\n",
       "      <td>1.000000</td>\n",
       "      <td>-0.040132</td>\n",
       "    </tr>\n",
       "    <tr>\n",
       "      <th>total_sales</th>\n",
       "      <td>-0.040132</td>\n",
       "      <td>1.000000</td>\n",
       "    </tr>\n",
       "  </tbody>\n",
       "</table>\n",
       "</div>"
      ],
      "text/plain": [
       "             user_score  total_sales\n",
       "user_score     1.000000    -0.040132\n",
       "total_sales   -0.040132     1.000000"
      ]
     },
     "execution_count": 50,
     "metadata": {},
     "output_type": "execute_result"
    }
   ],
   "source": [
    "# Построим диаграмму рассеяния продаж и оценок пользователей для платформы PS4\n",
    "ps4_data_user.plot(x='user_score', y='total_sales', kind='scatter') \n",
    "plt.title('Диаграмма рассеяния продаж и оценок пользователей')\n",
    "plt.xlabel(\"Оценки пользователей\")\n",
    "plt.ylabel(\"Продажи\")\n",
    "plt.show()\n",
    "ps4_data_user.corr()"
   ]
  },
  {
   "cell_type": "code",
   "execution_count": 51,
   "metadata": {},
   "outputs": [],
   "source": [
    "# Проверим выводы для платформы XOne\n",
    "xone_data_critic = actual_data.query('(platform == \"XOne\") & (critic_score != 0)')[['critic_score','total_sales']]\n",
    "xone_data_user = actual_data.query('(platform == \"XOne\") & (user_score != 0)')[['user_score','total_sales']]"
   ]
  },
  {
   "cell_type": "code",
   "execution_count": 52,
   "metadata": {},
   "outputs": [
    {
     "data": {
      "image/png": "[encoded data removed]",
      "text/plain": [
       "<Figure size 432x288 with 1 Axes>"
      ]
     },
     "metadata": {
      "needs_background": "light"
     },
     "output_type": "display_data"
    },
    {
     "data": {
      "text/html": [
       "<div>\n",
       "<style scoped>\n",
       "    .dataframe tbody tr th:only-of-type {\n",
       "        vertical-align: middle;\n",
       "    }\n",
       "\n",
       "    .dataframe tbody tr th {\n",
       "        vertical-align: top;\n",
       "    }\n",
       "\n",
       "    .dataframe thead th {\n",
       "        text-align: right;\n",
       "    }\n",
       "</style>\n",
       "<table border=\"1\" class=\"dataframe\">\n",
       "  <thead>\n",
       "    <tr style=\"text-align: right;\">\n",
       "      <th></th>\n",
       "      <th>critic_score</th>\n",
       "      <th>total_sales</th>\n",
       "    </tr>\n",
       "  </thead>\n",
       "  <tbody>\n",
       "    <tr>\n",
       "      <th>critic_score</th>\n",
       "      <td>1.000000</td>\n",
       "      <td>0.428677</td>\n",
       "    </tr>\n",
       "    <tr>\n",
       "      <th>total_sales</th>\n",
       "      <td>0.428677</td>\n",
       "      <td>1.000000</td>\n",
       "    </tr>\n",
       "  </tbody>\n",
       "</table>\n",
       "</div>"
      ],
      "text/plain": [
       "              critic_score  total_sales\n",
       "critic_score      1.000000     0.428677\n",
       "total_sales       0.428677     1.000000"
      ]
     },
     "execution_count": 52,
     "metadata": {},
     "output_type": "execute_result"
    }
   ],
   "source": [
    "# Построим диаграмму рассеяния продаж и оценок критиков для платформы XOne\n",
    "xone_data_critic.plot(x='critic_score', y='total_sales', kind='scatter') \n",
    "plt.title('Диаграмма рассеяния продаж и оценок критиков')\n",
    "plt.xlabel(\"Оценки критиков\")\n",
    "plt.ylabel(\"Продажи\")\n",
    "plt.show()\n",
    "xone_data_critic.corr()"
   ]
  },
  {
   "cell_type": "code",
   "execution_count": 53,
   "metadata": {},
   "outputs": [
    {
     "data": {
      "image/png": "[encoded data removed]",
      "text/plain": [
       "<Figure size 432x288 with 1 Axes>"
      ]
     },
     "metadata": {
      "needs_background": "light"
     },
     "output_type": "display_data"
    },
    {
     "data": {
      "text/html": [
       "<div>\n",
       "<style scoped>\n",
       "    .dataframe tbody tr th:only-of-type {\n",
       "        vertical-align: middle;\n",
       "    }\n",
       "\n",
       "    .dataframe tbody tr th {\n",
       "        vertical-align: top;\n",
       "    }\n",
       "\n",
       "    .dataframe thead th {\n",
       "        text-align: right;\n",
       "    }\n",
       "</style>\n",
       "<table border=\"1\" class=\"dataframe\">\n",
       "  <thead>\n",
       "    <tr style=\"text-align: right;\">\n",
       "      <th></th>\n",
       "      <th>user_score</th>\n",
       "      <th>total_sales</th>\n",
       "    </tr>\n",
       "  </thead>\n",
       "  <tbody>\n",
       "    <tr>\n",
       "      <th>user_score</th>\n",
       "      <td>1.000000</td>\n",
       "      <td>-0.070384</td>\n",
       "    </tr>\n",
       "    <tr>\n",
       "      <th>total_sales</th>\n",
       "      <td>-0.070384</td>\n",
       "      <td>1.000000</td>\n",
       "    </tr>\n",
       "  </tbody>\n",
       "</table>\n",
       "</div>"
      ],
      "text/plain": [
       "             user_score  total_sales\n",
       "user_score     1.000000    -0.070384\n",
       "total_sales   -0.070384     1.000000"
      ]
     },
     "execution_count": 53,
     "metadata": {},
     "output_type": "execute_result"
    }
   ],
   "source": [
    "# Построим диаграмму рассеяния продаж и оценок пользователей для платформы XOne\n",
    "xone_data_user.plot(x='user_score', y='total_sales', kind='scatter') \n",
    "plt.title('Диаграмма рассеяния продаж и оценок пользователей')\n",
    "plt.xlabel(\"Оценки пользователей\")\n",
    "plt.ylabel(\"Продажи\")\n",
    "plt.show()\n",
    "xone_data_user.corr()"
   ]
  },
  {
   "cell_type": "markdown",
   "metadata": {},
   "source": [
    "Коэффициент корреляции между оценками пользователей и количеством продаж очень мал (0,13; 0,04; 0.07) на всех исследуемых платформах. Основываясь на этом можем сделать вывод, что оценки пользователей не влияют на продажи.\n",
    "\n",
    "Коэффициент корреляции между оценками критиков и количеством продаж незначителен (0,52; 0,40; 0.42) на всех исследуемых платформах. Основываясь на этом можем сделать вывод, что оценки критиков слабо влияют на продажи.\n",
    "\n",
    "На графиках есть одиночные игры с высокими продажами, и высокими оценками - это бестселлеры."
   ]
  },
  {
   "cell_type": "markdown",
   "metadata": {},
   "source": [
    "***Общее распределение игр по жанрам***"
   ]
  },
  {
   "cell_type": "code",
   "execution_count": 54,
   "metadata": {},
   "outputs": [
    {
     "data": {
      "image/png": "[encoded data removed]",
      "text/plain": [
       "<Figure size 1080x360 with 1 Axes>"
      ]
     },
     "metadata": {
      "needs_background": "light"
     },
     "output_type": "display_data"
    }
   ],
   "source": [
    "all_genres = data.groupby('genre')['name'].count()\n",
    "all_genres.sort_values(ascending=False).plot(kind='bar', figsize=(15, 5), grid=True)\n",
    "plt.title('Количество выпущенных игр по жанрам')\n",
    "plt.xlabel('Жанр')\n",
    "plt.show()"
   ]
  },
  {
   "cell_type": "code",
   "execution_count": 55,
   "metadata": {},
   "outputs": [
    {
     "data": {
      "image/png": "[encoded data removed]",
      "text/plain": [
       "<Figure size 1080x360 with 1 Axes>"
      ]
     },
     "metadata": {
      "needs_background": "light"
     },
     "output_type": "display_data"
    }
   ],
   "source": [
    "genres_sales = data.pivot_table(index='genre', values='total_sales', aggfunc=('count','sum')).sort_values(\n",
    "               by='sum', ascending=False)\n",
    "genres_sales.plot(kind='bar', figsize=(15, 5), grid=True)\n",
    "plt.title('Продажи игр по жанрам')\n",
    "plt.xlabel('Жанр')\n",
    "plt.ylabel('Количество')\n",
    "plt.show()"
   ]
  },
  {
   "cell_type": "markdown",
   "metadata": {},
   "source": [
    "***Вывод:*** В среднем с момента релиза платформа остается актуальной в течении 10-11 лет. Однако, только первые 5 лет сопровождаются ростом продаж, затем продажи начинают падать.\n",
    "\n",
    "Изучив полученные данные, можно сделать вывод, что актуальными будут данные за последний период с 2014 по 2016 год.\n",
    "\n",
    "Лидерами продаж среди платформ актуальных на 2016 год являются: PS4, XOne и 3DS.\n",
    "\n",
    "Платформы с большим количеством продаж имеют большой разброс величины, сильное смещение среднего относительно медианы, и стандартное отклонение в несколько раз превосходящее среднее значение.\n",
    "\n",
    "Коэффициент корреляции между оценками пользователей и количеством продаж очень мал (0,13; 0,04; 0.07) на всех исследуемых платформах. Основываясь на этом можем сделать вывод, что оценки пользователей не влияют на продажи.\n",
    "\n",
    "Коэффициент корреляции между оценками критиков и количеством продаж незначителен (0,52; 0,40; 0.42) на всех исследуемых платформах. Основываясь на этом можем сделать вывод, что оценки критиков слабо влияют на продажи.\n",
    "\n",
    "На графиках есть одиночные игры с высокими продажами, и высокими оценками - это бестселлеры."
   ]
  },
  {
   "cell_type": "markdown",
   "metadata": {},
   "source": [
    "### Составьте портрет пользователя каждого региона"
   ]
  },
  {
   "cell_type": "markdown",
   "metadata": {},
   "source": [
    "Для каждого региона нужно будет определить популярные платформы, популярные жанры и определить какие игры лидируют в рейтинге, напишем функцию для выполнения этих задач."
   ]
  },
  {
   "cell_type": "code",
   "execution_count": 56,
   "metadata": {},
   "outputs": [],
   "source": [
    "# Напишем функцию\n",
    "def user_region (region):\n",
    "    platforms = actual_data.groupby('platform')[(region)].sum().sort_values(ascending = False).head(5)\n",
    "    \n",
    "    genres = actual_data.groupby('genre')[(region)].sum().sort_values(ascending = False).head(5)\n",
    "    \n",
    "    rating = actual_data.groupby('rating')[(region)].sum().sort_values(ascending = False).head(5)\n",
    "    \n",
    "    platforms.plot(kind='bar', figsize=(15, 5), grid=True)\n",
    "    plt.title('Продажи игр по платформам в регионе ' + str(region))\n",
    "    plt.xlabel('Название платформы')\n",
    "    plt.ylabel('Количество продаж')\n",
    "    plt.legend('')\n",
    "    plt.show()\n",
    "    \n",
    "    genres.plot(kind='bar', figsize=(15, 5), grid=True)\n",
    "    plt.title('Продажи игр по жанрам в регионе ' + str(region))\n",
    "    plt.xlabel('Жанр')\n",
    "    plt.ylabel('Количество продаж')\n",
    "    plt.legend('')\n",
    "    plt.show()\n",
    "    \n",
    "    rating.plot(kind='bar', figsize=(15, 5), grid=True)\n",
    "    plt.title('Продажи игр по рейтингу в регионе ' + str(region))\n",
    "    plt.xlabel('Рейтинг')\n",
    "    plt.ylabel('Количество продаж')\n",
    "    plt.legend('')\n",
    "    plt.show()"
   ]
  },
  {
   "cell_type": "markdown",
   "metadata": {},
   "source": [
    "***NA_sales***"
   ]
  },
  {
   "cell_type": "code",
   "execution_count": 57,
   "metadata": {},
   "outputs": [
    {
     "data": {
      "image/png": "[encoded data removed]",
      "text/plain": [
       "<Figure size 1080x360 with 1 Axes>"
      ]
     },
     "metadata": {
      "needs_background": "light"
     },
     "output_type": "display_data"
    },
    {
     "data": {
      "image/png": "[encoded data removed]",
      "text/plain": [
       "<Figure size 1080x360 with 1 Axes>"
      ]
     },
     "metadata": {
      "needs_background": "light"
     },
     "output_type": "display_data"
    },
    {
     "data": {
      "image/png": "[encoded data removed]",
      "text/plain": [
       "<Figure size 1080x360 with 1 Axes>"
      ]
     },
     "metadata": {
      "needs_background": "light"
     },
     "output_type": "display_data"
    }
   ],
   "source": [
    "# Регион na_sales\n",
    "user_region ('na_sales')"
   ]
  },
  {
   "cell_type": "markdown",
   "metadata": {},
   "source": [
    "***EU_sales***"
   ]
  },
  {
   "cell_type": "code",
   "execution_count": 58,
   "metadata": {},
   "outputs": [
    {
     "data": {
      "image/png": "[encoded data removed]",
      "text/plain": [
       "<Figure size 1080x360 with 1 Axes>"
      ]
     },
     "metadata": {
      "needs_background": "light"
     },
     "output_type": "display_data"
    },
    {
     "data": {
      "image/png": "[encoded data removed]",
      "text/plain": [
       "<Figure size 1080x360 with 1 Axes>"
      ]
     },
     "metadata": {
      "needs_background": "light"
     },
     "output_type": "display_data"
    },
    {
     "data": {
      "image/png": "[encoded data removed]",
      "text/plain": [
       "<Figure size 1080x360 with 1 Axes>"
      ]
     },
     "metadata": {
      "needs_background": "light"
     },
     "output_type": "display_data"
    }
   ],
   "source": [
    "# Регион eu_sales\n",
    "user_region ('eu_sales')"
   ]
  },
  {
   "cell_type": "markdown",
   "metadata": {},
   "source": [
    "***JP_sales***"
   ]
  },
  {
   "cell_type": "code",
   "execution_count": 59,
   "metadata": {},
   "outputs": [
    {
     "data": {
      "image/png": "[encoded data removed]",
      "text/plain": [
       "<Figure size 1080x360 with 1 Axes>"
      ]
     },
     "metadata": {
      "needs_background": "light"
     },
     "output_type": "display_data"
    },
    {
     "data": {
      "image/png": "[encoded data removed]",
      "text/plain": [
       "<Figure size 1080x360 with 1 Axes>"
      ]
     },
     "metadata": {
      "needs_background": "light"
     },
     "output_type": "display_data"
    },
    {
     "data": {
      "image/png": "[encoded data removed]",
      "text/plain": [
       "<Figure size 1080x360 with 1 Axes>"
      ]
     },
     "metadata": {
      "needs_background": "light"
     },
     "output_type": "display_data"
    }
   ],
   "source": [
    "# Регион jp_sales\n",
    "user_region ('jp_sales')"
   ]
  },
  {
   "cell_type": "code",
   "execution_count": 60,
   "metadata": {},
   "outputs": [
    {
     "data": {
      "text/html": [
       "<div>\n",
       "<style scoped>\n",
       "    .dataframe tbody tr th:only-of-type {\n",
       "        vertical-align: middle;\n",
       "    }\n",
       "\n",
       "    .dataframe tbody tr th {\n",
       "        vertical-align: top;\n",
       "    }\n",
       "\n",
       "    .dataframe thead th {\n",
       "        text-align: right;\n",
       "    }\n",
       "</style>\n",
       "<table border=\"1\" class=\"dataframe\">\n",
       "  <thead>\n",
       "    <tr style=\"text-align: right;\">\n",
       "      <th></th>\n",
       "      <th>eu_sales</th>\n",
       "      <th>jp_sales</th>\n",
       "      <th>na_sales</th>\n",
       "    </tr>\n",
       "    <tr>\n",
       "      <th>rating</th>\n",
       "      <th></th>\n",
       "      <th></th>\n",
       "      <th></th>\n",
       "    </tr>\n",
       "  </thead>\n",
       "  <tbody>\n",
       "    <tr>\n",
       "      <th>E</th>\n",
       "      <td>58.06</td>\n",
       "      <td>8.94</td>\n",
       "      <td>50.74</td>\n",
       "    </tr>\n",
       "    <tr>\n",
       "      <th>E10+</th>\n",
       "      <td>26.16</td>\n",
       "      <td>4.46</td>\n",
       "      <td>33.23</td>\n",
       "    </tr>\n",
       "    <tr>\n",
       "      <th>M</th>\n",
       "      <td>93.44</td>\n",
       "      <td>8.01</td>\n",
       "      <td>96.42</td>\n",
       "    </tr>\n",
       "    <tr>\n",
       "      <th>No</th>\n",
       "      <td>58.95</td>\n",
       "      <td>56.90</td>\n",
       "      <td>64.72</td>\n",
       "    </tr>\n",
       "    <tr>\n",
       "      <th>T</th>\n",
       "      <td>34.07</td>\n",
       "      <td>14.78</td>\n",
       "      <td>38.95</td>\n",
       "    </tr>\n",
       "  </tbody>\n",
       "</table>\n",
       "</div>"
      ],
      "text/plain": [
       "        eu_sales  jp_sales  na_sales\n",
       "rating                              \n",
       "E          58.06      8.94     50.74\n",
       "E10+       26.16      4.46     33.23\n",
       "M          93.44      8.01     96.42\n",
       "No         58.95     56.90     64.72\n",
       "T          34.07     14.78     38.95"
      ]
     },
     "execution_count": 60,
     "metadata": {},
     "output_type": "execute_result"
    }
   ],
   "source": [
    "# Влияет ли рейтинг ESRB на продажи в отдельном регионе\n",
    "sales_on_rating = actual_data.groupby('rating')[['eu_sales', 'jp_sales', 'na_sales',]].sum()\n",
    "sales_on_rating"
   ]
  },
  {
   "cell_type": "code",
   "execution_count": 61,
   "metadata": {},
   "outputs": [
    {
     "data": {
      "image/png": "[encoded data removed]",
      "text/plain": [
       "<Figure size 1080x360 with 2 Axes>"
      ]
     },
     "metadata": {
      "needs_background": "light"
     },
     "output_type": "display_data"
    }
   ],
   "source": [
    "# Построим график\n",
    "plt.figure(figsize=(15, 5))\n",
    "sns.heatmap(sales_on_rating, cmap=plt.cm.Blues, linewidths = 3, annot=True, fmt='3.0f')\n",
    "plt.title('Суммарное число продаж по рейтингу в регионах')\n",
    "plt.show()"
   ]
  },
  {
   "cell_type": "markdown",
   "metadata": {},
   "source": [
    "***Вывод:***\n",
    "\n",
    "Составим портрет пользователя для каждого региона:\n",
    "* ***Регион NA***\n",
    "\n",
    "Самые популярные платформы среди пользователей этого региона это ***X360, PS3, PS4, XOne, 3DS***. Лидерство X360 можно объяснить тем, что платформа создана в Америке и для жителей этого региона это \"домашний\" продукт.\n",
    "\n",
    "Самые востребованные жанры этого региона это: ***Action, Shooter, Sports, Role-Playing, Misc.***\n",
    "\n",
    "В рейтинге ESRB предпочтения распределились следующим образом: ***M, E, T, E10+.***\n",
    "\n",
    "\n",
    "* ***Регион EU***\n",
    "\n",
    "Самые популярные платформы среди пользователей этого региона это ***PS3, PS4, X360, РС, XOne***. Здесь лидируют платформы PS3 и PS4, а платформа X360 менее популярна. Регион EU единственный где игры на платформе PC входят в топ 5.\n",
    "\n",
    "Самые востребованные жанры этого региона это: ***Action, Shooter, Sports, Role-Playing, Racing.***\n",
    "\n",
    "В рейтинге ESRB предпочтения распределились следующим образом: ***M, E, T, E10+.***\n",
    "\n",
    "\n",
    "* ***Регион JP***\n",
    "\n",
    "Самые популярные платформы среди пользователей этого региона это ***3DS, PS3, WiiU, PS4, PSV***. Первое место принадлежит платформе 3DS, что вполне ожидаемо, эта патформа разработана в Японии.\n",
    "\n",
    "Самые востребованные жанры этого региона это: ***Action, Role-Playing, Platform, Shooter, Simulations.*** В отличие от пользователей других регионов, здесь больше любят жанр Role-Playing, а вот жанр Shooter менее востребован. Однако популярны жанры Platform и Simulations, которые не входят в топ 5 в других регионах.\n",
    "\n",
    "В рейтинге ESRB предпочтения распределились следующим образом: ***E, T, M, E10+.*** Есть заметные отличия от других регионов, здесь преобладают игры категории E и T.\n",
    "\n",
    "\n",
    "* «M» («Mature») — «Для взрослых»\n",
    "* «E» («Everyone») — «Для всех»\n",
    "* «T» («Teen») — «Подросткам»\n",
    "* «E10+» («Everyone 10 and older»)\n",
    "\n",
    "\n",
    "\n"
   ]
  },
  {
   "cell_type": "markdown",
   "metadata": {},
   "source": [
    "### Проверьте гипотезы"
   ]
  },
  {
   "cell_type": "markdown",
   "metadata": {},
   "source": [
    "***Средние пользовательские рейтинги платформ Xbox One и PC одинаковые***"
   ]
  },
  {
   "cell_type": "markdown",
   "metadata": {},
   "source": [
    "* Сформируем нулевую гипотезу: средние пользовательские рейтинги платформ Xbox One и PC равны.\n",
    "* Сформируем альтернативную гипотезу: средние пользовательские рейтинги платформ Xbox One и PC не равны."
   ]
  },
  {
   "cell_type": "code",
   "execution_count": 62,
   "metadata": {},
   "outputs": [],
   "source": [
    "# Сделаем выборку\n",
    "xone_user_score = actual_data.query('platform == \"XOne\"')['user_score']\n",
    "\n",
    "pc_user_score = actual_data.query('platform == \"PC\"')['user_score']"
   ]
  },
  {
   "cell_type": "code",
   "execution_count": 63,
   "metadata": {},
   "outputs": [
    {
     "name": "stdout",
     "output_type": "stream",
     "text": [
      "10.056297899353646\n",
      "8.480204377001009\n"
     ]
    }
   ],
   "source": [
    "# Вычислим дисперсию\n",
    "print(np.var(xone_user_score))\n",
    "\n",
    "print(np.var(pc_user_score))"
   ]
  },
  {
   "cell_type": "code",
   "execution_count": 64,
   "metadata": {},
   "outputs": [
    {
     "name": "stdout",
     "output_type": "stream",
     "text": [
      "Значение p-value равно 0.31981092459798116\n",
      "Не отвергаем нулевую гипотезу\n"
     ]
    }
   ],
   "source": [
    "alpha = 0.05\n",
    "\n",
    "results = st.ttest_ind(xone_user_score, pc_user_score, equal_var = False)\n",
    "\n",
    "print('Значение p-value равно', results.pvalue)\n",
    "\n",
    "if results.pvalue > alpha:\n",
    "    \n",
    "    print('Не отвергаем нулевую гипотезу')\n",
    "    \n",
    "else:\n",
    "    \n",
    "    print('Отвергаем нулевую гипотезу')"
   ]
  },
  {
   "cell_type": "markdown",
   "metadata": {},
   "source": [
    "Вывод: Не удалось отвергнуть гипотезу: средние пользовательские рейтинги платформ Xbox One и PC равны."
   ]
  },
  {
   "cell_type": "markdown",
   "metadata": {},
   "source": [
    "***Средние пользовательские рейтинги жанров Action и Sports разные***"
   ]
  },
  {
   "cell_type": "markdown",
   "metadata": {},
   "source": [
    "* Сформируем нулевую гипотезу: средние пользовательские рейтинги жанров Action и Sports равны.\n",
    "* Сформируем альтернативную гипотезу: средние пользовательские рейтинги жанров Action и Sports не равны."
   ]
  },
  {
   "cell_type": "code",
   "execution_count": 65,
   "metadata": {},
   "outputs": [],
   "source": [
    "# Сделаем выборку\n",
    "action_user_score = actual_data.query('genre == \"Action\"')['user_score']\n",
    "\n",
    "sports_user_score = actual_data.query('genre == \"Sports\"')['user_score']"
   ]
  },
  {
   "cell_type": "code",
   "execution_count": 66,
   "metadata": {},
   "outputs": [
    {
     "name": "stdout",
     "output_type": "stream",
     "text": [
      "12.315643867721402\n",
      "7.245800702133405\n"
     ]
    }
   ],
   "source": [
    "# Вычислим дисперсию\n",
    "print(np.var(action_user_score))\n",
    "\n",
    "print(np.var(sports_user_score))"
   ]
  },
  {
   "cell_type": "code",
   "execution_count": 67,
   "metadata": {},
   "outputs": [
    {
     "name": "stdout",
     "output_type": "stream",
     "text": [
      "Значение p-value равно 0.0006646333120910831\n",
      "Отвергаем нулевую гипотезу\n"
     ]
    }
   ],
   "source": [
    "results = st.ttest_ind(action_user_score, sports_user_score, equal_var = False)\n",
    "\n",
    "print('Значение p-value равно', results.pvalue)\n",
    "\n",
    "if results.pvalue > alpha:\n",
    "    \n",
    "    print('Не отвергаем нулевую гипотезу')\n",
    "    \n",
    "else:\n",
    "    \n",
    "    print('Отвергаем нулевую гипотезу')"
   ]
  },
  {
   "cell_type": "markdown",
   "metadata": {},
   "source": [
    "Вывод: Отвергаем нулевую гипотезу: средние пользовательские рейтинги жанров Action и Sports равны."
   ]
  },
  {
   "cell_type": "markdown",
   "metadata": {},
   "source": [
    "### Напишите общий вывод"
   ]
  },
  {
   "cell_type": "markdown",
   "metadata": {},
   "source": [
    "* Файл содержит 16715 записей. Количество значений в столбцах различается, что говорит о том, что есть пропущенные значения. Присутствуют некорректные типы данных и наименования столбцов. Построена общая гистограмма для всех числовых столбцов таблицы.\n",
    "\n",
    "\n",
    "* Выполнена предобработка данных, датасет содержит 16444 записи. Удалены некорректные записи. Изменены типы данных столбцов year_of_release, critic_score, user_score.\n",
    "\n",
    "\n",
    "* В среднем с момента релиза платформа остается актуальной в течении 10-11 лет. Однако, только первые 5 лет сопровождаются ростом продаж, затем продажи начинают падать.\n",
    "\n",
    "  Изучив полученные данные, можно сделать вывод, что актуальными будут данные за последний период с 2014 по 2016 год.\n",
    "\n",
    "  Лидерами продаж среди платформ актуальных на 2016 год являются: PS4, XOne и 3DS.\n",
    "\n",
    "  Платформы с большим количеством продаж имеют большой разброс величины, сильное смещение среднего относительно медианы, и   стандартное отклонение в несколько раз превосходящее среднее значение.\n",
    "\n",
    "  Коэффициент корреляции между оценками пользователей и количеством продаж очень мал (0,13; 0,04; 0.07) на всех исследуемых платформах. Основываясь на этом можем сделать вывод, что оценки пользователей не влияют на продажи.\n",
    "\n",
    "  Коэффициент корреляции между оценками критиков и количеством продаж незначителен (0,52; 0,40; 0.42) на всех исследуемых платформах. Основываясь на этом можем сделать вывод, что оценки критиков слабо влияют на продажи.\n",
    "\n",
    "  На графиках есть одиночные игры с высокими продажами, и высокими оценками - это бестселлеры.\n",
    "\n",
    "\n",
    "* В 2017 году следует делать ставку на продажи для платформ: PS4, XOne и 3DS. Основными продаваемыми жанрами будут: Action, Shooter, Sports и Role-playing. Для каждого из регионов (NA, EU, JP) составлен потрет пользователя, данные которого необходимо учитывать при планировании кампании.\n",
    "\n",
    "\n",
    "* С помощью статистического анализа были проверены и приняты следующие гипотезы:\n",
    "\n",
    "  Средние пользовательские рейтинги платформ Xbox One и PC равны.\n",
    "  \n",
    "  Средние пользовательские рейтинги жанров Action и Sports не равны."
   ]
  }
 ],
 "metadata": {
  "ExecuteTimeLog": [
   {
    "duration": 399,
    "start_time": "2023-03-16T05:45:53.815Z"
   },
   {
    "duration": 199,
    "start_time": "2023-03-16T05:45:54.542Z"
   },
   {
    "duration": 25,
    "start_time": "2023-03-16T05:45:55.212Z"
   },
   {
    "duration": 14,
    "start_time": "2023-03-16T05:46:44.541Z"
   },
   {
    "duration": 51,
    "start_time": "2023-03-16T08:33:07.276Z"
   },
   {
    "duration": 62,
    "start_time": "2023-03-16T08:33:42.872Z"
   },
   {
    "duration": 29,
    "start_time": "2023-03-16T08:34:45.641Z"
   },
   {
    "duration": 13,
    "start_time": "2023-03-16T08:35:41.971Z"
   },
   {
    "duration": 26,
    "start_time": "2023-03-16T08:35:43.442Z"
   },
   {
    "duration": 1144,
    "start_time": "2023-03-16T08:35:47.144Z"
   },
   {
    "duration": 12,
    "start_time": "2023-03-16T09:00:10.512Z"
   },
   {
    "duration": 353,
    "start_time": "2023-03-16T09:09:13.796Z"
   },
   {
    "duration": 52,
    "start_time": "2023-03-16T09:09:14.151Z"
   },
   {
    "duration": 21,
    "start_time": "2023-03-16T09:09:14.204Z"
   },
   {
    "duration": 18,
    "start_time": "2023-03-16T09:09:14.227Z"
   },
   {
    "duration": 27,
    "start_time": "2023-03-16T09:09:14.247Z"
   },
   {
    "duration": 947,
    "start_time": "2023-03-16T09:09:14.275Z"
   },
   {
    "duration": 9,
    "start_time": "2023-03-16T09:09:15.223Z"
   },
   {
    "duration": 7,
    "start_time": "2023-03-16T09:09:15.233Z"
   },
   {
    "duration": 82,
    "start_time": "2023-03-16T09:10:13.300Z"
   },
   {
    "duration": 8,
    "start_time": "2023-03-16T09:13:36.408Z"
   },
   {
    "duration": 4,
    "start_time": "2023-03-16T09:15:08.932Z"
   },
   {
    "duration": 1220,
    "start_time": "2023-03-16T09:19:25.301Z"
   },
   {
    "duration": 385,
    "start_time": "2023-03-16T09:19:40.486Z"
   },
   {
    "duration": 53,
    "start_time": "2023-03-16T09:19:40.873Z"
   },
   {
    "duration": 30,
    "start_time": "2023-03-16T09:19:40.928Z"
   },
   {
    "duration": 21,
    "start_time": "2023-03-16T09:19:40.960Z"
   },
   {
    "duration": 35,
    "start_time": "2023-03-16T09:19:40.983Z"
   },
   {
    "duration": 1056,
    "start_time": "2023-03-16T09:19:41.020Z"
   },
   {
    "duration": 9,
    "start_time": "2023-03-16T09:19:42.078Z"
   },
   {
    "duration": 6,
    "start_time": "2023-03-16T09:19:42.089Z"
   },
   {
    "duration": 14,
    "start_time": "2023-03-16T09:19:42.097Z"
   },
   {
    "duration": 9,
    "start_time": "2023-03-16T09:19:42.114Z"
   },
   {
    "duration": 4,
    "start_time": "2023-03-16T09:19:42.125Z"
   },
   {
    "duration": 4,
    "start_time": "2023-03-16T09:41:01.993Z"
   },
   {
    "duration": 7,
    "start_time": "2023-03-16T09:41:02.213Z"
   },
   {
    "duration": 4,
    "start_time": "2023-03-16T09:41:02.377Z"
   },
   {
    "duration": 394,
    "start_time": "2023-03-17T03:28:06.306Z"
   },
   {
    "duration": 100,
    "start_time": "2023-03-17T03:28:06.702Z"
   },
   {
    "duration": 19,
    "start_time": "2023-03-17T03:28:06.804Z"
   },
   {
    "duration": 13,
    "start_time": "2023-03-17T03:28:06.825Z"
   },
   {
    "duration": 23,
    "start_time": "2023-03-17T03:28:06.839Z"
   },
   {
    "duration": 1092,
    "start_time": "2023-03-17T03:28:06.864Z"
   },
   {
    "duration": 11,
    "start_time": "2023-03-17T03:28:07.958Z"
   },
   {
    "duration": 10,
    "start_time": "2023-03-17T03:28:07.979Z"
   },
   {
    "duration": 5,
    "start_time": "2023-03-17T03:28:07.991Z"
   },
   {
    "duration": 9,
    "start_time": "2023-03-17T03:28:07.998Z"
   },
   {
    "duration": 5,
    "start_time": "2023-03-17T03:28:08.009Z"
   },
   {
    "duration": 70,
    "start_time": "2023-03-17T03:35:32.011Z"
   },
   {
    "duration": 4,
    "start_time": "2023-03-17T03:36:11.418Z"
   },
   {
    "duration": 10,
    "start_time": "2023-03-17T06:04:19.175Z"
   },
   {
    "duration": 53,
    "start_time": "2023-03-17T06:08:05.895Z"
   },
   {
    "duration": 362,
    "start_time": "2023-03-17T08:21:05.419Z"
   },
   {
    "duration": 94,
    "start_time": "2023-03-17T08:21:05.783Z"
   },
   {
    "duration": 23,
    "start_time": "2023-03-17T08:21:05.878Z"
   },
   {
    "duration": 39,
    "start_time": "2023-03-17T08:21:05.903Z"
   },
   {
    "duration": 46,
    "start_time": "2023-03-17T08:21:05.944Z"
   },
   {
    "duration": 1221,
    "start_time": "2023-03-17T08:21:05.992Z"
   },
   {
    "duration": 13,
    "start_time": "2023-03-17T08:21:07.215Z"
   },
   {
    "duration": 17,
    "start_time": "2023-03-17T08:21:07.230Z"
   },
   {
    "duration": 15,
    "start_time": "2023-03-17T08:21:07.249Z"
   },
   {
    "duration": 38,
    "start_time": "2023-03-17T08:21:07.266Z"
   },
   {
    "duration": 28,
    "start_time": "2023-03-17T08:21:07.306Z"
   },
   {
    "duration": 32,
    "start_time": "2023-03-17T08:21:07.336Z"
   },
   {
    "duration": 8,
    "start_time": "2023-03-17T08:21:07.370Z"
   },
   {
    "duration": 238,
    "start_time": "2023-03-17T08:24:35.108Z"
   },
   {
    "duration": 367,
    "start_time": "2023-03-17T08:26:24.191Z"
   },
   {
    "duration": 48,
    "start_time": "2023-03-17T08:26:24.560Z"
   },
   {
    "duration": 19,
    "start_time": "2023-03-17T08:26:24.609Z"
   },
   {
    "duration": 13,
    "start_time": "2023-03-17T08:26:24.630Z"
   },
   {
    "duration": 36,
    "start_time": "2023-03-17T08:26:24.644Z"
   },
   {
    "duration": 884,
    "start_time": "2023-03-17T08:26:24.682Z"
   },
   {
    "duration": 12,
    "start_time": "2023-03-17T08:26:25.568Z"
   },
   {
    "duration": 6,
    "start_time": "2023-03-17T08:26:25.581Z"
   },
   {
    "duration": 5,
    "start_time": "2023-03-17T08:26:25.589Z"
   },
   {
    "duration": 10,
    "start_time": "2023-03-17T08:26:25.596Z"
   },
   {
    "duration": 4,
    "start_time": "2023-03-17T08:26:25.607Z"
   },
   {
    "duration": 6,
    "start_time": "2023-03-17T08:26:25.613Z"
   },
   {
    "duration": 6,
    "start_time": "2023-03-17T08:26:25.620Z"
   },
   {
    "duration": 104,
    "start_time": "2023-03-17T08:26:25.627Z"
   },
   {
    "duration": 0,
    "start_time": "2023-03-17T08:26:25.732Z"
   },
   {
    "duration": 11,
    "start_time": "2023-03-17T08:27:29.165Z"
   },
   {
    "duration": 6,
    "start_time": "2023-03-17T08:27:39.988Z"
   },
   {
    "duration": 446,
    "start_time": "2023-03-18T15:46:40.333Z"
   },
   {
    "duration": 108,
    "start_time": "2023-03-18T15:46:40.781Z"
   },
   {
    "duration": 28,
    "start_time": "2023-03-18T15:46:40.891Z"
   },
   {
    "duration": 16,
    "start_time": "2023-03-18T15:46:40.921Z"
   },
   {
    "duration": 48,
    "start_time": "2023-03-18T15:46:40.940Z"
   },
   {
    "duration": 1308,
    "start_time": "2023-03-18T15:46:40.991Z"
   },
   {
    "duration": 13,
    "start_time": "2023-03-18T15:46:42.301Z"
   },
   {
    "duration": 11,
    "start_time": "2023-03-18T15:46:42.317Z"
   },
   {
    "duration": 8,
    "start_time": "2023-03-18T15:46:42.331Z"
   },
   {
    "duration": 15,
    "start_time": "2023-03-18T15:46:42.374Z"
   },
   {
    "duration": 8,
    "start_time": "2023-03-18T15:46:42.392Z"
   },
   {
    "duration": 17,
    "start_time": "2023-03-18T15:46:42.402Z"
   },
   {
    "duration": 5,
    "start_time": "2023-03-18T15:46:42.422Z"
   },
   {
    "duration": 112,
    "start_time": "2023-03-18T15:46:42.431Z"
   },
   {
    "duration": 0,
    "start_time": "2023-03-18T15:46:42.545Z"
   },
   {
    "duration": 5,
    "start_time": "2023-03-18T15:48:35.618Z"
   },
   {
    "duration": 390,
    "start_time": "2023-03-18T15:48:52.021Z"
   },
   {
    "duration": 57,
    "start_time": "2023-03-18T15:48:52.413Z"
   },
   {
    "duration": 24,
    "start_time": "2023-03-18T15:48:52.472Z"
   },
   {
    "duration": 15,
    "start_time": "2023-03-18T15:48:52.498Z"
   },
   {
    "duration": 80,
    "start_time": "2023-03-18T15:48:52.515Z"
   },
   {
    "duration": 1154,
    "start_time": "2023-03-18T15:48:52.598Z"
   },
   {
    "duration": 19,
    "start_time": "2023-03-18T15:48:53.754Z"
   },
   {
    "duration": 9,
    "start_time": "2023-03-18T15:48:53.776Z"
   },
   {
    "duration": 6,
    "start_time": "2023-03-18T15:48:53.788Z"
   },
   {
    "duration": 13,
    "start_time": "2023-03-18T15:48:53.796Z"
   },
   {
    "duration": 6,
    "start_time": "2023-03-18T15:48:53.812Z"
   },
   {
    "duration": 5,
    "start_time": "2023-03-18T15:48:53.820Z"
   },
   {
    "duration": 54,
    "start_time": "2023-03-18T15:48:53.827Z"
   },
   {
    "duration": 5,
    "start_time": "2023-03-18T15:48:53.884Z"
   },
   {
    "duration": 101,
    "start_time": "2023-03-18T15:48:53.891Z"
   },
   {
    "duration": 0,
    "start_time": "2023-03-18T15:48:53.994Z"
   },
   {
    "duration": 409,
    "start_time": "2023-03-18T15:50:08.496Z"
   },
   {
    "duration": 60,
    "start_time": "2023-03-18T15:50:08.908Z"
   },
   {
    "duration": 30,
    "start_time": "2023-03-18T15:50:08.970Z"
   },
   {
    "duration": 27,
    "start_time": "2023-03-18T15:50:09.003Z"
   },
   {
    "duration": 55,
    "start_time": "2023-03-18T15:50:09.035Z"
   },
   {
    "duration": 1142,
    "start_time": "2023-03-18T15:50:09.092Z"
   },
   {
    "duration": 11,
    "start_time": "2023-03-18T15:50:10.237Z"
   },
   {
    "duration": 23,
    "start_time": "2023-03-18T15:50:10.251Z"
   },
   {
    "duration": 16,
    "start_time": "2023-03-18T15:50:10.276Z"
   },
   {
    "duration": 11,
    "start_time": "2023-03-18T15:50:10.294Z"
   },
   {
    "duration": 6,
    "start_time": "2023-03-18T15:50:10.308Z"
   },
   {
    "duration": 8,
    "start_time": "2023-03-18T15:50:10.316Z"
   },
   {
    "duration": 10,
    "start_time": "2023-03-18T15:50:10.326Z"
   },
   {
    "duration": 36,
    "start_time": "2023-03-18T15:50:10.340Z"
   },
   {
    "duration": 7,
    "start_time": "2023-03-18T15:50:10.378Z"
   },
   {
    "duration": 111,
    "start_time": "2023-03-18T15:50:10.387Z"
   },
   {
    "duration": 0,
    "start_time": "2023-03-18T15:50:10.500Z"
   },
   {
    "duration": 5,
    "start_time": "2023-03-18T16:42:19.846Z"
   },
   {
    "duration": 5,
    "start_time": "2023-03-18T16:42:55.612Z"
   },
   {
    "duration": 6,
    "start_time": "2023-03-18T16:43:00.710Z"
   },
   {
    "duration": 11,
    "start_time": "2023-03-18T16:43:02.068Z"
   },
   {
    "duration": 9,
    "start_time": "2023-03-18T16:43:03.113Z"
   },
   {
    "duration": 7,
    "start_time": "2023-03-18T16:43:17.308Z"
   },
   {
    "duration": 6,
    "start_time": "2023-03-18T16:43:44.449Z"
   },
   {
    "duration": 582,
    "start_time": "2023-03-18T16:43:53.844Z"
   },
   {
    "duration": 60,
    "start_time": "2023-03-18T16:43:54.428Z"
   },
   {
    "duration": 30,
    "start_time": "2023-03-18T16:43:54.490Z"
   },
   {
    "duration": 24,
    "start_time": "2023-03-18T16:43:54.522Z"
   },
   {
    "duration": 58,
    "start_time": "2023-03-18T16:43:54.549Z"
   },
   {
    "duration": 1208,
    "start_time": "2023-03-18T16:43:54.609Z"
   },
   {
    "duration": 13,
    "start_time": "2023-03-18T16:43:55.819Z"
   },
   {
    "duration": 11,
    "start_time": "2023-03-18T16:43:55.834Z"
   },
   {
    "duration": 29,
    "start_time": "2023-03-18T16:43:55.847Z"
   },
   {
    "duration": 13,
    "start_time": "2023-03-18T16:43:55.879Z"
   },
   {
    "duration": 6,
    "start_time": "2023-03-18T16:43:55.894Z"
   },
   {
    "duration": 9,
    "start_time": "2023-03-18T16:43:55.902Z"
   },
   {
    "duration": 10,
    "start_time": "2023-03-18T16:43:55.913Z"
   },
   {
    "duration": 48,
    "start_time": "2023-03-18T16:43:55.927Z"
   },
   {
    "duration": 5,
    "start_time": "2023-03-18T16:43:55.977Z"
   },
   {
    "duration": 13,
    "start_time": "2023-03-18T16:43:55.984Z"
   },
   {
    "duration": 108,
    "start_time": "2023-03-18T16:43:56.000Z"
   },
   {
    "duration": 0,
    "start_time": "2023-03-18T16:43:56.110Z"
   },
   {
    "duration": 5,
    "start_time": "2023-03-18T16:44:43.511Z"
   },
   {
    "duration": 8,
    "start_time": "2023-03-18T16:48:25.322Z"
   },
   {
    "duration": 27,
    "start_time": "2023-03-18T17:16:02.352Z"
   },
   {
    "duration": 13,
    "start_time": "2023-03-18T17:16:04.635Z"
   },
   {
    "duration": 10,
    "start_time": "2023-03-18T17:16:47.316Z"
   },
   {
    "duration": 6,
    "start_time": "2023-03-18T17:18:34.671Z"
   },
   {
    "duration": 14,
    "start_time": "2023-03-18T17:19:56.631Z"
   },
   {
    "duration": 420,
    "start_time": "2023-03-18T17:20:05.117Z"
   },
   {
    "duration": 58,
    "start_time": "2023-03-18T17:20:05.539Z"
   },
   {
    "duration": 27,
    "start_time": "2023-03-18T17:20:05.599Z"
   },
   {
    "duration": 17,
    "start_time": "2023-03-18T17:20:05.628Z"
   },
   {
    "duration": 32,
    "start_time": "2023-03-18T17:20:05.672Z"
   },
   {
    "duration": 1199,
    "start_time": "2023-03-18T17:20:05.705Z"
   },
   {
    "duration": 12,
    "start_time": "2023-03-18T17:20:06.907Z"
   },
   {
    "duration": 13,
    "start_time": "2023-03-18T17:20:06.921Z"
   },
   {
    "duration": 11,
    "start_time": "2023-03-18T17:20:06.936Z"
   },
   {
    "duration": 12,
    "start_time": "2023-03-18T17:20:06.975Z"
   },
   {
    "duration": 14,
    "start_time": "2023-03-18T17:20:06.988Z"
   },
   {
    "duration": 11,
    "start_time": "2023-03-18T17:20:07.005Z"
   },
   {
    "duration": 13,
    "start_time": "2023-03-18T17:20:07.018Z"
   },
   {
    "duration": 7,
    "start_time": "2023-03-18T17:20:07.033Z"
   },
   {
    "duration": 12,
    "start_time": "2023-03-18T17:20:07.042Z"
   },
   {
    "duration": 22,
    "start_time": "2023-03-18T17:20:07.056Z"
   },
   {
    "duration": 12,
    "start_time": "2023-03-18T17:20:07.081Z"
   },
   {
    "duration": 11,
    "start_time": "2023-03-18T17:20:07.095Z"
   },
   {
    "duration": 4,
    "start_time": "2023-03-18T17:20:07.108Z"
   },
   {
    "duration": 7,
    "start_time": "2023-03-18T17:20:07.114Z"
   },
   {
    "duration": 114,
    "start_time": "2023-03-18T17:20:07.122Z"
   },
   {
    "duration": 0,
    "start_time": "2023-03-18T17:20:07.238Z"
   },
   {
    "duration": 0,
    "start_time": "2023-03-18T17:20:07.240Z"
   },
   {
    "duration": 6,
    "start_time": "2023-03-18T17:20:48.313Z"
   },
   {
    "duration": 6,
    "start_time": "2023-03-18T17:21:38.661Z"
   },
   {
    "duration": 6,
    "start_time": "2023-03-18T17:22:03.455Z"
   },
   {
    "duration": 8,
    "start_time": "2023-03-18T17:22:43.745Z"
   },
   {
    "duration": 6,
    "start_time": "2023-03-18T17:25:40.822Z"
   },
   {
    "duration": 436,
    "start_time": "2023-03-18T17:26:12.488Z"
   },
   {
    "duration": 57,
    "start_time": "2023-03-18T17:26:12.927Z"
   },
   {
    "duration": 28,
    "start_time": "2023-03-18T17:26:12.986Z"
   },
   {
    "duration": 16,
    "start_time": "2023-03-18T17:26:13.016Z"
   },
   {
    "duration": 49,
    "start_time": "2023-03-18T17:26:13.035Z"
   },
   {
    "duration": 1139,
    "start_time": "2023-03-18T17:26:13.086Z"
   },
   {
    "duration": 11,
    "start_time": "2023-03-18T17:26:14.227Z"
   },
   {
    "duration": 14,
    "start_time": "2023-03-18T17:26:14.240Z"
   },
   {
    "duration": 23,
    "start_time": "2023-03-18T17:26:14.256Z"
   },
   {
    "duration": 21,
    "start_time": "2023-03-18T17:26:14.282Z"
   },
   {
    "duration": 28,
    "start_time": "2023-03-18T17:26:14.305Z"
   },
   {
    "duration": 12,
    "start_time": "2023-03-18T17:26:14.335Z"
   },
   {
    "duration": 30,
    "start_time": "2023-03-18T17:26:14.349Z"
   },
   {
    "duration": 8,
    "start_time": "2023-03-18T17:26:14.383Z"
   },
   {
    "duration": 10,
    "start_time": "2023-03-18T17:26:14.393Z"
   },
   {
    "duration": 7,
    "start_time": "2023-03-18T17:26:14.407Z"
   },
   {
    "duration": 7,
    "start_time": "2023-03-18T17:26:14.416Z"
   },
   {
    "duration": 6,
    "start_time": "2023-03-18T17:26:14.425Z"
   },
   {
    "duration": 7,
    "start_time": "2023-03-18T17:26:14.433Z"
   },
   {
    "duration": 34,
    "start_time": "2023-03-18T17:26:14.442Z"
   },
   {
    "duration": 16,
    "start_time": "2023-03-18T17:26:14.478Z"
   },
   {
    "duration": 12,
    "start_time": "2023-03-18T17:26:14.496Z"
   },
   {
    "duration": 11,
    "start_time": "2023-03-18T17:26:14.510Z"
   },
   {
    "duration": 10,
    "start_time": "2023-03-18T17:26:14.523Z"
   },
   {
    "duration": 8,
    "start_time": "2023-03-18T17:26:14.534Z"
   },
   {
    "duration": 111,
    "start_time": "2023-03-18T17:26:14.544Z"
   },
   {
    "duration": 8,
    "start_time": "2023-03-18T17:27:08.544Z"
   },
   {
    "duration": 6,
    "start_time": "2023-03-18T17:27:09.426Z"
   },
   {
    "duration": 9,
    "start_time": "2023-03-18T17:27:10.199Z"
   },
   {
    "duration": 398,
    "start_time": "2023-03-18T17:27:18.114Z"
   },
   {
    "duration": 62,
    "start_time": "2023-03-18T17:27:18.515Z"
   },
   {
    "duration": 29,
    "start_time": "2023-03-18T17:27:18.579Z"
   },
   {
    "duration": 17,
    "start_time": "2023-03-18T17:27:18.611Z"
   },
   {
    "duration": 58,
    "start_time": "2023-03-18T17:27:18.630Z"
   },
   {
    "duration": 1158,
    "start_time": "2023-03-18T17:27:18.690Z"
   },
   {
    "duration": 11,
    "start_time": "2023-03-18T17:27:19.849Z"
   },
   {
    "duration": 21,
    "start_time": "2023-03-18T17:27:19.861Z"
   },
   {
    "duration": 7,
    "start_time": "2023-03-18T17:27:19.884Z"
   },
   {
    "duration": 10,
    "start_time": "2023-03-18T17:27:19.894Z"
   },
   {
    "duration": 5,
    "start_time": "2023-03-18T17:27:19.906Z"
   },
   {
    "duration": 10,
    "start_time": "2023-03-18T17:27:19.912Z"
   },
   {
    "duration": 7,
    "start_time": "2023-03-18T17:27:19.923Z"
   },
   {
    "duration": 4,
    "start_time": "2023-03-18T17:27:19.973Z"
   },
   {
    "duration": 5,
    "start_time": "2023-03-18T17:27:19.979Z"
   },
   {
    "duration": 7,
    "start_time": "2023-03-18T17:27:19.985Z"
   },
   {
    "duration": 6,
    "start_time": "2023-03-18T17:27:19.994Z"
   },
   {
    "duration": 9,
    "start_time": "2023-03-18T17:27:20.002Z"
   },
   {
    "duration": 8,
    "start_time": "2023-03-18T17:27:20.013Z"
   },
   {
    "duration": 13,
    "start_time": "2023-03-18T17:27:20.023Z"
   },
   {
    "duration": 47,
    "start_time": "2023-03-18T17:27:20.038Z"
   },
   {
    "duration": 17,
    "start_time": "2023-03-18T17:27:20.086Z"
   },
   {
    "duration": 11,
    "start_time": "2023-03-18T17:27:20.105Z"
   },
   {
    "duration": 9,
    "start_time": "2023-03-18T17:27:20.118Z"
   },
   {
    "duration": 6,
    "start_time": "2023-03-18T17:27:20.128Z"
   },
   {
    "duration": 101,
    "start_time": "2023-03-18T17:27:20.135Z"
   },
   {
    "duration": 4,
    "start_time": "2023-03-18T17:27:44.088Z"
   },
   {
    "duration": 9,
    "start_time": "2023-03-18T17:27:44.963Z"
   },
   {
    "duration": 9,
    "start_time": "2023-03-18T17:27:45.556Z"
   },
   {
    "duration": 10,
    "start_time": "2023-03-18T17:45:57.237Z"
   },
   {
    "duration": 557,
    "start_time": "2023-03-18T17:46:15.549Z"
   },
   {
    "duration": 88,
    "start_time": "2023-03-18T17:46:16.110Z"
   },
   {
    "duration": 46,
    "start_time": "2023-03-18T17:46:16.201Z"
   },
   {
    "duration": 39,
    "start_time": "2023-03-18T17:46:16.249Z"
   },
   {
    "duration": 52,
    "start_time": "2023-03-18T17:46:16.292Z"
   },
   {
    "duration": 1249,
    "start_time": "2023-03-18T17:46:16.347Z"
   },
   {
    "duration": 15,
    "start_time": "2023-03-18T17:46:17.599Z"
   },
   {
    "duration": 18,
    "start_time": "2023-03-18T17:46:17.616Z"
   },
   {
    "duration": 15,
    "start_time": "2023-03-18T17:46:17.639Z"
   },
   {
    "duration": 17,
    "start_time": "2023-03-18T17:46:17.674Z"
   },
   {
    "duration": 6,
    "start_time": "2023-03-18T17:46:17.694Z"
   },
   {
    "duration": 5,
    "start_time": "2023-03-18T17:46:17.703Z"
   },
   {
    "duration": 18,
    "start_time": "2023-03-18T17:46:17.711Z"
   },
   {
    "duration": 43,
    "start_time": "2023-03-18T17:46:17.733Z"
   },
   {
    "duration": 7,
    "start_time": "2023-03-18T17:46:17.779Z"
   },
   {
    "duration": 5,
    "start_time": "2023-03-18T17:46:17.788Z"
   },
   {
    "duration": 11,
    "start_time": "2023-03-18T17:46:17.796Z"
   },
   {
    "duration": 7,
    "start_time": "2023-03-18T17:46:17.810Z"
   },
   {
    "duration": 53,
    "start_time": "2023-03-18T17:46:17.820Z"
   },
   {
    "duration": 4,
    "start_time": "2023-03-18T17:46:17.876Z"
   },
   {
    "duration": 15,
    "start_time": "2023-03-18T17:46:17.882Z"
   },
   {
    "duration": 10,
    "start_time": "2023-03-18T17:46:17.900Z"
   },
   {
    "duration": 9,
    "start_time": "2023-03-18T17:46:17.912Z"
   },
   {
    "duration": 13,
    "start_time": "2023-03-18T17:46:17.923Z"
   },
   {
    "duration": 39,
    "start_time": "2023-03-18T17:46:17.938Z"
   },
   {
    "duration": 20,
    "start_time": "2023-03-18T17:46:17.980Z"
   },
   {
    "duration": 96,
    "start_time": "2023-03-18T17:46:18.003Z"
   },
   {
    "duration": 6,
    "start_time": "2023-03-18T17:47:19.168Z"
   },
   {
    "duration": 533,
    "start_time": "2023-03-18T17:47:28.537Z"
   },
   {
    "duration": 75,
    "start_time": "2023-03-18T17:47:29.073Z"
   },
   {
    "duration": 35,
    "start_time": "2023-03-18T17:47:29.151Z"
   },
   {
    "duration": 34,
    "start_time": "2023-03-18T17:47:29.188Z"
   },
   {
    "duration": 69,
    "start_time": "2023-03-18T17:47:29.227Z"
   },
   {
    "duration": 1205,
    "start_time": "2023-03-18T17:47:29.299Z"
   },
   {
    "duration": 11,
    "start_time": "2023-03-18T17:47:30.507Z"
   },
   {
    "duration": 17,
    "start_time": "2023-03-18T17:47:30.520Z"
   },
   {
    "duration": 36,
    "start_time": "2023-03-18T17:47:30.540Z"
   },
   {
    "duration": 24,
    "start_time": "2023-03-18T17:47:30.579Z"
   },
   {
    "duration": 32,
    "start_time": "2023-03-18T17:47:30.606Z"
   },
   {
    "duration": 38,
    "start_time": "2023-03-18T17:47:30.640Z"
   },
   {
    "duration": 29,
    "start_time": "2023-03-18T17:47:30.680Z"
   },
   {
    "duration": 22,
    "start_time": "2023-03-18T17:47:30.713Z"
   },
   {
    "duration": 34,
    "start_time": "2023-03-18T17:47:30.737Z"
   },
   {
    "duration": 49,
    "start_time": "2023-03-18T17:47:30.775Z"
   },
   {
    "duration": 62,
    "start_time": "2023-03-18T17:47:30.826Z"
   },
   {
    "duration": 33,
    "start_time": "2023-03-18T17:47:30.891Z"
   },
   {
    "duration": 64,
    "start_time": "2023-03-18T17:47:30.926Z"
   },
   {
    "duration": 57,
    "start_time": "2023-03-18T17:47:30.993Z"
   },
   {
    "duration": 86,
    "start_time": "2023-03-18T17:47:31.053Z"
   },
   {
    "duration": 40,
    "start_time": "2023-03-18T17:47:31.141Z"
   },
   {
    "duration": 29,
    "start_time": "2023-03-18T17:47:31.184Z"
   },
   {
    "duration": 45,
    "start_time": "2023-03-18T17:47:31.215Z"
   },
   {
    "duration": 34,
    "start_time": "2023-03-18T17:47:31.263Z"
   },
   {
    "duration": 35,
    "start_time": "2023-03-18T17:47:31.299Z"
   },
   {
    "duration": 158,
    "start_time": "2023-03-18T17:47:31.337Z"
   },
   {
    "duration": 441,
    "start_time": "2023-03-18T17:49:45.928Z"
   },
   {
    "duration": 61,
    "start_time": "2023-03-18T17:49:46.372Z"
   },
   {
    "duration": 31,
    "start_time": "2023-03-18T17:49:46.435Z"
   },
   {
    "duration": 22,
    "start_time": "2023-03-18T17:49:46.468Z"
   },
   {
    "duration": 35,
    "start_time": "2023-03-18T17:49:46.492Z"
   },
   {
    "duration": 1202,
    "start_time": "2023-03-18T17:49:46.529Z"
   },
   {
    "duration": 12,
    "start_time": "2023-03-18T17:49:47.734Z"
   },
   {
    "duration": 28,
    "start_time": "2023-03-18T17:49:47.749Z"
   },
   {
    "duration": 8,
    "start_time": "2023-03-18T17:49:47.780Z"
   },
   {
    "duration": 15,
    "start_time": "2023-03-18T17:49:47.794Z"
   },
   {
    "duration": 9,
    "start_time": "2023-03-18T17:49:47.811Z"
   },
   {
    "duration": 18,
    "start_time": "2023-03-18T17:49:47.822Z"
   },
   {
    "duration": 40,
    "start_time": "2023-03-18T17:49:47.842Z"
   },
   {
    "duration": 9,
    "start_time": "2023-03-18T17:49:47.884Z"
   },
   {
    "duration": 7,
    "start_time": "2023-03-18T17:49:47.896Z"
   },
   {
    "duration": 8,
    "start_time": "2023-03-18T17:49:47.906Z"
   },
   {
    "duration": 9,
    "start_time": "2023-03-18T17:49:47.917Z"
   },
   {
    "duration": 46,
    "start_time": "2023-03-18T17:49:47.929Z"
   },
   {
    "duration": 6,
    "start_time": "2023-03-18T17:49:47.978Z"
   },
   {
    "duration": 15,
    "start_time": "2023-03-18T17:49:47.987Z"
   },
   {
    "duration": 8,
    "start_time": "2023-03-18T17:49:48.005Z"
   },
   {
    "duration": 17,
    "start_time": "2023-03-18T17:49:48.016Z"
   },
   {
    "duration": 10,
    "start_time": "2023-03-18T17:49:48.036Z"
   },
   {
    "duration": 28,
    "start_time": "2023-03-18T17:49:48.049Z"
   },
   {
    "duration": 12,
    "start_time": "2023-03-18T17:49:48.079Z"
   },
   {
    "duration": 15,
    "start_time": "2023-03-18T17:49:48.094Z"
   },
   {
    "duration": 167,
    "start_time": "2023-03-18T17:49:48.112Z"
   },
   {
    "duration": 6,
    "start_time": "2023-03-18T17:50:06.605Z"
   },
   {
    "duration": 7,
    "start_time": "2023-03-18T17:50:08.839Z"
   },
   {
    "duration": 13,
    "start_time": "2023-03-18T17:50:09.693Z"
   },
   {
    "duration": 8,
    "start_time": "2023-03-18T17:51:44.713Z"
   },
   {
    "duration": 411,
    "start_time": "2023-03-18T17:52:24.407Z"
   },
   {
    "duration": 58,
    "start_time": "2023-03-18T17:52:24.820Z"
   },
   {
    "duration": 31,
    "start_time": "2023-03-18T17:52:24.880Z"
   },
   {
    "duration": 21,
    "start_time": "2023-03-18T17:52:24.913Z"
   },
   {
    "duration": 60,
    "start_time": "2023-03-18T17:52:24.937Z"
   },
   {
    "duration": 1133,
    "start_time": "2023-03-18T17:52:24.999Z"
   },
   {
    "duration": 13,
    "start_time": "2023-03-18T17:52:26.135Z"
   },
   {
    "duration": 25,
    "start_time": "2023-03-18T17:52:26.150Z"
   },
   {
    "duration": 23,
    "start_time": "2023-03-18T17:52:26.178Z"
   },
   {
    "duration": 13,
    "start_time": "2023-03-18T17:52:26.202Z"
   },
   {
    "duration": 6,
    "start_time": "2023-03-18T17:52:26.217Z"
   },
   {
    "duration": 6,
    "start_time": "2023-03-18T17:52:26.225Z"
   },
   {
    "duration": 6,
    "start_time": "2023-03-18T17:52:26.233Z"
   },
   {
    "duration": 7,
    "start_time": "2023-03-18T17:52:26.275Z"
   },
   {
    "duration": 10,
    "start_time": "2023-03-18T17:52:26.284Z"
   },
   {
    "duration": 5,
    "start_time": "2023-03-18T17:52:26.296Z"
   },
   {
    "duration": 11,
    "start_time": "2023-03-18T17:52:26.303Z"
   },
   {
    "duration": 6,
    "start_time": "2023-03-18T17:52:26.316Z"
   },
   {
    "duration": 7,
    "start_time": "2023-03-18T17:52:26.324Z"
   },
   {
    "duration": 5,
    "start_time": "2023-03-18T17:52:26.373Z"
   },
   {
    "duration": 10,
    "start_time": "2023-03-18T17:52:26.380Z"
   },
   {
    "duration": 8,
    "start_time": "2023-03-18T17:52:26.392Z"
   },
   {
    "duration": 8,
    "start_time": "2023-03-18T17:52:26.402Z"
   },
   {
    "duration": 11,
    "start_time": "2023-03-18T17:52:26.412Z"
   },
   {
    "duration": 6,
    "start_time": "2023-03-18T17:52:26.425Z"
   },
   {
    "duration": 46,
    "start_time": "2023-03-18T17:52:26.433Z"
   },
   {
    "duration": 146,
    "start_time": "2023-03-18T17:52:26.482Z"
   },
   {
    "duration": 484,
    "start_time": "2023-03-18T17:53:55.574Z"
   },
   {
    "duration": 57,
    "start_time": "2023-03-18T17:53:56.060Z"
   },
   {
    "duration": 25,
    "start_time": "2023-03-18T17:53:56.119Z"
   },
   {
    "duration": 16,
    "start_time": "2023-03-18T17:53:56.146Z"
   },
   {
    "duration": 39,
    "start_time": "2023-03-18T17:53:56.164Z"
   },
   {
    "duration": 1129,
    "start_time": "2023-03-18T17:53:56.205Z"
   },
   {
    "duration": 10,
    "start_time": "2023-03-18T17:53:57.336Z"
   },
   {
    "duration": 13,
    "start_time": "2023-03-18T17:53:57.347Z"
   },
   {
    "duration": 7,
    "start_time": "2023-03-18T17:53:57.373Z"
   },
   {
    "duration": 12,
    "start_time": "2023-03-18T17:53:57.385Z"
   },
   {
    "duration": 6,
    "start_time": "2023-03-18T17:53:57.399Z"
   },
   {
    "duration": 8,
    "start_time": "2023-03-18T17:53:57.406Z"
   },
   {
    "duration": 6,
    "start_time": "2023-03-18T17:53:57.415Z"
   },
   {
    "duration": 10,
    "start_time": "2023-03-18T17:53:57.423Z"
   },
   {
    "duration": 39,
    "start_time": "2023-03-18T17:53:57.435Z"
   },
   {
    "duration": 3,
    "start_time": "2023-03-18T17:53:57.476Z"
   },
   {
    "duration": 12,
    "start_time": "2023-03-18T17:53:57.481Z"
   },
   {
    "duration": 6,
    "start_time": "2023-03-18T17:53:57.495Z"
   },
   {
    "duration": 7,
    "start_time": "2023-03-18T17:53:57.503Z"
   },
   {
    "duration": 5,
    "start_time": "2023-03-18T17:53:57.512Z"
   },
   {
    "duration": 8,
    "start_time": "2023-03-18T17:53:57.518Z"
   },
   {
    "duration": 5,
    "start_time": "2023-03-18T17:53:57.528Z"
   },
   {
    "duration": 47,
    "start_time": "2023-03-18T17:53:57.534Z"
   },
   {
    "duration": 9,
    "start_time": "2023-03-18T17:53:57.583Z"
   },
   {
    "duration": 6,
    "start_time": "2023-03-18T17:53:57.594Z"
   },
   {
    "duration": 6,
    "start_time": "2023-03-18T17:53:57.602Z"
   },
   {
    "duration": 12,
    "start_time": "2023-03-18T17:53:57.609Z"
   },
   {
    "duration": 447,
    "start_time": "2023-03-18T17:55:15.539Z"
   },
   {
    "duration": 59,
    "start_time": "2023-03-18T17:55:15.989Z"
   },
   {
    "duration": 28,
    "start_time": "2023-03-18T17:55:16.050Z"
   },
   {
    "duration": 23,
    "start_time": "2023-03-18T17:55:16.080Z"
   },
   {
    "duration": 30,
    "start_time": "2023-03-18T17:55:16.106Z"
   },
   {
    "duration": 1159,
    "start_time": "2023-03-18T17:55:16.138Z"
   },
   {
    "duration": 12,
    "start_time": "2023-03-18T17:55:17.299Z"
   },
   {
    "duration": 9,
    "start_time": "2023-03-18T17:55:17.313Z"
   },
   {
    "duration": 16,
    "start_time": "2023-03-18T17:55:17.324Z"
   },
   {
    "duration": 39,
    "start_time": "2023-03-18T17:55:17.342Z"
   },
   {
    "duration": 6,
    "start_time": "2023-03-18T17:55:17.383Z"
   },
   {
    "duration": 8,
    "start_time": "2023-03-18T17:55:17.390Z"
   },
   {
    "duration": 8,
    "start_time": "2023-03-18T17:55:17.399Z"
   },
   {
    "duration": 9,
    "start_time": "2023-03-18T17:55:17.409Z"
   },
   {
    "duration": 5,
    "start_time": "2023-03-18T17:55:17.420Z"
   },
   {
    "duration": 6,
    "start_time": "2023-03-18T17:55:17.426Z"
   },
   {
    "duration": 41,
    "start_time": "2023-03-18T17:55:17.433Z"
   },
   {
    "duration": 7,
    "start_time": "2023-03-18T17:55:17.476Z"
   },
   {
    "duration": 8,
    "start_time": "2023-03-18T17:55:17.484Z"
   },
   {
    "duration": 6,
    "start_time": "2023-03-18T17:55:17.493Z"
   },
   {
    "duration": 8,
    "start_time": "2023-03-18T17:55:17.501Z"
   },
   {
    "duration": 7,
    "start_time": "2023-03-18T17:55:17.511Z"
   },
   {
    "duration": 7,
    "start_time": "2023-03-18T17:55:17.519Z"
   },
   {
    "duration": 12,
    "start_time": "2023-03-18T17:55:17.528Z"
   },
   {
    "duration": 6,
    "start_time": "2023-03-18T17:55:17.574Z"
   },
   {
    "duration": 16,
    "start_time": "2023-03-18T17:55:17.581Z"
   },
   {
    "duration": 20,
    "start_time": "2023-03-18T17:55:17.600Z"
   },
   {
    "duration": 28,
    "start_time": "2023-03-18T17:55:42.298Z"
   },
   {
    "duration": 6,
    "start_time": "2023-03-18T17:56:21.358Z"
   },
   {
    "duration": 54,
    "start_time": "2023-03-18T17:56:40.148Z"
   },
   {
    "duration": 6,
    "start_time": "2023-03-18T17:57:13.341Z"
   },
   {
    "duration": 9,
    "start_time": "2023-03-18T17:57:32.907Z"
   },
   {
    "duration": 5,
    "start_time": "2023-03-18T18:01:48.736Z"
   },
   {
    "duration": 15,
    "start_time": "2023-03-18T18:02:02.699Z"
   },
   {
    "duration": 6,
    "start_time": "2023-03-18T18:02:17.640Z"
   },
   {
    "duration": 574,
    "start_time": "2023-03-18T18:03:00.145Z"
   },
   {
    "duration": 58,
    "start_time": "2023-03-18T18:03:00.720Z"
   },
   {
    "duration": 25,
    "start_time": "2023-03-18T18:03:00.780Z"
   },
   {
    "duration": 35,
    "start_time": "2023-03-18T18:03:00.807Z"
   },
   {
    "duration": 41,
    "start_time": "2023-03-18T18:03:00.843Z"
   },
   {
    "duration": 1114,
    "start_time": "2023-03-18T18:03:00.886Z"
   },
   {
    "duration": 10,
    "start_time": "2023-03-18T18:03:02.002Z"
   },
   {
    "duration": 24,
    "start_time": "2023-03-18T18:03:02.013Z"
   },
   {
    "duration": 25,
    "start_time": "2023-03-18T18:03:02.038Z"
   },
   {
    "duration": 36,
    "start_time": "2023-03-18T18:03:02.066Z"
   },
   {
    "duration": 13,
    "start_time": "2023-03-18T18:03:02.104Z"
   },
   {
    "duration": 12,
    "start_time": "2023-03-18T18:03:02.118Z"
   },
   {
    "duration": 13,
    "start_time": "2023-03-18T18:03:02.132Z"
   },
   {
    "duration": 9,
    "start_time": "2023-03-18T18:03:02.147Z"
   },
   {
    "duration": 7,
    "start_time": "2023-03-18T18:03:02.158Z"
   },
   {
    "duration": 9,
    "start_time": "2023-03-18T18:03:02.167Z"
   },
   {
    "duration": 11,
    "start_time": "2023-03-18T18:03:02.178Z"
   },
   {
    "duration": 28,
    "start_time": "2023-03-18T18:03:02.191Z"
   },
   {
    "duration": 22,
    "start_time": "2023-03-18T18:03:02.221Z"
   },
   {
    "duration": 20,
    "start_time": "2023-03-18T18:03:02.245Z"
   },
   {
    "duration": 34,
    "start_time": "2023-03-18T18:03:02.267Z"
   },
   {
    "duration": 8,
    "start_time": "2023-03-18T18:03:02.303Z"
   },
   {
    "duration": 14,
    "start_time": "2023-03-18T18:03:02.312Z"
   },
   {
    "duration": 22,
    "start_time": "2023-03-18T18:03:02.328Z"
   },
   {
    "duration": 16,
    "start_time": "2023-03-18T18:03:02.352Z"
   },
   {
    "duration": 12,
    "start_time": "2023-03-18T18:03:02.370Z"
   },
   {
    "duration": 20,
    "start_time": "2023-03-18T18:03:02.383Z"
   },
   {
    "duration": 11,
    "start_time": "2023-03-18T18:03:02.407Z"
   },
   {
    "duration": 13,
    "start_time": "2023-03-18T18:03:02.420Z"
   },
   {
    "duration": 26,
    "start_time": "2023-03-18T18:03:02.434Z"
   },
   {
    "duration": 27,
    "start_time": "2023-03-18T18:03:02.462Z"
   },
   {
    "duration": 15,
    "start_time": "2023-03-18T18:04:06.958Z"
   },
   {
    "duration": 561,
    "start_time": "2023-03-18T18:08:50.663Z"
   },
   {
    "duration": 673,
    "start_time": "2023-03-18T18:09:34.813Z"
   },
   {
    "duration": 57,
    "start_time": "2023-03-18T18:09:35.488Z"
   },
   {
    "duration": 20,
    "start_time": "2023-03-18T18:09:35.547Z"
   },
   {
    "duration": 23,
    "start_time": "2023-03-18T18:09:35.569Z"
   },
   {
    "duration": 43,
    "start_time": "2023-03-18T18:09:35.595Z"
   },
   {
    "duration": 964,
    "start_time": "2023-03-18T18:09:35.640Z"
   },
   {
    "duration": 16,
    "start_time": "2023-03-18T18:09:36.607Z"
   },
   {
    "duration": 14,
    "start_time": "2023-03-18T18:09:36.625Z"
   },
   {
    "duration": 15,
    "start_time": "2023-03-18T18:09:36.641Z"
   },
   {
    "duration": 10,
    "start_time": "2023-03-18T18:09:36.673Z"
   },
   {
    "duration": 6,
    "start_time": "2023-03-18T18:09:36.686Z"
   },
   {
    "duration": 10,
    "start_time": "2023-03-18T18:09:36.695Z"
   },
   {
    "duration": 9,
    "start_time": "2023-03-18T18:09:36.708Z"
   },
   {
    "duration": 14,
    "start_time": "2023-03-18T18:09:36.721Z"
   },
   {
    "duration": 6,
    "start_time": "2023-03-18T18:09:36.737Z"
   },
   {
    "duration": 6,
    "start_time": "2023-03-18T18:09:36.773Z"
   },
   {
    "duration": 71,
    "start_time": "2023-03-18T18:09:36.781Z"
   },
   {
    "duration": 20,
    "start_time": "2023-03-18T18:09:36.854Z"
   },
   {
    "duration": 5,
    "start_time": "2023-03-18T18:09:36.877Z"
   },
   {
    "duration": 6,
    "start_time": "2023-03-18T18:09:36.884Z"
   },
   {
    "duration": 9,
    "start_time": "2023-03-18T18:09:36.892Z"
   },
   {
    "duration": 7,
    "start_time": "2023-03-18T18:09:36.903Z"
   },
   {
    "duration": 10,
    "start_time": "2023-03-18T18:09:36.912Z"
   },
   {
    "duration": 12,
    "start_time": "2023-03-18T18:09:36.924Z"
   },
   {
    "duration": 39,
    "start_time": "2023-03-18T18:09:36.938Z"
   },
   {
    "duration": 12,
    "start_time": "2023-03-18T18:09:36.979Z"
   },
   {
    "duration": 9,
    "start_time": "2023-03-18T18:09:36.993Z"
   },
   {
    "duration": 8,
    "start_time": "2023-03-18T18:09:37.004Z"
   },
   {
    "duration": 9,
    "start_time": "2023-03-18T18:09:37.014Z"
   },
   {
    "duration": 6,
    "start_time": "2023-03-18T18:09:37.025Z"
   },
   {
    "duration": 58,
    "start_time": "2023-03-18T18:09:37.033Z"
   },
   {
    "duration": 366,
    "start_time": "2023-03-18T18:09:37.093Z"
   },
   {
    "duration": 348,
    "start_time": "2023-03-18T18:10:07.714Z"
   },
   {
    "duration": 356,
    "start_time": "2023-03-18T18:10:32.661Z"
   },
   {
    "duration": 276,
    "start_time": "2023-03-18T18:11:07.372Z"
   },
   {
    "duration": 328,
    "start_time": "2023-03-18T18:11:18.863Z"
   },
   {
    "duration": 339,
    "start_time": "2023-03-18T18:11:33.361Z"
   },
   {
    "duration": 480,
    "start_time": "2023-03-18T18:12:34.012Z"
   },
   {
    "duration": 248,
    "start_time": "2023-03-18T18:13:09.162Z"
   },
   {
    "duration": 53,
    "start_time": "2023-03-18T18:15:38.864Z"
   },
   {
    "duration": 7,
    "start_time": "2023-03-18T18:17:24.650Z"
   },
   {
    "duration": 7,
    "start_time": "2023-03-18T18:18:42.027Z"
   },
   {
    "duration": 6,
    "start_time": "2023-03-18T18:20:00.288Z"
   },
   {
    "duration": 11,
    "start_time": "2023-03-18T18:20:05.121Z"
   },
   {
    "duration": 6,
    "start_time": "2023-03-18T18:23:45.700Z"
   },
   {
    "duration": 9,
    "start_time": "2023-03-18T18:23:57.718Z"
   },
   {
    "duration": 52,
    "start_time": "2023-03-18T21:17:43.235Z"
   },
   {
    "duration": 915,
    "start_time": "2023-03-18T21:17:54.612Z"
   },
   {
    "duration": 132,
    "start_time": "2023-03-18T21:17:55.530Z"
   },
   {
    "duration": 35,
    "start_time": "2023-03-18T21:17:55.664Z"
   },
   {
    "duration": 26,
    "start_time": "2023-03-18T21:17:55.701Z"
   },
   {
    "duration": 46,
    "start_time": "2023-03-18T21:17:55.730Z"
   },
   {
    "duration": 962,
    "start_time": "2023-03-18T21:17:55.777Z"
   },
   {
    "duration": 11,
    "start_time": "2023-03-18T21:17:56.740Z"
   },
   {
    "duration": 10,
    "start_time": "2023-03-18T21:17:56.753Z"
   },
   {
    "duration": 43,
    "start_time": "2023-03-18T21:17:56.764Z"
   },
   {
    "duration": 20,
    "start_time": "2023-03-18T21:17:56.813Z"
   },
   {
    "duration": 15,
    "start_time": "2023-03-18T21:17:56.834Z"
   },
   {
    "duration": 10,
    "start_time": "2023-03-18T21:17:56.851Z"
   },
   {
    "duration": 9,
    "start_time": "2023-03-18T21:17:56.863Z"
   },
   {
    "duration": 7,
    "start_time": "2023-03-18T21:17:56.876Z"
   },
   {
    "duration": 47,
    "start_time": "2023-03-18T21:17:56.885Z"
   },
   {
    "duration": 84,
    "start_time": "2023-03-18T21:17:56.934Z"
   },
   {
    "duration": 10,
    "start_time": "2023-03-18T21:17:57.020Z"
   },
   {
    "duration": 6,
    "start_time": "2023-03-18T21:17:57.032Z"
   },
   {
    "duration": 8,
    "start_time": "2023-03-18T21:17:57.040Z"
   },
   {
    "duration": 7,
    "start_time": "2023-03-18T21:17:57.049Z"
   },
   {
    "duration": 38,
    "start_time": "2023-03-18T21:17:57.058Z"
   },
   {
    "duration": 21,
    "start_time": "2023-03-18T21:17:57.102Z"
   },
   {
    "duration": 9,
    "start_time": "2023-03-18T21:17:57.125Z"
   },
   {
    "duration": 10,
    "start_time": "2023-03-18T21:17:57.135Z"
   },
   {
    "duration": 10,
    "start_time": "2023-03-18T21:17:57.147Z"
   },
   {
    "duration": 7,
    "start_time": "2023-03-18T21:17:57.159Z"
   },
   {
    "duration": 8,
    "start_time": "2023-03-18T21:17:57.168Z"
   },
   {
    "duration": 44,
    "start_time": "2023-03-18T21:17:57.178Z"
   },
   {
    "duration": 19,
    "start_time": "2023-03-18T21:17:57.224Z"
   },
   {
    "duration": 6,
    "start_time": "2023-03-18T21:17:57.245Z"
   },
   {
    "duration": 22,
    "start_time": "2023-03-18T21:17:57.252Z"
   },
   {
    "duration": 24,
    "start_time": "2023-03-18T21:17:57.276Z"
   },
   {
    "duration": 294,
    "start_time": "2023-03-18T21:17:57.302Z"
   },
   {
    "duration": 10,
    "start_time": "2023-03-18T21:17:57.602Z"
   },
   {
    "duration": 14,
    "start_time": "2023-03-18T21:17:57.614Z"
   },
   {
    "duration": 89,
    "start_time": "2023-03-18T21:17:57.630Z"
   },
   {
    "duration": 909,
    "start_time": "2023-03-18T21:18:22.378Z"
   },
   {
    "duration": 15,
    "start_time": "2023-03-18T21:19:24.165Z"
   },
   {
    "duration": 954,
    "start_time": "2023-03-18T21:22:50.155Z"
   },
   {
    "duration": 680,
    "start_time": "2023-03-18T21:23:18.267Z"
   },
   {
    "duration": 66,
    "start_time": "2023-03-18T21:23:18.949Z"
   },
   {
    "duration": 27,
    "start_time": "2023-03-18T21:23:19.016Z"
   },
   {
    "duration": 15,
    "start_time": "2023-03-18T21:23:19.045Z"
   },
   {
    "duration": 38,
    "start_time": "2023-03-18T21:23:19.080Z"
   },
   {
    "duration": 923,
    "start_time": "2023-03-18T21:23:19.120Z"
   },
   {
    "duration": 14,
    "start_time": "2023-03-18T21:23:20.046Z"
   },
   {
    "duration": 74,
    "start_time": "2023-03-18T21:23:20.062Z"
   },
   {
    "duration": 7,
    "start_time": "2023-03-18T21:23:20.139Z"
   },
   {
    "duration": 13,
    "start_time": "2023-03-18T21:23:20.148Z"
   },
   {
    "duration": 7,
    "start_time": "2023-03-18T21:23:20.163Z"
   },
   {
    "duration": 25,
    "start_time": "2023-03-18T21:23:20.172Z"
   },
   {
    "duration": 29,
    "start_time": "2023-03-18T21:23:20.199Z"
   },
   {
    "duration": 11,
    "start_time": "2023-03-18T21:23:20.232Z"
   },
   {
    "duration": 9,
    "start_time": "2023-03-18T21:23:20.245Z"
   },
   {
    "duration": 80,
    "start_time": "2023-03-18T21:23:20.255Z"
   },
   {
    "duration": 13,
    "start_time": "2023-03-18T21:23:20.337Z"
   },
   {
    "duration": 7,
    "start_time": "2023-03-18T21:23:20.351Z"
   },
   {
    "duration": 26,
    "start_time": "2023-03-18T21:23:20.360Z"
   },
   {
    "duration": 44,
    "start_time": "2023-03-18T21:23:20.387Z"
   },
   {
    "duration": 13,
    "start_time": "2023-03-18T21:23:20.433Z"
   },
   {
    "duration": 11,
    "start_time": "2023-03-18T21:23:20.447Z"
   },
   {
    "duration": 51,
    "start_time": "2023-03-18T21:23:20.460Z"
   },
   {
    "duration": 24,
    "start_time": "2023-03-18T21:23:20.513Z"
   },
   {
    "duration": 36,
    "start_time": "2023-03-18T21:23:20.539Z"
   },
   {
    "duration": 53,
    "start_time": "2023-03-18T21:23:20.577Z"
   },
   {
    "duration": 21,
    "start_time": "2023-03-18T21:23:20.632Z"
   },
   {
    "duration": 16,
    "start_time": "2023-03-18T21:23:20.655Z"
   },
   {
    "duration": 30,
    "start_time": "2023-03-18T21:23:20.673Z"
   },
   {
    "duration": 23,
    "start_time": "2023-03-18T21:23:20.709Z"
   },
   {
    "duration": 28,
    "start_time": "2023-03-18T21:23:20.734Z"
   },
   {
    "duration": 14,
    "start_time": "2023-03-18T21:23:20.763Z"
   },
   {
    "duration": 285,
    "start_time": "2023-03-18T21:23:20.779Z"
   },
   {
    "duration": 6,
    "start_time": "2023-03-18T21:23:21.066Z"
   },
   {
    "duration": 54,
    "start_time": "2023-03-18T21:23:21.083Z"
   },
   {
    "duration": 1131,
    "start_time": "2023-03-18T21:23:21.138Z"
   },
   {
    "duration": 192,
    "start_time": "2023-03-18T21:30:14.650Z"
   },
   {
    "duration": 159,
    "start_time": "2023-03-18T21:30:38.011Z"
   },
   {
    "duration": 654,
    "start_time": "2023-03-18T21:32:14.317Z"
   },
   {
    "duration": 69,
    "start_time": "2023-03-18T21:32:14.973Z"
   },
   {
    "duration": 22,
    "start_time": "2023-03-18T21:32:15.044Z"
   },
   {
    "duration": 18,
    "start_time": "2023-03-18T21:32:15.068Z"
   },
   {
    "duration": 50,
    "start_time": "2023-03-18T21:32:15.093Z"
   },
   {
    "duration": 876,
    "start_time": "2023-03-18T21:32:15.145Z"
   },
   {
    "duration": 11,
    "start_time": "2023-03-18T21:32:16.024Z"
   },
   {
    "duration": 46,
    "start_time": "2023-03-18T21:32:16.037Z"
   },
   {
    "duration": 52,
    "start_time": "2023-03-18T21:32:16.085Z"
   },
   {
    "duration": 20,
    "start_time": "2023-03-18T21:32:16.140Z"
   },
   {
    "duration": 9,
    "start_time": "2023-03-18T21:32:16.162Z"
   },
   {
    "duration": 26,
    "start_time": "2023-03-18T21:32:16.173Z"
   },
   {
    "duration": 25,
    "start_time": "2023-03-18T21:32:16.208Z"
   },
   {
    "duration": 85,
    "start_time": "2023-03-18T21:32:16.235Z"
   },
   {
    "duration": 11,
    "start_time": "2023-03-18T21:32:16.322Z"
   },
   {
    "duration": 13,
    "start_time": "2023-03-18T21:32:16.335Z"
   },
   {
    "duration": 14,
    "start_time": "2023-03-18T21:32:16.350Z"
   },
   {
    "duration": 14,
    "start_time": "2023-03-18T21:32:16.366Z"
   },
   {
    "duration": 73,
    "start_time": "2023-03-18T21:32:16.382Z"
   },
   {
    "duration": 21,
    "start_time": "2023-03-18T21:32:16.457Z"
   },
   {
    "duration": 63,
    "start_time": "2023-03-18T21:32:16.479Z"
   },
   {
    "duration": 17,
    "start_time": "2023-03-18T21:32:16.543Z"
   },
   {
    "duration": 15,
    "start_time": "2023-03-18T21:32:16.561Z"
   },
   {
    "duration": 48,
    "start_time": "2023-03-18T21:32:16.577Z"
   },
   {
    "duration": 8,
    "start_time": "2023-03-18T21:32:16.627Z"
   },
   {
    "duration": 25,
    "start_time": "2023-03-18T21:32:16.637Z"
   },
   {
    "duration": 60,
    "start_time": "2023-03-18T21:32:16.664Z"
   },
   {
    "duration": 15,
    "start_time": "2023-03-18T21:32:16.727Z"
   },
   {
    "duration": 7,
    "start_time": "2023-03-18T21:32:16.744Z"
   },
   {
    "duration": 16,
    "start_time": "2023-03-18T21:32:16.752Z"
   },
   {
    "duration": 54,
    "start_time": "2023-03-18T21:32:16.770Z"
   },
   {
    "duration": 16,
    "start_time": "2023-03-18T21:32:16.826Z"
   },
   {
    "duration": 260,
    "start_time": "2023-03-18T21:32:16.843Z"
   },
   {
    "duration": 11,
    "start_time": "2023-03-18T21:32:17.111Z"
   },
   {
    "duration": 11,
    "start_time": "2023-03-18T21:32:17.124Z"
   },
   {
    "duration": 1017,
    "start_time": "2023-03-18T21:32:17.137Z"
   },
   {
    "duration": 998,
    "start_time": "2023-03-18T21:32:49.848Z"
   },
   {
    "duration": 147,
    "start_time": "2023-03-18T21:33:17.914Z"
   },
   {
    "duration": 661,
    "start_time": "2023-03-18T21:58:37.365Z"
   },
   {
    "duration": 55,
    "start_time": "2023-03-18T21:58:38.028Z"
   },
   {
    "duration": 20,
    "start_time": "2023-03-18T21:58:38.084Z"
   },
   {
    "duration": 14,
    "start_time": "2023-03-18T21:58:38.106Z"
   },
   {
    "duration": 29,
    "start_time": "2023-03-18T21:58:38.122Z"
   },
   {
    "duration": 844,
    "start_time": "2023-03-18T21:58:38.152Z"
   },
   {
    "duration": 10,
    "start_time": "2023-03-18T21:58:38.998Z"
   },
   {
    "duration": 46,
    "start_time": "2023-03-18T21:58:39.009Z"
   },
   {
    "duration": 10,
    "start_time": "2023-03-18T21:58:39.057Z"
   },
   {
    "duration": 17,
    "start_time": "2023-03-18T21:58:39.069Z"
   },
   {
    "duration": 6,
    "start_time": "2023-03-18T21:58:39.088Z"
   },
   {
    "duration": 8,
    "start_time": "2023-03-18T21:58:39.095Z"
   },
   {
    "duration": 7,
    "start_time": "2023-03-18T21:58:39.104Z"
   },
   {
    "duration": 107,
    "start_time": "2023-03-18T21:58:39.114Z"
   },
   {
    "duration": 5,
    "start_time": "2023-03-18T21:58:39.223Z"
   },
   {
    "duration": 6,
    "start_time": "2023-03-18T21:58:39.230Z"
   },
   {
    "duration": 8,
    "start_time": "2023-03-18T21:58:39.237Z"
   },
   {
    "duration": 6,
    "start_time": "2023-03-18T21:58:39.246Z"
   },
   {
    "duration": 6,
    "start_time": "2023-03-18T21:58:39.281Z"
   },
   {
    "duration": 6,
    "start_time": "2023-03-18T21:58:39.288Z"
   },
   {
    "duration": 7,
    "start_time": "2023-03-18T21:58:39.296Z"
   },
   {
    "duration": 7,
    "start_time": "2023-03-18T21:58:39.304Z"
   },
   {
    "duration": 7,
    "start_time": "2023-03-18T21:58:39.312Z"
   },
   {
    "duration": 7,
    "start_time": "2023-03-18T21:58:39.321Z"
   },
   {
    "duration": 13,
    "start_time": "2023-03-18T21:58:39.329Z"
   },
   {
    "duration": 38,
    "start_time": "2023-03-18T21:58:39.344Z"
   },
   {
    "duration": 7,
    "start_time": "2023-03-18T21:58:39.384Z"
   },
   {
    "duration": 19,
    "start_time": "2023-03-18T21:58:39.392Z"
   },
   {
    "duration": 87,
    "start_time": "2023-03-18T21:58:39.413Z"
   },
   {
    "duration": 0,
    "start_time": "2023-03-18T21:58:39.501Z"
   },
   {
    "duration": 0,
    "start_time": "2023-03-18T21:58:39.503Z"
   },
   {
    "duration": 0,
    "start_time": "2023-03-18T21:58:39.503Z"
   },
   {
    "duration": 0,
    "start_time": "2023-03-18T21:58:39.504Z"
   },
   {
    "duration": 0,
    "start_time": "2023-03-18T21:58:39.505Z"
   },
   {
    "duration": 0,
    "start_time": "2023-03-18T21:58:39.506Z"
   },
   {
    "duration": 0,
    "start_time": "2023-03-18T21:58:39.507Z"
   },
   {
    "duration": 0,
    "start_time": "2023-03-18T21:58:39.508Z"
   },
   {
    "duration": 0,
    "start_time": "2023-03-18T21:58:39.509Z"
   },
   {
    "duration": 6,
    "start_time": "2023-03-18T21:58:57.353Z"
   },
   {
    "duration": 625,
    "start_time": "2023-03-18T21:59:06.577Z"
   },
   {
    "duration": 52,
    "start_time": "2023-03-18T21:59:07.204Z"
   },
   {
    "duration": 19,
    "start_time": "2023-03-18T21:59:07.258Z"
   },
   {
    "duration": 13,
    "start_time": "2023-03-18T21:59:07.279Z"
   },
   {
    "duration": 28,
    "start_time": "2023-03-18T21:59:07.294Z"
   },
   {
    "duration": 790,
    "start_time": "2023-03-18T21:59:07.324Z"
   },
   {
    "duration": 9,
    "start_time": "2023-03-18T21:59:08.116Z"
   },
   {
    "duration": 35,
    "start_time": "2023-03-18T21:59:08.127Z"
   },
   {
    "duration": 5,
    "start_time": "2023-03-18T21:59:08.165Z"
   },
   {
    "duration": 16,
    "start_time": "2023-03-18T21:59:08.172Z"
   },
   {
    "duration": 9,
    "start_time": "2023-03-18T21:59:08.190Z"
   },
   {
    "duration": 13,
    "start_time": "2023-03-18T21:59:08.200Z"
   },
   {
    "duration": 16,
    "start_time": "2023-03-18T21:59:08.214Z"
   },
   {
    "duration": 88,
    "start_time": "2023-03-18T21:59:08.234Z"
   },
   {
    "duration": 16,
    "start_time": "2023-03-18T21:59:08.324Z"
   },
   {
    "duration": 28,
    "start_time": "2023-03-18T21:59:08.342Z"
   },
   {
    "duration": 16,
    "start_time": "2023-03-18T21:59:08.372Z"
   },
   {
    "duration": 15,
    "start_time": "2023-03-18T21:59:08.390Z"
   },
   {
    "duration": 19,
    "start_time": "2023-03-18T21:59:08.406Z"
   },
   {
    "duration": 18,
    "start_time": "2023-03-18T21:59:08.426Z"
   },
   {
    "duration": 13,
    "start_time": "2023-03-18T21:59:08.445Z"
   },
   {
    "duration": 16,
    "start_time": "2023-03-18T21:59:08.459Z"
   },
   {
    "duration": 19,
    "start_time": "2023-03-18T21:59:08.477Z"
   },
   {
    "duration": 31,
    "start_time": "2023-03-18T21:59:08.497Z"
   },
   {
    "duration": 14,
    "start_time": "2023-03-18T21:59:08.530Z"
   },
   {
    "duration": 36,
    "start_time": "2023-03-18T21:59:08.546Z"
   },
   {
    "duration": 24,
    "start_time": "2023-03-18T21:59:08.583Z"
   },
   {
    "duration": 30,
    "start_time": "2023-03-18T21:59:08.608Z"
   },
   {
    "duration": 17,
    "start_time": "2023-03-18T21:59:08.640Z"
   },
   {
    "duration": 7,
    "start_time": "2023-03-18T21:59:08.658Z"
   },
   {
    "duration": 15,
    "start_time": "2023-03-18T21:59:08.666Z"
   },
   {
    "duration": 26,
    "start_time": "2023-03-18T21:59:08.683Z"
   },
   {
    "duration": 25,
    "start_time": "2023-03-18T21:59:08.711Z"
   },
   {
    "duration": 4,
    "start_time": "2023-03-18T21:59:08.738Z"
   },
   {
    "duration": 221,
    "start_time": "2023-03-18T21:59:08.744Z"
   },
   {
    "duration": 15,
    "start_time": "2023-03-18T21:59:08.967Z"
   },
   {
    "duration": 8,
    "start_time": "2023-03-18T21:59:08.984Z"
   },
   {
    "duration": 160,
    "start_time": "2023-03-18T21:59:08.994Z"
   },
   {
    "duration": 49,
    "start_time": "2023-03-19T06:24:57.214Z"
   },
   {
    "duration": 952,
    "start_time": "2023-03-19T06:25:44.588Z"
   },
   {
    "duration": 111,
    "start_time": "2023-03-19T06:25:45.543Z"
   },
   {
    "duration": 23,
    "start_time": "2023-03-19T06:25:45.656Z"
   },
   {
    "duration": 18,
    "start_time": "2023-03-19T06:25:45.682Z"
   },
   {
    "duration": 32,
    "start_time": "2023-03-19T06:25:45.702Z"
   },
   {
    "duration": 929,
    "start_time": "2023-03-19T06:25:45.736Z"
   },
   {
    "duration": 14,
    "start_time": "2023-03-19T06:25:46.668Z"
   },
   {
    "duration": 24,
    "start_time": "2023-03-19T06:25:46.684Z"
   },
   {
    "duration": 25,
    "start_time": "2023-03-19T06:25:46.710Z"
   },
   {
    "duration": 10,
    "start_time": "2023-03-19T06:25:46.738Z"
   },
   {
    "duration": 9,
    "start_time": "2023-03-19T06:25:46.749Z"
   },
   {
    "duration": 11,
    "start_time": "2023-03-19T06:25:46.760Z"
   },
   {
    "duration": 23,
    "start_time": "2023-03-19T06:25:46.773Z"
   },
   {
    "duration": 83,
    "start_time": "2023-03-19T06:25:46.797Z"
   },
   {
    "duration": 6,
    "start_time": "2023-03-19T06:25:46.882Z"
   },
   {
    "duration": 6,
    "start_time": "2023-03-19T06:25:46.890Z"
   },
   {
    "duration": 12,
    "start_time": "2023-03-19T06:25:46.897Z"
   },
   {
    "duration": 17,
    "start_time": "2023-03-19T06:25:46.910Z"
   },
   {
    "duration": 9,
    "start_time": "2023-03-19T06:25:46.929Z"
   },
   {
    "duration": 9,
    "start_time": "2023-03-19T06:25:46.940Z"
   },
   {
    "duration": 6,
    "start_time": "2023-03-19T06:25:46.950Z"
   },
   {
    "duration": 5,
    "start_time": "2023-03-19T06:25:46.958Z"
   },
   {
    "duration": 20,
    "start_time": "2023-03-19T06:25:46.965Z"
   },
   {
    "duration": 8,
    "start_time": "2023-03-19T06:25:46.986Z"
   },
   {
    "duration": 16,
    "start_time": "2023-03-19T06:25:46.996Z"
   },
   {
    "duration": 6,
    "start_time": "2023-03-19T06:25:47.014Z"
   },
   {
    "duration": 9,
    "start_time": "2023-03-19T06:25:47.022Z"
   },
   {
    "duration": 6,
    "start_time": "2023-03-19T06:25:47.035Z"
   },
   {
    "duration": 7,
    "start_time": "2023-03-19T06:25:47.043Z"
   },
   {
    "duration": 31,
    "start_time": "2023-03-19T06:25:47.052Z"
   },
   {
    "duration": 8,
    "start_time": "2023-03-19T06:25:47.085Z"
   },
   {
    "duration": 6,
    "start_time": "2023-03-19T06:25:47.095Z"
   },
   {
    "duration": 18,
    "start_time": "2023-03-19T06:25:47.103Z"
   },
   {
    "duration": 7,
    "start_time": "2023-03-19T06:25:47.123Z"
   },
   {
    "duration": 264,
    "start_time": "2023-03-19T06:25:47.132Z"
   },
   {
    "duration": 7,
    "start_time": "2023-03-19T06:25:47.397Z"
   },
   {
    "duration": 11,
    "start_time": "2023-03-19T06:25:47.406Z"
   },
   {
    "duration": 105,
    "start_time": "2023-03-19T06:25:47.419Z"
   },
   {
    "duration": 1298,
    "start_time": "2023-03-19T06:26:44.367Z"
   },
   {
    "duration": 57,
    "start_time": "2023-03-19T06:26:45.668Z"
   },
   {
    "duration": 31,
    "start_time": "2023-03-19T06:26:45.728Z"
   },
   {
    "duration": 42,
    "start_time": "2023-03-19T06:26:45.762Z"
   },
   {
    "duration": 44,
    "start_time": "2023-03-19T06:26:45.808Z"
   },
   {
    "duration": 912,
    "start_time": "2023-03-19T06:26:45.855Z"
   },
   {
    "duration": 22,
    "start_time": "2023-03-19T06:26:46.768Z"
   },
   {
    "duration": 10,
    "start_time": "2023-03-19T06:26:46.792Z"
   },
   {
    "duration": 11,
    "start_time": "2023-03-19T06:26:46.803Z"
   },
   {
    "duration": 12,
    "start_time": "2023-03-19T06:26:46.818Z"
   },
   {
    "duration": 8,
    "start_time": "2023-03-19T06:26:46.832Z"
   },
   {
    "duration": 7,
    "start_time": "2023-03-19T06:26:46.841Z"
   },
   {
    "duration": 35,
    "start_time": "2023-03-19T06:26:46.850Z"
   },
   {
    "duration": 13,
    "start_time": "2023-03-19T06:26:46.887Z"
   },
   {
    "duration": 8,
    "start_time": "2023-03-19T06:26:46.902Z"
   },
   {
    "duration": 10,
    "start_time": "2023-03-19T06:26:46.912Z"
   },
   {
    "duration": 6,
    "start_time": "2023-03-19T06:26:46.924Z"
   },
   {
    "duration": 8,
    "start_time": "2023-03-19T06:26:46.932Z"
   },
   {
    "duration": 42,
    "start_time": "2023-03-19T06:26:46.942Z"
   },
   {
    "duration": 7,
    "start_time": "2023-03-19T06:26:46.986Z"
   },
   {
    "duration": 10,
    "start_time": "2023-03-19T06:26:46.995Z"
   },
   {
    "duration": 9,
    "start_time": "2023-03-19T06:26:47.007Z"
   },
   {
    "duration": 7,
    "start_time": "2023-03-19T06:26:47.018Z"
   },
   {
    "duration": 8,
    "start_time": "2023-03-19T06:26:47.027Z"
   },
   {
    "duration": 11,
    "start_time": "2023-03-19T06:26:47.037Z"
   },
   {
    "duration": 9,
    "start_time": "2023-03-19T06:26:47.050Z"
   },
   {
    "duration": 13,
    "start_time": "2023-03-19T06:26:47.082Z"
   },
   {
    "duration": 7,
    "start_time": "2023-03-19T06:26:47.103Z"
   },
   {
    "duration": 24,
    "start_time": "2023-03-19T06:26:47.112Z"
   },
   {
    "duration": 17,
    "start_time": "2023-03-19T06:26:47.138Z"
   },
   {
    "duration": 16,
    "start_time": "2023-03-19T06:26:47.158Z"
   },
   {
    "duration": 9,
    "start_time": "2023-03-19T06:26:47.176Z"
   },
   {
    "duration": 30,
    "start_time": "2023-03-19T06:26:47.187Z"
   },
   {
    "duration": 8,
    "start_time": "2023-03-19T06:26:47.219Z"
   },
   {
    "duration": 283,
    "start_time": "2023-03-19T06:26:47.229Z"
   },
   {
    "duration": 15,
    "start_time": "2023-03-19T06:26:47.515Z"
   },
   {
    "duration": 24,
    "start_time": "2023-03-19T06:26:47.532Z"
   },
   {
    "duration": 135,
    "start_time": "2023-03-19T06:26:47.558Z"
   },
   {
    "duration": 9,
    "start_time": "2023-03-19T06:29:18.006Z"
   },
   {
    "duration": 80,
    "start_time": "2023-03-19T06:30:08.141Z"
   },
   {
    "duration": 13,
    "start_time": "2023-03-19T06:54:12.707Z"
   },
   {
    "duration": 250,
    "start_time": "2023-03-19T06:54:21.241Z"
   },
   {
    "duration": 492,
    "start_time": "2023-03-19T06:55:19.710Z"
   },
   {
    "duration": 55,
    "start_time": "2023-03-19T09:25:38.800Z"
   },
   {
    "duration": 1460,
    "start_time": "2023-03-19T09:25:50.711Z"
   },
   {
    "duration": 108,
    "start_time": "2023-03-19T09:25:52.173Z"
   },
   {
    "duration": 24,
    "start_time": "2023-03-19T09:25:52.283Z"
   },
   {
    "duration": 17,
    "start_time": "2023-03-19T09:25:52.308Z"
   },
   {
    "duration": 40,
    "start_time": "2023-03-19T09:25:52.328Z"
   },
   {
    "duration": 884,
    "start_time": "2023-03-19T09:25:52.370Z"
   },
   {
    "duration": 16,
    "start_time": "2023-03-19T09:25:53.256Z"
   },
   {
    "duration": 11,
    "start_time": "2023-03-19T09:25:53.274Z"
   },
   {
    "duration": 8,
    "start_time": "2023-03-19T09:25:53.287Z"
   },
   {
    "duration": 15,
    "start_time": "2023-03-19T09:25:53.297Z"
   },
   {
    "duration": 72,
    "start_time": "2023-03-19T09:25:53.314Z"
   },
   {
    "duration": 47,
    "start_time": "2023-03-19T09:25:53.388Z"
   },
   {
    "duration": 53,
    "start_time": "2023-03-19T09:25:53.437Z"
   },
   {
    "duration": 12,
    "start_time": "2023-03-19T09:25:53.494Z"
   },
   {
    "duration": 6,
    "start_time": "2023-03-19T09:25:53.508Z"
   },
   {
    "duration": 5,
    "start_time": "2023-03-19T09:25:53.516Z"
   },
   {
    "duration": 30,
    "start_time": "2023-03-19T09:25:53.523Z"
   },
   {
    "duration": 11,
    "start_time": "2023-03-19T09:25:53.555Z"
   },
   {
    "duration": 8,
    "start_time": "2023-03-19T09:25:53.568Z"
   },
   {
    "duration": 5,
    "start_time": "2023-03-19T09:25:53.578Z"
   },
   {
    "duration": 8,
    "start_time": "2023-03-19T09:25:53.585Z"
   },
   {
    "duration": 21,
    "start_time": "2023-03-19T09:25:53.594Z"
   },
   {
    "duration": 5,
    "start_time": "2023-03-19T09:25:53.617Z"
   },
   {
    "duration": 24,
    "start_time": "2023-03-19T09:25:53.624Z"
   },
   {
    "duration": 15,
    "start_time": "2023-03-19T09:25:53.650Z"
   },
   {
    "duration": 5,
    "start_time": "2023-03-19T09:25:53.667Z"
   },
   {
    "duration": 7,
    "start_time": "2023-03-19T09:25:53.674Z"
   },
   {
    "duration": 9,
    "start_time": "2023-03-19T09:25:53.683Z"
   },
   {
    "duration": 13,
    "start_time": "2023-03-19T09:25:53.694Z"
   },
   {
    "duration": 13,
    "start_time": "2023-03-19T09:25:53.709Z"
   },
   {
    "duration": 9,
    "start_time": "2023-03-19T09:25:53.724Z"
   },
   {
    "duration": 9,
    "start_time": "2023-03-19T09:25:53.735Z"
   },
   {
    "duration": 16,
    "start_time": "2023-03-19T09:25:53.764Z"
   },
   {
    "duration": 6,
    "start_time": "2023-03-19T09:25:53.782Z"
   },
   {
    "duration": 287,
    "start_time": "2023-03-19T09:25:53.790Z"
   },
   {
    "duration": 234,
    "start_time": "2023-03-19T09:25:54.079Z"
   },
   {
    "duration": 7,
    "start_time": "2023-03-19T09:25:54.315Z"
   },
   {
    "duration": 9,
    "start_time": "2023-03-19T09:25:54.324Z"
   },
   {
    "duration": 498,
    "start_time": "2023-03-19T09:25:54.335Z"
   },
   {
    "duration": 299,
    "start_time": "2023-03-19T09:25:54.835Z"
   },
   {
    "duration": 155,
    "start_time": "2023-03-19T09:26:24.192Z"
   },
   {
    "duration": 20,
    "start_time": "2023-03-19T09:34:56.000Z"
   },
   {
    "duration": 957,
    "start_time": "2023-03-19T09:35:17.339Z"
   },
   {
    "duration": 771,
    "start_time": "2023-03-19T09:35:48.808Z"
   },
   {
    "duration": 229,
    "start_time": "2023-03-19T09:37:05.451Z"
   },
   {
    "duration": 241,
    "start_time": "2023-03-19T09:39:27.680Z"
   },
   {
    "duration": 412,
    "start_time": "2023-03-19T09:41:51.730Z"
   },
   {
    "duration": 380,
    "start_time": "2023-03-19T09:42:43.024Z"
   },
   {
    "duration": 611,
    "start_time": "2023-03-19T09:43:04.840Z"
   },
   {
    "duration": 392,
    "start_time": "2023-03-19T09:43:39.010Z"
   },
   {
    "duration": 310,
    "start_time": "2023-03-19T09:46:03.372Z"
   },
   {
    "duration": 277,
    "start_time": "2023-03-19T09:46:16.767Z"
   },
   {
    "duration": 420,
    "start_time": "2023-03-19T09:47:11.862Z"
   },
   {
    "duration": 287,
    "start_time": "2023-03-19T09:48:05.097Z"
   },
   {
    "duration": 385,
    "start_time": "2023-03-19T09:48:08.068Z"
   },
   {
    "duration": 32,
    "start_time": "2023-03-19T09:52:39.458Z"
   },
   {
    "duration": 311,
    "start_time": "2023-03-19T09:52:54.019Z"
   },
   {
    "duration": 490,
    "start_time": "2023-03-19T09:53:14.700Z"
   },
   {
    "duration": 4,
    "start_time": "2023-03-19T09:56:45.938Z"
   },
   {
    "duration": 189,
    "start_time": "2023-03-19T09:57:17.756Z"
   },
   {
    "duration": 1231,
    "start_time": "2023-03-19T09:57:48.492Z"
   },
   {
    "duration": 1366,
    "start_time": "2023-03-19T10:01:14.524Z"
   },
   {
    "duration": 787,
    "start_time": "2023-03-19T10:02:52.750Z"
   },
   {
    "duration": 1260,
    "start_time": "2023-03-19T10:03:51.293Z"
   },
   {
    "duration": 372,
    "start_time": "2023-03-19T10:05:12.292Z"
   },
   {
    "duration": 375,
    "start_time": "2023-03-19T10:05:37.413Z"
   },
   {
    "duration": 233,
    "start_time": "2023-03-19T11:14:52.393Z"
   },
   {
    "duration": 418,
    "start_time": "2023-03-19T11:15:04.733Z"
   },
   {
    "duration": 28,
    "start_time": "2023-03-19T11:15:14.566Z"
   },
   {
    "duration": 234,
    "start_time": "2023-03-19T11:15:22.684Z"
   },
   {
    "duration": 24,
    "start_time": "2023-03-19T11:17:39.881Z"
   },
   {
    "duration": 19,
    "start_time": "2023-03-19T11:18:15.983Z"
   },
   {
    "duration": 200,
    "start_time": "2023-03-19T11:18:32.084Z"
   },
   {
    "duration": 64,
    "start_time": "2023-03-19T11:24:19.838Z"
   },
   {
    "duration": 731,
    "start_time": "2023-03-19T11:24:30.805Z"
   },
   {
    "duration": 679,
    "start_time": "2023-03-19T11:24:43.616Z"
   },
   {
    "duration": 209,
    "start_time": "2023-03-19T11:25:34.158Z"
   },
   {
    "duration": 708,
    "start_time": "2023-03-19T11:26:10.524Z"
   },
   {
    "duration": 525,
    "start_time": "2023-03-19T11:39:27.524Z"
   },
   {
    "duration": 390,
    "start_time": "2023-03-19T11:40:17.384Z"
   },
   {
    "duration": 761,
    "start_time": "2023-03-19T11:42:19.744Z"
   },
   {
    "duration": 145,
    "start_time": "2023-03-19T11:42:47.986Z"
   },
   {
    "duration": 392,
    "start_time": "2023-03-19T11:43:16.290Z"
   },
   {
    "duration": 402,
    "start_time": "2023-03-19T11:43:58.204Z"
   },
   {
    "duration": 479,
    "start_time": "2023-03-19T11:44:23.637Z"
   },
   {
    "duration": 378,
    "start_time": "2023-03-19T11:45:00.789Z"
   },
   {
    "duration": 380,
    "start_time": "2023-03-19T11:45:12.686Z"
   },
   {
    "duration": 475,
    "start_time": "2023-03-19T11:45:39.968Z"
   },
   {
    "duration": 639,
    "start_time": "2023-03-19T11:47:06.628Z"
   },
   {
    "duration": 372,
    "start_time": "2023-03-19T11:48:41.445Z"
   },
   {
    "duration": 412,
    "start_time": "2023-03-19T11:49:18.502Z"
   },
   {
    "duration": 213,
    "start_time": "2023-03-19T11:52:02.828Z"
   },
   {
    "duration": 238,
    "start_time": "2023-03-19T11:52:49.206Z"
   },
   {
    "duration": 51,
    "start_time": "2023-03-20T05:24:03.903Z"
   },
   {
    "duration": 1254,
    "start_time": "2023-03-20T05:24:14.538Z"
   },
   {
    "duration": 195,
    "start_time": "2023-03-20T05:24:15.795Z"
   },
   {
    "duration": 17,
    "start_time": "2023-03-20T05:24:15.991Z"
   },
   {
    "duration": 13,
    "start_time": "2023-03-20T05:24:16.010Z"
   },
   {
    "duration": 24,
    "start_time": "2023-03-20T05:24:16.024Z"
   },
   {
    "duration": 802,
    "start_time": "2023-03-20T05:24:16.049Z"
   },
   {
    "duration": 7,
    "start_time": "2023-03-20T05:24:16.853Z"
   },
   {
    "duration": 5,
    "start_time": "2023-03-20T05:24:16.862Z"
   },
   {
    "duration": 5,
    "start_time": "2023-03-20T05:24:16.868Z"
   },
   {
    "duration": 7,
    "start_time": "2023-03-20T05:24:16.875Z"
   },
   {
    "duration": 4,
    "start_time": "2023-03-20T05:24:16.883Z"
   },
   {
    "duration": 5,
    "start_time": "2023-03-20T05:24:16.888Z"
   },
   {
    "duration": 5,
    "start_time": "2023-03-20T05:24:16.894Z"
   },
   {
    "duration": 40,
    "start_time": "2023-03-20T05:24:16.900Z"
   },
   {
    "duration": 7,
    "start_time": "2023-03-20T05:24:16.942Z"
   },
   {
    "duration": 4,
    "start_time": "2023-03-20T05:24:16.950Z"
   },
   {
    "duration": 5,
    "start_time": "2023-03-20T05:24:16.955Z"
   },
   {
    "duration": 4,
    "start_time": "2023-03-20T05:24:16.961Z"
   },
   {
    "duration": 4,
    "start_time": "2023-03-20T05:24:16.966Z"
   },
   {
    "duration": 3,
    "start_time": "2023-03-20T05:24:16.972Z"
   },
   {
    "duration": 3,
    "start_time": "2023-03-20T05:24:16.976Z"
   },
   {
    "duration": 4,
    "start_time": "2023-03-20T05:24:16.980Z"
   },
   {
    "duration": 2,
    "start_time": "2023-03-20T05:24:16.986Z"
   },
   {
    "duration": 52,
    "start_time": "2023-03-20T05:24:16.990Z"
   },
   {
    "duration": 7,
    "start_time": "2023-03-20T05:24:17.043Z"
   },
   {
    "duration": 4,
    "start_time": "2023-03-20T05:24:17.051Z"
   },
   {
    "duration": 5,
    "start_time": "2023-03-20T05:24:17.056Z"
   },
   {
    "duration": 4,
    "start_time": "2023-03-20T05:24:17.063Z"
   },
   {
    "duration": 6,
    "start_time": "2023-03-20T05:24:17.069Z"
   },
   {
    "duration": 5,
    "start_time": "2023-03-20T05:24:17.076Z"
   },
   {
    "duration": 6,
    "start_time": "2023-03-20T05:24:17.082Z"
   },
   {
    "duration": 4,
    "start_time": "2023-03-20T05:24:17.089Z"
   },
   {
    "duration": 50,
    "start_time": "2023-03-20T05:24:17.095Z"
   },
   {
    "duration": 4,
    "start_time": "2023-03-20T05:24:17.147Z"
   },
   {
    "duration": 326,
    "start_time": "2023-03-20T05:24:17.152Z"
   },
   {
    "duration": 318,
    "start_time": "2023-03-20T05:24:17.479Z"
   },
   {
    "duration": 6,
    "start_time": "2023-03-20T05:24:17.799Z"
   },
   {
    "duration": 7,
    "start_time": "2023-03-20T05:24:17.806Z"
   },
   {
    "duration": 231,
    "start_time": "2023-03-20T05:24:17.814Z"
   },
   {
    "duration": 4,
    "start_time": "2023-03-20T05:24:18.046Z"
   },
   {
    "duration": 563,
    "start_time": "2023-03-20T05:24:18.051Z"
   },
   {
    "duration": 318,
    "start_time": "2023-03-20T05:25:00.742Z"
   },
   {
    "duration": 102,
    "start_time": "2023-03-20T05:37:10.650Z"
   },
   {
    "duration": 121,
    "start_time": "2023-03-20T05:37:32.278Z"
   },
   {
    "duration": 1171,
    "start_time": "2023-03-20T05:39:05.513Z"
   },
   {
    "duration": 373,
    "start_time": "2023-03-20T05:39:26.798Z"
   },
   {
    "duration": 41,
    "start_time": "2023-03-20T05:39:56.789Z"
   },
   {
    "duration": 1112,
    "start_time": "2023-03-20T06:00:22.708Z"
   },
   {
    "duration": 55,
    "start_time": "2023-03-20T06:00:23.822Z"
   },
   {
    "duration": 18,
    "start_time": "2023-03-20T06:00:23.878Z"
   },
   {
    "duration": 14,
    "start_time": "2023-03-20T06:00:23.898Z"
   },
   {
    "duration": 42,
    "start_time": "2023-03-20T06:00:23.915Z"
   },
   {
    "duration": 777,
    "start_time": "2023-03-20T06:00:23.963Z"
   },
   {
    "duration": 13,
    "start_time": "2023-03-20T06:00:24.742Z"
   },
   {
    "duration": 8,
    "start_time": "2023-03-20T06:00:24.757Z"
   },
   {
    "duration": 6,
    "start_time": "2023-03-20T06:00:24.767Z"
   },
   {
    "duration": 11,
    "start_time": "2023-03-20T06:00:24.775Z"
   },
   {
    "duration": 7,
    "start_time": "2023-03-20T06:00:24.788Z"
   },
   {
    "duration": 5,
    "start_time": "2023-03-20T06:00:24.797Z"
   },
   {
    "duration": 5,
    "start_time": "2023-03-20T06:00:24.840Z"
   },
   {
    "duration": 6,
    "start_time": "2023-03-20T06:00:24.847Z"
   },
   {
    "duration": 4,
    "start_time": "2023-03-20T06:00:24.855Z"
   },
   {
    "duration": 4,
    "start_time": "2023-03-20T06:00:24.860Z"
   },
   {
    "duration": 5,
    "start_time": "2023-03-20T06:00:24.865Z"
   },
   {
    "duration": 6,
    "start_time": "2023-03-20T06:00:24.871Z"
   },
   {
    "duration": 5,
    "start_time": "2023-03-20T06:00:24.879Z"
   },
   {
    "duration": 4,
    "start_time": "2023-03-20T06:00:24.886Z"
   },
   {
    "duration": 5,
    "start_time": "2023-03-20T06:00:24.940Z"
   },
   {
    "duration": 6,
    "start_time": "2023-03-20T06:00:24.946Z"
   },
   {
    "duration": 4,
    "start_time": "2023-03-20T06:00:24.953Z"
   },
   {
    "duration": 6,
    "start_time": "2023-03-20T06:00:24.958Z"
   },
   {
    "duration": 9,
    "start_time": "2023-03-20T06:00:24.965Z"
   },
   {
    "duration": 5,
    "start_time": "2023-03-20T06:00:24.976Z"
   },
   {
    "duration": 8,
    "start_time": "2023-03-20T06:00:24.983Z"
   },
   {
    "duration": 6,
    "start_time": "2023-03-20T06:00:24.993Z"
   },
   {
    "duration": 45,
    "start_time": "2023-03-20T06:00:25.000Z"
   },
   {
    "duration": 8,
    "start_time": "2023-03-20T06:00:25.047Z"
   },
   {
    "duration": 7,
    "start_time": "2023-03-20T06:00:25.056Z"
   },
   {
    "duration": 6,
    "start_time": "2023-03-20T06:00:25.065Z"
   },
   {
    "duration": 19,
    "start_time": "2023-03-20T06:00:25.073Z"
   },
   {
    "duration": 4,
    "start_time": "2023-03-20T06:00:25.094Z"
   },
   {
    "duration": 385,
    "start_time": "2023-03-20T06:00:25.100Z"
   },
   {
    "duration": 333,
    "start_time": "2023-03-20T06:00:25.487Z"
   },
   {
    "duration": 7,
    "start_time": "2023-03-20T06:00:25.822Z"
   },
   {
    "duration": 8,
    "start_time": "2023-03-20T06:00:25.840Z"
   },
   {
    "duration": 262,
    "start_time": "2023-03-20T06:00:25.850Z"
   },
   {
    "duration": 264,
    "start_time": "2023-03-20T06:00:26.114Z"
   },
   {
    "duration": 0,
    "start_time": "2023-03-20T06:00:26.380Z"
   },
   {
    "duration": 0,
    "start_time": "2023-03-20T06:00:26.381Z"
   },
   {
    "duration": 326,
    "start_time": "2023-03-20T06:02:01.966Z"
   },
   {
    "duration": 29,
    "start_time": "2023-03-20T06:02:51.403Z"
   },
   {
    "duration": 159,
    "start_time": "2023-03-20T06:03:42.193Z"
   },
   {
    "duration": 23,
    "start_time": "2023-03-20T06:04:48.052Z"
   },
   {
    "duration": 18,
    "start_time": "2023-03-20T06:06:34.558Z"
   },
   {
    "duration": 330,
    "start_time": "2023-03-20T06:06:45.317Z"
   },
   {
    "duration": 11,
    "start_time": "2023-03-20T07:46:30.377Z"
   },
   {
    "duration": 10,
    "start_time": "2023-03-20T07:47:43.588Z"
   },
   {
    "duration": 2513,
    "start_time": "2023-03-20T07:48:30.969Z"
   },
   {
    "duration": 2618,
    "start_time": "2023-03-20T07:48:46.096Z"
   },
   {
    "duration": 2464,
    "start_time": "2023-03-20T07:49:13.103Z"
   },
   {
    "duration": 10,
    "start_time": "2023-03-20T08:08:22.359Z"
   },
   {
    "duration": 157,
    "start_time": "2023-03-20T08:08:24.071Z"
   },
   {
    "duration": 1155,
    "start_time": "2023-03-20T08:08:35.685Z"
   },
   {
    "duration": 52,
    "start_time": "2023-03-20T08:08:36.843Z"
   },
   {
    "duration": 17,
    "start_time": "2023-03-20T08:08:36.896Z"
   },
   {
    "duration": 12,
    "start_time": "2023-03-20T08:08:36.915Z"
   },
   {
    "duration": 27,
    "start_time": "2023-03-20T08:08:36.928Z"
   },
   {
    "duration": 759,
    "start_time": "2023-03-20T08:08:36.957Z"
   },
   {
    "duration": 8,
    "start_time": "2023-03-20T08:08:37.718Z"
   },
   {
    "duration": 14,
    "start_time": "2023-03-20T08:08:37.727Z"
   },
   {
    "duration": 6,
    "start_time": "2023-03-20T08:08:37.742Z"
   },
   {
    "duration": 9,
    "start_time": "2023-03-20T08:08:37.751Z"
   },
   {
    "duration": 5,
    "start_time": "2023-03-20T08:08:37.761Z"
   },
   {
    "duration": 5,
    "start_time": "2023-03-20T08:08:37.767Z"
   },
   {
    "duration": 10,
    "start_time": "2023-03-20T08:08:37.773Z"
   },
   {
    "duration": 6,
    "start_time": "2023-03-20T08:08:37.784Z"
   },
   {
    "duration": 4,
    "start_time": "2023-03-20T08:08:37.792Z"
   },
   {
    "duration": 4,
    "start_time": "2023-03-20T08:08:37.797Z"
   },
   {
    "duration": 40,
    "start_time": "2023-03-20T08:08:37.802Z"
   },
   {
    "duration": 4,
    "start_time": "2023-03-20T08:08:37.843Z"
   },
   {
    "duration": 6,
    "start_time": "2023-03-20T08:08:37.848Z"
   },
   {
    "duration": 3,
    "start_time": "2023-03-20T08:08:37.855Z"
   },
   {
    "duration": 3,
    "start_time": "2023-03-20T08:08:37.860Z"
   },
   {
    "duration": 3,
    "start_time": "2023-03-20T08:08:37.865Z"
   },
   {
    "duration": 2,
    "start_time": "2023-03-20T08:08:37.870Z"
   },
   {
    "duration": 4,
    "start_time": "2023-03-20T08:08:37.874Z"
   },
   {
    "duration": 6,
    "start_time": "2023-03-20T08:08:37.879Z"
   },
   {
    "duration": 4,
    "start_time": "2023-03-20T08:08:37.886Z"
   },
   {
    "duration": 50,
    "start_time": "2023-03-20T08:08:37.891Z"
   },
   {
    "duration": 6,
    "start_time": "2023-03-20T08:08:37.944Z"
   },
   {
    "duration": 5,
    "start_time": "2023-03-20T08:08:37.952Z"
   },
   {
    "duration": 6,
    "start_time": "2023-03-20T08:08:37.959Z"
   },
   {
    "duration": 7,
    "start_time": "2023-03-20T08:08:37.967Z"
   },
   {
    "duration": 4,
    "start_time": "2023-03-20T08:08:37.976Z"
   },
   {
    "duration": 14,
    "start_time": "2023-03-20T08:08:37.982Z"
   },
   {
    "duration": 44,
    "start_time": "2023-03-20T08:08:37.998Z"
   },
   {
    "duration": 342,
    "start_time": "2023-03-20T08:08:38.044Z"
   },
   {
    "duration": 344,
    "start_time": "2023-03-20T08:08:38.388Z"
   },
   {
    "duration": 367,
    "start_time": "2023-03-20T08:08:38.734Z"
   },
   {
    "duration": 11,
    "start_time": "2023-03-20T08:08:39.102Z"
   },
   {
    "duration": 135,
    "start_time": "2023-03-20T08:08:39.115Z"
   },
   {
    "duration": 8,
    "start_time": "2023-03-20T08:08:39.251Z"
   },
   {
    "duration": 197,
    "start_time": "2023-03-20T08:08:39.260Z"
   },
   {
    "duration": 231,
    "start_time": "2023-03-20T08:08:39.459Z"
   },
   {
    "duration": 0,
    "start_time": "2023-03-20T08:08:39.691Z"
   },
   {
    "duration": 0,
    "start_time": "2023-03-20T08:08:39.692Z"
   },
   {
    "duration": 14,
    "start_time": "2023-03-20T08:09:06.208Z"
   },
   {
    "duration": 1380,
    "start_time": "2023-03-20T08:16:01.470Z"
   },
   {
    "duration": 53,
    "start_time": "2023-03-20T08:16:02.852Z"
   },
   {
    "duration": 19,
    "start_time": "2023-03-20T08:16:02.906Z"
   },
   {
    "duration": 14,
    "start_time": "2023-03-20T08:16:02.927Z"
   },
   {
    "duration": 27,
    "start_time": "2023-03-20T08:16:02.943Z"
   },
   {
    "duration": 757,
    "start_time": "2023-03-20T08:16:02.971Z"
   },
   {
    "duration": 13,
    "start_time": "2023-03-20T08:16:03.730Z"
   },
   {
    "duration": 12,
    "start_time": "2023-03-20T08:16:03.744Z"
   },
   {
    "duration": 12,
    "start_time": "2023-03-20T08:16:03.758Z"
   },
   {
    "duration": 19,
    "start_time": "2023-03-20T08:16:03.772Z"
   },
   {
    "duration": 5,
    "start_time": "2023-03-20T08:16:03.792Z"
   },
   {
    "duration": 20,
    "start_time": "2023-03-20T08:16:03.798Z"
   },
   {
    "duration": 26,
    "start_time": "2023-03-20T08:16:03.820Z"
   },
   {
    "duration": 7,
    "start_time": "2023-03-20T08:16:03.850Z"
   },
   {
    "duration": 14,
    "start_time": "2023-03-20T08:16:03.858Z"
   },
   {
    "duration": 8,
    "start_time": "2023-03-20T08:16:03.874Z"
   },
   {
    "duration": 6,
    "start_time": "2023-03-20T08:16:03.883Z"
   },
   {
    "duration": 8,
    "start_time": "2023-03-20T08:16:03.891Z"
   },
   {
    "duration": 33,
    "start_time": "2023-03-20T08:16:03.901Z"
   },
   {
    "duration": 12,
    "start_time": "2023-03-20T08:16:03.936Z"
   },
   {
    "duration": 12,
    "start_time": "2023-03-20T08:16:03.949Z"
   },
   {
    "duration": 19,
    "start_time": "2023-03-20T08:16:03.962Z"
   },
   {
    "duration": 7,
    "start_time": "2023-03-20T08:16:03.983Z"
   },
   {
    "duration": 16,
    "start_time": "2023-03-20T08:16:03.991Z"
   },
   {
    "duration": 20,
    "start_time": "2023-03-20T08:16:04.008Z"
   },
   {
    "duration": 5,
    "start_time": "2023-03-20T08:16:04.029Z"
   },
   {
    "duration": 5,
    "start_time": "2023-03-20T08:16:04.036Z"
   },
   {
    "duration": 5,
    "start_time": "2023-03-20T08:16:04.042Z"
   },
   {
    "duration": 8,
    "start_time": "2023-03-20T08:16:04.049Z"
   },
   {
    "duration": 5,
    "start_time": "2023-03-20T08:16:04.058Z"
   },
   {
    "duration": 13,
    "start_time": "2023-03-20T08:16:04.064Z"
   },
   {
    "duration": 5,
    "start_time": "2023-03-20T08:16:04.078Z"
   },
   {
    "duration": 12,
    "start_time": "2023-03-20T08:16:04.084Z"
   },
   {
    "duration": 3,
    "start_time": "2023-03-20T08:16:04.098Z"
   },
   {
    "duration": 349,
    "start_time": "2023-03-20T08:16:04.103Z"
   },
   {
    "duration": 331,
    "start_time": "2023-03-20T08:16:04.454Z"
   },
   {
    "duration": 364,
    "start_time": "2023-03-20T08:16:04.787Z"
   },
   {
    "duration": 8,
    "start_time": "2023-03-20T08:16:05.153Z"
   },
   {
    "duration": 8,
    "start_time": "2023-03-20T08:16:05.163Z"
   },
   {
    "duration": 223,
    "start_time": "2023-03-20T08:16:05.173Z"
   },
   {
    "duration": 11,
    "start_time": "2023-03-20T08:16:05.399Z"
   },
   {
    "duration": 139,
    "start_time": "2023-03-20T08:16:05.411Z"
   },
   {
    "duration": 233,
    "start_time": "2023-03-20T08:16:05.552Z"
   },
   {
    "duration": 0,
    "start_time": "2023-03-20T08:16:05.786Z"
   },
   {
    "duration": 0,
    "start_time": "2023-03-20T08:16:05.787Z"
   },
   {
    "duration": 106,
    "start_time": "2023-03-20T08:19:01.179Z"
   },
   {
    "duration": 13,
    "start_time": "2023-03-20T08:19:23.999Z"
   },
   {
    "duration": 19,
    "start_time": "2023-03-20T08:19:38.525Z"
   },
   {
    "duration": 67,
    "start_time": "2023-03-20T08:20:07.261Z"
   },
   {
    "duration": 11,
    "start_time": "2023-03-20T08:23:08.608Z"
   },
   {
    "duration": 12,
    "start_time": "2023-03-20T08:23:21.340Z"
   },
   {
    "duration": 4,
    "start_time": "2023-03-20T08:24:07.822Z"
   },
   {
    "duration": 4,
    "start_time": "2023-03-20T08:24:12.322Z"
   },
   {
    "duration": 11,
    "start_time": "2023-03-20T08:32:48.567Z"
   },
   {
    "duration": 4,
    "start_time": "2023-03-20T08:32:57.229Z"
   },
   {
    "duration": 12,
    "start_time": "2023-03-20T08:33:06.247Z"
   },
   {
    "duration": 567,
    "start_time": "2023-03-20T08:34:45.023Z"
   },
   {
    "duration": 461,
    "start_time": "2023-03-20T08:35:13.045Z"
   },
   {
    "duration": 424,
    "start_time": "2023-03-20T08:35:35.295Z"
   },
   {
    "duration": 12,
    "start_time": "2023-03-20T08:35:42.395Z"
   },
   {
    "duration": 497,
    "start_time": "2023-03-20T08:35:50.426Z"
   },
   {
    "duration": 425,
    "start_time": "2023-03-20T08:36:07.221Z"
   },
   {
    "duration": 428,
    "start_time": "2023-03-20T08:36:20.598Z"
   },
   {
    "duration": 463,
    "start_time": "2023-03-20T08:36:44.099Z"
   },
   {
    "duration": 480,
    "start_time": "2023-03-20T08:37:00.447Z"
   },
   {
    "duration": 239,
    "start_time": "2023-03-20T08:38:27.019Z"
   },
   {
    "duration": 248,
    "start_time": "2023-03-20T08:38:41.667Z"
   },
   {
    "duration": 565,
    "start_time": "2023-03-20T08:39:25.923Z"
   },
   {
    "duration": 78,
    "start_time": "2023-03-20T08:40:56.303Z"
   },
   {
    "duration": 71,
    "start_time": "2023-03-20T08:41:25.228Z"
   },
   {
    "duration": 93,
    "start_time": "2023-03-20T08:42:00.019Z"
   },
   {
    "duration": 76,
    "start_time": "2023-03-20T08:42:50.591Z"
   },
   {
    "duration": 507,
    "start_time": "2023-03-20T08:43:08.141Z"
   },
   {
    "duration": 317,
    "start_time": "2023-03-20T08:43:20.279Z"
   },
   {
    "duration": 237,
    "start_time": "2023-03-20T08:46:58.873Z"
   },
   {
    "duration": 36,
    "start_time": "2023-03-20T08:50:03.926Z"
   },
   {
    "duration": 70,
    "start_time": "2023-03-20T08:50:10.335Z"
   },
   {
    "duration": 225,
    "start_time": "2023-03-20T08:50:19.156Z"
   },
   {
    "duration": 1153,
    "start_time": "2023-03-20T08:54:10.063Z"
   },
   {
    "duration": 24,
    "start_time": "2023-03-20T08:54:26.319Z"
   },
   {
    "duration": 142,
    "start_time": "2023-03-20T08:55:32.072Z"
   },
   {
    "duration": 230,
    "start_time": "2023-03-20T08:55:52.646Z"
   },
   {
    "duration": 190,
    "start_time": "2023-03-20T08:56:45.908Z"
   },
   {
    "duration": 185,
    "start_time": "2023-03-20T08:58:55.367Z"
   },
   {
    "duration": 243,
    "start_time": "2023-03-20T08:59:12.973Z"
   },
   {
    "duration": 250,
    "start_time": "2023-03-20T09:00:10.137Z"
   },
   {
    "duration": 254,
    "start_time": "2023-03-20T09:00:47.336Z"
   },
   {
    "duration": 53,
    "start_time": "2023-03-20T17:23:01.497Z"
   },
   {
    "duration": 1423,
    "start_time": "2023-03-20T17:23:11.740Z"
   },
   {
    "duration": 451,
    "start_time": "2023-03-20T17:23:13.166Z"
   },
   {
    "duration": 19,
    "start_time": "2023-03-20T17:23:13.619Z"
   },
   {
    "duration": 15,
    "start_time": "2023-03-20T17:23:13.639Z"
   },
   {
    "duration": 32,
    "start_time": "2023-03-20T17:23:13.656Z"
   },
   {
    "duration": 827,
    "start_time": "2023-03-20T17:23:13.689Z"
   },
   {
    "duration": 24,
    "start_time": "2023-03-20T17:23:14.518Z"
   },
   {
    "duration": 8,
    "start_time": "2023-03-20T17:23:14.544Z"
   },
   {
    "duration": 7,
    "start_time": "2023-03-20T17:23:14.554Z"
   },
   {
    "duration": 13,
    "start_time": "2023-03-20T17:23:14.563Z"
   },
   {
    "duration": 6,
    "start_time": "2023-03-20T17:23:14.578Z"
   },
   {
    "duration": 7,
    "start_time": "2023-03-20T17:23:14.586Z"
   },
   {
    "duration": 9,
    "start_time": "2023-03-20T17:23:14.595Z"
   },
   {
    "duration": 7,
    "start_time": "2023-03-20T17:23:14.643Z"
   },
   {
    "duration": 7,
    "start_time": "2023-03-20T17:23:14.651Z"
   },
   {
    "duration": 4,
    "start_time": "2023-03-20T17:23:14.659Z"
   },
   {
    "duration": 6,
    "start_time": "2023-03-20T17:23:14.665Z"
   },
   {
    "duration": 7,
    "start_time": "2023-03-20T17:23:14.672Z"
   },
   {
    "duration": 9,
    "start_time": "2023-03-20T17:23:14.681Z"
   },
   {
    "duration": 4,
    "start_time": "2023-03-20T17:23:14.692Z"
   },
   {
    "duration": 6,
    "start_time": "2023-03-20T17:23:14.740Z"
   },
   {
    "duration": 5,
    "start_time": "2023-03-20T17:23:14.748Z"
   },
   {
    "duration": 5,
    "start_time": "2023-03-20T17:23:14.754Z"
   },
   {
    "duration": 7,
    "start_time": "2023-03-20T17:23:14.760Z"
   },
   {
    "duration": 8,
    "start_time": "2023-03-20T17:23:14.769Z"
   },
   {
    "duration": 5,
    "start_time": "2023-03-20T17:23:14.779Z"
   },
   {
    "duration": 8,
    "start_time": "2023-03-20T17:23:14.786Z"
   },
   {
    "duration": 8,
    "start_time": "2023-03-20T17:23:14.795Z"
   },
   {
    "duration": 36,
    "start_time": "2023-03-20T17:23:14.805Z"
   },
   {
    "duration": 8,
    "start_time": "2023-03-20T17:23:14.843Z"
   },
   {
    "duration": 12,
    "start_time": "2023-03-20T17:23:14.853Z"
   },
   {
    "duration": 9,
    "start_time": "2023-03-20T17:23:14.867Z"
   },
   {
    "duration": 18,
    "start_time": "2023-03-20T17:23:14.877Z"
   },
   {
    "duration": 5,
    "start_time": "2023-03-20T17:23:14.897Z"
   },
   {
    "duration": 411,
    "start_time": "2023-03-20T17:23:14.904Z"
   },
   {
    "duration": 372,
    "start_time": "2023-03-20T17:23:15.316Z"
   },
   {
    "duration": 7,
    "start_time": "2023-03-20T17:23:15.689Z"
   },
   {
    "duration": 17,
    "start_time": "2023-03-20T17:23:15.698Z"
   },
   {
    "duration": 289,
    "start_time": "2023-03-20T17:23:15.717Z"
   },
   {
    "duration": 294,
    "start_time": "2023-03-20T17:23:16.008Z"
   },
   {
    "duration": 26,
    "start_time": "2023-03-20T17:23:16.306Z"
   },
   {
    "duration": 25,
    "start_time": "2023-03-20T17:23:45.087Z"
   },
   {
    "duration": 25,
    "start_time": "2023-03-20T17:23:55.508Z"
   },
   {
    "duration": 22,
    "start_time": "2023-03-20T17:24:02.830Z"
   },
   {
    "duration": 7,
    "start_time": "2023-03-20T17:27:47.980Z"
   },
   {
    "duration": 385,
    "start_time": "2023-03-20T17:29:24.586Z"
   },
   {
    "duration": 382,
    "start_time": "2023-03-20T17:29:59.448Z"
   },
   {
    "duration": 414,
    "start_time": "2023-03-20T17:30:24.114Z"
   },
   {
    "duration": 257,
    "start_time": "2023-03-20T17:33:34.810Z"
   },
   {
    "duration": 266,
    "start_time": "2023-03-20T17:34:18.088Z"
   },
   {
    "duration": 112,
    "start_time": "2023-03-20T17:34:54.631Z"
   },
   {
    "duration": 271,
    "start_time": "2023-03-20T17:35:10.239Z"
   },
   {
    "duration": 380,
    "start_time": "2023-03-20T17:35:20.231Z"
   },
   {
    "duration": 176,
    "start_time": "2023-03-20T17:42:36.800Z"
   },
   {
    "duration": 368,
    "start_time": "2023-03-20T17:42:52.806Z"
   },
   {
    "duration": 104,
    "start_time": "2023-03-20T17:43:18.325Z"
   },
   {
    "duration": 91,
    "start_time": "2023-03-20T17:44:30.204Z"
   },
   {
    "duration": 28,
    "start_time": "2023-03-20T17:44:40.019Z"
   },
   {
    "duration": 387,
    "start_time": "2023-03-20T17:46:21.123Z"
   },
   {
    "duration": 74,
    "start_time": "2023-03-20T17:47:23.185Z"
   },
   {
    "duration": 436,
    "start_time": "2023-03-20T17:47:31.538Z"
   },
   {
    "duration": 161,
    "start_time": "2023-03-20T17:49:31.582Z"
   },
   {
    "duration": 397,
    "start_time": "2023-03-20T17:51:43.478Z"
   },
   {
    "duration": 405,
    "start_time": "2023-03-20T17:56:12.357Z"
   },
   {
    "duration": 526,
    "start_time": "2023-03-20T17:56:26.945Z"
   },
   {
    "duration": 1455,
    "start_time": "2023-03-20T17:56:40.006Z"
   },
   {
    "duration": 405,
    "start_time": "2023-03-20T17:57:07.416Z"
   },
   {
    "duration": 404,
    "start_time": "2023-03-20T17:58:49.392Z"
   },
   {
    "duration": 406,
    "start_time": "2023-03-20T17:59:59.423Z"
   },
   {
    "duration": 376,
    "start_time": "2023-03-20T18:00:09.472Z"
   },
   {
    "duration": 391,
    "start_time": "2023-03-20T18:00:23.705Z"
   },
   {
    "duration": 434,
    "start_time": "2023-03-20T18:27:33.691Z"
   },
   {
    "duration": 283,
    "start_time": "2023-03-20T18:27:54.323Z"
   },
   {
    "duration": 42,
    "start_time": "2023-03-20T18:33:56.817Z"
   },
   {
    "duration": 24,
    "start_time": "2023-03-20T18:34:42.869Z"
   },
   {
    "duration": 282,
    "start_time": "2023-03-20T18:35:48.271Z"
   },
   {
    "duration": 326,
    "start_time": "2023-03-20T18:39:03.827Z"
   },
   {
    "duration": 72,
    "start_time": "2023-03-20T18:45:30.163Z"
   },
   {
    "duration": 6,
    "start_time": "2023-03-20T18:48:27.527Z"
   },
   {
    "duration": 11,
    "start_time": "2023-03-20T18:48:37.335Z"
   },
   {
    "duration": 10,
    "start_time": "2023-03-20T18:51:39.078Z"
   },
   {
    "duration": 132,
    "start_time": "2023-03-20T18:54:22.085Z"
   },
   {
    "duration": 588,
    "start_time": "2023-03-20T18:56:14.087Z"
   },
   {
    "duration": 12,
    "start_time": "2023-03-20T19:05:10.898Z"
   },
   {
    "duration": 695,
    "start_time": "2023-03-20T19:05:48.100Z"
   },
   {
    "duration": 630,
    "start_time": "2023-03-20T19:05:58.196Z"
   },
   {
    "duration": 691,
    "start_time": "2023-03-20T19:06:07.254Z"
   },
   {
    "duration": 808,
    "start_time": "2023-03-20T19:06:20.193Z"
   },
   {
    "duration": 12,
    "start_time": "2023-03-20T19:08:28.393Z"
   },
   {
    "duration": 647,
    "start_time": "2023-03-20T19:08:32.372Z"
   },
   {
    "duration": 1238,
    "start_time": "2023-03-20T19:58:02.614Z"
   },
   {
    "duration": 59,
    "start_time": "2023-03-20T19:58:03.855Z"
   },
   {
    "duration": 23,
    "start_time": "2023-03-20T19:58:03.916Z"
   },
   {
    "duration": 20,
    "start_time": "2023-03-20T19:58:03.942Z"
   },
   {
    "duration": 33,
    "start_time": "2023-03-20T19:58:03.964Z"
   },
   {
    "duration": 855,
    "start_time": "2023-03-20T19:58:03.999Z"
   },
   {
    "duration": 13,
    "start_time": "2023-03-20T19:58:04.856Z"
   },
   {
    "duration": 11,
    "start_time": "2023-03-20T19:58:04.871Z"
   },
   {
    "duration": 8,
    "start_time": "2023-03-20T19:58:04.884Z"
   },
   {
    "duration": 47,
    "start_time": "2023-03-20T19:58:04.894Z"
   },
   {
    "duration": 9,
    "start_time": "2023-03-20T19:58:04.943Z"
   },
   {
    "duration": 10,
    "start_time": "2023-03-20T19:58:04.953Z"
   },
   {
    "duration": 5,
    "start_time": "2023-03-20T19:58:04.965Z"
   },
   {
    "duration": 13,
    "start_time": "2023-03-20T19:58:04.972Z"
   },
   {
    "duration": 6,
    "start_time": "2023-03-20T19:58:04.989Z"
   },
   {
    "duration": 5,
    "start_time": "2023-03-20T19:58:04.998Z"
   },
   {
    "duration": 37,
    "start_time": "2023-03-20T19:58:05.005Z"
   },
   {
    "duration": 6,
    "start_time": "2023-03-20T19:58:05.044Z"
   },
   {
    "duration": 8,
    "start_time": "2023-03-20T19:58:05.052Z"
   },
   {
    "duration": 13,
    "start_time": "2023-03-20T19:58:05.062Z"
   },
   {
    "duration": 10,
    "start_time": "2023-03-20T19:58:05.077Z"
   },
   {
    "duration": 9,
    "start_time": "2023-03-20T19:58:05.089Z"
   },
   {
    "duration": 11,
    "start_time": "2023-03-20T19:58:05.100Z"
   },
   {
    "duration": 24,
    "start_time": "2023-03-20T19:58:05.113Z"
   },
   {
    "duration": 8,
    "start_time": "2023-03-20T19:58:05.141Z"
   },
   {
    "duration": 12,
    "start_time": "2023-03-20T19:58:05.151Z"
   },
   {
    "duration": 8,
    "start_time": "2023-03-20T19:58:05.166Z"
   },
   {
    "duration": 6,
    "start_time": "2023-03-20T19:58:05.180Z"
   },
   {
    "duration": 18,
    "start_time": "2023-03-20T19:58:05.188Z"
   },
   {
    "duration": 25,
    "start_time": "2023-03-20T19:58:05.207Z"
   },
   {
    "duration": 24,
    "start_time": "2023-03-20T19:58:05.241Z"
   },
   {
    "duration": 14,
    "start_time": "2023-03-20T19:58:05.268Z"
   },
   {
    "duration": 34,
    "start_time": "2023-03-20T19:58:05.284Z"
   },
   {
    "duration": 7,
    "start_time": "2023-03-20T19:58:05.320Z"
   },
   {
    "duration": 416,
    "start_time": "2023-03-20T19:58:05.328Z"
   },
   {
    "duration": 397,
    "start_time": "2023-03-20T19:58:05.746Z"
   },
   {
    "duration": 10,
    "start_time": "2023-03-20T19:58:06.144Z"
   },
   {
    "duration": 12,
    "start_time": "2023-03-20T19:58:06.156Z"
   },
   {
    "duration": 321,
    "start_time": "2023-03-20T19:58:06.170Z"
   },
   {
    "duration": 322,
    "start_time": "2023-03-20T19:58:06.495Z"
   },
   {
    "duration": 8,
    "start_time": "2023-03-20T19:58:06.819Z"
   },
   {
    "duration": 370,
    "start_time": "2023-03-20T19:58:06.829Z"
   },
   {
    "duration": 311,
    "start_time": "2023-03-20T19:58:07.201Z"
   },
   {
    "duration": 7,
    "start_time": "2023-03-20T19:58:07.514Z"
   },
   {
    "duration": 23,
    "start_time": "2023-03-20T19:58:07.522Z"
   },
   {
    "duration": 746,
    "start_time": "2023-03-20T19:58:07.547Z"
   },
   {
    "duration": 13,
    "start_time": "2023-03-20T19:58:08.295Z"
   },
   {
    "duration": 912,
    "start_time": "2023-03-20T19:58:08.310Z"
   },
   {
    "duration": 25,
    "start_time": "2023-03-20T19:58:09.225Z"
   },
   {
    "duration": 746,
    "start_time": "2023-03-20T19:58:09.254Z"
   },
   {
    "duration": 147,
    "start_time": "2023-03-20T20:03:29.413Z"
   },
   {
    "duration": 14,
    "start_time": "2023-03-20T20:03:37.175Z"
   },
   {
    "duration": 198,
    "start_time": "2023-03-20T20:05:40.291Z"
   },
   {
    "duration": 247,
    "start_time": "2023-03-20T20:05:52.607Z"
   },
   {
    "duration": 274,
    "start_time": "2023-03-20T20:07:19.231Z"
   },
   {
    "duration": 222,
    "start_time": "2023-03-20T20:10:24.987Z"
   },
   {
    "duration": 340,
    "start_time": "2023-03-20T20:10:48.329Z"
   },
   {
    "duration": 355,
    "start_time": "2023-03-20T20:11:27.979Z"
   },
   {
    "duration": 349,
    "start_time": "2023-03-20T20:11:35.432Z"
   },
   {
    "duration": 213,
    "start_time": "2023-03-20T20:11:49.250Z"
   },
   {
    "duration": 272,
    "start_time": "2023-03-20T20:11:56.379Z"
   },
   {
    "duration": 365,
    "start_time": "2023-03-20T20:12:02.928Z"
   },
   {
    "duration": 201,
    "start_time": "2023-03-20T20:13:08.446Z"
   },
   {
    "duration": 218,
    "start_time": "2023-03-20T20:13:25.125Z"
   },
   {
    "duration": 1464,
    "start_time": "2023-03-21T05:39:25.353Z"
   },
   {
    "duration": 112,
    "start_time": "2023-03-21T05:39:26.819Z"
   },
   {
    "duration": 22,
    "start_time": "2023-03-21T05:39:26.933Z"
   },
   {
    "duration": 16,
    "start_time": "2023-03-21T05:39:26.958Z"
   },
   {
    "duration": 33,
    "start_time": "2023-03-21T05:39:26.976Z"
   },
   {
    "duration": 941,
    "start_time": "2023-03-21T05:39:27.011Z"
   },
   {
    "duration": 10,
    "start_time": "2023-03-21T05:39:27.954Z"
   },
   {
    "duration": 8,
    "start_time": "2023-03-21T05:39:27.966Z"
   },
   {
    "duration": 5,
    "start_time": "2023-03-21T05:39:27.975Z"
   },
   {
    "duration": 10,
    "start_time": "2023-03-21T05:39:27.983Z"
   },
   {
    "duration": 6,
    "start_time": "2023-03-21T05:39:27.995Z"
   },
   {
    "duration": 43,
    "start_time": "2023-03-21T05:39:28.003Z"
   },
   {
    "duration": 13,
    "start_time": "2023-03-21T05:39:28.048Z"
   },
   {
    "duration": 23,
    "start_time": "2023-03-21T05:39:28.063Z"
   },
   {
    "duration": 6,
    "start_time": "2023-03-21T05:39:28.088Z"
   },
   {
    "duration": 9,
    "start_time": "2023-03-21T05:39:28.096Z"
   },
   {
    "duration": 9,
    "start_time": "2023-03-21T05:39:28.107Z"
   },
   {
    "duration": 13,
    "start_time": "2023-03-21T05:39:28.117Z"
   },
   {
    "duration": 11,
    "start_time": "2023-03-21T05:39:28.131Z"
   },
   {
    "duration": 5,
    "start_time": "2023-03-21T05:39:28.144Z"
   },
   {
    "duration": 6,
    "start_time": "2023-03-21T05:39:28.151Z"
   },
   {
    "duration": 8,
    "start_time": "2023-03-21T05:39:28.159Z"
   },
   {
    "duration": 6,
    "start_time": "2023-03-21T05:39:28.169Z"
   },
   {
    "duration": 8,
    "start_time": "2023-03-21T05:39:28.176Z"
   },
   {
    "duration": 11,
    "start_time": "2023-03-21T05:39:28.186Z"
   },
   {
    "duration": 7,
    "start_time": "2023-03-21T05:39:28.199Z"
   },
   {
    "duration": 34,
    "start_time": "2023-03-21T05:39:28.208Z"
   },
   {
    "duration": 5,
    "start_time": "2023-03-21T05:39:28.246Z"
   },
   {
    "duration": 8,
    "start_time": "2023-03-21T05:39:28.253Z"
   },
   {
    "duration": 7,
    "start_time": "2023-03-21T05:39:28.263Z"
   },
   {
    "duration": 9,
    "start_time": "2023-03-21T05:39:28.272Z"
   },
   {
    "duration": 8,
    "start_time": "2023-03-21T05:39:28.283Z"
   },
   {
    "duration": 16,
    "start_time": "2023-03-21T05:39:28.293Z"
   },
   {
    "duration": 33,
    "start_time": "2023-03-21T05:39:28.311Z"
   },
   {
    "duration": 387,
    "start_time": "2023-03-21T05:39:28.346Z"
   },
   {
    "duration": 372,
    "start_time": "2023-03-21T05:39:28.734Z"
   },
   {
    "duration": 7,
    "start_time": "2023-03-21T05:39:29.108Z"
   },
   {
    "duration": 11,
    "start_time": "2023-03-21T05:39:29.117Z"
   },
   {
    "duration": 306,
    "start_time": "2023-03-21T05:39:29.140Z"
   },
   {
    "duration": 331,
    "start_time": "2023-03-21T05:39:29.448Z"
   },
   {
    "duration": 8,
    "start_time": "2023-03-21T05:39:29.781Z"
   },
   {
    "duration": 407,
    "start_time": "2023-03-21T05:39:29.791Z"
   },
   {
    "duration": 305,
    "start_time": "2023-03-21T05:39:30.201Z"
   },
   {
    "duration": 7,
    "start_time": "2023-03-21T05:39:30.508Z"
   },
   {
    "duration": 68,
    "start_time": "2023-03-21T05:39:30.516Z"
   },
   {
    "duration": 780,
    "start_time": "2023-03-21T05:39:30.586Z"
   },
   {
    "duration": 14,
    "start_time": "2023-03-21T05:39:31.368Z"
   },
   {
    "duration": 889,
    "start_time": "2023-03-21T05:39:31.384Z"
   },
   {
    "duration": 12,
    "start_time": "2023-03-21T05:39:32.275Z"
   },
   {
    "duration": 697,
    "start_time": "2023-03-21T05:39:32.289Z"
   },
   {
    "duration": 213,
    "start_time": "2023-03-21T05:39:32.988Z"
   },
   {
    "duration": 221,
    "start_time": "2023-03-21T05:39:33.203Z"
   },
   {
    "duration": 12,
    "start_time": "2023-03-21T05:40:26.671Z"
   },
   {
    "duration": 104,
    "start_time": "2023-03-21T05:41:56.428Z"
   },
   {
    "duration": 1222,
    "start_time": "2023-03-21T05:42:08.752Z"
   },
   {
    "duration": 67,
    "start_time": "2023-03-21T05:42:09.976Z"
   },
   {
    "duration": 21,
    "start_time": "2023-03-21T05:42:10.045Z"
   },
   {
    "duration": 27,
    "start_time": "2023-03-21T05:42:10.068Z"
   },
   {
    "duration": 50,
    "start_time": "2023-03-21T05:42:10.097Z"
   },
   {
    "duration": 866,
    "start_time": "2023-03-21T05:42:10.149Z"
   },
   {
    "duration": 10,
    "start_time": "2023-03-21T05:42:11.017Z"
   },
   {
    "duration": 40,
    "start_time": "2023-03-21T05:42:11.028Z"
   },
   {
    "duration": 18,
    "start_time": "2023-03-21T05:42:11.070Z"
   },
   {
    "duration": 14,
    "start_time": "2023-03-21T05:42:11.090Z"
   },
   {
    "duration": 6,
    "start_time": "2023-03-21T05:42:11.106Z"
   },
   {
    "duration": 6,
    "start_time": "2023-03-21T05:42:11.114Z"
   },
   {
    "duration": 10,
    "start_time": "2023-03-21T05:42:11.122Z"
   },
   {
    "duration": 9,
    "start_time": "2023-03-21T05:42:11.135Z"
   },
   {
    "duration": 10,
    "start_time": "2023-03-21T05:42:11.146Z"
   },
   {
    "duration": 6,
    "start_time": "2023-03-21T05:42:11.158Z"
   },
   {
    "duration": 8,
    "start_time": "2023-03-21T05:42:11.166Z"
   },
   {
    "duration": 8,
    "start_time": "2023-03-21T05:42:11.176Z"
   },
   {
    "duration": 25,
    "start_time": "2023-03-21T05:42:11.186Z"
   },
   {
    "duration": 18,
    "start_time": "2023-03-21T05:42:11.213Z"
   },
   {
    "duration": 8,
    "start_time": "2023-03-21T05:42:11.233Z"
   },
   {
    "duration": 11,
    "start_time": "2023-03-21T05:42:11.243Z"
   },
   {
    "duration": 18,
    "start_time": "2023-03-21T05:42:11.256Z"
   },
   {
    "duration": 9,
    "start_time": "2023-03-21T05:42:11.277Z"
   },
   {
    "duration": 10,
    "start_time": "2023-03-21T05:42:11.287Z"
   },
   {
    "duration": 8,
    "start_time": "2023-03-21T05:42:11.299Z"
   },
   {
    "duration": 7,
    "start_time": "2023-03-21T05:42:11.309Z"
   },
   {
    "duration": 26,
    "start_time": "2023-03-21T05:42:11.318Z"
   },
   {
    "duration": 7,
    "start_time": "2023-03-21T05:42:11.346Z"
   },
   {
    "duration": 15,
    "start_time": "2023-03-21T05:42:11.354Z"
   },
   {
    "duration": 14,
    "start_time": "2023-03-21T05:42:11.371Z"
   },
   {
    "duration": 8,
    "start_time": "2023-03-21T05:42:11.387Z"
   },
   {
    "duration": 20,
    "start_time": "2023-03-21T05:42:11.397Z"
   },
   {
    "duration": 22,
    "start_time": "2023-03-21T05:42:11.419Z"
   },
   {
    "duration": 382,
    "start_time": "2023-03-21T05:42:11.443Z"
   },
   {
    "duration": 380,
    "start_time": "2023-03-21T05:42:11.827Z"
   },
   {
    "duration": 7,
    "start_time": "2023-03-21T05:42:12.210Z"
   },
   {
    "duration": 25,
    "start_time": "2023-03-21T05:42:12.219Z"
   },
   {
    "duration": 288,
    "start_time": "2023-03-21T05:42:12.246Z"
   },
   {
    "duration": 120,
    "start_time": "2023-03-21T05:42:12.536Z"
   },
   {
    "duration": 0,
    "start_time": "2023-03-21T05:42:12.659Z"
   },
   {
    "duration": 0,
    "start_time": "2023-03-21T05:42:12.660Z"
   },
   {
    "duration": 0,
    "start_time": "2023-03-21T05:42:12.661Z"
   },
   {
    "duration": 0,
    "start_time": "2023-03-21T05:42:12.662Z"
   },
   {
    "duration": 0,
    "start_time": "2023-03-21T05:42:12.663Z"
   },
   {
    "duration": 0,
    "start_time": "2023-03-21T05:42:12.664Z"
   },
   {
    "duration": 0,
    "start_time": "2023-03-21T05:42:12.665Z"
   },
   {
    "duration": 0,
    "start_time": "2023-03-21T05:42:12.666Z"
   },
   {
    "duration": 0,
    "start_time": "2023-03-21T05:42:12.667Z"
   },
   {
    "duration": 0,
    "start_time": "2023-03-21T05:42:12.669Z"
   },
   {
    "duration": 0,
    "start_time": "2023-03-21T05:42:12.669Z"
   },
   {
    "duration": 0,
    "start_time": "2023-03-21T05:42:12.670Z"
   },
   {
    "duration": 0,
    "start_time": "2023-03-21T05:42:12.671Z"
   },
   {
    "duration": 292,
    "start_time": "2023-03-21T05:42:32.875Z"
   },
   {
    "duration": 13,
    "start_time": "2023-03-21T05:42:39.530Z"
   },
   {
    "duration": 189,
    "start_time": "2023-03-21T05:43:05.628Z"
   },
   {
    "duration": 311,
    "start_time": "2023-03-21T05:43:34.854Z"
   },
   {
    "duration": 990,
    "start_time": "2023-03-21T05:47:28.201Z"
   },
   {
    "duration": 20,
    "start_time": "2023-03-21T05:48:05.752Z"
   },
   {
    "duration": 13,
    "start_time": "2023-03-21T05:51:09.306Z"
   },
   {
    "duration": 12,
    "start_time": "2023-03-21T05:51:27.418Z"
   },
   {
    "duration": 1585,
    "start_time": "2023-03-21T05:51:55.445Z"
   },
   {
    "duration": 56,
    "start_time": "2023-03-21T05:51:57.032Z"
   },
   {
    "duration": 22,
    "start_time": "2023-03-21T05:51:57.090Z"
   },
   {
    "duration": 16,
    "start_time": "2023-03-21T05:51:57.114Z"
   },
   {
    "duration": 49,
    "start_time": "2023-03-21T05:51:57.133Z"
   },
   {
    "duration": 885,
    "start_time": "2023-03-21T05:51:57.183Z"
   },
   {
    "duration": 11,
    "start_time": "2023-03-21T05:51:58.070Z"
   },
   {
    "duration": 25,
    "start_time": "2023-03-21T05:51:58.083Z"
   },
   {
    "duration": 25,
    "start_time": "2023-03-21T05:51:58.110Z"
   },
   {
    "duration": 20,
    "start_time": "2023-03-21T05:51:58.137Z"
   },
   {
    "duration": 19,
    "start_time": "2023-03-21T05:51:58.159Z"
   },
   {
    "duration": 21,
    "start_time": "2023-03-21T05:51:58.180Z"
   },
   {
    "duration": 17,
    "start_time": "2023-03-21T05:51:58.203Z"
   },
   {
    "duration": 16,
    "start_time": "2023-03-21T05:51:58.225Z"
   },
   {
    "duration": 8,
    "start_time": "2023-03-21T05:51:58.244Z"
   },
   {
    "duration": 8,
    "start_time": "2023-03-21T05:51:58.253Z"
   },
   {
    "duration": 18,
    "start_time": "2023-03-21T05:51:58.263Z"
   },
   {
    "duration": 8,
    "start_time": "2023-03-21T05:51:58.284Z"
   },
   {
    "duration": 8,
    "start_time": "2023-03-21T05:51:58.294Z"
   },
   {
    "duration": 6,
    "start_time": "2023-03-21T05:51:58.303Z"
   },
   {
    "duration": 15,
    "start_time": "2023-03-21T05:51:58.310Z"
   },
   {
    "duration": 22,
    "start_time": "2023-03-21T05:51:58.327Z"
   },
   {
    "duration": 6,
    "start_time": "2023-03-21T05:51:58.351Z"
   },
   {
    "duration": 11,
    "start_time": "2023-03-21T05:51:58.358Z"
   },
   {
    "duration": 13,
    "start_time": "2023-03-21T05:51:58.370Z"
   },
   {
    "duration": 8,
    "start_time": "2023-03-21T05:51:58.385Z"
   },
   {
    "duration": 10,
    "start_time": "2023-03-21T05:51:58.395Z"
   },
   {
    "duration": 8,
    "start_time": "2023-03-21T05:51:58.407Z"
   },
   {
    "duration": 7,
    "start_time": "2023-03-21T05:51:58.416Z"
   },
   {
    "duration": 24,
    "start_time": "2023-03-21T05:51:58.424Z"
   },
   {
    "duration": 41,
    "start_time": "2023-03-21T05:51:58.450Z"
   },
   {
    "duration": 10,
    "start_time": "2023-03-21T05:51:58.494Z"
   },
   {
    "duration": 16,
    "start_time": "2023-03-21T05:51:58.506Z"
   },
   {
    "duration": 5,
    "start_time": "2023-03-21T05:51:58.524Z"
   },
   {
    "duration": 397,
    "start_time": "2023-03-21T05:51:58.531Z"
   },
   {
    "duration": 403,
    "start_time": "2023-03-21T05:51:58.930Z"
   },
   {
    "duration": 8,
    "start_time": "2023-03-21T05:51:59.341Z"
   },
   {
    "duration": 13,
    "start_time": "2023-03-21T05:51:59.350Z"
   },
   {
    "duration": 320,
    "start_time": "2023-03-21T05:51:59.366Z"
   },
   {
    "duration": 383,
    "start_time": "2023-03-21T05:51:59.688Z"
   },
   {
    "duration": 11,
    "start_time": "2023-03-21T05:52:00.077Z"
   },
   {
    "duration": 712,
    "start_time": "2023-03-21T05:52:00.090Z"
   },
   {
    "duration": 340,
    "start_time": "2023-03-21T05:52:00.804Z"
   },
   {
    "duration": 8,
    "start_time": "2023-03-21T05:52:01.146Z"
   },
   {
    "duration": 150,
    "start_time": "2023-03-21T05:52:01.156Z"
   },
   {
    "duration": 872,
    "start_time": "2023-03-21T05:52:01.308Z"
   },
   {
    "duration": 16,
    "start_time": "2023-03-21T05:52:02.182Z"
   },
   {
    "duration": 924,
    "start_time": "2023-03-21T05:52:02.199Z"
   },
   {
    "duration": 27,
    "start_time": "2023-03-21T05:52:03.126Z"
   },
   {
    "duration": 787,
    "start_time": "2023-03-21T05:52:03.155Z"
   },
   {
    "duration": 221,
    "start_time": "2023-03-21T05:52:03.944Z"
   },
   {
    "duration": 249,
    "start_time": "2023-03-21T05:52:04.168Z"
   },
   {
    "duration": 1581,
    "start_time": "2023-03-21T08:01:45.460Z"
   },
   {
    "duration": 115,
    "start_time": "2023-03-21T08:01:47.044Z"
   },
   {
    "duration": 24,
    "start_time": "2023-03-21T08:01:47.161Z"
   },
   {
    "duration": 20,
    "start_time": "2023-03-21T08:01:47.187Z"
   },
   {
    "duration": 49,
    "start_time": "2023-03-21T08:01:47.210Z"
   },
   {
    "duration": 908,
    "start_time": "2023-03-21T08:01:47.261Z"
   },
   {
    "duration": 14,
    "start_time": "2023-03-21T08:01:48.172Z"
   },
   {
    "duration": 21,
    "start_time": "2023-03-21T08:01:48.188Z"
   },
   {
    "duration": 28,
    "start_time": "2023-03-21T08:01:48.211Z"
   },
   {
    "duration": 34,
    "start_time": "2023-03-21T08:01:48.242Z"
   },
   {
    "duration": 6,
    "start_time": "2023-03-21T08:01:48.279Z"
   },
   {
    "duration": 21,
    "start_time": "2023-03-21T08:01:48.287Z"
   },
   {
    "duration": 16,
    "start_time": "2023-03-21T08:01:48.310Z"
   },
   {
    "duration": 12,
    "start_time": "2023-03-21T08:01:48.330Z"
   },
   {
    "duration": 13,
    "start_time": "2023-03-21T08:01:48.345Z"
   },
   {
    "duration": 6,
    "start_time": "2023-03-21T08:01:48.360Z"
   },
   {
    "duration": 19,
    "start_time": "2023-03-21T08:01:48.368Z"
   },
   {
    "duration": 8,
    "start_time": "2023-03-21T08:01:48.390Z"
   },
   {
    "duration": 8,
    "start_time": "2023-03-21T08:01:48.400Z"
   },
   {
    "duration": 13,
    "start_time": "2023-03-21T08:01:48.410Z"
   },
   {
    "duration": 16,
    "start_time": "2023-03-21T08:01:48.425Z"
   },
   {
    "duration": 9,
    "start_time": "2023-03-21T08:01:48.444Z"
   },
   {
    "duration": 11,
    "start_time": "2023-03-21T08:01:48.456Z"
   },
   {
    "duration": 15,
    "start_time": "2023-03-21T08:01:48.469Z"
   },
   {
    "duration": 11,
    "start_time": "2023-03-21T08:01:48.486Z"
   },
   {
    "duration": 11,
    "start_time": "2023-03-21T08:01:48.499Z"
   },
   {
    "duration": 27,
    "start_time": "2023-03-21T08:01:48.514Z"
   },
   {
    "duration": 13,
    "start_time": "2023-03-21T08:01:48.543Z"
   },
   {
    "duration": 21,
    "start_time": "2023-03-21T08:01:48.558Z"
   },
   {
    "duration": 27,
    "start_time": "2023-03-21T08:01:48.582Z"
   },
   {
    "duration": 44,
    "start_time": "2023-03-21T08:01:48.612Z"
   },
   {
    "duration": 38,
    "start_time": "2023-03-21T08:01:48.658Z"
   },
   {
    "duration": 46,
    "start_time": "2023-03-21T08:01:48.698Z"
   },
   {
    "duration": 26,
    "start_time": "2023-03-21T08:01:48.746Z"
   },
   {
    "duration": 419,
    "start_time": "2023-03-21T08:01:48.775Z"
   },
   {
    "duration": 472,
    "start_time": "2023-03-21T08:01:49.197Z"
   },
   {
    "duration": 7,
    "start_time": "2023-03-21T08:01:49.672Z"
   },
   {
    "duration": 24,
    "start_time": "2023-03-21T08:01:49.681Z"
   },
   {
    "duration": 323,
    "start_time": "2023-03-21T08:01:49.707Z"
   },
   {
    "duration": 334,
    "start_time": "2023-03-21T08:01:50.033Z"
   },
   {
    "duration": 10,
    "start_time": "2023-03-21T08:01:50.371Z"
   },
   {
    "duration": 411,
    "start_time": "2023-03-21T08:01:50.382Z"
   },
   {
    "duration": 312,
    "start_time": "2023-03-21T08:01:50.794Z"
   },
   {
    "duration": 214,
    "start_time": "2023-03-21T08:01:51.109Z"
   },
   {
    "duration": 0,
    "start_time": "2023-03-21T08:01:51.325Z"
   },
   {
    "duration": 0,
    "start_time": "2023-03-21T08:01:51.326Z"
   },
   {
    "duration": 0,
    "start_time": "2023-03-21T08:01:51.328Z"
   },
   {
    "duration": 0,
    "start_time": "2023-03-21T08:01:51.329Z"
   },
   {
    "duration": 0,
    "start_time": "2023-03-21T08:01:51.331Z"
   },
   {
    "duration": 0,
    "start_time": "2023-03-21T08:01:51.332Z"
   },
   {
    "duration": 0,
    "start_time": "2023-03-21T08:01:51.333Z"
   },
   {
    "duration": 0,
    "start_time": "2023-03-21T08:01:51.334Z"
   },
   {
    "duration": 0,
    "start_time": "2023-03-21T08:01:51.336Z"
   },
   {
    "duration": 0,
    "start_time": "2023-03-21T08:01:51.337Z"
   },
   {
    "duration": 4,
    "start_time": "2023-03-21T08:02:03.539Z"
   },
   {
    "duration": 123,
    "start_time": "2023-03-21T08:02:05.404Z"
   },
   {
    "duration": 67,
    "start_time": "2023-03-21T08:02:37.338Z"
   },
   {
    "duration": 14,
    "start_time": "2023-03-21T08:13:58.167Z"
   },
   {
    "duration": 13,
    "start_time": "2023-03-21T08:14:26.596Z"
   },
   {
    "duration": 58,
    "start_time": "2023-03-21T08:14:41.733Z"
   },
   {
    "duration": 48,
    "start_time": "2023-03-21T08:17:50.896Z"
   },
   {
    "duration": 4,
    "start_time": "2023-03-21T08:18:28.642Z"
   },
   {
    "duration": 41,
    "start_time": "2023-03-21T08:18:29.469Z"
   },
   {
    "duration": 9,
    "start_time": "2023-03-21T08:20:14.384Z"
   },
   {
    "duration": 6,
    "start_time": "2023-03-21T08:21:02.586Z"
   },
   {
    "duration": 13,
    "start_time": "2023-03-21T08:21:03.213Z"
   },
   {
    "duration": 835,
    "start_time": "2023-03-21T08:21:03.582Z"
   },
   {
    "duration": 1337,
    "start_time": "2023-03-21T08:21:14.716Z"
   },
   {
    "duration": 175,
    "start_time": "2023-03-21T08:21:16.058Z"
   },
   {
    "duration": 30,
    "start_time": "2023-03-21T08:21:16.237Z"
   },
   {
    "duration": 31,
    "start_time": "2023-03-21T08:21:16.269Z"
   },
   {
    "duration": 70,
    "start_time": "2023-03-21T08:21:16.304Z"
   },
   {
    "duration": 927,
    "start_time": "2023-03-21T08:21:16.376Z"
   },
   {
    "duration": 10,
    "start_time": "2023-03-21T08:21:17.306Z"
   },
   {
    "duration": 30,
    "start_time": "2023-03-21T08:21:17.318Z"
   },
   {
    "duration": 28,
    "start_time": "2023-03-21T08:21:17.350Z"
   },
   {
    "duration": 20,
    "start_time": "2023-03-21T08:21:17.380Z"
   },
   {
    "duration": 10,
    "start_time": "2023-03-21T08:21:17.403Z"
   },
   {
    "duration": 17,
    "start_time": "2023-03-21T08:21:17.415Z"
   },
   {
    "duration": 21,
    "start_time": "2023-03-21T08:21:17.434Z"
   },
   {
    "duration": 14,
    "start_time": "2023-03-21T08:21:17.459Z"
   },
   {
    "duration": 7,
    "start_time": "2023-03-21T08:21:17.475Z"
   },
   {
    "duration": 11,
    "start_time": "2023-03-21T08:21:17.485Z"
   },
   {
    "duration": 14,
    "start_time": "2023-03-21T08:21:17.497Z"
   },
   {
    "duration": 19,
    "start_time": "2023-03-21T08:21:17.512Z"
   },
   {
    "duration": 12,
    "start_time": "2023-03-21T08:21:17.533Z"
   },
   {
    "duration": 10,
    "start_time": "2023-03-21T08:21:17.547Z"
   },
   {
    "duration": 10,
    "start_time": "2023-03-21T08:21:17.559Z"
   },
   {
    "duration": 21,
    "start_time": "2023-03-21T08:21:17.571Z"
   },
   {
    "duration": 20,
    "start_time": "2023-03-21T08:21:17.594Z"
   },
   {
    "duration": 24,
    "start_time": "2023-03-21T08:21:17.615Z"
   },
   {
    "duration": 32,
    "start_time": "2023-03-21T08:21:17.641Z"
   },
   {
    "duration": 12,
    "start_time": "2023-03-21T08:21:17.675Z"
   },
   {
    "duration": 17,
    "start_time": "2023-03-21T08:21:17.689Z"
   },
   {
    "duration": 26,
    "start_time": "2023-03-21T08:21:17.709Z"
   },
   {
    "duration": 24,
    "start_time": "2023-03-21T08:21:17.737Z"
   },
   {
    "duration": 9,
    "start_time": "2023-03-21T08:21:17.763Z"
   },
   {
    "duration": 31,
    "start_time": "2023-03-21T08:21:17.774Z"
   },
   {
    "duration": 11,
    "start_time": "2023-03-21T08:21:17.806Z"
   },
   {
    "duration": 25,
    "start_time": "2023-03-21T08:21:17.819Z"
   },
   {
    "duration": 26,
    "start_time": "2023-03-21T08:21:17.846Z"
   },
   {
    "duration": 401,
    "start_time": "2023-03-21T08:21:17.874Z"
   },
   {
    "duration": 558,
    "start_time": "2023-03-21T08:21:18.278Z"
   },
   {
    "duration": 10,
    "start_time": "2023-03-21T08:21:18.840Z"
   },
   {
    "duration": 22,
    "start_time": "2023-03-21T08:21:18.852Z"
   },
   {
    "duration": 328,
    "start_time": "2023-03-21T08:21:18.877Z"
   },
   {
    "duration": 467,
    "start_time": "2023-03-21T08:21:19.208Z"
   },
   {
    "duration": 9,
    "start_time": "2023-03-21T08:21:19.680Z"
   },
   {
    "duration": 411,
    "start_time": "2023-03-21T08:21:19.691Z"
   },
   {
    "duration": 348,
    "start_time": "2023-03-21T08:21:20.104Z"
   },
   {
    "duration": 7,
    "start_time": "2023-03-21T08:21:20.455Z"
   },
   {
    "duration": 37,
    "start_time": "2023-03-21T08:21:20.465Z"
   },
   {
    "duration": 902,
    "start_time": "2023-03-21T08:21:20.505Z"
   },
   {
    "duration": 18,
    "start_time": "2023-03-21T08:21:21.409Z"
   },
   {
    "duration": 906,
    "start_time": "2023-03-21T08:21:21.442Z"
   },
   {
    "duration": 19,
    "start_time": "2023-03-21T08:21:22.351Z"
   },
   {
    "duration": 955,
    "start_time": "2023-03-21T08:21:22.372Z"
   },
   {
    "duration": 255,
    "start_time": "2023-03-21T08:21:23.330Z"
   },
   {
    "duration": 244,
    "start_time": "2023-03-21T08:21:23.587Z"
   },
   {
    "duration": 7,
    "start_time": "2023-03-21T08:31:03.382Z"
   },
   {
    "duration": 162,
    "start_time": "2023-03-21T08:31:36.493Z"
   },
   {
    "duration": 23,
    "start_time": "2023-03-21T08:31:53.943Z"
   },
   {
    "duration": 7,
    "start_time": "2023-03-21T08:32:16.154Z"
   },
   {
    "duration": 21,
    "start_time": "2023-03-21T08:32:18.222Z"
   },
   {
    "duration": 5,
    "start_time": "2023-03-21T08:32:33.521Z"
   },
   {
    "duration": 23,
    "start_time": "2023-03-21T08:32:34.226Z"
   },
   {
    "duration": 7,
    "start_time": "2023-03-21T08:32:43.849Z"
   },
   {
    "duration": 1058,
    "start_time": "2023-03-21T08:32:44.705Z"
   },
   {
    "duration": 7,
    "start_time": "2023-03-21T08:33:04.656Z"
   },
   {
    "duration": 1192,
    "start_time": "2023-03-21T08:33:05.380Z"
   },
   {
    "duration": 9,
    "start_time": "2023-03-21T08:33:30.758Z"
   },
   {
    "duration": 1468,
    "start_time": "2023-03-21T08:33:31.791Z"
   },
   {
    "duration": 5,
    "start_time": "2023-03-21T08:33:41.990Z"
   },
   {
    "duration": 624,
    "start_time": "2023-03-21T08:33:43.192Z"
   },
   {
    "duration": 7,
    "start_time": "2023-03-21T08:39:22.749Z"
   },
   {
    "duration": 945,
    "start_time": "2023-03-21T08:39:23.919Z"
   },
   {
    "duration": 7,
    "start_time": "2023-03-21T08:40:18.512Z"
   },
   {
    "duration": 1172,
    "start_time": "2023-03-21T08:40:21.703Z"
   },
   {
    "duration": 7,
    "start_time": "2023-03-21T08:43:29.329Z"
   },
   {
    "duration": 887,
    "start_time": "2023-03-21T08:43:30.013Z"
   },
   {
    "duration": 6,
    "start_time": "2023-03-21T08:43:41.185Z"
   },
   {
    "duration": 908,
    "start_time": "2023-03-21T08:43:41.680Z"
   },
   {
    "duration": 4,
    "start_time": "2023-03-21T08:59:16.898Z"
   },
   {
    "duration": 11,
    "start_time": "2023-03-21T08:59:17.567Z"
   },
   {
    "duration": 5,
    "start_time": "2023-03-21T08:59:32.629Z"
   },
   {
    "duration": 13,
    "start_time": "2023-03-21T08:59:33.877Z"
   },
   {
    "duration": 4,
    "start_time": "2023-03-21T09:00:31.706Z"
   },
   {
    "duration": 157,
    "start_time": "2023-03-21T09:00:32.224Z"
   },
   {
    "duration": 8,
    "start_time": "2023-03-21T09:03:12.096Z"
   },
   {
    "duration": 1367,
    "start_time": "2023-03-21T09:03:12.608Z"
   },
   {
    "duration": 7,
    "start_time": "2023-03-21T09:04:06.108Z"
   },
   {
    "duration": 37,
    "start_time": "2023-03-21T09:04:06.618Z"
   },
   {
    "duration": 6,
    "start_time": "2023-03-21T09:04:55.897Z"
   },
   {
    "duration": 190,
    "start_time": "2023-03-21T09:04:56.385Z"
   },
   {
    "duration": 5,
    "start_time": "2023-03-21T09:05:45.159Z"
   },
   {
    "duration": 192,
    "start_time": "2023-03-21T09:05:45.622Z"
   },
   {
    "duration": 7,
    "start_time": "2023-03-21T09:06:24.668Z"
   },
   {
    "duration": 237,
    "start_time": "2023-03-21T09:06:25.160Z"
   },
   {
    "duration": 6,
    "start_time": "2023-03-21T09:07:24.688Z"
   },
   {
    "duration": 211,
    "start_time": "2023-03-21T09:07:25.137Z"
   },
   {
    "duration": 8,
    "start_time": "2023-03-21T09:07:32.302Z"
   },
   {
    "duration": 260,
    "start_time": "2023-03-21T09:07:35.999Z"
   },
   {
    "duration": 8,
    "start_time": "2023-03-21T09:08:13.501Z"
   },
   {
    "duration": 516,
    "start_time": "2023-03-21T09:08:15.202Z"
   },
   {
    "duration": 8,
    "start_time": "2023-03-21T09:08:49.874Z"
   },
   {
    "duration": 8,
    "start_time": "2023-03-21T09:09:33.776Z"
   },
   {
    "duration": 570,
    "start_time": "2023-03-21T09:10:29.277Z"
   },
   {
    "duration": 536,
    "start_time": "2023-03-21T09:10:36.671Z"
   },
   {
    "duration": 517,
    "start_time": "2023-03-21T09:11:15.813Z"
   },
   {
    "duration": 397,
    "start_time": "2023-03-21T09:11:29.737Z"
   },
   {
    "duration": 8,
    "start_time": "2023-03-21T09:12:40.262Z"
   },
   {
    "duration": 9,
    "start_time": "2023-03-21T09:16:23.475Z"
   },
   {
    "duration": 33,
    "start_time": "2023-03-21T09:16:23.615Z"
   },
   {
    "duration": 9,
    "start_time": "2023-03-21T09:17:28.597Z"
   },
   {
    "duration": 623,
    "start_time": "2023-03-21T09:17:29.324Z"
   },
   {
    "duration": 596,
    "start_time": "2023-03-21T09:17:37.268Z"
   },
   {
    "duration": 774,
    "start_time": "2023-03-21T09:17:39.288Z"
   },
   {
    "duration": 11,
    "start_time": "2023-03-21T09:17:55.962Z"
   },
   {
    "duration": 785,
    "start_time": "2023-03-21T09:17:56.548Z"
   },
   {
    "duration": 10,
    "start_time": "2023-03-21T09:18:57.623Z"
   },
   {
    "duration": 59,
    "start_time": "2023-03-21T09:18:58.335Z"
   },
   {
    "duration": 10,
    "start_time": "2023-03-21T09:19:13.866Z"
   },
   {
    "duration": 553,
    "start_time": "2023-03-21T09:19:14.389Z"
   },
   {
    "duration": 9,
    "start_time": "2023-03-21T09:19:25.131Z"
   },
   {
    "duration": 606,
    "start_time": "2023-03-21T09:19:25.650Z"
   },
   {
    "duration": 9,
    "start_time": "2023-03-21T09:20:12.265Z"
   },
   {
    "duration": 744,
    "start_time": "2023-03-21T09:20:13.882Z"
   },
   {
    "duration": 269,
    "start_time": "2023-03-21T09:21:16.525Z"
   },
   {
    "duration": 246,
    "start_time": "2023-03-21T09:21:24.424Z"
   },
   {
    "duration": 12,
    "start_time": "2023-03-21T09:21:34.308Z"
   },
   {
    "duration": 8,
    "start_time": "2023-03-21T09:21:59.419Z"
   },
   {
    "duration": 569,
    "start_time": "2023-03-21T09:22:00.352Z"
   },
   {
    "duration": 1457,
    "start_time": "2023-03-21T09:22:27.242Z"
   },
   {
    "duration": 76,
    "start_time": "2023-03-21T09:22:28.702Z"
   },
   {
    "duration": 24,
    "start_time": "2023-03-21T09:22:28.780Z"
   },
   {
    "duration": 36,
    "start_time": "2023-03-21T09:22:28.806Z"
   },
   {
    "duration": 36,
    "start_time": "2023-03-21T09:22:28.846Z"
   },
   {
    "duration": 1031,
    "start_time": "2023-03-21T09:22:28.885Z"
   },
   {
    "duration": 23,
    "start_time": "2023-03-21T09:22:29.918Z"
   },
   {
    "duration": 11,
    "start_time": "2023-03-21T09:22:29.944Z"
   },
   {
    "duration": 19,
    "start_time": "2023-03-21T09:22:29.958Z"
   },
   {
    "duration": 18,
    "start_time": "2023-03-21T09:22:29.979Z"
   },
   {
    "duration": 6,
    "start_time": "2023-03-21T09:22:29.999Z"
   },
   {
    "duration": 31,
    "start_time": "2023-03-21T09:22:30.008Z"
   },
   {
    "duration": 22,
    "start_time": "2023-03-21T09:22:30.041Z"
   },
   {
    "duration": 32,
    "start_time": "2023-03-21T09:22:30.067Z"
   },
   {
    "duration": 27,
    "start_time": "2023-03-21T09:22:30.101Z"
   },
   {
    "duration": 28,
    "start_time": "2023-03-21T09:22:30.130Z"
   },
   {
    "duration": 23,
    "start_time": "2023-03-21T09:22:30.160Z"
   },
   {
    "duration": 15,
    "start_time": "2023-03-21T09:22:30.185Z"
   },
   {
    "duration": 54,
    "start_time": "2023-03-21T09:22:30.203Z"
   },
   {
    "duration": 93,
    "start_time": "2023-03-21T09:22:30.259Z"
   },
   {
    "duration": 70,
    "start_time": "2023-03-21T09:22:30.354Z"
   },
   {
    "duration": 38,
    "start_time": "2023-03-21T09:22:30.426Z"
   },
   {
    "duration": 34,
    "start_time": "2023-03-21T09:22:30.467Z"
   },
   {
    "duration": 38,
    "start_time": "2023-03-21T09:22:30.504Z"
   },
   {
    "duration": 57,
    "start_time": "2023-03-21T09:22:30.545Z"
   },
   {
    "duration": 83,
    "start_time": "2023-03-21T09:22:30.604Z"
   },
   {
    "duration": 65,
    "start_time": "2023-03-21T09:22:30.690Z"
   },
   {
    "duration": 62,
    "start_time": "2023-03-21T09:22:30.757Z"
   },
   {
    "duration": 73,
    "start_time": "2023-03-21T09:22:30.822Z"
   },
   {
    "duration": 65,
    "start_time": "2023-03-21T09:22:30.898Z"
   },
   {
    "duration": 113,
    "start_time": "2023-03-21T09:22:30.965Z"
   },
   {
    "duration": 38,
    "start_time": "2023-03-21T09:22:31.080Z"
   },
   {
    "duration": 70,
    "start_time": "2023-03-21T09:22:31.120Z"
   },
   {
    "duration": 51,
    "start_time": "2023-03-21T09:22:31.192Z"
   },
   {
    "duration": 542,
    "start_time": "2023-03-21T09:22:31.245Z"
   },
   {
    "duration": 439,
    "start_time": "2023-03-21T09:22:31.790Z"
   },
   {
    "duration": 13,
    "start_time": "2023-03-21T09:22:32.231Z"
   },
   {
    "duration": 35,
    "start_time": "2023-03-21T09:22:32.247Z"
   },
   {
    "duration": 383,
    "start_time": "2023-03-21T09:22:32.284Z"
   },
   {
    "duration": 429,
    "start_time": "2023-03-21T09:22:32.670Z"
   },
   {
    "duration": 10,
    "start_time": "2023-03-21T09:22:33.104Z"
   },
   {
    "duration": 443,
    "start_time": "2023-03-21T09:22:33.116Z"
   },
   {
    "duration": 366,
    "start_time": "2023-03-21T09:22:33.561Z"
   },
   {
    "duration": 17,
    "start_time": "2023-03-21T09:22:33.929Z"
   },
   {
    "duration": 29,
    "start_time": "2023-03-21T09:22:33.948Z"
   },
   {
    "duration": 957,
    "start_time": "2023-03-21T09:22:33.979Z"
   },
   {
    "duration": 15,
    "start_time": "2023-03-21T09:22:34.940Z"
   },
   {
    "duration": 1103,
    "start_time": "2023-03-21T09:22:34.958Z"
   },
   {
    "duration": 16,
    "start_time": "2023-03-21T09:22:36.064Z"
   },
   {
    "duration": 1235,
    "start_time": "2023-03-21T09:22:36.082Z"
   },
   {
    "duration": 339,
    "start_time": "2023-03-21T09:22:37.319Z"
   },
   {
    "duration": 363,
    "start_time": "2023-03-21T09:22:37.661Z"
   },
   {
    "duration": 17,
    "start_time": "2023-03-21T09:22:38.027Z"
   },
   {
    "duration": 776,
    "start_time": "2023-03-21T09:22:38.046Z"
   },
   {
    "duration": 620,
    "start_time": "2023-03-21T09:22:38.824Z"
   },
   {
    "duration": 598,
    "start_time": "2023-03-21T09:22:39.446Z"
   },
   {
    "duration": 1561,
    "start_time": "2023-03-21T09:30:57.431Z"
   },
   {
    "duration": 68,
    "start_time": "2023-03-21T09:30:58.994Z"
   },
   {
    "duration": 30,
    "start_time": "2023-03-21T09:30:59.065Z"
   },
   {
    "duration": 45,
    "start_time": "2023-03-21T09:30:59.097Z"
   },
   {
    "duration": 52,
    "start_time": "2023-03-21T09:30:59.145Z"
   },
   {
    "duration": 1118,
    "start_time": "2023-03-21T09:30:59.199Z"
   },
   {
    "duration": 27,
    "start_time": "2023-03-21T09:31:00.320Z"
   },
   {
    "duration": 68,
    "start_time": "2023-03-21T09:31:00.349Z"
   },
   {
    "duration": 98,
    "start_time": "2023-03-21T09:31:00.420Z"
   },
   {
    "duration": 95,
    "start_time": "2023-03-21T09:31:00.522Z"
   },
   {
    "duration": 85,
    "start_time": "2023-03-21T09:31:00.620Z"
   },
   {
    "duration": 106,
    "start_time": "2023-03-21T09:31:00.707Z"
   },
   {
    "duration": 113,
    "start_time": "2023-03-21T09:31:00.815Z"
   },
   {
    "duration": 89,
    "start_time": "2023-03-21T09:31:00.930Z"
   },
   {
    "duration": 149,
    "start_time": "2023-03-21T09:31:01.021Z"
   },
   {
    "duration": 112,
    "start_time": "2023-03-21T09:31:01.172Z"
   },
   {
    "duration": 234,
    "start_time": "2023-03-21T09:31:01.287Z"
   },
   {
    "duration": 152,
    "start_time": "2023-03-21T09:31:01.524Z"
   },
   {
    "duration": 198,
    "start_time": "2023-03-21T09:31:01.677Z"
   },
   {
    "duration": 283,
    "start_time": "2023-03-21T09:31:01.882Z"
   },
   {
    "duration": 91,
    "start_time": "2023-03-21T09:31:02.168Z"
   },
   {
    "duration": 77,
    "start_time": "2023-03-21T09:31:02.265Z"
   },
   {
    "duration": 102,
    "start_time": "2023-03-21T09:31:02.346Z"
   },
   {
    "duration": 214,
    "start_time": "2023-03-21T09:31:02.450Z"
   },
   {
    "duration": 85,
    "start_time": "2023-03-21T09:31:02.667Z"
   },
   {
    "duration": 48,
    "start_time": "2023-03-21T09:31:02.754Z"
   },
   {
    "duration": 58,
    "start_time": "2023-03-21T09:31:02.805Z"
   },
   {
    "duration": 39,
    "start_time": "2023-03-21T09:31:02.870Z"
   },
   {
    "duration": 42,
    "start_time": "2023-03-21T09:31:02.914Z"
   },
   {
    "duration": 49,
    "start_time": "2023-03-21T09:31:02.959Z"
   },
   {
    "duration": 64,
    "start_time": "2023-03-21T09:31:03.010Z"
   },
   {
    "duration": 53,
    "start_time": "2023-03-21T09:31:03.077Z"
   },
   {
    "duration": 55,
    "start_time": "2023-03-21T09:31:03.132Z"
   },
   {
    "duration": 59,
    "start_time": "2023-03-21T09:31:03.189Z"
   },
   {
    "duration": 610,
    "start_time": "2023-03-21T09:31:03.250Z"
   },
   {
    "duration": 613,
    "start_time": "2023-03-21T09:31:03.862Z"
   },
   {
    "duration": 16,
    "start_time": "2023-03-21T09:31:04.480Z"
   },
   {
    "duration": 67,
    "start_time": "2023-03-21T09:31:04.499Z"
   },
   {
    "duration": 469,
    "start_time": "2023-03-21T09:31:04.568Z"
   },
   {
    "duration": 488,
    "start_time": "2023-03-21T09:31:05.039Z"
   },
   {
    "duration": 22,
    "start_time": "2023-03-21T09:31:05.529Z"
   },
   {
    "duration": 679,
    "start_time": "2023-03-21T09:31:05.559Z"
   },
   {
    "duration": 505,
    "start_time": "2023-03-21T09:31:06.242Z"
   },
   {
    "duration": 15,
    "start_time": "2023-03-21T09:31:06.750Z"
   },
   {
    "duration": 19,
    "start_time": "2023-03-21T09:31:06.768Z"
   },
   {
    "duration": 1284,
    "start_time": "2023-03-21T09:31:06.791Z"
   },
   {
    "duration": 21,
    "start_time": "2023-03-21T09:31:08.077Z"
   },
   {
    "duration": 1451,
    "start_time": "2023-03-21T09:31:08.103Z"
   },
   {
    "duration": 22,
    "start_time": "2023-03-21T09:31:09.560Z"
   },
   {
    "duration": 1077,
    "start_time": "2023-03-21T09:31:09.585Z"
   },
   {
    "duration": 249,
    "start_time": "2023-03-21T09:31:10.665Z"
   },
   {
    "duration": 281,
    "start_time": "2023-03-21T09:31:10.917Z"
   },
   {
    "duration": 8,
    "start_time": "2023-03-21T09:31:11.201Z"
   },
   {
    "duration": 791,
    "start_time": "2023-03-21T09:31:11.212Z"
   },
   {
    "duration": 591,
    "start_time": "2023-03-21T09:31:12.006Z"
   },
   {
    "duration": 643,
    "start_time": "2023-03-21T09:31:12.599Z"
   },
   {
    "duration": 619,
    "start_time": "2023-03-21T09:47:28.261Z"
   },
   {
    "duration": 76,
    "start_time": "2023-03-21T19:27:40.483Z"
   },
   {
    "duration": 1548,
    "start_time": "2023-03-21T19:27:57.999Z"
   },
   {
    "duration": 217,
    "start_time": "2023-03-21T19:27:59.552Z"
   },
   {
    "duration": 28,
    "start_time": "2023-03-21T19:27:59.771Z"
   },
   {
    "duration": 22,
    "start_time": "2023-03-21T19:27:59.801Z"
   },
   {
    "duration": 39,
    "start_time": "2023-03-21T19:27:59.826Z"
   },
   {
    "duration": 947,
    "start_time": "2023-03-21T19:27:59.889Z"
   },
   {
    "duration": 13,
    "start_time": "2023-03-21T19:28:00.838Z"
   },
   {
    "duration": 30,
    "start_time": "2023-03-21T19:28:00.854Z"
   },
   {
    "duration": 33,
    "start_time": "2023-03-21T19:28:00.887Z"
   },
   {
    "duration": 39,
    "start_time": "2023-03-21T19:28:00.923Z"
   },
   {
    "duration": 36,
    "start_time": "2023-03-21T19:28:00.964Z"
   },
   {
    "duration": 32,
    "start_time": "2023-03-21T19:28:01.002Z"
   },
   {
    "duration": 40,
    "start_time": "2023-03-21T19:28:01.036Z"
   },
   {
    "duration": 54,
    "start_time": "2023-03-21T19:28:01.078Z"
   },
   {
    "duration": 30,
    "start_time": "2023-03-21T19:28:01.134Z"
   },
   {
    "duration": 31,
    "start_time": "2023-03-21T19:28:01.166Z"
   },
   {
    "duration": 27,
    "start_time": "2023-03-21T19:28:01.199Z"
   },
   {
    "duration": 29,
    "start_time": "2023-03-21T19:28:01.229Z"
   },
   {
    "duration": 36,
    "start_time": "2023-03-21T19:28:01.260Z"
   },
   {
    "duration": 60,
    "start_time": "2023-03-21T19:28:01.298Z"
   },
   {
    "duration": 19,
    "start_time": "2023-03-21T19:28:01.359Z"
   },
   {
    "duration": 29,
    "start_time": "2023-03-21T19:28:01.381Z"
   },
   {
    "duration": 19,
    "start_time": "2023-03-21T19:28:01.412Z"
   },
   {
    "duration": 20,
    "start_time": "2023-03-21T19:28:01.433Z"
   },
   {
    "duration": 18,
    "start_time": "2023-03-21T19:28:01.455Z"
   },
   {
    "duration": 30,
    "start_time": "2023-03-21T19:28:01.474Z"
   },
   {
    "duration": 30,
    "start_time": "2023-03-21T19:28:01.506Z"
   },
   {
    "duration": 28,
    "start_time": "2023-03-21T19:28:01.540Z"
   },
   {
    "duration": 35,
    "start_time": "2023-03-21T19:28:01.570Z"
   },
   {
    "duration": 21,
    "start_time": "2023-03-21T19:28:01.608Z"
   },
   {
    "duration": 33,
    "start_time": "2023-03-21T19:28:01.631Z"
   },
   {
    "duration": 11,
    "start_time": "2023-03-21T19:28:01.666Z"
   },
   {
    "duration": 20,
    "start_time": "2023-03-21T19:28:01.678Z"
   },
   {
    "duration": 7,
    "start_time": "2023-03-21T19:28:01.700Z"
   },
   {
    "duration": 434,
    "start_time": "2023-03-21T19:28:01.709Z"
   },
   {
    "duration": 421,
    "start_time": "2023-03-21T19:28:02.145Z"
   },
   {
    "duration": 9,
    "start_time": "2023-03-21T19:28:02.569Z"
   },
   {
    "duration": 20,
    "start_time": "2023-03-21T19:28:02.589Z"
   },
   {
    "duration": 348,
    "start_time": "2023-03-21T19:28:02.613Z"
   },
   {
    "duration": 339,
    "start_time": "2023-03-21T19:28:02.963Z"
   },
   {
    "duration": 10,
    "start_time": "2023-03-21T19:28:03.304Z"
   },
   {
    "duration": 419,
    "start_time": "2023-03-21T19:28:03.315Z"
   },
   {
    "duration": 388,
    "start_time": "2023-03-21T19:28:03.736Z"
   },
   {
    "duration": 9,
    "start_time": "2023-03-21T19:28:04.127Z"
   },
   {
    "duration": 16,
    "start_time": "2023-03-21T19:28:04.138Z"
   },
   {
    "duration": 847,
    "start_time": "2023-03-21T19:28:04.156Z"
   },
   {
    "duration": 14,
    "start_time": "2023-03-21T19:28:05.005Z"
   },
   {
    "duration": 1118,
    "start_time": "2023-03-21T19:28:05.024Z"
   },
   {
    "duration": 13,
    "start_time": "2023-03-21T19:28:06.144Z"
   },
   {
    "duration": 820,
    "start_time": "2023-03-21T19:28:06.159Z"
   },
   {
    "duration": 249,
    "start_time": "2023-03-21T19:28:06.981Z"
   },
   {
    "duration": 272,
    "start_time": "2023-03-21T19:28:07.233Z"
   },
   {
    "duration": 14,
    "start_time": "2023-03-21T19:28:07.508Z"
   },
   {
    "duration": 820,
    "start_time": "2023-03-21T19:28:07.524Z"
   },
   {
    "duration": 610,
    "start_time": "2023-03-21T19:28:08.345Z"
   },
   {
    "duration": 659,
    "start_time": "2023-03-21T19:28:08.957Z"
   },
   {
    "duration": 14,
    "start_time": "2023-03-21T19:28:09.619Z"
   },
   {
    "duration": 10,
    "start_time": "2023-03-21T19:30:23.041Z"
   },
   {
    "duration": 570,
    "start_time": "2023-03-21T19:30:23.666Z"
   },
   {
    "duration": 568,
    "start_time": "2023-03-21T19:30:24.239Z"
   },
   {
    "duration": 862,
    "start_time": "2023-03-21T19:30:27.540Z"
   },
   {
    "duration": 23,
    "start_time": "2023-03-21T19:30:28.407Z"
   },
   {
    "duration": 9,
    "start_time": "2023-03-21T19:30:52.715Z"
   },
   {
    "duration": 548,
    "start_time": "2023-03-21T19:30:53.214Z"
   },
   {
    "duration": 558,
    "start_time": "2023-03-21T19:30:53.764Z"
   },
   {
    "duration": 560,
    "start_time": "2023-03-21T19:30:54.324Z"
   },
   {
    "duration": 19,
    "start_time": "2023-03-21T19:30:54.885Z"
   },
   {
    "duration": 136,
    "start_time": "2023-03-21T19:32:33.415Z"
   },
   {
    "duration": 452,
    "start_time": "2023-03-21T19:33:03.480Z"
   },
   {
    "duration": 14,
    "start_time": "2023-03-21T19:33:19.223Z"
   },
   {
    "duration": 17,
    "start_time": "2023-03-21T19:33:27.665Z"
   },
   {
    "duration": 35,
    "start_time": "2023-03-21T19:33:39.482Z"
   },
   {
    "duration": 466,
    "start_time": "2023-03-21T19:36:13.708Z"
   },
   {
    "duration": 375,
    "start_time": "2023-03-21T19:36:27.185Z"
   },
   {
    "duration": 9,
    "start_time": "2023-03-21T19:43:33.201Z"
   },
   {
    "duration": 6,
    "start_time": "2023-03-21T19:43:49.843Z"
   },
   {
    "duration": 7,
    "start_time": "2023-03-21T19:44:01.557Z"
   },
   {
    "duration": 12,
    "start_time": "2023-03-21T19:44:53.695Z"
   },
   {
    "duration": 1256,
    "start_time": "2023-03-21T19:45:42.161Z"
   },
   {
    "duration": 51,
    "start_time": "2023-03-21T19:45:43.419Z"
   },
   {
    "duration": 21,
    "start_time": "2023-03-21T19:45:43.471Z"
   },
   {
    "duration": 21,
    "start_time": "2023-03-21T19:45:43.498Z"
   },
   {
    "duration": 39,
    "start_time": "2023-03-21T19:45:43.520Z"
   },
   {
    "duration": 910,
    "start_time": "2023-03-21T19:45:43.561Z"
   },
   {
    "duration": 22,
    "start_time": "2023-03-21T19:45:44.474Z"
   },
   {
    "duration": 15,
    "start_time": "2023-03-21T19:45:44.498Z"
   },
   {
    "duration": 10,
    "start_time": "2023-03-21T19:45:44.515Z"
   },
   {
    "duration": 15,
    "start_time": "2023-03-21T19:45:44.528Z"
   },
   {
    "duration": 14,
    "start_time": "2023-03-21T19:45:44.545Z"
   },
   {
    "duration": 22,
    "start_time": "2023-03-21T19:45:44.561Z"
   },
   {
    "duration": 10,
    "start_time": "2023-03-21T19:45:44.589Z"
   },
   {
    "duration": 15,
    "start_time": "2023-03-21T19:45:44.601Z"
   },
   {
    "duration": 13,
    "start_time": "2023-03-21T19:45:44.618Z"
   },
   {
    "duration": 4,
    "start_time": "2023-03-21T19:45:44.642Z"
   },
   {
    "duration": 22,
    "start_time": "2023-03-21T19:45:44.648Z"
   },
   {
    "duration": 10,
    "start_time": "2023-03-21T19:45:44.672Z"
   },
   {
    "duration": 14,
    "start_time": "2023-03-21T19:45:44.684Z"
   },
   {
    "duration": 24,
    "start_time": "2023-03-21T19:45:44.700Z"
   },
   {
    "duration": 10,
    "start_time": "2023-03-21T19:45:44.726Z"
   },
   {
    "duration": 25,
    "start_time": "2023-03-21T19:45:44.738Z"
   },
   {
    "duration": 7,
    "start_time": "2023-03-21T19:45:44.765Z"
   },
   {
    "duration": 12,
    "start_time": "2023-03-21T19:45:44.774Z"
   },
   {
    "duration": 10,
    "start_time": "2023-03-21T19:45:44.788Z"
   },
   {
    "duration": 7,
    "start_time": "2023-03-21T19:45:44.800Z"
   },
   {
    "duration": 8,
    "start_time": "2023-03-21T19:45:44.809Z"
   },
   {
    "duration": 6,
    "start_time": "2023-03-21T19:45:44.821Z"
   },
   {
    "duration": 6,
    "start_time": "2023-03-21T19:45:44.829Z"
   },
   {
    "duration": 7,
    "start_time": "2023-03-21T19:45:44.836Z"
   },
   {
    "duration": 20,
    "start_time": "2023-03-21T19:45:44.845Z"
   },
   {
    "duration": 7,
    "start_time": "2023-03-21T19:45:44.896Z"
   },
   {
    "duration": 19,
    "start_time": "2023-03-21T19:45:44.907Z"
   },
   {
    "duration": 4,
    "start_time": "2023-03-21T19:45:44.928Z"
   },
   {
    "duration": 412,
    "start_time": "2023-03-21T19:45:44.934Z"
   },
   {
    "duration": 367,
    "start_time": "2023-03-21T19:45:45.348Z"
   },
   {
    "duration": 8,
    "start_time": "2023-03-21T19:45:45.717Z"
   },
   {
    "duration": 15,
    "start_time": "2023-03-21T19:45:45.726Z"
   },
   {
    "duration": 313,
    "start_time": "2023-03-21T19:45:45.742Z"
   },
   {
    "duration": 347,
    "start_time": "2023-03-21T19:45:46.058Z"
   },
   {
    "duration": 8,
    "start_time": "2023-03-21T19:45:46.410Z"
   },
   {
    "duration": 432,
    "start_time": "2023-03-21T19:45:46.420Z"
   },
   {
    "duration": 328,
    "start_time": "2023-03-21T19:45:46.854Z"
   },
   {
    "duration": 9,
    "start_time": "2023-03-21T19:45:47.183Z"
   },
   {
    "duration": 30,
    "start_time": "2023-03-21T19:45:47.194Z"
   },
   {
    "duration": 923,
    "start_time": "2023-03-21T19:45:47.226Z"
   },
   {
    "duration": 13,
    "start_time": "2023-03-21T19:45:48.151Z"
   },
   {
    "duration": 985,
    "start_time": "2023-03-21T19:45:48.165Z"
   },
   {
    "duration": 12,
    "start_time": "2023-03-21T19:45:49.152Z"
   },
   {
    "duration": 793,
    "start_time": "2023-03-21T19:45:49.166Z"
   },
   {
    "duration": 239,
    "start_time": "2023-03-21T19:45:49.961Z"
   },
   {
    "duration": 257,
    "start_time": "2023-03-21T19:45:50.202Z"
   },
   {
    "duration": 7,
    "start_time": "2023-03-21T19:45:50.461Z"
   },
   {
    "duration": 778,
    "start_time": "2023-03-21T19:45:50.470Z"
   },
   {
    "duration": 556,
    "start_time": "2023-03-21T19:45:51.250Z"
   },
   {
    "duration": 539,
    "start_time": "2023-03-21T19:45:51.807Z"
   },
   {
    "duration": 13,
    "start_time": "2023-03-21T19:45:52.349Z"
   },
   {
    "duration": 415,
    "start_time": "2023-03-21T19:45:52.364Z"
   },
   {
    "duration": 19,
    "start_time": "2023-03-21T19:45:52.781Z"
   },
   {
    "duration": 8,
    "start_time": "2023-03-21T19:45:52.803Z"
   },
   {
    "duration": 7,
    "start_time": "2023-03-21T19:46:14.221Z"
   },
   {
    "duration": 5,
    "start_time": "2023-03-21T19:48:41.254Z"
   },
   {
    "duration": 7,
    "start_time": "2023-03-21T19:48:46.885Z"
   },
   {
    "duration": 5,
    "start_time": "2023-03-21T19:49:48.933Z"
   },
   {
    "duration": 4,
    "start_time": "2023-03-21T19:49:50.844Z"
   },
   {
    "duration": 6,
    "start_time": "2023-03-21T19:50:03.709Z"
   },
   {
    "duration": 10,
    "start_time": "2023-03-21T19:50:06.286Z"
   },
   {
    "duration": 10,
    "start_time": "2023-03-21T19:53:56.396Z"
   },
   {
    "duration": 9,
    "start_time": "2023-03-21T19:54:35.442Z"
   },
   {
    "duration": 5,
    "start_time": "2023-03-21T20:07:03.899Z"
   },
   {
    "duration": 7,
    "start_time": "2023-03-21T20:07:21.300Z"
   },
   {
    "duration": 5,
    "start_time": "2023-03-21T20:08:10.367Z"
   },
   {
    "duration": 5,
    "start_time": "2023-03-21T20:08:44.491Z"
   },
   {
    "duration": 5,
    "start_time": "2023-03-21T20:09:38.919Z"
   },
   {
    "duration": 6,
    "start_time": "2023-03-21T20:09:57.307Z"
   },
   {
    "duration": 6,
    "start_time": "2023-03-21T20:10:27.250Z"
   },
   {
    "duration": 5,
    "start_time": "2023-03-21T20:12:06.257Z"
   },
   {
    "duration": 1207,
    "start_time": "2023-03-22T13:39:05.639Z"
   },
   {
    "duration": 195,
    "start_time": "2023-03-22T13:39:06.848Z"
   },
   {
    "duration": 18,
    "start_time": "2023-03-22T13:39:07.046Z"
   },
   {
    "duration": 16,
    "start_time": "2023-03-22T13:39:07.066Z"
   },
   {
    "duration": 50,
    "start_time": "2023-03-22T13:39:07.083Z"
   },
   {
    "duration": 877,
    "start_time": "2023-03-22T13:39:07.134Z"
   },
   {
    "duration": 8,
    "start_time": "2023-03-22T13:39:08.013Z"
   },
   {
    "duration": 10,
    "start_time": "2023-03-22T13:39:08.023Z"
   },
   {
    "duration": 7,
    "start_time": "2023-03-22T13:39:08.035Z"
   },
   {
    "duration": 28,
    "start_time": "2023-03-22T13:39:08.045Z"
   },
   {
    "duration": 5,
    "start_time": "2023-03-22T13:39:08.075Z"
   },
   {
    "duration": 8,
    "start_time": "2023-03-22T13:39:08.082Z"
   },
   {
    "duration": 23,
    "start_time": "2023-03-22T13:39:08.092Z"
   },
   {
    "duration": 13,
    "start_time": "2023-03-22T13:39:08.117Z"
   },
   {
    "duration": 6,
    "start_time": "2023-03-22T13:39:08.132Z"
   },
   {
    "duration": 6,
    "start_time": "2023-03-22T13:39:08.139Z"
   },
   {
    "duration": 7,
    "start_time": "2023-03-22T13:39:08.147Z"
   },
   {
    "duration": 14,
    "start_time": "2023-03-22T13:39:08.156Z"
   },
   {
    "duration": 5,
    "start_time": "2023-03-22T13:39:08.171Z"
   },
   {
    "duration": 4,
    "start_time": "2023-03-22T13:39:08.178Z"
   },
   {
    "duration": 6,
    "start_time": "2023-03-22T13:39:08.184Z"
   },
   {
    "duration": 6,
    "start_time": "2023-03-22T13:39:08.192Z"
   },
   {
    "duration": 4,
    "start_time": "2023-03-22T13:39:08.200Z"
   },
   {
    "duration": 6,
    "start_time": "2023-03-22T13:39:08.206Z"
   },
   {
    "duration": 14,
    "start_time": "2023-03-22T13:39:08.213Z"
   },
   {
    "duration": 5,
    "start_time": "2023-03-22T13:39:08.229Z"
   },
   {
    "duration": 35,
    "start_time": "2023-03-22T13:39:08.235Z"
   },
   {
    "duration": 5,
    "start_time": "2023-03-22T13:39:08.275Z"
   },
   {
    "duration": 6,
    "start_time": "2023-03-22T13:39:08.282Z"
   },
   {
    "duration": 5,
    "start_time": "2023-03-22T13:39:08.290Z"
   },
   {
    "duration": 7,
    "start_time": "2023-03-22T13:39:08.297Z"
   },
   {
    "duration": 7,
    "start_time": "2023-03-22T13:39:08.305Z"
   },
   {
    "duration": 24,
    "start_time": "2023-03-22T13:39:08.313Z"
   },
   {
    "duration": 30,
    "start_time": "2023-03-22T13:39:08.339Z"
   },
   {
    "duration": 366,
    "start_time": "2023-03-22T13:39:08.371Z"
   },
   {
    "duration": 354,
    "start_time": "2023-03-22T13:39:08.739Z"
   },
   {
    "duration": 7,
    "start_time": "2023-03-22T13:39:09.095Z"
   },
   {
    "duration": 7,
    "start_time": "2023-03-22T13:39:09.103Z"
   },
   {
    "duration": 256,
    "start_time": "2023-03-22T13:39:09.112Z"
   },
   {
    "duration": 280,
    "start_time": "2023-03-22T13:39:09.371Z"
   },
   {
    "duration": 7,
    "start_time": "2023-03-22T13:39:09.652Z"
   },
   {
    "duration": 332,
    "start_time": "2023-03-22T13:39:09.660Z"
   },
   {
    "duration": 255,
    "start_time": "2023-03-22T13:39:09.994Z"
   },
   {
    "duration": 6,
    "start_time": "2023-03-22T13:39:10.251Z"
   },
   {
    "duration": 7,
    "start_time": "2023-03-22T13:39:10.268Z"
   },
   {
    "duration": 638,
    "start_time": "2023-03-22T13:39:10.277Z"
   },
   {
    "duration": 10,
    "start_time": "2023-03-22T13:39:10.917Z"
   },
   {
    "duration": 700,
    "start_time": "2023-03-22T13:39:10.929Z"
   },
   {
    "duration": 11,
    "start_time": "2023-03-22T13:39:11.631Z"
   },
   {
    "duration": 594,
    "start_time": "2023-03-22T13:39:11.643Z"
   },
   {
    "duration": 173,
    "start_time": "2023-03-22T13:39:12.239Z"
   },
   {
    "duration": 244,
    "start_time": "2023-03-22T13:39:12.414Z"
   },
   {
    "duration": 10,
    "start_time": "2023-03-22T13:39:12.659Z"
   },
   {
    "duration": 504,
    "start_time": "2023-03-22T13:39:12.670Z"
   },
   {
    "duration": 461,
    "start_time": "2023-03-22T13:39:13.176Z"
   },
   {
    "duration": 508,
    "start_time": "2023-03-22T13:39:13.639Z"
   },
   {
    "duration": 21,
    "start_time": "2023-03-22T13:39:14.148Z"
   },
   {
    "duration": 369,
    "start_time": "2023-03-22T13:39:14.171Z"
   },
   {
    "duration": 7,
    "start_time": "2023-03-22T13:39:14.542Z"
   },
   {
    "duration": 17,
    "start_time": "2023-03-22T13:39:14.551Z"
   },
   {
    "duration": 12,
    "start_time": "2023-03-22T13:39:14.570Z"
   },
   {
    "duration": 8,
    "start_time": "2023-03-22T13:39:14.583Z"
   },
   {
    "duration": 13,
    "start_time": "2023-03-22T13:39:14.592Z"
   },
   {
    "duration": 11,
    "start_time": "2023-03-22T13:39:14.606Z"
   },
   {
    "duration": 6,
    "start_time": "2023-03-22T13:39:14.618Z"
   },
   {
    "duration": 9,
    "start_time": "2023-03-22T13:50:30.987Z"
   },
   {
    "duration": 8,
    "start_time": "2023-03-22T13:51:05.535Z"
   },
   {
    "duration": 22,
    "start_time": "2023-03-22T13:51:17.802Z"
   },
   {
    "duration": 1429,
    "start_time": "2023-03-22T13:57:25.765Z"
   },
   {
    "duration": 102,
    "start_time": "2023-03-22T13:57:27.195Z"
   },
   {
    "duration": 24,
    "start_time": "2023-03-22T13:57:27.299Z"
   },
   {
    "duration": 21,
    "start_time": "2023-03-22T13:57:27.324Z"
   },
   {
    "duration": 42,
    "start_time": "2023-03-22T13:57:27.355Z"
   },
   {
    "duration": 1015,
    "start_time": "2023-03-22T13:57:27.399Z"
   },
   {
    "duration": 16,
    "start_time": "2023-03-22T13:57:28.422Z"
   },
   {
    "duration": 7,
    "start_time": "2023-03-22T13:57:28.439Z"
   },
   {
    "duration": 6,
    "start_time": "2023-03-22T13:57:28.447Z"
   },
   {
    "duration": 11,
    "start_time": "2023-03-22T13:57:28.457Z"
   },
   {
    "duration": 5,
    "start_time": "2023-03-22T13:57:28.470Z"
   },
   {
    "duration": 5,
    "start_time": "2023-03-22T13:57:28.477Z"
   },
   {
    "duration": 6,
    "start_time": "2023-03-22T13:57:28.484Z"
   },
   {
    "duration": 7,
    "start_time": "2023-03-22T13:57:28.492Z"
   },
   {
    "duration": 4,
    "start_time": "2023-03-22T13:57:28.501Z"
   },
   {
    "duration": 3,
    "start_time": "2023-03-22T13:57:28.507Z"
   },
   {
    "duration": 5,
    "start_time": "2023-03-22T13:57:28.512Z"
   },
   {
    "duration": 11,
    "start_time": "2023-03-22T13:57:28.518Z"
   },
   {
    "duration": 8,
    "start_time": "2023-03-22T13:57:28.532Z"
   },
   {
    "duration": 5,
    "start_time": "2023-03-22T13:57:28.568Z"
   },
   {
    "duration": 5,
    "start_time": "2023-03-22T13:57:28.575Z"
   },
   {
    "duration": 5,
    "start_time": "2023-03-22T13:57:28.581Z"
   },
   {
    "duration": 2,
    "start_time": "2023-03-22T13:57:28.587Z"
   },
   {
    "duration": 6,
    "start_time": "2023-03-22T13:57:28.591Z"
   },
   {
    "duration": 6,
    "start_time": "2023-03-22T13:57:28.599Z"
   },
   {
    "duration": 4,
    "start_time": "2023-03-22T13:57:28.606Z"
   },
   {
    "duration": 4,
    "start_time": "2023-03-22T13:57:28.612Z"
   },
   {
    "duration": 6,
    "start_time": "2023-03-22T13:57:28.622Z"
   },
   {
    "duration": 5,
    "start_time": "2023-03-22T13:57:28.630Z"
   },
   {
    "duration": 5,
    "start_time": "2023-03-22T13:57:28.638Z"
   },
   {
    "duration": 25,
    "start_time": "2023-03-22T13:57:28.644Z"
   },
   {
    "duration": 9,
    "start_time": "2023-03-22T13:57:28.671Z"
   },
   {
    "duration": 37,
    "start_time": "2023-03-22T13:57:28.682Z"
   },
   {
    "duration": 12,
    "start_time": "2023-03-22T13:57:28.721Z"
   },
   {
    "duration": 548,
    "start_time": "2023-03-22T13:57:28.735Z"
   },
   {
    "duration": 424,
    "start_time": "2023-03-22T13:57:29.286Z"
   },
   {
    "duration": 8,
    "start_time": "2023-03-22T13:57:29.712Z"
   },
   {
    "duration": 9,
    "start_time": "2023-03-22T13:57:29.722Z"
   },
   {
    "duration": 302,
    "start_time": "2023-03-22T13:57:29.732Z"
   },
   {
    "duration": 331,
    "start_time": "2023-03-22T13:57:30.036Z"
   },
   {
    "duration": 8,
    "start_time": "2023-03-22T13:57:30.369Z"
   },
   {
    "duration": 456,
    "start_time": "2023-03-22T13:57:30.379Z"
   },
   {
    "duration": 304,
    "start_time": "2023-03-22T13:57:30.838Z"
   },
   {
    "duration": 6,
    "start_time": "2023-03-22T13:57:31.144Z"
   },
   {
    "duration": 27,
    "start_time": "2023-03-22T13:57:31.152Z"
   },
   {
    "duration": 817,
    "start_time": "2023-03-22T13:57:31.180Z"
   },
   {
    "duration": 14,
    "start_time": "2023-03-22T13:57:31.999Z"
   },
   {
    "duration": 1009,
    "start_time": "2023-03-22T13:57:32.015Z"
   },
   {
    "duration": 15,
    "start_time": "2023-03-22T13:57:33.026Z"
   },
   {
    "duration": 778,
    "start_time": "2023-03-22T13:57:33.043Z"
   },
   {
    "duration": 205,
    "start_time": "2023-03-22T13:57:33.826Z"
   },
   {
    "duration": 228,
    "start_time": "2023-03-22T13:57:34.033Z"
   },
   {
    "duration": 7,
    "start_time": "2023-03-22T13:57:34.273Z"
   },
   {
    "duration": 674,
    "start_time": "2023-03-22T13:57:34.281Z"
   },
   {
    "duration": 552,
    "start_time": "2023-03-22T13:57:34.956Z"
   },
   {
    "duration": 527,
    "start_time": "2023-03-22T13:57:35.510Z"
   },
   {
    "duration": 12,
    "start_time": "2023-03-22T13:57:36.039Z"
   },
   {
    "duration": 395,
    "start_time": "2023-03-22T13:57:36.053Z"
   },
   {
    "duration": 32,
    "start_time": "2023-03-22T13:57:36.450Z"
   },
   {
    "duration": 7,
    "start_time": "2023-03-22T13:57:36.484Z"
   },
   {
    "duration": 22,
    "start_time": "2023-03-22T13:57:36.493Z"
   },
   {
    "duration": 5,
    "start_time": "2023-03-22T13:57:36.518Z"
   },
   {
    "duration": 9,
    "start_time": "2023-03-22T13:57:36.525Z"
   },
   {
    "duration": 10,
    "start_time": "2023-03-22T13:57:36.536Z"
   },
   {
    "duration": 8,
    "start_time": "2023-03-22T13:57:36.548Z"
   },
   {
    "duration": 52,
    "start_time": "2023-03-22T17:49:35.342Z"
   },
   {
    "duration": 1416,
    "start_time": "2023-03-22T17:49:45.940Z"
   },
   {
    "duration": 122,
    "start_time": "2023-03-22T17:49:47.358Z"
   },
   {
    "duration": 23,
    "start_time": "2023-03-22T17:49:47.481Z"
   },
   {
    "duration": 17,
    "start_time": "2023-03-22T17:49:47.506Z"
   },
   {
    "duration": 41,
    "start_time": "2023-03-22T17:49:47.526Z"
   },
   {
    "duration": 954,
    "start_time": "2023-03-22T17:49:47.569Z"
   },
   {
    "duration": 14,
    "start_time": "2023-03-22T17:49:48.525Z"
   },
   {
    "duration": 9,
    "start_time": "2023-03-22T17:49:48.541Z"
   },
   {
    "duration": 7,
    "start_time": "2023-03-22T17:49:48.552Z"
   },
   {
    "duration": 38,
    "start_time": "2023-03-22T17:49:48.562Z"
   },
   {
    "duration": 6,
    "start_time": "2023-03-22T17:49:48.602Z"
   },
   {
    "duration": 10,
    "start_time": "2023-03-22T17:49:48.610Z"
   },
   {
    "duration": 15,
    "start_time": "2023-03-22T17:49:48.622Z"
   },
   {
    "duration": 14,
    "start_time": "2023-03-22T17:49:48.641Z"
   },
   {
    "duration": 9,
    "start_time": "2023-03-22T17:49:48.657Z"
   },
   {
    "duration": 31,
    "start_time": "2023-03-22T17:49:48.668Z"
   },
   {
    "duration": 6,
    "start_time": "2023-03-22T17:49:48.701Z"
   },
   {
    "duration": 8,
    "start_time": "2023-03-22T17:49:48.709Z"
   },
   {
    "duration": 8,
    "start_time": "2023-03-22T17:49:48.719Z"
   },
   {
    "duration": 8,
    "start_time": "2023-03-22T17:49:48.729Z"
   },
   {
    "duration": 8,
    "start_time": "2023-03-22T17:49:48.739Z"
   },
   {
    "duration": 8,
    "start_time": "2023-03-22T17:49:48.749Z"
   },
   {
    "duration": 39,
    "start_time": "2023-03-22T17:49:48.759Z"
   },
   {
    "duration": 5,
    "start_time": "2023-03-22T17:49:48.800Z"
   },
   {
    "duration": 11,
    "start_time": "2023-03-22T17:49:48.807Z"
   },
   {
    "duration": 9,
    "start_time": "2023-03-22T17:49:48.820Z"
   },
   {
    "duration": 9,
    "start_time": "2023-03-22T17:49:48.831Z"
   },
   {
    "duration": 8,
    "start_time": "2023-03-22T17:49:48.842Z"
   },
   {
    "duration": 8,
    "start_time": "2023-03-22T17:49:48.851Z"
   },
   {
    "duration": 6,
    "start_time": "2023-03-22T17:49:48.897Z"
   },
   {
    "duration": 14,
    "start_time": "2023-03-22T17:49:48.905Z"
   },
   {
    "duration": 8,
    "start_time": "2023-03-22T17:49:48.921Z"
   },
   {
    "duration": 20,
    "start_time": "2023-03-22T17:49:48.931Z"
   },
   {
    "duration": 6,
    "start_time": "2023-03-22T17:49:48.953Z"
   },
   {
    "duration": 419,
    "start_time": "2023-03-22T17:49:48.961Z"
   },
   {
    "duration": 396,
    "start_time": "2023-03-22T17:49:49.383Z"
   },
   {
    "duration": 7,
    "start_time": "2023-03-22T17:49:49.781Z"
   },
   {
    "duration": 7,
    "start_time": "2023-03-22T17:49:49.798Z"
   },
   {
    "duration": 318,
    "start_time": "2023-03-22T17:49:49.807Z"
   },
   {
    "duration": 358,
    "start_time": "2023-03-22T17:49:50.127Z"
   },
   {
    "duration": 10,
    "start_time": "2023-03-22T17:49:50.491Z"
   },
   {
    "duration": 441,
    "start_time": "2023-03-22T17:49:50.504Z"
   },
   {
    "duration": 320,
    "start_time": "2023-03-22T17:49:50.946Z"
   },
   {
    "duration": 7,
    "start_time": "2023-03-22T17:49:51.268Z"
   },
   {
    "duration": 43,
    "start_time": "2023-03-22T17:49:51.276Z"
   },
   {
    "duration": 783,
    "start_time": "2023-03-22T17:49:51.321Z"
   },
   {
    "duration": 13,
    "start_time": "2023-03-22T17:49:52.106Z"
   },
   {
    "duration": 892,
    "start_time": "2023-03-22T17:49:52.120Z"
   },
   {
    "duration": 12,
    "start_time": "2023-03-22T17:49:53.014Z"
   },
   {
    "duration": 753,
    "start_time": "2023-03-22T17:49:53.028Z"
   },
   {
    "duration": 217,
    "start_time": "2023-03-22T17:49:53.783Z"
   },
   {
    "duration": 231,
    "start_time": "2023-03-22T17:49:54.002Z"
   },
   {
    "duration": 6,
    "start_time": "2023-03-22T17:49:54.235Z"
   },
   {
    "duration": 631,
    "start_time": "2023-03-22T17:49:54.243Z"
   },
   {
    "duration": 554,
    "start_time": "2023-03-22T17:49:54.876Z"
   },
   {
    "duration": 540,
    "start_time": "2023-03-22T17:49:55.432Z"
   },
   {
    "duration": 25,
    "start_time": "2023-03-22T17:49:55.974Z"
   },
   {
    "duration": 401,
    "start_time": "2023-03-22T17:49:56.001Z"
   },
   {
    "duration": 9,
    "start_time": "2023-03-22T17:49:56.403Z"
   },
   {
    "duration": 25,
    "start_time": "2023-03-22T17:49:56.414Z"
   },
   {
    "duration": 17,
    "start_time": "2023-03-22T17:49:56.441Z"
   },
   {
    "duration": 15,
    "start_time": "2023-03-22T17:49:56.461Z"
   },
   {
    "duration": 16,
    "start_time": "2023-03-22T17:49:56.479Z"
   },
   {
    "duration": 5,
    "start_time": "2023-03-22T17:49:56.498Z"
   },
   {
    "duration": 7,
    "start_time": "2023-03-22T17:49:56.505Z"
   },
   {
    "duration": 1282,
    "start_time": "2023-03-22T17:57:49.452Z"
   },
   {
    "duration": 59,
    "start_time": "2023-03-22T17:57:50.736Z"
   },
   {
    "duration": 23,
    "start_time": "2023-03-22T17:57:50.796Z"
   },
   {
    "duration": 21,
    "start_time": "2023-03-22T17:57:50.822Z"
   },
   {
    "duration": 56,
    "start_time": "2023-03-22T17:57:50.845Z"
   },
   {
    "duration": 969,
    "start_time": "2023-03-22T17:57:50.903Z"
   },
   {
    "duration": 10,
    "start_time": "2023-03-22T17:57:51.874Z"
   },
   {
    "duration": 8,
    "start_time": "2023-03-22T17:57:51.898Z"
   },
   {
    "duration": 8,
    "start_time": "2023-03-22T17:57:51.909Z"
   },
   {
    "duration": 12,
    "start_time": "2023-03-22T17:57:51.919Z"
   },
   {
    "duration": 6,
    "start_time": "2023-03-22T17:57:51.933Z"
   },
   {
    "duration": 8,
    "start_time": "2023-03-22T17:57:51.941Z"
   },
   {
    "duration": 8,
    "start_time": "2023-03-22T17:57:51.951Z"
   },
   {
    "duration": 43,
    "start_time": "2023-03-22T17:57:51.962Z"
   },
   {
    "duration": 9,
    "start_time": "2023-03-22T17:57:52.007Z"
   },
   {
    "duration": 15,
    "start_time": "2023-03-22T17:57:52.017Z"
   },
   {
    "duration": 18,
    "start_time": "2023-03-22T17:57:52.034Z"
   },
   {
    "duration": 12,
    "start_time": "2023-03-22T17:57:52.054Z"
   },
   {
    "duration": 13,
    "start_time": "2023-03-22T17:57:52.067Z"
   },
   {
    "duration": 12,
    "start_time": "2023-03-22T17:57:52.081Z"
   },
   {
    "duration": 18,
    "start_time": "2023-03-22T17:57:52.095Z"
   },
   {
    "duration": 14,
    "start_time": "2023-03-22T17:57:52.115Z"
   },
   {
    "duration": 17,
    "start_time": "2023-03-22T17:57:52.130Z"
   },
   {
    "duration": 8,
    "start_time": "2023-03-22T17:57:52.149Z"
   },
   {
    "duration": 17,
    "start_time": "2023-03-22T17:57:52.158Z"
   },
   {
    "duration": 9,
    "start_time": "2023-03-22T17:57:52.177Z"
   },
   {
    "duration": 15,
    "start_time": "2023-03-22T17:57:52.188Z"
   },
   {
    "duration": 19,
    "start_time": "2023-03-22T17:57:52.205Z"
   },
   {
    "duration": 19,
    "start_time": "2023-03-22T17:57:52.226Z"
   },
   {
    "duration": 9,
    "start_time": "2023-03-22T17:57:52.247Z"
   },
   {
    "duration": 13,
    "start_time": "2023-03-22T17:57:52.257Z"
   },
   {
    "duration": 14,
    "start_time": "2023-03-22T17:57:52.272Z"
   },
   {
    "duration": 25,
    "start_time": "2023-03-22T17:57:52.288Z"
   },
   {
    "duration": 5,
    "start_time": "2023-03-22T17:57:52.316Z"
   },
   {
    "duration": 406,
    "start_time": "2023-03-22T17:57:52.323Z"
   },
   {
    "duration": 397,
    "start_time": "2023-03-22T17:57:52.731Z"
   },
   {
    "duration": 7,
    "start_time": "2023-03-22T17:57:53.129Z"
   },
   {
    "duration": 15,
    "start_time": "2023-03-22T17:57:53.138Z"
   },
   {
    "duration": 318,
    "start_time": "2023-03-22T17:57:53.155Z"
   },
   {
    "duration": 318,
    "start_time": "2023-03-22T17:57:53.475Z"
   },
   {
    "duration": 8,
    "start_time": "2023-03-22T17:57:53.797Z"
   },
   {
    "duration": 404,
    "start_time": "2023-03-22T17:57:53.806Z"
   },
   {
    "duration": 307,
    "start_time": "2023-03-22T17:57:54.211Z"
   },
   {
    "duration": 6,
    "start_time": "2023-03-22T17:57:54.520Z"
   },
   {
    "duration": 13,
    "start_time": "2023-03-22T17:57:54.528Z"
   },
   {
    "duration": 721,
    "start_time": "2023-03-22T17:57:54.542Z"
   },
   {
    "duration": 16,
    "start_time": "2023-03-22T17:57:55.265Z"
   },
   {
    "duration": 790,
    "start_time": "2023-03-22T17:57:55.283Z"
   },
   {
    "duration": 12,
    "start_time": "2023-03-22T17:57:56.075Z"
   },
   {
    "duration": 675,
    "start_time": "2023-03-22T17:57:56.097Z"
   },
   {
    "duration": 217,
    "start_time": "2023-03-22T17:57:56.774Z"
   },
   {
    "duration": 270,
    "start_time": "2023-03-22T17:57:56.998Z"
   },
   {
    "duration": 10,
    "start_time": "2023-03-22T17:57:57.271Z"
   },
   {
    "duration": 651,
    "start_time": "2023-03-22T17:57:57.284Z"
   },
   {
    "duration": 514,
    "start_time": "2023-03-22T17:57:57.936Z"
   },
   {
    "duration": 535,
    "start_time": "2023-03-22T17:57:58.451Z"
   },
   {
    "duration": 13,
    "start_time": "2023-03-22T17:57:58.997Z"
   },
   {
    "duration": 350,
    "start_time": "2023-03-22T17:57:59.012Z"
   },
   {
    "duration": 8,
    "start_time": "2023-03-22T17:57:59.363Z"
   },
   {
    "duration": 81,
    "start_time": "2023-03-22T17:57:59.373Z"
   },
   {
    "duration": 10,
    "start_time": "2023-03-22T17:57:59.456Z"
   },
   {
    "duration": 11,
    "start_time": "2023-03-22T17:57:59.468Z"
   },
   {
    "duration": 17,
    "start_time": "2023-03-22T17:57:59.481Z"
   },
   {
    "duration": 18,
    "start_time": "2023-03-22T17:57:59.500Z"
   },
   {
    "duration": 12,
    "start_time": "2023-03-22T17:57:59.519Z"
   },
   {
    "duration": 389,
    "start_time": "2023-03-22T17:58:43.858Z"
   },
   {
    "duration": 431,
    "start_time": "2023-03-22T17:58:53.579Z"
   },
   {
    "duration": 423,
    "start_time": "2023-03-22T17:59:04.767Z"
   },
   {
    "duration": 35,
    "start_time": "2023-03-22T18:01:10.383Z"
   },
   {
    "duration": 7,
    "start_time": "2023-03-22T18:01:21.234Z"
   },
   {
    "duration": 491,
    "start_time": "2023-03-22T18:08:56.515Z"
   },
   {
    "duration": 398,
    "start_time": "2023-03-22T18:09:06.781Z"
   },
   {
    "duration": 384,
    "start_time": "2023-03-22T18:09:12.764Z"
   },
   {
    "duration": 417,
    "start_time": "2023-03-22T18:09:24.775Z"
   },
   {
    "duration": 1244,
    "start_time": "2023-03-22T18:09:33.943Z"
   },
   {
    "duration": 66,
    "start_time": "2023-03-22T18:09:35.189Z"
   },
   {
    "duration": 28,
    "start_time": "2023-03-22T18:09:35.257Z"
   },
   {
    "duration": 21,
    "start_time": "2023-03-22T18:09:35.286Z"
   },
   {
    "duration": 43,
    "start_time": "2023-03-22T18:09:35.311Z"
   },
   {
    "duration": 929,
    "start_time": "2023-03-22T18:09:35.356Z"
   },
   {
    "duration": 22,
    "start_time": "2023-03-22T18:09:36.287Z"
   },
   {
    "duration": 28,
    "start_time": "2023-03-22T18:09:36.311Z"
   },
   {
    "duration": 21,
    "start_time": "2023-03-22T18:09:36.341Z"
   },
   {
    "duration": 33,
    "start_time": "2023-03-22T18:09:36.364Z"
   },
   {
    "duration": 23,
    "start_time": "2023-03-22T18:09:36.399Z"
   },
   {
    "duration": 20,
    "start_time": "2023-03-22T18:09:36.423Z"
   },
   {
    "duration": 16,
    "start_time": "2023-03-22T18:09:36.445Z"
   },
   {
    "duration": 8,
    "start_time": "2023-03-22T18:09:36.464Z"
   },
   {
    "duration": 6,
    "start_time": "2023-03-22T18:09:36.474Z"
   },
   {
    "duration": 5,
    "start_time": "2023-03-22T18:09:36.482Z"
   },
   {
    "duration": 7,
    "start_time": "2023-03-22T18:09:36.489Z"
   },
   {
    "duration": 26,
    "start_time": "2023-03-22T18:09:36.499Z"
   },
   {
    "duration": 7,
    "start_time": "2023-03-22T18:09:36.527Z"
   },
   {
    "duration": 4,
    "start_time": "2023-03-22T18:09:36.537Z"
   },
   {
    "duration": 7,
    "start_time": "2023-03-22T18:09:36.543Z"
   },
   {
    "duration": 7,
    "start_time": "2023-03-22T18:09:36.553Z"
   },
   {
    "duration": 4,
    "start_time": "2023-03-22T18:09:36.562Z"
   },
   {
    "duration": 13,
    "start_time": "2023-03-22T18:09:36.568Z"
   },
   {
    "duration": 25,
    "start_time": "2023-03-22T18:09:36.583Z"
   },
   {
    "duration": 8,
    "start_time": "2023-03-22T18:09:36.612Z"
   },
   {
    "duration": 6,
    "start_time": "2023-03-22T18:09:36.622Z"
   },
   {
    "duration": 8,
    "start_time": "2023-03-22T18:09:36.630Z"
   },
   {
    "duration": 7,
    "start_time": "2023-03-22T18:09:36.639Z"
   },
   {
    "duration": 9,
    "start_time": "2023-03-22T18:09:36.647Z"
   },
   {
    "duration": 10,
    "start_time": "2023-03-22T18:09:36.657Z"
   },
   {
    "duration": 31,
    "start_time": "2023-03-22T18:09:36.668Z"
   },
   {
    "duration": 29,
    "start_time": "2023-03-22T18:09:36.701Z"
   },
   {
    "duration": 5,
    "start_time": "2023-03-22T18:09:36.732Z"
   },
   {
    "duration": 407,
    "start_time": "2023-03-22T18:09:36.739Z"
   },
   {
    "duration": 398,
    "start_time": "2023-03-22T18:09:37.148Z"
   },
   {
    "duration": 8,
    "start_time": "2023-03-22T18:09:37.549Z"
   },
   {
    "duration": 24,
    "start_time": "2023-03-22T18:09:37.559Z"
   },
   {
    "duration": 317,
    "start_time": "2023-03-22T18:09:37.585Z"
   },
   {
    "duration": 340,
    "start_time": "2023-03-22T18:09:37.905Z"
   },
   {
    "duration": 6,
    "start_time": "2023-03-22T18:09:38.250Z"
   },
   {
    "duration": 409,
    "start_time": "2023-03-22T18:09:38.258Z"
   },
   {
    "duration": 319,
    "start_time": "2023-03-22T18:09:38.669Z"
   },
   {
    "duration": 10,
    "start_time": "2023-03-22T18:09:38.991Z"
   },
   {
    "duration": 24,
    "start_time": "2023-03-22T18:09:39.003Z"
   },
   {
    "duration": 739,
    "start_time": "2023-03-22T18:09:39.029Z"
   },
   {
    "duration": 13,
    "start_time": "2023-03-22T18:09:39.770Z"
   },
   {
    "duration": 904,
    "start_time": "2023-03-22T18:09:39.784Z"
   },
   {
    "duration": 22,
    "start_time": "2023-03-22T18:09:40.690Z"
   },
   {
    "duration": 728,
    "start_time": "2023-03-22T18:09:40.714Z"
   },
   {
    "duration": 227,
    "start_time": "2023-03-22T18:09:41.444Z"
   },
   {
    "duration": 244,
    "start_time": "2023-03-22T18:09:41.673Z"
   },
   {
    "duration": 7,
    "start_time": "2023-03-22T18:09:41.919Z"
   },
   {
    "duration": 699,
    "start_time": "2023-03-22T18:09:41.927Z"
   },
   {
    "duration": 536,
    "start_time": "2023-03-22T18:09:42.628Z"
   },
   {
    "duration": 541,
    "start_time": "2023-03-22T18:09:43.166Z"
   },
   {
    "duration": 16,
    "start_time": "2023-03-22T18:09:43.709Z"
   },
   {
    "duration": 338,
    "start_time": "2023-03-22T18:09:43.727Z"
   },
   {
    "duration": 9,
    "start_time": "2023-03-22T18:09:44.066Z"
   },
   {
    "duration": 22,
    "start_time": "2023-03-22T18:09:44.076Z"
   },
   {
    "duration": 8,
    "start_time": "2023-03-22T18:09:44.100Z"
   },
   {
    "duration": 12,
    "start_time": "2023-03-22T18:09:44.110Z"
   },
   {
    "duration": 10,
    "start_time": "2023-03-22T18:09:44.125Z"
   },
   {
    "duration": 10,
    "start_time": "2023-03-22T18:09:44.137Z"
   },
   {
    "duration": 8,
    "start_time": "2023-03-22T18:09:44.149Z"
   },
   {
    "duration": 375,
    "start_time": "2023-03-22T18:10:26.793Z"
   },
   {
    "duration": 428,
    "start_time": "2023-03-22T18:10:37.635Z"
   },
   {
    "duration": 412,
    "start_time": "2023-03-22T18:10:43.659Z"
   },
   {
    "duration": 521,
    "start_time": "2023-03-22T18:10:49.038Z"
   },
   {
    "duration": 7,
    "start_time": "2023-03-22T18:14:25.834Z"
   },
   {
    "duration": 9,
    "start_time": "2023-03-22T18:14:26.726Z"
   },
   {
    "duration": 797,
    "start_time": "2023-03-22T18:15:00.894Z"
   },
   {
    "duration": 416,
    "start_time": "2023-03-22T18:15:18.377Z"
   },
   {
    "duration": 346,
    "start_time": "2023-03-22T18:15:41.742Z"
   },
   {
    "duration": 444,
    "start_time": "2023-03-22T18:15:58.278Z"
   },
   {
    "duration": 129,
    "start_time": "2023-03-22T18:17:48.122Z"
   },
   {
    "duration": 11,
    "start_time": "2023-03-22T18:17:52.146Z"
   },
   {
    "duration": 10,
    "start_time": "2023-03-22T18:17:52.591Z"
   },
   {
    "duration": 11,
    "start_time": "2023-03-22T18:18:22.531Z"
   },
   {
    "duration": 9,
    "start_time": "2023-03-22T18:18:22.989Z"
   },
   {
    "duration": 6,
    "start_time": "2023-03-22T18:18:43.038Z"
   },
   {
    "duration": 11,
    "start_time": "2023-03-22T18:18:59.252Z"
   },
   {
    "duration": 9,
    "start_time": "2023-03-22T18:19:01.976Z"
   },
   {
    "duration": 779,
    "start_time": "2023-03-22T18:21:23.943Z"
   },
   {
    "duration": 438,
    "start_time": "2023-03-22T18:21:30.693Z"
   },
   {
    "duration": 316,
    "start_time": "2023-03-22T18:22:22.235Z"
   },
   {
    "duration": 79,
    "start_time": "2023-03-22T18:24:13.619Z"
   },
   {
    "duration": 420,
    "start_time": "2023-03-22T18:24:21.766Z"
   },
   {
    "duration": 420,
    "start_time": "2023-03-22T18:24:42.366Z"
   },
   {
    "duration": 589,
    "start_time": "2023-03-22T18:24:50.830Z"
   },
   {
    "duration": 483,
    "start_time": "2023-03-22T18:25:02.975Z"
   },
   {
    "duration": 10,
    "start_time": "2023-03-22T18:27:23.371Z"
   },
   {
    "duration": 9,
    "start_time": "2023-03-22T18:27:41.878Z"
   },
   {
    "duration": 10,
    "start_time": "2023-03-22T18:28:42.845Z"
   },
   {
    "duration": 192,
    "start_time": "2023-03-22T18:29:00.557Z"
   },
   {
    "duration": 176,
    "start_time": "2023-03-22T18:29:46.696Z"
   },
   {
    "duration": 155,
    "start_time": "2023-03-22T18:30:09.422Z"
   },
   {
    "duration": 152,
    "start_time": "2023-03-22T18:30:37.741Z"
   },
   {
    "duration": 165,
    "start_time": "2023-03-22T18:38:14.150Z"
   },
   {
    "duration": 14,
    "start_time": "2023-03-22T18:38:42.678Z"
   },
   {
    "duration": 11,
    "start_time": "2023-03-22T18:40:06.647Z"
   },
   {
    "duration": 157,
    "start_time": "2023-03-22T18:40:47.039Z"
   },
   {
    "duration": 164,
    "start_time": "2023-03-22T18:40:55.251Z"
   },
   {
    "duration": 158,
    "start_time": "2023-03-22T18:42:25.401Z"
   },
   {
    "duration": 181,
    "start_time": "2023-03-22T18:42:55.284Z"
   },
   {
    "duration": 289,
    "start_time": "2023-03-22T18:43:25.452Z"
   },
   {
    "duration": 148,
    "start_time": "2023-03-22T18:44:42.148Z"
   },
   {
    "duration": 177,
    "start_time": "2023-03-22T18:47:06.781Z"
   },
   {
    "duration": 162,
    "start_time": "2023-03-22T18:47:35.148Z"
   },
   {
    "duration": 186,
    "start_time": "2023-03-22T18:50:47.196Z"
   },
   {
    "duration": 162,
    "start_time": "2023-03-22T18:52:36.311Z"
   },
   {
    "duration": 11,
    "start_time": "2023-03-22T18:55:29.282Z"
   },
   {
    "duration": 11,
    "start_time": "2023-03-22T18:55:32.348Z"
   },
   {
    "duration": 187,
    "start_time": "2023-03-22T18:55:33.379Z"
   },
   {
    "duration": 175,
    "start_time": "2023-03-22T18:56:32.103Z"
   },
   {
    "duration": 16,
    "start_time": "2023-03-22T18:57:36.796Z"
   },
   {
    "duration": 163,
    "start_time": "2023-03-22T18:58:14.346Z"
   },
   {
    "duration": 194,
    "start_time": "2023-03-22T18:58:47.066Z"
   },
   {
    "duration": 20,
    "start_time": "2023-03-22T19:23:52.081Z"
   },
   {
    "duration": 27,
    "start_time": "2023-03-22T19:24:41.078Z"
   },
   {
    "duration": 1251,
    "start_time": "2023-03-22T19:24:53.746Z"
   },
   {
    "duration": 68,
    "start_time": "2023-03-22T19:24:55.001Z"
   },
   {
    "duration": 22,
    "start_time": "2023-03-22T19:24:55.071Z"
   },
   {
    "duration": 33,
    "start_time": "2023-03-22T19:24:55.094Z"
   },
   {
    "duration": 32,
    "start_time": "2023-03-22T19:24:55.129Z"
   },
   {
    "duration": 947,
    "start_time": "2023-03-22T19:24:55.163Z"
   },
   {
    "duration": 14,
    "start_time": "2023-03-22T19:24:56.113Z"
   },
   {
    "duration": 33,
    "start_time": "2023-03-22T19:24:56.129Z"
   },
   {
    "duration": 22,
    "start_time": "2023-03-22T19:24:56.164Z"
   },
   {
    "duration": 19,
    "start_time": "2023-03-22T19:24:56.188Z"
   },
   {
    "duration": 26,
    "start_time": "2023-03-22T19:24:56.209Z"
   },
   {
    "duration": 24,
    "start_time": "2023-03-22T19:24:56.237Z"
   },
   {
    "duration": 19,
    "start_time": "2023-03-22T19:24:56.263Z"
   },
   {
    "duration": 11,
    "start_time": "2023-03-22T19:24:56.285Z"
   },
   {
    "duration": 16,
    "start_time": "2023-03-22T19:24:56.299Z"
   },
   {
    "duration": 10,
    "start_time": "2023-03-22T19:24:56.318Z"
   },
   {
    "duration": 11,
    "start_time": "2023-03-22T19:24:56.330Z"
   },
   {
    "duration": 12,
    "start_time": "2023-03-22T19:24:56.343Z"
   },
   {
    "duration": 14,
    "start_time": "2023-03-22T19:24:56.357Z"
   },
   {
    "duration": 10,
    "start_time": "2023-03-22T19:24:56.373Z"
   },
   {
    "duration": 21,
    "start_time": "2023-03-22T19:24:56.385Z"
   },
   {
    "duration": 11,
    "start_time": "2023-03-22T19:24:56.408Z"
   },
   {
    "duration": 9,
    "start_time": "2023-03-22T19:24:56.421Z"
   },
   {
    "duration": 28,
    "start_time": "2023-03-22T19:24:56.432Z"
   },
   {
    "duration": 16,
    "start_time": "2023-03-22T19:24:56.462Z"
   },
   {
    "duration": 9,
    "start_time": "2023-03-22T19:24:56.480Z"
   },
   {
    "duration": 10,
    "start_time": "2023-03-22T19:24:56.491Z"
   },
   {
    "duration": 21,
    "start_time": "2023-03-22T19:24:56.502Z"
   },
   {
    "duration": 57,
    "start_time": "2023-03-22T19:24:56.524Z"
   },
   {
    "duration": 8,
    "start_time": "2023-03-22T19:24:56.583Z"
   },
   {
    "duration": 11,
    "start_time": "2023-03-22T19:24:56.593Z"
   },
   {
    "duration": 11,
    "start_time": "2023-03-22T19:24:56.606Z"
   },
   {
    "duration": 17,
    "start_time": "2023-03-22T19:24:56.622Z"
   },
   {
    "duration": 5,
    "start_time": "2023-03-22T19:24:56.640Z"
   },
   {
    "duration": 444,
    "start_time": "2023-03-22T19:24:56.647Z"
   },
   {
    "duration": 427,
    "start_time": "2023-03-22T19:24:57.097Z"
   },
   {
    "duration": 8,
    "start_time": "2023-03-22T19:24:57.526Z"
   },
   {
    "duration": 21,
    "start_time": "2023-03-22T19:24:57.536Z"
   },
   {
    "duration": 358,
    "start_time": "2023-03-22T19:24:57.559Z"
   },
   {
    "duration": 378,
    "start_time": "2023-03-22T19:24:57.919Z"
   },
   {
    "duration": 12,
    "start_time": "2023-03-22T19:24:58.308Z"
   },
   {
    "duration": 487,
    "start_time": "2023-03-22T19:24:58.322Z"
   },
   {
    "duration": 330,
    "start_time": "2023-03-22T19:24:58.812Z"
   },
   {
    "duration": 11,
    "start_time": "2023-03-22T19:24:59.144Z"
   },
   {
    "duration": 194,
    "start_time": "2023-03-22T19:24:59.157Z"
   },
   {
    "duration": 184,
    "start_time": "2023-03-22T19:24:59.352Z"
   },
   {
    "duration": 10,
    "start_time": "2023-03-22T19:24:59.538Z"
   },
   {
    "duration": 213,
    "start_time": "2023-03-22T19:24:59.550Z"
   },
   {
    "duration": 204,
    "start_time": "2023-03-22T19:24:59.766Z"
   },
   {
    "duration": 11,
    "start_time": "2023-03-22T19:24:59.972Z"
   },
   {
    "duration": 214,
    "start_time": "2023-03-22T19:24:59.999Z"
   },
   {
    "duration": 305,
    "start_time": "2023-03-22T19:25:00.215Z"
   },
   {
    "duration": 272,
    "start_time": "2023-03-22T19:25:00.522Z"
   },
   {
    "duration": 143,
    "start_time": "2023-03-22T19:25:00.800Z"
   },
   {
    "duration": 0,
    "start_time": "2023-03-22T19:25:00.944Z"
   },
   {
    "duration": 0,
    "start_time": "2023-03-22T19:25:00.946Z"
   },
   {
    "duration": 0,
    "start_time": "2023-03-22T19:25:00.947Z"
   },
   {
    "duration": 0,
    "start_time": "2023-03-22T19:25:00.948Z"
   },
   {
    "duration": 0,
    "start_time": "2023-03-22T19:25:00.948Z"
   },
   {
    "duration": 0,
    "start_time": "2023-03-22T19:25:00.950Z"
   },
   {
    "duration": 0,
    "start_time": "2023-03-22T19:25:00.950Z"
   },
   {
    "duration": 0,
    "start_time": "2023-03-22T19:25:00.952Z"
   },
   {
    "duration": 0,
    "start_time": "2023-03-22T19:25:00.953Z"
   },
   {
    "duration": 0,
    "start_time": "2023-03-22T19:25:00.954Z"
   },
   {
    "duration": 0,
    "start_time": "2023-03-22T19:25:00.955Z"
   },
   {
    "duration": 0,
    "start_time": "2023-03-22T19:25:00.956Z"
   },
   {
    "duration": 0,
    "start_time": "2023-03-22T19:25:00.958Z"
   },
   {
    "duration": 30,
    "start_time": "2023-03-22T19:25:30.436Z"
   },
   {
    "duration": 277,
    "start_time": "2023-03-22T19:29:02.059Z"
   },
   {
    "duration": 304,
    "start_time": "2023-03-22T19:30:27.340Z"
   },
   {
    "duration": 277,
    "start_time": "2023-03-22T19:31:31.568Z"
   },
   {
    "duration": 35,
    "start_time": "2023-03-22T19:32:09.068Z"
   },
   {
    "duration": 270,
    "start_time": "2023-03-22T19:32:26.336Z"
   },
   {
    "duration": 25,
    "start_time": "2023-03-22T19:33:19.456Z"
   },
   {
    "duration": 276,
    "start_time": "2023-03-22T19:34:25.538Z"
   },
   {
    "duration": 21,
    "start_time": "2023-03-22T19:36:54.625Z"
   },
   {
    "duration": 26,
    "start_time": "2023-03-22T19:37:10.341Z"
   },
   {
    "duration": 18,
    "start_time": "2023-03-22T19:37:36.613Z"
   },
   {
    "duration": 298,
    "start_time": "2023-03-22T19:38:57.559Z"
   },
   {
    "duration": 38,
    "start_time": "2023-03-22T19:39:25.996Z"
   },
   {
    "duration": 295,
    "start_time": "2023-03-22T19:39:44.530Z"
   },
   {
    "duration": 314,
    "start_time": "2023-03-22T19:40:23.016Z"
   },
   {
    "duration": 289,
    "start_time": "2023-03-22T19:41:35.563Z"
   },
   {
    "duration": 1206,
    "start_time": "2023-03-22T19:43:23.944Z"
   },
   {
    "duration": 63,
    "start_time": "2023-03-22T19:43:25.153Z"
   },
   {
    "duration": 26,
    "start_time": "2023-03-22T19:43:25.219Z"
   },
   {
    "duration": 22,
    "start_time": "2023-03-22T19:43:25.248Z"
   },
   {
    "duration": 63,
    "start_time": "2023-03-22T19:43:25.273Z"
   },
   {
    "duration": 1029,
    "start_time": "2023-03-22T19:43:25.339Z"
   },
   {
    "duration": 10,
    "start_time": "2023-03-22T19:43:26.370Z"
   },
   {
    "duration": 29,
    "start_time": "2023-03-22T19:43:26.382Z"
   },
   {
    "duration": 8,
    "start_time": "2023-03-22T19:43:26.415Z"
   },
   {
    "duration": 10,
    "start_time": "2023-03-22T19:43:26.425Z"
   },
   {
    "duration": 6,
    "start_time": "2023-03-22T19:43:26.437Z"
   },
   {
    "duration": 8,
    "start_time": "2023-03-22T19:43:26.444Z"
   },
   {
    "duration": 7,
    "start_time": "2023-03-22T19:43:26.454Z"
   },
   {
    "duration": 34,
    "start_time": "2023-03-22T19:43:26.464Z"
   },
   {
    "duration": 8,
    "start_time": "2023-03-22T19:43:26.499Z"
   },
   {
    "duration": 18,
    "start_time": "2023-03-22T19:43:26.509Z"
   },
   {
    "duration": 20,
    "start_time": "2023-03-22T19:43:26.529Z"
   },
   {
    "duration": 11,
    "start_time": "2023-03-22T19:43:26.551Z"
   },
   {
    "duration": 10,
    "start_time": "2023-03-22T19:43:26.564Z"
   },
   {
    "duration": 8,
    "start_time": "2023-03-22T19:43:26.576Z"
   },
   {
    "duration": 11,
    "start_time": "2023-03-22T19:43:26.586Z"
   },
   {
    "duration": 23,
    "start_time": "2023-03-22T19:43:26.600Z"
   },
   {
    "duration": 7,
    "start_time": "2023-03-22T19:43:26.625Z"
   },
   {
    "duration": 7,
    "start_time": "2023-03-22T19:43:26.634Z"
   },
   {
    "duration": 12,
    "start_time": "2023-03-22T19:43:26.643Z"
   },
   {
    "duration": 13,
    "start_time": "2023-03-22T19:43:26.657Z"
   },
   {
    "duration": 10,
    "start_time": "2023-03-22T19:43:26.672Z"
   },
   {
    "duration": 15,
    "start_time": "2023-03-22T19:43:26.683Z"
   },
   {
    "duration": 19,
    "start_time": "2023-03-22T19:43:26.700Z"
   },
   {
    "duration": 8,
    "start_time": "2023-03-22T19:43:26.721Z"
   },
   {
    "duration": 7,
    "start_time": "2023-03-22T19:43:26.732Z"
   },
   {
    "duration": 5,
    "start_time": "2023-03-22T19:43:26.741Z"
   },
   {
    "duration": 19,
    "start_time": "2023-03-22T19:43:26.748Z"
   },
   {
    "duration": 6,
    "start_time": "2023-03-22T19:43:26.769Z"
   },
   {
    "duration": 447,
    "start_time": "2023-03-22T19:43:26.798Z"
   },
   {
    "duration": 417,
    "start_time": "2023-03-22T19:43:27.247Z"
   },
   {
    "duration": 8,
    "start_time": "2023-03-22T19:43:27.667Z"
   },
   {
    "duration": 28,
    "start_time": "2023-03-22T19:43:27.677Z"
   },
   {
    "duration": 340,
    "start_time": "2023-03-22T19:43:27.708Z"
   },
   {
    "duration": 367,
    "start_time": "2023-03-22T19:43:28.050Z"
   },
   {
    "duration": 8,
    "start_time": "2023-03-22T19:43:28.422Z"
   },
   {
    "duration": 453,
    "start_time": "2023-03-22T19:43:28.433Z"
   },
   {
    "duration": 341,
    "start_time": "2023-03-22T19:43:28.888Z"
   },
   {
    "duration": 11,
    "start_time": "2023-03-22T19:43:29.232Z"
   },
   {
    "duration": 212,
    "start_time": "2023-03-22T19:43:29.245Z"
   },
   {
    "duration": 192,
    "start_time": "2023-03-22T19:43:29.459Z"
   },
   {
    "duration": 11,
    "start_time": "2023-03-22T19:43:29.653Z"
   },
   {
    "duration": 203,
    "start_time": "2023-03-22T19:43:29.666Z"
   },
   {
    "duration": 204,
    "start_time": "2023-03-22T19:43:29.870Z"
   },
   {
    "duration": 10,
    "start_time": "2023-03-22T19:43:30.076Z"
   },
   {
    "duration": 190,
    "start_time": "2023-03-22T19:43:30.099Z"
   },
   {
    "duration": 323,
    "start_time": "2023-03-22T19:43:30.291Z"
   },
   {
    "duration": 255,
    "start_time": "2023-03-22T19:43:30.617Z"
   },
   {
    "duration": 309,
    "start_time": "2023-03-22T19:43:30.874Z"
   },
   {
    "duration": 12,
    "start_time": "2023-03-22T19:43:31.185Z"
   },
   {
    "duration": 563,
    "start_time": "2023-03-22T19:43:31.200Z"
   },
   {
    "duration": 568,
    "start_time": "2023-03-22T19:43:31.765Z"
   },
   {
    "duration": 631,
    "start_time": "2023-03-22T19:43:32.335Z"
   },
   {
    "duration": 13,
    "start_time": "2023-03-22T19:43:32.968Z"
   },
   {
    "duration": 377,
    "start_time": "2023-03-22T19:43:32.982Z"
   },
   {
    "duration": 9,
    "start_time": "2023-03-22T19:43:33.361Z"
   },
   {
    "duration": 8,
    "start_time": "2023-03-22T19:43:33.371Z"
   },
   {
    "duration": 22,
    "start_time": "2023-03-22T19:43:33.381Z"
   },
   {
    "duration": 20,
    "start_time": "2023-03-22T19:43:33.406Z"
   },
   {
    "duration": 13,
    "start_time": "2023-03-22T19:43:33.428Z"
   },
   {
    "duration": 10,
    "start_time": "2023-03-22T19:43:33.443Z"
   },
   {
    "duration": 17,
    "start_time": "2023-03-22T19:43:33.455Z"
   },
   {
    "duration": 83,
    "start_time": "2023-03-22T20:02:14.232Z"
   },
   {
    "duration": 336,
    "start_time": "2023-03-22T20:07:19.956Z"
   },
   {
    "duration": 328,
    "start_time": "2023-03-22T20:10:53.639Z"
   },
   {
    "duration": 315,
    "start_time": "2023-03-22T20:11:26.943Z"
   },
   {
    "duration": 307,
    "start_time": "2023-03-22T20:12:07.174Z"
   },
   {
    "duration": 513,
    "start_time": "2023-03-22T20:12:23.624Z"
   },
   {
    "duration": 326,
    "start_time": "2023-03-22T20:12:42.391Z"
   },
   {
    "duration": 383,
    "start_time": "2023-03-22T20:12:50.493Z"
   },
   {
    "duration": 61,
    "start_time": "2023-03-22T20:13:57.924Z"
   },
   {
    "duration": 1326,
    "start_time": "2023-03-22T20:16:52.539Z"
   },
   {
    "duration": 66,
    "start_time": "2023-03-22T20:16:53.866Z"
   },
   {
    "duration": 24,
    "start_time": "2023-03-22T20:16:53.934Z"
   },
   {
    "duration": 15,
    "start_time": "2023-03-22T20:16:53.961Z"
   },
   {
    "duration": 48,
    "start_time": "2023-03-22T20:16:53.997Z"
   },
   {
    "duration": 1007,
    "start_time": "2023-03-22T20:16:54.047Z"
   },
   {
    "duration": 11,
    "start_time": "2023-03-22T20:16:55.056Z"
   },
   {
    "duration": 13,
    "start_time": "2023-03-22T20:16:55.069Z"
   },
   {
    "duration": 58,
    "start_time": "2023-03-22T20:16:55.084Z"
   },
   {
    "duration": 13,
    "start_time": "2023-03-22T20:16:55.144Z"
   },
   {
    "duration": 15,
    "start_time": "2023-03-22T20:16:55.158Z"
   },
   {
    "duration": 8,
    "start_time": "2023-03-22T20:16:55.174Z"
   },
   {
    "duration": 10,
    "start_time": "2023-03-22T20:16:55.183Z"
   },
   {
    "duration": 32,
    "start_time": "2023-03-22T20:16:55.197Z"
   },
   {
    "duration": 6,
    "start_time": "2023-03-22T20:16:55.231Z"
   },
   {
    "duration": 5,
    "start_time": "2023-03-22T20:16:55.239Z"
   },
   {
    "duration": 18,
    "start_time": "2023-03-22T20:16:55.246Z"
   },
   {
    "duration": 17,
    "start_time": "2023-03-22T20:16:55.266Z"
   },
   {
    "duration": 35,
    "start_time": "2023-03-22T20:16:55.286Z"
   },
   {
    "duration": 27,
    "start_time": "2023-03-22T20:16:55.323Z"
   },
   {
    "duration": 11,
    "start_time": "2023-03-22T20:16:55.352Z"
   },
   {
    "duration": 20,
    "start_time": "2023-03-22T20:16:55.364Z"
   },
   {
    "duration": 33,
    "start_time": "2023-03-22T20:16:55.386Z"
   },
   {
    "duration": 31,
    "start_time": "2023-03-22T20:16:55.421Z"
   },
   {
    "duration": 35,
    "start_time": "2023-03-22T20:16:55.454Z"
   },
   {
    "duration": 31,
    "start_time": "2023-03-22T20:16:55.491Z"
   },
   {
    "duration": 16,
    "start_time": "2023-03-22T20:16:55.525Z"
   },
   {
    "duration": 9,
    "start_time": "2023-03-22T20:16:55.543Z"
   },
   {
    "duration": 48,
    "start_time": "2023-03-22T20:16:55.554Z"
   },
   {
    "duration": 34,
    "start_time": "2023-03-22T20:16:55.607Z"
   },
   {
    "duration": 19,
    "start_time": "2023-03-22T20:16:55.643Z"
   },
   {
    "duration": 18,
    "start_time": "2023-03-22T20:16:55.663Z"
   },
   {
    "duration": 21,
    "start_time": "2023-03-22T20:16:55.683Z"
   },
   {
    "duration": 28,
    "start_time": "2023-03-22T20:16:55.707Z"
   },
   {
    "duration": 450,
    "start_time": "2023-03-22T20:16:55.736Z"
   },
   {
    "duration": 447,
    "start_time": "2023-03-22T20:16:56.189Z"
   },
   {
    "duration": 8,
    "start_time": "2023-03-22T20:16:56.637Z"
   },
   {
    "duration": 18,
    "start_time": "2023-03-22T20:16:56.647Z"
   },
   {
    "duration": 389,
    "start_time": "2023-03-22T20:16:56.669Z"
   },
   {
    "duration": 453,
    "start_time": "2023-03-22T20:16:57.061Z"
   },
   {
    "duration": 7,
    "start_time": "2023-03-22T20:16:57.519Z"
   },
   {
    "duration": 642,
    "start_time": "2023-03-22T20:16:57.527Z"
   },
   {
    "duration": 372,
    "start_time": "2023-03-22T20:16:58.171Z"
   },
   {
    "duration": 359,
    "start_time": "2023-03-22T20:16:58.544Z"
   },
   {
    "duration": 20,
    "start_time": "2023-03-22T20:16:58.905Z"
   },
   {
    "duration": 204,
    "start_time": "2023-03-22T20:16:58.927Z"
   },
   {
    "duration": 200,
    "start_time": "2023-03-22T20:16:59.133Z"
   },
   {
    "duration": 11,
    "start_time": "2023-03-22T20:16:59.335Z"
   },
   {
    "duration": 197,
    "start_time": "2023-03-22T20:16:59.348Z"
   },
   {
    "duration": 307,
    "start_time": "2023-03-22T20:16:59.548Z"
   },
   {
    "duration": 10,
    "start_time": "2023-03-22T20:16:59.857Z"
   },
   {
    "duration": 233,
    "start_time": "2023-03-22T20:16:59.869Z"
   },
   {
    "duration": 188,
    "start_time": "2023-03-22T20:17:00.104Z"
   },
   {
    "duration": 292,
    "start_time": "2023-03-22T20:17:00.293Z"
   },
   {
    "duration": 391,
    "start_time": "2023-03-22T20:17:00.587Z"
   },
   {
    "duration": 10,
    "start_time": "2023-03-22T20:17:00.980Z"
   },
   {
    "duration": 742,
    "start_time": "2023-03-22T20:17:00.998Z"
   },
   {
    "duration": 622,
    "start_time": "2023-03-22T20:17:01.743Z"
   },
   {
    "duration": 623,
    "start_time": "2023-03-22T20:17:02.368Z"
   },
   {
    "duration": 20,
    "start_time": "2023-03-22T20:17:03.007Z"
   },
   {
    "duration": 341,
    "start_time": "2023-03-22T20:17:03.029Z"
   },
   {
    "duration": 9,
    "start_time": "2023-03-22T20:17:03.372Z"
   },
   {
    "duration": 15,
    "start_time": "2023-03-22T20:17:03.383Z"
   },
   {
    "duration": 31,
    "start_time": "2023-03-22T20:17:03.400Z"
   },
   {
    "duration": 13,
    "start_time": "2023-03-22T20:17:03.433Z"
   },
   {
    "duration": 8,
    "start_time": "2023-03-22T20:17:03.448Z"
   },
   {
    "duration": 9,
    "start_time": "2023-03-22T20:17:03.457Z"
   },
   {
    "duration": 3,
    "start_time": "2023-03-22T20:20:01.254Z"
   },
   {
    "duration": 57,
    "start_time": "2023-03-22T20:20:01.426Z"
   },
   {
    "duration": 25,
    "start_time": "2023-03-22T20:20:01.818Z"
   },
   {
    "duration": 18,
    "start_time": "2023-03-22T20:20:01.976Z"
   },
   {
    "duration": 33,
    "start_time": "2023-03-22T20:20:02.144Z"
   },
   {
    "duration": 1001,
    "start_time": "2023-03-22T20:20:02.346Z"
   },
   {
    "duration": 12,
    "start_time": "2023-03-22T20:20:03.349Z"
   },
   {
    "duration": 9,
    "start_time": "2023-03-22T20:20:03.438Z"
   },
   {
    "duration": 9,
    "start_time": "2023-03-22T20:20:04.012Z"
   },
   {
    "duration": 18,
    "start_time": "2023-03-22T20:20:04.413Z"
   },
   {
    "duration": 7,
    "start_time": "2023-03-22T20:20:04.582Z"
   },
   {
    "duration": 8,
    "start_time": "2023-03-22T20:20:04.981Z"
   },
   {
    "duration": 6,
    "start_time": "2023-03-22T20:20:05.161Z"
   },
   {
    "duration": 7,
    "start_time": "2023-03-22T20:20:05.782Z"
   },
   {
    "duration": 12,
    "start_time": "2023-03-22T20:20:05.973Z"
   },
   {
    "duration": 5,
    "start_time": "2023-03-22T20:20:06.351Z"
   },
   {
    "duration": 15,
    "start_time": "2023-03-22T20:20:07.024Z"
   },
   {
    "duration": 7,
    "start_time": "2023-03-22T20:20:07.428Z"
   },
   {
    "duration": 12,
    "start_time": "2023-03-22T20:20:07.630Z"
   },
   {
    "duration": 6,
    "start_time": "2023-03-22T20:20:08.037Z"
   },
   {
    "duration": 6,
    "start_time": "2023-03-22T20:20:08.477Z"
   },
   {
    "duration": 11,
    "start_time": "2023-03-22T20:20:08.713Z"
   },
   {
    "duration": 5,
    "start_time": "2023-03-22T20:20:08.927Z"
   },
   {
    "duration": 8,
    "start_time": "2023-03-22T20:20:09.370Z"
   },
   {
    "duration": 8,
    "start_time": "2023-03-22T20:20:09.957Z"
   },
   {
    "duration": 6,
    "start_time": "2023-03-22T20:20:10.565Z"
   },
   {
    "duration": 5,
    "start_time": "2023-03-22T20:20:11.477Z"
   },
   {
    "duration": 6,
    "start_time": "2023-03-22T20:20:11.885Z"
   },
   {
    "duration": 11,
    "start_time": "2023-03-22T20:20:12.294Z"
   },
   {
    "duration": 9,
    "start_time": "2023-03-22T20:20:13.125Z"
   },
   {
    "duration": 10,
    "start_time": "2023-03-22T20:20:13.326Z"
   },
   {
    "duration": 5,
    "start_time": "2023-03-22T20:20:13.735Z"
   },
   {
    "duration": 23,
    "start_time": "2023-03-22T20:20:14.114Z"
   },
   {
    "duration": 6,
    "start_time": "2023-03-22T20:20:14.693Z"
   },
   {
    "duration": 555,
    "start_time": "2023-03-22T20:20:16.313Z"
   },
   {
    "duration": 762,
    "start_time": "2023-03-22T20:20:17.538Z"
   },
   {
    "duration": 13,
    "start_time": "2023-03-22T20:20:18.303Z"
   },
   {
    "duration": 67,
    "start_time": "2023-03-22T20:20:18.318Z"
   },
   {
    "duration": 324,
    "start_time": "2023-03-22T20:20:18.388Z"
   },
   {
    "duration": 350,
    "start_time": "2023-03-22T20:20:19.167Z"
   },
   {
    "duration": 7,
    "start_time": "2023-03-22T20:20:21.269Z"
   },
   {
    "duration": 482,
    "start_time": "2023-03-22T20:20:23.318Z"
   },
   {
    "duration": 357,
    "start_time": "2023-03-22T20:20:24.834Z"
   },
   {
    "duration": 465,
    "start_time": "2023-03-22T20:20:25.207Z"
   },
   {
    "duration": 10,
    "start_time": "2023-03-22T20:20:27.551Z"
   },
   {
    "duration": 196,
    "start_time": "2023-03-22T20:20:28.349Z"
   },
   {
    "duration": 202,
    "start_time": "2023-03-22T20:20:28.766Z"
   },
   {
    "duration": 13,
    "start_time": "2023-03-22T20:20:30.870Z"
   },
   {
    "duration": 293,
    "start_time": "2023-03-22T20:20:31.240Z"
   },
   {
    "duration": 206,
    "start_time": "2023-03-22T20:20:31.638Z"
   },
   {
    "duration": 11,
    "start_time": "2023-03-22T20:20:31.846Z"
   },
   {
    "duration": 202,
    "start_time": "2023-03-22T20:20:32.046Z"
   },
   {
    "duration": 184,
    "start_time": "2023-03-22T20:20:32.425Z"
   },
   {
    "duration": 265,
    "start_time": "2023-03-22T20:20:33.822Z"
   },
   {
    "duration": 327,
    "start_time": "2023-03-22T20:20:34.227Z"
   },
   {
    "duration": 7,
    "start_time": "2023-03-22T20:20:36.358Z"
   },
   {
    "duration": 601,
    "start_time": "2023-03-22T20:20:36.456Z"
   },
   {
    "duration": 686,
    "start_time": "2023-03-22T20:20:37.060Z"
   },
   {
    "duration": 558,
    "start_time": "2023-03-22T20:20:37.748Z"
   },
   {
    "duration": 16,
    "start_time": "2023-03-22T20:20:38.308Z"
   },
   {
    "duration": 345,
    "start_time": "2023-03-22T20:20:38.326Z"
   },
   {
    "duration": 11,
    "start_time": "2023-03-22T20:20:40.124Z"
   },
   {
    "duration": 7,
    "start_time": "2023-03-22T20:20:40.536Z"
   },
   {
    "duration": 6,
    "start_time": "2023-03-22T20:20:40.832Z"
   },
   {
    "duration": 10,
    "start_time": "2023-03-22T20:20:42.337Z"
   },
   {
    "duration": 5,
    "start_time": "2023-03-22T20:20:42.526Z"
   },
   {
    "duration": 6,
    "start_time": "2023-03-22T20:20:42.878Z"
   },
   {
    "duration": 1331,
    "start_time": "2023-03-23T16:36:09.020Z"
   },
   {
    "duration": 54,
    "start_time": "2023-03-23T16:36:10.353Z"
   },
   {
    "duration": 20,
    "start_time": "2023-03-23T16:36:10.409Z"
   },
   {
    "duration": 26,
    "start_time": "2023-03-23T16:36:10.431Z"
   },
   {
    "duration": 29,
    "start_time": "2023-03-23T16:36:10.459Z"
   },
   {
    "duration": 873,
    "start_time": "2023-03-23T16:36:10.490Z"
   },
   {
    "duration": 9,
    "start_time": "2023-03-23T16:36:11.365Z"
   },
   {
    "duration": 7,
    "start_time": "2023-03-23T16:36:11.376Z"
   },
   {
    "duration": 6,
    "start_time": "2023-03-23T16:36:11.384Z"
   },
   {
    "duration": 16,
    "start_time": "2023-03-23T16:36:11.391Z"
   },
   {
    "duration": 41,
    "start_time": "2023-03-23T16:36:11.409Z"
   },
   {
    "duration": 14,
    "start_time": "2023-03-23T16:36:11.452Z"
   },
   {
    "duration": 9,
    "start_time": "2023-03-23T16:36:11.468Z"
   },
   {
    "duration": 7,
    "start_time": "2023-03-23T16:36:11.480Z"
   },
   {
    "duration": 4,
    "start_time": "2023-03-23T16:36:11.489Z"
   },
   {
    "duration": 5,
    "start_time": "2023-03-23T16:36:11.495Z"
   },
   {
    "duration": 7,
    "start_time": "2023-03-23T16:36:11.502Z"
   },
   {
    "duration": 5,
    "start_time": "2023-03-23T16:36:11.511Z"
   },
   {
    "duration": 11,
    "start_time": "2023-03-23T16:36:11.543Z"
   },
   {
    "duration": 14,
    "start_time": "2023-03-23T16:36:11.565Z"
   },
   {
    "duration": 14,
    "start_time": "2023-03-23T16:36:11.581Z"
   },
   {
    "duration": 15,
    "start_time": "2023-03-23T16:36:11.597Z"
   },
   {
    "duration": 19,
    "start_time": "2023-03-23T16:36:11.615Z"
   },
   {
    "duration": 11,
    "start_time": "2023-03-23T16:36:11.636Z"
   },
   {
    "duration": 10,
    "start_time": "2023-03-23T16:36:11.656Z"
   },
   {
    "duration": 7,
    "start_time": "2023-03-23T16:36:11.667Z"
   },
   {
    "duration": 5,
    "start_time": "2023-03-23T16:36:11.676Z"
   },
   {
    "duration": 13,
    "start_time": "2023-03-23T16:36:11.683Z"
   },
   {
    "duration": 6,
    "start_time": "2023-03-23T16:36:11.698Z"
   },
   {
    "duration": 7,
    "start_time": "2023-03-23T16:36:11.706Z"
   },
   {
    "duration": 31,
    "start_time": "2023-03-23T16:36:11.715Z"
   },
   {
    "duration": 8,
    "start_time": "2023-03-23T16:36:11.748Z"
   },
   {
    "duration": 21,
    "start_time": "2023-03-23T16:36:11.758Z"
   },
   {
    "duration": 5,
    "start_time": "2023-03-23T16:36:11.781Z"
   },
   {
    "duration": 429,
    "start_time": "2023-03-23T16:36:11.788Z"
   },
   {
    "duration": 394,
    "start_time": "2023-03-23T16:36:12.219Z"
   },
   {
    "duration": 8,
    "start_time": "2023-03-23T16:36:12.615Z"
   },
   {
    "duration": 34,
    "start_time": "2023-03-23T16:36:12.625Z"
   },
   {
    "duration": 298,
    "start_time": "2023-03-23T16:36:12.661Z"
   },
   {
    "duration": 298,
    "start_time": "2023-03-23T16:36:12.961Z"
   },
   {
    "duration": 7,
    "start_time": "2023-03-23T16:36:13.263Z"
   },
   {
    "duration": 417,
    "start_time": "2023-03-23T16:36:13.272Z"
   },
   {
    "duration": 309,
    "start_time": "2023-03-23T16:36:13.691Z"
   },
   {
    "duration": 311,
    "start_time": "2023-03-23T16:36:14.002Z"
   },
   {
    "duration": 10,
    "start_time": "2023-03-23T16:36:14.315Z"
   },
   {
    "duration": 175,
    "start_time": "2023-03-23T16:36:14.326Z"
   },
   {
    "duration": 166,
    "start_time": "2023-03-23T16:36:14.503Z"
   },
   {
    "duration": 9,
    "start_time": "2023-03-23T16:36:14.671Z"
   },
   {
    "duration": 201,
    "start_time": "2023-03-23T16:36:14.682Z"
   },
   {
    "duration": 248,
    "start_time": "2023-03-23T16:36:14.886Z"
   },
   {
    "duration": 21,
    "start_time": "2023-03-23T16:36:15.135Z"
   },
   {
    "duration": 166,
    "start_time": "2023-03-23T16:36:15.157Z"
   },
   {
    "duration": 193,
    "start_time": "2023-03-23T16:36:15.325Z"
   },
   {
    "duration": 216,
    "start_time": "2023-03-23T16:36:15.520Z"
   },
   {
    "duration": 268,
    "start_time": "2023-03-23T16:36:15.743Z"
   },
   {
    "duration": 7,
    "start_time": "2023-03-23T16:36:16.013Z"
   },
   {
    "duration": 531,
    "start_time": "2023-03-23T16:36:16.021Z"
   },
   {
    "duration": 502,
    "start_time": "2023-03-23T16:36:16.554Z"
   },
   {
    "duration": 574,
    "start_time": "2023-03-23T16:36:17.061Z"
   },
   {
    "duration": 17,
    "start_time": "2023-03-23T16:36:17.640Z"
   },
   {
    "duration": 329,
    "start_time": "2023-03-23T16:36:17.660Z"
   },
   {
    "duration": 8,
    "start_time": "2023-03-23T16:36:17.991Z"
   },
   {
    "duration": 6,
    "start_time": "2023-03-23T16:36:18.001Z"
   },
   {
    "duration": 16,
    "start_time": "2023-03-23T16:36:18.009Z"
   },
   {
    "duration": 25,
    "start_time": "2023-03-23T16:36:18.027Z"
   },
   {
    "duration": 5,
    "start_time": "2023-03-23T16:36:18.059Z"
   },
   {
    "duration": 7,
    "start_time": "2023-03-23T16:36:18.066Z"
   },
   {
    "duration": 137,
    "start_time": "2023-10-28T21:20:27.285Z"
   }
  ],
  "kernelspec": {
   "display_name": "Python 3 (ipykernel)",
   "language": "python",
   "name": "python3"
  },
  "language_info": {
   "codemirror_mode": {
    "name": "ipython",
    "version": 3
   },
   "file_extension": ".py",
   "mimetype": "text/x-python",
   "name": "python",
   "nbconvert_exporter": "python",
   "pygments_lexer": "ipython3",
   "version": "3.9.5"
  },
  "toc": {
   "base_numbering": 1,
   "nav_menu": {},
   "number_sections": true,
   "sideBar": true,
   "skip_h1_title": true,
   "title_cell": "Table of Contents",
   "title_sidebar": "Contents",
   "toc_cell": false,
   "toc_position": {},
   "toc_section_display": true,
   "toc_window_display": false
  }
 },
 "nbformat": 4,
 "nbformat_minor": 2
}
