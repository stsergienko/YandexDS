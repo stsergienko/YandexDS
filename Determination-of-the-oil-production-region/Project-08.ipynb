{
 "cells": [
  {
   "cell_type": "markdown",
   "metadata": {},
   "source": [
    "# Выбор локации для скважины"
   ]
  },
  {
   "cell_type": "markdown",
   "metadata": {},
   "source": [
    "Допустим, вы работаете в добывающей компании «ГлавРосГосНефть». Нужно решить, где бурить новую скважину.\n",
    "\n",
    "Вам предоставлены пробы нефти в трёх регионах: в каждом 10 000 месторождений, где измерили качество нефти и объём её запасов. Постройте модель машинного обучения, которая поможет определить регион, где добыча принесёт наибольшую прибыль. Проанализируйте возможную прибыль и риски техникой *Bootstrap.*\n",
    "\n",
    "Шаги для выбора локации:\n",
    "\n",
    "- В избранном регионе ищут месторождения, для каждого определяют значения признаков;\n",
    "- Строят модель и оценивают объём запасов;\n",
    "- Выбирают месторождения с самым высокими оценками значений. Количество месторождений зависит от бюджета компании и стоимости разработки одной скважины;\n",
    "- Прибыль равна суммарной прибыли отобранных месторождений."
   ]
  },
  {
   "cell_type": "markdown",
   "metadata": {},
   "source": [
    "## Загрузка и подготовка данных"
   ]
  },
  {
   "cell_type": "code",
   "execution_count": 1,
   "metadata": {},
   "outputs": [],
   "source": [
    "# Импортируем библиотеки\n",
    "import pandas as pd\n",
    "import numpy as np\n",
    "import seaborn as sns\n",
    "import matplotlib.pyplot as plt\n",
    "import sklearn\n",
    "from sklearn.model_selection import train_test_split\n",
    "from sklearn.linear_model import LinearRegression\n",
    "from sklearn.metrics import mean_squared_error"
   ]
  },
  {
   "cell_type": "code",
   "execution_count": 2,
   "metadata": {},
   "outputs": [],
   "source": [
    "# Откроем файлы и запишем датасеты в переменные data_1, data_2 и data_3\n",
    "try:\n",
    "    data_1 = pd.read_csv('/datasets/geo_data_0.csv')\n",
    "    data_2 = pd.read_csv('/datasets/geo_data_1.csv')\n",
    "    data_3 = pd.read_csv('/datasets/geo_data_2.csv')\n",
    "except:\n",
    "    data_1 = pd.read_csv('geo_data_0.csv')\n",
    "    data_2 = pd.read_csv('geo_data_1.csv')\n",
    "    data_3 = pd.read_csv('geo_data_2.csv')"
   ]
  },
  {
   "cell_type": "code",
   "execution_count": 3,
   "metadata": {},
   "outputs": [
    {
     "data": {
      "text/html": [
       "<div>\n",
       "<style scoped>\n",
       "    .dataframe tbody tr th:only-of-type {\n",
       "        vertical-align: middle;\n",
       "    }\n",
       "\n",
       "    .dataframe tbody tr th {\n",
       "        vertical-align: top;\n",
       "    }\n",
       "\n",
       "    .dataframe thead th {\n",
       "        text-align: right;\n",
       "    }\n",
       "</style>\n",
       "<table border=\"1\" class=\"dataframe\">\n",
       "  <thead>\n",
       "    <tr style=\"text-align: right;\">\n",
       "      <th></th>\n",
       "      <th>id</th>\n",
       "      <th>f0</th>\n",
       "      <th>f1</th>\n",
       "      <th>f2</th>\n",
       "      <th>product</th>\n",
       "    </tr>\n",
       "  </thead>\n",
       "  <tbody>\n",
       "    <tr>\n",
       "      <th>0</th>\n",
       "      <td>txEyH</td>\n",
       "      <td>0.705745</td>\n",
       "      <td>-0.497823</td>\n",
       "      <td>1.221170</td>\n",
       "      <td>105.280062</td>\n",
       "    </tr>\n",
       "    <tr>\n",
       "      <th>1</th>\n",
       "      <td>2acmU</td>\n",
       "      <td>1.334711</td>\n",
       "      <td>-0.340164</td>\n",
       "      <td>4.365080</td>\n",
       "      <td>73.037750</td>\n",
       "    </tr>\n",
       "    <tr>\n",
       "      <th>2</th>\n",
       "      <td>409Wp</td>\n",
       "      <td>1.022732</td>\n",
       "      <td>0.151990</td>\n",
       "      <td>1.419926</td>\n",
       "      <td>85.265647</td>\n",
       "    </tr>\n",
       "    <tr>\n",
       "      <th>3</th>\n",
       "      <td>iJLyR</td>\n",
       "      <td>-0.032172</td>\n",
       "      <td>0.139033</td>\n",
       "      <td>2.978566</td>\n",
       "      <td>168.620776</td>\n",
       "    </tr>\n",
       "    <tr>\n",
       "      <th>4</th>\n",
       "      <td>Xdl7t</td>\n",
       "      <td>1.988431</td>\n",
       "      <td>0.155413</td>\n",
       "      <td>4.751769</td>\n",
       "      <td>154.036647</td>\n",
       "    </tr>\n",
       "    <tr>\n",
       "      <th>5</th>\n",
       "      <td>wX4Hy</td>\n",
       "      <td>0.969570</td>\n",
       "      <td>0.489775</td>\n",
       "      <td>-0.735383</td>\n",
       "      <td>64.741541</td>\n",
       "    </tr>\n",
       "    <tr>\n",
       "      <th>6</th>\n",
       "      <td>tL6pL</td>\n",
       "      <td>0.645075</td>\n",
       "      <td>0.530656</td>\n",
       "      <td>1.780266</td>\n",
       "      <td>49.055285</td>\n",
       "    </tr>\n",
       "    <tr>\n",
       "      <th>7</th>\n",
       "      <td>BYPU6</td>\n",
       "      <td>-0.400648</td>\n",
       "      <td>0.808337</td>\n",
       "      <td>-5.624670</td>\n",
       "      <td>72.943292</td>\n",
       "    </tr>\n",
       "    <tr>\n",
       "      <th>8</th>\n",
       "      <td>j9Oui</td>\n",
       "      <td>0.643105</td>\n",
       "      <td>-0.551583</td>\n",
       "      <td>2.372141</td>\n",
       "      <td>113.356160</td>\n",
       "    </tr>\n",
       "    <tr>\n",
       "      <th>9</th>\n",
       "      <td>OLuZU</td>\n",
       "      <td>2.173381</td>\n",
       "      <td>0.563698</td>\n",
       "      <td>9.441852</td>\n",
       "      <td>127.910945</td>\n",
       "    </tr>\n",
       "  </tbody>\n",
       "</table>\n",
       "</div>"
      ],
      "text/plain": [
       "      id        f0        f1        f2     product\n",
       "0  txEyH  0.705745 -0.497823  1.221170  105.280062\n",
       "1  2acmU  1.334711 -0.340164  4.365080   73.037750\n",
       "2  409Wp  1.022732  0.151990  1.419926   85.265647\n",
       "3  iJLyR -0.032172  0.139033  2.978566  168.620776\n",
       "4  Xdl7t  1.988431  0.155413  4.751769  154.036647\n",
       "5  wX4Hy  0.969570  0.489775 -0.735383   64.741541\n",
       "6  tL6pL  0.645075  0.530656  1.780266   49.055285\n",
       "7  BYPU6 -0.400648  0.808337 -5.624670   72.943292\n",
       "8  j9Oui  0.643105 -0.551583  2.372141  113.356160\n",
       "9  OLuZU  2.173381  0.563698  9.441852  127.910945"
      ]
     },
     "execution_count": 3,
     "metadata": {},
     "output_type": "execute_result"
    }
   ],
   "source": [
    "# Посмотрим первые 10 строк первого региона\n",
    "data_1.head(10)"
   ]
  },
  {
   "cell_type": "code",
   "execution_count": 4,
   "metadata": {},
   "outputs": [
    {
     "data": {
      "text/html": [
       "<div>\n",
       "<style scoped>\n",
       "    .dataframe tbody tr th:only-of-type {\n",
       "        vertical-align: middle;\n",
       "    }\n",
       "\n",
       "    .dataframe tbody tr th {\n",
       "        vertical-align: top;\n",
       "    }\n",
       "\n",
       "    .dataframe thead th {\n",
       "        text-align: right;\n",
       "    }\n",
       "</style>\n",
       "<table border=\"1\" class=\"dataframe\">\n",
       "  <thead>\n",
       "    <tr style=\"text-align: right;\">\n",
       "      <th></th>\n",
       "      <th>id</th>\n",
       "      <th>f0</th>\n",
       "      <th>f1</th>\n",
       "      <th>f2</th>\n",
       "      <th>product</th>\n",
       "    </tr>\n",
       "  </thead>\n",
       "  <tbody>\n",
       "    <tr>\n",
       "      <th>0</th>\n",
       "      <td>kBEdx</td>\n",
       "      <td>-15.001348</td>\n",
       "      <td>-8.276000</td>\n",
       "      <td>-0.005876</td>\n",
       "      <td>3.179103</td>\n",
       "    </tr>\n",
       "    <tr>\n",
       "      <th>1</th>\n",
       "      <td>62mP7</td>\n",
       "      <td>14.272088</td>\n",
       "      <td>-3.475083</td>\n",
       "      <td>0.999183</td>\n",
       "      <td>26.953261</td>\n",
       "    </tr>\n",
       "    <tr>\n",
       "      <th>2</th>\n",
       "      <td>vyE1P</td>\n",
       "      <td>6.263187</td>\n",
       "      <td>-5.948386</td>\n",
       "      <td>5.001160</td>\n",
       "      <td>134.766305</td>\n",
       "    </tr>\n",
       "    <tr>\n",
       "      <th>3</th>\n",
       "      <td>KcrkZ</td>\n",
       "      <td>-13.081196</td>\n",
       "      <td>-11.506057</td>\n",
       "      <td>4.999415</td>\n",
       "      <td>137.945408</td>\n",
       "    </tr>\n",
       "    <tr>\n",
       "      <th>4</th>\n",
       "      <td>AHL4O</td>\n",
       "      <td>12.702195</td>\n",
       "      <td>-8.147433</td>\n",
       "      <td>5.004363</td>\n",
       "      <td>134.766305</td>\n",
       "    </tr>\n",
       "    <tr>\n",
       "      <th>5</th>\n",
       "      <td>HHckp</td>\n",
       "      <td>-3.327590</td>\n",
       "      <td>-2.205276</td>\n",
       "      <td>3.003647</td>\n",
       "      <td>84.038886</td>\n",
       "    </tr>\n",
       "    <tr>\n",
       "      <th>6</th>\n",
       "      <td>h5Ujo</td>\n",
       "      <td>-11.142655</td>\n",
       "      <td>-10.133399</td>\n",
       "      <td>4.002382</td>\n",
       "      <td>110.992147</td>\n",
       "    </tr>\n",
       "    <tr>\n",
       "      <th>7</th>\n",
       "      <td>muH9x</td>\n",
       "      <td>4.234715</td>\n",
       "      <td>-0.001354</td>\n",
       "      <td>2.004588</td>\n",
       "      <td>53.906522</td>\n",
       "    </tr>\n",
       "    <tr>\n",
       "      <th>8</th>\n",
       "      <td>YiRkx</td>\n",
       "      <td>13.355129</td>\n",
       "      <td>-0.332068</td>\n",
       "      <td>4.998647</td>\n",
       "      <td>134.766305</td>\n",
       "    </tr>\n",
       "    <tr>\n",
       "      <th>9</th>\n",
       "      <td>jG6Gi</td>\n",
       "      <td>1.069227</td>\n",
       "      <td>-11.025667</td>\n",
       "      <td>4.997844</td>\n",
       "      <td>137.945408</td>\n",
       "    </tr>\n",
       "  </tbody>\n",
       "</table>\n",
       "</div>"
      ],
      "text/plain": [
       "      id         f0         f1        f2     product\n",
       "0  kBEdx -15.001348  -8.276000 -0.005876    3.179103\n",
       "1  62mP7  14.272088  -3.475083  0.999183   26.953261\n",
       "2  vyE1P   6.263187  -5.948386  5.001160  134.766305\n",
       "3  KcrkZ -13.081196 -11.506057  4.999415  137.945408\n",
       "4  AHL4O  12.702195  -8.147433  5.004363  134.766305\n",
       "5  HHckp  -3.327590  -2.205276  3.003647   84.038886\n",
       "6  h5Ujo -11.142655 -10.133399  4.002382  110.992147\n",
       "7  muH9x   4.234715  -0.001354  2.004588   53.906522\n",
       "8  YiRkx  13.355129  -0.332068  4.998647  134.766305\n",
       "9  jG6Gi   1.069227 -11.025667  4.997844  137.945408"
      ]
     },
     "execution_count": 4,
     "metadata": {},
     "output_type": "execute_result"
    }
   ],
   "source": [
    "# Посмотрим первые 10 строк второго региона\n",
    "data_2.head(10)"
   ]
  },
  {
   "cell_type": "code",
   "execution_count": 5,
   "metadata": {},
   "outputs": [
    {
     "data": {
      "text/html": [
       "<div>\n",
       "<style scoped>\n",
       "    .dataframe tbody tr th:only-of-type {\n",
       "        vertical-align: middle;\n",
       "    }\n",
       "\n",
       "    .dataframe tbody tr th {\n",
       "        vertical-align: top;\n",
       "    }\n",
       "\n",
       "    .dataframe thead th {\n",
       "        text-align: right;\n",
       "    }\n",
       "</style>\n",
       "<table border=\"1\" class=\"dataframe\">\n",
       "  <thead>\n",
       "    <tr style=\"text-align: right;\">\n",
       "      <th></th>\n",
       "      <th>id</th>\n",
       "      <th>f0</th>\n",
       "      <th>f1</th>\n",
       "      <th>f2</th>\n",
       "      <th>product</th>\n",
       "    </tr>\n",
       "  </thead>\n",
       "  <tbody>\n",
       "    <tr>\n",
       "      <th>0</th>\n",
       "      <td>fwXo0</td>\n",
       "      <td>-1.146987</td>\n",
       "      <td>0.963328</td>\n",
       "      <td>-0.828965</td>\n",
       "      <td>27.758673</td>\n",
       "    </tr>\n",
       "    <tr>\n",
       "      <th>1</th>\n",
       "      <td>WJtFt</td>\n",
       "      <td>0.262778</td>\n",
       "      <td>0.269839</td>\n",
       "      <td>-2.530187</td>\n",
       "      <td>56.069697</td>\n",
       "    </tr>\n",
       "    <tr>\n",
       "      <th>2</th>\n",
       "      <td>ovLUW</td>\n",
       "      <td>0.194587</td>\n",
       "      <td>0.289035</td>\n",
       "      <td>-5.586433</td>\n",
       "      <td>62.871910</td>\n",
       "    </tr>\n",
       "    <tr>\n",
       "      <th>3</th>\n",
       "      <td>q6cA6</td>\n",
       "      <td>2.236060</td>\n",
       "      <td>-0.553760</td>\n",
       "      <td>0.930038</td>\n",
       "      <td>114.572842</td>\n",
       "    </tr>\n",
       "    <tr>\n",
       "      <th>4</th>\n",
       "      <td>WPMUX</td>\n",
       "      <td>-0.515993</td>\n",
       "      <td>1.716266</td>\n",
       "      <td>5.899011</td>\n",
       "      <td>149.600746</td>\n",
       "    </tr>\n",
       "    <tr>\n",
       "      <th>5</th>\n",
       "      <td>LzZXx</td>\n",
       "      <td>-0.758092</td>\n",
       "      <td>0.710691</td>\n",
       "      <td>2.585887</td>\n",
       "      <td>90.222465</td>\n",
       "    </tr>\n",
       "    <tr>\n",
       "      <th>6</th>\n",
       "      <td>WBHRv</td>\n",
       "      <td>-0.574891</td>\n",
       "      <td>0.317727</td>\n",
       "      <td>1.773745</td>\n",
       "      <td>45.641478</td>\n",
       "    </tr>\n",
       "    <tr>\n",
       "      <th>7</th>\n",
       "      <td>XO8fn</td>\n",
       "      <td>-1.906649</td>\n",
       "      <td>-2.458350</td>\n",
       "      <td>-0.177097</td>\n",
       "      <td>72.480640</td>\n",
       "    </tr>\n",
       "    <tr>\n",
       "      <th>8</th>\n",
       "      <td>ybmQ5</td>\n",
       "      <td>1.776292</td>\n",
       "      <td>-0.279356</td>\n",
       "      <td>3.004156</td>\n",
       "      <td>106.616832</td>\n",
       "    </tr>\n",
       "    <tr>\n",
       "      <th>9</th>\n",
       "      <td>OilcN</td>\n",
       "      <td>-1.214452</td>\n",
       "      <td>-0.439314</td>\n",
       "      <td>5.922514</td>\n",
       "      <td>52.954532</td>\n",
       "    </tr>\n",
       "  </tbody>\n",
       "</table>\n",
       "</div>"
      ],
      "text/plain": [
       "      id        f0        f1        f2     product\n",
       "0  fwXo0 -1.146987  0.963328 -0.828965   27.758673\n",
       "1  WJtFt  0.262778  0.269839 -2.530187   56.069697\n",
       "2  ovLUW  0.194587  0.289035 -5.586433   62.871910\n",
       "3  q6cA6  2.236060 -0.553760  0.930038  114.572842\n",
       "4  WPMUX -0.515993  1.716266  5.899011  149.600746\n",
       "5  LzZXx -0.758092  0.710691  2.585887   90.222465\n",
       "6  WBHRv -0.574891  0.317727  1.773745   45.641478\n",
       "7  XO8fn -1.906649 -2.458350 -0.177097   72.480640\n",
       "8  ybmQ5  1.776292 -0.279356  3.004156  106.616832\n",
       "9  OilcN -1.214452 -0.439314  5.922514   52.954532"
      ]
     },
     "execution_count": 5,
     "metadata": {},
     "output_type": "execute_result"
    }
   ],
   "source": [
    "# Посмотрим первые 10 строк третьего региона\n",
    "data_3.head(10)"
   ]
  },
  {
   "cell_type": "code",
   "execution_count": 6,
   "metadata": {},
   "outputs": [
    {
     "name": "stdout",
     "output_type": "stream",
     "text": [
      "<class 'pandas.core.frame.DataFrame'>\n",
      "RangeIndex: 100000 entries, 0 to 99999\n",
      "Data columns (total 5 columns):\n",
      " #   Column   Non-Null Count   Dtype  \n",
      "---  ------   --------------   -----  \n",
      " 0   id       100000 non-null  object \n",
      " 1   f0       100000 non-null  float64\n",
      " 2   f1       100000 non-null  float64\n",
      " 3   f2       100000 non-null  float64\n",
      " 4   product  100000 non-null  float64\n",
      "dtypes: float64(4), object(1)\n",
      "memory usage: 3.8+ MB\n"
     ]
    }
   ],
   "source": [
    "# Выведем общую информацию о датафрейме data1\n",
    "data_1.info()"
   ]
  },
  {
   "cell_type": "code",
   "execution_count": 7,
   "metadata": {},
   "outputs": [
    {
     "name": "stdout",
     "output_type": "stream",
     "text": [
      "<class 'pandas.core.frame.DataFrame'>\n",
      "RangeIndex: 100000 entries, 0 to 99999\n",
      "Data columns (total 5 columns):\n",
      " #   Column   Non-Null Count   Dtype  \n",
      "---  ------   --------------   -----  \n",
      " 0   id       100000 non-null  object \n",
      " 1   f0       100000 non-null  float64\n",
      " 2   f1       100000 non-null  float64\n",
      " 3   f2       100000 non-null  float64\n",
      " 4   product  100000 non-null  float64\n",
      "dtypes: float64(4), object(1)\n",
      "memory usage: 3.8+ MB\n"
     ]
    }
   ],
   "source": [
    "# Выведем общую информацию о датафрейме data2\n",
    "data_2.info()"
   ]
  },
  {
   "cell_type": "code",
   "execution_count": 8,
   "metadata": {},
   "outputs": [
    {
     "name": "stdout",
     "output_type": "stream",
     "text": [
      "<class 'pandas.core.frame.DataFrame'>\n",
      "RangeIndex: 100000 entries, 0 to 99999\n",
      "Data columns (total 5 columns):\n",
      " #   Column   Non-Null Count   Dtype  \n",
      "---  ------   --------------   -----  \n",
      " 0   id       100000 non-null  object \n",
      " 1   f0       100000 non-null  float64\n",
      " 2   f1       100000 non-null  float64\n",
      " 3   f2       100000 non-null  float64\n",
      " 4   product  100000 non-null  float64\n",
      "dtypes: float64(4), object(1)\n",
      "memory usage: 3.8+ MB\n"
     ]
    }
   ],
   "source": [
    "# Выведем общую информацию о датафрейме data3\n",
    "data_3.info()"
   ]
  },
  {
   "cell_type": "code",
   "execution_count": 9,
   "metadata": {},
   "outputs": [
    {
     "data": {
      "text/html": [
       "<div>\n",
       "<style scoped>\n",
       "    .dataframe tbody tr th:only-of-type {\n",
       "        vertical-align: middle;\n",
       "    }\n",
       "\n",
       "    .dataframe tbody tr th {\n",
       "        vertical-align: top;\n",
       "    }\n",
       "\n",
       "    .dataframe thead th {\n",
       "        text-align: right;\n",
       "    }\n",
       "</style>\n",
       "<table border=\"1\" class=\"dataframe\">\n",
       "  <thead>\n",
       "    <tr style=\"text-align: right;\">\n",
       "      <th></th>\n",
       "      <th>f0</th>\n",
       "      <th>f1</th>\n",
       "      <th>f2</th>\n",
       "      <th>product</th>\n",
       "    </tr>\n",
       "  </thead>\n",
       "  <tbody>\n",
       "    <tr>\n",
       "      <th>count</th>\n",
       "      <td>100000.000000</td>\n",
       "      <td>100000.000000</td>\n",
       "      <td>100000.000000</td>\n",
       "      <td>100000.000000</td>\n",
       "    </tr>\n",
       "    <tr>\n",
       "      <th>mean</th>\n",
       "      <td>0.500419</td>\n",
       "      <td>0.250143</td>\n",
       "      <td>2.502647</td>\n",
       "      <td>92.500000</td>\n",
       "    </tr>\n",
       "    <tr>\n",
       "      <th>std</th>\n",
       "      <td>0.871832</td>\n",
       "      <td>0.504433</td>\n",
       "      <td>3.248248</td>\n",
       "      <td>44.288691</td>\n",
       "    </tr>\n",
       "    <tr>\n",
       "      <th>min</th>\n",
       "      <td>-1.408605</td>\n",
       "      <td>-0.848218</td>\n",
       "      <td>-12.088328</td>\n",
       "      <td>0.000000</td>\n",
       "    </tr>\n",
       "    <tr>\n",
       "      <th>25%</th>\n",
       "      <td>-0.072580</td>\n",
       "      <td>-0.200881</td>\n",
       "      <td>0.287748</td>\n",
       "      <td>56.497507</td>\n",
       "    </tr>\n",
       "    <tr>\n",
       "      <th>50%</th>\n",
       "      <td>0.502360</td>\n",
       "      <td>0.250252</td>\n",
       "      <td>2.515969</td>\n",
       "      <td>91.849972</td>\n",
       "    </tr>\n",
       "    <tr>\n",
       "      <th>75%</th>\n",
       "      <td>1.073581</td>\n",
       "      <td>0.700646</td>\n",
       "      <td>4.715088</td>\n",
       "      <td>128.564089</td>\n",
       "    </tr>\n",
       "    <tr>\n",
       "      <th>max</th>\n",
       "      <td>2.362331</td>\n",
       "      <td>1.343769</td>\n",
       "      <td>16.003790</td>\n",
       "      <td>185.364347</td>\n",
       "    </tr>\n",
       "  </tbody>\n",
       "</table>\n",
       "</div>"
      ],
      "text/plain": [
       "                  f0             f1             f2        product\n",
       "count  100000.000000  100000.000000  100000.000000  100000.000000\n",
       "mean        0.500419       0.250143       2.502647      92.500000\n",
       "std         0.871832       0.504433       3.248248      44.288691\n",
       "min        -1.408605      -0.848218     -12.088328       0.000000\n",
       "25%        -0.072580      -0.200881       0.287748      56.497507\n",
       "50%         0.502360       0.250252       2.515969      91.849972\n",
       "75%         1.073581       0.700646       4.715088     128.564089\n",
       "max         2.362331       1.343769      16.003790     185.364347"
      ]
     },
     "execution_count": 9,
     "metadata": {},
     "output_type": "execute_result"
    }
   ],
   "source": [
    "data_1.describe()"
   ]
  },
  {
   "cell_type": "code",
   "execution_count": 10,
   "metadata": {},
   "outputs": [
    {
     "data": {
      "text/html": [
       "<div>\n",
       "<style scoped>\n",
       "    .dataframe tbody tr th:only-of-type {\n",
       "        vertical-align: middle;\n",
       "    }\n",
       "\n",
       "    .dataframe tbody tr th {\n",
       "        vertical-align: top;\n",
       "    }\n",
       "\n",
       "    .dataframe thead th {\n",
       "        text-align: right;\n",
       "    }\n",
       "</style>\n",
       "<table border=\"1\" class=\"dataframe\">\n",
       "  <thead>\n",
       "    <tr style=\"text-align: right;\">\n",
       "      <th></th>\n",
       "      <th>f0</th>\n",
       "      <th>f1</th>\n",
       "      <th>f2</th>\n",
       "      <th>product</th>\n",
       "    </tr>\n",
       "  </thead>\n",
       "  <tbody>\n",
       "    <tr>\n",
       "      <th>count</th>\n",
       "      <td>100000.000000</td>\n",
       "      <td>100000.000000</td>\n",
       "      <td>100000.000000</td>\n",
       "      <td>100000.000000</td>\n",
       "    </tr>\n",
       "    <tr>\n",
       "      <th>mean</th>\n",
       "      <td>1.141296</td>\n",
       "      <td>-4.796579</td>\n",
       "      <td>2.494541</td>\n",
       "      <td>68.825000</td>\n",
       "    </tr>\n",
       "    <tr>\n",
       "      <th>std</th>\n",
       "      <td>8.965932</td>\n",
       "      <td>5.119872</td>\n",
       "      <td>1.703572</td>\n",
       "      <td>45.944423</td>\n",
       "    </tr>\n",
       "    <tr>\n",
       "      <th>min</th>\n",
       "      <td>-31.609576</td>\n",
       "      <td>-26.358598</td>\n",
       "      <td>-0.018144</td>\n",
       "      <td>0.000000</td>\n",
       "    </tr>\n",
       "    <tr>\n",
       "      <th>25%</th>\n",
       "      <td>-6.298551</td>\n",
       "      <td>-8.267985</td>\n",
       "      <td>1.000021</td>\n",
       "      <td>26.953261</td>\n",
       "    </tr>\n",
       "    <tr>\n",
       "      <th>50%</th>\n",
       "      <td>1.153055</td>\n",
       "      <td>-4.813172</td>\n",
       "      <td>2.011479</td>\n",
       "      <td>57.085625</td>\n",
       "    </tr>\n",
       "    <tr>\n",
       "      <th>75%</th>\n",
       "      <td>8.621015</td>\n",
       "      <td>-1.332816</td>\n",
       "      <td>3.999904</td>\n",
       "      <td>107.813044</td>\n",
       "    </tr>\n",
       "    <tr>\n",
       "      <th>max</th>\n",
       "      <td>29.421755</td>\n",
       "      <td>18.734063</td>\n",
       "      <td>5.019721</td>\n",
       "      <td>137.945408</td>\n",
       "    </tr>\n",
       "  </tbody>\n",
       "</table>\n",
       "</div>"
      ],
      "text/plain": [
       "                  f0             f1             f2        product\n",
       "count  100000.000000  100000.000000  100000.000000  100000.000000\n",
       "mean        1.141296      -4.796579       2.494541      68.825000\n",
       "std         8.965932       5.119872       1.703572      45.944423\n",
       "min       -31.609576     -26.358598      -0.018144       0.000000\n",
       "25%        -6.298551      -8.267985       1.000021      26.953261\n",
       "50%         1.153055      -4.813172       2.011479      57.085625\n",
       "75%         8.621015      -1.332816       3.999904     107.813044\n",
       "max        29.421755      18.734063       5.019721     137.945408"
      ]
     },
     "execution_count": 10,
     "metadata": {},
     "output_type": "execute_result"
    }
   ],
   "source": [
    "data_2.describe()"
   ]
  },
  {
   "cell_type": "code",
   "execution_count": 11,
   "metadata": {},
   "outputs": [
    {
     "data": {
      "text/html": [
       "<div>\n",
       "<style scoped>\n",
       "    .dataframe tbody tr th:only-of-type {\n",
       "        vertical-align: middle;\n",
       "    }\n",
       "\n",
       "    .dataframe tbody tr th {\n",
       "        vertical-align: top;\n",
       "    }\n",
       "\n",
       "    .dataframe thead th {\n",
       "        text-align: right;\n",
       "    }\n",
       "</style>\n",
       "<table border=\"1\" class=\"dataframe\">\n",
       "  <thead>\n",
       "    <tr style=\"text-align: right;\">\n",
       "      <th></th>\n",
       "      <th>f0</th>\n",
       "      <th>f1</th>\n",
       "      <th>f2</th>\n",
       "      <th>product</th>\n",
       "    </tr>\n",
       "  </thead>\n",
       "  <tbody>\n",
       "    <tr>\n",
       "      <th>count</th>\n",
       "      <td>100000.000000</td>\n",
       "      <td>100000.000000</td>\n",
       "      <td>100000.000000</td>\n",
       "      <td>100000.000000</td>\n",
       "    </tr>\n",
       "    <tr>\n",
       "      <th>mean</th>\n",
       "      <td>0.002023</td>\n",
       "      <td>-0.002081</td>\n",
       "      <td>2.495128</td>\n",
       "      <td>95.000000</td>\n",
       "    </tr>\n",
       "    <tr>\n",
       "      <th>std</th>\n",
       "      <td>1.732045</td>\n",
       "      <td>1.730417</td>\n",
       "      <td>3.473445</td>\n",
       "      <td>44.749921</td>\n",
       "    </tr>\n",
       "    <tr>\n",
       "      <th>min</th>\n",
       "      <td>-8.760004</td>\n",
       "      <td>-7.084020</td>\n",
       "      <td>-11.970335</td>\n",
       "      <td>0.000000</td>\n",
       "    </tr>\n",
       "    <tr>\n",
       "      <th>25%</th>\n",
       "      <td>-1.162288</td>\n",
       "      <td>-1.174820</td>\n",
       "      <td>0.130359</td>\n",
       "      <td>59.450441</td>\n",
       "    </tr>\n",
       "    <tr>\n",
       "      <th>50%</th>\n",
       "      <td>0.009424</td>\n",
       "      <td>-0.009482</td>\n",
       "      <td>2.484236</td>\n",
       "      <td>94.925613</td>\n",
       "    </tr>\n",
       "    <tr>\n",
       "      <th>75%</th>\n",
       "      <td>1.158535</td>\n",
       "      <td>1.163678</td>\n",
       "      <td>4.858794</td>\n",
       "      <td>130.595027</td>\n",
       "    </tr>\n",
       "    <tr>\n",
       "      <th>max</th>\n",
       "      <td>7.238262</td>\n",
       "      <td>7.844801</td>\n",
       "      <td>16.739402</td>\n",
       "      <td>190.029838</td>\n",
       "    </tr>\n",
       "  </tbody>\n",
       "</table>\n",
       "</div>"
      ],
      "text/plain": [
       "                  f0             f1             f2        product\n",
       "count  100000.000000  100000.000000  100000.000000  100000.000000\n",
       "mean        0.002023      -0.002081       2.495128      95.000000\n",
       "std         1.732045       1.730417       3.473445      44.749921\n",
       "min        -8.760004      -7.084020     -11.970335       0.000000\n",
       "25%        -1.162288      -1.174820       0.130359      59.450441\n",
       "50%         0.009424      -0.009482       2.484236      94.925613\n",
       "75%         1.158535       1.163678       4.858794     130.595027\n",
       "max         7.238262       7.844801      16.739402     190.029838"
      ]
     },
     "execution_count": 11,
     "metadata": {},
     "output_type": "execute_result"
    }
   ],
   "source": [
    "data_3.describe()"
   ]
  },
  {
   "cell_type": "code",
   "execution_count": 12,
   "metadata": {},
   "outputs": [
    {
     "data": {
      "image/png": "[encoded data removed]",
      "text/plain": [
       "<Figure size 720x720 with 4 Axes>"
      ]
     },
     "metadata": {
      "needs_background": "light"
     },
     "output_type": "display_data"
    }
   ],
   "source": [
    "# Построим общую гистограмму для всех числовых столбцов первого региона\n",
    "data_1.hist(figsize=(10, 10))\n",
    "plt.show()"
   ]
  },
  {
   "cell_type": "code",
   "execution_count": 13,
   "metadata": {},
   "outputs": [
    {
     "data": {
      "image/png": "[encoded data removed]",
      "text/plain": [
       "<Figure size 720x720 with 4 Axes>"
      ]
     },
     "metadata": {
      "needs_background": "light"
     },
     "output_type": "display_data"
    }
   ],
   "source": [
    "# Построим общую гистограмму для всех числовых столбцов второго региона\n",
    "data_2.hist(figsize=(10, 10))\n",
    "plt.show()"
   ]
  },
  {
   "cell_type": "code",
   "execution_count": 31,
   "metadata": {},
   "outputs": [
    {
     "data": {
      "image/png": "[encoded data removed]",
      "text/plain": [
       "<Figure size 720x720 with 4 Axes>"
      ]
     },
     "metadata": {
      "needs_background": "light"
     },
     "output_type": "display_data"
    }
   ],
   "source": [
    "# Построим общую гистограмму для всех числовых столбцов третьего региона\n",
    "data_3.hist(figsize=(10, 10))\n",
    "plt.show()"
   ]
  },
  {
   "cell_type": "code",
   "execution_count": 15,
   "metadata": {},
   "outputs": [
    {
     "name": "stdout",
     "output_type": "stream",
     "text": [
      "Количество дубликатов в таблице data_1 0\n",
      "Количество дубликатов в таблице data_2 0\n",
      "Количество дубликатов в таблице data_3 0\n"
     ]
    }
   ],
   "source": [
    "# Проверим на наличие дубликатов\n",
    "print('Количество дубликатов в таблице data_1', data_1.duplicated().sum())\n",
    "print('Количество дубликатов в таблице data_2', data_2.duplicated().sum())\n",
    "print('Количество дубликатов в таблице data_3', data_3.duplicated().sum())"
   ]
  },
  {
   "cell_type": "code",
   "execution_count": 16,
   "metadata": {},
   "outputs": [
    {
     "name": "stdout",
     "output_type": "stream",
     "text": [
      "Количество дубликатов id в таблице data_1 10\n",
      "Количество дубликатов id в таблице data_2 4\n",
      "Количество дубликатов id в таблице data_3 4\n"
     ]
    }
   ],
   "source": [
    "# Проверим на наличие одинаковых id data1\n",
    "print('Количество дубликатов id в таблице data_1', data_1['id'].duplicated().sum())\n",
    "print('Количество дубликатов id в таблице data_2', data_2['id'].duplicated().sum())\n",
    "print('Количество дубликатов id в таблице data_3', data_3['id'].duplicated().sum())"
   ]
  },
  {
   "cell_type": "markdown",
   "metadata": {},
   "source": [
    "В данных есть записи с одинаковыми id. Удалим их, так как причина их происхождения не ясна, а их количество менее 0.1%"
   ]
  },
  {
   "cell_type": "code",
   "execution_count": 17,
   "metadata": {},
   "outputs": [],
   "source": [
    "data_1.drop_duplicates('id', inplace=True)\n",
    "data_2.drop_duplicates('id', inplace=True)\n",
    "data_3.drop_duplicates('id', inplace=True)"
   ]
  },
  {
   "cell_type": "code",
   "execution_count": 18,
   "metadata": {},
   "outputs": [
    {
     "name": "stdout",
     "output_type": "stream",
     "text": [
      "Количество строк после удаления дубликатов в таблице data_1 99990\n",
      "Количество строк после удаления дубликатов в таблице data_2 99996\n",
      "Количество строк после удаления дубликатов в таблице data_3 99996\n"
     ]
    }
   ],
   "source": [
    "print('Количество строк после удаления дубликатов в таблице data_1', data_1.shape[0])\n",
    "print('Количество строк после удаления дубликатов в таблице data_2', data_2.shape[0])\n",
    "print('Количество строк после удаления дубликатов в таблице data_3', data_3.shape[0])"
   ]
  },
  {
   "cell_type": "markdown",
   "metadata": {},
   "source": [
    "Удалим из всех таблиц столбец id, так как он уникален для каждой скважины и не нужен для обучения модели."
   ]
  },
  {
   "cell_type": "code",
   "execution_count": 19,
   "metadata": {},
   "outputs": [],
   "source": [
    "data_1.drop(['id'], axis=1, inplace=True)\n",
    "data_2.drop(['id'], axis=1, inplace=True)\n",
    "data_3.drop(['id'], axis=1, inplace=True)"
   ]
  },
  {
   "cell_type": "code",
   "execution_count": 20,
   "metadata": {},
   "outputs": [
    {
     "data": {
      "image/png": "[encoded data removed]",
      "text/plain": [
       "<Figure size 432x288 with 2 Axes>"
      ]
     },
     "metadata": {
      "needs_background": "light"
     },
     "output_type": "display_data"
    },
    {
     "data": {
      "image/png": "[encoded data removed]",
      "text/plain": [
       "<Figure size 432x288 with 2 Axes>"
      ]
     },
     "metadata": {
      "needs_background": "light"
     },
     "output_type": "display_data"
    },
    {
     "data": {
      "image/png": "[encoded data removed]",
      "text/plain": [
       "<Figure size 432x288 with 2 Axes>"
      ]
     },
     "metadata": {
      "needs_background": "light"
     },
     "output_type": "display_data"
    }
   ],
   "source": [
    "# Проверим корреляцию признаков в таблицах\n",
    "sns.heatmap(data_1.corr(), cmap='RdYlGn',annot=True)\n",
    "plt.title('Корреляция числовых признаков в таблице data_1')\n",
    "plt.show()\n",
    "sns.heatmap(data_2.corr(), cmap='RdYlGn', annot=True)\n",
    "plt.title('Корреляция числовых признаков в таблице data_2')\n",
    "plt.show()\n",
    "sns.heatmap(data_3.corr(), cmap='RdYlGn', annot=True)\n",
    "plt.title('Корреляция числовых признаков в таблице data_3')\n",
    "plt.show()"
   ]
  },
  {
   "cell_type": "markdown",
   "metadata": {},
   "source": [
    "***Вывод:*** Файлы содержат 100000 записей. Количество значений в столбцах совпадает, что говорит о том, что нет пропущенных значений. Наименования столбцов корректны. Построена общая гистограмма для всех числовых столбцов таблицы. Построены таблицы корреляции. Выполнена предобработка данных: удалены дубликаты, столбец id."
   ]
  },
  {
   "cell_type": "markdown",
   "metadata": {},
   "source": [
    "## Обучение и проверка модели"
   ]
  },
  {
   "cell_type": "code",
   "execution_count": 21,
   "metadata": {},
   "outputs": [],
   "source": [
    "# Напишем функцию для обучения и проверки модели\n",
    "def model_check(data):\n",
    "    # Выделим признаки\n",
    "    features = data.drop('product', axis=1)\n",
    "    target = data['product']\n",
    "\n",
    "    # Разделим датафрейм на обучающую и валидационную выборки\n",
    "    features_train, features_valid, target_train, target_valid = train_test_split(features,\n",
    "                                                                                  target,\n",
    "                                                                                  test_size=0.25,\n",
    "                                                                                  random_state=12345)\n",
    "    # Посмотрим на размерность сформированных наборов данных\n",
    "    print('Размерность набора данных features_train: ', features_train.shape)\n",
    "    print('Размерность набора данных target_train: ', target_train.shape)\n",
    "    print('Размерность набора данных features_valid: ', features_valid.shape)\n",
    "    print('Размерность набора данных target_valid: ', target_valid.shape)\n",
    "    print(' ')\n",
    "    \n",
    "    # Обучаем модель и сохраняем результат\n",
    "    model = LinearRegression()\n",
    "    model.fit(features_train, target_train)\n",
    "    predictions = model.predict(features_valid)\n",
    "\n",
    "    predictions_mean = predictions.mean()\n",
    "    rmse = mean_squared_error(target_valid, predictions) ** 0.5\n",
    "    return target_valid, predictions, predictions_mean, rmse"
   ]
  },
  {
   "cell_type": "code",
   "execution_count": 22,
   "metadata": {},
   "outputs": [
    {
     "name": "stdout",
     "output_type": "stream",
     "text": [
      "Размерность набора данных features_train:  (74992, 3)\n",
      "Размерность набора данных target_train:  (74992,)\n",
      "Размерность набора данных features_valid:  (24998, 3)\n",
      "Размерность набора данных target_valid:  (24998,)\n",
      " \n",
      "Размерность набора данных features_train:  (74997, 3)\n",
      "Размерность набора данных target_train:  (74997,)\n",
      "Размерность набора данных features_valid:  (24999, 3)\n",
      "Размерность набора данных target_valid:  (24999,)\n",
      " \n",
      "Размерность набора данных features_train:  (74997, 3)\n",
      "Размерность набора данных target_train:  (74997,)\n",
      "Размерность набора данных features_valid:  (24999, 3)\n",
      "Размерность набора данных target_valid:  (24999,)\n",
      " \n"
     ]
    }
   ],
   "source": [
    "# Используя функцию обучим и проверим модели\n",
    "target_valid_1, predictions_1, predictions_mean_1, rmse_1 = model_check(data_1)\n",
    "target_valid_2, predictions_2, predictions_mean_2, rmse_2 = model_check(data_2)\n",
    "target_valid_3, predictions_3, predictions_mean_3, rmse_3 = model_check(data_3)"
   ]
  },
  {
   "cell_type": "code",
   "execution_count": 23,
   "metadata": {},
   "outputs": [
    {
     "name": "stdout",
     "output_type": "stream",
     "text": [
      "Средний запас предсказанного сырья features_train_1:  92.78915638280621\n",
      "RMSE target_train_1:  37.853527328872964\n",
      " \n",
      "Средний запас предсказанного сырья features_train_2:  69.17831957030432\n",
      "RMSE target_train_2:  0.892059264771703\n",
      " \n",
      "Средний запас предсказанного сырья features_train_3:  94.86572480562035\n",
      "RMSE target_train_3:  40.07585073246016\n"
     ]
    }
   ],
   "source": [
    "# Посмотрим результаты\n",
    "print('Средний запас предсказанного сырья features_train_1: ', predictions_mean_1)\n",
    "print('RMSE target_train_1: ', rmse_1)\n",
    "print(' ')\n",
    "print('Средний запас предсказанного сырья features_train_2: ', predictions_mean_2)\n",
    "print('RMSE target_train_2: ', rmse_2)\n",
    "print(' ')\n",
    "print('Средний запас предсказанного сырья features_train_3: ', predictions_mean_3)\n",
    "print('RMSE target_train_3: ', rmse_3)"
   ]
  },
  {
   "cell_type": "markdown",
   "metadata": {},
   "source": [
    "***Вывод:*** Данные разделены на тестовые и валидационные выборки. Проверен размерность выборок. Обучены и проверены модели для каждого региона. Лучший параметр RMSE показывает модель на 2 регионе. Но в этом регионе запас предсказанного сырья меньше всего."
   ]
  },
  {
   "cell_type": "markdown",
   "metadata": {},
   "source": [
    "## Подготовка к расчёту прибыли"
   ]
  },
  {
   "cell_type": "code",
   "execution_count": 24,
   "metadata": {},
   "outputs": [
    {
     "name": "stdout",
     "output_type": "stream",
     "text": [
      "Бюджет на разработку одной скважины:  50000.0\n",
      "Минимальная добыча с одной скважины: 111.11\n",
      "Минимальная добыча с одного региона: 22222.22\n"
     ]
    }
   ],
   "source": [
    "# Количество скважин при разведке\n",
    "WELLS_TOTAL = 500\n",
    "\n",
    "# Количество лучших скважин\n",
    "WELLS_BEST = 200\n",
    "\n",
    "# Бюджет в регионе (в тыс. руб.)\n",
    "BUDGET_REGION = 10_000_000\n",
    "\n",
    "# Бюджет на одну скважину\n",
    "BUDGET_WELL = BUDGET_REGION/WELLS_BEST\n",
    "print('Бюджет на разработку одной скважины: ', BUDGET_WELL)\n",
    "\n",
    "# Доход с каждой единицы продукта \n",
    "PRODUCT_INCOME = 450\n",
    "\n",
    "# Минимальная добыча с одной скважины\n",
    "BARREL_WELL = BUDGET_WELL / PRODUCT_INCOME\n",
    "print('Минимальная добыча с одной скважины: {:.2f}'.format(BARREL_WELL))\n",
    "\n",
    "# Минимальная добыча с региона\n",
    "REGION_INCOME = WELLS_BEST * BARREL_WELL\n",
    "print('Минимальная добыча с одного региона: {:.2f}'.format(REGION_INCOME))"
   ]
  },
  {
   "cell_type": "code",
   "execution_count": 25,
   "metadata": {},
   "outputs": [
    {
     "name": "stdout",
     "output_type": "stream",
     "text": [
      "Средний объем запасов скважины в первом регионе:  92.49968421774354\n",
      "Средний объем запасов скважины во втором регионе:  68.82391591804064\n",
      "Средний объем запасов скважины в третьем регионе:  94.99834211933378\n"
     ]
    }
   ],
   "source": [
    "# Средний объем запасов скважины\n",
    "print('Средний объем запасов скважины в первом регионе: ', data_1['product'].mean())\n",
    "print('Средний объем запасов скважины во втором регионе: ', data_2['product'].mean())\n",
    "print('Средний объем запасов скважины в третьем регионе: ', data_3['product'].mean())"
   ]
  },
  {
   "cell_type": "markdown",
   "metadata": {},
   "source": [
    "***Вывод:*** Во всех регионах средний объем запасов скаважины меньше минимальной добычи с одной скважины."
   ]
  },
  {
   "cell_type": "markdown",
   "metadata": {},
   "source": [
    "## Расчёт прибыли и рисков "
   ]
  },
  {
   "cell_type": "code",
   "execution_count": 26,
   "metadata": {},
   "outputs": [],
   "source": [
    "# Функция для расчета прибыли\n",
    "def profit(target, probabilities, count):\n",
    "    probs_sorted = probabilities.sort_values(ascending=False)\n",
    "    selected = target[probs_sorted.index][:count]\n",
    "    income_top = PRODUCT_INCOME * selected.sum()\n",
    "    \n",
    "    return income_top - BUDGET_REGION"
   ]
  },
  {
   "cell_type": "code",
   "execution_count": 27,
   "metadata": {},
   "outputs": [],
   "source": [
    "# Применим технику Bootstrap\n",
    "def bootstrap(target, predictions):\n",
    "\n",
    "    state = np.random.RandomState(12345)\n",
    "    # Количество повторений цикла\n",
    "    bootstrap_samples = 1000\n",
    "    \n",
    "    values = []\n",
    "    target = target.reset_index(drop=True)\n",
    "    # Счетчик убыточных скважин\n",
    "    count = 0\n",
    "    \n",
    "    for i in range(bootstrap_samples):\n",
    "        target_subsample = target.sample(n=500, replace=True, random_state=state) \n",
    "        probs_subsample = pd.Series(predictions)[target_subsample.index]\n",
    "        income = profit(target_subsample, probs_subsample, 200)\n",
    "     \n",
    "        \n",
    "        if income < 0:\n",
    "            count += 1\n",
    "        values.append(income)\n",
    "                \n",
    "    values = pd.Series(values)\n",
    "    lower = values.quantile(0.025) \n",
    "    upper = values.quantile(0.975) \n",
    "    income_mean = values.mean()\n",
    "    # Процент убыточных скважин\n",
    "    risk = (count / bootstrap_samples) * 100\n",
    "    return lower, upper, income_mean, risk"
   ]
  },
  {
   "cell_type": "code",
   "execution_count": 28,
   "metadata": {},
   "outputs": [],
   "source": [
    "lower_1, upper_1, income_mean_1, risk_1 = bootstrap(target_valid_1, predictions_1)\n",
    "lower_2, upper_2, income_mean_2, risk_2 = bootstrap(target_valid_2, predictions_2)\n",
    "lower_3, upper_3, income_mean_3, risk_3 = bootstrap(target_valid_3, predictions_3)"
   ]
  },
  {
   "cell_type": "code",
   "execution_count": 29,
   "metadata": {},
   "outputs": [
    {
     "name": "stdout",
     "output_type": "stream",
     "text": [
      "\n",
      "Первый регион:\n",
      "   Средняя прибыль = 409428.038621436\n",
      "   Доверительный интервал (начало) = -131536.02870166398\n",
      "   Доверительный интервал (конец) = 944395.5827546729\n",
      "   Риск убытков = 7.1 \n",
      "\n",
      "Второй регион:\n",
      "   Средняя прибыль = 536902.5874874532\n",
      "   Доверительный интервал (начало) = 114527.9029023855\n",
      "   Доверительный интервал (конец) = 970787.9109953713\n",
      "   Риск убытков = 0.8999999999999999 \n",
      "\n",
      "Третий регион:\n",
      "   Средняя прибыль = 353790.362730942\n",
      "   Доверительный интервал (начало) = -159194.0311913273\n",
      "   Доверительный интервал (конец) = 875652.5028711314\n",
      "   Риск убытков = 10.2 \n"
     ]
    }
   ],
   "source": [
    "print('''\n",
    "Первый регион:\n",
    "   Средняя прибыль = {}\n",
    "   Доверительный интервал (начало) = {}\n",
    "   Доверительный интервал (конец) = {}\n",
    "   Риск убытков = {} '''.format(income_mean_1,\n",
    "                             lower_1,\n",
    "                             upper_1,\n",
    "                             risk_1,\n",
    "                            ))\n",
    "\n",
    "print('''\n",
    "Второй регион:\n",
    "   Средняя прибыль = {}\n",
    "   Доверительный интервал (начало) = {}\n",
    "   Доверительный интервал (конец) = {}\n",
    "   Риск убытков = {} '''.format(income_mean_2,\n",
    "                             lower_2,\n",
    "                             upper_2,\n",
    "                             risk_2,\n",
    "                            ))\n",
    "\n",
    "print('''\n",
    "Третий регион:\n",
    "   Средняя прибыль = {}\n",
    "   Доверительный интервал (начало) = {}\n",
    "   Доверительный интервал (конец) = {}\n",
    "   Риск убытков = {} '''.format(income_mean_3,\n",
    "                             lower_3,\n",
    "                             upper_3,\n",
    "                             risk_3,\n",
    "                            ))"
   ]
  },
  {
   "cell_type": "markdown",
   "metadata": {},
   "source": [
    "***Вывод:*** Самым выгодным для разработки является второй регион. Средняя прибыль в этом регионе наибольшая (536902 тыс. руб.). С вероятностью 95% прибыль окажется в промежутке от 114527 до 970787 тыс. руб. Риски убытков в этом регионе самые низкие (всего 0.9%)."
   ]
  }
 ],
 "metadata": {
  "ExecuteTimeLog": [
   {
    "duration": 103,
    "start_time": "2023-05-12T22:00:29.937Z"
   },
   {
    "duration": 70,
    "start_time": "2023-05-12T22:00:30.372Z"
   },
   {
    "duration": 1510,
    "start_time": "2023-05-12T22:00:50.538Z"
   },
   {
    "duration": 2015,
    "start_time": "2023-05-12T22:00:52.050Z"
   },
   {
    "duration": 8,
    "start_time": "2023-05-12T22:01:03.227Z"
   },
   {
    "duration": 481,
    "start_time": "2023-05-12T22:01:03.663Z"
   },
   {
    "duration": 15,
    "start_time": "2023-05-12T22:01:38.265Z"
   },
   {
    "duration": 1487,
    "start_time": "2023-05-12T22:01:47.559Z"
   },
   {
    "duration": 439,
    "start_time": "2023-05-12T22:01:49.049Z"
   },
   {
    "duration": 21,
    "start_time": "2023-05-12T22:01:49.490Z"
   },
   {
    "duration": 47,
    "start_time": "2023-05-12T22:01:49.512Z"
   },
   {
    "duration": 31,
    "start_time": "2023-05-12T22:01:49.561Z"
   },
   {
    "duration": 26,
    "start_time": "2023-05-12T22:03:18.480Z"
   },
   {
    "duration": 14,
    "start_time": "2023-05-12T22:03:21.639Z"
   },
   {
    "duration": 32,
    "start_time": "2023-05-12T22:03:22.796Z"
   },
   {
    "duration": 53,
    "start_time": "2023-05-12T22:05:03.080Z"
   },
   {
    "duration": 43,
    "start_time": "2023-05-12T22:05:07.023Z"
   },
   {
    "duration": 32,
    "start_time": "2023-05-12T22:05:09.160Z"
   },
   {
    "duration": 637,
    "start_time": "2023-05-12T22:06:33.038Z"
   },
   {
    "duration": 469,
    "start_time": "2023-05-12T22:06:55.265Z"
   },
   {
    "duration": 596,
    "start_time": "2023-05-12T22:07:06.733Z"
   },
   {
    "duration": 486,
    "start_time": "2023-05-12T22:07:13.664Z"
   },
   {
    "duration": 2201,
    "start_time": "2023-05-13T12:01:22.691Z"
   },
   {
    "duration": 2842,
    "start_time": "2023-05-13T12:01:24.895Z"
   },
   {
    "duration": 40,
    "start_time": "2023-05-13T12:01:27.743Z"
   },
   {
    "duration": 152,
    "start_time": "2023-05-13T12:01:27.786Z"
   },
   {
    "duration": 120,
    "start_time": "2023-05-13T12:01:27.941Z"
   },
   {
    "duration": 114,
    "start_time": "2023-05-13T12:01:28.064Z"
   },
   {
    "duration": 84,
    "start_time": "2023-05-13T12:01:28.181Z"
   },
   {
    "duration": 108,
    "start_time": "2023-05-13T12:01:28.267Z"
   },
   {
    "duration": 188,
    "start_time": "2023-05-13T12:01:28.380Z"
   },
   {
    "duration": 128,
    "start_time": "2023-05-13T12:01:28.571Z"
   },
   {
    "duration": 63,
    "start_time": "2023-05-13T12:01:28.702Z"
   },
   {
    "duration": 1016,
    "start_time": "2023-05-13T12:01:28.770Z"
   },
   {
    "duration": 752,
    "start_time": "2023-05-13T12:01:29.796Z"
   },
   {
    "duration": 965,
    "start_time": "2023-05-13T12:01:30.560Z"
   },
   {
    "duration": 262,
    "start_time": "2023-05-13T12:01:31.533Z"
   },
   {
    "duration": 1557,
    "start_time": "2023-05-13T12:08:04.034Z"
   },
   {
    "duration": 519,
    "start_time": "2023-05-13T12:08:05.593Z"
   },
   {
    "duration": 26,
    "start_time": "2023-05-13T12:08:06.115Z"
   },
   {
    "duration": 31,
    "start_time": "2023-05-13T12:08:06.144Z"
   },
   {
    "duration": 79,
    "start_time": "2023-05-13T12:08:06.178Z"
   },
   {
    "duration": 35,
    "start_time": "2023-05-13T12:08:06.259Z"
   },
   {
    "duration": 36,
    "start_time": "2023-05-13T12:08:06.297Z"
   },
   {
    "duration": 53,
    "start_time": "2023-05-13T12:08:06.336Z"
   },
   {
    "duration": 58,
    "start_time": "2023-05-13T12:08:06.391Z"
   },
   {
    "duration": 62,
    "start_time": "2023-05-13T12:08:06.452Z"
   },
   {
    "duration": 61,
    "start_time": "2023-05-13T12:08:06.517Z"
   },
   {
    "duration": 569,
    "start_time": "2023-05-13T12:08:06.581Z"
   },
   {
    "duration": 633,
    "start_time": "2023-05-13T12:08:07.152Z"
   },
   {
    "duration": 745,
    "start_time": "2023-05-13T12:08:07.787Z"
   },
   {
    "duration": 91,
    "start_time": "2023-05-13T12:08:08.535Z"
   },
   {
    "duration": 76,
    "start_time": "2023-05-13T12:08:08.628Z"
   },
   {
    "duration": 69,
    "start_time": "2023-05-13T12:08:08.706Z"
   },
   {
    "duration": 1712,
    "start_time": "2023-05-13T12:15:49.805Z"
   },
   {
    "duration": 461,
    "start_time": "2023-05-13T12:15:51.519Z"
   },
   {
    "duration": 23,
    "start_time": "2023-05-13T12:15:51.982Z"
   },
   {
    "duration": 25,
    "start_time": "2023-05-13T12:15:52.008Z"
   },
   {
    "duration": 24,
    "start_time": "2023-05-13T12:15:52.035Z"
   },
   {
    "duration": 67,
    "start_time": "2023-05-13T12:15:52.061Z"
   },
   {
    "duration": 26,
    "start_time": "2023-05-13T12:15:52.130Z"
   },
   {
    "duration": 61,
    "start_time": "2023-05-13T12:15:52.158Z"
   },
   {
    "duration": 69,
    "start_time": "2023-05-13T12:15:52.220Z"
   },
   {
    "duration": 57,
    "start_time": "2023-05-13T12:15:52.292Z"
   },
   {
    "duration": 86,
    "start_time": "2023-05-13T12:15:52.351Z"
   },
   {
    "duration": 599,
    "start_time": "2023-05-13T12:15:52.439Z"
   },
   {
    "duration": 625,
    "start_time": "2023-05-13T12:15:53.040Z"
   },
   {
    "duration": 693,
    "start_time": "2023-05-13T12:15:53.667Z"
   },
   {
    "duration": 82,
    "start_time": "2023-05-13T12:15:54.363Z"
   },
   {
    "duration": 89,
    "start_time": "2023-05-13T12:15:54.447Z"
   },
   {
    "duration": 86,
    "start_time": "2023-05-13T12:15:54.538Z"
   },
   {
    "duration": 24,
    "start_time": "2023-05-13T12:15:54.626Z"
   },
   {
    "duration": 51,
    "start_time": "2023-05-13T12:15:54.652Z"
   },
   {
    "duration": 31,
    "start_time": "2023-05-13T12:15:54.706Z"
   },
   {
    "duration": 29,
    "start_time": "2023-05-13T12:20:12.368Z"
   },
   {
    "duration": 34,
    "start_time": "2023-05-13T12:20:13.162Z"
   },
   {
    "duration": 24,
    "start_time": "2023-05-13T12:20:13.746Z"
   },
   {
    "duration": 1970,
    "start_time": "2023-05-13T12:27:35.650Z"
   },
   {
    "duration": 527,
    "start_time": "2023-05-13T12:27:37.622Z"
   },
   {
    "duration": 22,
    "start_time": "2023-05-13T12:27:38.151Z"
   },
   {
    "duration": 84,
    "start_time": "2023-05-13T12:27:38.177Z"
   },
   {
    "duration": 56,
    "start_time": "2023-05-13T12:27:38.263Z"
   },
   {
    "duration": 38,
    "start_time": "2023-05-13T12:27:38.321Z"
   },
   {
    "duration": 25,
    "start_time": "2023-05-13T12:27:38.362Z"
   },
   {
    "duration": 42,
    "start_time": "2023-05-13T12:27:38.390Z"
   },
   {
    "duration": 65,
    "start_time": "2023-05-13T12:27:38.434Z"
   },
   {
    "duration": 45,
    "start_time": "2023-05-13T12:27:38.502Z"
   },
   {
    "duration": 71,
    "start_time": "2023-05-13T12:27:38.552Z"
   },
   {
    "duration": 642,
    "start_time": "2023-05-13T12:27:38.625Z"
   },
   {
    "duration": 635,
    "start_time": "2023-05-13T12:27:39.281Z"
   },
   {
    "duration": 836,
    "start_time": "2023-05-13T12:27:39.919Z"
   },
   {
    "duration": 215,
    "start_time": "2023-05-13T12:27:40.757Z"
   },
   {
    "duration": 76,
    "start_time": "2023-05-13T12:27:40.974Z"
   },
   {
    "duration": 121,
    "start_time": "2023-05-13T12:27:41.072Z"
   },
   {
    "duration": 6,
    "start_time": "2023-05-13T12:27:41.196Z"
   },
   {
    "duration": 1647,
    "start_time": "2023-05-13T12:59:39.270Z"
   },
   {
    "duration": 458,
    "start_time": "2023-05-13T12:59:40.919Z"
   },
   {
    "duration": 21,
    "start_time": "2023-05-13T12:59:41.385Z"
   },
   {
    "duration": 13,
    "start_time": "2023-05-13T12:59:41.408Z"
   },
   {
    "duration": 19,
    "start_time": "2023-05-13T12:59:41.423Z"
   },
   {
    "duration": 30,
    "start_time": "2023-05-13T12:59:41.444Z"
   },
   {
    "duration": 39,
    "start_time": "2023-05-13T12:59:41.477Z"
   },
   {
    "duration": 16,
    "start_time": "2023-05-13T12:59:41.518Z"
   },
   {
    "duration": 58,
    "start_time": "2023-05-13T12:59:41.536Z"
   },
   {
    "duration": 44,
    "start_time": "2023-05-13T12:59:41.597Z"
   },
   {
    "duration": 67,
    "start_time": "2023-05-13T12:59:41.643Z"
   },
   {
    "duration": 551,
    "start_time": "2023-05-13T12:59:41.712Z"
   },
   {
    "duration": 565,
    "start_time": "2023-05-13T12:59:42.265Z"
   },
   {
    "duration": 643,
    "start_time": "2023-05-13T12:59:42.833Z"
   },
   {
    "duration": 186,
    "start_time": "2023-05-13T12:59:43.480Z"
   },
   {
    "duration": 61,
    "start_time": "2023-05-13T12:59:43.670Z"
   },
   {
    "duration": 106,
    "start_time": "2023-05-13T12:59:43.733Z"
   },
   {
    "duration": 5,
    "start_time": "2023-05-13T12:59:43.841Z"
   },
   {
    "duration": 38,
    "start_time": "2023-05-13T12:59:43.848Z"
   },
   {
    "duration": 19,
    "start_time": "2023-05-13T12:59:43.888Z"
   },
   {
    "duration": 130,
    "start_time": "2023-05-13T12:59:43.909Z"
   },
   {
    "duration": 0,
    "start_time": "2023-05-13T12:59:44.041Z"
   },
   {
    "duration": 1535,
    "start_time": "2023-05-13T13:00:53.956Z"
   },
   {
    "duration": 490,
    "start_time": "2023-05-13T13:00:55.494Z"
   },
   {
    "duration": 18,
    "start_time": "2023-05-13T13:00:55.987Z"
   },
   {
    "duration": 30,
    "start_time": "2023-05-13T13:00:56.007Z"
   },
   {
    "duration": 67,
    "start_time": "2023-05-13T13:00:56.043Z"
   },
   {
    "duration": 39,
    "start_time": "2023-05-13T13:00:56.112Z"
   },
   {
    "duration": 52,
    "start_time": "2023-05-13T13:00:56.154Z"
   },
   {
    "duration": 72,
    "start_time": "2023-05-13T13:00:56.209Z"
   },
   {
    "duration": 216,
    "start_time": "2023-05-13T13:00:56.283Z"
   },
   {
    "duration": 44,
    "start_time": "2023-05-13T13:00:56.503Z"
   },
   {
    "duration": 68,
    "start_time": "2023-05-13T13:00:56.550Z"
   },
   {
    "duration": 631,
    "start_time": "2023-05-13T13:00:56.620Z"
   },
   {
    "duration": 592,
    "start_time": "2023-05-13T13:00:57.253Z"
   },
   {
    "duration": 691,
    "start_time": "2023-05-13T13:00:57.847Z"
   },
   {
    "duration": 190,
    "start_time": "2023-05-13T13:00:58.539Z"
   },
   {
    "duration": 72,
    "start_time": "2023-05-13T13:00:58.731Z"
   },
   {
    "duration": 98,
    "start_time": "2023-05-13T13:00:58.805Z"
   },
   {
    "duration": 5,
    "start_time": "2023-05-13T13:00:58.905Z"
   },
   {
    "duration": 20,
    "start_time": "2023-05-13T13:00:58.912Z"
   },
   {
    "duration": 16,
    "start_time": "2023-05-13T13:00:58.933Z"
   },
   {
    "duration": 59,
    "start_time": "2023-05-13T13:00:58.950Z"
   },
   {
    "duration": 9,
    "start_time": "2023-05-13T13:00:59.011Z"
   },
   {
    "duration": 10,
    "start_time": "2023-05-13T13:02:38.073Z"
   },
   {
    "duration": 1628,
    "start_time": "2023-05-13T13:14:04.919Z"
   },
   {
    "duration": 567,
    "start_time": "2023-05-13T13:14:06.551Z"
   },
   {
    "duration": 17,
    "start_time": "2023-05-13T13:14:07.119Z"
   },
   {
    "duration": 13,
    "start_time": "2023-05-13T13:14:07.138Z"
   },
   {
    "duration": 40,
    "start_time": "2023-05-13T13:14:07.153Z"
   },
   {
    "duration": 33,
    "start_time": "2023-05-13T13:14:07.200Z"
   },
   {
    "duration": 18,
    "start_time": "2023-05-13T13:14:07.235Z"
   },
   {
    "duration": 32,
    "start_time": "2023-05-13T13:14:07.256Z"
   },
   {
    "duration": 61,
    "start_time": "2023-05-13T13:14:07.290Z"
   },
   {
    "duration": 57,
    "start_time": "2023-05-13T13:14:07.352Z"
   },
   {
    "duration": 41,
    "start_time": "2023-05-13T13:14:07.412Z"
   },
   {
    "duration": 628,
    "start_time": "2023-05-13T13:14:07.455Z"
   },
   {
    "duration": 608,
    "start_time": "2023-05-13T13:14:08.087Z"
   },
   {
    "duration": 693,
    "start_time": "2023-05-13T13:14:08.699Z"
   },
   {
    "duration": 182,
    "start_time": "2023-05-13T13:14:09.394Z"
   },
   {
    "duration": 65,
    "start_time": "2023-05-13T13:14:09.578Z"
   },
   {
    "duration": 111,
    "start_time": "2023-05-13T13:14:09.644Z"
   },
   {
    "duration": 4,
    "start_time": "2023-05-13T13:14:09.757Z"
   },
   {
    "duration": 71,
    "start_time": "2023-05-13T13:14:09.763Z"
   },
   {
    "duration": 20,
    "start_time": "2023-05-13T13:14:09.836Z"
   },
   {
    "duration": 59,
    "start_time": "2023-05-13T13:14:09.858Z"
   },
   {
    "duration": 33,
    "start_time": "2023-05-13T13:14:09.918Z"
   },
   {
    "duration": 69,
    "start_time": "2023-05-13T13:14:09.953Z"
   },
   {
    "duration": 282,
    "start_time": "2023-05-13T13:14:10.024Z"
   },
   {
    "duration": 0,
    "start_time": "2023-05-13T13:14:10.309Z"
   },
   {
    "duration": 1687,
    "start_time": "2023-05-13T13:15:12.196Z"
   },
   {
    "duration": 474,
    "start_time": "2023-05-13T13:15:13.894Z"
   },
   {
    "duration": 19,
    "start_time": "2023-05-13T13:15:14.371Z"
   },
   {
    "duration": 24,
    "start_time": "2023-05-13T13:15:14.407Z"
   },
   {
    "duration": 85,
    "start_time": "2023-05-13T13:15:14.433Z"
   },
   {
    "duration": 21,
    "start_time": "2023-05-13T13:15:14.520Z"
   },
   {
    "duration": 25,
    "start_time": "2023-05-13T13:15:14.543Z"
   },
   {
    "duration": 19,
    "start_time": "2023-05-13T13:15:14.569Z"
   },
   {
    "duration": 52,
    "start_time": "2023-05-13T13:15:14.598Z"
   },
   {
    "duration": 54,
    "start_time": "2023-05-13T13:15:14.653Z"
   },
   {
    "duration": 43,
    "start_time": "2023-05-13T13:15:14.710Z"
   },
   {
    "duration": 575,
    "start_time": "2023-05-13T13:15:14.755Z"
   },
   {
    "duration": 601,
    "start_time": "2023-05-13T13:15:15.332Z"
   },
   {
    "duration": 729,
    "start_time": "2023-05-13T13:15:15.936Z"
   },
   {
    "duration": 210,
    "start_time": "2023-05-13T13:15:16.667Z"
   },
   {
    "duration": 72,
    "start_time": "2023-05-13T13:15:16.883Z"
   },
   {
    "duration": 118,
    "start_time": "2023-05-13T13:15:16.957Z"
   },
   {
    "duration": 10,
    "start_time": "2023-05-13T13:15:17.079Z"
   },
   {
    "duration": 74,
    "start_time": "2023-05-13T13:15:17.091Z"
   },
   {
    "duration": 53,
    "start_time": "2023-05-13T13:15:17.167Z"
   },
   {
    "duration": 53,
    "start_time": "2023-05-13T13:15:17.222Z"
   },
   {
    "duration": 10,
    "start_time": "2023-05-13T13:15:17.283Z"
   },
   {
    "duration": 35,
    "start_time": "2023-05-13T13:15:17.294Z"
   },
   {
    "duration": 162,
    "start_time": "2023-05-13T13:15:17.331Z"
   },
   {
    "duration": 95,
    "start_time": "2023-05-13T13:15:17.496Z"
   },
   {
    "duration": 5,
    "start_time": "2023-05-13T13:19:15.862Z"
   },
   {
    "duration": 7,
    "start_time": "2023-05-13T13:35:54.106Z"
   },
   {
    "duration": 11,
    "start_time": "2023-05-13T14:16:01.980Z"
   },
   {
    "duration": 10,
    "start_time": "2023-05-13T14:16:35.399Z"
   },
   {
    "duration": 1573,
    "start_time": "2023-05-13T14:16:50.972Z"
   },
   {
    "duration": 424,
    "start_time": "2023-05-13T14:16:52.570Z"
   },
   {
    "duration": 16,
    "start_time": "2023-05-13T14:16:52.996Z"
   },
   {
    "duration": 18,
    "start_time": "2023-05-13T14:16:53.014Z"
   },
   {
    "duration": 19,
    "start_time": "2023-05-13T14:16:53.035Z"
   },
   {
    "duration": 29,
    "start_time": "2023-05-13T14:16:53.056Z"
   },
   {
    "duration": 23,
    "start_time": "2023-05-13T14:16:53.088Z"
   },
   {
    "duration": 17,
    "start_time": "2023-05-13T14:16:53.114Z"
   },
   {
    "duration": 66,
    "start_time": "2023-05-13T14:16:53.133Z"
   },
   {
    "duration": 42,
    "start_time": "2023-05-13T14:16:53.201Z"
   },
   {
    "duration": 58,
    "start_time": "2023-05-13T14:16:53.244Z"
   },
   {
    "duration": 523,
    "start_time": "2023-05-13T14:16:53.304Z"
   },
   {
    "duration": 514,
    "start_time": "2023-05-13T14:16:53.829Z"
   },
   {
    "duration": 608,
    "start_time": "2023-05-13T14:16:54.347Z"
   },
   {
    "duration": 180,
    "start_time": "2023-05-13T14:16:54.957Z"
   },
   {
    "duration": 66,
    "start_time": "2023-05-13T14:16:55.139Z"
   },
   {
    "duration": 97,
    "start_time": "2023-05-13T14:16:55.207Z"
   },
   {
    "duration": 5,
    "start_time": "2023-05-13T14:16:55.306Z"
   },
   {
    "duration": 16,
    "start_time": "2023-05-13T14:16:55.312Z"
   },
   {
    "duration": 13,
    "start_time": "2023-05-13T14:16:55.330Z"
   },
   {
    "duration": 58,
    "start_time": "2023-05-13T14:16:55.345Z"
   },
   {
    "duration": 8,
    "start_time": "2023-05-13T14:16:55.405Z"
   },
   {
    "duration": 29,
    "start_time": "2023-05-13T14:16:55.415Z"
   },
   {
    "duration": 338,
    "start_time": "2023-05-13T14:16:55.447Z"
   },
   {
    "duration": 97,
    "start_time": "2023-05-13T14:16:55.873Z"
   },
   {
    "duration": 21,
    "start_time": "2023-05-13T14:16:55.973Z"
   },
   {
    "duration": 30,
    "start_time": "2023-05-13T14:16:55.997Z"
   },
   {
    "duration": 157,
    "start_time": "2023-05-13T14:16:56.029Z"
   },
   {
    "duration": 19,
    "start_time": "2023-05-13T14:23:48.726Z"
   },
   {
    "duration": 1413,
    "start_time": "2023-05-13T14:23:58.225Z"
   },
   {
    "duration": 433,
    "start_time": "2023-05-13T14:23:59.641Z"
   },
   {
    "duration": 21,
    "start_time": "2023-05-13T14:24:00.076Z"
   },
   {
    "duration": 151,
    "start_time": "2023-05-13T14:24:00.102Z"
   },
   {
    "duration": 43,
    "start_time": "2023-05-13T14:24:00.256Z"
   },
   {
    "duration": 58,
    "start_time": "2023-05-13T14:24:00.301Z"
   },
   {
    "duration": 86,
    "start_time": "2023-05-13T14:24:00.361Z"
   },
   {
    "duration": 111,
    "start_time": "2023-05-13T14:24:00.450Z"
   },
   {
    "duration": 102,
    "start_time": "2023-05-13T14:24:00.563Z"
   },
   {
    "duration": 47,
    "start_time": "2023-05-13T14:24:00.669Z"
   },
   {
    "duration": 55,
    "start_time": "2023-05-13T14:24:00.718Z"
   },
   {
    "duration": 558,
    "start_time": "2023-05-13T14:24:00.775Z"
   },
   {
    "duration": 707,
    "start_time": "2023-05-13T14:24:01.336Z"
   },
   {
    "duration": 731,
    "start_time": "2023-05-13T14:24:02.045Z"
   },
   {
    "duration": 187,
    "start_time": "2023-05-13T14:24:02.779Z"
   },
   {
    "duration": 74,
    "start_time": "2023-05-13T14:24:02.970Z"
   },
   {
    "duration": 150,
    "start_time": "2023-05-13T14:24:03.046Z"
   },
   {
    "duration": 27,
    "start_time": "2023-05-13T14:24:03.198Z"
   },
   {
    "duration": 79,
    "start_time": "2023-05-13T14:24:03.228Z"
   },
   {
    "duration": 69,
    "start_time": "2023-05-13T14:24:03.310Z"
   },
   {
    "duration": 132,
    "start_time": "2023-05-13T14:24:03.382Z"
   },
   {
    "duration": 53,
    "start_time": "2023-05-13T14:24:03.517Z"
   },
   {
    "duration": 72,
    "start_time": "2023-05-13T14:24:03.573Z"
   },
   {
    "duration": 330,
    "start_time": "2023-05-13T14:24:03.647Z"
   },
   {
    "duration": 143,
    "start_time": "2023-05-13T14:24:03.981Z"
   },
   {
    "duration": 12,
    "start_time": "2023-05-13T14:24:04.173Z"
   },
   {
    "duration": 44,
    "start_time": "2023-05-13T14:24:04.188Z"
   },
   {
    "duration": 260,
    "start_time": "2023-05-13T14:24:04.238Z"
   },
   {
    "duration": 1477,
    "start_time": "2023-05-13T14:28:10.670Z"
   },
   {
    "duration": 448,
    "start_time": "2023-05-13T14:28:12.149Z"
   },
   {
    "duration": 17,
    "start_time": "2023-05-13T14:28:12.600Z"
   },
   {
    "duration": 58,
    "start_time": "2023-05-13T14:28:12.619Z"
   },
   {
    "duration": 47,
    "start_time": "2023-05-13T14:28:12.679Z"
   },
   {
    "duration": 32,
    "start_time": "2023-05-13T14:28:12.728Z"
   },
   {
    "duration": 16,
    "start_time": "2023-05-13T14:28:12.762Z"
   },
   {
    "duration": 27,
    "start_time": "2023-05-13T14:28:12.780Z"
   },
   {
    "duration": 72,
    "start_time": "2023-05-13T14:28:12.809Z"
   },
   {
    "duration": 42,
    "start_time": "2023-05-13T14:28:12.884Z"
   },
   {
    "duration": 63,
    "start_time": "2023-05-13T14:28:12.928Z"
   },
   {
    "duration": 542,
    "start_time": "2023-05-13T14:28:12.993Z"
   },
   {
    "duration": 575,
    "start_time": "2023-05-13T14:28:13.537Z"
   },
   {
    "duration": 671,
    "start_time": "2023-05-13T14:28:14.115Z"
   },
   {
    "duration": 183,
    "start_time": "2023-05-13T14:28:14.789Z"
   },
   {
    "duration": 67,
    "start_time": "2023-05-13T14:28:14.974Z"
   },
   {
    "duration": 115,
    "start_time": "2023-05-13T14:28:15.043Z"
   },
   {
    "duration": 14,
    "start_time": "2023-05-13T14:28:15.159Z"
   },
   {
    "duration": 32,
    "start_time": "2023-05-13T14:28:15.175Z"
   },
   {
    "duration": 16,
    "start_time": "2023-05-13T14:28:15.209Z"
   },
   {
    "duration": 55,
    "start_time": "2023-05-13T14:28:15.227Z"
   },
   {
    "duration": 11,
    "start_time": "2023-05-13T14:28:15.284Z"
   },
   {
    "duration": 8,
    "start_time": "2023-05-13T14:28:15.298Z"
   },
   {
    "duration": 165,
    "start_time": "2023-05-13T14:28:15.308Z"
   },
   {
    "duration": 10,
    "start_time": "2023-05-13T14:28:15.476Z"
   },
   {
    "duration": 17,
    "start_time": "2023-05-13T14:28:15.572Z"
   },
   {
    "duration": 4,
    "start_time": "2023-05-13T14:28:15.671Z"
   },
   {
    "duration": 7,
    "start_time": "2023-05-13T14:28:15.678Z"
   },
   {
    "duration": 4802,
    "start_time": "2023-05-13T14:28:15.687Z"
   },
   {
    "duration": 1429,
    "start_time": "2023-05-13T14:44:43.021Z"
   },
   {
    "duration": 429,
    "start_time": "2023-05-13T14:44:44.454Z"
   },
   {
    "duration": 15,
    "start_time": "2023-05-13T14:44:44.885Z"
   },
   {
    "duration": 45,
    "start_time": "2023-05-13T14:44:44.902Z"
   },
   {
    "duration": 13,
    "start_time": "2023-05-13T14:44:44.951Z"
   },
   {
    "duration": 20,
    "start_time": "2023-05-13T14:44:44.966Z"
   },
   {
    "duration": 16,
    "start_time": "2023-05-13T14:44:44.990Z"
   },
   {
    "duration": 42,
    "start_time": "2023-05-13T14:44:45.008Z"
   },
   {
    "duration": 47,
    "start_time": "2023-05-13T14:44:45.053Z"
   },
   {
    "duration": 54,
    "start_time": "2023-05-13T14:44:45.102Z"
   },
   {
    "duration": 44,
    "start_time": "2023-05-13T14:44:45.172Z"
   },
   {
    "duration": 535,
    "start_time": "2023-05-13T14:44:45.218Z"
   },
   {
    "duration": 634,
    "start_time": "2023-05-13T14:44:45.756Z"
   },
   {
    "duration": 670,
    "start_time": "2023-05-13T14:44:46.395Z"
   },
   {
    "duration": 181,
    "start_time": "2023-05-13T14:44:47.067Z"
   },
   {
    "duration": 69,
    "start_time": "2023-05-13T14:44:47.250Z"
   },
   {
    "duration": 102,
    "start_time": "2023-05-13T14:44:47.321Z"
   },
   {
    "duration": 5,
    "start_time": "2023-05-13T14:44:47.426Z"
   },
   {
    "duration": 23,
    "start_time": "2023-05-13T14:44:47.435Z"
   },
   {
    "duration": 14,
    "start_time": "2023-05-13T14:44:47.460Z"
   },
   {
    "duration": 298,
    "start_time": "2023-05-13T14:44:47.476Z"
   },
   {
    "duration": 95,
    "start_time": "2023-05-13T14:44:47.779Z"
   },
   {
    "duration": 97,
    "start_time": "2023-05-13T14:44:47.879Z"
   },
   {
    "duration": 15,
    "start_time": "2023-05-13T14:44:47.978Z"
   },
   {
    "duration": 11,
    "start_time": "2023-05-13T14:44:47.995Z"
   },
   {
    "duration": 122,
    "start_time": "2023-05-13T14:44:48.008Z"
   },
   {
    "duration": 1369,
    "start_time": "2023-05-13T16:40:57.128Z"
   },
   {
    "duration": 417,
    "start_time": "2023-05-13T16:40:58.500Z"
   },
   {
    "duration": 17,
    "start_time": "2023-05-13T16:40:58.919Z"
   },
   {
    "duration": 15,
    "start_time": "2023-05-13T16:40:58.938Z"
   },
   {
    "duration": 18,
    "start_time": "2023-05-13T16:40:58.971Z"
   },
   {
    "duration": 25,
    "start_time": "2023-05-13T16:40:58.992Z"
   },
   {
    "duration": 15,
    "start_time": "2023-05-13T16:40:59.019Z"
   },
   {
    "duration": 28,
    "start_time": "2023-05-13T16:40:59.035Z"
   },
   {
    "duration": 43,
    "start_time": "2023-05-13T16:40:59.071Z"
   },
   {
    "duration": 56,
    "start_time": "2023-05-13T16:40:59.116Z"
   },
   {
    "duration": 37,
    "start_time": "2023-05-13T16:40:59.174Z"
   },
   {
    "duration": 530,
    "start_time": "2023-05-13T16:40:59.213Z"
   },
   {
    "duration": 585,
    "start_time": "2023-05-13T16:40:59.745Z"
   },
   {
    "duration": 649,
    "start_time": "2023-05-13T16:41:00.335Z"
   },
   {
    "duration": 169,
    "start_time": "2023-05-13T16:41:00.986Z"
   },
   {
    "duration": 73,
    "start_time": "2023-05-13T16:41:01.157Z"
   },
   {
    "duration": 97,
    "start_time": "2023-05-13T16:41:01.232Z"
   },
   {
    "duration": 5,
    "start_time": "2023-05-13T16:41:01.330Z"
   },
   {
    "duration": 72,
    "start_time": "2023-05-13T16:41:01.337Z"
   },
   {
    "duration": 23,
    "start_time": "2023-05-13T16:41:01.411Z"
   },
   {
    "duration": 250,
    "start_time": "2023-05-13T16:41:01.436Z"
   },
   {
    "duration": 7,
    "start_time": "2023-05-13T16:41:01.772Z"
   },
   {
    "duration": 129,
    "start_time": "2023-05-13T16:41:01.782Z"
   },
   {
    "duration": 132,
    "start_time": "2023-05-13T16:41:01.913Z"
   },
   {
    "duration": 0,
    "start_time": "2023-05-13T16:41:02.048Z"
   },
   {
    "duration": 0,
    "start_time": "2023-05-13T16:41:02.050Z"
   },
   {
    "duration": 0,
    "start_time": "2023-05-13T16:41:02.051Z"
   },
   {
    "duration": 1513,
    "start_time": "2023-05-13T16:43:25.409Z"
   },
   {
    "duration": 395,
    "start_time": "2023-05-13T16:43:26.924Z"
   },
   {
    "duration": 15,
    "start_time": "2023-05-13T16:43:27.321Z"
   },
   {
    "duration": 17,
    "start_time": "2023-05-13T16:43:27.338Z"
   },
   {
    "duration": 44,
    "start_time": "2023-05-13T16:43:27.357Z"
   },
   {
    "duration": 41,
    "start_time": "2023-05-13T16:43:27.403Z"
   },
   {
    "duration": 31,
    "start_time": "2023-05-13T16:43:27.445Z"
   },
   {
    "duration": 41,
    "start_time": "2023-05-13T16:43:27.478Z"
   },
   {
    "duration": 52,
    "start_time": "2023-05-13T16:43:27.521Z"
   },
   {
    "duration": 38,
    "start_time": "2023-05-13T16:43:27.576Z"
   },
   {
    "duration": 54,
    "start_time": "2023-05-13T16:43:27.617Z"
   },
   {
    "duration": 608,
    "start_time": "2023-05-13T16:43:27.673Z"
   },
   {
    "duration": 534,
    "start_time": "2023-05-13T16:43:28.283Z"
   },
   {
    "duration": 629,
    "start_time": "2023-05-13T16:43:28.818Z"
   },
   {
    "duration": 159,
    "start_time": "2023-05-13T16:43:29.449Z"
   },
   {
    "duration": 63,
    "start_time": "2023-05-13T16:43:29.610Z"
   },
   {
    "duration": 77,
    "start_time": "2023-05-13T16:43:29.675Z"
   },
   {
    "duration": 4,
    "start_time": "2023-05-13T16:43:29.754Z"
   },
   {
    "duration": 14,
    "start_time": "2023-05-13T16:43:29.772Z"
   },
   {
    "duration": 13,
    "start_time": "2023-05-13T16:43:29.788Z"
   },
   {
    "duration": 468,
    "start_time": "2023-05-13T16:43:29.802Z"
   },
   {
    "duration": 9,
    "start_time": "2023-05-13T16:43:30.272Z"
   },
   {
    "duration": 127,
    "start_time": "2023-05-13T16:43:30.370Z"
   },
   {
    "duration": 35,
    "start_time": "2023-05-13T16:43:30.499Z"
   },
   {
    "duration": 44,
    "start_time": "2023-05-13T16:43:30.537Z"
   },
   {
    "duration": 85,
    "start_time": "2023-05-13T16:43:30.584Z"
   },
   {
    "duration": 164,
    "start_time": "2023-05-13T16:43:30.672Z"
   },
   {
    "duration": 1560,
    "start_time": "2023-05-13T16:44:33.275Z"
   },
   {
    "duration": 431,
    "start_time": "2023-05-13T16:44:34.838Z"
   },
   {
    "duration": 17,
    "start_time": "2023-05-13T16:44:35.271Z"
   },
   {
    "duration": 25,
    "start_time": "2023-05-13T16:44:35.290Z"
   },
   {
    "duration": 16,
    "start_time": "2023-05-13T16:44:35.318Z"
   },
   {
    "duration": 39,
    "start_time": "2023-05-13T16:44:35.336Z"
   },
   {
    "duration": 17,
    "start_time": "2023-05-13T16:44:35.377Z"
   },
   {
    "duration": 16,
    "start_time": "2023-05-13T16:44:35.396Z"
   },
   {
    "duration": 78,
    "start_time": "2023-05-13T16:44:35.414Z"
   },
   {
    "duration": 43,
    "start_time": "2023-05-13T16:44:35.494Z"
   },
   {
    "duration": 69,
    "start_time": "2023-05-13T16:44:35.539Z"
   },
   {
    "duration": 588,
    "start_time": "2023-05-13T16:44:35.610Z"
   },
   {
    "duration": 596,
    "start_time": "2023-05-13T16:44:36.200Z"
   },
   {
    "duration": 655,
    "start_time": "2023-05-13T16:44:36.800Z"
   },
   {
    "duration": 176,
    "start_time": "2023-05-13T16:44:37.457Z"
   },
   {
    "duration": 95,
    "start_time": "2023-05-13T16:44:37.635Z"
   },
   {
    "duration": 111,
    "start_time": "2023-05-13T16:44:37.732Z"
   },
   {
    "duration": 5,
    "start_time": "2023-05-13T16:44:37.846Z"
   },
   {
    "duration": 27,
    "start_time": "2023-05-13T16:44:37.853Z"
   },
   {
    "duration": 8,
    "start_time": "2023-05-13T16:44:37.882Z"
   },
   {
    "duration": 288,
    "start_time": "2023-05-13T16:44:37.892Z"
   },
   {
    "duration": 90,
    "start_time": "2023-05-13T16:44:38.182Z"
   },
   {
    "duration": 7,
    "start_time": "2023-05-13T16:44:38.275Z"
   },
   {
    "duration": 94,
    "start_time": "2023-05-13T16:44:38.284Z"
   },
   {
    "duration": 4,
    "start_time": "2023-05-13T16:44:38.380Z"
   },
   {
    "duration": 11,
    "start_time": "2023-05-13T16:44:38.386Z"
   },
   {
    "duration": 156,
    "start_time": "2023-05-13T16:44:38.399Z"
   },
   {
    "duration": 1448,
    "start_time": "2023-05-13T16:45:52.482Z"
   },
   {
    "duration": 406,
    "start_time": "2023-05-13T16:45:53.933Z"
   },
   {
    "duration": 16,
    "start_time": "2023-05-13T16:45:54.341Z"
   },
   {
    "duration": 19,
    "start_time": "2023-05-13T16:45:54.371Z"
   },
   {
    "duration": 18,
    "start_time": "2023-05-13T16:45:54.391Z"
   },
   {
    "duration": 23,
    "start_time": "2023-05-13T16:45:54.411Z"
   },
   {
    "duration": 36,
    "start_time": "2023-05-13T16:45:54.436Z"
   },
   {
    "duration": 18,
    "start_time": "2023-05-13T16:45:54.474Z"
   },
   {
    "duration": 81,
    "start_time": "2023-05-13T16:45:54.495Z"
   },
   {
    "duration": 41,
    "start_time": "2023-05-13T16:45:54.580Z"
   },
   {
    "duration": 59,
    "start_time": "2023-05-13T16:45:54.624Z"
   },
   {
    "duration": 534,
    "start_time": "2023-05-13T16:45:54.685Z"
   },
   {
    "duration": 560,
    "start_time": "2023-05-13T16:45:55.222Z"
   },
   {
    "duration": 766,
    "start_time": "2023-05-13T16:45:55.785Z"
   },
   {
    "duration": 164,
    "start_time": "2023-05-13T16:45:56.552Z"
   },
   {
    "duration": 87,
    "start_time": "2023-05-13T16:45:56.718Z"
   },
   {
    "duration": 132,
    "start_time": "2023-05-13T16:45:56.807Z"
   },
   {
    "duration": 5,
    "start_time": "2023-05-13T16:45:56.941Z"
   },
   {
    "duration": 27,
    "start_time": "2023-05-13T16:45:56.948Z"
   },
   {
    "duration": 29,
    "start_time": "2023-05-13T16:45:56.977Z"
   },
   {
    "duration": 372,
    "start_time": "2023-05-13T16:45:57.008Z"
   },
   {
    "duration": 90,
    "start_time": "2023-05-13T16:45:57.383Z"
   },
   {
    "duration": 109,
    "start_time": "2023-05-13T16:45:57.476Z"
   },
   {
    "duration": 15,
    "start_time": "2023-05-13T16:45:57.587Z"
   },
   {
    "duration": 9,
    "start_time": "2023-05-13T16:45:57.604Z"
   },
   {
    "duration": 22,
    "start_time": "2023-05-13T16:45:57.615Z"
   },
   {
    "duration": 116,
    "start_time": "2023-05-13T16:45:57.639Z"
   },
   {
    "duration": 1442,
    "start_time": "2023-05-13T16:53:31.800Z"
   },
   {
    "duration": 425,
    "start_time": "2023-05-13T16:53:33.244Z"
   },
   {
    "duration": 17,
    "start_time": "2023-05-13T16:53:33.672Z"
   },
   {
    "duration": 30,
    "start_time": "2023-05-13T16:53:33.692Z"
   },
   {
    "duration": 19,
    "start_time": "2023-05-13T16:53:33.724Z"
   },
   {
    "duration": 43,
    "start_time": "2023-05-13T16:53:33.746Z"
   },
   {
    "duration": 21,
    "start_time": "2023-05-13T16:53:33.791Z"
   },
   {
    "duration": 20,
    "start_time": "2023-05-13T16:53:33.815Z"
   },
   {
    "duration": 82,
    "start_time": "2023-05-13T16:53:33.837Z"
   },
   {
    "duration": 52,
    "start_time": "2023-05-13T16:53:33.922Z"
   },
   {
    "duration": 42,
    "start_time": "2023-05-13T16:53:33.976Z"
   },
   {
    "duration": 589,
    "start_time": "2023-05-13T16:53:34.020Z"
   },
   {
    "duration": 548,
    "start_time": "2023-05-13T16:53:34.611Z"
   },
   {
    "duration": 610,
    "start_time": "2023-05-13T16:53:35.161Z"
   },
   {
    "duration": 208,
    "start_time": "2023-05-13T16:53:35.773Z"
   },
   {
    "duration": 74,
    "start_time": "2023-05-13T16:53:35.984Z"
   },
   {
    "duration": 121,
    "start_time": "2023-05-13T16:53:36.072Z"
   },
   {
    "duration": 5,
    "start_time": "2023-05-13T16:53:36.195Z"
   },
   {
    "duration": 36,
    "start_time": "2023-05-13T16:53:36.202Z"
   },
   {
    "duration": 20,
    "start_time": "2023-05-13T16:53:36.240Z"
   },
   {
    "duration": 308,
    "start_time": "2023-05-13T16:53:36.262Z"
   },
   {
    "duration": 95,
    "start_time": "2023-05-13T16:53:36.576Z"
   },
   {
    "duration": 19,
    "start_time": "2023-05-13T16:53:36.673Z"
   },
   {
    "duration": 11,
    "start_time": "2023-05-13T16:53:36.694Z"
   },
   {
    "duration": 16,
    "start_time": "2023-05-13T16:53:36.707Z"
   },
   {
    "duration": 15,
    "start_time": "2023-05-13T16:53:36.725Z"
   },
   {
    "duration": 1742,
    "start_time": "2023-05-13T16:53:36.742Z"
   },
   {
    "duration": 1551,
    "start_time": "2023-05-13T16:54:17.937Z"
   },
   {
    "duration": 435,
    "start_time": "2023-05-13T16:54:19.490Z"
   },
   {
    "duration": 20,
    "start_time": "2023-05-13T16:54:19.927Z"
   },
   {
    "duration": 32,
    "start_time": "2023-05-13T16:54:19.950Z"
   },
   {
    "duration": 22,
    "start_time": "2023-05-13T16:54:19.985Z"
   },
   {
    "duration": 55,
    "start_time": "2023-05-13T16:54:20.009Z"
   },
   {
    "duration": 22,
    "start_time": "2023-05-13T16:54:20.066Z"
   },
   {
    "duration": 41,
    "start_time": "2023-05-13T16:54:20.090Z"
   },
   {
    "duration": 62,
    "start_time": "2023-05-13T16:54:20.133Z"
   },
   {
    "duration": 56,
    "start_time": "2023-05-13T16:54:20.199Z"
   },
   {
    "duration": 55,
    "start_time": "2023-05-13T16:54:20.273Z"
   },
   {
    "duration": 698,
    "start_time": "2023-05-13T16:54:20.330Z"
   },
   {
    "duration": 653,
    "start_time": "2023-05-13T16:54:21.030Z"
   },
   {
    "duration": 702,
    "start_time": "2023-05-13T16:54:21.686Z"
   },
   {
    "duration": 190,
    "start_time": "2023-05-13T16:54:22.391Z"
   },
   {
    "duration": 83,
    "start_time": "2023-05-13T16:54:22.588Z"
   },
   {
    "duration": 114,
    "start_time": "2023-05-13T16:54:22.674Z"
   },
   {
    "duration": 6,
    "start_time": "2023-05-13T16:54:22.791Z"
   },
   {
    "duration": 26,
    "start_time": "2023-05-13T16:54:22.799Z"
   },
   {
    "duration": 38,
    "start_time": "2023-05-13T16:54:22.827Z"
   },
   {
    "duration": 407,
    "start_time": "2023-05-13T16:54:22.867Z"
   },
   {
    "duration": 97,
    "start_time": "2023-05-13T16:54:23.277Z"
   },
   {
    "duration": 107,
    "start_time": "2023-05-13T16:54:23.376Z"
   },
   {
    "duration": 12,
    "start_time": "2023-05-13T16:54:23.486Z"
   },
   {
    "duration": 11,
    "start_time": "2023-05-13T16:54:23.500Z"
   },
   {
    "duration": 13,
    "start_time": "2023-05-13T16:54:23.514Z"
   },
   {
    "duration": 4820,
    "start_time": "2023-05-13T16:54:23.529Z"
   },
   {
    "duration": 1476,
    "start_time": "2023-05-13T16:58:11.630Z"
   },
   {
    "duration": 431,
    "start_time": "2023-05-13T16:58:13.109Z"
   },
   {
    "duration": 15,
    "start_time": "2023-05-13T16:58:13.541Z"
   },
   {
    "duration": 26,
    "start_time": "2023-05-13T16:58:13.558Z"
   },
   {
    "duration": 18,
    "start_time": "2023-05-13T16:58:13.586Z"
   },
   {
    "duration": 21,
    "start_time": "2023-05-13T16:58:13.606Z"
   },
   {
    "duration": 27,
    "start_time": "2023-05-13T16:58:13.629Z"
   },
   {
    "duration": 32,
    "start_time": "2023-05-13T16:58:13.658Z"
   },
   {
    "duration": 56,
    "start_time": "2023-05-13T16:58:13.692Z"
   },
   {
    "duration": 52,
    "start_time": "2023-05-13T16:58:13.751Z"
   },
   {
    "duration": 40,
    "start_time": "2023-05-13T16:58:13.805Z"
   },
   {
    "duration": 559,
    "start_time": "2023-05-13T16:58:13.847Z"
   },
   {
    "duration": 599,
    "start_time": "2023-05-13T16:58:14.408Z"
   },
   {
    "duration": 696,
    "start_time": "2023-05-13T16:58:15.009Z"
   },
   {
    "duration": 173,
    "start_time": "2023-05-13T16:58:15.707Z"
   },
   {
    "duration": 58,
    "start_time": "2023-05-13T16:58:15.883Z"
   },
   {
    "duration": 113,
    "start_time": "2023-05-13T16:58:15.944Z"
   },
   {
    "duration": 8,
    "start_time": "2023-05-13T16:58:16.062Z"
   },
   {
    "duration": 58,
    "start_time": "2023-05-13T16:58:16.072Z"
   },
   {
    "duration": 16,
    "start_time": "2023-05-13T16:58:16.132Z"
   },
   {
    "duration": 433,
    "start_time": "2023-05-13T16:58:16.150Z"
   },
   {
    "duration": 11,
    "start_time": "2023-05-13T16:58:16.585Z"
   },
   {
    "duration": 105,
    "start_time": "2023-05-13T16:58:16.672Z"
   },
   {
    "duration": 22,
    "start_time": "2023-05-13T16:58:16.782Z"
   },
   {
    "duration": 23,
    "start_time": "2023-05-13T16:58:16.806Z"
   },
   {
    "duration": 15,
    "start_time": "2023-05-13T16:58:16.831Z"
   },
   {
    "duration": 4858,
    "start_time": "2023-05-13T16:58:16.848Z"
   },
   {
    "duration": 5,
    "start_time": "2023-05-13T16:58:21.709Z"
   },
   {
    "duration": 6,
    "start_time": "2023-05-13T17:00:49.742Z"
   },
   {
    "duration": 8,
    "start_time": "2023-05-13T17:02:22.272Z"
   },
   {
    "duration": 7,
    "start_time": "2023-05-13T17:05:15.650Z"
   },
   {
    "duration": 6,
    "start_time": "2023-05-13T18:26:24.934Z"
   },
   {
    "duration": 5,
    "start_time": "2023-05-13T18:27:41.294Z"
   },
   {
    "duration": 1380,
    "start_time": "2023-05-13T18:40:53.617Z"
   },
   {
    "duration": 398,
    "start_time": "2023-05-13T18:40:54.999Z"
   },
   {
    "duration": 15,
    "start_time": "2023-05-13T18:40:55.399Z"
   },
   {
    "duration": 18,
    "start_time": "2023-05-13T18:40:55.418Z"
   },
   {
    "duration": 53,
    "start_time": "2023-05-13T18:40:55.438Z"
   },
   {
    "duration": 71,
    "start_time": "2023-05-13T18:40:55.493Z"
   },
   {
    "duration": 19,
    "start_time": "2023-05-13T18:40:55.566Z"
   },
   {
    "duration": 56,
    "start_time": "2023-05-13T18:40:55.587Z"
   },
   {
    "duration": 54,
    "start_time": "2023-05-13T18:40:55.645Z"
   },
   {
    "duration": 45,
    "start_time": "2023-05-13T18:40:55.703Z"
   },
   {
    "duration": 70,
    "start_time": "2023-05-13T18:40:55.750Z"
   },
   {
    "duration": 604,
    "start_time": "2023-05-13T18:40:55.822Z"
   },
   {
    "duration": 528,
    "start_time": "2023-05-13T18:40:56.427Z"
   },
   {
    "duration": 585,
    "start_time": "2023-05-13T18:40:56.957Z"
   },
   {
    "duration": 169,
    "start_time": "2023-05-13T18:40:57.544Z"
   },
   {
    "duration": 67,
    "start_time": "2023-05-13T18:40:57.714Z"
   },
   {
    "duration": 97,
    "start_time": "2023-05-13T18:40:57.783Z"
   },
   {
    "duration": 6,
    "start_time": "2023-05-13T18:40:57.881Z"
   },
   {
    "duration": 26,
    "start_time": "2023-05-13T18:40:57.889Z"
   },
   {
    "duration": 31,
    "start_time": "2023-05-13T18:40:57.917Z"
   },
   {
    "duration": 231,
    "start_time": "2023-05-13T18:40:57.950Z"
   },
   {
    "duration": 12,
    "start_time": "2023-05-13T18:40:58.183Z"
   },
   {
    "duration": 176,
    "start_time": "2023-05-13T18:40:58.197Z"
   },
   {
    "duration": 29,
    "start_time": "2023-05-13T18:40:58.375Z"
   },
   {
    "duration": 9,
    "start_time": "2023-05-13T18:40:58.406Z"
   },
   {
    "duration": 13,
    "start_time": "2023-05-13T18:40:58.416Z"
   },
   {
    "duration": 4824,
    "start_time": "2023-05-13T18:40:58.431Z"
   },
   {
    "duration": 5,
    "start_time": "2023-05-13T18:41:03.258Z"
   },
   {
    "duration": 120,
    "start_time": "2023-05-13T18:43:02.320Z"
   },
   {
    "duration": 1484,
    "start_time": "2023-05-13T18:43:43.205Z"
   },
   {
    "duration": 410,
    "start_time": "2023-05-13T18:43:44.691Z"
   },
   {
    "duration": 14,
    "start_time": "2023-05-13T18:43:45.103Z"
   },
   {
    "duration": 30,
    "start_time": "2023-05-13T18:43:45.119Z"
   },
   {
    "duration": 26,
    "start_time": "2023-05-13T18:43:45.152Z"
   },
   {
    "duration": 25,
    "start_time": "2023-05-13T18:43:45.187Z"
   },
   {
    "duration": 15,
    "start_time": "2023-05-13T18:43:45.214Z"
   },
   {
    "duration": 14,
    "start_time": "2023-05-13T18:43:45.232Z"
   },
   {
    "duration": 59,
    "start_time": "2023-05-13T18:43:45.247Z"
   },
   {
    "duration": 39,
    "start_time": "2023-05-13T18:43:45.308Z"
   },
   {
    "duration": 62,
    "start_time": "2023-05-13T18:43:45.349Z"
   },
   {
    "duration": 554,
    "start_time": "2023-05-13T18:43:45.414Z"
   },
   {
    "duration": 611,
    "start_time": "2023-05-13T18:43:45.971Z"
   },
   {
    "duration": 610,
    "start_time": "2023-05-13T18:43:46.590Z"
   },
   {
    "duration": 163,
    "start_time": "2023-05-13T18:43:47.202Z"
   },
   {
    "duration": 55,
    "start_time": "2023-05-13T18:43:47.367Z"
   },
   {
    "duration": 101,
    "start_time": "2023-05-13T18:43:47.424Z"
   },
   {
    "duration": 4,
    "start_time": "2023-05-13T18:43:47.527Z"
   },
   {
    "duration": 14,
    "start_time": "2023-05-13T18:43:47.533Z"
   },
   {
    "duration": 654,
    "start_time": "2023-05-13T18:43:47.549Z"
   },
   {
    "duration": 5,
    "start_time": "2023-05-13T18:43:48.205Z"
   },
   {
    "duration": 275,
    "start_time": "2023-05-13T18:43:48.213Z"
   },
   {
    "duration": 7,
    "start_time": "2023-05-13T18:43:48.490Z"
   },
   {
    "duration": 25,
    "start_time": "2023-05-13T18:43:48.570Z"
   },
   {
    "duration": 109,
    "start_time": "2023-05-13T18:43:48.597Z"
   },
   {
    "duration": 4,
    "start_time": "2023-05-13T18:43:48.708Z"
   },
   {
    "duration": 10,
    "start_time": "2023-05-13T18:43:48.713Z"
   },
   {
    "duration": 4573,
    "start_time": "2023-05-13T18:43:48.726Z"
   },
   {
    "duration": 5,
    "start_time": "2023-05-13T18:43:53.301Z"
   },
   {
    "duration": 918,
    "start_time": "2023-05-13T18:44:09.088Z"
   },
   {
    "duration": 1026,
    "start_time": "2023-05-13T18:45:29.421Z"
   },
   {
    "duration": 1090,
    "start_time": "2023-05-13T18:45:44.118Z"
   },
   {
    "duration": 1009,
    "start_time": "2023-05-13T18:48:29.204Z"
   },
   {
    "duration": 1469,
    "start_time": "2023-05-13T18:49:08.135Z"
   },
   {
    "duration": 405,
    "start_time": "2023-05-13T18:49:09.607Z"
   },
   {
    "duration": 15,
    "start_time": "2023-05-13T18:49:10.014Z"
   },
   {
    "duration": 28,
    "start_time": "2023-05-13T18:49:10.031Z"
   },
   {
    "duration": 39,
    "start_time": "2023-05-13T18:49:10.061Z"
   },
   {
    "duration": 25,
    "start_time": "2023-05-13T18:49:10.102Z"
   },
   {
    "duration": 22,
    "start_time": "2023-05-13T18:49:10.129Z"
   },
   {
    "duration": 24,
    "start_time": "2023-05-13T18:49:10.153Z"
   },
   {
    "duration": 45,
    "start_time": "2023-05-13T18:49:10.179Z"
   },
   {
    "duration": 63,
    "start_time": "2023-05-13T18:49:10.227Z"
   },
   {
    "duration": 46,
    "start_time": "2023-05-13T18:49:10.292Z"
   },
   {
    "duration": 590,
    "start_time": "2023-05-13T18:49:10.340Z"
   },
   {
    "duration": 594,
    "start_time": "2023-05-13T18:49:10.932Z"
   },
   {
    "duration": 671,
    "start_time": "2023-05-13T18:49:11.528Z"
   },
   {
    "duration": 172,
    "start_time": "2023-05-13T18:49:12.201Z"
   },
   {
    "duration": 73,
    "start_time": "2023-05-13T18:49:12.376Z"
   },
   {
    "duration": 57,
    "start_time": "2023-05-13T18:49:12.451Z"
   },
   {
    "duration": 0,
    "start_time": "2023-05-13T18:49:12.510Z"
   },
   {
    "duration": 0,
    "start_time": "2023-05-13T18:49:12.512Z"
   },
   {
    "duration": 0,
    "start_time": "2023-05-13T18:49:12.513Z"
   },
   {
    "duration": 0,
    "start_time": "2023-05-13T18:49:12.514Z"
   },
   {
    "duration": 0,
    "start_time": "2023-05-13T18:49:12.516Z"
   },
   {
    "duration": 0,
    "start_time": "2023-05-13T18:49:12.517Z"
   },
   {
    "duration": 0,
    "start_time": "2023-05-13T18:49:12.519Z"
   },
   {
    "duration": 0,
    "start_time": "2023-05-13T18:49:12.520Z"
   },
   {
    "duration": 0,
    "start_time": "2023-05-13T18:49:12.522Z"
   },
   {
    "duration": 0,
    "start_time": "2023-05-13T18:49:12.524Z"
   },
   {
    "duration": 0,
    "start_time": "2023-05-13T18:49:12.525Z"
   },
   {
    "duration": 0,
    "start_time": "2023-05-13T18:49:12.527Z"
   },
   {
    "duration": 1689,
    "start_time": "2023-05-13T18:49:29.990Z"
   },
   {
    "duration": 473,
    "start_time": "2023-05-13T18:49:31.684Z"
   },
   {
    "duration": 31,
    "start_time": "2023-05-13T18:49:32.159Z"
   },
   {
    "duration": 36,
    "start_time": "2023-05-13T18:49:32.192Z"
   },
   {
    "duration": 24,
    "start_time": "2023-05-13T18:49:32.233Z"
   },
   {
    "duration": 70,
    "start_time": "2023-05-13T18:49:32.260Z"
   },
   {
    "duration": 20,
    "start_time": "2023-05-13T18:49:32.333Z"
   },
   {
    "duration": 19,
    "start_time": "2023-05-13T18:49:32.379Z"
   },
   {
    "duration": 58,
    "start_time": "2023-05-13T18:49:32.400Z"
   },
   {
    "duration": 53,
    "start_time": "2023-05-13T18:49:32.460Z"
   },
   {
    "duration": 71,
    "start_time": "2023-05-13T18:49:32.515Z"
   },
   {
    "duration": 615,
    "start_time": "2023-05-13T18:49:32.588Z"
   },
   {
    "duration": 587,
    "start_time": "2023-05-13T18:49:33.206Z"
   },
   {
    "duration": 670,
    "start_time": "2023-05-13T18:49:33.798Z"
   },
   {
    "duration": 181,
    "start_time": "2023-05-13T18:49:34.474Z"
   },
   {
    "duration": 75,
    "start_time": "2023-05-13T18:49:34.657Z"
   },
   {
    "duration": 106,
    "start_time": "2023-05-13T18:49:34.734Z"
   },
   {
    "duration": 6,
    "start_time": "2023-05-13T18:49:34.843Z"
   },
   {
    "duration": 41,
    "start_time": "2023-05-13T18:49:34.851Z"
   },
   {
    "duration": 1129,
    "start_time": "2023-05-13T18:49:34.895Z"
   },
   {
    "duration": 8,
    "start_time": "2023-05-13T18:49:36.027Z"
   },
   {
    "duration": 335,
    "start_time": "2023-05-13T18:49:36.038Z"
   },
   {
    "duration": 15,
    "start_time": "2023-05-13T18:49:36.376Z"
   },
   {
    "duration": 118,
    "start_time": "2023-05-13T18:49:36.398Z"
   },
   {
    "duration": 30,
    "start_time": "2023-05-13T18:49:36.519Z"
   },
   {
    "duration": 11,
    "start_time": "2023-05-13T18:49:36.553Z"
   },
   {
    "duration": 34,
    "start_time": "2023-05-13T18:49:36.566Z"
   },
   {
    "duration": 5097,
    "start_time": "2023-05-13T18:49:36.603Z"
   },
   {
    "duration": 6,
    "start_time": "2023-05-13T18:49:41.702Z"
   },
   {
    "duration": 1559,
    "start_time": "2023-05-13T18:54:47.132Z"
   },
   {
    "duration": 439,
    "start_time": "2023-05-13T18:54:48.698Z"
   },
   {
    "duration": 15,
    "start_time": "2023-05-13T18:54:49.139Z"
   },
   {
    "duration": 32,
    "start_time": "2023-05-13T18:54:49.156Z"
   },
   {
    "duration": 27,
    "start_time": "2023-05-13T18:54:49.192Z"
   },
   {
    "duration": 32,
    "start_time": "2023-05-13T18:54:49.221Z"
   },
   {
    "duration": 17,
    "start_time": "2023-05-13T18:54:49.254Z"
   },
   {
    "duration": 19,
    "start_time": "2023-05-13T18:54:49.273Z"
   },
   {
    "duration": 57,
    "start_time": "2023-05-13T18:54:49.294Z"
   },
   {
    "duration": 48,
    "start_time": "2023-05-13T18:54:49.353Z"
   },
   {
    "duration": 37,
    "start_time": "2023-05-13T18:54:49.403Z"
   },
   {
    "duration": 579,
    "start_time": "2023-05-13T18:54:49.442Z"
   },
   {
    "duration": 605,
    "start_time": "2023-05-13T18:54:50.024Z"
   },
   {
    "duration": 659,
    "start_time": "2023-05-13T18:54:50.633Z"
   },
   {
    "duration": 187,
    "start_time": "2023-05-13T18:54:51.294Z"
   },
   {
    "duration": 65,
    "start_time": "2023-05-13T18:54:51.483Z"
   },
   {
    "duration": 139,
    "start_time": "2023-05-13T18:54:51.551Z"
   },
   {
    "duration": 5,
    "start_time": "2023-05-13T18:54:51.692Z"
   },
   {
    "duration": 47,
    "start_time": "2023-05-13T18:54:51.699Z"
   },
   {
    "duration": 1084,
    "start_time": "2023-05-13T18:54:51.748Z"
   },
   {
    "duration": 8,
    "start_time": "2023-05-13T18:54:52.835Z"
   },
   {
    "duration": 456,
    "start_time": "2023-05-13T18:54:52.846Z"
   },
   {
    "duration": 12,
    "start_time": "2023-05-13T18:54:53.373Z"
   },
   {
    "duration": 119,
    "start_time": "2023-05-13T18:54:53.389Z"
   },
   {
    "duration": 13,
    "start_time": "2023-05-13T18:54:53.511Z"
   },
   {
    "duration": 18,
    "start_time": "2023-05-13T18:54:53.527Z"
   },
   {
    "duration": 49,
    "start_time": "2023-05-13T18:54:53.549Z"
   },
   {
    "duration": 5075,
    "start_time": "2023-05-13T18:54:53.600Z"
   },
   {
    "duration": 10,
    "start_time": "2023-05-13T18:54:58.681Z"
   },
   {
    "duration": 2329,
    "start_time": "2023-05-13T21:32:30.942Z"
   },
   {
    "duration": 408,
    "start_time": "2023-05-13T21:32:33.274Z"
   },
   {
    "duration": 16,
    "start_time": "2023-05-13T21:32:33.688Z"
   },
   {
    "duration": 10,
    "start_time": "2023-05-13T21:32:33.706Z"
   },
   {
    "duration": 10,
    "start_time": "2023-05-13T21:32:33.718Z"
   },
   {
    "duration": 24,
    "start_time": "2023-05-13T21:32:33.730Z"
   },
   {
    "duration": 42,
    "start_time": "2023-05-13T21:32:33.756Z"
   },
   {
    "duration": 16,
    "start_time": "2023-05-13T21:32:33.800Z"
   },
   {
    "duration": 41,
    "start_time": "2023-05-13T21:32:33.818Z"
   },
   {
    "duration": 49,
    "start_time": "2023-05-13T21:32:33.883Z"
   },
   {
    "duration": 49,
    "start_time": "2023-05-13T21:32:33.934Z"
   },
   {
    "duration": 509,
    "start_time": "2023-05-13T21:32:33.991Z"
   },
   {
    "duration": 540,
    "start_time": "2023-05-13T21:32:34.502Z"
   },
   {
    "duration": 648,
    "start_time": "2023-05-13T21:32:35.043Z"
   },
   {
    "duration": 188,
    "start_time": "2023-05-13T21:32:35.693Z"
   },
   {
    "duration": 50,
    "start_time": "2023-05-13T21:32:35.883Z"
   },
   {
    "duration": 90,
    "start_time": "2023-05-13T21:32:35.936Z"
   },
   {
    "duration": 6,
    "start_time": "2023-05-13T21:32:36.027Z"
   },
   {
    "duration": 32,
    "start_time": "2023-05-13T21:32:36.035Z"
   },
   {
    "duration": 940,
    "start_time": "2023-05-13T21:32:36.069Z"
   },
   {
    "duration": 5,
    "start_time": "2023-05-13T21:32:37.011Z"
   },
   {
    "duration": 367,
    "start_time": "2023-05-13T21:32:37.018Z"
   },
   {
    "duration": 8,
    "start_time": "2023-05-13T21:32:37.387Z"
   },
   {
    "duration": 90,
    "start_time": "2023-05-13T21:32:37.398Z"
   },
   {
    "duration": 13,
    "start_time": "2023-05-13T21:32:37.491Z"
   },
   {
    "duration": 7,
    "start_time": "2023-05-13T21:32:37.506Z"
   },
   {
    "duration": 16,
    "start_time": "2023-05-13T21:32:37.515Z"
   },
   {
    "duration": 4802,
    "start_time": "2023-05-13T21:32:37.536Z"
   },
   {
    "duration": 5,
    "start_time": "2023-05-13T21:32:42.340Z"
   },
   {
    "duration": 1445,
    "start_time": "2023-05-14T17:34:49.018Z"
   },
   {
    "duration": 913,
    "start_time": "2023-05-14T17:34:50.465Z"
   },
   {
    "duration": 14,
    "start_time": "2023-05-14T17:34:51.380Z"
   },
   {
    "duration": 33,
    "start_time": "2023-05-14T17:34:51.396Z"
   },
   {
    "duration": 12,
    "start_time": "2023-05-14T17:34:51.431Z"
   },
   {
    "duration": 21,
    "start_time": "2023-05-14T17:34:51.445Z"
   },
   {
    "duration": 13,
    "start_time": "2023-05-14T17:34:51.468Z"
   },
   {
    "duration": 13,
    "start_time": "2023-05-14T17:34:51.483Z"
   },
   {
    "duration": 45,
    "start_time": "2023-05-14T17:34:51.498Z"
   },
   {
    "duration": 47,
    "start_time": "2023-05-14T17:34:51.545Z"
   },
   {
    "duration": 33,
    "start_time": "2023-05-14T17:34:51.593Z"
   },
   {
    "duration": 464,
    "start_time": "2023-05-14T17:34:51.628Z"
   },
   {
    "duration": 470,
    "start_time": "2023-05-14T17:34:52.094Z"
   },
   {
    "duration": 562,
    "start_time": "2023-05-14T17:34:52.568Z"
   },
   {
    "duration": 143,
    "start_time": "2023-05-14T17:34:53.132Z"
   },
   {
    "duration": 51,
    "start_time": "2023-05-14T17:34:53.278Z"
   },
   {
    "duration": 86,
    "start_time": "2023-05-14T17:34:53.331Z"
   },
   {
    "duration": 4,
    "start_time": "2023-05-14T17:34:53.419Z"
   },
   {
    "duration": 29,
    "start_time": "2023-05-14T17:34:53.425Z"
   },
   {
    "duration": 1104,
    "start_time": "2023-05-14T17:34:53.455Z"
   },
   {
    "duration": 5,
    "start_time": "2023-05-14T17:34:54.561Z"
   },
   {
    "duration": 303,
    "start_time": "2023-05-14T17:34:54.567Z"
   },
   {
    "duration": 89,
    "start_time": "2023-05-14T17:34:54.873Z"
   },
   {
    "duration": 96,
    "start_time": "2023-05-14T17:34:54.963Z"
   },
   {
    "duration": 18,
    "start_time": "2023-05-14T17:34:55.061Z"
   },
   {
    "duration": 10,
    "start_time": "2023-05-14T17:34:55.081Z"
   },
   {
    "duration": 13,
    "start_time": "2023-05-14T17:34:55.092Z"
   },
   {
    "duration": 124,
    "start_time": "2023-05-14T17:34:55.107Z"
   },
   {
    "duration": 0,
    "start_time": "2023-05-14T17:34:55.232Z"
   },
   {
    "duration": 1321,
    "start_time": "2023-05-14T17:36:14.809Z"
   },
   {
    "duration": 340,
    "start_time": "2023-05-14T17:36:16.132Z"
   },
   {
    "duration": 14,
    "start_time": "2023-05-14T17:36:16.474Z"
   },
   {
    "duration": 10,
    "start_time": "2023-05-14T17:36:16.491Z"
   },
   {
    "duration": 27,
    "start_time": "2023-05-14T17:36:16.502Z"
   },
   {
    "duration": 40,
    "start_time": "2023-05-14T17:36:16.532Z"
   },
   {
    "duration": 14,
    "start_time": "2023-05-14T17:36:16.574Z"
   },
   {
    "duration": 15,
    "start_time": "2023-05-14T17:36:16.590Z"
   },
   {
    "duration": 53,
    "start_time": "2023-05-14T17:36:16.607Z"
   },
   {
    "duration": 44,
    "start_time": "2023-05-14T17:36:16.663Z"
   },
   {
    "duration": 55,
    "start_time": "2023-05-14T17:36:16.709Z"
   },
   {
    "duration": 462,
    "start_time": "2023-05-14T17:36:16.766Z"
   },
   {
    "duration": 457,
    "start_time": "2023-05-14T17:36:17.231Z"
   },
   {
    "duration": 525,
    "start_time": "2023-05-14T17:36:17.690Z"
   },
   {
    "duration": 155,
    "start_time": "2023-05-14T17:36:18.217Z"
   },
   {
    "duration": 48,
    "start_time": "2023-05-14T17:36:18.374Z"
   },
   {
    "duration": 89,
    "start_time": "2023-05-14T17:36:18.424Z"
   },
   {
    "duration": 5,
    "start_time": "2023-05-14T17:36:18.515Z"
   },
   {
    "duration": 13,
    "start_time": "2023-05-14T17:36:18.522Z"
   },
   {
    "duration": 954,
    "start_time": "2023-05-14T17:36:18.537Z"
   },
   {
    "duration": 5,
    "start_time": "2023-05-14T17:36:19.493Z"
   },
   {
    "duration": 264,
    "start_time": "2023-05-14T17:36:19.500Z"
   },
   {
    "duration": 91,
    "start_time": "2023-05-14T17:36:19.766Z"
   },
   {
    "duration": 6,
    "start_time": "2023-05-14T17:36:19.863Z"
   },
   {
    "duration": 7,
    "start_time": "2023-05-14T17:36:19.957Z"
   },
   {
    "duration": 10,
    "start_time": "2023-05-14T17:36:19.965Z"
   },
   {
    "duration": 33,
    "start_time": "2023-05-14T17:36:19.977Z"
   },
   {
    "duration": 4398,
    "start_time": "2023-05-14T17:36:20.013Z"
   },
   {
    "duration": 6,
    "start_time": "2023-05-14T17:36:24.413Z"
   },
   {
    "duration": 6,
    "start_time": "2023-05-14T17:38:57.839Z"
   },
   {
    "duration": 456,
    "start_time": "2023-05-14T17:54:10.668Z"
   }
  ],
  "kernelspec": {
   "display_name": "Python 3 (ipykernel)",
   "language": "python",
   "name": "python3"
  },
  "language_info": {
   "codemirror_mode": {
    "name": "ipython",
    "version": 3
   },
   "file_extension": ".py",
   "mimetype": "text/x-python",
   "name": "python",
   "nbconvert_exporter": "python",
   "pygments_lexer": "ipython3",
   "version": "3.9.5"
  },
  "toc": {
   "base_numbering": 1,
   "nav_menu": {},
   "number_sections": true,
   "sideBar": true,
   "skip_h1_title": true,
   "title_cell": "Table of Contents",
   "title_sidebar": "Contents",
   "toc_cell": false,
   "toc_position": {},
   "toc_section_display": true,
   "toc_window_display": true
  }
 },
 "nbformat": 4,
 "nbformat_minor": 2
}
