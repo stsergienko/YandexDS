{
 "cells": [
  {
   "cell_type": "markdown",
   "metadata": {},
   "source": [
    "# Отток клиентов"
   ]
  },
  {
   "cell_type": "markdown",
   "metadata": {},
   "source": [
    "***Описание проекта***\n",
    "\n",
    "Из «Бета-Банка» стали уходить клиенты. Каждый месяц. Немного, но заметно. Банковские маркетологи посчитали: сохранять текущих клиентов дешевле, чем привлекать новых.\n",
    "\n",
    "Нужно спрогнозировать, уйдёт клиент из банка в ближайшее время или нет. Вам предоставлены исторические данные о поведении клиентов и расторжении договоров с банком. \n",
    "\n",
    "Постройте модель с предельно большим значением *F1*-меры. Чтобы сдать проект успешно, нужно довести метрику до 0.59. Проверьте *F1*-меру на тестовой выборке самостоятельно.\n",
    "\n",
    "Дополнительно измеряйте *AUC-ROC*, сравнивайте её значение с *F1*-мерой.\n",
    "\n",
    "Источник данных: [https://www.kaggle.com/barelydedicated/bank-customer-churn-modeling](https://www.kaggle.com/barelydedicated/bank-customer-churn-modeling)"
   ]
  },
  {
   "cell_type": "markdown",
   "metadata": {},
   "source": [
    "***Описание данных***\n",
    "\n",
    "Признаки\n",
    "\n",
    "    RowNumber — индекс строки в данных\n",
    "    CustomerId — уникальный идентификатор клиента\n",
    "    Surname — фамилия\n",
    "    CreditScore — кредитный рейтинг\n",
    "    Geography — страна проживания\n",
    "    Gender — пол\n",
    "    Age — возраст\n",
    "    Tenure — сколько лет человек является клиентом банка\n",
    "    Balance — баланс на счёте\n",
    "    NumOfProducts — количество продуктов банка, используемых клиентом\n",
    "    HasCrCard — наличие кредитной карты\n",
    "    IsActiveMember — активность клиента\n",
    "    EstimatedSalary — предполагаемая зарплата\n",
    "\n",
    "Целевой признак\n",
    "\n",
    "    Exited — факт ухода клиента"
   ]
  },
  {
   "cell_type": "markdown",
   "metadata": {},
   "source": [
    "## Подготовка данных"
   ]
  },
  {
   "cell_type": "code",
   "execution_count": 1,
   "metadata": {},
   "outputs": [],
   "source": [
    "# Импортируем библиотеки\n",
    "import pandas as pd\n",
    "import matplotlib.pyplot as plt\n",
    "import sklearn\n",
    "from sklearn.model_selection import train_test_split\n",
    "from sklearn.tree import DecisionTreeClassifier\n",
    "from sklearn.ensemble import RandomForestClassifier\n",
    "from sklearn.linear_model import LogisticRegression\n",
    "from sklearn.metrics import accuracy_score, f1_score, roc_auc_score \n",
    "from sklearn.preprocessing import StandardScaler\n",
    "from sklearn.utils import shuffle"
   ]
  },
  {
   "cell_type": "code",
   "execution_count": 2,
   "metadata": {},
   "outputs": [],
   "source": [
    "# Откроем файл и запишем датасет в переменную data\n",
    "try:\n",
    "    data = pd.read_csv('/datasets/Churn.csv')\n",
    "except:\n",
    "    data = pd.read_csv('Churn.csv')"
   ]
  },
  {
   "cell_type": "code",
   "execution_count": 3,
   "metadata": {},
   "outputs": [
    {
     "data": {
      "text/html": [
       "<div>\n",
       "<style scoped>\n",
       "    .dataframe tbody tr th:only-of-type {\n",
       "        vertical-align: middle;\n",
       "    }\n",
       "\n",
       "    .dataframe tbody tr th {\n",
       "        vertical-align: top;\n",
       "    }\n",
       "\n",
       "    .dataframe thead th {\n",
       "        text-align: right;\n",
       "    }\n",
       "</style>\n",
       "<table border=\"1\" class=\"dataframe\">\n",
       "  <thead>\n",
       "    <tr style=\"text-align: right;\">\n",
       "      <th></th>\n",
       "      <th>RowNumber</th>\n",
       "      <th>CustomerId</th>\n",
       "      <th>Surname</th>\n",
       "      <th>CreditScore</th>\n",
       "      <th>Geography</th>\n",
       "      <th>Gender</th>\n",
       "      <th>Age</th>\n",
       "      <th>Tenure</th>\n",
       "      <th>Balance</th>\n",
       "      <th>NumOfProducts</th>\n",
       "      <th>HasCrCard</th>\n",
       "      <th>IsActiveMember</th>\n",
       "      <th>EstimatedSalary</th>\n",
       "      <th>Exited</th>\n",
       "    </tr>\n",
       "  </thead>\n",
       "  <tbody>\n",
       "    <tr>\n",
       "      <th>0</th>\n",
       "      <td>1</td>\n",
       "      <td>15634602</td>\n",
       "      <td>Hargrave</td>\n",
       "      <td>619</td>\n",
       "      <td>France</td>\n",
       "      <td>Female</td>\n",
       "      <td>42</td>\n",
       "      <td>2.0</td>\n",
       "      <td>0.00</td>\n",
       "      <td>1</td>\n",
       "      <td>1</td>\n",
       "      <td>1</td>\n",
       "      <td>101348.88</td>\n",
       "      <td>1</td>\n",
       "    </tr>\n",
       "    <tr>\n",
       "      <th>1</th>\n",
       "      <td>2</td>\n",
       "      <td>15647311</td>\n",
       "      <td>Hill</td>\n",
       "      <td>608</td>\n",
       "      <td>Spain</td>\n",
       "      <td>Female</td>\n",
       "      <td>41</td>\n",
       "      <td>1.0</td>\n",
       "      <td>83807.86</td>\n",
       "      <td>1</td>\n",
       "      <td>0</td>\n",
       "      <td>1</td>\n",
       "      <td>112542.58</td>\n",
       "      <td>0</td>\n",
       "    </tr>\n",
       "    <tr>\n",
       "      <th>2</th>\n",
       "      <td>3</td>\n",
       "      <td>15619304</td>\n",
       "      <td>Onio</td>\n",
       "      <td>502</td>\n",
       "      <td>France</td>\n",
       "      <td>Female</td>\n",
       "      <td>42</td>\n",
       "      <td>8.0</td>\n",
       "      <td>159660.80</td>\n",
       "      <td>3</td>\n",
       "      <td>1</td>\n",
       "      <td>0</td>\n",
       "      <td>113931.57</td>\n",
       "      <td>1</td>\n",
       "    </tr>\n",
       "    <tr>\n",
       "      <th>3</th>\n",
       "      <td>4</td>\n",
       "      <td>15701354</td>\n",
       "      <td>Boni</td>\n",
       "      <td>699</td>\n",
       "      <td>France</td>\n",
       "      <td>Female</td>\n",
       "      <td>39</td>\n",
       "      <td>1.0</td>\n",
       "      <td>0.00</td>\n",
       "      <td>2</td>\n",
       "      <td>0</td>\n",
       "      <td>0</td>\n",
       "      <td>93826.63</td>\n",
       "      <td>0</td>\n",
       "    </tr>\n",
       "    <tr>\n",
       "      <th>4</th>\n",
       "      <td>5</td>\n",
       "      <td>15737888</td>\n",
       "      <td>Mitchell</td>\n",
       "      <td>850</td>\n",
       "      <td>Spain</td>\n",
       "      <td>Female</td>\n",
       "      <td>43</td>\n",
       "      <td>2.0</td>\n",
       "      <td>125510.82</td>\n",
       "      <td>1</td>\n",
       "      <td>1</td>\n",
       "      <td>1</td>\n",
       "      <td>79084.10</td>\n",
       "      <td>0</td>\n",
       "    </tr>\n",
       "    <tr>\n",
       "      <th>5</th>\n",
       "      <td>6</td>\n",
       "      <td>15574012</td>\n",
       "      <td>Chu</td>\n",
       "      <td>645</td>\n",
       "      <td>Spain</td>\n",
       "      <td>Male</td>\n",
       "      <td>44</td>\n",
       "      <td>8.0</td>\n",
       "      <td>113755.78</td>\n",
       "      <td>2</td>\n",
       "      <td>1</td>\n",
       "      <td>0</td>\n",
       "      <td>149756.71</td>\n",
       "      <td>1</td>\n",
       "    </tr>\n",
       "    <tr>\n",
       "      <th>6</th>\n",
       "      <td>7</td>\n",
       "      <td>15592531</td>\n",
       "      <td>Bartlett</td>\n",
       "      <td>822</td>\n",
       "      <td>France</td>\n",
       "      <td>Male</td>\n",
       "      <td>50</td>\n",
       "      <td>7.0</td>\n",
       "      <td>0.00</td>\n",
       "      <td>2</td>\n",
       "      <td>1</td>\n",
       "      <td>1</td>\n",
       "      <td>10062.80</td>\n",
       "      <td>0</td>\n",
       "    </tr>\n",
       "    <tr>\n",
       "      <th>7</th>\n",
       "      <td>8</td>\n",
       "      <td>15656148</td>\n",
       "      <td>Obinna</td>\n",
       "      <td>376</td>\n",
       "      <td>Germany</td>\n",
       "      <td>Female</td>\n",
       "      <td>29</td>\n",
       "      <td>4.0</td>\n",
       "      <td>115046.74</td>\n",
       "      <td>4</td>\n",
       "      <td>1</td>\n",
       "      <td>0</td>\n",
       "      <td>119346.88</td>\n",
       "      <td>1</td>\n",
       "    </tr>\n",
       "    <tr>\n",
       "      <th>8</th>\n",
       "      <td>9</td>\n",
       "      <td>15792365</td>\n",
       "      <td>He</td>\n",
       "      <td>501</td>\n",
       "      <td>France</td>\n",
       "      <td>Male</td>\n",
       "      <td>44</td>\n",
       "      <td>4.0</td>\n",
       "      <td>142051.07</td>\n",
       "      <td>2</td>\n",
       "      <td>0</td>\n",
       "      <td>1</td>\n",
       "      <td>74940.50</td>\n",
       "      <td>0</td>\n",
       "    </tr>\n",
       "    <tr>\n",
       "      <th>9</th>\n",
       "      <td>10</td>\n",
       "      <td>15592389</td>\n",
       "      <td>H?</td>\n",
       "      <td>684</td>\n",
       "      <td>France</td>\n",
       "      <td>Male</td>\n",
       "      <td>27</td>\n",
       "      <td>2.0</td>\n",
       "      <td>134603.88</td>\n",
       "      <td>1</td>\n",
       "      <td>1</td>\n",
       "      <td>1</td>\n",
       "      <td>71725.73</td>\n",
       "      <td>0</td>\n",
       "    </tr>\n",
       "  </tbody>\n",
       "</table>\n",
       "</div>"
      ],
      "text/plain": [
       "   RowNumber  CustomerId   Surname  CreditScore Geography  Gender  Age  \\\n",
       "0          1    15634602  Hargrave          619    France  Female   42   \n",
       "1          2    15647311      Hill          608     Spain  Female   41   \n",
       "2          3    15619304      Onio          502    France  Female   42   \n",
       "3          4    15701354      Boni          699    France  Female   39   \n",
       "4          5    15737888  Mitchell          850     Spain  Female   43   \n",
       "5          6    15574012       Chu          645     Spain    Male   44   \n",
       "6          7    15592531  Bartlett          822    France    Male   50   \n",
       "7          8    15656148    Obinna          376   Germany  Female   29   \n",
       "8          9    15792365        He          501    France    Male   44   \n",
       "9         10    15592389        H?          684    France    Male   27   \n",
       "\n",
       "   Tenure    Balance  NumOfProducts  HasCrCard  IsActiveMember  \\\n",
       "0     2.0       0.00              1          1               1   \n",
       "1     1.0   83807.86              1          0               1   \n",
       "2     8.0  159660.80              3          1               0   \n",
       "3     1.0       0.00              2          0               0   \n",
       "4     2.0  125510.82              1          1               1   \n",
       "5     8.0  113755.78              2          1               0   \n",
       "6     7.0       0.00              2          1               1   \n",
       "7     4.0  115046.74              4          1               0   \n",
       "8     4.0  142051.07              2          0               1   \n",
       "9     2.0  134603.88              1          1               1   \n",
       "\n",
       "   EstimatedSalary  Exited  \n",
       "0        101348.88       1  \n",
       "1        112542.58       0  \n",
       "2        113931.57       1  \n",
       "3         93826.63       0  \n",
       "4         79084.10       0  \n",
       "5        149756.71       1  \n",
       "6         10062.80       0  \n",
       "7        119346.88       1  \n",
       "8         74940.50       0  \n",
       "9         71725.73       0  "
      ]
     },
     "execution_count": 3,
     "metadata": {},
     "output_type": "execute_result"
    }
   ],
   "source": [
    "# Посмотрим первые 10 строк\n",
    "data.head(10)"
   ]
  },
  {
   "cell_type": "code",
   "execution_count": 4,
   "metadata": {},
   "outputs": [
    {
     "name": "stdout",
     "output_type": "stream",
     "text": [
      "<class 'pandas.core.frame.DataFrame'>\n",
      "RangeIndex: 10000 entries, 0 to 9999\n",
      "Data columns (total 14 columns):\n",
      " #   Column           Non-Null Count  Dtype  \n",
      "---  ------           --------------  -----  \n",
      " 0   RowNumber        10000 non-null  int64  \n",
      " 1   CustomerId       10000 non-null  int64  \n",
      " 2   Surname          10000 non-null  object \n",
      " 3   CreditScore      10000 non-null  int64  \n",
      " 4   Geography        10000 non-null  object \n",
      " 5   Gender           10000 non-null  object \n",
      " 6   Age              10000 non-null  int64  \n",
      " 7   Tenure           9091 non-null   float64\n",
      " 8   Balance          10000 non-null  float64\n",
      " 9   NumOfProducts    10000 non-null  int64  \n",
      " 10  HasCrCard        10000 non-null  int64  \n",
      " 11  IsActiveMember   10000 non-null  int64  \n",
      " 12  EstimatedSalary  10000 non-null  float64\n",
      " 13  Exited           10000 non-null  int64  \n",
      "dtypes: float64(3), int64(8), object(3)\n",
      "memory usage: 1.1+ MB\n"
     ]
    }
   ],
   "source": [
    "# Выведем общую информацию о датафрейме\n",
    "data.info()"
   ]
  },
  {
   "cell_type": "code",
   "execution_count": 5,
   "metadata": {},
   "outputs": [
    {
     "data": {
      "text/html": [
       "<div>\n",
       "<style scoped>\n",
       "    .dataframe tbody tr th:only-of-type {\n",
       "        vertical-align: middle;\n",
       "    }\n",
       "\n",
       "    .dataframe tbody tr th {\n",
       "        vertical-align: top;\n",
       "    }\n",
       "\n",
       "    .dataframe thead th {\n",
       "        text-align: right;\n",
       "    }\n",
       "</style>\n",
       "<table border=\"1\" class=\"dataframe\">\n",
       "  <thead>\n",
       "    <tr style=\"text-align: right;\">\n",
       "      <th></th>\n",
       "      <th>RowNumber</th>\n",
       "      <th>CustomerId</th>\n",
       "      <th>CreditScore</th>\n",
       "      <th>Age</th>\n",
       "      <th>Tenure</th>\n",
       "      <th>Balance</th>\n",
       "      <th>NumOfProducts</th>\n",
       "      <th>HasCrCard</th>\n",
       "      <th>IsActiveMember</th>\n",
       "      <th>EstimatedSalary</th>\n",
       "      <th>Exited</th>\n",
       "    </tr>\n",
       "  </thead>\n",
       "  <tbody>\n",
       "    <tr>\n",
       "      <th>count</th>\n",
       "      <td>10000.00000</td>\n",
       "      <td>1.000000e+04</td>\n",
       "      <td>10000.000000</td>\n",
       "      <td>10000.000000</td>\n",
       "      <td>9091.000000</td>\n",
       "      <td>10000.000000</td>\n",
       "      <td>10000.000000</td>\n",
       "      <td>10000.00000</td>\n",
       "      <td>10000.000000</td>\n",
       "      <td>10000.000000</td>\n",
       "      <td>10000.000000</td>\n",
       "    </tr>\n",
       "    <tr>\n",
       "      <th>mean</th>\n",
       "      <td>5000.50000</td>\n",
       "      <td>1.569094e+07</td>\n",
       "      <td>650.528800</td>\n",
       "      <td>38.921800</td>\n",
       "      <td>4.997690</td>\n",
       "      <td>76485.889288</td>\n",
       "      <td>1.530200</td>\n",
       "      <td>0.70550</td>\n",
       "      <td>0.515100</td>\n",
       "      <td>100090.239881</td>\n",
       "      <td>0.203700</td>\n",
       "    </tr>\n",
       "    <tr>\n",
       "      <th>std</th>\n",
       "      <td>2886.89568</td>\n",
       "      <td>7.193619e+04</td>\n",
       "      <td>96.653299</td>\n",
       "      <td>10.487806</td>\n",
       "      <td>2.894723</td>\n",
       "      <td>62397.405202</td>\n",
       "      <td>0.581654</td>\n",
       "      <td>0.45584</td>\n",
       "      <td>0.499797</td>\n",
       "      <td>57510.492818</td>\n",
       "      <td>0.402769</td>\n",
       "    </tr>\n",
       "    <tr>\n",
       "      <th>min</th>\n",
       "      <td>1.00000</td>\n",
       "      <td>1.556570e+07</td>\n",
       "      <td>350.000000</td>\n",
       "      <td>18.000000</td>\n",
       "      <td>0.000000</td>\n",
       "      <td>0.000000</td>\n",
       "      <td>1.000000</td>\n",
       "      <td>0.00000</td>\n",
       "      <td>0.000000</td>\n",
       "      <td>11.580000</td>\n",
       "      <td>0.000000</td>\n",
       "    </tr>\n",
       "    <tr>\n",
       "      <th>25%</th>\n",
       "      <td>2500.75000</td>\n",
       "      <td>1.562853e+07</td>\n",
       "      <td>584.000000</td>\n",
       "      <td>32.000000</td>\n",
       "      <td>2.000000</td>\n",
       "      <td>0.000000</td>\n",
       "      <td>1.000000</td>\n",
       "      <td>0.00000</td>\n",
       "      <td>0.000000</td>\n",
       "      <td>51002.110000</td>\n",
       "      <td>0.000000</td>\n",
       "    </tr>\n",
       "    <tr>\n",
       "      <th>50%</th>\n",
       "      <td>5000.50000</td>\n",
       "      <td>1.569074e+07</td>\n",
       "      <td>652.000000</td>\n",
       "      <td>37.000000</td>\n",
       "      <td>5.000000</td>\n",
       "      <td>97198.540000</td>\n",
       "      <td>1.000000</td>\n",
       "      <td>1.00000</td>\n",
       "      <td>1.000000</td>\n",
       "      <td>100193.915000</td>\n",
       "      <td>0.000000</td>\n",
       "    </tr>\n",
       "    <tr>\n",
       "      <th>75%</th>\n",
       "      <td>7500.25000</td>\n",
       "      <td>1.575323e+07</td>\n",
       "      <td>718.000000</td>\n",
       "      <td>44.000000</td>\n",
       "      <td>7.000000</td>\n",
       "      <td>127644.240000</td>\n",
       "      <td>2.000000</td>\n",
       "      <td>1.00000</td>\n",
       "      <td>1.000000</td>\n",
       "      <td>149388.247500</td>\n",
       "      <td>0.000000</td>\n",
       "    </tr>\n",
       "    <tr>\n",
       "      <th>max</th>\n",
       "      <td>10000.00000</td>\n",
       "      <td>1.581569e+07</td>\n",
       "      <td>850.000000</td>\n",
       "      <td>92.000000</td>\n",
       "      <td>10.000000</td>\n",
       "      <td>250898.090000</td>\n",
       "      <td>4.000000</td>\n",
       "      <td>1.00000</td>\n",
       "      <td>1.000000</td>\n",
       "      <td>199992.480000</td>\n",
       "      <td>1.000000</td>\n",
       "    </tr>\n",
       "  </tbody>\n",
       "</table>\n",
       "</div>"
      ],
      "text/plain": [
       "         RowNumber    CustomerId   CreditScore           Age       Tenure  \\\n",
       "count  10000.00000  1.000000e+04  10000.000000  10000.000000  9091.000000   \n",
       "mean    5000.50000  1.569094e+07    650.528800     38.921800     4.997690   \n",
       "std     2886.89568  7.193619e+04     96.653299     10.487806     2.894723   \n",
       "min        1.00000  1.556570e+07    350.000000     18.000000     0.000000   \n",
       "25%     2500.75000  1.562853e+07    584.000000     32.000000     2.000000   \n",
       "50%     5000.50000  1.569074e+07    652.000000     37.000000     5.000000   \n",
       "75%     7500.25000  1.575323e+07    718.000000     44.000000     7.000000   \n",
       "max    10000.00000  1.581569e+07    850.000000     92.000000    10.000000   \n",
       "\n",
       "             Balance  NumOfProducts    HasCrCard  IsActiveMember  \\\n",
       "count   10000.000000   10000.000000  10000.00000    10000.000000   \n",
       "mean    76485.889288       1.530200      0.70550        0.515100   \n",
       "std     62397.405202       0.581654      0.45584        0.499797   \n",
       "min         0.000000       1.000000      0.00000        0.000000   \n",
       "25%         0.000000       1.000000      0.00000        0.000000   \n",
       "50%     97198.540000       1.000000      1.00000        1.000000   \n",
       "75%    127644.240000       2.000000      1.00000        1.000000   \n",
       "max    250898.090000       4.000000      1.00000        1.000000   \n",
       "\n",
       "       EstimatedSalary        Exited  \n",
       "count     10000.000000  10000.000000  \n",
       "mean     100090.239881      0.203700  \n",
       "std       57510.492818      0.402769  \n",
       "min          11.580000      0.000000  \n",
       "25%       51002.110000      0.000000  \n",
       "50%      100193.915000      0.000000  \n",
       "75%      149388.247500      0.000000  \n",
       "max      199992.480000      1.000000  "
      ]
     },
     "execution_count": 5,
     "metadata": {},
     "output_type": "execute_result"
    }
   ],
   "source": [
    "data.describe()"
   ]
  },
  {
   "cell_type": "code",
   "execution_count": 6,
   "metadata": {},
   "outputs": [
    {
     "data": {
      "image/png": "[encoded data removed]",
      "text/plain": [
       "<Figure size 1440x1440 with 12 Axes>"
      ]
     },
     "metadata": {
      "needs_background": "light"
     },
     "output_type": "display_data"
    }
   ],
   "source": [
    "# Построим общую гистограмму для всех числовых столбцов таблицы\n",
    "data.hist(figsize=(20, 20))\n",
    "plt.show()"
   ]
  },
  {
   "cell_type": "code",
   "execution_count": 7,
   "metadata": {},
   "outputs": [
    {
     "data": {
      "text/plain": [
       "RowNumber            0\n",
       "CustomerId           0\n",
       "Surname              0\n",
       "CreditScore          0\n",
       "Geography            0\n",
       "Gender               0\n",
       "Age                  0\n",
       "Tenure             909\n",
       "Balance              0\n",
       "NumOfProducts        0\n",
       "HasCrCard            0\n",
       "IsActiveMember       0\n",
       "EstimatedSalary      0\n",
       "Exited               0\n",
       "dtype: int64"
      ]
     },
     "execution_count": 7,
     "metadata": {},
     "output_type": "execute_result"
    }
   ],
   "source": [
    "# Выведем количество пропущенных значений\n",
    "data.isnull().sum()"
   ]
  },
  {
   "cell_type": "code",
   "execution_count": 8,
   "metadata": {},
   "outputs": [
    {
     "data": {
      "text/plain": [
       "Index(['row_number', 'customer_id', 'surname', 'credit_score', 'geography ',\n",
       "       'gender', 'age', 'tenure', 'balance', 'num_of_products', 'has_cr_card',\n",
       "       'is_active_member', 'estimated_salary', 'exited'],\n",
       "      dtype='object')"
      ]
     },
     "execution_count": 8,
     "metadata": {},
     "output_type": "execute_result"
    }
   ],
   "source": [
    "# Переименуем столбцы\n",
    "data = data.rename(columns={'RowNumber': 'row_number', \n",
    "                            'CustomerId': 'customer_id', \n",
    "                            'Surname': 'surname',\n",
    "                            'CreditScore': 'credit_score',\n",
    "                            'Geography': 'geography ',\n",
    "                            'Gender': 'gender',\n",
    "                            'Age': 'age',\n",
    "                            'Tenure': 'tenure',\n",
    "                            'Balance': 'balance',\n",
    "                            'NumOfProducts': 'num_of_products',\n",
    "                            'HasCrCard': 'has_cr_card',\n",
    "                            'IsActiveMember': 'is_active_member',\n",
    "                            'EstimatedSalary': 'estimated_salary',\n",
    "                            'Exited': 'exited'\n",
    "                            \n",
    "                           })\n",
    "\n",
    "# Проверим результат\n",
    "data.columns"
   ]
  },
  {
   "cell_type": "code",
   "execution_count": 9,
   "metadata": {},
   "outputs": [],
   "source": [
    "# Заполним пропуски медианой\n",
    "data['tenure'].fillna(data['tenure'].median(), inplace=True)"
   ]
  },
  {
   "cell_type": "code",
   "execution_count": 10,
   "metadata": {},
   "outputs": [
    {
     "data": {
      "text/plain": [
       "row_number          0\n",
       "customer_id         0\n",
       "surname             0\n",
       "credit_score        0\n",
       "geography           0\n",
       "gender              0\n",
       "age                 0\n",
       "tenure              0\n",
       "balance             0\n",
       "num_of_products     0\n",
       "has_cr_card         0\n",
       "is_active_member    0\n",
       "estimated_salary    0\n",
       "exited              0\n",
       "dtype: int64"
      ]
     },
     "execution_count": 10,
     "metadata": {},
     "output_type": "execute_result"
    }
   ],
   "source": [
    "# Выведем количество пропущенных значений\n",
    "data.isnull().sum()"
   ]
  },
  {
   "cell_type": "markdown",
   "metadata": {},
   "source": [
    "***Вывод:*** Файл содержит 10000 записей. Количество значений в столбцах различается, что говорит о том, что есть пропущенные значения. Присутствуют некорректные наименования столбцов. Построена общая гистограмма для всех числовых столбцов таблицы. Выполнена предобработка данных: заполнены пропущенные знвачения, наименования столбцов изменены на корректные.\n"
   ]
  },
  {
   "cell_type": "markdown",
   "metadata": {},
   "source": [
    "## Исследование задачи"
   ]
  },
  {
   "cell_type": "code",
   "execution_count": 11,
   "metadata": {},
   "outputs": [],
   "source": [
    "# Удалим ненужные столбцы\n",
    "data = data.drop(['row_number', 'customer_id', 'surname'], axis=1)"
   ]
  },
  {
   "cell_type": "code",
   "execution_count": 12,
   "metadata": {},
   "outputs": [],
   "source": [
    "# Проведем кодирование с помощью OHE\n",
    "data = pd.get_dummies(data, drop_first=True)"
   ]
  },
  {
   "cell_type": "code",
   "execution_count": 13,
   "metadata": {},
   "outputs": [],
   "source": [
    "# Выделим признаки\n",
    "features = data.drop(['exited'], axis=1)\n",
    "target = data['exited']"
   ]
  },
  {
   "cell_type": "code",
   "execution_count": 14,
   "metadata": {},
   "outputs": [],
   "source": [
    "# Разделим датафрейм на обучающую, валидационную и тестовую выборку\n",
    "features_train, features_x, target_train, target_y = train_test_split(features, target, test_size=0.4, random_state=12345, stratify=target)\n",
    "features_valid, features_test, target_valid, target_test = train_test_split(features_x, target_y, test_size=0.5, random_state=12345)"
   ]
  },
  {
   "cell_type": "code",
   "execution_count": 15,
   "metadata": {},
   "outputs": [
    {
     "name": "stdout",
     "output_type": "stream",
     "text": [
      "Размерность набора данных features_train:  (6000, 11)\n",
      "Размерность набора данных target_train:  (6000,)\n",
      "Размерность набора данных features_valid:  (2000, 11)\n",
      "Размерность набора данных target_valid:  (2000,)\n",
      "Размерность набора данных features_test:  (2000, 11)\n",
      "Размерность набора данных target_test:  (2000,)\n"
     ]
    }
   ],
   "source": [
    "# Посмотрим на размерность сформированных наборов данных\n",
    "print('Размерность набора данных features_train: ', features_train.shape)\n",
    "print('Размерность набора данных target_train: ', target_train.shape)\n",
    "print('Размерность набора данных features_valid: ', features_valid.shape)\n",
    "print('Размерность набора данных target_valid: ', target_valid.shape)\n",
    "print('Размерность набора данных features_test: ', features_test.shape)\n",
    "print('Размерность набора данных target_test: ', target_test.shape)"
   ]
  },
  {
   "cell_type": "code",
   "execution_count": 16,
   "metadata": {},
   "outputs": [
    {
     "data": {
      "text/html": [
       "<div>\n",
       "<style scoped>\n",
       "    .dataframe tbody tr th:only-of-type {\n",
       "        vertical-align: middle;\n",
       "    }\n",
       "\n",
       "    .dataframe tbody tr th {\n",
       "        vertical-align: top;\n",
       "    }\n",
       "\n",
       "    .dataframe thead th {\n",
       "        text-align: right;\n",
       "    }\n",
       "</style>\n",
       "<table border=\"1\" class=\"dataframe\">\n",
       "  <thead>\n",
       "    <tr style=\"text-align: right;\">\n",
       "      <th></th>\n",
       "      <th>credit_score</th>\n",
       "      <th>age</th>\n",
       "      <th>tenure</th>\n",
       "      <th>balance</th>\n",
       "      <th>num_of_products</th>\n",
       "      <th>has_cr_card</th>\n",
       "      <th>is_active_member</th>\n",
       "      <th>estimated_salary</th>\n",
       "      <th>geography _Germany</th>\n",
       "      <th>geography _Spain</th>\n",
       "      <th>gender_Male</th>\n",
       "    </tr>\n",
       "  </thead>\n",
       "  <tbody>\n",
       "    <tr>\n",
       "      <th>6113</th>\n",
       "      <td>-0.556029</td>\n",
       "      <td>-0.285890</td>\n",
       "      <td>-1.092943</td>\n",
       "      <td>-1.219673</td>\n",
       "      <td>2</td>\n",
       "      <td>0</td>\n",
       "      <td>1</td>\n",
       "      <td>0.437216</td>\n",
       "      <td>0</td>\n",
       "      <td>1</td>\n",
       "      <td>1</td>\n",
       "    </tr>\n",
       "    <tr>\n",
       "      <th>760</th>\n",
       "      <td>-0.514803</td>\n",
       "      <td>0.381372</td>\n",
       "      <td>-0.002786</td>\n",
       "      <td>0.921527</td>\n",
       "      <td>1</td>\n",
       "      <td>1</td>\n",
       "      <td>0</td>\n",
       "      <td>1.640143</td>\n",
       "      <td>0</td>\n",
       "      <td>0</td>\n",
       "      <td>0</td>\n",
       "    </tr>\n",
       "    <tr>\n",
       "      <th>1419</th>\n",
       "      <td>-1.184724</td>\n",
       "      <td>0.476696</td>\n",
       "      <td>-1.092943</td>\n",
       "      <td>0.608480</td>\n",
       "      <td>1</td>\n",
       "      <td>1</td>\n",
       "      <td>1</td>\n",
       "      <td>0.624456</td>\n",
       "      <td>0</td>\n",
       "      <td>0</td>\n",
       "      <td>0</td>\n",
       "    </tr>\n",
       "    <tr>\n",
       "      <th>9436</th>\n",
       "      <td>0.350941</td>\n",
       "      <td>-0.095244</td>\n",
       "      <td>-0.366172</td>\n",
       "      <td>-1.219673</td>\n",
       "      <td>3</td>\n",
       "      <td>1</td>\n",
       "      <td>0</td>\n",
       "      <td>-0.430962</td>\n",
       "      <td>0</td>\n",
       "      <td>0</td>\n",
       "      <td>1</td>\n",
       "    </tr>\n",
       "    <tr>\n",
       "      <th>6128</th>\n",
       "      <td>1.742315</td>\n",
       "      <td>-0.381213</td>\n",
       "      <td>-1.456328</td>\n",
       "      <td>-1.219673</td>\n",
       "      <td>2</td>\n",
       "      <td>0</td>\n",
       "      <td>1</td>\n",
       "      <td>-1.686346</td>\n",
       "      <td>0</td>\n",
       "      <td>0</td>\n",
       "      <td>1</td>\n",
       "    </tr>\n",
       "  </tbody>\n",
       "</table>\n",
       "</div>"
      ],
      "text/plain": [
       "      credit_score       age    tenure   balance  num_of_products  \\\n",
       "6113     -0.556029 -0.285890 -1.092943 -1.219673                2   \n",
       "760      -0.514803  0.381372 -0.002786  0.921527                1   \n",
       "1419     -1.184724  0.476696 -1.092943  0.608480                1   \n",
       "9436      0.350941 -0.095244 -0.366172 -1.219673                3   \n",
       "6128      1.742315 -0.381213 -1.456328 -1.219673                2   \n",
       "\n",
       "      has_cr_card  is_active_member  estimated_salary  geography _Germany  \\\n",
       "6113            0                 1          0.437216                   0   \n",
       "760             1                 0          1.640143                   0   \n",
       "1419            1                 1          0.624456                   0   \n",
       "9436            1                 0         -0.430962                   0   \n",
       "6128            0                 1         -1.686346                   0   \n",
       "\n",
       "      geography _Spain  gender_Male  \n",
       "6113                 1            1  \n",
       "760                  0            0  \n",
       "1419                 0            0  \n",
       "9436                 0            1  \n",
       "6128                 0            1  "
      ]
     },
     "execution_count": 16,
     "metadata": {},
     "output_type": "execute_result"
    }
   ],
   "source": [
    "# Выполним масштабирование\n",
    "pd.options.mode.chained_assignment = None\n",
    "numeric = ['credit_score', 'age', 'tenure', 'balance', 'estimated_salary']\n",
    "\n",
    "scaler = StandardScaler()\n",
    "scaler.fit(features_train[numeric]) \n",
    "\n",
    "features_train[numeric] = scaler.transform(features_train[numeric])\n",
    "features_valid[numeric] = scaler.transform(features_valid[numeric])\n",
    "features_test[numeric] = scaler.transform(features_test[numeric])\n",
    "\n",
    "features_valid.head()"
   ]
  },
  {
   "cell_type": "markdown",
   "metadata": {},
   "source": [
    "Из датасета удалены ненужные столбцы, проведено кодирование с помощью OHE, выделены признаки. Датасет разделен на три выборки: обучающую, валидационную и тестовую. Выполнено масштабирование.\n"
   ]
  },
  {
   "cell_type": "markdown",
   "metadata": {},
   "source": [
    "***Дерево решений***"
   ]
  },
  {
   "cell_type": "code",
   "execution_count": 17,
   "metadata": {},
   "outputs": [
    {
     "name": "stdout",
     "output_type": "stream",
     "text": [
      "Наилучшая точность: 0.867\n",
      "F1-мера: 0.5856697819314641\n",
      "AUC ROC: 0.8284005092836173\n",
      "Параметры модели:\n",
      "   max_depth = 6\n",
      "   min_samples_split = 2\n",
      "   min_samples_leaf = 6\n",
      "   criterion = entropy \n"
     ]
    }
   ],
   "source": [
    "# Создадим переменные для лучших гиперпараметров\n",
    "best_parametrs = []\n",
    "best_accuracy = 0\n",
    "best_f1 = 0\n",
    "best_auc_roc = 0\n",
    "\n",
    "# В цикле последовательно меняем гиперпараметры\n",
    "for max_depth in range(1,10):\n",
    "    for min_samples_split in range(2,10):\n",
    "        for min_samples_leaf in range(1,10):\n",
    "            for criterion in ['gini', 'entropy']:\n",
    "                \n",
    "                # Подставим гиперпараметры в модель\n",
    "                model_decision_tree = DecisionTreeClassifier(random_state=12345,\n",
    "                                                      max_depth=max_depth,\n",
    "                                                      min_samples_split=min_samples_split,\n",
    "                                                      min_samples_leaf=min_samples_leaf,\n",
    "                                                      criterion=criterion)\n",
    "                \n",
    "                # Обучение на тренировочной выборке\n",
    "                model_decision_tree.fit(features_train, target_train)\n",
    "                \n",
    "                # Поиск предсказаний на валидационной выборке\n",
    "                predictions = model_decision_tree.predict(features_valid)\n",
    "                \n",
    "                # Вычисление точности модели\n",
    "                accuracy = accuracy_score(target_valid, predictions)\n",
    "                \n",
    "                # Вычисление F1-меры модели\n",
    "                f1 = f1_score(target_valid, predictions)\n",
    "                \n",
    "                # Вычисление AUC_ROC модели\n",
    "                probabilities_valid = model_decision_tree.predict_proba(features_valid)\n",
    "                probabilities_one_valid = probabilities_valid[:, 1]\n",
    "                auc_roc = roc_auc_score(target_valid, probabilities_one_valid)\n",
    "                \n",
    "                # Сохранение лучших гиперпараметров\n",
    "                if f1 > best_f1:\n",
    "                    best_parametrs = [max_depth, min_samples_split, min_samples_leaf, criterion]\n",
    "                    best_accuracy = accuracy\n",
    "                    best_f1 = f1\n",
    "                    best_auc_roc = auc_roc\n",
    "\n",
    "# вывод лучших параметров\n",
    "print('''Наилучшая точность: {}\n",
    "F1-мера: {}\n",
    "AUC ROC: {}\n",
    "Параметры модели:\n",
    "   max_depth = {}\n",
    "   min_samples_split = {}\n",
    "   min_samples_leaf = {}\n",
    "   criterion = {} '''.format(best_accuracy,\n",
    "                             best_f1,\n",
    "                             best_auc_roc,\n",
    "                             best_parametrs[0],\n",
    "                             best_parametrs[1],\n",
    "                             best_parametrs[2],\n",
    "                             best_parametrs[3]\n",
    "                            ))"
   ]
  },
  {
   "cell_type": "markdown",
   "metadata": {},
   "source": [
    "***Случайный лес***"
   ]
  },
  {
   "cell_type": "code",
   "execution_count": 18,
   "metadata": {},
   "outputs": [
    {
     "name": "stdout",
     "output_type": "stream",
     "text": [
      "Наилучшая точность: 0.8695\n",
      "F1-мера: 0.5837320574162679\n",
      "AUC ROC: 0.8533131251798151\n",
      "Параметры модели:\n",
      "   n_estimators = 10\n",
      "   max_depth = 8\n",
      "   min_samples_split = 2\n",
      "   min_samples_leaf = 3\n",
      "   criterion = entropy \n"
     ]
    }
   ],
   "source": [
    "# Создадим переменные для лучших гиперпараметров\n",
    "best_parametrs = []\n",
    "best_accuracy = 0\n",
    "best_f1 = 0\n",
    "best_auc_roc = 0\n",
    "\n",
    "# В цикле последовательно меняем гиперпараметры\n",
    "for n_estimators in (1,10):\n",
    "    for max_depth in range(1,10):\n",
    "        for min_samples_split in range(2,10):\n",
    "            for min_samples_leaf in range(1,10):\n",
    "                for criterion in ['gini', 'entropy']:\n",
    "                    \n",
    "                    # Подставим гиперпараметры в модель\n",
    "                    model_random_forest = RandomForestClassifier(random_state=12345,\n",
    "                                                          n_estimators=n_estimators,\n",
    "                                                          max_depth=max_depth,\n",
    "                                                          min_samples_split=min_samples_split,\n",
    "                                                          min_samples_leaf=min_samples_leaf,\n",
    "                                                          criterion=criterion)\n",
    "                    \n",
    "                    # Обучение на тренировочной выборке\n",
    "                    model_random_forest.fit(features_train, target_train)\n",
    "                    \n",
    "                    # Поиск предсказаний на валидационной выборке\n",
    "                    predictions = model_random_forest.predict(features_valid)\n",
    "                    \n",
    "                    # Вычисление точности модели\n",
    "                    accuracy = accuracy_score(target_valid, predictions)\n",
    "                    \n",
    "                    # Вычисление F1-меры модели\n",
    "                    f1 = f1_score(target_valid, predictions)\n",
    "                    \n",
    "                    # Вычисление AUC_ROC модели\n",
    "                    probabilities_valid = model_random_forest.predict_proba(features_valid)\n",
    "                    probabilities_one_valid = probabilities_valid[:, 1]\n",
    "                    auc_roc = roc_auc_score(target_valid, probabilities_one_valid)\n",
    "                    \n",
    "                    # Сохранение лучших гиперпараметров\n",
    "                    if f1 > best_f1:\n",
    "                        best_parametrs = [n_estimators, max_depth, min_samples_split, min_samples_leaf, criterion]\n",
    "                        best_accuracy = accuracy\n",
    "                        best_f1 = f1\n",
    "                        best_auc_roc = auc_roc\n",
    "\n",
    "# вывод лучших параметров\n",
    "print('''Наилучшая точность: {}\n",
    "F1-мера: {}\n",
    "AUC ROC: {}\n",
    "Параметры модели:\n",
    "   n_estimators = {}\n",
    "   max_depth = {}\n",
    "   min_samples_split = {}\n",
    "   min_samples_leaf = {}\n",
    "   criterion = {} '''.format(best_accuracy,\n",
    "                             best_f1,\n",
    "                             best_auc_roc,\n",
    "                             best_parametrs[0],\n",
    "                             best_parametrs[1],\n",
    "                             best_parametrs[2],\n",
    "                             best_parametrs[3],\n",
    "                             best_parametrs[4]\n",
    "                            ))                       "
   ]
  },
  {
   "cell_type": "markdown",
   "metadata": {},
   "source": [
    "***Логистическая регрессия***"
   ]
  },
  {
   "cell_type": "code",
   "execution_count": 19,
   "metadata": {},
   "outputs": [
    {
     "name": "stdout",
     "output_type": "stream",
     "text": [
      "Наилучшая точность: 0.8155\n",
      "F1-мера: 0.3050847457627119\n",
      "AUC ROC: 0.7703137244305132\n"
     ]
    }
   ],
   "source": [
    "# Подставим гиперпараметры в модель\n",
    "model_logistic_regression = LogisticRegression(random_state=12345, solver='lbfgs', max_iter=1000)\n",
    "\n",
    "# Обучение на тренировочной выборке\n",
    "model_logistic_regression.fit(features_train, target_train)\n",
    "\n",
    "# Поиск предсказаний на валидационной выборке\n",
    "predictions = model_logistic_regression.predict(features_valid)\n",
    "\n",
    "# Вычисление метрики модели    \n",
    "result = model_logistic_regression.score(features_valid, target_valid)\n",
    "\n",
    "# Вычисление F1-меры модели\n",
    "f1 = f1_score(target_valid, predictions)\n",
    "\n",
    "# Вычисление AUC_ROC модели\n",
    "probabilities_valid = model_logistic_regression.predict_proba(features_valid)\n",
    "probabilities_one_valid = probabilities_valid[:, 1]\n",
    "auc_roc = roc_auc_score(target_valid, probabilities_one_valid)\n",
    "\n",
    "# Вывод\n",
    "print('Наилучшая точность:', result)\n",
    "print('F1-мера:', f1)\n",
    "print('AUC ROC:', auc_roc)"
   ]
  },
  {
   "cell_type": "code",
   "execution_count": 20,
   "metadata": {},
   "outputs": [
    {
     "data": {
      "text/plain": [
       "((7963, 11), (2037, 11))"
      ]
     },
     "execution_count": 20,
     "metadata": {},
     "output_type": "execute_result"
    }
   ],
   "source": [
    "# Посмотрим количество объектов отрицательного и положительно класса\n",
    "features[target == 0].shape, features[target == 1].shape"
   ]
  },
  {
   "cell_type": "markdown",
   "metadata": {},
   "source": [
    "***Вывод:*** Построено три модели: дерево решений, случайный лес и логистическая регрессия. Дисбаланс классов сказывается на качестве моделей, больше всего от дисбаланса страдает модель логической регрессии."
   ]
  },
  {
   "cell_type": "markdown",
   "metadata": {},
   "source": [
    "## Борьба с дисбалансом"
   ]
  },
  {
   "cell_type": "markdown",
   "metadata": {},
   "source": [
    "Для борьбы с дисбалансом будем использовать три метода - взвешивание класов, уменьшение и увеличение выборки. С помощью F1 меры выберем лучший метод."
   ]
  },
  {
   "cell_type": "markdown",
   "metadata": {},
   "source": [
    "***Class weight***"
   ]
  },
  {
   "cell_type": "markdown",
   "metadata": {},
   "source": [
    "*Дерево решений*"
   ]
  },
  {
   "cell_type": "code",
   "execution_count": 21,
   "metadata": {},
   "outputs": [
    {
     "name": "stdout",
     "output_type": "stream",
     "text": [
      "Наилучшая точность: 0.8015\n",
      "F1-мера: 0.5717367853290184\n",
      "AUC ROC: 0.8151232119837424\n",
      "Параметры модели:\n",
      "   max_depth = 8\n",
      "   min_samples_split = 2\n",
      "   min_samples_leaf = 8\n",
      "   criterion = entropy \n"
     ]
    }
   ],
   "source": [
    "# Создадим переменные для лучших гиперпараметров\n",
    "best_parametrs = []\n",
    "best_accuracy = 0\n",
    "best_f1 = 0\n",
    "best_auc_roc = 0\n",
    "\n",
    "# В цикле последовательно меняем гиперпараметры\n",
    "for max_depth in range(1,10):\n",
    "    for min_samples_split in range(2,10):\n",
    "        for min_samples_leaf in range(1,10):\n",
    "            for criterion in ['gini', 'entropy']:\n",
    "                \n",
    "                # Подставим гиперпараметры в модель\n",
    "                model_decision_tree = DecisionTreeClassifier(random_state=12345,\n",
    "                                                      max_depth=max_depth,\n",
    "                                                      min_samples_split=min_samples_split,\n",
    "                                                      min_samples_leaf=min_samples_leaf,\n",
    "                                                      criterion=criterion,\n",
    "                                                      class_weight='balanced')\n",
    "                \n",
    "                # Обучение на тренировочной выборке\n",
    "                model_decision_tree.fit(features_train, target_train)\n",
    "                \n",
    "                # Поиск предсказаний на валидационной выборке\n",
    "                predictions = model_decision_tree.predict(features_valid)\n",
    "                \n",
    "                # Вычисление точности модели\n",
    "                accuracy = accuracy_score(target_valid, predictions)\n",
    "                \n",
    "                # Вычисление F1-меры модели\n",
    "                f1 = f1_score(target_valid, predictions)\n",
    "                \n",
    "                # Вычисление AUC_ROC модели\n",
    "                probabilities_valid = model_decision_tree.predict_proba(features_valid)\n",
    "                probabilities_one_valid = probabilities_valid[:, 1]\n",
    "                auc_roc = roc_auc_score(target_valid, probabilities_one_valid)\n",
    "                \n",
    "                # Сохранение лучших гиперпараметров\n",
    "                if f1 > best_f1:\n",
    "                    best_parametrs = [max_depth, min_samples_split, min_samples_leaf, criterion]\n",
    "                    best_accuracy = accuracy\n",
    "                    best_f1 = f1\n",
    "                    best_auc_roc = auc_roc\n",
    "\n",
    "# вывод лучших параметров\n",
    "print('''Наилучшая точность: {}\n",
    "F1-мера: {}\n",
    "AUC ROC: {}\n",
    "Параметры модели:\n",
    "   max_depth = {}\n",
    "   min_samples_split = {}\n",
    "   min_samples_leaf = {}\n",
    "   criterion = {} '''.format(best_accuracy,\n",
    "                             best_f1,\n",
    "                             best_auc_roc,\n",
    "                             best_parametrs[0],\n",
    "                             best_parametrs[1],\n",
    "                             best_parametrs[2],\n",
    "                             best_parametrs[3]\n",
    "                            ))"
   ]
  },
  {
   "cell_type": "markdown",
   "metadata": {},
   "source": [
    "*Случайный лес*"
   ]
  },
  {
   "cell_type": "code",
   "execution_count": 22,
   "metadata": {},
   "outputs": [
    {
     "name": "stdout",
     "output_type": "stream",
     "text": [
      "Наилучшая точность: 0.828\n",
      "F1-мера: 0.6169265033407573\n",
      "AUC ROC: 0.8514708664020638\n",
      "Параметры модели:\n",
      "   n_estimators = 10\n",
      "   max_depth = 8\n",
      "   min_samples_split = 7\n",
      "   min_samples_leaf = 3\n",
      "   criterion = entropy \n"
     ]
    }
   ],
   "source": [
    "# Создадим переменные для лучших гиперпараметров\n",
    "best_parametrs = []\n",
    "best_accuracy = 0\n",
    "best_f1 = 0\n",
    "best_auc_roc = 0\n",
    "\n",
    "# В цикле последовательно меняем гиперпараметры\n",
    "for n_estimators in (1,10):\n",
    "    for max_depth in range(1,10):\n",
    "        for min_samples_split in range(2,10):\n",
    "            for min_samples_leaf in range(1,10):\n",
    "                for criterion in ['gini', 'entropy']:\n",
    "                    \n",
    "                    # Подставим гиперпараметры в модель\n",
    "                    model_random_forest = RandomForestClassifier(random_state=12345,\n",
    "                                                          n_estimators=n_estimators,\n",
    "                                                          max_depth=max_depth,\n",
    "                                                          min_samples_split=min_samples_split,\n",
    "                                                          min_samples_leaf=min_samples_leaf,\n",
    "                                                          criterion=criterion,\n",
    "                                                          class_weight='balanced')\n",
    "                    \n",
    "                    # Обучение на тренировочной выборке\n",
    "                    model_random_forest.fit(features_train, target_train)\n",
    "                    \n",
    "                    # Поиск предсказаний на валидационной выборке\n",
    "                    predictions = model_random_forest.predict(features_valid)\n",
    "                    \n",
    "                    # Вычисление точности модели\n",
    "                    accuracy = accuracy_score(target_valid, predictions)\n",
    "                    \n",
    "                    # Вычисление F1-меры модели\n",
    "                    f1 = f1_score(target_valid, predictions)\n",
    "                    \n",
    "                    # Вычисление AUC_ROC модели\n",
    "                    probabilities_valid = model_random_forest.predict_proba(features_valid)\n",
    "                    probabilities_one_valid = probabilities_valid[:, 1]\n",
    "                    auc_roc = roc_auc_score(target_valid, probabilities_one_valid)\n",
    "                    \n",
    "                    # Сохранение лучших гиперпараметров\n",
    "                    if f1 > best_f1:\n",
    "                        best_parametrs = [n_estimators, max_depth, min_samples_split, min_samples_leaf, criterion]\n",
    "                        best_accuracy = accuracy\n",
    "                        best_f1 = f1\n",
    "                        best_auc_roc = auc_roc\n",
    "\n",
    "# вывод лучших параметров\n",
    "print('''Наилучшая точность: {}\n",
    "F1-мера: {}\n",
    "AUC ROC: {}\n",
    "Параметры модели:\n",
    "   n_estimators = {}\n",
    "   max_depth = {}\n",
    "   min_samples_split = {}\n",
    "   min_samples_leaf = {}\n",
    "   criterion = {} '''.format(best_accuracy,\n",
    "                             best_f1,\n",
    "                             best_auc_roc,\n",
    "                             best_parametrs[0],\n",
    "                             best_parametrs[1],\n",
    "                             best_parametrs[2],\n",
    "                             best_parametrs[3],\n",
    "                             best_parametrs[4]\n",
    "                            ))                       "
   ]
  },
  {
   "cell_type": "markdown",
   "metadata": {},
   "source": [
    "*Логистическая регрессия*"
   ]
  },
  {
   "cell_type": "code",
   "execution_count": 23,
   "metadata": {},
   "outputs": [
    {
     "name": "stdout",
     "output_type": "stream",
     "text": [
      "Наилучшая точность: 0.7185\n",
      "F1-мера: 0.49687220732797144\n",
      "AUC ROC: 0.775363643444245\n"
     ]
    }
   ],
   "source": [
    "# Подставим гиперпараметры в модель\n",
    "model_logistic_regression = LogisticRegression(random_state=12345, solver='lbfgs', max_iter=1000, class_weight='balanced')\n",
    "\n",
    "# Обучение на тренировочной выборке\n",
    "model_logistic_regression.fit(features_train, target_train)\n",
    "\n",
    "# Поиск предсказаний на валидационной выборке\n",
    "predictions = model_logistic_regression.predict(features_valid)\n",
    "\n",
    "# Вычисление метрики модели    \n",
    "result = model_logistic_regression.score(features_valid, target_valid)\n",
    "\n",
    "# Вычисление F1-меры модели\n",
    "f1 = f1_score(target_valid, predictions)\n",
    "\n",
    "# Вычисление AUC_ROC модели\n",
    "probabilities_valid = model_logistic_regression.predict_proba(features_valid)\n",
    "probabilities_one_valid = probabilities_valid[:, 1]\n",
    "auc_roc = roc_auc_score(target_valid, probabilities_one_valid)\n",
    "\n",
    "# Вывод\n",
    "print('Наилучшая точность:', result)\n",
    "print('F1-мера:', f1)\n",
    "print('AUC ROC:', auc_roc)"
   ]
  },
  {
   "cell_type": "markdown",
   "metadata": {},
   "source": [
    "***Увеличение выборки***"
   ]
  },
  {
   "cell_type": "code",
   "execution_count": 24,
   "metadata": {},
   "outputs": [],
   "source": [
    "def upsample(features, target, repeat):\n",
    "    features_zeros = features[target == 0]\n",
    "    features_ones = features[target == 1]\n",
    "    target_zeros = target[target == 0]\n",
    "    target_ones = target[target == 1]\n",
    "\n",
    "    features_upsampled = pd.concat([features_zeros] + [features_ones] * repeat)\n",
    "    target_upsampled = pd.concat([target_zeros] + [target_ones] * repeat)\n",
    "    \n",
    "    features_upsampled, target_upsampled = shuffle(\n",
    "        features_upsampled, target_upsampled, random_state=12345)\n",
    "    \n",
    "    return features_upsampled, target_upsampled"
   ]
  },
  {
   "cell_type": "code",
   "execution_count": 25,
   "metadata": {},
   "outputs": [],
   "source": [
    "features_upsampled, target_upsampled = upsample(features_train, target_train, 4)"
   ]
  },
  {
   "cell_type": "markdown",
   "metadata": {},
   "source": [
    "*Дерево решений*"
   ]
  },
  {
   "cell_type": "code",
   "execution_count": 26,
   "metadata": {},
   "outputs": [
    {
     "name": "stdout",
     "output_type": "stream",
     "text": [
      "Наилучшая точность: 0.779\n",
      "F1-мера: 0.5526315789473684\n",
      "AUC ROC: 0.7918303214495191\n",
      "Параметры модели:\n",
      "   max_depth = 8\n",
      "   min_samples_split = 2\n",
      "   min_samples_leaf = 3\n",
      "   criterion = entropy \n"
     ]
    }
   ],
   "source": [
    "# Создадим переменные для лучших гиперпараметров\n",
    "best_parametrs = []\n",
    "best_accuracy = 0\n",
    "best_f1 = 0\n",
    "best_auc_roc = 0\n",
    "\n",
    "# В цикле последовательно меняем гиперпараметры\n",
    "for max_depth in range(1,10):\n",
    "    for min_samples_split in range(2,10):\n",
    "        for min_samples_leaf in range(1,10):\n",
    "            for criterion in ['gini', 'entropy']:\n",
    "                \n",
    "                # Подставим гиперпараметры в модель\n",
    "                model_decision_tree = DecisionTreeClassifier(random_state=12345,\n",
    "                                                      max_depth=max_depth,\n",
    "                                                      min_samples_split=min_samples_split,\n",
    "                                                      min_samples_leaf=min_samples_leaf,\n",
    "                                                      criterion=criterion)\n",
    "                \n",
    "                # Обучение на тренировочной выборке\n",
    "                model_decision_tree.fit(features_upsampled, target_upsampled)\n",
    "                \n",
    "                # Поиск предсказаний на валидационной выборке\n",
    "                predictions = model_decision_tree.predict(features_valid)\n",
    "                \n",
    "                # Вычисление точности модели\n",
    "                accuracy = accuracy_score(target_valid, predictions)\n",
    "                \n",
    "                # Вычисление F1-меры модели\n",
    "                f1 = f1_score(target_valid, predictions)\n",
    "                \n",
    "                # Вычисление AUC_ROC модели\n",
    "                probabilities_valid = model_decision_tree.predict_proba(features_valid)\n",
    "                probabilities_one_valid = probabilities_valid[:, 1]\n",
    "                auc_roc = roc_auc_score(target_valid, probabilities_one_valid)\n",
    "                \n",
    "                # Сохранение лучших гиперпараметров\n",
    "                if f1 > best_f1:\n",
    "                    best_parametrs = [max_depth, min_samples_split, min_samples_leaf, criterion]\n",
    "                    best_accuracy = accuracy\n",
    "                    best_f1 = f1\n",
    "                    best_auc_roc = auc_roc\n",
    "\n",
    "# вывод лучших параметров\n",
    "print('''Наилучшая точность: {}\n",
    "F1-мера: {}\n",
    "AUC ROC: {}\n",
    "Параметры модели:\n",
    "   max_depth = {}\n",
    "   min_samples_split = {}\n",
    "   min_samples_leaf = {}\n",
    "   criterion = {} '''.format(best_accuracy,\n",
    "                             best_f1,\n",
    "                             best_auc_roc,\n",
    "                             best_parametrs[0],\n",
    "                             best_parametrs[1],\n",
    "                             best_parametrs[2],\n",
    "                             best_parametrs[3]\n",
    "                            ))"
   ]
  },
  {
   "cell_type": "markdown",
   "metadata": {},
   "source": [
    "*Случайный лес*"
   ]
  },
  {
   "cell_type": "code",
   "execution_count": 27,
   "metadata": {},
   "outputs": [
    {
     "name": "stdout",
     "output_type": "stream",
     "text": [
      "Наилучшая точность: 0.8235\n",
      "F1-мера: 0.6133625410733844\n",
      "AUC ROC: 0.8527265906768036\n",
      "Параметры модели:\n",
      "   n_estimators = 10\n",
      "   max_depth = 9\n",
      "   min_samples_split = 8\n",
      "   min_samples_leaf = 2\n",
      "   criterion = gini \n"
     ]
    }
   ],
   "source": [
    "# Создадим переменные для лучших гиперпараметров\n",
    "best_parametrs = []\n",
    "best_accuracy = 0\n",
    "best_f1 = 0\n",
    "best_auc_roc = 0\n",
    "\n",
    "# В цикле последовательно меняем гиперпараметры\n",
    "for n_estimators in (1,10):\n",
    "    for max_depth in range(1,10):\n",
    "        for min_samples_split in range(2,10):\n",
    "            for min_samples_leaf in range(1,10):\n",
    "                for criterion in ['gini', 'entropy']:\n",
    "                    \n",
    "                    # Подставим гиперпараметры в модель\n",
    "                    model_random_forest = RandomForestClassifier(random_state=12345,\n",
    "                                                          n_estimators=n_estimators,\n",
    "                                                          max_depth=max_depth,\n",
    "                                                          min_samples_split=min_samples_split,\n",
    "                                                          min_samples_leaf=min_samples_leaf,\n",
    "                                                          criterion=criterion)\n",
    "                    \n",
    "                    # Обучение на тренировочной выборке\n",
    "                    model_random_forest.fit(features_upsampled, target_upsampled)\n",
    "                    \n",
    "                    # Поиск предсказаний на валидационной выборке\n",
    "                    predictions = model_random_forest.predict(features_valid)\n",
    "                    \n",
    "                    # Вычисление точности модели\n",
    "                    accuracy = accuracy_score(target_valid, predictions)\n",
    "                    \n",
    "                    # Вычисление F1-меры модели\n",
    "                    f1 = f1_score(target_valid, predictions)\n",
    "                    \n",
    "                    # Вычисление AUC_ROC модели\n",
    "                    probabilities_valid = model_random_forest.predict_proba(features_valid)\n",
    "                    probabilities_one_valid = probabilities_valid[:, 1]\n",
    "                    auc_roc = roc_auc_score(target_valid, probabilities_one_valid)\n",
    "                    \n",
    "                    # Сохранение лучших гиперпараметров\n",
    "                    if f1 > best_f1:\n",
    "                        best_parametrs = [n_estimators, max_depth, min_samples_split, min_samples_leaf, criterion]\n",
    "                        best_accuracy = accuracy\n",
    "                        best_f1 = f1\n",
    "                        best_auc_roc = auc_roc\n",
    "\n",
    "# вывод лучших параметров\n",
    "print('''Наилучшая точность: {}\n",
    "F1-мера: {}\n",
    "AUC ROC: {}\n",
    "Параметры модели:\n",
    "   n_estimators = {}\n",
    "   max_depth = {}\n",
    "   min_samples_split = {}\n",
    "   min_samples_leaf = {}\n",
    "   criterion = {} '''.format(best_accuracy,\n",
    "                             best_f1,\n",
    "                             best_auc_roc,\n",
    "                             best_parametrs[0],\n",
    "                             best_parametrs[1],\n",
    "                             best_parametrs[2],\n",
    "                             best_parametrs[3],\n",
    "                             best_parametrs[4]\n",
    "                            ))                       "
   ]
  },
  {
   "cell_type": "markdown",
   "metadata": {},
   "source": [
    "*Логистическая регрессия*"
   ]
  },
  {
   "cell_type": "code",
   "execution_count": 28,
   "metadata": {},
   "outputs": [
    {
     "name": "stdout",
     "output_type": "stream",
     "text": [
      "Наилучшая точность: 0.7135\n",
      "F1-мера: 0.496042216358839\n",
      "AUC ROC: 0.7753731805906354\n"
     ]
    }
   ],
   "source": [
    "# Подставим гиперпараметры в модель\n",
    "model_logistic_regression = LogisticRegression(random_state=12345, solver='lbfgs', max_iter=1000)\n",
    "\n",
    "# Обучение на тренировочной выборке\n",
    "model_logistic_regression.fit(features_upsampled, target_upsampled)\n",
    "\n",
    "# Поиск предсказаний на валидационной выборке\n",
    "predictions = model_logistic_regression.predict(features_valid)\n",
    "\n",
    "# Вычисление метрики модели    \n",
    "result = model_logistic_regression.score(features_valid, target_valid)\n",
    "\n",
    "# Вычисление F1-меры модели\n",
    "f1 = f1_score(target_valid, predictions)\n",
    "\n",
    "# Вычисление AUC_ROC модели\n",
    "probabilities_valid = model_logistic_regression.predict_proba(features_valid)\n",
    "probabilities_one_valid = probabilities_valid[:, 1]\n",
    "auc_roc = roc_auc_score(target_valid, probabilities_one_valid)\n",
    "\n",
    "# Вывод\n",
    "print('Наилучшая точность:', result)\n",
    "print('F1-мера:', f1)\n",
    "print('AUC ROC:', auc_roc)"
   ]
  },
  {
   "cell_type": "markdown",
   "metadata": {},
   "source": [
    "***Уменьшение выборки***"
   ]
  },
  {
   "cell_type": "code",
   "execution_count": 29,
   "metadata": {},
   "outputs": [],
   "source": [
    "def downsample(features, target, fraction):\n",
    "    features_zeros = features[target == 0]\n",
    "    features_ones = features[target == 1]\n",
    "    target_zeros = target[target == 0]\n",
    "    target_ones = target[target == 1]\n",
    "\n",
    "    features_downsampled = pd.concat(\n",
    "        [features_zeros.sample(frac=fraction, random_state=12345)] + [features_ones])\n",
    "    target_downsampled = pd.concat(\n",
    "        [target_zeros.sample(frac=fraction, random_state=12345)] + [target_ones])\n",
    "    \n",
    "    features_downsampled, target_downsampled = shuffle(\n",
    "        features_downsampled, target_downsampled, random_state=12345)\n",
    "    \n",
    "    return features_downsampled, target_downsampled"
   ]
  },
  {
   "cell_type": "code",
   "execution_count": 30,
   "metadata": {},
   "outputs": [],
   "source": [
    "features_downsampled, target_downsampled = downsample(features_train, target_train, 0.25)"
   ]
  },
  {
   "cell_type": "markdown",
   "metadata": {},
   "source": [
    "*Дерево решений*"
   ]
  },
  {
   "cell_type": "code",
   "execution_count": 31,
   "metadata": {},
   "outputs": [
    {
     "name": "stdout",
     "output_type": "stream",
     "text": [
      "Наилучшая точность: 0.77\n",
      "F1-мера: 0.5568400770712909\n",
      "AUC ROC: 0.8273339384122876\n",
      "Параметры модели:\n",
      "   max_depth = 6\n",
      "   min_samples_split = 9\n",
      "   min_samples_leaf = 3\n",
      "   criterion = gini \n"
     ]
    }
   ],
   "source": [
    "# Создадим переменные для лучших гиперпараметров\n",
    "best_parametrs = []\n",
    "best_accuracy = 0\n",
    "best_f1 = 0\n",
    "best_auc_roc = 0\n",
    "\n",
    "# В цикле последовательно меняем гиперпараметры\n",
    "for max_depth in range(1,10):\n",
    "    for min_samples_split in range(2,10):\n",
    "        for min_samples_leaf in range(1,10):\n",
    "            for criterion in ['gini', 'entropy']:\n",
    "                \n",
    "                # Подставим гиперпараметры в модель\n",
    "                model_decision_tree = DecisionTreeClassifier(random_state=12345,\n",
    "                                                      max_depth=max_depth,\n",
    "                                                      min_samples_split=min_samples_split,\n",
    "                                                      min_samples_leaf=min_samples_leaf,\n",
    "                                                      criterion=criterion)\n",
    "                \n",
    "                # Обучение на тренировочной выборке\n",
    "                model_decision_tree.fit(features_downsampled, target_downsampled)\n",
    "                \n",
    "                # Поиск предсказаний на валидационной выборке\n",
    "                predictions = model_decision_tree.predict(features_valid)\n",
    "                \n",
    "                # Вычисление точности модели\n",
    "                accuracy = accuracy_score(target_valid, predictions)\n",
    "                \n",
    "                # Вычисление F1-меры модели\n",
    "                f1 = f1_score(target_valid, predictions)\n",
    "                \n",
    "                # Вычисление AUC_ROC модели\n",
    "                probabilities_valid = model_decision_tree.predict_proba(features_valid)\n",
    "                probabilities_one_valid = probabilities_valid[:, 1]\n",
    "                auc_roc = roc_auc_score(target_valid, probabilities_one_valid)\n",
    "                \n",
    "                # Сохранение лучших гиперпараметров\n",
    "                if f1 > best_f1:\n",
    "                    best_parametrs = [max_depth, min_samples_split, min_samples_leaf, criterion]\n",
    "                    best_accuracy = accuracy\n",
    "                    best_f1 = f1\n",
    "                    best_auc_roc = auc_roc\n",
    "\n",
    "# вывод лучших параметров\n",
    "print('''Наилучшая точность: {}\n",
    "F1-мера: {}\n",
    "AUC ROC: {}\n",
    "Параметры модели:\n",
    "   max_depth = {}\n",
    "   min_samples_split = {}\n",
    "   min_samples_leaf = {}\n",
    "   criterion = {} '''.format(best_accuracy,\n",
    "                             best_f1,\n",
    "                             best_auc_roc,\n",
    "                             best_parametrs[0],\n",
    "                             best_parametrs[1],\n",
    "                             best_parametrs[2],\n",
    "                             best_parametrs[3]\n",
    "                            ))"
   ]
  },
  {
   "cell_type": "markdown",
   "metadata": {},
   "source": [
    "*Случайный лес*"
   ]
  },
  {
   "cell_type": "code",
   "execution_count": 32,
   "metadata": {},
   "outputs": [
    {
     "name": "stdout",
     "output_type": "stream",
     "text": [
      "Наилучшая точность: 0.791\n",
      "F1-мера: 0.5957446808510638\n",
      "AUC ROC: 0.8475813001991674\n",
      "Параметры модели:\n",
      "   n_estimators = 10\n",
      "   max_depth = 7\n",
      "   min_samples_split = 4\n",
      "   min_samples_leaf = 1\n",
      "   criterion = gini \n"
     ]
    }
   ],
   "source": [
    "# Создадим переменные для лучших гиперпараметров\n",
    "best_parametrs = []\n",
    "best_accuracy = 0\n",
    "best_f1 = 0\n",
    "best_auc_roc = 0\n",
    "\n",
    "# В цикле последовательно меняем гиперпараметры\n",
    "for n_estimators in (1,10):\n",
    "    for max_depth in range(1,10):\n",
    "        for min_samples_split in range(2,10):\n",
    "            for min_samples_leaf in range(1,10):\n",
    "                for criterion in ['gini', 'entropy']:\n",
    "                    \n",
    "                    # Подставим гиперпараметры в модель\n",
    "                    model_random_forest = RandomForestClassifier(random_state=12345,\n",
    "                                                          n_estimators=n_estimators,\n",
    "                                                          max_depth=max_depth,\n",
    "                                                          min_samples_split=min_samples_split,\n",
    "                                                          min_samples_leaf=min_samples_leaf,\n",
    "                                                          criterion=criterion)\n",
    "                    \n",
    "                    # Обучение на тренировочной выборке\n",
    "                    model_random_forest.fit(features_downsampled, target_downsampled)\n",
    "                    \n",
    "                    # Поиск предсказаний на валидационной выборке\n",
    "                    predictions = model_random_forest.predict(features_valid)\n",
    "                    \n",
    "                    # Вычисление точности модели\n",
    "                    accuracy = accuracy_score(target_valid, predictions)\n",
    "                    \n",
    "                    # Вычисление F1-меры модели\n",
    "                    f1 = f1_score(target_valid, predictions)\n",
    "                    \n",
    "                    # Вычисление AUC_ROC модели\n",
    "                    probabilities_valid = model_random_forest.predict_proba(features_valid)\n",
    "                    probabilities_one_valid = probabilities_valid[:, 1]\n",
    "                    auc_roc = roc_auc_score(target_valid, probabilities_one_valid)\n",
    "                    \n",
    "                    # Сохранение лучших гиперпараметров\n",
    "                    if f1 > best_f1:\n",
    "                        best_parametrs = [n_estimators, max_depth, min_samples_split, min_samples_leaf, criterion]\n",
    "                        best_accuracy = accuracy\n",
    "                        best_f1 = f1\n",
    "                        best_auc_roc = auc_roc\n",
    "\n",
    "# вывод лучших параметров\n",
    "print('''Наилучшая точность: {}\n",
    "F1-мера: {}\n",
    "AUC ROC: {}\n",
    "Параметры модели:\n",
    "   n_estimators = {}\n",
    "   max_depth = {}\n",
    "   min_samples_split = {}\n",
    "   min_samples_leaf = {}\n",
    "   criterion = {} '''.format(best_accuracy,\n",
    "                             best_f1,\n",
    "                             best_auc_roc,\n",
    "                             best_parametrs[0],\n",
    "                             best_parametrs[1],\n",
    "                             best_parametrs[2],\n",
    "                             best_parametrs[3],\n",
    "                             best_parametrs[4]\n",
    "                            ))                       "
   ]
  },
  {
   "cell_type": "markdown",
   "metadata": {},
   "source": [
    "*Логистическая регрессия*"
   ]
  },
  {
   "cell_type": "code",
   "execution_count": 33,
   "metadata": {},
   "outputs": [
    {
     "name": "stdout",
     "output_type": "stream",
     "text": [
      "Наилучшая точность: 0.707\n",
      "F1-мера: 0.49043478260869566\n",
      "AUC ROC: 0.7723658004288537\n"
     ]
    }
   ],
   "source": [
    "# Подставим гиперпараметры в модель\n",
    "model_logistic_regression = LogisticRegression(random_state=12345, solver='lbfgs', max_iter=1000)\n",
    "\n",
    "# Обучение на тренировочной выборке\n",
    "model_logistic_regression.fit(features_downsampled, target_downsampled)\n",
    "\n",
    "# Поиск предсказаний на валидационной выборке\n",
    "predictions = model_logistic_regression.predict(features_valid)\n",
    "\n",
    "# Вычисление метрики модели    \n",
    "result = model_logistic_regression.score(features_valid, target_valid)\n",
    "\n",
    "# Вычисление F1-меры модели\n",
    "f1 = f1_score(target_valid, predictions)\n",
    "\n",
    "# Вычисление AUC_ROC модели\n",
    "probabilities_valid = model_logistic_regression.predict_proba(features_valid)\n",
    "probabilities_one_valid = probabilities_valid[:, 1]\n",
    "auc_roc = roc_auc_score(target_valid, probabilities_one_valid)\n",
    "\n",
    "# Вывод\n",
    "print('Наилучшая точность:', result)\n",
    "print('F1-мера:', f1)\n",
    "print('AUC ROC:', auc_roc)"
   ]
  },
  {
   "cell_type": "markdown",
   "metadata": {},
   "source": [
    "***Вывод:*** Для борьбы с дисбалансом было использовано три метода - взвешивание класов, уменьшение и увеличение выборки. Эти методы были применены к моделям: дерево решений, случайный лес и логистическая регрессия. По наибольшему значению F1 меры 0.6169265033407573 делаем вывод, что лучший метод - взвешивание класов для модели случайный лес. Наилучшие гиперпараметры модели: \n",
    "* n_estimators = 10\n",
    "* max_depth = 8\n",
    "* min_samples_split = 7\n",
    "* min_samples_leaf = 3\n",
    "* criterion = entropy"
   ]
  },
  {
   "cell_type": "markdown",
   "metadata": {},
   "source": [
    "## Тестирование модели"
   ]
  },
  {
   "cell_type": "markdown",
   "metadata": {},
   "source": [
    "Проверим выбранную модель на тестовой выборке, используя наилучшие гиперпараметры"
   ]
  },
  {
   "cell_type": "code",
   "execution_count": 34,
   "metadata": {},
   "outputs": [
    {
     "name": "stdout",
     "output_type": "stream",
     "text": [
      "Наилучшая точность: 0.832\n",
      "F1-мера: 0.6339869281045751\n",
      "AUC ROC: 0.8591744684417202\n"
     ]
    }
   ],
   "source": [
    "# Подставим гиперпараметры в модель\n",
    "model_random_forest = RandomForestClassifier(random_state=12345,\n",
    "                                            n_estimators=10,\n",
    "                                            max_depth=9,\n",
    "                                            min_samples_split=8,\n",
    "                                            min_samples_leaf=2,\n",
    "                                            criterion='gini',\n",
    "                                            class_weight='balanced')\n",
    "                    \n",
    "# Обучение на тренировочной выборке\n",
    "model_random_forest.fit(features_train, target_train)\n",
    "                    \n",
    "# Поиск предсказаний на тестовой выборке\n",
    "predictions = model_random_forest.predict(features_test)\n",
    "                    \n",
    "# Вычисление точности модели\n",
    "accuracy = accuracy_score(target_test, predictions)\n",
    "                    \n",
    "# Вычисление F1-меры модели\n",
    "f1 = f1_score(target_test, predictions)\n",
    "                    \n",
    "# Вычисление AUC_ROC модели\n",
    "probabilities_test = model_random_forest.predict_proba(features_test)\n",
    "probabilities_one_test = probabilities_test[:, 1]\n",
    "auc_roc = roc_auc_score(target_test, probabilities_one_test)\n",
    "\n",
    "# Вывод\n",
    "print('Наилучшая точность:', accuracy)\n",
    "print('F1-мера:', f1)\n",
    "print('AUC ROC:', auc_roc)"
   ]
  },
  {
   "cell_type": "markdown",
   "metadata": {},
   "source": [
    "***Вывод:*** Модель случайный лес с использованием метода взвешивания классов проверена на тестовой выборке. Удалось достичь F1-меры не менее 0.59.\n",
    "\n",
    "* F1-мера: 0.6339869281045751\n",
    "* AUC ROC: 0.8591744684417202"
   ]
  }
 ],
 "metadata": {
  "ExecuteTimeLog": [
   {
    "duration": 398,
    "start_time": "2023-04-26T04:59:58.308Z"
   },
   {
    "duration": 142,
    "start_time": "2023-04-26T04:59:59.215Z"
   },
   {
    "duration": 3,
    "start_time": "2023-04-26T05:01:42.464Z"
   },
   {
    "duration": 165,
    "start_time": "2023-04-26T05:01:43.017Z"
   },
   {
    "duration": 19,
    "start_time": "2023-04-26T05:01:45.267Z"
   },
   {
    "duration": 12,
    "start_time": "2023-04-26T05:01:46.944Z"
   },
   {
    "duration": 40,
    "start_time": "2023-04-26T05:19:57.598Z"
   },
   {
    "duration": 1879,
    "start_time": "2023-04-26T05:20:26.061Z"
   },
   {
    "duration": 2,
    "start_time": "2023-04-26T05:21:12.873Z"
   },
   {
    "duration": 44,
    "start_time": "2023-04-26T05:21:13.432Z"
   },
   {
    "duration": 15,
    "start_time": "2023-04-26T05:21:13.913Z"
   },
   {
    "duration": 15,
    "start_time": "2023-04-26T05:21:14.201Z"
   },
   {
    "duration": 51,
    "start_time": "2023-04-26T05:21:14.705Z"
   },
   {
    "duration": 1364,
    "start_time": "2023-04-26T05:21:15.224Z"
   },
   {
    "duration": 8,
    "start_time": "2023-04-26T05:25:44.799Z"
   },
   {
    "duration": 11,
    "start_time": "2023-04-26T05:28:07.214Z"
   },
   {
    "duration": 7,
    "start_time": "2023-04-26T05:30:37.534Z"
   },
   {
    "duration": 10,
    "start_time": "2023-04-26T07:48:37.175Z"
   },
   {
    "duration": 655,
    "start_time": "2023-04-26T07:48:54.300Z"
   },
   {
    "duration": 41,
    "start_time": "2023-04-26T07:48:54.957Z"
   },
   {
    "duration": 19,
    "start_time": "2023-04-26T07:48:54.999Z"
   },
   {
    "duration": 14,
    "start_time": "2023-04-26T07:48:55.019Z"
   },
   {
    "duration": 62,
    "start_time": "2023-04-26T07:48:55.036Z"
   },
   {
    "duration": 1541,
    "start_time": "2023-04-26T07:48:55.099Z"
   },
   {
    "duration": 7,
    "start_time": "2023-04-26T07:48:56.642Z"
   },
   {
    "duration": 6,
    "start_time": "2023-04-26T07:48:56.650Z"
   },
   {
    "duration": 6,
    "start_time": "2023-04-26T07:49:26.796Z"
   },
   {
    "duration": 686,
    "start_time": "2023-04-26T08:16:35.184Z"
   },
   {
    "duration": 50,
    "start_time": "2023-04-26T08:16:35.872Z"
   },
   {
    "duration": 21,
    "start_time": "2023-04-26T08:16:35.924Z"
   },
   {
    "duration": 12,
    "start_time": "2023-04-26T08:16:35.946Z"
   },
   {
    "duration": 55,
    "start_time": "2023-04-26T08:16:35.960Z"
   },
   {
    "duration": 1598,
    "start_time": "2023-04-26T08:16:36.016Z"
   },
   {
    "duration": 9,
    "start_time": "2023-04-26T08:16:37.616Z"
   },
   {
    "duration": 5,
    "start_time": "2023-04-26T08:16:37.626Z"
   },
   {
    "duration": 24,
    "start_time": "2023-04-26T08:16:37.633Z"
   },
   {
    "duration": 11,
    "start_time": "2023-04-26T08:16:37.659Z"
   },
   {
    "duration": 714,
    "start_time": "2023-04-26T08:31:38.019Z"
   },
   {
    "duration": 44,
    "start_time": "2023-04-26T08:31:38.735Z"
   },
   {
    "duration": 31,
    "start_time": "2023-04-26T08:31:38.780Z"
   },
   {
    "duration": 29,
    "start_time": "2023-04-26T08:31:38.818Z"
   },
   {
    "duration": 40,
    "start_time": "2023-04-26T08:31:38.849Z"
   },
   {
    "duration": 1716,
    "start_time": "2023-04-26T08:31:38.890Z"
   },
   {
    "duration": 12,
    "start_time": "2023-04-26T08:31:40.608Z"
   },
   {
    "duration": 124,
    "start_time": "2023-04-26T08:31:40.621Z"
   },
   {
    "duration": 0,
    "start_time": "2023-04-26T08:31:40.747Z"
   },
   {
    "duration": 0,
    "start_time": "2023-04-26T08:31:40.749Z"
   },
   {
    "duration": 683,
    "start_time": "2023-04-26T08:32:10.783Z"
   },
   {
    "duration": 49,
    "start_time": "2023-04-26T08:32:11.467Z"
   },
   {
    "duration": 30,
    "start_time": "2023-04-26T08:32:11.518Z"
   },
   {
    "duration": 17,
    "start_time": "2023-04-26T08:32:11.550Z"
   },
   {
    "duration": 44,
    "start_time": "2023-04-26T08:32:11.569Z"
   },
   {
    "duration": 1850,
    "start_time": "2023-04-26T08:32:11.615Z"
   },
   {
    "duration": 8,
    "start_time": "2023-04-26T08:32:13.467Z"
   },
   {
    "duration": 15,
    "start_time": "2023-04-26T08:32:13.477Z"
   },
   {
    "duration": 10,
    "start_time": "2023-04-26T08:32:13.494Z"
   },
   {
    "duration": 14,
    "start_time": "2023-04-26T08:32:13.506Z"
   },
   {
    "duration": 660,
    "start_time": "2023-04-26T09:40:52.185Z"
   },
   {
    "duration": 40,
    "start_time": "2023-04-26T09:40:52.847Z"
   },
   {
    "duration": 20,
    "start_time": "2023-04-26T09:40:52.889Z"
   },
   {
    "duration": 19,
    "start_time": "2023-04-26T09:40:52.911Z"
   },
   {
    "duration": 50,
    "start_time": "2023-04-26T09:40:52.932Z"
   },
   {
    "duration": 1692,
    "start_time": "2023-04-26T09:40:52.984Z"
   },
   {
    "duration": 7,
    "start_time": "2023-04-26T09:40:54.678Z"
   },
   {
    "duration": 16,
    "start_time": "2023-04-26T09:40:54.686Z"
   },
   {
    "duration": 4,
    "start_time": "2023-04-26T09:40:54.707Z"
   },
   {
    "duration": 9,
    "start_time": "2023-04-26T09:40:54.713Z"
   },
   {
    "duration": 65,
    "start_time": "2023-04-26T09:40:54.723Z"
   },
   {
    "duration": 0,
    "start_time": "2023-04-26T09:40:54.799Z"
   },
   {
    "duration": 1341,
    "start_time": "2023-04-26T09:41:39.085Z"
   },
   {
    "duration": 39,
    "start_time": "2023-04-26T09:41:40.429Z"
   },
   {
    "duration": 17,
    "start_time": "2023-04-26T09:41:40.470Z"
   },
   {
    "duration": 22,
    "start_time": "2023-04-26T09:41:40.490Z"
   },
   {
    "duration": 38,
    "start_time": "2023-04-26T09:41:40.514Z"
   },
   {
    "duration": 1456,
    "start_time": "2023-04-26T09:41:40.553Z"
   },
   {
    "duration": 8,
    "start_time": "2023-04-26T09:41:42.011Z"
   },
   {
    "duration": 7,
    "start_time": "2023-04-26T09:41:42.021Z"
   },
   {
    "duration": 5,
    "start_time": "2023-04-26T09:41:42.030Z"
   },
   {
    "duration": 7,
    "start_time": "2023-04-26T09:41:42.037Z"
   },
   {
    "duration": 125,
    "start_time": "2023-04-26T09:41:42.045Z"
   },
   {
    "duration": 0,
    "start_time": "2023-04-26T09:41:42.172Z"
   },
   {
    "duration": 1355,
    "start_time": "2023-04-26T09:48:23.953Z"
   },
   {
    "duration": 39,
    "start_time": "2023-04-26T09:48:25.310Z"
   },
   {
    "duration": 17,
    "start_time": "2023-04-26T09:48:25.350Z"
   },
   {
    "duration": 11,
    "start_time": "2023-04-26T09:48:25.369Z"
   },
   {
    "duration": 44,
    "start_time": "2023-04-26T09:48:25.383Z"
   },
   {
    "duration": 1538,
    "start_time": "2023-04-26T09:48:25.430Z"
   },
   {
    "duration": 8,
    "start_time": "2023-04-26T09:48:26.970Z"
   },
   {
    "duration": 40,
    "start_time": "2023-04-26T09:48:26.980Z"
   },
   {
    "duration": 27,
    "start_time": "2023-04-26T09:48:27.022Z"
   },
   {
    "duration": 32,
    "start_time": "2023-04-26T09:48:27.050Z"
   },
   {
    "duration": 226,
    "start_time": "2023-04-26T09:48:27.083Z"
   },
   {
    "duration": 0,
    "start_time": "2023-04-26T09:48:27.310Z"
   },
   {
    "duration": 1315,
    "start_time": "2023-04-26T09:56:06.731Z"
   },
   {
    "duration": 39,
    "start_time": "2023-04-26T09:56:08.048Z"
   },
   {
    "duration": 24,
    "start_time": "2023-04-26T09:56:08.088Z"
   },
   {
    "duration": 15,
    "start_time": "2023-04-26T09:56:08.114Z"
   },
   {
    "duration": 38,
    "start_time": "2023-04-26T09:56:08.130Z"
   },
   {
    "duration": 1551,
    "start_time": "2023-04-26T09:56:08.169Z"
   },
   {
    "duration": 8,
    "start_time": "2023-04-26T09:56:09.722Z"
   },
   {
    "duration": 8,
    "start_time": "2023-04-26T09:56:09.732Z"
   },
   {
    "duration": 4,
    "start_time": "2023-04-26T09:56:09.742Z"
   },
   {
    "duration": 12,
    "start_time": "2023-04-26T09:56:09.748Z"
   },
   {
    "duration": 4,
    "start_time": "2023-04-26T09:56:09.762Z"
   },
   {
    "duration": 217,
    "start_time": "2023-04-26T09:56:09.768Z"
   },
   {
    "duration": 0,
    "start_time": "2023-04-26T09:56:09.987Z"
   },
   {
    "duration": 1415,
    "start_time": "2023-04-26T10:07:59.371Z"
   },
   {
    "duration": 60,
    "start_time": "2023-04-26T10:08:00.788Z"
   },
   {
    "duration": 17,
    "start_time": "2023-04-26T10:08:00.849Z"
   },
   {
    "duration": 55,
    "start_time": "2023-04-26T10:08:00.868Z"
   },
   {
    "duration": 40,
    "start_time": "2023-04-26T10:08:00.926Z"
   },
   {
    "duration": 1637,
    "start_time": "2023-04-26T10:08:00.968Z"
   },
   {
    "duration": 16,
    "start_time": "2023-04-26T10:08:02.610Z"
   },
   {
    "duration": 11,
    "start_time": "2023-04-26T10:08:02.628Z"
   },
   {
    "duration": 16,
    "start_time": "2023-04-26T10:08:02.641Z"
   },
   {
    "duration": 55,
    "start_time": "2023-04-26T10:08:02.659Z"
   },
   {
    "duration": 46,
    "start_time": "2023-04-26T10:08:02.716Z"
   },
   {
    "duration": 162,
    "start_time": "2023-04-26T10:08:02.764Z"
   },
   {
    "duration": 8,
    "start_time": "2023-04-26T10:08:02.928Z"
   },
   {
    "duration": 5,
    "start_time": "2023-04-26T10:09:47.354Z"
   },
   {
    "duration": 8,
    "start_time": "2023-04-26T10:09:47.883Z"
   },
   {
    "duration": 109,
    "start_time": "2023-04-26T10:09:48.540Z"
   },
   {
    "duration": 104,
    "start_time": "2023-04-26T10:10:36.054Z"
   },
   {
    "duration": 1,
    "start_time": "2023-04-26T10:10:36.159Z"
   },
   {
    "duration": 0,
    "start_time": "2023-04-26T10:10:36.161Z"
   },
   {
    "duration": 0,
    "start_time": "2023-04-26T10:10:36.162Z"
   },
   {
    "duration": 0,
    "start_time": "2023-04-26T10:10:36.163Z"
   },
   {
    "duration": 0,
    "start_time": "2023-04-26T10:10:36.164Z"
   },
   {
    "duration": 1,
    "start_time": "2023-04-26T10:10:36.164Z"
   },
   {
    "duration": 0,
    "start_time": "2023-04-26T10:10:36.165Z"
   },
   {
    "duration": 0,
    "start_time": "2023-04-26T10:10:36.166Z"
   },
   {
    "duration": 0,
    "start_time": "2023-04-26T10:10:36.167Z"
   },
   {
    "duration": 0,
    "start_time": "2023-04-26T10:10:36.168Z"
   },
   {
    "duration": 0,
    "start_time": "2023-04-26T10:10:36.169Z"
   },
   {
    "duration": 0,
    "start_time": "2023-04-26T10:10:36.170Z"
   },
   {
    "duration": 127,
    "start_time": "2023-04-26T10:12:40.026Z"
   },
   {
    "duration": 0,
    "start_time": "2023-04-26T10:12:40.155Z"
   },
   {
    "duration": 0,
    "start_time": "2023-04-26T10:12:40.156Z"
   },
   {
    "duration": 0,
    "start_time": "2023-04-26T10:12:40.158Z"
   },
   {
    "duration": 0,
    "start_time": "2023-04-26T10:12:40.159Z"
   },
   {
    "duration": 0,
    "start_time": "2023-04-26T10:12:40.160Z"
   },
   {
    "duration": 0,
    "start_time": "2023-04-26T10:12:40.162Z"
   },
   {
    "duration": 0,
    "start_time": "2023-04-26T10:12:40.163Z"
   },
   {
    "duration": 0,
    "start_time": "2023-04-26T10:12:40.164Z"
   },
   {
    "duration": 0,
    "start_time": "2023-04-26T10:12:40.166Z"
   },
   {
    "duration": 0,
    "start_time": "2023-04-26T10:12:40.167Z"
   },
   {
    "duration": 0,
    "start_time": "2023-04-26T10:12:40.168Z"
   },
   {
    "duration": 0,
    "start_time": "2023-04-26T10:12:40.169Z"
   },
   {
    "duration": 56,
    "start_time": "2023-04-26T10:15:17.269Z"
   },
   {
    "duration": 95,
    "start_time": "2023-04-26T10:17:56.479Z"
   },
   {
    "duration": 0,
    "start_time": "2023-04-26T10:17:56.576Z"
   },
   {
    "duration": 0,
    "start_time": "2023-04-26T10:17:56.577Z"
   },
   {
    "duration": 0,
    "start_time": "2023-04-26T10:17:56.579Z"
   },
   {
    "duration": 0,
    "start_time": "2023-04-26T10:17:56.580Z"
   },
   {
    "duration": 0,
    "start_time": "2023-04-26T10:17:56.581Z"
   },
   {
    "duration": 0,
    "start_time": "2023-04-26T10:17:56.582Z"
   },
   {
    "duration": 0,
    "start_time": "2023-04-26T10:17:56.584Z"
   },
   {
    "duration": 0,
    "start_time": "2023-04-26T10:17:56.585Z"
   },
   {
    "duration": 0,
    "start_time": "2023-04-26T10:17:56.586Z"
   },
   {
    "duration": 0,
    "start_time": "2023-04-26T10:17:56.587Z"
   },
   {
    "duration": 0,
    "start_time": "2023-04-26T10:17:56.588Z"
   },
   {
    "duration": 0,
    "start_time": "2023-04-26T10:17:56.589Z"
   },
   {
    "duration": 56,
    "start_time": "2023-04-26T10:19:17.177Z"
   },
   {
    "duration": 88,
    "start_time": "2023-04-26T10:19:38.939Z"
   },
   {
    "duration": 0,
    "start_time": "2023-04-26T10:19:39.030Z"
   },
   {
    "duration": 0,
    "start_time": "2023-04-26T10:19:39.031Z"
   },
   {
    "duration": 0,
    "start_time": "2023-04-26T10:19:39.033Z"
   },
   {
    "duration": 0,
    "start_time": "2023-04-26T10:19:39.034Z"
   },
   {
    "duration": 0,
    "start_time": "2023-04-26T10:19:39.035Z"
   },
   {
    "duration": 0,
    "start_time": "2023-04-26T10:19:39.036Z"
   },
   {
    "duration": 0,
    "start_time": "2023-04-26T10:19:39.037Z"
   },
   {
    "duration": 0,
    "start_time": "2023-04-26T10:19:39.038Z"
   },
   {
    "duration": 0,
    "start_time": "2023-04-26T10:19:39.040Z"
   },
   {
    "duration": 0,
    "start_time": "2023-04-26T10:19:39.041Z"
   },
   {
    "duration": 0,
    "start_time": "2023-04-26T10:19:39.042Z"
   },
   {
    "duration": 0,
    "start_time": "2023-04-26T10:19:39.043Z"
   },
   {
    "duration": 1396,
    "start_time": "2023-04-26T10:20:13.738Z"
   },
   {
    "duration": 38,
    "start_time": "2023-04-26T10:20:15.136Z"
   },
   {
    "duration": 16,
    "start_time": "2023-04-26T10:20:15.176Z"
   },
   {
    "duration": 18,
    "start_time": "2023-04-26T10:20:15.196Z"
   },
   {
    "duration": 43,
    "start_time": "2023-04-26T10:20:15.216Z"
   },
   {
    "duration": 1607,
    "start_time": "2023-04-26T10:20:15.261Z"
   },
   {
    "duration": 10,
    "start_time": "2023-04-26T10:20:16.870Z"
   },
   {
    "duration": 26,
    "start_time": "2023-04-26T10:20:16.881Z"
   },
   {
    "duration": 7,
    "start_time": "2023-04-26T10:20:16.908Z"
   },
   {
    "duration": 17,
    "start_time": "2023-04-26T10:20:16.917Z"
   },
   {
    "duration": 5,
    "start_time": "2023-04-26T10:20:16.935Z"
   },
   {
    "duration": 13,
    "start_time": "2023-04-26T10:20:16.942Z"
   },
   {
    "duration": 127,
    "start_time": "2023-04-26T10:20:16.956Z"
   },
   {
    "duration": 1359,
    "start_time": "2023-04-27T03:52:53.617Z"
   },
   {
    "duration": 167,
    "start_time": "2023-04-27T03:52:54.978Z"
   },
   {
    "duration": 17,
    "start_time": "2023-04-27T03:52:55.146Z"
   },
   {
    "duration": 11,
    "start_time": "2023-04-27T03:52:55.165Z"
   },
   {
    "duration": 36,
    "start_time": "2023-04-27T03:52:55.177Z"
   },
   {
    "duration": 1390,
    "start_time": "2023-04-27T03:52:55.214Z"
   },
   {
    "duration": 7,
    "start_time": "2023-04-27T03:52:56.605Z"
   },
   {
    "duration": 6,
    "start_time": "2023-04-27T03:52:56.613Z"
   },
   {
    "duration": 4,
    "start_time": "2023-04-27T03:52:56.621Z"
   },
   {
    "duration": 9,
    "start_time": "2023-04-27T03:52:56.627Z"
   },
   {
    "duration": 4,
    "start_time": "2023-04-27T03:52:56.637Z"
   },
   {
    "duration": 4,
    "start_time": "2023-04-27T03:52:56.643Z"
   },
   {
    "duration": 8,
    "start_time": "2023-04-27T03:52:56.649Z"
   },
   {
    "duration": 128,
    "start_time": "2023-04-27T03:52:56.659Z"
   },
   {
    "duration": 1310,
    "start_time": "2023-04-27T04:03:52.588Z"
   },
   {
    "duration": 41,
    "start_time": "2023-04-27T04:03:53.901Z"
   },
   {
    "duration": 20,
    "start_time": "2023-04-27T04:03:53.944Z"
   },
   {
    "duration": 14,
    "start_time": "2023-04-27T04:03:53.965Z"
   },
   {
    "duration": 52,
    "start_time": "2023-04-27T04:03:53.980Z"
   },
   {
    "duration": 1445,
    "start_time": "2023-04-27T04:03:54.034Z"
   },
   {
    "duration": 6,
    "start_time": "2023-04-27T04:03:55.481Z"
   },
   {
    "duration": 11,
    "start_time": "2023-04-27T04:03:55.489Z"
   },
   {
    "duration": 3,
    "start_time": "2023-04-27T04:03:55.501Z"
   },
   {
    "duration": 6,
    "start_time": "2023-04-27T04:03:55.506Z"
   },
   {
    "duration": 4,
    "start_time": "2023-04-27T04:03:55.513Z"
   },
   {
    "duration": 10,
    "start_time": "2023-04-27T04:03:55.518Z"
   },
   {
    "duration": 3,
    "start_time": "2023-04-27T04:03:55.530Z"
   },
   {
    "duration": 5,
    "start_time": "2023-04-27T04:03:55.535Z"
   },
   {
    "duration": 21844,
    "start_time": "2023-04-27T04:03:55.542Z"
   },
   {
    "duration": 1218,
    "start_time": "2023-04-27T04:09:45.838Z"
   },
   {
    "duration": 40,
    "start_time": "2023-04-27T04:09:47.058Z"
   },
   {
    "duration": 16,
    "start_time": "2023-04-27T04:09:47.099Z"
   },
   {
    "duration": 10,
    "start_time": "2023-04-27T04:09:47.117Z"
   },
   {
    "duration": 37,
    "start_time": "2023-04-27T04:09:47.128Z"
   },
   {
    "duration": 1409,
    "start_time": "2023-04-27T04:09:47.167Z"
   },
   {
    "duration": 7,
    "start_time": "2023-04-27T04:09:48.577Z"
   },
   {
    "duration": 6,
    "start_time": "2023-04-27T04:09:48.586Z"
   },
   {
    "duration": 5,
    "start_time": "2023-04-27T04:09:48.594Z"
   },
   {
    "duration": 7,
    "start_time": "2023-04-27T04:09:48.601Z"
   },
   {
    "duration": 4,
    "start_time": "2023-04-27T04:09:48.609Z"
   },
   {
    "duration": 10,
    "start_time": "2023-04-27T04:09:48.615Z"
   },
   {
    "duration": 5,
    "start_time": "2023-04-27T04:09:48.626Z"
   },
   {
    "duration": 6,
    "start_time": "2023-04-27T04:09:48.632Z"
   },
   {
    "duration": 21683,
    "start_time": "2023-04-27T04:09:48.639Z"
   },
   {
    "duration": 69462,
    "start_time": "2023-04-27T04:10:10.324Z"
   },
   {
    "duration": 611,
    "start_time": "2023-04-27T04:11:19.787Z"
   },
   {
    "duration": 1264,
    "start_time": "2023-04-27T04:29:19.411Z"
   },
   {
    "duration": 38,
    "start_time": "2023-04-27T04:29:20.677Z"
   },
   {
    "duration": 16,
    "start_time": "2023-04-27T04:29:20.717Z"
   },
   {
    "duration": 22,
    "start_time": "2023-04-27T04:29:20.734Z"
   },
   {
    "duration": 36,
    "start_time": "2023-04-27T04:29:20.759Z"
   },
   {
    "duration": 1475,
    "start_time": "2023-04-27T04:29:20.796Z"
   },
   {
    "duration": 6,
    "start_time": "2023-04-27T04:29:22.273Z"
   },
   {
    "duration": 6,
    "start_time": "2023-04-27T04:29:22.280Z"
   },
   {
    "duration": 3,
    "start_time": "2023-04-27T04:29:22.287Z"
   },
   {
    "duration": 6,
    "start_time": "2023-04-27T04:29:22.292Z"
   },
   {
    "duration": 4,
    "start_time": "2023-04-27T04:29:22.299Z"
   },
   {
    "duration": 11,
    "start_time": "2023-04-27T04:29:22.304Z"
   },
   {
    "duration": 4,
    "start_time": "2023-04-27T04:29:22.316Z"
   },
   {
    "duration": 6,
    "start_time": "2023-04-27T04:29:22.322Z"
   },
   {
    "duration": 70,
    "start_time": "2023-04-27T04:29:22.329Z"
   },
   {
    "duration": 0,
    "start_time": "2023-04-27T04:29:22.401Z"
   },
   {
    "duration": 0,
    "start_time": "2023-04-27T04:29:22.402Z"
   },
   {
    "duration": 1271,
    "start_time": "2023-04-27T04:30:08.206Z"
   },
   {
    "duration": 39,
    "start_time": "2023-04-27T04:30:09.478Z"
   },
   {
    "duration": 17,
    "start_time": "2023-04-27T04:30:09.518Z"
   },
   {
    "duration": 12,
    "start_time": "2023-04-27T04:30:09.536Z"
   },
   {
    "duration": 35,
    "start_time": "2023-04-27T04:30:09.550Z"
   },
   {
    "duration": 1493,
    "start_time": "2023-04-27T04:30:09.587Z"
   },
   {
    "duration": 8,
    "start_time": "2023-04-27T04:30:11.082Z"
   },
   {
    "duration": 6,
    "start_time": "2023-04-27T04:30:11.092Z"
   },
   {
    "duration": 5,
    "start_time": "2023-04-27T04:30:11.100Z"
   },
   {
    "duration": 8,
    "start_time": "2023-04-27T04:30:11.107Z"
   },
   {
    "duration": 5,
    "start_time": "2023-04-27T04:30:11.116Z"
   },
   {
    "duration": 15,
    "start_time": "2023-04-27T04:30:11.123Z"
   },
   {
    "duration": 5,
    "start_time": "2023-04-27T04:30:11.140Z"
   },
   {
    "duration": 14,
    "start_time": "2023-04-27T04:30:11.146Z"
   },
   {
    "duration": 142,
    "start_time": "2023-04-27T04:30:11.161Z"
   },
   {
    "duration": 0,
    "start_time": "2023-04-27T04:30:11.305Z"
   },
   {
    "duration": 0,
    "start_time": "2023-04-27T04:30:11.307Z"
   },
   {
    "duration": 1199,
    "start_time": "2023-04-27T04:32:44.754Z"
   },
   {
    "duration": 38,
    "start_time": "2023-04-27T04:32:45.955Z"
   },
   {
    "duration": 15,
    "start_time": "2023-04-27T04:32:45.995Z"
   },
   {
    "duration": 11,
    "start_time": "2023-04-27T04:32:46.012Z"
   },
   {
    "duration": 43,
    "start_time": "2023-04-27T04:32:46.024Z"
   },
   {
    "duration": 1419,
    "start_time": "2023-04-27T04:32:46.069Z"
   },
   {
    "duration": 7,
    "start_time": "2023-04-27T04:32:47.489Z"
   },
   {
    "duration": 11,
    "start_time": "2023-04-27T04:32:47.497Z"
   },
   {
    "duration": 4,
    "start_time": "2023-04-27T04:32:47.510Z"
   },
   {
    "duration": 6,
    "start_time": "2023-04-27T04:32:47.516Z"
   },
   {
    "duration": 16,
    "start_time": "2023-04-27T04:32:47.523Z"
   },
   {
    "duration": 10,
    "start_time": "2023-04-27T04:32:47.540Z"
   },
   {
    "duration": 4,
    "start_time": "2023-04-27T04:32:47.551Z"
   },
   {
    "duration": 5,
    "start_time": "2023-04-27T04:32:47.557Z"
   },
   {
    "duration": 118,
    "start_time": "2023-04-27T04:32:47.563Z"
   },
   {
    "duration": 0,
    "start_time": "2023-04-27T04:32:47.683Z"
   },
   {
    "duration": 0,
    "start_time": "2023-04-27T04:32:47.684Z"
   },
   {
    "duration": 1597,
    "start_time": "2023-04-27T04:35:01.038Z"
   },
   {
    "duration": 39,
    "start_time": "2023-04-27T04:35:02.637Z"
   },
   {
    "duration": 16,
    "start_time": "2023-04-27T04:35:02.678Z"
   },
   {
    "duration": 14,
    "start_time": "2023-04-27T04:35:02.697Z"
   },
   {
    "duration": 44,
    "start_time": "2023-04-27T04:35:02.712Z"
   },
   {
    "duration": 1470,
    "start_time": "2023-04-27T04:35:02.757Z"
   },
   {
    "duration": 9,
    "start_time": "2023-04-27T04:35:04.229Z"
   },
   {
    "duration": 12,
    "start_time": "2023-04-27T04:35:04.239Z"
   },
   {
    "duration": 8,
    "start_time": "2023-04-27T04:35:04.253Z"
   },
   {
    "duration": 9,
    "start_time": "2023-04-27T04:35:04.264Z"
   },
   {
    "duration": 4,
    "start_time": "2023-04-27T04:35:04.274Z"
   },
   {
    "duration": 18,
    "start_time": "2023-04-27T04:35:04.280Z"
   },
   {
    "duration": 4,
    "start_time": "2023-04-27T04:35:04.299Z"
   },
   {
    "duration": 24,
    "start_time": "2023-04-27T04:35:04.304Z"
   },
   {
    "duration": 23057,
    "start_time": "2023-04-27T04:35:04.330Z"
   },
   {
    "duration": 70405,
    "start_time": "2023-04-27T04:35:27.389Z"
   },
   {
    "duration": 406,
    "start_time": "2023-04-27T04:36:37.795Z"
   },
   {
    "duration": 1288,
    "start_time": "2023-04-27T04:52:14.973Z"
   },
   {
    "duration": 37,
    "start_time": "2023-04-27T04:52:16.263Z"
   },
   {
    "duration": 17,
    "start_time": "2023-04-27T04:52:16.302Z"
   },
   {
    "duration": 16,
    "start_time": "2023-04-27T04:52:16.321Z"
   },
   {
    "duration": 59,
    "start_time": "2023-04-27T04:52:16.340Z"
   },
   {
    "duration": 1399,
    "start_time": "2023-04-27T04:52:16.401Z"
   },
   {
    "duration": 8,
    "start_time": "2023-04-27T04:52:17.801Z"
   },
   {
    "duration": 6,
    "start_time": "2023-04-27T04:52:17.810Z"
   },
   {
    "duration": 8,
    "start_time": "2023-04-27T04:52:17.818Z"
   },
   {
    "duration": 11,
    "start_time": "2023-04-27T04:52:17.827Z"
   },
   {
    "duration": 6,
    "start_time": "2023-04-27T04:52:17.839Z"
   },
   {
    "duration": 13,
    "start_time": "2023-04-27T04:52:17.846Z"
   },
   {
    "duration": 4,
    "start_time": "2023-04-27T04:52:17.861Z"
   },
   {
    "duration": 8,
    "start_time": "2023-04-27T04:52:17.867Z"
   },
   {
    "duration": 22859,
    "start_time": "2023-04-27T04:52:17.877Z"
   },
   {
    "duration": 84,
    "start_time": "2023-04-27T04:52:40.738Z"
   },
   {
    "duration": 0,
    "start_time": "2023-04-27T04:52:40.824Z"
   },
   {
    "duration": 1279,
    "start_time": "2023-04-27T04:53:00.724Z"
   },
   {
    "duration": 38,
    "start_time": "2023-04-27T04:53:02.005Z"
   },
   {
    "duration": 24,
    "start_time": "2023-04-27T04:53:02.044Z"
   },
   {
    "duration": 38,
    "start_time": "2023-04-27T04:53:02.070Z"
   },
   {
    "duration": 44,
    "start_time": "2023-04-27T04:53:02.110Z"
   },
   {
    "duration": 1473,
    "start_time": "2023-04-27T04:53:02.155Z"
   },
   {
    "duration": 7,
    "start_time": "2023-04-27T04:53:03.629Z"
   },
   {
    "duration": 8,
    "start_time": "2023-04-27T04:53:03.638Z"
   },
   {
    "duration": 4,
    "start_time": "2023-04-27T04:53:03.648Z"
   },
   {
    "duration": 6,
    "start_time": "2023-04-27T04:53:03.654Z"
   },
   {
    "duration": 3,
    "start_time": "2023-04-27T04:53:03.662Z"
   },
   {
    "duration": 10,
    "start_time": "2023-04-27T04:53:03.666Z"
   },
   {
    "duration": 4,
    "start_time": "2023-04-27T04:53:03.677Z"
   },
   {
    "duration": 6,
    "start_time": "2023-04-27T04:53:03.683Z"
   },
   {
    "duration": 23011,
    "start_time": "2023-04-27T04:53:03.690Z"
   },
   {
    "duration": 72533,
    "start_time": "2023-04-27T04:53:26.702Z"
   },
   {
    "duration": 461,
    "start_time": "2023-04-27T04:54:39.237Z"
   },
   {
    "duration": 1225,
    "start_time": "2023-04-27T04:54:47.948Z"
   },
   {
    "duration": 39,
    "start_time": "2023-04-27T04:54:49.175Z"
   },
   {
    "duration": 16,
    "start_time": "2023-04-27T04:54:49.215Z"
   },
   {
    "duration": 14,
    "start_time": "2023-04-27T04:54:49.233Z"
   },
   {
    "duration": 53,
    "start_time": "2023-04-27T04:54:49.248Z"
   },
   {
    "duration": 1460,
    "start_time": "2023-04-27T04:54:49.303Z"
   },
   {
    "duration": 7,
    "start_time": "2023-04-27T04:54:50.765Z"
   },
   {
    "duration": 11,
    "start_time": "2023-04-27T04:54:50.773Z"
   },
   {
    "duration": 11,
    "start_time": "2023-04-27T04:54:50.786Z"
   },
   {
    "duration": 14,
    "start_time": "2023-04-27T04:54:50.799Z"
   },
   {
    "duration": 4,
    "start_time": "2023-04-27T04:54:50.815Z"
   },
   {
    "duration": 15,
    "start_time": "2023-04-27T04:54:50.821Z"
   },
   {
    "duration": 5,
    "start_time": "2023-04-27T04:54:50.838Z"
   },
   {
    "duration": 12,
    "start_time": "2023-04-27T04:54:50.844Z"
   },
   {
    "duration": 22968,
    "start_time": "2023-04-27T04:54:50.857Z"
   },
   {
    "duration": 72529,
    "start_time": "2023-04-27T04:55:13.827Z"
   },
   {
    "duration": 638,
    "start_time": "2023-04-27T04:56:26.357Z"
   },
   {
    "duration": 414,
    "start_time": "2023-04-27T04:58:04.881Z"
   },
   {
    "duration": 1250,
    "start_time": "2023-04-27T04:59:19.425Z"
   },
   {
    "duration": 38,
    "start_time": "2023-04-27T04:59:20.677Z"
   },
   {
    "duration": 16,
    "start_time": "2023-04-27T04:59:20.717Z"
   },
   {
    "duration": 12,
    "start_time": "2023-04-27T04:59:20.735Z"
   },
   {
    "duration": 39,
    "start_time": "2023-04-27T04:59:20.748Z"
   },
   {
    "duration": 1495,
    "start_time": "2023-04-27T04:59:20.789Z"
   },
   {
    "duration": 7,
    "start_time": "2023-04-27T04:59:22.285Z"
   },
   {
    "duration": 7,
    "start_time": "2023-04-27T04:59:22.294Z"
   },
   {
    "duration": 4,
    "start_time": "2023-04-27T04:59:22.302Z"
   },
   {
    "duration": 6,
    "start_time": "2023-04-27T04:59:22.307Z"
   },
   {
    "duration": 4,
    "start_time": "2023-04-27T04:59:22.315Z"
   },
   {
    "duration": 11,
    "start_time": "2023-04-27T04:59:22.321Z"
   },
   {
    "duration": 4,
    "start_time": "2023-04-27T04:59:22.333Z"
   },
   {
    "duration": 123,
    "start_time": "2023-04-27T04:59:22.340Z"
   },
   {
    "duration": 0,
    "start_time": "2023-04-27T04:59:22.465Z"
   },
   {
    "duration": 0,
    "start_time": "2023-04-27T04:59:22.466Z"
   },
   {
    "duration": 0,
    "start_time": "2023-04-27T04:59:22.467Z"
   },
   {
    "duration": 1265,
    "start_time": "2023-04-27T04:59:42.616Z"
   },
   {
    "duration": 37,
    "start_time": "2023-04-27T04:59:43.883Z"
   },
   {
    "duration": 17,
    "start_time": "2023-04-27T04:59:43.922Z"
   },
   {
    "duration": 11,
    "start_time": "2023-04-27T04:59:43.941Z"
   },
   {
    "duration": 35,
    "start_time": "2023-04-27T04:59:43.953Z"
   },
   {
    "duration": 1475,
    "start_time": "2023-04-27T04:59:43.989Z"
   },
   {
    "duration": 8,
    "start_time": "2023-04-27T04:59:45.466Z"
   },
   {
    "duration": 7,
    "start_time": "2023-04-27T04:59:45.476Z"
   },
   {
    "duration": 10,
    "start_time": "2023-04-27T04:59:45.484Z"
   },
   {
    "duration": 7,
    "start_time": "2023-04-27T04:59:45.497Z"
   },
   {
    "duration": 7,
    "start_time": "2023-04-27T04:59:45.505Z"
   },
   {
    "duration": 10,
    "start_time": "2023-04-27T04:59:45.514Z"
   },
   {
    "duration": 4,
    "start_time": "2023-04-27T04:59:45.526Z"
   },
   {
    "duration": 22,
    "start_time": "2023-04-27T04:59:45.532Z"
   },
   {
    "duration": 23244,
    "start_time": "2023-04-27T04:59:45.555Z"
   },
   {
    "duration": 72610,
    "start_time": "2023-04-27T05:00:08.801Z"
   },
   {
    "duration": 387,
    "start_time": "2023-04-27T05:01:21.415Z"
   },
   {
    "duration": 1254,
    "start_time": "2023-04-27T05:05:20.542Z"
   },
   {
    "duration": 39,
    "start_time": "2023-04-27T05:05:21.798Z"
   },
   {
    "duration": 16,
    "start_time": "2023-04-27T05:05:21.839Z"
   },
   {
    "duration": 11,
    "start_time": "2023-04-27T05:05:21.857Z"
   },
   {
    "duration": 38,
    "start_time": "2023-04-27T05:05:21.869Z"
   },
   {
    "duration": 1475,
    "start_time": "2023-04-27T05:05:21.909Z"
   },
   {
    "duration": 6,
    "start_time": "2023-04-27T05:05:23.385Z"
   },
   {
    "duration": 14,
    "start_time": "2023-04-27T05:05:23.393Z"
   },
   {
    "duration": 23,
    "start_time": "2023-04-27T05:05:23.409Z"
   },
   {
    "duration": 17,
    "start_time": "2023-04-27T05:05:23.433Z"
   },
   {
    "duration": 14,
    "start_time": "2023-04-27T05:05:23.451Z"
   },
   {
    "duration": 14,
    "start_time": "2023-04-27T05:05:23.466Z"
   },
   {
    "duration": 11,
    "start_time": "2023-04-27T05:05:23.481Z"
   },
   {
    "duration": 23,
    "start_time": "2023-04-27T05:05:23.495Z"
   },
   {
    "duration": 115230,
    "start_time": "2023-04-27T05:05:23.519Z"
   },
   {
    "duration": 52855,
    "start_time": "2023-04-27T05:07:18.751Z"
   },
   {
    "duration": 0,
    "start_time": "2023-04-27T05:08:11.608Z"
   },
   {
    "duration": 1297,
    "start_time": "2023-04-27T05:08:21.600Z"
   },
   {
    "duration": 40,
    "start_time": "2023-04-27T05:08:22.899Z"
   },
   {
    "duration": 17,
    "start_time": "2023-04-27T05:08:22.940Z"
   },
   {
    "duration": 13,
    "start_time": "2023-04-27T05:08:22.959Z"
   },
   {
    "duration": 40,
    "start_time": "2023-04-27T05:08:22.974Z"
   },
   {
    "duration": 1536,
    "start_time": "2023-04-27T05:08:23.016Z"
   },
   {
    "duration": 7,
    "start_time": "2023-04-27T05:08:24.553Z"
   },
   {
    "duration": 8,
    "start_time": "2023-04-27T05:08:24.561Z"
   },
   {
    "duration": 12,
    "start_time": "2023-04-27T05:08:24.571Z"
   },
   {
    "duration": 21,
    "start_time": "2023-04-27T05:08:24.585Z"
   },
   {
    "duration": 6,
    "start_time": "2023-04-27T05:08:24.608Z"
   },
   {
    "duration": 25,
    "start_time": "2023-04-27T05:08:24.616Z"
   },
   {
    "duration": 24,
    "start_time": "2023-04-27T05:08:24.642Z"
   },
   {
    "duration": 23,
    "start_time": "2023-04-27T05:08:24.669Z"
   },
   {
    "duration": 23163,
    "start_time": "2023-04-27T05:08:24.694Z"
   },
   {
    "duration": 180176,
    "start_time": "2023-04-27T05:08:47.859Z"
   },
   {
    "duration": 560,
    "start_time": "2023-04-27T05:11:48.036Z"
   },
   {
    "duration": 341632,
    "start_time": "2023-04-27T05:12:29.100Z"
   },
   {
    "duration": 80426,
    "start_time": "2023-04-27T05:39:07.246Z"
   },
   {
    "duration": 1257,
    "start_time": "2023-04-27T08:33:01.613Z"
   },
   {
    "duration": 39,
    "start_time": "2023-04-27T08:33:02.872Z"
   },
   {
    "duration": 17,
    "start_time": "2023-04-27T08:33:02.912Z"
   },
   {
    "duration": 11,
    "start_time": "2023-04-27T08:33:02.931Z"
   },
   {
    "duration": 36,
    "start_time": "2023-04-27T08:33:02.943Z"
   },
   {
    "duration": 1486,
    "start_time": "2023-04-27T08:33:02.994Z"
   },
   {
    "duration": 7,
    "start_time": "2023-04-27T08:33:04.481Z"
   },
   {
    "duration": 16,
    "start_time": "2023-04-27T08:33:04.490Z"
   },
   {
    "duration": 12,
    "start_time": "2023-04-27T08:33:04.508Z"
   },
   {
    "duration": 27,
    "start_time": "2023-04-27T08:33:04.523Z"
   },
   {
    "duration": 4,
    "start_time": "2023-04-27T08:33:04.552Z"
   },
   {
    "duration": 11,
    "start_time": "2023-04-27T08:33:04.558Z"
   },
   {
    "duration": 5,
    "start_time": "2023-04-27T08:33:04.570Z"
   },
   {
    "duration": 9,
    "start_time": "2023-04-27T08:33:04.577Z"
   },
   {
    "duration": 8,
    "start_time": "2023-04-27T08:33:04.587Z"
   },
   {
    "duration": 23933,
    "start_time": "2023-04-27T08:33:04.596Z"
   },
   {
    "duration": 75004,
    "start_time": "2023-04-27T08:33:28.531Z"
   },
   {
    "duration": 465,
    "start_time": "2023-04-27T08:34:43.537Z"
   },
   {
    "duration": 9,
    "start_time": "2023-04-27T09:09:27.003Z"
   },
   {
    "duration": 1291,
    "start_time": "2023-04-27T09:09:41.582Z"
   },
   {
    "duration": 39,
    "start_time": "2023-04-27T09:09:42.874Z"
   },
   {
    "duration": 16,
    "start_time": "2023-04-27T09:09:42.914Z"
   },
   {
    "duration": 12,
    "start_time": "2023-04-27T09:09:42.932Z"
   },
   {
    "duration": 50,
    "start_time": "2023-04-27T09:09:42.945Z"
   },
   {
    "duration": 1520,
    "start_time": "2023-04-27T09:09:42.996Z"
   },
   {
    "duration": 7,
    "start_time": "2023-04-27T09:09:44.517Z"
   },
   {
    "duration": 7,
    "start_time": "2023-04-27T09:09:44.525Z"
   },
   {
    "duration": 4,
    "start_time": "2023-04-27T09:09:44.533Z"
   },
   {
    "duration": 8,
    "start_time": "2023-04-27T09:09:44.539Z"
   },
   {
    "duration": 5,
    "start_time": "2023-04-27T09:09:44.549Z"
   },
   {
    "duration": 15,
    "start_time": "2023-04-27T09:09:44.555Z"
   },
   {
    "duration": 6,
    "start_time": "2023-04-27T09:09:44.571Z"
   },
   {
    "duration": 9,
    "start_time": "2023-04-27T09:09:44.593Z"
   },
   {
    "duration": 5,
    "start_time": "2023-04-27T09:09:44.604Z"
   },
   {
    "duration": 24035,
    "start_time": "2023-04-27T09:09:44.610Z"
   },
   {
    "duration": 76704,
    "start_time": "2023-04-27T09:10:08.647Z"
   },
   {
    "duration": 1159,
    "start_time": "2023-04-27T09:11:25.352Z"
   },
   {
    "duration": 91,
    "start_time": "2023-04-27T09:11:26.513Z"
   },
   {
    "duration": 1388,
    "start_time": "2023-04-27T09:37:10.611Z"
   },
   {
    "duration": 41,
    "start_time": "2023-04-27T09:37:12.001Z"
   },
   {
    "duration": 17,
    "start_time": "2023-04-27T09:37:12.043Z"
   },
   {
    "duration": 17,
    "start_time": "2023-04-27T09:37:12.062Z"
   },
   {
    "duration": 40,
    "start_time": "2023-04-27T09:37:12.081Z"
   },
   {
    "duration": 1584,
    "start_time": "2023-04-27T09:37:12.122Z"
   },
   {
    "duration": 6,
    "start_time": "2023-04-27T09:37:13.710Z"
   },
   {
    "duration": 22,
    "start_time": "2023-04-27T09:37:13.718Z"
   },
   {
    "duration": 9,
    "start_time": "2023-04-27T09:37:13.742Z"
   },
   {
    "duration": 28,
    "start_time": "2023-04-27T09:37:13.753Z"
   },
   {
    "duration": 5,
    "start_time": "2023-04-27T09:37:13.783Z"
   },
   {
    "duration": 17,
    "start_time": "2023-04-27T09:37:13.789Z"
   },
   {
    "duration": 11,
    "start_time": "2023-04-27T09:37:13.811Z"
   },
   {
    "duration": 9,
    "start_time": "2023-04-27T09:37:13.825Z"
   },
   {
    "duration": 5,
    "start_time": "2023-04-27T09:37:13.836Z"
   },
   {
    "duration": 25379,
    "start_time": "2023-04-27T09:37:13.843Z"
   },
   {
    "duration": 79001,
    "start_time": "2023-04-27T09:37:39.224Z"
   },
   {
    "duration": 1382,
    "start_time": "2023-04-27T09:38:58.227Z"
   },
   {
    "duration": 96,
    "start_time": "2023-04-27T09:38:59.611Z"
   },
   {
    "duration": 1464,
    "start_time": "2023-05-02T11:55:35.306Z"
   },
   {
    "duration": 169,
    "start_time": "2023-05-02T11:55:36.772Z"
   },
   {
    "duration": 18,
    "start_time": "2023-05-02T11:55:36.942Z"
   },
   {
    "duration": 12,
    "start_time": "2023-05-02T11:55:36.961Z"
   },
   {
    "duration": 36,
    "start_time": "2023-05-02T11:55:36.975Z"
   },
   {
    "duration": 1491,
    "start_time": "2023-05-02T11:55:37.013Z"
   },
   {
    "duration": 7,
    "start_time": "2023-05-02T11:55:38.506Z"
   },
   {
    "duration": 10,
    "start_time": "2023-05-02T11:55:38.515Z"
   },
   {
    "duration": 5,
    "start_time": "2023-05-02T11:55:38.527Z"
   },
   {
    "duration": 14,
    "start_time": "2023-05-02T11:55:38.534Z"
   },
   {
    "duration": 4,
    "start_time": "2023-05-02T11:55:38.550Z"
   },
   {
    "duration": 13,
    "start_time": "2023-05-02T11:55:38.556Z"
   },
   {
    "duration": 14,
    "start_time": "2023-05-02T11:55:38.571Z"
   },
   {
    "duration": 10,
    "start_time": "2023-05-02T11:55:38.587Z"
   },
   {
    "duration": 4,
    "start_time": "2023-05-02T11:55:38.599Z"
   },
   {
    "duration": 130,
    "start_time": "2023-05-02T11:55:38.605Z"
   },
   {
    "duration": 0,
    "start_time": "2023-05-02T11:55:38.737Z"
   },
   {
    "duration": 0,
    "start_time": "2023-05-02T11:55:38.738Z"
   },
   {
    "duration": 0,
    "start_time": "2023-05-02T11:55:38.739Z"
   },
   {
    "duration": 0,
    "start_time": "2023-05-02T11:55:38.740Z"
   },
   {
    "duration": 10,
    "start_time": "2023-05-02T11:56:12.009Z"
   },
   {
    "duration": 22736,
    "start_time": "2023-05-02T11:56:17.555Z"
   },
   {
    "duration": 73120,
    "start_time": "2023-05-02T11:56:40.294Z"
   },
   {
    "duration": 440,
    "start_time": "2023-05-02T11:57:53.415Z"
   },
   {
    "duration": 95,
    "start_time": "2023-05-02T11:57:53.857Z"
   },
   {
    "duration": 1344,
    "start_time": "2023-05-02T11:58:03.739Z"
   },
   {
    "duration": 49,
    "start_time": "2023-05-02T11:58:05.086Z"
   },
   {
    "duration": 25,
    "start_time": "2023-05-02T11:58:05.137Z"
   },
   {
    "duration": 45,
    "start_time": "2023-05-02T11:58:05.164Z"
   },
   {
    "duration": 44,
    "start_time": "2023-05-02T11:58:05.212Z"
   },
   {
    "duration": 1442,
    "start_time": "2023-05-02T11:58:05.258Z"
   },
   {
    "duration": 6,
    "start_time": "2023-05-02T11:58:06.702Z"
   },
   {
    "duration": 11,
    "start_time": "2023-05-02T11:58:06.710Z"
   },
   {
    "duration": 5,
    "start_time": "2023-05-02T11:58:06.722Z"
   },
   {
    "duration": 7,
    "start_time": "2023-05-02T11:58:06.728Z"
   },
   {
    "duration": 7,
    "start_time": "2023-05-02T11:58:06.736Z"
   },
   {
    "duration": 24,
    "start_time": "2023-05-02T11:58:06.744Z"
   },
   {
    "duration": 4,
    "start_time": "2023-05-02T11:58:06.770Z"
   },
   {
    "duration": 11,
    "start_time": "2023-05-02T11:58:06.776Z"
   },
   {
    "duration": 4,
    "start_time": "2023-05-02T11:58:06.789Z"
   },
   {
    "duration": 120,
    "start_time": "2023-05-02T11:58:06.794Z"
   },
   {
    "duration": 0,
    "start_time": "2023-05-02T11:58:06.916Z"
   },
   {
    "duration": 0,
    "start_time": "2023-05-02T11:58:06.917Z"
   },
   {
    "duration": 0,
    "start_time": "2023-05-02T11:58:06.918Z"
   },
   {
    "duration": 0,
    "start_time": "2023-05-02T11:58:06.919Z"
   },
   {
    "duration": 1340,
    "start_time": "2023-05-02T11:59:37.812Z"
   },
   {
    "duration": 42,
    "start_time": "2023-05-02T11:59:39.153Z"
   },
   {
    "duration": 17,
    "start_time": "2023-05-02T11:59:39.197Z"
   },
   {
    "duration": 10,
    "start_time": "2023-05-02T11:59:39.216Z"
   },
   {
    "duration": 39,
    "start_time": "2023-05-02T11:59:39.228Z"
   },
   {
    "duration": 1447,
    "start_time": "2023-05-02T11:59:39.269Z"
   },
   {
    "duration": 7,
    "start_time": "2023-05-02T11:59:40.718Z"
   },
   {
    "duration": 22,
    "start_time": "2023-05-02T11:59:40.726Z"
   },
   {
    "duration": 32,
    "start_time": "2023-05-02T11:59:40.749Z"
   },
   {
    "duration": 13,
    "start_time": "2023-05-02T11:59:40.783Z"
   },
   {
    "duration": 22,
    "start_time": "2023-05-02T11:59:40.797Z"
   },
   {
    "duration": 13,
    "start_time": "2023-05-02T11:59:40.821Z"
   },
   {
    "duration": 7,
    "start_time": "2023-05-02T11:59:40.836Z"
   },
   {
    "duration": 27,
    "start_time": "2023-05-02T11:59:40.846Z"
   },
   {
    "duration": 4,
    "start_time": "2023-05-02T11:59:40.875Z"
   },
   {
    "duration": 130,
    "start_time": "2023-05-02T11:59:40.880Z"
   },
   {
    "duration": 0,
    "start_time": "2023-05-02T11:59:41.011Z"
   },
   {
    "duration": 0,
    "start_time": "2023-05-02T11:59:41.012Z"
   },
   {
    "duration": 0,
    "start_time": "2023-05-02T11:59:41.013Z"
   },
   {
    "duration": 0,
    "start_time": "2023-05-02T11:59:41.013Z"
   },
   {
    "duration": 1381,
    "start_time": "2023-05-02T12:00:23.415Z"
   },
   {
    "duration": 41,
    "start_time": "2023-05-02T12:00:24.798Z"
   },
   {
    "duration": 18,
    "start_time": "2023-05-02T12:00:24.840Z"
   },
   {
    "duration": 12,
    "start_time": "2023-05-02T12:00:24.860Z"
   },
   {
    "duration": 35,
    "start_time": "2023-05-02T12:00:24.873Z"
   },
   {
    "duration": 1435,
    "start_time": "2023-05-02T12:00:24.909Z"
   },
   {
    "duration": 7,
    "start_time": "2023-05-02T12:00:26.346Z"
   },
   {
    "duration": 16,
    "start_time": "2023-05-02T12:00:26.354Z"
   },
   {
    "duration": 5,
    "start_time": "2023-05-02T12:00:26.371Z"
   },
   {
    "duration": 10,
    "start_time": "2023-05-02T12:00:26.378Z"
   },
   {
    "duration": 6,
    "start_time": "2023-05-02T12:00:26.389Z"
   },
   {
    "duration": 25,
    "start_time": "2023-05-02T12:00:26.397Z"
   },
   {
    "duration": 5,
    "start_time": "2023-05-02T12:00:26.424Z"
   },
   {
    "duration": 9,
    "start_time": "2023-05-02T12:00:26.430Z"
   },
   {
    "duration": 5,
    "start_time": "2023-05-02T12:00:26.448Z"
   },
   {
    "duration": 139,
    "start_time": "2023-05-02T12:00:26.454Z"
   },
   {
    "duration": 0,
    "start_time": "2023-05-02T12:00:26.595Z"
   },
   {
    "duration": 0,
    "start_time": "2023-05-02T12:00:26.596Z"
   },
   {
    "duration": 0,
    "start_time": "2023-05-02T12:00:26.597Z"
   },
   {
    "duration": 0,
    "start_time": "2023-05-02T12:00:26.598Z"
   },
   {
    "duration": 1314,
    "start_time": "2023-05-02T12:01:09.142Z"
   },
   {
    "duration": 39,
    "start_time": "2023-05-02T12:01:10.458Z"
   },
   {
    "duration": 18,
    "start_time": "2023-05-02T12:01:10.499Z"
   },
   {
    "duration": 11,
    "start_time": "2023-05-02T12:01:10.520Z"
   },
   {
    "duration": 44,
    "start_time": "2023-05-02T12:01:10.532Z"
   },
   {
    "duration": 1466,
    "start_time": "2023-05-02T12:01:10.578Z"
   },
   {
    "duration": 6,
    "start_time": "2023-05-02T12:01:12.046Z"
   },
   {
    "duration": 12,
    "start_time": "2023-05-02T12:01:12.054Z"
   },
   {
    "duration": 9,
    "start_time": "2023-05-02T12:01:12.067Z"
   },
   {
    "duration": 8,
    "start_time": "2023-05-02T12:01:12.079Z"
   },
   {
    "duration": 8,
    "start_time": "2023-05-02T12:01:12.088Z"
   },
   {
    "duration": 13,
    "start_time": "2023-05-02T12:01:12.098Z"
   },
   {
    "duration": 14,
    "start_time": "2023-05-02T12:01:12.113Z"
   },
   {
    "duration": 9,
    "start_time": "2023-05-02T12:01:12.129Z"
   },
   {
    "duration": 10,
    "start_time": "2023-05-02T12:01:12.139Z"
   },
   {
    "duration": 45,
    "start_time": "2023-05-02T12:01:12.150Z"
   },
   {
    "duration": 22669,
    "start_time": "2023-05-02T12:01:12.197Z"
   },
   {
    "duration": 72323,
    "start_time": "2023-05-02T12:01:34.868Z"
   },
   {
    "duration": 160,
    "start_time": "2023-05-02T12:02:47.193Z"
   },
   {
    "duration": 102,
    "start_time": "2023-05-02T12:02:47.355Z"
   },
   {
    "duration": 1385,
    "start_time": "2023-05-02T12:14:04.739Z"
   },
   {
    "duration": 40,
    "start_time": "2023-05-02T12:14:06.126Z"
   },
   {
    "duration": 17,
    "start_time": "2023-05-02T12:14:06.168Z"
   },
   {
    "duration": 11,
    "start_time": "2023-05-02T12:14:06.186Z"
   },
   {
    "duration": 52,
    "start_time": "2023-05-02T12:14:06.199Z"
   },
   {
    "duration": 1452,
    "start_time": "2023-05-02T12:14:06.252Z"
   },
   {
    "duration": 6,
    "start_time": "2023-05-02T12:14:07.706Z"
   },
   {
    "duration": 7,
    "start_time": "2023-05-02T12:14:07.714Z"
   },
   {
    "duration": 4,
    "start_time": "2023-05-02T12:14:07.722Z"
   },
   {
    "duration": 10,
    "start_time": "2023-05-02T12:14:07.727Z"
   },
   {
    "duration": 4,
    "start_time": "2023-05-02T12:14:07.738Z"
   },
   {
    "duration": 11,
    "start_time": "2023-05-02T12:14:07.748Z"
   },
   {
    "duration": 5,
    "start_time": "2023-05-02T12:14:07.761Z"
   },
   {
    "duration": 9,
    "start_time": "2023-05-02T12:14:07.769Z"
   },
   {
    "duration": 4,
    "start_time": "2023-05-02T12:14:07.780Z"
   },
   {
    "duration": 29,
    "start_time": "2023-05-02T12:14:07.786Z"
   },
   {
    "duration": 169,
    "start_time": "2023-05-02T12:14:07.817Z"
   },
   {
    "duration": 0,
    "start_time": "2023-05-02T12:14:07.988Z"
   },
   {
    "duration": 0,
    "start_time": "2023-05-02T12:14:07.989Z"
   },
   {
    "duration": 0,
    "start_time": "2023-05-02T12:14:07.989Z"
   },
   {
    "duration": 1319,
    "start_time": "2023-05-02T12:14:52.310Z"
   },
   {
    "duration": 39,
    "start_time": "2023-05-02T12:14:53.631Z"
   },
   {
    "duration": 19,
    "start_time": "2023-05-02T12:14:53.671Z"
   },
   {
    "duration": 15,
    "start_time": "2023-05-02T12:14:53.691Z"
   },
   {
    "duration": 43,
    "start_time": "2023-05-02T12:14:53.708Z"
   },
   {
    "duration": 1443,
    "start_time": "2023-05-02T12:14:53.753Z"
   },
   {
    "duration": 7,
    "start_time": "2023-05-02T12:14:55.197Z"
   },
   {
    "duration": 12,
    "start_time": "2023-05-02T12:14:55.206Z"
   },
   {
    "duration": 7,
    "start_time": "2023-05-02T12:14:55.219Z"
   },
   {
    "duration": 25,
    "start_time": "2023-05-02T12:14:55.227Z"
   },
   {
    "duration": 15,
    "start_time": "2023-05-02T12:14:55.253Z"
   },
   {
    "duration": 14,
    "start_time": "2023-05-02T12:14:55.269Z"
   },
   {
    "duration": 5,
    "start_time": "2023-05-02T12:14:55.284Z"
   },
   {
    "duration": 14,
    "start_time": "2023-05-02T12:14:55.292Z"
   },
   {
    "duration": 6,
    "start_time": "2023-05-02T12:14:55.308Z"
   },
   {
    "duration": 48,
    "start_time": "2023-05-02T12:14:55.315Z"
   },
   {
    "duration": 131,
    "start_time": "2023-05-02T12:14:55.364Z"
   },
   {
    "duration": 0,
    "start_time": "2023-05-02T12:14:55.496Z"
   },
   {
    "duration": 0,
    "start_time": "2023-05-02T12:14:55.497Z"
   },
   {
    "duration": 0,
    "start_time": "2023-05-02T12:14:55.498Z"
   },
   {
    "duration": 1334,
    "start_time": "2023-05-02T12:15:20.425Z"
   },
   {
    "duration": 40,
    "start_time": "2023-05-02T12:15:21.761Z"
   },
   {
    "duration": 18,
    "start_time": "2023-05-02T12:15:21.802Z"
   },
   {
    "duration": 12,
    "start_time": "2023-05-02T12:15:21.821Z"
   },
   {
    "duration": 34,
    "start_time": "2023-05-02T12:15:21.835Z"
   },
   {
    "duration": 1469,
    "start_time": "2023-05-02T12:15:21.871Z"
   },
   {
    "duration": 7,
    "start_time": "2023-05-02T12:15:23.342Z"
   },
   {
    "duration": 7,
    "start_time": "2023-05-02T12:15:23.350Z"
   },
   {
    "duration": 5,
    "start_time": "2023-05-02T12:15:23.359Z"
   },
   {
    "duration": 8,
    "start_time": "2023-05-02T12:15:23.365Z"
   },
   {
    "duration": 6,
    "start_time": "2023-05-02T12:15:23.375Z"
   },
   {
    "duration": 11,
    "start_time": "2023-05-02T12:15:23.383Z"
   },
   {
    "duration": 6,
    "start_time": "2023-05-02T12:15:23.396Z"
   },
   {
    "duration": 44,
    "start_time": "2023-05-02T12:15:23.405Z"
   },
   {
    "duration": 6,
    "start_time": "2023-05-02T12:15:23.450Z"
   },
   {
    "duration": 29,
    "start_time": "2023-05-02T12:15:23.458Z"
   },
   {
    "duration": 160,
    "start_time": "2023-05-02T12:15:23.489Z"
   },
   {
    "duration": 0,
    "start_time": "2023-05-02T12:15:23.651Z"
   },
   {
    "duration": 0,
    "start_time": "2023-05-02T12:15:23.652Z"
   },
   {
    "duration": 0,
    "start_time": "2023-05-02T12:15:23.653Z"
   },
   {
    "duration": 1341,
    "start_time": "2023-05-02T12:16:58.983Z"
   },
   {
    "duration": 40,
    "start_time": "2023-05-02T12:17:00.326Z"
   },
   {
    "duration": 17,
    "start_time": "2023-05-02T12:17:00.368Z"
   },
   {
    "duration": 52,
    "start_time": "2023-05-02T12:17:00.388Z"
   },
   {
    "duration": 63,
    "start_time": "2023-05-02T12:17:00.441Z"
   },
   {
    "duration": 1498,
    "start_time": "2023-05-02T12:17:00.506Z"
   },
   {
    "duration": 7,
    "start_time": "2023-05-02T12:17:02.006Z"
   },
   {
    "duration": 47,
    "start_time": "2023-05-02T12:17:02.014Z"
   },
   {
    "duration": 55,
    "start_time": "2023-05-02T12:17:02.063Z"
   },
   {
    "duration": 45,
    "start_time": "2023-05-02T12:17:02.120Z"
   },
   {
    "duration": 30,
    "start_time": "2023-05-02T12:17:02.167Z"
   },
   {
    "duration": 64,
    "start_time": "2023-05-02T12:17:02.199Z"
   },
   {
    "duration": 26,
    "start_time": "2023-05-02T12:17:02.264Z"
   },
   {
    "duration": 31,
    "start_time": "2023-05-02T12:17:02.292Z"
   },
   {
    "duration": 53,
    "start_time": "2023-05-02T12:17:02.325Z"
   },
   {
    "duration": 68,
    "start_time": "2023-05-02T12:17:02.380Z"
   },
   {
    "duration": 26035,
    "start_time": "2023-05-02T12:17:02.450Z"
   },
   {
    "duration": 1503,
    "start_time": "2023-05-02T12:18:29.931Z"
   },
   {
    "duration": 40,
    "start_time": "2023-05-02T12:18:31.436Z"
   },
   {
    "duration": 26,
    "start_time": "2023-05-02T12:18:31.478Z"
   },
   {
    "duration": 37,
    "start_time": "2023-05-02T12:18:31.506Z"
   },
   {
    "duration": 73,
    "start_time": "2023-05-02T12:18:31.546Z"
   },
   {
    "duration": 1400,
    "start_time": "2023-05-02T12:18:31.620Z"
   },
   {
    "duration": 7,
    "start_time": "2023-05-02T12:18:33.022Z"
   },
   {
    "duration": 11,
    "start_time": "2023-05-02T12:18:33.031Z"
   },
   {
    "duration": 9,
    "start_time": "2023-05-02T12:18:33.044Z"
   },
   {
    "duration": 22,
    "start_time": "2023-05-02T12:18:33.055Z"
   },
   {
    "duration": 12,
    "start_time": "2023-05-02T12:18:33.079Z"
   },
   {
    "duration": 12,
    "start_time": "2023-05-02T12:18:33.092Z"
   },
   {
    "duration": 4,
    "start_time": "2023-05-02T12:18:33.105Z"
   },
   {
    "duration": 8,
    "start_time": "2023-05-02T12:18:33.112Z"
   },
   {
    "duration": 5,
    "start_time": "2023-05-02T12:18:33.122Z"
   },
   {
    "duration": 35,
    "start_time": "2023-05-02T12:18:33.128Z"
   },
   {
    "duration": 25747,
    "start_time": "2023-05-02T12:18:33.165Z"
   },
   {
    "duration": 72973,
    "start_time": "2023-05-02T12:18:58.913Z"
   },
   {
    "duration": 365,
    "start_time": "2023-05-02T12:20:11.887Z"
   },
   {
    "duration": 97,
    "start_time": "2023-05-02T12:20:12.253Z"
   },
   {
    "duration": 1743,
    "start_time": "2023-05-02T12:23:16.318Z"
   },
   {
    "duration": 40,
    "start_time": "2023-05-02T12:23:18.063Z"
   },
   {
    "duration": 17,
    "start_time": "2023-05-02T12:23:18.105Z"
   },
   {
    "duration": 17,
    "start_time": "2023-05-02T12:23:18.124Z"
   },
   {
    "duration": 43,
    "start_time": "2023-05-02T12:23:18.143Z"
   },
   {
    "duration": 1465,
    "start_time": "2023-05-02T12:23:18.187Z"
   },
   {
    "duration": 7,
    "start_time": "2023-05-02T12:23:19.653Z"
   },
   {
    "duration": 8,
    "start_time": "2023-05-02T12:23:19.662Z"
   },
   {
    "duration": 8,
    "start_time": "2023-05-02T12:23:19.672Z"
   },
   {
    "duration": 7,
    "start_time": "2023-05-02T12:23:19.681Z"
   },
   {
    "duration": 4,
    "start_time": "2023-05-02T12:23:19.689Z"
   },
   {
    "duration": 13,
    "start_time": "2023-05-02T12:23:19.694Z"
   },
   {
    "duration": 9,
    "start_time": "2023-05-02T12:23:19.708Z"
   },
   {
    "duration": 31,
    "start_time": "2023-05-02T12:23:19.720Z"
   },
   {
    "duration": 4,
    "start_time": "2023-05-02T12:23:19.753Z"
   },
   {
    "duration": 48,
    "start_time": "2023-05-02T12:23:19.759Z"
   },
   {
    "duration": 26102,
    "start_time": "2023-05-02T12:23:19.809Z"
   },
   {
    "duration": 76,
    "start_time": "2023-05-02T12:23:45.913Z"
   },
   {
    "duration": 0,
    "start_time": "2023-05-02T12:23:45.990Z"
   },
   {
    "duration": 0,
    "start_time": "2023-05-02T12:23:45.991Z"
   },
   {
    "duration": 1644,
    "start_time": "2023-05-02T12:25:43.220Z"
   },
   {
    "duration": 41,
    "start_time": "2023-05-02T12:25:44.866Z"
   },
   {
    "duration": 18,
    "start_time": "2023-05-02T12:25:44.909Z"
   },
   {
    "duration": 27,
    "start_time": "2023-05-02T12:25:44.928Z"
   },
   {
    "duration": 46,
    "start_time": "2023-05-02T12:25:44.957Z"
   },
   {
    "duration": 1440,
    "start_time": "2023-05-02T12:25:45.004Z"
   },
   {
    "duration": 7,
    "start_time": "2023-05-02T12:25:46.446Z"
   },
   {
    "duration": 15,
    "start_time": "2023-05-02T12:25:46.454Z"
   },
   {
    "duration": 10,
    "start_time": "2023-05-02T12:25:46.471Z"
   },
   {
    "duration": 16,
    "start_time": "2023-05-02T12:25:46.483Z"
   },
   {
    "duration": 27,
    "start_time": "2023-05-02T12:25:46.500Z"
   },
   {
    "duration": 22,
    "start_time": "2023-05-02T12:25:46.528Z"
   },
   {
    "duration": 24,
    "start_time": "2023-05-02T12:25:46.552Z"
   },
   {
    "duration": 30,
    "start_time": "2023-05-02T12:25:46.580Z"
   },
   {
    "duration": 10,
    "start_time": "2023-05-02T12:25:46.611Z"
   },
   {
    "duration": 34,
    "start_time": "2023-05-02T12:25:46.623Z"
   },
   {
    "duration": 26187,
    "start_time": "2023-05-02T12:25:46.658Z"
   },
   {
    "duration": 80266,
    "start_time": "2023-05-02T12:26:12.847Z"
   },
   {
    "duration": 234,
    "start_time": "2023-05-02T12:27:33.115Z"
   },
   {
    "duration": 99,
    "start_time": "2023-05-02T12:27:33.352Z"
   },
   {
    "duration": 1473,
    "start_time": "2023-05-02T12:29:51.679Z"
   },
   {
    "duration": 42,
    "start_time": "2023-05-02T12:29:53.153Z"
   },
   {
    "duration": 19,
    "start_time": "2023-05-02T12:29:53.196Z"
   },
   {
    "duration": 17,
    "start_time": "2023-05-02T12:29:53.217Z"
   },
   {
    "duration": 37,
    "start_time": "2023-05-02T12:29:53.236Z"
   },
   {
    "duration": 1450,
    "start_time": "2023-05-02T12:29:53.274Z"
   },
   {
    "duration": 7,
    "start_time": "2023-05-02T12:29:54.725Z"
   },
   {
    "duration": 14,
    "start_time": "2023-05-02T12:29:54.734Z"
   },
   {
    "duration": 6,
    "start_time": "2023-05-02T12:29:54.750Z"
   },
   {
    "duration": 10,
    "start_time": "2023-05-02T12:29:54.758Z"
   },
   {
    "duration": 8,
    "start_time": "2023-05-02T12:29:54.769Z"
   },
   {
    "duration": 14,
    "start_time": "2023-05-02T12:29:54.778Z"
   },
   {
    "duration": 12,
    "start_time": "2023-05-02T12:29:54.794Z"
   },
   {
    "duration": 17,
    "start_time": "2023-05-02T12:29:54.807Z"
   },
   {
    "duration": 5,
    "start_time": "2023-05-02T12:29:54.825Z"
   },
   {
    "duration": 29,
    "start_time": "2023-05-02T12:29:54.831Z"
   },
   {
    "duration": 25989,
    "start_time": "2023-05-02T12:29:54.861Z"
   },
   {
    "duration": 27733,
    "start_time": "2023-05-02T12:30:20.851Z"
   },
   {
    "duration": 0,
    "start_time": "2023-05-02T12:30:48.586Z"
   },
   {
    "duration": 0,
    "start_time": "2023-05-02T12:30:48.587Z"
   },
   {
    "duration": 1448,
    "start_time": "2023-05-02T12:30:54.621Z"
   },
   {
    "duration": 40,
    "start_time": "2023-05-02T12:30:56.071Z"
   },
   {
    "duration": 17,
    "start_time": "2023-05-02T12:30:56.113Z"
   },
   {
    "duration": 15,
    "start_time": "2023-05-02T12:30:56.132Z"
   },
   {
    "duration": 38,
    "start_time": "2023-05-02T12:30:56.150Z"
   },
   {
    "duration": 1467,
    "start_time": "2023-05-02T12:30:56.189Z"
   },
   {
    "duration": 7,
    "start_time": "2023-05-02T12:30:57.658Z"
   },
   {
    "duration": 18,
    "start_time": "2023-05-02T12:30:57.667Z"
   },
   {
    "duration": 20,
    "start_time": "2023-05-02T12:30:57.686Z"
   },
   {
    "duration": 9,
    "start_time": "2023-05-02T12:30:57.707Z"
   },
   {
    "duration": 9,
    "start_time": "2023-05-02T12:30:57.717Z"
   },
   {
    "duration": 14,
    "start_time": "2023-05-02T12:30:57.728Z"
   },
   {
    "duration": 5,
    "start_time": "2023-05-02T12:30:57.744Z"
   },
   {
    "duration": 13,
    "start_time": "2023-05-02T12:30:57.752Z"
   },
   {
    "duration": 8,
    "start_time": "2023-05-02T12:30:57.766Z"
   },
   {
    "duration": 30,
    "start_time": "2023-05-02T12:30:57.775Z"
   },
   {
    "duration": 26239,
    "start_time": "2023-05-02T12:30:57.806Z"
   },
   {
    "duration": 80177,
    "start_time": "2023-05-02T12:31:24.046Z"
   },
   {
    "duration": 127,
    "start_time": "2023-05-02T12:32:44.225Z"
   },
   {
    "duration": 98,
    "start_time": "2023-05-02T12:32:44.354Z"
   },
   {
    "duration": 1362,
    "start_time": "2023-05-02T19:47:06.041Z"
   },
   {
    "duration": 42,
    "start_time": "2023-05-02T19:47:07.405Z"
   },
   {
    "duration": 44,
    "start_time": "2023-05-02T19:47:07.448Z"
   },
   {
    "duration": 11,
    "start_time": "2023-05-02T19:47:07.495Z"
   },
   {
    "duration": 34,
    "start_time": "2023-05-02T19:47:07.508Z"
   },
   {
    "duration": 1604,
    "start_time": "2023-05-02T19:47:07.544Z"
   },
   {
    "duration": 12,
    "start_time": "2023-05-02T19:47:09.160Z"
   },
   {
    "duration": 30,
    "start_time": "2023-05-02T19:47:09.174Z"
   },
   {
    "duration": 5,
    "start_time": "2023-05-02T19:47:09.205Z"
   },
   {
    "duration": 7,
    "start_time": "2023-05-02T19:47:09.213Z"
   },
   {
    "duration": 6,
    "start_time": "2023-05-02T19:47:09.221Z"
   },
   {
    "duration": 15,
    "start_time": "2023-05-02T19:47:09.228Z"
   },
   {
    "duration": 29,
    "start_time": "2023-05-02T19:47:09.244Z"
   },
   {
    "duration": 13,
    "start_time": "2023-05-02T19:47:09.284Z"
   },
   {
    "duration": 6,
    "start_time": "2023-05-02T19:47:09.299Z"
   },
   {
    "duration": 36,
    "start_time": "2023-05-02T19:47:09.306Z"
   },
   {
    "duration": 29251,
    "start_time": "2023-05-02T19:47:09.344Z"
   },
   {
    "duration": 89801,
    "start_time": "2023-05-02T19:47:38.597Z"
   },
   {
    "duration": 396,
    "start_time": "2023-05-02T19:49:08.399Z"
   },
   {
    "duration": 105,
    "start_time": "2023-05-02T19:49:08.796Z"
   },
   {
    "duration": 94060,
    "start_time": "2023-05-02T19:49:08.903Z"
   },
   {
    "duration": 1429,
    "start_time": "2023-05-02T19:54:20.521Z"
   },
   {
    "duration": 74,
    "start_time": "2023-05-02T19:54:21.952Z"
   },
   {
    "duration": 20,
    "start_time": "2023-05-02T19:54:22.027Z"
   },
   {
    "duration": 47,
    "start_time": "2023-05-02T19:54:22.048Z"
   },
   {
    "duration": 50,
    "start_time": "2023-05-02T19:54:22.098Z"
   },
   {
    "duration": 1673,
    "start_time": "2023-05-02T19:54:22.159Z"
   },
   {
    "duration": 7,
    "start_time": "2023-05-02T19:54:23.834Z"
   },
   {
    "duration": 50,
    "start_time": "2023-05-02T19:54:23.842Z"
   },
   {
    "duration": 12,
    "start_time": "2023-05-02T19:54:23.894Z"
   },
   {
    "duration": 13,
    "start_time": "2023-05-02T19:54:23.908Z"
   },
   {
    "duration": 9,
    "start_time": "2023-05-02T19:54:23.922Z"
   },
   {
    "duration": 11,
    "start_time": "2023-05-02T19:54:23.932Z"
   },
   {
    "duration": 61,
    "start_time": "2023-05-02T19:54:23.945Z"
   },
   {
    "duration": 10,
    "start_time": "2023-05-02T19:54:24.009Z"
   },
   {
    "duration": 10,
    "start_time": "2023-05-02T19:54:24.021Z"
   },
   {
    "duration": 47,
    "start_time": "2023-05-02T19:54:24.032Z"
   },
   {
    "duration": 29464,
    "start_time": "2023-05-02T19:54:24.080Z"
   },
   {
    "duration": 94173,
    "start_time": "2023-05-02T19:54:53.546Z"
   },
   {
    "duration": 686,
    "start_time": "2023-05-02T19:56:27.721Z"
   },
   {
    "duration": 91,
    "start_time": "2023-05-02T19:56:28.413Z"
   },
   {
    "duration": 30104,
    "start_time": "2023-05-02T19:56:28.512Z"
   },
   {
    "duration": 94957,
    "start_time": "2023-05-02T19:56:58.618Z"
   },
   {
    "duration": 1319,
    "start_time": "2023-05-02T20:03:23.892Z"
   },
   {
    "duration": 66,
    "start_time": "2023-05-02T20:03:25.214Z"
   },
   {
    "duration": 23,
    "start_time": "2023-05-02T20:03:25.281Z"
   },
   {
    "duration": 29,
    "start_time": "2023-05-02T20:03:25.306Z"
   },
   {
    "duration": 48,
    "start_time": "2023-05-02T20:03:25.338Z"
   },
   {
    "duration": 1616,
    "start_time": "2023-05-02T20:03:25.388Z"
   },
   {
    "duration": 8,
    "start_time": "2023-05-02T20:03:27.006Z"
   },
   {
    "duration": 7,
    "start_time": "2023-05-02T20:03:27.016Z"
   },
   {
    "duration": 6,
    "start_time": "2023-05-02T20:03:27.024Z"
   },
   {
    "duration": 8,
    "start_time": "2023-05-02T20:03:27.031Z"
   },
   {
    "duration": 6,
    "start_time": "2023-05-02T20:03:27.041Z"
   },
   {
    "duration": 54,
    "start_time": "2023-05-02T20:03:27.048Z"
   },
   {
    "duration": 8,
    "start_time": "2023-05-02T20:03:27.104Z"
   },
   {
    "duration": 11,
    "start_time": "2023-05-02T20:03:27.115Z"
   },
   {
    "duration": 11,
    "start_time": "2023-05-02T20:03:27.127Z"
   },
   {
    "duration": 43,
    "start_time": "2023-05-02T20:03:27.140Z"
   },
   {
    "duration": 28933,
    "start_time": "2023-05-02T20:03:27.185Z"
   },
   {
    "duration": 91955,
    "start_time": "2023-05-02T20:03:56.120Z"
   },
   {
    "duration": 387,
    "start_time": "2023-05-02T20:05:28.088Z"
   },
   {
    "duration": 73,
    "start_time": "2023-05-02T20:05:28.483Z"
   },
   {
    "duration": 29257,
    "start_time": "2023-05-02T20:05:28.559Z"
   },
   {
    "duration": 97756,
    "start_time": "2023-05-02T20:05:57.818Z"
   },
   {
    "duration": 193,
    "start_time": "2023-05-02T20:07:35.581Z"
   },
   {
    "duration": 1370,
    "start_time": "2023-05-02T20:15:11.934Z"
   },
   {
    "duration": 39,
    "start_time": "2023-05-02T20:15:13.306Z"
   },
   {
    "duration": 22,
    "start_time": "2023-05-02T20:15:13.347Z"
   },
   {
    "duration": 20,
    "start_time": "2023-05-02T20:15:13.371Z"
   },
   {
    "duration": 35,
    "start_time": "2023-05-02T20:15:13.393Z"
   },
   {
    "duration": 1605,
    "start_time": "2023-05-02T20:15:13.429Z"
   },
   {
    "duration": 8,
    "start_time": "2023-05-02T20:15:15.035Z"
   },
   {
    "duration": 42,
    "start_time": "2023-05-02T20:15:15.044Z"
   },
   {
    "duration": 7,
    "start_time": "2023-05-02T20:15:15.087Z"
   },
   {
    "duration": 8,
    "start_time": "2023-05-02T20:15:15.095Z"
   },
   {
    "duration": 3,
    "start_time": "2023-05-02T20:15:15.105Z"
   },
   {
    "duration": 11,
    "start_time": "2023-05-02T20:15:15.110Z"
   },
   {
    "duration": 4,
    "start_time": "2023-05-02T20:15:15.122Z"
   },
   {
    "duration": 9,
    "start_time": "2023-05-02T20:15:15.129Z"
   },
   {
    "duration": 5,
    "start_time": "2023-05-02T20:15:15.140Z"
   },
   {
    "duration": 52,
    "start_time": "2023-05-02T20:15:15.147Z"
   },
   {
    "duration": 27591,
    "start_time": "2023-05-02T20:15:15.201Z"
   },
   {
    "duration": 88273,
    "start_time": "2023-05-02T20:15:42.794Z"
   },
   {
    "duration": 380,
    "start_time": "2023-05-02T20:17:11.076Z"
   },
   {
    "duration": 26,
    "start_time": "2023-05-02T20:17:11.458Z"
   },
   {
    "duration": 28089,
    "start_time": "2023-05-02T20:17:11.558Z"
   },
   {
    "duration": 93308,
    "start_time": "2023-05-02T20:17:39.655Z"
   },
   {
    "duration": 724,
    "start_time": "2023-05-02T20:19:12.964Z"
   },
   {
    "duration": 76,
    "start_time": "2023-05-02T20:19:13.690Z"
   },
   {
    "duration": 240,
    "start_time": "2023-05-02T20:19:13.768Z"
   },
   {
    "duration": 0,
    "start_time": "2023-05-02T20:19:14.010Z"
   },
   {
    "duration": 1390,
    "start_time": "2023-05-02T20:20:41.932Z"
   },
   {
    "duration": 48,
    "start_time": "2023-05-02T20:20:43.324Z"
   },
   {
    "duration": 20,
    "start_time": "2023-05-02T20:20:43.373Z"
   },
   {
    "duration": 13,
    "start_time": "2023-05-02T20:20:43.395Z"
   },
   {
    "duration": 61,
    "start_time": "2023-05-02T20:20:43.409Z"
   },
   {
    "duration": 1801,
    "start_time": "2023-05-02T20:20:43.472Z"
   },
   {
    "duration": 8,
    "start_time": "2023-05-02T20:20:45.275Z"
   },
   {
    "duration": 20,
    "start_time": "2023-05-02T20:20:45.285Z"
   },
   {
    "duration": 27,
    "start_time": "2023-05-02T20:20:45.307Z"
   },
   {
    "duration": 33,
    "start_time": "2023-05-02T20:20:45.338Z"
   },
   {
    "duration": 9,
    "start_time": "2023-05-02T20:20:45.374Z"
   },
   {
    "duration": 24,
    "start_time": "2023-05-02T20:20:45.384Z"
   },
   {
    "duration": 11,
    "start_time": "2023-05-02T20:20:45.410Z"
   },
   {
    "duration": 13,
    "start_time": "2023-05-02T20:20:45.423Z"
   },
   {
    "duration": 22,
    "start_time": "2023-05-02T20:20:45.437Z"
   },
   {
    "duration": 64,
    "start_time": "2023-05-02T20:20:45.468Z"
   },
   {
    "duration": 28075,
    "start_time": "2023-05-02T20:20:45.533Z"
   },
   {
    "duration": 90153,
    "start_time": "2023-05-02T20:21:13.610Z"
   },
   {
    "duration": 614,
    "start_time": "2023-05-02T20:22:43.765Z"
   },
   {
    "duration": 23,
    "start_time": "2023-05-02T20:22:44.458Z"
   },
   {
    "duration": 28041,
    "start_time": "2023-05-02T20:22:44.483Z"
   },
   {
    "duration": 95161,
    "start_time": "2023-05-02T20:23:12.526Z"
   },
   {
    "duration": 371,
    "start_time": "2023-05-02T20:24:47.692Z"
   },
   {
    "duration": 4,
    "start_time": "2023-05-02T20:24:48.065Z"
   },
   {
    "duration": 125,
    "start_time": "2023-05-02T20:24:48.074Z"
   },
   {
    "duration": 46886,
    "start_time": "2023-05-02T20:24:48.201Z"
   },
   {
    "duration": 164244,
    "start_time": "2023-05-02T20:27:06.984Z"
   },
   {
    "duration": 671,
    "start_time": "2023-05-02T20:30:01.613Z"
   },
   {
    "duration": 50,
    "start_time": "2023-05-02T20:34:48.780Z"
   },
   {
    "duration": 1539,
    "start_time": "2023-05-02T20:41:06.297Z"
   },
   {
    "duration": 72,
    "start_time": "2023-05-02T20:41:07.838Z"
   },
   {
    "duration": 20,
    "start_time": "2023-05-02T20:41:07.913Z"
   },
   {
    "duration": 12,
    "start_time": "2023-05-02T20:41:07.935Z"
   },
   {
    "duration": 50,
    "start_time": "2023-05-02T20:41:07.955Z"
   },
   {
    "duration": 1630,
    "start_time": "2023-05-02T20:41:08.006Z"
   },
   {
    "duration": 12,
    "start_time": "2023-05-02T20:41:09.643Z"
   },
   {
    "duration": 41,
    "start_time": "2023-05-02T20:41:09.657Z"
   },
   {
    "duration": 5,
    "start_time": "2023-05-02T20:41:09.699Z"
   },
   {
    "duration": 8,
    "start_time": "2023-05-02T20:41:09.705Z"
   },
   {
    "duration": 4,
    "start_time": "2023-05-02T20:41:09.716Z"
   },
   {
    "duration": 36,
    "start_time": "2023-05-02T20:41:09.722Z"
   },
   {
    "duration": 27,
    "start_time": "2023-05-02T20:41:09.761Z"
   },
   {
    "duration": 17,
    "start_time": "2023-05-02T20:41:09.791Z"
   },
   {
    "duration": 17,
    "start_time": "2023-05-02T20:41:09.811Z"
   },
   {
    "duration": 49,
    "start_time": "2023-05-02T20:41:09.830Z"
   },
   {
    "duration": 6101,
    "start_time": "2023-05-02T20:41:09.881Z"
   },
   {
    "duration": 0,
    "start_time": "2023-05-02T20:41:15.983Z"
   },
   {
    "duration": 0,
    "start_time": "2023-05-02T20:41:15.985Z"
   },
   {
    "duration": 0,
    "start_time": "2023-05-02T20:41:15.986Z"
   },
   {
    "duration": 0,
    "start_time": "2023-05-02T20:41:15.987Z"
   },
   {
    "duration": 1,
    "start_time": "2023-05-02T20:41:15.988Z"
   },
   {
    "duration": 0,
    "start_time": "2023-05-02T20:41:15.989Z"
   },
   {
    "duration": 0,
    "start_time": "2023-05-02T20:41:15.990Z"
   },
   {
    "duration": 0,
    "start_time": "2023-05-02T20:41:15.991Z"
   },
   {
    "duration": 0,
    "start_time": "2023-05-02T20:41:15.992Z"
   },
   {
    "duration": 0,
    "start_time": "2023-05-02T20:41:15.993Z"
   },
   {
    "duration": 0,
    "start_time": "2023-05-02T20:41:15.994Z"
   },
   {
    "duration": 0,
    "start_time": "2023-05-02T20:41:15.995Z"
   },
   {
    "duration": 0,
    "start_time": "2023-05-02T20:41:15.996Z"
   },
   {
    "duration": 0,
    "start_time": "2023-05-02T20:41:15.997Z"
   },
   {
    "duration": 0,
    "start_time": "2023-05-02T20:41:15.998Z"
   },
   {
    "duration": 0,
    "start_time": "2023-05-02T20:41:15.999Z"
   },
   {
    "duration": 0,
    "start_time": "2023-05-02T20:41:16.000Z"
   },
   {
    "duration": 1487,
    "start_time": "2023-05-02T20:46:22.784Z"
   },
   {
    "duration": 46,
    "start_time": "2023-05-02T20:46:24.274Z"
   },
   {
    "duration": 18,
    "start_time": "2023-05-02T20:46:24.321Z"
   },
   {
    "duration": 30,
    "start_time": "2023-05-02T20:46:24.341Z"
   },
   {
    "duration": 46,
    "start_time": "2023-05-02T20:46:24.387Z"
   },
   {
    "duration": 1851,
    "start_time": "2023-05-02T20:46:24.435Z"
   },
   {
    "duration": 9,
    "start_time": "2023-05-02T20:46:26.288Z"
   },
   {
    "duration": 10,
    "start_time": "2023-05-02T20:46:26.299Z"
   },
   {
    "duration": 14,
    "start_time": "2023-05-02T20:46:26.310Z"
   },
   {
    "duration": 10,
    "start_time": "2023-05-02T20:46:26.326Z"
   },
   {
    "duration": 5,
    "start_time": "2023-05-02T20:46:26.338Z"
   },
   {
    "duration": 40,
    "start_time": "2023-05-02T20:46:26.345Z"
   },
   {
    "duration": 4,
    "start_time": "2023-05-02T20:46:26.388Z"
   },
   {
    "duration": 9,
    "start_time": "2023-05-02T20:46:26.396Z"
   },
   {
    "duration": 5,
    "start_time": "2023-05-02T20:46:26.407Z"
   },
   {
    "duration": 30,
    "start_time": "2023-05-02T20:46:26.413Z"
   },
   {
    "duration": 29649,
    "start_time": "2023-05-02T20:46:26.445Z"
   },
   {
    "duration": 95143,
    "start_time": "2023-05-02T20:46:56.095Z"
   },
   {
    "duration": 560,
    "start_time": "2023-05-02T20:48:31.239Z"
   },
   {
    "duration": 58,
    "start_time": "2023-05-02T20:48:31.852Z"
   },
   {
    "duration": 30492,
    "start_time": "2023-05-02T20:48:31.911Z"
   },
   {
    "duration": 107828,
    "start_time": "2023-05-02T20:49:02.405Z"
   },
   {
    "duration": 672,
    "start_time": "2023-05-02T20:50:50.235Z"
   },
   {
    "duration": 50,
    "start_time": "2023-05-02T20:50:50.909Z"
   },
   {
    "duration": 73,
    "start_time": "2023-05-02T20:50:50.961Z"
   },
   {
    "duration": 50885,
    "start_time": "2023-05-02T20:50:51.036Z"
   },
   {
    "duration": 169400,
    "start_time": "2023-05-02T20:51:41.923Z"
   },
   {
    "duration": 744,
    "start_time": "2023-05-02T20:54:31.327Z"
   },
   {
    "duration": 49,
    "start_time": "2023-05-02T20:54:32.078Z"
   },
   {
    "duration": 94,
    "start_time": "2023-05-02T20:54:32.149Z"
   },
   {
    "duration": 16595,
    "start_time": "2023-05-02T20:54:32.246Z"
   },
   {
    "duration": 63029,
    "start_time": "2023-05-02T20:54:48.842Z"
   },
   {
    "duration": 318,
    "start_time": "2023-05-02T20:55:51.877Z"
   },
   {
    "duration": 183,
    "start_time": "2023-05-02T20:55:52.256Z"
   },
   {
    "duration": 71,
    "start_time": "2023-05-02T21:14:17.072Z"
   },
   {
    "duration": 50,
    "start_time": "2023-05-02T21:14:39.718Z"
   },
   {
    "duration": 1503,
    "start_time": "2023-05-02T21:15:11.584Z"
   },
   {
    "duration": 79,
    "start_time": "2023-05-02T21:15:13.104Z"
   },
   {
    "duration": 21,
    "start_time": "2023-05-02T21:15:13.184Z"
   },
   {
    "duration": 12,
    "start_time": "2023-05-02T21:15:13.206Z"
   },
   {
    "duration": 59,
    "start_time": "2023-05-02T21:15:13.220Z"
   },
   {
    "duration": 1793,
    "start_time": "2023-05-02T21:15:13.287Z"
   },
   {
    "duration": 14,
    "start_time": "2023-05-02T21:15:15.085Z"
   },
   {
    "duration": 20,
    "start_time": "2023-05-02T21:15:15.104Z"
   },
   {
    "duration": 15,
    "start_time": "2023-05-02T21:15:15.126Z"
   },
   {
    "duration": 22,
    "start_time": "2023-05-02T21:15:15.142Z"
   },
   {
    "duration": 36,
    "start_time": "2023-05-02T21:15:15.168Z"
   },
   {
    "duration": 15,
    "start_time": "2023-05-02T21:15:15.205Z"
   },
   {
    "duration": 5,
    "start_time": "2023-05-02T21:15:15.221Z"
   },
   {
    "duration": 16,
    "start_time": "2023-05-02T21:15:15.229Z"
   },
   {
    "duration": 32,
    "start_time": "2023-05-02T21:15:15.247Z"
   },
   {
    "duration": 41,
    "start_time": "2023-05-02T21:15:15.293Z"
   },
   {
    "duration": 29529,
    "start_time": "2023-05-02T21:15:15.335Z"
   },
   {
    "duration": 97030,
    "start_time": "2023-05-02T21:15:44.865Z"
   },
   {
    "duration": 308,
    "start_time": "2023-05-02T21:17:21.896Z"
   },
   {
    "duration": 91,
    "start_time": "2023-05-02T21:17:22.272Z"
   },
   {
    "duration": 30848,
    "start_time": "2023-05-02T21:17:22.384Z"
   },
   {
    "duration": 102964,
    "start_time": "2023-05-02T21:17:53.234Z"
   },
   {
    "duration": 404,
    "start_time": "2023-05-02T21:19:36.200Z"
   },
   {
    "duration": 29,
    "start_time": "2023-05-02T21:19:36.672Z"
   },
   {
    "duration": 26,
    "start_time": "2023-05-02T21:19:36.711Z"
   },
   {
    "duration": 52367,
    "start_time": "2023-05-02T21:19:36.740Z"
   },
   {
    "duration": 178591,
    "start_time": "2023-05-02T21:20:29.109Z"
   },
   {
    "duration": 500,
    "start_time": "2023-05-02T21:23:27.704Z"
   },
   {
    "duration": 12,
    "start_time": "2023-05-02T21:23:28.263Z"
   },
   {
    "duration": 66,
    "start_time": "2023-05-02T21:23:28.288Z"
   },
   {
    "duration": 17080,
    "start_time": "2023-05-02T21:23:28.358Z"
   },
   {
    "duration": 65933,
    "start_time": "2023-05-02T21:23:45.440Z"
   },
   {
    "duration": 581,
    "start_time": "2023-05-02T21:24:51.375Z"
   },
   {
    "duration": 212,
    "start_time": "2023-05-02T21:24:51.963Z"
   },
   {
    "duration": 1717,
    "start_time": "2023-05-05T08:23:07.765Z"
   },
   {
    "duration": 89,
    "start_time": "2023-05-05T08:23:09.485Z"
   },
   {
    "duration": 34,
    "start_time": "2023-05-05T08:23:09.576Z"
   },
   {
    "duration": 17,
    "start_time": "2023-05-05T08:23:09.612Z"
   },
   {
    "duration": 45,
    "start_time": "2023-05-05T08:23:09.631Z"
   },
   {
    "duration": 2012,
    "start_time": "2023-05-05T08:23:09.678Z"
   },
   {
    "duration": 10,
    "start_time": "2023-05-05T08:23:11.692Z"
   },
   {
    "duration": 29,
    "start_time": "2023-05-05T08:23:11.704Z"
   },
   {
    "duration": 12,
    "start_time": "2023-05-05T08:23:11.735Z"
   },
   {
    "duration": 57,
    "start_time": "2023-05-05T08:23:11.750Z"
   },
   {
    "duration": 28,
    "start_time": "2023-05-05T08:23:11.809Z"
   },
   {
    "duration": 18,
    "start_time": "2023-05-05T08:23:11.839Z"
   },
   {
    "duration": 31,
    "start_time": "2023-05-05T08:23:11.859Z"
   },
   {
    "duration": 34,
    "start_time": "2023-05-05T08:23:11.895Z"
   },
   {
    "duration": 11,
    "start_time": "2023-05-05T08:23:11.935Z"
   },
   {
    "duration": 130,
    "start_time": "2023-05-05T08:23:11.949Z"
   },
   {
    "duration": 28504,
    "start_time": "2023-05-05T08:23:12.081Z"
   },
   {
    "duration": 97941,
    "start_time": "2023-05-05T08:23:40.587Z"
   },
   {
    "duration": 782,
    "start_time": "2023-05-05T08:25:18.530Z"
   },
   {
    "duration": 90,
    "start_time": "2023-05-05T08:25:19.314Z"
   },
   {
    "duration": 29390,
    "start_time": "2023-05-05T08:25:19.406Z"
   },
   {
    "duration": 103547,
    "start_time": "2023-05-05T08:25:48.802Z"
   },
   {
    "duration": 1047,
    "start_time": "2023-05-05T08:27:32.351Z"
   },
   {
    "duration": 83,
    "start_time": "2023-05-05T08:27:33.405Z"
   },
   {
    "duration": 25,
    "start_time": "2023-05-05T08:27:33.494Z"
   },
   {
    "duration": 45609,
    "start_time": "2023-05-05T08:27:33.521Z"
   },
   {
    "duration": 171809,
    "start_time": "2023-05-05T08:28:19.131Z"
   },
   {
    "duration": 955,
    "start_time": "2023-05-05T08:31:10.942Z"
   },
   {
    "duration": 17,
    "start_time": "2023-05-05T08:31:11.899Z"
   },
   {
    "duration": 26,
    "start_time": "2023-05-05T08:31:11.918Z"
   },
   {
    "duration": 16712,
    "start_time": "2023-05-05T08:31:11.946Z"
   },
   {
    "duration": 69684,
    "start_time": "2023-05-05T08:31:28.660Z"
   },
   {
    "duration": 266,
    "start_time": "2023-05-05T08:32:38.346Z"
   },
   {
    "duration": 261,
    "start_time": "2023-05-05T08:32:38.614Z"
   },
   {
    "duration": 146,
    "start_time": "2023-05-05T08:33:45.845Z"
   },
   {
    "duration": 1410,
    "start_time": "2023-05-05T08:39:08.379Z"
   },
   {
    "duration": 114,
    "start_time": "2023-05-05T08:44:02.802Z"
   },
   {
    "duration": 10,
    "start_time": "2023-05-05T09:38:30.343Z"
   },
   {
    "duration": 1483,
    "start_time": "2023-05-05T09:40:36.680Z"
   },
   {
    "duration": 40,
    "start_time": "2023-05-05T09:40:38.165Z"
   },
   {
    "duration": 21,
    "start_time": "2023-05-05T09:40:38.207Z"
   },
   {
    "duration": 36,
    "start_time": "2023-05-05T09:40:38.229Z"
   },
   {
    "duration": 64,
    "start_time": "2023-05-05T09:40:38.268Z"
   },
   {
    "duration": 1788,
    "start_time": "2023-05-05T09:40:38.334Z"
   },
   {
    "duration": 9,
    "start_time": "2023-05-05T09:40:40.124Z"
   },
   {
    "duration": 10,
    "start_time": "2023-05-05T09:40:40.134Z"
   },
   {
    "duration": 9,
    "start_time": "2023-05-05T09:40:40.146Z"
   },
   {
    "duration": 14,
    "start_time": "2023-05-05T09:40:40.157Z"
   },
   {
    "duration": 36,
    "start_time": "2023-05-05T09:40:40.172Z"
   },
   {
    "duration": 16,
    "start_time": "2023-05-05T09:40:40.210Z"
   },
   {
    "duration": 8,
    "start_time": "2023-05-05T09:40:40.229Z"
   },
   {
    "duration": 14,
    "start_time": "2023-05-05T09:40:40.242Z"
   },
   {
    "duration": 8,
    "start_time": "2023-05-05T09:40:40.258Z"
   },
   {
    "duration": 66,
    "start_time": "2023-05-05T09:40:40.269Z"
   },
   {
    "duration": 28832,
    "start_time": "2023-05-05T09:40:40.337Z"
   },
   {
    "duration": 97504,
    "start_time": "2023-05-05T09:41:09.171Z"
   },
   {
    "duration": 337,
    "start_time": "2023-05-05T09:42:46.677Z"
   },
   {
    "duration": 95,
    "start_time": "2023-05-05T09:42:47.097Z"
   },
   {
    "duration": 28630,
    "start_time": "2023-05-05T09:42:47.194Z"
   },
   {
    "duration": 100774,
    "start_time": "2023-05-05T09:43:15.826Z"
   },
   {
    "duration": 591,
    "start_time": "2023-05-05T09:44:56.602Z"
   },
   {
    "duration": 11,
    "start_time": "2023-05-05T09:44:57.197Z"
   },
   {
    "duration": 100,
    "start_time": "2023-05-05T09:44:57.210Z"
   },
   {
    "duration": 45864,
    "start_time": "2023-05-05T09:44:57.312Z"
   },
   {
    "duration": 172051,
    "start_time": "2023-05-05T09:45:43.178Z"
   },
   {
    "duration": 771,
    "start_time": "2023-05-05T09:48:35.230Z"
   },
   {
    "duration": 9,
    "start_time": "2023-05-05T09:48:36.006Z"
   },
   {
    "duration": 10,
    "start_time": "2023-05-05T09:48:36.101Z"
   },
   {
    "duration": 16798,
    "start_time": "2023-05-05T09:48:36.113Z"
   },
   {
    "duration": 69709,
    "start_time": "2023-05-05T09:48:52.913Z"
   },
   {
    "duration": 284,
    "start_time": "2023-05-05T09:50:02.624Z"
   },
   {
    "duration": 258,
    "start_time": "2023-05-05T09:50:02.910Z"
   },
   {
    "duration": 1809,
    "start_time": "2023-05-05T10:55:52.540Z"
   },
   {
    "duration": 40,
    "start_time": "2023-05-05T10:55:54.351Z"
   },
   {
    "duration": 18,
    "start_time": "2023-05-05T10:55:54.393Z"
   },
   {
    "duration": 11,
    "start_time": "2023-05-05T10:55:54.413Z"
   },
   {
    "duration": 40,
    "start_time": "2023-05-05T10:55:54.425Z"
   },
   {
    "duration": 1518,
    "start_time": "2023-05-05T10:55:54.466Z"
   },
   {
    "duration": 9,
    "start_time": "2023-05-05T10:55:55.986Z"
   },
   {
    "duration": 8,
    "start_time": "2023-05-05T10:55:55.998Z"
   },
   {
    "duration": 7,
    "start_time": "2023-05-05T10:55:56.008Z"
   },
   {
    "duration": 33,
    "start_time": "2023-05-05T10:55:56.017Z"
   },
   {
    "duration": 5,
    "start_time": "2023-05-05T10:55:56.052Z"
   },
   {
    "duration": 28,
    "start_time": "2023-05-05T10:55:56.058Z"
   },
   {
    "duration": 5,
    "start_time": "2023-05-05T10:55:56.088Z"
   },
   {
    "duration": 17,
    "start_time": "2023-05-05T10:55:56.094Z"
   },
   {
    "duration": 6,
    "start_time": "2023-05-05T10:55:56.112Z"
   },
   {
    "duration": 40,
    "start_time": "2023-05-05T10:55:56.120Z"
   },
   {
    "duration": 27824,
    "start_time": "2023-05-05T10:55:56.161Z"
   },
   {
    "duration": 155810,
    "start_time": "2023-05-05T10:56:23.987Z"
   },
   {
    "duration": 452,
    "start_time": "2023-05-05T10:58:59.804Z"
   },
   {
    "duration": 92,
    "start_time": "2023-05-05T10:59:00.258Z"
   },
   {
    "duration": 27014,
    "start_time": "2023-05-05T10:59:00.352Z"
   },
   {
    "duration": 89058,
    "start_time": "2023-05-05T10:59:27.368Z"
   },
   {
    "duration": 133,
    "start_time": "2023-05-05T11:00:56.428Z"
   },
   {
    "duration": 89,
    "start_time": "2023-05-05T11:00:56.562Z"
   },
   {
    "duration": 106,
    "start_time": "2023-05-05T11:00:56.653Z"
   },
   {
    "duration": 43354,
    "start_time": "2023-05-05T11:00:56.760Z"
   },
   {
    "duration": 149015,
    "start_time": "2023-05-05T11:01:40.116Z"
   },
   {
    "duration": 315,
    "start_time": "2023-05-05T11:04:09.135Z"
   },
   {
    "duration": 6,
    "start_time": "2023-05-05T11:04:09.452Z"
   },
   {
    "duration": 102,
    "start_time": "2023-05-05T11:04:09.459Z"
   },
   {
    "duration": 14308,
    "start_time": "2023-05-05T11:04:09.563Z"
   },
   {
    "duration": 56436,
    "start_time": "2023-05-05T11:04:23.873Z"
   },
   {
    "duration": 144,
    "start_time": "2023-05-05T11:05:20.310Z"
   },
   {
    "duration": 260,
    "start_time": "2023-05-05T11:05:20.457Z"
   },
   {
    "duration": 49,
    "start_time": "2023-05-05T20:05:11.602Z"
   },
   {
    "duration": 1602,
    "start_time": "2023-05-05T20:24:30.327Z"
   },
   {
    "duration": 81,
    "start_time": "2023-05-05T20:24:31.932Z"
   },
   {
    "duration": 19,
    "start_time": "2023-05-05T20:24:32.015Z"
   },
   {
    "duration": 22,
    "start_time": "2023-05-05T20:24:32.036Z"
   },
   {
    "duration": 54,
    "start_time": "2023-05-05T20:24:32.060Z"
   },
   {
    "duration": 1681,
    "start_time": "2023-05-05T20:24:32.116Z"
   },
   {
    "duration": 8,
    "start_time": "2023-05-05T20:24:33.798Z"
   },
   {
    "duration": 9,
    "start_time": "2023-05-05T20:24:33.807Z"
   },
   {
    "duration": 7,
    "start_time": "2023-05-05T20:24:33.818Z"
   },
   {
    "duration": 8,
    "start_time": "2023-05-05T20:24:33.826Z"
   },
   {
    "duration": 6,
    "start_time": "2023-05-05T20:24:33.835Z"
   },
   {
    "duration": 20,
    "start_time": "2023-05-05T20:24:33.843Z"
   },
   {
    "duration": 5,
    "start_time": "2023-05-05T20:24:33.865Z"
   },
   {
    "duration": 11,
    "start_time": "2023-05-05T20:24:33.891Z"
   },
   {
    "duration": 4,
    "start_time": "2023-05-05T20:24:33.904Z"
   },
   {
    "duration": 32,
    "start_time": "2023-05-05T20:24:33.910Z"
   },
   {
    "duration": 25130,
    "start_time": "2023-05-05T20:24:33.943Z"
   },
   {
    "duration": 43561,
    "start_time": "2023-05-05T20:24:59.074Z"
   },
   {
    "duration": 0,
    "start_time": "2023-05-05T20:25:42.637Z"
   },
   {
    "duration": 0,
    "start_time": "2023-05-05T20:25:42.638Z"
   },
   {
    "duration": 0,
    "start_time": "2023-05-05T20:25:42.640Z"
   },
   {
    "duration": 0,
    "start_time": "2023-05-05T20:25:42.641Z"
   },
   {
    "duration": 0,
    "start_time": "2023-05-05T20:25:42.642Z"
   },
   {
    "duration": 0,
    "start_time": "2023-05-05T20:25:42.643Z"
   },
   {
    "duration": 0,
    "start_time": "2023-05-05T20:25:42.644Z"
   },
   {
    "duration": 0,
    "start_time": "2023-05-05T20:25:42.646Z"
   },
   {
    "duration": 0,
    "start_time": "2023-05-05T20:25:42.647Z"
   },
   {
    "duration": 0,
    "start_time": "2023-05-05T20:25:42.648Z"
   },
   {
    "duration": 0,
    "start_time": "2023-05-05T20:25:42.649Z"
   },
   {
    "duration": 0,
    "start_time": "2023-05-05T20:25:42.650Z"
   },
   {
    "duration": 0,
    "start_time": "2023-05-05T20:25:42.651Z"
   },
   {
    "duration": 0,
    "start_time": "2023-05-05T20:25:42.653Z"
   },
   {
    "duration": 0,
    "start_time": "2023-05-05T20:25:42.655Z"
   },
   {
    "duration": 0,
    "start_time": "2023-05-05T20:25:42.656Z"
   },
   {
    "duration": 0,
    "start_time": "2023-05-05T20:25:42.658Z"
   },
   {
    "duration": 1305,
    "start_time": "2023-05-05T20:25:49.102Z"
   },
   {
    "duration": 38,
    "start_time": "2023-05-05T20:25:50.409Z"
   },
   {
    "duration": 19,
    "start_time": "2023-05-05T20:25:50.449Z"
   },
   {
    "duration": 13,
    "start_time": "2023-05-05T20:25:50.470Z"
   },
   {
    "duration": 45,
    "start_time": "2023-05-05T20:25:50.491Z"
   },
   {
    "duration": 1611,
    "start_time": "2023-05-05T20:25:50.538Z"
   },
   {
    "duration": 7,
    "start_time": "2023-05-05T20:25:52.150Z"
   },
   {
    "duration": 31,
    "start_time": "2023-05-05T20:25:52.159Z"
   },
   {
    "duration": 5,
    "start_time": "2023-05-05T20:25:52.192Z"
   },
   {
    "duration": 10,
    "start_time": "2023-05-05T20:25:52.199Z"
   },
   {
    "duration": 10,
    "start_time": "2023-05-05T20:25:52.210Z"
   },
   {
    "duration": 11,
    "start_time": "2023-05-05T20:25:52.221Z"
   },
   {
    "duration": 6,
    "start_time": "2023-05-05T20:25:52.234Z"
   },
   {
    "duration": 9,
    "start_time": "2023-05-05T20:25:52.242Z"
   },
   {
    "duration": 11,
    "start_time": "2023-05-05T20:25:52.253Z"
   },
   {
    "duration": 53,
    "start_time": "2023-05-05T20:25:52.265Z"
   },
   {
    "duration": 24506,
    "start_time": "2023-05-05T20:25:52.320Z"
   },
   {
    "duration": 15999,
    "start_time": "2023-05-05T20:26:16.828Z"
   },
   {
    "duration": 0,
    "start_time": "2023-05-05T20:26:32.829Z"
   },
   {
    "duration": 0,
    "start_time": "2023-05-05T20:26:32.830Z"
   },
   {
    "duration": 0,
    "start_time": "2023-05-05T20:26:32.832Z"
   },
   {
    "duration": 0,
    "start_time": "2023-05-05T20:26:32.833Z"
   },
   {
    "duration": 0,
    "start_time": "2023-05-05T20:26:32.834Z"
   },
   {
    "duration": 0,
    "start_time": "2023-05-05T20:26:32.836Z"
   },
   {
    "duration": 0,
    "start_time": "2023-05-05T20:26:32.837Z"
   },
   {
    "duration": 0,
    "start_time": "2023-05-05T20:26:32.838Z"
   },
   {
    "duration": 0,
    "start_time": "2023-05-05T20:26:32.840Z"
   },
   {
    "duration": 0,
    "start_time": "2023-05-05T20:26:32.841Z"
   },
   {
    "duration": 0,
    "start_time": "2023-05-05T20:26:32.843Z"
   },
   {
    "duration": 0,
    "start_time": "2023-05-05T20:26:32.845Z"
   },
   {
    "duration": 0,
    "start_time": "2023-05-05T20:26:32.846Z"
   },
   {
    "duration": 1,
    "start_time": "2023-05-05T20:26:32.847Z"
   },
   {
    "duration": 0,
    "start_time": "2023-05-05T20:26:32.849Z"
   },
   {
    "duration": 0,
    "start_time": "2023-05-05T20:26:32.850Z"
   },
   {
    "duration": 1434,
    "start_time": "2023-05-05T20:28:35.209Z"
   },
   {
    "duration": 39,
    "start_time": "2023-05-05T20:28:36.645Z"
   },
   {
    "duration": 20,
    "start_time": "2023-05-05T20:28:36.685Z"
   },
   {
    "duration": 27,
    "start_time": "2023-05-05T20:28:36.707Z"
   },
   {
    "duration": 92,
    "start_time": "2023-05-05T20:28:36.736Z"
   },
   {
    "duration": 1824,
    "start_time": "2023-05-05T20:28:36.829Z"
   },
   {
    "duration": 8,
    "start_time": "2023-05-05T20:28:38.654Z"
   },
   {
    "duration": 15,
    "start_time": "2023-05-05T20:28:38.664Z"
   },
   {
    "duration": 5,
    "start_time": "2023-05-05T20:28:38.680Z"
   },
   {
    "duration": 19,
    "start_time": "2023-05-05T20:28:38.686Z"
   },
   {
    "duration": 8,
    "start_time": "2023-05-05T20:28:38.708Z"
   },
   {
    "duration": 21,
    "start_time": "2023-05-05T20:28:38.717Z"
   },
   {
    "duration": 14,
    "start_time": "2023-05-05T20:28:38.740Z"
   },
   {
    "duration": 18,
    "start_time": "2023-05-05T20:28:38.758Z"
   },
   {
    "duration": 14,
    "start_time": "2023-05-05T20:28:38.778Z"
   },
   {
    "duration": 34,
    "start_time": "2023-05-05T20:28:38.793Z"
   },
   {
    "duration": 25155,
    "start_time": "2023-05-05T20:28:38.829Z"
   },
   {
    "duration": 87938,
    "start_time": "2023-05-05T20:29:03.986Z"
   },
   {
    "duration": 271,
    "start_time": "2023-05-05T20:30:31.926Z"
   },
   {
    "duration": 96,
    "start_time": "2023-05-05T20:30:32.199Z"
   },
   {
    "duration": 27804,
    "start_time": "2023-05-05T20:30:32.298Z"
   },
   {
    "duration": 91119,
    "start_time": "2023-05-05T20:31:00.105Z"
   },
   {
    "duration": 178,
    "start_time": "2023-05-05T20:32:31.226Z"
   },
   {
    "duration": 6,
    "start_time": "2023-05-05T20:32:31.493Z"
   },
   {
    "duration": 121,
    "start_time": "2023-05-05T20:32:31.501Z"
   },
   {
    "duration": 32203,
    "start_time": "2023-05-05T20:32:31.625Z"
   },
   {
    "duration": 109214,
    "start_time": "2023-05-05T20:33:03.830Z"
   },
   {
    "duration": 358,
    "start_time": "2023-05-05T20:34:53.046Z"
   },
   {
    "duration": 4,
    "start_time": "2023-05-05T20:34:53.493Z"
   },
   {
    "duration": 37,
    "start_time": "2023-05-05T20:34:53.499Z"
   },
   {
    "duration": 16713,
    "start_time": "2023-05-05T20:34:53.538Z"
   },
   {
    "duration": 64896,
    "start_time": "2023-05-05T20:35:10.253Z"
   },
   {
    "duration": 242,
    "start_time": "2023-05-05T20:36:15.151Z"
   },
   {
    "duration": 168,
    "start_time": "2023-05-05T20:36:15.395Z"
   },
   {
    "duration": 73,
    "start_time": "2023-05-05T20:55:03.537Z"
   }
  ],
  "kernelspec": {
   "display_name": "Python 3 (ipykernel)",
   "language": "python",
   "name": "python3"
  },
  "language_info": {
   "codemirror_mode": {
    "name": "ipython",
    "version": 3
   },
   "file_extension": ".py",
   "mimetype": "text/x-python",
   "name": "python",
   "nbconvert_exporter": "python",
   "pygments_lexer": "ipython3",
   "version": "3.9.5"
  },
  "toc": {
   "base_numbering": 1,
   "nav_menu": {},
   "number_sections": true,
   "sideBar": true,
   "skip_h1_title": true,
   "title_cell": "Содержание",
   "title_sidebar": "Contents",
   "toc_cell": true,
   "toc_position": {},
   "toc_section_display": true,
   "toc_window_display": false
  }
 },
 "nbformat": 4,
 "nbformat_minor": 2
}
