{
 "cells": [
  {
   "cell_type": "markdown",
   "metadata": {},
   "source": [
    "# Определение стоимости автомобилей"
   ]
  },
  {
   "cell_type": "markdown",
   "metadata": {},
   "source": [
    "Сервис по продаже автомобилей с пробегом «Не бит, не крашен» разрабатывает приложение для привлечения новых клиентов. В нём можно быстро узнать рыночную стоимость своего автомобиля. В вашем распоряжении исторические данные: технические характеристики, комплектации и цены автомобилей. Вам нужно построить модель для определения стоимости. \n",
    "\n",
    "Заказчику важны:\n",
    "\n",
    "- качество предсказания;\n",
    "- скорость предсказания;\n",
    "- время обучения."
   ]
  },
  {
   "cell_type": "markdown",
   "metadata": {},
   "source": [
    "***Описание данных***\n",
    "\n",
    "Признаки\n",
    "\n",
    "    DateCrawled — дата скачивания анкеты из базы\n",
    "    VehicleType — тип автомобильного кузова\n",
    "    RegistrationYear — год регистрации автомобиля\n",
    "    Gearbox — тип коробки передач\n",
    "    Power — мощность (л. с.)\n",
    "    Model — модель автомобиля\n",
    "    Kilometer — пробег (км)\n",
    "    RegistrationMonth — месяц регистрации автомобиля\n",
    "    FuelType — тип топлива\n",
    "    Brand — марка автомобиля\n",
    "    Repaired — была машина в ремонте или нет\n",
    "    DateCreated — дата создания анкеты\n",
    "    NumberOfPictures — количество фотографий автомобиля\n",
    "    PostalCode — почтовый индекс владельца анкеты (пользователя)\n",
    "    LastSeen — дата последней активности пользователя\n",
    "\n",
    "Целевой признак\n",
    "\n",
    "    Price — цена (евро)"
   ]
  },
  {
   "cell_type": "markdown",
   "metadata": {},
   "source": [
    "## Подготовка данных"
   ]
  },
  {
   "cell_type": "code",
   "execution_count": 1,
   "metadata": {},
   "outputs": [],
   "source": [
    "# Импортируем библиотеки\n",
    "import pandas as pd\n",
    "import numpy as np\n",
    "import re \n",
    "import matplotlib.pyplot as plt\n",
    "from sklearn.model_selection import train_test_split\n",
    "from sklearn.linear_model import LinearRegression\n",
    "from sklearn.tree import DecisionTreeRegressor\n",
    "from lightgbm import LGBMRegressor\n",
    "from sklearn.ensemble import RandomForestRegressor\n",
    "from sklearn.metrics import r2_score\n",
    "from sklearn.metrics import mean_squared_error\n",
    "from sklearn.preprocessing import OneHotEncoder\n",
    "from sklearn.preprocessing import OrdinalEncoder\n",
    "from sklearn.preprocessing import StandardScaler"
   ]
  },
  {
   "cell_type": "code",
   "execution_count": 2,
   "metadata": {},
   "outputs": [],
   "source": [
    "# Откроем файл и запишем датасет в переменную data\n",
    "try:\n",
    "    data = pd.read_csv('/datasets/autos.csv')\n",
    "except:\n",
    "    data = pd.read_csv('autos.csv')"
   ]
  },
  {
   "cell_type": "code",
   "execution_count": 3,
   "metadata": {},
   "outputs": [
    {
     "data": {
      "text/html": [
       "<div>\n",
       "<style scoped>\n",
       "    .dataframe tbody tr th:only-of-type {\n",
       "        vertical-align: middle;\n",
       "    }\n",
       "\n",
       "    .dataframe tbody tr th {\n",
       "        vertical-align: top;\n",
       "    }\n",
       "\n",
       "    .dataframe thead th {\n",
       "        text-align: right;\n",
       "    }\n",
       "</style>\n",
       "<table border=\"1\" class=\"dataframe\">\n",
       "  <thead>\n",
       "    <tr style=\"text-align: right;\">\n",
       "      <th></th>\n",
       "      <th>DateCrawled</th>\n",
       "      <th>Price</th>\n",
       "      <th>VehicleType</th>\n",
       "      <th>RegistrationYear</th>\n",
       "      <th>Gearbox</th>\n",
       "      <th>Power</th>\n",
       "      <th>Model</th>\n",
       "      <th>Kilometer</th>\n",
       "      <th>RegistrationMonth</th>\n",
       "      <th>FuelType</th>\n",
       "      <th>Brand</th>\n",
       "      <th>Repaired</th>\n",
       "      <th>DateCreated</th>\n",
       "      <th>NumberOfPictures</th>\n",
       "      <th>PostalCode</th>\n",
       "      <th>LastSeen</th>\n",
       "    </tr>\n",
       "  </thead>\n",
       "  <tbody>\n",
       "    <tr>\n",
       "      <th>0</th>\n",
       "      <td>2016-03-24 11:52:17</td>\n",
       "      <td>480</td>\n",
       "      <td>NaN</td>\n",
       "      <td>1993</td>\n",
       "      <td>manual</td>\n",
       "      <td>0</td>\n",
       "      <td>golf</td>\n",
       "      <td>150000</td>\n",
       "      <td>0</td>\n",
       "      <td>petrol</td>\n",
       "      <td>volkswagen</td>\n",
       "      <td>NaN</td>\n",
       "      <td>2016-03-24 00:00:00</td>\n",
       "      <td>0</td>\n",
       "      <td>70435</td>\n",
       "      <td>2016-04-07 03:16:57</td>\n",
       "    </tr>\n",
       "    <tr>\n",
       "      <th>1</th>\n",
       "      <td>2016-03-24 10:58:45</td>\n",
       "      <td>18300</td>\n",
       "      <td>coupe</td>\n",
       "      <td>2011</td>\n",
       "      <td>manual</td>\n",
       "      <td>190</td>\n",
       "      <td>NaN</td>\n",
       "      <td>125000</td>\n",
       "      <td>5</td>\n",
       "      <td>gasoline</td>\n",
       "      <td>audi</td>\n",
       "      <td>yes</td>\n",
       "      <td>2016-03-24 00:00:00</td>\n",
       "      <td>0</td>\n",
       "      <td>66954</td>\n",
       "      <td>2016-04-07 01:46:50</td>\n",
       "    </tr>\n",
       "    <tr>\n",
       "      <th>2</th>\n",
       "      <td>2016-03-14 12:52:21</td>\n",
       "      <td>9800</td>\n",
       "      <td>suv</td>\n",
       "      <td>2004</td>\n",
       "      <td>auto</td>\n",
       "      <td>163</td>\n",
       "      <td>grand</td>\n",
       "      <td>125000</td>\n",
       "      <td>8</td>\n",
       "      <td>gasoline</td>\n",
       "      <td>jeep</td>\n",
       "      <td>NaN</td>\n",
       "      <td>2016-03-14 00:00:00</td>\n",
       "      <td>0</td>\n",
       "      <td>90480</td>\n",
       "      <td>2016-04-05 12:47:46</td>\n",
       "    </tr>\n",
       "    <tr>\n",
       "      <th>3</th>\n",
       "      <td>2016-03-17 16:54:04</td>\n",
       "      <td>1500</td>\n",
       "      <td>small</td>\n",
       "      <td>2001</td>\n",
       "      <td>manual</td>\n",
       "      <td>75</td>\n",
       "      <td>golf</td>\n",
       "      <td>150000</td>\n",
       "      <td>6</td>\n",
       "      <td>petrol</td>\n",
       "      <td>volkswagen</td>\n",
       "      <td>no</td>\n",
       "      <td>2016-03-17 00:00:00</td>\n",
       "      <td>0</td>\n",
       "      <td>91074</td>\n",
       "      <td>2016-03-17 17:40:17</td>\n",
       "    </tr>\n",
       "    <tr>\n",
       "      <th>4</th>\n",
       "      <td>2016-03-31 17:25:20</td>\n",
       "      <td>3600</td>\n",
       "      <td>small</td>\n",
       "      <td>2008</td>\n",
       "      <td>manual</td>\n",
       "      <td>69</td>\n",
       "      <td>fabia</td>\n",
       "      <td>90000</td>\n",
       "      <td>7</td>\n",
       "      <td>gasoline</td>\n",
       "      <td>skoda</td>\n",
       "      <td>no</td>\n",
       "      <td>2016-03-31 00:00:00</td>\n",
       "      <td>0</td>\n",
       "      <td>60437</td>\n",
       "      <td>2016-04-06 10:17:21</td>\n",
       "    </tr>\n",
       "    <tr>\n",
       "      <th>5</th>\n",
       "      <td>2016-04-04 17:36:23</td>\n",
       "      <td>650</td>\n",
       "      <td>sedan</td>\n",
       "      <td>1995</td>\n",
       "      <td>manual</td>\n",
       "      <td>102</td>\n",
       "      <td>3er</td>\n",
       "      <td>150000</td>\n",
       "      <td>10</td>\n",
       "      <td>petrol</td>\n",
       "      <td>bmw</td>\n",
       "      <td>yes</td>\n",
       "      <td>2016-04-04 00:00:00</td>\n",
       "      <td>0</td>\n",
       "      <td>33775</td>\n",
       "      <td>2016-04-06 19:17:07</td>\n",
       "    </tr>\n",
       "    <tr>\n",
       "      <th>6</th>\n",
       "      <td>2016-04-01 20:48:51</td>\n",
       "      <td>2200</td>\n",
       "      <td>convertible</td>\n",
       "      <td>2004</td>\n",
       "      <td>manual</td>\n",
       "      <td>109</td>\n",
       "      <td>2_reihe</td>\n",
       "      <td>150000</td>\n",
       "      <td>8</td>\n",
       "      <td>petrol</td>\n",
       "      <td>peugeot</td>\n",
       "      <td>no</td>\n",
       "      <td>2016-04-01 00:00:00</td>\n",
       "      <td>0</td>\n",
       "      <td>67112</td>\n",
       "      <td>2016-04-05 18:18:39</td>\n",
       "    </tr>\n",
       "    <tr>\n",
       "      <th>7</th>\n",
       "      <td>2016-03-21 18:54:38</td>\n",
       "      <td>0</td>\n",
       "      <td>sedan</td>\n",
       "      <td>1980</td>\n",
       "      <td>manual</td>\n",
       "      <td>50</td>\n",
       "      <td>other</td>\n",
       "      <td>40000</td>\n",
       "      <td>7</td>\n",
       "      <td>petrol</td>\n",
       "      <td>volkswagen</td>\n",
       "      <td>no</td>\n",
       "      <td>2016-03-21 00:00:00</td>\n",
       "      <td>0</td>\n",
       "      <td>19348</td>\n",
       "      <td>2016-03-25 16:47:58</td>\n",
       "    </tr>\n",
       "    <tr>\n",
       "      <th>8</th>\n",
       "      <td>2016-04-04 23:42:13</td>\n",
       "      <td>14500</td>\n",
       "      <td>bus</td>\n",
       "      <td>2014</td>\n",
       "      <td>manual</td>\n",
       "      <td>125</td>\n",
       "      <td>c_max</td>\n",
       "      <td>30000</td>\n",
       "      <td>8</td>\n",
       "      <td>petrol</td>\n",
       "      <td>ford</td>\n",
       "      <td>NaN</td>\n",
       "      <td>2016-04-04 00:00:00</td>\n",
       "      <td>0</td>\n",
       "      <td>94505</td>\n",
       "      <td>2016-04-04 23:42:13</td>\n",
       "    </tr>\n",
       "    <tr>\n",
       "      <th>9</th>\n",
       "      <td>2016-03-17 10:53:50</td>\n",
       "      <td>999</td>\n",
       "      <td>small</td>\n",
       "      <td>1998</td>\n",
       "      <td>manual</td>\n",
       "      <td>101</td>\n",
       "      <td>golf</td>\n",
       "      <td>150000</td>\n",
       "      <td>0</td>\n",
       "      <td>NaN</td>\n",
       "      <td>volkswagen</td>\n",
       "      <td>NaN</td>\n",
       "      <td>2016-03-17 00:00:00</td>\n",
       "      <td>0</td>\n",
       "      <td>27472</td>\n",
       "      <td>2016-03-31 17:17:06</td>\n",
       "    </tr>\n",
       "  </tbody>\n",
       "</table>\n",
       "</div>"
      ],
      "text/plain": [
       "           DateCrawled  Price  VehicleType  RegistrationYear Gearbox  Power  \\\n",
       "0  2016-03-24 11:52:17    480          NaN              1993  manual      0   \n",
       "1  2016-03-24 10:58:45  18300        coupe              2011  manual    190   \n",
       "2  2016-03-14 12:52:21   9800          suv              2004    auto    163   \n",
       "3  2016-03-17 16:54:04   1500        small              2001  manual     75   \n",
       "4  2016-03-31 17:25:20   3600        small              2008  manual     69   \n",
       "5  2016-04-04 17:36:23    650        sedan              1995  manual    102   \n",
       "6  2016-04-01 20:48:51   2200  convertible              2004  manual    109   \n",
       "7  2016-03-21 18:54:38      0        sedan              1980  manual     50   \n",
       "8  2016-04-04 23:42:13  14500          bus              2014  manual    125   \n",
       "9  2016-03-17 10:53:50    999        small              1998  manual    101   \n",
       "\n",
       "     Model  Kilometer  RegistrationMonth  FuelType       Brand Repaired  \\\n",
       "0     golf     150000                  0    petrol  volkswagen      NaN   \n",
       "1      NaN     125000                  5  gasoline        audi      yes   \n",
       "2    grand     125000                  8  gasoline        jeep      NaN   \n",
       "3     golf     150000                  6    petrol  volkswagen       no   \n",
       "4    fabia      90000                  7  gasoline       skoda       no   \n",
       "5      3er     150000                 10    petrol         bmw      yes   \n",
       "6  2_reihe     150000                  8    petrol     peugeot       no   \n",
       "7    other      40000                  7    petrol  volkswagen       no   \n",
       "8    c_max      30000                  8    petrol        ford      NaN   \n",
       "9     golf     150000                  0       NaN  volkswagen      NaN   \n",
       "\n",
       "           DateCreated  NumberOfPictures  PostalCode             LastSeen  \n",
       "0  2016-03-24 00:00:00                 0       70435  2016-04-07 03:16:57  \n",
       "1  2016-03-24 00:00:00                 0       66954  2016-04-07 01:46:50  \n",
       "2  2016-03-14 00:00:00                 0       90480  2016-04-05 12:47:46  \n",
       "3  2016-03-17 00:00:00                 0       91074  2016-03-17 17:40:17  \n",
       "4  2016-03-31 00:00:00                 0       60437  2016-04-06 10:17:21  \n",
       "5  2016-04-04 00:00:00                 0       33775  2016-04-06 19:17:07  \n",
       "6  2016-04-01 00:00:00                 0       67112  2016-04-05 18:18:39  \n",
       "7  2016-03-21 00:00:00                 0       19348  2016-03-25 16:47:58  \n",
       "8  2016-04-04 00:00:00                 0       94505  2016-04-04 23:42:13  \n",
       "9  2016-03-17 00:00:00                 0       27472  2016-03-31 17:17:06  "
      ]
     },
     "execution_count": 3,
     "metadata": {},
     "output_type": "execute_result"
    }
   ],
   "source": [
    "# Посмотрим первые 10 строк датафрейма data\n",
    "data.head(10)"
   ]
  },
  {
   "cell_type": "code",
   "execution_count": 4,
   "metadata": {},
   "outputs": [
    {
     "name": "stdout",
     "output_type": "stream",
     "text": [
      "<class 'pandas.core.frame.DataFrame'>\n",
      "RangeIndex: 354369 entries, 0 to 354368\n",
      "Data columns (total 16 columns):\n",
      " #   Column             Non-Null Count   Dtype \n",
      "---  ------             --------------   ----- \n",
      " 0   DateCrawled        354369 non-null  object\n",
      " 1   Price              354369 non-null  int64 \n",
      " 2   VehicleType        316879 non-null  object\n",
      " 3   RegistrationYear   354369 non-null  int64 \n",
      " 4   Gearbox            334536 non-null  object\n",
      " 5   Power              354369 non-null  int64 \n",
      " 6   Model              334664 non-null  object\n",
      " 7   Kilometer          354369 non-null  int64 \n",
      " 8   RegistrationMonth  354369 non-null  int64 \n",
      " 9   FuelType           321474 non-null  object\n",
      " 10  Brand              354369 non-null  object\n",
      " 11  Repaired           283215 non-null  object\n",
      " 12  DateCreated        354369 non-null  object\n",
      " 13  NumberOfPictures   354369 non-null  int64 \n",
      " 14  PostalCode         354369 non-null  int64 \n",
      " 15  LastSeen           354369 non-null  object\n",
      "dtypes: int64(7), object(9)\n",
      "memory usage: 43.3+ MB\n"
     ]
    }
   ],
   "source": [
    "# Выведем общую информацию о датафрейме data\n",
    "data.info()"
   ]
  },
  {
   "cell_type": "code",
   "execution_count": 5,
   "metadata": {},
   "outputs": [
    {
     "data": {
      "text/html": [
       "<div>\n",
       "<style scoped>\n",
       "    .dataframe tbody tr th:only-of-type {\n",
       "        vertical-align: middle;\n",
       "    }\n",
       "\n",
       "    .dataframe tbody tr th {\n",
       "        vertical-align: top;\n",
       "    }\n",
       "\n",
       "    .dataframe thead th {\n",
       "        text-align: right;\n",
       "    }\n",
       "</style>\n",
       "<table border=\"1\" class=\"dataframe\">\n",
       "  <thead>\n",
       "    <tr style=\"text-align: right;\">\n",
       "      <th></th>\n",
       "      <th>Price</th>\n",
       "      <th>RegistrationYear</th>\n",
       "      <th>Power</th>\n",
       "      <th>Kilometer</th>\n",
       "      <th>RegistrationMonth</th>\n",
       "      <th>NumberOfPictures</th>\n",
       "      <th>PostalCode</th>\n",
       "    </tr>\n",
       "  </thead>\n",
       "  <tbody>\n",
       "    <tr>\n",
       "      <th>count</th>\n",
       "      <td>354369.000000</td>\n",
       "      <td>354369.000000</td>\n",
       "      <td>354369.000000</td>\n",
       "      <td>354369.000000</td>\n",
       "      <td>354369.000000</td>\n",
       "      <td>354369.0</td>\n",
       "      <td>354369.000000</td>\n",
       "    </tr>\n",
       "    <tr>\n",
       "      <th>mean</th>\n",
       "      <td>4416.656776</td>\n",
       "      <td>2004.234448</td>\n",
       "      <td>110.094337</td>\n",
       "      <td>128211.172535</td>\n",
       "      <td>5.714645</td>\n",
       "      <td>0.0</td>\n",
       "      <td>50508.689087</td>\n",
       "    </tr>\n",
       "    <tr>\n",
       "      <th>std</th>\n",
       "      <td>4514.158514</td>\n",
       "      <td>90.227958</td>\n",
       "      <td>189.850405</td>\n",
       "      <td>37905.341530</td>\n",
       "      <td>3.726421</td>\n",
       "      <td>0.0</td>\n",
       "      <td>25783.096248</td>\n",
       "    </tr>\n",
       "    <tr>\n",
       "      <th>min</th>\n",
       "      <td>0.000000</td>\n",
       "      <td>1000.000000</td>\n",
       "      <td>0.000000</td>\n",
       "      <td>5000.000000</td>\n",
       "      <td>0.000000</td>\n",
       "      <td>0.0</td>\n",
       "      <td>1067.000000</td>\n",
       "    </tr>\n",
       "    <tr>\n",
       "      <th>25%</th>\n",
       "      <td>1050.000000</td>\n",
       "      <td>1999.000000</td>\n",
       "      <td>69.000000</td>\n",
       "      <td>125000.000000</td>\n",
       "      <td>3.000000</td>\n",
       "      <td>0.0</td>\n",
       "      <td>30165.000000</td>\n",
       "    </tr>\n",
       "    <tr>\n",
       "      <th>50%</th>\n",
       "      <td>2700.000000</td>\n",
       "      <td>2003.000000</td>\n",
       "      <td>105.000000</td>\n",
       "      <td>150000.000000</td>\n",
       "      <td>6.000000</td>\n",
       "      <td>0.0</td>\n",
       "      <td>49413.000000</td>\n",
       "    </tr>\n",
       "    <tr>\n",
       "      <th>75%</th>\n",
       "      <td>6400.000000</td>\n",
       "      <td>2008.000000</td>\n",
       "      <td>143.000000</td>\n",
       "      <td>150000.000000</td>\n",
       "      <td>9.000000</td>\n",
       "      <td>0.0</td>\n",
       "      <td>71083.000000</td>\n",
       "    </tr>\n",
       "    <tr>\n",
       "      <th>max</th>\n",
       "      <td>20000.000000</td>\n",
       "      <td>9999.000000</td>\n",
       "      <td>20000.000000</td>\n",
       "      <td>150000.000000</td>\n",
       "      <td>12.000000</td>\n",
       "      <td>0.0</td>\n",
       "      <td>99998.000000</td>\n",
       "    </tr>\n",
       "  </tbody>\n",
       "</table>\n",
       "</div>"
      ],
      "text/plain": [
       "               Price  RegistrationYear          Power      Kilometer  \\\n",
       "count  354369.000000     354369.000000  354369.000000  354369.000000   \n",
       "mean     4416.656776       2004.234448     110.094337  128211.172535   \n",
       "std      4514.158514         90.227958     189.850405   37905.341530   \n",
       "min         0.000000       1000.000000       0.000000    5000.000000   \n",
       "25%      1050.000000       1999.000000      69.000000  125000.000000   \n",
       "50%      2700.000000       2003.000000     105.000000  150000.000000   \n",
       "75%      6400.000000       2008.000000     143.000000  150000.000000   \n",
       "max     20000.000000       9999.000000   20000.000000  150000.000000   \n",
       "\n",
       "       RegistrationMonth  NumberOfPictures     PostalCode  \n",
       "count      354369.000000          354369.0  354369.000000  \n",
       "mean            5.714645               0.0   50508.689087  \n",
       "std             3.726421               0.0   25783.096248  \n",
       "min             0.000000               0.0    1067.000000  \n",
       "25%             3.000000               0.0   30165.000000  \n",
       "50%             6.000000               0.0   49413.000000  \n",
       "75%             9.000000               0.0   71083.000000  \n",
       "max            12.000000               0.0   99998.000000  "
      ]
     },
     "execution_count": 5,
     "metadata": {},
     "output_type": "execute_result"
    }
   ],
   "source": [
    "data.describe()"
   ]
  },
  {
   "cell_type": "code",
   "execution_count": 6,
   "metadata": {},
   "outputs": [
    {
     "data": {
      "image/png": "[encoded data removed]",
      "text/plain": [
       "<Figure size 1440x1440 with 9 Axes>"
      ]
     },
     "metadata": {
      "needs_background": "light"
     },
     "output_type": "display_data"
    }
   ],
   "source": [
    "# Построим общую гистограмму для всех числовых столбцов таблицы\n",
    "data.hist(figsize=(20, 20))\n",
    "plt.show()"
   ]
  },
  {
   "cell_type": "code",
   "execution_count": 7,
   "metadata": {},
   "outputs": [
    {
     "data": {
      "text/plain": [
       "DateCrawled              0\n",
       "Price                    0\n",
       "VehicleType          37490\n",
       "RegistrationYear         0\n",
       "Gearbox              19833\n",
       "Power                    0\n",
       "Model                19705\n",
       "Kilometer                0\n",
       "RegistrationMonth        0\n",
       "FuelType             32895\n",
       "Brand                    0\n",
       "Repaired             71154\n",
       "DateCreated              0\n",
       "NumberOfPictures         0\n",
       "PostalCode               0\n",
       "LastSeen                 0\n",
       "dtype: int64"
      ]
     },
     "execution_count": 7,
     "metadata": {},
     "output_type": "execute_result"
    }
   ],
   "source": [
    "# Выведем количество пропущенных значений\n",
    "data.isnull().sum()"
   ]
  },
  {
   "cell_type": "code",
   "execution_count": 8,
   "metadata": {},
   "outputs": [
    {
     "name": "stdout",
     "output_type": "stream",
     "text": [
      "Доля пропусков в vehicle_type: 10.58%\n",
      "Доля пропусков в gearbox: 5.60%\n",
      "Доля пропусков в model: 5.56%\n",
      "Доля пропусков в fuel_type: 9.28%\n",
      "Доля пропусков в not_repaired: 20.08%\n"
     ]
    }
   ],
   "source": [
    "print('Доля пропусков в vehicle_type: {:.2%}'.format(data['VehicleType'].isna().mean()))\n",
    "print('Доля пропусков в gearbox: {:.2%}'.format(data['Gearbox'].isna().mean()))\n",
    "print('Доля пропусков в model: {:.2%}'.format(data['Model'].isna().mean()))\n",
    "print('Доля пропусков в fuel_type: {:.2%}'.format(data['FuelType'].isna().mean()))\n",
    "print('Доля пропусков в not_repaired: {:.2%}'.format(data['Repaired'].isna().mean()))"
   ]
  },
  {
   "cell_type": "code",
   "execution_count": 9,
   "metadata": {},
   "outputs": [
    {
     "data": {
      "text/plain": [
       "Index(['date_crawled', 'price', 'vehicle_type', 'registration_year', 'gearbox',\n",
       "       'power', 'model', 'kilometer', 'registration_month', 'fuel_type',\n",
       "       'brand', 'repaired', 'date_created', 'number_of_pictures',\n",
       "       'postal_code', 'last_seen'],\n",
       "      dtype='object')"
      ]
     },
     "execution_count": 9,
     "metadata": {},
     "output_type": "execute_result"
    }
   ],
   "source": [
    "# Переименуем столбцы\n",
    "data.columns = [re.sub(r'(?<!^)(?=[A-Z])', '_', i).lower() for i in data.columns]\n",
    "\n",
    "# Проверим результат\n",
    "data.columns"
   ]
  },
  {
   "cell_type": "code",
   "execution_count": 10,
   "metadata": {},
   "outputs": [],
   "source": [
    "# Заполним пропуски значением other\n",
    "data.fuel_type.fillna('other', inplace=True)\n",
    "data.vehicle_type.fillna('other', inplace=True)"
   ]
  },
  {
   "cell_type": "code",
   "execution_count": 11,
   "metadata": {},
   "outputs": [],
   "source": [
    "# Заполним пропуски значением unknown\n",
    "data.gearbox.fillna('unknown', inplace=True)\n",
    "data.model.fillna('unknown', inplace=True)\n",
    "data.repaired.fillna('unknown', inplace=True)"
   ]
  },
  {
   "cell_type": "code",
   "execution_count": 12,
   "metadata": {},
   "outputs": [],
   "source": [
    "# Удалим ненужные столбцы\n",
    "data = data.drop(['date_crawled','date_created', 'number_of_pictures','postal_code', 'last_seen'], axis=1)"
   ]
  },
  {
   "cell_type": "code",
   "execution_count": 13,
   "metadata": {},
   "outputs": [
    {
     "data": {
      "text/plain": [
       "price                 0\n",
       "vehicle_type          0\n",
       "registration_year     0\n",
       "gearbox               0\n",
       "power                 0\n",
       "model                 0\n",
       "kilometer             0\n",
       "registration_month    0\n",
       "fuel_type             0\n",
       "brand                 0\n",
       "repaired              0\n",
       "dtype: int64"
      ]
     },
     "execution_count": 13,
     "metadata": {},
     "output_type": "execute_result"
    }
   ],
   "source": [
    "# Проверим количество пропущенных значений\n",
    "data.isnull().sum()"
   ]
  },
  {
   "cell_type": "code",
   "execution_count": 14,
   "metadata": {},
   "outputs": [
    {
     "data": {
      "text/plain": [
       "array([1993, 2011, 2004, 2001, 2008, 1995, 1980, 2014, 1998, 2005, 1910,\n",
       "       2016, 2007, 2009, 2002, 2018, 1997, 1990, 2017, 1981, 2003, 1994,\n",
       "       1991, 1984, 2006, 1999, 2012, 2010, 2000, 1992, 2013, 1996, 1985,\n",
       "       1989, 2015, 1982, 1976, 1983, 1973, 1111, 1969, 1971, 1987, 1986,\n",
       "       1988, 1970, 1965, 1945, 1925, 1974, 1979, 1955, 1978, 1972, 1968,\n",
       "       1977, 1961, 1960, 1966, 1975, 1963, 1964, 5000, 1954, 1958, 1967,\n",
       "       1959, 9999, 1956, 3200, 1000, 1941, 8888, 1500, 2200, 4100, 1962,\n",
       "       1929, 1957, 1940, 3000, 2066, 1949, 2019, 1937, 1951, 1800, 1953,\n",
       "       1234, 8000, 5300, 9000, 2900, 6000, 5900, 5911, 1933, 1400, 1950,\n",
       "       4000, 1948, 1952, 1200, 8500, 1932, 1255, 3700, 3800, 4800, 1942,\n",
       "       7000, 1935, 1936, 6500, 1923, 2290, 2500, 1930, 1001, 9450, 1944,\n",
       "       1943, 1934, 1938, 1688, 2800, 1253, 1928, 1919, 5555, 5600, 1600,\n",
       "       2222, 1039, 9996, 1300, 8455, 1931, 1915, 4500, 1920, 1602, 7800,\n",
       "       9229, 1947, 1927, 7100, 8200, 1946, 7500, 3500])"
      ]
     },
     "execution_count": 14,
     "metadata": {},
     "output_type": "execute_result"
    }
   ],
   "source": [
    "# Посмотрим на значения в столбце registration_year\n",
    "data['registration_year'].unique()"
   ]
  },
  {
   "cell_type": "code",
   "execution_count": 15,
   "metadata": {},
   "outputs": [
    {
     "data": {
      "text/plain": [
       "array([1993, 2011, 2004, 2001, 2008, 1995, 1980, 2014, 1998, 2005, 1910,\n",
       "       2016, 2007, 2009, 2002, 2018, 1997, 1990, 2017, 1981, 2003, 1994,\n",
       "       1991, 1984, 2006, 1999, 2012, 2010, 2000, 1992, 2013, 1996, 1985,\n",
       "       1989, 2015, 1982, 1976, 1983, 1973, 1969, 1971, 1987, 1986, 1988,\n",
       "       1970, 1965, 1945, 1925, 1974, 1979, 1955, 1978, 1972, 1968, 1977,\n",
       "       1961, 1960, 1966, 1975, 1963, 1964, 1954, 1958, 1967, 1959, 1956,\n",
       "       1941, 1962, 1929, 1957, 1940, 1949, 2019, 1937, 1951, 1953, 1933,\n",
       "       1950, 1948, 1952, 1932, 1942, 1935, 1936, 1923, 1930, 1944, 1943,\n",
       "       1934, 1938, 1928, 1919, 1931, 1915, 1920, 1947, 1927, 1946])"
      ]
     },
     "execution_count": 15,
     "metadata": {},
     "output_type": "execute_result"
    }
   ],
   "source": [
    "# Удалим аномалии\n",
    "data = data.loc[(data['registration_year'] <= 2023) & (data['registration_year'] >= 1900)]\n",
    "\n",
    "# Проверим результат\n",
    "data['registration_year'].unique()"
   ]
  },
  {
   "cell_type": "code",
   "execution_count": 16,
   "metadata": {},
   "outputs": [
    {
     "data": {
      "text/plain": [
       "0       40098\n",
       "75      24020\n",
       "60      15897\n",
       "150     14590\n",
       "101     13298\n",
       "        ...  \n",
       "9013        1\n",
       "4400        1\n",
       "1689        1\n",
       "1433        1\n",
       "6006        1\n",
       "Name: power, Length: 711, dtype: int64"
      ]
     },
     "execution_count": 16,
     "metadata": {},
     "output_type": "execute_result"
    }
   ],
   "source": [
    "# Посмотрим на значения в столбце power\n",
    "data.power.value_counts()"
   ]
  },
  {
   "cell_type": "code",
   "execution_count": 17,
   "metadata": {},
   "outputs": [],
   "source": [
    "# Удалим аномалии\n",
    "data = data.loc[data['power'] <= 700]\n",
    "\n",
    "# Заполним нулевые значения межианой\n",
    "data['power'] = data['power'].replace(0, data['power'].median())"
   ]
  },
  {
   "cell_type": "code",
   "execution_count": 18,
   "metadata": {},
   "outputs": [
    {
     "data": {
      "text/plain": [
       "0        10720\n",
       "500       5655\n",
       "1500      5379\n",
       "1000      4640\n",
       "1200      4589\n",
       "         ...  \n",
       "5240         1\n",
       "13180        1\n",
       "10879        1\n",
       "2683         1\n",
       "8188         1\n",
       "Name: price, Length: 3730, dtype: int64"
      ]
     },
     "execution_count": 18,
     "metadata": {},
     "output_type": "execute_result"
    }
   ],
   "source": [
    "# Посмотрим на значения в столбце price\n",
    "data.price.value_counts()"
   ]
  },
  {
   "cell_type": "code",
   "execution_count": 19,
   "metadata": {},
   "outputs": [
    {
     "data": {
      "text/plain": [
       "500      5655\n",
       "1500     5379\n",
       "1000     4640\n",
       "1200     4589\n",
       "2500     4429\n",
       "         ... \n",
       "7545        1\n",
       "5240        1\n",
       "13180       1\n",
       "10879       1\n",
       "8188        1\n",
       "Name: price, Length: 3729, dtype: int64"
      ]
     },
     "execution_count": 19,
     "metadata": {},
     "output_type": "execute_result"
    }
   ],
   "source": [
    "# Удалим аномалии\n",
    "data = data.loc[data['price'] > 0]\n",
    "\n",
    "# Проверим результат\n",
    "data.price.value_counts()"
   ]
  },
  {
   "cell_type": "code",
   "execution_count": 20,
   "metadata": {},
   "outputs": [
    {
     "data": {
      "text/plain": [
       "26188"
      ]
     },
     "execution_count": 20,
     "metadata": {},
     "output_type": "execute_result"
    }
   ],
   "source": [
    "# Проверим наличие явных дубликатов\n",
    "data.duplicated().sum()"
   ]
  },
  {
   "cell_type": "code",
   "execution_count": 21,
   "metadata": {},
   "outputs": [],
   "source": [
    "# Удалим дубликаты\n",
    "data.drop_duplicates(inplace=True)"
   ]
  },
  {
   "cell_type": "code",
   "execution_count": 22,
   "metadata": {},
   "outputs": [],
   "source": [
    "# Выделим признаки\n",
    "target_ohe = data['price']\n",
    "features_ohe = data.drop('price', axis=1)"
   ]
  },
  {
   "cell_type": "code",
   "execution_count": 23,
   "metadata": {},
   "outputs": [
    {
     "name": "stdout",
     "output_type": "stream",
     "text": [
      "(190168, 10)\n",
      "(63389, 10)\n",
      "(63390, 10)\n"
     ]
    }
   ],
   "source": [
    "# Разделим датафрейм на обучающую, валидационную и тестовую выборку\n",
    "features_train_ohe, features_x, target_train_ohe, target_y = train_test_split(features_ohe, target_ohe, test_size=0.4, random_state=12345)\n",
    "features_valid_ohe, features_test_ohe, target_valid_ohe, target_test_ohe = train_test_split(features_x, target_y, test_size=0.5, random_state=12345)\n",
    "\n",
    "# Проверим соотношение выборок\n",
    "print(features_train_ohe.shape)\n",
    "print(features_valid_ohe.shape)\n",
    "print(features_test_ohe.shape)"
   ]
  },
  {
   "cell_type": "code",
   "execution_count": 24,
   "metadata": {},
   "outputs": [],
   "source": [
    "encoder = OneHotEncoder(handle_unknown='ignore')\n",
    "encoder.fit(features_train_ohe)\n",
    "features_train_ohe = encoder.transform(features_train_ohe)\n",
    "features_valid_ohe = encoder.transform(features_valid_ohe)\n",
    "features_test_ohe = encoder.transform(features_test_ohe)"
   ]
  },
  {
   "cell_type": "code",
   "execution_count": 25,
   "metadata": {},
   "outputs": [],
   "source": [
    "# Выделим признаки\n",
    "target_oe = data['price']\n",
    "features_oe = data.drop('price', axis=1)"
   ]
  },
  {
   "cell_type": "code",
   "execution_count": 26,
   "metadata": {},
   "outputs": [
    {
     "name": "stdout",
     "output_type": "stream",
     "text": [
      "(190168, 10)\n",
      "(63389, 10)\n",
      "(63390, 10)\n"
     ]
    }
   ],
   "source": [
    "# Разделим датафрейм на обучающую, валидационную и тестовую выборку\n",
    "features_train_oe, features_x, target_train_oe, target_y = train_test_split(features_oe, target_oe, test_size=0.4, random_state=12345)\n",
    "features_valid_oe, features_test_oe, target_valid_oe, target_test_oe = train_test_split(features_x, target_y, test_size=0.5, random_state=12345)\n",
    "\n",
    "# Проверим соотношение выборок\n",
    "print(features_train_oe.shape)\n",
    "print(features_valid_oe.shape)\n",
    "print(features_test_oe.shape)"
   ]
  },
  {
   "cell_type": "code",
   "execution_count": 27,
   "metadata": {},
   "outputs": [],
   "source": [
    "encoder = OrdinalEncoder(handle_unknown='ignore')\n",
    "encoder.fit(features_train_oe)\n",
    "features_train_oe = encoder.transform(features_train_oe)\n",
    "features_valid_oe = encoder.transform(features_valid_oe)\n",
    "features_test_oe = encoder.transform(features_test_oe)"
   ]
  },
  {
   "cell_type": "code",
   "execution_count": 28,
   "metadata": {},
   "outputs": [],
   "source": [
    "# Отмасштабируем\n",
    "scaler = StandardScaler()\n",
    "scaler.fit(features_train_oe)\n",
    "features_train_oe = pd.DataFrame(scaler.transform(features_train_oe))\n",
    "features_valid_oe = pd.DataFrame(scaler.transform(features_valid_oe))\n",
    "features_test_oe = pd.DataFrame(scaler.transform(features_test_oe))"
   ]
  },
  {
   "cell_type": "code",
   "execution_count": 29,
   "metadata": {},
   "outputs": [
    {
     "name": "stdout",
     "output_type": "stream",
     "text": [
      "<class 'pandas.core.frame.DataFrame'>\n",
      "Int64Index: 316947 entries, 0 to 354368\n",
      "Data columns (total 11 columns):\n",
      " #   Column              Non-Null Count   Dtype  \n",
      "---  ------              --------------   -----  \n",
      " 0   price               316947 non-null  int64  \n",
      " 1   vehicle_type        316947 non-null  object \n",
      " 2   registration_year   316947 non-null  int64  \n",
      " 3   gearbox             316947 non-null  object \n",
      " 4   power               316947 non-null  float64\n",
      " 5   model               316947 non-null  object \n",
      " 6   kilometer           316947 non-null  int64  \n",
      " 7   registration_month  316947 non-null  int64  \n",
      " 8   fuel_type           316947 non-null  object \n",
      " 9   brand               316947 non-null  object \n",
      " 10  repaired            316947 non-null  object \n",
      "dtypes: float64(1), int64(4), object(6)\n",
      "memory usage: 29.0+ MB\n"
     ]
    }
   ],
   "source": [
    "data.info()"
   ]
  },
  {
   "cell_type": "markdown",
   "metadata": {},
   "source": [
    "***Вывод:***\n",
    "\n",
    "Датасет содержит 316947 записей. Удалены некорректные записи, недостающая информация восстановлена по существующим данным из других параметров. Выделены признаки, датасет разделен на обучающую и тестовую выборки. Произведено кодирование методами OrdinalEncoding и OneHotEncoding."
   ]
  },
  {
   "cell_type": "markdown",
   "metadata": {},
   "source": [
    "## Обучение моделей"
   ]
  },
  {
   "cell_type": "code",
   "execution_count": 30,
   "metadata": {},
   "outputs": [
    {
     "name": "stdout",
     "output_type": "stream",
     "text": [
      "2073.7530890859935\n",
      "CPU times: user 11.9 s, sys: 22.2 s, total: 34.2 s\n",
      "Wall time: 34.2 s\n"
     ]
    }
   ],
   "source": [
    "%%time\n",
    "# Линейная регрессия\n",
    "model = LinearRegression()\n",
    "model.fit(features_train_ohe, target_train_ohe)\n",
    "predictions_valid_ohe = model.predict(features_valid_ohe)\n",
    "rmse_lr = mean_squared_error(target_valid_ohe, predictions_valid_ohe)**0.5\n",
    "print(rmse_lr)"
   ]
  },
  {
   "cell_type": "code",
   "execution_count": 31,
   "metadata": {},
   "outputs": [
    {
     "name": "stdout",
     "output_type": "stream",
     "text": [
      "Глубина: 3\n",
      "RMSE для дерева решений: 2989.629505294177\n",
      "\n",
      "Глубина: 6\n",
      "RMSE для дерева решений: 2363.8832353503817\n",
      "\n",
      "Глубина: 9\n",
      "RMSE для дерева решений: 2121.6857051550287\n",
      "\n",
      "Глубина: 12\n",
      "RMSE для дерева решений: 2043.429183092272\n",
      "\n",
      "Глубина: 15\n",
      "RMSE для дерева решений: 2071.49996751155\n",
      "\n",
      "Глубина: 18\n",
      "RMSE для дерева решений: 2180.437518221491\n",
      "\n",
      "\n",
      "CPU times: user 2.72 s, sys: 101 ms, total: 2.82 s\n",
      "Wall time: 2.84 s\n"
     ]
    }
   ],
   "source": [
    "%%time\n",
    "# Дерево решений\n",
    "for depth in range(3, 20, 3):\n",
    "    model = DecisionTreeRegressor(random_state=12345, max_depth = depth)\n",
    "    model.fit(features_train_oe, target_train_oe)\n",
    "    predictions_valid_oe = model.predict(features_valid_oe)\n",
    "    rmse_dt = mean_squared_error(target_valid_oe, predictions_valid_oe)**0.5\n",
    "    print('Глубина:', depth)\n",
    "    print('RMSE для дерева решений:', rmse_dt)\n",
    "    print('')\n",
    "print()"
   ]
  },
  {
   "cell_type": "code",
   "execution_count": 32,
   "metadata": {},
   "outputs": [
    {
     "name": "stdout",
     "output_type": "stream",
     "text": [
      "Количество деревьев: 100\n",
      "RMSE для случайного леса: 2030.0632456946557\n",
      "\n",
      "Количество деревьев: 500\n",
      "RMSE для случайного леса: 2030.2292778532887\n",
      "\n",
      "Количество деревьев: 1000\n",
      "RMSE для случайного леса: 2030.4722110859195\n",
      "\n",
      "\n",
      "CPU times: user 7min 30s, sys: 1.84 s, total: 7min 32s\n",
      "Wall time: 7min 32s\n"
     ]
    }
   ],
   "source": [
    "%%time\n",
    "# Случайный лес\n",
    "for est in [100, 500, 1000]:\n",
    "    model = RandomForestRegressor(random_state=12345, \n",
    "                                   n_estimators=est, \n",
    "                                   max_depth=9)\n",
    "    model.fit(features_train_oe, target_train_oe)\n",
    "    predictions_valid_oe = model.predict(features_valid_oe)\n",
    "    rmse_rf = mean_squared_error(target_valid_oe, predictions_valid_oe)**0.5\n",
    "    print('Количество деревьев:', est)\n",
    "    print('RMSE для случайного леса:', rmse_rf)\n",
    "    print('')\n",
    "print()"
   ]
  },
  {
   "cell_type": "code",
   "execution_count": 36,
   "metadata": {},
   "outputs": [
    {
     "name": "stdout",
     "output_type": "stream",
     "text": [
      "RMSE для LightGBM: 1791.4587760566008\n",
      "CPU times: user 5min 57s, sys: 2.81 s, total: 6min\n",
      "Wall time: 6min 3s\n"
     ]
    }
   ],
   "source": [
    "%%time\n",
    "# LightGBM\n",
    "model = LGBMRegressor(random_state=12345)\n",
    "model.fit(features_train_oe, target_train_oe)\n",
    "predictions_valid_oe = model.predict(features_valid_oe)\n",
    "rmse_lg = mean_squared_error(target_valid_oe, predictions_valid_oe)**0.5\n",
    "print('RMSE для LightGBM:', rmse_lg)"
   ]
  },
  {
   "cell_type": "markdown",
   "metadata": {},
   "source": [
    "***Вывод:***\n",
    "\n",
    "Обучены модели: линейная регрессия, дерево решений, случайный лес, LightGBM. Сделаны предсказания, рассчитаны значения RMSE."
   ]
  },
  {
   "cell_type": "markdown",
   "metadata": {},
   "source": [
    "## Анализ моделей"
   ]
  },
  {
   "cell_type": "code",
   "execution_count": 37,
   "metadata": {},
   "outputs": [
    {
     "data": {
      "text/html": [
       "<div>\n",
       "<style scoped>\n",
       "    .dataframe tbody tr th:only-of-type {\n",
       "        vertical-align: middle;\n",
       "    }\n",
       "\n",
       "    .dataframe tbody tr th {\n",
       "        vertical-align: top;\n",
       "    }\n",
       "\n",
       "    .dataframe thead th {\n",
       "        text-align: right;\n",
       "    }\n",
       "</style>\n",
       "<table border=\"1\" class=\"dataframe\">\n",
       "  <thead>\n",
       "    <tr style=\"text-align: right;\">\n",
       "      <th></th>\n",
       "      <th>Model</th>\n",
       "      <th>RMSE</th>\n",
       "      <th>Время предсказания, sec</th>\n",
       "    </tr>\n",
       "  </thead>\n",
       "  <tbody>\n",
       "    <tr>\n",
       "      <th>0</th>\n",
       "      <td>LinearRegression</td>\n",
       "      <td>2073</td>\n",
       "      <td>34.2 s</td>\n",
       "    </tr>\n",
       "    <tr>\n",
       "      <th>1</th>\n",
       "      <td>DecisionTreeRegressor</td>\n",
       "      <td>2043</td>\n",
       "      <td>2.84 s</td>\n",
       "    </tr>\n",
       "    <tr>\n",
       "      <th>2</th>\n",
       "      <td>RandomForestRegressor</td>\n",
       "      <td>2030</td>\n",
       "      <td>7min 32s</td>\n",
       "    </tr>\n",
       "    <tr>\n",
       "      <th>3</th>\n",
       "      <td>LGBMRegressor</td>\n",
       "      <td>1791</td>\n",
       "      <td>6min 3s</td>\n",
       "    </tr>\n",
       "  </tbody>\n",
       "</table>\n",
       "</div>"
      ],
      "text/plain": [
       "                   Model  RMSE Время предсказания, sec\n",
       "0       LinearRegression  2073                  34.2 s\n",
       "1  DecisionTreeRegressor  2043                  2.84 s\n",
       "2  RandomForestRegressor  2030                7min 32s\n",
       "3          LGBMRegressor  1791                 6min 3s"
      ]
     },
     "metadata": {},
     "output_type": "display_data"
    }
   ],
   "source": [
    "results = {\n",
    "    'Model' : ['LinearRegression','DecisionTreeRegressor', 'RandomForestRegressor', 'LGBMRegressor'],\n",
    "    'RMSE' :pd.Series([2073, 2043, 2030, 1791]),\n",
    "    'Время предсказания, sec': pd.Series(['34.2 s', '2.84 s', '7min 32s', '6min 3s']),\n",
    "    }\n",
    "\n",
    "display(pd.DataFrame(results))"
   ]
  },
  {
   "cell_type": "code",
   "execution_count": 35,
   "metadata": {},
   "outputs": [
    {
     "name": "stdout",
     "output_type": "stream",
     "text": [
      "RMSE для LightGBM: 1759.4311759800046\n",
      "CPU times: user 6min 12s, sys: 2.81 s, total: 6min 15s\n",
      "Wall time: 6min 18s\n"
     ]
    }
   ],
   "source": [
    "%%time\n",
    "# Проверим LightGBM на тестовой выборке\n",
    "model = LGBMRegressor(random_state=12345)\n",
    "model.fit(features_train_oe, target_train_oe)\n",
    "predictions_test_oe = model.predict(features_test_oe)\n",
    "rmse_lg = mean_squared_error(target_test_oe, predictions_test_oe)**0.5\n",
    "print('RMSE для LightGBM:', rmse_lg)"
   ]
  },
  {
   "cell_type": "markdown",
   "metadata": {},
   "source": [
    "***Вывод:***\n",
    "\n",
    "Датасет содержит 303924 записей. Удалены некорректные записи, недостающая информация восстановлена по существующим данным из других параметров. Выделены признаки, датасет разделен на обучающую и тестовую выборки. Произведено кодирование методами OrdinalEncoding и OneHotEncoding.\n",
    "\n",
    "Обучены модели: линейная регрессия, дерево решений, случайный лес, LightGBM. Сделаны предсказания, рассчитаны значения RMSE.\n",
    "\n",
    "Наилучшая модель - LightGBM:\n",
    " * Время работы - 6min 3s\n",
    " * RMSE - 1791\n",
    "\n",
    "RMSE для LightGBM на тестовой выборке: 1759"
   ]
  }
 ],
 "metadata": {
  "ExecuteTimeLog": [
   {
    "duration": 1637,
    "start_time": "2023-07-05T08:50:28.180Z"
   },
   {
    "duration": 1112,
    "start_time": "2023-07-05T08:50:29.819Z"
   },
   {
    "duration": 17,
    "start_time": "2023-07-05T08:50:30.933Z"
   },
   {
    "duration": 227,
    "start_time": "2023-07-05T08:50:30.952Z"
   },
   {
    "duration": 113,
    "start_time": "2023-07-05T08:50:31.181Z"
   },
   {
    "duration": 1061,
    "start_time": "2023-07-05T08:50:31.296Z"
   },
   {
    "duration": 118,
    "start_time": "2023-07-05T08:56:05.056Z"
   },
   {
    "duration": 44,
    "start_time": "2023-07-06T03:42:10.817Z"
   },
   {
    "duration": 1500,
    "start_time": "2023-07-06T03:42:16.611Z"
   },
   {
    "duration": 1036,
    "start_time": "2023-07-06T03:42:18.113Z"
   },
   {
    "duration": 17,
    "start_time": "2023-07-06T03:42:19.151Z"
   },
   {
    "duration": 138,
    "start_time": "2023-07-06T03:42:19.170Z"
   },
   {
    "duration": 97,
    "start_time": "2023-07-06T03:42:19.310Z"
   },
   {
    "duration": 948,
    "start_time": "2023-07-06T03:42:19.408Z"
   },
   {
    "duration": 124,
    "start_time": "2023-07-06T03:42:20.357Z"
   },
   {
    "duration": 108,
    "start_time": "2023-07-06T03:42:20.483Z"
   },
   {
    "duration": 1742,
    "start_time": "2023-07-06T03:44:37.758Z"
   },
   {
    "duration": 852,
    "start_time": "2023-07-06T03:44:39.502Z"
   },
   {
    "duration": 33,
    "start_time": "2023-07-06T03:44:40.356Z"
   },
   {
    "duration": 132,
    "start_time": "2023-07-06T03:44:40.392Z"
   },
   {
    "duration": 133,
    "start_time": "2023-07-06T03:44:40.526Z"
   },
   {
    "duration": 1052,
    "start_time": "2023-07-06T03:44:40.661Z"
   },
   {
    "duration": 135,
    "start_time": "2023-07-06T03:44:41.715Z"
   },
   {
    "duration": 12,
    "start_time": "2023-07-06T03:44:41.851Z"
   },
   {
    "duration": 457,
    "start_time": "2023-07-06T03:45:52.692Z"
   },
   {
    "duration": 506,
    "start_time": "2023-07-06T03:46:26.507Z"
   },
   {
    "duration": 1267,
    "start_time": "2023-07-06T05:38:16.398Z"
   },
   {
    "duration": 820,
    "start_time": "2023-07-06T05:38:17.667Z"
   },
   {
    "duration": 20,
    "start_time": "2023-07-06T05:38:18.489Z"
   },
   {
    "duration": 147,
    "start_time": "2023-07-06T05:38:18.512Z"
   },
   {
    "duration": 99,
    "start_time": "2023-07-06T05:38:18.660Z"
   },
   {
    "duration": 1018,
    "start_time": "2023-07-06T05:38:18.761Z"
   },
   {
    "duration": 128,
    "start_time": "2023-07-06T05:38:19.783Z"
   },
   {
    "duration": 5,
    "start_time": "2023-07-06T05:38:19.913Z"
   },
   {
    "duration": 442,
    "start_time": "2023-07-06T05:38:19.919Z"
   },
   {
    "duration": 459,
    "start_time": "2023-07-06T05:38:20.363Z"
   },
   {
    "duration": 29,
    "start_time": "2023-07-06T05:38:20.824Z"
   },
   {
    "duration": 36,
    "start_time": "2023-07-06T05:38:20.855Z"
   },
   {
    "duration": 38,
    "start_time": "2023-07-06T05:38:20.892Z"
   },
   {
    "duration": 87,
    "start_time": "2023-07-06T05:38:20.932Z"
   },
   {
    "duration": 86,
    "start_time": "2023-07-06T05:38:21.021Z"
   },
   {
    "duration": 109,
    "start_time": "2023-07-06T05:38:21.108Z"
   },
   {
    "duration": 0,
    "start_time": "2023-07-06T05:38:21.218Z"
   },
   {
    "duration": 0,
    "start_time": "2023-07-06T05:38:21.219Z"
   },
   {
    "duration": 0,
    "start_time": "2023-07-06T05:38:21.221Z"
   },
   {
    "duration": 0,
    "start_time": "2023-07-06T05:38:21.222Z"
   },
   {
    "duration": 1,
    "start_time": "2023-07-06T05:38:21.222Z"
   },
   {
    "duration": 1354,
    "start_time": "2023-07-06T05:39:37.685Z"
   },
   {
    "duration": 791,
    "start_time": "2023-07-06T05:39:39.041Z"
   },
   {
    "duration": 19,
    "start_time": "2023-07-06T05:39:39.833Z"
   },
   {
    "duration": 135,
    "start_time": "2023-07-06T05:39:39.854Z"
   },
   {
    "duration": 139,
    "start_time": "2023-07-06T05:39:39.991Z"
   },
   {
    "duration": 959,
    "start_time": "2023-07-06T05:39:40.131Z"
   },
   {
    "duration": 126,
    "start_time": "2023-07-06T05:39:41.092Z"
   },
   {
    "duration": 5,
    "start_time": "2023-07-06T05:39:41.220Z"
   },
   {
    "duration": 460,
    "start_time": "2023-07-06T05:39:41.226Z"
   },
   {
    "duration": 476,
    "start_time": "2023-07-06T05:39:41.688Z"
   },
   {
    "duration": 33,
    "start_time": "2023-07-06T05:39:42.165Z"
   },
   {
    "duration": 140,
    "start_time": "2023-07-06T05:39:42.199Z"
   },
   {
    "duration": 0,
    "start_time": "2023-07-06T05:39:42.341Z"
   },
   {
    "duration": 0,
    "start_time": "2023-07-06T05:39:42.342Z"
   },
   {
    "duration": 0,
    "start_time": "2023-07-06T05:39:42.343Z"
   },
   {
    "duration": 0,
    "start_time": "2023-07-06T05:39:42.344Z"
   },
   {
    "duration": 0,
    "start_time": "2023-07-06T05:39:42.345Z"
   },
   {
    "duration": 0,
    "start_time": "2023-07-06T05:39:42.346Z"
   },
   {
    "duration": 0,
    "start_time": "2023-07-06T05:39:42.347Z"
   },
   {
    "duration": 0,
    "start_time": "2023-07-06T05:39:42.348Z"
   },
   {
    "duration": 0,
    "start_time": "2023-07-06T05:39:42.349Z"
   },
   {
    "duration": 1548,
    "start_time": "2023-07-06T05:40:06.598Z"
   },
   {
    "duration": 786,
    "start_time": "2023-07-06T05:40:08.148Z"
   },
   {
    "duration": 17,
    "start_time": "2023-07-06T05:40:08.936Z"
   },
   {
    "duration": 148,
    "start_time": "2023-07-06T05:40:08.955Z"
   },
   {
    "duration": 114,
    "start_time": "2023-07-06T05:40:09.105Z"
   },
   {
    "duration": 994,
    "start_time": "2023-07-06T05:40:09.220Z"
   },
   {
    "duration": 120,
    "start_time": "2023-07-06T05:40:10.215Z"
   },
   {
    "duration": 4,
    "start_time": "2023-07-06T05:40:10.336Z"
   },
   {
    "duration": 447,
    "start_time": "2023-07-06T05:40:10.342Z"
   },
   {
    "duration": 443,
    "start_time": "2023-07-06T05:40:10.791Z"
   },
   {
    "duration": 31,
    "start_time": "2023-07-06T05:40:11.235Z"
   },
   {
    "duration": 45,
    "start_time": "2023-07-06T05:40:11.274Z"
   },
   {
    "duration": 32,
    "start_time": "2023-07-06T05:40:11.321Z"
   },
   {
    "duration": 90,
    "start_time": "2023-07-06T05:40:11.356Z"
   },
   {
    "duration": 76,
    "start_time": "2023-07-06T05:40:11.447Z"
   },
   {
    "duration": 112,
    "start_time": "2023-07-06T05:40:11.525Z"
   },
   {
    "duration": 0,
    "start_time": "2023-07-06T05:40:11.639Z"
   },
   {
    "duration": 0,
    "start_time": "2023-07-06T05:40:11.640Z"
   },
   {
    "duration": 0,
    "start_time": "2023-07-06T05:40:11.642Z"
   },
   {
    "duration": 0,
    "start_time": "2023-07-06T05:40:11.643Z"
   },
   {
    "duration": 0,
    "start_time": "2023-07-06T05:40:11.645Z"
   },
   {
    "duration": 1289,
    "start_time": "2023-07-06T05:42:49.293Z"
   },
   {
    "duration": 803,
    "start_time": "2023-07-06T05:42:50.584Z"
   },
   {
    "duration": 18,
    "start_time": "2023-07-06T05:42:51.389Z"
   },
   {
    "duration": 142,
    "start_time": "2023-07-06T05:42:51.409Z"
   },
   {
    "duration": 107,
    "start_time": "2023-07-06T05:42:51.553Z"
   },
   {
    "duration": 982,
    "start_time": "2023-07-06T05:42:51.662Z"
   },
   {
    "duration": 134,
    "start_time": "2023-07-06T05:42:52.645Z"
   },
   {
    "duration": 1657,
    "start_time": "2023-07-06T05:42:52.781Z"
   },
   {
    "duration": 0,
    "start_time": "2023-07-06T05:42:54.441Z"
   },
   {
    "duration": 0,
    "start_time": "2023-07-06T05:42:54.442Z"
   },
   {
    "duration": 0,
    "start_time": "2023-07-06T05:42:54.443Z"
   },
   {
    "duration": 0,
    "start_time": "2023-07-06T05:42:54.444Z"
   },
   {
    "duration": 0,
    "start_time": "2023-07-06T05:42:54.446Z"
   },
   {
    "duration": 0,
    "start_time": "2023-07-06T05:42:54.447Z"
   },
   {
    "duration": 0,
    "start_time": "2023-07-06T05:42:54.448Z"
   },
   {
    "duration": 0,
    "start_time": "2023-07-06T05:42:54.450Z"
   },
   {
    "duration": 0,
    "start_time": "2023-07-06T05:42:54.452Z"
   },
   {
    "duration": 0,
    "start_time": "2023-07-06T05:42:54.453Z"
   },
   {
    "duration": 0,
    "start_time": "2023-07-06T05:42:54.454Z"
   },
   {
    "duration": 0,
    "start_time": "2023-07-06T05:42:54.455Z"
   },
   {
    "duration": 0,
    "start_time": "2023-07-06T05:42:54.457Z"
   },
   {
    "duration": 0,
    "start_time": "2023-07-06T05:42:54.458Z"
   },
   {
    "duration": 1363,
    "start_time": "2023-07-06T05:43:11.598Z"
   },
   {
    "duration": 793,
    "start_time": "2023-07-06T05:43:12.963Z"
   },
   {
    "duration": 20,
    "start_time": "2023-07-06T05:43:13.757Z"
   },
   {
    "duration": 157,
    "start_time": "2023-07-06T05:43:13.779Z"
   },
   {
    "duration": 96,
    "start_time": "2023-07-06T05:43:13.938Z"
   },
   {
    "duration": 1010,
    "start_time": "2023-07-06T05:43:14.035Z"
   },
   {
    "duration": 129,
    "start_time": "2023-07-06T05:43:15.046Z"
   },
   {
    "duration": 1825,
    "start_time": "2023-07-06T05:43:15.177Z"
   },
   {
    "duration": 1,
    "start_time": "2023-07-06T05:43:17.003Z"
   },
   {
    "duration": 0,
    "start_time": "2023-07-06T05:43:17.005Z"
   },
   {
    "duration": 0,
    "start_time": "2023-07-06T05:43:17.006Z"
   },
   {
    "duration": 0,
    "start_time": "2023-07-06T05:43:17.007Z"
   },
   {
    "duration": 0,
    "start_time": "2023-07-06T05:43:17.008Z"
   },
   {
    "duration": 0,
    "start_time": "2023-07-06T05:43:17.009Z"
   },
   {
    "duration": 0,
    "start_time": "2023-07-06T05:43:17.010Z"
   },
   {
    "duration": 0,
    "start_time": "2023-07-06T05:43:17.011Z"
   },
   {
    "duration": 0,
    "start_time": "2023-07-06T05:43:17.013Z"
   },
   {
    "duration": 0,
    "start_time": "2023-07-06T05:43:17.014Z"
   },
   {
    "duration": 0,
    "start_time": "2023-07-06T05:43:17.015Z"
   },
   {
    "duration": 0,
    "start_time": "2023-07-06T05:43:17.016Z"
   },
   {
    "duration": 0,
    "start_time": "2023-07-06T05:43:17.017Z"
   },
   {
    "duration": 0,
    "start_time": "2023-07-06T05:43:17.018Z"
   },
   {
    "duration": 1380,
    "start_time": "2023-07-06T05:44:49.190Z"
   },
   {
    "duration": 845,
    "start_time": "2023-07-06T05:44:50.573Z"
   },
   {
    "duration": 16,
    "start_time": "2023-07-06T05:44:51.420Z"
   },
   {
    "duration": 144,
    "start_time": "2023-07-06T05:44:51.438Z"
   },
   {
    "duration": 112,
    "start_time": "2023-07-06T05:44:51.585Z"
   },
   {
    "duration": 1020,
    "start_time": "2023-07-06T05:44:51.699Z"
   },
   {
    "duration": 143,
    "start_time": "2023-07-06T05:44:52.721Z"
   },
   {
    "duration": 78,
    "start_time": "2023-07-06T05:44:52.866Z"
   },
   {
    "duration": 5,
    "start_time": "2023-07-06T05:44:52.946Z"
   },
   {
    "duration": 455,
    "start_time": "2023-07-06T05:44:52.953Z"
   },
   {
    "duration": 461,
    "start_time": "2023-07-06T05:44:53.410Z"
   },
   {
    "duration": 41,
    "start_time": "2023-07-06T05:44:53.872Z"
   },
   {
    "duration": 60,
    "start_time": "2023-07-06T05:44:53.915Z"
   },
   {
    "duration": 33,
    "start_time": "2023-07-06T05:44:53.978Z"
   },
   {
    "duration": 89,
    "start_time": "2023-07-06T05:44:54.013Z"
   },
   {
    "duration": 83,
    "start_time": "2023-07-06T05:44:54.103Z"
   },
   {
    "duration": 106,
    "start_time": "2023-07-06T05:44:54.188Z"
   },
   {
    "duration": 0,
    "start_time": "2023-07-06T05:44:54.296Z"
   },
   {
    "duration": 0,
    "start_time": "2023-07-06T05:44:54.297Z"
   },
   {
    "duration": 0,
    "start_time": "2023-07-06T05:44:54.298Z"
   },
   {
    "duration": 0,
    "start_time": "2023-07-06T05:44:54.299Z"
   },
   {
    "duration": 0,
    "start_time": "2023-07-06T05:44:54.300Z"
   },
   {
    "duration": 7,
    "start_time": "2023-07-06T05:50:24.487Z"
   },
   {
    "duration": 20,
    "start_time": "2023-07-06T05:51:28.332Z"
   },
   {
    "duration": 24,
    "start_time": "2023-07-06T05:52:00.753Z"
   },
   {
    "duration": 7,
    "start_time": "2023-07-06T05:56:13.498Z"
   },
   {
    "duration": 1559,
    "start_time": "2023-07-06T06:01:06.041Z"
   },
   {
    "duration": 797,
    "start_time": "2023-07-06T06:01:07.601Z"
   },
   {
    "duration": 17,
    "start_time": "2023-07-06T06:01:08.400Z"
   },
   {
    "duration": 143,
    "start_time": "2023-07-06T06:01:08.419Z"
   },
   {
    "duration": 99,
    "start_time": "2023-07-06T06:01:08.564Z"
   },
   {
    "duration": 985,
    "start_time": "2023-07-06T06:01:08.665Z"
   },
   {
    "duration": 125,
    "start_time": "2023-07-06T06:01:09.651Z"
   },
   {
    "duration": 66,
    "start_time": "2023-07-06T06:01:09.777Z"
   },
   {
    "duration": 7,
    "start_time": "2023-07-06T06:01:09.845Z"
   },
   {
    "duration": 454,
    "start_time": "2023-07-06T06:01:09.853Z"
   },
   {
    "duration": 449,
    "start_time": "2023-07-06T06:01:10.309Z"
   },
   {
    "duration": 45,
    "start_time": "2023-07-06T06:01:10.760Z"
   },
   {
    "duration": 44,
    "start_time": "2023-07-06T06:01:10.806Z"
   },
   {
    "duration": 44,
    "start_time": "2023-07-06T06:01:10.852Z"
   },
   {
    "duration": 82,
    "start_time": "2023-07-06T06:01:10.898Z"
   },
   {
    "duration": 5,
    "start_time": "2023-07-06T06:01:10.983Z"
   },
   {
    "duration": 42,
    "start_time": "2023-07-06T06:01:10.990Z"
   },
   {
    "duration": 7,
    "start_time": "2023-07-06T06:01:11.034Z"
   },
   {
    "duration": 65,
    "start_time": "2023-07-06T06:01:11.043Z"
   },
   {
    "duration": 110,
    "start_time": "2023-07-06T06:01:11.109Z"
   },
   {
    "duration": 0,
    "start_time": "2023-07-06T06:01:11.220Z"
   },
   {
    "duration": 0,
    "start_time": "2023-07-06T06:01:11.222Z"
   },
   {
    "duration": 0,
    "start_time": "2023-07-06T06:01:11.223Z"
   },
   {
    "duration": 33,
    "start_time": "2023-07-06T06:04:03.229Z"
   },
   {
    "duration": 84,
    "start_time": "2023-07-06T06:04:11.443Z"
   },
   {
    "duration": 8,
    "start_time": "2023-07-06T06:06:18.418Z"
   },
   {
    "duration": 24,
    "start_time": "2023-07-06T06:07:29.229Z"
   },
   {
    "duration": 27,
    "start_time": "2023-07-06T06:08:32.609Z"
   },
   {
    "duration": 9,
    "start_time": "2023-07-06T06:09:23.574Z"
   },
   {
    "duration": 152,
    "start_time": "2023-07-06T06:09:31.032Z"
   },
   {
    "duration": 724,
    "start_time": "2023-07-06T06:11:55.390Z"
   },
   {
    "duration": 1587,
    "start_time": "2023-07-06T06:13:47.463Z"
   },
   {
    "duration": 792,
    "start_time": "2023-07-06T06:13:49.052Z"
   },
   {
    "duration": 16,
    "start_time": "2023-07-06T06:13:49.846Z"
   },
   {
    "duration": 134,
    "start_time": "2023-07-06T06:13:49.863Z"
   },
   {
    "duration": 137,
    "start_time": "2023-07-06T06:13:49.999Z"
   },
   {
    "duration": 1000,
    "start_time": "2023-07-06T06:13:50.138Z"
   },
   {
    "duration": 136,
    "start_time": "2023-07-06T06:13:51.140Z"
   },
   {
    "duration": 67,
    "start_time": "2023-07-06T06:13:51.278Z"
   },
   {
    "duration": 5,
    "start_time": "2023-07-06T06:13:51.346Z"
   },
   {
    "duration": 483,
    "start_time": "2023-07-06T06:13:51.353Z"
   },
   {
    "duration": 475,
    "start_time": "2023-07-06T06:13:51.838Z"
   },
   {
    "duration": 31,
    "start_time": "2023-07-06T06:13:52.315Z"
   },
   {
    "duration": 53,
    "start_time": "2023-07-06T06:13:52.347Z"
   },
   {
    "duration": 35,
    "start_time": "2023-07-06T06:13:52.403Z"
   },
   {
    "duration": 108,
    "start_time": "2023-07-06T06:13:52.440Z"
   },
   {
    "duration": 13,
    "start_time": "2023-07-06T06:13:52.550Z"
   },
   {
    "duration": 42,
    "start_time": "2023-07-06T06:13:52.564Z"
   },
   {
    "duration": 9,
    "start_time": "2023-07-06T06:13:52.608Z"
   },
   {
    "duration": 110,
    "start_time": "2023-07-06T06:13:52.619Z"
   },
   {
    "duration": 8,
    "start_time": "2023-07-06T06:13:52.731Z"
   },
   {
    "duration": 40,
    "start_time": "2023-07-06T06:13:52.740Z"
   },
   {
    "duration": 756,
    "start_time": "2023-07-06T06:13:52.781Z"
   },
   {
    "duration": 209,
    "start_time": "2023-07-06T06:13:53.538Z"
   },
   {
    "duration": 321,
    "start_time": "2023-07-06T06:13:53.749Z"
   },
   {
    "duration": 2135,
    "start_time": "2023-07-06T09:24:04.766Z"
   },
   {
    "duration": 1285,
    "start_time": "2023-07-06T09:24:06.903Z"
   },
   {
    "duration": 17,
    "start_time": "2023-07-06T09:24:08.190Z"
   },
   {
    "duration": 169,
    "start_time": "2023-07-06T09:24:08.209Z"
   },
   {
    "duration": 104,
    "start_time": "2023-07-06T09:24:08.380Z"
   },
   {
    "duration": 1093,
    "start_time": "2023-07-06T09:24:08.485Z"
   },
   {
    "duration": 163,
    "start_time": "2023-07-06T09:24:09.580Z"
   },
   {
    "duration": 117,
    "start_time": "2023-07-06T09:24:09.744Z"
   },
   {
    "duration": 5,
    "start_time": "2023-07-06T09:24:09.864Z"
   },
   {
    "duration": 487,
    "start_time": "2023-07-06T09:24:09.871Z"
   },
   {
    "duration": 512,
    "start_time": "2023-07-06T09:24:10.360Z"
   },
   {
    "duration": 30,
    "start_time": "2023-07-06T09:24:10.874Z"
   },
   {
    "duration": 68,
    "start_time": "2023-07-06T09:24:10.905Z"
   },
   {
    "duration": 35,
    "start_time": "2023-07-06T09:24:10.975Z"
   },
   {
    "duration": 125,
    "start_time": "2023-07-06T09:24:11.012Z"
   },
   {
    "duration": 19,
    "start_time": "2023-07-06T09:24:11.143Z"
   },
   {
    "duration": 35,
    "start_time": "2023-07-06T09:24:11.165Z"
   },
   {
    "duration": 8,
    "start_time": "2023-07-06T09:24:11.201Z"
   },
   {
    "duration": 102,
    "start_time": "2023-07-06T09:24:11.211Z"
   },
   {
    "duration": 8,
    "start_time": "2023-07-06T09:24:11.314Z"
   },
   {
    "duration": 38,
    "start_time": "2023-07-06T09:24:11.323Z"
   },
   {
    "duration": 743,
    "start_time": "2023-07-06T09:24:11.362Z"
   },
   {
    "duration": 215,
    "start_time": "2023-07-06T09:24:12.107Z"
   },
   {
    "duration": 339,
    "start_time": "2023-07-06T09:24:12.324Z"
   },
   {
    "duration": 134,
    "start_time": "2023-07-06T09:24:12.664Z"
   },
   {
    "duration": 110,
    "start_time": "2023-07-06T09:24:15.217Z"
   },
   {
    "duration": 1810,
    "start_time": "2023-07-06T10:35:01.616Z"
   },
   {
    "duration": 994,
    "start_time": "2023-07-06T10:35:03.429Z"
   },
   {
    "duration": 27,
    "start_time": "2023-07-06T10:35:04.424Z"
   },
   {
    "duration": 190,
    "start_time": "2023-07-06T10:35:04.453Z"
   },
   {
    "duration": 154,
    "start_time": "2023-07-06T10:35:04.646Z"
   },
   {
    "duration": 1230,
    "start_time": "2023-07-06T10:35:04.802Z"
   },
   {
    "duration": 170,
    "start_time": "2023-07-06T10:35:06.039Z"
   },
   {
    "duration": 121,
    "start_time": "2023-07-06T10:35:06.211Z"
   },
   {
    "duration": 9,
    "start_time": "2023-07-06T10:35:06.337Z"
   },
   {
    "duration": 606,
    "start_time": "2023-07-06T10:35:06.350Z"
   },
   {
    "duration": 591,
    "start_time": "2023-07-06T10:35:06.960Z"
   },
   {
    "duration": 40,
    "start_time": "2023-07-06T10:35:07.553Z"
   },
   {
    "duration": 67,
    "start_time": "2023-07-06T10:35:07.595Z"
   },
   {
    "duration": 52,
    "start_time": "2023-07-06T10:35:07.665Z"
   },
   {
    "duration": 101,
    "start_time": "2023-07-06T10:35:07.719Z"
   },
   {
    "duration": 46,
    "start_time": "2023-07-06T10:35:07.822Z"
   },
   {
    "duration": 44,
    "start_time": "2023-07-06T10:35:07.870Z"
   },
   {
    "duration": 14,
    "start_time": "2023-07-06T10:35:07.916Z"
   },
   {
    "duration": 168,
    "start_time": "2023-07-06T10:35:07.932Z"
   },
   {
    "duration": 12,
    "start_time": "2023-07-06T10:35:08.102Z"
   },
   {
    "duration": 53,
    "start_time": "2023-07-06T10:35:08.116Z"
   },
   {
    "duration": 1014,
    "start_time": "2023-07-06T10:35:08.171Z"
   },
   {
    "duration": 222,
    "start_time": "2023-07-06T10:35:09.186Z"
   },
   {
    "duration": 346,
    "start_time": "2023-07-06T10:35:09.410Z"
   },
   {
    "duration": 95,
    "start_time": "2023-07-06T10:35:09.758Z"
   },
   {
    "duration": 252,
    "start_time": "2023-07-06T10:35:09.855Z"
   },
   {
    "duration": 161,
    "start_time": "2023-07-06T10:35:10.108Z"
   },
   {
    "duration": 136,
    "start_time": "2023-07-06T10:35:10.271Z"
   },
   {
    "duration": 255,
    "start_time": "2023-07-06T10:36:34.345Z"
   },
   {
    "duration": 1266,
    "start_time": "2023-07-06T10:48:08.884Z"
   },
   {
    "duration": 829,
    "start_time": "2023-07-06T10:48:10.152Z"
   },
   {
    "duration": 17,
    "start_time": "2023-07-06T10:48:10.983Z"
   },
   {
    "duration": 176,
    "start_time": "2023-07-06T10:48:11.001Z"
   },
   {
    "duration": 99,
    "start_time": "2023-07-06T10:48:11.179Z"
   },
   {
    "duration": 1035,
    "start_time": "2023-07-06T10:48:11.279Z"
   },
   {
    "duration": 154,
    "start_time": "2023-07-06T10:48:12.316Z"
   },
   {
    "duration": 103,
    "start_time": "2023-07-06T10:48:12.472Z"
   },
   {
    "duration": 5,
    "start_time": "2023-07-06T10:48:12.576Z"
   },
   {
    "duration": 540,
    "start_time": "2023-07-06T10:48:12.582Z"
   },
   {
    "duration": 496,
    "start_time": "2023-07-06T10:48:13.123Z"
   },
   {
    "duration": 55,
    "start_time": "2023-07-06T10:48:13.621Z"
   },
   {
    "duration": 44,
    "start_time": "2023-07-06T10:48:13.678Z"
   },
   {
    "duration": 47,
    "start_time": "2023-07-06T10:48:13.725Z"
   },
   {
    "duration": 100,
    "start_time": "2023-07-06T10:48:13.773Z"
   },
   {
    "duration": 9,
    "start_time": "2023-07-06T10:48:13.874Z"
   },
   {
    "duration": 33,
    "start_time": "2023-07-06T10:48:13.885Z"
   },
   {
    "duration": 10,
    "start_time": "2023-07-06T10:48:13.937Z"
   },
   {
    "duration": 112,
    "start_time": "2023-07-06T10:48:13.953Z"
   },
   {
    "duration": 8,
    "start_time": "2023-07-06T10:48:14.067Z"
   },
   {
    "duration": 29,
    "start_time": "2023-07-06T10:48:14.076Z"
   },
   {
    "duration": 756,
    "start_time": "2023-07-06T10:48:14.106Z"
   },
   {
    "duration": 215,
    "start_time": "2023-07-06T10:48:14.866Z"
   },
   {
    "duration": 332,
    "start_time": "2023-07-06T10:48:15.083Z"
   },
   {
    "duration": 139,
    "start_time": "2023-07-06T10:48:15.416Z"
   },
   {
    "duration": 0,
    "start_time": "2023-07-06T10:48:15.557Z"
   },
   {
    "duration": 0,
    "start_time": "2023-07-06T10:48:15.561Z"
   },
   {
    "duration": 0,
    "start_time": "2023-07-06T10:48:15.561Z"
   },
   {
    "duration": 0,
    "start_time": "2023-07-06T10:48:15.563Z"
   },
   {
    "duration": 0,
    "start_time": "2023-07-06T10:48:15.564Z"
   },
   {
    "duration": 0,
    "start_time": "2023-07-06T10:48:15.565Z"
   },
   {
    "duration": 1982,
    "start_time": "2023-07-06T10:56:24.368Z"
   },
   {
    "duration": 857,
    "start_time": "2023-07-06T10:56:26.353Z"
   },
   {
    "duration": 38,
    "start_time": "2023-07-06T10:56:27.212Z"
   },
   {
    "duration": 139,
    "start_time": "2023-07-06T10:56:27.252Z"
   },
   {
    "duration": 96,
    "start_time": "2023-07-06T10:56:27.393Z"
   },
   {
    "duration": 1086,
    "start_time": "2023-07-06T10:56:27.491Z"
   },
   {
    "duration": 137,
    "start_time": "2023-07-06T10:56:28.579Z"
   },
   {
    "duration": 90,
    "start_time": "2023-07-06T10:56:28.718Z"
   },
   {
    "duration": 5,
    "start_time": "2023-07-06T10:56:28.810Z"
   },
   {
    "duration": 484,
    "start_time": "2023-07-06T10:56:28.836Z"
   },
   {
    "duration": 484,
    "start_time": "2023-07-06T10:56:29.322Z"
   },
   {
    "duration": 50,
    "start_time": "2023-07-06T10:56:29.808Z"
   },
   {
    "duration": 43,
    "start_time": "2023-07-06T10:56:29.860Z"
   },
   {
    "duration": 64,
    "start_time": "2023-07-06T10:56:29.906Z"
   },
   {
    "duration": 97,
    "start_time": "2023-07-06T10:56:29.972Z"
   },
   {
    "duration": 46,
    "start_time": "2023-07-06T10:56:30.071Z"
   },
   {
    "duration": 69,
    "start_time": "2023-07-06T10:56:30.119Z"
   },
   {
    "duration": 8,
    "start_time": "2023-07-06T10:56:30.190Z"
   },
   {
    "duration": 148,
    "start_time": "2023-07-06T10:56:30.200Z"
   },
   {
    "duration": 9,
    "start_time": "2023-07-06T10:56:30.352Z"
   },
   {
    "duration": 71,
    "start_time": "2023-07-06T10:56:30.363Z"
   },
   {
    "duration": 861,
    "start_time": "2023-07-06T10:56:30.436Z"
   },
   {
    "duration": 221,
    "start_time": "2023-07-06T10:56:31.299Z"
   },
   {
    "duration": 358,
    "start_time": "2023-07-06T10:56:31.522Z"
   },
   {
    "duration": 1680,
    "start_time": "2023-07-06T10:56:31.882Z"
   },
   {
    "duration": 27,
    "start_time": "2023-07-06T10:56:33.565Z"
   },
   {
    "duration": 87,
    "start_time": "2023-07-06T10:56:33.594Z"
   },
   {
    "duration": 29,
    "start_time": "2023-07-06T10:56:33.683Z"
   },
   {
    "duration": 52634,
    "start_time": "2023-07-06T10:56:33.713Z"
   },
   {
    "duration": 407,
    "start_time": "2023-07-06T10:57:26.353Z"
   },
   {
    "duration": 307,
    "start_time": "2023-07-06T10:57:26.762Z"
   },
   {
    "duration": 1440,
    "start_time": "2023-07-06T10:58:41.239Z"
   },
   {
    "duration": 904,
    "start_time": "2023-07-06T10:58:42.681Z"
   },
   {
    "duration": 23,
    "start_time": "2023-07-06T10:58:43.587Z"
   },
   {
    "duration": 236,
    "start_time": "2023-07-06T10:58:43.612Z"
   },
   {
    "duration": 116,
    "start_time": "2023-07-06T10:58:43.849Z"
   },
   {
    "duration": 1141,
    "start_time": "2023-07-06T10:58:43.966Z"
   },
   {
    "duration": 231,
    "start_time": "2023-07-06T10:58:45.109Z"
   },
   {
    "duration": 137,
    "start_time": "2023-07-06T10:58:45.342Z"
   },
   {
    "duration": 7,
    "start_time": "2023-07-06T10:58:45.481Z"
   },
   {
    "duration": 572,
    "start_time": "2023-07-06T10:58:45.491Z"
   },
   {
    "duration": 490,
    "start_time": "2023-07-06T10:58:46.065Z"
   },
   {
    "duration": 30,
    "start_time": "2023-07-06T10:58:46.557Z"
   },
   {
    "duration": 70,
    "start_time": "2023-07-06T10:58:46.588Z"
   },
   {
    "duration": 35,
    "start_time": "2023-07-06T10:58:46.660Z"
   },
   {
    "duration": 102,
    "start_time": "2023-07-06T10:58:46.697Z"
   },
   {
    "duration": 96,
    "start_time": "2023-07-06T10:58:46.801Z"
   },
   {
    "duration": 53,
    "start_time": "2023-07-06T10:58:46.899Z"
   },
   {
    "duration": 8,
    "start_time": "2023-07-06T10:58:46.954Z"
   },
   {
    "duration": 114,
    "start_time": "2023-07-06T10:58:46.963Z"
   },
   {
    "duration": 9,
    "start_time": "2023-07-06T10:58:47.078Z"
   },
   {
    "duration": 56,
    "start_time": "2023-07-06T10:58:47.089Z"
   },
   {
    "duration": 809,
    "start_time": "2023-07-06T10:58:47.147Z"
   },
   {
    "duration": 213,
    "start_time": "2023-07-06T10:58:47.957Z"
   },
   {
    "duration": 323,
    "start_time": "2023-07-06T10:58:48.171Z"
   },
   {
    "duration": 1628,
    "start_time": "2023-07-06T10:58:48.497Z"
   },
   {
    "duration": 29,
    "start_time": "2023-07-06T10:58:50.127Z"
   },
   {
    "duration": 109,
    "start_time": "2023-07-06T10:58:50.157Z"
   },
   {
    "duration": 26,
    "start_time": "2023-07-06T10:58:50.269Z"
   },
   {
    "duration": 66659,
    "start_time": "2023-07-06T10:58:50.297Z"
   },
   {
    "duration": 831,
    "start_time": "2023-07-06T10:59:56.960Z"
   },
   {
    "duration": 378,
    "start_time": "2023-07-06T10:59:57.793Z"
   },
   {
    "duration": 1622,
    "start_time": "2023-07-06T11:07:13.504Z"
   },
   {
    "duration": 957,
    "start_time": "2023-07-06T11:07:15.128Z"
   },
   {
    "duration": 24,
    "start_time": "2023-07-06T11:07:16.088Z"
   },
   {
    "duration": 200,
    "start_time": "2023-07-06T11:07:16.114Z"
   },
   {
    "duration": 105,
    "start_time": "2023-07-06T11:07:16.316Z"
   },
   {
    "duration": 1201,
    "start_time": "2023-07-06T11:07:16.423Z"
   },
   {
    "duration": 190,
    "start_time": "2023-07-06T11:07:17.631Z"
   },
   {
    "duration": 102,
    "start_time": "2023-07-06T11:07:17.823Z"
   },
   {
    "duration": 16,
    "start_time": "2023-07-06T11:07:17.926Z"
   },
   {
    "duration": 588,
    "start_time": "2023-07-06T11:07:17.945Z"
   },
   {
    "duration": 555,
    "start_time": "2023-07-06T11:07:18.534Z"
   },
   {
    "duration": 45,
    "start_time": "2023-07-06T11:07:19.090Z"
   },
   {
    "duration": 63,
    "start_time": "2023-07-06T11:07:19.137Z"
   },
   {
    "duration": 51,
    "start_time": "2023-07-06T11:07:19.203Z"
   },
   {
    "duration": 104,
    "start_time": "2023-07-06T11:07:19.256Z"
   },
   {
    "duration": 18,
    "start_time": "2023-07-06T11:07:19.361Z"
   },
   {
    "duration": 120,
    "start_time": "2023-07-06T11:07:19.381Z"
   },
   {
    "duration": 8,
    "start_time": "2023-07-06T11:07:19.503Z"
   },
   {
    "duration": 118,
    "start_time": "2023-07-06T11:07:19.513Z"
   },
   {
    "duration": 17,
    "start_time": "2023-07-06T11:07:19.633Z"
   },
   {
    "duration": 52,
    "start_time": "2023-07-06T11:07:19.652Z"
   },
   {
    "duration": 954,
    "start_time": "2023-07-06T11:07:19.706Z"
   },
   {
    "duration": 227,
    "start_time": "2023-07-06T11:07:20.662Z"
   },
   {
    "duration": 387,
    "start_time": "2023-07-06T11:07:20.891Z"
   },
   {
    "duration": 1822,
    "start_time": "2023-07-06T11:07:21.281Z"
   },
   {
    "duration": 45,
    "start_time": "2023-07-06T11:07:23.105Z"
   },
   {
    "duration": 61,
    "start_time": "2023-07-06T11:07:23.159Z"
   },
   {
    "duration": 3,
    "start_time": "2023-07-06T11:07:23.222Z"
   },
   {
    "duration": 157,
    "start_time": "2023-07-06T11:07:23.227Z"
   },
   {
    "duration": 0,
    "start_time": "2023-07-06T11:07:23.386Z"
   },
   {
    "duration": 0,
    "start_time": "2023-07-06T11:07:23.388Z"
   },
   {
    "duration": 0,
    "start_time": "2023-07-06T11:07:23.389Z"
   },
   {
    "duration": 0,
    "start_time": "2023-07-06T11:07:23.390Z"
   },
   {
    "duration": 0,
    "start_time": "2023-07-06T11:07:23.391Z"
   },
   {
    "duration": 1452,
    "start_time": "2023-07-06T11:10:33.182Z"
   },
   {
    "duration": 1012,
    "start_time": "2023-07-06T11:10:34.640Z"
   },
   {
    "duration": 32,
    "start_time": "2023-07-06T11:10:35.658Z"
   },
   {
    "duration": 157,
    "start_time": "2023-07-06T11:10:35.692Z"
   },
   {
    "duration": 159,
    "start_time": "2023-07-06T11:10:35.851Z"
   },
   {
    "duration": 1145,
    "start_time": "2023-07-06T11:10:36.012Z"
   },
   {
    "duration": 161,
    "start_time": "2023-07-06T11:10:37.160Z"
   },
   {
    "duration": 121,
    "start_time": "2023-07-06T11:10:37.323Z"
   },
   {
    "duration": 19,
    "start_time": "2023-07-06T11:10:37.452Z"
   },
   {
    "duration": 632,
    "start_time": "2023-07-06T11:10:37.473Z"
   },
   {
    "duration": 640,
    "start_time": "2023-07-06T11:10:38.107Z"
   },
   {
    "duration": 47,
    "start_time": "2023-07-06T11:10:38.748Z"
   },
   {
    "duration": 71,
    "start_time": "2023-07-06T11:10:38.797Z"
   },
   {
    "duration": 50,
    "start_time": "2023-07-06T11:10:38.871Z"
   },
   {
    "duration": 148,
    "start_time": "2023-07-06T11:10:38.924Z"
   },
   {
    "duration": 32,
    "start_time": "2023-07-06T11:10:39.073Z"
   },
   {
    "duration": 167,
    "start_time": "2023-07-06T11:10:39.108Z"
   },
   {
    "duration": 13,
    "start_time": "2023-07-06T11:10:39.277Z"
   },
   {
    "duration": 127,
    "start_time": "2023-07-06T11:10:39.291Z"
   },
   {
    "duration": 24,
    "start_time": "2023-07-06T11:10:39.420Z"
   },
   {
    "duration": 38,
    "start_time": "2023-07-06T11:10:39.453Z"
   },
   {
    "duration": 860,
    "start_time": "2023-07-06T11:10:39.493Z"
   },
   {
    "duration": 210,
    "start_time": "2023-07-06T11:10:40.359Z"
   },
   {
    "duration": 352,
    "start_time": "2023-07-06T11:10:40.573Z"
   },
   {
    "duration": 1745,
    "start_time": "2023-07-06T11:10:40.937Z"
   },
   {
    "duration": 23,
    "start_time": "2023-07-06T11:10:42.684Z"
   },
   {
    "duration": 82,
    "start_time": "2023-07-06T11:10:42.709Z"
   },
   {
    "duration": 4,
    "start_time": "2023-07-06T11:10:42.793Z"
   },
   {
    "duration": 1805,
    "start_time": "2023-07-06T11:11:09.682Z"
   },
   {
    "duration": 1592,
    "start_time": "2023-07-06T11:11:11.489Z"
   },
   {
    "duration": 28,
    "start_time": "2023-07-06T11:11:13.084Z"
   },
   {
    "duration": 230,
    "start_time": "2023-07-06T11:11:13.115Z"
   },
   {
    "duration": 143,
    "start_time": "2023-07-06T11:11:13.356Z"
   },
   {
    "duration": 1354,
    "start_time": "2023-07-06T11:11:13.502Z"
   },
   {
    "duration": 232,
    "start_time": "2023-07-06T11:11:14.858Z"
   },
   {
    "duration": 151,
    "start_time": "2023-07-06T11:11:15.092Z"
   },
   {
    "duration": 8,
    "start_time": "2023-07-06T11:11:15.247Z"
   },
   {
    "duration": 583,
    "start_time": "2023-07-06T11:11:15.258Z"
   },
   {
    "duration": 679,
    "start_time": "2023-07-06T11:11:15.843Z"
   },
   {
    "duration": 61,
    "start_time": "2023-07-06T11:11:16.524Z"
   },
   {
    "duration": 97,
    "start_time": "2023-07-06T11:11:16.587Z"
   },
   {
    "duration": 70,
    "start_time": "2023-07-06T11:11:16.686Z"
   },
   {
    "duration": 156,
    "start_time": "2023-07-06T11:11:16.758Z"
   },
   {
    "duration": 104,
    "start_time": "2023-07-06T11:11:16.916Z"
   },
   {
    "duration": 63,
    "start_time": "2023-07-06T11:11:17.022Z"
   },
   {
    "duration": 21,
    "start_time": "2023-07-06T11:11:17.088Z"
   },
   {
    "duration": 183,
    "start_time": "2023-07-06T11:11:17.112Z"
   },
   {
    "duration": 12,
    "start_time": "2023-07-06T11:11:17.297Z"
   },
   {
    "duration": 104,
    "start_time": "2023-07-06T11:11:17.311Z"
   },
   {
    "duration": 948,
    "start_time": "2023-07-06T11:11:17.417Z"
   },
   {
    "duration": 221,
    "start_time": "2023-07-06T11:11:18.366Z"
   },
   {
    "duration": 393,
    "start_time": "2023-07-06T11:11:18.589Z"
   },
   {
    "duration": 1984,
    "start_time": "2023-07-06T11:11:18.984Z"
   },
   {
    "duration": 26,
    "start_time": "2023-07-06T11:11:20.973Z"
   },
   {
    "duration": 94,
    "start_time": "2023-07-06T11:11:21.001Z"
   },
   {
    "duration": 5,
    "start_time": "2023-07-06T11:11:21.099Z"
   },
   {
    "duration": 74,
    "start_time": "2023-07-06T11:12:52.427Z"
   },
   {
    "duration": 12,
    "start_time": "2023-07-06T11:12:55.441Z"
   },
   {
    "duration": 8,
    "start_time": "2023-07-06T11:12:56.786Z"
   },
   {
    "duration": 1770,
    "start_time": "2023-07-06T11:13:18.661Z"
   },
   {
    "duration": 1655,
    "start_time": "2023-07-06T11:13:20.438Z"
   },
   {
    "duration": 23,
    "start_time": "2023-07-06T11:13:22.095Z"
   },
   {
    "duration": 320,
    "start_time": "2023-07-06T11:13:22.122Z"
   },
   {
    "duration": 120,
    "start_time": "2023-07-06T11:13:22.444Z"
   },
   {
    "duration": 1272,
    "start_time": "2023-07-06T11:13:22.565Z"
   },
   {
    "duration": 161,
    "start_time": "2023-07-06T11:13:23.841Z"
   },
   {
    "duration": 96,
    "start_time": "2023-07-06T11:13:24.005Z"
   },
   {
    "duration": 7,
    "start_time": "2023-07-06T11:13:24.103Z"
   },
   {
    "duration": 615,
    "start_time": "2023-07-06T11:13:24.112Z"
   },
   {
    "duration": 663,
    "start_time": "2023-07-06T11:13:24.732Z"
   },
   {
    "duration": 66,
    "start_time": "2023-07-06T11:13:25.397Z"
   },
   {
    "duration": 98,
    "start_time": "2023-07-06T11:13:25.464Z"
   },
   {
    "duration": 42,
    "start_time": "2023-07-06T11:13:25.566Z"
   },
   {
    "duration": 157,
    "start_time": "2023-07-06T11:13:25.610Z"
   },
   {
    "duration": 15,
    "start_time": "2023-07-06T11:13:25.769Z"
   },
   {
    "duration": 157,
    "start_time": "2023-07-06T11:13:25.786Z"
   },
   {
    "duration": 13,
    "start_time": "2023-07-06T11:13:25.945Z"
   },
   {
    "duration": 163,
    "start_time": "2023-07-06T11:13:25.960Z"
   },
   {
    "duration": 21,
    "start_time": "2023-07-06T11:13:26.125Z"
   },
   {
    "duration": 62,
    "start_time": "2023-07-06T11:13:26.155Z"
   },
   {
    "duration": 961,
    "start_time": "2023-07-06T11:13:26.219Z"
   },
   {
    "duration": 217,
    "start_time": "2023-07-06T11:13:27.182Z"
   },
   {
    "duration": 419,
    "start_time": "2023-07-06T11:13:27.402Z"
   },
   {
    "duration": 2074,
    "start_time": "2023-07-06T11:13:27.822Z"
   },
   {
    "duration": 35,
    "start_time": "2023-07-06T11:13:29.898Z"
   },
   {
    "duration": 102,
    "start_time": "2023-07-06T11:13:29.941Z"
   },
   {
    "duration": 5,
    "start_time": "2023-07-06T11:13:30.048Z"
   },
   {
    "duration": 1652,
    "start_time": "2023-07-06T11:15:21.023Z"
   },
   {
    "duration": 1549,
    "start_time": "2023-07-06T11:15:22.678Z"
   },
   {
    "duration": 28,
    "start_time": "2023-07-06T11:15:24.229Z"
   },
   {
    "duration": 194,
    "start_time": "2023-07-06T11:15:24.259Z"
   },
   {
    "duration": 122,
    "start_time": "2023-07-06T11:15:24.457Z"
   },
   {
    "duration": 1236,
    "start_time": "2023-07-06T11:15:24.581Z"
   },
   {
    "duration": 151,
    "start_time": "2023-07-06T11:15:25.819Z"
   },
   {
    "duration": 110,
    "start_time": "2023-07-06T11:15:25.972Z"
   },
   {
    "duration": 5,
    "start_time": "2023-07-06T11:15:26.084Z"
   },
   {
    "duration": 49,
    "start_time": "2023-07-06T11:15:26.091Z"
   },
   {
    "duration": 58,
    "start_time": "2023-07-06T11:15:26.143Z"
   },
   {
    "duration": 36,
    "start_time": "2023-07-06T11:15:26.203Z"
   },
   {
    "duration": 84,
    "start_time": "2023-07-06T11:15:26.241Z"
   },
   {
    "duration": 14,
    "start_time": "2023-07-06T11:15:26.333Z"
   },
   {
    "duration": 173,
    "start_time": "2023-07-06T11:15:26.348Z"
   },
   {
    "duration": 24,
    "start_time": "2023-07-06T11:15:26.523Z"
   },
   {
    "duration": 170,
    "start_time": "2023-07-06T11:15:26.553Z"
   },
   {
    "duration": 27,
    "start_time": "2023-07-06T11:15:26.725Z"
   },
   {
    "duration": 42,
    "start_time": "2023-07-06T11:15:26.756Z"
   },
   {
    "duration": 161,
    "start_time": "2023-07-06T11:15:26.800Z"
   },
   {
    "duration": 176,
    "start_time": "2023-07-06T11:15:26.963Z"
   },
   {
    "duration": 692,
    "start_time": "2023-07-06T11:15:27.143Z"
   },
   {
    "duration": 204,
    "start_time": "2023-07-06T11:15:27.844Z"
   },
   {
    "duration": 361,
    "start_time": "2023-07-06T11:15:28.052Z"
   },
   {
    "duration": 1573,
    "start_time": "2023-07-06T11:15:28.415Z"
   },
   {
    "duration": 24,
    "start_time": "2023-07-06T11:15:29.990Z"
   },
   {
    "duration": 113,
    "start_time": "2023-07-06T11:15:30.016Z"
   },
   {
    "duration": 4,
    "start_time": "2023-07-06T11:15:30.131Z"
   },
   {
    "duration": 1629,
    "start_time": "2023-07-06T11:16:14.562Z"
   },
   {
    "duration": 1372,
    "start_time": "2023-07-06T11:16:16.193Z"
   },
   {
    "duration": 18,
    "start_time": "2023-07-06T11:16:17.567Z"
   },
   {
    "duration": 200,
    "start_time": "2023-07-06T11:16:17.588Z"
   },
   {
    "duration": 128,
    "start_time": "2023-07-06T11:16:17.791Z"
   },
   {
    "duration": 1145,
    "start_time": "2023-07-06T11:16:17.921Z"
   },
   {
    "duration": 187,
    "start_time": "2023-07-06T11:16:19.068Z"
   },
   {
    "duration": 71,
    "start_time": "2023-07-06T11:16:19.257Z"
   },
   {
    "duration": 5,
    "start_time": "2023-07-06T11:16:19.330Z"
   },
   {
    "duration": 79,
    "start_time": "2023-07-06T11:16:19.336Z"
   },
   {
    "duration": 80,
    "start_time": "2023-07-06T11:16:19.417Z"
   },
   {
    "duration": 23,
    "start_time": "2023-07-06T11:16:19.499Z"
   },
   {
    "duration": 117,
    "start_time": "2023-07-06T11:16:19.524Z"
   },
   {
    "duration": 21,
    "start_time": "2023-07-06T11:16:19.648Z"
   },
   {
    "duration": 187,
    "start_time": "2023-07-06T11:16:19.671Z"
   },
   {
    "duration": 16,
    "start_time": "2023-07-06T11:16:19.859Z"
   },
   {
    "duration": 148,
    "start_time": "2023-07-06T11:16:19.877Z"
   },
   {
    "duration": 21,
    "start_time": "2023-07-06T11:16:20.027Z"
   },
   {
    "duration": 92,
    "start_time": "2023-07-06T11:16:20.054Z"
   },
   {
    "duration": 177,
    "start_time": "2023-07-06T11:16:20.148Z"
   },
   {
    "duration": 227,
    "start_time": "2023-07-06T11:16:20.338Z"
   },
   {
    "duration": 977,
    "start_time": "2023-07-06T11:16:20.569Z"
   },
   {
    "duration": 220,
    "start_time": "2023-07-06T11:16:21.548Z"
   },
   {
    "duration": 427,
    "start_time": "2023-07-06T11:16:21.770Z"
   },
   {
    "duration": 1979,
    "start_time": "2023-07-06T11:16:22.199Z"
   },
   {
    "duration": 27,
    "start_time": "2023-07-06T11:16:24.181Z"
   },
   {
    "duration": 97,
    "start_time": "2023-07-06T11:16:24.210Z"
   },
   {
    "duration": 5,
    "start_time": "2023-07-06T11:16:24.309Z"
   },
   {
    "duration": 45,
    "start_time": "2023-07-06T11:16:24.316Z"
   },
   {
    "duration": 54,
    "start_time": "2023-07-06T11:16:24.363Z"
   },
   {
    "duration": 67,
    "start_time": "2023-07-06T11:16:24.419Z"
   },
   {
    "duration": 62863,
    "start_time": "2023-07-06T11:16:24.489Z"
   },
   {
    "duration": 831,
    "start_time": "2023-07-06T11:17:27.354Z"
   },
   {
    "duration": 486,
    "start_time": "2023-07-06T11:17:28.187Z"
   },
   {
    "duration": 2063,
    "start_time": "2023-07-06T11:31:57.708Z"
   },
   {
    "duration": 1058,
    "start_time": "2023-07-06T11:31:59.775Z"
   },
   {
    "duration": 29,
    "start_time": "2023-07-06T11:32:00.839Z"
   },
   {
    "duration": 251,
    "start_time": "2023-07-06T11:32:00.878Z"
   },
   {
    "duration": 135,
    "start_time": "2023-07-06T11:32:01.132Z"
   },
   {
    "duration": 1467,
    "start_time": "2023-07-06T11:32:01.272Z"
   },
   {
    "duration": 156,
    "start_time": "2023-07-06T11:32:02.740Z"
   },
   {
    "duration": 98,
    "start_time": "2023-07-06T11:32:02.898Z"
   },
   {
    "duration": 6,
    "start_time": "2023-07-06T11:32:02.998Z"
   },
   {
    "duration": 75,
    "start_time": "2023-07-06T11:32:03.006Z"
   },
   {
    "duration": 78,
    "start_time": "2023-07-06T11:32:03.084Z"
   },
   {
    "duration": 46,
    "start_time": "2023-07-06T11:32:03.164Z"
   },
   {
    "duration": 179,
    "start_time": "2023-07-06T11:32:03.212Z"
   },
   {
    "duration": 61,
    "start_time": "2023-07-06T11:32:03.394Z"
   },
   {
    "duration": 90,
    "start_time": "2023-07-06T11:32:03.464Z"
   },
   {
    "duration": 109,
    "start_time": "2023-07-06T11:32:03.557Z"
   },
   {
    "duration": 120,
    "start_time": "2023-07-06T11:32:03.672Z"
   },
   {
    "duration": 11,
    "start_time": "2023-07-06T11:32:03.794Z"
   },
   {
    "duration": 96,
    "start_time": "2023-07-06T11:32:03.807Z"
   },
   {
    "duration": 173,
    "start_time": "2023-07-06T11:32:03.905Z"
   },
   {
    "duration": 177,
    "start_time": "2023-07-06T11:32:04.080Z"
   },
   {
    "duration": 796,
    "start_time": "2023-07-06T11:32:04.259Z"
   },
   {
    "duration": 204,
    "start_time": "2023-07-06T11:32:05.066Z"
   },
   {
    "duration": 331,
    "start_time": "2023-07-06T11:32:05.277Z"
   },
   {
    "duration": 1618,
    "start_time": "2023-07-06T11:32:05.610Z"
   },
   {
    "duration": 22,
    "start_time": "2023-07-06T11:32:07.234Z"
   },
   {
    "duration": 83,
    "start_time": "2023-07-06T11:32:07.258Z"
   },
   {
    "duration": 134,
    "start_time": "2023-07-06T11:32:07.343Z"
   },
   {
    "duration": 0,
    "start_time": "2023-07-06T11:32:07.478Z"
   },
   {
    "duration": 0,
    "start_time": "2023-07-06T11:32:07.479Z"
   },
   {
    "duration": 0,
    "start_time": "2023-07-06T11:32:07.480Z"
   },
   {
    "duration": 0,
    "start_time": "2023-07-06T11:32:07.480Z"
   },
   {
    "duration": 1752,
    "start_time": "2023-07-06T11:32:47.964Z"
   },
   {
    "duration": 1126,
    "start_time": "2023-07-06T11:32:49.719Z"
   },
   {
    "duration": 22,
    "start_time": "2023-07-06T11:32:50.846Z"
   },
   {
    "duration": 156,
    "start_time": "2023-07-06T11:32:50.870Z"
   },
   {
    "duration": 112,
    "start_time": "2023-07-06T11:32:51.036Z"
   },
   {
    "duration": 1153,
    "start_time": "2023-07-06T11:32:51.152Z"
   },
   {
    "duration": 159,
    "start_time": "2023-07-06T11:32:52.307Z"
   },
   {
    "duration": 102,
    "start_time": "2023-07-06T11:32:52.469Z"
   },
   {
    "duration": 5,
    "start_time": "2023-07-06T11:32:52.573Z"
   },
   {
    "duration": 49,
    "start_time": "2023-07-06T11:32:52.580Z"
   },
   {
    "duration": 58,
    "start_time": "2023-07-06T11:32:52.637Z"
   },
   {
    "duration": 26,
    "start_time": "2023-07-06T11:32:52.696Z"
   },
   {
    "duration": 106,
    "start_time": "2023-07-06T11:32:52.724Z"
   },
   {
    "duration": 27,
    "start_time": "2023-07-06T11:32:52.835Z"
   },
   {
    "duration": 59,
    "start_time": "2023-07-06T11:32:52.863Z"
   },
   {
    "duration": 122,
    "start_time": "2023-07-06T11:32:52.924Z"
   },
   {
    "duration": 101,
    "start_time": "2023-07-06T11:32:53.048Z"
   },
   {
    "duration": 11,
    "start_time": "2023-07-06T11:32:53.155Z"
   },
   {
    "duration": 43,
    "start_time": "2023-07-06T11:32:53.168Z"
   },
   {
    "duration": 233,
    "start_time": "2023-07-06T11:32:53.213Z"
   },
   {
    "duration": 187,
    "start_time": "2023-07-06T11:32:53.451Z"
   },
   {
    "duration": 759,
    "start_time": "2023-07-06T11:32:53.639Z"
   },
   {
    "duration": 204,
    "start_time": "2023-07-06T11:32:54.400Z"
   },
   {
    "duration": 375,
    "start_time": "2023-07-06T11:32:54.606Z"
   },
   {
    "duration": 1703,
    "start_time": "2023-07-06T11:32:54.986Z"
   },
   {
    "duration": 25,
    "start_time": "2023-07-06T11:32:56.691Z"
   },
   {
    "duration": 96,
    "start_time": "2023-07-06T11:32:56.718Z"
   },
   {
    "duration": 1502,
    "start_time": "2023-07-06T11:32:56.816Z"
   },
   {
    "duration": 0,
    "start_time": "2023-07-06T11:32:58.320Z"
   },
   {
    "duration": 0,
    "start_time": "2023-07-06T11:32:58.321Z"
   },
   {
    "duration": 0,
    "start_time": "2023-07-06T11:32:58.322Z"
   },
   {
    "duration": 0,
    "start_time": "2023-07-06T11:32:58.334Z"
   },
   {
    "duration": 82,
    "start_time": "2023-07-07T02:53:15.019Z"
   },
   {
    "duration": 1516,
    "start_time": "2023-07-07T02:53:32.967Z"
   },
   {
    "duration": 1301,
    "start_time": "2023-07-07T02:53:34.485Z"
   },
   {
    "duration": 25,
    "start_time": "2023-07-07T02:53:35.788Z"
   },
   {
    "duration": 169,
    "start_time": "2023-07-07T02:53:35.815Z"
   },
   {
    "duration": 152,
    "start_time": "2023-07-07T02:53:35.986Z"
   },
   {
    "duration": 1174,
    "start_time": "2023-07-07T02:53:36.140Z"
   },
   {
    "duration": 119,
    "start_time": "2023-07-07T02:53:37.315Z"
   },
   {
    "duration": 92,
    "start_time": "2023-07-07T02:53:37.436Z"
   },
   {
    "duration": 6,
    "start_time": "2023-07-07T02:53:37.531Z"
   },
   {
    "duration": 75,
    "start_time": "2023-07-07T02:53:37.542Z"
   },
   {
    "duration": 40,
    "start_time": "2023-07-07T02:53:37.620Z"
   },
   {
    "duration": 26,
    "start_time": "2023-07-07T02:53:37.662Z"
   },
   {
    "duration": 142,
    "start_time": "2023-07-07T02:53:37.691Z"
   },
   {
    "duration": 14,
    "start_time": "2023-07-07T02:53:37.836Z"
   },
   {
    "duration": 110,
    "start_time": "2023-07-07T02:53:37.851Z"
   },
   {
    "duration": 9,
    "start_time": "2023-07-07T02:53:37.963Z"
   },
   {
    "duration": 177,
    "start_time": "2023-07-07T02:53:37.974Z"
   },
   {
    "duration": 11,
    "start_time": "2023-07-07T02:53:38.154Z"
   },
   {
    "duration": 44,
    "start_time": "2023-07-07T02:53:38.168Z"
   },
   {
    "duration": 166,
    "start_time": "2023-07-07T02:53:38.216Z"
   },
   {
    "duration": 178,
    "start_time": "2023-07-07T02:53:38.383Z"
   },
   {
    "duration": 491,
    "start_time": "2023-07-07T02:53:38.562Z"
   },
   {
    "duration": 174,
    "start_time": "2023-07-07T02:53:39.055Z"
   },
   {
    "duration": 327,
    "start_time": "2023-07-07T02:53:39.231Z"
   },
   {
    "duration": 128,
    "start_time": "2023-07-07T02:53:39.560Z"
   },
   {
    "duration": 0,
    "start_time": "2023-07-07T02:53:39.690Z"
   },
   {
    "duration": 0,
    "start_time": "2023-07-07T02:53:39.691Z"
   },
   {
    "duration": 0,
    "start_time": "2023-07-07T02:53:39.693Z"
   },
   {
    "duration": 0,
    "start_time": "2023-07-07T02:53:39.694Z"
   },
   {
    "duration": 0,
    "start_time": "2023-07-07T02:53:39.709Z"
   },
   {
    "duration": 0,
    "start_time": "2023-07-07T02:53:39.710Z"
   },
   {
    "duration": 0,
    "start_time": "2023-07-07T02:53:39.710Z"
   },
   {
    "duration": 1509,
    "start_time": "2023-07-07T02:54:05.932Z"
   },
   {
    "duration": 845,
    "start_time": "2023-07-07T02:54:07.444Z"
   },
   {
    "duration": 32,
    "start_time": "2023-07-07T02:54:08.291Z"
   },
   {
    "duration": 222,
    "start_time": "2023-07-07T02:54:08.324Z"
   },
   {
    "duration": 92,
    "start_time": "2023-07-07T02:54:08.549Z"
   },
   {
    "duration": 1091,
    "start_time": "2023-07-07T02:54:08.643Z"
   },
   {
    "duration": 115,
    "start_time": "2023-07-07T02:54:09.735Z"
   },
   {
    "duration": 80,
    "start_time": "2023-07-07T02:54:09.851Z"
   },
   {
    "duration": 6,
    "start_time": "2023-07-07T02:54:09.933Z"
   },
   {
    "duration": 29,
    "start_time": "2023-07-07T02:54:09.941Z"
   },
   {
    "duration": 67,
    "start_time": "2023-07-07T02:54:09.971Z"
   },
   {
    "duration": 24,
    "start_time": "2023-07-07T02:54:10.039Z"
   },
   {
    "duration": 80,
    "start_time": "2023-07-07T02:54:10.065Z"
   },
   {
    "duration": 9,
    "start_time": "2023-07-07T02:54:10.149Z"
   },
   {
    "duration": 58,
    "start_time": "2023-07-07T02:54:10.160Z"
   },
   {
    "duration": 67,
    "start_time": "2023-07-07T02:54:10.219Z"
   },
   {
    "duration": 94,
    "start_time": "2023-07-07T02:54:10.288Z"
   },
   {
    "duration": 7,
    "start_time": "2023-07-07T02:54:10.383Z"
   },
   {
    "duration": 32,
    "start_time": "2023-07-07T02:54:10.392Z"
   },
   {
    "duration": 157,
    "start_time": "2023-07-07T02:54:10.425Z"
   },
   {
    "duration": 165,
    "start_time": "2023-07-07T02:54:10.584Z"
   },
   {
    "duration": 477,
    "start_time": "2023-07-07T02:54:10.751Z"
   },
   {
    "duration": 145,
    "start_time": "2023-07-07T02:54:11.230Z"
   },
   {
    "duration": 216,
    "start_time": "2023-07-07T02:54:11.376Z"
   },
   {
    "duration": 168,
    "start_time": "2023-07-07T02:54:11.594Z"
   },
   {
    "duration": 0,
    "start_time": "2023-07-07T02:54:11.764Z"
   },
   {
    "duration": 0,
    "start_time": "2023-07-07T02:54:11.766Z"
   },
   {
    "duration": 0,
    "start_time": "2023-07-07T02:54:11.767Z"
   },
   {
    "duration": 0,
    "start_time": "2023-07-07T02:54:11.769Z"
   },
   {
    "duration": 0,
    "start_time": "2023-07-07T02:54:11.771Z"
   },
   {
    "duration": 0,
    "start_time": "2023-07-07T02:54:11.772Z"
   },
   {
    "duration": 0,
    "start_time": "2023-07-07T02:54:11.774Z"
   },
   {
    "duration": 648,
    "start_time": "2023-07-07T02:55:15.573Z"
   },
   {
    "duration": 1115,
    "start_time": "2023-07-07T02:57:56.421Z"
   },
   {
    "duration": 1817,
    "start_time": "2023-07-07T03:18:55.046Z"
   },
   {
    "duration": 874,
    "start_time": "2023-07-07T03:18:56.865Z"
   },
   {
    "duration": 18,
    "start_time": "2023-07-07T03:18:57.747Z"
   },
   {
    "duration": 152,
    "start_time": "2023-07-07T03:18:57.767Z"
   },
   {
    "duration": 100,
    "start_time": "2023-07-07T03:18:57.925Z"
   },
   {
    "duration": 1105,
    "start_time": "2023-07-07T03:18:58.038Z"
   },
   {
    "duration": 131,
    "start_time": "2023-07-07T03:18:59.146Z"
   },
   {
    "duration": 87,
    "start_time": "2023-07-07T03:18:59.279Z"
   },
   {
    "duration": 5,
    "start_time": "2023-07-07T03:18:59.367Z"
   },
   {
    "duration": 64,
    "start_time": "2023-07-07T03:18:59.373Z"
   },
   {
    "duration": 42,
    "start_time": "2023-07-07T03:18:59.442Z"
   },
   {
    "duration": 40,
    "start_time": "2023-07-07T03:18:59.485Z"
   },
   {
    "duration": 99,
    "start_time": "2023-07-07T03:18:59.537Z"
   },
   {
    "duration": 29,
    "start_time": "2023-07-07T03:18:59.645Z"
   },
   {
    "duration": 69,
    "start_time": "2023-07-07T03:18:59.675Z"
   },
   {
    "duration": 99,
    "start_time": "2023-07-07T03:18:59.746Z"
   },
   {
    "duration": 104,
    "start_time": "2023-07-07T03:18:59.847Z"
   },
   {
    "duration": 7,
    "start_time": "2023-07-07T03:18:59.953Z"
   },
   {
    "duration": 43,
    "start_time": "2023-07-07T03:18:59.962Z"
   },
   {
    "duration": 181,
    "start_time": "2023-07-07T03:19:00.006Z"
   },
   {
    "duration": 220,
    "start_time": "2023-07-07T03:19:00.189Z"
   },
   {
    "duration": 617,
    "start_time": "2023-07-07T03:19:00.410Z"
   },
   {
    "duration": 159,
    "start_time": "2023-07-07T03:19:01.030Z"
   },
   {
    "duration": 296,
    "start_time": "2023-07-07T03:19:01.191Z"
   },
   {
    "duration": 1380,
    "start_time": "2023-07-07T03:19:01.489Z"
   },
   {
    "duration": 18,
    "start_time": "2023-07-07T03:19:02.871Z"
   },
   {
    "duration": 70,
    "start_time": "2023-07-07T03:19:02.890Z"
   },
   {
    "duration": 3572,
    "start_time": "2023-07-07T03:19:02.961Z"
   },
   {
    "duration": 0,
    "start_time": "2023-07-07T03:19:06.544Z"
   },
   {
    "duration": 0,
    "start_time": "2023-07-07T03:19:06.547Z"
   },
   {
    "duration": 0,
    "start_time": "2023-07-07T03:19:06.548Z"
   },
   {
    "duration": 0,
    "start_time": "2023-07-07T03:19:06.549Z"
   },
   {
    "duration": 2137,
    "start_time": "2023-07-07T03:25:59.952Z"
   },
   {
    "duration": 946,
    "start_time": "2023-07-07T03:26:02.090Z"
   },
   {
    "duration": 18,
    "start_time": "2023-07-07T03:26:03.037Z"
   },
   {
    "duration": 137,
    "start_time": "2023-07-07T03:26:03.057Z"
   },
   {
    "duration": 107,
    "start_time": "2023-07-07T03:26:03.196Z"
   },
   {
    "duration": 1068,
    "start_time": "2023-07-07T03:26:03.304Z"
   },
   {
    "duration": 147,
    "start_time": "2023-07-07T03:26:04.374Z"
   },
   {
    "duration": 121,
    "start_time": "2023-07-07T03:26:04.523Z"
   },
   {
    "duration": 6,
    "start_time": "2023-07-07T03:26:04.646Z"
   },
   {
    "duration": 86,
    "start_time": "2023-07-07T03:26:04.655Z"
   },
   {
    "duration": 79,
    "start_time": "2023-07-07T03:26:04.750Z"
   },
   {
    "duration": 35,
    "start_time": "2023-07-07T03:26:04.830Z"
   },
   {
    "duration": 141,
    "start_time": "2023-07-07T03:26:04.867Z"
   },
   {
    "duration": 44,
    "start_time": "2023-07-07T03:26:05.011Z"
   },
   {
    "duration": 141,
    "start_time": "2023-07-07T03:26:05.057Z"
   },
   {
    "duration": 10,
    "start_time": "2023-07-07T03:26:05.199Z"
   },
   {
    "duration": 166,
    "start_time": "2023-07-07T03:26:05.210Z"
   },
   {
    "duration": 10,
    "start_time": "2023-07-07T03:26:05.378Z"
   },
   {
    "duration": 104,
    "start_time": "2023-07-07T03:26:05.390Z"
   },
   {
    "duration": 188,
    "start_time": "2023-07-07T03:26:05.496Z"
   },
   {
    "duration": 208,
    "start_time": "2023-07-07T03:26:05.687Z"
   },
   {
    "duration": 635,
    "start_time": "2023-07-07T03:26:05.901Z"
   },
   {
    "duration": 150,
    "start_time": "2023-07-07T03:26:06.540Z"
   },
   {
    "duration": 259,
    "start_time": "2023-07-07T03:26:06.692Z"
   },
   {
    "duration": 1506,
    "start_time": "2023-07-07T03:26:06.953Z"
   },
   {
    "duration": 15,
    "start_time": "2023-07-07T03:26:08.461Z"
   },
   {
    "duration": 71,
    "start_time": "2023-07-07T03:26:08.478Z"
   },
   {
    "duration": 1598,
    "start_time": "2023-07-07T03:26:08.552Z"
   },
   {
    "duration": 0,
    "start_time": "2023-07-07T03:26:10.151Z"
   },
   {
    "duration": 0,
    "start_time": "2023-07-07T03:26:10.152Z"
   },
   {
    "duration": 0,
    "start_time": "2023-07-07T03:26:10.154Z"
   },
   {
    "duration": 0,
    "start_time": "2023-07-07T03:26:10.155Z"
   },
   {
    "duration": 1883,
    "start_time": "2023-07-07T03:26:55.568Z"
   },
   {
    "duration": 1012,
    "start_time": "2023-07-07T03:26:57.453Z"
   },
   {
    "duration": 17,
    "start_time": "2023-07-07T03:26:58.467Z"
   },
   {
    "duration": 169,
    "start_time": "2023-07-07T03:26:58.485Z"
   },
   {
    "duration": 114,
    "start_time": "2023-07-07T03:26:58.659Z"
   },
   {
    "duration": 1111,
    "start_time": "2023-07-07T03:26:58.775Z"
   },
   {
    "duration": 152,
    "start_time": "2023-07-07T03:26:59.888Z"
   },
   {
    "duration": 188,
    "start_time": "2023-07-07T03:27:00.045Z"
   },
   {
    "duration": 5,
    "start_time": "2023-07-07T03:27:00.235Z"
   },
   {
    "duration": 112,
    "start_time": "2023-07-07T03:27:00.243Z"
   },
   {
    "duration": 93,
    "start_time": "2023-07-07T03:27:00.357Z"
   },
   {
    "duration": 32,
    "start_time": "2023-07-07T03:27:00.452Z"
   },
   {
    "duration": 96,
    "start_time": "2023-07-07T03:27:00.486Z"
   },
   {
    "duration": 65,
    "start_time": "2023-07-07T03:27:00.585Z"
   },
   {
    "duration": 94,
    "start_time": "2023-07-07T03:27:00.652Z"
   },
   {
    "duration": 97,
    "start_time": "2023-07-07T03:27:00.748Z"
   },
   {
    "duration": 134,
    "start_time": "2023-07-07T03:27:00.846Z"
   },
   {
    "duration": 7,
    "start_time": "2023-07-07T03:27:00.982Z"
   },
   {
    "duration": 150,
    "start_time": "2023-07-07T03:27:00.991Z"
   },
   {
    "duration": 208,
    "start_time": "2023-07-07T03:27:01.146Z"
   },
   {
    "duration": 225,
    "start_time": "2023-07-07T03:27:01.356Z"
   },
   {
    "duration": 653,
    "start_time": "2023-07-07T03:27:01.583Z"
   },
   {
    "duration": 202,
    "start_time": "2023-07-07T03:27:02.238Z"
   },
   {
    "duration": 266,
    "start_time": "2023-07-07T03:27:02.450Z"
   },
   {
    "duration": 1556,
    "start_time": "2023-07-07T03:27:02.717Z"
   },
   {
    "duration": 16,
    "start_time": "2023-07-07T03:27:04.274Z"
   },
   {
    "duration": 54,
    "start_time": "2023-07-07T03:27:04.313Z"
   },
   {
    "duration": 1206,
    "start_time": "2023-07-07T03:27:04.368Z"
   },
   {
    "duration": 0,
    "start_time": "2023-07-07T03:27:05.576Z"
   },
   {
    "duration": 0,
    "start_time": "2023-07-07T03:27:05.577Z"
   },
   {
    "duration": 0,
    "start_time": "2023-07-07T03:27:05.578Z"
   },
   {
    "duration": 0,
    "start_time": "2023-07-07T03:27:05.579Z"
   },
   {
    "duration": 1564,
    "start_time": "2023-07-07T03:27:31.567Z"
   },
   {
    "duration": 859,
    "start_time": "2023-07-07T03:27:33.133Z"
   },
   {
    "duration": 45,
    "start_time": "2023-07-07T03:27:33.994Z"
   },
   {
    "duration": 155,
    "start_time": "2023-07-07T03:27:34.041Z"
   },
   {
    "duration": 152,
    "start_time": "2023-07-07T03:27:34.198Z"
   },
   {
    "duration": 1096,
    "start_time": "2023-07-07T03:27:34.352Z"
   },
   {
    "duration": 142,
    "start_time": "2023-07-07T03:27:35.450Z"
   },
   {
    "duration": 142,
    "start_time": "2023-07-07T03:27:35.594Z"
   },
   {
    "duration": 10,
    "start_time": "2023-07-07T03:27:35.742Z"
   },
   {
    "duration": 43,
    "start_time": "2023-07-07T03:27:35.755Z"
   },
   {
    "duration": 61,
    "start_time": "2023-07-07T03:27:35.814Z"
   },
   {
    "duration": 43,
    "start_time": "2023-07-07T03:27:35.877Z"
   },
   {
    "duration": 190,
    "start_time": "2023-07-07T03:27:35.933Z"
   },
   {
    "duration": 33,
    "start_time": "2023-07-07T03:27:36.130Z"
   },
   {
    "duration": 185,
    "start_time": "2023-07-07T03:27:36.166Z"
   },
   {
    "duration": 11,
    "start_time": "2023-07-07T03:27:36.353Z"
   },
   {
    "duration": 184,
    "start_time": "2023-07-07T03:27:36.366Z"
   },
   {
    "duration": 11,
    "start_time": "2023-07-07T03:27:36.552Z"
   },
   {
    "duration": 88,
    "start_time": "2023-07-07T03:27:36.565Z"
   },
   {
    "duration": 173,
    "start_time": "2023-07-07T03:27:36.656Z"
   },
   {
    "duration": 198,
    "start_time": "2023-07-07T03:27:36.831Z"
   },
   {
    "duration": 601,
    "start_time": "2023-07-07T03:27:37.031Z"
   },
   {
    "duration": 144,
    "start_time": "2023-07-07T03:27:37.634Z"
   },
   {
    "duration": 249,
    "start_time": "2023-07-07T03:27:37.780Z"
   },
   {
    "duration": 1524,
    "start_time": "2023-07-07T03:27:38.046Z"
   },
   {
    "duration": 15,
    "start_time": "2023-07-07T03:27:39.571Z"
   },
   {
    "duration": 70,
    "start_time": "2023-07-07T03:27:39.588Z"
   },
   {
    "duration": 1157,
    "start_time": "2023-07-07T03:27:39.660Z"
   },
   {
    "duration": 0,
    "start_time": "2023-07-07T03:27:40.830Z"
   },
   {
    "duration": 0,
    "start_time": "2023-07-07T03:27:40.830Z"
   },
   {
    "duration": 0,
    "start_time": "2023-07-07T03:27:40.831Z"
   },
   {
    "duration": 0,
    "start_time": "2023-07-07T03:27:40.832Z"
   },
   {
    "duration": 1651,
    "start_time": "2023-07-07T03:29:39.647Z"
   },
   {
    "duration": 926,
    "start_time": "2023-07-07T03:29:41.310Z"
   },
   {
    "duration": 18,
    "start_time": "2023-07-07T03:29:42.244Z"
   },
   {
    "duration": 165,
    "start_time": "2023-07-07T03:29:42.264Z"
   },
   {
    "duration": 104,
    "start_time": "2023-07-07T03:29:42.433Z"
   },
   {
    "duration": 1048,
    "start_time": "2023-07-07T03:29:42.538Z"
   },
   {
    "duration": 254,
    "start_time": "2023-07-07T03:29:43.588Z"
   },
   {
    "duration": 96,
    "start_time": "2023-07-07T03:29:43.847Z"
   },
   {
    "duration": 7,
    "start_time": "2023-07-07T03:29:43.944Z"
   },
   {
    "duration": 34,
    "start_time": "2023-07-07T03:29:43.954Z"
   },
   {
    "duration": 74,
    "start_time": "2023-07-07T03:29:43.990Z"
   },
   {
    "duration": 25,
    "start_time": "2023-07-07T03:29:44.066Z"
   },
   {
    "duration": 94,
    "start_time": "2023-07-07T03:29:44.093Z"
   },
   {
    "duration": 32,
    "start_time": "2023-07-07T03:29:44.189Z"
   },
   {
    "duration": 131,
    "start_time": "2023-07-07T03:29:44.222Z"
   },
   {
    "duration": 8,
    "start_time": "2023-07-07T03:29:44.354Z"
   },
   {
    "duration": 121,
    "start_time": "2023-07-07T03:29:44.363Z"
   },
   {
    "duration": 39,
    "start_time": "2023-07-07T03:29:44.486Z"
   },
   {
    "duration": 39,
    "start_time": "2023-07-07T03:29:44.534Z"
   },
   {
    "duration": 184,
    "start_time": "2023-07-07T03:29:44.575Z"
   },
   {
    "duration": 212,
    "start_time": "2023-07-07T03:29:44.763Z"
   },
   {
    "duration": 613,
    "start_time": "2023-07-07T03:29:44.976Z"
   },
   {
    "duration": 158,
    "start_time": "2023-07-07T03:29:45.591Z"
   },
   {
    "duration": 290,
    "start_time": "2023-07-07T03:29:45.751Z"
   },
   {
    "duration": 1653,
    "start_time": "2023-07-07T03:29:46.043Z"
   },
   {
    "duration": 44,
    "start_time": "2023-07-07T03:29:47.697Z"
   },
   {
    "duration": 40,
    "start_time": "2023-07-07T03:29:47.744Z"
   },
   {
    "duration": 1027,
    "start_time": "2023-07-07T03:29:47.786Z"
   },
   {
    "duration": 21,
    "start_time": "2023-07-07T03:29:48.814Z"
   },
   {
    "duration": 80885,
    "start_time": "2023-07-07T03:29:48.836Z"
   },
   {
    "duration": 4090,
    "start_time": "2023-07-07T03:31:09.742Z"
   },
   {
    "duration": 619556,
    "start_time": "2023-07-07T03:31:13.834Z"
   },
   {
    "duration": 149,
    "start_time": "2023-07-07T04:46:53.416Z"
   },
   {
    "duration": 1616,
    "start_time": "2023-07-07T04:47:03.330Z"
   },
   {
    "duration": 0,
    "start_time": "2023-07-07T04:47:04.949Z"
   },
   {
    "duration": 0,
    "start_time": "2023-07-07T04:47:04.951Z"
   },
   {
    "duration": 0,
    "start_time": "2023-07-07T04:47:04.952Z"
   },
   {
    "duration": 0,
    "start_time": "2023-07-07T04:47:04.953Z"
   },
   {
    "duration": 0,
    "start_time": "2023-07-07T04:47:04.954Z"
   },
   {
    "duration": 0,
    "start_time": "2023-07-07T04:47:04.956Z"
   },
   {
    "duration": 0,
    "start_time": "2023-07-07T04:47:04.957Z"
   },
   {
    "duration": 0,
    "start_time": "2023-07-07T04:47:04.958Z"
   },
   {
    "duration": 0,
    "start_time": "2023-07-07T04:47:04.959Z"
   },
   {
    "duration": 0,
    "start_time": "2023-07-07T04:47:04.960Z"
   },
   {
    "duration": 0,
    "start_time": "2023-07-07T04:47:04.961Z"
   },
   {
    "duration": 0,
    "start_time": "2023-07-07T04:47:04.963Z"
   },
   {
    "duration": 0,
    "start_time": "2023-07-07T04:47:04.964Z"
   },
   {
    "duration": 0,
    "start_time": "2023-07-07T04:47:04.966Z"
   },
   {
    "duration": 0,
    "start_time": "2023-07-07T04:47:04.967Z"
   },
   {
    "duration": 0,
    "start_time": "2023-07-07T04:47:04.968Z"
   },
   {
    "duration": 0,
    "start_time": "2023-07-07T04:47:04.969Z"
   },
   {
    "duration": 0,
    "start_time": "2023-07-07T04:47:04.969Z"
   },
   {
    "duration": 0,
    "start_time": "2023-07-07T04:47:04.971Z"
   },
   {
    "duration": 0,
    "start_time": "2023-07-07T04:47:04.971Z"
   },
   {
    "duration": 1,
    "start_time": "2023-07-07T04:47:04.972Z"
   },
   {
    "duration": 0,
    "start_time": "2023-07-07T04:47:05.013Z"
   },
   {
    "duration": 0,
    "start_time": "2023-07-07T04:47:05.017Z"
   },
   {
    "duration": 0,
    "start_time": "2023-07-07T04:47:05.018Z"
   },
   {
    "duration": 0,
    "start_time": "2023-07-07T04:47:05.019Z"
   },
   {
    "duration": 0,
    "start_time": "2023-07-07T04:47:05.020Z"
   },
   {
    "duration": 0,
    "start_time": "2023-07-07T04:47:05.020Z"
   },
   {
    "duration": 0,
    "start_time": "2023-07-07T04:47:05.021Z"
   },
   {
    "duration": 0,
    "start_time": "2023-07-07T04:47:05.022Z"
   },
   {
    "duration": 0,
    "start_time": "2023-07-07T04:47:05.022Z"
   },
   {
    "duration": 0,
    "start_time": "2023-07-07T04:47:05.023Z"
   },
   {
    "duration": 1624,
    "start_time": "2023-07-07T04:47:46.430Z"
   },
   {
    "duration": 1401,
    "start_time": "2023-07-07T04:47:48.056Z"
   },
   {
    "duration": 25,
    "start_time": "2023-07-07T04:47:49.459Z"
   },
   {
    "duration": 203,
    "start_time": "2023-07-07T04:47:49.486Z"
   },
   {
    "duration": 151,
    "start_time": "2023-07-07T04:47:49.692Z"
   },
   {
    "duration": 1012,
    "start_time": "2023-07-07T04:47:49.845Z"
   },
   {
    "duration": 122,
    "start_time": "2023-07-07T04:47:50.858Z"
   },
   {
    "duration": 85,
    "start_time": "2023-07-07T04:47:50.982Z"
   },
   {
    "duration": 6,
    "start_time": "2023-07-07T04:47:51.068Z"
   },
   {
    "duration": 54,
    "start_time": "2023-07-07T04:47:51.075Z"
   },
   {
    "duration": 44,
    "start_time": "2023-07-07T04:47:51.130Z"
   },
   {
    "duration": 50,
    "start_time": "2023-07-07T04:47:51.175Z"
   },
   {
    "duration": 152,
    "start_time": "2023-07-07T04:47:51.231Z"
   },
   {
    "duration": 6,
    "start_time": "2023-07-07T04:47:51.385Z"
   },
   {
    "duration": 50,
    "start_time": "2023-07-07T04:47:51.392Z"
   },
   {
    "duration": 94,
    "start_time": "2023-07-07T04:47:51.443Z"
   },
   {
    "duration": 122,
    "start_time": "2023-07-07T04:47:51.541Z"
   },
   {
    "duration": 8,
    "start_time": "2023-07-07T04:47:51.664Z"
   },
   {
    "duration": 52,
    "start_time": "2023-07-07T04:47:51.673Z"
   },
   {
    "duration": 162,
    "start_time": "2023-07-07T04:47:51.726Z"
   },
   {
    "duration": 180,
    "start_time": "2023-07-07T04:47:51.890Z"
   },
   {
    "duration": 537,
    "start_time": "2023-07-07T04:47:52.072Z"
   },
   {
    "duration": 147,
    "start_time": "2023-07-07T04:47:52.610Z"
   },
   {
    "duration": 275,
    "start_time": "2023-07-07T04:47:52.758Z"
   },
   {
    "duration": 1427,
    "start_time": "2023-07-07T04:47:53.038Z"
   },
   {
    "duration": 15,
    "start_time": "2023-07-07T04:47:54.467Z"
   },
   {
    "duration": 56,
    "start_time": "2023-07-07T04:47:54.485Z"
   },
   {
    "duration": 2457,
    "start_time": "2023-07-07T04:47:54.543Z"
   },
   {
    "duration": 19,
    "start_time": "2023-07-07T04:47:57.002Z"
   },
   {
    "duration": 85998,
    "start_time": "2023-07-07T04:47:57.025Z"
   },
   {
    "duration": 3787,
    "start_time": "2023-07-07T04:49:23.039Z"
   },
   {
    "duration": 593836,
    "start_time": "2023-07-07T04:49:26.828Z"
   },
   {
    "duration": 389,
    "start_time": "2023-07-07T05:39:09.593Z"
   },
   {
    "duration": 1770,
    "start_time": "2023-07-07T05:40:07.827Z"
   },
   {
    "duration": 847,
    "start_time": "2023-07-07T05:40:09.599Z"
   },
   {
    "duration": 18,
    "start_time": "2023-07-07T05:40:10.448Z"
   },
   {
    "duration": 157,
    "start_time": "2023-07-07T05:40:10.467Z"
   },
   {
    "duration": 146,
    "start_time": "2023-07-07T05:40:10.629Z"
   },
   {
    "duration": 1140,
    "start_time": "2023-07-07T05:40:10.777Z"
   },
   {
    "duration": 145,
    "start_time": "2023-07-07T05:40:11.918Z"
   },
   {
    "duration": 97,
    "start_time": "2023-07-07T05:40:12.064Z"
   },
   {
    "duration": 5,
    "start_time": "2023-07-07T05:40:12.162Z"
   },
   {
    "duration": 30,
    "start_time": "2023-07-07T05:40:12.168Z"
   },
   {
    "duration": 62,
    "start_time": "2023-07-07T05:40:12.210Z"
   },
   {
    "duration": 25,
    "start_time": "2023-07-07T05:40:12.273Z"
   },
   {
    "duration": 135,
    "start_time": "2023-07-07T05:40:12.299Z"
   },
   {
    "duration": 12,
    "start_time": "2023-07-07T05:40:12.440Z"
   },
   {
    "duration": 41,
    "start_time": "2023-07-07T05:40:12.453Z"
   },
   {
    "duration": 85,
    "start_time": "2023-07-07T05:40:12.496Z"
   },
   {
    "duration": 111,
    "start_time": "2023-07-07T05:40:12.583Z"
   },
   {
    "duration": 17,
    "start_time": "2023-07-07T05:40:12.695Z"
   },
   {
    "duration": 61,
    "start_time": "2023-07-07T05:40:12.713Z"
   },
   {
    "duration": 195,
    "start_time": "2023-07-07T05:40:12.775Z"
   },
   {
    "duration": 203,
    "start_time": "2023-07-07T05:40:12.972Z"
   },
   {
    "duration": 534,
    "start_time": "2023-07-07T05:40:13.177Z"
   },
   {
    "duration": 153,
    "start_time": "2023-07-07T05:40:13.713Z"
   },
   {
    "duration": 230,
    "start_time": "2023-07-07T05:40:13.867Z"
   },
   {
    "duration": 1322,
    "start_time": "2023-07-07T05:40:14.099Z"
   },
   {
    "duration": 18,
    "start_time": "2023-07-07T05:40:15.425Z"
   },
   {
    "duration": 77,
    "start_time": "2023-07-07T05:40:15.445Z"
   },
   {
    "duration": 1836,
    "start_time": "2023-07-07T05:40:15.530Z"
   },
   {
    "duration": 15,
    "start_time": "2023-07-07T05:40:17.367Z"
   },
   {
    "duration": 59826,
    "start_time": "2023-07-07T05:40:17.384Z"
   },
   {
    "duration": 3733,
    "start_time": "2023-07-07T05:41:17.212Z"
   },
   {
    "duration": 571998,
    "start_time": "2023-07-07T05:41:20.948Z"
   },
   {
    "duration": 962000,
    "start_time": "2023-07-07T05:50:52.948Z"
   },
   {
    "duration": 947196,
    "start_time": "2023-07-07T06:09:29.530Z"
   },
   {
    "duration": 1279149,
    "start_time": "2023-07-07T06:27:14.076Z"
   },
   {
    "duration": 1594,
    "start_time": "2023-07-07T07:59:00.037Z"
   },
   {
    "duration": 910,
    "start_time": "2023-07-07T07:59:01.638Z"
   },
   {
    "duration": 23,
    "start_time": "2023-07-07T07:59:02.550Z"
   },
   {
    "duration": 203,
    "start_time": "2023-07-07T07:59:02.575Z"
   },
   {
    "duration": 215,
    "start_time": "2023-07-07T07:59:02.781Z"
   },
   {
    "duration": 1284,
    "start_time": "2023-07-07T07:59:02.998Z"
   },
   {
    "duration": 149,
    "start_time": "2023-07-07T07:59:04.284Z"
   },
   {
    "duration": 111,
    "start_time": "2023-07-07T07:59:04.434Z"
   },
   {
    "duration": 6,
    "start_time": "2023-07-07T07:59:04.550Z"
   },
   {
    "duration": 190,
    "start_time": "2023-07-07T07:59:04.558Z"
   },
   {
    "duration": 47,
    "start_time": "2023-07-07T07:59:04.750Z"
   },
   {
    "duration": 58,
    "start_time": "2023-07-07T07:59:04.799Z"
   },
   {
    "duration": 119,
    "start_time": "2023-07-07T07:59:04.866Z"
   },
   {
    "duration": 8,
    "start_time": "2023-07-07T07:59:04.989Z"
   },
   {
    "duration": 76,
    "start_time": "2023-07-07T07:59:04.999Z"
   },
   {
    "duration": 10,
    "start_time": "2023-07-07T07:59:05.076Z"
   },
   {
    "duration": 145,
    "start_time": "2023-07-07T07:59:05.088Z"
   },
   {
    "duration": 19,
    "start_time": "2023-07-07T07:59:05.238Z"
   },
   {
    "duration": 67,
    "start_time": "2023-07-07T07:59:05.258Z"
   },
   {
    "duration": 235,
    "start_time": "2023-07-07T07:59:05.327Z"
   },
   {
    "duration": 185,
    "start_time": "2023-07-07T07:59:05.564Z"
   },
   {
    "duration": 16,
    "start_time": "2023-07-07T07:59:05.754Z"
   },
   {
    "duration": 94,
    "start_time": "2023-07-07T07:59:05.771Z"
   },
   {
    "duration": 606,
    "start_time": "2023-07-07T07:59:05.866Z"
   },
   {
    "duration": 157,
    "start_time": "2023-07-07T07:59:06.474Z"
   },
   {
    "duration": 259,
    "start_time": "2023-07-07T07:59:06.633Z"
   },
   {
    "duration": 1397,
    "start_time": "2023-07-07T07:59:06.894Z"
   },
   {
    "duration": 17,
    "start_time": "2023-07-07T07:59:08.292Z"
   },
   {
    "duration": 111,
    "start_time": "2023-07-07T07:59:08.310Z"
   },
   {
    "duration": 1911,
    "start_time": "2023-07-07T07:59:08.433Z"
   },
   {
    "duration": 17,
    "start_time": "2023-07-07T07:59:10.358Z"
   },
   {
    "duration": 65137,
    "start_time": "2023-07-07T07:59:10.376Z"
   },
   {
    "duration": 3576,
    "start_time": "2023-07-07T08:00:15.514Z"
   },
   {
    "duration": 589838,
    "start_time": "2023-07-07T08:00:19.091Z"
   },
   {
    "duration": 398,
    "start_time": "2023-07-07T08:10:08.942Z"
   },
   {
    "duration": 197,
    "start_time": "2023-07-07T08:12:47.583Z"
   },
   {
    "duration": 258,
    "start_time": "2023-07-07T08:13:23.323Z"
   },
   {
    "duration": 1048646,
    "start_time": "2023-07-07T08:14:07.626Z"
   },
   {
    "duration": 21,
    "start_time": "2023-07-07T08:51:38.126Z"
   },
   {
    "duration": 26,
    "start_time": "2023-07-07T09:21:55.519Z"
   },
   {
    "duration": 1490,
    "start_time": "2023-07-07T09:27:23.251Z"
   },
   {
    "duration": 893,
    "start_time": "2023-07-07T09:27:24.744Z"
   },
   {
    "duration": 17,
    "start_time": "2023-07-07T09:27:25.640Z"
   },
   {
    "duration": 136,
    "start_time": "2023-07-07T09:27:25.659Z"
   },
   {
    "duration": 102,
    "start_time": "2023-07-07T09:27:25.799Z"
   },
   {
    "duration": 1191,
    "start_time": "2023-07-07T09:27:25.903Z"
   },
   {
    "duration": 154,
    "start_time": "2023-07-07T09:27:27.096Z"
   },
   {
    "duration": 116,
    "start_time": "2023-07-07T09:27:27.252Z"
   },
   {
    "duration": 5,
    "start_time": "2023-07-07T09:27:27.369Z"
   },
   {
    "duration": 57,
    "start_time": "2023-07-07T09:27:27.376Z"
   },
   {
    "duration": 49,
    "start_time": "2023-07-07T09:27:27.437Z"
   },
   {
    "duration": 37,
    "start_time": "2023-07-07T09:27:27.488Z"
   },
   {
    "duration": 115,
    "start_time": "2023-07-07T09:27:27.529Z"
   },
   {
    "duration": 20,
    "start_time": "2023-07-07T09:27:27.649Z"
   },
   {
    "duration": 74,
    "start_time": "2023-07-07T09:27:27.670Z"
   },
   {
    "duration": 8,
    "start_time": "2023-07-07T09:27:27.746Z"
   },
   {
    "duration": 129,
    "start_time": "2023-07-07T09:27:27.756Z"
   },
   {
    "duration": 8,
    "start_time": "2023-07-07T09:27:27.886Z"
   },
   {
    "duration": 67,
    "start_time": "2023-07-07T09:27:27.895Z"
   },
   {
    "duration": 158,
    "start_time": "2023-07-07T09:27:27.963Z"
   },
   {
    "duration": 196,
    "start_time": "2023-07-07T09:27:28.123Z"
   },
   {
    "duration": 507,
    "start_time": "2023-07-07T09:27:28.322Z"
   },
   {
    "duration": 142,
    "start_time": "2023-07-07T09:27:28.830Z"
   },
   {
    "duration": 222,
    "start_time": "2023-07-07T09:27:28.974Z"
   },
   {
    "duration": 1424,
    "start_time": "2023-07-07T09:27:29.205Z"
   },
   {
    "duration": 17,
    "start_time": "2023-07-07T09:27:30.642Z"
   },
   {
    "duration": 180,
    "start_time": "2023-07-07T09:27:30.661Z"
   },
   {
    "duration": 1904,
    "start_time": "2023-07-07T09:27:30.842Z"
   },
   {
    "duration": 16,
    "start_time": "2023-07-07T09:27:32.748Z"
   },
   {
    "duration": 89169,
    "start_time": "2023-07-07T09:27:32.765Z"
   },
   {
    "duration": 3732,
    "start_time": "2023-07-07T09:29:01.936Z"
   },
   {
    "duration": 600951,
    "start_time": "2023-07-07T09:29:05.670Z"
   },
   {
    "duration": 1752,
    "start_time": "2023-07-07T09:40:39.657Z"
   },
   {
    "duration": 984,
    "start_time": "2023-07-07T09:40:41.411Z"
   },
   {
    "duration": 35,
    "start_time": "2023-07-07T09:40:42.396Z"
   },
   {
    "duration": 206,
    "start_time": "2023-07-07T09:40:42.432Z"
   },
   {
    "duration": 135,
    "start_time": "2023-07-07T09:40:42.641Z"
   },
   {
    "duration": 1355,
    "start_time": "2023-07-07T09:40:42.777Z"
   },
   {
    "duration": 152,
    "start_time": "2023-07-07T09:40:44.133Z"
   },
   {
    "duration": 131,
    "start_time": "2023-07-07T09:40:44.287Z"
   },
   {
    "duration": 6,
    "start_time": "2023-07-07T09:40:44.419Z"
   },
   {
    "duration": 68,
    "start_time": "2023-07-07T09:40:44.426Z"
   },
   {
    "duration": 78,
    "start_time": "2023-07-07T09:40:44.496Z"
   },
   {
    "duration": 32,
    "start_time": "2023-07-07T09:40:44.576Z"
   },
   {
    "duration": 152,
    "start_time": "2023-07-07T09:40:44.610Z"
   },
   {
    "duration": 20,
    "start_time": "2023-07-07T09:40:44.765Z"
   },
   {
    "duration": 83,
    "start_time": "2023-07-07T09:40:44.787Z"
   },
   {
    "duration": 8,
    "start_time": "2023-07-07T09:40:44.872Z"
   },
   {
    "duration": 137,
    "start_time": "2023-07-07T09:40:44.882Z"
   },
   {
    "duration": 15,
    "start_time": "2023-07-07T09:40:45.021Z"
   },
   {
    "duration": 104,
    "start_time": "2023-07-07T09:40:45.038Z"
   },
   {
    "duration": 233,
    "start_time": "2023-07-07T09:40:45.143Z"
   },
   {
    "duration": 219,
    "start_time": "2023-07-07T09:40:45.378Z"
   },
   {
    "duration": 584,
    "start_time": "2023-07-07T09:40:45.598Z"
   },
   {
    "duration": 149,
    "start_time": "2023-07-07T09:40:46.184Z"
   },
   {
    "duration": 306,
    "start_time": "2023-07-07T09:40:46.335Z"
   },
   {
    "duration": 1502,
    "start_time": "2023-07-07T09:40:46.643Z"
   },
   {
    "duration": 16,
    "start_time": "2023-07-07T09:40:48.150Z"
   },
   {
    "duration": 68,
    "start_time": "2023-07-07T09:40:48.170Z"
   },
   {
    "duration": 1875,
    "start_time": "2023-07-07T09:40:48.239Z"
   },
   {
    "duration": 25,
    "start_time": "2023-07-07T09:40:50.120Z"
   },
   {
    "duration": 44769,
    "start_time": "2023-07-07T09:40:50.149Z"
   },
   {
    "duration": 4223,
    "start_time": "2023-07-07T09:41:34.924Z"
   },
   {
    "duration": 626796,
    "start_time": "2023-07-07T09:41:39.160Z"
   },
   {
    "duration": 1031669,
    "start_time": "2023-07-07T09:52:05.962Z"
   },
   {
    "duration": 60928,
    "start_time": "2023-07-07T10:09:17.633Z"
   },
   {
    "duration": 176,
    "start_time": "2023-07-07T10:10:18.565Z"
   },
   {
    "duration": 671,
    "start_time": "2023-07-07T10:10:18.750Z"
   },
   {
    "duration": 35,
    "start_time": "2023-07-07T10:10:19.426Z"
   },
   {
    "duration": 372677,
    "start_time": "2023-07-07T10:10:19.463Z"
   },
   {
    "duration": 16962,
    "start_time": "2023-07-07T10:16:32.152Z"
   },
   {
    "duration": 7,
    "start_time": "2023-07-07T10:16:49.119Z"
   },
   {
    "duration": 0,
    "start_time": "2023-07-07T10:16:49.128Z"
   },
   {
    "duration": 386,
    "start_time": "2023-07-07T10:17:56.822Z"
   },
   {
    "duration": 1711,
    "start_time": "2023-07-07T11:44:05.997Z"
   },
   {
    "duration": 941,
    "start_time": "2023-07-07T11:44:07.714Z"
   },
   {
    "duration": 21,
    "start_time": "2023-07-07T11:44:08.661Z"
   },
   {
    "duration": 223,
    "start_time": "2023-07-07T11:44:08.683Z"
   },
   {
    "duration": 114,
    "start_time": "2023-07-07T11:44:08.908Z"
   },
   {
    "duration": 1296,
    "start_time": "2023-07-07T11:44:09.024Z"
   },
   {
    "duration": 156,
    "start_time": "2023-07-07T11:44:10.329Z"
   },
   {
    "duration": 169,
    "start_time": "2023-07-07T11:44:10.486Z"
   },
   {
    "duration": 14,
    "start_time": "2023-07-07T11:44:10.656Z"
   },
   {
    "duration": 101,
    "start_time": "2023-07-07T11:44:10.672Z"
   },
   {
    "duration": 81,
    "start_time": "2023-07-07T11:44:10.775Z"
   },
   {
    "duration": 40,
    "start_time": "2023-07-07T11:44:10.857Z"
   },
   {
    "duration": 187,
    "start_time": "2023-07-07T11:44:10.898Z"
   },
   {
    "duration": 69,
    "start_time": "2023-07-07T11:44:11.088Z"
   },
   {
    "duration": 82,
    "start_time": "2023-07-07T11:44:11.159Z"
   },
   {
    "duration": 24,
    "start_time": "2023-07-07T11:44:11.253Z"
   },
   {
    "duration": 179,
    "start_time": "2023-07-07T11:44:11.279Z"
   },
   {
    "duration": 12,
    "start_time": "2023-07-07T11:44:11.459Z"
   },
   {
    "duration": 101,
    "start_time": "2023-07-07T11:44:11.473Z"
   },
   {
    "duration": 219,
    "start_time": "2023-07-07T11:44:11.576Z"
   },
   {
    "duration": 234,
    "start_time": "2023-07-07T11:44:11.799Z"
   },
   {
    "duration": 580,
    "start_time": "2023-07-07T11:44:12.037Z"
   },
   {
    "duration": 155,
    "start_time": "2023-07-07T11:44:12.618Z"
   },
   {
    "duration": 311,
    "start_time": "2023-07-07T11:44:12.775Z"
   },
   {
    "duration": 1564,
    "start_time": "2023-07-07T11:44:13.087Z"
   },
   {
    "duration": 15,
    "start_time": "2023-07-07T11:44:14.666Z"
   },
   {
    "duration": 67,
    "start_time": "2023-07-07T11:44:14.683Z"
   },
   {
    "duration": 1939,
    "start_time": "2023-07-07T11:44:14.751Z"
   },
   {
    "duration": 27,
    "start_time": "2023-07-07T11:44:16.692Z"
   },
   {
    "duration": 52028,
    "start_time": "2023-07-07T11:44:16.730Z"
   },
   {
    "duration": 4111,
    "start_time": "2023-07-07T11:45:08.768Z"
   },
   {
    "duration": 616874,
    "start_time": "2023-07-07T11:45:12.881Z"
   },
   {
    "duration": 1702,
    "start_time": "2023-07-07T12:10:18.353Z"
   },
   {
    "duration": 983,
    "start_time": "2023-07-07T12:10:20.068Z"
   },
   {
    "duration": 22,
    "start_time": "2023-07-07T12:10:21.053Z"
   },
   {
    "duration": 194,
    "start_time": "2023-07-07T12:10:21.077Z"
   },
   {
    "duration": 100,
    "start_time": "2023-07-07T12:10:21.274Z"
   },
   {
    "duration": 1093,
    "start_time": "2023-07-07T12:10:21.376Z"
   },
   {
    "duration": 131,
    "start_time": "2023-07-07T12:10:22.471Z"
   },
   {
    "duration": 143,
    "start_time": "2023-07-07T12:10:22.604Z"
   },
   {
    "duration": 10,
    "start_time": "2023-07-07T12:10:22.750Z"
   },
   {
    "duration": 35,
    "start_time": "2023-07-07T12:10:22.761Z"
   },
   {
    "duration": 91,
    "start_time": "2023-07-07T12:10:22.798Z"
   },
   {
    "duration": 37,
    "start_time": "2023-07-07T12:10:22.890Z"
   },
   {
    "duration": 129,
    "start_time": "2023-07-07T12:10:22.928Z"
   },
   {
    "duration": 12,
    "start_time": "2023-07-07T12:10:23.060Z"
   },
   {
    "duration": 118,
    "start_time": "2023-07-07T12:10:23.073Z"
   },
   {
    "duration": 28,
    "start_time": "2023-07-07T12:10:23.193Z"
   },
   {
    "duration": 152,
    "start_time": "2023-07-07T12:10:23.233Z"
   },
   {
    "duration": 8,
    "start_time": "2023-07-07T12:10:23.386Z"
   },
   {
    "duration": 35,
    "start_time": "2023-07-07T12:10:23.395Z"
   },
   {
    "duration": 181,
    "start_time": "2023-07-07T12:10:23.432Z"
   },
   {
    "duration": 209,
    "start_time": "2023-07-07T12:10:23.614Z"
   },
   {
    "duration": 511,
    "start_time": "2023-07-07T12:10:23.829Z"
   },
   {
    "duration": 150,
    "start_time": "2023-07-07T12:10:24.343Z"
   },
   {
    "duration": 274,
    "start_time": "2023-07-07T12:10:24.496Z"
   },
   {
    "duration": 1532,
    "start_time": "2023-07-07T12:10:24.771Z"
   },
   {
    "duration": 24,
    "start_time": "2023-07-07T12:10:26.308Z"
   },
   {
    "duration": 121,
    "start_time": "2023-07-07T12:10:26.337Z"
   },
   {
    "duration": 1871,
    "start_time": "2023-07-07T12:10:26.462Z"
   },
   {
    "duration": 29,
    "start_time": "2023-07-07T12:10:28.334Z"
   },
   {
    "duration": 61268,
    "start_time": "2023-07-07T12:10:28.365Z"
   },
   {
    "duration": 3786,
    "start_time": "2023-07-07T12:11:29.709Z"
   },
   {
    "duration": 588817,
    "start_time": "2023-07-07T12:11:33.496Z"
   },
   {
    "duration": 1250213,
    "start_time": "2023-07-07T12:21:22.314Z"
   },
   {
    "duration": 57698,
    "start_time": "2023-07-07T12:42:12.528Z"
   },
   {
    "duration": 188,
    "start_time": "2023-07-07T12:43:10.229Z"
   },
   {
    "duration": 1058,
    "start_time": "2023-07-07T12:43:10.423Z"
   },
   {
    "duration": 67,
    "start_time": "2023-07-07T12:43:11.483Z"
   },
   {
    "duration": 341084,
    "start_time": "2023-07-07T12:43:11.553Z"
   },
   {
    "duration": 16214,
    "start_time": "2023-07-07T12:48:52.638Z"
   },
   {
    "duration": 2131,
    "start_time": "2023-07-07T13:49:22.367Z"
   },
   {
    "duration": 931,
    "start_time": "2023-07-07T13:49:24.500Z"
   },
   {
    "duration": 25,
    "start_time": "2023-07-07T13:49:25.433Z"
   },
   {
    "duration": 167,
    "start_time": "2023-07-07T13:49:25.460Z"
   },
   {
    "duration": 194,
    "start_time": "2023-07-07T13:49:25.629Z"
   },
   {
    "duration": 1168,
    "start_time": "2023-07-07T13:49:25.824Z"
   },
   {
    "duration": 159,
    "start_time": "2023-07-07T13:49:26.994Z"
   },
   {
    "duration": 99,
    "start_time": "2023-07-07T13:49:27.154Z"
   },
   {
    "duration": 6,
    "start_time": "2023-07-07T13:49:27.257Z"
   },
   {
    "duration": 89,
    "start_time": "2023-07-07T13:49:27.264Z"
   },
   {
    "duration": 78,
    "start_time": "2023-07-07T13:49:27.355Z"
   },
   {
    "duration": 26,
    "start_time": "2023-07-07T13:49:27.438Z"
   },
   {
    "duration": 103,
    "start_time": "2023-07-07T13:49:27.466Z"
   },
   {
    "duration": 17,
    "start_time": "2023-07-07T13:49:27.572Z"
   },
   {
    "duration": 47,
    "start_time": "2023-07-07T13:49:27.591Z"
   },
   {
    "duration": 19,
    "start_time": "2023-07-07T13:49:27.639Z"
   },
   {
    "duration": 191,
    "start_time": "2023-07-07T13:49:27.660Z"
   },
   {
    "duration": 9,
    "start_time": "2023-07-07T13:49:27.854Z"
   },
   {
    "duration": 33,
    "start_time": "2023-07-07T13:49:27.864Z"
   },
   {
    "duration": 191,
    "start_time": "2023-07-07T13:49:27.898Z"
   },
   {
    "duration": 214,
    "start_time": "2023-07-07T13:49:28.090Z"
   },
   {
    "duration": 546,
    "start_time": "2023-07-07T13:49:28.309Z"
   },
   {
    "duration": 139,
    "start_time": "2023-07-07T13:49:28.859Z"
   },
   {
    "duration": 259,
    "start_time": "2023-07-07T13:49:29.000Z"
   },
   {
    "duration": 1421,
    "start_time": "2023-07-07T13:49:29.261Z"
   },
   {
    "duration": 38,
    "start_time": "2023-07-07T13:49:30.684Z"
   },
   {
    "duration": 52,
    "start_time": "2023-07-07T13:49:30.742Z"
   },
   {
    "duration": 1955,
    "start_time": "2023-07-07T13:49:30.796Z"
   },
   {
    "duration": 16,
    "start_time": "2023-07-07T13:49:32.762Z"
   },
   {
    "duration": 74254,
    "start_time": "2023-07-07T13:49:32.780Z"
   },
   {
    "duration": 3613,
    "start_time": "2023-07-07T13:50:47.049Z"
   },
   {
    "duration": 590257,
    "start_time": "2023-07-07T13:50:50.664Z"
   },
   {
    "duration": 1038587,
    "start_time": "2023-07-07T14:00:40.936Z"
   },
   {
    "duration": 62001,
    "start_time": "2023-07-07T14:17:59.524Z"
   },
   {
    "duration": 197,
    "start_time": "2023-07-07T14:19:01.528Z"
   },
   {
    "duration": 1119,
    "start_time": "2023-07-07T14:19:01.730Z"
   },
   {
    "duration": 74,
    "start_time": "2023-07-07T14:19:02.850Z"
   },
   {
    "duration": 340223,
    "start_time": "2023-07-07T14:19:02.926Z"
   },
   {
    "duration": 16221,
    "start_time": "2023-07-07T14:24:43.151Z"
   },
   {
    "duration": 1039470,
    "start_time": "2023-07-07T14:24:59.374Z"
   },
   {
    "duration": 3,
    "start_time": "2023-07-07T14:42:18.852Z"
   },
   {
    "duration": 1917,
    "start_time": "2023-07-07T14:43:41.786Z"
   },
   {
    "duration": 20,
    "start_time": "2023-07-07T14:54:37.897Z"
   },
   {
    "duration": 46,
    "start_time": "2023-07-08T20:55:54.250Z"
   },
   {
    "duration": 1632,
    "start_time": "2023-07-08T20:56:04.902Z"
   },
   {
    "duration": 924,
    "start_time": "2023-07-08T20:56:06.537Z"
   },
   {
    "duration": 18,
    "start_time": "2023-07-08T20:56:07.462Z"
   },
   {
    "duration": 116,
    "start_time": "2023-07-08T20:56:07.482Z"
   },
   {
    "duration": 82,
    "start_time": "2023-07-08T20:56:07.600Z"
   },
   {
    "duration": 966,
    "start_time": "2023-07-08T20:56:07.684Z"
   },
   {
    "duration": 101,
    "start_time": "2023-07-08T20:56:08.652Z"
   },
   {
    "duration": 68,
    "start_time": "2023-07-08T20:56:08.754Z"
   },
   {
    "duration": 5,
    "start_time": "2023-07-08T20:56:08.823Z"
   },
   {
    "duration": 61,
    "start_time": "2023-07-08T20:56:08.829Z"
   },
   {
    "duration": 76,
    "start_time": "2023-07-08T20:56:08.891Z"
   },
   {
    "duration": 18,
    "start_time": "2023-07-08T20:56:08.969Z"
   },
   {
    "duration": 69,
    "start_time": "2023-07-08T20:56:08.988Z"
   },
   {
    "duration": 11,
    "start_time": "2023-07-08T20:56:09.074Z"
   },
   {
    "duration": 49,
    "start_time": "2023-07-08T20:56:09.087Z"
   },
   {
    "duration": 10,
    "start_time": "2023-07-08T20:56:09.138Z"
   },
   {
    "duration": 93,
    "start_time": "2023-07-08T20:56:09.151Z"
   },
   {
    "duration": 9,
    "start_time": "2023-07-08T20:56:09.245Z"
   },
   {
    "duration": 26,
    "start_time": "2023-07-08T20:56:09.256Z"
   },
   {
    "duration": 145,
    "start_time": "2023-07-08T20:56:09.299Z"
   },
   {
    "duration": 170,
    "start_time": "2023-07-08T20:56:09.445Z"
   },
   {
    "duration": 473,
    "start_time": "2023-07-08T20:56:09.617Z"
   },
   {
    "duration": 144,
    "start_time": "2023-07-08T20:56:10.091Z"
   },
   {
    "duration": 307,
    "start_time": "2023-07-08T20:56:10.237Z"
   },
   {
    "duration": 1074,
    "start_time": "2023-07-08T20:56:10.546Z"
   },
   {
    "duration": 15,
    "start_time": "2023-07-08T20:56:11.621Z"
   },
   {
    "duration": 35,
    "start_time": "2023-07-08T20:56:11.637Z"
   },
   {
    "duration": 1737,
    "start_time": "2023-07-08T20:56:11.674Z"
   },
   {
    "duration": 15,
    "start_time": "2023-07-08T20:56:13.413Z"
   },
   {
    "duration": 24369,
    "start_time": "2023-07-08T20:56:13.430Z"
   },
   {
    "duration": 3202,
    "start_time": "2023-07-08T20:56:37.802Z"
   },
   {
    "duration": 1543,
    "start_time": "2023-07-09T04:41:34.323Z"
   },
   {
    "duration": 1096,
    "start_time": "2023-07-09T04:41:35.868Z"
   },
   {
    "duration": 17,
    "start_time": "2023-07-09T04:41:36.966Z"
   },
   {
    "duration": 126,
    "start_time": "2023-07-09T04:41:36.985Z"
   },
   {
    "duration": 125,
    "start_time": "2023-07-09T04:41:37.113Z"
   },
   {
    "duration": 925,
    "start_time": "2023-07-09T04:41:37.240Z"
   },
   {
    "duration": 117,
    "start_time": "2023-07-09T04:41:38.166Z"
   },
   {
    "duration": 62,
    "start_time": "2023-07-09T04:41:38.285Z"
   },
   {
    "duration": 5,
    "start_time": "2023-07-09T04:41:38.349Z"
   },
   {
    "duration": 46,
    "start_time": "2023-07-09T04:41:38.356Z"
   },
   {
    "duration": 43,
    "start_time": "2023-07-09T04:41:38.404Z"
   },
   {
    "duration": 37,
    "start_time": "2023-07-09T04:41:38.448Z"
   },
   {
    "duration": 83,
    "start_time": "2023-07-09T04:41:38.487Z"
   },
   {
    "duration": 8,
    "start_time": "2023-07-09T04:41:38.574Z"
   },
   {
    "duration": 125,
    "start_time": "2023-07-09T04:41:38.584Z"
   },
   {
    "duration": 8,
    "start_time": "2023-07-09T04:41:38.711Z"
   },
   {
    "duration": 117,
    "start_time": "2023-07-09T04:41:38.721Z"
   },
   {
    "duration": 9,
    "start_time": "2023-07-09T04:41:38.840Z"
   },
   {
    "duration": 49,
    "start_time": "2023-07-09T04:41:38.851Z"
   },
   {
    "duration": 146,
    "start_time": "2023-07-09T04:41:38.901Z"
   },
   {
    "duration": 153,
    "start_time": "2023-07-09T04:41:39.049Z"
   },
   {
    "duration": 727,
    "start_time": "2023-07-09T04:41:39.204Z"
   },
   {
    "duration": 203,
    "start_time": "2023-07-09T04:41:39.932Z"
   },
   {
    "duration": 490,
    "start_time": "2023-07-09T04:41:40.137Z"
   },
   {
    "duration": 1348,
    "start_time": "2023-07-09T04:41:40.629Z"
   },
   {
    "duration": 18,
    "start_time": "2023-07-09T04:41:41.979Z"
   },
   {
    "duration": 46,
    "start_time": "2023-07-09T04:41:41.998Z"
   },
   {
    "duration": 1738,
    "start_time": "2023-07-09T04:41:42.048Z"
   },
   {
    "duration": 15,
    "start_time": "2023-07-09T04:41:43.788Z"
   },
   {
    "duration": 22479,
    "start_time": "2023-07-09T04:41:43.805Z"
   },
   {
    "duration": 3284,
    "start_time": "2023-07-09T04:42:06.287Z"
   },
   {
    "duration": 1402,
    "start_time": "2023-07-09T04:50:34.791Z"
   },
   {
    "duration": 804,
    "start_time": "2023-07-09T04:50:36.195Z"
   },
   {
    "duration": 18,
    "start_time": "2023-07-09T04:50:37.001Z"
   },
   {
    "duration": 144,
    "start_time": "2023-07-09T04:50:37.021Z"
   },
   {
    "duration": 93,
    "start_time": "2023-07-09T04:50:37.167Z"
   },
   {
    "duration": 1071,
    "start_time": "2023-07-09T04:50:37.261Z"
   },
   {
    "duration": 119,
    "start_time": "2023-07-09T04:50:38.334Z"
   },
   {
    "duration": 77,
    "start_time": "2023-07-09T04:50:38.455Z"
   },
   {
    "duration": 5,
    "start_time": "2023-07-09T04:50:38.534Z"
   },
   {
    "duration": 49,
    "start_time": "2023-07-09T04:50:38.541Z"
   },
   {
    "duration": 48,
    "start_time": "2023-07-09T04:50:38.593Z"
   },
   {
    "duration": 38,
    "start_time": "2023-07-09T04:50:38.643Z"
   },
   {
    "duration": 87,
    "start_time": "2023-07-09T04:50:38.683Z"
   },
   {
    "duration": 7,
    "start_time": "2023-07-09T04:50:38.777Z"
   },
   {
    "duration": 37,
    "start_time": "2023-07-09T04:50:38.786Z"
   },
   {
    "duration": 7,
    "start_time": "2023-07-09T04:50:38.825Z"
   },
   {
    "duration": 121,
    "start_time": "2023-07-09T04:50:38.834Z"
   },
   {
    "duration": 19,
    "start_time": "2023-07-09T04:50:38.957Z"
   },
   {
    "duration": 39,
    "start_time": "2023-07-09T04:50:38.978Z"
   },
   {
    "duration": 160,
    "start_time": "2023-07-09T04:50:39.019Z"
   },
   {
    "duration": 173,
    "start_time": "2023-07-09T04:50:39.181Z"
   },
   {
    "duration": 771,
    "start_time": "2023-07-09T04:50:39.356Z"
   },
   {
    "duration": 206,
    "start_time": "2023-07-09T04:50:40.129Z"
   },
   {
    "duration": 106,
    "start_time": "2023-07-09T04:50:40.336Z"
   },
   {
    "duration": 0,
    "start_time": "2023-07-09T04:50:40.444Z"
   },
   {
    "duration": 0,
    "start_time": "2023-07-09T04:50:40.446Z"
   },
   {
    "duration": 0,
    "start_time": "2023-07-09T04:50:40.447Z"
   },
   {
    "duration": 0,
    "start_time": "2023-07-09T04:50:40.448Z"
   },
   {
    "duration": 0,
    "start_time": "2023-07-09T04:50:40.449Z"
   },
   {
    "duration": 0,
    "start_time": "2023-07-09T04:50:40.450Z"
   },
   {
    "duration": 0,
    "start_time": "2023-07-09T04:50:40.451Z"
   },
   {
    "duration": 0,
    "start_time": "2023-07-09T04:50:40.452Z"
   },
   {
    "duration": 0,
    "start_time": "2023-07-09T04:50:40.453Z"
   },
   {
    "duration": 0,
    "start_time": "2023-07-09T04:50:40.454Z"
   },
   {
    "duration": 0,
    "start_time": "2023-07-09T04:50:40.455Z"
   },
   {
    "duration": 0,
    "start_time": "2023-07-09T04:50:40.475Z"
   },
   {
    "duration": 0,
    "start_time": "2023-07-09T04:50:40.476Z"
   },
   {
    "duration": 0,
    "start_time": "2023-07-09T04:50:40.477Z"
   },
   {
    "duration": 0,
    "start_time": "2023-07-09T04:50:40.478Z"
   },
   {
    "duration": 0,
    "start_time": "2023-07-09T04:50:40.479Z"
   },
   {
    "duration": 0,
    "start_time": "2023-07-09T04:50:40.480Z"
   },
   {
    "duration": 0,
    "start_time": "2023-07-09T04:50:40.481Z"
   },
   {
    "duration": 1272,
    "start_time": "2023-07-09T04:51:39.808Z"
   },
   {
    "duration": 774,
    "start_time": "2023-07-09T04:51:41.082Z"
   },
   {
    "duration": 21,
    "start_time": "2023-07-09T04:51:41.857Z"
   },
   {
    "duration": 147,
    "start_time": "2023-07-09T04:51:41.880Z"
   },
   {
    "duration": 96,
    "start_time": "2023-07-09T04:51:42.029Z"
   },
   {
    "duration": 937,
    "start_time": "2023-07-09T04:51:42.126Z"
   },
   {
    "duration": 130,
    "start_time": "2023-07-09T04:51:43.064Z"
   },
   {
    "duration": 90,
    "start_time": "2023-07-09T04:51:43.196Z"
   },
   {
    "duration": 6,
    "start_time": "2023-07-09T04:51:43.287Z"
   },
   {
    "duration": 39,
    "start_time": "2023-07-09T04:51:43.295Z"
   },
   {
    "duration": 68,
    "start_time": "2023-07-09T04:51:43.336Z"
   },
   {
    "duration": 23,
    "start_time": "2023-07-09T04:51:43.405Z"
   },
   {
    "duration": 91,
    "start_time": "2023-07-09T04:51:43.429Z"
   },
   {
    "duration": 6,
    "start_time": "2023-07-09T04:51:43.521Z"
   },
   {
    "duration": 130,
    "start_time": "2023-07-09T04:51:43.528Z"
   },
   {
    "duration": 8,
    "start_time": "2023-07-09T04:51:43.660Z"
   },
   {
    "duration": 96,
    "start_time": "2023-07-09T04:51:43.669Z"
   },
   {
    "duration": 8,
    "start_time": "2023-07-09T04:51:43.775Z"
   },
   {
    "duration": 29,
    "start_time": "2023-07-09T04:51:43.786Z"
   },
   {
    "duration": 176,
    "start_time": "2023-07-09T04:51:43.817Z"
   },
   {
    "duration": 166,
    "start_time": "2023-07-09T04:51:43.995Z"
   },
   {
    "duration": 689,
    "start_time": "2023-07-09T04:51:44.163Z"
   },
   {
    "duration": 204,
    "start_time": "2023-07-09T04:51:44.854Z"
   },
   {
    "duration": 139,
    "start_time": "2023-07-09T04:51:45.060Z"
   },
   {
    "duration": 0,
    "start_time": "2023-07-09T04:51:45.202Z"
   },
   {
    "duration": 0,
    "start_time": "2023-07-09T04:51:45.203Z"
   },
   {
    "duration": 0,
    "start_time": "2023-07-09T04:51:45.204Z"
   },
   {
    "duration": 0,
    "start_time": "2023-07-09T04:51:45.205Z"
   },
   {
    "duration": 0,
    "start_time": "2023-07-09T04:51:45.206Z"
   },
   {
    "duration": 0,
    "start_time": "2023-07-09T04:51:45.208Z"
   },
   {
    "duration": 0,
    "start_time": "2023-07-09T04:51:45.208Z"
   },
   {
    "duration": 0,
    "start_time": "2023-07-09T04:51:45.210Z"
   },
   {
    "duration": 0,
    "start_time": "2023-07-09T04:51:45.211Z"
   },
   {
    "duration": 0,
    "start_time": "2023-07-09T04:51:45.212Z"
   },
   {
    "duration": 0,
    "start_time": "2023-07-09T04:51:45.213Z"
   },
   {
    "duration": 0,
    "start_time": "2023-07-09T04:51:45.214Z"
   },
   {
    "duration": 0,
    "start_time": "2023-07-09T04:51:45.215Z"
   },
   {
    "duration": 0,
    "start_time": "2023-07-09T04:51:45.216Z"
   },
   {
    "duration": 0,
    "start_time": "2023-07-09T04:51:45.218Z"
   },
   {
    "duration": 0,
    "start_time": "2023-07-09T04:51:45.219Z"
   },
   {
    "duration": 0,
    "start_time": "2023-07-09T04:51:45.220Z"
   },
   {
    "duration": 0,
    "start_time": "2023-07-09T04:51:45.222Z"
   },
   {
    "duration": 1647,
    "start_time": "2023-07-09T04:57:10.546Z"
   },
   {
    "duration": 815,
    "start_time": "2023-07-09T04:57:12.196Z"
   },
   {
    "duration": 27,
    "start_time": "2023-07-09T04:57:13.013Z"
   },
   {
    "duration": 168,
    "start_time": "2023-07-09T04:57:13.043Z"
   },
   {
    "duration": 129,
    "start_time": "2023-07-09T04:57:13.214Z"
   },
   {
    "duration": 1023,
    "start_time": "2023-07-09T04:57:13.345Z"
   },
   {
    "duration": 121,
    "start_time": "2023-07-09T04:57:14.375Z"
   },
   {
    "duration": 87,
    "start_time": "2023-07-09T04:57:14.497Z"
   },
   {
    "duration": 7,
    "start_time": "2023-07-09T04:57:14.586Z"
   },
   {
    "duration": 54,
    "start_time": "2023-07-09T04:57:14.596Z"
   },
   {
    "duration": 49,
    "start_time": "2023-07-09T04:57:14.655Z"
   },
   {
    "duration": 25,
    "start_time": "2023-07-09T04:57:14.706Z"
   },
   {
    "duration": 145,
    "start_time": "2023-07-09T04:57:14.732Z"
   },
   {
    "duration": 9,
    "start_time": "2023-07-09T04:57:14.879Z"
   },
   {
    "duration": 134,
    "start_time": "2023-07-09T04:57:14.890Z"
   },
   {
    "duration": 28,
    "start_time": "2023-07-09T04:57:15.026Z"
   },
   {
    "duration": 147,
    "start_time": "2023-07-09T04:57:15.056Z"
   },
   {
    "duration": 11,
    "start_time": "2023-07-09T04:57:15.205Z"
   },
   {
    "duration": 67,
    "start_time": "2023-07-09T04:57:15.218Z"
   },
   {
    "duration": 165,
    "start_time": "2023-07-09T04:57:15.287Z"
   },
   {
    "duration": 164,
    "start_time": "2023-07-09T04:57:15.454Z"
   },
   {
    "duration": 667,
    "start_time": "2023-07-09T04:57:15.620Z"
   },
   {
    "duration": 216,
    "start_time": "2023-07-09T04:57:16.288Z"
   },
   {
    "duration": 412,
    "start_time": "2023-07-09T04:57:16.506Z"
   },
   {
    "duration": 1396,
    "start_time": "2023-07-09T04:57:16.920Z"
   },
   {
    "duration": 20,
    "start_time": "2023-07-09T04:57:18.318Z"
   },
   {
    "duration": 63,
    "start_time": "2023-07-09T04:57:18.339Z"
   },
   {
    "duration": 1780,
    "start_time": "2023-07-09T04:57:18.406Z"
   },
   {
    "duration": 15,
    "start_time": "2023-07-09T04:57:20.188Z"
   },
   {
    "duration": 26174,
    "start_time": "2023-07-09T04:57:20.205Z"
   },
   {
    "duration": 3316,
    "start_time": "2023-07-09T04:57:46.381Z"
   },
   {
    "duration": 1324,
    "start_time": "2023-07-09T04:59:43.368Z"
   },
   {
    "duration": 762,
    "start_time": "2023-07-09T04:59:44.694Z"
   },
   {
    "duration": 24,
    "start_time": "2023-07-09T04:59:45.458Z"
   },
   {
    "duration": 124,
    "start_time": "2023-07-09T04:59:45.484Z"
   },
   {
    "duration": 125,
    "start_time": "2023-07-09T04:59:45.611Z"
   },
   {
    "duration": 1077,
    "start_time": "2023-07-09T04:59:45.737Z"
   },
   {
    "duration": 153,
    "start_time": "2023-07-09T04:59:46.816Z"
   },
   {
    "duration": 64,
    "start_time": "2023-07-09T04:59:46.975Z"
   },
   {
    "duration": 5,
    "start_time": "2023-07-09T04:59:47.041Z"
   },
   {
    "duration": 51,
    "start_time": "2023-07-09T04:59:47.047Z"
   },
   {
    "duration": 44,
    "start_time": "2023-07-09T04:59:47.100Z"
   },
   {
    "duration": 34,
    "start_time": "2023-07-09T04:59:47.145Z"
   },
   {
    "duration": 96,
    "start_time": "2023-07-09T04:59:47.181Z"
   },
   {
    "duration": 6,
    "start_time": "2023-07-09T04:59:47.280Z"
   },
   {
    "duration": 38,
    "start_time": "2023-07-09T04:59:47.288Z"
   },
   {
    "duration": 9,
    "start_time": "2023-07-09T04:59:47.328Z"
   },
   {
    "duration": 126,
    "start_time": "2023-07-09T04:59:47.338Z"
   },
   {
    "duration": 13,
    "start_time": "2023-07-09T04:59:47.465Z"
   },
   {
    "duration": 35,
    "start_time": "2023-07-09T04:59:47.479Z"
   },
   {
    "duration": 153,
    "start_time": "2023-07-09T04:59:47.515Z"
   },
   {
    "duration": 163,
    "start_time": "2023-07-09T04:59:47.674Z"
   },
   {
    "duration": 661,
    "start_time": "2023-07-09T04:59:47.838Z"
   },
   {
    "duration": 200,
    "start_time": "2023-07-09T04:59:48.501Z"
   },
   {
    "duration": 395,
    "start_time": "2023-07-09T04:59:48.702Z"
   },
   {
    "duration": 1359,
    "start_time": "2023-07-09T04:59:49.099Z"
   },
   {
    "duration": 33,
    "start_time": "2023-07-09T04:59:50.459Z"
   },
   {
    "duration": 69,
    "start_time": "2023-07-09T04:59:50.493Z"
   },
   {
    "duration": 1778,
    "start_time": "2023-07-09T04:59:50.564Z"
   },
   {
    "duration": 16,
    "start_time": "2023-07-09T04:59:52.344Z"
   },
   {
    "duration": 25118,
    "start_time": "2023-07-09T04:59:52.362Z"
   },
   {
    "duration": 2617,
    "start_time": "2023-07-09T05:00:17.482Z"
   },
   {
    "duration": 1446,
    "start_time": "2023-07-09T05:03:34.935Z"
   },
   {
    "duration": 804,
    "start_time": "2023-07-09T05:03:36.383Z"
   },
   {
    "duration": 18,
    "start_time": "2023-07-09T05:03:37.189Z"
   },
   {
    "duration": 185,
    "start_time": "2023-07-09T05:03:37.209Z"
   },
   {
    "duration": 105,
    "start_time": "2023-07-09T05:03:37.396Z"
   },
   {
    "duration": 1049,
    "start_time": "2023-07-09T05:03:37.503Z"
   },
   {
    "duration": 129,
    "start_time": "2023-07-09T05:03:38.554Z"
   },
   {
    "duration": 66,
    "start_time": "2023-07-09T05:03:38.685Z"
   },
   {
    "duration": 6,
    "start_time": "2023-07-09T05:03:38.753Z"
   },
   {
    "duration": 30,
    "start_time": "2023-07-09T05:03:38.776Z"
   },
   {
    "duration": 46,
    "start_time": "2023-07-09T05:03:38.808Z"
   },
   {
    "duration": 40,
    "start_time": "2023-07-09T05:03:38.856Z"
   },
   {
    "duration": 85,
    "start_time": "2023-07-09T05:03:38.898Z"
   },
   {
    "duration": 6,
    "start_time": "2023-07-09T05:03:38.986Z"
   },
   {
    "duration": 39,
    "start_time": "2023-07-09T05:03:38.995Z"
   },
   {
    "duration": 10,
    "start_time": "2023-07-09T05:03:39.036Z"
   },
   {
    "duration": 100,
    "start_time": "2023-07-09T05:03:39.076Z"
   },
   {
    "duration": 8,
    "start_time": "2023-07-09T05:03:39.178Z"
   },
   {
    "duration": 38,
    "start_time": "2023-07-09T05:03:39.188Z"
   },
   {
    "duration": 152,
    "start_time": "2023-07-09T05:03:39.228Z"
   },
   {
    "duration": 162,
    "start_time": "2023-07-09T05:03:39.382Z"
   },
   {
    "duration": 710,
    "start_time": "2023-07-09T05:03:39.545Z"
   },
   {
    "duration": 207,
    "start_time": "2023-07-09T05:03:40.257Z"
   },
   {
    "duration": 383,
    "start_time": "2023-07-09T05:03:40.465Z"
   },
   {
    "duration": 1427,
    "start_time": "2023-07-09T05:03:40.850Z"
   },
   {
    "duration": 23,
    "start_time": "2023-07-09T05:03:42.278Z"
   },
   {
    "duration": 85,
    "start_time": "2023-07-09T05:03:42.302Z"
   },
   {
    "duration": 1807,
    "start_time": "2023-07-09T05:03:42.389Z"
   },
   {
    "duration": 15,
    "start_time": "2023-07-09T05:03:44.198Z"
   },
   {
    "duration": 39466,
    "start_time": "2023-07-09T05:03:44.215Z"
   },
   {
    "duration": 2580,
    "start_time": "2023-07-09T05:04:23.687Z"
   },
   {
    "duration": 406418,
    "start_time": "2023-07-09T05:04:26.268Z"
   },
   {
    "duration": 1495,
    "start_time": "2023-07-09T05:12:12.363Z"
   },
   {
    "duration": 784,
    "start_time": "2023-07-09T05:12:13.860Z"
   },
   {
    "duration": 18,
    "start_time": "2023-07-09T05:12:14.645Z"
   },
   {
    "duration": 150,
    "start_time": "2023-07-09T05:12:14.674Z"
   },
   {
    "duration": 107,
    "start_time": "2023-07-09T05:12:14.826Z"
   },
   {
    "duration": 1033,
    "start_time": "2023-07-09T05:12:14.934Z"
   },
   {
    "duration": 122,
    "start_time": "2023-07-09T05:12:15.969Z"
   },
   {
    "duration": 109,
    "start_time": "2023-07-09T05:12:16.093Z"
   },
   {
    "duration": 5,
    "start_time": "2023-07-09T05:12:16.204Z"
   },
   {
    "duration": 36,
    "start_time": "2023-07-09T05:12:16.212Z"
   },
   {
    "duration": 64,
    "start_time": "2023-07-09T05:12:16.250Z"
   },
   {
    "duration": 33,
    "start_time": "2023-07-09T05:12:16.317Z"
   },
   {
    "duration": 172,
    "start_time": "2023-07-09T05:12:16.353Z"
   },
   {
    "duration": 29,
    "start_time": "2023-07-09T05:12:16.527Z"
   },
   {
    "duration": 160,
    "start_time": "2023-07-09T05:12:16.557Z"
   },
   {
    "duration": 8,
    "start_time": "2023-07-09T05:12:16.719Z"
   },
   {
    "duration": 105,
    "start_time": "2023-07-09T05:12:16.729Z"
   },
   {
    "duration": 8,
    "start_time": "2023-07-09T05:12:16.836Z"
   },
   {
    "duration": 43,
    "start_time": "2023-07-09T05:12:16.846Z"
   },
   {
    "duration": 152,
    "start_time": "2023-07-09T05:12:16.891Z"
   },
   {
    "duration": 162,
    "start_time": "2023-07-09T05:12:17.045Z"
   },
   {
    "duration": 695,
    "start_time": "2023-07-09T05:12:17.208Z"
   },
   {
    "duration": 213,
    "start_time": "2023-07-09T05:12:17.905Z"
   },
   {
    "duration": 393,
    "start_time": "2023-07-09T05:12:18.120Z"
   },
   {
    "duration": 1382,
    "start_time": "2023-07-09T05:12:18.514Z"
   },
   {
    "duration": 23,
    "start_time": "2023-07-09T05:12:19.897Z"
   },
   {
    "duration": 93,
    "start_time": "2023-07-09T05:12:19.923Z"
   },
   {
    "duration": 1940,
    "start_time": "2023-07-09T05:12:20.020Z"
   },
   {
    "duration": 20,
    "start_time": "2023-07-09T05:12:21.963Z"
   },
   {
    "duration": 29599,
    "start_time": "2023-07-09T05:12:21.985Z"
   },
   {
    "duration": 2617,
    "start_time": "2023-07-09T05:12:51.587Z"
   },
   {
    "duration": 405103,
    "start_time": "2023-07-09T05:12:54.206Z"
   },
   {
    "duration": 336284,
    "start_time": "2023-07-09T05:19:39.311Z"
   },
   {
    "duration": 21288,
    "start_time": "2023-07-09T05:25:15.597Z"
   },
   {
    "duration": 192,
    "start_time": "2023-07-09T05:25:36.887Z"
   },
   {
    "duration": 808,
    "start_time": "2023-07-09T05:25:37.081Z"
   },
   {
    "duration": 53,
    "start_time": "2023-07-09T05:25:37.891Z"
   },
   {
    "duration": 246011,
    "start_time": "2023-07-09T05:25:37.946Z"
   },
   {
    "duration": 12864,
    "start_time": "2023-07-09T05:29:43.958Z"
   },
   {
    "duration": 334068,
    "start_time": "2023-07-09T05:29:56.824Z"
   },
   {
    "duration": 1714,
    "start_time": "2023-07-09T05:35:30.894Z"
   },
   {
    "duration": 11,
    "start_time": "2023-07-09T05:35:32.610Z"
   },
   {
    "duration": 1401,
    "start_time": "2023-07-09T05:42:39.216Z"
   },
   {
    "duration": 805,
    "start_time": "2023-07-09T05:42:40.619Z"
   },
   {
    "duration": 17,
    "start_time": "2023-07-09T05:42:41.426Z"
   },
   {
    "duration": 138,
    "start_time": "2023-07-09T05:42:41.445Z"
   },
   {
    "duration": 107,
    "start_time": "2023-07-09T05:42:41.585Z"
   },
   {
    "duration": 996,
    "start_time": "2023-07-09T05:42:41.693Z"
   },
   {
    "duration": 127,
    "start_time": "2023-07-09T05:42:42.691Z"
   },
   {
    "duration": 87,
    "start_time": "2023-07-09T05:42:42.819Z"
   },
   {
    "duration": 6,
    "start_time": "2023-07-09T05:42:42.907Z"
   },
   {
    "duration": 30,
    "start_time": "2023-07-09T05:42:42.915Z"
   },
   {
    "duration": 61,
    "start_time": "2023-07-09T05:42:42.946Z"
   },
   {
    "duration": 23,
    "start_time": "2023-07-09T05:42:43.009Z"
   },
   {
    "duration": 117,
    "start_time": "2023-07-09T05:42:43.035Z"
   },
   {
    "duration": 6,
    "start_time": "2023-07-09T05:42:43.154Z"
   },
   {
    "duration": 139,
    "start_time": "2023-07-09T05:42:43.162Z"
   },
   {
    "duration": 11,
    "start_time": "2023-07-09T05:42:43.303Z"
   },
   {
    "duration": 105,
    "start_time": "2023-07-09T05:42:43.315Z"
   },
   {
    "duration": 9,
    "start_time": "2023-07-09T05:42:43.421Z"
   },
   {
    "duration": 46,
    "start_time": "2023-07-09T05:42:43.431Z"
   },
   {
    "duration": 149,
    "start_time": "2023-07-09T05:42:43.479Z"
   },
   {
    "duration": 154,
    "start_time": "2023-07-09T05:42:43.630Z"
   },
   {
    "duration": 657,
    "start_time": "2023-07-09T05:42:43.786Z"
   },
   {
    "duration": 200,
    "start_time": "2023-07-09T05:42:44.445Z"
   },
   {
    "duration": 419,
    "start_time": "2023-07-09T05:42:44.647Z"
   },
   {
    "duration": 20,
    "start_time": "2023-07-09T05:42:45.068Z"
   },
   {
    "duration": 114,
    "start_time": "2023-07-09T05:42:45.091Z"
   },
   {
    "duration": 57,
    "start_time": "2023-07-09T05:42:45.207Z"
   },
   {
    "duration": 1518,
    "start_time": "2023-07-09T05:42:45.274Z"
   },
   {
    "duration": 2022,
    "start_time": "2023-07-09T05:42:46.794Z"
   },
   {
    "duration": 0,
    "start_time": "2023-07-09T05:42:48.818Z"
   },
   {
    "duration": 0,
    "start_time": "2023-07-09T05:42:48.820Z"
   },
   {
    "duration": 0,
    "start_time": "2023-07-09T05:42:48.822Z"
   },
   {
    "duration": 0,
    "start_time": "2023-07-09T05:42:48.823Z"
   },
   {
    "duration": 0,
    "start_time": "2023-07-09T05:42:48.825Z"
   },
   {
    "duration": 0,
    "start_time": "2023-07-09T05:42:48.827Z"
   },
   {
    "duration": 0,
    "start_time": "2023-07-09T05:42:48.828Z"
   },
   {
    "duration": 0,
    "start_time": "2023-07-09T05:42:48.830Z"
   },
   {
    "duration": 0,
    "start_time": "2023-07-09T05:42:48.831Z"
   },
   {
    "duration": 0,
    "start_time": "2023-07-09T05:42:48.832Z"
   },
   {
    "duration": 0,
    "start_time": "2023-07-09T05:42:48.834Z"
   },
   {
    "duration": 0,
    "start_time": "2023-07-09T05:42:48.835Z"
   },
   {
    "duration": 0,
    "start_time": "2023-07-09T05:42:48.836Z"
   },
   {
    "duration": 0,
    "start_time": "2023-07-09T05:42:48.837Z"
   },
   {
    "duration": 1433,
    "start_time": "2023-07-09T05:43:47.103Z"
   },
   {
    "duration": 738,
    "start_time": "2023-07-09T05:43:48.538Z"
   },
   {
    "duration": 16,
    "start_time": "2023-07-09T05:43:49.278Z"
   },
   {
    "duration": 138,
    "start_time": "2023-07-09T05:43:49.296Z"
   },
   {
    "duration": 95,
    "start_time": "2023-07-09T05:43:49.436Z"
   },
   {
    "duration": 1047,
    "start_time": "2023-07-09T05:43:49.532Z"
   },
   {
    "duration": 126,
    "start_time": "2023-07-09T05:43:50.580Z"
   },
   {
    "duration": 72,
    "start_time": "2023-07-09T05:43:50.708Z"
   },
   {
    "duration": 5,
    "start_time": "2023-07-09T05:43:50.782Z"
   },
   {
    "duration": 43,
    "start_time": "2023-07-09T05:43:50.788Z"
   },
   {
    "duration": 47,
    "start_time": "2023-07-09T05:43:50.833Z"
   },
   {
    "duration": 24,
    "start_time": "2023-07-09T05:43:50.881Z"
   },
   {
    "duration": 88,
    "start_time": "2023-07-09T05:43:50.906Z"
   },
   {
    "duration": 7,
    "start_time": "2023-07-09T05:43:50.997Z"
   },
   {
    "duration": 52,
    "start_time": "2023-07-09T05:43:51.005Z"
   },
   {
    "duration": 20,
    "start_time": "2023-07-09T05:43:51.059Z"
   },
   {
    "duration": 97,
    "start_time": "2023-07-09T05:43:51.080Z"
   },
   {
    "duration": 7,
    "start_time": "2023-07-09T05:43:51.179Z"
   },
   {
    "duration": 28,
    "start_time": "2023-07-09T05:43:51.188Z"
   },
   {
    "duration": 157,
    "start_time": "2023-07-09T05:43:51.218Z"
   },
   {
    "duration": 155,
    "start_time": "2023-07-09T05:43:51.377Z"
   },
   {
    "duration": 704,
    "start_time": "2023-07-09T05:43:51.534Z"
   },
   {
    "duration": 193,
    "start_time": "2023-07-09T05:43:52.240Z"
   },
   {
    "duration": 382,
    "start_time": "2023-07-09T05:43:52.435Z"
   },
   {
    "duration": 16,
    "start_time": "2023-07-09T05:43:52.819Z"
   },
   {
    "duration": 110,
    "start_time": "2023-07-09T05:43:52.836Z"
   },
   {
    "duration": 54,
    "start_time": "2023-07-09T05:43:52.947Z"
   },
   {
    "duration": 107,
    "start_time": "2023-07-09T05:43:53.002Z"
   },
   {
    "duration": 0,
    "start_time": "2023-07-09T05:43:53.111Z"
   },
   {
    "duration": 0,
    "start_time": "2023-07-09T05:43:53.112Z"
   },
   {
    "duration": 0,
    "start_time": "2023-07-09T05:43:53.113Z"
   },
   {
    "duration": 0,
    "start_time": "2023-07-09T05:43:53.114Z"
   },
   {
    "duration": 0,
    "start_time": "2023-07-09T05:43:53.114Z"
   },
   {
    "duration": 1,
    "start_time": "2023-07-09T05:43:53.115Z"
   },
   {
    "duration": 0,
    "start_time": "2023-07-09T05:43:53.117Z"
   },
   {
    "duration": 0,
    "start_time": "2023-07-09T05:43:53.117Z"
   },
   {
    "duration": 0,
    "start_time": "2023-07-09T05:43:53.118Z"
   },
   {
    "duration": 0,
    "start_time": "2023-07-09T05:43:53.119Z"
   },
   {
    "duration": 1,
    "start_time": "2023-07-09T05:43:53.120Z"
   },
   {
    "duration": 0,
    "start_time": "2023-07-09T05:43:53.122Z"
   },
   {
    "duration": 0,
    "start_time": "2023-07-09T05:43:53.123Z"
   },
   {
    "duration": 0,
    "start_time": "2023-07-09T05:43:53.124Z"
   },
   {
    "duration": 0,
    "start_time": "2023-07-09T05:43:53.124Z"
   },
   {
    "duration": 0,
    "start_time": "2023-07-09T05:43:53.125Z"
   },
   {
    "duration": 10,
    "start_time": "2023-07-09T05:44:11.770Z"
   },
   {
    "duration": 10,
    "start_time": "2023-07-09T05:44:30.296Z"
   },
   {
    "duration": 21,
    "start_time": "2023-07-09T05:44:59.631Z"
   },
   {
    "duration": 348,
    "start_time": "2023-07-09T05:47:41.785Z"
   },
   {
    "duration": 382,
    "start_time": "2023-07-09T05:47:52.520Z"
   },
   {
    "duration": 1569,
    "start_time": "2023-07-09T05:54:58.620Z"
   },
   {
    "duration": 0,
    "start_time": "2023-07-09T05:55:00.193Z"
   },
   {
    "duration": 0,
    "start_time": "2023-07-09T05:55:00.194Z"
   },
   {
    "duration": 0,
    "start_time": "2023-07-09T05:55:00.195Z"
   },
   {
    "duration": 0,
    "start_time": "2023-07-09T05:55:00.196Z"
   },
   {
    "duration": 0,
    "start_time": "2023-07-09T05:55:00.197Z"
   },
   {
    "duration": 0,
    "start_time": "2023-07-09T05:55:00.198Z"
   },
   {
    "duration": 0,
    "start_time": "2023-07-09T05:55:00.200Z"
   },
   {
    "duration": 0,
    "start_time": "2023-07-09T05:55:00.201Z"
   },
   {
    "duration": 0,
    "start_time": "2023-07-09T05:55:00.202Z"
   },
   {
    "duration": 0,
    "start_time": "2023-07-09T05:55:00.203Z"
   },
   {
    "duration": 0,
    "start_time": "2023-07-09T05:55:00.204Z"
   },
   {
    "duration": 0,
    "start_time": "2023-07-09T05:55:00.205Z"
   },
   {
    "duration": 0,
    "start_time": "2023-07-09T05:55:00.207Z"
   },
   {
    "duration": 0,
    "start_time": "2023-07-09T05:55:00.208Z"
   },
   {
    "duration": 0,
    "start_time": "2023-07-09T05:55:00.209Z"
   },
   {
    "duration": 0,
    "start_time": "2023-07-09T05:55:00.210Z"
   },
   {
    "duration": 0,
    "start_time": "2023-07-09T05:55:00.211Z"
   },
   {
    "duration": 0,
    "start_time": "2023-07-09T05:55:00.212Z"
   },
   {
    "duration": 0,
    "start_time": "2023-07-09T05:55:00.213Z"
   },
   {
    "duration": 0,
    "start_time": "2023-07-09T05:55:00.214Z"
   },
   {
    "duration": 0,
    "start_time": "2023-07-09T05:55:00.216Z"
   },
   {
    "duration": 0,
    "start_time": "2023-07-09T05:55:00.216Z"
   },
   {
    "duration": 0,
    "start_time": "2023-07-09T05:55:00.218Z"
   },
   {
    "duration": 0,
    "start_time": "2023-07-09T05:55:00.219Z"
   },
   {
    "duration": 0,
    "start_time": "2023-07-09T05:55:00.220Z"
   },
   {
    "duration": 0,
    "start_time": "2023-07-09T05:55:00.221Z"
   },
   {
    "duration": 0,
    "start_time": "2023-07-09T05:55:00.222Z"
   },
   {
    "duration": 0,
    "start_time": "2023-07-09T05:55:00.223Z"
   },
   {
    "duration": 0,
    "start_time": "2023-07-09T05:55:00.225Z"
   },
   {
    "duration": 0,
    "start_time": "2023-07-09T05:55:00.275Z"
   },
   {
    "duration": 0,
    "start_time": "2023-07-09T05:55:00.276Z"
   },
   {
    "duration": 0,
    "start_time": "2023-07-09T05:55:00.278Z"
   },
   {
    "duration": 0,
    "start_time": "2023-07-09T05:55:00.279Z"
   },
   {
    "duration": 0,
    "start_time": "2023-07-09T05:55:00.281Z"
   },
   {
    "duration": 0,
    "start_time": "2023-07-09T05:55:00.283Z"
   },
   {
    "duration": 0,
    "start_time": "2023-07-09T05:55:00.284Z"
   },
   {
    "duration": 0,
    "start_time": "2023-07-09T05:55:00.285Z"
   },
   {
    "duration": 1,
    "start_time": "2023-07-09T05:55:00.286Z"
   },
   {
    "duration": 0,
    "start_time": "2023-07-09T05:55:00.288Z"
   },
   {
    "duration": 0,
    "start_time": "2023-07-09T05:55:00.289Z"
   },
   {
    "duration": 0,
    "start_time": "2023-07-09T05:55:00.290Z"
   },
   {
    "duration": 1496,
    "start_time": "2023-07-09T05:55:30.380Z"
   },
   {
    "duration": 1,
    "start_time": "2023-07-09T05:55:31.880Z"
   },
   {
    "duration": 0,
    "start_time": "2023-07-09T05:55:31.881Z"
   },
   {
    "duration": 0,
    "start_time": "2023-07-09T05:55:31.883Z"
   },
   {
    "duration": 0,
    "start_time": "2023-07-09T05:55:31.884Z"
   },
   {
    "duration": 0,
    "start_time": "2023-07-09T05:55:31.885Z"
   },
   {
    "duration": 0,
    "start_time": "2023-07-09T05:55:31.887Z"
   },
   {
    "duration": 0,
    "start_time": "2023-07-09T05:55:31.888Z"
   },
   {
    "duration": 0,
    "start_time": "2023-07-09T05:55:31.889Z"
   },
   {
    "duration": 0,
    "start_time": "2023-07-09T05:55:31.890Z"
   },
   {
    "duration": 0,
    "start_time": "2023-07-09T05:55:31.891Z"
   },
   {
    "duration": 0,
    "start_time": "2023-07-09T05:55:31.892Z"
   },
   {
    "duration": 0,
    "start_time": "2023-07-09T05:55:31.893Z"
   },
   {
    "duration": 0,
    "start_time": "2023-07-09T05:55:31.895Z"
   },
   {
    "duration": 0,
    "start_time": "2023-07-09T05:55:31.896Z"
   },
   {
    "duration": 0,
    "start_time": "2023-07-09T05:55:31.897Z"
   },
   {
    "duration": 0,
    "start_time": "2023-07-09T05:55:31.898Z"
   },
   {
    "duration": 0,
    "start_time": "2023-07-09T05:55:31.899Z"
   },
   {
    "duration": 0,
    "start_time": "2023-07-09T05:55:31.901Z"
   },
   {
    "duration": 0,
    "start_time": "2023-07-09T05:55:31.902Z"
   },
   {
    "duration": 0,
    "start_time": "2023-07-09T05:55:31.904Z"
   },
   {
    "duration": 0,
    "start_time": "2023-07-09T05:55:31.905Z"
   },
   {
    "duration": 0,
    "start_time": "2023-07-09T05:55:31.906Z"
   },
   {
    "duration": 0,
    "start_time": "2023-07-09T05:55:31.908Z"
   },
   {
    "duration": 0,
    "start_time": "2023-07-09T05:55:31.909Z"
   },
   {
    "duration": 0,
    "start_time": "2023-07-09T05:55:31.911Z"
   },
   {
    "duration": 0,
    "start_time": "2023-07-09T05:55:31.913Z"
   },
   {
    "duration": 0,
    "start_time": "2023-07-09T05:55:31.914Z"
   },
   {
    "duration": 0,
    "start_time": "2023-07-09T05:55:31.974Z"
   },
   {
    "duration": 0,
    "start_time": "2023-07-09T05:55:31.977Z"
   },
   {
    "duration": 0,
    "start_time": "2023-07-09T05:55:31.978Z"
   },
   {
    "duration": 0,
    "start_time": "2023-07-09T05:55:31.980Z"
   },
   {
    "duration": 0,
    "start_time": "2023-07-09T05:55:31.981Z"
   },
   {
    "duration": 0,
    "start_time": "2023-07-09T05:55:31.983Z"
   },
   {
    "duration": 0,
    "start_time": "2023-07-09T05:55:31.984Z"
   },
   {
    "duration": 0,
    "start_time": "2023-07-09T05:55:31.986Z"
   },
   {
    "duration": 0,
    "start_time": "2023-07-09T05:55:31.987Z"
   },
   {
    "duration": 0,
    "start_time": "2023-07-09T05:55:31.989Z"
   },
   {
    "duration": 0,
    "start_time": "2023-07-09T05:55:31.990Z"
   },
   {
    "duration": 0,
    "start_time": "2023-07-09T05:55:31.991Z"
   },
   {
    "duration": 0,
    "start_time": "2023-07-09T05:55:31.992Z"
   },
   {
    "duration": 0,
    "start_time": "2023-07-09T05:55:31.993Z"
   },
   {
    "duration": 1806,
    "start_time": "2023-07-09T05:58:06.036Z"
   },
   {
    "duration": 0,
    "start_time": "2023-07-09T05:58:07.845Z"
   },
   {
    "duration": 0,
    "start_time": "2023-07-09T05:58:07.847Z"
   },
   {
    "duration": 0,
    "start_time": "2023-07-09T05:58:07.848Z"
   },
   {
    "duration": 0,
    "start_time": "2023-07-09T05:58:07.849Z"
   },
   {
    "duration": 0,
    "start_time": "2023-07-09T05:58:07.850Z"
   },
   {
    "duration": 0,
    "start_time": "2023-07-09T05:58:07.850Z"
   },
   {
    "duration": 0,
    "start_time": "2023-07-09T05:58:07.851Z"
   },
   {
    "duration": 0,
    "start_time": "2023-07-09T05:58:07.852Z"
   },
   {
    "duration": 0,
    "start_time": "2023-07-09T05:58:07.875Z"
   },
   {
    "duration": 0,
    "start_time": "2023-07-09T05:58:07.876Z"
   },
   {
    "duration": 0,
    "start_time": "2023-07-09T05:58:07.877Z"
   },
   {
    "duration": 0,
    "start_time": "2023-07-09T05:58:07.878Z"
   },
   {
    "duration": 0,
    "start_time": "2023-07-09T05:58:07.879Z"
   },
   {
    "duration": 0,
    "start_time": "2023-07-09T05:58:07.880Z"
   },
   {
    "duration": 0,
    "start_time": "2023-07-09T05:58:07.881Z"
   },
   {
    "duration": 0,
    "start_time": "2023-07-09T05:58:07.882Z"
   },
   {
    "duration": 0,
    "start_time": "2023-07-09T05:58:07.883Z"
   },
   {
    "duration": 0,
    "start_time": "2023-07-09T05:58:07.884Z"
   },
   {
    "duration": 0,
    "start_time": "2023-07-09T05:58:07.885Z"
   },
   {
    "duration": 0,
    "start_time": "2023-07-09T05:58:07.885Z"
   },
   {
    "duration": 0,
    "start_time": "2023-07-09T05:58:07.887Z"
   },
   {
    "duration": 0,
    "start_time": "2023-07-09T05:58:07.887Z"
   },
   {
    "duration": 0,
    "start_time": "2023-07-09T05:58:07.889Z"
   },
   {
    "duration": 0,
    "start_time": "2023-07-09T05:58:07.889Z"
   },
   {
    "duration": 0,
    "start_time": "2023-07-09T05:58:07.890Z"
   },
   {
    "duration": 0,
    "start_time": "2023-07-09T05:58:07.891Z"
   },
   {
    "duration": 0,
    "start_time": "2023-07-09T05:58:07.892Z"
   },
   {
    "duration": 0,
    "start_time": "2023-07-09T05:58:07.893Z"
   },
   {
    "duration": 0,
    "start_time": "2023-07-09T05:58:07.894Z"
   },
   {
    "duration": 0,
    "start_time": "2023-07-09T05:58:07.896Z"
   },
   {
    "duration": 0,
    "start_time": "2023-07-09T05:58:07.896Z"
   },
   {
    "duration": 0,
    "start_time": "2023-07-09T05:58:07.897Z"
   },
   {
    "duration": 0,
    "start_time": "2023-07-09T05:58:07.898Z"
   },
   {
    "duration": 0,
    "start_time": "2023-07-09T05:58:07.899Z"
   },
   {
    "duration": 0,
    "start_time": "2023-07-09T05:58:07.900Z"
   },
   {
    "duration": 0,
    "start_time": "2023-07-09T05:58:07.901Z"
   },
   {
    "duration": 0,
    "start_time": "2023-07-09T05:58:07.902Z"
   },
   {
    "duration": 0,
    "start_time": "2023-07-09T05:58:07.903Z"
   },
   {
    "duration": 0,
    "start_time": "2023-07-09T05:58:07.904Z"
   },
   {
    "duration": 0,
    "start_time": "2023-07-09T05:58:07.905Z"
   },
   {
    "duration": 0,
    "start_time": "2023-07-09T05:58:07.906Z"
   },
   {
    "duration": 10,
    "start_time": "2023-07-09T05:59:51.487Z"
   },
   {
    "duration": 8,
    "start_time": "2023-07-09T06:00:09.782Z"
   },
   {
    "duration": 1474,
    "start_time": "2023-07-09T06:00:23.387Z"
   },
   {
    "duration": 797,
    "start_time": "2023-07-09T06:00:24.862Z"
   },
   {
    "duration": 25,
    "start_time": "2023-07-09T06:00:25.661Z"
   },
   {
    "duration": 136,
    "start_time": "2023-07-09T06:00:25.687Z"
   },
   {
    "duration": 100,
    "start_time": "2023-07-09T06:00:25.825Z"
   },
   {
    "duration": 1137,
    "start_time": "2023-07-09T06:00:25.926Z"
   },
   {
    "duration": 127,
    "start_time": "2023-07-09T06:00:27.065Z"
   },
   {
    "duration": 91,
    "start_time": "2023-07-09T06:00:27.193Z"
   },
   {
    "duration": 6,
    "start_time": "2023-07-09T06:00:27.286Z"
   },
   {
    "duration": 44,
    "start_time": "2023-07-09T06:00:27.294Z"
   },
   {
    "duration": 56,
    "start_time": "2023-07-09T06:00:27.340Z"
   },
   {
    "duration": 30,
    "start_time": "2023-07-09T06:00:27.398Z"
   },
   {
    "duration": 90,
    "start_time": "2023-07-09T06:00:27.430Z"
   },
   {
    "duration": 6,
    "start_time": "2023-07-09T06:00:27.523Z"
   },
   {
    "duration": 49,
    "start_time": "2023-07-09T06:00:27.531Z"
   },
   {
    "duration": 10,
    "start_time": "2023-07-09T06:00:27.582Z"
   },
   {
    "duration": 122,
    "start_time": "2023-07-09T06:00:27.594Z"
   },
   {
    "duration": 9,
    "start_time": "2023-07-09T06:00:27.718Z"
   },
   {
    "duration": 94,
    "start_time": "2023-07-09T06:00:27.729Z"
   },
   {
    "duration": 182,
    "start_time": "2023-07-09T06:00:27.825Z"
   },
   {
    "duration": 167,
    "start_time": "2023-07-09T06:00:28.009Z"
   },
   {
    "duration": 710,
    "start_time": "2023-07-09T06:00:28.178Z"
   },
   {
    "duration": 199,
    "start_time": "2023-07-09T06:00:28.890Z"
   },
   {
    "duration": 421,
    "start_time": "2023-07-09T06:00:29.091Z"
   },
   {
    "duration": 17,
    "start_time": "2023-07-09T06:00:29.514Z"
   },
   {
    "duration": 140,
    "start_time": "2023-07-09T06:00:29.535Z"
   },
   {
    "duration": 477,
    "start_time": "2023-07-09T06:00:29.677Z"
   },
   {
    "duration": 0,
    "start_time": "2023-07-09T06:00:30.157Z"
   },
   {
    "duration": 0,
    "start_time": "2023-07-09T06:00:30.159Z"
   },
   {
    "duration": 0,
    "start_time": "2023-07-09T06:00:30.160Z"
   },
   {
    "duration": 0,
    "start_time": "2023-07-09T06:00:30.175Z"
   },
   {
    "duration": 0,
    "start_time": "2023-07-09T06:00:30.176Z"
   },
   {
    "duration": 0,
    "start_time": "2023-07-09T06:00:30.178Z"
   },
   {
    "duration": 0,
    "start_time": "2023-07-09T06:00:30.179Z"
   },
   {
    "duration": 0,
    "start_time": "2023-07-09T06:00:30.181Z"
   },
   {
    "duration": 0,
    "start_time": "2023-07-09T06:00:30.182Z"
   },
   {
    "duration": 0,
    "start_time": "2023-07-09T06:00:30.183Z"
   },
   {
    "duration": 0,
    "start_time": "2023-07-09T06:00:30.184Z"
   },
   {
    "duration": 0,
    "start_time": "2023-07-09T06:00:30.186Z"
   },
   {
    "duration": 0,
    "start_time": "2023-07-09T06:00:30.187Z"
   },
   {
    "duration": 0,
    "start_time": "2023-07-09T06:00:30.189Z"
   },
   {
    "duration": 0,
    "start_time": "2023-07-09T06:00:30.194Z"
   },
   {
    "duration": 1546,
    "start_time": "2023-07-09T06:13:43.630Z"
   },
   {
    "duration": 734,
    "start_time": "2023-07-09T06:13:45.178Z"
   },
   {
    "duration": 16,
    "start_time": "2023-07-09T06:13:45.914Z"
   },
   {
    "duration": 139,
    "start_time": "2023-07-09T06:13:45.932Z"
   },
   {
    "duration": 82,
    "start_time": "2023-07-09T06:13:46.075Z"
   },
   {
    "duration": 1003,
    "start_time": "2023-07-09T06:13:46.159Z"
   },
   {
    "duration": 129,
    "start_time": "2023-07-09T06:13:47.164Z"
   },
   {
    "duration": 61,
    "start_time": "2023-07-09T06:13:47.295Z"
   },
   {
    "duration": 18,
    "start_time": "2023-07-09T06:13:47.358Z"
   },
   {
    "duration": 33,
    "start_time": "2023-07-09T06:13:47.378Z"
   },
   {
    "duration": 42,
    "start_time": "2023-07-09T06:13:47.413Z"
   },
   {
    "duration": 33,
    "start_time": "2023-07-09T06:13:47.457Z"
   },
   {
    "duration": 98,
    "start_time": "2023-07-09T06:13:47.491Z"
   },
   {
    "duration": 6,
    "start_time": "2023-07-09T06:13:47.590Z"
   },
   {
    "duration": 120,
    "start_time": "2023-07-09T06:13:47.597Z"
   },
   {
    "duration": 8,
    "start_time": "2023-07-09T06:13:47.719Z"
   },
   {
    "duration": 101,
    "start_time": "2023-07-09T06:13:47.728Z"
   },
   {
    "duration": 7,
    "start_time": "2023-07-09T06:13:47.831Z"
   },
   {
    "duration": 40,
    "start_time": "2023-07-09T06:13:47.840Z"
   },
   {
    "duration": 142,
    "start_time": "2023-07-09T06:13:47.882Z"
   },
   {
    "duration": 154,
    "start_time": "2023-07-09T06:13:48.026Z"
   },
   {
    "duration": 657,
    "start_time": "2023-07-09T06:13:48.181Z"
   },
   {
    "duration": 196,
    "start_time": "2023-07-09T06:13:48.840Z"
   },
   {
    "duration": 373,
    "start_time": "2023-07-09T06:13:49.038Z"
   },
   {
    "duration": 593,
    "start_time": "2023-07-09T06:13:49.412Z"
   },
   {
    "duration": 11,
    "start_time": "2023-07-09T06:13:50.006Z"
   },
   {
    "duration": 77,
    "start_time": "2023-07-09T06:13:50.018Z"
   },
   {
    "duration": 1942,
    "start_time": "2023-07-09T06:13:50.099Z"
   },
   {
    "duration": 74,
    "start_time": "2023-07-09T06:13:52.042Z"
   },
   {
    "duration": 19959,
    "start_time": "2023-07-09T06:13:52.117Z"
   },
   {
    "duration": 2419,
    "start_time": "2023-07-09T06:14:12.079Z"
   },
   {
    "duration": 1391,
    "start_time": "2023-07-09T06:15:09.583Z"
   },
   {
    "duration": 744,
    "start_time": "2023-07-09T06:15:10.976Z"
   },
   {
    "duration": 17,
    "start_time": "2023-07-09T06:15:11.722Z"
   },
   {
    "duration": 139,
    "start_time": "2023-07-09T06:15:11.740Z"
   },
   {
    "duration": 113,
    "start_time": "2023-07-09T06:15:11.881Z"
   },
   {
    "duration": 1007,
    "start_time": "2023-07-09T06:15:11.996Z"
   },
   {
    "duration": 129,
    "start_time": "2023-07-09T06:15:13.005Z"
   },
   {
    "duration": 76,
    "start_time": "2023-07-09T06:15:13.136Z"
   },
   {
    "duration": 6,
    "start_time": "2023-07-09T06:15:13.214Z"
   },
   {
    "duration": 38,
    "start_time": "2023-07-09T06:15:13.221Z"
   },
   {
    "duration": 56,
    "start_time": "2023-07-09T06:15:13.261Z"
   },
   {
    "duration": 26,
    "start_time": "2023-07-09T06:15:13.318Z"
   },
   {
    "duration": 79,
    "start_time": "2023-07-09T06:15:13.346Z"
   },
   {
    "duration": 10,
    "start_time": "2023-07-09T06:15:13.429Z"
   },
   {
    "duration": 50,
    "start_time": "2023-07-09T06:15:13.440Z"
   },
   {
    "duration": 10,
    "start_time": "2023-07-09T06:15:13.492Z"
   },
   {
    "duration": 117,
    "start_time": "2023-07-09T06:15:13.503Z"
   },
   {
    "duration": 8,
    "start_time": "2023-07-09T06:15:13.621Z"
   },
   {
    "duration": 47,
    "start_time": "2023-07-09T06:15:13.630Z"
   },
   {
    "duration": 141,
    "start_time": "2023-07-09T06:15:13.679Z"
   },
   {
    "duration": 175,
    "start_time": "2023-07-09T06:15:13.821Z"
   },
   {
    "duration": 612,
    "start_time": "2023-07-09T06:15:13.998Z"
   },
   {
    "duration": 193,
    "start_time": "2023-07-09T06:15:14.611Z"
   },
   {
    "duration": 404,
    "start_time": "2023-07-09T06:15:14.806Z"
   },
   {
    "duration": 627,
    "start_time": "2023-07-09T06:15:15.212Z"
   },
   {
    "duration": 10,
    "start_time": "2023-07-09T06:15:15.840Z"
   },
   {
    "duration": 73,
    "start_time": "2023-07-09T06:15:15.852Z"
   },
   {
    "duration": 1936,
    "start_time": "2023-07-09T06:15:15.927Z"
   },
   {
    "duration": 75,
    "start_time": "2023-07-09T06:15:17.864Z"
   },
   {
    "duration": 17934,
    "start_time": "2023-07-09T06:15:17.941Z"
   },
   {
    "duration": 2586,
    "start_time": "2023-07-09T06:15:35.877Z"
   },
   {
    "duration": 396984,
    "start_time": "2023-07-09T06:15:38.465Z"
   },
   {
    "duration": 7224,
    "start_time": "2023-07-09T06:22:15.452Z"
   },
   {
    "duration": 18399,
    "start_time": "2023-07-09T06:22:22.678Z"
   },
   {
    "duration": 200,
    "start_time": "2023-07-09T06:22:41.079Z"
   },
   {
    "duration": 778,
    "start_time": "2023-07-09T06:22:41.281Z"
   },
   {
    "duration": 57,
    "start_time": "2023-07-09T06:22:42.061Z"
   },
   {
    "duration": 253432,
    "start_time": "2023-07-09T06:22:42.120Z"
   },
   {
    "duration": 13403,
    "start_time": "2023-07-09T06:26:55.554Z"
   },
   {
    "duration": 5928,
    "start_time": "2023-07-09T06:27:08.958Z"
   },
   {
    "duration": 1498,
    "start_time": "2023-07-09T06:27:14.889Z"
   },
   {
    "duration": 11,
    "start_time": "2023-07-09T06:27:16.390Z"
   },
   {
    "duration": 0,
    "start_time": "2023-07-09T06:27:16.532Z"
   },
   {
    "duration": 1400,
    "start_time": "2023-07-09T06:32:56.398Z"
   },
   {
    "duration": 876,
    "start_time": "2023-07-09T06:32:57.800Z"
   },
   {
    "duration": 18,
    "start_time": "2023-07-09T06:32:58.678Z"
   },
   {
    "duration": 153,
    "start_time": "2023-07-09T06:32:58.699Z"
   },
   {
    "duration": 131,
    "start_time": "2023-07-09T06:32:58.855Z"
   },
   {
    "duration": 1074,
    "start_time": "2023-07-09T06:32:58.988Z"
   },
   {
    "duration": 139,
    "start_time": "2023-07-09T06:33:00.064Z"
   },
   {
    "duration": 116,
    "start_time": "2023-07-09T06:33:00.205Z"
   },
   {
    "duration": 5,
    "start_time": "2023-07-09T06:33:00.323Z"
   },
   {
    "duration": 45,
    "start_time": "2023-07-09T06:33:00.330Z"
   },
   {
    "duration": 53,
    "start_time": "2023-07-09T06:33:00.376Z"
   },
   {
    "duration": 58,
    "start_time": "2023-07-09T06:33:00.430Z"
   },
   {
    "duration": 117,
    "start_time": "2023-07-09T06:33:00.490Z"
   },
   {
    "duration": 17,
    "start_time": "2023-07-09T06:33:00.608Z"
   },
   {
    "duration": 140,
    "start_time": "2023-07-09T06:33:00.626Z"
   },
   {
    "duration": 11,
    "start_time": "2023-07-09T06:33:00.768Z"
   },
   {
    "duration": 169,
    "start_time": "2023-07-09T06:33:00.781Z"
   },
   {
    "duration": 9,
    "start_time": "2023-07-09T06:33:00.952Z"
   },
   {
    "duration": 79,
    "start_time": "2023-07-09T06:33:00.962Z"
   },
   {
    "duration": 210,
    "start_time": "2023-07-09T06:33:01.043Z"
   },
   {
    "duration": 180,
    "start_time": "2023-07-09T06:33:01.255Z"
   },
   {
    "duration": 123,
    "start_time": "2023-07-09T06:33:01.437Z"
   },
   {
    "duration": 0,
    "start_time": "2023-07-09T06:33:01.562Z"
   },
   {
    "duration": 0,
    "start_time": "2023-07-09T06:33:01.576Z"
   },
   {
    "duration": 0,
    "start_time": "2023-07-09T06:33:01.577Z"
   },
   {
    "duration": 0,
    "start_time": "2023-07-09T06:33:01.578Z"
   },
   {
    "duration": 0,
    "start_time": "2023-07-09T06:33:01.579Z"
   },
   {
    "duration": 0,
    "start_time": "2023-07-09T06:33:01.580Z"
   },
   {
    "duration": 0,
    "start_time": "2023-07-09T06:33:01.581Z"
   },
   {
    "duration": 0,
    "start_time": "2023-07-09T06:33:01.582Z"
   },
   {
    "duration": 0,
    "start_time": "2023-07-09T06:33:01.583Z"
   },
   {
    "duration": 0,
    "start_time": "2023-07-09T06:33:01.584Z"
   },
   {
    "duration": 0,
    "start_time": "2023-07-09T06:33:01.585Z"
   },
   {
    "duration": 0,
    "start_time": "2023-07-09T06:33:01.586Z"
   },
   {
    "duration": 0,
    "start_time": "2023-07-09T06:33:01.588Z"
   },
   {
    "duration": 0,
    "start_time": "2023-07-09T06:33:01.588Z"
   },
   {
    "duration": 0,
    "start_time": "2023-07-09T06:33:01.589Z"
   },
   {
    "duration": 0,
    "start_time": "2023-07-09T06:33:01.591Z"
   },
   {
    "duration": 0,
    "start_time": "2023-07-09T06:33:01.592Z"
   },
   {
    "duration": 0,
    "start_time": "2023-07-09T06:33:01.592Z"
   },
   {
    "duration": 0,
    "start_time": "2023-07-09T06:33:01.593Z"
   },
   {
    "duration": 0,
    "start_time": "2023-07-09T06:33:01.594Z"
   },
   {
    "duration": 1569,
    "start_time": "2023-07-09T06:33:40.391Z"
   },
   {
    "duration": 790,
    "start_time": "2023-07-09T06:33:41.962Z"
   },
   {
    "duration": 26,
    "start_time": "2023-07-09T06:33:42.754Z"
   },
   {
    "duration": 137,
    "start_time": "2023-07-09T06:33:42.782Z"
   },
   {
    "duration": 96,
    "start_time": "2023-07-09T06:33:42.921Z"
   },
   {
    "duration": 1036,
    "start_time": "2023-07-09T06:33:43.018Z"
   },
   {
    "duration": 124,
    "start_time": "2023-07-09T06:33:44.056Z"
   },
   {
    "duration": 64,
    "start_time": "2023-07-09T06:33:44.182Z"
   },
   {
    "duration": 6,
    "start_time": "2023-07-09T06:33:44.247Z"
   },
   {
    "duration": 39,
    "start_time": "2023-07-09T06:33:44.274Z"
   },
   {
    "duration": 47,
    "start_time": "2023-07-09T06:33:44.315Z"
   },
   {
    "duration": 34,
    "start_time": "2023-07-09T06:33:44.363Z"
   },
   {
    "duration": 100,
    "start_time": "2023-07-09T06:33:44.398Z"
   },
   {
    "duration": 37,
    "start_time": "2023-07-09T06:33:44.501Z"
   },
   {
    "duration": 115,
    "start_time": "2023-07-09T06:33:44.540Z"
   },
   {
    "duration": 18,
    "start_time": "2023-07-09T06:33:44.657Z"
   },
   {
    "duration": 100,
    "start_time": "2023-07-09T06:33:44.676Z"
   },
   {
    "duration": 9,
    "start_time": "2023-07-09T06:33:44.777Z"
   },
   {
    "duration": 28,
    "start_time": "2023-07-09T06:33:44.787Z"
   },
   {
    "duration": 151,
    "start_time": "2023-07-09T06:33:44.817Z"
   },
   {
    "duration": 160,
    "start_time": "2023-07-09T06:33:44.970Z"
   },
   {
    "duration": 207,
    "start_time": "2023-07-09T06:33:45.132Z"
   },
   {
    "duration": 0,
    "start_time": "2023-07-09T06:33:45.341Z"
   },
   {
    "duration": 0,
    "start_time": "2023-07-09T06:33:45.342Z"
   },
   {
    "duration": 0,
    "start_time": "2023-07-09T06:33:45.343Z"
   },
   {
    "duration": 0,
    "start_time": "2023-07-09T06:33:45.344Z"
   },
   {
    "duration": 0,
    "start_time": "2023-07-09T06:33:45.346Z"
   },
   {
    "duration": 0,
    "start_time": "2023-07-09T06:33:45.346Z"
   },
   {
    "duration": 1,
    "start_time": "2023-07-09T06:33:45.347Z"
   },
   {
    "duration": 0,
    "start_time": "2023-07-09T06:33:45.349Z"
   },
   {
    "duration": 0,
    "start_time": "2023-07-09T06:33:45.349Z"
   },
   {
    "duration": 0,
    "start_time": "2023-07-09T06:33:45.351Z"
   },
   {
    "duration": 0,
    "start_time": "2023-07-09T06:33:45.352Z"
   },
   {
    "duration": 0,
    "start_time": "2023-07-09T06:33:45.353Z"
   },
   {
    "duration": 0,
    "start_time": "2023-07-09T06:33:45.354Z"
   },
   {
    "duration": 0,
    "start_time": "2023-07-09T06:33:45.375Z"
   },
   {
    "duration": 0,
    "start_time": "2023-07-09T06:33:45.377Z"
   },
   {
    "duration": 0,
    "start_time": "2023-07-09T06:33:45.378Z"
   },
   {
    "duration": 0,
    "start_time": "2023-07-09T06:33:45.379Z"
   },
   {
    "duration": 0,
    "start_time": "2023-07-09T06:33:45.381Z"
   },
   {
    "duration": 0,
    "start_time": "2023-07-09T06:33:45.383Z"
   },
   {
    "duration": 0,
    "start_time": "2023-07-09T06:33:45.384Z"
   },
   {
    "duration": 1416,
    "start_time": "2023-07-09T06:38:01.024Z"
   },
   {
    "duration": 864,
    "start_time": "2023-07-09T06:38:02.442Z"
   },
   {
    "duration": 16,
    "start_time": "2023-07-09T06:38:03.308Z"
   },
   {
    "duration": 152,
    "start_time": "2023-07-09T06:38:03.326Z"
   },
   {
    "duration": 107,
    "start_time": "2023-07-09T06:38:03.481Z"
   },
   {
    "duration": 1120,
    "start_time": "2023-07-09T06:38:03.590Z"
   },
   {
    "duration": 132,
    "start_time": "2023-07-09T06:38:04.712Z"
   },
   {
    "duration": 83,
    "start_time": "2023-07-09T06:38:04.846Z"
   },
   {
    "duration": 8,
    "start_time": "2023-07-09T06:38:04.931Z"
   },
   {
    "duration": 62,
    "start_time": "2023-07-09T06:38:04.941Z"
   },
   {
    "duration": 53,
    "start_time": "2023-07-09T06:38:05.005Z"
   },
   {
    "duration": 40,
    "start_time": "2023-07-09T06:38:05.060Z"
   },
   {
    "duration": 97,
    "start_time": "2023-07-09T06:38:05.102Z"
   },
   {
    "duration": 8,
    "start_time": "2023-07-09T06:38:05.203Z"
   },
   {
    "duration": 50,
    "start_time": "2023-07-09T06:38:05.212Z"
   },
   {
    "duration": 16,
    "start_time": "2023-07-09T06:38:05.264Z"
   },
   {
    "duration": 110,
    "start_time": "2023-07-09T06:38:05.282Z"
   },
   {
    "duration": 9,
    "start_time": "2023-07-09T06:38:05.393Z"
   },
   {
    "duration": 30,
    "start_time": "2023-07-09T06:38:05.403Z"
   },
   {
    "duration": 167,
    "start_time": "2023-07-09T06:38:05.435Z"
   },
   {
    "duration": 171,
    "start_time": "2023-07-09T06:38:05.604Z"
   },
   {
    "duration": 721,
    "start_time": "2023-07-09T06:38:05.777Z"
   },
   {
    "duration": 213,
    "start_time": "2023-07-09T06:38:06.500Z"
   },
   {
    "duration": 411,
    "start_time": "2023-07-09T06:38:06.715Z"
   },
   {
    "duration": 671,
    "start_time": "2023-07-09T06:38:07.127Z"
   },
   {
    "duration": 13,
    "start_time": "2023-07-09T06:38:07.799Z"
   },
   {
    "duration": 73,
    "start_time": "2023-07-09T06:38:07.813Z"
   },
   {
    "duration": 2013,
    "start_time": "2023-07-09T06:38:07.888Z"
   },
   {
    "duration": 80,
    "start_time": "2023-07-09T06:38:09.903Z"
   },
   {
    "duration": 18492,
    "start_time": "2023-07-09T06:38:09.984Z"
   },
   {
    "duration": 2563,
    "start_time": "2023-07-09T06:38:28.478Z"
   },
   {
    "duration": 1403,
    "start_time": "2023-07-09T06:41:57.895Z"
   },
   {
    "duration": 946,
    "start_time": "2023-07-09T06:41:59.300Z"
   },
   {
    "duration": 30,
    "start_time": "2023-07-09T06:42:00.248Z"
   },
   {
    "duration": 150,
    "start_time": "2023-07-09T06:42:00.280Z"
   },
   {
    "duration": 98,
    "start_time": "2023-07-09T06:42:00.433Z"
   },
   {
    "duration": 1166,
    "start_time": "2023-07-09T06:42:00.533Z"
   },
   {
    "duration": 163,
    "start_time": "2023-07-09T06:42:01.700Z"
   },
   {
    "duration": 131,
    "start_time": "2023-07-09T06:42:01.874Z"
   },
   {
    "duration": 7,
    "start_time": "2023-07-09T06:42:02.008Z"
   },
   {
    "duration": 68,
    "start_time": "2023-07-09T06:42:02.017Z"
   },
   {
    "duration": 94,
    "start_time": "2023-07-09T06:42:02.087Z"
   },
   {
    "duration": 49,
    "start_time": "2023-07-09T06:42:02.183Z"
   },
   {
    "duration": 134,
    "start_time": "2023-07-09T06:42:02.234Z"
   },
   {
    "duration": 52,
    "start_time": "2023-07-09T06:42:02.377Z"
   },
   {
    "duration": 107,
    "start_time": "2023-07-09T06:42:02.431Z"
   },
   {
    "duration": 198,
    "start_time": "2023-07-09T06:42:02.540Z"
   },
   {
    "duration": 191,
    "start_time": "2023-07-09T06:42:02.741Z"
   },
   {
    "duration": 10,
    "start_time": "2023-07-09T06:42:02.934Z"
   },
   {
    "duration": 47,
    "start_time": "2023-07-09T06:42:02.945Z"
   },
   {
    "duration": 160,
    "start_time": "2023-07-09T06:42:02.994Z"
   },
   {
    "duration": 171,
    "start_time": "2023-07-09T06:42:03.156Z"
   },
   {
    "duration": 669,
    "start_time": "2023-07-09T06:42:03.328Z"
   },
   {
    "duration": 210,
    "start_time": "2023-07-09T06:42:03.999Z"
   },
   {
    "duration": 397,
    "start_time": "2023-07-09T06:42:04.212Z"
   },
   {
    "duration": 767,
    "start_time": "2023-07-09T06:42:04.611Z"
   },
   {
    "duration": 12,
    "start_time": "2023-07-09T06:42:05.380Z"
   },
   {
    "duration": 85,
    "start_time": "2023-07-09T06:42:05.394Z"
   },
   {
    "duration": 73,
    "start_time": "2023-07-09T06:42:05.481Z"
   },
   {
    "duration": 87,
    "start_time": "2023-07-09T06:42:05.555Z"
   },
   {
    "duration": 30431,
    "start_time": "2023-07-09T06:42:05.644Z"
   },
   {
    "duration": 2672,
    "start_time": "2023-07-09T06:42:36.078Z"
   },
   {
    "duration": 418401,
    "start_time": "2023-07-09T06:42:38.752Z"
   },
   {
    "duration": 6440,
    "start_time": "2023-07-09T06:49:37.155Z"
   },
   {
    "duration": 17089,
    "start_time": "2023-07-09T06:49:43.597Z"
   },
   {
    "duration": 304,
    "start_time": "2023-07-09T06:50:00.776Z"
   },
   {
    "duration": 830,
    "start_time": "2023-07-09T06:50:01.083Z"
   },
   {
    "duration": 50,
    "start_time": "2023-07-09T06:50:01.914Z"
   },
   {
    "duration": 1288,
    "start_time": "2023-07-09T06:50:43.017Z"
   },
   {
    "duration": 776,
    "start_time": "2023-07-09T06:50:44.307Z"
   },
   {
    "duration": 16,
    "start_time": "2023-07-09T06:50:45.085Z"
   },
   {
    "duration": 153,
    "start_time": "2023-07-09T06:50:45.103Z"
   },
   {
    "duration": 96,
    "start_time": "2023-07-09T06:50:45.257Z"
   },
   {
    "duration": 965,
    "start_time": "2023-07-09T06:50:45.354Z"
   },
   {
    "duration": 155,
    "start_time": "2023-07-09T06:50:46.321Z"
   },
   {
    "duration": 80,
    "start_time": "2023-07-09T06:50:46.477Z"
   },
   {
    "duration": 5,
    "start_time": "2023-07-09T06:50:46.558Z"
   },
   {
    "duration": 31,
    "start_time": "2023-07-09T06:50:46.567Z"
   },
   {
    "duration": 44,
    "start_time": "2023-07-09T06:50:46.600Z"
   },
   {
    "duration": 42,
    "start_time": "2023-07-09T06:50:46.646Z"
   },
   {
    "duration": 80,
    "start_time": "2023-07-09T06:50:46.690Z"
   },
   {
    "duration": 20,
    "start_time": "2023-07-09T06:50:46.775Z"
   },
   {
    "duration": 123,
    "start_time": "2023-07-09T06:50:46.797Z"
   },
   {
    "duration": 8,
    "start_time": "2023-07-09T06:50:46.923Z"
   },
   {
    "duration": 98,
    "start_time": "2023-07-09T06:50:46.933Z"
   },
   {
    "duration": 8,
    "start_time": "2023-07-09T06:50:47.033Z"
   },
   {
    "duration": 40,
    "start_time": "2023-07-09T06:50:47.042Z"
   },
   {
    "duration": 144,
    "start_time": "2023-07-09T06:50:47.083Z"
   },
   {
    "duration": 154,
    "start_time": "2023-07-09T06:50:47.228Z"
   },
   {
    "duration": 610,
    "start_time": "2023-07-09T06:50:47.384Z"
   },
   {
    "duration": 200,
    "start_time": "2023-07-09T06:50:47.996Z"
   },
   {
    "duration": 387,
    "start_time": "2023-07-09T06:50:48.198Z"
   },
   {
    "duration": 619,
    "start_time": "2023-07-09T06:50:48.587Z"
   },
   {
    "duration": 11,
    "start_time": "2023-07-09T06:50:49.207Z"
   },
   {
    "duration": 81,
    "start_time": "2023-07-09T06:50:49.219Z"
   },
   {
    "duration": 72,
    "start_time": "2023-07-09T06:50:49.304Z"
   },
   {
    "duration": 82,
    "start_time": "2023-07-09T06:50:49.377Z"
   },
   {
    "duration": 16923,
    "start_time": "2023-07-09T06:50:49.461Z"
   },
   {
    "duration": 2611,
    "start_time": "2023-07-09T06:51:06.476Z"
   },
   {
    "duration": 402618,
    "start_time": "2023-07-09T06:51:09.089Z"
   },
   {
    "duration": 13679,
    "start_time": "2023-07-09T06:57:51.709Z"
   },
   {
    "duration": 9,
    "start_time": "2023-07-09T06:58:05.390Z"
   },
   {
    "duration": 8,
    "start_time": "2023-07-09T06:58:41.385Z"
   },
   {
    "duration": 5298,
    "start_time": "2023-07-09T07:00:48.286Z"
   },
   {
    "duration": 4450,
    "start_time": "2023-07-09T07:01:23.226Z"
   },
   {
    "duration": 1719,
    "start_time": "2023-07-10T05:00:56.717Z"
   },
   {
    "duration": 3061,
    "start_time": "2023-07-10T05:00:58.438Z"
   },
   {
    "duration": 20,
    "start_time": "2023-07-10T05:01:01.501Z"
   },
   {
    "duration": 176,
    "start_time": "2023-07-10T05:01:01.525Z"
   },
   {
    "duration": 168,
    "start_time": "2023-07-10T05:01:01.702Z"
   },
   {
    "duration": 1233,
    "start_time": "2023-07-10T05:01:01.876Z"
   },
   {
    "duration": 128,
    "start_time": "2023-07-10T05:01:03.111Z"
   },
   {
    "duration": 80,
    "start_time": "2023-07-10T05:01:03.241Z"
   },
   {
    "duration": 5,
    "start_time": "2023-07-10T05:01:03.323Z"
   },
   {
    "duration": 89,
    "start_time": "2023-07-10T05:01:03.332Z"
   },
   {
    "duration": 61,
    "start_time": "2023-07-10T05:01:03.423Z"
   },
   {
    "duration": 27,
    "start_time": "2023-07-10T05:01:03.486Z"
   },
   {
    "duration": 134,
    "start_time": "2023-07-10T05:01:03.514Z"
   },
   {
    "duration": 15,
    "start_time": "2023-07-10T05:01:03.649Z"
   },
   {
    "duration": 144,
    "start_time": "2023-07-10T05:01:03.672Z"
   },
   {
    "duration": 8,
    "start_time": "2023-07-10T05:01:03.818Z"
   },
   {
    "duration": 163,
    "start_time": "2023-07-10T05:01:03.828Z"
   },
   {
    "duration": 11,
    "start_time": "2023-07-10T05:01:03.993Z"
   },
   {
    "duration": 77,
    "start_time": "2023-07-10T05:01:04.006Z"
   },
   {
    "duration": 205,
    "start_time": "2023-07-10T05:01:04.085Z"
   },
   {
    "duration": 201,
    "start_time": "2023-07-10T05:01:04.293Z"
   },
   {
    "duration": 959,
    "start_time": "2023-07-10T05:01:04.496Z"
   },
   {
    "duration": 220,
    "start_time": "2023-07-10T05:01:05.456Z"
   },
   {
    "duration": 462,
    "start_time": "2023-07-10T05:01:05.678Z"
   },
   {
    "duration": 135,
    "start_time": "2023-07-10T05:01:06.141Z"
   },
   {
    "duration": 0,
    "start_time": "2023-07-10T05:01:06.279Z"
   },
   {
    "duration": 0,
    "start_time": "2023-07-10T05:01:06.280Z"
   },
   {
    "duration": 0,
    "start_time": "2023-07-10T05:01:06.281Z"
   },
   {
    "duration": 0,
    "start_time": "2023-07-10T05:01:06.282Z"
   },
   {
    "duration": 0,
    "start_time": "2023-07-10T05:01:06.283Z"
   },
   {
    "duration": 0,
    "start_time": "2023-07-10T05:01:06.284Z"
   },
   {
    "duration": 0,
    "start_time": "2023-07-10T05:01:06.285Z"
   },
   {
    "duration": 0,
    "start_time": "2023-07-10T05:01:06.287Z"
   },
   {
    "duration": 0,
    "start_time": "2023-07-10T05:01:06.288Z"
   },
   {
    "duration": 0,
    "start_time": "2023-07-10T05:01:06.289Z"
   },
   {
    "duration": 1562,
    "start_time": "2023-07-10T05:02:04.324Z"
   },
   {
    "duration": 892,
    "start_time": "2023-07-10T05:02:05.888Z"
   },
   {
    "duration": 25,
    "start_time": "2023-07-10T05:02:06.782Z"
   },
   {
    "duration": 166,
    "start_time": "2023-07-10T05:02:06.810Z"
   },
   {
    "duration": 105,
    "start_time": "2023-07-10T05:02:06.978Z"
   },
   {
    "duration": 1156,
    "start_time": "2023-07-10T05:02:07.085Z"
   },
   {
    "duration": 134,
    "start_time": "2023-07-10T05:02:08.243Z"
   },
   {
    "duration": 65,
    "start_time": "2023-07-10T05:02:08.378Z"
   },
   {
    "duration": 30,
    "start_time": "2023-07-10T05:02:08.444Z"
   },
   {
    "duration": 34,
    "start_time": "2023-07-10T05:02:08.477Z"
   },
   {
    "duration": 99,
    "start_time": "2023-07-10T05:02:08.514Z"
   },
   {
    "duration": 37,
    "start_time": "2023-07-10T05:02:08.615Z"
   },
   {
    "duration": 88,
    "start_time": "2023-07-10T05:02:08.654Z"
   },
   {
    "duration": 23,
    "start_time": "2023-07-10T05:02:08.744Z"
   },
   {
    "duration": 162,
    "start_time": "2023-07-10T05:02:08.771Z"
   },
   {
    "duration": 26,
    "start_time": "2023-07-10T05:02:08.935Z"
   },
   {
    "duration": 121,
    "start_time": "2023-07-10T05:02:08.963Z"
   },
   {
    "duration": 13,
    "start_time": "2023-07-10T05:02:09.086Z"
   },
   {
    "duration": 72,
    "start_time": "2023-07-10T05:02:09.102Z"
   },
   {
    "duration": 194,
    "start_time": "2023-07-10T05:02:09.179Z"
   },
   {
    "duration": 202,
    "start_time": "2023-07-10T05:02:09.376Z"
   },
   {
    "duration": 967,
    "start_time": "2023-07-10T05:02:09.580Z"
   },
   {
    "duration": 223,
    "start_time": "2023-07-10T05:02:10.549Z"
   },
   {
    "duration": 460,
    "start_time": "2023-07-10T05:02:10.773Z"
   },
   {
    "duration": 37,
    "start_time": "2023-07-10T05:02:11.235Z"
   },
   {
    "duration": 141,
    "start_time": "2023-07-10T05:02:11.273Z"
   },
   {
    "duration": 536,
    "start_time": "2023-07-10T05:02:11.417Z"
   },
   {
    "duration": 0,
    "start_time": "2023-07-10T05:02:11.955Z"
   },
   {
    "duration": 0,
    "start_time": "2023-07-10T05:02:11.956Z"
   },
   {
    "duration": 0,
    "start_time": "2023-07-10T05:02:11.957Z"
   },
   {
    "duration": 0,
    "start_time": "2023-07-10T05:02:11.957Z"
   },
   {
    "duration": 0,
    "start_time": "2023-07-10T05:02:11.959Z"
   },
   {
    "duration": 0,
    "start_time": "2023-07-10T05:02:11.960Z"
   },
   {
    "duration": 0,
    "start_time": "2023-07-10T05:02:11.963Z"
   },
   {
    "duration": 0,
    "start_time": "2023-07-10T05:02:11.963Z"
   },
   {
    "duration": 1485,
    "start_time": "2023-07-10T05:07:39.590Z"
   },
   {
    "duration": 951,
    "start_time": "2023-07-10T05:07:41.077Z"
   },
   {
    "duration": 30,
    "start_time": "2023-07-10T05:07:42.030Z"
   },
   {
    "duration": 145,
    "start_time": "2023-07-10T05:07:42.064Z"
   },
   {
    "duration": 119,
    "start_time": "2023-07-10T05:07:42.211Z"
   },
   {
    "duration": 1266,
    "start_time": "2023-07-10T05:07:42.332Z"
   },
   {
    "duration": 134,
    "start_time": "2023-07-10T05:07:43.600Z"
   },
   {
    "duration": 80,
    "start_time": "2023-07-10T05:07:43.735Z"
   },
   {
    "duration": 4,
    "start_time": "2023-07-10T05:07:43.817Z"
   },
   {
    "duration": 47,
    "start_time": "2023-07-10T05:07:43.824Z"
   },
   {
    "duration": 44,
    "start_time": "2023-07-10T05:07:43.873Z"
   },
   {
    "duration": 45,
    "start_time": "2023-07-10T05:07:43.920Z"
   },
   {
    "duration": 75,
    "start_time": "2023-07-10T05:07:43.973Z"
   },
   {
    "duration": 11,
    "start_time": "2023-07-10T05:07:44.051Z"
   },
   {
    "duration": 162,
    "start_time": "2023-07-10T05:07:44.066Z"
   },
   {
    "duration": 11,
    "start_time": "2023-07-10T05:07:44.230Z"
   },
   {
    "duration": 153,
    "start_time": "2023-07-10T05:07:44.265Z"
   },
   {
    "duration": 16,
    "start_time": "2023-07-10T05:07:44.424Z"
   },
   {
    "duration": 46,
    "start_time": "2023-07-10T05:07:44.442Z"
   },
   {
    "duration": 287,
    "start_time": "2023-07-10T05:07:44.490Z"
   },
   {
    "duration": 269,
    "start_time": "2023-07-10T05:07:44.779Z"
   },
   {
    "duration": 1067,
    "start_time": "2023-07-10T05:07:45.050Z"
   },
   {
    "duration": 216,
    "start_time": "2023-07-10T05:07:46.118Z"
   },
   {
    "duration": 461,
    "start_time": "2023-07-10T05:07:46.336Z"
   },
   {
    "duration": 18,
    "start_time": "2023-07-10T05:07:46.800Z"
   },
   {
    "duration": 144,
    "start_time": "2023-07-10T05:07:46.820Z"
   },
   {
    "duration": 2286,
    "start_time": "2023-07-10T05:07:46.970Z"
   },
   {
    "duration": 0,
    "start_time": "2023-07-10T05:07:49.258Z"
   },
   {
    "duration": 0,
    "start_time": "2023-07-10T05:07:49.258Z"
   },
   {
    "duration": 0,
    "start_time": "2023-07-10T05:07:49.261Z"
   },
   {
    "duration": 0,
    "start_time": "2023-07-10T05:07:49.263Z"
   },
   {
    "duration": 0,
    "start_time": "2023-07-10T05:07:49.269Z"
   },
   {
    "duration": 0,
    "start_time": "2023-07-10T05:07:49.276Z"
   },
   {
    "duration": 0,
    "start_time": "2023-07-10T05:07:49.277Z"
   },
   {
    "duration": 0,
    "start_time": "2023-07-10T05:07:49.278Z"
   },
   {
    "duration": 1548,
    "start_time": "2023-07-10T05:09:15.983Z"
   },
   {
    "duration": 903,
    "start_time": "2023-07-10T05:09:17.533Z"
   },
   {
    "duration": 32,
    "start_time": "2023-07-10T05:09:18.438Z"
   },
   {
    "duration": 121,
    "start_time": "2023-07-10T05:09:18.473Z"
   },
   {
    "duration": 148,
    "start_time": "2023-07-10T05:09:18.596Z"
   },
   {
    "duration": 1246,
    "start_time": "2023-07-10T05:09:18.746Z"
   },
   {
    "duration": 130,
    "start_time": "2023-07-10T05:09:19.994Z"
   },
   {
    "duration": 77,
    "start_time": "2023-07-10T05:09:20.126Z"
   },
   {
    "duration": 6,
    "start_time": "2023-07-10T05:09:20.204Z"
   },
   {
    "duration": 61,
    "start_time": "2023-07-10T05:09:20.212Z"
   },
   {
    "duration": 43,
    "start_time": "2023-07-10T05:09:20.275Z"
   },
   {
    "duration": 29,
    "start_time": "2023-07-10T05:09:20.319Z"
   },
   {
    "duration": 80,
    "start_time": "2023-07-10T05:09:20.351Z"
   },
   {
    "duration": 7,
    "start_time": "2023-07-10T05:09:20.434Z"
   },
   {
    "duration": 46,
    "start_time": "2023-07-10T05:09:20.465Z"
   },
   {
    "duration": 10,
    "start_time": "2023-07-10T05:09:20.513Z"
   },
   {
    "duration": 136,
    "start_time": "2023-07-10T05:09:20.524Z"
   },
   {
    "duration": 11,
    "start_time": "2023-07-10T05:09:20.668Z"
   },
   {
    "duration": 52,
    "start_time": "2023-07-10T05:09:20.681Z"
   },
   {
    "duration": 163,
    "start_time": "2023-07-10T05:09:20.735Z"
   },
   {
    "duration": 181,
    "start_time": "2023-07-10T05:09:20.900Z"
   },
   {
    "duration": 818,
    "start_time": "2023-07-10T05:09:21.083Z"
   },
   {
    "duration": 212,
    "start_time": "2023-07-10T05:09:21.903Z"
   },
   {
    "duration": 458,
    "start_time": "2023-07-10T05:09:22.117Z"
   },
   {
    "duration": 20,
    "start_time": "2023-07-10T05:09:22.577Z"
   },
   {
    "duration": 133,
    "start_time": "2023-07-10T05:09:22.599Z"
   },
   {
    "duration": 194,
    "start_time": "2023-07-10T05:09:22.735Z"
   },
   {
    "duration": 0,
    "start_time": "2023-07-10T05:09:22.931Z"
   },
   {
    "duration": 0,
    "start_time": "2023-07-10T05:09:22.932Z"
   },
   {
    "duration": 0,
    "start_time": "2023-07-10T05:09:22.933Z"
   },
   {
    "duration": 0,
    "start_time": "2023-07-10T05:09:22.935Z"
   },
   {
    "duration": 0,
    "start_time": "2023-07-10T05:09:22.936Z"
   },
   {
    "duration": 0,
    "start_time": "2023-07-10T05:09:22.937Z"
   },
   {
    "duration": 0,
    "start_time": "2023-07-10T05:09:22.939Z"
   },
   {
    "duration": 0,
    "start_time": "2023-07-10T05:09:22.940Z"
   },
   {
    "duration": 1455,
    "start_time": "2023-07-10T05:10:09.720Z"
   },
   {
    "duration": 839,
    "start_time": "2023-07-10T05:10:11.177Z"
   },
   {
    "duration": 24,
    "start_time": "2023-07-10T05:10:12.018Z"
   },
   {
    "duration": 149,
    "start_time": "2023-07-10T05:10:12.043Z"
   },
   {
    "duration": 141,
    "start_time": "2023-07-10T05:10:12.195Z"
   },
   {
    "duration": 1193,
    "start_time": "2023-07-10T05:10:12.338Z"
   },
   {
    "duration": 114,
    "start_time": "2023-07-10T05:10:13.533Z"
   },
   {
    "duration": 79,
    "start_time": "2023-07-10T05:10:13.648Z"
   },
   {
    "duration": 5,
    "start_time": "2023-07-10T05:10:13.728Z"
   },
   {
    "duration": 54,
    "start_time": "2023-07-10T05:10:13.735Z"
   },
   {
    "duration": 44,
    "start_time": "2023-07-10T05:10:13.792Z"
   },
   {
    "duration": 38,
    "start_time": "2023-07-10T05:10:13.838Z"
   },
   {
    "duration": 67,
    "start_time": "2023-07-10T05:10:13.878Z"
   },
   {
    "duration": 14,
    "start_time": "2023-07-10T05:10:13.960Z"
   },
   {
    "duration": 60,
    "start_time": "2023-07-10T05:10:13.976Z"
   },
   {
    "duration": 16,
    "start_time": "2023-07-10T05:10:14.038Z"
   },
   {
    "duration": 146,
    "start_time": "2023-07-10T05:10:14.064Z"
   },
   {
    "duration": 12,
    "start_time": "2023-07-10T05:10:14.213Z"
   },
   {
    "duration": 65,
    "start_time": "2023-07-10T05:10:14.227Z"
   },
   {
    "duration": 214,
    "start_time": "2023-07-10T05:10:14.295Z"
   },
   {
    "duration": 192,
    "start_time": "2023-07-10T05:10:14.510Z"
   },
   {
    "duration": 1112,
    "start_time": "2023-07-10T05:10:14.705Z"
   },
   {
    "duration": 217,
    "start_time": "2023-07-10T05:10:15.820Z"
   },
   {
    "duration": 472,
    "start_time": "2023-07-10T05:10:16.038Z"
   },
   {
    "duration": 19,
    "start_time": "2023-07-10T05:10:16.512Z"
   },
   {
    "duration": 142,
    "start_time": "2023-07-10T05:10:16.533Z"
   },
   {
    "duration": 201,
    "start_time": "2023-07-10T05:10:16.677Z"
   },
   {
    "duration": 0,
    "start_time": "2023-07-10T05:10:16.881Z"
   },
   {
    "duration": 0,
    "start_time": "2023-07-10T05:10:16.882Z"
   },
   {
    "duration": 0,
    "start_time": "2023-07-10T05:10:16.883Z"
   },
   {
    "duration": 0,
    "start_time": "2023-07-10T05:10:16.885Z"
   },
   {
    "duration": 0,
    "start_time": "2023-07-10T05:10:16.887Z"
   },
   {
    "duration": 0,
    "start_time": "2023-07-10T05:10:16.888Z"
   },
   {
    "duration": 0,
    "start_time": "2023-07-10T05:10:16.889Z"
   },
   {
    "duration": 0,
    "start_time": "2023-07-10T05:10:16.891Z"
   },
   {
    "duration": 1523,
    "start_time": "2023-07-10T05:17:21.645Z"
   },
   {
    "duration": 907,
    "start_time": "2023-07-10T05:17:23.170Z"
   },
   {
    "duration": 28,
    "start_time": "2023-07-10T05:17:24.080Z"
   },
   {
    "duration": 170,
    "start_time": "2023-07-10T05:17:24.112Z"
   },
   {
    "duration": 132,
    "start_time": "2023-07-10T05:17:24.284Z"
   },
   {
    "duration": 1176,
    "start_time": "2023-07-10T05:17:24.418Z"
   },
   {
    "duration": 140,
    "start_time": "2023-07-10T05:17:25.596Z"
   },
   {
    "duration": 82,
    "start_time": "2023-07-10T05:17:25.738Z"
   },
   {
    "duration": 6,
    "start_time": "2023-07-10T05:17:25.822Z"
   },
   {
    "duration": 68,
    "start_time": "2023-07-10T05:17:25.831Z"
   },
   {
    "duration": 47,
    "start_time": "2023-07-10T05:17:25.901Z"
   },
   {
    "duration": 25,
    "start_time": "2023-07-10T05:17:25.960Z"
   },
   {
    "duration": 96,
    "start_time": "2023-07-10T05:17:25.987Z"
   },
   {
    "duration": 13,
    "start_time": "2023-07-10T05:17:26.085Z"
   },
   {
    "duration": 136,
    "start_time": "2023-07-10T05:17:26.100Z"
   },
   {
    "duration": 8,
    "start_time": "2023-07-10T05:17:26.238Z"
   },
   {
    "duration": 121,
    "start_time": "2023-07-10T05:17:26.261Z"
   },
   {
    "duration": 8,
    "start_time": "2023-07-10T05:17:26.384Z"
   },
   {
    "duration": 32,
    "start_time": "2023-07-10T05:17:26.394Z"
   },
   {
    "duration": 188,
    "start_time": "2023-07-10T05:17:26.427Z"
   },
   {
    "duration": 186,
    "start_time": "2023-07-10T05:17:26.617Z"
   },
   {
    "duration": 2,
    "start_time": "2023-07-10T05:17:26.805Z"
   },
   {
    "duration": 22,
    "start_time": "2023-07-10T05:17:26.809Z"
   },
   {
    "duration": 132,
    "start_time": "2023-07-10T05:17:26.833Z"
   },
   {
    "duration": 519,
    "start_time": "2023-07-10T05:17:26.967Z"
   },
   {
    "duration": 0,
    "start_time": "2023-07-10T05:17:27.488Z"
   },
   {
    "duration": 0,
    "start_time": "2023-07-10T05:17:27.489Z"
   },
   {
    "duration": 0,
    "start_time": "2023-07-10T05:17:27.491Z"
   },
   {
    "duration": 0,
    "start_time": "2023-07-10T05:17:27.493Z"
   },
   {
    "duration": 0,
    "start_time": "2023-07-10T05:17:27.494Z"
   },
   {
    "duration": 0,
    "start_time": "2023-07-10T05:17:27.495Z"
   },
   {
    "duration": 0,
    "start_time": "2023-07-10T05:17:27.497Z"
   },
   {
    "duration": 0,
    "start_time": "2023-07-10T05:17:27.498Z"
   },
   {
    "duration": 0,
    "start_time": "2023-07-10T05:17:27.500Z"
   },
   {
    "duration": 0,
    "start_time": "2023-07-10T05:17:27.500Z"
   },
   {
    "duration": 0,
    "start_time": "2023-07-10T05:17:27.502Z"
   },
   {
    "duration": 1518,
    "start_time": "2023-07-10T05:18:57.780Z"
   },
   {
    "duration": 911,
    "start_time": "2023-07-10T05:18:59.301Z"
   },
   {
    "duration": 20,
    "start_time": "2023-07-10T05:19:00.214Z"
   },
   {
    "duration": 179,
    "start_time": "2023-07-10T05:19:00.237Z"
   },
   {
    "duration": 125,
    "start_time": "2023-07-10T05:19:00.418Z"
   },
   {
    "duration": 1182,
    "start_time": "2023-07-10T05:19:00.545Z"
   },
   {
    "duration": 146,
    "start_time": "2023-07-10T05:19:01.729Z"
   },
   {
    "duration": 111,
    "start_time": "2023-07-10T05:19:01.877Z"
   },
   {
    "duration": 5,
    "start_time": "2023-07-10T05:19:01.989Z"
   },
   {
    "duration": 61,
    "start_time": "2023-07-10T05:19:01.997Z"
   },
   {
    "duration": 51,
    "start_time": "2023-07-10T05:19:02.068Z"
   },
   {
    "duration": 28,
    "start_time": "2023-07-10T05:19:02.121Z"
   },
   {
    "duration": 103,
    "start_time": "2023-07-10T05:19:02.151Z"
   },
   {
    "duration": 26,
    "start_time": "2023-07-10T05:19:02.256Z"
   },
   {
    "duration": 168,
    "start_time": "2023-07-10T05:19:02.285Z"
   },
   {
    "duration": 13,
    "start_time": "2023-07-10T05:19:02.458Z"
   },
   {
    "duration": 135,
    "start_time": "2023-07-10T05:19:02.479Z"
   },
   {
    "duration": 9,
    "start_time": "2023-07-10T05:19:02.616Z"
   },
   {
    "duration": 77,
    "start_time": "2023-07-10T05:19:02.627Z"
   },
   {
    "duration": 165,
    "start_time": "2023-07-10T05:19:02.706Z"
   },
   {
    "duration": 185,
    "start_time": "2023-07-10T05:19:02.875Z"
   },
   {
    "duration": 10,
    "start_time": "2023-07-10T05:19:03.062Z"
   },
   {
    "duration": 33,
    "start_time": "2023-07-10T05:19:03.073Z"
   },
   {
    "duration": 125,
    "start_time": "2023-07-10T05:19:03.108Z"
   },
   {
    "duration": 619,
    "start_time": "2023-07-10T05:19:03.235Z"
   },
   {
    "duration": 22,
    "start_time": "2023-07-10T05:19:03.856Z"
   },
   {
    "duration": 156,
    "start_time": "2023-07-10T05:19:03.881Z"
   },
   {
    "duration": 236,
    "start_time": "2023-07-10T05:19:04.042Z"
   },
   {
    "duration": 0,
    "start_time": "2023-07-10T05:19:04.282Z"
   },
   {
    "duration": 0,
    "start_time": "2023-07-10T05:19:04.284Z"
   },
   {
    "duration": 0,
    "start_time": "2023-07-10T05:19:04.285Z"
   },
   {
    "duration": 0,
    "start_time": "2023-07-10T05:19:04.286Z"
   },
   {
    "duration": 0,
    "start_time": "2023-07-10T05:19:04.288Z"
   },
   {
    "duration": 0,
    "start_time": "2023-07-10T05:19:04.291Z"
   },
   {
    "duration": 0,
    "start_time": "2023-07-10T05:19:04.292Z"
   },
   {
    "duration": 0,
    "start_time": "2023-07-10T05:19:04.294Z"
   },
   {
    "duration": 1561,
    "start_time": "2023-07-10T05:20:07.674Z"
   },
   {
    "duration": 945,
    "start_time": "2023-07-10T05:20:09.237Z"
   },
   {
    "duration": 19,
    "start_time": "2023-07-10T05:20:10.184Z"
   },
   {
    "duration": 148,
    "start_time": "2023-07-10T05:20:10.205Z"
   },
   {
    "duration": 113,
    "start_time": "2023-07-10T05:20:10.362Z"
   },
   {
    "duration": 1225,
    "start_time": "2023-07-10T05:20:10.477Z"
   },
   {
    "duration": 119,
    "start_time": "2023-07-10T05:20:11.704Z"
   },
   {
    "duration": 78,
    "start_time": "2023-07-10T05:20:11.825Z"
   },
   {
    "duration": 5,
    "start_time": "2023-07-10T05:20:11.905Z"
   },
   {
    "duration": 60,
    "start_time": "2023-07-10T05:20:11.911Z"
   },
   {
    "duration": 45,
    "start_time": "2023-07-10T05:20:11.975Z"
   },
   {
    "duration": 40,
    "start_time": "2023-07-10T05:20:12.022Z"
   },
   {
    "duration": 81,
    "start_time": "2023-07-10T05:20:12.068Z"
   },
   {
    "duration": 31,
    "start_time": "2023-07-10T05:20:12.152Z"
   },
   {
    "duration": 55,
    "start_time": "2023-07-10T05:20:12.185Z"
   },
   {
    "duration": 12,
    "start_time": "2023-07-10T05:20:12.242Z"
   },
   {
    "duration": 131,
    "start_time": "2023-07-10T05:20:12.256Z"
   },
   {
    "duration": 11,
    "start_time": "2023-07-10T05:20:12.389Z"
   },
   {
    "duration": 36,
    "start_time": "2023-07-10T05:20:12.402Z"
   },
   {
    "duration": 195,
    "start_time": "2023-07-10T05:20:12.440Z"
   },
   {
    "duration": 194,
    "start_time": "2023-07-10T05:20:12.637Z"
   },
   {
    "duration": 2,
    "start_time": "2023-07-10T05:20:12.833Z"
   },
   {
    "duration": 48,
    "start_time": "2023-07-10T05:20:12.837Z"
   },
   {
    "duration": 132,
    "start_time": "2023-07-10T05:20:12.887Z"
   },
   {
    "duration": 784,
    "start_time": "2023-07-10T05:20:13.022Z"
   },
   {
    "duration": 16,
    "start_time": "2023-07-10T05:20:13.808Z"
   },
   {
    "duration": 121,
    "start_time": "2023-07-10T05:20:13.826Z"
   },
   {
    "duration": 257,
    "start_time": "2023-07-10T05:20:13.949Z"
   },
   {
    "duration": 0,
    "start_time": "2023-07-10T05:20:14.208Z"
   },
   {
    "duration": 0,
    "start_time": "2023-07-10T05:20:14.209Z"
   },
   {
    "duration": 0,
    "start_time": "2023-07-10T05:20:14.211Z"
   },
   {
    "duration": 0,
    "start_time": "2023-07-10T05:20:14.212Z"
   },
   {
    "duration": 0,
    "start_time": "2023-07-10T05:20:14.214Z"
   },
   {
    "duration": 0,
    "start_time": "2023-07-10T05:20:14.215Z"
   },
   {
    "duration": 0,
    "start_time": "2023-07-10T05:20:14.217Z"
   },
   {
    "duration": 0,
    "start_time": "2023-07-10T05:20:14.218Z"
   },
   {
    "duration": 16,
    "start_time": "2023-07-10T05:20:44.776Z"
   },
   {
    "duration": 1642,
    "start_time": "2023-07-10T05:20:53.968Z"
   },
   {
    "duration": 883,
    "start_time": "2023-07-10T05:20:55.612Z"
   },
   {
    "duration": 20,
    "start_time": "2023-07-10T05:20:56.497Z"
   },
   {
    "duration": 155,
    "start_time": "2023-07-10T05:20:56.518Z"
   },
   {
    "duration": 111,
    "start_time": "2023-07-10T05:20:56.676Z"
   },
   {
    "duration": 1230,
    "start_time": "2023-07-10T05:20:56.789Z"
   },
   {
    "duration": 146,
    "start_time": "2023-07-10T05:20:58.021Z"
   },
   {
    "duration": 71,
    "start_time": "2023-07-10T05:20:58.172Z"
   },
   {
    "duration": 22,
    "start_time": "2023-07-10T05:20:58.245Z"
   },
   {
    "duration": 41,
    "start_time": "2023-07-10T05:20:58.269Z"
   },
   {
    "duration": 51,
    "start_time": "2023-07-10T05:20:58.312Z"
   },
   {
    "duration": 33,
    "start_time": "2023-07-10T05:20:58.364Z"
   },
   {
    "duration": 71,
    "start_time": "2023-07-10T05:20:58.398Z"
   },
   {
    "duration": 9,
    "start_time": "2023-07-10T05:20:58.474Z"
   },
   {
    "duration": 157,
    "start_time": "2023-07-10T05:20:58.484Z"
   },
   {
    "duration": 23,
    "start_time": "2023-07-10T05:20:58.643Z"
   },
   {
    "duration": 115,
    "start_time": "2023-07-10T05:20:58.668Z"
   },
   {
    "duration": 11,
    "start_time": "2023-07-10T05:20:58.786Z"
   },
   {
    "duration": 41,
    "start_time": "2023-07-10T05:20:58.799Z"
   },
   {
    "duration": 199,
    "start_time": "2023-07-10T05:20:58.842Z"
   },
   {
    "duration": 206,
    "start_time": "2023-07-10T05:20:59.043Z"
   },
   {
    "duration": 3,
    "start_time": "2023-07-10T05:20:59.251Z"
   },
   {
    "duration": 24,
    "start_time": "2023-07-10T05:20:59.263Z"
   },
   {
    "duration": 130,
    "start_time": "2023-07-10T05:20:59.289Z"
   },
   {
    "duration": 657,
    "start_time": "2023-07-10T05:20:59.421Z"
   },
   {
    "duration": 17,
    "start_time": "2023-07-10T05:21:00.088Z"
   },
   {
    "duration": 147,
    "start_time": "2023-07-10T05:21:00.107Z"
   },
   {
    "duration": 227,
    "start_time": "2023-07-10T05:21:00.256Z"
   },
   {
    "duration": 0,
    "start_time": "2023-07-10T05:21:00.485Z"
   },
   {
    "duration": 0,
    "start_time": "2023-07-10T05:21:00.486Z"
   },
   {
    "duration": 0,
    "start_time": "2023-07-10T05:21:00.488Z"
   },
   {
    "duration": 0,
    "start_time": "2023-07-10T05:21:00.489Z"
   },
   {
    "duration": 0,
    "start_time": "2023-07-10T05:21:00.490Z"
   },
   {
    "duration": 0,
    "start_time": "2023-07-10T05:21:00.492Z"
   },
   {
    "duration": 1,
    "start_time": "2023-07-10T05:21:00.493Z"
   },
   {
    "duration": 0,
    "start_time": "2023-07-10T05:21:00.495Z"
   },
   {
    "duration": 1648,
    "start_time": "2023-07-10T05:32:37.539Z"
   },
   {
    "duration": 952,
    "start_time": "2023-07-10T05:32:39.189Z"
   },
   {
    "duration": 28,
    "start_time": "2023-07-10T05:32:40.143Z"
   },
   {
    "duration": 147,
    "start_time": "2023-07-10T05:32:40.174Z"
   },
   {
    "duration": 119,
    "start_time": "2023-07-10T05:32:40.323Z"
   },
   {
    "duration": 1179,
    "start_time": "2023-07-10T05:32:40.444Z"
   },
   {
    "duration": 141,
    "start_time": "2023-07-10T05:32:41.625Z"
   },
   {
    "duration": 64,
    "start_time": "2023-07-10T05:32:41.768Z"
   },
   {
    "duration": 26,
    "start_time": "2023-07-10T05:32:41.834Z"
   },
   {
    "duration": 42,
    "start_time": "2023-07-10T05:32:41.864Z"
   },
   {
    "duration": 87,
    "start_time": "2023-07-10T05:32:41.909Z"
   },
   {
    "duration": 31,
    "start_time": "2023-07-10T05:32:41.998Z"
   },
   {
    "duration": 82,
    "start_time": "2023-07-10T05:32:42.031Z"
   },
   {
    "duration": 13,
    "start_time": "2023-07-10T05:32:42.115Z"
   },
   {
    "duration": 156,
    "start_time": "2023-07-10T05:32:42.131Z"
   },
   {
    "duration": 8,
    "start_time": "2023-07-10T05:32:42.289Z"
   },
   {
    "duration": 113,
    "start_time": "2023-07-10T05:32:42.299Z"
   },
   {
    "duration": 10,
    "start_time": "2023-07-10T05:32:42.414Z"
   },
   {
    "duration": 56,
    "start_time": "2023-07-10T05:32:42.426Z"
   },
   {
    "duration": 165,
    "start_time": "2023-07-10T05:32:42.484Z"
   },
   {
    "duration": 194,
    "start_time": "2023-07-10T05:32:42.651Z"
   },
   {
    "duration": 3,
    "start_time": "2023-07-10T05:32:42.847Z"
   },
   {
    "duration": 21,
    "start_time": "2023-07-10T05:32:42.859Z"
   },
   {
    "duration": 172,
    "start_time": "2023-07-10T05:32:42.882Z"
   },
   {
    "duration": 685,
    "start_time": "2023-07-10T05:32:43.056Z"
   },
   {
    "duration": 27,
    "start_time": "2023-07-10T05:32:43.743Z"
   },
   {
    "duration": 188,
    "start_time": "2023-07-10T05:32:43.772Z"
   },
   {
    "duration": 596,
    "start_time": "2023-07-10T05:32:43.964Z"
   },
   {
    "duration": 0,
    "start_time": "2023-07-10T05:32:44.563Z"
   },
   {
    "duration": 0,
    "start_time": "2023-07-10T05:32:44.564Z"
   },
   {
    "duration": 0,
    "start_time": "2023-07-10T05:32:44.566Z"
   },
   {
    "duration": 0,
    "start_time": "2023-07-10T05:32:44.567Z"
   },
   {
    "duration": 0,
    "start_time": "2023-07-10T05:32:44.568Z"
   },
   {
    "duration": 0,
    "start_time": "2023-07-10T05:32:44.570Z"
   },
   {
    "duration": 0,
    "start_time": "2023-07-10T05:32:44.571Z"
   },
   {
    "duration": 0,
    "start_time": "2023-07-10T05:32:44.573Z"
   },
   {
    "duration": 686,
    "start_time": "2023-07-10T05:33:18.042Z"
   },
   {
    "duration": 1462,
    "start_time": "2023-07-10T05:35:06.970Z"
   },
   {
    "duration": 912,
    "start_time": "2023-07-10T05:35:08.434Z"
   },
   {
    "duration": 21,
    "start_time": "2023-07-10T05:35:09.348Z"
   },
   {
    "duration": 133,
    "start_time": "2023-07-10T05:35:09.371Z"
   },
   {
    "duration": 166,
    "start_time": "2023-07-10T05:35:09.505Z"
   },
   {
    "duration": 1210,
    "start_time": "2023-07-10T05:35:09.673Z"
   },
   {
    "duration": 116,
    "start_time": "2023-07-10T05:35:10.885Z"
   },
   {
    "duration": 74,
    "start_time": "2023-07-10T05:35:11.003Z"
   },
   {
    "duration": 5,
    "start_time": "2023-07-10T05:35:11.079Z"
   },
   {
    "duration": 36,
    "start_time": "2023-07-10T05:35:11.088Z"
   },
   {
    "duration": 54,
    "start_time": "2023-07-10T05:35:11.126Z"
   },
   {
    "duration": 29,
    "start_time": "2023-07-10T05:35:11.182Z"
   },
   {
    "duration": 85,
    "start_time": "2023-07-10T05:35:11.213Z"
   },
   {
    "duration": 6,
    "start_time": "2023-07-10T05:35:11.300Z"
   },
   {
    "duration": 157,
    "start_time": "2023-07-10T05:35:11.307Z"
   },
   {
    "duration": 9,
    "start_time": "2023-07-10T05:35:11.466Z"
   },
   {
    "duration": 111,
    "start_time": "2023-07-10T05:35:11.477Z"
   },
   {
    "duration": 9,
    "start_time": "2023-07-10T05:35:11.590Z"
   },
   {
    "duration": 35,
    "start_time": "2023-07-10T05:35:11.601Z"
   },
   {
    "duration": 173,
    "start_time": "2023-07-10T05:35:11.637Z"
   },
   {
    "duration": 196,
    "start_time": "2023-07-10T05:35:11.812Z"
   },
   {
    "duration": 2,
    "start_time": "2023-07-10T05:35:12.010Z"
   },
   {
    "duration": 20,
    "start_time": "2023-07-10T05:35:12.014Z"
   },
   {
    "duration": 137,
    "start_time": "2023-07-10T05:35:12.036Z"
   },
   {
    "duration": 628,
    "start_time": "2023-07-10T05:35:12.175Z"
   },
   {
    "duration": 17,
    "start_time": "2023-07-10T05:35:12.805Z"
   },
   {
    "duration": 121,
    "start_time": "2023-07-10T05:35:12.824Z"
   },
   {
    "duration": 598,
    "start_time": "2023-07-10T05:35:12.949Z"
   },
   {
    "duration": 184,
    "start_time": "2023-07-10T05:35:13.549Z"
   },
   {
    "duration": 0,
    "start_time": "2023-07-10T05:35:13.736Z"
   },
   {
    "duration": 0,
    "start_time": "2023-07-10T05:35:13.737Z"
   },
   {
    "duration": 0,
    "start_time": "2023-07-10T05:35:13.739Z"
   },
   {
    "duration": 0,
    "start_time": "2023-07-10T05:35:13.740Z"
   },
   {
    "duration": 0,
    "start_time": "2023-07-10T05:35:13.742Z"
   },
   {
    "duration": 0,
    "start_time": "2023-07-10T05:35:13.743Z"
   },
   {
    "duration": 0,
    "start_time": "2023-07-10T05:35:13.760Z"
   },
   {
    "duration": 1496,
    "start_time": "2023-07-10T05:41:11.309Z"
   },
   {
    "duration": 888,
    "start_time": "2023-07-10T05:41:12.808Z"
   },
   {
    "duration": 20,
    "start_time": "2023-07-10T05:41:13.698Z"
   },
   {
    "duration": 149,
    "start_time": "2023-07-10T05:41:13.720Z"
   },
   {
    "duration": 202,
    "start_time": "2023-07-10T05:41:13.872Z"
   },
   {
    "duration": 1343,
    "start_time": "2023-07-10T05:41:14.077Z"
   },
   {
    "duration": 116,
    "start_time": "2023-07-10T05:41:15.422Z"
   },
   {
    "duration": 77,
    "start_time": "2023-07-10T05:41:15.541Z"
   },
   {
    "duration": 7,
    "start_time": "2023-07-10T05:41:15.620Z"
   },
   {
    "duration": 52,
    "start_time": "2023-07-10T05:41:15.629Z"
   },
   {
    "duration": 48,
    "start_time": "2023-07-10T05:41:15.684Z"
   },
   {
    "duration": 46,
    "start_time": "2023-07-10T05:41:15.734Z"
   },
   {
    "duration": 104,
    "start_time": "2023-07-10T05:41:15.783Z"
   },
   {
    "duration": 23,
    "start_time": "2023-07-10T05:41:15.891Z"
   },
   {
    "duration": 65,
    "start_time": "2023-07-10T05:41:15.916Z"
   },
   {
    "duration": 10,
    "start_time": "2023-07-10T05:41:15.984Z"
   },
   {
    "duration": 151,
    "start_time": "2023-07-10T05:41:15.996Z"
   },
   {
    "duration": 15,
    "start_time": "2023-07-10T05:41:16.149Z"
   },
   {
    "duration": 51,
    "start_time": "2023-07-10T05:41:16.166Z"
   },
   {
    "duration": 192,
    "start_time": "2023-07-10T05:41:16.218Z"
   },
   {
    "duration": 186,
    "start_time": "2023-07-10T05:41:16.412Z"
   },
   {
    "duration": 2,
    "start_time": "2023-07-10T05:41:16.600Z"
   },
   {
    "duration": 20,
    "start_time": "2023-07-10T05:41:16.604Z"
   },
   {
    "duration": 134,
    "start_time": "2023-07-10T05:41:16.626Z"
   },
   {
    "duration": 600,
    "start_time": "2023-07-10T05:41:16.762Z"
   },
   {
    "duration": 16,
    "start_time": "2023-07-10T05:41:17.364Z"
   },
   {
    "duration": 123,
    "start_time": "2023-07-10T05:41:17.382Z"
   },
   {
    "duration": 119,
    "start_time": "2023-07-10T05:41:17.507Z"
   },
   {
    "duration": 0,
    "start_time": "2023-07-10T05:41:17.628Z"
   },
   {
    "duration": 0,
    "start_time": "2023-07-10T05:41:17.629Z"
   },
   {
    "duration": 0,
    "start_time": "2023-07-10T05:41:17.630Z"
   },
   {
    "duration": 0,
    "start_time": "2023-07-10T05:41:17.632Z"
   },
   {
    "duration": 0,
    "start_time": "2023-07-10T05:41:17.633Z"
   },
   {
    "duration": 0,
    "start_time": "2023-07-10T05:41:17.634Z"
   },
   {
    "duration": 0,
    "start_time": "2023-07-10T05:41:17.636Z"
   },
   {
    "duration": 0,
    "start_time": "2023-07-10T05:41:17.637Z"
   },
   {
    "duration": 1449,
    "start_time": "2023-07-10T05:44:37.616Z"
   },
   {
    "duration": 854,
    "start_time": "2023-07-10T05:44:39.067Z"
   },
   {
    "duration": 19,
    "start_time": "2023-07-10T05:44:39.922Z"
   },
   {
    "duration": 143,
    "start_time": "2023-07-10T05:44:39.942Z"
   },
   {
    "duration": 144,
    "start_time": "2023-07-10T05:44:40.089Z"
   },
   {
    "duration": 1065,
    "start_time": "2023-07-10T05:44:40.235Z"
   },
   {
    "duration": 125,
    "start_time": "2023-07-10T05:44:41.302Z"
   },
   {
    "duration": 71,
    "start_time": "2023-07-10T05:44:41.429Z"
   },
   {
    "duration": 5,
    "start_time": "2023-07-10T05:44:41.502Z"
   },
   {
    "duration": 29,
    "start_time": "2023-07-10T05:44:41.509Z"
   },
   {
    "duration": 57,
    "start_time": "2023-07-10T05:44:41.540Z"
   },
   {
    "duration": 28,
    "start_time": "2023-07-10T05:44:41.600Z"
   },
   {
    "duration": 82,
    "start_time": "2023-07-10T05:44:41.630Z"
   },
   {
    "duration": 8,
    "start_time": "2023-07-10T05:44:41.715Z"
   },
   {
    "duration": 156,
    "start_time": "2023-07-10T05:44:41.725Z"
   },
   {
    "duration": 8,
    "start_time": "2023-07-10T05:44:41.883Z"
   },
   {
    "duration": 121,
    "start_time": "2023-07-10T05:44:41.892Z"
   },
   {
    "duration": 9,
    "start_time": "2023-07-10T05:44:42.014Z"
   },
   {
    "duration": 59,
    "start_time": "2023-07-10T05:44:42.025Z"
   },
   {
    "duration": 159,
    "start_time": "2023-07-10T05:44:42.086Z"
   },
   {
    "duration": 193,
    "start_time": "2023-07-10T05:44:42.247Z"
   },
   {
    "duration": 3,
    "start_time": "2023-07-10T05:44:42.442Z"
   },
   {
    "duration": 26,
    "start_time": "2023-07-10T05:44:42.446Z"
   },
   {
    "duration": 119,
    "start_time": "2023-07-10T05:44:42.474Z"
   },
   {
    "duration": 664,
    "start_time": "2023-07-10T05:44:42.595Z"
   },
   {
    "duration": 16,
    "start_time": "2023-07-10T05:44:43.261Z"
   },
   {
    "duration": 131,
    "start_time": "2023-07-10T05:44:43.279Z"
   },
   {
    "duration": 152,
    "start_time": "2023-07-10T05:44:43.412Z"
   },
   {
    "duration": 0,
    "start_time": "2023-07-10T05:44:43.566Z"
   },
   {
    "duration": 0,
    "start_time": "2023-07-10T05:44:43.568Z"
   },
   {
    "duration": 0,
    "start_time": "2023-07-10T05:44:43.569Z"
   },
   {
    "duration": 0,
    "start_time": "2023-07-10T05:44:43.570Z"
   },
   {
    "duration": 0,
    "start_time": "2023-07-10T05:44:43.571Z"
   },
   {
    "duration": 0,
    "start_time": "2023-07-10T05:44:43.572Z"
   },
   {
    "duration": 0,
    "start_time": "2023-07-10T05:44:43.573Z"
   },
   {
    "duration": 0,
    "start_time": "2023-07-10T05:44:43.575Z"
   },
   {
    "duration": 12,
    "start_time": "2023-07-10T05:50:17.144Z"
   },
   {
    "duration": 11,
    "start_time": "2023-07-10T05:50:35.783Z"
   },
   {
    "duration": 281,
    "start_time": "2023-07-10T05:51:11.917Z"
   },
   {
    "duration": 111,
    "start_time": "2023-07-10T05:51:38.987Z"
   },
   {
    "duration": 112,
    "start_time": "2023-07-10T05:51:55.443Z"
   },
   {
    "duration": 114,
    "start_time": "2023-07-10T05:52:05.522Z"
   },
   {
    "duration": 11,
    "start_time": "2023-07-10T05:52:12.425Z"
   },
   {
    "duration": 1560,
    "start_time": "2023-07-10T05:55:34.398Z"
   },
   {
    "duration": 887,
    "start_time": "2023-07-10T05:55:35.960Z"
   },
   {
    "duration": 24,
    "start_time": "2023-07-10T05:55:36.848Z"
   },
   {
    "duration": 127,
    "start_time": "2023-07-10T05:55:36.873Z"
   },
   {
    "duration": 116,
    "start_time": "2023-07-10T05:55:37.003Z"
   },
   {
    "duration": 1118,
    "start_time": "2023-07-10T05:55:37.120Z"
   },
   {
    "duration": 113,
    "start_time": "2023-07-10T05:55:38.239Z"
   },
   {
    "duration": 62,
    "start_time": "2023-07-10T05:55:38.360Z"
   },
   {
    "duration": 6,
    "start_time": "2023-07-10T05:55:38.424Z"
   },
   {
    "duration": 54,
    "start_time": "2023-07-10T05:55:38.432Z"
   },
   {
    "duration": 57,
    "start_time": "2023-07-10T05:55:38.489Z"
   },
   {
    "duration": 26,
    "start_time": "2023-07-10T05:55:38.548Z"
   },
   {
    "duration": 95,
    "start_time": "2023-07-10T05:55:38.575Z"
   },
   {
    "duration": 7,
    "start_time": "2023-07-10T05:55:38.673Z"
   },
   {
    "duration": 144,
    "start_time": "2023-07-10T05:55:38.682Z"
   },
   {
    "duration": 10,
    "start_time": "2023-07-10T05:55:38.828Z"
   },
   {
    "duration": 113,
    "start_time": "2023-07-10T05:55:38.840Z"
   },
   {
    "duration": 11,
    "start_time": "2023-07-10T05:55:38.959Z"
   },
   {
    "duration": 34,
    "start_time": "2023-07-10T05:55:38.971Z"
   },
   {
    "duration": 189,
    "start_time": "2023-07-10T05:55:39.008Z"
   },
   {
    "duration": 184,
    "start_time": "2023-07-10T05:55:39.198Z"
   },
   {
    "duration": 2,
    "start_time": "2023-07-10T05:55:39.384Z"
   },
   {
    "duration": 27,
    "start_time": "2023-07-10T05:55:39.388Z"
   },
   {
    "duration": 116,
    "start_time": "2023-07-10T05:55:39.416Z"
   },
   {
    "duration": 602,
    "start_time": "2023-07-10T05:55:39.534Z"
   },
   {
    "duration": 24,
    "start_time": "2023-07-10T05:55:40.138Z"
   },
   {
    "duration": 113,
    "start_time": "2023-07-10T05:55:40.164Z"
   },
   {
    "duration": 1987,
    "start_time": "2023-07-10T05:55:40.279Z"
   },
   {
    "duration": 0,
    "start_time": "2023-07-10T05:55:42.267Z"
   },
   {
    "duration": 0,
    "start_time": "2023-07-10T05:55:42.268Z"
   },
   {
    "duration": 0,
    "start_time": "2023-07-10T05:55:42.269Z"
   },
   {
    "duration": 0,
    "start_time": "2023-07-10T05:55:42.270Z"
   },
   {
    "duration": 0,
    "start_time": "2023-07-10T05:55:42.272Z"
   },
   {
    "duration": 0,
    "start_time": "2023-07-10T05:55:42.273Z"
   },
   {
    "duration": 0,
    "start_time": "2023-07-10T05:55:42.274Z"
   },
   {
    "duration": 0,
    "start_time": "2023-07-10T05:55:42.275Z"
   },
   {
    "duration": 117,
    "start_time": "2023-07-10T05:58:38.134Z"
   },
   {
    "duration": 17,
    "start_time": "2023-07-10T05:58:47.174Z"
   },
   {
    "duration": 1466,
    "start_time": "2023-07-10T06:00:47.998Z"
   },
   {
    "duration": 872,
    "start_time": "2023-07-10T06:00:49.466Z"
   },
   {
    "duration": 23,
    "start_time": "2023-07-10T06:00:50.340Z"
   },
   {
    "duration": 147,
    "start_time": "2023-07-10T06:00:50.367Z"
   },
   {
    "duration": 108,
    "start_time": "2023-07-10T06:00:50.516Z"
   },
   {
    "duration": 1122,
    "start_time": "2023-07-10T06:00:50.626Z"
   },
   {
    "duration": 116,
    "start_time": "2023-07-10T06:00:51.750Z"
   },
   {
    "duration": 61,
    "start_time": "2023-07-10T06:00:51.868Z"
   },
   {
    "duration": 5,
    "start_time": "2023-07-10T06:00:51.931Z"
   },
   {
    "duration": 30,
    "start_time": "2023-07-10T06:00:51.958Z"
   },
   {
    "duration": 87,
    "start_time": "2023-07-10T06:00:51.990Z"
   },
   {
    "duration": 24,
    "start_time": "2023-07-10T06:00:52.079Z"
   },
   {
    "duration": 106,
    "start_time": "2023-07-10T06:00:52.104Z"
   },
   {
    "duration": 23,
    "start_time": "2023-07-10T06:00:52.213Z"
   },
   {
    "duration": 135,
    "start_time": "2023-07-10T06:00:52.238Z"
   },
   {
    "duration": 8,
    "start_time": "2023-07-10T06:00:52.375Z"
   },
   {
    "duration": 112,
    "start_time": "2023-07-10T06:00:52.385Z"
   },
   {
    "duration": 9,
    "start_time": "2023-07-10T06:00:52.499Z"
   },
   {
    "duration": 62,
    "start_time": "2023-07-10T06:00:52.510Z"
   },
   {
    "duration": 153,
    "start_time": "2023-07-10T06:00:52.574Z"
   },
   {
    "duration": 177,
    "start_time": "2023-07-10T06:00:52.728Z"
   },
   {
    "duration": 2,
    "start_time": "2023-07-10T06:00:52.907Z"
   },
   {
    "duration": 27,
    "start_time": "2023-07-10T06:00:52.911Z"
   },
   {
    "duration": 134,
    "start_time": "2023-07-10T06:00:52.940Z"
   },
   {
    "duration": 586,
    "start_time": "2023-07-10T06:00:53.077Z"
   },
   {
    "duration": 17,
    "start_time": "2023-07-10T06:00:53.665Z"
   },
   {
    "duration": 123,
    "start_time": "2023-07-10T06:00:53.684Z"
   },
   {
    "duration": 677,
    "start_time": "2023-07-10T06:00:53.811Z"
   },
   {
    "duration": 184,
    "start_time": "2023-07-10T06:00:54.490Z"
   },
   {
    "duration": 0,
    "start_time": "2023-07-10T06:00:54.676Z"
   },
   {
    "duration": 0,
    "start_time": "2023-07-10T06:00:54.678Z"
   },
   {
    "duration": 0,
    "start_time": "2023-07-10T06:00:54.680Z"
   },
   {
    "duration": 0,
    "start_time": "2023-07-10T06:00:54.681Z"
   },
   {
    "duration": 0,
    "start_time": "2023-07-10T06:00:54.683Z"
   },
   {
    "duration": 0,
    "start_time": "2023-07-10T06:00:54.684Z"
   },
   {
    "duration": 0,
    "start_time": "2023-07-10T06:00:54.685Z"
   },
   {
    "duration": 71,
    "start_time": "2023-07-10T06:01:42.400Z"
   },
   {
    "duration": 72,
    "start_time": "2023-07-10T06:02:02.895Z"
   },
   {
    "duration": 1604,
    "start_time": "2023-07-10T06:02:12.000Z"
   },
   {
    "duration": 944,
    "start_time": "2023-07-10T06:02:13.606Z"
   },
   {
    "duration": 21,
    "start_time": "2023-07-10T06:02:14.552Z"
   },
   {
    "duration": 144,
    "start_time": "2023-07-10T06:02:14.575Z"
   },
   {
    "duration": 112,
    "start_time": "2023-07-10T06:02:14.722Z"
   },
   {
    "duration": 1307,
    "start_time": "2023-07-10T06:02:14.836Z"
   },
   {
    "duration": 143,
    "start_time": "2023-07-10T06:02:16.145Z"
   },
   {
    "duration": 84,
    "start_time": "2023-07-10T06:02:16.290Z"
   },
   {
    "duration": 5,
    "start_time": "2023-07-10T06:02:16.376Z"
   },
   {
    "duration": 49,
    "start_time": "2023-07-10T06:02:16.382Z"
   },
   {
    "duration": 55,
    "start_time": "2023-07-10T06:02:16.433Z"
   },
   {
    "duration": 30,
    "start_time": "2023-07-10T06:02:16.491Z"
   },
   {
    "duration": 93,
    "start_time": "2023-07-10T06:02:16.523Z"
   },
   {
    "duration": 11,
    "start_time": "2023-07-10T06:02:16.621Z"
   },
   {
    "duration": 73,
    "start_time": "2023-07-10T06:02:16.634Z"
   },
   {
    "duration": 12,
    "start_time": "2023-07-10T06:02:16.710Z"
   },
   {
    "duration": 129,
    "start_time": "2023-07-10T06:02:16.724Z"
   },
   {
    "duration": 10,
    "start_time": "2023-07-10T06:02:16.855Z"
   },
   {
    "duration": 64,
    "start_time": "2023-07-10T06:02:16.868Z"
   },
   {
    "duration": 171,
    "start_time": "2023-07-10T06:02:16.935Z"
   },
   {
    "duration": 180,
    "start_time": "2023-07-10T06:02:17.109Z"
   },
   {
    "duration": 2,
    "start_time": "2023-07-10T06:02:17.291Z"
   },
   {
    "duration": 25,
    "start_time": "2023-07-10T06:02:17.295Z"
   },
   {
    "duration": 118,
    "start_time": "2023-07-10T06:02:17.321Z"
   },
   {
    "duration": 586,
    "start_time": "2023-07-10T06:02:17.440Z"
   },
   {
    "duration": 19,
    "start_time": "2023-07-10T06:02:18.028Z"
   },
   {
    "duration": 131,
    "start_time": "2023-07-10T06:02:18.058Z"
   },
   {
    "duration": 657,
    "start_time": "2023-07-10T06:02:18.192Z"
   },
   {
    "duration": 75,
    "start_time": "2023-07-10T06:02:18.851Z"
   },
   {
    "duration": 89,
    "start_time": "2023-07-10T06:02:18.928Z"
   },
   {
    "duration": 35441,
    "start_time": "2023-07-10T06:02:19.019Z"
   },
   {
    "duration": 2819,
    "start_time": "2023-07-10T06:02:54.462Z"
   },
   {
    "duration": 448226,
    "start_time": "2023-07-10T06:02:57.283Z"
   },
   {
    "duration": 330550,
    "start_time": "2023-07-10T06:10:25.511Z"
   },
   {
    "duration": 13,
    "start_time": "2023-07-10T06:15:56.064Z"
   },
   {
    "duration": 390601,
    "start_time": "2023-07-10T06:15:56.079Z"
   },
   {
    "duration": 1481,
    "start_time": "2023-07-10T07:50:26.811Z"
   },
   {
    "duration": 893,
    "start_time": "2023-07-10T07:50:28.294Z"
   },
   {
    "duration": 27,
    "start_time": "2023-07-10T07:50:29.189Z"
   },
   {
    "duration": 151,
    "start_time": "2023-07-10T07:50:29.218Z"
   },
   {
    "duration": 110,
    "start_time": "2023-07-10T07:50:29.372Z"
   },
   {
    "duration": 1346,
    "start_time": "2023-07-10T07:50:29.484Z"
   },
   {
    "duration": 139,
    "start_time": "2023-07-10T07:50:30.832Z"
   },
   {
    "duration": 68,
    "start_time": "2023-07-10T07:50:30.973Z"
   },
   {
    "duration": 6,
    "start_time": "2023-07-10T07:50:31.043Z"
   },
   {
    "duration": 77,
    "start_time": "2023-07-10T07:50:31.050Z"
   },
   {
    "duration": 147,
    "start_time": "2023-07-10T07:50:31.129Z"
   },
   {
    "duration": 32,
    "start_time": "2023-07-10T07:50:31.278Z"
   },
   {
    "duration": 139,
    "start_time": "2023-07-10T07:50:31.312Z"
   },
   {
    "duration": 84,
    "start_time": "2023-07-10T07:50:31.455Z"
   },
   {
    "duration": 90,
    "start_time": "2023-07-10T07:50:31.541Z"
   },
   {
    "duration": 34,
    "start_time": "2023-07-10T07:50:31.633Z"
   },
   {
    "duration": 163,
    "start_time": "2023-07-10T07:50:31.669Z"
   },
   {
    "duration": 12,
    "start_time": "2023-07-10T07:50:31.859Z"
   },
   {
    "duration": 85,
    "start_time": "2023-07-10T07:50:31.873Z"
   },
   {
    "duration": 182,
    "start_time": "2023-07-10T07:50:31.972Z"
   },
   {
    "duration": 196,
    "start_time": "2023-07-10T07:50:32.156Z"
   },
   {
    "duration": 6,
    "start_time": "2023-07-10T07:50:32.354Z"
   },
   {
    "duration": 27,
    "start_time": "2023-07-10T07:50:32.364Z"
   },
   {
    "duration": 52,
    "start_time": "2023-07-10T07:50:32.394Z"
   },
   {
    "duration": 158,
    "start_time": "2023-07-10T07:50:32.448Z"
   },
   {
    "duration": 644,
    "start_time": "2023-07-10T07:50:32.608Z"
   },
   {
    "duration": 17,
    "start_time": "2023-07-10T07:50:33.253Z"
   },
   {
    "duration": 122,
    "start_time": "2023-07-10T07:50:33.271Z"
   },
   {
    "duration": 129,
    "start_time": "2023-07-10T07:50:33.394Z"
   },
   {
    "duration": 0,
    "start_time": "2023-07-10T07:50:33.525Z"
   },
   {
    "duration": 0,
    "start_time": "2023-07-10T07:50:33.526Z"
   },
   {
    "duration": 0,
    "start_time": "2023-07-10T07:50:33.527Z"
   },
   {
    "duration": 0,
    "start_time": "2023-07-10T07:50:33.528Z"
   },
   {
    "duration": 0,
    "start_time": "2023-07-10T07:50:33.529Z"
   },
   {
    "duration": 0,
    "start_time": "2023-07-10T07:50:33.530Z"
   },
   {
    "duration": 0,
    "start_time": "2023-07-10T07:50:33.531Z"
   },
   {
    "duration": 0,
    "start_time": "2023-07-10T07:50:33.532Z"
   },
   {
    "duration": 104,
    "start_time": "2023-07-10T07:50:52.081Z"
   },
   {
    "duration": 118,
    "start_time": "2023-07-10T07:50:53.358Z"
   },
   {
    "duration": 115,
    "start_time": "2023-07-10T07:53:41.860Z"
   },
   {
    "duration": 73,
    "start_time": "2023-07-10T07:53:43.050Z"
   },
   {
    "duration": 1518,
    "start_time": "2023-07-10T07:55:46.419Z"
   },
   {
    "duration": 930,
    "start_time": "2023-07-10T07:55:47.939Z"
   },
   {
    "duration": 20,
    "start_time": "2023-07-10T07:55:48.871Z"
   },
   {
    "duration": 136,
    "start_time": "2023-07-10T07:55:48.893Z"
   },
   {
    "duration": 153,
    "start_time": "2023-07-10T07:55:49.031Z"
   },
   {
    "duration": 1265,
    "start_time": "2023-07-10T07:55:49.186Z"
   },
   {
    "duration": 129,
    "start_time": "2023-07-10T07:55:50.453Z"
   },
   {
    "duration": 78,
    "start_time": "2023-07-10T07:55:50.584Z"
   },
   {
    "duration": 7,
    "start_time": "2023-07-10T07:55:50.670Z"
   },
   {
    "duration": 38,
    "start_time": "2023-07-10T07:55:50.678Z"
   },
   {
    "duration": 49,
    "start_time": "2023-07-10T07:55:50.718Z"
   },
   {
    "duration": 29,
    "start_time": "2023-07-10T07:55:50.776Z"
   },
   {
    "duration": 102,
    "start_time": "2023-07-10T07:55:50.807Z"
   },
   {
    "duration": 8,
    "start_time": "2023-07-10T07:55:50.912Z"
   },
   {
    "duration": 68,
    "start_time": "2023-07-10T07:55:50.922Z"
   },
   {
    "duration": 10,
    "start_time": "2023-07-10T07:55:50.991Z"
   },
   {
    "duration": 127,
    "start_time": "2023-07-10T07:55:51.003Z"
   },
   {
    "duration": 9,
    "start_time": "2023-07-10T07:55:51.132Z"
   },
   {
    "duration": 60,
    "start_time": "2023-07-10T07:55:51.143Z"
   },
   {
    "duration": 172,
    "start_time": "2023-07-10T07:55:51.205Z"
   },
   {
    "duration": 184,
    "start_time": "2023-07-10T07:55:51.379Z"
   },
   {
    "duration": 3,
    "start_time": "2023-07-10T07:55:51.565Z"
   },
   {
    "duration": 22,
    "start_time": "2023-07-10T07:55:51.570Z"
   },
   {
    "duration": 29,
    "start_time": "2023-07-10T07:55:51.594Z"
   },
   {
    "duration": 119,
    "start_time": "2023-07-10T07:55:51.625Z"
   },
   {
    "duration": 626,
    "start_time": "2023-07-10T07:55:51.746Z"
   },
   {
    "duration": 16,
    "start_time": "2023-07-10T07:55:52.374Z"
   },
   {
    "duration": 129,
    "start_time": "2023-07-10T07:55:52.393Z"
   },
   {
    "duration": 223,
    "start_time": "2023-07-10T07:55:52.524Z"
   },
   {
    "duration": 0,
    "start_time": "2023-07-10T07:55:52.749Z"
   },
   {
    "duration": 0,
    "start_time": "2023-07-10T07:55:52.750Z"
   },
   {
    "duration": 0,
    "start_time": "2023-07-10T07:55:52.751Z"
   },
   {
    "duration": 0,
    "start_time": "2023-07-10T07:55:52.759Z"
   },
   {
    "duration": 0,
    "start_time": "2023-07-10T07:55:52.760Z"
   },
   {
    "duration": 0,
    "start_time": "2023-07-10T07:55:52.761Z"
   },
   {
    "duration": 0,
    "start_time": "2023-07-10T07:55:52.761Z"
   },
   {
    "duration": 0,
    "start_time": "2023-07-10T07:55:52.762Z"
   },
   {
    "duration": 503,
    "start_time": "2023-07-10T07:56:11.353Z"
   },
   {
    "duration": 1570,
    "start_time": "2023-07-10T07:56:26.035Z"
   },
   {
    "duration": 946,
    "start_time": "2023-07-10T07:56:27.607Z"
   },
   {
    "duration": 27,
    "start_time": "2023-07-10T07:56:28.555Z"
   },
   {
    "duration": 193,
    "start_time": "2023-07-10T07:56:28.584Z"
   },
   {
    "duration": 171,
    "start_time": "2023-07-10T07:56:28.781Z"
   },
   {
    "duration": 1300,
    "start_time": "2023-07-10T07:56:28.953Z"
   },
   {
    "duration": 148,
    "start_time": "2023-07-10T07:56:30.259Z"
   },
   {
    "duration": 97,
    "start_time": "2023-07-10T07:56:30.409Z"
   },
   {
    "duration": 7,
    "start_time": "2023-07-10T07:56:30.508Z"
   },
   {
    "duration": 63,
    "start_time": "2023-07-10T07:56:30.517Z"
   },
   {
    "duration": 121,
    "start_time": "2023-07-10T07:56:30.582Z"
   },
   {
    "duration": 30,
    "start_time": "2023-07-10T07:56:30.705Z"
   },
   {
    "duration": 142,
    "start_time": "2023-07-10T07:56:30.737Z"
   },
   {
    "duration": 44,
    "start_time": "2023-07-10T07:56:30.882Z"
   },
   {
    "duration": 214,
    "start_time": "2023-07-10T07:56:30.928Z"
   },
   {
    "duration": 10,
    "start_time": "2023-07-10T07:56:31.143Z"
   },
   {
    "duration": 199,
    "start_time": "2023-07-10T07:56:31.155Z"
   },
   {
    "duration": 16,
    "start_time": "2023-07-10T07:56:31.361Z"
   },
   {
    "duration": 100,
    "start_time": "2023-07-10T07:56:31.379Z"
   },
   {
    "duration": 196,
    "start_time": "2023-07-10T07:56:31.481Z"
   },
   {
    "duration": 293,
    "start_time": "2023-07-10T07:56:31.679Z"
   },
   {
    "duration": 4,
    "start_time": "2023-07-10T07:56:31.980Z"
   },
   {
    "duration": 17,
    "start_time": "2023-07-10T07:56:31.986Z"
   },
   {
    "duration": 33,
    "start_time": "2023-07-10T07:56:32.005Z"
   },
   {
    "duration": 157,
    "start_time": "2023-07-10T07:56:32.040Z"
   },
   {
    "duration": 704,
    "start_time": "2023-07-10T07:56:32.199Z"
   },
   {
    "duration": 16,
    "start_time": "2023-07-10T07:56:32.906Z"
   },
   {
    "duration": 148,
    "start_time": "2023-07-10T07:56:32.924Z"
   },
   {
    "duration": 557,
    "start_time": "2023-07-10T07:56:33.074Z"
   },
   {
    "duration": 61,
    "start_time": "2023-07-10T07:56:33.633Z"
   },
   {
    "duration": 84,
    "start_time": "2023-07-10T07:56:33.697Z"
   },
   {
    "duration": 36385,
    "start_time": "2023-07-10T07:56:33.784Z"
   },
   {
    "duration": 1323,
    "start_time": "2023-07-10T07:57:10.178Z"
   },
   {
    "duration": 1650,
    "start_time": "2023-07-10T07:59:50.359Z"
   },
   {
    "duration": 942,
    "start_time": "2023-07-10T07:59:52.011Z"
   },
   {
    "duration": 26,
    "start_time": "2023-07-10T07:59:52.954Z"
   },
   {
    "duration": 171,
    "start_time": "2023-07-10T07:59:52.982Z"
   },
   {
    "duration": 124,
    "start_time": "2023-07-10T07:59:53.156Z"
   },
   {
    "duration": 1449,
    "start_time": "2023-07-10T07:59:53.285Z"
   },
   {
    "duration": 152,
    "start_time": "2023-07-10T07:59:54.737Z"
   },
   {
    "duration": 78,
    "start_time": "2023-07-10T07:59:54.897Z"
   },
   {
    "duration": 8,
    "start_time": "2023-07-10T07:59:54.977Z"
   },
   {
    "duration": 39,
    "start_time": "2023-07-10T07:59:54.990Z"
   },
   {
    "duration": 61,
    "start_time": "2023-07-10T07:59:55.031Z"
   },
   {
    "duration": 77,
    "start_time": "2023-07-10T07:59:55.094Z"
   },
   {
    "duration": 117,
    "start_time": "2023-07-10T07:59:55.173Z"
   },
   {
    "duration": 29,
    "start_time": "2023-07-10T07:59:55.296Z"
   },
   {
    "duration": 102,
    "start_time": "2023-07-10T07:59:55.328Z"
   },
   {
    "duration": 9,
    "start_time": "2023-07-10T07:59:55.432Z"
   },
   {
    "duration": 121,
    "start_time": "2023-07-10T07:59:55.442Z"
   },
   {
    "duration": 17,
    "start_time": "2023-07-10T07:59:55.576Z"
   },
   {
    "duration": 54,
    "start_time": "2023-07-10T07:59:55.595Z"
   },
   {
    "duration": 182,
    "start_time": "2023-07-10T07:59:55.651Z"
   },
   {
    "duration": 209,
    "start_time": "2023-07-10T07:59:55.834Z"
   },
   {
    "duration": 2,
    "start_time": "2023-07-10T07:59:56.045Z"
   },
   {
    "duration": 3,
    "start_time": "2023-07-10T07:59:56.064Z"
   },
   {
    "duration": 66,
    "start_time": "2023-07-10T07:59:56.069Z"
   },
   {
    "duration": 267,
    "start_time": "2023-07-10T07:59:56.137Z"
   },
   {
    "duration": 665,
    "start_time": "2023-07-10T07:59:56.406Z"
   },
   {
    "duration": 21,
    "start_time": "2023-07-10T07:59:57.077Z"
   },
   {
    "duration": 125,
    "start_time": "2023-07-10T07:59:57.100Z"
   },
   {
    "duration": 559,
    "start_time": "2023-07-10T07:59:57.227Z"
   },
   {
    "duration": 3,
    "start_time": "2023-07-10T07:59:57.792Z"
   },
   {
    "duration": 94,
    "start_time": "2023-07-10T07:59:57.797Z"
   },
   {
    "duration": 34091,
    "start_time": "2023-07-10T07:59:57.893Z"
   },
   {
    "duration": 1437,
    "start_time": "2023-07-10T08:00:31.986Z"
   },
   {
    "duration": 212107,
    "start_time": "2023-07-10T08:00:33.425Z"
   },
   {
    "duration": 1590,
    "start_time": "2023-07-10T08:09:06.649Z"
   },
   {
    "duration": 948,
    "start_time": "2023-07-10T08:09:08.242Z"
   },
   {
    "duration": 21,
    "start_time": "2023-07-10T08:09:09.192Z"
   },
   {
    "duration": 153,
    "start_time": "2023-07-10T08:09:09.216Z"
   },
   {
    "duration": 136,
    "start_time": "2023-07-10T08:09:09.371Z"
   },
   {
    "duration": 1164,
    "start_time": "2023-07-10T08:09:09.509Z"
   },
   {
    "duration": 114,
    "start_time": "2023-07-10T08:09:10.676Z"
   },
   {
    "duration": 84,
    "start_time": "2023-07-10T08:09:10.792Z"
   },
   {
    "duration": 6,
    "start_time": "2023-07-10T08:09:10.878Z"
   },
   {
    "duration": 35,
    "start_time": "2023-07-10T08:09:10.885Z"
   },
   {
    "duration": 60,
    "start_time": "2023-07-10T08:09:10.921Z"
   },
   {
    "duration": 28,
    "start_time": "2023-07-10T08:09:10.983Z"
   },
   {
    "duration": 88,
    "start_time": "2023-07-10T08:09:11.013Z"
   },
   {
    "duration": 6,
    "start_time": "2023-07-10T08:09:11.104Z"
   },
   {
    "duration": 162,
    "start_time": "2023-07-10T08:09:11.111Z"
   },
   {
    "duration": 9,
    "start_time": "2023-07-10T08:09:11.276Z"
   },
   {
    "duration": 118,
    "start_time": "2023-07-10T08:09:11.287Z"
   },
   {
    "duration": 9,
    "start_time": "2023-07-10T08:09:11.407Z"
   },
   {
    "duration": 59,
    "start_time": "2023-07-10T08:09:11.418Z"
   },
   {
    "duration": 168,
    "start_time": "2023-07-10T08:09:11.479Z"
   },
   {
    "duration": 184,
    "start_time": "2023-07-10T08:09:11.649Z"
   },
   {
    "duration": 3,
    "start_time": "2023-07-10T08:09:11.835Z"
   },
   {
    "duration": 27,
    "start_time": "2023-07-10T08:09:11.839Z"
   },
   {
    "duration": 17,
    "start_time": "2023-07-10T08:09:11.874Z"
   },
   {
    "duration": 120,
    "start_time": "2023-07-10T08:09:11.893Z"
   },
   {
    "duration": 648,
    "start_time": "2023-07-10T08:09:12.015Z"
   },
   {
    "duration": 18,
    "start_time": "2023-07-10T08:09:12.668Z"
   },
   {
    "duration": 129,
    "start_time": "2023-07-10T08:09:12.689Z"
   },
   {
    "duration": 664,
    "start_time": "2023-07-10T08:09:12.820Z"
   },
   {
    "duration": 0,
    "start_time": "2023-07-10T08:09:13.485Z"
   },
   {
    "duration": 0,
    "start_time": "2023-07-10T08:09:13.487Z"
   },
   {
    "duration": 0,
    "start_time": "2023-07-10T08:09:13.487Z"
   },
   {
    "duration": 0,
    "start_time": "2023-07-10T08:09:13.489Z"
   },
   {
    "duration": 0,
    "start_time": "2023-07-10T08:09:13.489Z"
   },
   {
    "duration": 0,
    "start_time": "2023-07-10T08:09:13.491Z"
   },
   {
    "duration": 0,
    "start_time": "2023-07-10T08:09:13.492Z"
   },
   {
    "duration": 0,
    "start_time": "2023-07-10T08:09:13.493Z"
   },
   {
    "duration": 12,
    "start_time": "2023-07-10T08:10:01.723Z"
   },
   {
    "duration": 1537,
    "start_time": "2023-07-10T08:10:27.278Z"
   },
   {
    "duration": 937,
    "start_time": "2023-07-10T08:10:28.817Z"
   },
   {
    "duration": 30,
    "start_time": "2023-07-10T08:10:29.757Z"
   },
   {
    "duration": 147,
    "start_time": "2023-07-10T08:10:29.789Z"
   },
   {
    "duration": 134,
    "start_time": "2023-07-10T08:10:29.939Z"
   },
   {
    "duration": 1473,
    "start_time": "2023-07-10T08:10:30.080Z"
   },
   {
    "duration": 240,
    "start_time": "2023-07-10T08:10:31.555Z"
   },
   {
    "duration": 120,
    "start_time": "2023-07-10T08:10:31.797Z"
   },
   {
    "duration": 7,
    "start_time": "2023-07-10T08:10:31.919Z"
   },
   {
    "duration": 93,
    "start_time": "2023-07-10T08:10:31.928Z"
   },
   {
    "duration": 84,
    "start_time": "2023-07-10T08:10:32.024Z"
   },
   {
    "duration": 103,
    "start_time": "2023-07-10T08:10:32.110Z"
   },
   {
    "duration": 111,
    "start_time": "2023-07-10T08:10:32.215Z"
   },
   {
    "duration": 45,
    "start_time": "2023-07-10T08:10:32.330Z"
   },
   {
    "duration": 162,
    "start_time": "2023-07-10T08:10:32.381Z"
   },
   {
    "duration": 25,
    "start_time": "2023-07-10T08:10:32.545Z"
   },
   {
    "duration": 134,
    "start_time": "2023-07-10T08:10:32.575Z"
   },
   {
    "duration": 10,
    "start_time": "2023-07-10T08:10:32.711Z"
   },
   {
    "duration": 50,
    "start_time": "2023-07-10T08:10:32.723Z"
   },
   {
    "duration": 181,
    "start_time": "2023-07-10T08:10:32.775Z"
   },
   {
    "duration": 211,
    "start_time": "2023-07-10T08:10:32.958Z"
   },
   {
    "duration": 3,
    "start_time": "2023-07-10T08:10:33.171Z"
   },
   {
    "duration": 18,
    "start_time": "2023-07-10T08:10:33.181Z"
   },
   {
    "duration": 27,
    "start_time": "2023-07-10T08:10:33.201Z"
   },
   {
    "duration": 124,
    "start_time": "2023-07-10T08:10:33.230Z"
   },
   {
    "duration": 680,
    "start_time": "2023-07-10T08:10:33.359Z"
   },
   {
    "duration": 24,
    "start_time": "2023-07-10T08:10:34.042Z"
   },
   {
    "duration": 192,
    "start_time": "2023-07-10T08:10:34.069Z"
   },
   {
    "duration": 575,
    "start_time": "2023-07-10T08:10:34.264Z"
   },
   {
    "duration": 3,
    "start_time": "2023-07-10T08:10:34.841Z"
   },
   {
    "duration": 92,
    "start_time": "2023-07-10T08:10:34.846Z"
   },
   {
    "duration": 35631,
    "start_time": "2023-07-10T08:10:34.940Z"
   },
   {
    "duration": 1091,
    "start_time": "2023-07-10T08:11:10.658Z"
   },
   {
    "duration": 2143,
    "start_time": "2023-07-10T08:11:37.556Z"
   },
   {
    "duration": 1001,
    "start_time": "2023-07-10T08:11:39.702Z"
   },
   {
    "duration": 40,
    "start_time": "2023-07-10T08:11:40.705Z"
   },
   {
    "duration": 155,
    "start_time": "2023-07-10T08:11:40.747Z"
   },
   {
    "duration": 112,
    "start_time": "2023-07-10T08:11:40.904Z"
   },
   {
    "duration": 1180,
    "start_time": "2023-07-10T08:11:41.018Z"
   },
   {
    "duration": 133,
    "start_time": "2023-07-10T08:11:42.199Z"
   },
   {
    "duration": 78,
    "start_time": "2023-07-10T08:11:42.333Z"
   },
   {
    "duration": 5,
    "start_time": "2023-07-10T08:11:42.413Z"
   },
   {
    "duration": 58,
    "start_time": "2023-07-10T08:11:42.421Z"
   },
   {
    "duration": 62,
    "start_time": "2023-07-10T08:11:42.481Z"
   },
   {
    "duration": 43,
    "start_time": "2023-07-10T08:11:42.545Z"
   },
   {
    "duration": 104,
    "start_time": "2023-07-10T08:11:42.590Z"
   },
   {
    "duration": 7,
    "start_time": "2023-07-10T08:11:42.697Z"
   },
   {
    "duration": 163,
    "start_time": "2023-07-10T08:11:42.706Z"
   },
   {
    "duration": 10,
    "start_time": "2023-07-10T08:11:42.871Z"
   },
   {
    "duration": 137,
    "start_time": "2023-07-10T08:11:42.883Z"
   },
   {
    "duration": 11,
    "start_time": "2023-07-10T08:11:43.022Z"
   },
   {
    "duration": 49,
    "start_time": "2023-07-10T08:11:43.035Z"
   },
   {
    "duration": 197,
    "start_time": "2023-07-10T08:11:43.086Z"
   },
   {
    "duration": 193,
    "start_time": "2023-07-10T08:11:43.285Z"
   },
   {
    "duration": 3,
    "start_time": "2023-07-10T08:11:43.480Z"
   },
   {
    "duration": 31,
    "start_time": "2023-07-10T08:11:43.485Z"
   },
   {
    "duration": 24,
    "start_time": "2023-07-10T08:11:43.518Z"
   },
   {
    "duration": 132,
    "start_time": "2023-07-10T08:11:43.545Z"
   },
   {
    "duration": 705,
    "start_time": "2023-07-10T08:11:43.680Z"
   },
   {
    "duration": 17,
    "start_time": "2023-07-10T08:11:44.389Z"
   },
   {
    "duration": 153,
    "start_time": "2023-07-10T08:11:44.410Z"
   },
   {
    "duration": 700,
    "start_time": "2023-07-10T08:11:44.564Z"
   },
   {
    "duration": 9,
    "start_time": "2023-07-10T08:11:45.270Z"
   },
   {
    "duration": 116,
    "start_time": "2023-07-10T08:11:45.281Z"
   },
   {
    "duration": 33181,
    "start_time": "2023-07-10T08:11:45.399Z"
   },
   {
    "duration": 3096,
    "start_time": "2023-07-10T08:12:18.583Z"
   },
   {
    "duration": 1833,
    "start_time": "2023-07-10T08:18:02.238Z"
   },
   {
    "duration": 0,
    "start_time": "2023-07-10T08:18:04.079Z"
   },
   {
    "duration": 0,
    "start_time": "2023-07-10T08:18:04.080Z"
   },
   {
    "duration": 0,
    "start_time": "2023-07-10T08:18:04.082Z"
   },
   {
    "duration": 0,
    "start_time": "2023-07-10T08:18:04.083Z"
   },
   {
    "duration": 0,
    "start_time": "2023-07-10T08:18:04.089Z"
   },
   {
    "duration": 1,
    "start_time": "2023-07-10T08:18:04.095Z"
   },
   {
    "duration": 0,
    "start_time": "2023-07-10T08:18:04.097Z"
   },
   {
    "duration": 0,
    "start_time": "2023-07-10T08:18:04.098Z"
   },
   {
    "duration": 0,
    "start_time": "2023-07-10T08:18:04.099Z"
   },
   {
    "duration": 0,
    "start_time": "2023-07-10T08:18:04.102Z"
   },
   {
    "duration": 0,
    "start_time": "2023-07-10T08:18:04.103Z"
   },
   {
    "duration": 0,
    "start_time": "2023-07-10T08:18:04.104Z"
   },
   {
    "duration": 0,
    "start_time": "2023-07-10T08:18:04.105Z"
   },
   {
    "duration": 0,
    "start_time": "2023-07-10T08:18:04.107Z"
   },
   {
    "duration": 0,
    "start_time": "2023-07-10T08:18:04.108Z"
   },
   {
    "duration": 0,
    "start_time": "2023-07-10T08:18:04.109Z"
   },
   {
    "duration": 0,
    "start_time": "2023-07-10T08:18:04.111Z"
   },
   {
    "duration": 0,
    "start_time": "2023-07-10T08:18:04.112Z"
   },
   {
    "duration": 0,
    "start_time": "2023-07-10T08:18:04.113Z"
   },
   {
    "duration": 0,
    "start_time": "2023-07-10T08:18:04.115Z"
   },
   {
    "duration": 0,
    "start_time": "2023-07-10T08:18:04.116Z"
   },
   {
    "duration": 0,
    "start_time": "2023-07-10T08:18:04.117Z"
   },
   {
    "duration": 0,
    "start_time": "2023-07-10T08:18:04.120Z"
   },
   {
    "duration": 0,
    "start_time": "2023-07-10T08:18:04.122Z"
   },
   {
    "duration": 0,
    "start_time": "2023-07-10T08:18:04.123Z"
   },
   {
    "duration": 0,
    "start_time": "2023-07-10T08:18:04.124Z"
   },
   {
    "duration": 0,
    "start_time": "2023-07-10T08:18:04.125Z"
   },
   {
    "duration": 0,
    "start_time": "2023-07-10T08:18:04.127Z"
   },
   {
    "duration": 0,
    "start_time": "2023-07-10T08:18:04.128Z"
   },
   {
    "duration": 1,
    "start_time": "2023-07-10T08:18:04.159Z"
   },
   {
    "duration": 0,
    "start_time": "2023-07-10T08:18:04.162Z"
   },
   {
    "duration": 0,
    "start_time": "2023-07-10T08:18:04.170Z"
   },
   {
    "duration": 0,
    "start_time": "2023-07-10T08:18:04.173Z"
   },
   {
    "duration": 0,
    "start_time": "2023-07-10T08:18:04.176Z"
   },
   {
    "duration": 0,
    "start_time": "2023-07-10T08:18:04.177Z"
   },
   {
    "duration": 0,
    "start_time": "2023-07-10T08:18:04.178Z"
   },
   {
    "duration": 1728,
    "start_time": "2023-07-10T08:19:10.152Z"
   },
   {
    "duration": 895,
    "start_time": "2023-07-10T08:19:11.882Z"
   },
   {
    "duration": 18,
    "start_time": "2023-07-10T08:19:12.781Z"
   },
   {
    "duration": 135,
    "start_time": "2023-07-10T08:19:12.801Z"
   },
   {
    "duration": 113,
    "start_time": "2023-07-10T08:19:12.939Z"
   },
   {
    "duration": 1379,
    "start_time": "2023-07-10T08:19:13.059Z"
   },
   {
    "duration": 170,
    "start_time": "2023-07-10T08:19:14.440Z"
   },
   {
    "duration": 85,
    "start_time": "2023-07-10T08:19:14.612Z"
   },
   {
    "duration": 6,
    "start_time": "2023-07-10T08:19:14.700Z"
   },
   {
    "duration": 35,
    "start_time": "2023-07-10T08:19:14.707Z"
   },
   {
    "duration": 67,
    "start_time": "2023-07-10T08:19:14.745Z"
   },
   {
    "duration": 29,
    "start_time": "2023-07-10T08:19:14.815Z"
   },
   {
    "duration": 92,
    "start_time": "2023-07-10T08:19:14.846Z"
   },
   {
    "duration": 44,
    "start_time": "2023-07-10T08:19:14.943Z"
   },
   {
    "duration": 47,
    "start_time": "2023-07-10T08:19:14.992Z"
   },
   {
    "duration": 23,
    "start_time": "2023-07-10T08:19:15.042Z"
   },
   {
    "duration": 156,
    "start_time": "2023-07-10T08:19:15.071Z"
   },
   {
    "duration": 10,
    "start_time": "2023-07-10T08:19:15.229Z"
   },
   {
    "duration": 59,
    "start_time": "2023-07-10T08:19:15.242Z"
   },
   {
    "duration": 226,
    "start_time": "2023-07-10T08:19:15.304Z"
   },
   {
    "duration": 202,
    "start_time": "2023-07-10T08:19:15.532Z"
   },
   {
    "duration": 4,
    "start_time": "2023-07-10T08:19:15.736Z"
   },
   {
    "duration": 8,
    "start_time": "2023-07-10T08:19:15.742Z"
   },
   {
    "duration": 27,
    "start_time": "2023-07-10T08:19:15.759Z"
   },
   {
    "duration": 160,
    "start_time": "2023-07-10T08:19:15.789Z"
   },
   {
    "duration": 677,
    "start_time": "2023-07-10T08:19:15.951Z"
   },
   {
    "duration": 16,
    "start_time": "2023-07-10T08:19:16.629Z"
   },
   {
    "duration": 122,
    "start_time": "2023-07-10T08:19:16.647Z"
   },
   {
    "duration": 127,
    "start_time": "2023-07-10T08:19:16.771Z"
   },
   {
    "duration": 0,
    "start_time": "2023-07-10T08:19:16.900Z"
   },
   {
    "duration": 0,
    "start_time": "2023-07-10T08:19:16.901Z"
   },
   {
    "duration": 0,
    "start_time": "2023-07-10T08:19:16.903Z"
   },
   {
    "duration": 0,
    "start_time": "2023-07-10T08:19:16.904Z"
   },
   {
    "duration": 0,
    "start_time": "2023-07-10T08:19:16.905Z"
   },
   {
    "duration": 0,
    "start_time": "2023-07-10T08:19:16.906Z"
   },
   {
    "duration": 0,
    "start_time": "2023-07-10T08:19:16.908Z"
   },
   {
    "duration": 0,
    "start_time": "2023-07-10T08:19:16.909Z"
   },
   {
    "duration": 1548,
    "start_time": "2023-07-10T08:19:47.626Z"
   },
   {
    "duration": 928,
    "start_time": "2023-07-10T08:19:49.177Z"
   },
   {
    "duration": 21,
    "start_time": "2023-07-10T08:19:50.107Z"
   },
   {
    "duration": 155,
    "start_time": "2023-07-10T08:19:50.130Z"
   },
   {
    "duration": 127,
    "start_time": "2023-07-10T08:19:50.287Z"
   },
   {
    "duration": 1283,
    "start_time": "2023-07-10T08:19:50.416Z"
   },
   {
    "duration": 139,
    "start_time": "2023-07-10T08:19:51.701Z"
   },
   {
    "duration": 86,
    "start_time": "2023-07-10T08:19:51.841Z"
   },
   {
    "duration": 7,
    "start_time": "2023-07-10T08:19:51.929Z"
   },
   {
    "duration": 67,
    "start_time": "2023-07-10T08:19:51.938Z"
   },
   {
    "duration": 83,
    "start_time": "2023-07-10T08:19:52.008Z"
   },
   {
    "duration": 31,
    "start_time": "2023-07-10T08:19:52.094Z"
   },
   {
    "duration": 90,
    "start_time": "2023-07-10T08:19:52.126Z"
   },
   {
    "duration": 8,
    "start_time": "2023-07-10T08:19:52.221Z"
   },
   {
    "duration": 62,
    "start_time": "2023-07-10T08:19:52.231Z"
   },
   {
    "duration": 9,
    "start_time": "2023-07-10T08:19:52.294Z"
   },
   {
    "duration": 136,
    "start_time": "2023-07-10T08:19:52.304Z"
   },
   {
    "duration": 18,
    "start_time": "2023-07-10T08:19:52.442Z"
   },
   {
    "duration": 46,
    "start_time": "2023-07-10T08:19:52.463Z"
   },
   {
    "duration": 180,
    "start_time": "2023-07-10T08:19:52.511Z"
   },
   {
    "duration": 200,
    "start_time": "2023-07-10T08:19:52.693Z"
   },
   {
    "duration": 3,
    "start_time": "2023-07-10T08:19:52.895Z"
   },
   {
    "duration": 12,
    "start_time": "2023-07-10T08:19:52.899Z"
   },
   {
    "duration": 25,
    "start_time": "2023-07-10T08:19:52.913Z"
   },
   {
    "duration": 139,
    "start_time": "2023-07-10T08:19:52.940Z"
   },
   {
    "duration": 634,
    "start_time": "2023-07-10T08:19:53.082Z"
   },
   {
    "duration": 17,
    "start_time": "2023-07-10T08:19:53.718Z"
   },
   {
    "duration": 143,
    "start_time": "2023-07-10T08:19:53.737Z"
   },
   {
    "duration": 130,
    "start_time": "2023-07-10T08:19:53.883Z"
   },
   {
    "duration": 0,
    "start_time": "2023-07-10T08:19:54.014Z"
   },
   {
    "duration": 0,
    "start_time": "2023-07-10T08:19:54.016Z"
   },
   {
    "duration": 0,
    "start_time": "2023-07-10T08:19:54.017Z"
   },
   {
    "duration": 0,
    "start_time": "2023-07-10T08:19:54.019Z"
   },
   {
    "duration": 0,
    "start_time": "2023-07-10T08:19:54.021Z"
   },
   {
    "duration": 0,
    "start_time": "2023-07-10T08:19:54.021Z"
   },
   {
    "duration": 0,
    "start_time": "2023-07-10T08:19:54.023Z"
   },
   {
    "duration": 0,
    "start_time": "2023-07-10T08:19:54.025Z"
   },
   {
    "duration": 1694,
    "start_time": "2023-07-10T08:20:26.332Z"
   },
   {
    "duration": 949,
    "start_time": "2023-07-10T08:20:28.029Z"
   },
   {
    "duration": 26,
    "start_time": "2023-07-10T08:20:28.981Z"
   },
   {
    "duration": 152,
    "start_time": "2023-07-10T08:20:29.010Z"
   },
   {
    "duration": 118,
    "start_time": "2023-07-10T08:20:29.168Z"
   },
   {
    "duration": 1395,
    "start_time": "2023-07-10T08:20:29.287Z"
   },
   {
    "duration": 121,
    "start_time": "2023-07-10T08:20:30.685Z"
   },
   {
    "duration": 155,
    "start_time": "2023-07-10T08:20:30.809Z"
   },
   {
    "duration": 15,
    "start_time": "2023-07-10T08:20:30.973Z"
   },
   {
    "duration": 93,
    "start_time": "2023-07-10T08:20:30.993Z"
   },
   {
    "duration": 152,
    "start_time": "2023-07-10T08:20:31.089Z"
   },
   {
    "duration": 61,
    "start_time": "2023-07-10T08:20:31.243Z"
   },
   {
    "duration": 214,
    "start_time": "2023-07-10T08:20:31.307Z"
   },
   {
    "duration": 31,
    "start_time": "2023-07-10T08:20:31.523Z"
   },
   {
    "duration": 117,
    "start_time": "2023-07-10T08:20:31.556Z"
   },
   {
    "duration": 10,
    "start_time": "2023-07-10T08:20:31.680Z"
   },
   {
    "duration": 275,
    "start_time": "2023-07-10T08:20:31.692Z"
   },
   {
    "duration": 15,
    "start_time": "2023-07-10T08:20:31.969Z"
   },
   {
    "duration": 40,
    "start_time": "2023-07-10T08:20:31.987Z"
   },
   {
    "duration": 205,
    "start_time": "2023-07-10T08:20:32.029Z"
   },
   {
    "duration": 199,
    "start_time": "2023-07-10T08:20:32.235Z"
   },
   {
    "duration": 2,
    "start_time": "2023-07-10T08:20:32.436Z"
   },
   {
    "duration": 11,
    "start_time": "2023-07-10T08:20:32.440Z"
   },
   {
    "duration": 34,
    "start_time": "2023-07-10T08:20:32.452Z"
   },
   {
    "duration": 116,
    "start_time": "2023-07-10T08:20:32.488Z"
   },
   {
    "duration": 679,
    "start_time": "2023-07-10T08:20:32.606Z"
   },
   {
    "duration": 19,
    "start_time": "2023-07-10T08:20:33.287Z"
   },
   {
    "duration": 141,
    "start_time": "2023-07-10T08:20:33.312Z"
   },
   {
    "duration": 141,
    "start_time": "2023-07-10T08:20:33.455Z"
   },
   {
    "duration": 0,
    "start_time": "2023-07-10T08:20:33.597Z"
   },
   {
    "duration": 0,
    "start_time": "2023-07-10T08:20:33.599Z"
   },
   {
    "duration": 0,
    "start_time": "2023-07-10T08:20:33.600Z"
   },
   {
    "duration": 0,
    "start_time": "2023-07-10T08:20:33.601Z"
   },
   {
    "duration": 0,
    "start_time": "2023-07-10T08:20:33.602Z"
   },
   {
    "duration": 0,
    "start_time": "2023-07-10T08:20:33.605Z"
   },
   {
    "duration": 0,
    "start_time": "2023-07-10T08:20:33.606Z"
   },
   {
    "duration": 0,
    "start_time": "2023-07-10T08:20:33.608Z"
   },
   {
    "duration": 124,
    "start_time": "2023-07-10T08:52:27.049Z"
   },
   {
    "duration": 17,
    "start_time": "2023-07-10T08:52:37.056Z"
   },
   {
    "duration": 16,
    "start_time": "2023-07-10T08:52:54.552Z"
   },
   {
    "duration": 13,
    "start_time": "2023-07-10T08:58:11.005Z"
   },
   {
    "duration": 14,
    "start_time": "2023-07-10T08:58:47.194Z"
   },
   {
    "duration": 1507,
    "start_time": "2023-07-10T09:00:17.721Z"
   },
   {
    "duration": 860,
    "start_time": "2023-07-10T09:00:19.230Z"
   },
   {
    "duration": 20,
    "start_time": "2023-07-10T09:00:20.092Z"
   },
   {
    "duration": 162,
    "start_time": "2023-07-10T09:00:20.114Z"
   },
   {
    "duration": 117,
    "start_time": "2023-07-10T09:00:20.278Z"
   },
   {
    "duration": 1199,
    "start_time": "2023-07-10T09:00:20.397Z"
   },
   {
    "duration": 125,
    "start_time": "2023-07-10T09:00:21.597Z"
   },
   {
    "duration": 79,
    "start_time": "2023-07-10T09:00:21.724Z"
   },
   {
    "duration": 5,
    "start_time": "2023-07-10T09:00:21.805Z"
   },
   {
    "duration": 35,
    "start_time": "2023-07-10T09:00:21.813Z"
   },
   {
    "duration": 59,
    "start_time": "2023-07-10T09:00:21.849Z"
   },
   {
    "duration": 27,
    "start_time": "2023-07-10T09:00:21.909Z"
   },
   {
    "duration": 105,
    "start_time": "2023-07-10T09:00:21.939Z"
   },
   {
    "duration": 27,
    "start_time": "2023-07-10T09:00:22.045Z"
   },
   {
    "duration": 56,
    "start_time": "2023-07-10T09:00:22.074Z"
   },
   {
    "duration": 11,
    "start_time": "2023-07-10T09:00:22.132Z"
   },
   {
    "duration": 117,
    "start_time": "2023-07-10T09:00:22.145Z"
   },
   {
    "duration": 9,
    "start_time": "2023-07-10T09:00:22.264Z"
   },
   {
    "duration": 36,
    "start_time": "2023-07-10T09:00:22.275Z"
   },
   {
    "duration": 169,
    "start_time": "2023-07-10T09:00:22.313Z"
   },
   {
    "duration": 176,
    "start_time": "2023-07-10T09:00:22.484Z"
   },
   {
    "duration": 16,
    "start_time": "2023-07-10T09:00:22.662Z"
   },
   {
    "duration": 130,
    "start_time": "2023-07-10T09:00:22.680Z"
   },
   {
    "duration": 625,
    "start_time": "2023-07-10T09:00:22.813Z"
   },
   {
    "duration": 24,
    "start_time": "2023-07-10T09:00:23.440Z"
   },
   {
    "duration": 251,
    "start_time": "2023-07-10T09:00:23.466Z"
   },
   {
    "duration": 142,
    "start_time": "2023-07-10T09:00:23.718Z"
   },
   {
    "duration": 0,
    "start_time": "2023-07-10T09:00:23.862Z"
   },
   {
    "duration": 1,
    "start_time": "2023-07-10T09:00:23.863Z"
   },
   {
    "duration": 0,
    "start_time": "2023-07-10T09:00:23.865Z"
   },
   {
    "duration": 0,
    "start_time": "2023-07-10T09:00:23.866Z"
   },
   {
    "duration": 0,
    "start_time": "2023-07-10T09:00:23.867Z"
   },
   {
    "duration": 0,
    "start_time": "2023-07-10T09:00:23.869Z"
   },
   {
    "duration": 0,
    "start_time": "2023-07-10T09:00:23.870Z"
   },
   {
    "duration": 0,
    "start_time": "2023-07-10T09:00:23.871Z"
   },
   {
    "duration": 1506,
    "start_time": "2023-07-10T09:02:49.094Z"
   },
   {
    "duration": 849,
    "start_time": "2023-07-10T09:02:50.602Z"
   },
   {
    "duration": 20,
    "start_time": "2023-07-10T09:02:51.453Z"
   },
   {
    "duration": 140,
    "start_time": "2023-07-10T09:02:51.475Z"
   },
   {
    "duration": 112,
    "start_time": "2023-07-10T09:02:51.617Z"
   },
   {
    "duration": 1166,
    "start_time": "2023-07-10T09:02:51.731Z"
   },
   {
    "duration": 116,
    "start_time": "2023-07-10T09:02:52.899Z"
   },
   {
    "duration": 85,
    "start_time": "2023-07-10T09:02:53.017Z"
   },
   {
    "duration": 6,
    "start_time": "2023-07-10T09:02:53.104Z"
   },
   {
    "duration": 63,
    "start_time": "2023-07-10T09:02:53.113Z"
   },
   {
    "duration": 46,
    "start_time": "2023-07-10T09:02:53.177Z"
   },
   {
    "duration": 39,
    "start_time": "2023-07-10T09:02:53.225Z"
   },
   {
    "duration": 72,
    "start_time": "2023-07-10T09:02:53.265Z"
   },
   {
    "duration": 6,
    "start_time": "2023-07-10T09:02:53.338Z"
   },
   {
    "duration": 49,
    "start_time": "2023-07-10T09:02:53.359Z"
   },
   {
    "duration": 8,
    "start_time": "2023-07-10T09:02:53.410Z"
   },
   {
    "duration": 125,
    "start_time": "2023-07-10T09:02:53.420Z"
   },
   {
    "duration": 17,
    "start_time": "2023-07-10T09:02:53.547Z"
   },
   {
    "duration": 44,
    "start_time": "2023-07-10T09:02:53.566Z"
   },
   {
    "duration": 173,
    "start_time": "2023-07-10T09:02:53.612Z"
   },
   {
    "duration": 186,
    "start_time": "2023-07-10T09:02:53.787Z"
   },
   {
    "duration": 17,
    "start_time": "2023-07-10T09:02:53.975Z"
   },
   {
    "duration": 157,
    "start_time": "2023-07-10T09:02:53.994Z"
   },
   {
    "duration": 602,
    "start_time": "2023-07-10T09:02:54.159Z"
   },
   {
    "duration": 16,
    "start_time": "2023-07-10T09:02:54.763Z"
   },
   {
    "duration": 127,
    "start_time": "2023-07-10T09:02:54.781Z"
   },
   {
    "duration": 586,
    "start_time": "2023-07-10T09:02:54.910Z"
   },
   {
    "duration": 77,
    "start_time": "2023-07-10T09:02:55.499Z"
   },
   {
    "duration": 73,
    "start_time": "2023-07-10T09:02:55.586Z"
   },
   {
    "duration": 35103,
    "start_time": "2023-07-10T09:02:55.661Z"
   },
   {
    "duration": 2886,
    "start_time": "2023-07-10T09:03:30.766Z"
   },
   {
    "duration": 454756,
    "start_time": "2023-07-10T09:03:33.654Z"
   },
   {
    "duration": 368455,
    "start_time": "2023-07-10T09:11:08.412Z"
   },
   {
    "duration": 9,
    "start_time": "2023-07-10T09:17:16.878Z"
   },
   {
    "duration": 390895,
    "start_time": "2023-07-10T09:17:16.889Z"
   },
   {
    "duration": 9,
    "start_time": "2023-07-10T09:23:47.787Z"
   },
   {
    "duration": 1469,
    "start_time": "2023-07-10T09:27:21.167Z"
   },
   {
    "duration": 894,
    "start_time": "2023-07-10T09:27:22.637Z"
   },
   {
    "duration": 34,
    "start_time": "2023-07-10T09:27:23.533Z"
   },
   {
    "duration": 126,
    "start_time": "2023-07-10T09:27:23.570Z"
   },
   {
    "duration": 107,
    "start_time": "2023-07-10T09:27:23.698Z"
   },
   {
    "duration": 1299,
    "start_time": "2023-07-10T09:27:23.807Z"
   },
   {
    "duration": 117,
    "start_time": "2023-07-10T09:27:25.107Z"
   },
   {
    "duration": 98,
    "start_time": "2023-07-10T09:27:25.225Z"
   },
   {
    "duration": 7,
    "start_time": "2023-07-10T09:27:25.325Z"
   },
   {
    "duration": 58,
    "start_time": "2023-07-10T09:27:25.335Z"
   },
   {
    "duration": 45,
    "start_time": "2023-07-10T09:27:25.395Z"
   },
   {
    "duration": 37,
    "start_time": "2023-07-10T09:27:25.442Z"
   },
   {
    "duration": 69,
    "start_time": "2023-07-10T09:27:25.481Z"
   },
   {
    "duration": 7,
    "start_time": "2023-07-10T09:27:25.559Z"
   },
   {
    "duration": 49,
    "start_time": "2023-07-10T09:27:25.567Z"
   },
   {
    "duration": 9,
    "start_time": "2023-07-10T09:27:25.618Z"
   },
   {
    "duration": 120,
    "start_time": "2023-07-10T09:27:25.629Z"
   },
   {
    "duration": 13,
    "start_time": "2023-07-10T09:27:25.751Z"
   },
   {
    "duration": 49,
    "start_time": "2023-07-10T09:27:25.766Z"
   },
   {
    "duration": 158,
    "start_time": "2023-07-10T09:27:25.817Z"
   },
   {
    "duration": 188,
    "start_time": "2023-07-10T09:27:25.977Z"
   },
   {
    "duration": 16,
    "start_time": "2023-07-10T09:27:26.167Z"
   },
   {
    "duration": 122,
    "start_time": "2023-07-10T09:27:26.185Z"
   },
   {
    "duration": 602,
    "start_time": "2023-07-10T09:27:26.309Z"
   },
   {
    "duration": 15,
    "start_time": "2023-07-10T09:27:26.913Z"
   },
   {
    "duration": 118,
    "start_time": "2023-07-10T09:27:26.930Z"
   },
   {
    "duration": 573,
    "start_time": "2023-07-10T09:27:27.051Z"
   },
   {
    "duration": 80,
    "start_time": "2023-07-10T09:27:27.628Z"
   },
   {
    "duration": 79,
    "start_time": "2023-07-10T09:27:27.710Z"
   },
   {
    "duration": 34172,
    "start_time": "2023-07-10T09:27:27.791Z"
   },
   {
    "duration": 2845,
    "start_time": "2023-07-10T09:28:02.058Z"
   },
   {
    "duration": 452944,
    "start_time": "2023-07-10T09:28:04.905Z"
   },
   {
    "duration": 481628,
    "start_time": "2023-07-10T09:35:37.851Z"
   },
   {
    "duration": 13,
    "start_time": "2023-07-10T09:43:39.482Z"
   },
   {
    "duration": 378280,
    "start_time": "2023-07-10T09:43:39.498Z"
   },
   {
    "duration": 363092,
    "start_time": "2023-07-10T09:50:09.602Z"
   },
   {
    "duration": 15,
    "start_time": "2023-07-10T09:56:54.007Z"
   }
  ],
  "kernelspec": {
   "display_name": "Python 3 (ipykernel)",
   "language": "python",
   "name": "python3"
  },
  "language_info": {
   "codemirror_mode": {
    "name": "ipython",
    "version": 3
   },
   "file_extension": ".py",
   "mimetype": "text/x-python",
   "name": "python",
   "nbconvert_exporter": "python",
   "pygments_lexer": "ipython3",
   "version": "3.9.5"
  },
  "toc": {
   "base_numbering": 1,
   "nav_menu": {},
   "number_sections": true,
   "sideBar": true,
   "skip_h1_title": true,
   "title_cell": "Table of Contents",
   "title_sidebar": "Contents",
   "toc_cell": false,
   "toc_position": {},
   "toc_section_display": true,
   "toc_window_display": false
  }
 },
 "nbformat": 4,
 "nbformat_minor": 2
}
